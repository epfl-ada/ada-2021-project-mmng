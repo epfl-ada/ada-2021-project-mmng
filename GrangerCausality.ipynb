{
 "cells": [
  {
   "cell_type": "markdown",
   "metadata": {},
   "source": [
    "## STUDY OF CAUSAL CORRELATION BETWEEN TWO TIME SERIES: Granger Causality\n",
    "Granger causality express how much a time serie is usefull to predict a second timeserie."
   ]
  },
  {
   "cell_type": "code",
   "execution_count": 35,
   "metadata": {},
   "outputs": [],
   "source": [
    "import statsmodels.api as sm\n",
    "from statsmodels.tsa.stattools import grangercausalitytests\n",
    "import numpy as np\n",
    "import pandas as pd"
   ]
  },
  {
   "cell_type": "code",
   "execution_count": 57,
   "metadata": {},
   "outputs": [],
   "source": [
    "# The Null hypothesis for grangercausalitytests is that the time series in the second column, x2,\n",
    "# does NOT Granger cause the time series in the first column, x1.\n",
    "# Grange causality means that past values of x2 have a statistically significant effect on the current value of x1,\n",
    "# taking past values of x1 into account as regressors.\n",
    "# We reject the null hypothesis that x2 does not Granger cause x1 if the pvalues are below a desired size of the test.\n",
    "\n",
    "def causalityTest(tSerie1, tSerie2):\n",
    "    #The data for test whether the time series in the second column Granger causes the time series in the first column.\n",
    "    data = pd.concat([tSerie1,tSerie2],axis=1).dropna()\n",
    "    dicResult = grangercausalitytests(data, 1,addconst=True,verbose=False)\n",
    "    print('Resulting p value:',dicResult[1][0]['ssr_ftest'][1])\n",
    "    return dicResult\n",
    "    "
   ]
  },
  {
   "cell_type": "code",
   "execution_count": 58,
   "metadata": {},
   "outputs": [
    {
     "name": "stdout",
     "output_type": "stream",
     "text": [
      "True\n",
      "True\n"
     ]
    }
   ],
   "source": [
    "#EXAMPLE\n",
    "import yfinance as yf\n",
    "tsla_df = yf.download('TSLA', \n",
    "                      start='2000-01-01', \n",
    "                      end='2019-12-31', \n",
    "                      progress=False)\n",
    "sp500 = yf.download('SPY', \n",
    "                      start='2000-01-01', \n",
    "                      end='2019-12-31', \n",
    "                      progress=False)\n",
    "tsla_df = tsla_df['Adj Close']\n",
    "tsla_df = tsla_df.dropna()\n",
    "print(np.isfinite(tsla_df).all())\n",
    "sp500 = sp500['Adj Close']\n",
    "sp500 = sp500.dropna()\n",
    "print(np.isfinite(sp500).all())"
   ]
  },
  {
   "cell_type": "code",
   "execution_count": 59,
   "metadata": {},
   "outputs": [
    {
     "name": "stdout",
     "output_type": "stream",
     "text": [
      "Resulting p value: 0.008092777603543606\n"
     ]
    }
   ],
   "source": [
    "dictionary = causalityTest(tsla_df,sp500)\n"
   ]
  }
 ],
 "metadata": {
  "kernelspec": {
   "display_name": "Python 3",
   "language": "python",
   "name": "python3"
  },
  "language_info": {
   "codemirror_mode": {
    "name": "ipython",
    "version": 3
   },
   "file_extension": ".py",
   "mimetype": "text/x-python",
   "name": "python",
   "nbconvert_exporter": "python",
   "pygments_lexer": "ipython3",
   "version": "3.7.4"
  }
 },
 "nbformat": 4,
 "nbformat_minor": 2
}
