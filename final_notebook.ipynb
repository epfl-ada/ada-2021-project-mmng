{
 "cells": [
  {
   "cell_type": "markdown",
   "metadata": {},
   "source": [
    "The data we need is in both Quotebank and wikidata. From quotebank we extract quotes, speakers and dates. From Wikidata we extract the political party corresponding to the speakers. Below we will present the exploration of the data that are useful to us. The goal of this notebook is to show our initial treatment of the data: the preprocessing and all the necessary descriptive statistics tasks. "
   ]
  },
  {
   "cell_type": "markdown",
   "metadata": {},
   "source": [
    "The first thing we need to do is to merge the two datasets in order to label the quotes with the political party associated. \n",
    "MICHAIL explain what you did!\n",
    "We write the resulting merged data into a file accessible at path QUOTES_2020_PARTY_LABELED_PATH."
   ]
  },
  {
   "cell_type": "markdown",
   "metadata": {},
   "source": [
    "MERGING PIPELINE"
   ]
  },
  {
   "cell_type": "code",
   "execution_count": 164,
   "metadata": {},
   "outputs": [
    {
     "name": "stdout",
     "output_type": "stream",
     "text": [
      "Requirement already satisfied: pandas==1.3.0 in /Users/nicolasbaldwin/opt/miniconda3/lib/python3.8/site-packages (1.3.0)\n",
      "Requirement already satisfied: numpy>=1.17.3 in /Users/nicolasbaldwin/opt/miniconda3/lib/python3.8/site-packages (from pandas==1.3.0) (1.20.3)\n",
      "Requirement already satisfied: python-dateutil>=2.7.3 in /Users/nicolasbaldwin/opt/miniconda3/lib/python3.8/site-packages (from pandas==1.3.0) (2.8.1)\n",
      "Requirement already satisfied: pytz>=2017.3 in /Users/nicolasbaldwin/opt/miniconda3/lib/python3.8/site-packages (from pandas==1.3.0) (2021.3)\n",
      "Requirement already satisfied: six>=1.5 in /Users/nicolasbaldwin/opt/miniconda3/lib/python3.8/site-packages (from python-dateutil>=2.7.3->pandas==1.3.0) (1.15.0)\n"
     ]
    }
   ],
   "source": [
    "!pip install pandas==1.3.0"
   ]
  },
  {
   "cell_type": "code",
   "execution_count": 30,
   "metadata": {},
   "outputs": [
    {
     "name": "stdout",
     "output_type": "stream",
     "text": [
      "The autoreload extension is already loaded. To reload it, use:\n",
      "  %reload_ext autoreload\n"
     ]
    }
   ],
   "source": [
    "%load_ext autoreload\n",
    "%autoreload 2\n",
    "from helpers import *\n",
    "from drop_similar_quotes import *\n",
    "\n",
    "\n",
    "import bz2\n",
    "import json\n",
    "import texthero as hero\n",
    "import datetime\n",
    "from texthero import preprocessing as hp\n"
   ]
  },
  {
   "cell_type": "code",
   "execution_count": 2,
   "metadata": {
    "scrolled": true
   },
   "outputs": [
    {
     "name": "stdout",
     "output_type": "stream",
     "text": [
      "{'quoteID': '2020-01-16-000088', 'quotation': '[ Department of Homeland Security ] was livid and strongly urged to have the agenda pulled.', 'speaker': 'Sue Myrick', 'date': 1579176013000, 'numOccurrences': 1, 'id': 'Q367796', 'party_label': 'R', 'US_congress_bio_ID': 'M001134'}\n",
      "-----------------------------------------\n",
      "{'quoteID': '2020-01-26-000499', 'quotation': 'a few of the candidates who will do better in our part of the world', 'speaker': 'Dave Loebsack', 'date': 1580044896000, 'numOccurrences': 11, 'id': 'Q771586', 'party_label': 'D', 'US_congress_bio_ID': 'L000565'}\n",
      "-----------------------------------------\n",
      "{'quoteID': '2020-01-26-040663', 'quotation': 'The generational thing is important, quite honestly. I think we have to do everything we can to move this party forward and Pete is the future of the party,', 'speaker': 'Dave Loebsack', 'date': 1580044896000, 'numOccurrences': 11, 'id': 'Q771586', 'party_label': 'D', 'US_congress_bio_ID': 'L000565'}\n",
      "-----------------------------------------\n",
      "{'quoteID': '2020-01-20-000982', 'quotation': 'a host of other protections', 'speaker': 'Debbie Lesko', 'date': 1579534368000, 'numOccurrences': 1, 'id': 'Q16731415', 'party_label': 'R', 'US_congress_bio_ID': 'L000589'}\n",
      "-----------------------------------------\n"
     ]
    }
   ],
   "source": [
    "#Let's see some lines of the file\n",
    "\n",
    "path_to_file = fixpath(QUOTES_2020_PARTY_LABELED_PATH) \n",
    "\n",
    "flag = 1\n",
    "with bz2.open(path_to_file, 'rb') as s_file:\n",
    "      for instance in s_file:   \n",
    "            if flag < 5:\n",
    "                instance = json.loads(instance) # loading a sample\n",
    "                print(instance)\n",
    "                print('-----------------------------------------')\n",
    "                flag +=1\n",
    "            else:\n",
    "                break"
   ]
  },
  {
   "cell_type": "markdown",
   "metadata": {},
   "source": [
    "From the fileld US_congress_bio_ID we can see if the speaker is a senator or is just affiliated to the political party."
   ]
  },
  {
   "cell_type": "markdown",
   "metadata": {},
   "source": [
    "# DATA EXPLORATION: STUDY OF VARIOUS DISRIBUTIONS\n",
    "Let's Visualize and study different data distibution, and check that everything makes sense."
   ]
  },
  {
   "cell_type": "markdown",
   "metadata": {},
   "source": [
    "## 1. Let's analyize the distribution of number of words in the quotes."
   ]
  },
  {
   "cell_type": "code",
   "execution_count": 3,
   "metadata": {},
   "outputs": [
    {
     "data": {
      "image/png": "[encoded data removed]",
      "text/plain": [
       "<Figure size 432x288 with 1 Axes>"
      ]
     },
     "metadata": {
      "needs_background": "light"
     },
     "output_type": "display_data"
    }
   ],
   "source": [
    "import matplotlib.pyplot as plt\n",
    "path_to_file = fixpath(QUOTES_2020_PARTY_LABELED_PATH) \n",
    "lista = []\n",
    "with bz2.open(path_to_file, 'rb') as s_file:   \n",
    "      for instance in s_file:\n",
    "        instance = json.loads(instance)\n",
    "        text = instance['quotation']\n",
    "        lista.append(len(text.split()))\n",
    "\n",
    "plt.hist(lista, bins = 50)\n",
    "plt.xlabel('word length')\n",
    "plt.ylabel('number of occurences')\n",
    "plt.title('distribution of number of words in the quotes')\n",
    "plt.show()"
   ]
  },
  {
   "cell_type": "markdown",
   "metadata": {},
   "source": [
    "If we just look at all the data everything looks kind of normal, but let's zoom on the larger values"
   ]
  },
  {
   "cell_type": "code",
   "execution_count": 4,
   "metadata": {},
   "outputs": [
    {
     "data": {
      "image/png": "[encoded data removed]",
      "text/plain": [
       "<Figure size 432x288 with 1 Axes>"
      ]
     },
     "metadata": {
      "needs_background": "light"
     },
     "output_type": "display_data"
    }
   ],
   "source": [
    "path_to_file = fixpath(QUOTES_2020_PARTY_LABELED_PATH) \n",
    "lista = []\n",
    "with bz2.open(path_to_file, 'rb') as s_file:   \n",
    "      for instance in s_file:\n",
    "            instance = json.loads(instance)\n",
    "            text = instance['quotation']\n",
    "            if len(text.split()) > 150:\n",
    "                lista.append(len(text.split()))\n",
    "\n",
    "plt.hist(lista, bins = 50)\n",
    "plt.xlabel('word length')\n",
    "plt.ylabel('number of occurences')\n",
    "plt.title('zoom of distribution of number of words in the quotes')\n",
    "plt.show()"
   ]
  },
  {
   "cell_type": "markdown",
   "metadata": {},
   "source": [
    "From 300 to 450 the data seems to have a distribution almost uniform but it's true that the number of quotation is low and therfore it could be fine. Lets read some of this long quotes!"
   ]
  },
  {
   "cell_type": "code",
   "execution_count": 5,
   "metadata": {},
   "outputs": [
    {
     "name": "stdout",
     "output_type": "stream",
     "text": [
      "where the virus first emerged late last year, and which has suffered the vast majority of infections -- by imposing travel controls and shutting down public events. Italy on Saturday saw its biggest daily increase in coronavirus cases since the outbreak began in the north of the country on Feb. 21. In its daily update, Italy's civil protection agency said the number of people with the coronavirus rose by 1,247 in the last 24 hours, taking the total to 5,883. Another 36 people also died as a result of the virus, taking the total to 233. There was chaos and confusion in the northern Italian city of Padua in the Veneto region as word spread late Saturday evening that the government was planning to announce the quarantine. Packed bars and restaurants quickly emptied out as many people rushed to the train station in Padua. Travellers with suitcases, wearing face masks, gloves and carrying bottles of sanitizing gel shoved their way on to trains. Before Conte signed the quarantine decree, Stefano Bonaccini, president of the Emilia Romagna region, said parts of the decree were confusing, and he asked the premier for more time to come up with solutions that were more â € œcoherent. â €  Around the world, events and festivals have been called off. Travel restrictions and warnings have been issued. A nose-dive in tourist traffic and possible disruptions to supply chains have set off fears of a worldwide economic slowdown. Benchmarks in global markets have gyrated in recent weeks, as hopes for stimulus measures mixed with widespread pessimism on the virus news. Saudi Arabia has banned spectators at any sports competitions starting Saturday. The NBA, as well as British and Japanese sports teams are considering the same, as baseball and soccer seasons are starting. The spread of the virus has also taken a psychological toll. Authorities and manufacturers have been trying to assure panicking consumers they donâ € ™ t need to hoard toilet paper, which have vanished from store shelves in various nations. A particular point of concern are passenger-packed cruise ships, many of which are confronting their own virus problems. Officials in California were deciding Saturday where to dock the Grand Princess cruise ship, after 21 tested positive for the virus. There is evidence the ship now idling off San Francisco was the breeding ground for a deadly cluster of almost 20 cases during an earlier voyage. â € œThose that will need to be quarantined will be quarantined,\n",
      "-------------------------------------------------------\n",
      "I know they got the house boarded up and holes covered, so we got a little reprieve. But when they start ripping open those walls or doing the plumbing, we are just in fear of the next wave of attack. NYPD officer, fiancee charged with murder in death of 8-year-old son, kept in freezing garage A man and his fiancee have been charged with murder in the death of his 8-year-old son, who was left overnight in an unheated garage in freezing temperatures, officials said. Michael Valva, an New York Police Department transit officer, and Angela Pollina left Thomas Valva in the garage overnight when temperatures dipped to 19 degrees. The boy was found dead the next day, his body temperature was 76 degrees. `The medical examiner has ruled it a homicide with a major contributing factor of hypothermia,' Suffolk County Police Chief Geraldine Hart told WNBC. `We believe certainly that Thomas was kept in the garage overnight preceding his death.' Police were called to the home Jan. 17 after neighbors saw a boy had fallen in the driveway and lost consciousness, WNBC reported. Valva told investigators his son fell while waiting for the bus then lost consciousness, The New York Times reported. Officers arrived and found Michael Valva performing life-saving techniques on the boy in the family's basement. The boy was taken to a hospital and pronounced dead. The family had a home security system and kept close watch on their six children. Valva's three sons ages, 6, 8 and 10, and Pollina's three daughters ages, a 6-year-old and twin 11-year-olds, WNBC reported. Footage showed Valva routinely withheld food as a punishment and exposed his sons to cold temperatures, investigators said. `We are still investigating the extent of the abuse and if it extended to all of the children,' Hart told WNBC. Michael Valva and Pollina were arrested and charged with second-degree murder, officials said. Valva, who joined the NYPD in 2005, was suspended, the Times reported. The attorney for Valva and Pollini maintain their innocence, WNBC reported. The couple will be arraigned Saturday. Shortly after his son's death, Valva raised $16,000 on a GoFundMe account to pay for the boy's funeral, News 12 Long Island reported. The boy's mother, Justyna Valva, lost custody of the boys, the Times reported. She had not seen Thomas in two years until looking at his body in the medical examiner's office.' I just really want justice for my son,\n",
      "-------------------------------------------------------\n",
      "I remain concerned about the public health and safety issues that COVID-19 is creating and support the governor and president pro tempore in adopting public health guidelines to protect the wellbeing of my constituents. We encourage you to stay calm and keep informed about what to do during this time. Everyone is under a strong advisory to adhere to social distancing and do our part to help keep everyone healthy during this time. My offices are open, assisting the community, and providing regular updates through things like social media and press releases. Please refer to credible resources to stay informed, such as the California Department of Public Health [ cdph. ca. gov ], for the most up to date information. We are in close contact with local leaders, elected officials and our community and are actively monitoring these ever-changing issues. We are hyper vigilant regarding issues like our access to water, price gouging, a robust healthcare network, how to assist displaced workers, and food insecurity. Senate District 14 is the breadbasket for the state and many parts of the word. I will continue to be vigilant to protect the supply chain of food that my district helps provide. I remain concerned about our most vulnerable and am asking that we consider our neighbors during this difficult time. Please keep others in mind when shopping and only take what you need during this time because everyone suffers when people stockpile. The effects that this will have on our economy are still to be seen, but I encourage you to continue to support our local businesses during this time in new and creative ways. Curbside pickups and buying gift cards will help small businesses and protect jobs. I am working with larger employers at the state level to help mitigate the financial effects of this event. As the chair of the Senate Committee on Human Services I am closely monitoring the efforts to reduce impacts on recipients of essential safety net benefits that serve our most vulnerable populations. These are programs that impact older adults and their caregivers, child care providers, families with low incomes, and people with developmental disabilities. Government leaders and advocates are exploring ways to take advantage of the flexibility given to these safety net programs thru the executive orders issued at the state and federal level. My office will share updates on CalFresh, CalWORKs and the like as they become available. The situation is changing quickly and it is essential that we all do our part to support and protect our constituents, our colleagues and our families by complying with the guidance issued by our leaders.\n",
      "-------------------------------------------------------\n",
      "To me, we're beyond staggering already. â €  Even before the governor's appeal, close to 80,000 former nurses, doctors and other professionals were volunteering in New York, and a Navy hospital ship arrived with 1,000 beds to relieve pressure on the city's overwhelmed hospitals. California officials put out a similar call for volunteers as coronavirus hospitalizations doubled over the last four days and the number of patients in intensive care tripled. Experts maintain the pandemic will be defeated only by social distancing measures that have locked down billions of people and upended the world's economy. In the southern state of Florida, officials were meeting later Tuesday to decide whether to let the infection-plagued cruise ship Zaandam dock after more than two weeks at sea. In a South American dream trip that turned into a nightmare, dozens on the ship have reported flu-like symptoms and four people have died. The company said eight people have tested positive but 2,300 other passengers and crew are in good health. Florida Gov. Ron DeSantis has said the state's health care resources are stretched too thin to allow the ship to dock. More than 235 million people -- about two of every three Americans -- live in the 33 states where governors have ordered or recommended that residents stay home. Worldwide, 801,400 people have been infected and 170,325 have recovered, according to Johns Hopkins University. For most people, the coronavirus causes mild or moderate symptoms, such as fever and cough. But for others, especially older adults and people with existing health problems, it can cause severe symptoms like pneumonia and even death. China on Tuesday reported just one new death from the coronavirus and 48 new cases, claiming that all new infections came from overseas. In Wuhan, people were ready to jump, cry and â € œrevenge shopâ €  as the Chinese city once at the centre of the outbreak reopened. About 75% of the shops reopened at the Chuhe Hanjie pedestrian mall. Shopkeepers limited the number of people allowed in, dispensing hand sanitizer and checking customers for signs of fever. In Serbia, Hungary and other nations, concerns were rising that populist leaders were using the situation to try to seize more power and silence critics. A human rights expert said while she understands the need to act swiftly to protect lives, the new states of emergency must include time limits and parliamentary oversight. â € œA state of emergency -- wherever it is declared and for whatever reason -- must be proportionate to its aim, and only remain in place for as long as absolutely necessary,\n",
      "-------------------------------------------------------\n",
      "Fox News Sunday. â €  Even with the victory, the shortcomings of Biden's campaign remain, including a lack of robust funding and organization that have drawn concern from top allies. He is barely running any television advertising in Super Tuesday states. Bloomberg announced his own plan to deliver a three-minute prime-time address Sunday night on two television networks. He didn't say how much he paid for the air time, which is unprecedented in recent decades. And both Sanders and Bloomberg have many more staff and volunteers than Biden. Levelling his own direct attack on Sanders, Biden declared, â € œThe people aren't looking for revolution. They're looking for results. â €  Biden won about three times as many delegates in South Carolina as Sanders, his nearest rival, giving a momentary respite to anxious Democrats who feared that the democratic socialist would finish February with four consecutive top finishes that would make it difficult for anyone to overtake him. The Associated Press declared Biden the winner just after the polls closed in South Carolina. The AP based the call on data from AP VoteCast, a survey of the electorate conducted for the AP by NORC at the University of Chicago. The survey showed a convincing win for Biden. But Biden made an aggressive round of media appearances on Sunday in an effort to counter Bloomberg's massive spending. He's also working to secure endorsements from prominent Democrats and, shortly after the Saturday results were in, he got the backing of former Virginia Gov. Terry McAuliffe. Biden downplayed the lack of an endorsement from former President Barack Obama, whose name he often invokes on the campaign trail to voters nostalgic for his administration. Biden said on ABC he has to earn this â € œon my own. â €  The South Carolina primary was the first major test of the candidates' appeal among black voters. That courtship continued Sunday in Selma. A number of states that vote on Super Tuesday, including Alabama, Tennessee, North Carolina and Virginia, have substantial black populations. One of the candidates who spent recent weeks wooing black voters, billionaire activist Tom Steyer, ended his campaign on Saturday after a disappointing third-place finish. He spent more than $24 million on television advertising in South Carolina -- more than all of his rivals combined -- but never found a clear lane in the crowded contest. Trump weighed in on Twitter early Sunday, taunting Bloomberg -- as he often does potential rivals. The president suggested the billionaire's advisers are simply on a â € œgravy trainâ €  leading him down a â € œdark and lonely path\n",
      "-------------------------------------------------------\n",
      "I just feel terrible for the women who had the courage to come forward and give their evidence to the authorities in this case. It's hard for them to make these reports about things that were so very humiliating in the first place then have to relive the pain. Certainly, any prosecutor should think long and hard before dismissing such a case where multiple women have independently come forward and subjected themselves to the hard process of bearing their souls to the authorities. I just hope they're not being sold down the river for some twisted political motive. Paul Walters, Chief of the OCDA bureau, brought this case to the attention of the executive staff, including me, in 2018 after the case was initially investigated. After the press attention, dozens of complainants came forward with allegations of drugging and/or sexual assault. I reassigned the case to a senior deputy district attorney who gave a fresh and thorough review to the case. This experienced prosecutor filed the complaints that will now be dismissed. I have had no information or involvement in this case since I left the office more than a year ago. I understand that the current district attorney conducted multiple reviews of the case and initially determined that the case was good. He eventually removed the senior prosecutor and any other prosecutors assigned to this case. I also learned from his press conference that a district attorney investigator has now been put on leave. It is possible that new evidence was developed and certainly I have dismissed cases (People v. Angela Diaz), and even reversed convictions when I did not have confidence in the evidence (People v. McKinney). However, considering the complaint contained seven Jane Does, it is too bad the public now does not have the chance to explore the truth during a preliminary hearing. Further, it is my understanding that the Jane Does in this case were not afforded the dignity of being notified about the dismissal prior to today's press conference. I hope the dismissal of this case was not based on the district attorney's relationship with one of the criminal defense attorneys, nor due to his political vendetta against me. Even if all of his allegations against me and my former chief of staff were true, and they are not, the remedy should not be dismissal. My heart goes out to the women who had the courage to come forward with their complaint, because I believed their complaints based on the evidence I had before leaving office.\n",
      "-------------------------------------------------------\n",
      "Dear Loyal, I hope you'll forgive me for this, but I've been wanting to write you ever since we talked on the phone. I am aware of the strain you are under and believe with all my heart there is help for that. First I want to tell you of a personal experience I've kept to myself for a long time. During my first year as Governor you'll recall the situation I found in Calif. was almost as bad as the one in Wash. today. It seemed as if the problems were endless and insolvable. Then I found myself with an ulcer. In all those years at Warner Bros., no one had been able to give me an ulcer and I felt ashamed as if it were a sign of weakness on my part. John Sharpe had me on Malox and I lived with a constant pain that ranged from discomfort to extremely sharp attacks. This went on for months. I had a bottle of Maalox in my desk, my briefcase and of course at home. Then one morning I got up, went into the bathroom, reached for the bottle as always and some thing happened. I knew I didn't need it. I had gone to bed with the usual pain the night before but I knew that morning I was healed. The Malox went back on the shelf. That morning when I arrived at the office Helene brought me my mail. The first letter I opened was from a lady -- a stranger -- in the Southern part of the state. She had written to tell me she was one of a group who met every day to pray for me. Believe it or not, the second letter was from a man, again a stranger, in the other end of the state telling me he was part of a group that met weekly to pray for me. Within the hour a young fellow from the legal staff came into my office on some routine matter. On the way out he paused in the door and said: `Gov. I think maybe you'd like to know -- some of us on the staff come in early every morning and get together to pray for you.' Coincidence? I don't think so. A couple of weeks later Nancy and I went down to L.A. and had our annual checkup. John Sharpe, a little puzzled, told me I no longer had an ulcer but added there was no indication I'd ever had one. Word of honor -- I never told him about that particular day in Sacramento...\n",
      "-------------------------------------------------------\n",
      "While the timing of the national finals is just outside the eight-week window recommended by the CDC, this is the safest and most responsible action. This was a difficult decision that unfortunately will disappoint students who have spent a great deal of time studying and preparing, along with their parents and teachers who have supported them. The focus now shifts to exploring all options to possibly reimagine a competition for later this year,' officials with Scripps said in a statement, according to the AP. This would have been the 93rd Scripps Spelling Bee. It was canceled from 1943 to 1945 because of World War II, the AP reported. Disney World cancels `2020 Star Wars Rival Run Weekend' over COVID-19 concerns A popular Disney World run weekend, which brings in people from around the world, is the latest thing to be canceled due to COVID-19. Walt Disney's runDisney made the announcement on their Facebook page. They wrote, `with circumstances continuing to change rapidly around the globe, we are making critical and timely decisions based on guidance from local, national and international health agencies. As we have shared before, we are basing our decisions on the safety and well-being of our Cast Members and our Guests.' The now-canceled 2020 Star Wars Rival Run Weekend was supposed to take place the weekend of April 17th. runDisney adds that refunds can be expected to be processed in four to six weeks. For more information on the canceled run, click here. Republicans press for fast action on Coronavirus stimulus measure Senate Republicans vowed on Thursday to work through the weekend to approve a sweeping plan to boost the economy in the face of massive losses tied to the Coronavirus outbreak, as GOP leaders proposed direct payments to American families mixed with tax breaks for businesses and billions of dollars in emergency loans for the airline industry. `This legislation is a significant next step,' said Senate Majority Leader Mitch McConnell. `And the Senate is not going anywhere until we take action.' The GOP plan includes small business `interruption loans,' direct payments to Americans - which are labeled 2020 `recovery rebates,' delays in employer payroll tax payments, estimated business tax payments, a variety of tax changes, a suspension of certain aviation taxes, and much more-all crammed into 247 page bill unveiled on Thursday afternoon. `The time to act is now,' said Sen. Charles Grassley (R-IA). `The economic uncertainty and potential global impact we are facing due to the coronavirus pandemic are unprecedented,\n",
      "-------------------------------------------------------\n",
      "It's times like these that truly show our state's resiliency and the strength of our spirit. The fund will be overseen by a committee of community members from across the state and will provide aid to support the Colorado communities and organizations who need the most help in response to the recent outbreak. Share your thoughts with friends. More Washington Examiner Jay Heflin Thursday March 19, 2020 Workers claiming unemployment surged last week to 281,000 as the economic effects of the coronavirus start to be reflected in government data. Caitlin Yilek Thursday March 19, 2020 A Massachusetts woman who flew from Los Angeles to Beijing before testing positive for the coronavirus could face up to seven years in prison for allegedly concealing her symptoms while traveling. Susan Ferrechio Thursday March 19, 2020 Senate Majority Leader Mitch McConnell has assigned his Republican conference with the task of drafting a massive GOP stimulus plan that can also satisfy the White House, shutting out Democrats, at least for now. Caitlin Yilek Thursday March 19, 2020 President Trump received a rare compliment from Democratic Rep. Ilhan Omar over actions his administration has taken in response to the coronavirus pandemic. Tom Rogan Thursday March 19, 2020 It should be obvious that racism against Chinese Americans, or Chinese in general, is as bad as racism against anyone else. Ying Ma Thursday March 19, 2020 What a difference a few weeks make. It was less than a month ago that socialism, not the coronavirus, dominated national political discussions. Today, the coronavirus has wreaked havoc on society and financial markets and drastically altered the political landscape. Emily Larsen Thursday March 19, 2020 Joe Biden will almost certainly be the Democratic presidential nominee, but Bernie Sanders and his far-left allies could be the biggest winners as the former vice president adopts positions that seemed fringe and radical just four years ago. Washington Examiner Thursday March 19, 2020 Crisis is not just the catalyst of tyranny. It is its raison d’etre. There isn't a single tyrant or tyrannical ideology that doesn't claim to be the long-term answer to some crisis -- of confidence, of poverty, of class struggle, of racial survival, and so on. Nicholas Rowan Thursday March 19, 2020 Trump backers are preparing to push back against Joe Biden's outreach to Catholics as the former vice president emerges as the near-certain Democratic presidential nominee. Tim Pearce Wednesday March 18, 2020 The pornographic lifestyle magazine Playboy is ending the printed version of its magazine after the coronavirus damaged the publication's content production and supply chain. John Gage Wednesday March 18, 2020 Rick Wilson, co-founder of the Lincoln Project, told Melania Trump\n",
      "-------------------------------------------------------\n",
      "The Treasury Department launched a new web tool allowing quick registration for Economic Impact Payments for eligible individuals who do not normally file a tax return, and also announced that it would begin making automatic payments. However, for some people receiving benefits from the Social Security Administration -- specifically those who have dependent children under the age of 17 -- it is to their advantage to go to this portal to ensure they also get the $500 per dependent Economic Impact Payment. I encourage them to do this as soon as possible, and want to provide the following details: People who receive Social Security retirement, survivors, or disability insurance benefits and who did not file a tax return for 2018 or 2019 and who have qualifying children under age 17 should now go to the IRS's webpage at www.irs.gov/coronavirus/economic-impact-payments to enter their information instead of waiting for their automatic $1,200 Economic Impact Payment. By taking proactive steps to enter information on the IRS website about them and their qualifying children, they will also receive the $500 per dependent child payment in addition to their $1,200 individual payment. If Social Security beneficiaries in this group do not provide their information to the IRS soon, they will have to wait to receive their $500 per qualifying child. The same new guidance also applies to SSI recipients, especially those who have qualifying children under age 17. To receive the full amount of the Economic Impact Payments you and your family are eligible for, go to the IRS's Non-Filers: Enter Payment Info page at www.irs.gov/coronavirus/economic-impact-payments and provide information about yourself and your qualifying children. Additionally, any new beneficiaries since January 1, 2020, of either Social Security or SSI benefits, who did not file a tax return for 2018 or 2019, will also need to go to the IRS's Non-Filers website to enter their information. Lastly, for Social Security retirement, survivors, or disability beneficiaries who do not have qualifying children under age 17, you do not need to take any action with the IRS. You will automatically receive your $1,200 economic impact payment directly from the IRS as long as you received an SSA-1099 for 2019. For SSI recipients who do not have qualifying children under age 17, we continue to work closely with Treasury in our efforts to make these payments automatically. Please note that we will not consider Economic Impact Payments as income for SSI recipients, and the payments are excluded from resources for 12 months. The eligibility requirements and other information about the Economic Impact Payments can be found here: www.irs.gov/coronavirus/economic-impact-payment-information-center. In addition, please continue to visit the IRS at www.irs.gov/coronavirus for the latest information.\n",
      "-------------------------------------------------------\n"
     ]
    }
   ],
   "source": [
    "lista = []\n",
    "cnt = 0\n",
    "with bz2.open(path_to_file, 'rb') as s_file:   \n",
    "      for instance in s_file:\n",
    "            instance = json.loads(instance)\n",
    "            text = instance['quotation']\n",
    "            lista.append(len(text.split()))\n",
    "            if len(text.split()) > 400:\n",
    "                print(text)\n",
    "                print('-------------------------------------------------------')"
   ]
  },
  {
   "cell_type": "markdown",
   "metadata": {},
   "source": [
    "Most of the quotes looks good, even if some are clearly not quotes (look at the last one), but many contains weird 'â € ','â € ™','â € ' sequences of characters! "
   ]
  },
  {
   "cell_type": "code",
   "execution_count": 6,
   "metadata": {},
   "outputs": [
    {
     "name": "stdout",
     "output_type": "stream",
     "text": [
      "74\n"
     ]
    }
   ],
   "source": [
    "import bz2\n",
    "import json\n",
    "path_to_file = fixpath(QUOTES_2020_PARTY_LABELED_PATH) \n",
    "\n",
    "cnt = 0\n",
    "with bz2.open(path_to_file, 'rb') as s_file:   \n",
    "      for instance in s_file:\n",
    "        instance = json.loads(instance)\n",
    "        text = instance['quotation']\n",
    "        if 'â € ' in text or 'â € ™' in text:\n",
    "            cnt +=1\n",
    "\n",
    "print(cnt)"
   ]
  },
  {
   "cell_type": "markdown",
   "metadata": {},
   "source": [
    "A quick research on google and we convninced ourselfs that this problem is coming from a UTF-8 encoding bug when creating the datset. (see https://www.i18nqa.com/debug/utf8-debug.html) which occurs either when the dataset is created or which is present on the website from which the quote is extracted. We find strange the high concentration of these bugs within the longer citations in fact within the whole dataset we studied only 74 citations contain these bugs. Let's print the problematic char to be sure that the problem is not the jupyter notebook not supporting this special chars."
   ]
  },
  {
   "cell_type": "code",
   "execution_count": 7,
   "metadata": {},
   "outputs": [
    {
     "name": "stdout",
     "output_type": "stream",
     "text": [
      "“\n"
     ]
    }
   ],
   "source": [
    "print('“')"
   ]
  },
  {
   "cell_type": "markdown",
   "metadata": {},
   "source": [
    "Lastly let's check in one of the original text if the bug is alredy present using the url present in the raw dataset. Since all the urls bring us to a single website we assume that the bug is in there."
   ]
  },
  {
   "cell_type": "code",
   "execution_count": 8,
   "metadata": {},
   "outputs": [
    {
     "data": {
      "text/plain": [
       "{'https://medicinehatnews.com'}"
      ]
     },
     "execution_count": 8,
     "metadata": {},
     "output_type": "execute_result"
    }
   ],
   "source": [
    "path_to_file = QUOTES_2020_PARTY_LABELED_COMPLETE\n",
    "set_of_websites = set()\n",
    "with bz2.open(path_to_file, 'rb') as s_file:   \n",
    "      for instance in s_file:\n",
    "            instance = json.loads(instance)\n",
    "            text = instance['quotation']\n",
    "            if 'â € ' in text or 'â € ™' in text:\n",
    "                set_of_websites.add(instance['urls'][0][0:27])\n",
    "                \n",
    "set_of_websites"
   ]
  },
  {
   "cell_type": "markdown",
   "metadata": {},
   "source": [
    "Lets analyse the medium lenght of the sentences between republicans and democrats. \n"
   ]
  },
  {
   "cell_type": "code",
   "execution_count": 9,
   "metadata": {},
   "outputs": [
    {
     "name": "stdout",
     "output_type": "stream",
     "text": [
      "19.0\n",
      "19.0\n"
     ]
    }
   ],
   "source": [
    "path_to_file = QUOTES_2020_PARTY_LABELED_PATH\n",
    "\n",
    "\n",
    "labeled_df = pd.io.json.read_json(path_to_file, lines=True)\n",
    "\n",
    "def get_info(x):\n",
    "    x = x.split(\" \")\n",
    "    return len(x)\n",
    "labeled_df[\"length_quote\"] = labeled_df[\"quotation\"].apply(lambda x: get_info(x))\n",
    "\n",
    "mean_quote_lenght_D = labeled_df[labeled_df[\"party_label\"] == \"D\"][\"length_quote\"].median()\n",
    "mean_quote_lenght_R = labeled_df[labeled_df[\"party_label\"] == \"R\"][\"length_quote\"].median()\n",
    "print(mean_quote_lenght_D)\n",
    "print(mean_quote_lenght_R)"
   ]
  },
  {
   "cell_type": "code",
   "execution_count": 10,
   "metadata": {},
   "outputs": [
    {
     "data": {
      "image/png": "[encoded data removed]",
      "text/plain": [
       "<Figure size 432x288 with 1 Axes>"
      ]
     },
     "metadata": {
      "needs_background": "light"
     },
     "output_type": "display_data"
    }
   ],
   "source": [
    "def bootstrap_CI(data, nbr_draws):\n",
    "    means = np.zeros(nbr_draws)\n",
    "    data = np.array(data)\n",
    "\n",
    "    for n in range(nbr_draws):\n",
    "        indices = np.random.randint(0, len(data), len(data))\n",
    "        data_tmp = data[indices] \n",
    "        means[n] = np.nanmean(data_tmp)\n",
    "    return [np.nanpercentile(means, 0.05),np.nanpercentile(means, 99.5)]\n",
    "\n",
    "mean_dem ,mean_rep = labeled_df.groupby(by=\"party_label\").mean()[\"length_quote\"]\n",
    "\n",
    "party_label = labeled_df.groupby(\"party_label\")[\"length_quote\"].apply(lambda x : x.tolist())\n",
    "\n",
    "[lower_dem,upper_dem] = bootstrap_CI(party_label.iloc[0],1000)\n",
    "[lower_rep,upper_rep] = bootstrap_CI(party_label.iloc[1],1000)\n",
    "\n",
    "plt.bar([str(party_label.index[0]),str(party_label.index[1])],[mean_dem,mean_rep],yerr = [[mean_dem-lower_dem,mean_rep-lower_rep],[upper_dem-mean_dem,upper_rep-mean_rep]])\n",
    "plt.ylabel(\"Mean len quote\")\n",
    "plt.title(\"Mean of lenght of quotes for democrats (D) and republicans (R) in function of condition with 99% confidence intervals\");"
   ]
  },
  {
   "cell_type": "code",
   "execution_count": 11,
   "metadata": {},
   "outputs": [
    {
     "data": {
      "image/png": "[encoded data removed]",
      "text/plain": [
       "<Figure size 432x288 with 1 Axes>"
      ]
     },
     "metadata": {
      "needs_background": "light"
     },
     "output_type": "display_data"
    }
   ],
   "source": [
    "plt.bar([str(party_label.index[0]),str(party_label.index[1])],[mean_dem,mean_rep],yerr = [[mean_dem-lower_dem,mean_rep-lower_rep],[upper_dem-mean_dem,upper_rep-mean_rep]])\n",
    "plt.ylabel(\"Mean len quote\")\n",
    "plt.ylim(23,25);"
   ]
  },
  {
   "cell_type": "markdown",
   "metadata": {},
   "source": [
    "## 2. Let's analyize the distribution of number of quotes in time."
   ]
  },
  {
   "cell_type": "code",
   "execution_count": 12,
   "metadata": {},
   "outputs": [
    {
     "data": {
      "image/png": "[encoded data removed]",
      "text/plain": [
       "<Figure size 432x288 with 1 Axes>"
      ]
     },
     "metadata": {
      "needs_background": "light"
     },
     "output_type": "display_data"
    }
   ],
   "source": [
    "formatted_df = labeled_df.copy()\n",
    "formatted_df[\"date\"] = pd.to_datetime(formatted_df['date'], format='%Y-%m-%d %H:%M:%S')\n",
    "\n",
    "#plot the data\n",
    "bins = 100\n",
    "hist = plt.hist(formatted_df[\"date\"].dt.date,bins)\n",
    "plt.xlim([datetime.date(2020, 3, 15), datetime.date(2020, 4, 1)])\n",
    "plt.xticks([datetime.date(2020, i, 1) for i in range(1,5)])\n",
    "plt.xlabel(\"Date\")\n",
    "plt.ylabel(\"Number of quotes\")\n",
    "plt.title(\"Number of quotes per date\")\n",
    "plt.show()"
   ]
  },
  {
   "cell_type": "markdown",
   "metadata": {},
   "source": [
    "What are those drops? Lets check the first 2 months by printing the dates"
   ]
  },
  {
   "cell_type": "code",
   "execution_count": 13,
   "metadata": {},
   "outputs": [
    {
     "name": "stderr",
     "output_type": "stream",
     "text": [
      "<ipython-input-13-bfde1d8c6e15>:4: FutureWarning: Comparison of Timestamp with datetime.date is deprecated in order to match the standard library behavior.  In a future version these will be considered non-comparable.Use 'ts == pd.Timestamp(date)' or 'ts.date() == date' instead.\n",
      "  if len(formatted_df[formatted_df.values == datetime.date(2020,j,i)]) < 3500:\n"
     ]
    },
    {
     "name": "stdout",
     "output_type": "stream",
     "text": [
      "2020-1-1\n",
      "2020-1-2\n",
      "2020-1-4\n",
      "2020-1-5\n",
      "2020-1-11\n",
      "2020-1-12\n",
      "2020-1-18\n",
      "2020-1-19\n",
      "2020-1-20\n",
      "2020-1-25\n",
      "2020-1-26\n"
     ]
    }
   ],
   "source": [
    "#we range over two months over each day and we print the dates which have less than 3500 quotes (a bit less than the average)\n",
    "for j in range(1,2):\n",
    "   for i in range(1,30):\n",
    "       if len(formatted_df[formatted_df.values == datetime.date(2020,j,i)]) < 3500:\n",
    "           print('2020-%d-%d' % (j,i))"
   ]
  },
  {
   "cell_type": "markdown",
   "metadata": {},
   "source": [
    "As we can see from these values, by checking in the calendar, these drops correspond to the weekends / holidays day, in which we assume that no quotes where inserted in the newspaper the plot.\n",
    "\n",
    "Now lets analysis the spikes instead. We firsty get the top 10 most frequent dates of quotes, and later show them on the graph."
   ]
  },
  {
   "cell_type": "code",
   "execution_count": 14,
   "metadata": {},
   "outputs": [
    {
     "data": {
      "text/plain": [
       "[Timestamp('2020-02-05 00:00:00'),\n",
       " Timestamp('2020-02-04 00:00:00'),\n",
       " Timestamp('2020-01-15 00:00:00'),\n",
       " Timestamp('2020-01-30 00:00:00'),\n",
       " Timestamp('2020-02-07 00:00:00'),\n",
       " Timestamp('2020-01-14 00:00:00'),\n",
       " Timestamp('2020-01-29 00:00:00'),\n",
       " Timestamp('2020-03-17 00:00:00'),\n",
       " Timestamp('2020-02-06 00:00:00'),\n",
       " Timestamp('2020-03-24 00:00:00')]"
      ]
     },
     "execution_count": 14,
     "metadata": {},
     "output_type": "execute_result"
    }
   ],
   "source": [
    "# get top 10 most frequent dates of quotes\n",
    "n = 10\n",
    "days_with_most_quotes = formatted_df['date'].value_counts()[:n].index.tolist()\n",
    "days_with_most_quotes"
   ]
  },
  {
   "cell_type": "markdown",
   "metadata": {},
   "source": [
    "By checking the dates with the calendar, we found that these dates are related to presidential events. Lets see some examples:\n",
    "- 2020-01-15 -> the Pentagon construction was completed.\n",
    "- 2020-01-30 -> President Trump signed the U.S.-Mexico-Canada (USMCA) trade pact.\n",
    "- 2020-02-05: \"Trump impeachment vote live updates: Sharply divided Senate acquits Trump on both articles\"\n",
    "- 2020-02-07 -> \"United States President Donald Trump is acquitted by the United States Senate in his first impeachment trial.\"\n",
    "\n",
    "Lets display them on the graph."
   ]
  },
  {
   "cell_type": "code",
   "execution_count": 15,
   "metadata": {},
   "outputs": [],
   "source": [
    "events = {datetime.date(2020, 2, 5):'T. Imp.',\n",
    "          datetime.date(2020, 1, 15): 'Pentagon',\n",
    "          datetime.date(2020, 1, 30):'U-M-C'}\n",
    "events_keys = []\n",
    "events_values = []\n",
    "for i in events.keys():\n",
    "    events_keys.append(i)\n",
    "for j in events.values():\n",
    "    events_values.append(j)"
   ]
  },
  {
   "cell_type": "code",
   "execution_count": 16,
   "metadata": {},
   "outputs": [
    {
     "data": {
      "image/png": "[encoded data removed]",
      "text/plain": [
       "<Figure size 432x288 with 1 Axes>"
      ]
     },
     "metadata": {
      "needs_background": "light"
     },
     "output_type": "display_data"
    }
   ],
   "source": [
    "bins = 100\n",
    "hist = plt.hist(formatted_df[\"date\"].dt.date,bins)\n",
    "plt.xlim([datetime.date(2020, 1, 1), datetime.date(2020,4, 1)])\n",
    "plt.xticks([events_keys[i] for i in range(0,len(events_keys))],[events_values[i] for i in range(0,len(events_values))],fontsize=7)\n",
    "plt.show()"
   ]
  },
  {
   "cell_type": "markdown",
   "metadata": {},
   "source": [
    "MONO ANALYSIS"
   ]
  },
  {
   "cell_type": "markdown",
   "metadata": {
    "tags": []
   },
   "source": [
    "## 3.Let's analyize the words used in the quotes"
   ]
  },
  {
   "cell_type": "markdown",
   "metadata": {},
   "source": [
    "MICHAEL ANALYSIS FROM ?"
   ]
  },
  {
   "cell_type": "markdown",
   "metadata": {},
   "source": [
    "# DUPLICATES ANALISYS\n",
    "Let's just analize if there are duplicates in the quotations. If we just take quotations as they are we cannot see any duplicates but with a bit of processing we can easily spot some..."
   ]
  },
  {
   "cell_type": "code",
   "execution_count": 31,
   "metadata": {},
   "outputs": [
    {
     "name": "stdout",
     "output_type": "stream",
     "text": [
      "0\n",
      "790\n"
     ]
    },
    {
     "data": {
      "text/plain": [
       "10099    jerry-rig the system and go around the Constit...\n",
       "17562    There will be a huge amount of pent-up demand ...\n",
       "17571    I can assure you, the president is determined,...\n",
       "20314    These cameras are nothing more than a get rich...\n",
       "26320        we're talking about a sharp escalation ahead.\n",
       "Name: quotation, dtype: object"
      ]
     },
     "execution_count": 31,
     "metadata": {},
     "output_type": "execute_result"
    }
   ],
   "source": [
    "\n",
    "\n",
    "path_to_file = fixpath(QUOTES_2020_PARTY_LABELED_PATH) \n",
    "\n",
    "\n",
    "\n",
    "#Read the dataset\n",
    "testdf = pd.io.json.read_json(path_to_file, lines=True)\n",
    "#Put every letter to lowercase, remove whitespaces and punctuation\n",
    "custom_pipeline = [hp.lowercase,\n",
    "                   hp.remove_whitespace,\n",
    "                   hp.remove_punctuation]\n",
    "testdf['clean_quotes'] = hero.clean(testdf['quotation'], custom_pipeline)\n",
    "\n",
    "#Check for duplicate in the original and in the cleaned version\n",
    "print(testdf['quotation'].duplicated().sum())\n",
    "print(testdf['clean_quotes'].duplicated().sum())\n",
    "#print some duplicate sentences\n",
    "testdf[testdf['clean_quotes'].duplicated()]['quotation'].head(5)"
   ]
  },
  {
   "cell_type": "code",
   "execution_count": 18,
   "metadata": {},
   "outputs": [
    {
     "data": {
      "text/html": [
       "<div>\n",
       "<style scoped>\n",
       "    .dataframe tbody tr th:only-of-type {\n",
       "        vertical-align: middle;\n",
       "    }\n",
       "\n",
       "    .dataframe tbody tr th {\n",
       "        vertical-align: top;\n",
       "    }\n",
       "\n",
       "    .dataframe thead th {\n",
       "        text-align: right;\n",
       "    }\n",
       "</style>\n",
       "<table border=\"1\" class=\"dataframe\">\n",
       "  <thead>\n",
       "    <tr style=\"text-align: right;\">\n",
       "      <th></th>\n",
       "      <th>quoteID</th>\n",
       "      <th>quotation</th>\n",
       "      <th>speaker</th>\n",
       "      <th>date</th>\n",
       "      <th>numOccurrences</th>\n",
       "      <th>id</th>\n",
       "      <th>party_label</th>\n",
       "      <th>US_congress_bio_ID</th>\n",
       "      <th>clean_quotes</th>\n",
       "    </tr>\n",
       "  </thead>\n",
       "  <tbody>\n",
       "    <tr>\n",
       "      <th>6567</th>\n",
       "      <td>2020-02-17-041872</td>\n",
       "      <td>jerry rig the system and go around the Constit...</td>\n",
       "      <td>Stacey Abrams</td>\n",
       "      <td>2020-02-17 20:57:04</td>\n",
       "      <td>1</td>\n",
       "      <td>Q7595813</td>\n",
       "      <td>D</td>\n",
       "      <td>None</td>\n",
       "      <td>jerry rig the system and go around the constit...</td>\n",
       "    </tr>\n",
       "    <tr>\n",
       "      <th>10099</th>\n",
       "      <td>2020-02-19-052071</td>\n",
       "      <td>jerry-rig the system and go around the Constit...</td>\n",
       "      <td>Stacey Abrams</td>\n",
       "      <td>2020-02-19 00:00:00</td>\n",
       "      <td>2</td>\n",
       "      <td>Q7595813</td>\n",
       "      <td>D</td>\n",
       "      <td>None</td>\n",
       "      <td>jerry rig the system and go around the constit...</td>\n",
       "    </tr>\n",
       "  </tbody>\n",
       "</table>\n",
       "</div>"
      ],
      "text/plain": [
       "                 quoteID                                          quotation  \\\n",
       "6567   2020-02-17-041872  jerry rig the system and go around the Constit...   \n",
       "10099  2020-02-19-052071  jerry-rig the system and go around the Constit...   \n",
       "\n",
       "             speaker                date  numOccurrences        id  \\\n",
       "6567   Stacey Abrams 2020-02-17 20:57:04               1  Q7595813   \n",
       "10099  Stacey Abrams 2020-02-19 00:00:00               2  Q7595813   \n",
       "\n",
       "      party_label US_congress_bio_ID  \\\n",
       "6567            D               None   \n",
       "10099           D               None   \n",
       "\n",
       "                                            clean_quotes  \n",
       "6567   jerry rig the system and go around the constit...  \n",
       "10099  jerry rig the system and go around the constit...  "
      ]
     },
     "execution_count": 18,
     "metadata": {},
     "output_type": "execute_result"
    }
   ],
   "source": [
    "#let's visualize the two quotes: this are indeed duplicates\n",
    "testdf[testdf['clean_quotes']==testdf['clean_quotes'].iloc[10099]]"
   ]
  },
  {
   "cell_type": "markdown",
   "metadata": {},
   "source": [
    "This means that we need to do some cleaning. Of course this analisys is not complete we need to find a more systematic way to spot duplicates. To spot duplicates we use Jaccard similarity between pairs of quotes of the same speaker. "
   ]
  },
  {
   "cell_type": "markdown",
   "metadata": {},
   "source": [
    "The pipeline for identifying highly similar quotes is fairly simple:\n",
    "* Group the dataframe by speaker\n",
    "* compute the jaccard similarity between pairs of quotes of a speaker. If the similarity is higher than the threshold, drop the shorter quote\n",
    "\n",
    "Jaccard similarity is useful for identifying similar sentences. It does this by identifying the number of common words there are in both sentences.The formula is given by:\n",
    "\n",
    " `jaccard_similarity = size(quote_a intersection quote_b) /size(quote_a union quote_b))`\n",
    "\n",
    " If the `jaccard_similarity = 1`, all the words in quote_a are in quote_b and vice versa. If the `jaccard_similarity = 0`, there are no common words among both quotes. Note that Jaccard similarity \n",
    " doesn't take into account the position of words in a sentence\n",
    "\n"
   ]
  },
  {
   "cell_type": "markdown",
   "metadata": {},
   "source": [
    "Here is an example on a subset of the dataset:"
   ]
  },
  {
   "cell_type": "code",
   "execution_count": 19,
   "metadata": {},
   "outputs": [
    {
     "name": "stderr",
     "output_type": "stream",
     "text": [
      "/Users/nicolasbaldwin/opt/miniconda3/lib/python3.8/site-packages/pandas/core/frame.py:3607: SettingWithCopyWarning: \n",
      "A value is trying to be set on a copy of a slice from a DataFrame.\n",
      "Try using .loc[row_indexer,col_indexer] = value instead\n",
      "\n",
      "See the caveats in the documentation: https://pandas.pydata.org/pandas-docs/stable/user_guide/indexing.html#returning-a-view-versus-a-copy\n",
      "  self._set_item(key, value)\n"
     ]
    },
    {
     "name": "stdout",
     "output_type": "stream",
     "text": [
      "dataframe size before cleaning:20000\n",
      "dataframe size after cleaning:19789\n"
     ]
    }
   ],
   "source": [
    "dataframe_to_clean = pd.read_json(QUOTES_2020_PARTY_LABELED_CLEANED_PATH, lines=True, compression='bz2', nrows = 20000)\n",
    "cleaned_df = remove_duplicates(dataframe = dataframe_to_clean,threshold = 0.7)\n",
    "\n",
    "print('dataframe size before cleaning:'  + str(dataframe_to_clean.shape[0]))\n",
    "print('dataframe size after cleaning:'  + str(cleaned_df.shape[0]))\n"
   ]
  },
  {
   "cell_type": "markdown",
   "metadata": {},
   "source": [
    "This method removes duplicates like the ones in the previous section:"
   ]
  },
  {
   "cell_type": "code",
   "execution_count": 20,
   "metadata": {},
   "outputs": [
    {
     "name": "stdout",
     "output_type": "stream",
     "text": [
      "dataframe before cleaning:\n"
     ]
    },
    {
     "data": {
      "text/html": [
       "<div>\n",
       "<style scoped>\n",
       "    .dataframe tbody tr th:only-of-type {\n",
       "        vertical-align: middle;\n",
       "    }\n",
       "\n",
       "    .dataframe tbody tr th {\n",
       "        vertical-align: top;\n",
       "    }\n",
       "\n",
       "    .dataframe thead th {\n",
       "        text-align: right;\n",
       "    }\n",
       "</style>\n",
       "<table border=\"1\" class=\"dataframe\">\n",
       "  <thead>\n",
       "    <tr style=\"text-align: right;\">\n",
       "      <th></th>\n",
       "      <th>quoteID</th>\n",
       "      <th>quotation</th>\n",
       "      <th>speaker</th>\n",
       "      <th>date</th>\n",
       "      <th>numOccurrences</th>\n",
       "      <th>id</th>\n",
       "      <th>party_label</th>\n",
       "      <th>US_congress_bio_ID</th>\n",
       "    </tr>\n",
       "  </thead>\n",
       "  <tbody>\n",
       "    <tr>\n",
       "      <th>6567</th>\n",
       "      <td>2020-02-17-041872</td>\n",
       "      <td>jerry rig system go around constitution</td>\n",
       "      <td>stacey abrams</td>\n",
       "      <td>2020-02-17 20:57:04</td>\n",
       "      <td>1</td>\n",
       "      <td>Q7595813</td>\n",
       "      <td>D</td>\n",
       "      <td>None</td>\n",
       "    </tr>\n",
       "    <tr>\n",
       "      <th>10099</th>\n",
       "      <td>2020-02-19-052071</td>\n",
       "      <td>jerry rig system go around constitution</td>\n",
       "      <td>stacey abrams</td>\n",
       "      <td>2020-02-19 00:00:00</td>\n",
       "      <td>2</td>\n",
       "      <td>Q7595813</td>\n",
       "      <td>D</td>\n",
       "      <td>None</td>\n",
       "    </tr>\n",
       "  </tbody>\n",
       "</table>\n",
       "</div>"
      ],
      "text/plain": [
       "                 quoteID                                quotation  \\\n",
       "6567   2020-02-17-041872  jerry rig system go around constitution   \n",
       "10099  2020-02-19-052071  jerry rig system go around constitution   \n",
       "\n",
       "             speaker                date  numOccurrences        id  \\\n",
       "6567   stacey abrams 2020-02-17 20:57:04               1  Q7595813   \n",
       "10099  stacey abrams 2020-02-19 00:00:00               2  Q7595813   \n",
       "\n",
       "      party_label US_congress_bio_ID  \n",
       "6567            D               None  \n",
       "10099           D               None  "
      ]
     },
     "metadata": {},
     "output_type": "display_data"
    },
    {
     "name": "stdout",
     "output_type": "stream",
     "text": [
      "dataframe after cleaning:\n"
     ]
    },
    {
     "data": {
      "text/html": [
       "<div>\n",
       "<style scoped>\n",
       "    .dataframe tbody tr th:only-of-type {\n",
       "        vertical-align: middle;\n",
       "    }\n",
       "\n",
       "    .dataframe tbody tr th {\n",
       "        vertical-align: top;\n",
       "    }\n",
       "\n",
       "    .dataframe thead th {\n",
       "        text-align: right;\n",
       "    }\n",
       "</style>\n",
       "<table border=\"1\" class=\"dataframe\">\n",
       "  <thead>\n",
       "    <tr style=\"text-align: right;\">\n",
       "      <th></th>\n",
       "      <th>quoteID</th>\n",
       "      <th>quotation</th>\n",
       "      <th>speaker</th>\n",
       "      <th>date</th>\n",
       "      <th>numOccurrences</th>\n",
       "      <th>id</th>\n",
       "      <th>party_label</th>\n",
       "      <th>US_congress_bio_ID</th>\n",
       "    </tr>\n",
       "  </thead>\n",
       "  <tbody>\n",
       "    <tr>\n",
       "      <th>6567</th>\n",
       "      <td>2020-02-17-041872</td>\n",
       "      <td>jerry rig system go around constitution</td>\n",
       "      <td>stacey abrams</td>\n",
       "      <td>2020-02-17 20:57:04</td>\n",
       "      <td>1</td>\n",
       "      <td>Q7595813</td>\n",
       "      <td>D</td>\n",
       "      <td>None</td>\n",
       "    </tr>\n",
       "  </tbody>\n",
       "</table>\n",
       "</div>"
      ],
      "text/plain": [
       "                quoteID                                quotation  \\\n",
       "6567  2020-02-17-041872  jerry rig system go around constitution   \n",
       "\n",
       "            speaker                date  numOccurrences        id party_label  \\\n",
       "6567  stacey abrams 2020-02-17 20:57:04               1  Q7595813           D   \n",
       "\n",
       "     US_congress_bio_ID  \n",
       "6567               None  "
      ]
     },
     "metadata": {},
     "output_type": "display_data"
    }
   ],
   "source": [
    "print('dataframe before cleaning:')\n",
    "display(dataframe_to_clean[dataframe_to_clean['quoteID'].isin(['2020-02-17-041872','2020-02-19-052071'])])\n",
    "print('dataframe after cleaning:')\n",
    "display(cleaned_df[cleaned_df['quoteID'].isin(['2020-02-17-041872','2020-02-19-052071'])])"
   ]
  },
  {
   "cell_type": "markdown",
   "metadata": {},
   "source": [
    "But it also drops quotes that have a high similarity:"
   ]
  },
  {
   "cell_type": "code",
   "execution_count": 21,
   "metadata": {},
   "outputs": [
    {
     "name": "stdout",
     "output_type": "stream",
     "text": [
      "removed_quote:\n",
      "president trump say go cultural site\n",
      "\n",
      "quote most similar in cleaned dataframe:\n",
      "president trump say go cultural site read said\n",
      "\n",
      "with similarity = 0.75\n"
     ]
    }
   ],
   "source": [
    "df_to_clean_quotes = dataframe_to_clean['quotation'].unique()\n",
    "cleaned_df_quotes = cleaned_df['quotation'].unique()\n",
    "removed_quote = list(filter(lambda x: x not in cleaned_df_quotes, df_to_clean_quotes))[0]\n",
    "\n",
    "cleaned_df['similarity to removed quote'] = cleaned_df['quotation'].apply(lambda x: jaccard_sim((x,removed_quote)))\n",
    "\n",
    "max_similarity = cleaned_df['similarity to removed quote'].max()\n",
    "\n",
    "print('removed_quote:')\n",
    "print(removed_quote)\n",
    "print()\n",
    "print('quote most similar in cleaned dataframe:')\n",
    "print(cleaned_df[cleaned_df['similarity to removed quote'] == max_similarity].quotation.item())\n",
    "print()\n",
    "print('with similarity = ' + str(max_similarity))\n",
    "\n",
    "cleaned_df = cleaned_df.drop(columns=['similarity to removed quote'])\n",
    "\n"
   ]
  },
  {
   "cell_type": "markdown",
   "metadata": {},
   "source": [
    "As we can see, the these 2 quotes are extremely similar."
   ]
  },
  {
   "cell_type": "markdown",
   "metadata": {},
   "source": [
    "# HOW HARD IS OUR TASK?\n",
    "To have a sense of how hard the task will be let's try to analise the data distribution in a lower dimension. To do that we need to transform the text into a numeric format, using tf-idf model,  then apply PCA to the result. Before representing quotes as vectors we preprocess the data. As we can  see the data does not look to be separable by class in the PCA plot. This is completely possible because PCA attempts to find eigenvectors that explain the most the variance of our vectors. As we can see the most explained variances are more specific to our encoding than our party label (which is not encoded in our tfidf vectors). "
   ]
  },
  {
   "cell_type": "code",
   "execution_count": 38,
   "metadata": {},
   "outputs": [],
   "source": [
    "def clean(series):\n",
    "    \"function that cleans a quote\"\n",
    "    series = hp.fillna(series)\n",
    "    series = hp.lowercase(series)\n",
    "    series = hp.remove_digits(series)\n",
    "    series = hp.remove_punctuation(series)\n",
    "    series = hp.remove_diacritics(series)\n",
    "    series = hp.remove_stopwords(series)\n",
    "    series = hp.remove_whitespace(series)\n",
    "    return series\n",
    "\n",
    "\n",
    "## arguments:\n",
    "    ## dataframe: dataframe containing quotes, the data frame must have at least 2 columns: 'party_label' and ' quotation'\n",
    "    ## keyword: only used if use_keyword = True, allows us to do analysis with only quotes that include the keyword\n",
    "    ## use_keyword: specifies if we must use the keyword to to do analysis with only quotes that include the keyword\n",
    "    ##removeVerbs: if set to true, we remove all verbs from the quotes\n",
    "def pca(dataframe,keyword = None, use_keyword = False,removeVerbs = False):\n",
    "    \"\"\" function that performs pca on quote and plots their position with respect to the 2 most meaningful vectors \"\"\"\n",
    "\n",
    "    print(dataframe[dataframe['party_label']=='D'].shape)\n",
    "    print(dataframe[dataframe['party_label']=='R'].shape)\n",
    "\n",
    "    df = dataframe.copy()\n",
    "    #clean quote\n",
    "    df['quotation'] = clean(df['quotation'])\n",
    "\n",
    "    if use_keyword:\n",
    "        #extract only quotes that include keyword\n",
    "        df = df[df['quotation'].str.contains(keyword)]\n",
    "        #remove keyword from quotes\n",
    "        df['quotation'] = df['quotation'].apply(lambda x: x.replace(keyword, ''))\n",
    "\n",
    "    if removeVerbs:\n",
    "        #remove verbs from quotes\n",
    "        df['quotation'] = remove_verbs(df['quotation'])\n",
    "\n",
    "    #vectorization of the sentences\n",
    "    df['tfidf'] = hero.tfidf(df['quotation'])\n",
    "    #perform pca\n",
    "    df['pca'] = hero.pca(df['tfidf'])\n",
    "    #plot\n",
    "    hero.scatterplot(\n",
    "        df, \n",
    "        col='pca', \n",
    "        color='party_label', \n",
    "        title=\"PCA for quotes\" + (\"containing word \" + keyword) if use_keyword else '',\n",
    "        hover_data = ['quotation','speaker']\n",
    "    )\n",
    "\n"
   ]
  },
  {
   "cell_type": "code",
   "execution_count": 39,
   "metadata": {},
   "outputs": [
    {
     "name": "stdout",
     "output_type": "stream",
     "text": [
      "(1000, 8)\n",
      "(1000, 8)\n"
     ]
    },
    {
     "data": {
      "application/vnd.plotly.v1+json": {
       "config": {
        "plotlyServerURL": "https://plot.ly"
       },
       "data": [
        {
         "customdata": [
          [
           "never excuse swing officer us asked reward bad behavior something comfortable",
           "raymond lopez"
          ],
          [
           "decision authorize limited remote voting ensure government continues function work new yorkers expect us",
           "andrea stewart-cousins"
          ],
          [
           "marathon obviously biggest event every year boston aside sporting events happen garden fenway park going taken lightly several conversations happening happening go near future",
           "martin j. walsh"
          ],
          [
           "defend president facts",
           "adam schiff"
          ],
          [
           "franny got well look running around got control coloring alright get gummy worm winnie got stay someone got camera",
           "jimmy fallon"
          ],
          [
           "clearly victory us even along think whole country impatiently wait official results party",
           "pete buttigieg"
          ],
          [
           "grand princess arrives anxious oakland center coronavirus fight",
           "gavin newsom"
          ],
          [
           "individuals community members honoring human trafficking awareness day represent courage trust strong inter agency partnerships necessary help keep vulnerable oregonians especially children safe traffickers",
           "ellen rosenblum"
          ],
          [
           "know student council nyu make accessible talk often",
           "troy kelley"
          ],
          [
           "saving electoral college national popular vote would undermine democracy",
           "robert reich"
          ],
          [
           "trying plan things like sea level rise things like aging infrastructure kinds things really make longer term plans longer term investments always align well mayoral politics need",
           "brad lander"
          ],
          [
           "one things know helpful active realistic shooter drill frighten terrorize traumatize big people little people school",
           "lily eskelsen"
          ],
          [
           "two reasons one humane thing right thing people living outdoors",
           "jenny durkan"
          ],
          [
           "want keep testing finding people testing positive contain outbreak find person got infected quarantine reduce infection rate",
           "andrew cuomo"
          ],
          [
           "saddened hear passing rep dale mortensen lisa sending thoughts colleagues family",
           "steve bullock"
          ],
          [
           "lives stake day passing pandemic growing please stay home nevada",
           "steve sisolak"
          ],
          [
           "complete total misinterpretation based overhearing one side phone conversation friend watches much cable called wondering whether ever jump race late game democrats choosing unelectable nominee listed reasons could possibly would circumstances",
           "john kerry"
          ],
          [
           "done fighting keep working toward nation everything counts",
           "julian castro"
          ],
          [
           "definitely needs work needs game engage latino voters",
           "janet murguía"
          ],
          [
           "public enemy public enemy radio moving forward without flavour flav",
           "bernie sanders"
          ],
          [
           "also must focus mitigating impacts operations finances controlling control",
           "brian blake"
          ],
          [
           "honest national conversation toxic effect fox news",
           "joe lockhart"
          ],
          [
           "frequent communication vp pence secretarysonny ceo smithfield working together plan get plant open soon safe cdc team arrives today help us assess situation ground additional details soon stay strong south dakota together get",
           "tim walz"
          ],
          [
           "legislation different place better place",
           "p.g. sittenfeld"
          ],
          [
           "invested disney today disney long term",
           "bob iger"
          ],
          [
           "compelling investors reassess core assumptions modern finance",
           "larry fink"
          ],
          [
           "enacting budget basic function state government must addressed",
           "michael madigan"
          ],
          [
           "money resourcefullness well resourced state california",
           "gavin newsom"
          ],
          [
           "renewed opportunity spacex build next generation mars destined rockets port los angeles",
           "joe buscaino"
          ],
          [
           "understand human level pandemic means americans",
           "elizabeth warren"
          ],
          [
           "need smart strategic emergency measures provide long lasting benefit americans investments clean energy clean air resiliency",
           "kathy castor"
          ],
          [
           "likely verge tipping point see community spread colorado days weeks ahead",
           "jared polis"
          ],
          [
           "better hear lip synching tomorrow",
           "lady gaga"
          ],
          [
           "revealed names unit killed bin laden",
           "joe biden"
          ],
          [
           "mean made",
           "joe biden"
          ],
          [
           "paid good money house",
           "hector de la torre"
          ],
          [
           "correlation low numbers african american community name id uncommon",
           "anthony g. brown"
          ],
          [
           "ruf incredibly productive korea exceptionally productive korea understanding good offensive profile works well well probably confidence necessary",
           "gabe kapler"
          ],
          [
           "senate advance energy package without addressing languishing energy tax policies many bipartisan support",
           "ron wyden"
          ],
          [
           "daunting task got big big boost arrival comfort like adding whole n hospital new york city",
           "gavin newsom"
          ],
          [
           "ad paper licensed beautician well went beauty school",
           "whoopi goldberg"
          ],
          [
           "must constant visible memorial tremendous personal toll covid communities since families time cannot even hold funerals lost loved ones way small way think important way make sure loss forgotten",
           "phil murphy"
          ],
          [
           "want thank employing neighbors friends people state connecticut want thank co chair general assembly appropriations committee providing single largest dollar amount corporation state connecticut bar none probably almost",
           "cathy osten"
          ],
          [
           "obligation everything prevent spread deadly disease means moving people detention centers pose public safety risk",
           "cory booker"
          ],
          [
           "accept argument president united states tell pound sand try investigate wrongdoing force behind senate subpoena future",
           "adam schiff"
          ],
          [
           "know got one dude feel real bad think going ruin us love panic disco",
           "jimmy fallon"
          ],
          [
           "particularly time national crisis",
           "ro khanna"
          ],
          [
           "math guy words guy",
           "jeff merkley"
          ],
          [
           "still need mobilize percent households fill census",
           "susan bysiewicz"
          ],
          [
           "throwing back prom night pink satin polka dotted dress",
           "michelle obama"
          ],
          [
           "always love band context",
           "chris murphy"
          ],
          [
           "accusations women touch feely guy",
           "jim clyburn"
          ],
          [
           "attempt whenever possible prioritize arrests serious violent offenses nonviolent crimes always considering victims rights",
           "jared polis"
          ],
          [
           "presume know historically iran proxies ahve interested prominent internationally known locations new york city",
           "bill de blasio"
          ],
          [
           "drop mic rita",
           "barack obama"
          ],
          [
           "adds louisville metro complete compliance complete compliance relates requirements federal level",
           "gerald neal"
          ],
          [
           "continued work",
           "lorena gonzalez"
          ],
          [
           "life become movie one wants see",
           "jon bon jovi"
          ],
          [
           "well really say think heard say",
           "alan dershowitz"
          ],
          [
           "important let people know everywhere fight life partisan stance",
           "katrina jackson"
          ],
          [
           "another person tested came contact year old lawyer friend lawyer spent time close proximity number situations",
           "andrew cuomo"
          ],
          [
           "kind president kind human would seek turn someone son would seek weaponize son father unbelievably dishonorable thing",
           "pete buttigieg"
          ],
          [
           "whatever takes support biden administration looking forward federal administration national strategy good times bad times",
           "michelle lujan grisham"
          ],
          [
           "maybe even small businesses could fail even good scenario",
           "karen mills"
          ],
          [
           "taking new measures discourage anyone engaging activities parks put others risk quite honestly putting others risk",
           "marty walsh"
          ],
          [
           "think larger shark may taken whole foot",
           "terry morrow"
          ],
          [
           "california model rest country look compared states behind",
           "ted lempert"
          ],
          [
           "syllabus week weed new pre meds might make midterms even difficult add drop deadline",
           "megan brennan"
          ],
          [
           "knew lying knew altering intelligence information genius figure",
           "bernie sanders"
          ],
          [
           "bernie somebody virtue saying exactly believes",
           "president barack obama"
          ],
          [
           "let us open eyes morning judgment acquittal facing well established election siege russia enemies united states senate absolved president continues brazenly invite foreign interference elections expect",
           "dick durbin"
          ],
          [
           "manufacturer sell us purpose fact threatened suit louisiana use executions",
           "gov. john bel edwards"
          ],
          [
           "congress consulted",
           "nancy pelosi"
          ],
          [
           "taking us toward another war",
           "amy klobuchar"
          ],
          [
           "whether heat summer clear fall day",
           "bill de blasio"
          ],
          [
           "deadly surge religious intolerance india horrifying",
           "pramila jayapal"
          ],
          [
           "going lose house",
           "nancy pelosi"
          ],
          [
           "time persuasion public appeals time action joke one immune obligation act best interests people state",
           "j.b. pritzker"
          ],
          [
           "additional funding medicaid ensure need assistance receive",
           "richard neal"
          ],
          [
           "probably spending rate rough estimate million per week right",
           "andrew cuomo"
          ],
          [
           "suspected case coronavirus community",
           "andrew cuomo"
          ],
          [
           "said number days row think four",
           "andy beshear"
          ],
          [
           "large gatherings number consistently changing means make city neighbors friends family vulnerable",
           "sharon weston broome"
          ],
          [
           "good model bipartisan signed president enough",
           "nancy pelosi"
          ],
          [
           "omg crazy favorite part",
           "jennifer lopez"
          ],
          [
           "looking forward able continue work able",
           "john garamendi"
          ],
          [
           "create medicare single payer national health insurance program provide everyone america comprehensive health care coverage free point service networks premiums deductibles copays surprise bills today million americans still health insurance even underinsured even insurance costs high medical bills number one cause bankruptcy united states",
           "bernie sanders"
          ],
          [
           "must end involvement saudi led intervention yemen one worst humanitarian catastrophes earth",
           "bernie sanders"
          ],
          [
           "want thank hospital workers doctors nurses staff new york presbyterian hospital fighting good fight",
           "jennifer lopez"
          ],
          [
           "want arena arena",
           "gavin newsom"
          ],
          [
           "want waste whole lot time donald trump maybe media want anybody knows knows incomprehensible would think woman cannot president united states",
           "bernie sanders"
          ],
          [
           "saw bunch comments people wondering feed children since guys dying know little peek inside main fridge filled lots fruits veggies",
           "kim kardashian"
          ],
          [
           "continue working ensure minnesotans well state health care facilities small businesses farmers access much needed relief",
           "amy klobuchar"
          ],
          [
           "time sports betting live louisville region getting commercials every set commercials go indiana spend money pretty infuriating dollars flowing across river could flow across mississippi river used fund states pensions education system healthcare",
           "andy beshear"
          ],
          [
           "think unpatriotic president united states act like composition could exploit",
           "al sharpton"
          ],
          [
           "rhett directed innovative offenses college football recent years offenses attack quickly creatively efficiently excited see rhett look spread ball around utilize",
           "manny diaz"
          ],
          [
           "vashon voters indicated care park district",
           "joe fitzgibbon"
          ],
          [
           "neonics pervasive lot insecticides go lowe home depot gardening supply company shelves",
           "sonya jaquez lewis"
          ],
          [
           "pointed amazon made billion profits last year know much paid taxes got zero wonder washington post one great supporters",
           "bernie sanders"
          ],
          [
           "turnout tells going win new hampshire going win democratic nomination going defeat donald trump",
           "bernie sanders"
          ],
          [
           "situation people going fewer fewer smaller resorts recreate without creating public health crisis",
           "jared polis"
          ],
          [
           "wanted say came concert told wore plaid skirt show wore plaid skirt uggs",
           "miley cyrus"
          ],
          [
           "frankly housing emergency hands california",
           "scott wiener"
          ],
          [
           "mayors see close cities towns american people continue innovate work create national change ground",
           "eric garcetti"
          ],
          [
           "think opportunity us",
           "david ige"
          ],
          [
           "really gullible think american people",
           "bernie sanders"
          ],
          [
           "ask help come get far unless ask name joe biden democratic candidate united states senate look like see help vote biden give look though ok",
           "joe biden"
          ],
          [
           "know certain things inevitably cause homelessness",
           "mike bonin"
          ],
          [
           "numbers continue increase likely end point trying avoid",
           "jerry demings"
          ],
          [
           "lead russians afghan trap",
           "zbigniew brzezinski"
          ],
          [
           "get economy moving bring back sustainable level social interaction better",
           "jared polis"
          ],
          [
           "despite numerous opportunities including recent tax extenders package finance committee failed take action dozens energy tax proposals pending critical committee move address issues timely manner along much needed policy changes combat damage growing dangers caused global climate change despite crucial policymaking role finance committee hold single hearing energy tax policy 115th congress yet hold one 116th sole energy tax related recommendation committee temporary policy task forces ignored tax extender legislation passed december along nearly proposals put forward members legislation congress committee must fulfill role examining members energy tax proposals bolstering nation efforts combat climate change therefore urge swiftly schedule committee action address proposals ensure nation energy tax policies keep changing energy climate landscape",
           "dick durbin"
          ],
          [
           "ready make changes things need changed specifically wage gap feel tearing apart country right",
           "elizabeth warren"
          ],
          [
           "multi generational multi racial coalition",
           "bernie sanders"
          ],
          [
           "got house worry got senate worry want keep house democratic hands might want check people actually turned house blue democrats running platform running away platform fast possibly",
           "pete buttigieg"
          ],
          [
           "prepared throw punch prepared take punch children",
           "nancy pelosi"
          ],
          [
           "idea praising country violating human rights around world fact makes allies wonder going",
           "joe biden"
          ],
          [
           "spent years building successful global business beat trump beat economy experience expertise show fraud failure",
           "tom steyer"
          ],
          [
           "much drink want clear never used methamphetamines apologize people florida distraction caused movement thankful incredible miami beach ems team efforts spend next weeks family appreciate privacy time",
           "andrew gillum"
          ],
          [
           "make think much unearth therapy purposes",
           "gwyneth paltrow"
          ],
          [
           "right across street district us unaware going opening shortly without input community going operate going happen",
           "mark squilla"
          ],
          [
           "go beyond reform reorder economy ways democrats let alone americans",
           "pete buttigieg"
          ],
          [
           "amend regulations policy positions necessary get",
           "elizabeth warren"
          ],
          [
           "agency must make sure fatality worker fatalities receives resources comprehensive attention deserves",
           "rosa delauro"
          ],
          [
           "sovereign debt",
           "jamie dimon"
          ],
          [
           "big diverse societies like progress ultimately depends something basic see",
           "president barack obama"
          ],
          [
           "medical residents retired medical professionals",
           "bernie sanders"
          ],
          [
           "james coolen betrayed public trust fellow philadelphia police officers improperly illegally used porsche cayenne suv impounded evidence case assigned transportation stepdaughter prom",
           "larry krasner"
          ],
          [
           "next thing kind start running office",
           "amy klobuchar"
          ],
          [
           "backbone ramrod",
           "joe biden"
          ],
          [
           "know many looking several years never seen another one possibly available currently used operating frostop drive",
           "steve henry"
          ],
          [
           "youth program grew kids lot senior group",
           "brad sherman"
          ],
          [
           "nothing great restaurants great chinese restaurants italian restaurants restaurants urge every one come support places",
           "william tong"
          ],
          [
           "attacks like man could first jewish president disgusting beyond pale",
           "joe biden"
          ],
          [
           "walk get exercise way safe",
           "tim walz"
          ],
          [
           "every corporate treasury america potential political slush fund thereby authorize empower ceos corporations spend whatever wanted people money political campaigns",
           "jamie raskin"
          ],
          [
           "pass common sense test sounds like something coming north korea pennsylvania avenue",
           "tammy duckworth"
          ],
          [
           "frontline workers greater exposure people think one things find research infection rate higher african american community latino community",
           "andrew cuomo"
          ],
          [
           "good night democracy",
           "bernie sanders"
          ],
          [
           "bet matter time mitch mcconnell responds rap lyric",
           "hakeem jeffries"
          ],
          [
           "need leaders represent best parts trying defending middle class",
           "elissa slotkin"
          ],
          [
           "former new york mayor michael bloomberg percent",
           "stephen colbert"
          ],
          [
           "public health emergency philly largest city nation without public hospital cannot allow unconscionable greed get way saving lives eminent domain property",
           "helen gym"
          ],
          [
           "state boundaries mean little virus",
           "andrew cuomo"
          ],
          [
           "mean want barack asked someone questioning challenging want",
           "joe biden"
          ],
          [
           "immediate threat general population across country louisiana remains low although risk exposure higher days community spread",
           "gov. john bel edwards"
          ],
          [
           "kind strike",
           "carole a. graves"
          ],
          [
           "rich coming someone helped hillary cheat debates went post book tour claiming primary rigged",
           "donna brazile"
          ],
          [
           "changes along landmark pension reform consolidated police firefighter pensions make serious dent property taxes",
           "j.b. pritzker"
          ],
          [
           "completely suspicious get",
           "rosario dawson"
          ],
          [
           "reckless statements confusing people country world",
           "bernie sanders"
          ],
          [
           "view",
           "ned lamont"
          ],
          [
           "past studies shown toxic metals travel quickly",
           "pam miller"
          ],
          [
           "saw kylie sister seen makeup",
           "kim kardashian"
          ],
          [
           "little bit miffed guess best word talk savings waste fraud going different types approaches administration offered legislation areas",
           "john yarmuth"
          ],
          [
           "plan things found president first days without congress legal",
           "amy klobuchar"
          ],
          [
           "going position people dying several hundred ventilators state somewhere else",
           "andrew cuomo"
          ],
          [
           "cannot must get drawn war iran",
           "edward markey"
          ],
          [
           "feel need candidate entirely authentic wrong steadfast rally people believe trust",
           "pramila jayapal"
          ],
          [
           "attempt state washington make access marijuana license equitable",
           "eric pettigrew"
          ],
          [
           "welcome review especially light recent troubling reports spotty safety record tncs",
           "lorena gonzalez"
          ],
          [
           "realized hate hides",
           "joe biden"
          ],
          [
           "difficult time everybody",
           "jennifer lopez"
          ],
          [
           "hate tennis hate dark secret passion always",
           "andre agassi"
          ],
          [
           "banning events one hundred people statewide",
           "ralph northam"
          ],
          [
           "nothing wrong working private equity firm bain capital firm around long time successes bailing companies going business business take businesses failing change management change number employees hire better employees get companies back productive",
           "barack obama"
          ],
          [
           "often focus line conversations",
           "andrew cuomo"
          ],
          [
           "iranians assassinate us secretary defence would consider act war would respond disproportionately",
           "chris murphy"
          ],
          [
           "trails people using masks even keeping six foot distances people",
           "alan webber"
          ],
          [
           "shame mitch mcconnell",
           "ayanna pressley"
          ],
          [
           "things get worse",
           "eric garcetti"
          ],
          [
           "time get complacent time anything different",
           "andrew cuomo"
          ],
          [
           "winner everyone",
           "brad lander"
          ],
          [
           "number inbound requests getting esg skyrocketing",
           "larry fink"
          ],
          [
           "stunning goes right heart charges president",
           "chuck schumer"
          ],
          [
           "one extraordinary players history game accomplishments legendary five nba championships nba mvp award nba star selections two olympic gold medals",
           "adam silver"
          ],
          [
           "many locate one area problem seen california",
           "martin j. dunn"
          ],
          [
           "think stress eating bailey mostly good boy",
           "elizabeth warren"
          ],
          [
           "many children outnumbered lot",
           "blake lively"
          ],
          [
           "cannot handle job",
           "nancy pelosi"
          ],
          [
           "people ask",
           "andrew cuomo"
          ],
          [
           "going take time right think right way continue fight",
           "elizabeth warren"
          ],
          [
           "also elizabeth warren really good policies really thought think qualified bernie great really respect lot also wanted feel good voting someone year old white man",
           "elizabeth warren"
          ],
          [
           "completely within constitutional power",
           "alan dershowitz"
          ],
          [
           "eating much junk food carbs carb guy like pizzas breads",
           "ben affleck"
          ],
          [
           "despite differences opinion candidates supporting come together defeat dangerous president history country",
           "bernie sanders"
          ],
          [
           "dont really know im right feel like might",
           "jessica alba"
          ],
          [
           "lot people country people speak people bring pressure bear least try get basic fairness system",
           "elizabeth warren"
          ],
          [
           "good choice want know another one",
           "joe biden"
          ],
          [
           "gotten one complaint anybody trying buy gun",
           "phil murphy"
          ],
          [
           "legislative session convene adjourn period days expire appear ballot",
           "les gara"
          ],
          [
           "ben mckenzie photo provided",
           "ben mckenzie"
          ],
          [
           "bringing downtown street style represents new york old hollywood glamour vibrancy representative miami",
           "jennifer lopez"
          ],
          [
           "read transcript nothing even democrat chairman indicated quid pro quo president talk foreign aid even president ukraine mr volodymyr zelenskiy said pushed way democrats trying go president since even elected nonstop care facts truth going whatever takes try get president unfortunate good country",
           "adam schiff"
          ],
          [
           "feeling really guilty bored impeachment hearings",
           "pete buttigieg"
          ],
          [
           "needed jobs like planning building light rail line put portlanders work",
           "jo ann hardesty"
          ],
          [
           "sen lawson took horrifying recounting surviving genocide ms jaffe still chamber tried turn somber story second amendment argument",
           "debra heffernan"
          ],
          [
           "cannot behave way last week two weeks ago told halacha jewish law must listen doctors whether sick person yom kippur",
           "simcha eichenstein"
          ],
          [
           "remain calm informed educated passing day practice common sense risk individual contracting coronavirus remains low",
           "sheila oliver"
          ],
          [
           "see hope see promise time back guidelines",
           "ralph northam"
          ],
          [
           "imagine family go",
           "scott mccoy"
          ],
          [
           "decision hold rally gujarat home state prime minister modi may appear represent good electoral politics appealing indian americans",
           "jay chaudhuri"
          ],
          [
           "even speak working organizers make sure vote left table really earn support need big night",
           "bernie sanders"
          ],
          [
           "local city councilwoman former school board member local control",
           "scott wiener"
          ],
          [
           "next president need energy expertise vision safeguard country rebuild government swiftly make fundamental changes works american people",
           "elizabeth warren"
          ],
          [
           "drawn financially go bankrupt",
           "chuck schumer"
          ],
          [
           "access professional teletherapy sessions one way ensure employees access counseling mental health care",
           "lee harris"
          ],
          [
           "call urban broadband deserts",
           "frank pallone"
          ],
          [
           "hope heard defense nice women cut",
           "elizabeth warren"
          ],
          [
           "one things want production company partner elaine goldsmith thomas take women background put forefront tell stories",
           "jennifer lopez"
          ],
          [
           "clear virus care bored want hang friends care believe dangerous virus could care less think overreacting infected infants killed people 20s 30s 40s forced doctors around world make terrible decisions live die",
           "j.b. pritzker"
          ],
          [
           "win south carolina decisively set stage super tuesday",
           "james clyburn"
          ],
          [
           "pet store market changing",
           "monica duran"
          ],
          [
           "cultural economic engines way higher end restaurants",
           "bill lee"
          ],
          [
           "vastly outweighed lies healthcare incendiary insults immigrants fake boasts claiming credit economic progress",
           "richard blumenthal"
          ],
          [
           "want run sense permanent damage business",
           "adam silver"
          ],
          [
           "think whole lot unlike us english twenty percent whatever want remainder receptive change behavior",
           "larry miller"
          ],
          [
           "notify us ahead time",
           "alex villanueva"
          ],
          [
           "administrationa willful withholding congressionally approved assistance aftermath hurricanes seriously undermined efforts prepare future disasters risks senseless preventable loss life damage",
           "nancy pelosi"
          ],
          [
           "committed keeping washingtonians healthy safe informed",
           "jay inslee"
          ],
          [
           "accused horrible horrible things",
           "michael gianaris"
          ],
          [
           "meditation focus looking inward helped balance emotions whole process overwhelming working every day stay level",
           "harvey weinstein"
          ],
          [
           "budget guards virginia triple bond rating advancing equity opportunity across commonwealth",
           "luke torian"
          ],
          [
           "view first two caucuses primaries sort starting gate go super tuesday",
           "joe biden"
          ],
          [
           "raising property taxes already high reward punish people say want live city cincinnati",
           "p.g. sittenfeld"
          ],
          [
           "key success music industry allowing artist creatively run ship",
           "lady gaga"
          ],
          [
           "sake country hope",
           "joe manchin"
          ],
          [
           "money continues make way towns need secured billion midwest flood recovery money grants part additional usda rural development funding disaster bill",
           "cindy axne"
          ],
          [
           "must immediately briefed serious situation next steps consideration administration including significant escalation deployment additional troops region",
           "nancy pelosi"
          ],
          [
           "policies lifelines families allowing endure unexpected circumstances without putting health risk facing financial ruin",
           "richard neal"
          ],
          [
           "big systemic challenges face require innovation cross jurisdictional cooperation",
           "libby garvey"
          ],
          [
           "cannot allow country lied another war",
           "ayanna pressley"
          ],
          [
           "tell lost job afraid losing top mind every single day",
           "conor lamb"
          ],
          [
           "members public observe address meeting telephonically otherwise electronically",
           "gavin newsom"
          ],
          [
           "glaringly missing president trump press conference actually going combat spread coronavirus keep american people safe seems president trump focused stock market addressing pandemic",
           "chuck schumer"
          ],
          [
           "far concerned shredder available needed",
           "hakeem jeffries"
          ],
          [
           "well climate science thinks pray",
           "ed henry"
          ],
          [
           "cannot clearer call stay home hits home",
           "phil murphy"
          ],
          [
           "put daughters bed",
           "lori trahan"
          ],
          [
           "building new consumer product",
           "jeffrey katzenberg"
          ],
          [
           "three days pepsi center wrestling fans wait year",
           "bob smith"
          ],
          [
           "need hours need make decision",
           "nancy pelosi"
          ],
          [
           "seen conflicts escalated need make sure escalation",
           "ro khanna"
          ],
          [
           "legislation makes great strides addressing increasing problem unsafe counterfeit products sold unsuspecting consumers encouraging platforms take steps reasonable workable necessary keeping dangerous counterfeits consumers hands",
           "hank johnson"
          ],
          [
           "predicted make summer make debates",
           "amy klobuchar"
          ],
          [
           "much fun miami",
           "lady gaga"
          ],
          [
           "accomplished much together made mark history stood vulnerable americans folks left cast aside marginalized fought middle class also poor struggling",
           "julián castro"
          ],
          [
           "still percent delegates grabs americans every part country going make voices heard",
           "elizabeth warren"
          ],
          [
           "think men confused issues many people thousands people would say great things",
           "harvey weinstein"
          ],
          [
           "seven white people stage talking racial justice",
           "pete buttigieg"
          ],
          [
           "consumers pennsylvania legal protections comes health club memberships enforce laws members charged services provided ability cancel membership services cannot use pandemic",
           "josh shapiro"
          ],
          [
           "walked state union stand liar man presidency national tragedy",
           "bill pascrell"
          ],
          [
           "think answer nine months months away election",
           "dick durbin"
          ],
          [
           "side isis side iran siding terrorists",
           "elizabeth warren"
          ],
          [
           "single republican approached said",
           "chuck schumer"
          ],
          [
           "need keep economy strong importantly need make sure economy works everyone",
           "jared polis"
          ],
          [
           "cost things elevating fast",
           "greg fischer"
          ],
          [
           "roads bridges structurally deficient",
           "caroline simmons"
          ],
          [
           "artist movie truly experience going remember rest life",
           "jennifer lopez"
          ],
          [
           "anticipate learn next steps front near future",
           "gretchen whitmer"
          ],
          [
           "choose fight righteous fights things get tough know one option ahead nevertheless must persist",
           "elizabeth warren"
          ],
          [
           "creation conflict crisis ever present daily basis consideration policy actions president administration",
           "steny hoyer"
          ],
          [
           "russians want nominee",
           "joe biden"
          ],
          [
           "got knocked got back even election day people saying close call sure going beat seven half points another unwinnable fight",
           "elizabeth warren"
          ],
          [
           "victory lap cannot silenced russell simmons",
           "oprah winfrey"
          ],
          [
           "cases court",
           "nancy pelosi"
          ],
          [
           "lucky bit timing capturing lightning strike clouds les portes il de western france",
           "nick collins"
          ],
          [
           "economics degree like greta mock one",
           "alexandria ocasio-cortez"
          ],
          [
           "wayne county continues provide essential services pandemic many county employees working remotely home great dedication",
           "warren evans"
          ],
          [
           "people love continue rise polls within supporters people like throw really continue say happening inside white house",
           "president bill clinton"
          ],
          [
           "messages suggest possible risk ambassador marie yovanovitch security kyiv recalled post last year",
           "eliot engel"
          ],
          [
           "working around clock provide support montana governor office responds public health crisis campaigning",
           "steve bullock"
          ],
          [
           "living floor friend apartment valley",
           "ben mckenzie"
          ],
          [
           "many colleagues voting today felt sting discrimination fought treated equally workplaces within institutional structures today making history walking inclusive path",
           "eileen filler-corn"
          ],
          [
           "process leader mcconnell chosen one would chosen without house slows things must make work",
           "charles schumer"
          ],
          [
           "review proposed ordinance questions concerns alderman proposal would unilaterally ban zoning changes areas near well halt building permits area",
           "lori lightfoot"
          ],
          [
           "love cannot stop laughing",
           "kathy griffin"
          ],
          [
           "part us never look us",
           "cory booker"
          ],
          [
           "need spend less money locking people money lifting people",
           "elizabeth warren"
          ],
          [
           "websites",
           "ben affleck"
          ],
          [
           "stand vindman",
           "joe biden"
          ],
          [
           "bernie actually talking real things dangerous",
           "bernie sanders"
          ],
          [
           "one hardest workers know",
           "bernie sanders"
          ],
          [
           "talk white catholic vote vs hispanic catholic vote really missing lot",
           "elizabeth warren"
          ],
          [
           "years international business experience",
           "tom steyer"
          ],
          [
           "focus five core offerings",
           "jim sullivan"
          ],
          [
           "vetoed olympia hills development proposal country mayor concerns proposal",
           "ben mcadams"
          ],
          [
           "day campaign making decisions guide resources everything big night new hampshire move nevada south carolina super tuesday states beyond",
           "pete buttigieg"
          ],
          [
           "clearly bad decision destabilized region alienated us critical allies would need diplomatic fashion reduce tensions area goes fact president larger strategic plan area destabilized made less safe made lot harder us frankly come diplomatic conclusions necessitate seems like going towards military conflict",
           "cory booker"
          ],
          [
           "may run money summer",
           "eugene depasquale"
          ],
          [
           "like somebody known seemingly forever",
           "joe biden"
          ],
          [
           "new agreement talking going put significant stop outsourcing american jobs",
           "bernie sanders"
          ],
          [
           "emotion luxury",
           "andrew cuomo"
          ],
          [
           "education counseling treatment rehabilitation services",
           "nancy skinner"
          ],
          [
           "senior citizen income used",
           "robert rubin"
          ],
          [
           "big day entire city chicago particularly south west sides areas underinvested underserved generations brimming potential",
           "lori lightfoot"
          ],
          [
           "bill right congress would provide free coronavirus testing everyone needs paid emergency leave unemployment insurance workers laid economic shock",
           "pete buttigieg"
          ],
          [
           "none us greedy moment capacity move things around",
           "gavin newsom"
          ],
          [
           "biden really accused lot democrats cahoots financial industry",
           "joe biden"
          ],
          [
           "self absorbed entitled stubborn little queef",
           "kim kardashian"
          ],
          [
           "inspire americans given hope nation ability tackle climate crisis remain hopeful things get tough",
           "amy klobuchar"
          ],
          [
           "already template proven successful",
           "annette cleveland"
          ],
          [
           "think real problem",
           "elizabeth warren"
          ],
          [
           "urging president trump give federal front line workers hazard pay would think important thing next bill require hazard pay front line workers",
           "charles schumer"
          ],
          [
           "need modernization meet public safety needs",
           "andrew cuomo"
          ],
          [
           "going die near term",
           "andrew cuomo"
          ],
          [
           "lifelong democrat proud democrat obama biden democrat",
           "joe biden"
          ],
          [
           "get motivated exercise heart fitness four legged personal trainers",
           "christie brinkley"
          ],
          [
           "tallahassee would stand benefit people like office proud give endorsement",
           "donna shalala"
          ],
          [
           "one things dad enjoyed fishing",
           "andy beshear"
          ],
          [
           "whether conference center spaces hotels motels actually working national guard potential mobile hospital",
           "david coulter"
          ],
          [
           "really young mom friend casting director boston",
           "ben affleck"
          ],
          [
           "want get trump unify around democratic candidate number two unify around person best shot turning democratic base winning states across country",
           "pramila jayapal"
          ],
          [
           "would pass tax cuts would benefit narrow narrow paying elections",
           "cal cunningham"
          ],
          [
           "concerned hearing firefighters nurses others spoken need triage tests people getting quick test results really imperative",
           "maura healey"
          ],
          [
           "imperative faa act quickly ensure safety passengers severe allergies including epinephrine auto injectors emks",
           "tammy duckworth"
          ],
          [
           "leadership means able adapt exactly party",
           "tom perez"
          ],
          [
           "sorry disjointed effort",
           "joe biden"
          ],
          [
           "really pace unprecedented l unmatched across country",
           "curren price"
          ],
          [
           "additional resources harden networks",
           "stephanie murphy"
          ],
          [
           "tragic loss air force ellsworth family",
           "maggie hassan"
          ],
          [
           "try little give fire really good head start call",
           "scott richards"
          ],
          [
           "lot greats amazing career players go sunset know come around occasions",
           "eric garcetti"
          ],
          [
           "got great team fantastic think done impressive job campaign trail think right fantastic job fusing biography policies",
           "julián castro"
          ],
          [
           "want discussion discussion called liar",
           "bernie sanders"
          ],
          [
           "looking changing systemic racism exists within city government",
           "martin j. walsh"
          ],
          [
           "first website available hours day days week people want apply want certify",
           "bill mccamley"
          ],
          [
           "know sorry rush limbaugh ill never want wish bad stuff people stage four cancer sorry thought medal honor freedom supposed go people actually stuff",
           "whoopi goldberg"
          ],
          [
           "said start meeting read slides point leadership needs take away program need help",
           "ralph campbell"
          ],
          [
           "bars everybody",
           "tim walz"
          ],
          [
           "work earning income many job provide sense purpose belonging satisfaction knowing labor provides value world everyone ability feel pride many workers provided dignity respect safety deserve laws help change",
           "gavin newsom"
          ],
          [
           "new era vibrant collaboration shared dreams united impetus change let us welcome new year new mayor vigor excitement accomplish city together",
           "rosa delauro"
          ],
          [
           "everyone needs test",
           "nancy pelosi"
          ],
          [
           "impeachment inquiry issued subpoena associates rudy giuliani involved president scheme",
           "eliot engel"
          ],
          [
           "oregon senate hospice progressive legislation",
           "mitch greenlick"
          ],
          [
           "lot moving parts getting arms around",
           "jim gray"
          ],
          [
           "senators running president",
           "pete buttigieg"
          ],
          [
           "reach little",
           "joe biden"
          ],
          [
           "bring global awareness importance sustainability fashion consumerism relates climate change production consumption ocean pollution labour women",
           "elizabeth banks"
          ],
          [
           "really mean win unify nation",
           "joe biden"
          ],
          [
           "go internet pay fee one click get printed certificate says need emotional support animal",
           "manny diaz"
          ],
          [
           "since babies kickin storm",
           "jimmy fallon"
          ],
          [
           "happen think online learning best alternative also happen think students learn best classroom teacher",
           "gov. john bel edwards"
          ],
          [
           "unfortunately today learned first covid related death state",
           "laura kelly"
          ],
          [
           "thank castro powerful voice proposing bold progressive plans using campaign help people need",
           "elizabeth warren"
          ],
          [
           "whatever reasons followed lot issues discussed campaign think stood right wing extremism potent washington right answer asking well thing know rally american people around progressive agenda",
           "bernie sanders"
          ],
          [
           "democratic candidate united states senate look like see help",
           "joe biden"
          ],
          [
           "dealing middle east need think next next next move checkers",
           "pete buttigieg"
          ],
          [
           "need make public universities colleges trade schools tuition free everyone like high schools need cancel student debt fund small tax wall street speculation",
           "bernie sanders"
          ],
          [
           "mother son experiences severe disabilities know firsthand difference direct support professionals make lives work",
           "maggie hassan"
          ],
          [
           "important states smaller scale go early nominating contest make sure candidates hear directly people authentic conversations happen",
           "chris pappas"
          ],
          [
           "things get better reschedule",
           "kathy sheehan"
          ],
          [
           "critical stand inciteful messages assuage fears communities dispelling untruths misinformation",
           "ayanna pressley"
          ],
          [
           "black unemployment record low",
           "jim mcgovern"
          ],
          [
           "think anyone knows big",
           "sheryl sandberg"
          ],
          [
           "apologists dictatorship cuba russia saudi arabia always say bad things good things way making seem like us utterly wrong",
           "tom malinowski"
          ],
          [
           "right rules modified",
           "steny hoyer"
          ],
          [
           "people extra time hands call community senior center get volunteer list",
           "jared polis"
          ],
          [
           "must end need put politics aside lives stake cannot afford delay",
           "tulsi gabbard"
          ],
          [
           "action passes put victims risk",
           "jerry brown"
          ],
          [
           "want schools good want roads good rely good government",
           "elizabeth warren"
          ],
          [
           "commend irs following request allow north jersey residents flexibility pay housing child care medical care help small businesses pay employees time consumer demand unpredictable",
           "josh gottheimer"
          ],
          [
           "happened april never happened",
           "diana degette"
          ],
          [
           "bold yet minor step forward world sports gambling",
           "strom peterson"
          ],
          [
           "much going yield corruption system system broken decades door real change opened crack went",
           "elizabeth warren"
          ],
          [
           "depth research handbooks schools finding schools discriminatory practices quite explicit specific toward sex dynamics whether child family others also included anti trans youth policies",
           "anna eskamani"
          ],
          [
           "explore measures grant provisional approvals lifeline subscribers become eligible directly via qualifying support programs",
           "doris matsui"
          ],
          [
           "looking make difference new year participate census",
           "jared huffman"
          ],
          [
           "kylie sit next favorite make billion dollars kylie billion dollar baby always dearest heart billion reasons",
           "kim kardashian"
          ],
          [
           "humbled honored join draper richards kaplan foundation community",
           "matt dunne"
          ],
          [
           "built wide coalition teachers preschool teachers middle school teachers teachers pets accept money billionaires got give one swalley live tv",
           "elizabeth warren"
          ],
          [
           "playing politics american people",
           "chuck schumer"
          ],
          [
           "put really terrible position interview already ran context interview everyone seemed fine including lisa leslie",
           "oprah winfrey"
          ],
          [
           "spiking apex higher thought apex sooner thought bad combination facts clear must dramatically increase hospital capacity meet highest apex",
           "andrew cuomo"
          ],
          [
           "continuous use technology broad untargeted surveillance purposes constitutes unacceptable mass violation privacy could chill new yorkers right free speech freedom assembly",
           "brad hoylman"
          ],
          [
           "still insist stopping ttp supposition memo document department homeland security says must punish states",
           "andrew cuomo"
          ],
          [
           "understand canceling classes moving continuous learning platform cannot replicate",
           "laura kelly"
          ],
          [
           "still coming back see get back race pain really telling character one hardest workers team see pay like really exciting",
           "maggie williams"
          ],
          [
           "time tens millions women use birth control valid reason restrict woman access safe widely used preventive services simply employer approve private medical decisions",
           "bernie sanders"
          ],
          [
           "sheltering place works like give anyone get anyone",
           "tom hanks"
          ],
          [
           "stop criminalizing mental illness",
           "joe kennedy iii"
          ],
          [
           "number two major country earth guarantee paid medical leave",
           "bernie sanders"
          ],
          [
           "abbott laboratories committed testing sites state california working hospital systems",
           "gavin newsom"
          ],
          [
           "question systemic racism penetrated every level system city immune",
           "pete buttigieg"
          ],
          [
           "choruses record fucking thousand people gon na sing gon na bring everyone fucking hearts together moment",
           "dave grohl"
          ],
          [
           "comes secondhand smoke know harm person especially children",
           "herb conaway"
          ],
          [
           "protecting public health means keeping people secure housing know challenge right economy workers severely impacted crisis",
           "london breed"
          ],
          [
           "choice fire order stop mr dioso killing inflicting serious physical injury",
           "michael mcmahon"
          ],
          [
           "asked would ok wrote zillionaire trump said fine",
           "fran drescher"
          ],
          [
           "course flexibility",
           "jamie pedersen"
          ],
          [
           "massachusetts health care providers public health leaders everything stem crisis respond covid outbreak",
           "elizabeth warren"
          ],
          [
           "notwithstanding federal action unless bold measures taken state likely lose percent california restaurants",
           "gavin newsom"
          ],
          [
           "true dad",
           "kim kardashian"
          ],
          [
           "stepped bathroom mirror straight ahead looked behind see claudia closing door",
           "harvey weinstein"
          ],
          [
           "covid pandemic unlike anything illinois faced recent memory today major disaster declaration ensure families individuals opportunity receive increased federal assistance government help governor pritzker addresses unprecedented public health economic crisis",
           "dick durbin"
          ],
          [
           "love state lot",
           "amy klobuchar"
          ],
          [
           "wish every time get introduced powerful woman almost cry wish true",
           "nancy pelosi"
          ],
          [
           "strong boards essential strong governance",
           "maxine waters"
          ],
          [
           "divorce jennifer garner biggest regret life",
           "ben affleck"
          ],
          [
           "pleased see agreement williamson memorial hospital williamson health wellness ensure mingo county residents lose access healthcare middle unprecedented pandemic",
           "joe manchin"
          ],
          [
           "want see roe decision changed changed would find states tomorrow providing kind protection roe v wade change thing called nondelegation doctrine say epa determine clean air clean water done condemned kids environment powerful determine outcome health",
           "joe biden"
          ],
          [
           "loves like know class mom debating like going something planned",
           "kim kardashian"
          ],
          [
           "opportunity make another people enjoyed feel obliged make sure efforts ambitious started sense responsibility customers",
           "harrison ford"
          ],
          [
           "forgot tell eat ugandan grown foods",
           "president barack obama"
          ],
          [
           "identify issues part happy quality people brought excited",
           "manny diaz"
          ],
          [
           "like somebody little bit public process us foregone conclusion structure goes maybe",
           "john engen"
          ],
          [
           "people know percent safe worry happen vaccine",
           "andrew cuomo"
          ],
          [
           "president act people die could lived otherwise",
           "bill de blasio"
          ],
          [
           "radical women bend want work across aisle want policies green new deal medicare socialism america",
           "alexandria ocasio-cortez"
          ],
          [
           "based best possible science",
           "nancy pelosi"
          ],
          [
           "intentional avoidance critical thinking logic examining something",
           "alexandria ocasio-cortez"
          ],
          [
           "let guard cling false hope april tougher march may even tougher",
           "bill de blasio"
          ],
          [
           "american americans",
           "joe biden"
          ],
          [
           "unfortunately people color ones often undercounted leads negative consequences communities proud work governor cuomo ensure every new yorker even hardest reach counted census",
           "martin luther king iii"
          ],
          [
           "completely back feet seat governor since saturday",
           "phil murphy"
          ],
          [
           "today world lost true giant history rock roll inspiration millions unmistakable sound spawned generations musicians like pick two sticks chase dream kind thoughtful brilliant man ruled radios turntables drumming also beautiful words",
           "dave grohl"
          ],
          [
           "students unable attend school feasible move forward testing",
           "phil murphy"
          ],
          [
           "important part bill people children like mammoth task trying get grocery store two little kids",
           "marlon kimpson"
          ],
          [
           "many years congress republican administrations democratic administrations abdicated constitutional responsibility time congress take responsibility back",
           "bernie sanders"
          ],
          [
           "one yeah going vote trump",
           "bernie sanders"
          ],
          [
           "celebrate game pass torch next generation fans",
           "bill nye the science guy"
          ],
          [
           "rest paradise rest power please sing grandma",
           "rosario dawson"
          ],
          [
           "end year assault working class suffering caused people",
           "bernie sanders"
          ],
          [
           "getting clearer picture america future looks lot like america past",
           "elizabeth warren"
          ],
          [
           "absolutely essential win whoever nominee wholehearted support",
           "nancy pelosi"
          ],
          [
           "stood vocal warm ups audience something intimate realise oh yeah f ing dude",
           "dave grohl"
          ],
          [
           "position win nomination democrats based polling",
           "bernie sanders"
          ],
          [
           "communities state illinois ignored like black communities",
           "la shawn k. ford"
          ],
          [
           "somehow got change",
           "peter defazio"
          ],
          [
           "even graduated high school",
           "katie hill"
          ],
          [
           "powerhouse think going really tall woman meet little cute",
           "gillian anderson"
          ],
          [
           "american people deeply concerned grotesque level income inequality country want corporations start paying fair share taxes overwhelming support",
           "bernie sanders"
          ],
          [
           "continue work day night scour global supply chain",
           "jb pritzker"
          ],
          [
           "heard first two fifty states two nation half nation two come opening bell",
           "joe biden"
          ],
          [
           "complex issues dealing right simple solve would solved already",
           "leslie richards"
          ],
          [
           "seen voters knew public sentiment harsh able get republicans co sign",
           "nicole lefavour"
          ],
          [
           "think need american people win case made need president bring people together fired democratic base also independents moderate republicans many watch fox",
           "amy klobuchar"
          ],
          [
           "appropriate buy food week",
           "eric garcetti"
          ],
          [
           "think first third instead iowa",
           "dina titus"
          ],
          [
           "want democrat win know fight like republican",
           "joy reid"
          ],
          [
           "vast amount indisputably real depressingly negative occurrences happening across globe currently forefront everyone mind global covid pandemic real concern proper precautions need taken everyone order protect risk elderly infirm immunocompromised indeed scary time hyper connected age never ending news cycle atrocity outrage lurid click bait headlines mention ill informed lunatics running amok spreading misinformation panic social media easy lose sight fact life still carrying good things fact still happen",
           "randy blythe"
          ],
          [
           "slept two days",
           "oprah winfrey"
          ],
          [
           "first one says pass bills law going reflect lower automobile liability insurance premiums may seen past mean support things",
           "governor john bel edwards"
          ],
          [
           "educator getting information schools difficult",
           "derrick graham"
          ],
          [
           "tax shelter high wealth individuals trust funds",
           "wayne goodwin"
          ],
          [
           "hernandez location precise moment bullet landed matter one whit",
           "ruth bader ginsburg"
          ],
          [
           "would hope spirit teamwork see incursions members",
           "gregory meeks"
          ],
          [
           "know neither us mom first second favorite family believe lying audience blown credibility entire interview",
           "andrew cuomo"
          ],
          [
           "joe record delivering working families including passing obamacare defeating nra twice two issues improved lives constituents americans across country",
           "alcee hastings"
          ],
          [
           "want public know voting joe biden south carolina voting joe biden",
           "jim clyburn"
          ],
          [
           "administration penny wise pound foolish funding studies allow new york prepare next superstorm",
           "charles schumer"
          ],
          [
           "scared cause never worn white wan na get right yeah really wan na try never worn white still tonight cause really wan na say",
           "katy perry"
          ],
          [
           "overburdening schools mandates",
           "richard stark"
          ],
          [
           "extremely unfair people iowa unfair candidates candidates supporters",
           "bernie sanders"
          ],
          [
           "going start indiana jones two months",
           "harrison ford"
          ],
          [
           "country severe disadvantage compared every major country earth guarantee healthcare people right",
           "bernie sanders"
          ],
          [
           "remaining positive know safe",
           "hunter biden"
          ],
          [
           "shakira barranquilla bronx two us never could imagined would playing super bowl one day",
           "jennifer lopez"
          ],
          [
           "well know left office practice stopped new york city percent types stops stopped left office",
           "muriel bowser"
          ],
          [
           "felt like tested much would acquiesce realized power setting move onset coming committee",
           "george stephanopoulos"
          ],
          [
           "wisconsin country voters worried",
           "steve simon"
          ],
          [
           "white house measure report day every day many tests ordered many tests completed many tested positive next week number tests millions thousands",
           "joe biden"
          ],
          [
           "union perfect simple statement men women persons equal citizenship stature part fundamental instrument government",
           "ruth bader ginsburg"
          ],
          [
           "contrary law fact",
           "alan dershowitz"
          ],
          [
           "know leave dying vine artist time leave",
           "rob reiner"
          ],
          [
           "thankful today passed without incident teams successfully de escalated could volatile situation resulted weeks planning extensive cooperation among state local federal partners virginia beyond virginia law enforcement first responders demonstrated tremendous professionalism proud work spoken colonel settle state police colonel pike capitol police chief smith richmond police department well leaders fbi u attorney office thanked keeping virginia safe thousands people came richmond make voices heard today showed people disagree peacefully issues us evoke strong emotions progress often difficult continue listen voices virginians continue everything power keep commonwealth safe",
           "ralph northam"
          ],
          [
           "asking governor take strong step send profoundly impactful statement acknowledging happened bayard rustin wrong harmful stain state california",
           "scott wiener"
          ],
          [
           "andrew miss yang gang trail wait work together help prepare america challenges ahead",
           "pete buttigieg"
          ],
          [
           "fortunately minnesota rank high eto emissions science pointing far potent carcinogen previously thought puts people greater risk previously thought",
           "keith ellison"
          ],
          [
           "farmers become fall guys unwilling co ordinate proper river management plan",
           "pat murphy"
          ],
          [
           "like vote today tuesday also want vote biggest number balancing urgency sending powerful message",
           "steny hoyer"
          ],
          [
           "part dangerous growing pattern retaliation report wrongdoing find targeted president subject wrath vindictiveness",
           "chuck schumer"
          ],
          [
           "future male female believe humanitarian future partner supportive kind champion women children sensitive vulnerable still hottest guy beach",
           "katy perry"
          ],
          [
           "song kept playing attack",
           "jerry brown"
          ],
          [
           "way treat iowan",
           "tom steyer"
          ],
          [
           "elections perilously risk foreign interference way president likes",
           "adam schiff"
          ],
          [
           "god gives us everything many us give average try give back gives problem throw god keep thing",
           "herb wesson"
          ],
          [
           "senate rushes president impeachment actually fail try case constitution demands true acquittal president craves unobtainable",
           "chuck schumer"
          ],
          [
           "bottom line stay home except essentials essential fresh air exercise",
           "rick kriseman"
          ],
          [
           "photos exist therefore cannot viewed much less google search abruzzo",
           "joseph abruzzo"
          ],
          [
           "state wants best interest families",
           "janet petersen"
          ],
          [
           "mean sorry one thing marriage never involved sending hush money porn star cheating spouse",
           "pete buttigieg"
          ],
          [
           "good implying addition space counting rummy points",
           "lady gaga"
          ],
          [
           "biggest thing counts essential services",
           "charlie justice"
          ],
          [
           "dancechallenge leg move end",
           "jessica alba"
          ],
          [
           "listen congress media definition reality",
           "bernie sanders"
          ],
          [
           "sweet sweet child home homework could go mall later",
           "amy klobuchar"
          ],
          [
           "six page memo know everyone read fully resonated everyone",
           "michael zucchet"
          ],
          [
           "going difficult senators stand president",
           "adam schiff"
          ],
          [
           "well right economy really great people like mr bloomberg billionaires",
           "bernie sanders"
          ],
          [
           "think ultimate resolution comes vaccine months",
           "andrew cuomo"
          ],
          [
           "somebody accused nonviolent felony misdemeanor jail years time unconvicted hundred dollars family come makes sense",
           "andrea stewart-cousins"
          ],
          [
           "anything going make unpopular mayor ever going closing playgrounds",
           "joseph ganim"
          ],
          [
           "success countering russia malign influence campaigns must let guard",
           "james langevin"
          ],
          [
           "biggest concern enough staff relocate people already crisis",
           "lisa poppaw"
          ],
          [
           "protect customers essential workers",
           "phil murphy"
          ],
          [
           "walked shaved head put baseball cap brother law brought",
           "joe biden"
          ],
          [
           "beauty technology virus would able escape nanoviricide mutations genomic changes matter much changes mutated virus still lands cellular receptor fashion earlier version",
           "richard blumenthal"
          ],
          [
           "tests blood determine whether antibodies means virus resolved virus",
           "andrew cuomo"
          ],
          [
           "intent program clear keep america hardworking aviation professionals jobs direct payroll payments treasury department",
           "nancy pelosi"
          ],
          [
           "everything tests difficult come federal plan every state said wild west",
           "j. b. pritzker"
          ],
          [
           "biden",
           "joe biden"
          ],
          [
           "think happened impeachment political support people thought going impeachment fell flatter thought",
           "barney frank"
          ],
          [
           "report shows increased recognition prevalence human trafficking",
           "josh kaul"
          ],
          [
           "love super bowl two women performing year two latinos",
           "jennifer lopez"
          ],
          [
           "clemency requests obviously weighty decision",
           "jared polis"
          ],
          [
           "neighbors experiencing homelessness greater risk exposure covid city region country must act urgency address ongoing impacts public health crisis working partnership public health officials king county continue work providers help individuals currently shelters well expand shelter locations resources vulnerable individuals",
           "jenny durkan"
          ],
          [
           "president lawyers contest facts talking demand see full record",
           "jason crow"
          ],
          [
           "michael atkinson man integrity served nation almost two decades",
           "chuck schumer"
          ],
          [
           "complexity unique circumstances requires additional conversation",
           "gavin newsom"
          ],
          [
           "think possible mail ballots",
           "joe biden"
          ],
          [
           "know delegates chosen",
           "amy klobuchar"
          ],
          [
           "joe biden spent nearly entire life public service knows government run integrity competence heart save lives save livelihoods afford let donald trump continue endanger lives livelihoods every american",
           "elizabeth warren"
          ],
          [
           "beds equipment need staff",
           "andrew cuomo"
          ],
          [
           "still capacity ship sea air everybody going access need",
           "brian schatz"
          ],
          [
           "called flavor ban exempts menthol vape shops ban",
           "frank pallone"
          ],
          [
           "think think stand give col vindman show much supported stand clap vindman get",
           "joe biden"
          ],
          [
           "really excited energy",
           "amy klobuchar"
          ],
          [
           "president sees number one goal get agreement place",
           "amy klobuchar"
          ],
          [
           "believe proposal inclusive value ledger potential truly revolutionary",
           "ron kim"
          ],
          [
           "structural changes needed world health organization prevent exploited china countries misinformation way engagement based american leadership",
           "steny hoyer"
          ],
          [
           "taking tool today",
           "tim walz"
          ],
          [
           "qualify security clearance",
           "john kerry"
          ],
          [
           "original usmca draft put forward trump administration left american workers exposed losing jobs mexico included unacceptable provisions lock high prescription drug prices fell short key environmental standards",
           "nancy pelosi"
          ],
          [
           "trouble remembering five r really come one r returning sanity foreign policy",
           "amy klobuchar"
          ],
          [
           "think opinion need take dramatically different approach dramatically different approach pre negotiate entire deal israel back palestinians corner think approach going work",
           "chris murphy"
          ],
          [
           "measures make sense protect public also protect hunters sportsmen think need continue work",
           "art staed"
          ],
          [
           "came forward real time report president conduct",
           "adam schiff"
          ],
          [
           "ncis new orleans pride pulled trigger",
           "scott bakula"
          ],
          [
           "rep shea deserves another chance heard",
           "laurie jinkins"
          ],
          [
           "think structuring trial way furthers case going coverup",
           "adam schiff"
          ],
          [
           "time throw energy planning know covid going gone april may july june august virus continue spread unless part think engaging sectors economy going really critical confidence safely",
           "gretchen whitmer"
          ],
          [
           "thought interesting story perspectives ben wrote male perspectives nicole wrote female perspective ridley scott going direct",
           "matt damon"
          ],
          [
           "south carolina spoke super tuesday spoke turnout incredible tuesday michigan mississippi missouri north dakota idaho washington state heard michigan counting big way",
           "joe biden"
          ],
          [
           "newcomer white house",
           "amy klobuchar"
          ],
          [
           "everyone needs stay home start beat virus prevent massive health crisis every person must remain home know may need food medicine essential items beyond anyone traveling going public includes public gatherings meetings",
           "jonathan nez"
          ],
          [
           "history understand extraordinarily brave people throughout history",
           "bernie sanders"
          ],
          [
           "mandates secondary sanctions conduct significant transactions russian defense intelligence sectors",
           "chris murphy"
          ],
          [
           "look people women elizabeth warren amy klobuchar kirsten gillibrand look records work national leaders biggest issues impacting america shame women left race",
           "senator kamala harris"
          ],
          [
           "resistance woman president male minority group male sexual orientation",
           "david plouffe"
          ],
          [
           "downside see stepping help someone obtained degree starting lifeline help take firm steps workforce benefits tremendous",
           "guillermo linares"
          ],
          [
           "told yesterday would get n95 masks public hospital system",
           "bill de blasio"
          ],
          [
           "everyone wants magic wand silver bullet circumstance like careful respecting process people ground know",
           "jerry brown"
          ],
          [
           "problem seems keep getting worse",
           "elizabeth warren"
          ],
          [
           "first tenure big banks like wells fargo submitted thousands fraudulent mortgages fha costing government millions dollars month leaving fha montgomery co founded company advises banks including wells fargo pay government back little possible defrauding fha",
           "elizabeth warren"
          ],
          [
           "corporate alternatives somehow step affordable comprehensive inclusive well worst outcome either",
           "pete buttigieg"
          ],
          [
           "nevada put together multigenerational multiracial coalition going win nevada going sweep country",
           "bernie sanders"
          ],
          [
           "alexa equipment working recordings hesitant leave course want babies",
           "christie brinkley"
          ],
          [
           "responded believe woman could win",
           "bernie sanders"
          ],
          [
           "twenty years gone think women knowing put dress years later resonated like yes know life",
           "jennifer lopez"
          ],
          [
           "new york city must develop immediate plan correct situation",
           "andrew cuomo"
          ],
          [
           "got seven candidates seven candidates going forward extraordinary",
           "terry mcauliffe"
          ],
          [
           "senate strong feelings going allow",
           "debbie dingell"
          ],
          [
           "recognition peers like nice feeling get nominated devastating way goes",
           "randy newman"
          ],
          [
           "turbulent time affected small business owners need support",
           "laura kelly"
          ],
          [
           "wish still senate know able impact things hope nominee democratic party hope able get message across go forward",
           "joe biden"
          ],
          [
           "able test quickly within hours",
           "gavin newsom"
          ],
          [
           "nice deflection mr president false claims fool one",
           "adam schiff"
          ],
          [
           "budget reflects necessary support administration efforts achieve required transformation pg e within bankruptcy process",
           "gavin newsom"
          ],
          [
           "grandmas want knit sweaters bake cookies",
           "jimmy fallon"
          ],
          [
           "might able knows",
           "joe biden"
          ],
          [
           "since stop people coming wanting return containers allow many people inside must space line result lot people waiting outside",
           "jules bailey"
          ],
          [
           "made work people step case bry hit two late fourth quarter",
           "john hickey"
          ],
          [
           "might need attorney first episode comes",
           "kim kardashian west"
          ],
          [
           "president team would like nothing provoke bitter conflict",
           "adam schiff"
          ],
          [
           "tolerate use false information false accounts attack opponents promote campaign undermine elections",
           "elizabeth warren"
          ],
          [
           "castro massive literacy program bad thing even though fidel castro",
           "bernie sanders"
          ],
          [
           "policies appeal america",
           "liz mathis"
          ],
          [
           "look forward continuing conversations wide range stakeholders perspectives across country",
           "chris coons"
          ],
          [
           "reality tests demonstrating",
           "andrew cuomo"
          ],
          [
           "know enormous pressure support biden",
           "bernie sanders"
          ],
          [
           "feels like moving toward goals",
           "mikie sherrill"
          ],
          [
           "one thing making manhattan open space",
           "andrew cuomo"
          ],
          [
           "senator kicking butt",
           "nina turner"
          ],
          [
           "coronavirus pandemic truly hitting every corner community ripple effects even contract virus",
           "max rose"
          ],
          [
           "millions kids school struggling go online class",
           "jessica rosenworcel"
          ],
          [
           "deeply blessed met miguel maestre met oprah met madonna met exceptional human beings alive level",
           "perez hilton"
          ],
          [
           "change calculus",
           "john gannon"
          ],
          [
           "tracks modestly along lines total population",
           "gavin newsom"
          ],
          [
           "worry close quarters could cause mass infection",
           "josh green"
          ],
          [
           "mother sister friend consider friend",
           "rep. ilhan omar"
          ],
          [
           "difference huge ripple effect women need shift thinking ready thinking want learn",
           "sheryl sandberg"
          ],
          [
           "committed blocking funding yucca",
           "nancy pelosi"
          ],
          [
           "package would represent important step u response coronavirus pandemic",
           "heidi shierholz"
          ],
          [
           "seventy percent cps community low income get least two instances three meals day",
           "lori lightfoot"
          ],
          [
           "morning trump took twitter say esper page",
           "stephen colbert"
          ],
          [
           "waiting federal government step help fix problem",
           "david ryu"
          ],
          [
           "decided either going support someone democratic socialist somebody long history republican",
           "tom steyer"
          ],
          [
           "people may prefer go polls lower number healthier everyone",
           "nancy pelosi"
          ],
          [
           "proposing get done everybody making pay percentage paying making",
           "joe biden"
          ],
          [
           "two thirds democrats senate bill",
           "amy klobuchar"
          ],
          [
           "reject notion must rush confirm anybody post",
           "chuck schumer"
          ],
          [
           "weird voicing opinion almost considered radical democratic party saying maybe iowa new hampshire go first say single payer health care something make sense",
           "julian castro"
          ],
          [
           "either county needs declare city mayors needs issue unified way",
           "raul ruiz"
          ],
          [
           "claim treat prevent covid",
           "letitia james"
          ],
          [
           "nancy pelosi",
           "john kerry"
          ],
          [
           "cannot delay postpone",
           "joe biden"
          ],
          [
           "comes every one us virus spread close contact",
           "kc becker"
          ],
          [
           "thing know sure must summon spirit saw previous generations america darkest hours",
           "chuck schumer"
          ],
          [
           "actually miss",
           "harriet drummond"
          ],
          [
           "stable prepared professional teachers also teacher looks like incredibly important particularly comes african american achievement",
           "gavin newsom"
          ],
          [
           "sadly search one step back slow movin dreams",
           "joe biden"
          ],
          [
           "health care workers everyone providing emergency medical services incredible work help us fight covid",
           "gretchen whitmer"
          ],
          [
           "unfair regressive cruelest taxes",
           "phil murphy"
          ],
          [
           "sheriff preference cfo formal accounting background",
           "brett mandel"
          ],
          [
           "team arrest women children day long",
           "ayanna pressley"
          ],
          [
           "really want redeem think owe one",
           "jimmy fallon"
          ],
          [
           "gives strength inspiration",
           "andrew cuomo"
          ],
          [
           "asking crisis going crisis incredibly consequential millions millions americans going solved change tax policy going solved deal health care going solved emergency need right first thing make sure health care available us tools able deal requires us go much president done terms planning",
           "joe biden"
          ],
          [
           "head election year republicans declared president trump free rein pressure foreign governments investigating political opponents even actions threaten national security security allies",
           "kirsten gillibrand"
          ],
          [
           "djing prom friends friday night",
           "john krasinski"
          ],
          [
           "president trump good morning pandemic coronavirus",
           "chuck schumer"
          ],
          [
           "glitch fixed",
           "j.b. pritzker"
          ],
          [
           "preparing situation situation cause undue fear among people",
           "andrew cuomo"
          ],
          [
           "emergency ordinance correct course move vulnerable unhoused individuals congregate settings street private hotel rooms quickly possible finally self quarantine shelter place like us blessed enough home",
           "hillary ronen"
          ],
          [
           "greatest public health challenge state right coming special strategy new york state department health commissioner howard zucker focus",
           "andrew cuomo"
          ],
          [
           "women half voting population essential part leadership happens",
           "stacey abrams"
          ],
          [
           "problem prayer think also something holding meeting find someone prayer",
           "mike lowry"
          ],
          [
           "well beto rourke said going take guns",
           "joe biden"
          ],
          [
           "glenn fine one experienced respected igs service goes back many years parties partisan bone body",
           "claire mccaskill"
          ],
          [
           "manufacture ppe implore",
           "andrew cuomo"
          ],
          [
           "rate infection least new mexico side although got several arizona residents hospitals seeing much higher hospital rate much younger hospital rate much quicker go right vent rate population",
           "michelle lujan grisham"
          ],
          [
           "wife read said running",
           "paul mark"
          ],
          [
           "see pictures tv getting situation put bodies trucks parking lots",
           "andrew cuomo"
          ],
          [
           "want commend victims come forward bravely recounted happened hope victims sexual violence find strength healing move forward",
           "jackie lacey"
          ],
          [
           "trust getting accurate information",
           "pramila jayapal"
          ],
          [
           "one restart operate known fans buildings",
           "adam silver"
          ],
          [
           "well different question whether white house lawyers found",
           "adam schiff"
          ],
          [
           "capital murder suspect",
           "nelson wolff"
          ],
          [
           "nonpartisan observers placing chances taking back state house better bernie top ticket think throws entire formula question",
           "rafael anchia"
          ],
          [
           "created awesome organization cooks fun know takes lot run",
           "mike richter"
          ],
          [
           "tough time nba family",
           "magic johnson"
          ],
          [
           "need stop calling labeling like china us",
           "whoopi goldberg"
          ],
          [
           "asked bernie much cost last time said find",
           "joe biden"
          ],
          [
           "course buddy fun bought car went vacations saved money",
           "elizabeth warren"
          ],
          [
           "ok since inside fridge baffling saw news reports going give guys tour fridge",
           "kim kardashian"
          ],
          [
           "kanye would come far ideas say normal need drawers voice functionality",
           "kim kardashian"
          ],
          [
           "trying make best bad",
           "oprah winfrey"
          ],
          [
           "americans see fit got choose socialist thinks capitalism root evil billionaire thinks money ought root power",
           "pete buttigieg"
          ],
          [
           "fact willing leave hometown leave family come hour need cannot thank enough",
           "bill de blasio"
          ],
          [
           "still going towards apex rate doubling slowing good news",
           "andrew cuomo"
          ],
          [
           "president turned russians dirty work help transmit articles impeachment senate house immediately begin another impeachment inquiry investigate matter thoroughly",
           "nancy pelosi"
          ],
          [
           "instance removing e cigarette flavors market including menthol promised four months ago",
           "dick durbin"
          ],
          [
           "think lose human beings think physical virus",
           "oprah winfrey"
          ],
          [
           "everything",
           "jennifer lopez"
          ],
          [
           "know means trying say",
           "andrew cuomo"
          ],
          [
           "withheld money withheld meeting used coerce ukraine political investigations covered obstructed us trying obstruct violated constitution",
           "adam schiff"
          ],
          [
           "actual hard work fight thing talking join us actually part solving challenges face los angeles",
           "eric garcetti"
          ],
          [
           "know long time full magnitudes decline",
           "betsey stevenson"
          ],
          [
           "still productive discussions committees timing worldwide threat assessment hearings",
           "adam schiff"
          ],
          [
           "document verified coming seattle cbp field office matches exactly process described cbp leadership briefing last week",
           "pramila jayapal"
          ],
          [
           "michael bloomberg billion buy every ad wants fact wipe away record everything dealing stop frisk foreign policy",
           "joe biden"
          ],
          [
           "worry coming back sat act ap exams already enough anxiety related moment",
           "gavin newsom"
          ],
          [
           "guiding principles changed people ag take anyone infringes rights well people commonwealth without fear favor",
           "josh shapiro"
          ],
          [
           "right agency decade perilous defunding",
           "phil murphy"
          ],
          [
           "huge problem trying get participate going difficult get republicans positively respond",
           "frank pallone"
          ],
          [
           "know could make difference children lives friends lives children lives helping fix broken system motivating publicity really care",
           "kim kardashian west"
          ],
          [
           "publicly attacked house impeachment inquiry calling constitutionally invalid ordered every single person working executive branch defy house impeachment inquiry",
           "zoe lofgren"
          ],
          [
           "shameful member congress would erase ptsd survivors",
           "ilhan omar"
          ],
          [
           "sen baker sen gordner great allies throughout process",
           "john yudichak"
          ],
          [
           "think secretary really trying make difficult folks vote guise election security",
           "john carmichael"
          ],
          [
           "make significant difference us",
           "andrew cuomo"
          ],
          [
           "kobe live forever heart los angeles remembered ages one greatest heroes",
           "eric garcetti"
          ],
          [
           "unfortunately increase number unfunded cleanup superfund sites follows repeated proposed budget cuts superfund program raises concerns epa failing effectively implement program",
           "frank pallone"
          ],
          [
           "nowhere provide rescission",
           "mark herring"
          ],
          [
           "reason race",
           "elizabeth warren"
          ],
          [
           "character ballot",
           "joe biden"
          ],
          [
           "deliver rural healthcare education without information like health care subsidize",
           "bernie sanders"
          ],
          [
           "need hours need make decision help families right operate business usual emergency status get job done",
           "nancy pelosi"
          ],
          [
           "lot people checking wrong box saying actively looking work home emergency",
           "peter defazio"
          ],
          [
           "created low budget meals help save money offer kids way learn something new",
           "alex padilla"
          ],
          [
           "proud minus voting record nra elected president get worse",
           "bernie sanders"
          ],
          [
           "people across society pushed margins forgotten politics",
           "sarah mcbride"
          ],
          [
           "giving everything",
           "president barack obama"
          ],
          [
           "lincoln percent change",
           "harold holzer"
          ],
          [
           "additional debt mint two coins",
           "rashida tlaib"
          ],
          [
           "groundhog day get every day routine almost lose track day week even meaning anymore also anxiety stress dealing want reopen soon possible",
           "andrew cuomo"
          ],
          [
           "lawsuit",
           "andrew cuomo"
          ],
          [
           "schools reopen weddings happen factories start able toast end favorite hangout soon possible hitting hard",
           "jay inslee"
          ],
          [
           "israeli people peace middle east mean support right wing racist governments currently exist israel",
           "bernie sanders"
          ],
          [
           "unconstitutional waste money stolen troops counter drug efforts service one man ego",
           "patrick leahy"
          ],
          [
           "could put contract",
           "luis arroyo"
          ],
          [
           "still within hospitals abilities handle load",
           "sylvester turner"
          ],
          [
           "continue celebrate time implore learn struggle opportunity blood sweat tears cultural past bright future",
           "diana richardson"
          ],
          [
           "going get legislators open possibility meeting virtually",
           "brian egolf"
          ],
          [
           "local districts contact students parents guardians directly information distribution looks like communities",
           "jb pritzker"
          ],
          [
           "died hang gliding accident true story",
           "jennifer aniston"
          ],
          [
           "engaged sort underground market arena use cutting thickening agent",
           "terri austin"
          ],
          [
           "passionate crusader social justice",
           "phil murphy"
          ],
          [
           "know past barack obama joe biden bad",
           "joe biden"
          ],
          [
           "even vote count iowa come end may fully accurate",
           "david scott"
          ],
          [
           "feature live stand shows special events activations netflix comedians artists around world",
           "ted sarandos"
          ],
          [
           "would deaths thing happened like hopkins county know folks might disagree sounds read number deaths every day",
           "andy beshear"
          ],
          [
           "ill fitting equipment make hard women service members men jobs",
           "kirsten gillibrand"
          ],
          [
           "accept responsibility ask campaign particular seems motivating behaviour others",
           "pete buttigieg"
          ],
          [
           "would better job trump",
           "bernie sanders"
          ],
          [
           "constituents hundreds come across country think right",
           "dianne feinstein"
          ],
          [
           "take risk someone new",
           "pete buttigieg"
          ],
          [
           "first votes state",
           "elizabeth warren"
          ],
          [
           "think necessity everyone really needs",
           "kim kardashian"
          ],
          [
           "hate anyone raised way full heart full love always pray president still pray president",
           "nancy pelosi"
          ],
          [
           "money goes big companies help employees used help employees must come strings attached ensure money goes maintain payroll enrich shareholders pay executive bonuses",
           "elizabeth warren"
          ],
          [
           "mike also gives away money philanthropy try help people live longer better lives",
           "stu loeser"
          ],
          [
           "perfection expression",
           "julianne hough"
          ],
          [
           "need avoid legislation limits consumers choices results unintended consequences harm californians",
           "lorena gonzalez"
          ],
          [
           "brave put awful lot held ground happy part life lot fun got fun part got headaches",
           "lucianne goldberg"
          ],
          [
           "continue support applaud bravery well acknowledge people helped along way rosemcgowan well stay safe",
           "alyssa milano"
          ],
          [
           "prioritize people get tests fit capacity",
           "andrew cuomo"
          ],
          [
           "cannot maintain social distancing",
           "andrew cuomo"
          ],
          [
           "individuals virginia shall remain place residence except provided order executive order extent individuals use shared outdoor spaces whether land water must times maintain social distancing least six fee person exception family household members caretakers",
           "ralph northam"
          ],
          [
           "cards close vest really means want senate trial zero concessions mitch mcconnell members party turning",
           "nancy pelosi"
          ],
          [
           "going take moment health care crisis make sure kids new way learning teachers new way teaching make sure four six lost months opportunity make best tough situation",
           "ned lamont"
          ],
          [
           "assisted breathing los angeles fire department called arrived several minutes later",
           "paul strauss"
          ],
          [
           "enormously important issues need serious debates",
           "bernie sanders"
          ],
          [
           "legislation ensure specific risk minimized future regardless outcome bankruptcy proceeding must keep large quantities hf communities future",
           "kenyatta johnson"
          ],
          [
           "feedfresh farmerjen jenandthegiantsquash",
           "eva longoria"
          ],
          [
           "evidence virus already present many communities serve efforts must aimed preventing spread",
           "steve bellone"
          ],
          [
           "wherever beds equipment would put people",
           "andrew cuomo"
          ],
          [
           "whole lot different sorts rain gardens one sort",
           "chris walsh"
          ],
          [
           "pressing hard limited number tests using appropriately",
           "j.b. pritzker"
          ],
          [
           "coloradans believe vaccines required",
           "julie gonzales"
          ],
          [
           "think acknowledge current sexual harassment discrimination trainings sufficient would still mired decades old problems",
           "phil murphy"
          ],
          [
           "put multiple layers robust oversight accountability transparency going everything see enforced",
           "chuck schumer"
          ],
          [
           "remember seeing photos smashed car",
           "jack black"
          ],
          [
           "due current safety concerns needs ongoing social distancing currently appears students able return school campuses end school year way suggest school year rather put efforts strengthening delivery education distance learning",
           "tony thurmond"
          ],
          [
           "next impossible enforce law people follow prohibition speed limits closing businesses sooner later freedom loving americans rebel",
           "jason lewis"
          ],
          [
           "generations families concert goers picnickers made memories",
           "brad lander"
          ],
          [
           "saw boston dublin canceled st patrick day celebrations think guidance places view say want keep people safe think got ta follow guidance medical experts give us",
           "j.b. pritzker"
          ],
          [
           "want fine people many folks going economic distress gotten message get message enforcement officer staring face person deserves fine going proceed",
           "bill de blasio"
          ],
          [
           "connect education systems economy",
           "amy klobuchar"
          ],
          [
           "spending hundreds millions dollars try protect status quo",
           "david cicilline"
          ],
          [
           "looking like going see debate stage next week reflect true diversity party",
           "cory booker"
          ],
          [
           "even answer question even gotcha question",
           "ted w. lieu"
          ],
          [
           "look forward keeping promises project",
           "tom butt"
          ],
          [
           "agencies cannot continue provide vital services loss time fix decade funding vital services vulnerable communities",
           "shenna bellows"
          ],
          [
           "candidates passionate followers",
           "bernie sanders"
          ],
          [
           "certainly organization capacity deal significant case load necessary",
           "david scott"
          ],
          [
           "always worth right thing",
           "tom steyer"
          ],
          [
           "baby keep distance please stay away words love times like gon na hours day lot people stand lucky man",
           "randy newman"
          ],
          [
           "skin already ability shed dead skin cells goal support skin massage brightening serum literally scrape gauze",
           "lady gaga"
          ],
          [
           "somehow another major country earth",
           "bernie sanders"
          ],
          [
           "paying attention news",
           "oprah winfrey"
          ],
          [
           "read books care people",
           "elizabeth warren"
          ],
          [
           "politicians free lie use facebook targeting system launch lies onto internet great velocity",
           "brian schatz"
          ],
          [
           "missing magnitude problem problem defined magnitude",
           "andrew cuomo"
          ],
          [
           "biggest part career ready take president economy exact kind industrial midwestern community pretends speak proven turn back guided community historic transformation",
           "pete buttigieg"
          ],
          [
           "one situation",
           "andrew cuomo"
          ],
          [
           "take common sense steps beginning ban new sales assault weapons",
           "pete buttigieg"
          ],
          [
           "see coronavirus crisis gripping nation exacerbated president unwilling unable provide kind credible leadership cannot good conscience continue mount campaign cannot win",
           "bernie sanders"
          ],
          [
           "new yorkers experienced city country like full scale war",
           "bill de blasio"
          ],
          [
           "must never let human rights recognized",
           "jim costa"
          ],
          [
           "believed public service rent paid living",
           "marian wright edelman"
          ],
          [
           "think relevant talk anything think woman feels assaulted every right world stand make claims think right make claims get public hearing public make conclusions",
           "bernie sanders"
          ],
          [
           "newly hospitalized yesterday three day averaging moving good news",
           "andrew cuomo"
          ],
          [
           "californians rejected donald trump donald john trump rouhani says iran never seek nuclear weapons trump downplays seriousness injuries iran attack us soldiers treated concussions trump says bloomberg wasting money campaign tune four million votes joe finally put end cynical attacks state people progress proud endorse joe president leader americans",
           "darrell steinberg"
          ],
          [
           "also face truth number casualties may actually even higher armed forces experienced world war ii words major major crisis must act accordingly",
           "bernie sanders"
          ],
          [
           "wish happen really wish internet kids see",
           "ben affleck"
          ],
          [
           "possible quite possible think bloomberg entering thing provides much greater possibility brokered convention",
           "chris spirou"
          ],
          [
           "people interested story",
           "charlize theron"
          ],
          [
           "concerns least publicly reported u consult allies prior action case put canada others fairly difficult complex situation ground",
           "bruce heyman"
          ],
          [
           "need low income housing high priced housing",
           "julian castro"
          ],
          [
           "limiting interpersonal interactions proven strategy slow reduce viral spread protect vulnerable among us individuals years age older people chronic underlying medical conditions people experiencing homelessness",
           "gavin newsom"
          ],
          [
           "profound injustice citizens toledo clean mess people made",
           "wade kapszukiewicz"
          ],
          [
           "intention ordained",
           "cyrus habib"
          ],
          [
           "great success maybe state could consider",
           "donzella james"
          ],
          [
           "said many times past several days state going get one new jersey family together must work neighboring states act together work coronavirus us us",
           "phil murphy"
          ],
          [
           "good trump good state state",
           "adam schiff"
          ],
          [
           "marlow",
           "joe biden"
          ],
          [
           "something changed going back",
           "bill de blasio"
          ],
          [
           "weekend beaches recreational areas literally packed everyone gathering crowd place around state putting others risk",
           "ralph northam"
          ],
          [
           "time make",
           "carl heastie"
          ],
          [
           "need better job city make people feel safe mom undocumented period time know like live fear",
           "ayanna pressley"
          ],
          [
           "question administration given us confidence plan strategy deal aftermath strike",
           "joe biden"
          ],
          [
           "got question tommy tim tam right proper way get daily dose vegemite",
           "tom hanks"
          ],
          [
           "mean beginning end first experience hollywood",
           "john krasinski"
          ],
          [
           "paying million dollars behalf erie county million dollars behalf westchester county billion dollars behalf city new york",
           "andrew cuomo"
          ],
          [
           "continue learn response continue evolve",
           "bill lee"
          ],
          [
           "districts need relief decision best interest students state",
           "tony thurmond"
          ],
          [
           "built affordable apartments half people transitioning streets half people struggling get",
           "mark ridley-thomas"
          ],
          [
           "adequately funding public schools premature",
           "margaret good"
          ],
          [
           "want go detail think great thing talking publicly capacity need",
           "bill de blasio"
          ],
          [
           "win order make change",
           "lois capps"
          ],
          [
           "builder know build know generate things charitable nature know pass success forward",
           "harvey weinstein"
          ],
          [
           "god saying jill time time come home",
           "jill biden"
          ],
          [
           "really divided country people waking anxiety",
           "oprah winfrey"
          ],
          [
           "feel comfortable saying",
           "joe biden"
          ],
          [
           "going zoom",
           "nelson wolff"
          ],
          [
           "democrats senators walk chew gum",
           "tom perez"
          ],
          [
           "finally empower local communities lead infrastructure development support safe vibrant growing neighborhoods",
           "pete buttigieg"
          ],
          [
           "friend joe donnelly",
           "amy klobuchar"
          ],
          [
           "innocent civilians dead",
           "pete buttigieg"
          ],
          [
           "end day much money got stand",
           "pete buttigieg"
          ],
          [
           "trump authorization congress go war iran potentially sets us course",
           "chris murphy"
          ],
          [
           "share vision america everyone counts",
           "julian castro"
          ],
          [
           "joe beau one running president",
           "joe biden"
          ],
          [
           "trials never forgotten values moral fiber parents passed made steels faith god america us",
           "president barack obama"
          ],
          [
           "foxes investigating misfortune hen house",
           "john rizzo"
          ],
          [
           "ecosystem industry care",
           "laurene powell jobs"
          ],
          [
           "accept rubble current institutions mcconnell president trump reason accept rubble actually trying solve anything",
           "michael bennet"
          ],
          [
           "ever wondered like able work great martinscorsese robert de niro chance",
           "leonardo dicaprio"
          ],
          [
           "please know get phone online claim backdated lose day benefits due",
           "robert asaro-angelo"
          ],
          [
           "whole world asking people iowa prepared stand fight justice",
           "bernie sanders"
          ],
          [
           "far mean beaten living hell saying going fun whatever",
           "joe biden"
          ],
          [
           "avoid confusion taking leave absence dmfi board primary season",
           "paul begala"
          ],
          [
           "true true checked diaper",
           "stephen colbert"
          ],
          [
           "provide takeout food",
           "london breed"
          ],
          [
           "say something even concerning intelligence community beginning withhold documents congress issue ukraine",
           "adam schiff"
          ],
          [
           "labor party happen get government next election hell pay",
           "chris smith"
          ],
          [
           "skipped iowa iowans insulted going new hampshire buying way race period dnc changed rules change senator harris change senator booker change secretary castro",
           "nina turner"
          ],
          [
           "understand answer look inside president mind",
           "jason crow"
          ],
          [
           "careone entity provided nurses last days",
           "john mccormac"
          ],
          [
           "president lawyers said time think hoping sheer repetition make something true fact untrue process impeachment different nixon clinton",
           "adam schiff"
          ],
          [
           "repeat enough virginians need stay home",
           "ralph northam"
          ],
          [
           "part continual degradation public trust",
           "tim kaine"
          ],
          [
           "momentum going want part momentum",
           "amy klobuchar"
          ],
          [
           "never allowed democratic primary",
           "anton j. gunn"
          ],
          [
           "fear street thugs fear bad landlords",
           "bill de blasio"
          ],
          [
           "belief statute know would make easier parents would know duty protect allow someone else continue abusing child required knowledge abuse",
           "jari askins"
          ],
          [
           "say going soon",
           "andrew cuomo"
          ],
          [
           "originally proposed one experiment would 75th anniversary nba heard back teams also media partners look something like multi year program",
           "adam silver"
          ],
          [
           "enormous service men women uniform general public",
           "john garamendi"
          ],
          [
           "need ice act",
           "linda sánchez"
          ],
          [
           "happened yesterday utterly unacceptable city chicago never hesitate enforce environmental safety regulations fullest extent possible encountering violations like big small",
           "lori lightfoot"
          ],
          [
           "may relationship beyond stronger profound bring love always deserved",
           "oprah winfrey"
          ],
          [
           "heart democratic party people color",
           "julián castro"
          ],
          [
           "despite flaws far better started time pass",
           "steny hoyer"
          ],
          [
           "like see language",
           "tom steyer"
          ],
          [
           "simple administration democratic republican sends americans battle us congress debate merits take vote",
           "tom carper"
          ],
          [
           "kidding",
           "andrew cuomo"
          ],
          [
           "movement coast coast demanding finally economy government works us wealthy campaign contributors",
           "bernie sanders"
          ],
          [
           "always easy ok know",
           "pete buttigieg"
          ],
          [
           "police ice collaboration police ice collaboration matter paint",
           "lori lightfoot"
          ],
          [
           "past year realized obsessed bodies",
           "rashida tlaib"
          ],
          [
           "went african american latino people outrageous way",
           "bernie sanders"
          ],
          [
           "know really want say right less politics much crisis country think really focus got moment",
           "elizabeth warren"
          ],
          [
           "long ago bad vote bernie sanders took current bad position bernie sanders holds",
           "pete buttigieg"
          ],
          [
           "believe one defeat trump",
           "tim robbins"
          ],
          [
           "look commander chief best health experts taking day day currently proceeding normal look joe biden suspending rallies dying get campaign trail man speak seven minutes",
           "bernie sanders"
          ],
          [
           "disingenuous talk reentry percent people released released shelters policies make impossible reunite family",
           "ayanna pressley"
          ],
          [
           "gotten inside chinese leadership calculus depth understanding know really effect cost calculus near term long term investing non nuclear",
           "seth moulton"
          ],
          [
           "folks missing",
           "bill lee"
          ],
          [
           "stop playing hands bad actors seek sow division confusion among electorate",
           "katie hill"
          ],
          [
           "offer sincere congratulations dr marla perez davis named nasa glenn permanent director",
           "marcy kaptur"
          ],
          [
           "lawsuit putting public accommodations state notice incidents blatant discrimination go unanswered",
           "leon howard"
          ],
          [
           "one thing kind holding back still sense know regulations going",
           "joe radinovich"
          ],
          [
           "clear criminal justice system unjust disproportionately impacts communities colour",
           "david trone"
          ],
          [
           "privately swears like sailor",
           "dana nessel"
          ],
          [
           "kind creating class race issue",
           "alexandria ocasio-cortez"
          ],
          [
           "happens page bill rush five days",
           "filemon vela"
          ],
          [
           "going sudden going drop restrictions",
           "jb pritzker"
          ],
          [
           "let direct cfpb resume supervising examining companies servicing trillion federal loans date",
           "cindy axne"
          ],
          [
           "present system cannot handle surge likely come",
           "joe biden"
          ],
          [
           "included negotiations discussion",
           "zoe lofgren"
          ],
          [
           "one issues differ",
           "sylvester turner"
          ],
          [
           "story injected fresh layer uncertainty risk democratic primary voters far recoiled intraparty warfare worried combat takes focus away defeating president trump",
           "elizabeth warren"
          ],
          [
           "nancy pelosi way advice success leadership politics america powerful woman",
           "christine pelosi"
          ],
          [
           "hear word valley flyer hear word upcoming berkshire flyer hear anything east west rail nothing like",
           "paul mark"
          ],
          [
           "artistic experiences made today like people get married say thick thin feel depressed grocery store seen photos gone well look like everything good secretly freaking world idea music movies charity born way want way philanthropy lot dreams hopes actually accomplish idea know people love sic",
           "lady gaga"
          ],
          [
           "jill biden teachers boca education secretary educator joe biden",
           "joe biden"
          ],
          [
           "space many doctors nurses forth",
           "governor john bel edwards"
          ],
          [
           "homelessness crisis impacts every community california us step lean find solutions nine days challenging california philanthropic private sectors partner state kaiser permanente answered call",
           "gavin newsom"
          ],
          [
           "need decency white house",
           "tim kaine"
          ],
          [
           "using abusing people whole life",
           "harvey weinstein"
          ],
          [
           "bondi trump lawyers spend day savaging bidens expected become crystal clear trump trying use trial ukraine destroy political rivals",
           "chris murphy"
          ],
          [
           "know might think point right",
           "andrew cuomo"
          ],
          [
           "increase carbon emissions going absolutely wrong way",
           "jan schakowsky"
          ],
          [
           "living outside houston found commuter college minutes away cost semester price could pay part time waitressing job finished four year diploma became special education teacher lived dream job",
           "elizabeth warren"
          ],
          [
           "one ever nomination without able get overwhelming support african american community either far one",
           "joe biden"
          ],
          [
           "bronx staten island everywhere seen new yorkers change neighborhood better great idea little funding support",
           "peter h. kostmayer"
          ],
          [
           "really frightening time",
           "patty murray"
          ],
          [
           "think run president pause united states",
           "gerald rafshoon"
          ],
          [
           "top ranking intelligence people military people one word mentioned",
           "bernie sanders"
          ],
          [
           "great supplement cheaper help people rent put shelters",
           "andrew hevesi"
          ],
          [
           "starr presided baylor time hundreds young women assaulted baylor policy indifference best",
           "jim dunnam"
          ],
          [
           "oprah vision tour",
           "julianne hough"
          ],
          [
           "even allowed canada",
           "jose peralta"
          ],
          [
           "sanders attacks baggage tell plus candidates campaigned toughest districts country two years ago see baggage",
           "joe biden"
          ],
          [
           "talk whether much point viable speculative actual viable threat already fired community goal point stop threat",
           "sim gill"
          ],
          [
           "jam early could throw gasoline fire reignite fire",
           "phil murphy"
          ],
          [
           "almost certainly anticipating recession",
           "chuck schumer"
          ],
          [
           "sanders people taking pictures wishing jeremy corbyn best press corps went aoc crazy got decide want want ideological cult want majoritarian instinct majority party urban core going get done need power understand without power nothing talking points",
           "james carville"
          ],
          [
           "safer keep car less exposure overall",
           "andrew cuomo"
          ],
          [
           "successfully resolve outstanding issues",
           "jared polis"
          ],
          [
           "working know almost",
           "lina hidalgo"
          ],
          [
           "proud daughter hialeah know far well means elected officials work communities instead bidding special interests",
           "cindy polo"
          ],
          [
           "go wash hands dave",
           "dave grohl"
          ],
          [
           "approach similar ones used san francisco illinois elsewhere",
           "derek kawakami"
          ],
          [
           "anyone calls claiming able send money asks personal information scammer",
           "phil weiser"
          ],
          [
           "major country earth guarantee healthcare people",
           "bernie sanders"
          ],
          [
           "spend mental health dollars june make sure mental health dollars get spent",
           "gavin newsom"
          ],
          [
           "program would allow us identify covid spreading community",
           "david ige"
          ],
          [
           "question whether undying support positions name id loyalty barack obama vice president",
           "tom steyer"
          ],
          [
           "across country colorado mobile home communities largest unsubsidized affordable housing imperative especially time affordable housing crisis everything protect parks",
           "edie hooton"
          ],
          [
           "circuit court judgment denying petitioner leave proceed complaint affirmed failed establish reasonable ground pursue claim enjoin payments bonds based theory laws authorizing violated state debt clause",
           "kwame raoul"
          ],
          [
           "sure died castro hands shot firing squads tortured live state suffered enormously regime million people fled sure think literacy program worth",
           "robert menendez"
          ],
          [
           "time hanging park",
           "london breed"
          ],
          [
           "intuitive reckless drivers disproportionately likely injure kill new yorkers something yet city state really focusing",
           "brad lander"
          ],
          [
           "old ways negotiating energy legislation time put consumers environment first going sign energy bill written utility companies",
           "jb pritzker"
          ],
          [
           "first know whistleblower met communicated way",
           "adam schiff"
          ],
          [
           "closer time past hours agreement still many problems proposed legislation",
           "charles schumer"
          ],
          [
           "literally people china shopping ventilators one largest manufacturers major problem",
           "andrew cuomo"
          ],
          [
           "action hurts workers need law protection three million temp staffing workers millions workers subcontracted jobs including agriculture janitorial construction warehousing rule disproportionately harm black latinx workers largely comprise workers jobs already pay less non outsourced jobs sector",
           "mark pocan"
          ],
          [
           "right right trying best make sure economic meltdown people die enough keep busy today",
           "bernie sanders"
          ],
          [
           "area country often talking inner cities public schools abysmal dysfunctional working children way legitimate ask would happen public schools increased competition private schools possible giving poor kids way force public schools improve result people coming back",
           "joe biden"
          ],
          [
           "former vice president particularly one barack obama getting crushed state",
           "justin bamberg"
          ],
          [
           "vice president biden strong record fighting women life",
           "kirsten gillibrand"
          ],
          [
           "keep people streets get better",
           "eric garcetti"
          ],
          [
           "yet alas trump administration working zealously turn government instrument hostility towards lgbtq rights across executive branch",
           "jamie raskin"
          ],
          [
           "time companies countries respond stakeholders address sustainability risks encounter growing skepticism markets turn higher cost capital",
           "laurence fink"
          ],
          [
           "focusing secured top spot primary",
           "mj hegar"
          ],
          [
           "sometimes list house suburbs get groups coming might two three times might get central city popular listing",
           "craig lowe"
          ],
          [
           "political newcomer record record fighting people",
           "amy klobuchar"
          ],
          [
           "going something discussed legislature job present responsible budget going",
           "andy beshear"
          ],
          [
           "house got nine democrats vote included kristin combative gentle hand",
           "jared moskowitz"
          ],
          [
           "let tell putin american people whether republicans democrats independents sick tired seeing russia countries interfering elections",
           "bernie sanders"
          ],
          [
           "size merv griffin jeopardy royalties",
           "tom hanks"
          ],
          [
           "add governor supplemental",
           "neal foster"
          ],
          [
           "much better place n95 mask still difficult piece personal protection equipment find",
           "jared moskowitz"
          ],
          [
           "know lev parnas tapes started concerted effort conspiracy try dig dirt hurt joe biden",
           "joe lockhart"
          ],
          [
           "know reach really important take time make sure get right",
           "gretchen whitmer"
          ],
          [
           "big part continue work started campaign possible hard work shared vision country",
           "pete buttigieg"
          ],
          [
           "going see surgical mask gloves surgical gowns sorts things made right new york city manufactured right protect fellow new yorkers",
           "bill de blasio"
          ],
          [
           "billion support cities towns providing equitable public transportation including improved options subway light rail bus rapid transit last mile service",
           "pete buttigieg"
          ],
          [
           "looking somebody come excite talk things really matter every day life interested socialism revolution foolishness hear",
           "james carville"
          ],
          [
           "federal funding help ensure community health centers provide critical health care services underserved communities part larger effort contain spread virus protect health safety new jerseyans",
           "cory booker"
          ],
          [
           "california values mean protecting public helping crisis committed supporting federal local health officials help fellow californians get tested healthy prevent exposure general public",
           "nancy skinner"
          ],
          [
           "medical experts telling us already disease potential completely overwhelm local hospital systems next several weeks health neighbors stake time waste",
           "andy berke"
          ],
          [
           "huge win immigrants public health everyone",
           "pramila jayapal"
          ],
          [
           "directive builds previous directives around school closures social distancing closure nonessential businesses bans public gatherings people requiring stay home unless leaving absolutely necessary",
           "steve sisolak"
          ],
          [
           "question mayor character",
           "elizabeth warren"
          ],
          [
           "earlier today governor murphy underwent successful surgery remove tumor kidney currently resting hospital new york city",
           "sheila oliver"
          ],
          [
           "individuals want face coverings good thing preferable thing addition physical distancing stay home order",
           "gavin newsom"
          ],
          [
           "must deciding things getting little tight",
           "joe biden"
          ],
          [
           "also case supply chain partners across spectrum goods movement important us keep supply chain fluid essential commodities going american public well medical supplies going health care professionals",
           "gavin newsom"
          ],
          [
           "north day refused shoot crying wanted specific hairstyle whatever said fine going card",
           "kim kardashian"
          ],
          [
           "way sham investigations desperately wanted investigations would hurt former vice president biden undermine mueller investigation russia election interference investigations would help cheat election",
           "val demings"
          ],
          [
           "like bernie ilikebernie",
           "bernie sanders"
          ],
          [
           "bernie sanders approve message need economy works us",
           "bernie sanders"
          ],
          [
           "happen mean still want know happened warning signs know answer know going happen",
           "andrew cuomo"
          ],
          [
           "one witness put impeachment inquiry united states aids ukraine people fight russia fight russia",
           "adam schiff"
          ],
          [
           "cannot run campaign donald trump",
           "bakari sellers"
          ],
          [
           "understand elected senator",
           "rebekah warren"
          ],
          [
           "let increase fast possible testing capacity find positives",
           "andrew cuomo"
          ],
          [
           "right obligation assess schools newark make sound recommendations limited resources used continue move district forward",
           "ras baraka"
          ],
          [
           "think direction need headed",
           "phil murphy"
          ],
          [
           "trayvon martin would today may 25th birthdays stolen us white supremacy gun violence fear",
           "pete buttigieg"
          ],
          [
           "mr bloomberg policies new york city stop frisk went african american latino people outrageous way",
           "bernie sanders"
          ],
          [
           "think would see eye eye issue",
           "todd kaminsky"
          ],
          [
           "disappointing former colleagues justice department agreed go along election year stunt",
           "gurbir grewal"
          ],
          [
           "kept hearing kinds stories friends mine schoolteachers bad situation teachers wanted something administration principals school staff support",
           "david parks"
          ],
          [
           "random act god caused environment need start connecting chain say need things less risky way",
           "al gore"
          ],
          [
           "top priority government protecting health safety residents",
           "steven reed"
          ],
          [
           "man blessed family sitting front like wife fantastic every way taught love five kids braver stronger wiser old man loving group people put away months months away time course otherwise standing put tell much love means",
           "tom hanks"
          ],
          [
           "pass put minds start working towards hopefully succeed instead",
           "donzella james"
          ],
          [
           "agree need get tests field increase manufacturing personal protective devices develop vaccine fast humanly possible pleased good consensus things",
           "jay inslee"
          ],
          [
           "scratched hard see like bleeding really get see detail",
           "kim kardashian"
          ],
          [
           "father always told make living make make life give",
           "al lawson"
          ],
          [
           "relationship jordan actor perspective great nothing tell",
           "leonardo dicaprio"
          ],
          [
           "know joe biden floor senate talking need cut social security medicare medicaid",
           "bernie sanders"
          ],
          [
           "standout features include sweeping views mississippi river selma valley historic nature castle grounds abundance recreational amenities available including hunting fishing hiking tennis golf boating horseback riding skeet shooting swimming",
           "michael hanrahan"
          ],
          [
           "think something certainly discussed commonwealth",
           "mike schlossberg"
          ],
          [
           "view president authority go war iran",
           "charles schumer"
          ],
          [
           "difference socialism trump socialism believe government help working families billionaires",
           "bernie sanders"
          ],
          [
           "sad report first death case covid new jersey prayers family difficult time",
           "sheila oliver"
          ],
          [
           "consistently abided agree essential business status",
           "dave kerner"
          ],
          [
           "every republican three investigative committees allowed participate depositions got time",
           "adam schiff"
          ],
          [
           "lot people even think would still standing point",
           "amy klobuchar"
          ],
          [
           "reminds beau",
           "joe biden"
          ],
          [
           "lay dark room several days social workers arrived home demanded see",
           "byron dorgan"
          ],
          [
           "china remarkably repository orders ventilators ppe goes back china long term figure wound situation manufacturing capacity country",
           "andrew cuomo"
          ],
          [
           "shorter ever staff getting sick",
           "bill de blasio"
          ],
          [
           "friends pass budget like first courage look second let us balance budget backs weak vulnerable order give huge tax breaks wealthy",
           "bernie sanders"
          ],
          [
           "man unprincipled private life desperate fortune bold temper possessed considerable talents advantage military habits despotic ordinary demeanour known scoffed private principles liberty man seen mount hobby horse popularity join cry danger liberty take every opportunity embarrassing general government bringing suspicion flatter fall non sense zealots day may justly suspected object throw things confusion may ride storm direct whirlwind",
           "adam schiff"
          ],
          [
           "cars else historically represented america problem dirty oil establishing nationwide network electric vehicle charging stations helps us reduce emissions creates good paying jobs help transition u economy cleaner future",
           "alexandria ocasio-cortez"
          ],
          [
           "need work china advance highest priority national interests including addressing climate crisis nonproliferation even time address areas little common ground",
           "elizabeth warren"
          ],
          [
           "taking campaign nevada",
           "amy klobuchar"
          ],
          [
           "mean everyone talks good game innovation try plenty critics end day feel extraordinarily cautious affecting regular season playoffs comes star game celebratory occasion hear say remember back day players competed different fashion star like lot things life change partnership players something think fun recognize want competitive game place necessarily want players go risk potential injury think something new intriguing fans",
           "adam silver"
          ],
          [
           "absolutely abuse power believe president essentially engage corrupt activity long believes assist reelection campaign campaign public interest stop president tasking intelligence agencies political investigations stop tasking justice department come credible incredible claim opponent deserves investigated argument would lead conclusion every right",
           "adam schiff"
          ],
          [
           "message event important know struggled",
           "hank sanders"
          ],
          [
           "thanks citywide efforts stay home socially isolate made important progress flattening curve stemming spread covid chicago",
           "lori lightfoot"
          ],
          [
           "ironic president day man president united states unlike president modern times guy george wallace george washington",
           "joe biden"
          ],
          [
           "one things seen since increase number people primarily using meth getting drug rehab programs try focus addressing addiction",
           "cindy chavez"
          ],
          [
           "senator alexander senior senate republican retiring member said loud think senate republicans believe private yes president withhold military assistance try get ukraine help election",
           "chuck schumer"
          ],
          [
           "penalties might killing granddad",
           "jay inslee"
          ],
          [
           "think violation international law guy bad news guy ranking official iranian government know get violating international law sense say lot bad people world running governments start business major country saying hey right assassinate unleashing international anarchy",
           "bernie sanders"
          ],
          [
           "duke energy approved collect dorian cost",
           "jim turner"
          ],
          [
           "commuter corridor us also covid corridor",
           "ned lamont"
          ],
          [
           "wore flats instead heels got reported news pearls belts cardigans rack dresses j crew apparently brave choice white inaugural gown seemed trigger slew opinions instant feedback seemed clothes mattered people anything say",
           "michelle obama"
          ],
          [
           "well fellow staff participants took aboard apollo brought ambitions whole country laid reveal globe american spirit see past appears inconceivable adequate drive well resourcefulness anything feasible",
           "president barack obama"
          ],
          [
           "protect privacy minnesota voters",
           "steve simon"
          ],
          [
           "genuinely caring compassionate person",
           "deval patrick"
          ],
          [
           "fun halftime show",
           "lady gaga"
          ],
          [
           "believe nation overcome four years donald trump given eight years white house forever fundamentally alter character nation let happen defeat donald trump",
           "joe biden"
          ],
          [
           "existing e currently underway projects essential business",
           "andrew cuomo"
          ],
          [
           "anyone seeks challenge defeat donald trump must prepared take full array disinformation foreign actors people around campaign use divide democrats suppress democratic votes erode standing democratic nominee",
           "elizabeth warren"
          ],
          [
           "dog owners large right four legged friends",
           "stephanie hansen"
          ],
          [
           "doh working hard complete respect tough decisions making talking clinicians across state calling beyond disbelief patients getting disapproved testing",
           "josh green"
          ],
          [
           "want cautious want avoid large crowds obviously asked seniors come extent government run things got get done yet complete shutdown",
           "george cardenas"
          ],
          [
           "understand inclusiveness means feel lonely places",
           "troy carter"
          ],
          [
           "main goal coming game try hardest defense bring energy team dirty work energize",
           "josh green"
          ]
         ],
         "hovertemplate": "party_label=D<br>x=%{x}<br>y=%{y}<br>quotation=%{customdata[0]}<br>speaker=%{customdata[1]}<extra></extra>",
         "legendgroup": "D",
         "marker": {
          "color": "#636efa",
          "symbol": "circle"
         },
         "mode": "markers",
         "name": "D",
         "showlegend": true,
         "type": "scattergl",
         "x": [
          -0.020651857478831734,
          -0.056094632275758324,
          0.043887884592084245,
          -0.06663809277384837,
          0.026987949126657834,
          0.015126971690328514,
          -0.040527908177350365,
          -0.03881409358576975,
          0.08489881590905884,
          -0.04161572596817306,
          0.08350572155795369,
          0.16028384301068332,
          0.10401009814844155,
          0.05359093073065176,
          -0.038808769524342146,
          -0.0474862678769846,
          -0.01951928570372832,
          -0.03650398138821976,
          -0.033640897655088695,
          -0.0439641950390102,
          -0.04592979885471506,
          -0.043211877067317155,
          0.019855981045171424,
          -0.02193751441609718,
          -0.03126787289789952,
          -0.043104935625828275,
          -0.05686478584185611,
          -0.046274769228807466,
          -0.0314074327526467,
          -0.04756350291046242,
          -0.027614222874284673,
          -0.028127423698481837,
          -0.03538630562894378,
          -0.03887396767610913,
          -0.033230670869118344,
          -0.03200463021641023,
          -0.01767932327219029,
          -0.0236429037046171,
          -0.037293948046743186,
          -0.03213916064217657,
          -0.03317567422897089,
          0.04069576627665105,
          0.007081198283616866,
          0.012439689386430981,
          -0.06607952218639437,
          0.22379378434053018,
          -0.03816070040598155,
          -0.03376163321771631,
          0.0027900213106056265,
          -0.015802022695879235,
          -0.0318382736567171,
          -0.04557238302661366,
          -0.041485095097161764,
          0.005835925282456563,
          -0.03067234078837045,
          -0.04117080327968605,
          -0.04150340047949775,
          -0.013137361619836528,
          0.16558402661098592,
          0.1444765944713409,
          -0.033833605462821555,
          -0.03636854808474029,
          -0.05545593127982903,
          -0.0378332149719276,
          -0.052217620604229555,
          0.04286183467018933,
          -0.047196567471625525,
          0.009385481966374735,
          -0.04425921819326661,
          -0.04190510039800445,
          -0.06179149744476623,
          -0.043756854684024106,
          -0.05219868699434746,
          -0.06032284772419962,
          -0.03622368502274386,
          -0.044123212283869485,
          0.2152637357556475,
          0.02690814677973286,
          -0.04171450319967329,
          0.003911081602627776,
          -0.047087828763029325,
          0.04127088560021265,
          -0.002105641683194817,
          -0.04541585461498781,
          -0.03785803878649524,
          -0.03158989520217625,
          -0.05395981717338646,
          -0.03498582186122679,
          -0.03046309523411586,
          -0.013370335402953393,
          0.0248201142633231,
          0.06632345083090822,
          -0.053909667161508086,
          -0.03592486541211189,
          0.0010271215702412388,
          -0.0398131003690527,
          -0.04702219593680746,
          -0.0186600534157751,
          0.036559957714553115,
          0.2182614039019311,
          0.1047153932771467,
          -0.01756012607853892,
          -0.04507112861422118,
          0.038929821898286116,
          0.09128302899384669,
          0.26961224890943886,
          -0.01711518532481847,
          0.09634567202121898,
          -0.010459171445934445,
          -0.04499907105906369,
          0.05534289846539724,
          -0.04448905917372881,
          0.08530388597623884,
          -0.035338320026877555,
          0.046072534620416175,
          -0.024373518784412396,
          0.06961176763083778,
          -0.04288767741529072,
          0.01729361063099308,
          0.09806827086736132,
          0.25840367877402687,
          -0.03582684258124811,
          0.034082130537322224,
          0.01020637818353068,
          -0.04094562218499858,
          -0.018603846827089394,
          -0.04686895551998403,
          -0.04825160645060306,
          -0.022264027966647188,
          -0.03844151179725629,
          0.03443885247825854,
          -0.014331967672903049,
          -0.029302869054051897,
          -0.05104637492378587,
          0.07838420583159222,
          0.006147652078657466,
          -0.012167043417541818,
          0.11008030531571807,
          -0.03428890646130382,
          -0.038386376454235004,
          0.0010461690234525821,
          -0.04474280336180034,
          -0.02379148861469381,
          -0.036073013015857414,
          0.0061076547450245764,
          -0.04708535055913118,
          -0.04111064334617309,
          -0.03853621104703533,
          -0.009604147123650864,
          0.05860390874978701,
          0.06146594636158085,
          -0.04142287195910843,
          -0.03889494462782258,
          -0.036408258761545506,
          0.04395970212450282,
          -0.030924231154105346,
          0.15347584410576118,
          0.006331322507041563,
          0.06586490416896432,
          -0.0038507638389914537,
          -0.05107473789980165,
          -0.043259692496615994,
          -0.009216540734207912,
          -0.04446234293990364,
          0.07914510159975786,
          0.06844569811817099,
          -0.030255284639568204,
          -0.04078720518334164,
          0.1148588026566238,
          -0.04127818204329844,
          0.14667830589490896,
          0.06937368816046428,
          -0.031138463431833165,
          -0.03756949519400024,
          -0.008272664785446752,
          -0.031961437955179896,
          -0.014241748084237733,
          0.029070906468633327,
          0.014004901892384583,
          -0.050030978709067725,
          0.1722545993720877,
          0.3023426036290666,
          0.08881607088536825,
          -0.04181503884841536,
          -0.0267334896945672,
          -0.04600433040703025,
          0.16196344628193712,
          0.22099849831575974,
          0.1330952531382665,
          -0.007001970117612549,
          -0.04255259552023199,
          -0.04345466945250995,
          -0.04370626210650779,
          0.044859787995147775,
          0.0024376265280576636,
          -0.025564808614456674,
          -0.03565572428755092,
          -0.032709826279193444,
          -0.04733710080008716,
          -0.0048299933469606714,
          -0.02797044065535043,
          -0.03943962019163339,
          0.06500945120442107,
          -0.05692932085422508,
          0.07122382343616927,
          -0.030077168231995553,
          -0.03880381088598912,
          -0.036078254239296066,
          -0.04281945709198235,
          0.01435118387022117,
          0.06003516885788694,
          -0.0353885286733691,
          -0.04072089456223802,
          -0.029024713064012417,
          -0.04304839388334439,
          -0.006228338333398267,
          0.051212918851240526,
          -0.033709045435878444,
          -0.04339185135564044,
          -0.030694451211226666,
          -0.0055141848633620755,
          -0.03698220337170152,
          -0.030959967857266533,
          -0.04472410042390597,
          0.06338609280751076,
          -0.03179317663492578,
          -0.03238792973964492,
          -0.001746291629813199,
          -0.052088094751003275,
          -0.05440345388182156,
          -0.03757366866612594,
          -0.040733742046744584,
          -0.035457778299710876,
          -0.049382399088066214,
          0.06674257238048469,
          -0.03396713618378021,
          -0.03522717486651933,
          -0.05599123927551167,
          -0.030541839327485405,
          -0.048700043955977795,
          -0.047168423306180325,
          0.08965415460317573,
          0.06501902300711608,
          -0.02120938737337962,
          0.06318388901628812,
          -0.02297130870765816,
          -0.03595744793324792,
          0.13442908658191985,
          0.2513979669230591,
          0.06962760994019704,
          -0.0776225931293413,
          -0.05153777959285338,
          0.0379023023554846,
          -0.03673388688241795,
          -0.04420495631838767,
          0.08104828519664212,
          0.022489612399953986,
          -0.037674831143534766,
          0.08104890221020322,
          -0.03263345319143528,
          0.1036469044187018,
          -0.044338329462188644,
          -0.0014982035299927086,
          0.16828499264270708,
          -0.04983912620646833,
          -0.05095073982104929,
          -0.0391317422457947,
          -0.01516321428496216,
          -0.057162143749652415,
          0.14352735705723937,
          -0.05069628144155004,
          -0.06795735957988794,
          -0.03832269871982748,
          -0.04566459338477516,
          0.03225866279974999,
          -0.03966971631248242,
          -0.03737865313948877,
          -0.043038751366339265,
          0.1352475680122854,
          -0.03844157978474132,
          -0.016043686216854612,
          0.013916133497417894,
          0.11710628129051769,
          0.016133852067503306,
          -0.033343495916266355,
          -0.04006578909746583,
          -0.04185300695531774,
          -0.05927815498902328,
          0.028461274908875945,
          -0.028063380236745712,
          -0.03500733064473617,
          0.10572427381316145,
          -0.03844143964500595,
          -0.05229413433533674,
          -0.041687020036386926,
          -0.043226880713590314,
          -0.022386033873843858,
          -0.0006675037176424736,
          0.022735687896762315,
          -0.031082348168371035,
          0.015788178580318776,
          -0.04163541311705613,
          0.09694363050744094,
          0.003688607321604438,
          -0.030758068092564067,
          0.16557835433793933,
          -0.03968143812269909,
          0.01308775827175609,
          0.05617524469626875,
          0.02341852643731371,
          -0.04777980785090348,
          0.001791072919534469,
          0.005882164593328267,
          -0.028033658912419896,
          0.06416424456722973,
          -0.04745719484767885,
          -0.038706701561379585,
          -0.037793084703054744,
          0.005147345671193686,
          -0.0521271587763211,
          -0.03886514177955662,
          0.018297979818823015,
          0.05357233957590092,
          0.07823881051690351,
          -0.01957654397978628,
          -0.05286146868584553,
          0.07630224745411178,
          0.12178428395347132,
          -0.00432426027842372,
          -0.030405036261217742,
          -0.03397110676450117,
          -0.054679971816461025,
          -0.01947531040829344,
          -0.04924004024788331,
          -0.04447894321610907,
          0.006778954719602195,
          -0.05022121747408889,
          -0.019091624210658787,
          -0.044112953763706976,
          0.02027529931458703,
          0.030177351761041242,
          -0.030645393559388046,
          0.07266837831431298,
          -0.06702134907550955,
          0.029196554234099243,
          0.17081741098590944,
          -0.06014354058013578,
          0.02940130167516623,
          0.007823740744094648,
          0.05183294684570482,
          0.08446600569777338,
          0.1048588269012606,
          -0.04185935208769666,
          -0.04212721614734907,
          0.06331974146150215,
          0.03986785072269848,
          0.01927241841773708,
          0.09418033719164226,
          -0.03268962187665982,
          -0.040249119004508685,
          0.0014719396168734876,
          -0.05132937925006505,
          -0.024569865707087274,
          -0.050628280563853864,
          0.0648679478797301,
          -0.044530242902037734,
          -0.04158270851281538,
          0.014459658166717989,
          -0.015328006640289459,
          -0.038913133718647526,
          -0.019961070466350386,
          0.13527665169420808,
          -0.006605981006883363,
          -0.0330627249696116,
          -0.025140763090143146,
          -0.043929267758380866,
          -0.041803853512107435,
          0.10347284779349063,
          -0.05037387476632327,
          0.03091824401065087,
          -0.03323523857077874,
          -0.036854896245756934,
          -0.060730362028131646,
          -0.041128121433517385,
          0.027872812161646075,
          0.040375387898245754,
          0.1009141247505132,
          -0.032524582292852613,
          -0.03527681328703214,
          -0.043952309172057946,
          -0.07395729602850251,
          -0.04204196456666218,
          -0.04164476855829153,
          -0.03208117749716615,
          -0.07649113763187285,
          0.003267269609536218,
          0.01747167664960121,
          -0.04609740224595138,
          -0.035599092454890895,
          -0.05640151417023177,
          -0.010696468500653613,
          0.17310886718084206,
          0.12422636581223731,
          -0.040793412049635346,
          0.04769116389641765,
          -0.04050769172469315,
          0.19870102043792573,
          0.04542706244712566,
          -0.011799300445228256,
          -0.04500992022953427,
          -0.02264151539138959,
          -0.036247474868674925,
          -0.00476383261835762,
          0.0027636503316954726,
          -0.006916188516153956,
          -0.04423589214499673,
          -0.04205256825928671,
          0.10255475434237309,
          -0.013796150506360528,
          0.16339435039293684,
          -0.026011333065233185,
          -0.041267629297586005,
          0.045253972712868004,
          -0.01921106252904657,
          -0.0301308905272984,
          -0.021572060465057847,
          -0.029229520404491557,
          -0.05110639241937454,
          -0.010959968458711866,
          -0.04270820282719898,
          0.17751410741140985,
          0.04259099904457106,
          -0.03584776044007026,
          -0.05252243488650176,
          0.003797806060475722,
          0.0018807932587082148,
          0.14570760042065198,
          -0.039163184854161884,
          0.0431679649616413,
          0.1135144943648424,
          0.0008151576434069546,
          -0.05046439969271224,
          0.07510117364202502,
          -0.04476417706114472,
          -0.050536719899777746,
          -0.023583117035806487,
          -0.039351429012881654,
          0.015373965984283032,
          -0.045779633878695464,
          0.019559545307972447,
          -0.056289603982691665,
          0.0749812384660825,
          -0.04217865864901589,
          0.029324661069952938,
          0.11245474170730105,
          0.07089710420466068,
          0.09129233555016099,
          -0.030960188979939504,
          0.005669607360042256,
          -0.023425607305577866,
          -0.04264059043990633,
          -0.013986815629249662,
          -0.05099246951385897,
          -0.03127875681788665,
          0.03988939748375841,
          0.004444771646319331,
          -0.04037388890704852,
          -0.04995199872635406,
          0.00654893442033883,
          -0.04003782392239335,
          -0.012493535491898595,
          -0.051887005093692415,
          -0.03613876814248872,
          -0.044055894302003996,
          -0.02067174164384425,
          -0.04078198946302406,
          0.0003596468849860364,
          -0.05519995401693181,
          -0.03124579306854604,
          -0.034784737067776315,
          -0.05816500438665512,
          -0.014263794327262555,
          -0.034289116390490974,
          -0.0402590687066392,
          -0.04032335748987532,
          -0.049366586697146955,
          -0.037820543332156585,
          0.0439836855139032,
          0.1395811925389125,
          0.1497048057591234,
          0.046977689098769794,
          -0.032027052472765806,
          0.24741928993992765,
          -0.046851173149423435,
          0.04786011170123881,
          -0.0406734950500817,
          -0.03500221432300114,
          -0.01818942591954844,
          -0.021605507405820026,
          -0.04165340770258332,
          -0.04798052222619424,
          -0.04641787226995896,
          0.171228961282129,
          -0.04558391329487262,
          -0.05370300986556075,
          -0.034509417856610554,
          -0.07841807942164632,
          -0.0533092228263632,
          -0.047831519017128586,
          -0.044827993593772326,
          0.048201242046934524,
          0.09326257170080536,
          -0.045938251915554,
          -0.003685735492718038,
          0.1273781505727854,
          -0.0437700461740498,
          0.10569172433136284,
          0.031075874748329117,
          0.03086111526141186,
          -0.043799637864957996,
          -0.035955338697539974,
          -0.057469346488102646,
          -0.04333034597767476,
          -0.03888946168728478,
          -0.0039200954979511675,
          0.12773773971060728,
          0.059933968915254605,
          -0.04423568792979497,
          -0.04117605781660196,
          -0.03213998403916959,
          0.16800774851793104,
          0.21036127222432102,
          0.03206227674093079,
          -0.03348870117802911,
          -0.02262820896771065,
          0.05509298305159716,
          0.03675994727247367,
          -0.0410839204423701,
          -0.006606884241897029,
          -0.046985914879351866,
          -0.04128796199116824,
          0.01588491456930395,
          0.08734203057802051,
          -0.00595689171525377,
          -0.03368617738431079,
          -0.0423055465799034,
          0.15154011962645506,
          -0.021125508357073965,
          -0.024358618122123622,
          0.07250922547696872,
          -0.053928209665384384,
          0.07896205715200522,
          0.1184142515803842,
          0.030124208603930898,
          -0.01363586692284103,
          0.09049953213077107,
          -0.012292177925751284,
          -0.024642335166358404,
          -0.04545092889732812,
          -0.015051295195321095,
          -0.014601230280504404,
          0.14979618889176907,
          0.018541124821418575,
          -0.005849292002156638,
          -0.035875847549949866,
          -0.06214924872558343,
          -0.02118179301977664,
          -0.044662241533548086,
          -0.03000130587068009,
          -0.03185323430701829,
          0.05623872861905483,
          -0.021694226991906103,
          -0.00665216319974775,
          -0.04100726545506642,
          -0.04339741485754032,
          -0.02755919157190136,
          -0.03875106120510897,
          -0.03201502497747278,
          -0.03791233596087561,
          -0.029466581667058588,
          -0.04488162872955377,
          -0.0019376051960033685,
          -0.052806294862263486,
          -0.05985589474955209,
          0.01195295991264279,
          -0.02424655920740779,
          -0.05878007313632806,
          0.06692816002420564,
          0.06428260414606338,
          0.011862103025114593,
          -0.040733574851596635,
          -0.04418748614503458,
          0.007620470973208856,
          -0.032977021111807066,
          -0.050027434897737935,
          -0.028384755786156218,
          -0.05729069092662408,
          -0.017123105029572306,
          0.06037276990424508,
          -0.03774217736773831,
          -0.017946381660491267,
          -0.0042273622323595,
          -0.06976468454243058,
          -0.038860970349007914,
          -0.03611062134846384,
          -0.03581564116381456,
          0.1390985562242377,
          -0.038699256663032096,
          0.19178866826618826,
          -0.0579835377915785,
          -0.03834706740933216,
          -0.08591296750224488,
          -0.038441456482103786,
          0.04307052945865844,
          -0.03911736733786918,
          -0.056329597893722286,
          -0.04642487402740068,
          0.031010947801491263,
          0.11530523377570437,
          -0.004861942889671458,
          -0.04116757161600563,
          -0.006418327292331451,
          -0.021876858473087596,
          -0.030164160194733693,
          -0.029064872572387084,
          -0.05113564942097824,
          -0.019892976433519047,
          -0.015149639829463256,
          -0.03909665885463528,
          0.007133236895250497,
          0.0539654946624593,
          -0.02996476807065028,
          -0.013128320052066832,
          -0.02223397075107583,
          -0.03759965520636564,
          0.055544948888820556,
          0.005208525274272293,
          0.07747594087663125,
          -0.031013571478767828,
          -0.03312625263185562,
          0.0976565707456174,
          -0.0583383925388161,
          -0.03750474296183847,
          0.11184896713716143,
          -0.03735952332974049,
          0.17175446683533652,
          -0.03988123951405411,
          -0.028461545288527998,
          0.06407684548810365,
          -0.028887345489617258,
          -0.04471042766472851,
          -0.03797559531905479,
          -0.011605099524028615,
          0.10258644196582668,
          0.00402728486577357,
          0.1903248896873727,
          0.05209664199500675,
          -0.04040332313749163,
          -0.045493815584366715,
          -0.03460696342775066,
          0.11188268055036064,
          0.03291089607869756,
          -0.030742008927218102,
          -0.04073469186863498,
          -0.04461014330449462,
          -0.036387712775096004,
          -0.0416984654139265,
          -0.05708264500286654,
          0.10215869917272154,
          0.06127243850640113,
          -0.02396525832731939,
          0.01238496651952483,
          0.056880109778244654,
          -0.04198025638753344,
          -0.024409481785072712,
          -0.051314969530357545,
          0.033886159221555634,
          -0.040621482634841145,
          -0.0174180627688564,
          0.048950675190841425,
          -0.03272654372844541,
          -0.03513191508173418,
          -0.029023376487821665,
          -0.03747345386435385,
          0.15924818614431727,
          -0.051334960849600195,
          -0.03881520814745251,
          -0.048157733970353195,
          -0.042147574315581644,
          0.04683971367294617,
          -0.02780228093136319,
          -0.03294548826715181,
          0.04542149243594754,
          -0.015119317286423945,
          -0.04191316564760674,
          -0.032545353981564856,
          0.0972881912261466,
          -0.027497175072056314,
          -0.060744571268207474,
          0.10406628558007412,
          -0.038210221263638815,
          -0.05795524795839905,
          0.032840509348508726,
          -0.038441478275450684,
          -0.0237616480109262,
          0.01818746021540676,
          0.04319248141379366,
          0.13621810429089137,
          -0.056590338608989564,
          -0.05771373143979938,
          -0.0057747458954090876,
          0.1522465634373272,
          -0.047821113155675034,
          -0.006588939406646216,
          -0.047557691366255726,
          -0.03844149932823037,
          -0.039182345311816025,
          0.08045938808953465,
          0.010474256465952536,
          -0.032698026094998056,
          -0.036740132035080586,
          0.02074924467028663,
          0.06580299642206833,
          -0.04010055116438276,
          -0.04278084098142419,
          0.015404593992976192,
          -0.04439771982201626,
          0.1145144708764378,
          0.20985593596561436,
          -0.04035504837042908,
          -0.02748709270081257,
          0.07455937163556027,
          -0.034053252800270016,
          -0.03851629505072444,
          -0.06602807232016956,
          -0.0361152024731523,
          -0.022945183816547074,
          0.03841530644838057,
          0.06760361096949997,
          -0.04486600252726794,
          -0.027836120280059645,
          -0.038030887032947436,
          0.09232016404864851,
          -0.035912950288405035,
          -0.03131304981305873,
          -0.016123394540359236,
          0.007150446679761315,
          -0.029950721908361712,
          -0.06980424358394809,
          -0.03772528344258034,
          -0.03943120508473133,
          -0.050654891994937785,
          0.20295154275486424,
          -0.03276877017366027,
          -0.046748623269785586,
          -0.03896547614761529,
          0.018378325230639717,
          0.021715241530061158,
          0.10959862348104532,
          -0.03704128637910752,
          -0.023814534793687475,
          0.046914979101283276,
          0.035164105282265934,
          -0.039709405910533555,
          -0.04913506523763364,
          0.04470683085866291,
          -0.06327036136243015,
          -0.03844144021930772,
          0.2444918574058913,
          -0.04872493656652724,
          0.10876337082782819,
          0.17587569397923733,
          -0.04716268720948203,
          0.05483879679715365,
          -0.04236503523039831,
          -0.049984788899245146,
          -0.03417210400713999,
          -0.030785392424892047,
          0.14383862446410572,
          -0.05825659075572488,
          0.10044642740728255,
          0.04687980675254025,
          0.1599650832295916,
          -0.028867923784120685,
          0.11451613432581248,
          -0.00929793438339169,
          0.22743870783283152,
          -0.03338509881700795,
          -0.05160252819741757,
          -0.04272610157977778,
          -0.039728225736015775,
          0.003654335897887106,
          -0.06252980955386594,
          -0.03931603085933379,
          -0.0345023482101941,
          -0.04814756987020826,
          -0.0395785921306715,
          -0.03602461169248791,
          -0.03617608980398969,
          -0.02008909009836768,
          0.08802377324766117,
          0.057441458094484546,
          0.08383975010741082,
          -0.05279749048827929,
          -0.04313225627893936,
          -0.05070869149674242,
          -0.0054189009652284015,
          0.03102567999455301,
          0.031417094099748626,
          -0.04200331291846225,
          -0.0527287366576802,
          0.0472203798779885,
          -0.020869761990470068,
          -0.05012118155118596,
          0.12112492697951834,
          -0.03683298154473035,
          -0.026098782835633823,
          0.09422382049238816,
          0.2889847303826721,
          0.0027446986578814774,
          -0.05983074867596974,
          -0.011997097178654208,
          -0.038428560193082106,
          -0.018230931214870703,
          0.071446012383247,
          -0.03398003425924724,
          -0.026452218288417713,
          -0.042121356675811066,
          -0.03844154107512989,
          -0.0458359953463003,
          0.08099112998612062,
          -0.04441261117299534,
          -0.042733183968891,
          0.10167365699704796,
          0.2465097286753882,
          -0.02386039351882014,
          -0.024630810330866018,
          -0.02056589032475466,
          0.053912584352724086,
          0.03891556247268764,
          -0.03123913620752886,
          -0.026791828993120978,
          -0.041300610222103636,
          -0.05012473181732324,
          0.23904475272942727,
          -0.0485339832727367,
          -0.028410318924237926,
          -0.0341672557415243,
          -0.029440204233414712,
          0.2677809043224345,
          -0.041767600958565194,
          -0.04983171039676721,
          -0.04187845591310415,
          -0.009365195310457548,
          -0.05566859934950115,
          -0.022141300300469388,
          -0.02768685534696372,
          0.14469336562171198,
          -0.05136658763112405,
          -0.03206737598278012,
          -0.053590929147281766,
          0.0031177591502686195,
          0.08841375027399168,
          -0.04531918955148735,
          0.2701513993294829,
          0.12876622610765837,
          -0.030244188447266816,
          0.05652279520534428,
          -0.03571613729403101,
          0.0375932089795673,
          0.011870106655713223,
          0.13279443454615883,
          0.04597563478530098,
          -0.03474199811278175,
          -0.04021846852036103,
          -0.035938424148264335,
          -0.042825367727719395,
          -0.014792160327333489,
          -0.0428967277838931,
          -0.032945138471208904,
          0.11524033683763846,
          -0.006486167535890302,
          -0.03437191094342634,
          0.11222844426336212,
          0.01935827683292754,
          -0.02795240574198344,
          -0.040309961969620195,
          -0.045596418885095115,
          0.07310544392177289,
          0.03512637913778285,
          -0.038919103153483424,
          -0.04858782638038942,
          -0.035839049473000484,
          -0.05056607685947246,
          0.07549826278346473,
          -0.02988242109656474,
          -0.01808251866667427,
          0.05623200386356147,
          0.06989255816642888,
          -0.0081172367827967,
          0.05149978416964769,
          -0.03374925250565116,
          0.17768431248979988,
          0.014222980137183028,
          -0.0499441475296993,
          -0.06087638000377825,
          0.1964634050464258,
          -0.05590116714006231,
          -0.03874278007213191,
          -0.04285426807287277,
          0.04497624343494017,
          0.03460825006077349,
          0.21993683156453625,
          -0.024146297247448014,
          0.04629483637884338,
          -0.03869519042822949,
          -0.04428103467635293,
          -0.013098001566137137,
          0.01799755002369566,
          0.3128557987764405,
          -0.041361015875199594,
          0.08241512606618837,
          -0.05700570291662469,
          0.015223453057014755,
          -0.09119178965561142,
          -0.04288938931859443,
          -0.056122442764133265,
          -0.04301415872733423,
          0.0015605159021555414,
          -0.04486526682918006,
          -0.05743307969587631,
          -0.01409827272122444,
          -0.0034199564700904427,
          0.0885392678077601,
          0.06354748871983405,
          -0.04493323277389074,
          -0.026854038526907383,
          -0.01511238224474743,
          0.27780435519670316,
          0.03339591801902495,
          -0.08045563190559442,
          -0.04081414343763977,
          -0.03268058544544801,
          0.013753929453212662,
          0.0965976846885318,
          -0.032465629562015916,
          0.055728240257947315,
          0.04031891614255075,
          -0.04660101974616547,
          -0.02726842015928435,
          0.04677853851459406,
          -0.06475021401172576,
          0.030362165001137736,
          -0.02042386672431961,
          0.03638275728241135,
          0.05694471649806797,
          0.0879522778082016,
          -0.03373576188259225,
          0.029306293367245138,
          -0.03843005862184592,
          0.07785556832142497,
          -0.05482453718827138,
          -0.058436943485595846,
          -0.046678238816435,
          -0.03088631580792314,
          -0.022743080174202568,
          0.21535613326778308,
          -0.04111061789702105,
          -0.04355503925226629,
          -0.008739271223767985,
          -0.005369555805477135,
          -0.03385147467598641,
          -0.02484173666767596,
          -0.04597704548835058,
          -0.02872077483236804,
          -0.05856924102131796,
          0.08371698438952282,
          -0.039062017403298475,
          0.07631283882007207,
          -0.04722904261886907,
          -0.06625338782443502,
          0.05603556306711833,
          0.008782939422525964,
          -0.024945626971317487,
          0.12613374891728715,
          -0.02757780535382915,
          -0.04993283541257513,
          0.024356121209977846,
          -0.017293615267323568,
          -0.04401850444394369,
          -0.03663620981927522,
          -0.03692656516171497,
          -0.04591822636489412,
          -0.039745673826399215,
          -0.004131530798909507,
          0.004775797263821701,
          -0.04731066383533063,
          0.047125585132979556,
          -0.02066414464823407,
          -0.01957005824061599
         ],
         "xaxis": "x",
         "y": [
          0.04540548284911612,
          0.011867261979482752,
          0.07061385487920925,
          0.11297448852307099,
          -0.036232583542895436,
          0.012982986227795184,
          0.004410948130747934,
          -0.03158892676862882,
          -0.025848599564768097,
          0.015504338795631144,
          -0.01709219444656567,
          -0.1764394851794763,
          -0.08820573273441,
          -0.1273853119825798,
          -0.0039612220023855,
          -0.01643700096322384,
          0.012280688361678031,
          -0.023878389997156125,
          -0.013661170941642835,
          -0.0018793985608775733,
          -0.007406359061409677,
          0.004018689680213493,
          -0.0014551580089659346,
          0.019772024054748746,
          0.016241587246629326,
          0.0014686404046087799,
          -0.004417198198559649,
          -0.01861601532859118,
          0.01153934587317095,
          -0.010043801053251252,
          -0.020897785050228202,
          0.00846922222938717,
          -0.008736563088801667,
          -0.00107090354291592,
          0.0010103259717664898,
          0.02266339366156949,
          -0.03345384178939973,
          0.0028003309062402727,
          0.0029569026073681622,
          -0.0017773061781909058,
          -0.009856473484095244,
          0.005053059766941943,
          -0.07409696356173708,
          -0.10319981880878407,
          0.0719397329222102,
          0.12744688607197294,
          -0.0051007053638465,
          0.009585323670939323,
          -0.015484671372268907,
          0.01838830651152961,
          0.0013932917659445394,
          0.005810085998373725,
          0.006885734554493953,
          -0.0014476083797747752,
          0.015203366477826477,
          -0.00036809715414630917,
          -0.02750038052179647,
          0.01677384335656965,
          0.02840668693030531,
          -0.1548662862623489,
          -0.007493633788265964,
          0.0611505460081526,
          0.03606121769610905,
          0.00040606390955337193,
          0.0016069798547663362,
          0.02597779950064148,
          0.003133971178217819,
          0.019517933244911165,
          -0.0018369109234907086,
          0.0005665902443476779,
          0.07301607547791593,
          0.01666298588220152,
          0.004859746817571631,
          0.02983845058223706,
          0.0026835587229184148,
          -0.001547496823643288,
          0.2622243301242515,
          -0.10856302101878429,
          -0.029165198152447402,
          0.005941677333329377,
          0.014636028272956451,
          0.048594005595159334,
          -0.030568995911590565,
          0.08016223881316792,
          -0.000043162319256210625,
          0.0010004218902970687,
          -0.004311272061056355,
          -0.0033309812199622244,
          -0.0055448903925563574,
          -0.014843541214773812,
          0.0865353535616287,
          -0.08746000583724738,
          -0.029488023575675176,
          -0.01152861834121242,
          0.10353770777970737,
          0.007740551837274991,
          0.0035643918005757273,
          -0.009919522933703052,
          -0.016172623326986543,
          0.3251757676550679,
          -0.01007245374579598,
          0.006694658448993781,
          -0.02265574114805713,
          -0.12741666388127032,
          0.09628064284755439,
          -0.1981604045708942,
          0.01953195816374145,
          -0.02260333417465967,
          -0.008940571119696148,
          0.002515352371677729,
          -0.0005073300589132382,
          0.003021577512412716,
          -0.029659286717917163,
          0.004126277281524312,
          -0.07109159851609455,
          -0.006695346182902072,
          0.09114498318078564,
          0.025857127656540004,
          -0.07006761504160296,
          0.02333484248407854,
          0.28065756045163215,
          -0.008519439318573076,
          -0.015077990810314692,
          -0.013873895428485411,
          0.000486719877441177,
          0.03313432172896263,
          -0.0072258865383421364,
          -0.0040445355113242175,
          0.041600297573212035,
          0.0015382373624601153,
          -0.01452154597171747,
          -0.013007842554992065,
          -0.0036811894360650756,
          0.057705014825975294,
          -0.03684478616312646,
          -0.07600581125318033,
          0.01821987244968995,
          -0.09149002363186816,
          0.020145803538204197,
          -0.0008880075820457104,
          -0.016698776400563786,
          0.021149802746728376,
          -0.030827186796681314,
          0.0011190238779400501,
          -0.013608448100775786,
          -0.016345362398068282,
          0.014232492195345952,
          -0.0012804364631881374,
          -0.019019392122844203,
          -0.021276029105043674,
          -0.16700549952673188,
          0.006332072609139465,
          0.003596103922180202,
          -0.0005056281015430791,
          0.08868506582592221,
          0.07490907750908608,
          -0.00752496520907327,
          -0.005977876748835489,
          -0.12238761599130117,
          -0.005512981829816245,
          -0.00511563132003201,
          0.004745231188430317,
          0.025692569344171336,
          0.0063234849032239564,
          -0.13756205236574712,
          0.05795452513774545,
          -0.01281990410392015,
          0.027701139861102834,
          -0.2328321354933293,
          0.0011267201019288784,
          -0.0362417483588555,
          -0.003649326012015311,
          -0.011328702302353217,
          -0.01745919545739776,
          0.07581425082336968,
          0.00977004314960678,
          -0.020231301392443994,
          0.04484393799183085,
          -0.052885721551700744,
          0.01364310270124413,
          -0.3240049497871878,
          0.18982066528126784,
          0.017976203627514786,
          0.004819674713539585,
          0.006518159583145131,
          0.039240169626621,
          -0.0157340114219661,
          -0.3147748269687687,
          -0.011802264957170138,
          0.009990057033286018,
          0.0035384656537980636,
          0.00264925916198622,
          0.013431133020458305,
          0.1424102390866894,
          -0.004753236149939464,
          -0.0164421958605768,
          0.006255069637829358,
          0.002990532560548245,
          -0.007145524935095939,
          0.05245383654634321,
          -0.00034875436722398836,
          -0.008615754824265137,
          -0.042059497377112814,
          -0.001475673428312064,
          -0.09417828081389357,
          0.003893706479054553,
          0.006860035066970668,
          -0.0036140354185375282,
          0.015353144640752788,
          -0.005212046308862881,
          -0.06608303069219428,
          0.011535590116497752,
          -0.0037313367228278805,
          0.009063160447779736,
          -0.0013680842204336124,
          -0.005286007533911283,
          0.02242618272845816,
          0.01628940245097407,
          -0.0010692218289652764,
          -0.027522081692818137,
          0.00201721689888202,
          -0.02545412430698722,
          0.004611922203876305,
          0.007400785893822254,
          -0.1178600150266088,
          0.01393930546512855,
          -0.015861990391938644,
          -0.020056149783889875,
          0.005231845321989267,
          -0.0005395135186587374,
          0.001596068169791075,
          -0.014531514535872404,
          -0.011362899900465875,
          -0.00793447618412892,
          0.07768447160558177,
          -0.00039150368979722907,
          -0.00267876918710155,
          -0.02161888880198842,
          -0.002308624629273287,
          0.01592633070595762,
          0.004939120302212169,
          -0.09285224403312954,
          -0.04283355849321171,
          -0.013798275661547002,
          -0.023656757678151064,
          0.0008044765215017317,
          -0.01000441793516926,
          0.08680843649868424,
          -0.2195913234088213,
          -0.12261754953418717,
          -0.0006768803280135055,
          0.009122016523393029,
          0.05069921009961413,
          -0.002993741787684621,
          0.02760714400895027,
          -0.07581671516354223,
          0.005992635567298281,
          0.0013998264663660064,
          0.13487101718333688,
          0.017977267406612322,
          -0.019003106833568924,
          0.0653239856736245,
          -0.01976846590769165,
          -0.0069498677147391075,
          0.0039052992826282135,
          -0.004449943100648759,
          0.0016246155147090458,
          0.009496466157204704,
          -0.024806497992902785,
          -0.17620458155567584,
          0.003231413324400735,
          -0.01430529031447407,
          0.0015615564126233955,
          -0.016972526284438908,
          -0.0010346295837931686,
          0.008841109266845167,
          -0.0019631415900847452,
          0.04556577227341929,
          -0.2522211073076283,
          0.0015382793815988222,
          0.020491773681603556,
          0.013038377123519075,
          -0.018428647304420342,
          0.0015732130168784478,
          0.010215672918654923,
          -0.0019329262886968418,
          -0.006925171746411027,
          0.02488047287313381,
          0.0712217466220783,
          0.00039277857438656195,
          0.009211603448859807,
          0.09975806528872086,
          0.0015380914979974195,
          -0.0024069928377889274,
          -0.011492540050133846,
          -0.004015025554958533,
          -0.0010819877363259125,
          0.020353561410446037,
          -0.0005879819634778627,
          0.00019545467182656328,
          -0.005458537821867717,
          -0.0017846512932003223,
          0.060005577355326634,
          0.06211516978745058,
          -0.035418293672223315,
          0.20851297928350232,
          0.012395640000074796,
          -0.019836318102110072,
          -0.08945064690122675,
          0.007104262780633187,
          -0.005096828073656823,
          -0.007923913809103457,
          -0.00928802542927933,
          0.013932538091198628,
          -0.12887894328247906,
          -0.00960166020115949,
          -0.00387002126827545,
          -0.006334495513367597,
          -0.02712132219473047,
          -0.0022462112015482908,
          -0.006191965619656597,
          0.0007155534460635074,
          -0.01979979600614259,
          0.03550228897070828,
          -0.014192751105066313,
          -0.0013993593283563386,
          -0.13187382999487335,
          -0.14913128745137497,
          -0.015065725950503235,
          0.005390767443404148,
          -0.037923299661345986,
          0.031317866087273,
          -0.024387289670840986,
          0.05369241173884686,
          0.019978027332337205,
          -0.00949106929621127,
          0.12651759960651987,
          -0.008382977689856873,
          0.00636092595858979,
          0.011827266354331255,
          -0.021713382542099195,
          -0.00236927442210306,
          0.03913377932392189,
          -0.0029785869468854937,
          -0.13391477350385023,
          -0.07051209278201467,
          0.05612418943633576,
          0.035069502051198236,
          -0.0407626494304858,
          -0.03605280905250083,
          -0.08904296508575603,
          -0.03689095406402511,
          0.008956291327379254,
          -0.013409751872667535,
          0.05499625482546812,
          0.030004225073254502,
          0.013694359488796163,
          -0.13536273901067938,
          -0.03336443304788031,
          -0.005376855554619227,
          0.009978426765159781,
          -0.01403325735295137,
          0.013969756640217957,
          0.0016837248735431815,
          0.08973786366003392,
          -0.0016407196844428255,
          -0.00077625576092953,
          -0.0005509608760855319,
          0.0037695748819324398,
          0.003594666849576815,
          -0.0047164533802126285,
          -0.26277287307839725,
          -0.004827639697066817,
          0.013379228234369532,
          0.007337264562183275,
          0.014120300182048453,
          -0.00009948042061980812,
          0.024112661096019682,
          -0.005733441594258049,
          -0.010188377914057306,
          -0.0021525222033377416,
          -0.05587664539103582,
          -0.01888193943448917,
          -0.01115709332157543,
          -0.09766021049378584,
          -0.02138011921756557,
          -0.12032668312082118,
          -0.004354385310900432,
          0.06556888624037568,
          0.00045553478211915395,
          -0.020231548221918107,
          -0.0025766855223174684,
          0.012962038970105996,
          0.010573018265131118,
          -0.006028356316608605,
          -0.03784900252972137,
          -0.014302392982647067,
          0.0060116203166351665,
          -0.004435752436451065,
          0.008956788276345015,
          0.014238351727669856,
          0.12669125635444892,
          -0.11074179647391003,
          -0.0011822681772246314,
          -0.12621525207670312,
          0.0043111621487693045,
          -0.18304883454627816,
          -0.07846773589665164,
          -0.018221734270493457,
          -0.0015169212943497864,
          0.025503617143126645,
          0.000937210588740123,
          -0.07380718239831592,
          -0.08566447732056173,
          0.023200332110215823,
          0.002250981659467072,
          0.00864292241041703,
          -0.1213269640351115,
          0.012547524847278153,
          0.2554137171226797,
          0.020843335777482666,
          0.006576477534753718,
          -0.13348027450639813,
          -0.008904173297896119,
          0.01800507446253126,
          0.027868157160673472,
          0.033631756649486984,
          -0.013361701964571534,
          -0.00851443117292706,
          -0.004696438750257383,
          0.1461624464373989,
          -0.13371856102634921,
          -0.017054890943932314,
          0.01586875310563984,
          0.01967958289133637,
          -0.012900216527464306,
          -0.1502806291750639,
          0.006665589822248279,
          0.04272881605306588,
          -0.011441231186115616,
          0.007822902556484223,
          0.007022013492168447,
          0.09654129693683124,
          0.005492763601917938,
          -0.007312984871330627,
          0.004176639094991975,
          0.027656993536225496,
          0.004900220792223491,
          -0.020090014684502375,
          0.005385749966266777,
          0.013828384450085413,
          -0.013799246315157747,
          -0.0021134129724498982,
          -0.09369986140674083,
          0.16267662371046324,
          -0.15226846243360873,
          -0.0465252802906988,
          0.02070486164297246,
          -0.0038115615484304393,
          0.010570291852512074,
          -0.010706678347858841,
          -0.042309489519449475,
          -0.0007450254009923323,
          0.012907362474907544,
          -0.01606022795259188,
          -0.08496595763709087,
          0.0041706974789882095,
          -0.018473353306828342,
          -0.06378272865415398,
          0.0032385486817042967,
          -0.009810585161750528,
          0.0430228400994282,
          0.017467305312661954,
          -0.005639514790553906,
          0.013304646037755821,
          0.0744052592488661,
          0.005142598540518762,
          0.09487013207909092,
          -0.01789622300452328,
          -0.0038258960133711294,
          -0.012430670731077174,
          0.013789719498939633,
          0.011095930331665168,
          0.002629830776551216,
          0.016264460373990507,
          0.005781145839263189,
          -0.0002957620603561421,
          -0.02871723571215042,
          0.3095405440146742,
          -0.1400803895926829,
          0.035757712768848995,
          -0.000737085229857828,
          0.24107357061886484,
          -0.006995565587404427,
          -0.1339335916704525,
          -0.016617794666898895,
          -0.003849863529897657,
          0.012786072444747897,
          0.00042280319385880344,
          -0.02044948314108986,
          0.012181883844826892,
          0.02799826931294871,
          0.034253020996004496,
          0.0053748726698996255,
          0.004228978987746107,
          0.00017395128905647474,
          -0.048893749959013216,
          0.07550943839189149,
          0.00850349930044934,
          -0.002674549581767297,
          0.04863117292083927,
          -0.016873629026203,
          -0.0003952915157602343,
          -0.04704436384362297,
          0.1107442551097101,
          0.0017960583453271832,
          0.04501343958439393,
          -0.010315861555128467,
          0.04884984587939574,
          0.00892319726465049,
          -0.022249141298206064,
          0.005496303400654439,
          0.004880752695970654,
          0.0015945370174213788,
          0.004255006306935502,
          0.10296191394480339,
          -0.03257152933999893,
          0.08601584975883685,
          0.013406140913565392,
          -0.0004144850122709842,
          0.1732011393611652,
          0.15347449633035626,
          0.07574483257899006,
          0.011162543164085744,
          0.014981926700772084,
          0.016299028092909663,
          -0.12892518247381296,
          0.006924890422629717,
          -0.07509904863808875,
          0.05325943165315823,
          0.00029783574083633074,
          -0.021102771116384783,
          -0.10971692636176983,
          -0.03976818395154402,
          0.009402176983036964,
          -0.006334436992328258,
          0.18372803606230168,
          -0.024770167436881728,
          0.024387110269312923,
          0.011985612169962466,
          0.007364245690717883,
          0.09222670836949878,
          0.18789069948237058,
          -0.000214354964896723,
          -0.020722859215326305,
          0.013015914629211275,
          -0.020998393716089834,
          0.06397035488946802,
          0.0020724338833693324,
          -0.012255410240214521,
          0.016595689809924298,
          -0.26900574271563865,
          -0.11806346543196684,
          -0.021907634720039364,
          0.08065266054447051,
          0.00724110210307899,
          0.005712157518004067,
          -0.0010418783846788938,
          -0.007680826893776674,
          -0.014597979263803788,
          -0.007351677151821386,
          0.010330010159564763,
          0.019321950280570432,
          0.005396650905393039,
          0.0069543107023792485,
          -0.002709697478659111,
          0.00044511557424995206,
          0.01539923449791567,
          -0.000746104900889097,
          -0.01691201434778184,
          0.004016045490892223,
          -0.0340374679176555,
          -0.0008853356114450588,
          0.016402224661167763,
          -0.024266113457548085,
          0.044983403543663925,
          -0.01157993857648948,
          0.12784938031790127,
          -0.1381356338409619,
          -0.023768229150823706,
          0.028313355030450443,
          -0.001216533272929709,
          0.01924848699560955,
          0.005446620422713546,
          -0.0016597401969506514,
          -0.015324908316796254,
          0.00505732318546112,
          0.01481299942176757,
          -0.02495676299850191,
          0.0005330153102799344,
          -0.027835871164935067,
          0.026262574330542736,
          -0.035231043404614505,
          -0.007671132153646961,
          0.0028345092062228576,
          -0.00003773897145458642,
          0.019210708355958735,
          -0.000319540261006495,
          0.21278785693201896,
          0.061293336042605416,
          -0.002137660068000982,
          0.15548664285256744,
          0.001538087504754403,
          -0.11834227979609813,
          0.005619137598121371,
          -0.01151646982860794,
          -0.0042467002035743015,
          0.04895988036615144,
          0.1511456382182592,
          0.010732663982777038,
          0.0008463666963357116,
          -0.007258693978627836,
          0.016677310841123113,
          -0.0007649325867824471,
          0.011921170786658362,
          -0.016899795869810094,
          0.013429623093527755,
          0.03086220496477598,
          0.001802816365479616,
          0.03273105356069886,
          -0.013226036282292361,
          0.002139368504876767,
          -0.010379703720256895,
          0.02017625508138809,
          -0.003949212870855627,
          0.08599259957985825,
          -0.01335155226342876,
          -0.013427431255560344,
          -0.005275603820028838,
          -0.021268729565802932,
          0.14367190500606533,
          0.041609145829593776,
          0.007301990336012568,
          0.08012759970861495,
          1.1060960307847086e-7,
          -0.025383821628138042,
          0.015058579644415199,
          0.00486995990390491,
          -0.005055741255034295,
          0.01095714093237293,
          0.001167062810669518,
          0.00020643228599606103,
          0.00540770218271467,
          -0.17147786984249236,
          0.010335877366872916,
          0.08584327800541011,
          -0.043791461112312295,
          0.004262330922246595,
          0.014671539073085521,
          -0.002652548283548859,
          0.0401939353060725,
          0.007108762150616941,
          0.001351276878519308,
          -0.0008365699235711835,
          -0.005137775150275125,
          0.009413278480248923,
          0.0062512393301242765,
          -0.014210123708589687,
          -0.06101237687750615,
          -0.13736976063801876,
          0.026388928847870367,
          0.03587386808840439,
          -0.13638029965322987,
          0.0035595264657982176,
          0.014844014845240259,
          0.0008323193739750184,
          -0.006535406624974279,
          0.0014319084779285123,
          0.01680001191619655,
          -0.08176648542827328,
          0.0037166504347984973,
          -0.012466559481226023,
          0.010498755357433436,
          0.0068273355811947255,
          0.12839113268578067,
          -0.006788135682615507,
          0.0008790748979221241,
          0.002639453351010076,
          -0.004278384598707772,
          0.01869364593606956,
          0.0038132120726240416,
          -0.003766994197110046,
          -0.01329954837296294,
          -0.0267462298910463,
          -0.010114543697957085,
          0.061284126320960856,
          0.01753363168133987,
          0.02310075956244395,
          -0.009298215038521001,
          0.01842249375401116,
          0.09056318834363447,
          -0.010201996999384188,
          -0.13278501661446618,
          0.0015380949856474754,
          -0.018733356961418663,
          -0.03531659111922076,
          -0.11351896234093593,
          -0.18032280387668967,
          -0.001774338515818268,
          -0.0067856787151733865,
          -0.008395241052183883,
          0.05913935221136612,
          0.0025658962317906347,
          -0.037442882298869495,
          -0.004340679654956365,
          0.0015382367435914776,
          -0.009079425746080694,
          -0.14840670403001469,
          0.004103896154132029,
          -0.027519041904130622,
          0.006377287055083116,
          0.040182729624556796,
          0.11054970823938735,
          0.002436444446041731,
          -0.0017446865187696504,
          -0.07972674427611,
          -0.006083474728479406,
          -0.05564376943732472,
          0.05217035028807479,
          0.0017724260030874796,
          -0.007838839430095793,
          0.13054974603160657,
          0.005164681602825103,
          0.005411182469574318,
          -0.00943809711130456,
          0.0005498653889489641,
          0.013746964299831833,
          0.024419585329503682,
          -0.12767699252652476,
          0.0015047107552561697,
          -0.045997516287062466,
          0.005893911182020443,
          -0.20319952952866155,
          -0.00282866078961915,
          -0.004616842658758821,
          0.04922949395783312,
          0.0139307529657548,
          0.003038465630075535,
          0.06518658184402155,
          0.0011993178604853885,
          -0.0034883957668037147,
          -0.015745224310838548,
          0.030007867941372748,
          0.022483629607036502,
          0.041213749228039914,
          -0.021340160309733333,
          0.0008977564289105589,
          0.02585544983217011,
          -0.22553423257926913,
          -0.0015669103140196856,
          -0.03887313041542499,
          -0.14092400432244512,
          -0.12029580811260532,
          0.0017540264669474255,
          -0.018221229990997925,
          0.07821389990759008,
          0.05454779201625727,
          0.0015380818232619124,
          0.2927753748117509,
          -0.011996703200753025,
          -0.03325547869941276,
          -0.16169850885529227,
          0.03331956557960973,
          -0.009418755473874846,
          0.01248682054663633,
          0.006650039696378222,
          -0.0022891400153532155,
          -0.03136206728257848,
          -0.2145432995653721,
          -0.013065177300776913,
          0.0031748450979958856,
          0.01299799400563714,
          -0.020583557488447937,
          -0.012479014806381746,
          -0.18033762405493797,
          -0.002633202658476209,
          0.2733253125229418,
          0.021933040404619648,
          -0.011993959169887942,
          0.017540687647873476,
          0.0003023528850734821,
          -0.00784999989198919,
          0.056198176241012227,
          -0.012752841196078035,
          0.10610185209339108,
          0.0064804476155510635,
          0.009942666575143234,
          0.0006692059420585105,
          0.06853438706905653,
          -0.004359174639994253,
          -0.020996485142855185,
          -0.11872650805546726,
          0.12172853836130583,
          0.0020759106117812657,
          0.01423586166379071,
          -0.00025569702191438506,
          0.034948747949823916,
          0.002847356324326858,
          0.0932373222451465,
          0.06448836573194863,
          -0.00022385208959361158,
          0.1031749784864719,
          -0.049862865834445144,
          -0.01564456413200646,
          0.12642336113533198,
          0.020947244024965884,
          -0.003318912480347832,
          -0.018221289351165286,
          0.28264910210548855,
          0.05094279249818453,
          -0.01803773021339756,
          -0.04435152991135842,
          0.004526897430652968,
          0.0022658398829750836,
          -0.16393966404015742,
          -0.006989410762981561,
          0.02660512204522607,
          0.031160581938850688,
          0.001538322027222498,
          0.01319465114434015,
          -0.009959851064204822,
          -0.0038888564250535774,
          0.007136539617956918,
          -0.18184320061982853,
          -0.03932855583230762,
          0.021824614383039363,
          0.07885550498768212,
          -0.0017325699529543881,
          -0.09638670442494462,
          0.009218217120077117,
          0.006529972199937405,
          -0.008029951283344475,
          0.0035217425235487335,
          -0.009014228135840737,
          0.16843954607829129,
          -0.005430074059292952,
          0.0012267299051766706,
          0.01745079282085612,
          0.0035228684577582573,
          0.3178456265294909,
          -0.0020902558699457553,
          0.007322737304340651,
          0.0002732039515628464,
          0.006605865423651077,
          0.05314234108300985,
          -0.007695689876231238,
          0.004256004651025725,
          -0.11606322593346739,
          0.02489645214020978,
          -0.02955543330088808,
          -0.0023624287830967157,
          -0.015627758719418173,
          -0.19555810303921092,
          0.045257560616450546,
          0.03348108074419493,
          0.1516279572442323,
          0.0006357647128174167,
          -0.014091808055306132,
          0.004716998723277395,
          -0.017234265730009832,
          0.14761885777025927,
          -0.23080807170227918,
          -0.13840741888275526,
          -0.00243571171807085,
          0.002246978991324061,
          -0.000979133529962472,
          -0.002826511961219671,
          -0.0007639932219592067,
          -0.002624626504054604,
          0.007622106073773116,
          -0.039414890356593894,
          -0.01963473806582344,
          -0.0031194491959560884,
          -0.03696444609905109,
          -0.027906526254700924,
          -0.004961857223768731,
          0.0000866760284322628,
          -0.0012311214210086983,
          -0.20442275498002677,
          -0.0259357641232618,
          0.013300739261569617,
          0.061716588780372124,
          -0.0336634662919617,
          -0.011427401239556993,
          -0.07540102359637799,
          -0.002220793107374003,
          0.015913780335549705,
          0.08915707471554592,
          -0.006794172333020503,
          -0.009478273586918119,
          -0.12218606343066923,
          -0.024874742287674632,
          -0.11689671911930918,
          -0.06296696060819823,
          0.06431876554433281,
          0.07307484370183266,
          -0.25321023692666667,
          0.023981688071214344,
          0.003736933902390456,
          0.004930462643537556,
          -0.020064321167846504,
          -0.13054703984844607,
          0.28334097946760145,
          0.00705177316857945,
          -0.11244776098193023,
          0.0018390784630076536,
          0.004981688486365885,
          0.0063113958111436766,
          -0.0029868103007296308,
          -0.05892129122126537,
          -0.03993432903428026,
          0.08934264489071844,
          -0.005362410703396587,
          -0.01915373121203928,
          -0.016668461214635836,
          -0.033654753474748715,
          0.005862243439304496,
          -0.006860659778229208,
          -0.08979601060611037,
          0.016015675067313977,
          0.010304860645889662,
          -0.002800178277027961,
          -0.012876765447186729,
          0.09284838046044333,
          0.11792383968712329,
          0.06986293683333983,
          0.005105693011691885,
          -0.010563804413925274,
          0.07064029513957602,
          -0.057276244818347824,
          0.06843771493530217,
          0.004139661841402637,
          -0.01713825963387693,
          0.009075294973237755,
          0.021770459147433814,
          0.01645933457176973,
          -0.12365260418232243,
          0.06672442609467563,
          0.007342298740397171,
          0.023629236557363122,
          -0.029716425220904737,
          -0.010181229627229437,
          -0.056543770741724786,
          0.004486585096170832,
          -0.03584245379552685,
          -0.006076070614909941,
          -0.02455885375898123,
          -0.001064787102896195,
          -0.00196707178571513,
          0.003941399812485645,
          0.0868197509688733,
          0.09144940538362935,
          0.01488589331985468,
          0.020368904217193864,
          -0.0009849493819367474,
          -0.0070437368927002576,
          -0.10933718831986187,
          0.007518266176392685,
          0.0006110194489226112,
          0.005501785680469039,
          -0.014302155243965456,
          0.01322961450470892,
          0.0020050896612849554,
          0.0055598662852256705,
          -0.032648905588257296,
          0.014938698974115084,
          0.04939545587120613,
          0.05337987516403012,
          -0.0192002186856176,
          -0.015446971639277515,
          0.1295619664508183,
          -0.09972606368554313,
          0.07396035823294408,
          0.0026998879537713846,
          -0.05087537422415144,
          0.009161341864686695,
          0.010559016980711685,
          -0.04933299099322449,
          -0.021261320985456456,
          -0.006159518339636292,
          0.0013138387278725423,
          0.0034162472694795505,
          0.06321781262567384,
          0.0040613143660906195,
          -0.0291130274497731,
          0.007131748798657085,
          -0.01818775370610796,
          -0.03017976496592286,
          -0.013267323850985956,
          -0.0051275111833802315
         ],
         "yaxis": "y"
        },
        {
         "customdata": [
          [
           "time align public health entities state work together prepare surge demand hospitals",
           "kevin stitt"
          ],
          [
           "one issues near dear every idahoan citizen get initiative ballot like",
           "mike moyle"
          ],
          [
           "parents adults educators community leaders responsibility ensure children taught importance positive ways interact prepare attacks negativity could receive new digital age",
           "melania trump"
          ],
          [
           "want send long list send long list",
           "james lankford"
          ],
          [
           "got twitter unfortunately seems like social media shame needed immediately someone responded oh gosh sorry happened",
           "alex charlton"
          ],
          [
           "stick together historically talking stick together like glue stuck together vicious hell",
           "melania trump"
          ],
          [
           "want see us badly let happen",
           "melania trump"
          ],
          [
           "got ready surge know coming",
           "mike dewine"
          ],
          [
           "serious medical decision decision must made doctors",
           "greg abbott"
          ],
          [
           "allow auto dealers compete protect public coronavirus time",
           "dale zorn"
          ],
          [
           "patriotic duty call show tuesday absolutely acceptable",
           "frank larose"
          ],
          [
           "change past avoid repeating",
           "marco rubio"
          ],
          [
           "hopefully enough time make difference",
           "jim stewart"
          ],
          [
           "stood strong fought many times guy probably recused stuff involved got loretta lynch thing stood strong",
           "tommy tuberville"
          ],
          [
           "friend cancelled chemo access hope way going virus said forget done",
           "vincent candelora"
          ],
          [
           "getting weird place right legislature wyoming makes sense",
           "dan zwonitzer"
          ],
          [
           "new political weapon modern politics modern political world donald trump first victim",
           "reince priebus"
          ],
          [
           "think silence federalist society hear",
           "clarence thomas"
          ],
          [
           "prohibit missourians accessing essential services grocery stores gas stations banks engaging outdoor recreation provided necessary precautions taken maintained reduce transmission covid",
           "caleb rowden"
          ],
          [
           "continue work trump administration governor desantis ensure state resources information needs working colleagues congress funding package ensure florida every available federal resource respond coronavirus look forward swift passage coming weeks",
           "marco rubio"
          ],
          [
           "white house part based years friendship ehrlichman krogh families",
           "egil krogh"
          ],
          [
           "basically happened everybody really known years china lobby",
           "jeff sessions"
          ],
          [
           "close trial may ross stayed true convictions opposed passions party voted acquit johnson",
           "mike pence"
          ],
          [
           "times",
           "bob ney"
          ],
          [
           "thought important agency voice speaking issues",
           "scott gottlieb"
          ],
          [
           "know u economy strong get side fully expect return solid growth solid labor market well",
           "jerome powell"
          ],
          [
           "employed maine manufacturing industry agriculture sector small businesses",
           "susan collins"
          ],
          [
           "despite endless propaganda pontificating liberal hacks room us today fake news media",
           "kelli ward"
          ],
          [
           "need ensure congress involved future decision making end exactly president wants end avoidance major ground war middle east",
           "sen. todd young"
          ],
          [
           "serving interests union bosses expense workers business owners",
           "virginia foxx"
          ],
          [
           "three classes paid someone else take son deprive student entering georgetown obtaining degree",
           "gayle wilson"
          ],
          [
           "according centers disease control prevention three four new emerging infectious diseases people come animals including several recent viral outbreaks",
           "mike pompeo"
          ],
          [
           "center converted hospital treat coronavirus patients reported laying staff",
           "brad wenstrup"
          ],
          [
           "think everybody realizes need loose central guidelines state",
           "mike maroney"
          ],
          [
           "free credible vote show false choice democracy security ensure everyone voice",
           "mike pompeo"
          ],
          [
           "get economy stronger ever get end year going big rebound economic activity",
           "steven mnuchin"
          ],
          [
           "based solely student internal external reproductive anatomy student normal endogenously produced levels testosterone analysis student genetic makeup",
           "mary souza"
          ],
          [
           "congress always established multimember commissions agencies",
           "brett m. kavanaugh"
          ],
          [
           "w e let health crisis become economic crisis already",
           "sandy stimpson"
          ],
          [
           "latest large growing body evidence assad regime uses chemical weapons attacks syria part deliberate campaign violence syrian people",
           "mike pompeo"
          ],
          [
           "like one person wrecks getting around getting",
           "carol miller"
          ],
          [
           "state texas continue collaborate federal local partners provide communities necessary resources respond potential cases coronavirus",
           "greg abbott"
          ],
          [
           "american people deserve truth whistleblower vindman impeachment got started",
           "marsha blackburn"
          ],
          [
           "gon na happen american lives risk",
           "mike pompeo"
          ],
          [
           "never expressed concern",
           "rudy giuliani"
          ],
          [
           "flights daily aircraft percent full far less work fewer hours every salaried hourly crewmember know adds financial stress time also worried health safety thankful position provide level pay everyone using payroll support funds",
           "robin hayes"
          ],
          [
           "act alone act blessing ayatollah supreme leader",
           "mike pence"
          ],
          [
           "whole thing let sit fight details science",
           "garret graves"
          ],
          [
           "saw adam schiff actually thought seemed performative clearly trying",
           "meghan mccain"
          ],
          [
           "years old care eat grass sand whatever tough call man",
           "terry bradshaw"
          ],
          [
           "said open iran wants start behaving like normal country sure absolutely",
           "kellyanne conway"
          ],
          [
           "hrsa funded health centers critical players national response covid pandemic",
           "alex azar"
          ],
          [
           "congress divided continues divided nobody wants work together",
           "don young"
          ],
          [
           "u offered 100m medical aid nations including iran scientists working develop vaccine khamenei ir rejected american offers spends concocting conspiracy theories help iranian people",
           "mike pompeo"
          ],
          [
           "get elected nancy pelosi play games",
           "rick scott"
          ],
          [
           "court prohibits enforcement ban possession use operation drones genesee county parks commission agents representatives rangers member officer directors employees",
           "joseph farah"
          ],
          [
           "get back parliament really want refocus government drought bushfire really dominated news cycle dominated people thoughts",
           "roy butler"
          ],
          [
           "always possible president would exert executive privilege try block testimony",
           "susan collins"
          ],
          [
           "trying tell state illinois want fund things important go along political agenda think false choice",
           "avery bourne"
          ],
          [
           "significant capable healthcare infrastructure",
           "mike pompeo"
          ],
          [
           "willing support ballot question",
           "mark meadows"
          ],
          [
           "detailed knowledge facts regarding first article played instrumental role conduct charged second",
           "pat cipollone"
          ],
          [
           "vaccine useful given many many people infected virus could become like coronaviruses infect us seasonal basis",
           "michael beard"
          ],
          [
           "every possible avenue increase supply ppe",
           "bill cassidy"
          ],
          [
           "president trump new york governor cuomo spoken publicly plan return work",
           "duey stroebel"
          ],
          [
           "quite balancing act",
           "david roger"
          ],
          [
           "citizens going lose convenience entering trusted traveler programs new york",
           "ken cuccinelli"
          ],
          [
           "closure businesses establishments corporations non profit corporations organizations",
           "brian kemp"
          ],
          [
           "would urge restraint kim jong un",
           "mark esper"
          ],
          [
           "unlike house senate fair trial",
           "ted cruz"
          ],
          [
           "maybe tell people age stay home little longer tell businesses meetings people conferences measures put place try limit interactions workplace allow work get",
           "scott gottlieb"
          ],
          [
           "reach selection drawings artist books rosaire appel",
           "bill schuck"
          ],
          [
           "currently texas flaring levels flaring intensity notably lower rest world strikingly lower new production rest world",
           "ryan sitton"
          ],
          [
           "going swamp truly getting away hikes strenuous since walk fast great nature enjoying beauty",
           "ron desantis"
          ],
          [
           "got issues dealing health care",
           "woody johnson"
          ],
          [
           "lot gon na depend successful defeating disease quickly america get back work",
           "john barrasso"
          ],
          [
           "important data set",
           "mark parkinson"
          ],
          [
           "hopefully going war know one guy enlist",
           "donald trump jr. ."
          ],
          [
           "asked tech executives help fighting coronavirus outbreak",
           "jared kushner"
          ],
          [
           "first assessment continue review department wide operations assess mitigate adverse impacts operations",
           "ken cuccinelli"
          ],
          [
           "llr health professional boards fully committed lessen regulatory obstacles licensure public health emergency help ensure south carolinians access needed healthcare resources",
           "henry mcmaster"
          ],
          [
           "guns want guns around children law live fear",
           "bryan king"
          ],
          [
           "minority leader united states senate threatened two associate justices u supreme court period",
           "mitch mcconnell"
          ],
          [
           "could please get freedom back",
           "rand paul"
          ],
          [
           "constitution allows lawyer lawsuits",
           "jay sekulow"
          ],
          [
           "ones must convince americans personal independence responsibility actually good federal government solution every problem face failure socialism throughout history must exposed evil never takes hold great country",
           "dan crenshaw"
          ],
          [
           "country much trump country gon na start sending people back ted cruz born canada marco rubio parents born cuba melania trump born slovenia parents family immigration",
           "ana navarro"
          ],
          [
           "renew visas every months farmers know people people come work farms every year process followed",
           "austin scott"
          ],
          [
           "people work develop pretty unique skills want ramp",
           "randy smith"
          ],
          [
           "reasonable light circumstance",
           "stephen dwight"
          ],
          [
           "may may happen cost things take long time",
           "sue scott"
          ],
          [
           "religion whatever affects lives speak",
           "donald trump , jr. ."
          ],
          [
           "good government motion opinion",
           "paul lundeen"
          ],
          [
           "knew present knew something",
           "jessica simpson"
          ],
          [
           "governor gave assessment illinois second year administration see number challenges like corruption need property tax reform giving people illinois politicians voice process drawing legislative maps cannot rely worn ideas taxes spending time talk done let get work",
           "jim oberweis"
          ],
          [
           "together say freedom religion belief western ideal truly bedrock societies",
           "mike pompeo"
          ],
          [
           "goal reciprocity hope action spur beijing adopt fair reciprocal approach u foreign press china",
           "mike pompeo"
          ],
          [
           "yet dfl actively working dissuade minnesotans participating march 3rd presidential primary voting already open",
           "jennifer carnahan"
          ],
          [
           "primary process firmly believe good primaries good things even primary bill weld whoever wants jump race great donald trump going win percent vote",
           "chris sununu"
          ],
          [
           "ignorant completely false charge say last administration funded missiles fired troops",
           "chuck hagel"
          ],
          [
           "take steps necessary protect american people",
           "alex azar"
          ],
          [
           "tens thousands lives stolen billions dollars lost",
           "josh hawley"
          ],
          [
           "force make good plays order exit zone",
           "john dean"
          ],
          [
           "office stands prepared certainly stand prepared anything assist facilitating federal resources applied appropriate provided law",
           "ted cruz"
          ],
          [
           "49ers turnaround season comes short despite great defense patrick mahomes chiefs offense win day chiefs niners",
           "chris sprowls"
          ],
          [
           "essentially sitting billion run",
           "joe gruters"
          ],
          [
           "claimed dozens times existing case quote overwhelming incontrovertible",
           "mitch mcconnell"
          ],
          [
           "diagnosed advanced lung cancer diagnosis confirmed two medical institutions back january 20th first realized something wrong birthday weekend january 12th",
           "rush limbaugh"
          ],
          [
           "pat bill come school believes executive power actually important preservation individual freedom branch susceptible abusing public legislative branch",
           "leonard leo"
          ],
          [
           "one giving glad",
           "ted cruz"
          ],
          [
           "sure appreciate opportunity steve",
           "steve daines"
          ],
          [
           "important congress work get bottom coverup",
           "michael mccaul"
          ],
          [
           "make much bigger economic growth",
           "larry kudlow"
          ],
          [
           "classes far away one popular events largely rules road updated residents know staying informed necessary able continue drive",
           "margo mcdermed"
          ],
          [
           "agree people say bill enough",
           "alberta darling"
          ],
          [
           "long time harbored lot resentment way told family knew",
           "jessica simpson"
          ],
          [
           "going session continue give iowans every reason give us majority back november elections simple",
           "matt windschitl"
          ],
          [
           "extremely bad timing already coronavirus issue going right causing lot anxiety",
           "gary herbert"
          ],
          [
           "responsible violent crime state",
           "brian kemp"
          ],
          [
           "today report continues reflect personal sacrifice made america workers families slow spread coronavirus",
           "eugene scalia"
          ],
          [
           "recognize rate cut reduce rate infection",
           "jerome powell"
          ],
          [
           "today take another step right direction reaching agreement department environmental protection kanter real estate allow purchase acres critical wetlands significant purchase permanently save lands oil drilling",
           "ron desantis"
          ],
          [
           "community better service dearly missed",
           "richard hanna"
          ],
          [
           "washington always going political reflexive response things",
           "mike pence"
          ],
          [
           "please take message back homeland americans united venezuelan people righteous struggle freedom socialism destroys nations always remember freedom unifies soul",
           "melania trump"
          ],
          [
           "strategy begins goal",
           "marco rubio"
          ],
          [
           "hallmark legislation want see judges living fear",
           "richard gordon"
          ],
          [
           "better yet manufacturing u",
           "robert lighthizer"
          ],
          [
           "first time real beard",
           "aaron bean"
          ],
          [
           "never going white",
           "clarence thomas"
          ],
          [
           "going try overthrow government united states duly elected president",
           "melania trump"
          ],
          [
           "hitting low income people",
           "david mcsweeney"
          ],
          [
           "governor truly hope able say leaving mississippi better eight years ago",
           "phil bryant"
          ],
          [
           "forces typically capable u forces easier terrorist groups infiltrate",
           "michael waltz"
          ],
          [
           "better early late",
           "gary herbert"
          ],
          [
           "hard well",
           "stephen smyk"
          ],
          [
           "confident given desire country see outcome get yes",
           "mitch mcconnell"
          ],
          [
           "comes ipo frankly canva charge destiny whatever wants",
           "craig blair"
          ],
          [
           "seems premature start teeing another massive stimulus plan passed biggest stimulus history",
           "brian darling"
          ],
          [
           "could go lower number without political agreement",
           "mark esper"
          ],
          [
           "president trump gets high scores gop dem leaning voters proposals technical training every high school permanent funding hbcus",
           "frank luntz"
          ],
          [
           "lot people might show vote least begin consider delaying elections tuesday",
           "cenk uygur"
          ],
          [
           "friendlies really wanted win game would done different things",
           "lee greenwood"
          ],
          [
           "thus according hours worked control clause plaintiffs must paid",
           "tani cantil-sakauye"
          ],
          [
           "texas voters extremely cautious handing personal sensitive information unknown third party office committed ensuring texans understand proper legal procedures registering vote texans eligible opportunity submit valid registrations ahead next week october 9th deadline",
           "rolando pablos"
          ],
          [
           "april month confederate states began ended four year struggle",
           "phil bryant"
          ],
          [
           "hope decides stay senate rest political career",
           "john cornyn"
          ],
          [
           "president clear deterrence posture impose consequences directly iranian regime",
           "michael waltz"
          ],
          [
           "says trump causes problems parents",
           "rush limbaugh"
          ],
          [
           "talking donors talking people trying right thing talking commercial identity business transactions driven desire marketing",
           "randy fine"
          ],
          [
           "chinese transparent working us rest world community",
           "alex azar"
          ],
          [
           "anything narrow possibility transmission good thing",
           "dean kaufert"
          ],
          [
           "two actions meet standard impeachment mean best interest country remove president office",
           "marco rubio"
          ],
          [
           "buy facemasks",
           "mike pence"
          ],
          [
           "iraq alone last years qasem soleimani killed americans",
           "tom cotton"
          ],
          [
           "may momentum decade ago",
           "brian thomas"
          ],
          [
           "americans u k ireland come home legal residents come home secretary detail funneled specific airports process",
           "mike pence"
          ],
          [
           "reality idea believe thinking person would admit going happen june may happen rest year",
           "bob o'dekirk"
          ],
          [
           "hemp industry much potential new",
           "rob bradley"
          ],
          [
           "think texas based oil natural gas companies committed making climate progress committed lower emissions future",
           "todd staples"
          ],
          [
           "folks plus ones best chance suffer negative outcome disproportionately talk fatalities",
           "ron desantis"
          ],
          [
           "nothing short disaster confusion every turn",
           "steven mnuchin"
          ],
          [
           "fucking nightmare",
           "stephen humphrey"
          ],
          [
           "asked year",
           "sharon cooper"
          ],
          [
           "correctional officers go even beyond percent raise pay enhancements depending long correctional officers served important reform department corrections",
           "rob bradley"
          ],
          [
           "really believe fundamentals economy strong",
           "mike pence"
          ],
          [
           "horribly treated maybe people pay",
           "stephanie grisham"
          ],
          [
           "charged taking care million georgians",
           "terry england"
          ],
          [
           "one report said zero cases last four years obama administration",
           "jeff sessions"
          ],
          [
           "make sure hunter biden conflict interest explored legitimate could joe biden really fight corruption son sitting burisma board",
           "lindsey graham"
          ],
          [
           "tonight special man beloved millions americans received stage advanced cancer diagnosis",
           "melania trump"
          ],
          [
           "important thing economy important thing put behind us prevent spread coronavirus",
           "mike pence"
          ],
          [
           "sexual feelings identity",
           "paul gazelka"
          ],
          [
           "kind frustrating knowing board set community members cannot conversation board",
           "michael murphy"
          ],
          [
           "working department human rights contracting somebody translate press releases summaries data several different languages",
           "governor kim reynolds"
          ],
          [
           "liable additional costs",
           "cord byrd"
          ],
          [
           "tax day moving april july taxpayers businesses additional time file make payments without interest penalties",
           "steven mnuchin"
          ],
          [
           "play win really next president going face issue head agency go least three four years next president term next president might completely different conception consumer financial regulatory issues yet able nothing",
           "brett kavanaugh"
          ],
          [
           "written inaccuracy laden ig report extraordinary mischaracterization",
           "carter page"
          ],
          [
           "volunteers thank god bless stepping sheriff mayor supervisors local elected officials god bless",
           "tate reeves"
          ],
          [
           "threat china telecom reflection threat see chinese telecommunications companies generally",
           "john demers"
          ],
          [
           "liked mitt romney mitt romney think would great president better person president thought friends mitt romney recognize guy anymore another one huge disappointment",
           "mitt romney"
          ],
          [
           "fascinating time party",
           "candace owens"
          ],
          [
           "stay keep coming",
           "lindsey graham"
          ],
          [
           "workers feel critical state",
           "mike parson"
          ],
          [
           "senator juror swore oath god exercise impartial justice profoundly religious faith heart take oath god enormously consequential",
           "mitt romney"
          ],
          [
           "issue likely remain least clarity future trading agreement eu",
           "richard ramsey"
          ],
          [
           "kept america safe",
           "alex azar"
          ],
          [
           "sudden want",
           "regina cobb"
          ],
          [
           "short term issue may couple months going get economy stronger ever",
           "steven mnuchin"
          ],
          [
           "job senators dispose articles lawfully passed speaker attempt shape delay trial unprecedented cannot stand",
           "lindsey graham"
          ],
          [
           "elvis metro transit stars",
           "robert bell"
          ],
          [
           "goon killed americans directly responsible tens thousands millions deaths iranians people across world",
           "mike huckabee"
          ],
          [
           "engaged deceptive unfair acts practices",
           "mark brnovich"
          ],
          [
           "capital provide companies resources need keep employees payroll remaining weeks businesses begin process opening back",
           "greg abbott"
          ],
          [
           "expand empowerment scholarships",
           "regina cobb"
          ],
          [
           "heavy heart tell last",
           "roy cooper"
          ],
          [
           "cult party",
           "helene walsh"
          ],
          [
           "air side protecting people",
           "mike dewine"
          ],
          [
           "cannot commanders chief",
           "lindsey graham"
          ],
          [
           "teachers want say thank continuing learning challenging time",
           "mike pence"
          ],
          [
           "new initiative equitable generous reward strong performing teachers principals",
           "ron desantis"
          ],
          [
           "work critical fish wildlife provides essential technical assistance environmental compliance requirements",
           "jeff trandahl"
          ],
          [
           "idea maybe says",
           "jay sekulow"
          ],
          [
           "guns aimed head",
           "bill weld"
          ],
          [
           "big trucks already pay mileage tax want money raise tax get involved erecting gantries operating toll system could raise money without going trouble extra expense big big question could another way get lot easier",
           "gail lavielle"
          ],
          [
           "want work situation gain understanding make sure driven data solid strategies",
           "doug burgum"
          ],
          [
           "understanding resolution give trump clown car legal team option either move judgment move dismiss",
           "josh hawley"
          ],
          [
           "democratic leader traveled workplace two judges front crowd activists told judges pay price right front supreme court building",
           "mitch mcconnell"
          ],
          [
           "enjoy goal health safety welfare citizens south carolina face emerging disease",
           "danny verdin"
          ],
          [
           "wrote couple times issues legislative chopping block responsive called next day put floor legislature battle ideas cult personalities tell largely republican put bread butter mine employees tables every day believe believe",
           "rich wardner"
          ],
          [
           "political path stability continued conflict threatens fuel spread covid",
           "kelly knight craft"
          ],
          [
           "objective congress pass legislation monday president sign",
           "steven mnuchin"
          ],
          [
           "every american make difference next week",
           "mike pence"
          ],
          [
           "let say witness like mick mulvaney john bolton come invariably white house would claim executive privilege lawsuit filed district court district columbia would go court appeals potentially supreme court could take months",
           "john cornyn"
          ],
          [
           "area ought consider making investment",
           "mitt romney"
          ],
          [
           "passion lifting americans getting done working together",
           "ivanka trump"
          ],
          [
           "public health emergency problem hell",
           "rob witwer"
          ],
          [
           "said pizzas days said pizza means inspecting eating every pizza may eating parts pizzas",
           "john schnatter"
          ],
          [
           "clearly brink collapse",
           "tom lackey"
          ],
          [
           "understand accept additional responsibilities media scrutiny come nfl quarterback frustrating disappointing people provide completely inaccurate information anonymous sources especially set record straight know need best socially distance like everyone else continuing adjust requires truth fewer people home dinner party friday night sensitive challenges facing making sure support first responders medical personnel everyone else putting long hours",
           "greg abbott"
          ],
          [
           "sometimes issues come fast furious chance gather legislature together say let talk come solution emergency powers executive orders come governor office",
           "gary herbert"
          ],
          [
           "think joe race hope stays forever continue divide democrats think south carolina joe race",
           "corey lewandowski"
          ],
          [
           "would initially considered loan full amount payroll",
           "marco rubio"
          ],
          [
           "limited high risk exposures",
           "mehmet oz"
          ],
          [
           "force posture today american presence today work done alongside saudi partners better prepare strikes nature real",
           "mike pompeo"
          ],
          [
           "see mean get three different answers card possible answers go picture like way three categories fun approach writing answers way would grandma say would say situation",
           "jeff foxworthy"
          ],
          [
           "really think reviews much sure people read",
           "adam sandler"
          ],
          [
           "sure iran going deal would nice put something back place",
           "francis rooney"
          ],
          [
           "dershowitz seems politics traditional sense guy like talk ramifications presidency institution",
           "lindsey graham"
          ],
          [
           "ensure grounded aircraft causing furloughs safely return skies without unnecessary delays",
           "ron estes"
          ],
          [
           "represents heritage history booming industry beautiful one kind vistas importantly greatest asset people",
           "matt pinnell"
          ],
          [
           "united states join one trillion trees initiative ambitious effort bring together government private sector plant new trees america around world",
           "bruce westerman"
          ],
          [
           "enjoy analysis instruction polling hope future continue pithy insight topics polling registered voters versus likely voters polling sample size polling sample demographics regards president trump believe one three points added percentages two factors first trump supporters subject shaming public ridicule even assault thus announce support second many us disgusted juvenile narcissistic rants twitter impulsive actions pull syria relish thought expressing disgust ultimately vote key reasons judicial appointments economy would interested see pollsters trying quantify factors fact exists",
           "steve bartlett"
          ],
          [
           "soleimani entourage actually helping us afghanistan early fight taliban got indispensable help iran regard",
           "lawrence wilkerson"
          ],
          [
           "cuts intelligence gathering resources military",
           "kevin cramer"
          ],
          [
           "things north dakotans feel really limiting community spread",
           "brent sanford"
          ],
          [
           "might different thing",
           "terry england"
          ],
          [
           "iowa leadership administration backing republican senate country seen tremendous victories past three years",
           "betsy devos"
          ],
          [
           "yesterday first time got answer anticipating told point mississippi cycle drastic restrictions required",
           "tate reeves"
          ],
          [
           "virus affecting whole state think affects different communities differently",
           "ron desantis"
          ],
          [
           "appreciate realising",
           "tate reeves"
          ],
          [
           "hustle bustle working wife sick spouse sick never taken baby daycare get cellphone get busy people human could happen",
           "randy wood"
          ],
          [
           "much comfortable general counsel answer",
           "mike parson"
          ],
          [
           "location medline new state art facility along interstate allow serve landmark community area around new interchange continues develop vibrant addition richmond hill look forward jobs capital investment created result project",
           "brian kemp"
          ],
          [
           "dr li tried warn country world deadly coronavirus silenced chinese communist party ccp",
           "tom cotton"
          ],
          [
           "pro life pro transparency rule important step right direction obamacare uses publicly subsidized plans cover abortion demand obama administration hid ball letting insurance companies bury legally required abortion surcharge paperwork new trump administration rule makes sure fee open",
           "ben sasse"
          ],
          [
           "pal adamsandler need award give friend already laughter children young old around world mazel tov",
           "rob schneider"
          ],
          [
           "senate tear ballots election say president trump country probably accept",
           "lamar alexander"
          ],
          [
           "would something considering position",
           "mitt romney"
          ],
          [
           "approve judgment intolerance",
           "jason rapert"
          ],
          [
           "want make light anybody substance abuse issues know president working real hard solve throughout country little hard believe burisma hired hunter biden resolve international disputes could resolve dispute hertz rental car leaving cocaine crack pipe car",
           "matt gaetz"
          ],
          [
           "w e going game great game something lot people want see new orleans look forward",
           "melania trump"
          ],
          [
           "help dealing addiction mental illness hardships",
           "michael murphy"
          ],
          [
           "supporting federal minimum wage personal pledge invest research prevention treatment addiction mental illness klobuchar seems driven improve americans daily lives",
           "john cornyn"
          ],
          [
           "one example chicago politicians pushing solutions problems onto communities throughout state provisions act may make sense city chicago downstate communities like ones represent law devastated industry filled honest hardworking people",
           "avery bourne"
          ],
          [
           "pass smell test",
           "lindsey graham"
          ],
          [
           "always believed entity receives state funding completely open transparent responsible stewards taxpayer dollars",
           "denise grimsley"
          ],
          [
           "pleased thermo fisher approved last night fda record time also providing called high throughput test actually increase capacity public private partnership",
           "mike pence"
          ],
          [
           "know",
           "meghan mccain"
          ],
          [
           "making reasonable accommodation somebody dying",
           "tom leek"
          ],
          [
           "nation largest banks decided cater radical left woke agenda abusing systemic influence economy deprive law abiding federal contractors banking services critical business",
           "marco rubio"
          ],
          [
           "democratic primary riddled chaos dream come true president trump president stands leader unified republican party take credit policies created booming economy record low unemployment rates",
           "david bossie"
          ],
          [
           "great conversation asked give favor granting interview said sure lot history fix let talk iran agreed would talk iran set interview",
           "mike pompeo"
          ],
          [
           "ludicrous colleagues suggest job people uniform",
           "matt gaetz"
          ],
          [
           "hard see v shaped recovery scenario",
           "neel kashkari"
          ],
          [
           "really want make sure robust appropriate rolls ensure everyone vote counts accurate troublemakers things abide principle one person one vote",
           "brad raffensperger"
          ],
          [
           "put shoes president united states",
           "jay sekulow"
          ],
          [
           "healthy two year old girl sitting amazing mother robin gallery ellie robin glad us house chamber tonight",
           "melania trump"
          ],
          [
           "responding kind things hurled understandable",
           "mike pence"
          ],
          [
           "terrorist leader u military forces eliminated airstrike week responsible deaths hundreds americans iraq many deaths iraqis syrians yemenis israelis innocent people across globe equivalent eliminating al qaeda osama bin laden isis leader abu bakr al baghdadi country must remain vigilant",
           "scott desjarlais"
          ],
          [
           "sound like defending soleimani attacking president",
           "kellyanne conway"
          ],
          [
           "absolutely breaks public trust underscores people trust us toll issue",
           "len fasano"
          ],
          [
           "south dry vote dry everybody sober enough stagger polls",
           "will rogers"
          ],
          [
           "telling people spending hours hours hours trying get stuff exactly reason",
           "governor charlie baker"
          ],
          [
           "president trump lawyers stand present defense going opportunity present significant evidence supported still supports investigation corruption burisma whether joe biden participated corruption",
           "ted cruz"
          ],
          [
           "trying careful respectful local courts respectful local victims respectful public safety set pretty strict strict criteria would even think would even consider",
           "mike dewine"
          ],
          [
           "clearly house managers wanted continue make case witnesses john bolton made sure got several times",
           "lester holt"
          ],
          [
           "postmortem infant already succumbed tested infant covid god knows",
           "candace owens"
          ],
          [
           "please move back neighborhood home authorities officials give ok",
           "tate reeves"
          ],
          [
           "obviously serious reductions expectations",
           "jay dardenne"
          ],
          [
           "facts case remain unchanged",
           "tony sayegh"
          ],
          [
           "certain point get virus control confidence return",
           "jerome powell"
          ],
          [
           "rushed pressure campaign continues economic pressure campaign isolation diplomacy well",
           "mike pompeo"
          ],
          [
           "greg tabor serve people arkansas way served citizens fayetteville honor distinction",
           "tom cotton"
          ],
          [
           "three citizens stopped help three citizens actually pickup truck foot chain father son believe son hooked chain",
           "denver riggleman"
          ],
          [
           "working cdc partners get reporting system running hopefully week would able get data keep track many testing",
           "alex azar"
          ],
          [
           "likely cases u people spreading low level testing",
           "scott gottlieb"
          ],
          [
           "need people weigh say whether would even work",
           "hester peirce"
          ],
          [
           "keep trying remind people babies much worse much intense conditions going awhile",
           "meghan mccain"
          ],
          [
           "turn hild used ill gotten funds gain control company increase compensation nearly percent exposing lenders cumulatively million unsecured loans company bankrupt",
           "geoffrey berman"
          ],
          [
           "need looking like states",
           "chuck hufstetler"
          ],
          [
           "one time strike protect citizens",
           "vicky hartzler"
          ],
          [
           "freedom live values",
           "mike pence"
          ],
          [
           "going deny going change decibel level probably intensity go talking witnesses",
           "mike braun"
          ],
          [
           "stock market gon na go gon na go",
           "steven mnuchin"
          ],
          [
           "critical side think good idea side",
           "mark meadows"
          ],
          [
           "hurting pretty badly knees back neck sometimes think would go back quality life right sucks lot suffering",
           "kurt angle"
          ],
          [
           "courts former client",
           "don mcgahn"
          ],
          [
           "experienced level epidemic dealing country constantly contact cdc officials across country world quite frankly",
           "missy irvin"
          ],
          [
           "good job cleaning lot mosques restoring ideology",
           "jared kushner"
          ],
          [
           "us done fortify american assets region",
           "mike pompeo"
          ],
          [
           "one satisfying wins",
           "john dean"
          ],
          [
           "creation first foundry american biotechnology new hampshire milestone achievement innovative work aspr done support america development manufacturing medical countermeasures every year america faces natural disasters public health emergencies someday americans able recover faster emergencies stay healthier products come foundry",
           "alex azar"
          ],
          [
           "nothing asking last weeks",
           "mike dewine"
          ],
          [
           "perfect incubator coronavirus",
           "ben sasse"
          ],
          [
           "frankly find disgusting way governor speaker rep howard turned political side show",
           "eric pratt"
          ],
          [
           "although president likes idea payroll tax holiday tell heard many people president said could consider",
           "steven mnuchin"
          ],
          [
           "talks ufc like idea rematch think justified mean look fight three rounds one going fifth round first second fourth questions ufc likes idea",
           "colby covington"
          ],
          [
           "senate committed meeting uncertain times bold bipartisan solutions",
           "mitch mcconnell"
          ],
          [
           "nobody likes follow order care race public safety",
           "joe deters"
          ],
          [
           "political landscape utterly redrawn within democrat party become extremists party antifa party borders party supporting iran",
           "sebastian gorka"
          ],
          [
           "proposal would also eliminate consideration cumulative impacts damage public lands wildlife fossil fuel extraction",
           "rob bishop"
          ],
          [
           "hole dug long time think hole trump gotten much deeper much faster easy way overall represents stupidity interventionist foreign policy",
           "ron paul"
          ],
          [
           "encouraging intelligence iran sending messages",
           "mike pence"
          ],
          [
           "life rich full happy",
           "richard hanna"
          ],
          [
           "call action think lot people take seriously think everybody takes seriously community",
           "john mcginnis"
          ],
          [
           "long made bad choices failed act must change course",
           "john delaney"
          ],
          [
           "voting mail opens opportunity fraud",
           "mac warner"
          ],
          [
           "helped keep iran economy alive face american sanctions",
           "ann coulter"
          ],
          [
           "let turn page",
           "lindsey graham"
          ],
          [
           "terms need federal legislation reached point think going necessary",
           "jerome powell"
          ],
          [
           "part role overall response society climate change us",
           "jerome powell"
          ],
          [
           "months sham investigation partisan investigation",
           "mike pence"
          ],
          [
           "coronavirus poses evolving risks economic activity",
           "jerome powell"
          ],
          [
           "making progress quick enough",
           "steve schuh"
          ],
          [
           "keep telling need adopt eastern washington mentality rainy day fund fact rains mean need keep spending",
           "duane davidson"
          ],
          [
           "takes time adjust trends recognize big emerging topics sometimes",
           "sean morrison"
          ],
          [
           "cash allow us improve road infrastructure around stockton hartlepool even local people want see improvements road network reduced congestion improve public transport walking cycling routes cash allow us",
           "heather scott"
          ],
          [
           "three effected wonderful unique form government transfer power every four years",
           "tom bossert"
          ],
          [
           "staying douglass houses three maintenance workers buildings",
           "lynne patton"
          ],
          [
           "great lakes states chequamegon nicolet national forest probably one better managed national forests u atrocious western states could better highlighted couple years later people like congressman duffy others led charge put place good neighbor authority",
           "tom tiffany"
          ],
          [
           "forget things like",
           "david ralston"
          ],
          [
           "prominent liberal journalist said rename trump virus",
           "mike pence"
          ],
          [
           "said ongoing media campaign immigration issues business",
           "richard grenell"
          ],
          [
           "responsible fairness trial",
           "mitch mcconnell"
          ],
          [
           "tell see anyone standing iran hearing gulf members hearing china hearing russia",
           "nikki haley"
          ],
          [
           "conspiracy theorist want make anything",
           "pete hegseth"
          ],
          [
           "galway one wee bit different huge lead conditions wee bit trickier probably us playing well one half playing well another half listen story us",
           "michael murphy"
          ],
          [
           "yesterday readiness",
           "mark esper"
          ],
          [
           "could intent ada americans disabilities act allow patient brokering occur sober living homes",
           "patricia bates"
          ],
          [
           "little interesting",
           "john cornyn"
          ],
          [
           "ahead march case concerning constitutionality louisiana regulation abortion providers",
           "kevin daley"
          ],
          [
           "started something way back built grown complete commitment conviction stand support military veterans",
           "john roberts"
          ],
          [
           "based upon medical conditions",
           "steven mnuchin"
          ],
          [
           "unfortunately past administrations turned blind eye problems allowing new quasi publics formed without proper oversight controls transparency recent scandals ct port authority ct lottery corporation issues longer ignored charge",
           "len fasano"
          ],
          [
           "needless say going anymore",
           "brian kemp"
          ],
          [
           "would thought impeachment hearing would seen negative",
           "mark owens"
          ],
          [
           "believe people right anything last four years wrong weapons mass destruction get benghazi right",
           "rush limbaugh"
          ],
          [
           "committed non political non partisan approach head intelligence community safety security depend",
           "stephanie grisham"
          ],
          [
           "mississippi river feels affects happens missouri sure coalition grow work make sure know input mississippi may feel way going",
           "david sieck"
          ],
          [
           "words insurer pay deductible co insurance everything else waived",
           "gary chism"
          ],
          [
           "ok ok colleagues let go back chairs resume",
           "mitch mcconnell"
          ],
          [
           "remember feeling leaving home later flying middle east gulf war remember cold nights desert knowing would make see another day sacrificed miguel villalon sacrificed",
           "richard irvin"
          ],
          [
           "learn many people actually contract disease may well arrive lower number",
           "mike pence"
          ],
          [
           "really nothing comment",
           "jerry jones"
          ],
          [
           "well number one mr president american people understand done effort destroy trump matter cost country getting bit old pissing lot people",
           "lindsey graham"
          ],
          [
           "treated like animals",
           "roy butler"
          ],
          [
           "architects country",
           "mitch mcconnell"
          ],
          [
           "u continue fulfill reputation international force reckoned work promote peace throughout middle east",
           "dan newhouse"
          ],
          [
           "fair process",
           "steve scalise"
          ],
          [
           "walked house reeked smoke",
           "shannen doherty"
          ],
          [
           "get people thinking test matters",
           "mercedes schlapp"
          ],
          [
           "think probably combination multitude things",
           "jim scheer"
          ],
          [
           "parliamentarian put little sand gears",
           "chuck grassley"
          ],
          [
           "want engage scammer",
           "andrew saul"
          ],
          [
           "making decisions based facts fear",
           "kirsten baesler"
          ],
          [
           "today realistic",
           "mike pompeo"
          ],
          [
           "look government lax investigating pathetic",
           "rudy giuliani"
          ],
          [
           "personally going medical crisis recently prevented road catheter removed abdomen couple days ago soon incision healed hitting road pick issues directly community seeing issues focus reconstruction planning",
           "mike kelly"
          ],
          [
           "believe pay premiums appreciate service get",
           "kevin stitt"
          ],
          [
           "want responsive want quick new things pop working governmentwide response plan know hope resolve one",
           "elaine chao"
          ],
          [
           "united states urges countries join us pressing immediate end repression",
           "mike pompeo"
          ],
          [
           "public option two things vehemently oppose one mandatory participation providers price controls",
           "bob rankin"
          ],
          [
           "environment open transparent inviting",
           "jessica simpson"
          ],
          [
           "want ask pence said laugh pope handed box mom",
           "mike pence"
          ],
          [
           "hope gets passed monday looking anywhere week scenario",
           "steven mnuchin"
          ],
          [
           "everyone hit pretty hard coronavirus road racing took big hit",
           "hank brown"
          ],
          [
           "multi step approach dynamic incident dealing virus",
           "bert stedman"
          ],
          [
           "one interesting thing keep eye going drivers",
           "jim nicholson"
          ],
          [
           "spend time taking political shots arguing ideological purity",
           "marco rubio"
          ],
          [
           "office prosecuted cases connected sex trafficking child exploitation illegal operations related trafficking arena since taken office",
           "mark brnovich"
          ],
          [
           "cause public alarm speculation",
           "henry mcmaster"
          ],
          [
           "hard working men women taking risks making sacrifices put state path prosperity",
           "suzanne crouch"
          ],
          [
           "challenge anyone wanted nation challenge overcome someday hopefully soon nation virus heels main street small businesses thriving families flying around country reunite catch",
           "mitch mcconnell"
          ],
          [
           "transparency core legality",
           "mark brnovich"
          ],
          [
           "safe say trails shut",
           "kathryn barger"
          ],
          [
           "starting tomorrow advise postponing canceling gathering people ask employers companies allow people work home",
           "roy cooper"
          ],
          [
           "think put holman folks designed",
           "cam ward"
          ],
          [
           "first hours abduction critical watchful eyes kansas citizens help save child life",
           "derek schmidt"
          ],
          [
           "stop think really",
           "debbie mayfield"
          ],
          [
           "appeals court decision put thousands men women work",
           "patrick morrisey"
          ],
          [
           "fun set drive crazy filmed months months utah tv show l time never really worked cast age really fun bunch teenagers like twentysomethings playing teenagers",
           "melissa joan hart"
          ],
          [
           "keep getting back look avoid situations lot close contact lot people",
           "mike dewine"
          ],
          [
           "blank check sense limited ability take losses",
           "jay powell"
          ],
          [
           "biggest health emergency time",
           "john f. kennedy"
          ],
          [
           "predicts much movement happen",
           "scott mcinnis"
          ],
          [
           "may well opportunity think status quo terms business model companies use rebates buy formulary access think lasts",
           "scott gottlieb"
          ],
          [
           "seeking advice ideas pretty much everything sun",
           "ron desantis"
          ],
          [
           "know norm think trying get rid generation",
           "roseanne barr"
          ],
          [
           "want every principal go website",
           "andrew pollack"
          ],
          [
           "message giving stay home stay safe practice social distancing personal distancing whatever hockey stick apart",
           "bill weber"
          ],
          [
           "president withheld vital military funds government press president delayed funds american ally war russian invaders president purpose personal political accordingly president guilty appalling abuse public trust flagrant assault electoral rights national security fundamental values corrupting election keep oneself office perhaps abusive destructive violation one oath office imagine",
           "mitt romney"
          ],
          [
           "today clear message united states sees ukrainian struggle freedom democracy prosperity valiant one commitment support waiver",
           "mike pompeo"
          ],
          [
           "think important people begin think marathon sprint steps taken today day save lives ensure come back stronger ever never confident",
           "doug ducey"
          ],
          [
           "hyphenated capitalism capitalism",
           "nikki haley"
          ],
          [
           "going lot moving parts going something like",
           "brian kemp"
          ],
          [
           "think los angeles mourning death kobe bryant",
           "roger goodell"
          ],
          [
           "one hand curses north korea kim jong un hand rushes take picture",
           "melania trump"
          ],
          [
           "provides path moving forward venezuelan people suffered hands nicolas maduro",
           "ted cruz"
          ],
          [
           "depression years long",
           "ben bernanke"
          ],
          [
           "lily family reason event provides great social experience guests feel important keep event centered around st jude vitally important work curing catastrophic childhood illnesses",
           "elizabeth randall"
          ],
          [
           "go survival mode kitchen",
           "anthony bucco"
          ],
          [
           "ms trump husband jared kushner also senior white house adviser traveled three children trump national golf club bedminster new jersey celebrate first night passover month according two people knowledge travel plans even seders across country canceled families gathered remotely apps like zoom",
           "ivanka trump"
          ],
          [
           "changes equation technology need deliberate approach getting technology quickly",
           "scott gottlieb"
          ],
          [
           "think debacle last night maybe kills idea iowa caucuses future",
           "karl rove"
          ],
          [
           "think bring president",
           "mick mulvaney"
          ],
          [
           "going take burden president next appropriations bill going money",
           "lindsey graham"
          ],
          [
           "far eliminating practice plural marriage government actions merely isolated polygamous families drove underground instilled fear led culture secrecy within communities",
           "deidre henderson"
          ],
          [
           "understand issue us",
           "lynn toler"
          ],
          [
           "strongest fundraising operation presidential history unmatchable data digital operation make us uniquely equipped sustain digital fundraising operation",
           "kayleigh mcenany"
          ],
          [
           "matter short long protracted quick matters full fair neither house proceeding",
           "kellyanne conway"
          ],
          [
           "going back soon",
           "henry mcmaster"
          ],
          [
           "qassem soleimani active enemy combatant de facto commander iran global terrorist proxy network directly responsible deaths hundreds americans continued plot attacks u diplomats american service members",
           "marco rubio"
          ],
          [
           "aoc know anything law armed conflict obviously",
           "lindsey graham"
          ],
          [
           "suv occupied driver appeared run red light",
           "ryan peters"
          ],
          [
           "protect sources methods simply able share every member congress intelligence supported president decision assure viewers threat imminent attack",
           "mike pence"
          ],
          [
           "reasonable acclimatization period rehearsals practices occur prior resuming contests games",
           "greg abbott"
          ],
          [
           "want continue dialogue",
           "mark esper"
          ],
          [
           "want know direction want know talked way schiff lied",
           "josh hawley"
          ],
          [
           "relying false information provided czech politician pavel fischer",
           "marco rubio"
          ],
          [
           "federal laws place related schedule states conflicting rules resolved",
           "darin lahood"
          ],
          [
           "note sad hatred praying author hateful rhetoric publicly condemned opponent immediately",
           "elise stefanik"
          ],
          [
           "speaker ralston working diligently ensure appropriate time general assembly resumes critically important work",
           "geoff duncan"
          ],
          [
           "continue focus solely providing necessary resources help constituents stay healthy revive economy assisting small businesses employees families",
           "ross spano"
          ],
          [
           "anyone doubt least half country would view removal illegitimate nothing short coup etat",
           "marco rubio"
          ],
          [
           "consumers become interested cases concerned kinds packaging really seeing groundswell interest making packaging better environment",
           "donald trump jr. ."
          ],
          [
           "think happen recommendation would drop hammer mitigate virus spread curve shatter curve",
           "steve bannon"
          ],
          [
           "individuals groups promote communal violence politically motivated violence",
           "mike burgess"
          ],
          [
           "west virginians always answered call defend nation proud nominate accomplished young men women thank willingness serve",
           "carol miller"
          ],
          [
           "please join recognizing contributions",
           "gary herbert"
          ],
          [
           "gon na try make orderly gon na try make sure people get want people waiting line four hours",
           "ron desantis"
          ],
          [
           "better assessment two three weeks see march sales tax report looks like",
           "gerald robinson"
          ],
          [
           "type educational institution",
           "greg abbott"
          ],
          [
           "strong building support throughout country",
           "mike pompeo"
          ],
          [
           "become gift keeps giving something keeps happening building",
           "scott sherman"
          ],
          [
           "tough enough stand president trump",
           "tommy tuberville"
          ],
          [
           "bowing whims powers high",
           "william sharer"
          ],
          [
           "want put tax people go ahead put carbon tax tax hard working people personally think costs going lot lower years technology",
           "steven mnuchin"
          ],
          [
           "president trump proud way american businesses stepped forward every business said drop anything go work make happen",
           "mike pence"
          ],
          [
           "found path worked american dream",
           "marsha blackburn"
          ],
          [
           "blame hillary clinton leon panetta benghazi mission understaffed know",
           "anne stevens"
          ],
          [
           "share information coronavirus trusted sources like center disease control department health human services spread misinformation politicized news stories",
           "tom emmer"
          ],
          [
           "want see summary done cannot close book otherwise keep repeating na wala kayo nasosolve solve anything",
           "richard gordon"
          ],
          [
           "months election still looking indications realdonaldtrump plans build wall",
           "ann coulter"
          ],
          [
           "head executive branch people chance november want different one",
           "trey gowdy"
          ],
          [
           "deeply humbled grateful endorsement alabama farmers federation",
           "jeff coleman"
          ],
          [
           "working hard lessen financial impact laid work reduction due covid stay home care family members children due illness school daycare closures",
           "governor kim reynolds"
          ],
          [
           "understand disappointing graduates families",
           "ron desantis"
          ],
          [
           "think everyone right assessing",
           "carrie underwood"
          ],
          [
           "junior varsity political hostage situations",
           "mitch mcconnell"
          ],
          [
           "time act support economy",
           "jerome powell"
          ],
          [
           "far long burdensome lengthy permitting regulatory processes slowed even destroyed infrastructure energy projects across kansas government regulations one top concerns businesses district unnecessary delays projects hurt business owners communities local economies studies permits necessary proper development need timely economically feasible applaud president trump council environmental quality efforts overhaul streamline environmental permitting process",
           "roger marshall"
          ],
          [
           "purpose make sure bringing virus back home infecting others spreading around military",
           "mark esper"
          ],
          [
           "fate culture nation hangs balance",
           "dan crenshaw"
          ],
          [
           "best weapon mouth",
           "david santiago"
          ],
          [
           "sending letters sending tweets suggest bill barr honorable man great job ultimately restore credibility doj attacking going stand president political theory right thing",
           "mark meadows"
          ],
          [
           "ensure afghanistan never serves international terrorists",
           "mike pompeo"
          ],
          [
           "appetizing opportunity",
           "mehmet oz"
          ],
          [
           "going test going self quarantine severely limited interactions people",
           "brian kemp"
          ],
          [
           "people living units ok making fantastic salary young professions people first jobs",
           "clyde evans"
          ],
          [
           "hearing personally people across state frustrated exposed sick want get tested nowhere go",
           "marco rubio"
          ],
          [
           "help alleviate",
           "brian babin"
          ],
          [
           "fomc believes current stance monetary policy support continued economic growth strong labor market inflation returning committee symmetric objective",
           "jerome powell"
          ],
          [
           "must difficult hear father young child",
           "tom sawyer"
          ],
          [
           "failure harmed u afghan relations",
           "mike pompeo"
          ],
          [
           "work together defeat covid us agreed purchase urgently needed personal protective equipment russia help fema respond new york city",
           "mike pompeo"
          ],
          [
           "technology become daily part children lives positive negative ways live age many people allow number retweets likes define self worth",
           "melania trump"
          ],
          [
           "must ensure health care professionals first responders medical facilities resources need combat covid",
           "kevin stitt"
          ],
          [
           "media showed charlatans yesterday expose every single day",
           "pete hegseth"
          ],
          [
           "sunday evening able give specific guidance website available type symptoms see whether test indicated",
           "mike pence"
          ],
          [
           "idea name art city subsidized building called works art people throwing elephant dung picture virgin mary sick someone wants privately pay privately first amendment government subsidize something like outrageous",
           "rudy giuliani"
          ],
          [
           "person every business owner talked wrestling issue",
           "susan collins"
          ],
          [
           "kind music think music represented sooner later super bowl forum half time show",
           "roger goodell"
          ],
          [
           "aurora still open business operate little differently",
           "richard irvin"
          ],
          [
           "goal campaign deny regime resources conduct destructive foreign policy want iran simply behave like normal nation",
           "mike pompeo"
          ],
          [
           "responsibility make sure righting ship going wrong direction",
           "jack tate"
          ],
          [
           "regulations strengthen national security modernize investment review process",
           "steven mnuchin"
          ],
          [
           "law may still unconstitutional restricting access mile limit honor",
           "brett kavanaugh"
          ],
          [
           "person started impeachment lost",
           "geraldo rivera"
          ],
          [
           "put tv people starved content lot new content since beginning march",
           "ron desantis"
          ],
          [
           "two individuals tested positive remain isolation time",
           "ron desantis"
          ],
          [
           "know desperate huge civil unrest country also manifested two governments prop iraq lebanon kind civil unrest",
           "mike pompeo"
          ],
          [
           "elevation water one factor determining damage factor idea wind",
           "bill reilich"
          ],
          [
           "love see bills get worked get policy",
           "paul ray"
          ],
          [
           "trade deal us maybe five eyes strengthen hand negotiating know closest geographically trading partner eu",
           "woody johnson"
          ],
          [
           "great thing honor military",
           "mel ponder"
          ],
          [
           "get ukraine long",
           "mike pompeo"
          ],
          [
           "confident could form legalized sports wagering within three years least end next two year general assembly dec",
           "rick carfagna"
          ],
          [
           "telling today going need beds north mississippi beds south mississippi",
           "tate reeves"
          ],
          [
           "north dakota success integrating refugees",
           "doug burgum"
          ],
          [
           "look congress partners",
           "mark esper"
          ],
          [
           "ccp aware reality virus early december ordered laboratories destroy samples forced doctors keep silent",
           "josh hawley"
          ],
          [
           "conscience country required",
           "mitt romney"
          ],
          [
           "fact signed acting secretary navy inside pentagon sends undeniable message momentum energy washington c san diego something truly special property marks huge next step revitalizing area civic asset serves u navy community regional transportation network",
           "kevin faulconer"
          ],
          [
           "roaring back trump pence agenda fact joe biden high energy candidate still high risk candidate",
           "kellyanne conway"
          ],
          [
           "would hope would learned experience would cautious language phone calls like one future clearly hope prediction",
           "susan collins"
          ],
          [
           "candidate spent time classrooms understand education critical state",
           "aimee winder newton"
          ],
          [
           "whatever goals life juggling",
           "carrie underwood"
          ],
          [
           "anybody wants hear shut eyes especially little kids shut eyes go near say buzz lightyear stuff",
           "tim allen"
          ],
          [
           "general public liked type ad recent super bowls",
           "liz taylor"
          ],
          [
           "seem pretty good right isolated",
           "newt gingrich"
          ],
          [
           "symptoms remain mild serve 16th district home fully recover",
           "mike kelly"
          ],
          [
           "march alone iowa food pantries helped iowans applications food assistance time last year",
           "governor kim reynolds"
          ],
          [
           "want acknowledge incredible impact action could businesses individuals",
           "governor charlie baker"
          ],
          [
           "critical european countries give control critical infrastructure chinese tech giants like huawei",
           "mike pompeo"
          ],
          [
           "west coast half way country great place middle manufacturing takes place exposed europe believe stand get great geographical benefits going forward",
           "woody johnson"
          ],
          [
           "went stopped couple places got breakfast stopped get paper dead",
           "tom campbell"
          ],
          [
           "nancy pelosi adam schiff failed american people lost time get back people business",
           "tom cotton"
          ],
          [
           "half country trying hold christian principles righteousness half seems meaningful faith",
           "james dobson"
          ],
          [
           "president entirely justified asking investigation",
           "ted cruz"
          ],
          [
           "american casualties coalition casualties president said yesterday continue believe iran standing",
           "mike pence"
          ],
          [
           "certain gestures life sitting like",
           "chuck grassley"
          ],
          [
           "know going make community safer",
           "jeff keicher"
          ],
          [
           "success ukraine maintaining freedom system representative government free market economy free corruption dealing problems donbas eastern ukraine crimea high priorities obviously high priorities united states well",
           "john r. bolton"
          ],
          [
           "impacts denominator fatality rate concerning many people unfortunately passing away versus many infected",
           "alex azar"
          ],
          [
           "come far falter made tremendous strides yet reached destination",
           "dennis bonnen"
          ],
          [
           "intelligence russia anything attempt get president trump reelected",
           "robert mueller"
          ],
          [
           "supply disruptions yet",
           "larry kudlow"
          ],
          [
           "four years planning iowa democrat caucus flames",
           "mark meadows"
          ],
          [
           "proven incredibly frustrating work chinese communist party get hands around data set",
           "mike pompeo"
          ],
          [
           "sen tom coburn speaks final town hall meeting tulsa community college vantrease performing arts center tulsa okla wednesday august matt barnard tulsa world",
           "tom coburn"
          ],
          [
           "really enjoyed time",
           "jimmy haslam"
          ],
          [
           "know kelly supposed today medical procedure",
           "steve greenberg"
          ],
          [
           "demeaning office seeking",
           "john h. sununu"
          ],
          [
           "care matt mercedes schlapp really good friends mine grateful given platform audience",
           "matt gaetz"
          ],
          [
           "hundreds millions dollars going terrorist organizations across globe including hemisphere",
           "thom tillis"
          ],
          [
           "documents related former vice president joe biden son hunter biden previous work ukraine",
           "lindsey graham"
          ],
          [
           "generally utilized ideas come members working groups stakeholders",
           "christine radogno"
          ],
          [
           "actually wanted give numbers",
           "ron desantis"
          ],
          [
           "let go buy fill reserve",
           "steven mnuchin"
          ],
          [
           "going impact going feel long time quickly get things back somewhat open need work towards",
           "billy nungesser"
          ],
          [
           "feel optimistic year felt year american politics everything going well country economic matters foreign policy",
           "joel pollak"
          ],
          [
           "councillor woodward said every response counts care issue please express views",
           "sarah davis"
          ],
          [
           "made choice concert regional departments make sure prevent spread incoming officers",
           "kevin faulconer"
          ],
          [
           "flu vaccine",
           "jeanine pirro"
          ],
          [
           "concern cover disinformation chinese communist party engaged still denying world information needs prevent cases something like recurring",
           "mike pompeo"
          ],
          [
           "wisconsin said yes president trump",
           "mike pence"
          ],
          [
           "think zero emission vehicle owners need part solution",
           "vince fong"
          ],
          [
           "would urge people get flu vaccinations",
           "michael beard"
          ],
          [
           "know frustrating many people",
           "governor charlie baker"
          ],
          [
           "want us focus witnesses want focus substance",
           "kellyanne conway"
          ],
          [
           "part concern got many agencies involved mental health issue spreading resources thin able effective",
           "frank simpson"
          ],
          [
           "two gentlemen mentioned state championship year remarkable importantly hear much give back kids community",
           "roger goodell"
          ],
          [
           "need producing steel need manufacturing jobs certainly need producing critical medications need protect citizens",
           "louie gohmert"
          ],
          [
           "host protections",
           "debbie lesko"
          ],
          [
           "confident commercial labs around country high speed automated tests literally going see tens thousands tests days weeks ahead american people",
           "mike pence"
          ],
          [
           "proud work state indiana hope continue bring best minds together deal issue",
           "ron desantis"
          ],
          [
           "decided convene task force comprised administration faculty students alumni outside experts evaluate adequacy policies protecting culture mutual respect trust support feeling safety students would like work task force include review impact social media anonymous messages culture",
           "sheila bair"
          ],
          [
           "risk america right low current situation concern future going spread virus",
           "gary herbert"
          ],
          [
           "israelis make decisions according israeli law seen israelis handle matter settlements legally always find way",
           "mike pompeo"
          ],
          [
           "even dine carry options still available patrons many arizona restaurants struggling due covid today executive order provides flexibility restaurant owners safely sell prepared bulk foods supplies hand use right proud support arizona restaurants reform",
           "doug ducey"
          ],
          [
           "express governor believe numbers high express right seen final numbers",
           "del marsh"
          ],
          [
           "covid equal opportunity disease affecting people across globe regardless race religion",
           "kevin faulconer"
          ],
          [
           "probably important thing us trump voters voted sat president top",
           "jeff kaufmann"
          ],
          [
           "vote terminate national emergency support cutting dod transfer authority ndaa importantly bring republicans",
           "mac thornberry"
          ],
          [
           "got non catholic donald trump delivering catholic social teaching principles",
           "tim huelskamp"
          ],
          [
           "perfect track record missing opportunities",
           "jared kushner"
          ],
          [
           "proposed going spend several billion dollars coronavirus take foreign aid account",
           "rand paul"
          ],
          [
           "matter convincing email irs employee may seem even using name home address government entity ever ask payment untraceable source",
           "leslie rutledge"
          ],
          [
           "future whenever open return going penalized",
           "robert mueller"
          ],
          [
           "allows us flexibility continue address supply chain make sure essential workers line know appreciated feel comfortable continuing come work",
           "gov. kim reynolds"
          ],
          [
           "first time israel ever agreed palestinian state first time israel agreed map amazing opportunity palestinian leadership",
           "jared kushner"
          ],
          [
           "expeditious yet thorough",
           "jay sekulow"
          ],
          [
           "let figure keep people safe got keep people informed",
           "rick scott"
          ],
          [
           "literally year bull market",
           "mr. kennedy"
          ],
          [
           "taking part one many passions",
           "peter knudson"
          ],
          [
           "going cover way democrats media cover",
           "rudy giuliani"
          ],
          [
           "maximize efficiencies match draft panama canal",
           "sean duffy"
          ],
          [
           "policy laid desk minutes voted",
           "todd gilbert"
          ],
          [
           "seems place",
           "matt schlapp"
          ],
          [
           "worked defensive game lot think young player coming league tough sometimes think developing game becoming foot player something coaches harped lot lethbridge think done",
           "brett davis"
          ],
          [
           "insofar economy see material impact",
           "larry kudlow"
          ],
          [
           "honor well deserved congratulate kevin selected naismith memorial basketball hall fame",
           "glen taylor"
          ],
          [
           "even president would need rely request state governors assistance could intervene",
           "john yoo"
          ],
          [
           "move one step closer cure",
           "brian kemp"
          ],
          [
           "students cell phones data plans computers paid accommodate",
           "amanda price"
          ],
          [
           "reporting read today indicated vigorous debate within dc u attorney office range called sentencing recommendation would come prosecutors advocating higher end range standard case defendant gone trial lost typically results recommendation higher end range new u attorney c aaron zelinksy took time thinking agreed first filing submitted",
           "andrew mccabe"
          ],
          [
           "someone wanted team",
           "scott martin"
          ],
          [
           "current law florida prohibits personnel retire state workforce returning work six months date retirement",
           "ron desantis"
          ],
          [
           "first think tom right mark",
           "tom cotton"
          ],
          [
           "official events much",
           "james lankford"
          ],
          [
           "project positive economic impact community bringing additional jobs want thank senator shelby work bringing project anniston",
           "del marsh"
          ],
          [
           "nothing political exercise distract american people president trump record results",
           "thom tillis"
          ],
          [
           "attack today orchestrated terrorists abu mahdi al muhandis qays al khazali abetted iranian proxies hadi al amari faleh al fayyad",
           "mike pompeo"
          ],
          [
           "zero interest manifested either house speaker nancy pelosi senate democratic minority leader chuck schumer coronavirus outbreak anything problematic occurring china chinese communist government coverup coronavirus outbreak",
           "ted cruz"
          ],
          [
           "tell exactly deleted tweet tell policy listen comment demeaning characterization send least neighborhoods criminals",
           "dana perino"
          ],
          [
           "need funding need fast",
           "mitch mcconnell"
          ],
          [
           "immediate risk american public remains low community transmission number countries including outside asia deeply concerning",
           "alex azar"
          ],
          [
           "million tests",
           "alex azar"
          ],
          [
           "political hit job try smear scared death run good reason concerned",
           "joni ernst"
          ],
          [
           "taking every possible step protect americans coronavirus provide hope",
           "alex azar"
          ],
          [
           "work secretary mnuchin leader schumer hope approve funding paycheck protection program unanimous consent voice vote next scheduled senate session thursday",
           "mitch mcconnell"
          ],
          [
           "across georgia partnered existing health care infrastructure greatly expand surge capacity",
           "brian kemp"
          ],
          [
           "community members decided abide ban resulted charges",
           "peter johnson"
          ],
          [
           "country club physical conditions better dealing units parchman",
           "tate reeves"
          ],
          [
           "got try slow thing early",
           "mike dewine"
          ],
          [
           "yes proud right word",
           "rob cook"
          ],
          [
           "allegedly touting monthly returns per cent michael ackerman able raise 35m investments fake cryptocurrency scheme",
           "geoffrey berman"
          ],
          [
           "words say suppose everything say democrats true say purpose argument everything said true still meet constitutional standard impeachment removal office",
           "john yoo"
          ],
          [
           "given penchant gaffes need political figures project stability uncertain time creates advantage team",
           "bruce haynes"
          ],
          [
           "lack compassion towards animals one red flags potential killers",
           "andy barr"
          ],
          [
           "fortunately experiencing symptoms continue working remotely congress coronavirus response",
           "steve scalise"
          ],
          [
           "going look back week say difficult decision",
           "mike dewine"
          ],
          [
           "florida america need four years trump white house",
           "mike pence"
          ],
          [
           "whose vision mayor",
           "tomi lahren"
          ],
          [
           "get requests look activating need federal level using reserves whatever case may",
           "mark esper"
          ],
          [
           "think going cost business industry",
           "robin hayes"
          ],
          [
           "well know hearing school administrators essentially happening sentenced school place put short sighted part schools really serious difficulty",
           "lance russell"
          ],
          [
           "legislation senate moving actually addresses number concerns expressed house republican caucus last year",
           "steven holt"
          ],
          [
           "believed could never done got council could operated assumption could",
           "ross spano"
          ],
          [
           "work people reason believe pompeo requested discuss iran dare move discussion ukraine requested make comments record dare bring public",
           "mike pompeo"
          ],
          [
           "gettysburg park spokesperson summarized sentiment perfectly stating memorials erected predominantly early mid 20th century important part cultural landscape",
           "lyle larson"
          ],
          [
           "caucus resource educate members congress broadcast related issues importance local radio television stations tens millions americans",
           "tom emmer"
          ],
          [
           "world wuhan",
           "larry kudlow"
          ],
          [
           "asking throw successful president eve election basis violation constitution would dangerously change country weaken weaken forever democratic institutions",
           "pat cipollone"
          ],
          [
           "people lose everything worked entire life",
           "steve scalise"
          ],
          [
           "particularly proud work done finding saving money instead spending",
           "johnny khamis"
          ],
          [
           "one things worry enough beds enough ventilators enough personal protection equipment",
           "mike dewine"
          ],
          [
           "young heart body conditioning",
           "estelle getty"
          ],
          [
           "haggling house senate procedure",
           "mitch mcconnell"
          ],
          [
           "depend political figure police",
           "curtis sliwa"
          ],
          [
           "bradley challenges budget similar city everybody else address challenges wanted make overt statement know get fine",
           "jim ardis"
          ],
          [
           "happen categorically happen talked president morning promise language used language use",
           "mark meadows"
          ],
          [
           "dissimilar supreme court recognized capacity undermine security others firearms may used kill another person",
           "john paul stevens"
          ],
          [
           "budge taking sex scene",
           "jessica simpson"
          ],
          [
           "hunt deep disruptive reaction immediate",
           "mike pompeo"
          ],
          [
           "working increase opportunities wichita kansas businesses contract defense work",
           "jerry moran"
          ],
          [
           "concern parent groups want sure kids getting bus dark",
           "justin ready"
          ],
          [
           "essential international community wake",
           "mark esper"
          ],
          [
           "want caution older may pre existing health conditions compromised immune systems take make wise decisions",
           "kristi noem"
          ],
          [
           "working every day make sure happens",
           "mike parson"
          ],
          [
           "made decisions patient measured",
           "mark keough"
          ],
          [
           "heart already guaranteed forever none us",
           "josh powell"
          ],
          [
           "impressed attitude roll sleeves different hours day midnight really offered lot good advice based past international experience",
           "jim watson"
          ],
          [
           "two others row trying hard worry see us soon town near",
           "katrina pierson"
          ],
          [
           "think going child vice president going move undecided voter",
           "frank luntz"
          ],
          [
           "state continues address pandemic urge georgians remain calm support neighbors communities fight together",
           "brian kemp"
          ],
          [
           "health officials talked cdc noticed people throughout country also florida department health put advisory number people florida beyond nile river cruises recently presented symptoms",
           "ron desantis"
          ],
          [
           "rematch going different game plan different strategy percent confident able stand",
           "colby covington"
          ],
          [
           "remaining years peacefully home",
           "shannen doherty"
          ],
          [
           "legislature years started working issue even elected others worked issue decades",
           "paul torkelson"
          ],
          [
           "presidents propose budgets congress passes spending bills expect congress continue support aml program",
           "morgan griffith"
          ],
          [
           "people state hurting family owned businesses run ground hundreds thousands people lost jobs",
           "lee chatfield"
          ],
          [
           "different procedures within hospital would aggregate cost compare data hospital hospital database would place consumers go compare cost getting procedure done versus evansville versus washington versus vincennes",
           "mark messmer"
          ],
          [
           "transportation still going everything fine certainly priority move forward",
           "mike dewine"
          ],
          [
           "end day better safe err side",
           "ron desantis"
          ],
          [
           "wanted know things going whether needed anything",
           "lenny curry"
          ],
          [
           "looked back phone saw service",
           "robert ross"
          ],
          [
           "whole new way producing events thinking virtual solutions",
           "ryan costello"
          ],
          [
           "incidents indicate many champion part first amendment bars establishment religion choose ignore clear admonition prohibiting free exercise religion",
           "betsy devos"
          ],
          [
           "relevant factual information",
           "matt gaetz"
          ],
          [
           "done lot damage past couple years",
           "francis rooney"
          ],
          [
           "h 2a workers really important idaho ag industry state boat certainly near top list",
           "jim risch"
          ],
          [
           "good run sometimes markets looking excuse think found one",
           "jim gerlach"
          ],
          [
           "light disruption uncertainty created global coronavirus pandemic",
           "michael dell"
          ],
          [
           "developed strategy attempt convince iranian regime behave like normal nation",
           "mike pompeo"
          ],
          [
           "feel panic feel volatility",
           "ben bernanke"
          ],
          [
           "states may impose health care related taxes broadly raise revenue health care providers used finance additional medicaid payments",
           "seema verma"
          ],
          [
           "know state figure wife thinks million people half population roughly america got killed going like two years illness gets worse",
           "rudy giuliani"
          ],
          [
           "find u economy good place performing well",
           "jerome powell"
          ],
          [
           "story ever run new york times biden team manage squash fearing blowback son hunter dirty dealings maybe",
           "laura ingraham"
          ],
          [
           "challenged threat compare attack pearl harbor attack general assembly responded sense urgency determination",
           "asa hutchinson"
          ],
          [
           "idea cases broward anywhere else want able supplement healthcare system",
           "ron desantis"
          ],
          [
           "legislation effort least boost efforts screening contraband",
           "tom o'mara"
          ],
          [
           "northeast market continues extremely competitive deposits company focused providing high touch client service key element growing personal commercial core deposit base company focused multiple retail channels well commercial channels including enhanced treasury management escrow offerings private bankers remain keenly focused deposit gathering",
           "mr. kennedy"
          ],
          [
           "know recall president bill clinton gave state union middle process would expect reason believe thing happen",
           "roy blunt"
          ],
          [
           "know going people get sick",
           "john katko"
          ],
          [
           "proven incredibly frustrating work chinese communist party get hands around data set ultimately solution getting vaccine attacking risk",
           "mike pompeo"
          ],
          [
           "would harmful time middle class",
           "len fasano"
          ],
          [
           "put terms powerpoint like interest rates inflation credit unless make real pupils learn",
           "tom berry"
          ],
          [
           "important thing president done things done important finally outed media media town corrupt took somebody like trump finally bring shell openly go",
           "devin nunes"
          ],
          [
           "relieved fellow passengers survived cowardly attack unharmed",
           "mike pompeo"
          ],
          [
           "president giving us direction working direction president would like deal",
           "steven mnuchin"
          ],
          [
           "human rights equality main right happy properties homes know families safe roads free increasing cost rates levies charges crucial",
           "brian thomas"
          ],
          [
           "fund federal funds",
           "paul lundeen"
          ],
          [
           "story broke best recollection never heard",
           "mike pompeo"
          ],
          [
           "hopeful positive trend continue italy parts world soon",
           "melania trump"
          ],
          [
           "disruptions china spill rest global economy",
           "jerome powell"
          ],
          [
           "former president abraham lincoln contended pro choice arguments day",
           "betsy devos"
          ],
          [
           "president making clear democrats parroting iranian talking points almost taking side terrorists kill americans",
           "stephanie grisham"
          ],
          [
           "asking martyrdom knew think knew getting months best could judge results policies",
           "john r. bolton"
          ],
          [
           "well intended simply gone far enough change culture around using technology behind wheel strengthening ohio laws believe change behaviors prevent crashes save lives",
           "mike dewine"
          ],
          [
           "started seized oil tankers attacks saudi oil facilities remember embarrassed u navy actually capturing number sailors posting internet went shooting drones attacking bases actually confronting attacking embassy",
           "dan crenshaw"
          ],
          [
           "good news americans contracted coronavirus half almost fully recovered think reflection fact early crisis president took unprecedented step suspending travel china establishing quarantining effect",
           "mike pence"
          ],
          [
           "democrats witnesses republicans witnesses",
           "melania trump"
          ],
          [
           "people refusing vaccinations certain vaccinations adverse reactions",
           "lori saine"
          ],
          [
           "think anybody cares justice today day year appreciate fact president full throttle defense facts everybody morning reading lesser known passages dr king appreciate fact nation respect giving day happy share birthday day",
           "kellyanne conway"
          ],
          [
           "never thought would see agree go interact dialogue meet women meet government meet civil society president trump leadership ending america longest war responsible way possible",
           "mike pompeo"
          ],
          [
           "big sense humor",
           "jane nelson"
          ],
          [
           "pet child friendly park important help",
           "julie quinn"
          ],
          [
           "want amendment vote see happens",
           "lindsey graham"
          ],
          [
           "would suggest seriously taking look market stock market lot cheaper week two ago",
           "larry kudlow"
          ],
          [
           "furious china culpability",
           "meghan mccain"
          ],
          [
           "complicated tricky emergencies different weather event tornado hurricane different terrorism different sense happen everywhere time",
           "mike leavitt"
          ],
          [
           "refused stay hospital refused pick hospital",
           "charlie sheen"
          ],
          [
           "secure places america",
           "marco rubio"
          ],
          [
           "plan much effort change nicolas maduro mind effort appeal everyone else venezuela change mind",
           "elliott abrams"
          ],
          [
           "make sure testing critical making quarantine decisions travel politics also critical",
           "thom tillis"
          ],
          [
           "yesterday ohio first death coronavirus someone jon husted knew well liked well respected much mark wagner sr prominent attorney toledo someone board elections someone prominent republican party respected liked everyone knew",
           "mike dewine"
          ],
          [
           "trying get deal quick get deal hope tonight absolutely still think get",
           "steven mnuchin"
          ],
          [
           "dissolution future forward constitutional court essentially way political order set current constitution supposed work",
           "michael montesano"
          ],
          [
           "way also financing rising deficit cheapest cost taxpayers",
           "steven mnuchin"
          ],
          [
           "dictionaries confirm actual knowledge piece information one must fact aware",
           "samuel alito"
          ],
          [
           "framers constitution intended lower bar way danger danger danger next president one would held standard hope pray",
           "jay sekulow"
          ],
          [
           "chill voter effect",
           "kelly townsend"
          ],
          [
           "like family squabbles end day family come back agree important things",
           "woody johnson"
          ],
          [
           "duration outbreak time difficult predict",
           "david malpass"
          ],
          [
           "support nomination president look forward confirmation senate",
           "tom cotton"
          ],
          [
           "taking steps make easy vote ensure successful primary election cannot lose sight importance ballot integrity",
           "michael adams"
          ],
          [
           "revelation everybody planet governor kemp stay home order today",
           "brian kemp"
          ],
          [
           "austin shares lot parallels current canadian markets ottawa toronto large growing tech scene",
           "ed bryant"
          ],
          [
           "good management matters times like",
           "asa hutchinson"
          ],
          [
           "got different voices country running autopilot years",
           "tommy tuberville"
          ],
          [
           "would hope makes person choosing abortion reflect disposing human medical waste",
           "curt bramble"
          ],
          [
           "devastated hear lost beloved friend colleague briandennehy partners two favourite films split image best seller never laughed hard every day set big tough guy sweetheart ripbrian",
           "james woods"
          ],
          [
           "bob contributions state economy church heralded many sound principled leadership chairman olympic winter games compelling",
           "mitt romney"
          ],
          [
           "election months away",
           "pat cipollone"
          ],
          [
           "think long term interest self sufficient defense least minimum deterrent capability",
           "richard gordon"
          ],
          [
           "senator collins job elected",
           "susan collins"
          ],
          [
           "share encouragement people arkansas targeted approach working terms social distancing wearing mask gatherings makes difference get soon get beat curve",
           "asa hutchinson"
          ],
          [
           "giving relief directly americans better solution complicated sick leave policies payroll tax cuts certain go kinds hourly gig workers need",
           "tom cotton"
          ],
          [
           "talking asians talking china viruses emanated created pandemic",
           "john cornyn"
          ],
          [
           "thankful general soleimani",
           "mike pompeo"
          ],
          [
           "senate bill even better positioned rebound quicker",
           "eugene scalia"
          ],
          [
           "inside barns investigators documented months old piglets suffering bloody rectal prolapses intense overcrowding came across one piglet unable stand gasped air thrashing wildly several minutes eventually dying",
           "ken rozenboom"
          ],
          [
           "remarkable element plan includes eventual installation gondola start town waterville valley near town square transport guests summit green peak connecting pedestrian village ski resort incredibly exciting resort community",
           "john h. sununu"
          ],
          [
           "fabrication",
           "rick scott"
          ],
          [
           "asking something senate ever done evidence attempting perpetrate massive interference election american history cannot allow happen",
           "pat cipollone"
          ],
          [
           "heading l heading l",
           "rudy giuliani"
          ],
          [
           "well smart politics trash talk president make comments disparaging toward president even disagree influence process",
           "brian darling"
          ],
          [
           "contrived really reflect reality",
           "roy cooper"
          ],
          [
           "fun republican also fun student new york city politics",
           "joseph borelli"
          ],
          [
           "question asking persistent effects could lead material reassessment outlook",
           "jerome powell"
          ],
          [
           "believe activity practice social distancing still able get outdoors get exercise",
           "gov. kim reynolds"
          ],
          [
           "want ask legal brief democrats submit included number things including documents revealed recently lev parnas indicted business associate rudy giuliani among letter says rudy giuliani acting approval knowledge president reaching president ukraine items admissible trial",
           "john cornyn"
          ],
          [
           "egregious effort garner political support",
           "stephanie grisham"
          ],
          [
           "perfectly authority",
           "tate reeves"
          ],
          [
           "let books alone studied men women good deal",
           "donald trump , jr. ."
          ],
          [
           "doctors television need help shape script",
           "mehmet oz"
          ],
          [
           "never seen jimmie energized",
           "rick hendrick"
          ],
          [
           "health wise economically",
           "j. stuart adams"
          ],
          [
           "sources come progress project",
           "chris mcdaniel"
          ],
          [
           "opportunity work amazing clients allow us tell stories different lens",
           "jim christiana"
          ],
          [
           "alter basic demographic information rural urban areas state may also adversely affect longitudinal studies health safety welfare",
           "stuart adams"
          ],
          [
           "saw iranian backed terrorists come american embassy posing risk american diplomats personnel inside embassy",
           "mike pompeo"
          ],
          [
           "discussions number different mayors think points need statewide policy",
           "asa hutchinson"
          ],
          [
           "look number people projected may need ventilators really put much dent",
           "mark esper"
          ],
          [
           "always worried police violence escalation",
           "donald trump jr. ."
          ],
          [
           "asking turn results last election asking remove president trump ballot election occurring approximately nine months",
           "pat cipollone"
          ],
          [
           "original proposal consider seriously enforceable quarantine",
           "steven mnuchin"
          ],
          [
           "troop visited several historic naval ships baltimore area first time visiting aircraft carrier looking forward",
           "susan ford"
          ],
          [
           "c imagine president could accomplished everyone boat rowing way got people trying turn canoes turn boats within west wing even part c pennsylvania avenue",
           "mark meadows"
          ],
          [
           "whole document released wednesday",
           "larry kudlow"
          ],
          [
           "people closet probably problem",
           "mike parson"
          ],
          [
           "adult day services people developmental disabilities",
           "mike dewine"
          ],
          [
           "hearing president actually pulled nomination would good news",
           "devin nunes"
          ],
          [
           "iowa completely remove caucus general turn primary next election cycle clearly handle responsibility gravity",
           "john mccain"
          ],
          [
           "extra unemployment benefits come online way faster originally thought",
           "larry kudlow"
          ],
          [
           "country case region becomes problematic obviously gets reviewed day day basis",
           "ken cuccinelli"
          ],
          [
           "cities booming lot help rural areas state",
           "roy cooper"
          ],
          [
           "bishops met last summer forthcoming",
           "wayne stenehjem"
          ],
          [
           "number new proposals respect airlines",
           "larry kudlow"
          ],
          [
           "february especially strong month real estate sales recording second highest number february sales since began keeping statistics years ago",
           "tom cole"
          ],
          [
           "fact florida businesses made certain policing arm part government yes done equally",
           "jose oliva"
          ],
          [
           "also clear used attack presidency donald trump",
           "patrick morrisey"
          ],
          [
           "cia director lied cheated stole entire training courses reminds glory american experiment",
           "mike pompeo"
          ],
          [
           "trying get leniency prosecutor ties russian oligarchs",
           "john cornyn"
          ],
          [
           "availability fortuitous franchise",
           "jerry jones"
          ],
          [
           "nasa early thoughtful actions coordination country unified response health emergency incredible display national solidarity",
           "jim bridenstine"
          ],
          [
           "wan na raise daughter know girl born live",
           "candice miller"
          ],
          [
           "go back something old something new trees ultimate carbon sequestration",
           "bruce westerman"
          ],
          [
           "irs never call demanding payments personal financial information social security number credit card number bank account number",
           "curtis hill"
          ],
          [
           "millions end week",
           "alex azar"
          ],
          [
           "suffered marty schottenheimer playoff losses",
           "roger goodell"
          ],
          [
           "melania family always remember remarkable hospitality remember forever",
           "melania trump"
          ],
          [
           "mask keep someone else safe mask keep safe suggesting kind guarantee probably tremendous value person wearing mask probably significantly reduce risk people could inadvertently transmit",
           "pat toomey"
          ],
          [
           "got married one day week later graduated marquette",
           "jane nelson"
          ],
          [
           "troubling missouri supreme court assigned judge ruled unconstitutional years people state passed constitutional amendment judge make decision time",
           "jay ashcroft"
          ],
          [
           "investing emerging technologies many prototyped tested ready poised move production short budget invests bringing capabilities tomorrow life",
           "david norquist"
          ],
          [
           "ask judicial colleagues continue efforts promote public confidence judiciary rulings civic outreach celebrate strong independent judiciary key source national unity stability also remember justice inevitable reflect duty judge without fear favor deciding matter humility integrity dispatch",
           "john roberts"
          ],
          [
           "economic risks directions",
           "steven mnuchin"
          ],
          [
           "every country needs transparent gone country",
           "mike pompeo"
          ],
          [
           "need call master protocol basically test lot drugs",
           "scott gottlieb"
          ],
          [
           "hope legislation noor story able ensure one regardless religious affiliation choose playing sport religious beliefs",
           "theresa gavarone"
          ],
          [
           "want military conflict us united states iran let dial thing",
           "kellyanne conway"
          ],
          [
           "absolutely would go back",
           "jessica simpson"
          ],
          [
           "tell one thing get resolved guarantee",
           "jon bramnick"
          ],
          [
           "actually return home think safer everybody think universities equipped able handle remote learning",
           "ron desantis"
          ],
          [
           "enforcement executive order o4 involving businesses establishments profit non profit corporations organizations",
           "brian kemp"
          ],
          [
           "although authored brand x never late surrende r former views better considered position",
           "clarence thomas"
          ],
          [
           "chuck schumer trying take back senate",
           "lindsey graham"
          ],
          [
           "lack judgment matter major catalyst mr heinz ending business relationship mr archer mr biden",
           "pam bondi"
          ],
          [
           "withheld vital military funds government press",
           "mitt romney"
          ],
          [
           "found venue proper part umwa members residing wyoming county generated fees debts subject underlying dispute words fees manifestation breach",
           "beth walker"
          ],
          [
           "regulate see abuses",
           "jason monks"
          ],
          [
           "u army garrison hawaii cdcs continue use enhanced cleaning sanitation health screening procedures",
           "tom barrett"
          ],
          [
           "excited opportunity participate hipp big deal sme operating bay plenty new zealand competing sizeable entities three year journey involving written submissions participation intensive interviews held canberra submission mock response hypothetical survey project managed business usual",
           "greg cox"
          ],
          [
           "fact going get bottom",
           "lindsey graham"
          ],
          [
           "difficult attribute single factor undoubtedly fact major employers directing workers telecommute impact",
           "james allison"
          ],
          [
           "issuing challenge louisiana parents guardians",
           "jeff landry"
          ],
          [
           "gets crap kicked los angeles",
           "adam carolla"
          ],
          [
           "particular logical construct house managers used deceptive used several times logical construct x",
           "ted cruz"
          ],
          [
           "important want find crap started whistleblower former employee associate joe biden think would important whistleblower working people house intelligence chair adam schiff staff wanted take trump year half ago think would important",
           "lindsey graham"
          ],
          [
           "president barreling forward president commander chief taking world worst dangerous terrorist keeping economy humming getting trade deals china today usmca voted senate one hour articles impeachment",
           "kellyanne conway"
          ],
          [
           "expect tomorrow likely long night think move final judgment",
           "ted cruz"
          ],
          [
           "private industry states like new york leading way aggressive measures",
           "scott gottlieb"
          ],
          [
           "flu already killed across united states world frets coronavirus",
           "rush limbaugh"
          ],
          [
           "one trying censor ambassador bolton book",
           "hogan gidley"
          ],
          [
           "going cowboy think conor cashed let honest even knock old man stool going knock cowboy",
           "colby covington"
          ],
          [
           "tigress civil procedure",
           "antonin scalia"
          ],
          [
           "shameful assault press freedom",
           "mike pompeo"
          ],
          [
           "state way paying employees various forms taxes fees work performed would essence put taxpayers hook result collective bargaining",
           "kim ransom"
          ],
          [
           "would never done shocked leaving",
           "terry bradshaw"
          ],
          [
           "substance politicians say",
           "mike braun"
          ],
          [
           "unanimous unequivocal draft go forward planned",
           "roger goodell"
          ],
          [
           "unique ohio",
           "mike dewine"
          ],
          [
           "would st paul city council choose celebrate abortion may think necessary evil celebrate abortion bizarre",
           "paul gazelka"
          ],
          [
           "make decision whether need evidence terms documents witnesses",
           "lamar alexander"
          ],
          [
           "hope evaluate hope take seriously hope present counteroffer presented acceptable",
           "mike pompeo"
          ],
          [
           "tell see anyone standing iran",
           "nikki haley"
          ],
          [
           "expands access dairy gives wheat fair treatment grading enhances rules sanitary phytosanitary measures",
           "doug goehring"
          ],
          [
           "cause known need undue panic anxiety meanwhile situation needs monitored preparations place event disease spreads",
           "richard gordon"
          ],
          [
           "take steps like private industry ensure protection people take reasonable steps",
           "alex azar"
          ],
          [
           "intention simply extend self quarantine march full days interaction",
           "ted cruz"
          ],
          [
           "matter law matter quid pro quo true quid pros often used foreign policy",
           "ted cruz"
          ],
          [
           "people aware alternative ways proceed",
           "bill weld"
          ],
          [
           "wife family come theater background excited jumping right build right going amish acres",
           "marlin stutzman"
          ],
          [
           "lot good things going universities necessarily things people",
           "ron desantis"
          ],
          [
           "clubs level per cent income gate money gate money coming means would difficult clubs",
           "bill anderson"
          ],
          [
           "people need prepare shocked mathematical reality",
           "greg abbott"
          ],
          [
           "role newspapers unprecedented time national upheaval inform advise readers stay safe considered analysis latest developments",
           "david newell"
          ],
          [
           "always remember remarkable hospitality",
           "melania trump"
          ],
          [
           "great surge yet",
           "robert wilkie"
          ],
          [
           "arizona open minded hosting whatever major league baseball would like state facilities hotel space",
           "doug ducey"
          ],
          [
           "ensuring american leadership automated vehicle technologies",
           "elaine chao"
          ],
          [
           "contributions steadily risen despite tribal nations receiving state subsidies gaming industry",
           "joy hofmeister"
          ],
          [
           "response donald trump picked incendiary moved us right edge war long term interest",
           "meghan mccain"
          ],
          [
           "suggestion order",
           "mike dewine"
          ],
          [
           "people supposed get got stuff sell let people emergency door still sold things saturday people",
           "bill jenkins"
          ],
          [
           "need step address ppe shortage equipment shortage covid patients like ventilators",
           "rodney davis"
          ],
          [
           "every day week choose north country america far left hollywood liberals like rosie donnell chelsea handler funding opponent record breaking support indicative countless bipartisan results delivered hardworking families district",
           "elise stefanik"
          ],
          [
           "focused lawsuits filed opioid manufacturers distributors willing consider additional settlement offers",
           "leslie rutledge"
          ],
          [
           "senate democrats drop shameful threat block funding immediately",
           "john cornyn"
          ],
          [
           "addition battery costs declining technology involved autonomous vehicles lidar cameras computing declining dramatically price well",
           "eric tanenblatt"
          ],
          [
           "adam schiff typical radical left mentality taken democrat party",
           "rush limbaugh"
          ],
          [
           "still good friends close talked yesterday morning",
           "john mccain"
          ],
          [
           "really smoke",
           "john mccain"
          ],
          [
           "deliver comprehensive permanent ceasefire future political roadmap afghanistan",
           "mike pompeo"
          ],
          [
           "undermine president stands attacks news outlets calling us untrustworthy",
           "mike pompeo"
          ],
          [
           "dealing complicated international tax issues",
           "steven mnuchin"
          ],
          [
           "one ever thought would good idea country children grandchildren try remove president ballot deny american people right vote",
           "pat cipollone"
          ],
          [
           "tell time told good enough smart enough fast enough big enough something",
           "scott taylor"
          ],
          [
           "restoring credibility deterrence",
           "mike pompeo"
          ],
          [
           "see articles impeachment came think within dr king vision americans dragged process president going removed office charged bribery extortion high crimes misdemeanors",
           "kellyanne conway"
          ],
          [
           "president trump also sought pressure government ukraine take steps conditioning official united states government acts significant value ukraine",
           "jay sekulow"
          ],
          [
           "let tell rules department justice regulations department justice part campaign national defense chairman campaign official title doggone campaign",
           "jeff sessions"
          ],
          [
           "really disappointed democratic lawmakers behavior classified briefing clear guy soleimani good moment",
           "lindsey graham"
          ],
          [
           "believes secretary state",
           "mike pompeo"
          ],
          [
           "going issues whether witness protection issues whether able turn evidence cases dismissed completely undermines justice system",
           "nicole malliotakis"
          ],
          [
           "done taken already hot topic added fuel fire",
           "mike braun"
          ],
          [
           "recommendation public large get vote safe used elections flu season",
           "jay ashcroft"
          ],
          [
           "injection partisan politics process immune worst threat targeting two sitting members supreme court",
           "chuck grassley"
          ],
          [
           "exactly media deals things create audience readership interest clicks",
           "rush limbaugh"
          ],
          [
           "minority rules",
           "steve harshman"
          ],
          [
           "could use want crossover votes",
           "william weld"
          ],
          [
           "hitting infrastructure could signal respond way would lead future de escalation trump said kill americans like iran done since serious consequences hold iran responsible proxies",
           "michael waltz"
          ],
          [
           "literally job support defend president",
           "stephanie grisham"
          ],
          [
           "hatred donald blinded obvious protecting country destroying president",
           "lindsey graham"
          ],
          [
           "think percent expensing would good thing way would good thing american companies home",
           "larry kudlow"
          ],
          [
           "opponents president person putting lot motion keep setting failure keep walking traps creation",
           "joel pollak"
          ],
          [
           "get results quickly possible every american",
           "mike pence"
          ],
          [
           "result gdp growth march quarter likely noticeably weaker earlier expected given evolving situation difficult predict large long lasting effect",
           "phillip lowe"
          ],
          [
           "like achieve educate people point understand never happen",
           "kay kirkpatrick"
          ],
          [
           "outspoken champion women health",
           "susan collins"
          ],
          [
           "every time funeral mayor shows guess happens every single officer turns around turns back mayor city",
           "rudy giuliani"
          ],
          [
           "least five days public hearing plenty time digest numbers quite frankly looking forward bill republicans may propose take money rainy day fund",
           "len fasano"
          ],
          [
           "want make sure complete coursework graduate time",
           "tate reeves"
          ],
          [
           "personally find hard understand god genesis becomes biological father christ gospels",
           "nikki haley"
          ],
          [
           "chief towberman made history today selected first senior enlisted advisor u space force",
           "barbara barrett"
          ],
          [
           "important decision board reflection great extent efforts many community business health care leaders elected officials deeply invested northeast texas worked tirelessly years bring ut medical school tyler",
           "kevin eltife"
          ],
          [
           "given dishonesty proximity labs know working coronaviruses reasonable responsible us ask question demand answers",
           "tom cotton"
          ],
          [
           "majority views right virus natural organic",
           "mark esper"
          ],
          [
           "tied processes flows builds creates dense regions star formation",
           "robert hurt"
          ],
          [
           "going vigilant make sure colds",
           "scott gottlieb"
          ],
          [
           "screened people airports airports country",
           "mike pence"
          ],
          [
           "importantly project allows acres vertical development around track turning facility community amenity",
           "bill cole"
          ],
          [
           "one big step many steps toward ending scourge governor referred modern slavery",
           "jan jones"
          ],
          [
           "probably something",
           "mike braun"
          ],
          [
           "right definitely happy results",
           "parker space"
          ],
          [
           "changes overwhelming life changing children need wait mature",
           "fred deutsch"
          ],
          [
           "diverts time energy nation political institutions survival presidency stake even everyone knows really",
           "rich lowry"
          ],
          [
           "take toll economy near term",
           "jerome powell"
          ],
          [
           "american dream alive well thanks policies able enact president trump time office",
           "mike rounds"
          ],
          [
           "narrative always choice whole narrative little surprised question given always thing",
           "ken paxton"
          ],
          [
           "trump never linked aid corruption general certainly investigation particular",
           "rob portman"
          ],
          [
           "call taliban abide commitments outlined agreement united states include maintaining ongoing reduction violence across country",
           "mark esper"
          ],
          [
           "time congress privilege helping thousands individuals district",
           "duncan hunter"
          ],
          [
           "government country take responsibility",
           "mike pompeo"
          ],
          [
           "important speak truth facts lead us done",
           "mike pompeo"
          ],
          [
           "mr rooney win one got make sure people side room see ring wearing",
           "dan rooney"
          ],
          [
           "house democrats failed present compelling case convince american people impeachment defense",
           "dan newhouse"
          ],
          [
           "vote articles impeachment",
           "joni ernst"
          ],
          [
           "fundamentals u strong",
           "richard clarida"
          ],
          [
           "able manage everything goes cdc centers disease control prevention back extent becomes bigger problem want able local testing know working",
           "ron desantis"
          ],
          [
           "keep promises cut ties al qaida",
           "mike pompeo"
          ],
          [
           "constitution state iowa secure protect right abortion require funding abortion",
           "gov. kim reynolds"
          ],
          [
           "needed know consulted surgeon general",
           "cary pigman"
          ],
          [
           "speaks passion poignance precision anxieties americans rightly feeling",
           "scott gottlieb"
          ],
          [
           "clearly implications least near term see macroeconomic effects rest world",
           "jerome powell"
          ],
          [
           "applaud mike lindell helping country crisis using factories make masks day health care workers need political serious soul searching act patriotism triggering",
           "meghan mccain"
          ],
          [
           "hit harder ever hit",
           "mark esper"
          ],
          [
           "think come yesterday stronger come yesterday weaker",
           "elliott abrams"
          ],
          [
           "probably see game weekend",
           "john dean"
          ],
          [
           "look whether behavior involves abusing power violating public trust using office personal gain",
           "justin amash"
          ],
          [
           "simply put dining",
           "greg abbott"
          ],
          [
           "terms target set",
           "mike pompeo"
          ],
          [
           "must cover public private properties rental buildings manufactured home communities small business commercial property leases coordinated banks lenders reduce rents mortgage payments zero duration crisis including fees interest payments fully forgiven folks begin get back feet",
           "ron desantis"
          ],
          [
           "always pain unfair",
           "geraldo rivera"
          ],
          [
           "includes crucial investments staffing watershed management authorities shown time time key indicator success long term water quality improvement",
           "jeff kaufmann"
          ],
          [
           "rewrote script suit best time done looked like opening scene saving private ryan beaches normandy",
           "sylvester stallone"
          ],
          [
           "tate reeves lieutenant governor governor fully aware going state prisons mississippi say becoming aware",
           "tate reeves"
          ],
          [
           "start see become epidemic nations nations experiencing large outbreaks going extremely worrisome going control globally",
           "scott gottlieb"
          ],
          [
           "want say inspiring speech hearing mitt romney take oath god seriously like finding water desert",
           "mitt romney"
          ],
          [
           "kind wild card",
           "john roberts"
          ],
          [
           "knew picking college would coach needed best relationship could trust first time met georgia coach joni taylor impressed whole staff made feel like family",
           "jay barker"
          ],
          [
           "schools big task difficult task",
           "mike dewine"
          ],
          [
           "important support president policies good done state utah move",
           "don ipson"
          ],
          [
           "popular thing often get attention financially really big picture goes hand hand criminal justice reforms discussed",
           "bill galvano"
          ],
          [
           "vetoes bill importantly american people support let build wall make sure job congress",
           "mark meadows"
          ],
          [
           "die golf course",
           "thomas massie"
          ],
          [
           "philosophy say viewers life change really bad big picture girlfriend dumped look back couple years immediately bad like right bad month might still bad two years think look little changes life good thing",
           "adam carolla"
          ],
          [
           "full kicks thrills gusto fury passion bustle action",
           "estelle getty"
          ],
          [
           "think hard us fathom kind sadness",
           "roger goodell"
          ],
          [
           "make people average dangerous cohort vulnerable cohort come make",
           "thomas massie"
          ],
          [
           "ads made con artists scamming us using images illegally",
           "mehmet oz"
          ],
          [
           "end day though given different scenarios factors one us face trust upon commanders senior enlisted personnel right thing particular unit situation mission",
           "mark esper"
          ],
          [
           "iran august attempt launch space launch vehicle underscores urgency threat designations serve warning international scientific community collaborating iran space program could contribute tehran ability develop nuclear weapon delivery system",
           "mike pompeo"
          ],
          [
           "previous planners get update eco glamping project next",
           "john a. sullivan"
          ],
          [
           "another day another hour another minute delay acting",
           "susan collins"
          ],
          [
           "saying canceling saying suspending later date better idea heading coronavirus",
           "joe carollo"
          ],
          [
           "merely cultural program importantly experience personal encounter millions tormented christians hopefully provoke us help suffering",
           "jeff fortenberry"
          ],
          [
           "generally thing flu outbreak encourage people take care",
           "roy blunt"
          ],
          [
           "however encouraging people make voice heard via phone calls emails smaller groups",
           "paul gazelka"
          ],
          [
           "gambling operations make lot money",
           "allen skillicorn"
          ],
          [
           "think president completely different position today july",
           "john brabender"
          ],
          [
           "winner congress often special interest shuttles money political campaigns",
           "matt gaetz"
          ],
          [
           "manipulative interrogation sessions ray made victims confess alleged wrongdoing compelled repay alleged damages owed payments hundreds thousands dollars worse forced labor sex trafficking",
           "geoffrey berman"
          ],
          [
           "legislation allow older convicted murder terrorism types events crimes would get sex offender registry apply department corrections conditional aging release",
           "jeff brandes"
          ],
          [
           "every american believes united states constitution believes republic angry effort defraud american people trash lawful votes million americans",
           "mo brooks"
          ],
          [
           "factor organisations also currently receipt eu funding uk left eu provides another source uncertainty funding medium longer term",
           "richard ramsey"
          ],
          [
           "president putin says russia hacked dnc see reason would",
           "stephanie grisham"
          ],
          [
           "hospitals reported shortage specialized providers needed meet anticipated patient surge raised concerns staff exposure virus may exacerbate staffing shortages overwork",
           "alex azar"
          ],
          [
           "never doubt know elected",
           "kay granger"
          ],
          [
           "respect former colleagues time place pick phone work",
           "cole wist"
          ],
          [
           "thinking million today could formula race could six hour race events create economic impact",
           "roger penske"
          ],
          [
           "may one day compounds make planet bring back",
           "phil williams"
          ],
          [
           "western media outlets far careful seeing surge new york times seeing articles literally taking word chinese authorities despite happened past three months despite lying despite coverups despite destruction records",
           "joe scarborough"
          ],
          [
           "gave indication international style label caught immediately originated social setting terra firma whatsoever",
           "tom wolfe"
          ],
          [
           "truly saddens announce seeking election assembly",
           "clifford crouch"
          ],
          [
           "quite frankly majors really clamoring content could significant increase terms revenue",
           "vince mcmahon"
          ],
          [
           "like norway",
           "mike pompeo"
          ],
          [
           "say consensus last night council wants look people",
           "bob o'dekirk"
          ],
          [
           "choices given doctors bureaucrats washington want go three blind tests finished three blind tests know america could gone",
           "rudy giuliani"
          ],
          [
           "real team effort everyone think physically highest level sickness stuff team think strength teamwork playing real disciplined systems special teams obviously helped well biggest factor catherine johnson goalie played great game situations goalies going biggest asset",
           "dan laughlin"
          ],
          [
           "watching always ready",
           "tom campbell"
          ],
          [
           "underlying hiring trend robust providing sturdy foundation domestic growth however due challenged near term weak global growth general coronavirus supply chain disruptions particular",
           "richard clarida"
          ],
          [
           "experience like f cockpit pilots",
           "jerry bruckheimer"
          ],
          [
           "passing bill actually raises cost insulin certain people going get free",
           "jeremy munson"
          ],
          [
           "abortionists done get rid generations black people cripple others years slavery lynching",
           "mildred fay jefferson"
          ],
          [
           "record support assertion house managers president must remain office one moment longer",
           "susan collins"
          ],
          [
           "officials said vehicles involved crash inbound kennedy expressway north avenue fourteen people adults injured crash fire officials said conditions serious",
           "trey hollingsworth"
          ],
          [
           "brevard sheriff deputies atvs boat going coast telling people got disperse cocoa beach major spring break destination went percent since order",
           "ron desantis"
          ],
          [
           "think bidens corrupt day long",
           "rand paul"
          ],
          [
           "need get bottom virus originated hopefully effect diagnostic test vaccine",
           "tom cotton"
          ],
          [
           "new travel restrictions days service members dod civilians families traveling level locations designated centers disease control prevention cdc",
           "mark esper"
          ],
          [
           "let clear house managers hour period kept pushing false dichotomy either russia ukraine kept telling conclusion intelligence community mr mueller russia alone regard elections",
           "jay sekulow"
          ],
          [
           "eyes child teams continue work throughout state improve court system response abused neglected children teams across nebraska led trial court judge working locally improve juvenile court system",
           "michael heavican"
          ],
          [
           "conditions framework met including departure foreign security forces",
           "elliott abrams"
          ],
          [
           "writing speech delivering include neither two things donald trump successful donald trump",
           "kevin cramer"
          ],
          [
           "provided billions dollars able use fund",
           "marco rubio"
          ],
          [
           "ensemble cast outstanding performances unexpected deeply humane film riotously funny devastatingly topical tugging issues income class inequality motivates everything kims wealthy parks privilege ignore",
           "katie walsh"
          ],
          [
           "point point speaker pelosi made early often impeachment never partisan exercise",
           "roy blunt"
          ],
          [
           "welcomed pakistan ongoing efforts support reduction violence pave way us taliban agreement intra afghan negotiations comprehensive permanent ceasefire support sustainable peace",
           "zalmay khalilzad"
          ],
          [
           "things provide tremendous information evidence law enforcement anonymity persons engaging certain activities soon completely deprived",
           "john mcginnis"
          ],
          [
           "could create right incentives spur investment strengthening financial systems building confidence financial markets enabling productive private sector activity",
           "david malpass"
          ],
          [
           "pretty ticked",
           "alex azar"
          ],
          [
           "equally prime minister also reassuring tenants measures avoid rent arrears",
           "david alexander"
          ],
          [
           "encouraging people take day trips make multiple stops go exercise need make point go like passport go every state park time",
           "gov. eric holcomb"
          ],
          [
           "opposed socks choose wear",
           "richard burr"
          ]
         ],
         "hovertemplate": "party_label=R<br>x=%{x}<br>y=%{y}<br>quotation=%{customdata[0]}<br>speaker=%{customdata[1]}<extra></extra>",
         "legendgroup": "R",
         "marker": {
          "color": "#EF553B",
          "symbol": "circle"
         },
         "mode": "markers",
         "name": "R",
         "showlegend": true,
         "type": "scattergl",
         "x": [
          -0.06507586356363275,
          0.032373456722688036,
          -0.046647108742064555,
          -0.010401910465561501,
          -0.027139917261590516,
          -0.034251198005772115,
          0.011453479947404265,
          0.08820774256789679,
          -0.04612163698334762,
          -0.0487819299511314,
          -0.03335020125262681,
          -0.03664524195122579,
          0.04893173326583355,
          -0.01489535486421147,
          0.0813794328810513,
          0.007623948146672033,
          -0.0584936112621836,
          0.03795270630852066,
          -0.04818133104203078,
          -0.0860663784317337,
          -0.040472233928938776,
          -0.00019901937720004874,
          -0.03778423918881369,
          -0.04824502532574824,
          -0.02234694690848699,
          0.05814734923420321,
          -0.03946855046438997,
          -0.04904234341107005,
          -0.04964277490970543,
          -0.032969033023809984,
          -0.03140120799159773,
          0.005361177055269302,
          -0.0568863769342263,
          0.0395821870760994,
          -0.04163697598423482,
          0.1807597637414655,
          -0.04218749926856159,
          -0.05098679995389993,
          -0.04097989608370185,
          0.002135081721963981,
          -0.011878394693289515,
          -0.07631133814129819,
          0.08027099950863305,
          0.016109467860268453,
          -0.031724081690955384,
          -0.0018371425621464571,
          -0.05002228862807403,
          -0.014924028648601064,
          -0.0079677766546728,
          -0.0391101890109356,
          0.0073642422464706035,
          -0.0707581834160098,
          -0.047779873147692754,
          0.005457434130893541,
          0.03127112774297524,
          -0.050915735578197036,
          0.12248489350639612,
          -0.04165082134313552,
          0.06518251345573085,
          -0.04184462597227927,
          -0.05201737205324572,
          -0.047270154745160504,
          0.035153615027553105,
          -0.040900974260179704,
          -0.06337715403498421,
          -0.04516217188424483,
          0.06830824345754058,
          -0.04236863341491191,
          -0.030574386873643885,
          -0.051127431329005234,
          0.09867316071122552,
          -0.029348792647777726,
          -0.041945776236209584,
          0.060512454946516865,
          -0.04074033822222955,
          0.0645123261768326,
          -0.029644225473138282,
          0.2159022417998279,
          -0.06624357933093415,
          -0.04477929013011772,
          -0.07465386075857068,
          -0.008171162418193111,
          -0.07289812092921633,
          0.08202960118470538,
          -0.04289232736726846,
          -0.04168360526923063,
          0.018130395619951684,
          0.1453833823277106,
          0.06598592299750633,
          -0.04265655726433214,
          0.06365048425056431,
          -0.030178039183589116,
          -0.042213582284771685,
          -0.020364083560439943,
          0.03128629078685061,
          -0.01633906139052813,
          -0.05173237993441932,
          -0.04478911418273513,
          0.0633134511474338,
          -0.026389874204570927,
          0.1189569785983093,
          -0.03403914926563695,
          0.00550918530190981,
          -0.04065507658827587,
          -0.02955785118936611,
          -0.043290315384183264,
          -0.0426069679779262,
          -0.019560436400399468,
          -0.036972413653438604,
          -0.01799576459793591,
          0.007671027754817718,
          0.047258802856435515,
          0.035243548757584245,
          0.023886599067169924,
          0.1372835832617275,
          0.009073729691302103,
          0.07662014316991912,
          0.12696212605135945,
          -0.050651858398694315,
          -0.06587774322784387,
          -0.03043836626904197,
          -0.01608582419197484,
          -0.03668185067013771,
          0.13483682665856983,
          0.030552318903695915,
          -0.04262265712199304,
          -0.010789465485304876,
          -0.05101182811332925,
          -0.023997078769032447,
          0.22355690063297395,
          0.06339681012195922,
          0.08620152670911593,
          -0.013709458821997922,
          -0.04521208314396804,
          -0.03861117490371373,
          -0.02901439548899031,
          0.02944874596759429,
          -0.03933129250592549,
          -0.040496575738284996,
          -0.03007936317669537,
          -0.06660927722785635,
          0.06366398774755906,
          0.07212775394263371,
          -0.03632252316295685,
          -0.046568723529123834,
          -0.04318267079174383,
          -0.05689004771521977,
          -0.05580007447849719,
          -0.054380222814655134,
          0.06645373009230111,
          -0.049413086307206255,
          -0.006372168216191007,
          -0.050068793387708345,
          -0.04103673998497185,
          -0.05306595229201032,
          -0.02465052718558015,
          -0.05040683783622687,
          0.09462486760890489,
          -0.030622907380845846,
          -0.00973418583980787,
          -0.03354430824884786,
          -0.042204961693367384,
          -0.03728851842617414,
          -0.04181866915682104,
          -0.02556647566156129,
          0.014042200095646221,
          0.06675562670114021,
          -0.05718087014126702,
          -0.04069557389513402,
          0.0243717245824257,
          -0.03999539705512193,
          -0.017616313528942204,
          -0.033140811691046754,
          -0.04893779656872461,
          -0.037962601619834245,
          -0.042565589532712826,
          0.001233725115444963,
          0.04235253819008854,
          -0.0424756124168614,
          -0.044329236612206946,
          -0.048439252531834925,
          0.0004679367076710576,
          -0.029097470068608477,
          -0.015671205388953353,
          -0.03185627328678269,
          -0.03476609899409751,
          -0.04530082214541081,
          -0.029962562604034886,
          0.025255324599856483,
          0.15985765172871919,
          -0.0461090889953494,
          -0.039942752787527964,
          0.024870929545555445,
          -0.04362552853794805,
          -0.004872745669836131,
          -0.04048716401184814,
          -0.04835529775270743,
          -0.03745304484263259,
          0.09129223787164648,
          -0.057772174617620346,
          0.024015639795987746,
          -0.046390667324889175,
          -0.04975913484889434,
          -0.03193130022823973,
          -0.03555200165664133,
          0.0907849221279491,
          0.050457126531286395,
          -0.042167473162775686,
          -0.02658085095382954,
          -0.05835510134212313,
          -0.03288440749401797,
          -0.052750810547325666,
          -0.059665504077614825,
          0.059636964503127,
          -0.01514685416437928,
          -0.0487825115355403,
          -0.04451686547814295,
          -0.05643670689814194,
          -0.03189956530391147,
          -0.03912159708983085,
          0.06255914942787738,
          -0.022892158145128176,
          0.04056231003887988,
          -0.03725407482700097,
          -0.04500238313269665,
          -0.028285983843019984,
          0.04406016345347151,
          0.24308855191974035,
          0.17983894173125456,
          -0.026080546856490597,
          -0.035082373334532284,
          0.03614162828609317,
          -0.048243393179628384,
          -0.042088797372877663,
          -0.04143302778765311,
          -0.04683542886192916,
          0.053559192825098544,
          0.01579632766177443,
          -0.05237869998903643,
          -0.0038088146617805364,
          0.02659946308264863,
          -0.03749390624469007,
          0.11624353365515792,
          -0.028211929323279553,
          -0.05197664568566179,
          -0.048539377147753734,
          -0.01757842050688889,
          -0.02362638395785101,
          -0.028225085713352152,
          -0.0037244112072091088,
          -0.04391828300022265,
          0.015769683046976627,
          0.17549449035749695,
          -0.05435512929404289,
          -0.04862631760163975,
          0.02160465912512738,
          -0.027388548458437762,
          -0.05155543865294842,
          -0.04454516313042533,
          0.284004611849013,
          -0.04180834515434057,
          -0.04502889805870209,
          -0.056783169651288816,
          -0.005458272769263667,
          0.0550716328453396,
          -0.042954592463492286,
          0.08293219584284113,
          -0.06310080453535773,
          -0.04356479622020079,
          -0.0010104935201059972,
          -0.009789752343273986,
          -0.04601659614938935,
          0.02093535193406996,
          -0.029571124310150004,
          0.0954316252320967,
          0.03134267314634732,
          -0.006951527027392299,
          0.03389488225048466,
          -0.04651309919885032,
          -0.009173845626372829,
          -0.04007938060220865,
          -0.048566238881744946,
          0.05646817598701861,
          -0.04136643674879206,
          0.03600901020720824,
          -0.042959084539869415,
          0.0688203923967251,
          0.039651047659115285,
          0.13564948759481824,
          0.16614713210416723,
          -0.042972434732862205,
          -0.003788543848112071,
          -0.012934426602531178,
          -0.033345414678175124,
          0.18930647834517667,
          -0.0064300362632428365,
          0.04262843233535141,
          0.09766629659680186,
          -0.045979317706495854,
          -0.03320686598186134,
          -0.006416662992439791,
          -0.02308795793322428,
          -0.015710415369454472,
          -0.05132002686994522,
          -0.046472774064226445,
          -0.05699130375782965,
          -0.03776205235241632,
          0.015020216249303877,
          0.08102776009445062,
          -0.05643936962264672,
          -0.05518303299244749,
          -0.04532093298706334,
          -0.04699862735479488,
          0.01690473184214201,
          -0.043548673534821725,
          -0.03403465306761782,
          0.16737756847340765,
          -0.03379294554217332,
          -0.035259054563445136,
          -0.00941430979572059,
          -0.04148460739369742,
          0.18916829861711404,
          -0.04470111089539325,
          -0.036540158383566154,
          -0.046854398559466916,
          -0.03739065832287459,
          0.012232502166815495,
          -0.02807478358512831,
          -0.00011408698749885355,
          -0.04727859495049382,
          -0.04117805306256473,
          -0.0013299122768587767,
          0.037869639003011726,
          -0.046554150654199516,
          -0.04162167444808932,
          -0.03187365355711276,
          -0.042581661255192936,
          0.06673297682722805,
          -0.010502687769862356,
          -0.04105213697740273,
          -0.04405807807840647,
          -0.024504577595821267,
          -0.04398943059532512,
          0.008573263317847735,
          -0.046640871776971765,
          -0.04244850613255594,
          0.18501116171199872,
          -0.014948582772375842,
          0.14186098784508247,
          -0.049507071349876024,
          0.181560148749768,
          -0.03623159145338132,
          -0.004910145311269259,
          -0.017620233243343143,
          0.05553153705240032,
          0.021595134491461235,
          0.11193799449518767,
          -0.0252170738521534,
          -0.027912141555250996,
          -0.046677452434345144,
          -0.04184863751443428,
          -0.036255921111470364,
          0.17135549034159955,
          0.09167518816020252,
          -0.030461550908245587,
          -0.003382176230558632,
          -0.054061644533008144,
          -0.039939956508526504,
          -0.04606171161336798,
          0.033689878147436465,
          0.03064902353325288,
          0.08303865557474735,
          -0.06348441794006311,
          -0.013811803151147665,
          -0.03253741146162408,
          -0.00856386890577632,
          -0.0413618608250696,
          -0.04678475693919715,
          -0.04173735834227186,
          0.14815055448644934,
          -0.04126677774446194,
          -0.047752024798946524,
          -0.04383384914230492,
          -0.06567537433631968,
          -0.02558072424801717,
          -0.039237105346190314,
          0.018653319758185627,
          0.08492677439044304,
          0.05220596590638052,
          -0.040081598282724354,
          0.17174204042350824,
          -0.03930552691232772,
          0.010390612789673535,
          0.11470383317617455,
          -0.020580624922517037,
          -0.05011406717889929,
          -0.0029716557067764266,
          0.05831518776832352,
          -0.03269671183690759,
          0.2098053346184145,
          0.0037753916446309184,
          -0.03912293546780164,
          -0.06078990811920645,
          -0.044855534101093206,
          0.1304853650546354,
          -0.039264914345144425,
          0.31948521613788167,
          0.018040670992391806,
          -0.018424013106140658,
          0.03517354692857012,
          -0.02935376210889547,
          -0.01371713149607012,
          -0.03064879814417737,
          -0.011302096647713719,
          -0.014205342908649048,
          0.015314559599295972,
          0.08899199453506272,
          0.22559899532312128,
          -0.05392799710733845,
          -0.048503312901124404,
          -0.021013361709802544,
          -0.033409858046176834,
          0.2896885248061112,
          -0.04890710119414172,
          0.056336705901225824,
          -0.04435816090371638,
          -0.05780881469595773,
          -0.04090941935495526,
          0.0064635487177023155,
          0.17245844996770263,
          -0.051147031558033476,
          -0.053236497911811,
          -0.04213034624679275,
          -0.04240386110177698,
          -0.05575869075086477,
          -0.024369657196854338,
          -0.018695373749447405,
          0.031619079899948326,
          -0.047962411638729066,
          -0.0521261095289635,
          -0.040663241469493384,
          0.20911776616925307,
          -0.04487510660167013,
          -0.0410804349135863,
          -0.043542291528241774,
          -0.028783906187854466,
          -0.04995155130782513,
          -0.04356620770996183,
          0.20724372483700546,
          0.037576849000214005,
          -0.017549647424538704,
          0.02922799039532155,
          -0.06388052546193797,
          -0.006753726967216454,
          -0.015846244522855515,
          0.08620286858219735,
          -0.03838104961362378,
          -0.05553140586021831,
          -0.04804469709428448,
          0.12932708473087706,
          -0.03963742877197041,
          -0.03286942989693509,
          -0.03984596266488322,
          0.04789256165156545,
          -0.047218351790908115,
          -0.037141450190476884,
          0.05960863902297275,
          -0.047589606629920886,
          -0.033523415569767304,
          0.2840436817941473,
          0.09327438239307353,
          0.11373240203120011,
          -0.057739243791209864,
          -0.04439598925315142,
          -0.03660262945370671,
          -0.04872892205091915,
          -0.06432801055138819,
          0.027197344881941,
          -0.061843161735270935,
          -0.04120151654288801,
          -0.02664916265156042,
          0.014137168853629284,
          -0.02833726764536022,
          0.01060123975906557,
          -0.003400063834654461,
          -0.03678279450765048,
          0.18279550556160878,
          -0.047825579562345205,
          -0.017747483432287596,
          -0.026233752831945564,
          0.04415073662870554,
          -0.04626303348998519,
          0.005372708650025945,
          -0.02476063344534525,
          0.09879274543804721,
          0.012000634736885873,
          -0.009574651513804183,
          0.08241914628416189,
          -0.05174486862556467,
          0.07839707241273262,
          -0.038554312916559474,
          -0.04967961619153977,
          -0.027744963935430904,
          -0.03208510869535587,
          -0.028912699576801443,
          -0.02578105785488645,
          -0.018561092585701724,
          -0.05355339570426532,
          -0.030475442472328026,
          -0.01053133936730258,
          -0.05761446961692498,
          0.015133638429900512,
          -0.04601066521521824,
          -0.04566469352029448,
          -0.023815245192897468,
          -0.03971067163610944,
          0.09823429683487722,
          0.02039727106682735,
          0.20448720470626966,
          -0.015737953017637668,
          -0.05116755671786563,
          -0.031088190362361795,
          -0.017284500269751858,
          0.35311691896156794,
          -0.05000921852666586,
          0.03443028483523162,
          -0.04171429845119407,
          0.010498638002070277,
          -0.04745384805944453,
          -0.03463626800052581,
          0.013931300483527816,
          -0.039732440366066,
          0.046198328995911246,
          0.04709338817362808,
          -0.048041205211245636,
          -0.01186364748262431,
          0.06935174899758666,
          -0.058068570747176154,
          -0.04605562840921035,
          -0.021944769171297642,
          -0.031531564774177366,
          0.3005316670169825,
          0.09076181306736157,
          -0.04396722996141874,
          0.021652274789767105,
          -0.018299816017262577,
          -0.02361705217582558,
          -0.06654088614207755,
          0.043295600124989474,
          0.1516677104713165,
          0.25880855100149575,
          0.00666008722736294,
          -0.03620964039304898,
          -0.013917426457496366,
          0.0071801635573092715,
          -0.03999486818738308,
          0.10185008328370598,
          -0.033498583763609736,
          -0.05016003106092539,
          0.10903739493178825,
          -0.0054909490407832615,
          -0.023210309650936067,
          -0.018127029776085945,
          0.02892295080605149,
          -0.047713105322237596,
          -0.039383557825118626,
          -0.03834888203889957,
          -0.045560733180947006,
          0.06980588221437724,
          -0.03286494945089835,
          0.1091895731047786,
          0.06848780357674317,
          -0.036685672465569155,
          -0.045077636538829506,
          0.169167547838051,
          -0.042360503952771716,
          -0.01996248799252871,
          0.10027652355239933,
          -0.039421247764380975,
          -0.041743800658356055,
          -0.03589456305416345,
          0.09799521164994408,
          -0.03215152064631252,
          -0.03493095614733154,
          -0.03635467930967381,
          -0.025339255722220285,
          -0.0418728482147027,
          -0.04416161559050786,
          -0.023876032344868972,
          -0.04224561624412109,
          0.09807511893068684,
          -0.021838606899621523,
          -0.02614466464884284,
          0.039541342457084044,
          -0.045675233626159426,
          -0.055525969674416906,
          -0.043014517774714,
          0.009501369495408984,
          -0.03692010063966688,
          -0.03396704275520365,
          -0.03273293853269169,
          -0.07796804813677574,
          -0.049846959661652215,
          -0.052537919032949694,
          -0.042959864194467685,
          -0.032271150397480186,
          0.00247405129919294,
          0.019418390322158984,
          -0.03992516652176222,
          0.007411392999154314,
          -0.02779154545262311,
          -0.025911057520064187,
          -0.057703215914480785,
          0.19818423559002746,
          -0.019423743680358565,
          -0.04016480090894552,
          0.03380230950227977,
          0.2634441077126514,
          0.035684639710016106,
          -0.048103793193647645,
          -0.029859320454804317,
          0.027877968308481955,
          -0.03948278409814405,
          -0.06007047223843584,
          -0.04048991189866563,
          -0.04064441103708757,
          0.08535500965883049,
          -0.0366472044848669,
          0.0074493525270448585,
          -0.04212602159242359,
          -0.04725821743937608,
          -0.03977155283789077,
          0.09100035141197312,
          -0.032241660791974706,
          -0.04659512936084762,
          -0.05262318137699991,
          -0.04165124666382976,
          -0.04416061748789372,
          0.01281229000471417,
          -0.040230986923773686,
          0.010364833369844713,
          0.07142066146303123,
          -0.04505069692804424,
          -0.050091542008050986,
          0.01040912500827826,
          -0.013238366975704748,
          0.2542795915194486,
          -0.061890871590647926,
          0.03503383052932437,
          0.09387676924299308,
          -0.039149530888767006,
          -0.029610396797258954,
          -0.053377885038442104,
          0.09149193345740546,
          -0.026151398349015205,
          0.10052807835302918,
          -0.021874745417012793,
          0.27745559571453426,
          -0.00578485941694394,
          -0.023632610087969803,
          -0.039341883625087434,
          -0.045446617117453,
          -0.0046194385031858125,
          -0.006140915990717669,
          0.04016190905469903,
          -0.06588401855150285,
          -0.041393638200889475,
          0.0008615166283576763,
          -0.07066250446677842,
          0.15912524159408376,
          -0.031185493958367557,
          -0.04786791868786817,
          -0.05336449419149794,
          -0.010445440126386062,
          -0.043120990681315446,
          -0.04822601986538442,
          0.0363821162101736,
          0.5697222298239516,
          0.0039007119278288544,
          -0.020426790378621832,
          0.010885273055828034,
          -0.01266163022420753,
          -0.04415743237049241,
          -0.02974315819867014,
          0.04005920768269039,
          -0.05129321903293973,
          -0.027980514988321478,
          -0.012846546982382917,
          -0.04699124449045617,
          -0.048417896833045676,
          -0.05507002928214053,
          0.01002401305455834,
          -0.03493082244265113,
          -0.04329531490963055,
          -0.017870882800310357,
          -0.02520352560120068,
          0.04297460488000809,
          -0.020648362130112122,
          -0.04252109810165961,
          -0.03085265247645417,
          -0.04306687648853887,
          0.0019889016891991265,
          -0.021640195777450577,
          -0.044168485355467114,
          -0.007353715732962487,
          -0.04854995892443484,
          -0.0396747155617178,
          -0.030501675957950978,
          0.022145681100588375,
          -0.04035573016812583,
          0.17631781562536347,
          -0.03940592117461007,
          -0.017813676111185606,
          -0.0324578621833662,
          -0.026724319163374106,
          -0.03091067422808399,
          0.02636638617029212,
          -0.027049151830661238,
          -0.0577000247279514,
          -0.02029782843980686,
          -0.04788302586856437,
          -0.02419604581799393,
          -0.022616938884244594,
          -0.005891924073788937,
          -0.03639103924039816,
          -0.03927042932236108,
          -0.042141213585860614,
          -0.02695446471669875,
          0.023120624187414035,
          -0.03243551582747419,
          0.10181784215684556,
          -0.013899735253938752,
          -0.0387415124735395,
          -0.05024618899750826,
          -0.027033479927362176,
          -0.01793074605539738,
          -0.03553648210569146,
          -0.03844151252356239,
          -0.01185736806196647,
          -0.039176761530119536,
          -0.01029874733682277,
          0.01378398572828452,
          -0.041981194644644344,
          -0.04957036604225332,
          0.07947122851604518,
          -0.02502466981533219,
          -0.04990510680816559,
          -0.04310155993619576,
          -0.034969311605185426,
          -0.03238498927366774,
          -0.03318446046363992,
          -0.060301291948772415,
          -0.04686446331942981,
          -0.03380483972877866,
          -0.06123906259453636,
          -0.018531900609249335,
          0.05587803905879679,
          0.11761743183800712,
          -0.047200200044610674,
          -0.05573411265676376,
          -0.035537354607509015,
          -0.037220273791037,
          0.018627105436471284,
          -0.034963205648263114,
          0.09591701159185706,
          0.05078598749804196,
          -0.03467668382767662,
          -0.04765834532149578,
          -0.01784664487287449,
          -0.032680648909454824,
          -0.036193445336905064,
          -0.04449108917076247,
          -0.04562924860216526,
          -0.0373122530175348,
          -0.0402281794602269,
          -0.07048876503029483,
          -0.024746084306783843,
          0.033737508786819796,
          -0.03844154786432966,
          -0.05676254495109973,
          0.05002127470229766,
          0.01910977639541322,
          -0.045657372635832354,
          -0.03654083497024701,
          -0.037367827043287595,
          -0.04453131961247439,
          0.026741105531167236,
          -0.003495883611485437,
          0.030936226942596484,
          -0.028828409737291446,
          -0.04585822673065118,
          -0.0380706274869405,
          -0.025311798947643734,
          0.011949505611416287,
          -0.03396404000342497,
          -0.0261153499105946,
          0.036263905928738634,
          0.06908937729377522,
          0.07766733848253199,
          -0.04450494914481009,
          -0.04071129739504219,
          0.021557689201380445,
          -0.03195555353027082,
          -0.05437621261429111,
          -0.04644914291992424,
          -0.038827157737835766,
          -0.05593801943079786,
          -0.03468188980157766,
          0.27096639278033263,
          -0.030835477217106142,
          -0.04309850902918137,
          -0.040779199184581866,
          -0.04808221817920579,
          0.09085915997682913,
          -0.058763318938617325,
          0.024334040662066014,
          -0.032686879630406805,
          -0.05715875543775547,
          -0.00466729472865944,
          0.1483173338978781,
          -0.039381415182158284,
          -0.04146353706249431,
          -0.03161351021159744,
          -0.021766517776736917,
          0.010275218041723733,
          -0.030085148829721863,
          -0.04039374175212622,
          0.007894987320257408,
          0.04455857022275257,
          -0.027636695249732442,
          -0.03850887252462185,
          -0.04375868703180152,
          -0.014892610279874688,
          0.05429155968848661,
          -0.0409149975482476,
          -0.045418871646421555,
          0.06893942242813178,
          0.11438352432764724,
          0.28457323660023276,
          -0.02596334474087673,
          0.07749653768035322,
          -0.03780682639518994,
          -0.04274135579538103,
          -0.03685415397309076,
          -0.032406652983872644,
          -0.022882776199447168,
          -0.04421976788415492,
          -0.01954056265303707,
          -0.04157331242104474,
          0.23999804748768808,
          -0.02789659681726151,
          -0.04328550059641692,
          -0.045566697696761915,
          -0.056262918217393744,
          -0.03462316661612961,
          -0.029378426437459786,
          -0.019728684825573408,
          0.03919584048833758,
          -0.04941971599094548,
          -0.059208524996565086,
          -0.0358990129356838,
          0.09781659396884697,
          -0.015385576094596691,
          -0.03880184356617023,
          0.051418861101918685,
          -0.0584780259720872,
          -0.057006024763457064,
          -0.008400481709935133,
          -0.058950644438164716,
          0.04801728029691322,
          -0.04040056698773672,
          0.020409827774052106,
          -0.054503611950041275,
          -0.01629887242107105,
          -0.044290076002141035,
          -0.021517200984771872,
          -0.04418416916141379,
          -0.05555398108856316,
          -0.045608173612438574,
          0.07223312432804743,
          -0.013239789401284422,
          0.0669102407850215,
          -0.033527251914215635,
          0.0890750896102157,
          -0.06818580220949895,
          -0.018800746535123317,
          -0.02278857890247709,
          0.08023424846389454,
          -0.041102441967053205,
          -0.054636930147027356,
          -0.0351935777555548,
          0.015430701526460117,
          0.008622732502558716,
          -0.038914156121576844,
          0.23102167315043254,
          0.0498950084353953,
          -0.036077035423049,
          -0.030281475334469028,
          0.0076359132565001495,
          0.01835584499509062,
          -0.014602029398798753,
          -0.009300120765854597,
          -0.0006471011210113958,
          -0.03687239649653505,
          -0.028910388713475805,
          -0.04914805261414148,
          -0.048665808009068875,
          -0.04399697795273301,
          -0.01344604465873038,
          -0.03870738863722344,
          0.12969564910862957,
          0.05237773564077563,
          -0.03085308914872674,
          -0.04989335908381597,
          0.039194716309413784,
          -0.027763822594335245,
          -0.025541397130697124,
          0.0523907594897864,
          -0.04503555036483923,
          -0.03609888547024885,
          -0.007948911971717395,
          -0.033119242408994394,
          0.021992402410452506,
          -0.02141466778993191,
          -0.041418446110984365,
          -0.033896902550796096,
          -0.031424994789230505,
          -0.010639729383038308,
          -0.03829350067025148,
          -0.026724413252750948,
          -0.030779211014477236,
          0.05262110524191255,
          0.12413586601815033,
          0.013633938969477705,
          -0.0386549773408386,
          -0.027055041924313048,
          -0.03344593358153417,
          -0.051126820446887385,
          0.032539352415939325,
          0.11505618256304022,
          -0.03153820742531626,
          0.08153146229492224,
          -0.042365883030435626,
          0.029262781650365638,
          0.09847300912024419,
          -0.04291712600977502,
          -0.005255031603603103,
          -0.04706250061577114,
          0.014387072843015632,
          -0.03791794728658851,
          -0.03892387448506733,
          -0.050176913825249685,
          0.06808027218853081,
          0.0640806574292061,
          0.05382803304721562,
          0.03622831717223207,
          -0.05313890625814687,
          -0.037803863515849176,
          -0.0030979756976146976,
          0.012426746769726464,
          -0.04644910679602764,
          -0.04484891887193072,
          -0.03954026281421575,
          0.08470080478911232,
          -0.037669312766265624,
          -0.03920260856842397,
          0.0710194388189792,
          -0.054899348205267415,
          -0.0415351912294853,
          -0.044573827462830916,
          -0.009789510306034121,
          -0.022871812105500763,
          0.0785071073011302,
          0.02008199146111198,
          0.07811159547482166,
          -0.034713864476054845,
          -0.04647166352352358,
          -0.03167587052583818,
          0.21799672729786243,
          0.07450892713774468,
          -0.046451965603497514,
          -0.00262173544235541,
          0.09624925087256252,
          0.05747399276781156,
          0.0570789109047571,
          -0.04972921358584393,
          -0.044472554473700826,
          -0.04726175723594035,
          -0.04706691052285049,
          -0.04022253825323925,
          -0.05028623732445819,
          -0.039568880057708936,
          -0.012736238981784902,
          -0.0482280579297895,
          -0.008845132000680956,
          -0.023841514862305103,
          -0.03645530118989299,
          -0.041496616318628325,
          0.11060259927809254,
          -0.03913148721004159
         ],
         "xaxis": "x",
         "y": [
          -0.031035344886499186,
          -0.009733935264072208,
          -0.01055761936482481,
          -0.003937929183099279,
          -0.0011008324352688296,
          0.004137154947027947,
          0.008818021246752674,
          -0.03971146739856694,
          -0.014052290193697416,
          -0.011977292579526002,
          -0.00009705221026288983,
          0.009506878090512661,
          -0.023172570754507228,
          -0.009082051962617636,
          0.1441311184892711,
          0.011666754494662347,
          0.036388500110713394,
          0.03583720278109172,
          -0.005640058593517554,
          0.0016735643579491547,
          0.01062444315845384,
          -0.00366600273127204,
          0.007689927676706701,
          0.007798651403530579,
          -0.008149301787099255,
          -0.025858214878076692,
          -0.0017651749016409693,
          0.019290587636886767,
          0.017932810451654235,
          -0.000598153521608211,
          0.007052333397166793,
          -0.07553589352714922,
          0.001610393135533713,
          0.005693059110495236,
          -0.0005493214866344744,
          0.08930551260037313,
          0.0006923231405451927,
          0.009084624726073031,
          -0.010749019709361474,
          -0.07414880513747142,
          -0.009734478904449733,
          -0.005282976514933781,
          -0.15680291918451178,
          -0.06358091208213874,
          0.009690465079310763,
          -0.037271650960427685,
          -0.004437761394947757,
          -0.0069028778966766825,
          -0.008384057436762678,
          0.005535918550338925,
          0.01221205199547746,
          -0.00006756236115029492,
          -0.018880330819646223,
          -0.09043506710700391,
          -0.022697824087452977,
          0.002619368954816876,
          -0.088425343445577,
          0.06049514214699055,
          0.0029925903080005546,
          -0.0026746864054734867,
          0.00690668256332567,
          0.012090351909586976,
          -0.1053075773383323,
          -0.005295981635565841,
          0.08544674588402784,
          -0.00471633873333589,
          0.12552789279274745,
          -0.007114062658399963,
          0.006756642560025971,
          0.033993920883410335,
          -0.1875524406578399,
          -0.004752911734899802,
          0.0038009539233802205,
          0.08107187269114252,
          -0.0330675467368512,
          -0.04026299934900469,
          -0.012090661056975115,
          0.15156753126496936,
          0.0016357189042199218,
          -0.004422557167293925,
          -0.015801287677180392,
          -0.02812786417628438,
          0.02887267818764922,
          -0.0026334080336162143,
          0.001837060688223718,
          -0.013000928374808575,
          -0.04248673105399479,
          -0.2043232829439345,
          -0.15554214786281395,
          -0.004886333399379666,
          0.01920454833527325,
          -0.009956664761306515,
          0.026585827826280953,
          0.04400957679633052,
          -0.08370433601140337,
          0.0034303333284004906,
          0.006461054574931874,
          0.003753063386481207,
          0.126442309387716,
          0.009504815408969206,
          -0.21410528017994157,
          -0.02031607169661227,
          0.003263942300734051,
          0.01665717111409494,
          0.006795819148135574,
          0.007882610513303944,
          0.00022281165719820908,
          0.03102551977468213,
          -0.01762486895859218,
          0.014017609592921348,
          -0.0015453760945760254,
          -0.02772088671919306,
          -0.013901866950987588,
          -0.011429313102193984,
          -0.17073746357155858,
          0.0012702925897805013,
          0.11961671511789541,
          0.12193386092334299,
          -0.0025066964361144814,
          0.0032038571690335624,
          -0.007495539010547224,
          0.014648475971067044,
          -0.005075342590758051,
          0.15665414919000153,
          -0.04948427938571106,
          0.005884764005062552,
          -0.006312863575243277,
          -0.012649753699208892,
          0.012312764327259541,
          0.26478498295799935,
          0.21091929471673956,
          -0.19996379470698525,
          0.01806085848916184,
          -0.003005041303243739,
          -0.014802773614784694,
          -0.013753869280407538,
          -0.018882388998066896,
          0.0009339736588449299,
          0.003076214301416413,
          -0.0073605758943499034,
          0.05041092153166118,
          -0.11215690636274307,
          0.03520283450641861,
          -0.019167687162497768,
          0.011035884513672312,
          0.01595667739285197,
          0.02027330595900354,
          0.05000184368423719,
          0.04379899995418373,
          -0.06247310592313358,
          0.007248458312861883,
          0.03634556218636675,
          0.05353708300339638,
          0.0031473687072275315,
          -0.0026702585802010877,
          0.012674638051264895,
          -0.014565283608587888,
          0.11124781973197836,
          0.016131340093511224,
          0.02338790022368497,
          -0.0030816461101380826,
          0.0023609727973266646,
          -0.003019791134858626,
          0.010001303654674474,
          -0.0014229318239950728,
          -0.0010430940863906213,
          -0.1631064200123671,
          -0.00244930417907256,
          0.027937081714416945,
          0.009842423909587708,
          0.002368444940403816,
          0.023484106533035856,
          0.011455407212152538,
          -0.0024655089264301114,
          0.00539118295289845,
          -0.002449402782419856,
          -0.005461313829719825,
          0.17374406806235104,
          0.006965432685581739,
          0.0014639470451069674,
          0.007704359415999781,
          0.0740833479308325,
          -0.005745823221318837,
          -0.0538496170315492,
          -0.01767768287206741,
          -0.0000634264981522446,
          0.01195033616859501,
          -0.025924556684979304,
          -0.007889927492280032,
          0.12813208886106678,
          0.029903271770701154,
          0.0014237008825947399,
          -0.10907077444178448,
          -0.00030050808643847693,
          -0.01967964912365263,
          0.0006489853013075233,
          -0.005856130455058272,
          -0.0039522625060354755,
          -0.19368423305309382,
          0.006452804756865235,
          -0.014693757259492573,
          0.011754621785502994,
          -0.00904923279096604,
          0.0068969158886088245,
          0.00480076705161784,
          0.023455183388836495,
          -0.039639420316869116,
          0.045136602088492704,
          0.005296987782401432,
          -0.007187889449391895,
          0.007435989245897417,
          0.001687738841648715,
          0.07365925644682854,
          -0.045585186647235765,
          0.015546325531387004,
          -0.004101119254888422,
          -0.022982270187793055,
          -0.027508552637052916,
          0.01838198259278894,
          0.003601971705108911,
          -0.12572562283704594,
          -0.0061248851742990666,
          0.06245696422175168,
          0.011716611257714274,
          0.003790415205562101,
          -0.026713951618957576,
          0.02770640988140377,
          -0.13982409179315367,
          0.20192275916038624,
          0.0011029892146183697,
          0.004887965155313177,
          -0.0830487286761727,
          0.02084257653619427,
          0.043545333644164665,
          0.0010414754494075889,
          -0.006705432311924564,
          -0.0058317558035525935,
          0.033749823726885085,
          0.00788187234620054,
          0.00382416306349951,
          0.03250719819474505,
          0.001585976005213494,
          -0.1057844228987285,
          0.0024128146969065343,
          0.000017483352887243327,
          -0.012047244901123792,
          0.030543227723673252,
          -0.022593846906054996,
          0.10058750428431117,
          0.06197263415731665,
          0.0039033889071404472,
          0.005106968342322232,
          0.035092190574149175,
          -0.007732499324507889,
          -0.009951518400739115,
          -0.06965347091601035,
          -0.0046759236096955556,
          0.011773554397323372,
          -0.014650627375296568,
          -0.05141747116138961,
          -0.003677391113234166,
          -0.0012150951333535897,
          0.0872209000395709,
          0.005115938894336746,
          -0.13554833160182544,
          0.010863875047509094,
          -0.013184582677079618,
          0.11133441619163514,
          0.015232093790890622,
          0.008818219711558323,
          -0.061938518563040494,
          0.07174654967855384,
          -0.0964200937504597,
          0.0010321716632645834,
          -0.13326292068490064,
          0.16162936466570801,
          0.011757644579039458,
          -0.006868955484349438,
          0.00026985609615180745,
          0.024400952252812788,
          -0.00006579218860244467,
          0.009783797312186588,
          -0.015712648959004146,
          -0.005901217321065612,
          -0.09487402503907573,
          0.0026207558348037598,
          -0.05037847969227525,
          -0.14621888172217246,
          -0.17356782248037572,
          -0.019563626774275242,
          0.0014244283760835982,
          -0.016559452181862205,
          -0.003455530019953055,
          -0.01574523471842718,
          0.22370996061354909,
          -0.028341035773257483,
          0.03765039899951544,
          0.04692119972088977,
          0.007093641380781067,
          -0.033990526621170136,
          0.0064620702893998785,
          -0.017319900716656917,
          0.01061392096696513,
          -0.022027037080531123,
          0.007245517129739974,
          0.012723933177576884,
          0.005545557966062283,
          -0.013019006956274608,
          0.09597265396426272,
          0.018252986866481108,
          -0.012999969719936284,
          0.0007174491934276726,
          0.0002808019878271452,
          0.04551020627030713,
          0.006520024918597697,
          -0.0034684949603660284,
          -0.05502762193497963,
          0.0019158260839449376,
          0.010539010276012811,
          -0.040542715393489956,
          -0.0066350430418576365,
          0.13935529099438212,
          0.02276483934415876,
          0.01615228538250898,
          0.011897149751041572,
          -0.011473614585328272,
          -0.048946307273763846,
          0.0032855418268216566,
          -0.054238591203984866,
          -0.002258797280317092,
          -0.0006203234182830434,
          -0.042217091460369886,
          0.009312992742021648,
          0.053100521965784714,
          0.02276231813337702,
          0.005076133568613312,
          0.006992995708633621,
          -0.021324098578180548,
          0.005445231338697473,
          0.0057594071645481314,
          -0.013084923472234021,
          0.0053227043276950605,
          -0.00145687372291169,
          0.04836150114975822,
          -0.006037568963060564,
          0.00872342617820235,
          0.19018554645452734,
          0.01885488365609097,
          -0.08822856037993417,
          0.0012661086573659687,
          0.06159165469870843,
          -0.0043979663870884434,
          0.0136511323053412,
          0.006361367456697295,
          -0.1476740552422409,
          -0.008775399722601862,
          -0.15615433634799103,
          -0.00520645846821584,
          -0.031294615331378374,
          -0.01899284971320354,
          0.00026187112206964205,
          0.008487636267006202,
          -0.2058057665844673,
          0.045790700128081153,
          -0.003029873738758462,
          -0.020434217111985023,
          -0.003799440620803043,
          -0.003021660199063486,
          0.009626465204444804,
          0.06422195433400661,
          -0.017360547511616652,
          -0.01309904632121366,
          0.03196216020655773,
          0.0017009504034578105,
          0.01239182523305979,
          -0.013787251738947653,
          0.011178611901534446,
          -0.0007788844741493685,
          0.007381316129342081,
          0.1445979003244507,
          -0.0003347181195539087,
          0.005222594619393484,
          -0.014335798291567364,
          -0.021281727115023526,
          0.004406207098238141,
          0.00419284813913629,
          -0.021963591178376905,
          -0.21199588353258583,
          0.03812459957604358,
          -0.011417796012185268,
          0.04112669177973502,
          -0.03413782804625374,
          -0.008005880425382809,
          -0.13094480548530402,
          0.005415240766493269,
          -0.022164008619043683,
          0.004760381249000253,
          0.05046948996795425,
          -0.0033267388544463376,
          -0.003415339006061749,
          -0.02517692583139058,
          -0.025752546099493068,
          0.07347222134319473,
          0.02417310427100552,
          -0.029620125697225715,
          0.001440926461027325,
          0.3254505373009624,
          0.03340802101122255,
          0.010865344065532913,
          -0.10566923930934301,
          0.012340170142152425,
          -0.02338190207708433,
          0.003945754851449027,
          -0.023200381639954616,
          -0.0290482827918656,
          0.03083300519656479,
          0.18232091688980834,
          0.317390733131047,
          -0.002327973372848686,
          0.024923187560500215,
          0.0004117148935823754,
          0.009577695435632364,
          0.32506529058473155,
          -0.015450334413077202,
          -0.0018031566895504194,
          0.004178024678784875,
          0.035996407773217415,
          -0.0018724439394784795,
          -0.026046290298271036,
          -0.0399383579668202,
          0.0016374242361557143,
          0.01809251505612658,
          0.0054265413234204085,
          -0.02017915280101694,
          -0.020199068727875608,
          -0.003928488350715633,
          -0.01708361439708771,
          0.041940141505531985,
          -0.004288217156957746,
          -0.0034287660287760833,
          0.0001982425701766023,
          -0.21909968562534074,
          0.006606630708433227,
          0.001614081056390516,
          -0.02233431612148756,
          0.024345052465596234,
          0.1392074585061249,
          0.002073879729554793,
          -0.0747998843197774,
          0.06195066909548474,
          -0.03692262156168536,
          -0.00853394628878829,
          -0.000359423812662972,
          -0.017530958108554276,
          0.01596289940846491,
          -0.11829013393522299,
          -0.006086652982884111,
          -0.032993872084071785,
          -0.00853533693643026,
          0.04864182567125839,
          0.0008794580288685875,
          -0.005201878600812478,
          0.02476723007211079,
          -0.0036521152957419705,
          0.003744155793658497,
          -0.00036716629674818184,
          0.11958708306594958,
          0.003933960136591409,
          0.007670338106514903,
          0.1101992890997656,
          -0.20104409822882213,
          -0.14227961962324306,
          -0.007141038508962456,
          0.0030343666531302497,
          0.016576186065288805,
          -0.002257161604023678,
          0.008469556837171974,
          -0.11614935590679847,
          -0.03435561430961252,
          0.00020271680136021153,
          0.007884675095766784,
          -0.05047961519422159,
          0.00387079588926067,
          0.021434291442000635,
          0.023928720815759832,
          0.009215677110242446,
          0.12254025409650418,
          0.005107292154112939,
          0.00540943237676127,
          -0.009260543830414634,
          -0.0991536217053143,
          -0.009632460216341019,
          -0.011016352450583694,
          0.009169502598661665,
          -0.03286497214691443,
          0.006962193554953202,
          0.00244905461419011,
          -0.014136360755224654,
          0.008279052021568535,
          0.07918331874732402,
          0.003396205961097313,
          0.0104430049330217,
          -0.01668038964754997,
          -0.023784824012481182,
          0.027295830743575455,
          0.05942534428403696,
          0.03827907074771801,
          -0.01031825462403165,
          -0.0006856659061251719,
          -0.0012876040606356353,
          -0.005129935108058812,
          0.022995046237644885,
          -0.0037299894494226835,
          0.001915331355877176,
          -0.026027480877660457,
          0.0028379145256047654,
          0.07085577352740348,
          -0.02443274975976577,
          -0.2412369883896259,
          -0.019535905170948088,
          0.07985884727552876,
          0.043491094846806154,
          -0.00652792548500312,
          0.164565474508672,
          0.015967490623332997,
          -0.12519962522991768,
          0.00010838383386163585,
          0.08513202158674472,
          0.004742225690575565,
          0.007444900439073154,
          -0.05192017026759308,
          0.0035309760588388356,
          -0.021241466063174733,
          -0.023527482478615528,
          0.006834923028696309,
          -0.0003863928879761687,
          0.11053777061343002,
          0.070025404158184,
          -0.014460285890410554,
          0.013073504164911794,
          -0.005146170189138925,
          0.19044288115916544,
          0.05411234681777396,
          0.010971705584410194,
          -0.014958691548284721,
          -0.027182503168745743,
          0.01808093028587074,
          0.14478418375597585,
          0.005996436514966476,
          -0.1829438051761526,
          -0.2753833673459134,
          -0.012528970552181105,
          -0.022189707193588416,
          0.010834075176714402,
          -0.0589839450484583,
          0.0015734993746980232,
          -0.038223163598815994,
          0.0019949435638754167,
          -0.004099445321867705,
          0.12617237967173814,
          -0.0025720298331383886,
          -0.007479356707574418,
          0.01051929457393544,
          -0.10591453870525422,
          0.10615605232918474,
          -0.001492353046832532,
          0.02499784914959606,
          -0.0023753953026900672,
          0.12758128180827677,
          -0.017016845635764256,
          0.16303773236991206,
          -0.030668610372222304,
          0.0037249627488966266,
          0.003304726624731588,
          -0.3045256327692099,
          0.004490250202512058,
          -0.015078206093356224,
          0.1487415953623852,
          0.0018473343482549244,
          0.0076959912827906955,
          0.008786950814095935,
          0.050162316203548774,
          0.016856027638799134,
          -0.004553387733961339,
          0.03047731763140156,
          0.021651205217689304,
          -0.004207285737044394,
          0.0008644377400136587,
          0.019485458975248515,
          -0.012910485949639772,
          0.05475192331014817,
          -0.0038716486250144413,
          -0.020655878342922276,
          -0.06665554527116935,
          -0.00003408074838399309,
          0.02263122184491783,
          -0.005126572276478739,
          -0.0671929839546754,
          -0.04197639349521895,
          -0.018539046037888304,
          0.012123306270296506,
          0.000037794506586614194,
          0.014269493199891662,
          -0.011685769940315106,
          0.006129445943425762,
          -0.0258250904973664,
          -0.013337466696358904,
          0.011408830835720115,
          0.005173346884877224,
          0.031772796725940376,
          -0.014124081109164901,
          0.01096895836911899,
          0.0018425742295424179,
          0.2064369954474167,
          0.016875303844573086,
          0.008201879716393318,
          -0.03963855295783854,
          0.24443885970370466,
          -0.021063030362802937,
          0.02310287128849768,
          -0.009734714659475646,
          -0.07187394800624819,
          -0.0018104233716988557,
          -0.0031318892252773524,
          -0.007576433309199819,
          0.048385954241546,
          -0.14786215576138922,
          -0.019520754828873037,
          -0.01744110073620632,
          -0.002752988172153144,
          0.029196949769603603,
          -0.008574203893536473,
          -0.02146858584658997,
          0.05638574480478631,
          0.0007999504698259938,
          0.00398319400578159,
          0.001374039939232461,
          -0.024906990529967428,
          -0.026842048947688178,
          0.0019090948766281696,
          -0.02108300630333777,
          -0.041310411391850974,
          -0.005877442577270309,
          0.015170060642195733,
          -0.003998787736389679,
          0.03838234480141875,
          0.35469176079972764,
          -0.009704536802749582,
          -0.15763196645672337,
          0.14358568529599255,
          -0.011340059400929931,
          0.003942702496282141,
          0.00243584543352352,
          -0.22360633616826323,
          0.01384674856384474,
          0.15726881679797963,
          -0.031952330418849116,
          0.15778751255663617,
          0.02659112187534633,
          0.00525857212759281,
          -0.013314226071049404,
          0.00042671934757331295,
          -0.005520386654386728,
          -0.008916746196683666,
          0.05635294581695687,
          0.01438350261500672,
          0.005178322528823462,
          -0.0019201497018315934,
          -0.006171401152297317,
          -0.028444936888962366,
          0.009522110312388914,
          0.02237968883866822,
          0.004992791931094358,
          -0.019228570260046023,
          -0.0008503784905501803,
          -0.00201826775261482,
          0.05240522198358535,
          -0.06082915345628737,
          -0.049347119149429915,
          0.011256766997625381,
          0.002149660354653391,
          0.06016781853920947,
          0.003574008990076213,
          0.1299572009240245,
          -0.00903374963832997,
          0.002172872679578993,
          0.0011307114864230645,
          0.01580550869000012,
          0.006260848166347347,
          0.055343156132327355,
          0.042347630776081516,
          0.021346275683574136,
          -0.00693332681374373,
          -0.005347234958817658,
          0.06481979710792234,
          0.011278662843113896,
          -0.11574454235657933,
          0.05327789422205839,
          0.0715548411679246,
          0.004570243561259599,
          -0.0018836127953804924,
          0.0017799372546056702,
          0.004411180195770102,
          0.00024109063550029132,
          0.018771344565150276,
          -0.00226021991044487,
          -0.006800072049171904,
          0.002661873349009698,
          -0.027455788931467644,
          0.005526513099924928,
          0.0059594745455565385,
          0.004144941610099741,
          0.011393081609656158,
          0.009036772022243688,
          0.054871894060678196,
          0.013569095329059191,
          0.006587392927485679,
          0.011312245031482756,
          0.10414247652732664,
          0.012489310783788123,
          -0.007620826036301764,
          -0.0033852764950118496,
          0.016884523980923778,
          -0.01065873438874353,
          0.01811058597417672,
          0.0009924140435450368,
          -0.01525588948340579,
          0.02005384414877661,
          0.039525493236946915,
          0.014837065406715037,
          -0.09281134697867392,
          -0.03186144380009817,
          0.007441743119337007,
          0.0008010442344375978,
          0.011210025368853847,
          0.010255839905177777,
          0.009571390964218857,
          0.0015381952540603732,
          0.026546644293597158,
          0.00024298019107152878,
          0.06336198238241617,
          -0.009341824910292196,
          0.006608444293484851,
          0.006317663352498945,
          -0.02387715620800195,
          0.043075636919186665,
          0.0015266162742278648,
          0.00507331265051286,
          0.0019473083120724432,
          -0.03179696416091627,
          0.006999777215086695,
          -0.005631384498014416,
          -0.002480055555811749,
          0.006310593300461281,
          -0.01231931345744696,
          -0.04028090259219196,
          0.007219639529767747,
          -0.15811635425461937,
          0.002902342956116055,
          0.07773766947038219,
          -0.001975821145770346,
          0.008465467112648483,
          -0.040612447973498056,
          -0.0074681074964830655,
          -0.17852809376972262,
          -0.14744257455079213,
          0.09868498812851126,
          0.026093276325819998,
          0.007290191410799608,
          -0.015113747999540503,
          -0.02675661521654697,
          0.00037527956093581837,
          0.001821993125580045,
          -0.0009382140395256315,
          0.0007285290737946564,
          0.052238740269355134,
          -0.020337770095511055,
          -0.01814709534344081,
          0.0015382951253534896,
          -0.016255759497736885,
          -0.03215495481195187,
          0.08212950045862219,
          -0.010854462129662566,
          0.011193916201912853,
          -0.0015272278358982108,
          0.009031596348861295,
          -0.08807856276932714,
          -0.005510072566442101,
          -0.08889965659195881,
          -0.007518449346849789,
          -0.01442367312633113,
          0.0019697403333415204,
          -0.04486612636968259,
          -0.04061042332095286,
          0.004039584286137228,
          0.031002676444123935,
          0.06127363515539455,
          -0.022347408353837264,
          0.05409891439646433,
          -0.0036263514463093986,
          0.005649940776884403,
          0.04781944899543368,
          -0.005729907194479703,
          0.006708308237649267,
          0.00035451046156863324,
          0.01701260355515019,
          -0.0055174474151280855,
          0.01598276980689811,
          0.1900633634580098,
          0.007040347775274949,
          -0.0011702389354896548,
          0.003498349382188568,
          0.009774019298470348,
          -0.015415037784962058,
          0.07465913849338827,
          0.042943141959940694,
          0.033319120698835615,
          0.013095713610997381,
          0.006170986986516399,
          0.16574873372415597,
          0.002920833753013016,
          -0.0018712637062103883,
          -0.00831458666780637,
          0.014248967673883544,
          0.002970880386166509,
          0.01401194625354244,
          -0.004657188363968327,
          0.020508658680024112,
          -0.020176026134118723,
          0.019169103180466936,
          0.014954432901272215,
          0.0018935636651491725,
          -0.021885246155641448,
          -0.09977493713519846,
          0.006299627427055398,
          0.011714833925283451,
          -0.15088496005751878,
          0.09685040810111033,
          0.007955049565214378,
          -0.001285550780191804,
          -0.1737542316107254,
          -0.018232275840504363,
          0.011002419518818392,
          -0.0025997479570488303,
          0.001996365575854768,
          -0.03027168283110301,
          0.002786158767884196,
          0.07226845015508818,
          0.0013399136688175394,
          -0.3063988743849226,
          -0.026929280619358738,
          -0.010557649994354417,
          -0.0032869030300942603,
          0.02967069210436627,
          -0.002710124890909899,
          -0.010176593790373095,
          0.02743149806528466,
          -0.017440446762694184,
          0.01001187014064259,
          0.0737126352911336,
          -0.006233465234277819,
          -0.04814411238459424,
          0.010859533913916907,
          0.0052812573727479715,
          0.13943571817095876,
          0.07546814262416603,
          -0.005437836566939498,
          0.014283251708337349,
          -0.009255750709709366,
          0.0828669074669884,
          -0.0003274388798745435,
          -0.03729153064997694,
          -0.008062019752942172,
          0.005425970919652578,
          0.007145174642846269,
          -0.01929362851357265,
          0.041512845877810615,
          0.08853720740598574,
          0.04641638107708714,
          0.04785821539991603,
          0.00802413167521821,
          -0.07045005329073017,
          0.008271009116967388,
          -0.1283179392161107,
          -0.0058984982697234045,
          0.010720038264387756,
          -0.004363722400449666,
          -0.03395894035173497,
          -0.0070201779374980495,
          -0.007586587841902197,
          -0.022137628038005824,
          -0.013802914070440757,
          0.016107566979617037,
          0.001362383006161689,
          0.14992499952770363,
          -0.14312700868426542,
          -0.0040380039455660995,
          -0.009152953074381317,
          0.06771344085228141,
          0.0019216528136253238,
          -0.03884611875435232,
          -0.0025730045838518968,
          0.024820205197122133,
          0.052790900928640555,
          0.00855748705655302,
          0.05076405434099638,
          0.005562354281785535,
          -0.008035273520798466,
          -0.014728975538988274,
          0.011633176147231583,
          -0.11024371868386099,
          -0.1171497042677581,
          0.02084312671377896,
          -0.0005762942844295304,
          -0.01583653212545037,
          -0.01981431363456098,
          -0.003588417251713116,
          -0.012715724785047624,
          -0.0013762798736249508,
          0.022803277505755573,
          -0.05425996134143584,
          0.004217446502434199,
          0.03197760228268662,
          0.029912368832359853,
          -0.015549544332024054,
          -0.0016931409414470131,
          0.00280954457301503,
          -0.004212226111497045,
          0.0035686677730391663,
          0.008847586971602102,
          0.002352487339973511,
          0.08101148649644689,
          0.17066167871766252,
          -0.002354474964350271,
          0.014102748008760869,
          -0.005176453199383764,
          0.00989057147795154,
          0.07873874892289578,
          -0.007604499335054559,
          -0.14147292469726094,
          0.004440977330342627,
          0.04584046639405869,
          -0.00007227645627198955,
          0.05713826556205276,
          -0.11829056912327565,
          -0.0017473431957352697,
          0.021406963016739465,
          0.0011498251377885951,
          -0.00768068753356903,
          -0.002496525163704392,
          0.00047349517994313195,
          0.008600379108890674,
          -0.13048204400577373,
          -0.10841492229659853,
          -0.032342364609006545,
          0.12796599063380465,
          -0.0009233571267960278,
          -0.0061670269542908,
          -0.006432989444804941,
          -0.10115023124692314,
          0.00014612598542067915,
          0.08050899057059413,
          0.003193097272830945,
          -0.0036639850431551845,
          -0.008881318407490792,
          -0.004863753927538652,
          0.01915178939688957,
          0.014692158289713987,
          0.0003874560378655542,
          0.015140866648475448,
          -0.004603864861167777,
          0.0032366772256747444,
          -0.12789013040280636,
          -0.02258634819086557,
          0.07181944544640151,
          0.005227958392953871,
          0.012550256090214075,
          0.00718158159002771,
          -0.011081980704920807,
          -0.11508710575139018,
          0.05645234056331912,
          -0.052170284091517354,
          -0.013643811740493386,
          0.04996310755083004,
          -0.037418138467972054,
          0.002182953940267857,
          0.00451192391662755,
          -0.017639566305662092,
          0.0049849755180424405,
          0.06883069740498449,
          0.00775655158576729,
          -0.007653144123209895,
          -0.011336024721576196,
          0.013798294818410646,
          0.01596304951132997,
          0.007348294782205123,
          -0.0018752534371769226,
          -0.00693325536210329,
          -0.108056409736613,
          0.001406958328687808
         ],
         "yaxis": "y"
        }
       ],
       "layout": {
        "legend": {
         "title": {
          "text": "party_label"
         },
         "tracegroupgap": 0
        },
        "margin": {
         "t": 60
        },
        "template": {
         "data": {
          "bar": [
           {
            "error_x": {
             "color": "#2a3f5f"
            },
            "error_y": {
             "color": "#2a3f5f"
            },
            "marker": {
             "line": {
              "color": "#E5ECF6",
              "width": 0.5
             }
            },
            "type": "bar"
           }
          ],
          "barpolar": [
           {
            "marker": {
             "line": {
              "color": "#E5ECF6",
              "width": 0.5
             }
            },
            "type": "barpolar"
           }
          ],
          "carpet": [
           {
            "aaxis": {
             "endlinecolor": "#2a3f5f",
             "gridcolor": "white",
             "linecolor": "white",
             "minorgridcolor": "white",
             "startlinecolor": "#2a3f5f"
            },
            "baxis": {
             "endlinecolor": "#2a3f5f",
             "gridcolor": "white",
             "linecolor": "white",
             "minorgridcolor": "white",
             "startlinecolor": "#2a3f5f"
            },
            "type": "carpet"
           }
          ],
          "choropleth": [
           {
            "colorbar": {
             "outlinewidth": 0,
             "ticks": ""
            },
            "type": "choropleth"
           }
          ],
          "contour": [
           {
            "colorbar": {
             "outlinewidth": 0,
             "ticks": ""
            },
            "colorscale": [
             [
              0,
              "#0d0887"
             ],
             [
              0.1111111111111111,
              "#46039f"
             ],
             [
              0.2222222222222222,
              "#7201a8"
             ],
             [
              0.3333333333333333,
              "#9c179e"
             ],
             [
              0.4444444444444444,
              "#bd3786"
             ],
             [
              0.5555555555555556,
              "#d8576b"
             ],
             [
              0.6666666666666666,
              "#ed7953"
             ],
             [
              0.7777777777777778,
              "#fb9f3a"
             ],
             [
              0.8888888888888888,
              "#fdca26"
             ],
             [
              1,
              "#f0f921"
             ]
            ],
            "type": "contour"
           }
          ],
          "contourcarpet": [
           {
            "colorbar": {
             "outlinewidth": 0,
             "ticks": ""
            },
            "type": "contourcarpet"
           }
          ],
          "heatmap": [
           {
            "colorbar": {
             "outlinewidth": 0,
             "ticks": ""
            },
            "colorscale": [
             [
              0,
              "#0d0887"
             ],
             [
              0.1111111111111111,
              "#46039f"
             ],
             [
              0.2222222222222222,
              "#7201a8"
             ],
             [
              0.3333333333333333,
              "#9c179e"
             ],
             [
              0.4444444444444444,
              "#bd3786"
             ],
             [
              0.5555555555555556,
              "#d8576b"
             ],
             [
              0.6666666666666666,
              "#ed7953"
             ],
             [
              0.7777777777777778,
              "#fb9f3a"
             ],
             [
              0.8888888888888888,
              "#fdca26"
             ],
             [
              1,
              "#f0f921"
             ]
            ],
            "type": "heatmap"
           }
          ],
          "heatmapgl": [
           {
            "colorbar": {
             "outlinewidth": 0,
             "ticks": ""
            },
            "colorscale": [
             [
              0,
              "#0d0887"
             ],
             [
              0.1111111111111111,
              "#46039f"
             ],
             [
              0.2222222222222222,
              "#7201a8"
             ],
             [
              0.3333333333333333,
              "#9c179e"
             ],
             [
              0.4444444444444444,
              "#bd3786"
             ],
             [
              0.5555555555555556,
              "#d8576b"
             ],
             [
              0.6666666666666666,
              "#ed7953"
             ],
             [
              0.7777777777777778,
              "#fb9f3a"
             ],
             [
              0.8888888888888888,
              "#fdca26"
             ],
             [
              1,
              "#f0f921"
             ]
            ],
            "type": "heatmapgl"
           }
          ],
          "histogram": [
           {
            "marker": {
             "colorbar": {
              "outlinewidth": 0,
              "ticks": ""
             }
            },
            "type": "histogram"
           }
          ],
          "histogram2d": [
           {
            "colorbar": {
             "outlinewidth": 0,
             "ticks": ""
            },
            "colorscale": [
             [
              0,
              "#0d0887"
             ],
             [
              0.1111111111111111,
              "#46039f"
             ],
             [
              0.2222222222222222,
              "#7201a8"
             ],
             [
              0.3333333333333333,
              "#9c179e"
             ],
             [
              0.4444444444444444,
              "#bd3786"
             ],
             [
              0.5555555555555556,
              "#d8576b"
             ],
             [
              0.6666666666666666,
              "#ed7953"
             ],
             [
              0.7777777777777778,
              "#fb9f3a"
             ],
             [
              0.8888888888888888,
              "#fdca26"
             ],
             [
              1,
              "#f0f921"
             ]
            ],
            "type": "histogram2d"
           }
          ],
          "histogram2dcontour": [
           {
            "colorbar": {
             "outlinewidth": 0,
             "ticks": ""
            },
            "colorscale": [
             [
              0,
              "#0d0887"
             ],
             [
              0.1111111111111111,
              "#46039f"
             ],
             [
              0.2222222222222222,
              "#7201a8"
             ],
             [
              0.3333333333333333,
              "#9c179e"
             ],
             [
              0.4444444444444444,
              "#bd3786"
             ],
             [
              0.5555555555555556,
              "#d8576b"
             ],
             [
              0.6666666666666666,
              "#ed7953"
             ],
             [
              0.7777777777777778,
              "#fb9f3a"
             ],
             [
              0.8888888888888888,
              "#fdca26"
             ],
             [
              1,
              "#f0f921"
             ]
            ],
            "type": "histogram2dcontour"
           }
          ],
          "mesh3d": [
           {
            "colorbar": {
             "outlinewidth": 0,
             "ticks": ""
            },
            "type": "mesh3d"
           }
          ],
          "parcoords": [
           {
            "line": {
             "colorbar": {
              "outlinewidth": 0,
              "ticks": ""
             }
            },
            "type": "parcoords"
           }
          ],
          "pie": [
           {
            "automargin": true,
            "type": "pie"
           }
          ],
          "scatter": [
           {
            "marker": {
             "colorbar": {
              "outlinewidth": 0,
              "ticks": ""
             }
            },
            "type": "scatter"
           }
          ],
          "scatter3d": [
           {
            "line": {
             "colorbar": {
              "outlinewidth": 0,
              "ticks": ""
             }
            },
            "marker": {
             "colorbar": {
              "outlinewidth": 0,
              "ticks": ""
             }
            },
            "type": "scatter3d"
           }
          ],
          "scattercarpet": [
           {
            "marker": {
             "colorbar": {
              "outlinewidth": 0,
              "ticks": ""
             }
            },
            "type": "scattercarpet"
           }
          ],
          "scattergeo": [
           {
            "marker": {
             "colorbar": {
              "outlinewidth": 0,
              "ticks": ""
             }
            },
            "type": "scattergeo"
           }
          ],
          "scattergl": [
           {
            "marker": {
             "colorbar": {
              "outlinewidth": 0,
              "ticks": ""
             }
            },
            "type": "scattergl"
           }
          ],
          "scattermapbox": [
           {
            "marker": {
             "colorbar": {
              "outlinewidth": 0,
              "ticks": ""
             }
            },
            "type": "scattermapbox"
           }
          ],
          "scatterpolar": [
           {
            "marker": {
             "colorbar": {
              "outlinewidth": 0,
              "ticks": ""
             }
            },
            "type": "scatterpolar"
           }
          ],
          "scatterpolargl": [
           {
            "marker": {
             "colorbar": {
              "outlinewidth": 0,
              "ticks": ""
             }
            },
            "type": "scatterpolargl"
           }
          ],
          "scatterternary": [
           {
            "marker": {
             "colorbar": {
              "outlinewidth": 0,
              "ticks": ""
             }
            },
            "type": "scatterternary"
           }
          ],
          "surface": [
           {
            "colorbar": {
             "outlinewidth": 0,
             "ticks": ""
            },
            "colorscale": [
             [
              0,
              "#0d0887"
             ],
             [
              0.1111111111111111,
              "#46039f"
             ],
             [
              0.2222222222222222,
              "#7201a8"
             ],
             [
              0.3333333333333333,
              "#9c179e"
             ],
             [
              0.4444444444444444,
              "#bd3786"
             ],
             [
              0.5555555555555556,
              "#d8576b"
             ],
             [
              0.6666666666666666,
              "#ed7953"
             ],
             [
              0.7777777777777778,
              "#fb9f3a"
             ],
             [
              0.8888888888888888,
              "#fdca26"
             ],
             [
              1,
              "#f0f921"
             ]
            ],
            "type": "surface"
           }
          ],
          "table": [
           {
            "cells": {
             "fill": {
              "color": "#EBF0F8"
             },
             "line": {
              "color": "white"
             }
            },
            "header": {
             "fill": {
              "color": "#C8D4E3"
             },
             "line": {
              "color": "white"
             }
            },
            "type": "table"
           }
          ]
         },
         "layout": {
          "annotationdefaults": {
           "arrowcolor": "#2a3f5f",
           "arrowhead": 0,
           "arrowwidth": 1
          },
          "autotypenumbers": "strict",
          "coloraxis": {
           "colorbar": {
            "outlinewidth": 0,
            "ticks": ""
           }
          },
          "colorscale": {
           "diverging": [
            [
             0,
             "#8e0152"
            ],
            [
             0.1,
             "#c51b7d"
            ],
            [
             0.2,
             "#de77ae"
            ],
            [
             0.3,
             "#f1b6da"
            ],
            [
             0.4,
             "#fde0ef"
            ],
            [
             0.5,
             "#f7f7f7"
            ],
            [
             0.6,
             "#e6f5d0"
            ],
            [
             0.7,
             "#b8e186"
            ],
            [
             0.8,
             "#7fbc41"
            ],
            [
             0.9,
             "#4d9221"
            ],
            [
             1,
             "#276419"
            ]
           ],
           "sequential": [
            [
             0,
             "#0d0887"
            ],
            [
             0.1111111111111111,
             "#46039f"
            ],
            [
             0.2222222222222222,
             "#7201a8"
            ],
            [
             0.3333333333333333,
             "#9c179e"
            ],
            [
             0.4444444444444444,
             "#bd3786"
            ],
            [
             0.5555555555555556,
             "#d8576b"
            ],
            [
             0.6666666666666666,
             "#ed7953"
            ],
            [
             0.7777777777777778,
             "#fb9f3a"
            ],
            [
             0.8888888888888888,
             "#fdca26"
            ],
            [
             1,
             "#f0f921"
            ]
           ],
           "sequentialminus": [
            [
             0,
             "#0d0887"
            ],
            [
             0.1111111111111111,
             "#46039f"
            ],
            [
             0.2222222222222222,
             "#7201a8"
            ],
            [
             0.3333333333333333,
             "#9c179e"
            ],
            [
             0.4444444444444444,
             "#bd3786"
            ],
            [
             0.5555555555555556,
             "#d8576b"
            ],
            [
             0.6666666666666666,
             "#ed7953"
            ],
            [
             0.7777777777777778,
             "#fb9f3a"
            ],
            [
             0.8888888888888888,
             "#fdca26"
            ],
            [
             1,
             "#f0f921"
            ]
           ]
          },
          "colorway": [
           "#636efa",
           "#EF553B",
           "#00cc96",
           "#ab63fa",
           "#FFA15A",
           "#19d3f3",
           "#FF6692",
           "#B6E880",
           "#FF97FF",
           "#FECB52"
          ],
          "font": {
           "color": "#2a3f5f"
          },
          "geo": {
           "bgcolor": "white",
           "lakecolor": "white",
           "landcolor": "#E5ECF6",
           "showlakes": true,
           "showland": true,
           "subunitcolor": "white"
          },
          "hoverlabel": {
           "align": "left"
          },
          "hovermode": "closest",
          "mapbox": {
           "style": "light"
          },
          "paper_bgcolor": "white",
          "plot_bgcolor": "#E5ECF6",
          "polar": {
           "angularaxis": {
            "gridcolor": "white",
            "linecolor": "white",
            "ticks": ""
           },
           "bgcolor": "#E5ECF6",
           "radialaxis": {
            "gridcolor": "white",
            "linecolor": "white",
            "ticks": ""
           }
          },
          "scene": {
           "xaxis": {
            "backgroundcolor": "#E5ECF6",
            "gridcolor": "white",
            "gridwidth": 2,
            "linecolor": "white",
            "showbackground": true,
            "ticks": "",
            "zerolinecolor": "white"
           },
           "yaxis": {
            "backgroundcolor": "#E5ECF6",
            "gridcolor": "white",
            "gridwidth": 2,
            "linecolor": "white",
            "showbackground": true,
            "ticks": "",
            "zerolinecolor": "white"
           },
           "zaxis": {
            "backgroundcolor": "#E5ECF6",
            "gridcolor": "white",
            "gridwidth": 2,
            "linecolor": "white",
            "showbackground": true,
            "ticks": "",
            "zerolinecolor": "white"
           }
          },
          "shapedefaults": {
           "line": {
            "color": "#2a3f5f"
           }
          },
          "ternary": {
           "aaxis": {
            "gridcolor": "white",
            "linecolor": "white",
            "ticks": ""
           },
           "baxis": {
            "gridcolor": "white",
            "linecolor": "white",
            "ticks": ""
           },
           "bgcolor": "#E5ECF6",
           "caxis": {
            "gridcolor": "white",
            "linecolor": "white",
            "ticks": ""
           }
          },
          "title": {
           "x": 0.05
          },
          "xaxis": {
           "automargin": true,
           "gridcolor": "white",
           "linecolor": "white",
           "ticks": "",
           "title": {
            "standoff": 15
           },
           "zerolinecolor": "white",
           "zerolinewidth": 2
          },
          "yaxis": {
           "automargin": true,
           "gridcolor": "white",
           "linecolor": "white",
           "ticks": "",
           "title": {
            "standoff": 15
           },
           "zerolinecolor": "white",
           "zerolinewidth": 2
          }
         }
        },
        "xaxis": {
         "anchor": "y",
         "domain": [
          0,
          1
         ],
         "title": {
          "text": "x"
         }
        },
        "yaxis": {
         "anchor": "x",
         "domain": [
          0,
          1
         ],
         "title": {
          "text": "y"
         }
        }
       }
      }
     },
     "metadata": {},
     "output_type": "display_data"
    }
   ],
   "source": [
    "#balance data so that pca doesn't try to explain variance more with one class than the other (however we still can't seperate it)\n",
    "balance_data = pd.concat([cleaned_df[cleaned_df['party_label']=='D'].sample(1000),cleaned_df[cleaned_df['party_label']=='R'].sample(1000)])\n",
    "pca(balance_data,keyword = None, use_keyword = False,removeVerbs = False)"
   ]
  },
  {
   "cell_type": "markdown",
   "metadata": {},
   "source": [
    "We will now train a small classification model and see if our main goal is feasible."
   ]
  },
  {
   "cell_type": "code",
   "execution_count": 56,
   "metadata": {},
   "outputs": [],
   "source": [
    "#NEED BALANCED DATA!!\n",
    "labeled_df = pd.io.json.read_json(path_to_file, lines=True)\n",
    "\n",
    "#labeled_df_senators = labeled_df[labeled_df['US_congress_bio_ID'] != 'None']\n",
    "labeled_df_dem= labeled_df[labeled_df['party_label']=='D'].head(20000)\n",
    "labeled_df_rep= labeled_df[labeled_df['party_label']=='R'].head(20000)\n",
    "labeled_df_senators = pd.concat([labeled_df_dem, labeled_df_rep])\n",
    "labeled_df_senators['vect_quotes'] = labeled_df_senators['quotation'].pipe(hero.clean).pipe(hero.tfidf)\n",
    "\n",
    "X = labeled_df_senators[labeled_df['US_congress_bio_ID'] != 'None']['vect_quotes'].tolist()\n",
    "y = labeled_df_senators[labeled_df['US_congress_bio_ID'] != 'None']['party_label'].tolist()"
   ]
  },
  {
   "cell_type": "code",
   "execution_count": null,
   "metadata": {},
   "outputs": [],
   "source": [
    "from sklearn.model_selection import train_test_split\n",
    "from sklearn.ensemble import RandomForestClassifier\n",
    "from sklearn.model_selection import cross_val_score\n",
    "\n",
    "print('xshape: ',len(X),'yshape: ',len(y))\n",
    "clf = RandomForestClassifier(n_estimators=10)\n",
    "\n",
    "scores = cross_val_score(clf, X,y, cv=5)\n",
    "scores.mean()"
   ]
  },
  {
   "cell_type": "markdown",
   "metadata": {},
   "source": []
  },
  {
   "cell_type": "markdown",
   "metadata": {
    "scrolled": true
   },
   "source": []
  },
  {
   "cell_type": "code",
   "execution_count": null,
   "metadata": {},
   "outputs": [],
   "source": []
  }
 ],
 "metadata": {
  "interpreter": {
   "hash": "383ff3a15dd6869fb1b50df9c3d6b174ef9c6411299a4260eb84ddaf02a83d7f"
  },
  "kernelspec": {
   "display_name": "Python 3.8.3 64-bit ('base': conda)",
   "name": "python3"
  },
  "language_info": {
   "codemirror_mode": {
    "name": "ipython",
    "version": 3
   },
   "file_extension": ".py",
   "mimetype": "text/x-python",
   "name": "python",
   "nbconvert_exporter": "python",
   "pygments_lexer": "ipython3",
   "version": "3.8.3"
  }
 },
 "nbformat": 4,
 "nbformat_minor": 4
}
