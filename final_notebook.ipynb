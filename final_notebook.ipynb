{
 "cells": [
  {
   "cell_type": "markdown",
   "metadata": {},
   "source": [
    "The data we need is in both Quotebank and wikidata. From quotebank we extract quotes, speakers and dates. From Wikidata we extract the political party corresponding to the speakers. Below we will present the exploration of the data that are useful to us. The goal of this notebook is to show our initial treatment of the data: the preprocessing and all the necessary descriptive statistics tasks. "
   ]
  },
  {
   "cell_type": "markdown",
   "metadata": {},
   "source": [
    "The first thing we need to do is to merge the two datasets in order to label the quotes with the political party associated. \n",
    "MICHAIL explain what you did!\n",
    "We write the resulting merged data into a file accessible at path QUOTES_2020_PARTY_LABELED_PATH."
   ]
  },
  {
   "cell_type": "markdown",
   "metadata": {},
   "source": [
    "MERGING PIPELINE"
   ]
  },
  {
   "cell_type": "code",
   "execution_count": 17,
   "metadata": {},
   "outputs": [
    {
     "name": "stdout",
     "output_type": "stream",
     "text": [
      "Requirement already satisfied: pandas==1.3.0 in /usr/local/lib/python3.7/site-packages (1.3.0)\n",
      "Requirement already satisfied: numpy>=1.17.3 in /usr/local/lib/python3.7/site-packages (from pandas==1.3.0) (1.20.1)\n",
      "Requirement already satisfied: python-dateutil>=2.7.3 in /usr/local/lib/python3.7/site-packages (from pandas==1.3.0) (2.8.1)\n",
      "Requirement already satisfied: pytz>=2017.3 in /usr/local/lib/python3.7/site-packages (from pandas==1.3.0) (2021.1)\n",
      "Requirement already satisfied: six>=1.5 in /usr/local/lib/python3.7/site-packages (from python-dateutil>=2.7.3->pandas==1.3.0) (1.15.0)\n"
     ]
    }
   ],
   "source": [
    "!pip3 install pandas==1.3.0"
   ]
  },
  {
   "cell_type": "code",
   "execution_count": 2,
   "metadata": {},
   "outputs": [],
   "source": [
    "from helpers import *\n",
    "import bz2\n",
    "import json"
   ]
  },
  {
   "cell_type": "code",
   "execution_count": 3,
   "metadata": {
    "scrolled": true
   },
   "outputs": [
    {
     "name": "stdout",
     "output_type": "stream",
     "text": [
      "{'quoteID': '2020-01-16-000088', 'quotation': '[ Department of Homeland Security ] was livid and strongly urged to have the agenda pulled.', 'speaker': 'Sue Myrick', 'date': 1579176013000, 'numOccurrences': 1, 'id': 'Q367796', 'party_label': 'R', 'US_congress_bio_ID': 'M001134'}\n",
      "-----------------------------------------\n",
      "{'quoteID': '2020-01-26-000499', 'quotation': 'a few of the candidates who will do better in our part of the world', 'speaker': 'Dave Loebsack', 'date': 1580044896000, 'numOccurrences': 11, 'id': 'Q771586', 'party_label': 'D', 'US_congress_bio_ID': 'L000565'}\n",
      "-----------------------------------------\n",
      "{'quoteID': '2020-01-26-040663', 'quotation': 'The generational thing is important, quite honestly. I think we have to do everything we can to move this party forward and Pete is the future of the party,', 'speaker': 'Dave Loebsack', 'date': 1580044896000, 'numOccurrences': 11, 'id': 'Q771586', 'party_label': 'D', 'US_congress_bio_ID': 'L000565'}\n",
      "-----------------------------------------\n",
      "{'quoteID': '2020-01-20-000982', 'quotation': 'a host of other protections', 'speaker': 'Debbie Lesko', 'date': 1579534368000, 'numOccurrences': 1, 'id': 'Q16731415', 'party_label': 'R', 'US_congress_bio_ID': 'L000589'}\n",
      "-----------------------------------------\n"
     ]
    }
   ],
   "source": [
    "#Let's see some lines of the file\n",
    "\n",
    "path_to_file = fixpath(QUOTES_2020_PARTY_LABELED_PATH) \n",
    "\n",
    "flag = 1\n",
    "with bz2.open(path_to_file, 'rb') as s_file:\n",
    "      for instance in s_file:   \n",
    "            if flag < 5:\n",
    "                instance = json.loads(instance) # loading a sample\n",
    "                print(instance)\n",
    "                print('-----------------------------------------')\n",
    "                flag +=1\n",
    "            else:\n",
    "                break"
   ]
  },
  {
   "cell_type": "markdown",
   "metadata": {},
   "source": [
    "From the fileld US_congress_bio_ID we can see if the speaker is a senator or is just affiliated to the political party."
   ]
  },
  {
   "cell_type": "markdown",
   "metadata": {},
   "source": [
    "# DATA EXPLORATION: STUDY OF VARIOUS DISRIBUTIONS\n",
    "Let's Visualize and study different data distibution, and check that everything makes sense."
   ]
  },
  {
   "cell_type": "markdown",
   "metadata": {},
   "source": [
    "## 1. Let's analyize the distribution of number of words in the quotes."
   ]
  },
  {
   "cell_type": "code",
   "execution_count": 58,
   "metadata": {},
   "outputs": [
    {
     "data": {
      "image/png": "[encoded data removed]",
      "text/plain": [
       "<Figure size 432x288 with 1 Axes>"
      ]
     },
     "metadata": {
      "needs_background": "light"
     },
     "output_type": "display_data"
    }
   ],
   "source": [
    "import matplotlib.pyplot as plt\n",
    "path_to_file = fixpath(QUOTES_2020_PARTY_LABELED_PATH) \n",
    "lista = []\n",
    "with bz2.open(path_to_file, 'rb') as s_file:   \n",
    "      for instance in s_file:\n",
    "        instance = json.loads(instance)\n",
    "        text = instance['quotation']\n",
    "        lista.append(len(text.split()))\n",
    "\n",
    "plt.hist(lista, bins = 100)\n",
    "plt.xlim(0,200)\n",
    "plt.show()"
   ]
  },
  {
   "cell_type": "markdown",
   "metadata": {},
   "source": [
    "If we just look at all the data everything looks kind of normal, but let's zoom on the larger values"
   ]
  },
  {
   "cell_type": "code",
   "execution_count": 5,
   "metadata": {},
   "outputs": [
    {
     "data": {
      "image/png": "[encoded data removed]",
      "text/plain": [
       "<Figure size 432x288 with 1 Axes>"
      ]
     },
     "metadata": {
      "needs_background": "light"
     },
     "output_type": "display_data"
    }
   ],
   "source": [
    "path_to_file = fixpath(QUOTES_2020_PARTY_LABELED_PATH) \n",
    "lista = []\n",
    "with bz2.open(path_to_file, 'rb') as s_file:   \n",
    "      for instance in s_file:\n",
    "            instance = json.loads(instance)\n",
    "            text = instance['quotation']\n",
    "            if len(text.split()) > 150:\n",
    "                lista.append(len(text.split()))\n",
    "\n",
    "plt.hist(lista, bins = 50)\n",
    "plt.show()"
   ]
  },
  {
   "cell_type": "markdown",
   "metadata": {},
   "source": [
    "From 300 to 450 the data seems to have a distribution almost uniform but it's true that the number of quotation is low and therfore it could be fine. Lets read some of this long quotes!"
   ]
  },
  {
   "cell_type": "code",
   "execution_count": 6,
   "metadata": {},
   "outputs": [
    {
     "name": "stdout",
     "output_type": "stream",
     "text": [
      "where the virus first emerged late last year, and which has suffered the vast majority of infections -- by imposing travel controls and shutting down public events. Italy on Saturday saw its biggest daily increase in coronavirus cases since the outbreak began in the north of the country on Feb. 21. In its daily update, Italy's civil protection agency said the number of people with the coronavirus rose by 1,247 in the last 24 hours, taking the total to 5,883. Another 36 people also died as a result of the virus, taking the total to 233. There was chaos and confusion in the northern Italian city of Padua in the Veneto region as word spread late Saturday evening that the government was planning to announce the quarantine. Packed bars and restaurants quickly emptied out as many people rushed to the train station in Padua. Travellers with suitcases, wearing face masks, gloves and carrying bottles of sanitizing gel shoved their way on to trains. Before Conte signed the quarantine decree, Stefano Bonaccini, president of the Emilia Romagna region, said parts of the decree were confusing, and he asked the premier for more time to come up with solutions that were more â € œcoherent. â €  Around the world, events and festivals have been called off. Travel restrictions and warnings have been issued. A nose-dive in tourist traffic and possible disruptions to supply chains have set off fears of a worldwide economic slowdown. Benchmarks in global markets have gyrated in recent weeks, as hopes for stimulus measures mixed with widespread pessimism on the virus news. Saudi Arabia has banned spectators at any sports competitions starting Saturday. The NBA, as well as British and Japanese sports teams are considering the same, as baseball and soccer seasons are starting. The spread of the virus has also taken a psychological toll. Authorities and manufacturers have been trying to assure panicking consumers they donâ € ™ t need to hoard toilet paper, which have vanished from store shelves in various nations. A particular point of concern are passenger-packed cruise ships, many of which are confronting their own virus problems. Officials in California were deciding Saturday where to dock the Grand Princess cruise ship, after 21 tested positive for the virus. There is evidence the ship now idling off San Francisco was the breeding ground for a deadly cluster of almost 20 cases during an earlier voyage. â € œThose that will need to be quarantined will be quarantined,\n",
      "-------------------------------------------------------\n",
      "I know they got the house boarded up and holes covered, so we got a little reprieve. But when they start ripping open those walls or doing the plumbing, we are just in fear of the next wave of attack. NYPD officer, fiancee charged with murder in death of 8-year-old son, kept in freezing garage A man and his fiancee have been charged with murder in the death of his 8-year-old son, who was left overnight in an unheated garage in freezing temperatures, officials said. Michael Valva, an New York Police Department transit officer, and Angela Pollina left Thomas Valva in the garage overnight when temperatures dipped to 19 degrees. The boy was found dead the next day, his body temperature was 76 degrees. `The medical examiner has ruled it a homicide with a major contributing factor of hypothermia,' Suffolk County Police Chief Geraldine Hart told WNBC. `We believe certainly that Thomas was kept in the garage overnight preceding his death.' Police were called to the home Jan. 17 after neighbors saw a boy had fallen in the driveway and lost consciousness, WNBC reported. Valva told investigators his son fell while waiting for the bus then lost consciousness, The New York Times reported. Officers arrived and found Michael Valva performing life-saving techniques on the boy in the family's basement. The boy was taken to a hospital and pronounced dead. The family had a home security system and kept close watch on their six children. Valva's three sons ages, 6, 8 and 10, and Pollina's three daughters ages, a 6-year-old and twin 11-year-olds, WNBC reported. Footage showed Valva routinely withheld food as a punishment and exposed his sons to cold temperatures, investigators said. `We are still investigating the extent of the abuse and if it extended to all of the children,' Hart told WNBC. Michael Valva and Pollina were arrested and charged with second-degree murder, officials said. Valva, who joined the NYPD in 2005, was suspended, the Times reported. The attorney for Valva and Pollini maintain their innocence, WNBC reported. The couple will be arraigned Saturday. Shortly after his son's death, Valva raised $16,000 on a GoFundMe account to pay for the boy's funeral, News 12 Long Island reported. The boy's mother, Justyna Valva, lost custody of the boys, the Times reported. She had not seen Thomas in two years until looking at his body in the medical examiner's office.' I just really want justice for my son,\n",
      "-------------------------------------------------------\n",
      "I remain concerned about the public health and safety issues that COVID-19 is creating and support the governor and president pro tempore in adopting public health guidelines to protect the wellbeing of my constituents. We encourage you to stay calm and keep informed about what to do during this time. Everyone is under a strong advisory to adhere to social distancing and do our part to help keep everyone healthy during this time. My offices are open, assisting the community, and providing regular updates through things like social media and press releases. Please refer to credible resources to stay informed, such as the California Department of Public Health [ cdph. ca. gov ], for the most up to date information. We are in close contact with local leaders, elected officials and our community and are actively monitoring these ever-changing issues. We are hyper vigilant regarding issues like our access to water, price gouging, a robust healthcare network, how to assist displaced workers, and food insecurity. Senate District 14 is the breadbasket for the state and many parts of the word. I will continue to be vigilant to protect the supply chain of food that my district helps provide. I remain concerned about our most vulnerable and am asking that we consider our neighbors during this difficult time. Please keep others in mind when shopping and only take what you need during this time because everyone suffers when people stockpile. The effects that this will have on our economy are still to be seen, but I encourage you to continue to support our local businesses during this time in new and creative ways. Curbside pickups and buying gift cards will help small businesses and protect jobs. I am working with larger employers at the state level to help mitigate the financial effects of this event. As the chair of the Senate Committee on Human Services I am closely monitoring the efforts to reduce impacts on recipients of essential safety net benefits that serve our most vulnerable populations. These are programs that impact older adults and their caregivers, child care providers, families with low incomes, and people with developmental disabilities. Government leaders and advocates are exploring ways to take advantage of the flexibility given to these safety net programs thru the executive orders issued at the state and federal level. My office will share updates on CalFresh, CalWORKs and the like as they become available. The situation is changing quickly and it is essential that we all do our part to support and protect our constituents, our colleagues and our families by complying with the guidance issued by our leaders.\n",
      "-------------------------------------------------------\n",
      "To me, we're beyond staggering already. â €  Even before the governor's appeal, close to 80,000 former nurses, doctors and other professionals were volunteering in New York, and a Navy hospital ship arrived with 1,000 beds to relieve pressure on the city's overwhelmed hospitals. California officials put out a similar call for volunteers as coronavirus hospitalizations doubled over the last four days and the number of patients in intensive care tripled. Experts maintain the pandemic will be defeated only by social distancing measures that have locked down billions of people and upended the world's economy. In the southern state of Florida, officials were meeting later Tuesday to decide whether to let the infection-plagued cruise ship Zaandam dock after more than two weeks at sea. In a South American dream trip that turned into a nightmare, dozens on the ship have reported flu-like symptoms and four people have died. The company said eight people have tested positive but 2,300 other passengers and crew are in good health. Florida Gov. Ron DeSantis has said the state's health care resources are stretched too thin to allow the ship to dock. More than 235 million people -- about two of every three Americans -- live in the 33 states where governors have ordered or recommended that residents stay home. Worldwide, 801,400 people have been infected and 170,325 have recovered, according to Johns Hopkins University. For most people, the coronavirus causes mild or moderate symptoms, such as fever and cough. But for others, especially older adults and people with existing health problems, it can cause severe symptoms like pneumonia and even death. China on Tuesday reported just one new death from the coronavirus and 48 new cases, claiming that all new infections came from overseas. In Wuhan, people were ready to jump, cry and â € œrevenge shopâ €  as the Chinese city once at the centre of the outbreak reopened. About 75% of the shops reopened at the Chuhe Hanjie pedestrian mall. Shopkeepers limited the number of people allowed in, dispensing hand sanitizer and checking customers for signs of fever. In Serbia, Hungary and other nations, concerns were rising that populist leaders were using the situation to try to seize more power and silence critics. A human rights expert said while she understands the need to act swiftly to protect lives, the new states of emergency must include time limits and parliamentary oversight. â € œA state of emergency -- wherever it is declared and for whatever reason -- must be proportionate to its aim, and only remain in place for as long as absolutely necessary,\n",
      "-------------------------------------------------------\n",
      "Fox News Sunday. â €  Even with the victory, the shortcomings of Biden's campaign remain, including a lack of robust funding and organization that have drawn concern from top allies. He is barely running any television advertising in Super Tuesday states. Bloomberg announced his own plan to deliver a three-minute prime-time address Sunday night on two television networks. He didn't say how much he paid for the air time, which is unprecedented in recent decades. And both Sanders and Bloomberg have many more staff and volunteers than Biden. Levelling his own direct attack on Sanders, Biden declared, â € œThe people aren't looking for revolution. They're looking for results. â €  Biden won about three times as many delegates in South Carolina as Sanders, his nearest rival, giving a momentary respite to anxious Democrats who feared that the democratic socialist would finish February with four consecutive top finishes that would make it difficult for anyone to overtake him. The Associated Press declared Biden the winner just after the polls closed in South Carolina. The AP based the call on data from AP VoteCast, a survey of the electorate conducted for the AP by NORC at the University of Chicago. The survey showed a convincing win for Biden. But Biden made an aggressive round of media appearances on Sunday in an effort to counter Bloomberg's massive spending. He's also working to secure endorsements from prominent Democrats and, shortly after the Saturday results were in, he got the backing of former Virginia Gov. Terry McAuliffe. Biden downplayed the lack of an endorsement from former President Barack Obama, whose name he often invokes on the campaign trail to voters nostalgic for his administration. Biden said on ABC he has to earn this â € œon my own. â €  The South Carolina primary was the first major test of the candidates' appeal among black voters. That courtship continued Sunday in Selma. A number of states that vote on Super Tuesday, including Alabama, Tennessee, North Carolina and Virginia, have substantial black populations. One of the candidates who spent recent weeks wooing black voters, billionaire activist Tom Steyer, ended his campaign on Saturday after a disappointing third-place finish. He spent more than $24 million on television advertising in South Carolina -- more than all of his rivals combined -- but never found a clear lane in the crowded contest. Trump weighed in on Twitter early Sunday, taunting Bloomberg -- as he often does potential rivals. The president suggested the billionaire's advisers are simply on a â € œgravy trainâ €  leading him down a â € œdark and lonely path\n",
      "-------------------------------------------------------\n",
      "I just feel terrible for the women who had the courage to come forward and give their evidence to the authorities in this case. It's hard for them to make these reports about things that were so very humiliating in the first place then have to relive the pain. Certainly, any prosecutor should think long and hard before dismissing such a case where multiple women have independently come forward and subjected themselves to the hard process of bearing their souls to the authorities. I just hope they're not being sold down the river for some twisted political motive. Paul Walters, Chief of the OCDA bureau, brought this case to the attention of the executive staff, including me, in 2018 after the case was initially investigated. After the press attention, dozens of complainants came forward with allegations of drugging and/or sexual assault. I reassigned the case to a senior deputy district attorney who gave a fresh and thorough review to the case. This experienced prosecutor filed the complaints that will now be dismissed. I have had no information or involvement in this case since I left the office more than a year ago. I understand that the current district attorney conducted multiple reviews of the case and initially determined that the case was good. He eventually removed the senior prosecutor and any other prosecutors assigned to this case. I also learned from his press conference that a district attorney investigator has now been put on leave. It is possible that new evidence was developed and certainly I have dismissed cases (People v. Angela Diaz), and even reversed convictions when I did not have confidence in the evidence (People v. McKinney). However, considering the complaint contained seven Jane Does, it is too bad the public now does not have the chance to explore the truth during a preliminary hearing. Further, it is my understanding that the Jane Does in this case were not afforded the dignity of being notified about the dismissal prior to today's press conference. I hope the dismissal of this case was not based on the district attorney's relationship with one of the criminal defense attorneys, nor due to his political vendetta against me. Even if all of his allegations against me and my former chief of staff were true, and they are not, the remedy should not be dismissal. My heart goes out to the women who had the courage to come forward with their complaint, because I believed their complaints based on the evidence I had before leaving office.\n",
      "-------------------------------------------------------\n",
      "Dear Loyal, I hope you'll forgive me for this, but I've been wanting to write you ever since we talked on the phone. I am aware of the strain you are under and believe with all my heart there is help for that. First I want to tell you of a personal experience I've kept to myself for a long time. During my first year as Governor you'll recall the situation I found in Calif. was almost as bad as the one in Wash. today. It seemed as if the problems were endless and insolvable. Then I found myself with an ulcer. In all those years at Warner Bros., no one had been able to give me an ulcer and I felt ashamed as if it were a sign of weakness on my part. John Sharpe had me on Malox and I lived with a constant pain that ranged from discomfort to extremely sharp attacks. This went on for months. I had a bottle of Maalox in my desk, my briefcase and of course at home. Then one morning I got up, went into the bathroom, reached for the bottle as always and some thing happened. I knew I didn't need it. I had gone to bed with the usual pain the night before but I knew that morning I was healed. The Malox went back on the shelf. That morning when I arrived at the office Helene brought me my mail. The first letter I opened was from a lady -- a stranger -- in the Southern part of the state. She had written to tell me she was one of a group who met every day to pray for me. Believe it or not, the second letter was from a man, again a stranger, in the other end of the state telling me he was part of a group that met weekly to pray for me. Within the hour a young fellow from the legal staff came into my office on some routine matter. On the way out he paused in the door and said: `Gov. I think maybe you'd like to know -- some of us on the staff come in early every morning and get together to pray for you.' Coincidence? I don't think so. A couple of weeks later Nancy and I went down to L.A. and had our annual checkup. John Sharpe, a little puzzled, told me I no longer had an ulcer but added there was no indication I'd ever had one. Word of honor -- I never told him about that particular day in Sacramento...\n",
      "-------------------------------------------------------\n",
      "While the timing of the national finals is just outside the eight-week window recommended by the CDC, this is the safest and most responsible action. This was a difficult decision that unfortunately will disappoint students who have spent a great deal of time studying and preparing, along with their parents and teachers who have supported them. The focus now shifts to exploring all options to possibly reimagine a competition for later this year,' officials with Scripps said in a statement, according to the AP. This would have been the 93rd Scripps Spelling Bee. It was canceled from 1943 to 1945 because of World War II, the AP reported. Disney World cancels `2020 Star Wars Rival Run Weekend' over COVID-19 concerns A popular Disney World run weekend, which brings in people from around the world, is the latest thing to be canceled due to COVID-19. Walt Disney's runDisney made the announcement on their Facebook page. They wrote, `with circumstances continuing to change rapidly around the globe, we are making critical and timely decisions based on guidance from local, national and international health agencies. As we have shared before, we are basing our decisions on the safety and well-being of our Cast Members and our Guests.' The now-canceled 2020 Star Wars Rival Run Weekend was supposed to take place the weekend of April 17th. runDisney adds that refunds can be expected to be processed in four to six weeks. For more information on the canceled run, click here. Republicans press for fast action on Coronavirus stimulus measure Senate Republicans vowed on Thursday to work through the weekend to approve a sweeping plan to boost the economy in the face of massive losses tied to the Coronavirus outbreak, as GOP leaders proposed direct payments to American families mixed with tax breaks for businesses and billions of dollars in emergency loans for the airline industry. `This legislation is a significant next step,' said Senate Majority Leader Mitch McConnell. `And the Senate is not going anywhere until we take action.' The GOP plan includes small business `interruption loans,' direct payments to Americans - which are labeled 2020 `recovery rebates,' delays in employer payroll tax payments, estimated business tax payments, a variety of tax changes, a suspension of certain aviation taxes, and much more-all crammed into 247 page bill unveiled on Thursday afternoon. `The time to act is now,' said Sen. Charles Grassley (R-IA). `The economic uncertainty and potential global impact we are facing due to the coronavirus pandemic are unprecedented,\n",
      "-------------------------------------------------------\n",
      "It's times like these that truly show our state's resiliency and the strength of our spirit. The fund will be overseen by a committee of community members from across the state and will provide aid to support the Colorado communities and organizations who need the most help in response to the recent outbreak. Share your thoughts with friends. More Washington Examiner Jay Heflin Thursday March 19, 2020 Workers claiming unemployment surged last week to 281,000 as the economic effects of the coronavirus start to be reflected in government data. Caitlin Yilek Thursday March 19, 2020 A Massachusetts woman who flew from Los Angeles to Beijing before testing positive for the coronavirus could face up to seven years in prison for allegedly concealing her symptoms while traveling. Susan Ferrechio Thursday March 19, 2020 Senate Majority Leader Mitch McConnell has assigned his Republican conference with the task of drafting a massive GOP stimulus plan that can also satisfy the White House, shutting out Democrats, at least for now. Caitlin Yilek Thursday March 19, 2020 President Trump received a rare compliment from Democratic Rep. Ilhan Omar over actions his administration has taken in response to the coronavirus pandemic. Tom Rogan Thursday March 19, 2020 It should be obvious that racism against Chinese Americans, or Chinese in general, is as bad as racism against anyone else. Ying Ma Thursday March 19, 2020 What a difference a few weeks make. It was less than a month ago that socialism, not the coronavirus, dominated national political discussions. Today, the coronavirus has wreaked havoc on society and financial markets and drastically altered the political landscape. Emily Larsen Thursday March 19, 2020 Joe Biden will almost certainly be the Democratic presidential nominee, but Bernie Sanders and his far-left allies could be the biggest winners as the former vice president adopts positions that seemed fringe and radical just four years ago. Washington Examiner Thursday March 19, 2020 Crisis is not just the catalyst of tyranny. It is its raison d’etre. There isn't a single tyrant or tyrannical ideology that doesn't claim to be the long-term answer to some crisis -- of confidence, of poverty, of class struggle, of racial survival, and so on. Nicholas Rowan Thursday March 19, 2020 Trump backers are preparing to push back against Joe Biden's outreach to Catholics as the former vice president emerges as the near-certain Democratic presidential nominee. Tim Pearce Wednesday March 18, 2020 The pornographic lifestyle magazine Playboy is ending the printed version of its magazine after the coronavirus damaged the publication's content production and supply chain. John Gage Wednesday March 18, 2020 Rick Wilson, co-founder of the Lincoln Project, told Melania Trump\n",
      "-------------------------------------------------------\n",
      "The Treasury Department launched a new web tool allowing quick registration for Economic Impact Payments for eligible individuals who do not normally file a tax return, and also announced that it would begin making automatic payments. However, for some people receiving benefits from the Social Security Administration -- specifically those who have dependent children under the age of 17 -- it is to their advantage to go to this portal to ensure they also get the $500 per dependent Economic Impact Payment. I encourage them to do this as soon as possible, and want to provide the following details: People who receive Social Security retirement, survivors, or disability insurance benefits and who did not file a tax return for 2018 or 2019 and who have qualifying children under age 17 should now go to the IRS's webpage at www.irs.gov/coronavirus/economic-impact-payments to enter their information instead of waiting for their automatic $1,200 Economic Impact Payment. By taking proactive steps to enter information on the IRS website about them and their qualifying children, they will also receive the $500 per dependent child payment in addition to their $1,200 individual payment. If Social Security beneficiaries in this group do not provide their information to the IRS soon, they will have to wait to receive their $500 per qualifying child. The same new guidance also applies to SSI recipients, especially those who have qualifying children under age 17. To receive the full amount of the Economic Impact Payments you and your family are eligible for, go to the IRS's Non-Filers: Enter Payment Info page at www.irs.gov/coronavirus/economic-impact-payments and provide information about yourself and your qualifying children. Additionally, any new beneficiaries since January 1, 2020, of either Social Security or SSI benefits, who did not file a tax return for 2018 or 2019, will also need to go to the IRS's Non-Filers website to enter their information. Lastly, for Social Security retirement, survivors, or disability beneficiaries who do not have qualifying children under age 17, you do not need to take any action with the IRS. You will automatically receive your $1,200 economic impact payment directly from the IRS as long as you received an SSA-1099 for 2019. For SSI recipients who do not have qualifying children under age 17, we continue to work closely with Treasury in our efforts to make these payments automatically. Please note that we will not consider Economic Impact Payments as income for SSI recipients, and the payments are excluded from resources for 12 months. The eligibility requirements and other information about the Economic Impact Payments can be found here: www.irs.gov/coronavirus/economic-impact-payment-information-center. In addition, please continue to visit the IRS at www.irs.gov/coronavirus for the latest information.\n",
      "-------------------------------------------------------\n"
     ]
    }
   ],
   "source": [
    "lista = []\n",
    "cnt = 0\n",
    "with bz2.open(path_to_file, 'rb') as s_file:   \n",
    "      for instance in s_file:\n",
    "            instance = json.loads(instance)\n",
    "            text = instance['quotation']\n",
    "            lista.append(len(text.split()))\n",
    "            if len(text.split()) > 400:\n",
    "                print(text)\n",
    "                print('-------------------------------------------------------')"
   ]
  },
  {
   "cell_type": "markdown",
   "metadata": {},
   "source": [
    "Most of the quotes looks good, even if some are clearly not quotes (look at the last one), but many contains wird 'â € ','â € ™','â € ' sequences of carachters! "
   ]
  },
  {
   "cell_type": "code",
   "execution_count": 7,
   "metadata": {},
   "outputs": [
    {
     "name": "stdout",
     "output_type": "stream",
     "text": [
      "74\n"
     ]
    }
   ],
   "source": [
    "import bz2\n",
    "import json\n",
    "path_to_file = fixpath(QUOTES_2020_PARTY_LABELED_PATH) \n",
    "list = []\n",
    "cnt = 0\n",
    "with bz2.open(path_to_file, 'rb') as s_file:   \n",
    "      for instance in s_file:\n",
    "        instance = json.loads(instance)\n",
    "        text = instance['quotation']\n",
    "        if 'â € ' in text or 'â € ™' in text:\n",
    "            cnt +=1\n",
    "\n",
    "print(cnt)"
   ]
  },
  {
   "cell_type": "markdown",
   "metadata": {},
   "source": [
    "A quick research on google and we convninced ourselfs that this problem is coming from a UTF-8 encoding bug when creating the datset. (see https://www.i18nqa.com/debug/utf8-debug.html) which occurs either when the dataset is created or which is present on the website from which the quote is extracted. We find strange the high concentration of these bugs within the longer citations in fact within the whole dataset we studied only 74 citations contain these bugs. Let's print the problematic char to be sure that the problem is not the jupyter notebook not supporting this special chars."
   ]
  },
  {
   "cell_type": "code",
   "execution_count": 8,
   "metadata": {},
   "outputs": [
    {
     "name": "stdout",
     "output_type": "stream",
     "text": [
      "“\n"
     ]
    }
   ],
   "source": [
    "print('“')"
   ]
  },
  {
   "cell_type": "markdown",
   "metadata": {},
   "source": [
    "Lastly let's check in one of the original text if the bug is alredy present using the url present in the raw dataset. Since all the urls bring us to a single website we assume that the bug is in there."
   ]
  },
  {
   "cell_type": "code",
   "execution_count": 9,
   "metadata": {},
   "outputs": [
    {
     "ename": "NameError",
     "evalue": "name 'QUOTES_2020_PARTY_LABELED_COMPLETE' is not defined",
     "output_type": "error",
     "traceback": [
      "\u001b[0;31m---------------------------------------------------------------------------\u001b[0m",
      "\u001b[0;31mNameError\u001b[0m                                 Traceback (most recent call last)",
      "\u001b[0;32m/var/folders/7g/2ds3y3yd6319x1125r61pg1c0000gn/T/ipykernel_3356/2638531111.py\u001b[0m in \u001b[0;36m<module>\u001b[0;34m\u001b[0m\n\u001b[0;32m----> 1\u001b[0;31m \u001b[0mpath_to_file\u001b[0m \u001b[0;34m=\u001b[0m \u001b[0mQUOTES_2020_PARTY_LABELED_COMPLETE\u001b[0m\u001b[0;34m\u001b[0m\u001b[0;34m\u001b[0m\u001b[0m\n\u001b[0m\u001b[1;32m      2\u001b[0m \u001b[0;32mwith\u001b[0m \u001b[0mbz2\u001b[0m\u001b[0;34m.\u001b[0m\u001b[0mopen\u001b[0m\u001b[0;34m(\u001b[0m\u001b[0mpath_to_file\u001b[0m\u001b[0;34m,\u001b[0m \u001b[0;34m'rb'\u001b[0m\u001b[0;34m)\u001b[0m \u001b[0;32mas\u001b[0m \u001b[0ms_file\u001b[0m\u001b[0;34m:\u001b[0m\u001b[0;34m\u001b[0m\u001b[0;34m\u001b[0m\u001b[0m\n\u001b[1;32m      3\u001b[0m       \u001b[0;32mfor\u001b[0m \u001b[0minstance\u001b[0m \u001b[0;32min\u001b[0m \u001b[0ms_file\u001b[0m\u001b[0;34m:\u001b[0m\u001b[0;34m\u001b[0m\u001b[0;34m\u001b[0m\u001b[0m\n\u001b[1;32m      4\u001b[0m             \u001b[0minstance\u001b[0m \u001b[0;34m=\u001b[0m \u001b[0mjson\u001b[0m\u001b[0;34m.\u001b[0m\u001b[0mloads\u001b[0m\u001b[0;34m(\u001b[0m\u001b[0minstance\u001b[0m\u001b[0;34m)\u001b[0m\u001b[0;34m\u001b[0m\u001b[0;34m\u001b[0m\u001b[0m\n\u001b[1;32m      5\u001b[0m             \u001b[0mtext\u001b[0m \u001b[0;34m=\u001b[0m \u001b[0minstance\u001b[0m\u001b[0;34m[\u001b[0m\u001b[0;34m'quotation'\u001b[0m\u001b[0;34m]\u001b[0m\u001b[0;34m\u001b[0m\u001b[0;34m\u001b[0m\u001b[0m\n",
      "\u001b[0;31mNameError\u001b[0m: name 'QUOTES_2020_PARTY_LABELED_COMPLETE' is not defined"
     ]
    }
   ],
   "source": [
    "path_to_file = QUOTES_2020_PARTY_LABELED_COMPLETE\n",
    "with bz2.open(path_to_file, 'rb') as s_file:   \n",
    "      for instance in s_file:\n",
    "            instance = json.loads(instance)\n",
    "            text = instance['quotation']\n",
    "            if 'â € ' in text or 'â € ™' in text:\n",
    "                print(instance['urls'])"
   ]
  },
  {
   "cell_type": "markdown",
   "metadata": {},
   "source": [
    "Lets analyse the medium lenght of the sentences between republicans and democrats. \n"
   ]
  },
  {
   "cell_type": "code",
   "execution_count": 59,
   "metadata": {},
   "outputs": [
    {
     "name": "stdout",
     "output_type": "stream",
     "text": [
      "23.194002792541212\n",
      "23.527082451934376\n"
     ]
    }
   ],
   "source": [
    "import regex as re\n",
    "import pandas as pd\n",
    "import numpy as np\n",
    "import datetime\n",
    "path_to_file = QUOTES_2020_PARTY_LABELED_PATH\n",
    "\n",
    "\n",
    "labeled_df = pd.io.json.read_json(path_to_file, lines=True)\n",
    "\n",
    "def get_info(x):\n",
    "    x = x.split(\" \")\n",
    "    return len(x)\n",
    "labeled_df[\"length_quote\"] = labeled_df[\"quotation\"].apply(lambda x: get_info(x))\n",
    "\n",
    "mean_quote_lenght_D = labeled_df[labeled_df[\"party_label\"] == \"D\"][\"length_quote\"].mean()\n",
    "mean_quote_lenght_R = labeled_df[labeled_df[\"party_label\"] == \"R\"][\"length_quote\"].mean()\n",
    "print(mean_quote_lenght_D)\n",
    "print(mean_quote_lenght_R)"
   ]
  },
  {
   "cell_type": "markdown",
   "metadata": {},
   "source": [
    "Lets see if the mean difference is significant."
   ]
  },
  {
   "cell_type": "code",
   "execution_count": 65,
   "metadata": {},
   "outputs": [
    {
     "data": {
      "image/png": "[encoded data removed]",
      "text/plain": [
       "<Figure size 432x288 with 1 Axes>"
      ]
     },
     "metadata": {
      "needs_background": "light"
     },
     "output_type": "display_data"
    }
   ],
   "source": [
    "def bootstrap_CI(data, nbr_draws):\n",
    "    means = np.zeros(nbr_draws)\n",
    "    data = np.array(data)\n",
    "\n",
    "    for n in range(nbr_draws):\n",
    "        indices = np.random.randint(0, len(data), len(data))\n",
    "        data_tmp = data[indices] \n",
    "        means[n] = np.nanmean(data_tmp)\n",
    "    return [np.nanpercentile(means, 0.05),np.nanpercentile(means, 99.5)]\n",
    "\n",
    "mean_signBottom ,meanSignTop = labeled_df.groupby(by=\"party_label\").mean()[\"length_quote\"]\n",
    "\n",
    "party_label = labeled_df.groupby(\"party_label\")[\"length_quote\"].apply(lambda x : x.tolist())\n",
    "\n",
    "[lower_signBottom,upper_signBottom] = bootstrap_CI(party_label.iloc[0],1000)\n",
    "[lower_signTop,upper_signTop] = bootstrap_CI(party_label.iloc[1],1000)\n",
    "\n",
    "plt.bar([str(party_label.index[0]),str(party_label.index[1])],[mean_signBottom,meanSignTop],yerr = [[mean_signBottom-lower_signBottom,meanSignTop-lower_signTop],[upper_signBottom-mean_signBottom,upper_signTop-meanSignTop]])\n",
    "plt.ylabel(\"Mean len quote\")\n",
    "plt.title(\"Mean of lenght of quotes for democrats (D) and republicans (R) in function of condition with 99.5% confidence intervals\");"
   ]
  },
  {
   "cell_type": "markdown",
   "metadata": {},
   "source": [
    "Lets zoom in by restricting the y-axes limit"
   ]
  },
  {
   "cell_type": "code",
   "execution_count": 67,
   "metadata": {},
   "outputs": [
    {
     "data": {
      "image/png": "[encoded data removed]",
      "text/plain": [
       "<Figure size 432x288 with 1 Axes>"
      ]
     },
     "metadata": {
      "needs_background": "light"
     },
     "output_type": "display_data"
    }
   ],
   "source": [
    "plt.bar([str(party_label.index[0]),str(party_label.index[1])],[mean_signBottom,meanSignTop],yerr = [[mean_signBottom-lower_signBottom,meanSignTop-lower_signTop],[upper_signBottom-mean_signBottom,upper_signTop-meanSignTop]])\n",
    "plt.ylabel(\"Mean len quote\")\n",
    "plt.ylim(23,25);"
   ]
  },
  {
   "cell_type": "markdown",
   "metadata": {},
   "source": [
    "As we can notice the two lines are not overlapping thus. even slightly, the mean difference is significant. We can thus deduce that republicans have tendency to have slightly larger sentence than democrats."
   ]
  },
  {
   "cell_type": "markdown",
   "metadata": {},
   "source": [
    "## 2. Let's analyize the distribution of number of quotes in time."
   ]
  },
  {
   "cell_type": "code",
   "execution_count": null,
   "metadata": {},
   "outputs": [],
   "source": [
    "formatted_df = labeled_df.copy()\n",
    "formatted_df[\"date\"] = pd.to_datetime(formatted_df['date'], format='%Y-%m-%d %H:%M:%S')\n",
    "\n",
    "#plot the data\n",
    "bins = 100\n",
    "hist = plt.hist(formatted_df[\"date\"].dt.date,bins)\n",
    "plt.xlim([datetime.date(2020, 3, 15), datetime.date(2020, 4, 1)])\n",
    "plt.xticks([datetime.date(2020, i, 1) for i in range(1,5)])\n",
    "plt.xlabel(\"Date\")\n",
    "plt.ylabel(\"Number of quotes\")\n",
    "plt.title(\"Number of quotes per date\")\n",
    "plt.show()"
   ]
  },
  {
   "cell_type": "markdown",
   "metadata": {},
   "source": [
    "What are those drops? Lets check the first 2 months by printing the dates"
   ]
  },
  {
   "cell_type": "code",
   "execution_count": null,
   "metadata": {},
   "outputs": [],
   "source": [
    "#we range over two months over each day and we print the dates which have less than 3500 quotes (a bit less than the average)\n",
    "for j in range(1,2):\n",
    "    for i in range(1,30):\n",
    "        if len(formatted_df[formatted_df.values == datetime.date(2020,j,i)]) < 3500:\n",
    "            print('2020-%d-%d' % (j,i))"
   ]
  },
  {
   "cell_type": "markdown",
   "metadata": {},
   "source": [
    "As we can see from these values, by checking in the calendar, these drops correspond to the weekends / holidays day, in which we assume that no quotes where inserted in the newspaper the plot.\n",
    "\n",
    "Now lets analysis the spikes instead. We firsty get the top 10 most frequent dates of quotes, and later show them on the graph."
   ]
  },
  {
   "cell_type": "code",
   "execution_count": null,
   "metadata": {},
   "outputs": [],
   "source": [
    "# get top 10 most frequent dates of quotes\n",
    "n = 10\n",
    "days_with_most_quotes = formatted_df['date'].value_counts()[:n].index.tolist()\n",
    "days_with_most_quotes"
   ]
  },
  {
   "cell_type": "markdown",
   "metadata": {},
   "source": [
    "By checking the dates with the calendar, we found that these dates are related to presidential events. Lets see some examples:\n",
    "- 2020-01-15 -> the Pentagon construction was completed.\n",
    "- 2020-01-30 -> President Trump signed the U.S.-Mexico-Canada (USMCA) trade pact.\n",
    "- 2020-02-05: \"Trump impeachment vote live updates: Sharply divided Senate acquits Trump on both articles\"\n",
    "- 2020-02-07 -> \"United States President Donald Trump is acquitted by the United States Senate in his first impeachment trial.\"\n",
    "\n",
    "Lets display them on the graph."
   ]
  },
  {
   "cell_type": "code",
   "execution_count": null,
   "metadata": {},
   "outputs": [],
   "source": [
    "events = {datetime.date(2020, 2, 5):'T. Imp.',\n",
    "          datetime.date(2020, 1, 15): 'Pentagon',\n",
    "          datetime.date(2020, 1, 30):'U-M-C'}\n",
    "events_keys = []\n",
    "events_values = []\n",
    "for i in events.keys():\n",
    "    events_keys.append(i)\n",
    "for j in events.values():\n",
    "    events_values.append(j)"
   ]
  },
  {
   "cell_type": "code",
   "execution_count": null,
   "metadata": {},
   "outputs": [],
   "source": [
    "bins = 100\n",
    "hist = plt.hist(formatted_df[\"date\"].dt.date,bins)\n",
    "plt.xlim([datetime.date(2020, 1, 1), datetime.date(2020,4, 1)])\n",
    "plt.xticks([events_keys[i] for i in range(0,len(events_keys))],[events_values[i] for i in range(0,len(events_values))],fontsize=7)\n",
    "plt.show()"
   ]
  },
  {
   "cell_type": "markdown",
   "metadata": {
    "tags": []
   },
   "source": [
    "#### TO REMOVE SINCE WE DONT CARE ABOUT SENATORS - NON SENATORS"
   ]
  },
  {
   "cell_type": "markdown",
   "metadata": {},
   "source": [
    "Lets now check if there is any different between the senators amount of quotes and the non-senator amount of quotes during these days"
   ]
  },
  {
   "cell_type": "code",
   "execution_count": null,
   "metadata": {},
   "outputs": [],
   "source": [
    "#senators dataframe\n",
    "senators_df = formatted_df[formatted_df[\"US_congress_bio_ID\"] != None]\n",
    "senators_df = formatted_df[~formatted_df[\"US_congress_bio_ID\"].isnull()]\n",
    "\n",
    "#non-senators dataframe\n",
    "non_senators_df = formatted_df[formatted_df[\"US_congress_bio_ID\"] == None]\n",
    "non_senators_df = formatted_df[formatted_df[\"US_congress_bio_ID\"].isnull()]\n",
    "\n",
    "#print the lenght of datasets\n",
    "print('Senators dataframe length:',len(senators_df))\n",
    "print('Non-Senators dataframe length:',len(non_senators_df))"
   ]
  },
  {
   "cell_type": "code",
   "execution_count": null,
   "metadata": {},
   "outputs": [],
   "source": [
    "fig, (ax1,ax2) = plt.subplots(1, 2,sharex='all', sharey='all',figsize=(15,5))\n",
    "ax1.hist(senators_df[\"date\"].dt.date,bins)\n",
    "ax1.set_title('Senators amount of quotes per date')\n",
    "ax1.set_ylabel('Number of quotes')\n",
    "ax1.set_xlabel('Date')\n",
    "ax1.set_xticks([])\n",
    "\n",
    "ax2.hist(non_senators_df[\"date\"].dt.date,bins)\n",
    "ax2.set_title('Non-Senators amount of quotes per date')\n",
    "ax2.set_xticks([])\n",
    "\n",
    "ax2.set_xlabel('Date');"
   ]
  },
  {
   "cell_type": "markdown",
   "metadata": {},
   "source": [
    "MONO ANALYSIS"
   ]
  },
  {
   "cell_type": "markdown",
   "metadata": {
    "tags": []
   },
   "source": [
    "## 3.Let's analyize the words used in the quotes"
   ]
  },
  {
   "cell_type": "markdown",
   "metadata": {},
   "source": [
    "MICHAEL ANALYSIS FROM ?"
   ]
  },
  {
   "cell_type": "markdown",
   "metadata": {},
   "source": [
    "# DUPLICATES ANALISYS\n",
    "Let's just analize if there are duplicates in the quotations. If we just take quotations as they are we cannot see any duplicates but with a bit of processing we can easily spot some..."
   ]
  },
  {
   "cell_type": "code",
   "execution_count": null,
   "metadata": {},
   "outputs": [],
   "source": [
    "import texthero as hero\n",
    "import pandas as pd\n",
    "\n",
    "path_to_file = fixpath(QUOTES_2020_PARTY_LABELED_PATH) \n",
    "\n",
    "from texthero import preprocessing\n",
    "\n",
    "#Read the dataset\n",
    "testdf = pd.io.json.read_json(path_to_file, lines=True)\n",
    "#Put every letter to lowercase, remove whitespaces and punctuation\n",
    "custom_pipeline = [preprocessing.lowercase,\n",
    "                   preprocessing.remove_whitespace,\n",
    "                   preprocessing.remove_punctuation]\n",
    "testdf['clean_quotes'] = hero.clean(testdf['quotation'], custom_pipeline)\n",
    "\n",
    "#Check for duplicate in the original and in the cleaned version\n",
    "print(testdf['quotation'].duplicated().sum())\n",
    "print(testdf['clean_quotes'].duplicated().sum())\n",
    "#print some duplicate sentences\n",
    "testdf[testdf['clean_quotes'].duplicated()]['quotation'].head(5)"
   ]
  },
  {
   "cell_type": "code",
   "execution_count": null,
   "metadata": {},
   "outputs": [],
   "source": [
    "#let's visualize the two quotes: this are indeed duplicates\n",
    "testdf[testdf['clean_quotes']==testdf['clean_quotes'].iloc[10099]]"
   ]
  },
  {
   "cell_type": "markdown",
   "metadata": {},
   "source": [
    "This means that we need to do some cleaning. Of course this analisys is not complete we need to find a more systematic way to spot duplicates. To spot duplicates we use Jaccard similarity between pairs of quotes of the same speaker. "
   ]
  },
  {
   "cell_type": "markdown",
   "metadata": {},
   "source": [
    "NICKY STUFF FOR DROPPING DUPLICATES"
   ]
  },
  {
   "cell_type": "markdown",
   "metadata": {},
   "source": [
    "# HOW HARD IS OUR TASK?\n",
    "To have a sense of how hard the task will be let's try to analise the data distribution in a lower dimension. To do that we need to transform the text into a numeric format, using tf-idf model,  then apply PCA to the result. Before representing quotes as vectors we preprocess the data. As we can  see the data does not look to be separable by class in the PCA plot. "
   ]
  },
  {
   "cell_type": "code",
   "execution_count": null,
   "metadata": {},
   "outputs": [],
   "source": [
    "import texthero as hero\n",
    "import pandas as pd\n",
    "\n",
    "labeled_df = pd.io.json.read_json(path_to_file, lines=True)\n",
    "labeled_df_dem= labeled_df[labeled_df['party_label']=='D'].head(500)\n",
    "labeled_df_rep= labeled_df[labeled_df['party_label']=='R'].head(500)\n",
    "\n",
    "pca_df = pd.concat([labeled_df_dem, labeled_df_rep])\n",
    "pca_df['pca'] = (\n",
    "            pca_df['quotation']\n",
    "            .pipe(hero.clean)\n",
    "            .pipe(hero.tfidf)\n",
    "            .pipe(hero.pca)\n",
    "   )\n",
    "hero.scatterplot(pca_df, col='pca', color='party_label', title=\"PCA party quotations\",hover_data = ['quotation','speaker'])"
   ]
  },
  {
   "cell_type": "markdown",
   "metadata": {},
   "source": [
    "We will now train a small classification model and see if our main goal is feasible."
   ]
  },
  {
   "cell_type": "code",
   "execution_count": null,
   "metadata": {},
   "outputs": [],
   "source": [
    "#NEED BALANCED DATA!!\n",
    "labeled_df = pd.io.json.read_json(path_to_file, lines=True)\n",
    "\n",
    "#labeled_df_senators = labeled_df[labeled_df['US_congress_bio_ID'] != 'None']\n",
    "labeled_df_dem= labeled_df[labeled_df['party_label']=='D'].head(20000)\n",
    "labeled_df_rep= labeled_df[labeled_df['party_label']=='R'].head(20000)\n",
    "labeled_df_senators = pd.concat([labeled_df_dem, labeled_df_rep])\n",
    "labeled_df_senators['vect_quotes'] = labeled_df_senators['quotation'].pipe(hero.clean).pipe(hero.tfidf)\n",
    "\n",
    "X = labeled_df_senators[labeled_df['US_congress_bio_ID'] != 'None']['vect_quotes'].tolist()\n",
    "y = labeled_df_senators[labeled_df['US_congress_bio_ID'] != 'None']['party_label'].tolist()"
   ]
  },
  {
   "cell_type": "code",
   "execution_count": null,
   "metadata": {},
   "outputs": [],
   "source": [
    "from sklearn.model_selection import train_test_split\n",
    "from sklearn.ensemble import RandomForestClassifier\n",
    "from sklearn.model_selection import cross_val_score\n",
    "\n",
    "print('xshape: ',len(X),'yshape: ',len(y))\n",
    "clf = RandomForestClassifier(n_estimators=10)\n",
    "\n",
    "scores = cross_val_score(clf, X,y, cv=5)\n",
    "scores.mean()"
   ]
  },
  {
   "cell_type": "code",
   "execution_count": null,
   "metadata": {},
   "outputs": [],
   "source": [
    "labeled_df_senators['party_label'].value_counts()"
   ]
  },
  {
   "cell_type": "code",
   "execution_count": null,
   "metadata": {
    "scrolled": true
   },
   "outputs": [],
   "source": [
    "labeled_df.groupby('state')['quotation'].apply(lambda x: hero.top_words(x)[:30])"
   ]
  }
 ],
 "metadata": {
  "kernelspec": {
   "display_name": "Python 3 (ipykernel)",
   "language": "python",
   "name": "python3"
  },
  "language_info": {
   "codemirror_mode": {
    "name": "ipython",
    "version": 3
   },
   "file_extension": ".py",
   "mimetype": "text/x-python",
   "name": "python",
   "nbconvert_exporter": "python",
   "pygments_lexer": "ipython3",
   "version": "3.7.11"
  }
 },
 "nbformat": 4,
 "nbformat_minor": 4
}
