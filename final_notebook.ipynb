{
 "cells": [
  {
   "cell_type": "markdown",
   "metadata": {},
   "source": [
    "# MMNG NOTEBOOK FOR ADA PROJECT\n",
    "## This notebook contains the exploratory data analysis that we perfomed on the data necessary to our project. The following analysis is performed on the Quotebank data of 2020.\n",
    "Note that we also performed some small analysis on the whole dataset that can be found in a second notebook named ?\n",
    "Note that the preprocessing is done in separate .py files that we just need to run once to create the processed data files. However, preprocessing steps will also be described in detail within this notebook."
   ]
  },
  {
   "cell_type": "markdown",
   "metadata": {},
   "source": [
    "The data we need is in both Quotebank and wikidata. From quotebank we extract quotes, speakers and dates. From Wikidata we extract the political party corresponding to the speakers. Below we will present the exploration of the data that are useful to us. The goal of this notebook is to show our initial treatment of the data: the preprocessing and all the necessary descriptive statistics tasks. "
   ]
  },
  {
   "cell_type": "markdown",
   "metadata": {},
   "source": [
    "The first thing we need to do is to merge the two datasets in order to label the quotes with the political party associated. \n",
    "The merging pipeline is described below. We write the resulting merged data into a file accessible at path QUOTES_2020_PARTY_LABELED_PATH."
   ]
  },
  {
   "cell_type": "markdown",
   "metadata": {},
   "source": [
    "MERGING PIPELINE"
   ]
  },
  {
   "cell_type": "code",
   "execution_count": 89,
   "metadata": {},
   "outputs": [
    {
     "name": "stdout",
     "output_type": "stream",
     "text": [
      "Collecting pandas==1.3.0\n",
      "  Using cached pandas-1.3.0-cp38-cp38-macosx_10_9_x86_64.whl (11.4 MB)\n",
      "Requirement already satisfied: pytz>=2017.3 in /Users/nicolasbaldwin/opt/miniconda3/lib/python3.8/site-packages (from pandas==1.3.0) (2021.3)\n",
      "Requirement already satisfied: python-dateutil>=2.7.3 in /Users/nicolasbaldwin/opt/miniconda3/lib/python3.8/site-packages (from pandas==1.3.0) (2.8.1)\n",
      "Requirement already satisfied: numpy>=1.17.3 in /Users/nicolasbaldwin/opt/miniconda3/lib/python3.8/site-packages (from pandas==1.3.0) (1.20.3)\n",
      "Requirement already satisfied: six>=1.5 in /Users/nicolasbaldwin/opt/miniconda3/lib/python3.8/site-packages (from python-dateutil>=2.7.3->pandas==1.3.0) (1.15.0)\n",
      "Installing collected packages: pandas\n",
      "  Attempting uninstall: pandas\n",
      "    Found existing installation: pandas 1.3.4\n",
      "    Uninstalling pandas-1.3.4:\n",
      "      Successfully uninstalled pandas-1.3.4\n",
      "Successfully installed pandas-1.3.0\n"
     ]
    }
   ],
   "source": [
    "!pip install pandas==1.3.0"
   ]
  },
  {
   "cell_type": "code",
   "execution_count": null,
   "metadata": {},
   "outputs": [],
   "source": [
    "%load_ext autoreload\n",
    "%autoreload 2\n",
    "from helpers import *\n",
    "from drop_similar_quotes import *\n",
    "\n",
    "import pandas as pd\n",
    "import bz2\n",
    "import json\n",
    "import texthero as hero\n",
    "import datetime\n",
    "from texthero import preprocessing as hp\n",
    "from sklearn.model_selection import cross_val_score\n",
    "from sklearn.ensemble import RandomForestClassifier\n",
    "from sklearn.neighbors import KNeighborsClassifier\n",
    "import nltk\n",
    "import seaborn as sns\n",
    "import matplotlib.pyplot as plt"
   ]
  },
  {
   "cell_type": "markdown",
   "metadata": {},
   "source": [
    "Now that we merged the file we can see how the datas are organized:"
   ]
  },
  {
   "cell_type": "code",
   "execution_count": 6,
   "metadata": {
    "scrolled": true
   },
   "outputs": [
    {
     "name": "stdout",
     "output_type": "stream",
     "text": [
      "{'quoteID': '2020-01-16-000088', 'quotation': '[ Department of Homeland Security ] was livid and strongly urged to have the agenda pulled.', 'speaker': 'Sue Myrick', 'date': 1579176013000, 'numOccurrences': 1, 'id': 'Q367796', 'party_label': 'R', 'US_congress_bio_ID': 'M001134'}\n",
      "-----------------------------------------\n",
      "{'quoteID': '2020-01-26-000499', 'quotation': 'a few of the candidates who will do better in our part of the world', 'speaker': 'Dave Loebsack', 'date': 1580044896000, 'numOccurrences': 11, 'id': 'Q771586', 'party_label': 'D', 'US_congress_bio_ID': 'L000565'}\n",
      "-----------------------------------------\n",
      "{'quoteID': '2020-01-26-040663', 'quotation': 'The generational thing is important, quite honestly. I think we have to do everything we can to move this party forward and Pete is the future of the party,', 'speaker': 'Dave Loebsack', 'date': 1580044896000, 'numOccurrences': 11, 'id': 'Q771586', 'party_label': 'D', 'US_congress_bio_ID': 'L000565'}\n",
      "-----------------------------------------\n",
      "{'quoteID': '2020-01-20-000982', 'quotation': 'a host of other protections', 'speaker': 'Debbie Lesko', 'date': 1579534368000, 'numOccurrences': 1, 'id': 'Q16731415', 'party_label': 'R', 'US_congress_bio_ID': 'L000589'}\n",
      "-----------------------------------------\n"
     ]
    }
   ],
   "source": [
    "#Printing the first  4 lines of the file located at path.\n",
    "def print_n_lines(path,n):\n",
    "    flag = 0\n",
    "    with bz2.open(path_to_file, 'rb') as s_file:\n",
    "          for instance in s_file:   \n",
    "                if flag < n:\n",
    "                    instance = json.loads(instance) # loading a sample\n",
    "                    print(instance)\n",
    "                    print('-----------------------------------------')\n",
    "                    flag +=1\n",
    "                else:\n",
    "                    break\n",
    "                    \n",
    "path_to_file = fixpath(QUOTES_2020_PARTY_LABELED_PATH) \n",
    "print_n_lines(path_to_file,4)"
   ]
  },
  {
   "cell_type": "markdown",
   "metadata": {},
   "source": [
    "From the fileld US_congress_bio_ID we can see if the speaker is from the congress or is just affiliated to the political party.\n",
    "Note that We want to import quotations of a person, if the person occupation on the wikidata is politician (Q82955)."
   ]
  },
  {
   "cell_type": "markdown",
   "metadata": {},
   "source": [
    "# DATA EXPLORATION: STUDY OF VARIOUS DISRIBUTIONS\n",
    "Let's Visualize and study different data distibution, and check that everything makes sense."
   ]
  },
  {
   "cell_type": "markdown",
   "metadata": {},
   "source": [
    "## 1. Let's analyize the distribution of number of words in the quotes."
   ]
  },
  {
   "cell_type": "code",
   "execution_count": 9,
   "metadata": {},
   "outputs": [
    {
     "data": {
      "image/png": "[encoded data removed]",
      "text/plain": [
       "<Figure size 432x288 with 1 Axes>"
      ]
     },
     "metadata": {
      "needs_background": "light"
     },
     "output_type": "display_data"
    }
   ],
   "source": [
    "path_to_file = fixpath(QUOTES_2020_PARTY_LABELED_PATH) \n",
    "\n",
    "lista = []\n",
    "with bz2.open(path_to_file, 'rb') as s_file:\n",
    "    #For every quotation\n",
    "    for instance in s_file:\n",
    "        instance = json.loads(instance)\n",
    "        text = instance['quotation']\n",
    "        #append the length of the quotations in words.\n",
    "        lista.append(len(text.split()))\n",
    "        \n",
    "#Plotting an histogram.\n",
    "def plothisto(toPlot, xlabel,ylabel,title,bins = 50):\n",
    "    plt.hist(lista, bins = bins)\n",
    "    plt.xlabel(xlabel)\n",
    "    plt.ylabel(ylabel)\n",
    "    plt.title(title)\n",
    "    plt.show()\n",
    "\n",
    "#Plotting an histogram of the length of the quotations in words.   \n",
    "plothisto(lista, 'word length','number of occurences','distribution of number of words in the quotes',50)"
   ]
  },
  {
   "cell_type": "markdown",
   "metadata": {},
   "source": [
    "If we just look at all the data everything looks kind of normal, but let's zoom on the larger values"
   ]
  },
  {
   "cell_type": "code",
   "execution_count": 11,
   "metadata": {},
   "outputs": [
    {
     "data": {
      "image/png": "[encoded data removed]",
      "text/plain": [
       "<Figure size 432x288 with 1 Axes>"
      ]
     },
     "metadata": {
      "needs_background": "light"
     },
     "output_type": "display_data"
    }
   ],
   "source": [
    "path_to_file = fixpath(QUOTES_2020_PARTY_LABELED_PATH) \n",
    "\n",
    "lista = []\n",
    "with bz2.open(path_to_file, 'rb') as s_file:\n",
    "    #For every quotation\n",
    "    for instance in s_file:\n",
    "        instance = json.loads(instance)\n",
    "        text = instance['quotation']\n",
    "        #If the quotation has more than 150 words\n",
    "        if len(text.split()) > 150:\n",
    "            #append the length of the quotations in words.\n",
    "            lista.append(len(text.split()))\n",
    "\n",
    "                \n",
    "#Plotting an histogram of the length of the quotations in words for long quotes.   \n",
    "plothisto(lista, 'word length','number of occurences','zoom of distribution of number of words in the quotes',50)"
   ]
  },
  {
   "cell_type": "markdown",
   "metadata": {},
   "source": [
    "From 300 to 450 the data seems to have a distribution almost uniform but it's true that the number of quotation is low and therfore it could be fine. Lets read some of this long quotes to check if everything looks good!"
   ]
  },
  {
   "cell_type": "code",
   "execution_count": 5,
   "metadata": {},
   "outputs": [
    {
     "name": "stdout",
     "output_type": "stream",
     "text": [
      "where the virus first emerged late last year, and which has suffered the vast majority of infections -- by imposing travel controls and shutting down public events. Italy on Saturday saw its biggest daily increase in coronavirus cases since the outbreak began in the north of the country on Feb. 21. In its daily update, Italy's civil protection agency said the number of people with the coronavirus rose by 1,247 in the last 24 hours, taking the total to 5,883. Another 36 people also died as a result of the virus, taking the total to 233. There was chaos and confusion in the northern Italian city of Padua in the Veneto region as word spread late Saturday evening that the government was planning to announce the quarantine. Packed bars and restaurants quickly emptied out as many people rushed to the train station in Padua. Travellers with suitcases, wearing face masks, gloves and carrying bottles of sanitizing gel shoved their way on to trains. Before Conte signed the quarantine decree, Stefano Bonaccini, president of the Emilia Romagna region, said parts of the decree were confusing, and he asked the premier for more time to come up with solutions that were more â € œcoherent. â €  Around the world, events and festivals have been called off. Travel restrictions and warnings have been issued. A nose-dive in tourist traffic and possible disruptions to supply chains have set off fears of a worldwide economic slowdown. Benchmarks in global markets have gyrated in recent weeks, as hopes for stimulus measures mixed with widespread pessimism on the virus news. Saudi Arabia has banned spectators at any sports competitions starting Saturday. The NBA, as well as British and Japanese sports teams are considering the same, as baseball and soccer seasons are starting. The spread of the virus has also taken a psychological toll. Authorities and manufacturers have been trying to assure panicking consumers they donâ € ™ t need to hoard toilet paper, which have vanished from store shelves in various nations. A particular point of concern are passenger-packed cruise ships, many of which are confronting their own virus problems. Officials in California were deciding Saturday where to dock the Grand Princess cruise ship, after 21 tested positive for the virus. There is evidence the ship now idling off San Francisco was the breeding ground for a deadly cluster of almost 20 cases during an earlier voyage. â € œThose that will need to be quarantined will be quarantined,\n",
      "-------------------------------------------------------\n",
      "I know they got the house boarded up and holes covered, so we got a little reprieve. But when they start ripping open those walls or doing the plumbing, we are just in fear of the next wave of attack. NYPD officer, fiancee charged with murder in death of 8-year-old son, kept in freezing garage A man and his fiancee have been charged with murder in the death of his 8-year-old son, who was left overnight in an unheated garage in freezing temperatures, officials said. Michael Valva, an New York Police Department transit officer, and Angela Pollina left Thomas Valva in the garage overnight when temperatures dipped to 19 degrees. The boy was found dead the next day, his body temperature was 76 degrees. `The medical examiner has ruled it a homicide with a major contributing factor of hypothermia,' Suffolk County Police Chief Geraldine Hart told WNBC. `We believe certainly that Thomas was kept in the garage overnight preceding his death.' Police were called to the home Jan. 17 after neighbors saw a boy had fallen in the driveway and lost consciousness, WNBC reported. Valva told investigators his son fell while waiting for the bus then lost consciousness, The New York Times reported. Officers arrived and found Michael Valva performing life-saving techniques on the boy in the family's basement. The boy was taken to a hospital and pronounced dead. The family had a home security system and kept close watch on their six children. Valva's three sons ages, 6, 8 and 10, and Pollina's three daughters ages, a 6-year-old and twin 11-year-olds, WNBC reported. Footage showed Valva routinely withheld food as a punishment and exposed his sons to cold temperatures, investigators said. `We are still investigating the extent of the abuse and if it extended to all of the children,' Hart told WNBC. Michael Valva and Pollina were arrested and charged with second-degree murder, officials said. Valva, who joined the NYPD in 2005, was suspended, the Times reported. The attorney for Valva and Pollini maintain their innocence, WNBC reported. The couple will be arraigned Saturday. Shortly after his son's death, Valva raised $16,000 on a GoFundMe account to pay for the boy's funeral, News 12 Long Island reported. The boy's mother, Justyna Valva, lost custody of the boys, the Times reported. She had not seen Thomas in two years until looking at his body in the medical examiner's office.' I just really want justice for my son,\n",
      "-------------------------------------------------------\n",
      "I remain concerned about the public health and safety issues that COVID-19 is creating and support the governor and president pro tempore in adopting public health guidelines to protect the wellbeing of my constituents. We encourage you to stay calm and keep informed about what to do during this time. Everyone is under a strong advisory to adhere to social distancing and do our part to help keep everyone healthy during this time. My offices are open, assisting the community, and providing regular updates through things like social media and press releases. Please refer to credible resources to stay informed, such as the California Department of Public Health [ cdph. ca. gov ], for the most up to date information. We are in close contact with local leaders, elected officials and our community and are actively monitoring these ever-changing issues. We are hyper vigilant regarding issues like our access to water, price gouging, a robust healthcare network, how to assist displaced workers, and food insecurity. Senate District 14 is the breadbasket for the state and many parts of the word. I will continue to be vigilant to protect the supply chain of food that my district helps provide. I remain concerned about our most vulnerable and am asking that we consider our neighbors during this difficult time. Please keep others in mind when shopping and only take what you need during this time because everyone suffers when people stockpile. The effects that this will have on our economy are still to be seen, but I encourage you to continue to support our local businesses during this time in new and creative ways. Curbside pickups and buying gift cards will help small businesses and protect jobs. I am working with larger employers at the state level to help mitigate the financial effects of this event. As the chair of the Senate Committee on Human Services I am closely monitoring the efforts to reduce impacts on recipients of essential safety net benefits that serve our most vulnerable populations. These are programs that impact older adults and their caregivers, child care providers, families with low incomes, and people with developmental disabilities. Government leaders and advocates are exploring ways to take advantage of the flexibility given to these safety net programs thru the executive orders issued at the state and federal level. My office will share updates on CalFresh, CalWORKs and the like as they become available. The situation is changing quickly and it is essential that we all do our part to support and protect our constituents, our colleagues and our families by complying with the guidance issued by our leaders.\n",
      "-------------------------------------------------------\n",
      "To me, we're beyond staggering already. â €  Even before the governor's appeal, close to 80,000 former nurses, doctors and other professionals were volunteering in New York, and a Navy hospital ship arrived with 1,000 beds to relieve pressure on the city's overwhelmed hospitals. California officials put out a similar call for volunteers as coronavirus hospitalizations doubled over the last four days and the number of patients in intensive care tripled. Experts maintain the pandemic will be defeated only by social distancing measures that have locked down billions of people and upended the world's economy. In the southern state of Florida, officials were meeting later Tuesday to decide whether to let the infection-plagued cruise ship Zaandam dock after more than two weeks at sea. In a South American dream trip that turned into a nightmare, dozens on the ship have reported flu-like symptoms and four people have died. The company said eight people have tested positive but 2,300 other passengers and crew are in good health. Florida Gov. Ron DeSantis has said the state's health care resources are stretched too thin to allow the ship to dock. More than 235 million people -- about two of every three Americans -- live in the 33 states where governors have ordered or recommended that residents stay home. Worldwide, 801,400 people have been infected and 170,325 have recovered, according to Johns Hopkins University. For most people, the coronavirus causes mild or moderate symptoms, such as fever and cough. But for others, especially older adults and people with existing health problems, it can cause severe symptoms like pneumonia and even death. China on Tuesday reported just one new death from the coronavirus and 48 new cases, claiming that all new infections came from overseas. In Wuhan, people were ready to jump, cry and â € œrevenge shopâ €  as the Chinese city once at the centre of the outbreak reopened. About 75% of the shops reopened at the Chuhe Hanjie pedestrian mall. Shopkeepers limited the number of people allowed in, dispensing hand sanitizer and checking customers for signs of fever. In Serbia, Hungary and other nations, concerns were rising that populist leaders were using the situation to try to seize more power and silence critics. A human rights expert said while she understands the need to act swiftly to protect lives, the new states of emergency must include time limits and parliamentary oversight. â € œA state of emergency -- wherever it is declared and for whatever reason -- must be proportionate to its aim, and only remain in place for as long as absolutely necessary,\n",
      "-------------------------------------------------------\n",
      "Fox News Sunday. â €  Even with the victory, the shortcomings of Biden's campaign remain, including a lack of robust funding and organization that have drawn concern from top allies. He is barely running any television advertising in Super Tuesday states. Bloomberg announced his own plan to deliver a three-minute prime-time address Sunday night on two television networks. He didn't say how much he paid for the air time, which is unprecedented in recent decades. And both Sanders and Bloomberg have many more staff and volunteers than Biden. Levelling his own direct attack on Sanders, Biden declared, â € œThe people aren't looking for revolution. They're looking for results. â €  Biden won about three times as many delegates in South Carolina as Sanders, his nearest rival, giving a momentary respite to anxious Democrats who feared that the democratic socialist would finish February with four consecutive top finishes that would make it difficult for anyone to overtake him. The Associated Press declared Biden the winner just after the polls closed in South Carolina. The AP based the call on data from AP VoteCast, a survey of the electorate conducted for the AP by NORC at the University of Chicago. The survey showed a convincing win for Biden. But Biden made an aggressive round of media appearances on Sunday in an effort to counter Bloomberg's massive spending. He's also working to secure endorsements from prominent Democrats and, shortly after the Saturday results were in, he got the backing of former Virginia Gov. Terry McAuliffe. Biden downplayed the lack of an endorsement from former President Barack Obama, whose name he often invokes on the campaign trail to voters nostalgic for his administration. Biden said on ABC he has to earn this â € œon my own. â €  The South Carolina primary was the first major test of the candidates' appeal among black voters. That courtship continued Sunday in Selma. A number of states that vote on Super Tuesday, including Alabama, Tennessee, North Carolina and Virginia, have substantial black populations. One of the candidates who spent recent weeks wooing black voters, billionaire activist Tom Steyer, ended his campaign on Saturday after a disappointing third-place finish. He spent more than $24 million on television advertising in South Carolina -- more than all of his rivals combined -- but never found a clear lane in the crowded contest. Trump weighed in on Twitter early Sunday, taunting Bloomberg -- as he often does potential rivals. The president suggested the billionaire's advisers are simply on a â € œgravy trainâ €  leading him down a â € œdark and lonely path\n",
      "-------------------------------------------------------\n",
      "I just feel terrible for the women who had the courage to come forward and give their evidence to the authorities in this case. It's hard for them to make these reports about things that were so very humiliating in the first place then have to relive the pain. Certainly, any prosecutor should think long and hard before dismissing such a case where multiple women have independently come forward and subjected themselves to the hard process of bearing their souls to the authorities. I just hope they're not being sold down the river for some twisted political motive. Paul Walters, Chief of the OCDA bureau, brought this case to the attention of the executive staff, including me, in 2018 after the case was initially investigated. After the press attention, dozens of complainants came forward with allegations of drugging and/or sexual assault. I reassigned the case to a senior deputy district attorney who gave a fresh and thorough review to the case. This experienced prosecutor filed the complaints that will now be dismissed. I have had no information or involvement in this case since I left the office more than a year ago. I understand that the current district attorney conducted multiple reviews of the case and initially determined that the case was good. He eventually removed the senior prosecutor and any other prosecutors assigned to this case. I also learned from his press conference that a district attorney investigator has now been put on leave. It is possible that new evidence was developed and certainly I have dismissed cases (People v. Angela Diaz), and even reversed convictions when I did not have confidence in the evidence (People v. McKinney). However, considering the complaint contained seven Jane Does, it is too bad the public now does not have the chance to explore the truth during a preliminary hearing. Further, it is my understanding that the Jane Does in this case were not afforded the dignity of being notified about the dismissal prior to today's press conference. I hope the dismissal of this case was not based on the district attorney's relationship with one of the criminal defense attorneys, nor due to his political vendetta against me. Even if all of his allegations against me and my former chief of staff were true, and they are not, the remedy should not be dismissal. My heart goes out to the women who had the courage to come forward with their complaint, because I believed their complaints based on the evidence I had before leaving office.\n",
      "-------------------------------------------------------\n",
      "Dear Loyal, I hope you'll forgive me for this, but I've been wanting to write you ever since we talked on the phone. I am aware of the strain you are under and believe with all my heart there is help for that. First I want to tell you of a personal experience I've kept to myself for a long time. During my first year as Governor you'll recall the situation I found in Calif. was almost as bad as the one in Wash. today. It seemed as if the problems were endless and insolvable. Then I found myself with an ulcer. In all those years at Warner Bros., no one had been able to give me an ulcer and I felt ashamed as if it were a sign of weakness on my part. John Sharpe had me on Malox and I lived with a constant pain that ranged from discomfort to extremely sharp attacks. This went on for months. I had a bottle of Maalox in my desk, my briefcase and of course at home. Then one morning I got up, went into the bathroom, reached for the bottle as always and some thing happened. I knew I didn't need it. I had gone to bed with the usual pain the night before but I knew that morning I was healed. The Malox went back on the shelf. That morning when I arrived at the office Helene brought me my mail. The first letter I opened was from a lady -- a stranger -- in the Southern part of the state. She had written to tell me she was one of a group who met every day to pray for me. Believe it or not, the second letter was from a man, again a stranger, in the other end of the state telling me he was part of a group that met weekly to pray for me. Within the hour a young fellow from the legal staff came into my office on some routine matter. On the way out he paused in the door and said: `Gov. I think maybe you'd like to know -- some of us on the staff come in early every morning and get together to pray for you.' Coincidence? I don't think so. A couple of weeks later Nancy and I went down to L.A. and had our annual checkup. John Sharpe, a little puzzled, told me I no longer had an ulcer but added there was no indication I'd ever had one. Word of honor -- I never told him about that particular day in Sacramento...\n",
      "-------------------------------------------------------\n",
      "While the timing of the national finals is just outside the eight-week window recommended by the CDC, this is the safest and most responsible action. This was a difficult decision that unfortunately will disappoint students who have spent a great deal of time studying and preparing, along with their parents and teachers who have supported them. The focus now shifts to exploring all options to possibly reimagine a competition for later this year,' officials with Scripps said in a statement, according to the AP. This would have been the 93rd Scripps Spelling Bee. It was canceled from 1943 to 1945 because of World War II, the AP reported. Disney World cancels `2020 Star Wars Rival Run Weekend' over COVID-19 concerns A popular Disney World run weekend, which brings in people from around the world, is the latest thing to be canceled due to COVID-19. Walt Disney's runDisney made the announcement on their Facebook page. They wrote, `with circumstances continuing to change rapidly around the globe, we are making critical and timely decisions based on guidance from local, national and international health agencies. As we have shared before, we are basing our decisions on the safety and well-being of our Cast Members and our Guests.' The now-canceled 2020 Star Wars Rival Run Weekend was supposed to take place the weekend of April 17th. runDisney adds that refunds can be expected to be processed in four to six weeks. For more information on the canceled run, click here. Republicans press for fast action on Coronavirus stimulus measure Senate Republicans vowed on Thursday to work through the weekend to approve a sweeping plan to boost the economy in the face of massive losses tied to the Coronavirus outbreak, as GOP leaders proposed direct payments to American families mixed with tax breaks for businesses and billions of dollars in emergency loans for the airline industry. `This legislation is a significant next step,' said Senate Majority Leader Mitch McConnell. `And the Senate is not going anywhere until we take action.' The GOP plan includes small business `interruption loans,' direct payments to Americans - which are labeled 2020 `recovery rebates,' delays in employer payroll tax payments, estimated business tax payments, a variety of tax changes, a suspension of certain aviation taxes, and much more-all crammed into 247 page bill unveiled on Thursday afternoon. `The time to act is now,' said Sen. Charles Grassley (R-IA). `The economic uncertainty and potential global impact we are facing due to the coronavirus pandemic are unprecedented,\n",
      "-------------------------------------------------------\n",
      "It's times like these that truly show our state's resiliency and the strength of our spirit. The fund will be overseen by a committee of community members from across the state and will provide aid to support the Colorado communities and organizations who need the most help in response to the recent outbreak. Share your thoughts with friends. More Washington Examiner Jay Heflin Thursday March 19, 2020 Workers claiming unemployment surged last week to 281,000 as the economic effects of the coronavirus start to be reflected in government data. Caitlin Yilek Thursday March 19, 2020 A Massachusetts woman who flew from Los Angeles to Beijing before testing positive for the coronavirus could face up to seven years in prison for allegedly concealing her symptoms while traveling. Susan Ferrechio Thursday March 19, 2020 Senate Majority Leader Mitch McConnell has assigned his Republican conference with the task of drafting a massive GOP stimulus plan that can also satisfy the White House, shutting out Democrats, at least for now. Caitlin Yilek Thursday March 19, 2020 President Trump received a rare compliment from Democratic Rep. Ilhan Omar over actions his administration has taken in response to the coronavirus pandemic. Tom Rogan Thursday March 19, 2020 It should be obvious that racism against Chinese Americans, or Chinese in general, is as bad as racism against anyone else. Ying Ma Thursday March 19, 2020 What a difference a few weeks make. It was less than a month ago that socialism, not the coronavirus, dominated national political discussions. Today, the coronavirus has wreaked havoc on society and financial markets and drastically altered the political landscape. Emily Larsen Thursday March 19, 2020 Joe Biden will almost certainly be the Democratic presidential nominee, but Bernie Sanders and his far-left allies could be the biggest winners as the former vice president adopts positions that seemed fringe and radical just four years ago. Washington Examiner Thursday March 19, 2020 Crisis is not just the catalyst of tyranny. It is its raison d’etre. There isn't a single tyrant or tyrannical ideology that doesn't claim to be the long-term answer to some crisis -- of confidence, of poverty, of class struggle, of racial survival, and so on. Nicholas Rowan Thursday March 19, 2020 Trump backers are preparing to push back against Joe Biden's outreach to Catholics as the former vice president emerges as the near-certain Democratic presidential nominee. Tim Pearce Wednesday March 18, 2020 The pornographic lifestyle magazine Playboy is ending the printed version of its magazine after the coronavirus damaged the publication's content production and supply chain. John Gage Wednesday March 18, 2020 Rick Wilson, co-founder of the Lincoln Project, told Melania Trump\n",
      "-------------------------------------------------------\n",
      "The Treasury Department launched a new web tool allowing quick registration for Economic Impact Payments for eligible individuals who do not normally file a tax return, and also announced that it would begin making automatic payments. However, for some people receiving benefits from the Social Security Administration -- specifically those who have dependent children under the age of 17 -- it is to their advantage to go to this portal to ensure they also get the $500 per dependent Economic Impact Payment. I encourage them to do this as soon as possible, and want to provide the following details: People who receive Social Security retirement, survivors, or disability insurance benefits and who did not file a tax return for 2018 or 2019 and who have qualifying children under age 17 should now go to the IRS's webpage at www.irs.gov/coronavirus/economic-impact-payments to enter their information instead of waiting for their automatic $1,200 Economic Impact Payment. By taking proactive steps to enter information on the IRS website about them and their qualifying children, they will also receive the $500 per dependent child payment in addition to their $1,200 individual payment. If Social Security beneficiaries in this group do not provide their information to the IRS soon, they will have to wait to receive their $500 per qualifying child. The same new guidance also applies to SSI recipients, especially those who have qualifying children under age 17. To receive the full amount of the Economic Impact Payments you and your family are eligible for, go to the IRS's Non-Filers: Enter Payment Info page at www.irs.gov/coronavirus/economic-impact-payments and provide information about yourself and your qualifying children. Additionally, any new beneficiaries since January 1, 2020, of either Social Security or SSI benefits, who did not file a tax return for 2018 or 2019, will also need to go to the IRS's Non-Filers website to enter their information. Lastly, for Social Security retirement, survivors, or disability beneficiaries who do not have qualifying children under age 17, you do not need to take any action with the IRS. You will automatically receive your $1,200 economic impact payment directly from the IRS as long as you received an SSA-1099 for 2019. For SSI recipients who do not have qualifying children under age 17, we continue to work closely with Treasury in our efforts to make these payments automatically. Please note that we will not consider Economic Impact Payments as income for SSI recipients, and the payments are excluded from resources for 12 months. The eligibility requirements and other information about the Economic Impact Payments can be found here: www.irs.gov/coronavirus/economic-impact-payment-information-center. In addition, please continue to visit the IRS at www.irs.gov/coronavirus for the latest information.\n",
      "-------------------------------------------------------\n"
     ]
    }
   ],
   "source": [
    "lista = []\n",
    "\n",
    "with bz2.open(path_to_file, 'rb') as s_file:\n",
    "    for instance in s_file:\n",
    "        #For every quotation\n",
    "        instance = json.loads(instance)\n",
    "        text = instance['quotation']\n",
    "        lista.append(len(text.split()))\n",
    "        #if the length of the quote is more than 400 print the quote\n",
    "        if len(text.split()) > 400:\n",
    "            print(text)\n",
    "            print('-------------------------------------------------------')"
   ]
  },
  {
   "cell_type": "markdown",
   "metadata": {},
   "source": [
    "Most of the quotes looks good, even if some are clearly not quotes (look at the last one), but many contains 'â € ','â € ™','â € ' and other wird sequences of characters! Let's count how many there are in our 2020 filtered dataset."
   ]
  },
  {
   "cell_type": "code",
   "execution_count": 12,
   "metadata": {},
   "outputs": [
    {
     "name": "stdout",
     "output_type": "stream",
     "text": [
      "The number of quotations with wird characters is:  74\n"
     ]
    }
   ],
   "source": [
    "path_to_file = fixpath(QUOTES_2020_PARTY_LABELED_PATH) \n",
    "\n",
    "#counter\n",
    "cnt = 0\n",
    "with bz2.open(path_to_file, 'rb') as s_file:   \n",
    "      for instance in s_file:\n",
    "            #For every quotation\n",
    "            instance = json.loads(instance)\n",
    "            text = instance['quotation']\n",
    "            #if the text contains some wird characters increment the counter\n",
    "            if 'â € ' in text or 'â € ™' in text:\n",
    "                cnt +=1\n",
    "\n",
    "print('The number of quotations with wird characters is: ',cnt)"
   ]
  },
  {
   "cell_type": "markdown",
   "metadata": {},
   "source": [
    "A quick research on google and we convninced ourselfs that this problem is coming from a UTF-8 encoding bug when creating the datset. (see https://www.i18nqa.com/debug/utf8-debug.html) which occurs either when the dataset is created or which is present on the website from which the quote is extracted. We find strange the high concentration of these bugs within the longer citations in fact within the whole dataset we studied only 74 citations contain these bugs. Let's print the problematic char to be sure that the problem is not the jupyter notebook not supporting this special chars."
   ]
  },
  {
   "cell_type": "code",
   "execution_count": 7,
   "metadata": {},
   "outputs": [
    {
     "name": "stdout",
     "output_type": "stream",
     "text": [
      "“\n"
     ]
    }
   ],
   "source": [
    "print('“')"
   ]
  },
  {
   "cell_type": "markdown",
   "metadata": {},
   "source": [
    "Lastly let's check in one of the original text if the bug is alredy present using the url present in the raw dataset. Since all the urls bring us to a single website we assume that the bug is in there."
   ]
  },
  {
   "cell_type": "code",
   "execution_count": 13,
   "metadata": {},
   "outputs": [
    {
     "data": {
      "text/plain": [
       "{'https://medicinehatnews.com'}"
      ]
     },
     "execution_count": 13,
     "metadata": {},
     "output_type": "execute_result"
    }
   ],
   "source": [
    "path_to_file = QUOTES_2020_PARTY_LABELED_COMPLETE\n",
    "\n",
    "#We make a set  to show they are quotations from the same website\n",
    "set_of_websites = set()\n",
    "with bz2.open(path_to_file, 'rb') as s_file:\n",
    "    for instance in s_file:\n",
    "        #For every quotation\n",
    "        instance = json.loads(instance)\n",
    "        text = instance['quotation']\n",
    "        #if the text contains some wird characters\n",
    "        if 'â € ' in text or 'â € ™' in text:\n",
    "            #Add url root to the set\n",
    "            set_of_websites.add(instance['urls'][0][0:27])\n",
    "              \n",
    "set_of_websites"
   ]
  },
  {
   "cell_type": "markdown",
   "metadata": {},
   "source": [
    "Let's analyse the mean and median lenght of the sentences to see if there is a difference between republicans and democrats. \n",
    "Let's start with the median:\n"
   ]
  },
  {
   "cell_type": "code",
   "execution_count": 21,
   "metadata": {},
   "outputs": [
    {
     "name": "stdout",
     "output_type": "stream",
     "text": [
      "party_label\n",
      "D    19.0\n",
      "R    19.0\n",
      "Name: length_quote, dtype: float64\n"
     ]
    }
   ],
   "source": [
    "path_to_file = QUOTES_2020_PARTY_LABELED_PATH\n",
    "\n",
    "labeled_df = pd.io.json.read_json(path_to_file, lines=True)\n",
    "\n",
    "#return length of the quote\n",
    "def length_quote(x):\n",
    "    return len(x.split())\n",
    "\n",
    "#compute the medians\n",
    "labeled_df[\"length_quote\"] = labeled_df[\"quotation\"].apply(lambda x: length_quote(x))\n",
    "medians = labeled_df.groupby(by = 'party_label')[\"length_quote\"].median()\n",
    "\n",
    "print(medians)"
   ]
  },
  {
   "cell_type": "markdown",
   "metadata": {},
   "source": [
    "Let's analyse the mean:"
   ]
  },
  {
   "cell_type": "code",
   "execution_count": 23,
   "metadata": {},
   "outputs": [
    {
     "data": {
      "image/png": "[encoded data removed]",
      "text/plain": [
       "<Figure size 432x288 with 1 Axes>"
      ]
     },
     "metadata": {
      "needs_background": "light"
     },
     "output_type": "display_data"
    }
   ],
   "source": [
    "#Bootstrapping for quantiles. Taken from the labs.\n",
    "def bootstrap_CI(data, nbr_draws):\n",
    "    means = np.zeros(nbr_draws)\n",
    "    data = np.array(data)\n",
    "\n",
    "    for n in range(nbr_draws):\n",
    "        indices = np.random.randint(0, len(data), len(data))\n",
    "        data_tmp = data[indices] \n",
    "        means[n] = np.nanmean(data_tmp)\n",
    "    return [np.nanpercentile(means, 0.05),np.nanpercentile(means, 99.5)]\n",
    "\n",
    "#compute the medians\n",
    "mean_dem ,mean_rep = labeled_df.groupby(by=\"party_label\").mean()[\"length_quote\"]\n",
    "\n",
    "#convert to list and compute confidence intervals\n",
    "party_label = labeled_df.groupby(\"party_label\")[\"length_quote\"].apply(lambda x : x.tolist())\n",
    "[lower_dem,upper_dem] = bootstrap_CI(party_label.iloc[0],1000)\n",
    "[lower_rep,upper_rep] = bootstrap_CI(party_label.iloc[1],1000)\n",
    "\n",
    "#Plot results\n",
    "plt.bar([str(party_label.index[0]),str(party_label.index[1])],[mean_dem,mean_rep],yerr = [[mean_dem-lower_dem,mean_rep-lower_rep],[upper_dem-mean_dem,upper_rep-mean_rep]])\n",
    "plt.ylabel(\"Mean len quote\")\n",
    "plt.title(\"Mean of lenght of quotes for democrats (D) and republicans (R) in function of condition with 99% confidence intervals\");"
   ]
  },
  {
   "cell_type": "markdown",
   "metadata": {},
   "source": [
    "Zoom to understand if the difference is significative: in fact it is, the mean are different. We can conclude that on average the quotations of republicans are a little longer than the republican's."
   ]
  },
  {
   "cell_type": "code",
   "execution_count": 25,
   "metadata": {},
   "outputs": [
    {
     "data": {
      "image/png": "[encoded data removed]",
      "text/plain": [
       "<Figure size 432x288 with 1 Axes>"
      ]
     },
     "metadata": {
      "needs_background": "light"
     },
     "output_type": "display_data"
    }
   ],
   "source": [
    "#Computing a zoom to see if the difference is significant\n",
    "\n",
    "plt.bar([str(party_label.index[0]),str(party_label.index[1])],[mean_dem,mean_rep],yerr = [[mean_dem-lower_dem,mean_rep-lower_rep],[upper_dem-mean_dem,upper_rep-mean_rep]])\n",
    "plt.ylabel(\"Mean len quote\")\n",
    "plt.ylim(23,25);\n",
    "plt.title(\"ZOOM : Mean of lenght of quotes for democrats (D) and republicans (R)\");"
   ]
  },
  {
   "cell_type": "markdown",
   "metadata": {},
   "source": [
    "## 2. Let's analyize the distribution of number of quotes in time."
   ]
  },
  {
   "cell_type": "code",
   "execution_count": 27,
   "metadata": {},
   "outputs": [
    {
     "data": {
      "image/png": "[encoded data removed]",
      "text/plain": [
       "<Figure size 432x288 with 1 Axes>"
      ]
     },
     "metadata": {
      "needs_background": "light"
     },
     "output_type": "display_data"
    }
   ],
   "source": [
    "formatted_df = labeled_df.copy()\n",
    "#change time format\n",
    "formatted_df[\"date\"] = pd.to_datetime(formatted_df['date'], format='%Y-%m-%d %H:%M:%S')\n",
    "\n",
    "#plot the data\n",
    "bins = 100\n",
    "hist = plt.hist(formatted_df[\"date\"].dt.date,bins)\n",
    "plt.xlim([datetime.date(2020, 3, 15), datetime.date(2020, 4, 1)])\n",
    "plt.xticks([datetime.date(2020, i, 1) for i in range(1,5)])\n",
    "plt.xlabel(\"Date\")\n",
    "plt.ylabel(\"Number of quotes\")\n",
    "plt.title(\"Number of quotes per date\")\n",
    "plt.show()\n"
   ]
  },
  {
   "cell_type": "markdown",
   "metadata": {},
   "source": [
    "What are those drops? Lets check the first 2 months by printing the dates"
   ]
  },
  {
   "cell_type": "code",
   "execution_count": 13,
   "metadata": {},
   "outputs": [
    {
     "name": "stderr",
     "output_type": "stream",
     "text": [
      "<ipython-input-13-bfde1d8c6e15>:4: FutureWarning: Comparison of Timestamp with datetime.date is deprecated in order to match the standard library behavior.  In a future version these will be considered non-comparable.Use 'ts == pd.Timestamp(date)' or 'ts.date() == date' instead.\n",
      "  if len(formatted_df[formatted_df.values == datetime.date(2020,j,i)]) < 3500:\n"
     ]
    },
    {
     "name": "stdout",
     "output_type": "stream",
     "text": [
      "2020-1-1\n",
      "2020-1-2\n",
      "2020-1-4\n",
      "2020-1-5\n",
      "2020-1-11\n",
      "2020-1-12\n",
      "2020-1-18\n",
      "2020-1-19\n",
      "2020-1-20\n",
      "2020-1-25\n",
      "2020-1-26\n"
     ]
    }
   ],
   "source": [
    "#we range over two months over each day and we print the dates which have less than 3500 quotes (a bit less than the average)\n",
    "for j in range(1,2):\n",
    "   for i in range(1,30):\n",
    "       if len(formatted_df[formatted_df.values == datetime.date(2020,j,i)]) < 3500:\n",
    "           print('2020-%d-%d' % (j,i))"
   ]
  },
  {
   "cell_type": "markdown",
   "metadata": {},
   "source": [
    "As we can see from these values, by checking in the calendar, these drops correspond to the weekends / holidays day, in which we assume that no quotes where inserted in the newspaper the plot.\n",
    "\n",
    "Now lets analysis the spikes instead. We firsty get the top 10 most frequent dates of quotes, and later show them on the graph."
   ]
  },
  {
   "cell_type": "code",
   "execution_count": 14,
   "metadata": {},
   "outputs": [
    {
     "data": {
      "text/plain": [
       "[Timestamp('2020-02-05 00:00:00'),\n",
       " Timestamp('2020-02-04 00:00:00'),\n",
       " Timestamp('2020-01-15 00:00:00'),\n",
       " Timestamp('2020-01-30 00:00:00'),\n",
       " Timestamp('2020-02-07 00:00:00'),\n",
       " Timestamp('2020-01-14 00:00:00'),\n",
       " Timestamp('2020-01-29 00:00:00'),\n",
       " Timestamp('2020-03-17 00:00:00'),\n",
       " Timestamp('2020-02-06 00:00:00'),\n",
       " Timestamp('2020-03-24 00:00:00')]"
      ]
     },
     "execution_count": 14,
     "metadata": {},
     "output_type": "execute_result"
    }
   ],
   "source": [
    "# get top 10 most frequent dates of quotes\n",
    "n = 10\n",
    "days_with_most_quotes = formatted_df['date'].value_counts()[:n].index.tolist()\n",
    "days_with_most_quotes"
   ]
  },
  {
   "cell_type": "markdown",
   "metadata": {},
   "source": [
    "By checking the dates with the calendar, we found that these dates are related to presidential events. Lets see some examples:\n",
    "- 2020-01-15 -> the Pentagon construction was completed.\n",
    "- 2020-01-30 -> President Trump signed the U.S.-Mexico-Canada (USMCA) trade pact.\n",
    "- 2020-02-05: \"Trump impeachment vote live updates: Sharply divided Senate acquits Trump on both articles\"\n",
    "- 2020-02-07 -> \"United States President Donald Trump is acquitted by the United States Senate in his first impeachment trial.\"\n",
    "\n",
    "Lets display them on the graph."
   ]
  },
  {
   "cell_type": "code",
   "execution_count": 28,
   "metadata": {},
   "outputs": [],
   "source": [
    "#adding events to the plot\n",
    "events = {datetime.date(2020, 2, 5):'T. Imp.',\n",
    "          datetime.date(2020, 1, 15): 'Pentagon',\n",
    "          datetime.date(2020, 1, 30):'U-M-C'}\n",
    "events_keys = []\n",
    "events_values = []\n",
    "for i in events.keys():\n",
    "    events_keys.append(i)\n",
    "for j in events.values():\n",
    "    events_values.append(j)"
   ]
  },
  {
   "cell_type": "code",
   "execution_count": 30,
   "metadata": {},
   "outputs": [
    {
     "data": {
      "image/png": "[encoded data removed]",
      "text/plain": [
       "<Figure size 432x288 with 1 Axes>"
      ]
     },
     "metadata": {
      "needs_background": "light"
     },
     "output_type": "display_data"
    }
   ],
   "source": [
    "#replotting data\n",
    "bins = 100\n",
    "hist = plt.hist(formatted_df[\"date\"].dt.date,bins)\n",
    "plt.xlim([datetime.date(2020, 1, 1), datetime.date(2020,2, 15)])\n",
    "plt.xticks([events_keys[i] for i in range(0,len(events_keys))],[events_values[i] for i in range(0,len(events_values))],fontsize=7)\n",
    "plt.show()"
   ]
  },
  {
   "cell_type": "markdown",
   "metadata": {},
   "source": [
    "MONO ANALYSIS"
   ]
  },
  {
   "cell_type": "markdown",
   "metadata": {
    "tags": []
   },
   "source": [
    "## 3.Let's analyize the words used in the quotes"
   ]
  },
  {
   "cell_type": "markdown",
   "metadata": {},
   "source": [
    "MICHAEL ANALYSIS FROM ?"
   ]
  },
  {
   "cell_type": "markdown",
   "metadata": {},
   "source": [
    "# DUPLICATES ANALISYS\n",
    "Let's just analize if there are duplicates in the quotations. If we just take quotations as they are we cannot see any duplicates but with a bit of processing we can easily spot some..."
   ]
  },
  {
   "cell_type": "code",
   "execution_count": 31,
   "metadata": {},
   "outputs": [
    {
     "name": "stdout",
     "output_type": "stream",
     "text": [
      "0\n",
      "790\n"
     ]
    },
    {
     "data": {
      "text/plain": [
       "10099    jerry-rig the system and go around the Constit...\n",
       "17562    There will be a huge amount of pent-up demand ...\n",
       "17571    I can assure you, the president is determined,...\n",
       "20314    These cameras are nothing more than a get rich...\n",
       "26320        we're talking about a sharp escalation ahead.\n",
       "Name: quotation, dtype: object"
      ]
     },
     "execution_count": 31,
     "metadata": {},
     "output_type": "execute_result"
    }
   ],
   "source": [
    "path_to_file = fixpath(QUOTES_2020_PARTY_LABELED_PATH) \n",
    "\n",
    "\n",
    "\n",
    "#Read the dataset\n",
    "testdf = pd.io.json.read_json(path_to_file, lines=True)\n",
    "#Put every letter to lowercase, remove whitespaces and punctuation\n",
    "custom_pipeline = [hp.lowercase,\n",
    "                   hp.remove_whitespace,\n",
    "                   hp.remove_punctuation]\n",
    "testdf['clean_quotes'] = hero.clean(testdf['quotation'], custom_pipeline)\n",
    "\n",
    "#Check for duplicate in the original and in the cleaned version\n",
    "print(testdf['quotation'].duplicated().sum())\n",
    "print(testdf['clean_quotes'].duplicated().sum())\n",
    "#print some duplicate sentences\n",
    "testdf[testdf['clean_quotes'].duplicated()]['quotation'].head(5)"
   ]
  },
  {
   "cell_type": "code",
   "execution_count": 18,
   "metadata": {},
   "outputs": [
    {
     "data": {
      "text/html": [
       "<div>\n",
       "<style scoped>\n",
       "    .dataframe tbody tr th:only-of-type {\n",
       "        vertical-align: middle;\n",
       "    }\n",
       "\n",
       "    .dataframe tbody tr th {\n",
       "        vertical-align: top;\n",
       "    }\n",
       "\n",
       "    .dataframe thead th {\n",
       "        text-align: right;\n",
       "    }\n",
       "</style>\n",
       "<table border=\"1\" class=\"dataframe\">\n",
       "  <thead>\n",
       "    <tr style=\"text-align: right;\">\n",
       "      <th></th>\n",
       "      <th>quoteID</th>\n",
       "      <th>quotation</th>\n",
       "      <th>speaker</th>\n",
       "      <th>date</th>\n",
       "      <th>numOccurrences</th>\n",
       "      <th>id</th>\n",
       "      <th>party_label</th>\n",
       "      <th>US_congress_bio_ID</th>\n",
       "      <th>clean_quotes</th>\n",
       "    </tr>\n",
       "  </thead>\n",
       "  <tbody>\n",
       "    <tr>\n",
       "      <th>6567</th>\n",
       "      <td>2020-02-17-041872</td>\n",
       "      <td>jerry rig the system and go around the Constit...</td>\n",
       "      <td>Stacey Abrams</td>\n",
       "      <td>2020-02-17 20:57:04</td>\n",
       "      <td>1</td>\n",
       "      <td>Q7595813</td>\n",
       "      <td>D</td>\n",
       "      <td>None</td>\n",
       "      <td>jerry rig the system and go around the constit...</td>\n",
       "    </tr>\n",
       "    <tr>\n",
       "      <th>10099</th>\n",
       "      <td>2020-02-19-052071</td>\n",
       "      <td>jerry-rig the system and go around the Constit...</td>\n",
       "      <td>Stacey Abrams</td>\n",
       "      <td>2020-02-19 00:00:00</td>\n",
       "      <td>2</td>\n",
       "      <td>Q7595813</td>\n",
       "      <td>D</td>\n",
       "      <td>None</td>\n",
       "      <td>jerry rig the system and go around the constit...</td>\n",
       "    </tr>\n",
       "  </tbody>\n",
       "</table>\n",
       "</div>"
      ],
      "text/plain": [
       "                 quoteID                                          quotation  \\\n",
       "6567   2020-02-17-041872  jerry rig the system and go around the Constit...   \n",
       "10099  2020-02-19-052071  jerry-rig the system and go around the Constit...   \n",
       "\n",
       "             speaker                date  numOccurrences        id  \\\n",
       "6567   Stacey Abrams 2020-02-17 20:57:04               1  Q7595813   \n",
       "10099  Stacey Abrams 2020-02-19 00:00:00               2  Q7595813   \n",
       "\n",
       "      party_label US_congress_bio_ID  \\\n",
       "6567            D               None   \n",
       "10099           D               None   \n",
       "\n",
       "                                            clean_quotes  \n",
       "6567   jerry rig the system and go around the constit...  \n",
       "10099  jerry rig the system and go around the constit...  "
      ]
     },
     "execution_count": 18,
     "metadata": {},
     "output_type": "execute_result"
    }
   ],
   "source": [
    "#let's visualize the two quotes: this are indeed duplicates\n",
    "testdf[testdf['clean_quotes']==testdf['clean_quotes'].iloc[10099]]"
   ]
  },
  {
   "cell_type": "markdown",
   "metadata": {},
   "source": [
    "This means that we need to do some cleaning. Of course this analisys is not complete we need to find a more systematic way to spot duplicates. To spot duplicates we use Jaccard similarity between pairs of quotes of the same speaker. "
   ]
  },
  {
   "cell_type": "markdown",
   "metadata": {},
   "source": [
    "The pipeline for identifying highly similar quotes is fairly simple:\n",
    "* Group the dataframe by speaker\n",
    "* compute the jaccard similarity between pairs of quotes of a speaker. If the similarity is higher than the threshold, drop the shorter quote\n",
    "\n",
    "Jaccard similarity is useful for identifying similar sentences. It does this by identifying the number of common words there are in both sentences.The formula is given by:\n",
    "\n",
    " `jaccard_similarity = size(quote_a intersection quote_b) /size(quote_a union quote_b))`\n",
    "\n",
    " If the `jaccard_similarity = 1`, all the words in quote_a are in quote_b and vice versa. If the `jaccard_similarity = 0`, there are no common words among both quotes. Note that Jaccard similarity \n",
    " doesn't take into account the position of words in a sentence\n",
    "\n"
   ]
  },
  {
   "cell_type": "markdown",
   "metadata": {},
   "source": [
    "Here is an example on a subset of the dataset:"
   ]
  },
  {
   "cell_type": "code",
   "execution_count": 2,
   "metadata": {},
   "outputs": [
    {
     "name": "stderr",
     "output_type": "stream",
     "text": [
      "/Users/nicolasbaldwin/opt/miniconda3/lib/python3.8/site-packages/pandas/core/frame.py:3607: SettingWithCopyWarning: \n",
      "A value is trying to be set on a copy of a slice from a DataFrame.\n",
      "Try using .loc[row_indexer,col_indexer] = value instead\n",
      "\n",
      "See the caveats in the documentation: https://pandas.pydata.org/pandas-docs/stable/user_guide/indexing.html#returning-a-view-versus-a-copy\n",
      "  self._set_item(key, value)\n"
     ]
    },
    {
     "name": "stdout",
     "output_type": "stream",
     "text": [
      "dataframe size before cleaning:20000\n",
      "dataframe size after cleaning:19789\n"
     ]
    }
   ],
   "source": [
    "dataframe_to_clean = pd.read_json(QUOTES_2020_PARTY_LABELED_CLEANED_PATH, lines=True, compression='bz2', nrows = 20000)\n",
    "cleaned_df = remove_duplicates(dataframe = dataframe_to_clean,threshold = 0.7)\n",
    "\n",
    "print('dataframe size before cleaning:'  + str(dataframe_to_clean.shape[0]))\n",
    "print('dataframe size after cleaning:'  + str(cleaned_df.shape[0]))\n"
   ]
  },
  {
   "cell_type": "markdown",
   "metadata": {},
   "source": [
    "This method removes duplicates like the ones in the previous section:"
   ]
  },
  {
   "cell_type": "code",
   "execution_count": 3,
   "metadata": {},
   "outputs": [
    {
     "name": "stdout",
     "output_type": "stream",
     "text": [
      "dataframe before cleaning:\n"
     ]
    },
    {
     "data": {
      "text/html": [
       "<div>\n",
       "<style scoped>\n",
       "    .dataframe tbody tr th:only-of-type {\n",
       "        vertical-align: middle;\n",
       "    }\n",
       "\n",
       "    .dataframe tbody tr th {\n",
       "        vertical-align: top;\n",
       "    }\n",
       "\n",
       "    .dataframe thead th {\n",
       "        text-align: right;\n",
       "    }\n",
       "</style>\n",
       "<table border=\"1\" class=\"dataframe\">\n",
       "  <thead>\n",
       "    <tr style=\"text-align: right;\">\n",
       "      <th></th>\n",
       "      <th>quoteID</th>\n",
       "      <th>quotation</th>\n",
       "      <th>speaker</th>\n",
       "      <th>date</th>\n",
       "      <th>numOccurrences</th>\n",
       "      <th>id</th>\n",
       "      <th>party_label</th>\n",
       "      <th>US_congress_bio_ID</th>\n",
       "    </tr>\n",
       "  </thead>\n",
       "  <tbody>\n",
       "    <tr>\n",
       "      <th>6567</th>\n",
       "      <td>2020-02-17-041872</td>\n",
       "      <td>jerry rig system go around constitution</td>\n",
       "      <td>stacey abrams</td>\n",
       "      <td>2020-02-17 20:57:04</td>\n",
       "      <td>1</td>\n",
       "      <td>Q7595813</td>\n",
       "      <td>D</td>\n",
       "      <td>None</td>\n",
       "    </tr>\n",
       "    <tr>\n",
       "      <th>10099</th>\n",
       "      <td>2020-02-19-052071</td>\n",
       "      <td>jerry rig system go around constitution</td>\n",
       "      <td>stacey abrams</td>\n",
       "      <td>2020-02-19 00:00:00</td>\n",
       "      <td>2</td>\n",
       "      <td>Q7595813</td>\n",
       "      <td>D</td>\n",
       "      <td>None</td>\n",
       "    </tr>\n",
       "  </tbody>\n",
       "</table>\n",
       "</div>"
      ],
      "text/plain": [
       "                 quoteID                                quotation  \\\n",
       "6567   2020-02-17-041872  jerry rig system go around constitution   \n",
       "10099  2020-02-19-052071  jerry rig system go around constitution   \n",
       "\n",
       "             speaker                date  numOccurrences        id  \\\n",
       "6567   stacey abrams 2020-02-17 20:57:04               1  Q7595813   \n",
       "10099  stacey abrams 2020-02-19 00:00:00               2  Q7595813   \n",
       "\n",
       "      party_label US_congress_bio_ID  \n",
       "6567            D               None  \n",
       "10099           D               None  "
      ]
     },
     "metadata": {},
     "output_type": "display_data"
    },
    {
     "name": "stdout",
     "output_type": "stream",
     "text": [
      "dataframe after cleaning:\n"
     ]
    },
    {
     "data": {
      "text/html": [
       "<div>\n",
       "<style scoped>\n",
       "    .dataframe tbody tr th:only-of-type {\n",
       "        vertical-align: middle;\n",
       "    }\n",
       "\n",
       "    .dataframe tbody tr th {\n",
       "        vertical-align: top;\n",
       "    }\n",
       "\n",
       "    .dataframe thead th {\n",
       "        text-align: right;\n",
       "    }\n",
       "</style>\n",
       "<table border=\"1\" class=\"dataframe\">\n",
       "  <thead>\n",
       "    <tr style=\"text-align: right;\">\n",
       "      <th></th>\n",
       "      <th>quoteID</th>\n",
       "      <th>quotation</th>\n",
       "      <th>speaker</th>\n",
       "      <th>date</th>\n",
       "      <th>numOccurrences</th>\n",
       "      <th>id</th>\n",
       "      <th>party_label</th>\n",
       "      <th>US_congress_bio_ID</th>\n",
       "    </tr>\n",
       "  </thead>\n",
       "  <tbody>\n",
       "    <tr>\n",
       "      <th>6567</th>\n",
       "      <td>2020-02-17-041872</td>\n",
       "      <td>jerry rig system go around constitution</td>\n",
       "      <td>stacey abrams</td>\n",
       "      <td>2020-02-17 20:57:04</td>\n",
       "      <td>1</td>\n",
       "      <td>Q7595813</td>\n",
       "      <td>D</td>\n",
       "      <td>None</td>\n",
       "    </tr>\n",
       "  </tbody>\n",
       "</table>\n",
       "</div>"
      ],
      "text/plain": [
       "                quoteID                                quotation  \\\n",
       "6567  2020-02-17-041872  jerry rig system go around constitution   \n",
       "\n",
       "            speaker                date  numOccurrences        id party_label  \\\n",
       "6567  stacey abrams 2020-02-17 20:57:04               1  Q7595813           D   \n",
       "\n",
       "     US_congress_bio_ID  \n",
       "6567               None  "
      ]
     },
     "metadata": {},
     "output_type": "display_data"
    }
   ],
   "source": [
    "print('dataframe before cleaning:')\n",
    "display(dataframe_to_clean[dataframe_to_clean['quoteID'].isin(['2020-02-17-041872','2020-02-19-052071'])])\n",
    "print('dataframe after cleaning:')\n",
    "display(cleaned_df[cleaned_df['quoteID'].isin(['2020-02-17-041872','2020-02-19-052071'])])"
   ]
  },
  {
   "cell_type": "markdown",
   "metadata": {},
   "source": [
    "But it also drops quotes that have a high similarity:"
   ]
  },
  {
   "cell_type": "code",
   "execution_count": 4,
   "metadata": {},
   "outputs": [
    {
     "name": "stdout",
     "output_type": "stream",
     "text": [
      "removed_quote:\n",
      "president trump say go cultural site\n",
      "\n",
      "quote most similar in cleaned dataframe:\n",
      "president trump say go cultural site read said\n",
      "\n",
      "with similarity = 0.75\n"
     ]
    }
   ],
   "source": [
    "df_to_clean_quotes = dataframe_to_clean['quotation'].unique()\n",
    "cleaned_df_quotes = cleaned_df['quotation'].unique()\n",
    "removed_quote = list(filter(lambda x: x not in cleaned_df_quotes, df_to_clean_quotes))[0]\n",
    "\n",
    "cleaned_df['similarity to removed quote'] = cleaned_df['quotation'].apply(lambda x: jaccard_sim((x,removed_quote)))\n",
    "\n",
    "max_similarity = cleaned_df['similarity to removed quote'].max()\n",
    "\n",
    "print('removed_quote:')\n",
    "print(removed_quote)\n",
    "print()\n",
    "print('quote most similar in cleaned dataframe:')\n",
    "print(cleaned_df[cleaned_df['similarity to removed quote'] == max_similarity].quotation.item())\n",
    "print()\n",
    "print('with similarity = ' + str(max_similarity))\n",
    "\n",
    "cleaned_df = cleaned_df.drop(columns=['similarity to removed quote'])\n",
    "\n"
   ]
  },
  {
   "cell_type": "markdown",
   "metadata": {},
   "source": [
    "As we can see, the these 2 quotes are extremely similar."
   ]
  },
  {
   "cell_type": "markdown",
   "metadata": {},
   "source": [
    "# HOW HARD IS OUR TASK?\n",
    "To have a sense of how hard the task will be let's try to analise the data distribution in a lower dimension. To do that we need to transform the text into a numeric format, using tf-idf model,  then apply PCA to the result. Before representing quotes as vectors we preprocess the data. As we can  see the data does not look to be separable by class in the PCA plot. This is completely possible because PCA attempts to find eigenvectors that explain the most the variance of our vectors. As we can see the most explained variances are more specific to our encoding than our party label (which is not encoded in our tfidf vectors). "
   ]
  },
  {
   "cell_type": "code",
   "execution_count": 7,
   "metadata": {},
   "outputs": [],
   "source": [
    "def clean(series):\n",
    "    \"function that cleans a quote\"\n",
    "    series = hp.fillna(series)\n",
    "    series = hp.lowercase(series)\n",
    "    series = hp.remove_digits(series)\n",
    "    series = hp.remove_punctuation(series)\n",
    "    series = hp.remove_diacritics(series)\n",
    "    series = hp.remove_stopwords(series)\n",
    "    series = hp.remove_whitespace(series)\n",
    "    return series\n",
    "\n",
    "def remove_verbs(series):\n",
    "    \"\"\" function that removes all verbs from a series of sentences (series in the sense of pandas)\"\"\"\n",
    "    def remove_verbs_from_sentence(sentence):\n",
    "        \"\"\" function that removes all verbs from a sentence\"\"\"\n",
    "        #tokenizes the sentence (makes it become a list of words)\n",
    "        tokens = nltk.word_tokenize(sentence)\n",
    "\n",
    "        #tags words, for example if the word is a verb in it's base form then it tags it with 'VB'\n",
    "        #tagged becomes a list of tuples with (verb,tag) as format\n",
    "        tagged = nltk.pos_tag(tokens)\n",
    "\n",
    "        #filter all verbs from list\n",
    "        tagged =list(filter(lambda x: x[1] not in  ['VB','VBD','VBG','VBN','VBP','VBZ','MD'],tagged))\n",
    " \n",
    "        #remove tags from words\n",
    "        words = list(map(lambda x: x[0], tagged))\n",
    "\n",
    "        #join the words to have a sentence once againg\n",
    "        sentence = ' '.join(words)\n",
    "        return sentence\n",
    "\n",
    "    return series.apply(remove_verbs_from_sentence)\n",
    "\n",
    "\n",
    "## arguments:\n",
    "    ## dataframe: dataframe containing quotes, the data frame must have at least 2 columns: 'party_label' and ' quotation'\n",
    "    ## keyword: only used if use_keyword = True, allows us to do analysis with only quotes that include the keyword\n",
    "    ## use_keyword: specifies if we must use the keyword to to do analysis with only quotes that include the keyword\n",
    "    ##removeVerbs: if set to true, we remove all verbs from the quotes\n",
    "def pca(dataframe,keyword = None, use_keyword = False,removeVerbs = False):\n",
    "    \"\"\" function that performs pca on quote and plots their position with respect to the 2 most meaningful vectors \"\"\"\n",
    "\n",
    "\n",
    "    df = dataframe.copy()\n",
    "    #clean quote\n",
    "    df['quotation'] = clean(df['quotation'])\n",
    "\n",
    "    if use_keyword:\n",
    "        #extract only quotes that include keyword\n",
    "        df = df[df['quotation'].str.contains(keyword)]\n",
    "        #remove keyword from quotes\n",
    "        df['quotation'] = df['quotation'].apply(lambda x: x.replace(keyword, ''))\n",
    "\n",
    "    if removeVerbs:\n",
    "        #remove verbs from quotes\n",
    "        df['quotation'] = remove_verbs(df['quotation'])\n",
    "\n",
    "    #vectorization of the sentences\n",
    "    df['tfidf'] = hero.tfidf(df['quotation'])\n",
    "    #perform pca\n",
    "    df['pca'] = hero.pca(df['tfidf'])\n",
    "    #plot\n",
    "    hero.scatterplot(\n",
    "        df, \n",
    "        col='pca', \n",
    "        color='party_label', \n",
    "        title=\"PCA for quotes\" + (\"containing word \" + keyword) if use_keyword else '',\n",
    "        hover_data = ['quotation','speaker']\n",
    "    )\n",
    "    df = df.drop(columns = ['tfidf'])\n",
    "\n"
   ]
  },
  {
   "cell_type": "code",
   "execution_count": 6,
   "metadata": {},
   "outputs": [
    {
     "data": {
      "application/vnd.plotly.v1+json": {
       "config": {
        "plotlyServerURL": "https://plot.ly"
       },
       "data": [
        {
         "customdata": [
          [
           "speaking members staff late last night early morning need help especially hospital capacity issue",
           "andrew cuomo"
          ],
          [
           "hello folks ritawilson australia felt bit tired like colds body aches rita chills came went slight fevers",
           "tom hanks"
          ],
          [
           "even get senators call witnesses trial shows difficult moral courage",
           "adam schiff"
          ],
          [
           "escalating tensions seems believe strike strike way world works",
           "tim kaine"
          ],
          [
           "congressman hanna leader great integrity always put patriotism principles politics including became one first sitting republican members congress support marriage equality",
           "nancy pelosi"
          ],
          [
           "illusion lesser evil somehow make better frightened mind four years trump yes however really think democrats going propose serious alternative",
           "robert scheer"
          ],
          [
           "especially interested pattern autocratic authoritarian leaders trump always seems predisposed",
           "ron wyden"
          ],
          [
           "day one president support affordable care act sabotage trump administration use power president already bring cost prescription drugs",
           "elizabeth warren"
          ],
          [
           "falsely implying official online box office maryland venues",
           "brian frosh"
          ],
          [
           "asking crisis going crisis incredibly consequential millions millions americans going solved change tax policy going solved deal health care going solved emergency need right first thing make sure health care available us tools able deal requires us go much president done terms planning",
           "joe biden"
          ],
          [
           "threatens future order",
           "carl anderson"
          ],
          [
           "well look mr trump saying saying words economy stupid trust every one people million times gon na take mr trump economy listen crowing every single day gon na beat us unless take economy stupid issue best health care plan",
           "tom steyer"
          ],
          [
           "sure whether qualified say whether public crisis",
           "phil murphy"
          ],
          [
           "want commend victims come forward bravely recounted happened hope victims sexual violence find strength healing move forward",
           "jackie lacey"
          ],
          [
           "biggest part career ready take president economy exact kind industrial midwestern community pretends speak proven turn back guided community historic transformation",
           "pete buttigieg"
          ],
          [
           "expand every union america",
           "bernie sanders"
          ],
          [
           "working grueling hours understaffed severely overloaded nurses often faced burdens unjust unsafe",
           "melissa sargent"
          ],
          [
           "whether person slave owner thomas jefferson slave owner",
           "bill peduto"
          ],
          [
           "say cannot find compatibility way president conducts anything find scripture guess interpretation think lot people interpretation",
           "pete buttigieg"
          ],
          [
           "lot money think see appeals believe",
           "whoopi goldberg"
          ],
          [
           "clear state would likely prevail onerous policy clearly penalized low income drivers putting win situation severely limiting mobility access employment",
           "dana nessel"
          ],
          [
           "time political posturing",
           "j.b. pritzker"
          ],
          [
           "sudden became star traveling world going hotel room garage limo stage never dealt",
           "lady gaga"
          ],
          [
           "think case extremely weak",
           "chuck schumer"
          ],
          [
           "people time hands foment hatred bigotry",
           "debbie wasserman schultz"
          ],
          [
           "inspector general findings widespread abuses indicate carter page singled",
           "ron wyden"
          ],
          [
           "president trump likes pick winners losers",
           "patty murray"
          ],
          [
           "look throughout obviously support war iraq throughout history track record well known",
           "tulsi gabbard"
          ],
          [
           "good day",
           "pete buttigieg"
          ],
          [
           "repeat enough virginians need stay home",
           "ralph northam"
          ],
          [
           "always primary concern safety security well campus community",
           "deval patrick"
          ],
          [
           "unprecedented times office working gov whitmer office local law enforcement agencies parties ensure executive orders followed",
           "dana nessel"
          ],
          [
           "eventually make move statewide vbm election never happened extra time make task easier",
           "phil murphy"
          ],
          [
           "question approach regulation supervision incumbent regulators review potential consequences ai including possible risks take balanced view use supervised firms regulation supervision need thoughtfully designed ensure risks appropriately mitigated stand way responsible innovations might expand access convenience consumers small businesses bring greater efficiency risk detection accuracy",
           "lael brainard"
          ],
          [
           "death panels lottery instead",
           "andrew cuomo"
          ],
          [
           "many years congress republican administrations democratic administrations abdicated constitutional responsibility time congress take responsibility back",
           "bernie sanders"
          ],
          [
           "county must come aid businesses entrepreneurs risk economic collapse communities live serve",
           "mark ridley-thomas"
          ],
          [
           "either ignore stay home guidelines order put food table forgo paychecks keep rest us safe",
           "kirsten gillibrand"
          ],
          [
           "artwork students create showcases remarkable potential pleasure viewing creative work last years wait see year entries offer",
           "al lawson"
          ],
          [
           "option cost effective make areas city connected rest city",
           "steven fulop"
          ],
          [
           "think direct correlation necessarily putting cop every corner crime going",
           "alex b. morse"
          ],
          [
           "got question tommy tim tam right proper way get daily dose vegemite",
           "tom hanks"
          ],
          [
           "investigated elected officials prosecuted appropriate",
           "kim foxx"
          ],
          [
           "sites distributing food families large boxes pick twice week done million meals far basic need basic service city provide people time crisis",
           "jim kenney"
          ],
          [
           "powerful people also probably cold called return call",
           "tulsi gabbard"
          ],
          [
           "performances inspire years feel like kind grown together",
           "jennifer aniston"
          ],
          [
           "three days pepsi center wrestling fans wait year",
           "bob smith"
          ],
          [
           "comprehensive aids vaccine research initiative",
           "president clinton"
          ],
          [
           "david cicilline cosponsor jim langevin two rhode island congressmen helping",
           "sheldon whitehouse"
          ],
          [
           "remember barack called said wanted",
           "joe biden"
          ],
          [
           "reason worked barack well agreed substantively every major issue disagreed tactical ways approach issues",
           "jill biden"
          ],
          [
           "mr chairman know agreed would come today talk iran first question today iran",
           "david cicilline"
          ],
          [
           "likely going announce quarantine nyc",
           "andrew cuomo"
          ],
          [
           "let assume president running point electoral interest soldiers put risk lives many many soldiers would left without company would unlawful quid pro quo",
           "alan dershowitz"
          ],
          [
           "difference trump policies benefit large corporations rich policies benefit working families",
           "bernie sanders"
          ],
          [
           "choice parents chose never intended use public school put huge burden harmful effect school budgets law five year forecast everyone getting levy treadmill",
           "teresa fedor"
          ],
          [
           "main expense state education federal government knows give state funding cut education budget state new york tragedy",
           "andrew cuomo"
          ],
          [
           "people bust neck people go make living people play rules people done everything supposed people entitled treated respect decency fairness",
           "joe biden"
          ],
          [
           "every indication expect big joe biden victory continue keep feet pedal take anything granted encouraging team keep knocking doors keep making calls keep tweeting staying engaged",
           "marlon kimpson"
          ],
          [
           "going show equal partnership able make happy stop focusing start thinking carve life wanted without barack succeeded defining better partnership",
           "michelle obama"
          ],
          [
           "president truly innocent claims republicans want aides testify",
           "patty murray"
          ],
          [
           "announced launch invest south west last october started one additional partner bmo harris million got million starbucks got million fifth third",
           "lori lightfoot"
          ],
          [
           "quite frankly instruction stay home",
           "michelle lujan grisham"
          ],
          [
           "dramatic action largest cluster cases country",
           "andrew cuomo"
          ],
          [
           "quite statement",
           "jonathan kreiss-tomkins"
          ],
          [
           "believe equal pay equal work women get whole damn dollar",
           "bernie sanders"
          ],
          [
           "situation unfolds take necessary precautions",
           "harry rilling"
          ],
          [
           "essential businesses workers commuting job job",
           "andrew cuomo"
          ],
          [
           "packed stuff went home least boss said kill way mayor bloomberg alleged said one pregnant employees",
           "elizabeth warren"
          ],
          [
           "one thing support continuing send money accountability attached expectations metrics transparency",
           "gavin newsom"
          ],
          [
           "think lot sanders supporters giving small donations volunteering",
           "bernie sanders"
          ],
          [
           "federal biologists carefully clean prepare eagle carcasses shipping across country tribal members eagle remains used tribal members create intricate headdresses dance shawls pieces religious cultural ceremonies many eagles made return trip maine distributed among various state tribes sometimes tribal elders apply repository disperse feathers honor members",
           "president clinton"
          ],
          [
           "far mean beaten living hell saying going fun whatever",
           "joe biden"
          ],
          [
           "every time look face see alfred e neuman",
           "pete buttigieg"
          ],
          [
           "time us cut last vestiges jim crow expanding worker protections best workers",
           "jennifer mcclellan"
          ],
          [
           "challenges life care started lose patience",
           "dow constantine"
          ],
          [
           "dershowitz argument false",
           "charles schumer"
          ],
          [
           "put plan like say going pay",
           "elizabeth warren"
          ],
          [
           "scar us long breathe air trump befouls every word",
           "david plouffe"
          ],
          [
           "even times crisis michiganders shown willingness step help",
           "gretchen whitmer"
          ],
          [
           "second largest cruise port world princes cruise lines employees worked",
           "debbie wasserman schultz"
          ],
          [
           "working together prevail come stronger",
           "nancy pelosi"
          ],
          [
           "virus colorblind",
           "margaret chin"
          ],
          [
           "point one things identify somebody real fair shot make club identified chris kean going opening day roster",
           "gabe kapler"
          ],
          [
           "da san francisco george led fights reform three strikes law decrease state prison population get people convicted nonviolent offenses greater opportunities get lives back track da la county know george gascon work every day keep communities safe demand real accountability justice system real justice every angeleno",
           "sen. kamala harris"
          ],
          [
           "kind creating class race issue",
           "alexandria ocasio-cortez"
          ],
          [
           "see broadly playgrounds closed date based sheer facts coming back police department parks department noncompliance limited",
           "andrew cuomo"
          ],
          [
           "believe people california need told law enforcement appropriate home isolate protect go essential patterns life socially distancing others using common sense",
           "gavin newsom"
          ],
          [
           "want thank employing neighbors friends people state connecticut want thank co chair general assembly appropriations committee providing single largest dollar amount corporation state connecticut bar none probably almost",
           "cathy osten"
          ],
          [
           "frustrating asked meet new seemingly never ending challenges courage patience compassion",
           "janet mills"
          ],
          [
           "influence circumscribed confined narrow categories real estate culture health care banking terms civic life little power exists independent relationships bloomberg",
           "chris smith"
          ],
          [
           "long run gon na fantastic gon na help us get fires faster help us general speed responses little bit",
           "james howard"
          ],
          [
           "kobe legend",
           "president barack obama"
          ],
          [
           "number hospitalizations admissions icu requirements intubation last days actually started level everybody knows knows conservative making projections kinds good signs look",
           "andrew cuomo"
          ],
          [
           "leaves incredible momentum new energy still lacking resources bodies execute",
           "patti solis doyle"
          ],
          [
           "said people nj transit personally",
           "loretta weinberg"
          ],
          [
           "manufacturers fruit candy flavoured e cigarettes intentionally recklessly targeting young people",
           "andrew cuomo"
          ],
          [
           "really since leaving office mayor spent lot personal time focusing transforming supporting cities",
           "london breed"
          ],
          [
           "almost every respect",
           "gavin newsom"
          ],
          [
           "win south carolina decisively set stage super tuesday",
           "james clyburn"
          ],
          [
           "designed prevent senate american people learning full truth president trump actions warranted impeachment",
           "chuck schumer"
          ],
          [
           "sympathetic congress partisan past two hundred thirty five years probably lots partisan congresses job try bring parties together works actually done pretty good things",
           "barack obama"
          ],
          [
           "guess got kick messing extra",
           "ben affleck"
          ],
          [
           "care supporting attacks like man could first jewish president disgusting beyond pale hatred bigotry place america us root evils wherever found",
           "joe biden"
          ],
          [
           "every republican three investigative committees allowed participate depositions got time",
           "adam schiff"
          ],
          [
           "president senate republicans normalized lawlessness rejected system checks balances constitution",
           "nancy pelosi"
          ],
          [
           "said president castro cuba said look made great progress educating young people every child cuba gets basic education huge improvement medical care life expectancy cubans equivalent united states despite poor country access health care huge achievement",
           "barack obama"
          ],
          [
           "waste whole lot time",
           "bernie sanders"
          ],
          [
           "voted dream act supports separating families banning muslims",
           "dan lipinski"
          ],
          [
           "right among biggest concerns enough ventilators make sure people breath get severe disease coronavirus enough ppe personal protective equipment",
           "josh green"
          ],
          [
           "rather attempting unite divided nation present solutions serious challenges face donald trump yet chose mislead american people claim credit work others embellish administration disastrous record sake national security safety troops sincerely hope tones rhetoric replaces maximum pressure strategy one recognizes efficacy necessity diplomacy",
           "tammy duckworth"
          ],
          [
           "involved politics probably going part life forever come would get involved love city believe person charge city hell job",
           "cleopatra tucker"
          ],
          [
           "steadily improving even went run yesterday carefully keeping distance others want risk chance pass whatever respiratory illness coronavirus colleague fellow traveler responsibility stop spread virus help flatten curve",
           "seth moulton"
          ],
          [
           "like everybody else make sacrifices least want budget going sacrifice",
           "andy beshear"
          ],
          [
           "legacy extends well beyond five boroughs nation world continued benefit leadership shown absolutely confident going exist years come thing like mike words always action",
           "joe biden"
          ],
          [
           "looking forward able continue work able",
           "john garamendi"
          ],
          [
           "cannot behave way last week two weeks ago told halacha jewish law must listen doctors whether sick person yom kippur",
           "simcha eichenstein"
          ],
          [
           "talk closed door sessions keeping things away press way crazy rules pens think outrageous made clear",
           "amy klobuchar"
          ],
          [
           "make statement iranians experienced know reaction rise way make impossible reconcile eternal war middle east",
           "ed markey"
          ],
          [
           "one",
           "elizabeth warren"
          ],
          [
           "people asked going enforce kind authority",
           "jared polis"
          ],
          [
           "policies appeal america",
           "liz mathis"
          ],
          [
           "prove president innocent merely prove senate guilty working president obstruct truth coming",
           "adam schiff"
          ],
          [
           "past several years opportunity listen thousands idahoans throughout great state learned idaho need new leadership",
           "paulette jordan"
          ],
          [
           "plan ignores rights locality make land use decisions problem",
           "bill de blasio"
          ],
          [
           "nancy pelosi way advice success leadership politics america powerful woman",
           "christine pelosi"
          ],
          [
           "iowa nevada spoken",
           "joe biden"
          ],
          [
           "random act god caused environment need start connecting chain say need things less risky way",
           "al gore"
          ],
          [
           "trying move place get much pin pointed approach",
           "gina raimondo"
          ],
          [
           "believe direct consumer services including disney espn hulu position us well continued growth today dynamic media environment",
           "robert iger"
          ],
          [
           "shared us basically said right",
           "anita dunn"
          ],
          [
           "actually might need attorney first episode comes",
           "kim kardashian"
          ],
          [
           "sanctuary nonsense kind got people spooked",
           "mamie locke"
          ],
          [
           "ensuring safe housing survivors domestic violence locations less congested many locations typically offer services usually provide critical time thank fema approving request cover services",
           "ned lamont"
          ],
          [
           "based favoritism politics rather risk",
           "joe biden"
          ],
          [
           "city houston government cannot afford send hundreds employees home cannot jobs remotely",
           "sylvester turner"
          ],
          [
           "need president actually listens experts heeds advice",
           "joe biden"
          ],
          [
           "kanye would come far ideas say normal need drawers voice functionality",
           "kim kardashian"
          ],
          [
           "look women met mean much fun sit talk reading talking environment",
           "jill biden"
          ],
          [
           "really straightforward nice guy",
           "harrison ford"
          ],
          [
           "professionals treat residents businesses customers provide best class city services",
           "jorge elorza"
          ],
          [
           "fine relationship andy",
           "andrew cuomo"
          ],
          [
           "knew liked first date",
           "jennifer aniston"
          ],
          [
           "trump wants war knows leads war needs distraction real question congressional authority step stop know",
           "rep. ilhan omar"
          ],
          [
           "whispered justice department",
           "president barack obama"
          ],
          [
           "telling going turn hawks future crazy knew different things",
           "barack obama"
          ],
          [
           "pandemic magnifies disparities healthcare many communities color face",
           "ayanna pressley"
          ],
          [
           "let agreed last week except make current",
           "nancy pelosi"
          ],
          [
           "putting together platform democratic convention rules wanted write others wanted write everybody got race thinking set rules",
           "elizabeth warren"
          ],
          [
           "fact living proof last night masked singer",
           "pete buttigieg"
          ],
          [
           "small business owners work hard keep downstate communities strong vibrant",
           "katie stuart"
          ],
          [
           "go office extra reading stuff home p",
           "kim kardashian"
          ],
          [
           "come back drive minutes road indian wells",
           "raul ruiz"
          ],
          [
           "public health using strategic national stockpile pushing find working hard think hospitals trying use supply chains think things becoming challenging going become much challenging coming weeks",
           "don williamson"
          ],
          [
           "pleased partner gencare lifestyle pmb help bring important project life",
           "derek kilmer"
          ],
          [
           "asking long range vision plan glad hear saying think important",
           "loretta weinberg"
          ],
          [
           "deserved mean right strategic move",
           "pete buttigieg"
          ],
          [
           "comes secondhand smoke know harm person especially children",
           "herb conaway"
          ],
          [
           "look something like myanmar voices ground know imminent harm post would look pretty benign outside understood situation ground absolutely much harmful",
           "sheryl sandberg"
          ],
          [
           "response",
           "svante myrick"
          ],
          [
           "hostage desire make money",
           "elizabeth warren"
          ],
          [
           "boiler room turning valves",
           "andrew cuomo"
          ],
          [
           "however services saturday temples services sunday churches spirit days stop spread still social distancing measures suggestion people areas would apply want people social distancing",
           "jared moskowitz"
          ],
          [
           "also case supply chain partners across spectrum goods movement important us keep supply chain fluid essential commodities going american public well medical supplies going health care professionals",
           "gavin newsom"
          ],
          [
           "feel like people taking advantage situation wrong way paying attention rules creating something supportable consider shutting",
           "bill de blasio"
          ],
          [
           "concerned whether provide basic funding law enforcement public safety public transportation",
           "ron stollings"
          ],
          [
           "senate rules would allow senate overrule roberts weight ruling would matter",
           "charles schumer"
          ],
          [
           "course woman win real question beat trump",
           "bernie sanders"
          ],
          [
           "waiting fancy dan letter president",
           "nancy pelosi"
          ],
          [
           "government want run elected office",
           "andrew cuomo"
          ],
          [
           "imagine anyone would dare complain",
           "hillary ronen"
          ],
          [
           "well least donald trump",
           "bernie sanders"
          ],
          [
           "one word kidding",
           "tom steyer"
          ],
          [
           "must protect state local partners specifically health care facilities ransomware",
           "maggie hassan"
          ],
          [
           "anyone doubts needs done ask small business owners millions put hell past two weeks scrambled try get access money desperately need",
           "elizabeth warren"
          ],
          [
           "small number staff continue work building support critical needs cannot done remotely",
           "jared polis"
          ],
          [
           "use artificial intelligence alter image video appear though real commonly referred deepfake one advancements could disastrous effects democracy",
           "rebecca millett"
          ],
          [
           "glitch fixed",
           "j.b. pritzker"
          ],
          [
           "cool streets la taking action ways make real direct impact people daily lives",
           "eric garcetti"
          ],
          [
           "clearly factor actions state might take going forward",
           "liz krueger"
          ],
          [
           "fair across race religion ethnicity gender culturally relevant mindful integration diverse communities cultures histories contributions",
           "lori lightfoot"
          ],
          [
           "ask indigenous people audience indigenous african american point immigration story kind",
           "tim robbins"
          ],
          [
           "one thing making manhattan open space",
           "andrew cuomo"
          ],
          [
           "holding ship coast conducting tests",
           "gavin newsom"
          ],
          [
           "serious",
           "andrew cuomo"
          ],
          [
           "really going foreseeable future important part culture colorado",
           "jared polis"
          ],
          [
           "bad news actually terrible",
           "andrew cuomo"
          ],
          [
           "got lot hand wringers party got lots time",
           "terry mcauliffe"
          ],
          [
           "height pandemic",
           "london breed"
          ],
          [
           "massive genetic databases called phenotypic information databases life health records",
           "jamie metzl"
          ],
          [
           "staff equipment beds meet needs community",
           "chris abele"
          ],
          [
           "good enough sense long period going",
           "adam silver"
          ],
          [
           "covid pandemic taught us anything preparation early action central competent response",
           "chris coons"
          ],
          [
           "flattening curve fattening curves",
           "jimmy fallon"
          ],
          [
           "got interested dad brought naval academy eight",
           "patrick colwell"
          ],
          [
           "even agree everything said debate stage",
           "amy klobuchar"
          ],
          [
           "kentucky business affected one disaster loans could help please apply",
           "andy beshear"
          ],
          [
           "attack nypd officers attack new yorkers",
           "bill de blasio"
          ],
          [
           "despite best practices advice public health officials coronavirus pandemic reports indicate workers still forced stand together close quarters enough disinfectant wipes hand sanitizer warehouses extra cleaning warehouses",
           "bernie sanders"
          ],
          [
           "publicly unambiguously obvious malicious intent",
           "tulsi gabbard"
          ],
          [
           "face unprecedented challges need president whose vision shaped american heartland rather ineffective washington politics come know expect",
           "joy reid"
          ],
          [
           "individuals virginia shall remain place residence except provided order executive order extent individuals use shared outdoor spaces whether land water must times maintain social distancing least six fee person exception family household members caretakers",
           "ralph northam"
          ],
          [
           "historic american majority prepared come together democrats independents even republicans see cannot go trump presidency ready deliver big meaningful change",
           "pete buttigieg"
          ],
          [
           "scott morrison says answer growing power needs technology taxes needs get head around future modular nuclear plants drive home",
           "chris smith"
          ],
          [
           "already pro sanders crusade spawned groups calling protests party national convention july sanders emerge nominee bernieorvest rallying cry echoing yellow vest demonstrations roiled france",
           "elizabeth warren"
          ],
          [
           "times could frustrated studying really late get wonder dad four kids must going things gone",
           "kim kardashian"
          ],
          [
           "say nothing take away happened monday",
           "pete buttigieg"
          ],
          [
           "person people perceive inherently traumatic",
           "gwyneth paltrow"
          ],
          [
           "personal issues lack awareness available resources",
           "mike gatto"
          ],
          [
           "learning",
           "bernie sanders"
          ],
          [
           "pressing decision outside certainly control say often even sure exactly decision lies think view league continue things done past",
           "adam silver"
          ],
          [
           "think faith thing root think christ sacrificing behalf also golden rule know treat others way want treated think try impart kids motivates president",
           "president obama"
          ],
          [
           "keep health care workers workforce giving health related licensing boards flexibility licensing requirements",
           "tim walz"
          ],
          [
           "agreement maintain key export markets colorado provide certainty farmers ranchers appreciate efforts democratic negotiators secure new resources tools hold trading partners accountable stronger labor environmental standards",
           "michael bennet"
          ],
          [
           "went african american latino people outrageous way",
           "bernie sanders"
          ],
          [
           "good night seems getting even better call super tuesday nothing",
           "joe biden"
          ],
          [
           "one reasons let forget many airlines short cash right spent billions stock buybacks",
           "chuck schumer"
          ],
          [
           "sisters service stage movement deserve better",
           "rashida tlaib"
          ],
          [
           "crisis hit everyone hit folks live paycheck paycheck hardest",
           "joe biden"
          ],
          [
           "later today hear president daily briefing briefings important opportunity inform reassure american public place political attacks lash press american people",
           "joe biden"
          ],
          [
           "contest president solicited foreign nation interfere election help cheat think acknowledged even contesting facts overwhelming",
           "adam schiff"
          ],
          [
           "tell makes even troubling knew date could would still painful least would able plan",
           "tim kaine"
          ],
          [
           "new nafta solve climate crisis remedy administration egregious environmental rollbacks solely environmental agreement could vote",
           "tom carper"
          ],
          [
           "actions could kill someone stop",
           "jay inslee"
          ],
          [
           "tonight bring warrior ancestors indigenous lenca tribe honduras",
           "america ferrera"
          ],
          [
           "important thing remain home much possible",
           "london breed"
          ],
          [
           "still troubles",
           "steve simon"
          ],
          [
           "happy valentines day macho make biggest dreams come true",
           "jennifer lopez"
          ],
          [
           "said announced gon na create thousands construction jobs add jobs tourism hospitality industry convention business exactly happened",
           "rahm emanuel"
          ],
          [
           "leading contributor climate emergency",
           "alexandria ocasio-cortez"
          ],
          [
           "prevention best tool combatting covid ability slow new infections hands friends neighbors counting us right thing",
           "governor steve bullock"
          ],
          [
           "restrictive zoning puts hard cap full stop ability build enough housing get crisis",
           "scott wiener"
          ],
          [
           "one embodied star kobe",
           "adam silver"
          ],
          [
           "trump administration twisting law allow employers shirk responsibility significantly narrowing workers eligible paid leave",
           "patty murray"
          ],
          [
           "policy issues disability policy issues",
           "elizabeth warren"
          ],
          [
           "need fight engaged",
           "andrew cuomo"
          ],
          [
           "good hygiene wash hands cover coughs avoid going work sick stay home prepared develop preparedness plan family make sure incident family prepared",
           "david ige"
          ],
          [
           "police chief going make apprehension relatively minor offense send swat team border patrol tactical unit swat team",
           "gil kerlikowske"
          ],
          [
           "people stage every election women sen amy klobuchar",
           "elizabeth warren"
          ],
          [
           "finding moderation everything life always going miles hour",
           "chelsea handler"
          ],
          [
           "invested disney today disney long term",
           "bob iger"
          ],
          [
           "boeing going make scapegoats people involved sure trying pretend come high",
           "peter defazio"
          ],
          [
           "today rein president president rein abuse executive power make clear congress sole constitutional duty declare war authorize use force partisan issue",
           "barbara lee"
          ],
          [
           "much less restrictive testing",
           "mark levine"
          ],
          [
           "thought blow handle carts",
           "phil murphy"
          ],
          [
           "john krasinski sgn",
           "john krasinski"
          ],
          [
           "used going practically town hall town hall answering questions sudden like digital detox sitting look phone communicate really moment reflection democracy",
           "amy klobuchar"
          ],
          [
           "would quickly come back public forum consideration",
           "bill lee"
          ],
          [
           "resolution may rescinded time board determines best interest school district",
           "terry goodin"
          ],
          [
           "trials never forgotten values moral fiber parents passed made steels faith god america us",
           "president barack obama"
          ],
          [
           "need encourage local communities accept building city creating dirt density urban core encouraging cities enabling cities really important",
           "jay inslee"
          ],
          [
           "discussion gang eight briefings four embassies targeted exquisite intelligence shows specific targets",
           "adam schiff"
          ],
          [
           "thrilled mr haller took idea henrico county government able work together develop wonderful program",
           "donald mceachin"
          ],
          [
           "course flexibility",
           "jamie pedersen"
          ],
          [
           "see either see",
           "annie kuster"
          ],
          [
           "want chamber house representatives used backdrop one reality shows",
           "nancy pelosi"
          ],
          [
           "change calculus",
           "john gannon"
          ],
          [
           "trump benghazi unfolds iraq",
           "joy reid"
          ],
          [
           "give us10 billion additional credit frankly meaningless gesture slap face need",
           "carolyn maloney"
          ],
          [
           "know critical time development child brain incredible impact child whole life invest quality early learning opportunities",
           "melissa hortman"
          ],
          [
           "jennifer richard told story taken small raise little overtime would lost benefits care kids would lost money instead made easier middle class families afford beautiful daughter know great place safe place hard work",
           "ned lamont"
          ],
          [
           "made joe biden favorite win democratic nomination",
           "elizabeth warren"
          ],
          [
           "history indicates unable",
           "elizabeth warren"
          ],
          [
           "situation critical think federal government order factories manufacture masks gowns ventilators essential medical equipment going make difference life death",
           "andrew cuomo"
          ],
          [
           "see constitutional issue",
           "richard blumenthal"
          ],
          [
           "hurts national security took select group people pre screened length person interview documentation said worry person customs border patrol time focus people",
           "andrew cuomo"
          ],
          [
           "rejects help super pacs would disavow super pac",
           "elizabeth warren"
          ],
          [
           "president trump tried cheat got caught worked hard cover",
           "hakeem jeffries"
          ],
          [
           "think everything intertwined design",
           "gabe kapler"
          ],
          [
           "house collapsing around us right coronavirus impact state economy",
           "peter franchot"
          ],
          [
           "exactly focus",
           "tom frieden"
          ],
          [
           "poor guy children taking advantage situation trying make little extra money family",
           "gavin newsom"
          ],
          [
           "joe biden agenda catholic community",
           "joe biden"
          ],
          [
           "mr hyde sent series text messages suggesting ambassador yovanovitch physical surveillance kyiv willing help would like price",
           "adam schiff"
          ],
          [
           "discovering new chemicals sea address antibiotic resistance crisis",
           "jim sullivan"
          ],
          [
           "need space around want take little time think little",
           "elizabeth warren"
          ],
          [
           "vetoing house bill despite commendable premise legislation attempting make publication advertisements local government actions efficient provisions law would impede public ability receive complete information local government actions proposed actions harm newspapers removing requirement advertisements published newspaper",
           "andy beshear"
          ],
          [
           "extra milk bones going stay selfie line afterward",
           "elizabeth warren"
          ],
          [
           "fcc funds program help low income folks get access wireless service makes sense",
           "jessica rosenworcel"
          ],
          [
           "task searching wandering lost individuals autism conditions growing serious responsibility",
           "angelo santabarbara"
          ],
          [
           "thrilled lizakoshy mostlysane thembemathe visited girls opportunity alliance programs around world see important work action",
           "michelle obama"
          ],
          [
           "revealed names unit killed bin laden",
           "joe biden"
          ],
          [
           "feel like met fully first time",
           "ayanna pressley"
          ],
          [
           "protect integrity election critical infrastructure well promote voting mail",
           "nancy pelosi"
          ],
          [
           "yes put suit",
           "john krasinski"
          ],
          [
           "betting tomorrow reject fear choose hope",
           "barack obama"
          ],
          [
           "know tragically",
           "gavin newsom"
          ],
          [
           "right risk somebody else life",
           "andrew cuomo"
          ],
          [
           "unfortunately many community cost transit barrier able get keep job get education access health care",
           "jeanne kohl-welles"
          ],
          [
           "pro tip bush white house alumni might want sit one remember",
           "joy reid"
          ],
          [
           "education always first step willfully ignoring health orders acceptable cramming dozens people illegal club outbreak like dropping lit match woods fire season epitome irresponsibility",
           "dennis herrera"
          ],
          [
           "win world war ii panicked",
           "phil murphy"
          ],
          [
           "guess moms intuition unlike right",
           "katy perry"
          ],
          [
           "month head start",
           "ned lamont"
          ],
          [
           "volunteerism nice beautiful thing",
           "andrew cuomo"
          ],
          [
           "committee trade literally part committee overseeing things able speak literally first thing politics country south",
           "pete buttigieg"
          ],
          [
           "orr practice sharing confidential psychotherapy information undermines missions violates rights minors custody care",
           "ed markey"
          ],
          [
           "looking thousands individuals",
           "gavin newsom"
          ],
          [
           "rate increase apex project time could approximately days away",
           "andrew cuomo"
          ],
          [
           "failed listen words come mouth failed listen ideals principles underlying facts simply listen partisanship",
           "cory booker"
          ],
          [
           "refuse accept proposition state perpetual war republicans",
           "joe biden"
          ],
          [
           "glad attention",
           "jim kenney"
          ],
          [
           "said many times past several days state going get one new jersey family together must work neighboring states act together work coronavirus us us",
           "phil murphy"
          ],
          [
           "two sides made progress across strategic trade pillars relationship notably president obama backed india bid join united nations security council",
           "barack obama"
          ],
          [
           "midst global coronavirus pandemic let remember mcconnell consistently voted cut funding medical research immunization programs cut funding agencies cdc nih prepared infectious disease outbreak instead acting immediately include provisions emergency bill control costs vaccines treatments developed response outbreak held coronavirus funding order make sure big pharma would still able gouge prices",
           "amy mcgrath"
          ],
          [
           "truth truth happened first years castro regime",
           "bernie sanders"
          ],
          [
           "message pass one bills speaker pelosi sent",
           "joyce beatty"
          ],
          [
           "also points yet",
           "ricardo lara"
          ],
          [
           "think never wanted science work quickly either vaccine sort pharmaceutical intervention herd immunity science science",
           "eric garcetti"
          ],
          [
           "really unfortunate unscrupulous people would take advantage public health crisis like natural disaster economic benefit charge virginians significantly higher prices basic supplies everything put stop",
           "mark herring"
          ],
          [
           "people across country including commonsense new hampshire voters tired empty promises want know next president get anything done",
           "michael bennet"
          ],
          [
           "fuck winning democrat ill trump thing going well let honest everybody going well",
           "james carville"
          ],
          [
           "go meet people",
           "jb pritzker"
          ],
          [
           "someone powerful hillary clinton seeking smear reputation essentially implying traitor country love essentially taking life away",
           "tulsi gabbard"
          ],
          [
           "spent lot time money educating bringing people",
           "tick segerblom"
          ],
          [
           "president united states anyone else wants recovery want right serious without widespread testing",
           "bill de blasio"
          ],
          [
           "pressing hard limited number tests using appropriately",
           "j.b. pritzker"
          ],
          [
           "ready turn page change politics late",
           "pete buttigieg"
          ],
          [
           "best way fed maintain enhance credibility support fully employed american economy achieving inflation target stable financial conditions",
           "larry summers"
          ],
          [
           "h1n1 swine flu avian flu went ebola went mers went sars dealt",
           "andrew cuomo"
          ],
          [
           "need provide open government time provide logistics governments meet midst crisis gather together groups create public health hazard",
           "bill lee"
          ],
          [
           "think opportunity get reacquainted lot american people",
           "elizabeth warren"
          ],
          [
           "victories behind us popular vote iowa victory tonight going nevada going south carolina going win states well",
           "bernie sanders"
          ],
          [
           "helping time ground since shortly iowa",
           "tom perez"
          ],
          [
           "took case court ensure matter outcome protect innovation fair prices",
           "xavier becerra"
          ],
          [
           "getting sequencing right think based data facts seeing incredibly essential either transpose steps start get back feet soon fear based data looking could throwing gasoline fire",
           "phil murphy"
          ],
          [
           "cannot open economy make sure got health care controls place",
           "lori lightfoot"
          ],
          [
           "plan lead example work home",
           "tim walz"
          ],
          [
           "directed state offices closed urge maine people exercise extreme caution must roads give road crews first responders plenty room work keep us safe",
           "janet mills"
          ],
          [
           "going stop violence lgbtq community especially transgender women color going reverse transgender military ban ensure every american qualified serve military without hide",
           "joe biden"
          ],
          [
           "unemployment system made unworkable",
           "janet cruz"
          ],
          [
           "agenda since day one going focus coming months wrap first term",
           "levar stoney"
          ],
          [
           "educator getting information schools difficult",
           "derrick graham"
          ],
          [
           "federal permanent protections vulnerable fragile ecosystem ensure damaged polluted sulfide ore copper mining",
           "betty mccollum"
          ],
          [
           "pretty new politics everything see every single day washington majority old white men",
           "seth moulton"
          ],
          [
           "successfully resolve outstanding issues",
           "jared polis"
          ],
          [
           "become nominee going deal almost certain flood personal attacks based sexual orientation",
           "pete buttigieg"
          ],
          [
           "going hard going like farm cell service anyway",
           "jon tester"
          ],
          [
           "believe young believe matter naivete believe matter experience seen warzone americans work together seen city place left dead pick back",
           "pete buttigieg"
          ],
          [
           "decisions made providers physicians mothers fathers involved talk third trimester abortions done consent mother consent physicians one physician way done cases may severe deformities may fetus non viable particular example mother labor tell exactly would happen infant would delivered infant would kept comfortable infant would resuscitated mother family desired discussion would ensue physician mother",
           "ralph northam"
          ],
          [
           "going let people die",
           "andrew cuomo"
          ],
          [
           "far worst candidate pot joe biden",
           "joe biden"
          ],
          [
           "beginning administration made clear taking deliberative incremental approach cannabis legalization facilitate effective rollout ensure space market social equity applicants",
           "toi hutchinson"
          ],
          [
           "going get legislators open possibility meeting virtually",
           "brian egolf"
          ],
          [
           "going try kylie trick brown mascara bottom",
           "kim kardashian west"
          ],
          [
           "stop watching",
           "rosario dawson"
          ],
          [
           "ignore significant portions evidence trying cherry pick",
           "jason crow"
          ],
          [
           "iowa grassroots supporters knocked hundreds thousands doors new hampshire going win next tuesday",
           "bernie sanders"
          ],
          [
           "working develop national tbi registry brain injury survivors loved ones access adequate care provide proper protocols",
           "bill pascrell"
          ],
          [
           "recognize epidemics around world stopped vaccines also understand skepticism abounds today drugs rushed market big pharma sorry made comments sounded though question validity life saving vaccines",
           "marianne williamson"
          ],
          [
           "acquired everything market acquire",
           "andrew cuomo"
          ],
          [
           "democrats need sober figure hell going",
           "joy reid"
          ],
          [
           "biden",
           "joe biden"
          ],
          [
           "referred enforcement action consistent justice department policies without regard political considerations illegal activity would obviously disqualify serving director national intelligence position public trust",
           "chuck schumer"
          ],
          [
           "biden similarly needs let president lead trump ineffective irresponsible caricature opponents think events show soon enough",
           "joe biden"
          ],
          [
           "asked repeatedly respectfully help need",
           "gretchen whitmer"
          ],
          [
           "pretend crisis anything less dangerous would irresponsible would deadly",
           "lori lightfoot"
          ],
          [
           "want see roe decision changed changed would find states tomorrow providing kind protection roe v wade change thing called nondelegation doctrine say epa determine clean air clean water done condemned kids environment powerful determine outcome health",
           "joe biden"
          ],
          [
           "going fight corrupt criminal justice system often persecutes prosecutes people nothing wrong",
           "rod blagojevich"
          ],
          [
           "going tougher year budget allocations new appropriations maybe new spending initiatives",
           "leroy garcia"
          ],
          [
           "mother expendable mother expendable put dollar figure human life one talking social darwinism sake stock market",
           "andrew cuomo"
          ],
          [
           "regard idea walk away troops anywhere including special forces way negotiate able negotiate terrorists able form coalitions able defeat contain",
           "joe biden"
          ],
          [
           "reckless commander chief american history",
           "seth moulton"
          ],
          [
           "office close public business attend votes hearings monday medical advisers say clear return",
           "don beyer"
          ],
          [
           "first instance politely ask people compliant",
           "lee harris"
          ],
          [
           "think made joe biden look good especially pete single best job defending hunter biden debate",
           "don beyer"
          ],
          [
           "woman body woman choice",
           "eric swalwell"
          ],
          [
           "living outside houston found commuter college minutes away cost semester price could pay part time waitressing job finished four year diploma became special education teacher lived dream job",
           "elizabeth warren"
          ],
          [
           "could run company day day basis",
           "bob iger"
          ],
          [
           "think realize money policy go together going talk say exactly going look like point think reasonable people would say let efficient efficient end getting money",
           "guy guzzone"
          ],
          [
           "love state lot",
           "amy klobuchar"
          ],
          [
           "think extremely irresponsible anyone take seriously sooner sooner go see friends family",
           "kim kardashian west"
          ],
          [
           "unbelievable con artists exploiting particular crisis happens time unfortunately urging people hang phone someone pretends calling government",
           "peter franchot"
          ],
          [
           "public health crisis foremost human crisis also crisis supply logistics distribution states hospitals health care providers bid one another federal government get supplies desperately need",
           "joe biden"
          ],
          [
           "like talking understand somebody else ask going able unite country pete bernie",
           "joe biden"
          ],
          [
           "coalition community groups proposed creation civilian police accountability council cpac establish direct community oversight cpd proposal strives honor principles established cpac recommend soon possible city council hold public hearings goal developing specific details board based direction community selection board members within days start hearings",
           "lori lightfoot"
          ],
          [
           "think making better",
           "amy klobuchar"
          ],
          [
           "comedy always saves us think people really want stories relate want laugh feel complicit characters tell stories",
           "michelle rodriguez"
          ],
          [
           "spending money go motel hotel overnight",
           "gavin newsom"
          ],
          [
           "solving america problems hard require tough choices require sacrifice unless political leaders open new ideas new packaging change enough hearts minds initiate serious energy policy tame deficit",
           "barack obama"
          ],
          [
           "urgent concern regarding support provided american citizens overseas including seeking return united states",
           "cory booker"
          ],
          [
           "getting started buckle going insane year full seriously crazy shit ff ff",
           "dave grohl"
          ],
          [
           "actually pass bill get state budget hope federal government going apologize people state",
           "andrew cuomo"
          ],
          [
           "youth program grew kids lot senior group",
           "brad sherman"
          ],
          [
           "continuity makes difference world",
           "chris lu"
          ],
          [
           "joe biden anything doomed",
           "chris dodd"
          ],
          [
           "looking revenue shortfall billion billion billion response virus probably already cost us billion",
           "andrew cuomo"
          ],
          [
           "boy close six million people medicaid one every three something proud",
           "andrew cuomo"
          ],
          [
           "deep hit communities",
           "andrew gillum"
          ],
          [
           "cannot lose steam middle fight",
           "jay inslee"
          ],
          [
           "biggest difference strong reneserve got several savings funds",
           "patricia lundstrom"
          ],
          [
           "jumps like last time advantage",
           "michael finn"
          ],
          [
           "russians coming squeaked",
           "adam schiff"
          ],
          [
           "think next step public service announcements think need apologize",
           "tina orwall"
          ],
          [
           "gotten impression campaign hard time connecting voters south carolina",
           "mandy powers norrell"
          ],
          [
           "nearly points popular current guy white house",
           "amy klobuchar"
          ],
          [
           "going see capacity health system",
           "andrew cuomo"
          ],
          [
           "politically interfere science tend make mistake",
           "andrew cuomo"
          ],
          [
           "course thinking family everyone going impacted mourning",
           "pete buttigieg"
          ],
          [
           "physical distancing working ca flattening curve continue progress continue stay home practice physical distancing power literally save lives stop",
           "gavin newsom"
          ],
          [
           "team working around clock expand capacity systems respond increased need employment benefits",
           "suzi levine"
          ],
          [
           "person votes become nominee",
           "bernie sanders"
          ],
          [
           "get raise going kick immediately",
           "ned lamont"
          ],
          [
           "stay focused people",
           "tim walz"
          ],
          [
           "told tougher gun laws stop murders stop every deranged individual getting weapon shooting innocent people public places evidence shows stop killings save families heartbreak helpless us stand insist holding public officials accountable changing gun laws tragedies keep happening",
           "barack obama"
          ],
          [
           "seeing fruit efforts reduction burglary property crime lot work",
           "sam liccardo"
          ],
          [
           "real said said said said say",
           "stephen colbert"
          ],
          [
           "came watch game london manager time one spice girls sporty spice knew obviously pretty big time establishing manchester united team time favourite spice girl",
           "jimmy fallon"
          ],
          [
           "letting piece paper voter registration form stand way allowing citizens participate democracy eligible vote able vote voters jump though hoops exercise fundamental rights automatic voter registration serves eliminate one biggest hoops helps bring people democracy",
           "betsy gotbaum"
          ],
          [
           "anybody suggests point ending campaign telling truth",
           "bernie sanders"
          ],
          [
           "one feels much",
           "john krasinski"
          ],
          [
           "equal rights amendment long overdue continue work colleagues advocates push enactment following ratification virginia original co sponsor h j resolution currently co sponsors clarifies amendment take effect",
           "jan schakowsky"
          ],
          [
           "exactly hoped",
           "steve bullock"
          ],
          [
           "response virus required tremendous response state communities far exceeds resources currently available us",
           "tony evers"
          ],
          [
           "affected ability conduct immigration raids across city exactly intention make sure police department seen legitimate force communities",
           "lori lightfoot"
          ],
          [
           "lifetime almost invariably republican presidents added deficit trillion dollars president",
           "pete buttigieg"
          ],
          [
           "meteoric career elected public service",
           "jay inslee"
          ],
          [
           "barr told senators plans use regulatory process change fisa court response",
           "bernie sanders"
          ],
          [
           "allow witness document witnesses documents impeachment trial perfidy grand tragedy one worst tragedies senate ever overcome america remember day unfortunately senate live responsibilities senate turned away truth went along sham trial president acquitted witnesses documents acquittal value americans know trial real trial witnesses documents tragedy large scale",
           "chuck schumer"
          ],
          [
           "everything",
           "jennifer lopez"
          ],
          [
           "president lawyers contest facts talking demand see full record",
           "jason crow"
          ],
          [
           "maybe went vote morning without knowing",
           "amy klobuchar"
          ],
          [
           "cost things elevating fast",
           "greg fischer"
          ],
          [
           "hb provides military spouses dependent family members expedited licenses occupations",
           "michelle lujan grisham"
          ],
          [
           "like talk running billionaire calls woman fat broads horse faced lesbians talking donald trump talking mayor bloomberg",
           "elizabeth warren"
          ],
          [
           "couch oprah laid could move going doctor time getting whole body x rayed mri everything waiting someone tell something wrong like tell herniated disc something find anything frustrating",
           "lady gaga"
          ],
          [
           "described modern take whodunit murder mystery",
           "jamie lee curtis"
          ],
          [
           "know funny thing years ago today mayor race burlington vermont race odds everybody said done began race presidency everybody said done",
           "bernie sanders"
          ],
          [
           "definitely quality life issue long term public health issue",
           "jack conway"
          ],
          [
           "defeating trump starts uniting behind candidate best shot",
           "joe biden"
          ],
          [
           "wrinkles harder looks",
           "jennifer aniston"
          ],
          [
           "crystal clear people",
           "jay costa"
          ],
          [
           "frantic efforts lobbyists stripes get piece",
           "ro khanna"
          ],
          [
           "look broader issues reconciliation native hawaiian people state hawai united states america develop road map reconciliation issue",
           "governor david ige"
          ],
          [
           "endanger moderate democrats house senate",
           "bernie sanders"
          ],
          [
           "clear covid going us long time months weeks",
           "ralph northam"
          ],
          [
           "hate tennis hate dark secret passion always",
           "andre agassi"
          ],
          [
           "adults going quarters",
           "jamie dimon"
          ],
          [
           "point looks like iran trying deescalate",
           "ruben gallego"
          ],
          [
           "working president orders",
           "val demings"
          ],
          [
           "one four bridge housing centers open underway district making council district four one top districts bridge housing",
           "david ryu"
          ],
          [
           "one many steps take expedite process requiring insurers cover cost covid vaccine becomes available coverage could help folks access treatment offer economic relief families glad help introduce bipartisan effort work move forward",
           "tina smith"
          ],
          [
           "dont really know im right feel like might",
           "jessica alba"
          ],
          [
           "everyone marketing department",
           "james lewis"
          ],
          [
           "lot greats amazing career players go sunset know come around occasions",
           "eric garcetti"
          ],
          [
           "vulnerable populations taking precaution",
           "andrew cuomo"
          ],
          [
           "signature legislation heads president desk",
           "nancy pelosi"
          ],
          [
           "new revenue come general fund going cut medicaid spending fund roads going happen",
           "kc becker"
          ],
          [
           "looking thing",
           "phil murphy"
          ],
          [
           "kauai continues lowest increase new covid cases state pattern threatened certain activities",
           "derek kawakami"
          ],
          [
           "interesting see judge simply dismiss unfounded ruling schumer public statement mere political hyperbole even chief justice united states supreme court said schumer statement threatening dangerous let sit back watch two tier legal system work schumer threat draw law enforcement attention would attract tweeted statement couple highly placed officials judicial branch",
           "charles schumer"
          ],
          [
           "massachusetts better",
           "joseph p. kennedy iii"
          ],
          [
           "get wrong conan agree lot says lot like percent says like guy gets like way says crass",
           "sarah silverman"
          ],
          [
           "wrote provision president major figure government cabinet senate congressmen majority control company get grants loans makes sense us write law benefit law",
           "chuck schumer"
          ],
          [
           "making day day assessment date affects washington state",
           "jay inslee"
          ],
          [
           "administration cut social security medicare benefits period expand",
           "joe biden"
          ],
          [
           "allow go away team like compete high level opportunity showcase crew chief driver talent team talent building fast race truck leveled playing field think going see lot really good stories lot really good race car drivers going opportunity go run top five go run top going create stories names maybe household names see every single week going make competition better",
           "david pepper"
          ],
          [
           "ukrainian president immediately assent president trump withheld two official acts induce ukrainian leader comply head state meeting military funding president trump withheld hundreds millions dollars military aid strategic partner war russia secure foreign help election words cheat",
           "val demings"
          ],
          [
           "would make pay pay",
           "jimmy fallon"
          ],
          [
           "got tired looking tired wish like love older faces love lived faces",
           "jane fonda"
          ],
          [
           "intend use driver license form real id homework visit drive ky gov confidentky learn proof document options strict requirements",
           "jim gray"
          ],
          [
           "understand facts logic still incredibly difficult number face",
           "andrew cuomo"
          ],
          [
           "talking counterparts london stockholm",
           "polly trottenberg"
          ],
          [
           "one reasons let forget many airlines short cash right spent billions stock buybacks money send saving rainy day workers customers",
           "chuck schumer"
          ],
          [
           "believe need stop completely practice taking someone license away afford pay fines fees woodward bill gets us direction believe need larger bill",
           "leslie herod"
          ],
          [
           "giving list legislature things prioritizing tier tier tier situation evolves trying move",
           "tim walz"
          ],
          [
           "really hoping get likes get followers never going feel good matter many get million followers instagram feel good cause want million",
           "joseph gordon-levitt"
          ],
          [
           "new food institute aggie square create new opportunities students farms city",
           "darrell steinberg"
          ],
          [
           "time us work together get fiscal house order strengthen social security medicare invest modernizing infrastructure",
           "ben mcadams"
          ],
          [
           "somehow another major country earth",
           "bernie sanders"
          ],
          [
           "slush fund boost favored companies corporate executives continue pull huge paychecks fire workers",
           "elizabeth warren"
          ],
          [
           "actually true",
           "joe biden"
          ],
          [
           "must rise unite party country behind candidate reflects decency dignity american people ultimately defeat donald trump donald john trump biden racks union endorsements ahead crucial primaries cpac attendee tests positive coronavirus biden campaign unveils biggest ad purchase cycle",
           "sen. kamala harris"
          ],
          [
           "one arrogant billionaire another",
           "elizabeth warren"
          ],
          [
           "moment",
           "hakeem jeffries"
          ],
          [
           "lifted campaign shoulders",
           "joe biden"
          ],
          [
           "bit tired like colds body aches",
           "tom hanks"
          ],
          [
           "caught used powers office obstruct investigation misconduct",
           "adam schiff"
          ],
          [
           "administration screwed response",
           "adam schiff"
          ],
          [
           "trick guts take healthcare industry funding vice president campaign courage take executives prescription drug industry funding campaign",
           "bernie sanders"
          ],
          [
           "organizer chief",
           "bernie sanders"
          ],
          [
           "know student council nyu make accessible talk often",
           "troy kelley"
          ],
          [
           "worked odd jobs got good hunting",
           "ben affleck"
          ],
          [
           "decision move forward west ashley middle school plans proposed ballot question would place unnecessary strain facilities c e williams middle school adding additional students facility built",
           "leon stavrinakis"
          ],
          [
           "top ranking intelligence people military people one word mentioned",
           "bernie sanders"
          ],
          [
           "",
           "president bill clinton"
          ],
          [
           "restore voting rights immediately",
           "nikki fried"
          ],
          [
           "decision take lightly right thing health well washington families",
           "jay inslee"
          ],
          [
           "living near poverty line looking choice unpaid parking tickets kid medicine family next meal well choice",
           "j.b. pritzker"
          ],
          [
           "think best thing would prevent loss life",
           "nancy pelosi"
          ],
          [
           "tell know coincidence recent uptick attacks iranian aligned houthis yemen started right soleimani killing",
           "chris murphy"
          ],
          [
           "back say impeachment abuse power",
           "jerrold nadler"
          ],
          [
           "morning trump took twitter say esper page",
           "stephen colbert"
          ],
          [
           "look done every race every place every time reddest districts suburban areas rural areas",
           "amy klobuchar"
          ],
          [
           "impeachment president violated oath office undermined national security jeopardized integrity elections",
           "nancy pelosi"
          ],
          [
           "make sure ready potential second surge",
           "patty murray"
          ],
          [
           "make mistake men victims to0",
           "eric garcetti"
          ],
          [
           "trials trades witnesses",
           "adam schiff"
          ],
          [
           "teacher mesothelioma",
           "randi weingarten"
          ],
          [
           "know live society people distracted paying attention phones instead literally right front real safety challenge",
           "mike schlossberg"
          ],
          [
           "need means sending troops work cannot solved militarily",
           "bernie sanders"
          ],
          [
           "amazing gathering best women planet earth",
           "gwyneth paltrow"
          ],
          [
           "creating supportive community others facing similar challenges",
           "michelle obama"
          ],
          [
           "could provoke war iran",
           "ilhan omar"
          ],
          [
           "get three states agree one one plan hard",
           "andrew cuomo"
          ],
          [
           "informed would running president meeting showed greatest respect encouragement always",
           "tulsi gabbard"
          ],
          [
           "updating agencies technology mark43 increase efficiency convenience public safety personnel makes every day safer residents lehigh county",
           "jim martin"
          ],
          [
           "want tell justice kavanaugh justice gorsuch released whirlwind pay price know hit go forward awful decisions",
           "chuck schumer"
          ],
          [
           "hopeful last iowa caucus",
           "jared polis"
          ],
          [
           "trayvon martin would today may 25th birthdays stolen us white supremacy gun violence fear",
           "pete buttigieg"
          ],
          [
           "think people enormous capacity self delusion think going",
           "pete buttigieg"
          ],
          [
           "talk whether much point viable speculative actual viable threat already fired community goal point stop threat",
           "sim gill"
          ],
          [
           "deep sense gratitude every single person moved little notion president united states look like",
           "elizabeth warren"
          ],
          [
           "truth left wing bias",
           "stephen colbert"
          ],
          [
           "imply remember desired opening academy awards year kind joking regarding",
           "jake gyllenhaal"
          ],
          [
           "one moral imperative world right",
           "james carville"
          ],
          [
           "bound nondisclosures cannot speak says nothing hide sign blanket release let women speak tell stories way tell story without fear going sued billionaire",
           "elizabeth warren"
          ],
          [
           "getting specific questions imminent threat able answer questions",
           "chris murphy"
          ],
          [
           "absolutely brainer clearly want coalesce behind one candidate",
           "elena parent"
          ],
          [
           "played appeal leaving politics gave little encouragement possible bid",
           "joe biden"
          ],
          [
           "focusing people health political gamesmanship right",
           "jay inslee"
          ],
          [
           "tonight show team also deserves mad props mere idea executing immensely impressive",
           "jimmy fallon"
          ],
          [
           "hide behind airwaves huge airwave buys",
           "amy klobuchar"
          ],
          [
           "use facetime like app able give testimony without coming person",
           "eric garcetti"
          ],
          [
           "argument president says illegal failed richard nixon forced resign",
           "adam schiff"
          ],
          [
           "new terrain nothing like ever happened",
           "nina turner"
          ],
          [
           "see lasts one reminder freedom breakup routine even lot concern valuing chance home chance spend time chasten sends greetings even gear going difficult time hope also able concentrate matters life",
           "pete buttigieg"
          ],
          [
           "concerned message says revolution must status quo think leaves people",
           "pete buttigieg"
          ],
          [
           "state city ithaca",
           "svante myrick"
          ],
          [
           "hateful people aimed houses worship",
           "chuck schumer"
          ],
          [
           "broken barriers others even dream",
           "bernie sanders"
          ],
          [
           "want salute forward looking leadership",
           "jared polis"
          ],
          [
           "shall violation act party within chain distribution consumer goods services sell offer sell goods services amount represents unconscionably excessive price",
           "josh shapiro"
          ],
          [
           "except medically necessary",
           "andrew cuomo"
          ],
          [
           "people talking running marathon 20th",
           "marty walsh"
          ],
          [
           "going giving constant updates area tremendous concern obviously talked initial group inmates reviewed release ongoing situation rapid one working closely police commissioner officials obviously correction leadership determine proper approach humane responsive crisis",
           "bill de blasio"
          ],
          [
           "new u plan undercuts prospects peace israelis palestinians implemented plan doom viable solution long running conflict two state solution",
           "president jimmy carter"
          ],
          [
           "complex issues dealing right simple solve would solved already",
           "leslie richards"
          ],
          [
           "serving constitution rather monstrous child white house",
           "stephen colbert"
          ],
          [
           "get email chris martin man world treasure",
           "john krasinski"
          ],
          [
           "trump repeatedly tried nickel dime federal programs essential health security",
           "elizabeth warren"
          ],
          [
           "years germany great britain france shared major responsibilities nations effort try move directions",
           "john kerry"
          ],
          [
           "controlled handful corporations",
           "bernie sanders"
          ],
          [
           "fundamental problem crazy acknowledge climate deniers",
           "frank pallone"
          ],
          [
           "would kind thing comes conversation trying put alibi",
           "adam schiff"
          ],
          [
           "official report directly contradicts president false assertion attacked iran prevent imminent attack united states personnel embassies",
           "eliot engel"
          ],
          [
           "think far whole prison thing goes know kim kardashian call please",
           "kim kardashian west"
          ],
          [
           "win win everyone demand clean energy throughout country mandated people citizens different navajo nation young population nation demanding us better stewards land renewable energy way forward",
           "jonathan nez"
          ],
          [
           "guys help us student loan debt would like answer first",
           "maxine waters"
          ],
          [
           "going increase personal taxes",
           "bernie sanders"
          ],
          [
           "help committees begin transform san francisco da office one works everyone",
           "chesa boudin"
          ],
          [
           "still day accurate estimate true number cases",
           "president barack obama"
          ],
          [
           "leader mcconnell regrettably almost inexplicably decided send everyone home call back today",
           "chuck schumer"
          ],
          [
           "support 2nd amendment firearms",
           "ralph northam"
          ],
          [
           "kobe meet going beer run",
           "jimmy fallon"
          ],
          [
           "strip million people health insurance",
           "bernie sanders"
          ],
          [
           "fact willing cancel various rallies suggests willing place even ardent supporters risk",
           "jackie speier"
          ],
          [
           "marathon conference calls video conferences local leaders advocates organizations front lines covid fight",
           "ayanna pressley"
          ],
          [
           "knew lifelong republicans voted liked style",
           "barack obama"
          ],
          [
           "long protracted battle biden mathematically assured winning could hurt biden help trump especially bernie sanders supporters dig bernie harder biden mobilize vote november",
           "joe biden"
          ],
          [
           "look around looks like got somewhere around four generations present right",
           "cheri bustos"
          ],
          [
           "time going chaos going anarchy life going go different life going go",
           "andrew cuomo"
          ],
          [
           "wow amount texts gotten tiger king since tweeted mentioned belief carol killed husband",
           "kim kardashian"
          ],
          [
           "biden plan calls issuing guidance states localities ensure first responders public health officials prioritized receive protective personal equipment launching education campaign inform general public equipment reserved professionals",
           "joe biden"
          ],
          [
           "petty promises little girls going wait four years",
           "elizabeth warren"
          ],
          [
           "black woman chair abortion access task force invite come hill say face would welcome opportunity educate",
           "ayanna pressley"
          ],
          [
           "precious limited amount green space left community use make sure protecting preserving pier pier carefully balancing park financial needs protection green space",
           "andrew cuomo"
          ],
          [
           "think wrong think necessary",
           "bill de blasio"
          ],
          [
           "sick ever",
           "ben mcadams"
          ],
          [
           "time protections give workers foundation economy",
           "jennifer mcclellan"
          ],
          [
           "wonder view challenging hillary went commanding lead",
           "joe biden"
          ],
          [
           "popular say makes look like cool new comer",
           "amy klobuchar"
          ],
          [
           "president trump washington republicans passed massive corporate tax giveaway wealthy big corporations leaving middle class north carolina families struggling keep rapidly rising cost living",
           "wayne goodwin"
          ],
          [
           "see new york far away bulk problem",
           "andrew cuomo"
          ],
          [
           "like come many different kinds milk",
           "kim kardashian"
          ],
          [
           "see situation extension dates",
           "tim walz"
          ],
          [
           "present confirmed cases covid among unsheltered population taking major preventive steps outline help ensure remains case",
           "libby schaaf"
          ],
          [
           "small special ops intelligence capability part multilateral efforts places like afghanistan",
           "pete buttigieg"
          ],
          [
           "going take longer people expected",
           "j.b. pritzker"
          ],
          [
           "based week ago defied expectations",
           "amy klobuchar"
          ],
          [
           "hey interest ones interest lost tour dates rush touring history",
           "skip daly"
          ],
          [
           "ordinances similar l used sit lie really work move people around city",
           "steve adler"
          ],
          [
           "need leaders represent best parts trying defending middle class",
           "elissa slotkin"
          ],
          [
           "accomplishments responsibilities dignity indicative african americans",
           "diana richardson"
          ],
          [
           "ventilator issue came",
           "governor john bel edwards"
          ],
          [
           "wrong able defeat hate",
           "joe biden"
          ],
          [
           "new hampshire want guys help vote win primary november",
           "amy klobuchar"
          ],
          [
           "start planning restarting life yet light switch flick one day everything goes back normal",
           "andrew cuomo"
          ],
          [
           "gotten ventilators right struggling enough next week",
           "bill de blasio"
          ],
          [
           "feel like pretty clear perspective take win",
           "rashida tlaib"
          ],
          [
           "kobe life force",
           "jimmy fallon"
          ],
          [
           "president acquitted innocent senators vote party votes",
           "adam schiff"
          ],
          [
           "say two things thing surprised win clemson legendary say everywhere go wear block meet somebody syracuse went syracuse know big network cool definitely enjoyed time",
           "charles robinson"
          ],
          [
           "promise president better prepared respond better recover better lead science",
           "joe biden"
          ],
          [
           "love thy neighbor worked tirelessly behalf least among us difficulty adversity misery find joan wheel trying make things better joan sees people invisible others believes everyone counts made better mayor better person",
           "virgil bernero"
          ],
          [
           "every option table ensure health safety richmonders",
           "levar stoney"
          ],
          [
           "american people deserve better cruel corporate run healthcare system bankrupts people getting sick need medicare",
           "bernie sanders"
          ],
          [
           "commit elected opportunity appoint someone court appoint first black woman court",
           "joe biden"
          ],
          [
           "even disturbing us florida governor seems taking orders president governor believe serves people florida rather kowtow president",
           "donna shalala"
          ],
          [
           "wanted changed minds",
           "stephen reinhardt"
          ],
          [
           "going bring back new york greatness people came expect",
           "andrew cuomo"
          ],
          [
           "emergency declaration funding services split percent federal government percent state government also requesting president waive percent cannot pay percent literally funding way believe state position pay percent",
           "andrew cuomo"
          ],
          [
           "come man heard liked",
           "joe biden"
          ],
          [
           "youth vaping epidemic federal government going act protect kids san francisco",
           "dennis herrera"
          ],
          [
           "would hope spirit teamwork see incursions members",
           "gregory meeks"
          ],
          [
           "fucking rad",
           "dave grohl"
          ],
          [
           "public school dollars stay public schools period",
           "elizabeth warren"
          ],
          [
           "provided relief flexibility families may choice mortgage future taking early distributions retirement accounts forced desperate financial situation crisis",
           "patty murray"
          ],
          [
           "bottom line people good people want help always going greedy people try steal money",
           "josh stein"
          ],
          [
           "number inbound requests getting esg skyrocketing",
           "larry fink"
          ],
          [
           "public health crisis accompanied massive economic disruption unprecedented modern history",
           "j.b. pritzker"
          ],
          [
           "going best release results soon possible north star accuracy",
           "tom perez"
          ],
          [
           "extremely important every member equal voice equal opportunity decisions",
           "bruce kraus"
          ],
          [
           "still roughly months convention",
           "tom perez"
          ],
          [
           "need better job city make people feel safe mom undocumented period time know like live fear",
           "ayanna pressley"
          ],
          [
           "one pink slip one medical diagnosis away",
           "elizabeth warren"
          ],
          [
           "delighted kaimana lead advancement team",
           "maureen madden"
          ],
          [
           "think woman feels assaulted every right world stand make claims",
           "bernie sanders"
          ],
          [
           "must beginning another endless war",
           "pete buttigieg"
          ],
          [
           "defense really effort",
           "chris smith"
          ],
          [
           "pointing lack diversity",
           "claire mccaskill"
          ],
          [
           "growing skepticism hear democrat voters primary carried fair way voters get information need make best choice democratic nominee ultimately next president commander chief",
           "tom perez"
          ],
          [
           "either revolution got status quo nothing",
           "pete buttigieg"
          ],
          [
           "told mike complimentary governor governor snake ok inslee said nice take advantage would said let tell lot problems governor governor washington mike may happy",
           "jay inslee"
          ],
          [
           "administration must stop reckless decisions without proper consultation congress",
           "marc veasey"
          ],
          [
           "perhaps dumbest takes left came form asserting trump benghazi fact news media seemed actively hoping praying devolve american lives gives opening attack trump",
           "elizabeth warren"
          ],
          [
           "gon na beat trump beat badly",
           "bernie sanders"
          ],
          [
           "thinking april thinking today battle ahead us",
           "steve bellone"
          ],
          [
           "need better define strategy investment systems",
           "peter visclosky"
          ],
          [
           "important end marijuana prohibition soon possible also important done right way",
           "liz krueger"
          ],
          [
           "individual influencers able post interests earn extra money side cause major concern companies launder advertising paying influencer pretend endorsement review untainted financial relationship illegal payola",
           "rohit chopra"
          ],
          [
           "things immediacy",
           "richard neal"
          ],
          [
           "though must distancing protect opportunity self quarantine stay connected remember lonely isolated facetime skype make video remember love travel",
           "blake lively"
          ],
          [
           "much easier protect save species threatened species fully endangered",
           "annie kuster"
          ],
          [
           "catholic church",
           "angela romero"
          ],
          [
           "really great time situations able provide good time adopt foster really important talk financial responsibility strain pet cause family financially challenging time best way draw attention man best friend bring best friend duo always encouraged people best right",
           "miley cyrus"
          ],
          [
           "cannot must get drawn war iran",
           "edward markey"
          ],
          [
           "home marked served fcc maps today next decade",
           "jessica rosenworcel"
          ],
          [
           "future happens inside us",
           "gavin newsom"
          ],
          [
           "bloomberg billionaire history harassing women",
           "elizabeth warren"
          ],
          [
           "know president trump violated oath asking foreign interference jeopardizing integrity elections putting national security risk attempting cover wrongdoing",
           "veronica escobar"
          ],
          [
           "history teaches us hope side grave lifetime longed tidal wave justice rises hope history rhyme",
           "joe biden"
          ],
          [
           "good choice want know another one",
           "joe biden"
          ],
          [
           "cannot usual wanted something would draw attention support greta thunberg student activists raise sense urgency wanted show leave comfort zone get used street",
           "jane fonda"
          ],
          [
           "going backward black voters",
           "nina turner"
          ],
          [
           "stay home keep distance get huge spike right number people getting sick however see huge spike however number people finally cleaning stoves",
           "stephen colbert"
          ],
          [
           "core principle simple public health officials must ones making public health decisions",
           "joe biden"
          ],
          [
           "campaign make lot promises talk wide range issues elected work accomplishing goals sequenced everything",
           "chesa boudin"
          ],
          [
           "remember last sotu iconic handclap take away one ripping speech without saying damn word trump lies",
           "george takei"
          ],
          [
           "done figure need revenue bring us level",
           "cathy osten"
          ],
          [
           "unsanitary conditions ways animals kept cruel inhumane",
           "michael gianaris"
          ],
          [
           "whole political climate think really needs change",
           "pete buttigieg"
          ],
          [
           "election much choice democratic republican president right left right wrong moral moment moral vandal white house right may win day win nation american going find way regroup heal moral nation know",
           "cory booker"
          ],
          [
           "wish still senate know able impact things hope nominee democratic party hope able get message across go forward",
           "joe biden"
          ],
          [
           "ask five years ago would inspiration many others would push others needed find way would laughed face chubby one way",
           "kim kardashian"
          ],
          [
           "hospital health facility",
           "gavin newsom"
          ],
          [
           "embarrassed institution",
           "joe biden"
          ],
          [
           "right need look get healthcare economic crisis",
           "ron stollings"
          ],
          [
           "son sit one ice baths two minutes started years old yeah lot",
           "gwyneth paltrow"
          ],
          [
           "president right use governmental resources offices exact revenge us citizens",
           "jamie raskin"
          ],
          [
           "american jew terrified unholy alliance aipac forming islamaphobes anti semites white nationalists democrat legitimize kind bigotry attending annual policy conference",
           "elizabeth warren"
          ],
          [
           "far concerned shredder available needed",
           "hakeem jeffries"
          ],
          [
           "going get young people lot involved political process",
           "bernie sanders"
          ],
          [
           "seven white people stage talking racial justice",
           "pete buttigieg"
          ],
          [
           "views impeachment cannot based vague open ended terms like abuse power obstruction congress",
           "alan dershowitz"
          ],
          [
           "given fact additional information coming practically every single day believe lot republican senators saying vote witnesses documents information comes later people say used process fair",
           "ron wyden"
          ],
          [
           "spent past three years accepting reality bunch people voted obama twice voted trump hard call nazis listen addition constituencies figured needed might position trump run",
           "van jones"
          ],
          [
           "much daylight us council",
           "jenny durkan"
          ],
          [
           "secures two weeks paid sick leave paid medical leave affected virus",
           "nancy pelosi"
          ],
          [
           "going get fight bernie bernie got enough baggage",
           "joe biden"
          ],
          [
           "president really failure iranian policy larger strategic plan made region less stable less safe americans countries",
           "cory booker"
          ],
          [
           "lot republicans reluctant vote rules changes moment many assured open",
           "jim mcgovern"
          ],
          [
           "given likelihood fairly severe recession necessary build credit reserves",
           "jamie dimon"
          ],
          [
           "able get votes bring think lot people talking points actually receipts",
           "amy klobuchar"
          ],
          [
           "abandon people time need",
           "morgan mcgarvey"
          ],
          [
           "end day whether somebody goes peteforamerica com chips bucks whether somebody comes event maybe surgeon contribute without much skin back want part effort",
           "pete buttigieg"
          ],
          [
           "also calling congress formulate third economic stimulus package includes components protect assist economic well hospitality industry employees self employed small businesses",
           "jimmy panetta"
          ],
          [
           "stand",
           "joe biden"
          ],
          [
           "kick us democracy helped build",
           "tammy duckworth"
          ],
          [
           "every ounce progress together line",
           "president obama"
          ],
          [
           "hate way bonding place things priorities",
           "ned lamont"
          ],
          [
           "starr helm entire period time",
           "jim dunnam"
          ],
          [
           "want sugar coat today day seared memory",
           "eric garcetti"
          ],
          [
           "sen sanders supporters",
           "joe biden"
          ],
          [
           "hundreds people put stage together seven minutes",
           "jimmy fallon"
          ],
          [
           "amboy road eltingville great kills yellow plastic things placed wires street level maybe electrical wires",
           "andrew cuomo"
          ],
          [
           "stop talking",
           "joe biden"
          ],
          [
           "employer take away",
           "joe biden"
          ],
          [
           "may someone fire vote candidate really really support knows candidate even race march sense people hedging bets waiting little bit",
           "steve simon"
          ],
          [
           "remains difficult figure going plug hole",
           "rafael anchia"
          ],
          [
           "calm demeanor fact good people around listens",
           "pete buttigieg"
          ],
          [
           "preserve benefits find billion savings",
           "andrew cuomo"
          ],
          [
           "little counterintuitive would think people live paycheck paycheck would desperate get back work seeing exactly opposite",
           "andrew ginther"
          ],
          [
           "socialist supports government takeover healthcare open borders",
           "bernie sanders"
          ],
          [
           "team know team know team",
           "andrew cuomo"
          ],
          [
           "know people tough time see every day plenty friends talk served private sector public sector one industries hardest hit unaware things",
           "george latimer"
          ],
          [
           "future president trump envisions nation",
           "john yarmuth"
          ],
          [
           "speak phone hours ago",
           "bernie sanders"
          ],
          [
           "serious campaign",
           "bernie sanders"
          ],
          [
           "beginning middle end big deal",
           "nancy pelosi"
          ],
          [
           "raising four black children could face situation like people help",
           "kim kardashian west"
          ],
          [
           "idea zero percent bonds assurance keep folks payroll",
           "elizabeth warren"
          ],
          [
           "need president committed ally white house share fight strong working class fair wages",
           "kristin boggs"
          ],
          [
           "stupid love sounds heavenly idc belting soul synths head voice ad libs know better song",
           "lady gaga"
          ],
          [
           "coupled changes ordered courts today ensure reserving courts jails need",
           "joe hogsett"
          ],
          [
           "obviously heavily supported corporate establishment",
           "bernie sanders"
          ],
          [
           "spent millions dollars came fifth",
           "jeff greene"
          ],
          [
           "one things seems stay people",
           "karen fraser"
          ],
          [
           "need boastful boastful regards teaching others may able help well",
           "kim kardashian west"
          ],
          [
           "advisers say yeah probably happen anyway",
           "elizabeth warren"
          ],
          [
           "apologize going",
           "annette taddeo"
          ],
          [
           "dad everything passion",
           "bill mcchesney"
          ],
          [
           "made mockery democracy participation cover forever stain legacy",
           "raul grijalva"
          ],
          [
           "dealing ebola virus dealing sars virus",
           "andrew cuomo"
          ],
          [
           "budget guards virginia triple bond rating advancing equity opportunity across commonwealth",
           "luke torian"
          ],
          [
           "believe first course action congress take immediate steps restrain president trump plunging nation yet another endless war",
           "bernie sanders"
          ],
          [
           "going put putin right face",
           "maxine waters"
          ],
          [
           "issue causing lot alarm community",
           "michele smith"
          ],
          [
           "think reminded home struck chord heart",
           "katy perry"
          ],
          [
           "would like able test anybody shows signs need tested anybody would like test",
           "j.b. pritzker"
          ],
          [
           "would like dedicate award william darrid diana douglas darrid anne douglas kirk douglas",
           "michael douglas"
          ],
          [
           "think anyone knows big",
           "sheryl sandberg"
          ],
          [
           "unfortunately tragically officer kevin valencia injured severely lindsey discharging firearm door inside apartment resulted unsuccessful execution forced entry authorized door sergeant white",
           "nick collins"
          ],
          [
           "specifically company believes continue post earnings growth high teens versus expectations would slow low mid teens",
           "james tierney"
          ],
          [
           "also need engineers supporting infrastructure adds another five years process",
           "gregory jaczko"
          ],
          [
           "wrote bill",
           "joe biden"
          ],
          [
           "beginning beat virus back",
           "phil murphy"
          ],
          [
           "going go outside man",
           "joe biden"
          ],
          [
           "important amenity guests asking many years forefront fight past eight years try get legislation passed allow alcohol served theater auditoriums",
           "kathy hochul"
          ],
          [
           "well think main thing focus distribution kind harm done",
           "pete buttigieg"
          ],
          [
           "course teaching unique christian tradition big part holds treat others would treated",
           "pete buttigieg"
          ],
          [
           "senior citizen income used",
           "robert rubin"
          ],
          [
           "gifted speaker demonstrates impressive command policy nuances offers refreshing common ground approaches",
           "pete buttigieg"
          ],
          [
           "good model bipartisan signed president enough",
           "nancy pelosi"
          ],
          [
           "oh sure sean thank playing millions viewers people get see mike bloomberg really",
           "bill de blasio"
          ],
          [
           "rise today recognition orly munzing extraordinary vermonter longtime advocate family farms resilient communities",
           "bernie sanders"
          ],
          [
           "walked line really well hard",
           "joe biden"
          ],
          [
           "ann pearl hudson fighter survived great depression raised kids seamstress making g strings showgirls characters vegas",
           "katy perry"
          ],
          [
           "rather sinister breach contract light financial strain felt many members challenging unprecedented time",
           "maura healey"
          ],
          [
           "want get trump unify around democratic candidate number two unify around person best shot turning democratic base winning states across country",
           "pramila jayapal"
          ],
          [
           "attributing wednesday attacks iranian backed militia groups trump administration must admit efforts deter iranian aggression failing american service members paying ultimate sacrifice",
           "robert menendez"
          ],
          [
           "first african american woman serve mayor san francisco",
           "london breed"
          ],
          [
           "offer sincere congratulations dr marla perez davis named nasa glenn permanent director",
           "marcy kaptur"
          ],
          [
           "every time country faces crisis real perceived rush congress pass massive bills go far beyond responding matter hand phonebook sized use anachronism emergency acts long detailed legislator read fully comprehend bet stuffed gimmicks giveaways sweetheart deals ill advised policies bearing crisis",
           "nancy pelosi"
          ],
          [
           "heart democratic party people color",
           "julián castro"
          ],
          [
           "means governor may page come first want make sure",
           "kyle mullica"
          ],
          [
           "directing residents stay hom e",
           "phil murphy"
          ],
          [
           "allows funding crisis counseling emergency protective measures however unlock many forms assistance requested help hurting washingtonians",
           "jay inslee"
          ],
          [
           "american mourn solemani passing",
           "joe biden"
          ],
          [
           "rule vast expansion public charge include employed individuals receive amount certain means tested benefits even brief periods time stark departure century long consensus limited term individuals primarily dependent government long term subsistence",
           "barbara d. underwood"
          ],
          [
           "something changed going back",
           "bill de blasio"
          ],
          [
           "think anyone saying presidential primary need business usual need america like donald trump got elected gon na able win election gon na able heal problems country",
           "elizabeth warren"
          ],
          [
           "would never real life",
           "jimmy fallon"
          ],
          [
           "going get everything need worried health care worried income coming",
           "bernie sanders"
          ],
          [
           "friend joe donnelly",
           "amy klobuchar"
          ],
          [
           "done puzzle could please help get constituents peru guatemala countries stuck right getting little help state department",
           "jared huffman"
          ],
          [
           "times crisis government needs retool address community needs perform compassion professionalism excellence",
           "andre quintero"
          ],
          [
           "democratic party left party democratic party center center conservative party even get floor vote medicare even floor vote gets voted left party left members inside democratic party working try make shift happen",
           "alexandria ocasio-cortez"
          ],
          [
           "way negotiate terrorists",
           "joe biden"
          ],
          [
           "yet know predictions climate accurate effects failed consider denying direction heading every government company shareholder must confront climate change",
           "larry fink"
          ],
          [
           "actions taking simplify business drive cost efficiency position expedia group improved revenue growth margin expansion years come",
           "barry diller"
          ],
          [
           "one ever done done research consultation experts informed data",
           "andrew cuomo"
          ],
          [
           "least people",
           "ralph northam"
          ],
          [
           "administration serious protecting children nicotine addiction would realize disposable e cigarettes last thing leaving market",
           "jeff merkley"
          ],
          [
           "knowledge percent churches synagogues mosques kentucky chosen right thing making sacrifice congregants knowing coronavirus spread mass gathering kentucky",
           "andy beshear"
          ],
          [
           "setting ambitious goal raising million nevada caucuses",
           "elizabeth warren"
          ],
          [
           "covid serious threat health livelihood state must treated seriously tennesseans slow spread virus keep people healthy get lives back normal soon possible",
           "bill lee"
          ],
          [
           "love wife children evident anyone spent time around",
           "jared polis"
          ],
          [
           "hip hop yoga class fucking wait promise",
           "ariana grande"
          ],
          [
           "notice criticizing president pointing disagreement proceed",
           "joe biden"
          ],
          [
           "kind came vibe",
           "john krasinski"
          ],
          [
           "mean abandon responsibilities protect defend constitution united states congressional oversight always continue",
           "nancy pelosi"
          ],
          [
           "mr kraft special man",
           "andrew cuomo"
          ],
          [
           "speak every day say feeling better better",
           "carl heastie"
          ],
          [
           "gig workers know living savings reach parents always fun somebody either fresh college late",
           "bill lee"
          ],
          [
           "remain vigilant across levels government protect people new jersey",
           "sheila oliver"
          ],
          [
           "told christian contact",
           "lady gaga"
          ],
          [
           "decided either going support someone democratic socialist somebody long history republican",
           "tom steyer"
          ],
          [
           "building simply inadequate needs",
           "chris hart"
          ],
          [
           "repeat enough extremely important us young old take extra care help protect people vulnerable serious illness older vermonters people chronic illnesses impaired immunity",
           "mark levine"
          ],
          [
           "trump right taking advantage danger right go back litigate history years ago problem right president focus happened dad",
           "ron reagan"
          ],
          [
           "depth research handbooks schools finding schools discriminatory practices quite explicit specific toward sex dynamics whether child family others also included anti trans youth policies",
           "anna eskamani"
          ],
          [
           "capacity evening contacted every county health official someone came cruise contact information begin process contact individuals",
           "gavin newsom"
          ],
          [
           "whatever takes support biden administration looking forward federal administration national strategy good times bad times",
           "michelle lujan grisham"
          ],
          [
           "spending much money yet prepared pandemic",
           "bernie sanders"
          ],
          [
           "winning democratic nomination win without black brown voters",
           "joe biden"
          ],
          [
           "going take steps need avoid catastrophic loss life",
           "jared polis"
          ],
          [
           "also going work together get everyone safely back work together get back work together",
           "ned lamont"
          ],
          [
           "prepare students democracy",
           "alan solomont"
          ],
          [
           "already seen primary elections postponed want happen november one things make safer everyone get ballots postage",
           "amy klobuchar"
          ],
          [
           "said gives great joy ingredients home cooks home",
           "eric garcetti"
          ],
          [
           "one feel suffering alone",
           "phil murphy"
          ],
          [
           "time start thinking going hold elections",
           "joe biden"
          ],
          [
           "however disappointed read reports considering forgoing relief boeing requested",
           "rick larsen"
          ],
          [
           "contrast president trump listening medical scientific experts taking every responsible precaution protect american people",
           "joe biden"
          ],
          [
           "know deeply upset think people reasonably asking moment",
           "elizabeth warren"
          ],
          [
           "fight votes new hampshire",
           "elizabeth warren"
          ],
          [
           "think universal",
           "alexandria ocasio-cortez"
          ],
          [
           "talk going emphasizes point social distancing whole parts economy shut isolating home staying home much",
           "steve bellone"
          ],
          [
           "frustrating know great need know lot misbehavior going presented tool helping deal languishes committee committee chair committee moving",
           "mary cheh"
          ],
          [
           "trusted george bush keep word said going go iraq said using unite united nations insist get inspectors see saddam",
           "joe biden"
          ],
          [
           "way artists might work oils clay true medium master",
           "alyssa milano"
          ],
          [
           "people participate democracy better way supposed work",
           "alex padilla"
          ],
          [
           "position win nomination democrats based polling",
           "bernie sanders"
          ],
          [
           "woefully short region country terms able take care folks especially surge comes way expect",
           "phil murphy"
          ],
          [
           "every day write cross hand remind tell truth right matter",
           "tom steyer"
          ],
          [
           "wealth tax table",
           "robert rubin"
          ],
          [
           "accept way aim pay money back deluded unrealistic",
           "jonathan carroll"
          ],
          [
           "affect futures",
           "kirsten gillibrand"
          ],
          [
           "healthy new yorkers little threat",
           "bill de blasio"
          ],
          [
           "idea stop sexism internet nominate woman candidate",
           "amy klobuchar"
          ],
          [
           "believe colleges going accept blood money type money people convicted crime type ever accept money anonymously",
           "lawrence lessig"
          ],
          [
           "prayers go everyone meeting important week head",
           "gavin newsom"
          ],
          [
           "shahlai imminent threat think",
           "tom malinowski"
          ],
          [
           "president failed bring fema federal emergency management agency early failed name national commander crisis failed fully utilize authorities congress gave defense production act procure manage distribution critical supplies",
           "carolyn b. maloney"
          ],
          [
           "follows years saber rattling threats war iran president trump accomplices congress must exercise constitutional duty everything power stop another disastrous war",
           "rep. ilhan omar"
          ],
          [
           "remember kid looking big picture books world war ii tears would roll cheeks",
           "bernie sanders"
          ],
          [
           "bernie sanders approve message future belong trump billionaire friends",
           "bernie sanders"
          ],
          [
           "choose get path escalation make decisions correct president recklessness keep americans safe",
           "chris murphy"
          ],
          [
           "fall love fall love another aspect consider meant putting microscope family particularly daughter",
           "rosario dawson"
          ],
          [
           "dad country singer billy ray cyrus always told life series adjustments works times like started idea going back place always meant lot",
           "miley cyrus"
          ],
          [
           "try create culture collaboration realize isolated islands sending spreadsheets",
           "mark penn"
          ],
          [
           "ethnic cleansing mass murder rape forced evacuation hundreds thousands innocent people homes",
           "bernie sanders"
          ],
          [
           "tell us anything",
           "adam schiff"
          ],
          [
           "fortunately joe biden national scene years less need advertise",
           "ed rendell"
          ],
          [
           "president failed bring fema early failed name national commander crisis failed fully utilize authorities congress gave defense production act procure manage distribution critical supplies must take action address deficiencies",
           "carolyn maloney"
          ],
          [
           "hearing people fear",
           "susan bysiewicz"
          ],
          [
           "writing new hampshire",
           "joe biden"
          ],
          [
           "congresswoman mcbath steadfast ally lgbtq community leading voice combating gun violence first term congress",
           "lucy mcbath"
          ],
          [
           "pushes incumbents adopt extremist political manifesto attempt hold seat",
           "melinda bush"
          ],
          [
           "far think three percent delegates chosen arkansas going big role candidate going",
           "amy klobuchar"
          ],
          [
           "serious affront democracy anywhere outrageous particularly within nato ally e u member",
           "eliot engel"
          ],
          [
           "men different ways really stood people needed somebody stand great friends years brings home personal way really difficult",
           "dan kildee"
          ],
          [
           "decision black white always trade offs conversations whether senior hours creating potential environment causing harm good",
           "steve bellone"
          ],
          [
           "whatever reasons followed lot issues discussed campaign think stood right wing extremism potent washington right answer asking well thing know rally american people around progressive agenda",
           "bernie sanders"
          ],
          [
           "thank never able forgive brain fart hope obviously purpose remember already said mind went completely blank brain funny things overwhelming moment life",
           "harvey weinstein"
          ],
          [
           "thank advocating mr bayard rustin pardon",
           "gavin newsom"
          ],
          [
           "project potential difference maker hawesville community proud envision modular chose kentucky investment",
           "andy beshear"
          ],
          [
           "everyone understands covid quite literally mortal threat",
           "gray davis"
          ],
          [
           "example solutions include expanding eligibility unemployment insurance expedite financial relief people terms helping small businesses solutions include funds ensure workers continue paid refundable tax credits including earned income tax credit child tax credit continue priorities members discuss cash payments days ahead",
           "nancy pelosi"
          ],
          [
           "dancechallenge leg move end",
           "jessica alba"
          ],
          [
           "gotten inside chinese leadership calculus depth understanding know really effect cost calculus near term long term investing non nuclear",
           "seth moulton"
          ],
          [
           "became even apparent yesterday currently losing delegate count strongly winning two enormously important areas determine future country",
           "bernie sanders"
          ],
          [
           "climate change almost invariably top issue clients around world raise blackrock europe australia south america china florida oregon investors asking modify portfolios",
           "larry fink"
          ],
          [
           "fighting health care pension fair wages",
           "bernie sanders"
          ],
          [
           "interest love job really",
           "gavin newsom"
          ],
          [
           "someone score settle",
           "richard neal"
          ],
          [
           "without additional aggressive measures soon hospitals overwhelmed",
           "gretchen whitmer"
          ],
          [
           "napoleon madison",
           "ken jennings"
          ],
          [
           "general principle beyond coronavirus",
           "bernie sanders"
          ],
          [
           "function science fiction always predict future sometimes prevent",
           "frank herbert"
          ],
          [
           "bill rejecting artemis program delaying nasa work get sooner",
           "kendra horn"
          ],
          [
           "right somewhere worst case scenario best case scenario",
           "gov. john bel edwards"
          ],
          [
           "weekend beaches recreational areas literally packed everyone gathering crowd place around state putting others risk",
           "ralph northam"
          ],
          [
           "would force state leaders budget responsibly around priorities transportation rather raid transportation funds",
           "mark treyger"
          ],
          [
           "strongly believe abuse power open ended half american presidents history adams jefferson lincoln roosevelt accused enemies abusing power",
           "alan dershowitz"
          ],
          [
           "bail reform get done",
           "andrew cuomo"
          ],
          [
           "utilities buy extravagant power consumers beholden utilities protest well",
           "phil murphy"
          ],
          [
           "great opportunity joint commission make change absolutely critical independence lig",
           "kelly cassidy"
          ],
          [
           "continue ramp statewide efforts address growing covid threat everything power prepare possible cases resulting impact healthcare system",
           "david ige"
          ],
          [
           "realizing songs sound little different pandemic",
           "jimmy fallon"
          ],
          [
           "wondering much would people walking around acting like auditioning role first whatever man woman",
           "rosario dawson"
          ],
          [
           "midst global pandemic people need healthcare coverage yet president denying people access affordable care act created purpose individuals without health insurance could get affordable quality coverage time healthcare system already enormous strain makes sense willingly allow even individuals go without coverage",
           "cory booker"
          ],
          [
           "trump finally admitted true motivation killing soleimani american blood hands retaliation",
           "ro khanna"
          ],
          [
           "prefer avoid low blows bait one another quite much",
           "valerie jarrett"
          ],
          [
           "unprecedented economic impact community programs residents world class sports event unforgettable particularly pleased momentum built world opportunity supplier diversity program city look forward seeing results hard work next days",
           "randall woodfin"
          ],
          [
           "must beaten stick",
           "joe biden"
          ],
          [
           "need bring world together",
           "bernie sanders"
          ],
          [
           "leaving washington ink dries paper stay work administration colleagues across aisle senate see effort success",
           "jared golden"
          ],
          [
           "measures make sense protect public also protect hunters sportsmen think need continue work",
           "art staed"
          ],
          [
           "one candidate would lie",
           "dina titus"
          ],
          [
           "bill include much money hospitals community health centers nursing homes enough funding address coming shortages masks icu beds ventilators testing personal equipment",
           "chuck schumer"
          ],
          [
           "apologize pain must infuriating deal",
           "andrew cuomo"
          ],
          [
           "women capacities leadership roles",
           "charlize theron"
          ],
          [
           "head election year republicans declared president trump free rein pressure foreign governments investigating political opponents even actions threaten national security security allies",
           "kirsten gillibrand"
          ],
          [
           "much relationship",
           "ted lieu"
          ],
          [
           "throwing close million young black men wall",
           "joe biden"
          ],
          [
           "seems gentle",
           "ruth bader ginsburg"
          ],
          [
           "public health system free point service every single person country",
           "alexandria ocasio-cortez"
          ],
          [
           "really terrifying decision want doctor nurse alone decision",
           "nancy pelosi"
          ],
          [
           "something develop overnight got inequitable system across state michigan",
           "gretchen whitmer"
          ],
          [
           "question officers work today recognizing danger community offender fleeing scene ended saving lives",
           "lori lightfoot"
          ],
          [
           "dense social networks communities save people",
           "andrew cuomo"
          ],
          [
           "conversations failed policy made clear mistake",
           "london breed"
          ],
          [
           "economic impact coronavirus spreads disproportionately hit low wage workers often live paycheck paycheck",
           "jack reed"
          ],
          [
           "mean yes",
           "polly trottenberg"
          ],
          [
           "need make sure delaware families access clean drinking water delawareans deserve clean water simple",
           "valerie longhurst"
          ],
          [
           "would move forward investigate university michigan similar allegations stonewalled later",
           "dana nessel"
          ],
          [
           "clean future act treats climate crisis like emergency also setting foundation strengthening economy creating good paying jobs clean climate resilient future",
           "frank pallone"
          ],
          [
           "inherit penny parents",
           "tom steyer"
          ],
          [
           "laptops going mean suburban kids wealthier areas kids access online learning education",
           "ned lamont"
          ],
          [
           "four five years ago seriously discussed",
           "george r. r. martin"
          ],
          [
           "first real issue going ventilators",
           "gov. john bel edwards"
          ],
          [
           "new hampshire track receive around half vote share well",
           "elizabeth warren"
          ],
          [
           "got time",
           "adam schiff"
          ],
          [
           "really make shit one would believe",
           "president obama"
          ],
          [
           "jim voice powerful powerful moral clarity",
           "joe biden"
          ],
          [
           "trying shift supplies really isolate contract tracing even enough supplies testing",
           "governor steve bullock"
          ],
          [
           "proud built",
           "cory booker"
          ],
          [
           "proud advocate like april task force staff set great example businesses could make workforce inclusive",
           "gov. john bel edwards"
          ],
          [
           "forever grateful humbled thankful",
           "thomas caltagirone"
          ],
          [
           "yesterday president trump said invoking defense production act turned around said planning use president exercise powers need ventilators protective equipment critical supplies need action words",
           "joe biden"
          ],
          [
           "still percent delegates grabs americans every part country going make voices heard",
           "elizabeth warren"
          ],
          [
           "spent lot time old dusty books prepared quite original argument based history base prior precedents two articles impeachment unconstitutional cannot stand matter law",
           "alan dershowitz"
          ],
          [
           "afl cio machinists union",
           "bernie sanders"
          ],
          [
           "know ancestors killed died uprooted land",
           "rashida tlaib"
          ],
          [
           "people sometimes progressive practical",
           "amy klobuchar"
          ],
          [
           "reminder everybody take seriously young people impacted virus",
           "gavin newsom"
          ],
          [
           "first presidential candidate come support ranked choice voting",
           "michael bennet"
          ],
          [
           "priority must avoid another costly war",
           "elizabeth warren"
          ],
          [
           "earlier year made nifty short film called playdate destiny response gratifying wanted everyone see home",
           "matt groening"
          ],
          [
           "winning popular initial vote votes",
           "bernie sanders"
          ],
          [
           "one face economic hardship quarantine prevents working",
           "andrew cuomo"
          ],
          [
           "john kennedy democrats george mcgovern democrats",
           "joe biden"
          ],
          [
           "first foremost want give heartfelt sympathies everyone affected covid pandemic deepest gratitude emergency responders healthcare workers risking health every day",
           "jennifer lawrence"
          ],
          [
           "good sense good faith",
           "jay inslee"
          ],
          [
           "whip something simple kitchen like pasta dish light candles create romantic ambiance eat",
           "blake lively"
          ],
          [
           "continue fight tirelessly protect progress chavez helped deliver ensure every worker family treated dignity respect deserve",
           "nancy pelosi"
          ],
          [
           "gives us opportunity proactive identify resources support kids find desperate situations",
           "rhonda fields"
          ],
          [
           "running ragged club stop drinking smoking start creating baby like whole body like well thanks treating nicely one day",
           "katy perry"
          ],
          [
           "sit back let live fear today signed executive order banning tax foreclosures work mitigate spread coronavirus",
           "gretchen whitmer"
          ],
          [
           "make home use go store normal social distancing possible",
           "jared polis"
          ],
          [
           "looking congressional appropriations long term wars dealt messaging documents straight politics congress rapid response p r agency serious body got treat",
           "max rose"
          ],
          [
           "sorry really know media likes issue gon na get issue senator warren somebody known years lot respect gon na go forward together feeling working together",
           "bernie sanders"
          ],
          [
           "challenge test many people going eliminate spread limit spread",
           "andrew cuomo"
          ],
          [
           "executive privilege limited privilege must claimed president time claimed executive privilege rather claimed absolute immunity nonexistent concept every court ever considered rejected instead simply said oppose subpoenas deny house information information whatever want",
           "jerrold nadler"
          ],
          [
           "going beat donald trump man knows many nondisclosure agreements drip drip drip stories women saying harassed discriminated",
           "elizabeth warren"
          ],
          [
           "critical everyone cry process",
           "tina kotek"
          ],
          [
           "could walk muscles felt weak",
           "tom hanks"
          ],
          [
           "among largest seen",
           "jane fonda"
          ],
          [
           "democrats going win nominee history hiding tax returns harassing women racist policies",
           "elizabeth warren"
          ],
          [
           "gentleman came said want tell story said rare form cancer long take medication doctors tell manageable die cancer",
           "ben mcadams"
          ],
          [
           "way sham investigations desperately wanted investigations would hurt former vice president biden undermine mueller investigation russia election interference investigations would help cheat election",
           "val demings"
          ],
          [
           "message event important know struggled",
           "hank sanders"
          ],
          [
           "london biggest engineering hub outside us home community integrity team important work keep people safe platforms working take harmful content keep people safe",
           "sheryl sandberg"
          ],
          [
           "put extra pressure",
           "bill corr"
          ],
          [
           "state unemployment filing systems built decade ago much lower number claims simply kept pace",
           "j.b. pritzker"
          ],
          [
           "people stay cars",
           "gretchen whitmer"
          ],
          [
           "relying freezers hold bodies capacity almost entirely used",
           "mark levine"
          ],
          [
           "chicago pace another year record tourism hard working men women keep hotels running important part progress",
           "rahm emanuel"
          ],
          [
           "want thank selfless service giving everything city",
           "lori lightfoot"
          ],
          [
           "dedicated life fighting people rich powerful mom farmer dreamer builder veteran bring country together build coalition fired democratic base fired well independents moderate republicans want eke victory want win big joe biden",
           "amy klobuchar"
          ],
          [
           "trust right donald trump",
           "adam schiff"
          ],
          [
           "adam made hero kid never ever ever forget really good lesson small gestures kindness idea big deal meant f king world meant much",
           "ben affleck"
          ],
          [
           "one things know helpful active realistic shooter drill frighten terrorize traumatize big people little people school",
           "lily eskelsen"
          ],
          [
           "agency must make sure fatality worker fatalities receives resources comprehensive attention deserves",
           "rosa delauro"
          ],
          [
           "like see woman president",
           "elizabeth warren"
          ],
          [
           "locality feels close schools either think health reason frankly think anxiety based reason understand numbers tell us different story problem setting statewide standard",
           "andrew cuomo"
          ],
          [
           "necessarily correlation money better product",
           "andrew cuomo"
          ],
          [
           "position recently took wall street journal article writings statements said criminal like akin treason bribery",
           "alan dershowitz"
          ],
          [
           "numbers indicators growing ability manage capacity within healthcare systems across illinois",
           "j.b. pritzker"
          ],
          [
           "intend delay passage coronavirus relief bill tomorrow morning please advise colleagues right book flights expend taxpayer money counter principled terribly misguided stunt thankyou",
           "dean phillips"
          ],
          [
           "really promote heck",
           "ed fallon"
          ],
          [
           "looking delta gap beds members community staff beds currently",
           "gavin newsom"
          ],
          [
           "depending going senate envision lots different wild scenarios",
           "gretchen whitmer"
          ],
          [
           "got perfectly good chief justice sitting right behind",
           "adam schiff"
          ],
          [
           "moved closer securing democratic party nomination president building broad coalition need win november strong support african american community latino community high school educated people like folks grew neighborhood labor teachers suburban women veteran firefighters many",
           "joe biden"
          ],
          [
           "get call kevin feige boss like man said kevin accident swear god told use facebook live know use goes stuff like right sir next day showed press hurting look anyone eyes walk feige say sorry grabs bear hug like genius",
           "mark ruffalo"
          ],
          [
           "look know majority gon na get history still fresh country hip hop race culture identify one tell say",
           "tom hanks"
          ],
          [
           "advance point virginia plan common sense measures",
           "ralph northam"
          ],
          [
           "moment national crisis undocumented immigrants risking health behalf rest us saving lives health care workers caring loved ones growing much food depend",
           "laurene powell jobs"
          ],
          [
           "look secret jim nice guy like respect politics politics respect way god earth going endorsing",
           "bernie sanders"
          ],
          [
           "aware dealing feeling",
           "andrew cuomo"
          ],
          [
           "look see real change anything like",
           "bernie sanders"
          ],
          [
           "unfortunately people entertain hateful beliefs protected long beliefs result hate crime actions talking",
           "martin looney"
          ],
          [
           "lot folks feel like still unbelievably long period see doctor think costs way high",
           "josh harder"
          ],
          [
           "play humorously addresses challenges people every culture struggle dignity increasingly difficult economic circumstances",
           "tim robbins"
          ],
          [
           "releasing documents showing kentuckians committed transparency open government",
           "andy beshear"
          ],
          [
           "put together kind diverse coalition need beat trump something look people running president people struggling like pete buttigieg",
           "tom steyer"
          ],
          [
           "sorry hear privilege pleasure meeting karl find people positive outlook",
           "tim walz"
          ],
          [
           "federal government comes says going substitute federal plan well would trump state plan pardon pun fit within constitution law",
           "andrew cuomo"
          ],
          [
           "getting point delay produce put pieces aside thing gets built really starting attack people terms making move totally laying",
           "rick larsen"
          ],
          [
           "nbc count votes voice iowa able presidential election",
           "jimmy fallon"
          ],
          [
           "nowhere turn support",
           "george cardenas"
          ],
          [
           "asked help organize sister city project burlington",
           "bernie sanders"
          ],
          [
           "refreshing see passionate starting spin wheels maybe entrepreneur",
           "chris murphy"
          ],
          [
           "state using half billion dollars trying build twin tunnels paying attention going",
           "john garamendi"
          ],
          [
           "legitimate outdoor activity",
           "tim walz"
          ],
          [
           "polar ice caps going melt",
           "haley stevens"
          ],
          [
           "read books care people",
           "elizabeth warren"
          ],
          [
           "city works create places unhoused people struggling mental illness critical preserve existing stock beds units",
           "rafael mandelman"
          ],
          [
           "think switching zone defense confused east clinton little bit",
           "tim mcgraw"
          ],
          [
           "foster dialogue bring sense opportunity people talk maybe address past wrongs",
           "ryan yamane"
          ],
          [
           "without man",
           "oprah winfrey"
          ],
          [
           "increase number cases continues unabated matter fact rate increase gone",
           "andrew cuomo"
          ],
          [
           "kona kitchen long anchor maple leaf community welcomed kama aina remember prayer support kona kitchen hard times",
           "jenny durkan"
          ],
          [
           "us good able send people back work may immune tested symptom free resources necessary someone get sick become hotspot",
           "tim walz"
          ],
          [
           "many bipartisan co sponsors amendment prohibit federal funds used military force iran without congressional authorization",
           "nancy pelosi"
          ],
          [
           "fortunately little time plan increased number icu beds number capacity percent getting rid elective surgeries putting anything non urgent getting volunteers back battlefield plus nurses thought going enjoy happy retirement know coming back game helping us",
           "ned lamont"
          ],
          [
           "economy working us middle class",
           "pete buttigieg"
          ],
          [
           "think important moment community latino community country",
           "jennifer lopez"
          ],
          [
           "accept responsibility ask campaign particular seems motivating behaviour others",
           "pete buttigieg"
          ],
          [
           "sure convinced",
           "eliot engel"
          ],
          [
           "going best communities managing",
           "jb pritzker"
          ],
          [
           "need rebrand menopause",
           "gwyneth paltrow"
          ],
          [
           "entire region utilizes one exit",
           "justin chenette"
          ],
          [
           "legislation makes great strides addressing increasing problem unsafe counterfeit products sold unsuspecting consumers encouraging platforms take steps reasonable workable necessary keeping dangerous counterfeits consumers hands",
           "hank johnson"
          ],
          [
           "virus great equalizer stay strong little brother sweet beautiful guy best friend anyone newyorktough",
           "andrew cuomo"
          ],
          [
           "action rise level crime civil infraction",
           "dana nessel"
          ],
          [
           "outdoor industry become indoor nation less active lot implications outdoor industry health wellness connect community really something obviously important outdoor industry concern americans",
           "robert duffy"
          ]
         ],
         "hovertemplate": "party_label=D<br>x=%{x}<br>y=%{y}<br>quotation=%{customdata[0]}<br>speaker=%{customdata[1]}<extra></extra>",
         "legendgroup": "D",
         "marker": {
          "color": "#636efa",
          "symbol": "circle"
         },
         "mode": "markers",
         "name": "D",
         "showlegend": true,
         "type": "scattergl",
         "x": [
          -0.03637440549472372,
          -0.016341412358834705,
          -0.004198491479750809,
          -0.029006561054639612,
          -0.03950618474177435,
          0.12035544288507431,
          -0.049067443612369074,
          -0.09389720622803113,
          -0.041964974197585034,
          0.2023934249064634,
          -0.03826833588843604,
          0.00540858510484947,
          -0.012314121040429058,
          -0.011041581933142072,
          -0.028602744593486894,
          -0.04367659260166491,
          -0.03737347111257925,
          -0.038494357827457505,
          0.09385019362768128,
          0.1449046488512675,
          -0.03599571059724642,
          0.007298324108263341,
          0.07521418548234207,
          0.06398306763549587,
          0.09719084836734453,
          -0.04040172046564742,
          -0.07521188863849532,
          -0.031096837342034802,
          -0.01080019626385661,
          -0.006520760136970034,
          -0.026155081284686084,
          -0.06288868579336337,
          0.007040445326588257,
          -0.04519785612463647,
          -0.0324257314748264,
          -0.012115892325108254,
          -0.04180403258035208,
          -0.018274479949262217,
          -0.016678612485333567,
          -0.020564922068462,
          0.14906826497504466,
          -0.001712182399878827,
          -0.04459567330967904,
          0.036100571270424375,
          0.0723909655370452,
          0.02908009271249069,
          -0.034478689128028525,
          -0.04342875731183488,
          -0.04014466134402399,
          -0.02104152681697169,
          -0.025382475866812016,
          -0.031148595510929338,
          0.13304655294053414,
          -0.04042256780262529,
          -0.04428340109528448,
          -0.04136388036546937,
          -0.034854273745584675,
          0.2763849779929496,
          -0.03545551717760041,
          0.08508059834520146,
          -0.0463522456927877,
          -0.042227426770601165,
          -0.024113229854274176,
          -0.047418769180645165,
          -0.04194404457593242,
          0.016151492839535722,
          -0.019077092458983584,
          -0.04102967751976681,
          -0.018479941670244082,
          -0.014289722476031417,
          0.05514472420194983,
          -0.043254632362745536,
          0.11043401804020511,
          0.020501716238597253,
          -0.02120702769002701,
          -0.012304835333803587,
          -0.03724298091437125,
          0.2520354443722682,
          -0.043901875742359056,
          -0.03935691135174431,
          -0.045914014455709896,
          -0.0027205416664399323,
          -0.036376259719261374,
          0.08704563067732031,
          0.04782636108053009,
          -0.02299217619092636,
          -0.017209494651898662,
          0.06574241989345524,
          0.01842737155045165,
          -0.023284632027197952,
          -0.017532912521718666,
          -0.009093302887615428,
          -0.03162439733461696,
          -0.015239572532653508,
          -0.03689028292331889,
          0.09448961590444589,
          0.04475929179374807,
          0.01096833011728109,
          -0.029155312394849645,
          -0.02546175113175692,
          0.01168092807087891,
          -0.003977955797766523,
          -0.03016686432330713,
          -0.025427948089666867,
          -0.012227208018078743,
          -0.06221360257088884,
          0.012655724561118414,
          0.04686869555894424,
          -0.043265012896303405,
          0.07686255921739611,
          -0.014439485489103381,
          0.11800761733122038,
          -0.035138254643828165,
          0.17238404247664602,
          0.07615909081880966,
          -0.00919603664632423,
          -0.04647684691202533,
          0.030374172243311202,
          -0.01693786940806169,
          -0.044147327111391244,
          0.2693833723826109,
          -0.045807003703044205,
          -0.07222778662700861,
          -0.03341872690747207,
          -0.021348364675221734,
          -0.042423100050451024,
          -0.028987627197618437,
          0.0005234292985798868,
          0.013635908441509222,
          -0.038073267769243774,
          -0.01165701982625196,
          -0.01700314190067006,
          0.08309364593630508,
          -0.0382990699591865,
          -0.040965399830302854,
          -0.04538347302611236,
          -0.047629171615057475,
          -0.002564002799353441,
          -0.019213484630286565,
          -0.013624097235590648,
          -0.044022421899608685,
          -0.03819573806655912,
          -0.03397530085156357,
          -0.046501162658178496,
          -0.041937394697522355,
          0.11562832157743962,
          -0.030944907611156317,
          -0.0018789600532055884,
          -0.014355474359955949,
          -0.030004838053717474,
          -0.03159118364121446,
          -0.005045772605350169,
          -0.0025277572636105386,
          0.13072856204331396,
          -0.016719568711704526,
          0.05022419684168328,
          -0.014097482232630468,
          -0.024186012420921547,
          0.021424360343161003,
          -0.050048166825132134,
          0.013154920935489532,
          -0.03598052966931069,
          0.07134854843533694,
          0.11887782752843558,
          0.09457691838994714,
          -0.06430132244555757,
          -0.038640445830504175,
          -0.0501857706843407,
          -0.05889161863101933,
          -0.029611263793458503,
          -0.03416369617893743,
          -0.022610459929355023,
          -0.038185193191497636,
          -0.049279381899082604,
          0.020940781142279524,
          -0.061623366656355635,
          -0.03386630807542267,
          -0.03586657216601001,
          0.05484148143445696,
          0.12195577148046326,
          -0.03579876898592463,
          0.061006799790691305,
          -0.015143567285366958,
          -0.039870122687351114,
          -0.037690987739619874,
          0.12857749664231533,
          -0.03960996651084674,
          0.011571145767143597,
          -0.043271176247796174,
          -0.021934774392587435,
          -0.036431271114741114,
          0.1755302426942766,
          -0.05503842993154439,
          -0.037479549824033405,
          -0.03628552319323516,
          -0.01681820117533105,
          -0.040870436427321286,
          -0.03767705492760155,
          -0.038933588423268696,
          -0.03826187751431019,
          -0.01991220665557569,
          -0.04331565056932971,
          0.006210033054123468,
          -0.01729172403560432,
          -0.04267481019607074,
          0.11944216885254504,
          0.0076830425632118515,
          0.07907730431177257,
          -0.040817318878326965,
          -0.03152180780899915,
          0.04379651290703118,
          0.10202838126796764,
          -0.04452519628571671,
          -0.04590124679201339,
          0.09521087436538045,
          -0.009231661395079775,
          -0.017728181496256178,
          -0.003865537354097638,
          -0.03172980752229046,
          0.037546339330018975,
          -0.014575928582688698,
          -0.008799823427978713,
          -0.047479676542942946,
          -0.03456851198133505,
          -0.028209547947858203,
          -0.0018159883424680836,
          -0.03186188174446991,
          -0.015084946528198405,
          -0.0359295832632921,
          -0.04028240309111306,
          -0.008909196791089077,
          -0.010339254109016403,
          -0.03406808307370576,
          -0.06881420047444797,
          -0.049503697189104266,
          -0.03042622620143957,
          0.07944591291169263,
          0.05600628999504051,
          0.06694481240499257,
          0.1224940611219777,
          -0.046522036247998805,
          0.24126050521016548,
          -0.07248091511712744,
          -0.04003802498766144,
          -0.037505441320836067,
          -0.03601334555078006,
          0.06515821617137318,
          0.00026245122241586234,
          -0.023500100571570304,
          -0.040428213512656824,
          -0.02573164797684351,
          -0.03280458551014433,
          -0.019389951973986987,
          -0.04133476206541845,
          0.02730456244782688,
          -0.04387113274918441,
          -0.03560487168761412,
          -0.05740586452570472,
          -0.031547464364978385,
          -0.011323464404161095,
          -0.020385218025701823,
          -0.0597762027655954,
          -0.0412257639342587,
          0.11743811309445719,
          -0.0015419720647386285,
          0.0745365185001649,
          -0.037008782342021956,
          -0.06956032821894477,
          0.06095126950811472,
          -0.04695145297881851,
          -0.02552969522763321,
          0.013189558068604171,
          -0.06843457761523056,
          -0.019945692997442827,
          -0.03998706754526333,
          0.08639363581410005,
          -0.04341900012277879,
          0.10618341390647204,
          -0.01221768750963196,
          -0.04232284588567451,
          -0.011583885108501937,
          -0.03450853726748493,
          0.04082477749200698,
          -0.02897593381085264,
          -0.013197228356035318,
          -0.03219014778893184,
          -0.007816375344034171,
          0.01808714909480809,
          0.022036967699383535,
          -0.040651788288434784,
          0.030874590648634445,
          -0.050421491865989834,
          -0.022134065654545825,
          -0.03365044891941348,
          -0.01054372809244122,
          7.496087200722951e-06,
          -0.041197341071239235,
          -0.04425437616444257,
          -0.013015192440992024,
          -0.041366847689745426,
          -0.05297820016245998,
          -0.029608041554528154,
          0.07703777284351897,
          -0.07139421118332592,
          -0.03699475248905051,
          -0.03690500492919988,
          -0.03667807920977107,
          -0.03706831950270001,
          0.006487715989099848,
          0.048241106918578865,
          0.06814482601611273,
          0.21970490991799982,
          0.23796813773985567,
          -0.024330389861046568,
          0.1517077281969116,
          -0.04877119657207557,
          -0.03231892351401385,
          -0.03777458414135353,
          -0.039643461083461076,
          -0.02925502649409789,
          -0.02857989336406078,
          0.28217407518314286,
          0.2528871892202033,
          -0.015675158336171058,
          -0.03986966717231282,
          0.04155724515504577,
          -0.019974023036469,
          -0.019915809927082816,
          0.020801153799161833,
          0.10942567402070318,
          -0.037245681609249355,
          0.09038700802506479,
          -0.0255545144856651,
          -0.04483052789796727,
          -0.0075007698735858825,
          -0.041796441057887906,
          0.07664033788295004,
          0.28312023188128477,
          0.002768077723817318,
          -0.02851982273909098,
          0.39315577522868617,
          -0.0528021069588156,
          -0.04796826361109336,
          0.14424643660277445,
          0.11525677185183872,
          -0.040395826520416185,
          -0.026381135668917206,
          0.07094435701248568,
          -0.047440034443400406,
          -0.029389471174482127,
          -0.03160696881871863,
          0.15072042667060634,
          -0.07259184498498596,
          -0.04792367943262509,
          -0.01569325958337117,
          -0.029308826700455832,
          -0.035495152144548764,
          0.00718578174366553,
          0.16510095380785383,
          0.08226929828773027,
          -0.015096335876468686,
          -0.015787454791413982,
          -0.025117824878773145,
          -0.015993611062872646,
          0.08286817497174004,
          0.006530134870808529,
          -0.040106863634184926,
          -0.016203768215043168,
          -0.036487209084526,
          0.3411684137994432,
          0.01514433290060404,
          0.0681448743831725,
          0.032846581426415,
          -0.044912134674670944,
          0.1494394763586474,
          -0.04630520055287572,
          0.1267780025589634,
          0.10661212788849211,
          0.02370446989009052,
          -0.03343853779180247,
          -0.04674008357408725,
          0.06359198564839261,
          0.20188391278456372,
          0.002767140980944143,
          -0.03833429243917228,
          -0.06130142544536209,
          -0.04313883320701462,
          0.07461214832021848,
          -0.034145913702099184,
          -0.0475583589190229,
          -0.04814535420583248,
          0.03561447721053474,
          -0.02641604869679247,
          0.12114301605000195,
          -0.008633583783059305,
          -0.04418036683130015,
          0.21890189788814865,
          -0.019649323426052356,
          0.123735485070335,
          -0.04334403356826551,
          -0.012885648152018496,
          -0.02230389954764927,
          0.19977505095954706,
          0.16069243153931598,
          -0.006259508210827245,
          -0.0013009315368453312,
          0.0036153975893572668,
          -0.005395603906275611,
          0.0036573468988925304,
          -0.031609805163425805,
          -0.03667581042024622,
          -0.04125288817801681,
          -0.028715231938851726,
          -0.0523725093619847,
          -0.021988538554795833,
          -0.05746726129544021,
          -0.040536139992977345,
          -0.04201885365691399,
          -0.05067896170027216,
          -0.021026017554560735,
          -0.03056490129660974,
          -0.030430627093857573,
          -0.018266780451348167,
          -0.035685450571608095,
          -0.020184730988588206,
          0.10433048495900461,
          -0.02941308007171615,
          -0.001512559806405201,
          -0.024025851996400036,
          -0.04478673401927254,
          -0.0357144836993224,
          0.13450546082569304,
          -0.0017865507643890206,
          0.011669400872482668,
          -0.05030675662187791,
          0.15097645351266492,
          -0.02963426062427876,
          0.1811198205894219,
          0.011465501763447862,
          -0.0788455558470743,
          -0.03463211358554382,
          -0.035073508608082206,
          0.05436754647060131,
          -0.04518593189319111,
          0.03814253881934269,
          -0.04154210133243144,
          -0.06139128649871126,
          0.16938938463553108,
          -0.0007291328939458892,
          -0.04278066976360572,
          -0.029579431354528837,
          -0.008184338273553471,
          0.07919686630585035,
          -0.04591008795312463,
          -0.045600450056189845,
          -0.04400033175620524,
          0.2532542560589434,
          -0.09015206725387653,
          0.00939059026173428,
          -0.021482415430043308,
          -0.036015560074956626,
          -0.02130734760512941,
          -0.02617890563416874,
          -0.01638428521453899,
          -0.02197973477734627,
          -0.01867148391723017,
          0.1265942640404194,
          -0.03158116078064204,
          0.006883404331360385,
          -0.0478895161475671,
          -0.042031786719896796,
          -0.03491849892261931,
          -0.027776412603677882,
          -0.05229542816383211,
          -0.0276582422251588,
          -0.04106342805893647,
          -0.003086277157632615,
          -0.05234700977741402,
          -0.052645365581402856,
          -0.044756817469890346,
          -0.034160690991432194,
          -0.0029256981952568506,
          -0.029203350668557226,
          -0.049241770886505935,
          0.14475708158086134,
          -0.032022821255630725,
          -0.0364606764447837,
          0.018563508190626007,
          -0.025677760340158638,
          0.10238623903731994,
          -0.015817681778634407,
          0.007337788531179976,
          -0.032389668160270814,
          -0.006782649664961541,
          -0.06935697849605513,
          -0.005973771372180639,
          -0.015072395074549196,
          -0.038687681534777967,
          -0.03672698530831262,
          0.061760901979177815,
          -0.025522929012719645,
          -0.032311535776912356,
          -0.03975174153995711,
          -0.053987279902439726,
          0.004310071977848671,
          -0.04496002673731522,
          -0.04089330550632433,
          0.007129821870936618,
          -0.033731680799013466,
          -0.03888903402538252,
          0.3688477719707467,
          -0.04094571318012376,
          -0.025162153518949543,
          -0.04333562383036296,
          -0.0330589748546062,
          -0.022204747118939903,
          0.05341501186573914,
          -0.009796172512455252,
          -0.026707139132669,
          -0.03712182733361758,
          0.10719179730210934,
          -0.03282887403738352,
          -0.029319055159106173,
          0.002908207681620238,
          -0.057386289014640386,
          0.0026207503686916417,
          0.09260668661878033,
          0.10810969378523753,
          -0.03958407559380068,
          0.0744389227543821,
          -0.039300848146550264,
          -0.031144709321439288,
          -0.041314275404219586,
          -0.03037132083466597,
          0.09247106463360054,
          0.020084538378837825,
          -0.040964323316997,
          -0.033085155703071155,
          -0.062029059647737965,
          0.004325602159864688,
          -0.0591250872723736,
          -0.032495611388857364,
          -0.039320804256566,
          -0.029729447894209737,
          0.02273695445260054,
          -0.06367436980787446,
          0.05760168233936086,
          0.022892268878362744,
          -0.004981328282475712,
          0.18568665618315425,
          -0.046214943015584896,
          -0.04540956768428395,
          -0.028878718098238977,
          -0.05066107488517785,
          0.15191160466238562,
          0.0908025963386354,
          -0.039157146439586454,
          -0.05085214214108412,
          -0.04385753105710779,
          -0.05063593599957549,
          0.01613547288499115,
          0.4587344873731376,
          -0.036510825187472104,
          -0.054330477167453844,
          0.11322259756381292,
          -0.007499724884487437,
          -0.028148045725086758,
          0.17600923623721337,
          -0.02842450114357909,
          -0.02162114774728312,
          -0.030516176661933285,
          0.031375554391721516,
          -0.058990801625816,
          0.008362224342813302,
          0.024970588307760833,
          -0.007390095470517571,
          -0.04925358777835559,
          -0.013180514333929867,
          0.32949907191407773,
          -0.03095048262113619,
          -0.038322985213672354,
          0.06388631924203864,
          -0.019212675908869006,
          -0.034901181242540665,
          -0.03035569100006021,
          -0.003771018875426717,
          -0.02110076578096909,
          -0.003759009142065259,
          -0.003037161697034146,
          0.030487216014346334,
          -0.00588920360119949,
          -0.05040473107326642,
          0.04057077504914685,
          -0.017834109109184905,
          0.04762206185106508,
          -0.04554266072249108,
          0.14440958919982455,
          -0.03192896290005929,
          -0.0057041135402962585,
          -0.01314036175215804,
          0.24851938204006827,
          -0.0451423676157604,
          -0.014784060173488947,
          0.08428574910546696,
          -0.007710857544442482,
          -0.03715917454669179,
          -0.03941785254630145,
          -0.050151999421732624,
          0.3420520435137986,
          -0.03266509688382948,
          -0.05571819229193108,
          0.09359095993415502,
          -0.02431826438619096,
          -0.030075989372755643,
          0.13100684280800903,
          -0.039571094247657944,
          -0.031136082148539124,
          0.049409766978503196,
          -0.07195553881835134,
          -0.017102991579790873,
          -0.036585854082012786,
          -0.0029724926110059266,
          -0.028901793204782956,
          -0.007101508856871931,
          -0.06535419693240127,
          -0.052592011139500745,
          -0.050075001631660475,
          -0.0265426490822941,
          -0.016300077281268494,
          -0.006569531721858129,
          -0.024459298368474297,
          -0.008117353832894927,
          -0.01626013470822289,
          -0.03082684162652,
          -0.0452282413722287,
          0.06125508836374668,
          -0.024290967967309555,
          -0.040054932296114905,
          -0.03946563396694466,
          -0.0360931824171779,
          -0.06037948385401213,
          -0.031893905328976235,
          -0.007496181473622082,
          -0.01094610359089399,
          0.1663878532042798,
          0.10830054666120761,
          -0.06196340390291424,
          0.00232089730079275,
          -0.040763880626196285,
          -0.012762327941222989,
          -0.039518784350348994,
          0.06650608816503865,
          0.04160101346684102,
          0.04284047897688234,
          -0.020879594823206584,
          -0.048249799458450385,
          -0.03586655758771712,
          0.041838475249196136,
          -0.012683026860714514,
          -0.052745001779594,
          -0.02433732491326584,
          -0.03118622807595706,
          0.3498164741407155,
          0.0835825184966756,
          -0.03137304840749116,
          0.0563276266118869,
          0.00367471627367215,
          -0.03670485363902523,
          -0.04506548121171656,
          0.1336316563456032,
          -0.04992422497817819,
          -0.008915887776762355,
          -0.03539056067400548,
          0.20266778532220162,
          0.17262314170041604,
          -0.014789286120656954,
          -0.033585322707072526,
          -0.04433961836960272,
          -0.03226505108076428,
          -0.01224058197291531,
          -0.017486473241378222,
          -0.009624789576328605,
          -0.0339714688882541,
          -0.029744368230544948,
          0.1082734194272799,
          -0.02856749926568535,
          -0.024658537198849983,
          -0.019193696711873553,
          0.041535763633024254,
          0.12206489561474973,
          0.08150702792120545,
          -0.032583244720337905,
          0.12622497813040928,
          -0.03492396171922989,
          0.0059035698098328804,
          0.05955876731429942,
          -0.09301766125285829,
          -0.03881360423471747,
          -0.0432746723801808,
          -0.038112205326554,
          0.09487991940654326,
          -0.03370974978894343,
          -0.07478507419615414,
          -0.02094247066357934,
          -0.041498393928396785,
          -0.034112827095161856,
          -0.030091850132787878,
          0.1452915539216565,
          -0.011661281654737187,
          0.000524335698588296,
          0.29138269200143596,
          -0.015080131253405977,
          -0.04031025017331922,
          -0.043712032329525904,
          -0.03236277486944487,
          -0.07279522108217368,
          0.1946714846970777,
          0.0005372894455853694,
          0.042041407181244675,
          0.028415801595553573,
          -0.020382083301292056,
          0.07370368983518086,
          -0.03935181483814608,
          -0.0450166659079611,
          -0.0386256462934241,
          -0.04011763447149287,
          -0.011901115701534066,
          0.25976449148294734,
          -0.009190255127672135,
          0.0803018303348188,
          -0.033569162181127814,
          -0.03977003632420011,
          -0.042086567894147366,
          -0.04747415773853618,
          0.11419068676073678,
          -0.04141244113884178,
          0.018630784219758695,
          -0.03125920443877713,
          -0.028922097440823896,
          -0.020965191570957522,
          -0.04719215680386176,
          -0.01648782855626099,
          -0.04013864772019686,
          -0.01476428948710832,
          0.09092752912899131,
          0.018170478903937918,
          -0.026732555667221672,
          -0.046412840923617894,
          -0.018929058743858036,
          -0.03680491359192449,
          0.27188202072980705,
          0.018979023500564827,
          0.02581491361580105,
          0.12980562769882303,
          -0.044617130701938984,
          -0.003859541519017719,
          -0.05226962529906192,
          -0.021678576948338326,
          -0.029097673286792244,
          -0.04340999810331525,
          -0.03594981434497139,
          -0.031122683521460633,
          0.21859794605133803,
          -0.025107626828989846,
          -0.007898339541638278,
          -0.0348975855237989,
          0.048000704448734964,
          -0.011812402877933262,
          -0.039958180040658785,
          -0.06044614358120358,
          -0.01112127421175416,
          -0.05144062440291512,
          -0.02307607681080308,
          0.018169152509681027,
          -0.024014333815027468,
          0.0589964844471098,
          -0.043390359011170734,
          0.09392099823378425,
          -0.04288608251991009,
          0.09393283306873713,
          0.006024791998572909,
          -0.044636014112920036,
          -0.034204053751126874,
          -0.06679326487448259,
          -0.019643414047860915,
          -0.028803931850487983,
          0.15303091542899713,
          0.15860338127137635,
          -0.0377148716697143,
          0.0166642494539954,
          -0.02721808290196596,
          -0.018560836292759775,
          0.18182309811932332,
          -0.0296419958384526,
          0.022944725686060388,
          0.15309626123309758,
          -0.02712652722096971,
          0.10450136861535539,
          0.07997980624514232,
          0.08152864885072512,
          0.10387762629078123,
          -0.024101217407339493,
          0.1087822320800702,
          -0.03255636605454845,
          -0.01072239720780906,
          -0.016340021661943007,
          -0.03028158582305227,
          0.019160321119818212,
          -0.035866531114203605,
          -0.031267534190829976,
          -0.03727383387174864,
          0.12489631142587297,
          0.004850489181774179,
          0.05571030955327717,
          -0.07678518910715557,
          -0.08549096135047243,
          -0.04871746956085945,
          -0.04000048035213453,
          -0.018968284598547012,
          -0.02806999994807269,
          0.10146511633434918,
          -0.023418152941149642,
          0.03393008881825818,
          -0.02042403283785274,
          -0.055214824967805276,
          -0.0745854760546505,
          0.1369328682615722,
          -0.03084850056138561,
          -0.039336451116720746,
          -0.02808863606171977,
          0.25134921409139815,
          -0.048859275630386834,
          0.06687730351545369,
          -0.036602111544445454,
          0.11742486848618469,
          -0.002487421459229285,
          -0.03277368762873225,
          -0.042943642196006514,
          -0.048119795590123984,
          -0.018906137822247832,
          -0.027705529117343083,
          -0.03574883809805866,
          -0.038223776531472256,
          -0.03846084457866928,
          -0.04258263941757286,
          -0.016278367636727305,
          -0.02876737307262725,
          -0.03951227727197463,
          -0.035866548545325165,
          -0.04798417445584601,
          -0.03488990170492463,
          -0.002459053267060006,
          -0.020552415902608107,
          -0.037604314864327165,
          -0.046003644861981566,
          -0.03654935443581684,
          0.023116405225482927,
          -0.02610072155194305,
          -0.02481743292016302,
          -0.04602870224370082,
          -0.029139261360528444,
          0.07361483589357469,
          0.055785302799483016,
          -0.040121366775948346,
          -0.05047849139713555,
          -0.030397655200613605,
          -0.04230163613368654,
          0.0007433318814586507,
          -0.02375635637791901,
          0.03509388031628718,
          -0.03650022877262896,
          -0.025865033452727584,
          -0.020639952435407352,
          -0.04072336862615822,
          -0.07452349258618343,
          -0.03820835712012329,
          -0.018542398080962495,
          -0.03343273005985244,
          -0.027150371092943618,
          -0.00987875260717711,
          -0.014313113575735842,
          -0.047364562881523325,
          0.07890340087510489,
          -0.0451322667134291,
          -0.0411509948149234,
          -0.026758456263616014,
          -0.01570616757892899,
          -0.0296849558779114,
          -0.0313207140935764,
          -0.03905642760667974,
          0.07778226677442937,
          -0.022864316070289863,
          0.18543688236150746,
          -0.015245027604940472,
          0.01257291078693286,
          0.014099722163654321,
          -0.035655353793267716,
          -0.009943719498449419,
          -0.04079243807285812,
          -0.02149706336223707,
          -0.03776420067408569,
          -0.06407057326731633,
          0.10583392622952478,
          -0.02527159199782546,
          -0.03880679687579505,
          -0.023986928881809613,
          0.09980011021470696,
          0.10182636834134644,
          -0.033768336490137885,
          -0.06322821109146957,
          -0.023450887148859408,
          -0.02086841540949172,
          -0.032573942824376756,
          -0.024564991231094346,
          -0.04090032017735637,
          -0.008159719751846308,
          -0.002329011407628799,
          -0.03883747646512399,
          -0.027686502060330628,
          0.010766049900575848,
          -0.010561643553788391,
          0.015110955667159634,
          -0.04523364410729316,
          0.04229229895290876,
          0.18076923650463236,
          -0.04089915283783782,
          0.03430234690558602,
          -0.041861209525234325,
          -0.034126233951139215,
          -0.039969836022973916,
          0.0772412347227518,
          -0.0014404293061572072,
          -0.057154960225296925,
          -0.011057711227613938,
          0.09287191960620213,
          -0.010955313436697511,
          -0.04926397853167599,
          0.14745363782210127,
          -0.03149371737435114,
          -0.04013026980206127,
          -0.009331253522543041,
          0.03087487395981768,
          -0.04570189612278494,
          -0.02651350400579282,
          0.1112435633414899,
          -0.01957418948900349,
          0.014329371924058011,
          0.051299558956653474,
          0.008391159802691353,
          -0.01560686489011673,
          -0.02979684245477933,
          -0.030515713846432438,
          -0.01576445231891534,
          -0.04952638227100181,
          0.09535483614439798,
          -0.008790393127634867,
          0.01347918023686659,
          0.037003323065699305,
          0.022099915649190262,
          -0.03033418490165539,
          -0.045351525653202863,
          0.08048705458718176,
          -0.0428616102341678,
          0.05779922510532963,
          0.03601011736578321,
          0.10805527921539318,
          0.04337355527499912,
          -0.042344412914452664,
          0.14952255358030012,
          0.06394271134375819,
          0.03708436705692202,
          0.06251258546217554,
          -0.021599171823640677,
          -0.048708747297072294,
          -0.03393483759871451,
          -0.012573000348515525,
          0.08019458609046747,
          -0.0373579145519333,
          0.12240574302551897,
          0.11343887925866311,
          0.02637292824893007,
          0.022096066221257493,
          0.059401169698671395,
          -0.029588487679262438,
          -0.026318840417161534,
          -0.04098871281318083,
          0.09004722100011012,
          -0.056060022296283554,
          0.06677405489017127,
          -0.050783641219420084,
          0.04379311089646415,
          -0.035900582735332524,
          -0.005335886024026543,
          0.17909840921209672,
          -0.026929537173271616,
          -0.042277184655766985,
          -0.026789181869876458,
          -0.029604121626125898,
          -0.04176264376806111,
          -0.012205559289723621
         ],
         "xaxis": "x",
         "y": [
          0.017039138623590896,
          0.007882006135854389,
          -0.009485111183569437,
          -0.003617940294169003,
          0.012434815483859957,
          0.03905046471656617,
          0.002864097181400821,
          -0.03729343732409443,
          0.01475031878063896,
          0.19931765892788758,
          0.019289794802439662,
          -0.031852886226196926,
          0.04102302440789118,
          -0.013125858579189022,
          -0.002959968020933737,
          0.02264517845524578,
          0.010059074971329057,
          0.011714531005660422,
          -0.1328475780331722,
          -0.06702669987051225,
          0.009703717866114172,
          0.01136718404121089,
          0.11099291551752126,
          -0.06895601054826152,
          -0.1316565102318164,
          0.018240676851364154,
          -0.014490509666868866,
          0.024252136812452533,
          0.012967986495836793,
          -0.03330861443519493,
          0.027637529153400366,
          0.022373558510035106,
          -0.00048816643469826285,
          0.008768745062490167,
          0.008127405134823488,
          0.01547662248190628,
          0.02005631377035052,
          -0.016150670264125432,
          0.01660838587345667,
          0.013600363359760927,
          0.08059582590604115,
          -0.023982254477481594,
          0.009356222404017508,
          -0.05335720521980828,
          -0.10354722453187751,
          -0.012273915695339066,
          0.014069114335740408,
          0.012667353615837674,
          0.012510505176711132,
          0.027525623123846734,
          0.03161432392799015,
          -0.013852136955211834,
          0.16981373151871226,
          -0.03277098770546857,
          0.02351163351228052,
          -0.0005593832129332116,
          0.03874655356940651,
          -0.35915550482479675,
          0.004291824465245644,
          0.08278533377859694,
          -0.030787414605968653,
          -0.010043719470170926,
          -0.02929359451644877,
          0.01225789636518859,
          0.008833203708736762,
          -0.0050585630873686725,
          -0.013651176793142202,
          0.016372786552026345,
          -0.029179987754386853,
          -0.020249727145805852,
          -0.052546796103645786,
          0.013295273798304065,
          0.1447408607039088,
          0.03736231186775091,
          0.028422316358772164,
          0.026755831959521303,
          0.00845101550331168,
          0.19444818233523478,
          0.01398101403858937,
          0.012960247238129689,
          0.013930168779507703,
          0.018796178104121274,
          0.00833273653169473,
          0.09038517226066459,
          -0.038843092081216404,
          0.006334038527174117,
          0.02787511674466819,
          -0.07534678962399843,
          -0.053100815753590096,
          0.009553852613853265,
          0.02456357313901632,
          -0.011644351652128295,
          0.021712233375439854,
          0.009302046875962346,
          0.013413149625910779,
          -0.14361325993278218,
          -0.09325229873368443,
          0.0068489428162343356,
          0.025641082345350216,
          0.025027635753266223,
          -0.12799572082628383,
          -0.0013850586086688404,
          0.01635233901683844,
          -0.005980627832197757,
          0.020727857486387547,
          0.0005697288173089683,
          -0.04234620522506448,
          0.00728705120123728,
          0.0150590274060832,
          -0.06958854739591934,
          -0.06467628536427693,
          0.07530778191847891,
          -0.009407690759352886,
          0.11257136424407747,
          0.09791488752899867,
          -0.022608443851891116,
          0.006984698150526075,
          -0.05483437392215236,
          -0.009152256654427201,
          -0.10934077705922071,
          9.26437203679861e-05,
          0.019174770670973507,
          -0.0216943226974183,
          0.010831444210119173,
          0.008124780005968408,
          0.006808337651688082,
          0.028475304638765873,
          0.0015059401687230202,
          -0.022246738770029063,
          0.021772494399688726,
          -0.0010040862726364464,
          0.023206910719704262,
          -0.14475609399556846,
          0.011430413464866868,
          0.020288416311498556,
          0.005135921435752245,
          -0.015218305215557655,
          -0.00244205878999742,
          0.005253648955520608,
          0.003731119091493807,
          0.023319999631386368,
          0.010477221971350821,
          0.03258456063628723,
          0.01387496954372534,
          0.010219954127116088,
          0.1443356267165098,
          0.015754502505973534,
          0.020081408341432513,
          0.0019131535776946607,
          0.009768919205515378,
          0.013159238573085158,
          0.005721901065426668,
          0.015766597371238,
          0.01410382837520886,
          0.009671999703212458,
          -0.06116596128803305,
          -0.0018795749428563153,
          -0.014435678878590817,
          -0.012418768784756054,
          0.016007949074431968,
          -0.005522578782259493,
          0.013416675526876455,
          -0.1474799815062611,
          0.132535238790807,
          -0.10880695984444867,
          0.01098801416507828,
          -0.030615660464657607,
          0.029230329052589158,
          -0.007609499614400078,
          -0.011163336182175269,
          -0.021743914449318242,
          0.009154369228277537,
          -0.04182577518991654,
          0.006638708519333503,
          -0.009489961616453853,
          0.01258745062467248,
          -0.009846778151285266,
          0.011831579958776687,
          -0.08678198786933738,
          0.14171096538636205,
          0.013059515843443848,
          -0.11787997661004655,
          -0.0229540962750687,
          0.010619022609581879,
          0.00860540980985226,
          0.13757044843625854,
          0.01679119440538885,
          0.0028177040575968,
          0.020356278150875,
          0.03608266411791537,
          0.004021972302348132,
          0.16602097089196002,
          0.018374868796424308,
          0.011613891665369348,
          0.012826632710608077,
          0.007091832167551458,
          -0.03334716446278838,
          0.01978037943778323,
          0.015405142629410888,
          0.011645699222454842,
          -0.02522677285808431,
          0.003278888897948161,
          0.022965428104560284,
          -0.009559535643932044,
          0.007664969101047432,
          0.07945535907309961,
          -0.0003948117695536421,
          -0.14649751562301497,
          0.013263251267702919,
          0.012326939905174163,
          -0.015103882422167163,
          -0.12243387580529122,
          0.01597919851887154,
          0.02234181486454476,
          -0.17802635166399391,
          -0.02838644976739999,
          -0.021727303924833238,
          -0.01668283430830929,
          -0.004539394047007501,
          -0.12750200158149652,
          -0.051349438659318264,
          -0.048099513639502905,
          0.013118704912696242,
          0.010310435342517644,
          0.010265668484536916,
          -0.010668547230735662,
          0.0030389571095256716,
          0.026393419214789802,
          0.010678637883476288,
          0.009739040662939721,
          0.013077500014170877,
          0.0037880415667907352,
          -0.012494658734635743,
          0.011985858267196125,
          0.01635214707089351,
          0.008089750718172976,
          0.07319225643998901,
          0.08128434346610489,
          -0.10877883508051663,
          0.1524194191263856,
          0.02055770056451932,
          0.02176241822499086,
          -0.003404724542317602,
          0.0026115543420464683,
          0.01159958134683665,
          0.01135569738331255,
          0.07362551582937372,
          -0.01351970779425673,
          0.009008092181063515,
          0.006019072179211267,
          0.005289417851070473,
          0.010114162827280632,
          0.0008176625739350534,
          0.018655559948296666,
          0.054418376610835484,
          -0.034817559439839774,
          0.024772951409042607,
          0.004110640609571058,
          0.009925312814896142,
          0.015472265043971388,
          -0.017730829953239956,
          0.024232155290606745,
          0.019352463020276274,
          0.07704009009004957,
          0.054774521025592264,
          -0.12496918996077667,
          -0.016345049241046853,
          -0.013236648124668243,
          -0.06441178317098382,
          -0.010191039077790148,
          0.010047888932378972,
          -0.00999537617545631,
          0.015661225621023997,
          -0.007931722365001961,
          0.020507499579624017,
          -0.09449080642067664,
          0.009267386032337597,
          0.10858006576421779,
          -0.014388317032166639,
          0.009374944732171736,
          0.009674644008826176,
          0.014170805674385166,
          0.02259918230895125,
          0.015531161115633265,
          0.011218385215519617,
          0.0003345868401372184,
          -0.028197128012475033,
          0.02889692304034024,
          -0.03874994561316169,
          -0.028014855024884322,
          -0.045432195073601876,
          0.03145343257395921,
          0.00015822123234173326,
          0.025861237195952395,
          0.01037997820055143,
          0.008860052441520726,
          0.014068748265502081,
          0.010196004334449588,
          0.02430434357500258,
          0.01294850507547447,
          0.016774780730105077,
          0.010760626003322086,
          0.06812179787875157,
          0.0031942912921893067,
          0.012638016771365862,
          0.009258569631776509,
          -0.01868461534967595,
          0.0036593080739735183,
          -0.02939626094508884,
          -0.08027145382936007,
          -0.12598460098545308,
          0.23311104275040906,
          -0.25272192136857924,
          0.015519736656885792,
          -0.14885474209515875,
          -0.02536316493891425,
          0.015481741442120837,
          0.036194284565137944,
          -0.0013354089721238215,
          -0.0007654705970496792,
          0.014844769377789311,
          -0.28962319917593843,
          0.2972458723445699,
          0.027535069178259316,
          0.011936244313756183,
          -0.0330516410632104,
          0.03841777458132584,
          0.0033532279438340663,
          -0.06099670493189509,
          0.14122472178054152,
          0.02090587711265883,
          0.1232074487589081,
          0.017660279776430247,
          0.019000204594702266,
          0.04820042079336443,
          0.012685251990892689,
          0.12949685450763518,
          0.2750777297210034,
          0.0054810066448964115,
          -0.03669003820289887,
          0.01877920830729273,
          0.012355457061652224,
          0.006509421976993783,
          0.12670550974483918,
          0.13820568839533176,
          0.015368206806358519,
          0.0053498705810278635,
          0.12696692193564674,
          0.01312443067715748,
          0.01775083566104939,
          0.01016186098479269,
          0.18085309480017217,
          0.012557198870923676,
          -0.00897592267488312,
          -0.03761775995974863,
          -0.005349435267459011,
          -0.03519362470655994,
          0.00816773860338985,
          0.008999340925670183,
          0.13844295792636568,
          -0.0003921700608740174,
          -0.0206341949383312,
          -0.006260175124724649,
          0.009223950074859844,
          -0.12383691691736834,
          -0.02309294540366807,
          0.005629489591898882,
          0.010821026246388537,
          0.029090215174594963,
          0.0073697270209179214,
          -0.003052415563754941,
          -0.033816336553370185,
          -0.06443475086361361,
          -0.006351622455397429,
          0.09468640856475347,
          0.01913817000074785,
          -0.1356875179722232,
          -0.12863948339156078,
          0.015703631455426074,
          0.028141798538291053,
          0.0001681034254206128,
          0.09532080815996707,
          0.019456241971354222,
          0.00785899421933528,
          0.02181888175756301,
          0.010023083202425039,
          0.02030174362681344,
          -0.13661130242449587,
          0.022956767834909648,
          0.014755681554626886,
          0.013831705233175829,
          0.020908874062030024,
          0.007520429076849055,
          -0.08023372929581912,
          0.02742719468287046,
          0.012132199133798162,
          0.23770720400455086,
          0.005465875523843437,
          0.14944227354901488,
          -0.0038934678740335134,
          0.006827233128463911,
          0.01792448511962134,
          0.1576692039095037,
          -0.2677153666598999,
          -0.038497083522449016,
          -0.0034602739822531584,
          0.041329696066165114,
          0.006569074158396196,
          -0.06655114122488305,
          0.013346357500602564,
          -0.04802999258707154,
          0.014319594937489041,
          0.008688955834066335,
          0.02259329019905827,
          0.03172593988923136,
          0.008631117835965083,
          0.008285503479788759,
          0.021195032748355262,
          -0.006854545364890373,
          0.004024628597355633,
          -0.0020824577551642174,
          0.01282062398122534,
          -0.004800336228688293,
          0.01411419213272785,
          -0.01470666273690342,
          0.059879119614634185,
          0.0030610654748873694,
          0.0018873586897398252,
          0.049414479929033785,
          0.016569504775179468,
          0.011775932529804158,
          -0.21396685274807267,
          -0.010903791502705708,
          -0.05725896708455139,
          0.02047038092006179,
          0.16747335512887768,
          0.010043343221312367,
          0.2124097691812791,
          0.0031642029785751234,
          -0.026535422729379664,
          -0.02051737446543042,
          -0.02567414641549077,
          -0.03151872018502983,
          0.012814949608848653,
          -0.019919915419798838,
          -0.00047735346150306696,
          -0.005791911443976734,
          0.2111391744154913,
          0.0027457552583564897,
          0.04294923897971068,
          0.01409821486383023,
          -0.028788644657085444,
          -0.018638353372866873,
          -0.005642501731810424,
          0.03579252395842014,
          0.010296183022529133,
          0.13509483946768877,
          -0.018164025052942515,
          -0.015975881302793087,
          0.010305307422518103,
          0.017784244417780808,
          0.010918800139597359,
          -0.0058894287655840835,
          -0.012417359494925647,
          -0.0004021121973485313,
          -0.0010170161332561291,
          0.003853510846323652,
          0.03041311882677533,
          -0.010857135908154321,
          0.012927392722778505,
          0.014495422243122466,
          0.019129946394207897,
          -0.05398767667614191,
          -0.027328592723454004,
          0.0006531294610905579,
          0.010220776527802388,
          0.011698944988318314,
          0.009788364634638412,
          0.017435299314585276,
          -0.013107139625239603,
          0.013910813620665999,
          -0.015792583947553243,
          -0.007819930058808298,
          -0.004850533392670165,
          -0.2635551313616699,
          0.010369309558862373,
          0.018101131191411993,
          0.01838615613196474,
          0.020904714613337663,
          -0.05610726437744549,
          -0.012093958765608195,
          0.016942424036176254,
          0.013238088899426258,
          0.02827692412659919,
          -0.0071024976597222214,
          0.03673542919938021,
          0.00835374521345714,
          0.008693711502414625,
          0.012097395973980239,
          -0.09394223721602822,
          0.009977616481851121,
          0.0174543493397951,
          0.003394242789488182,
          -0.003533173753110661,
          -0.06966690561440045,
          -0.028042313022522483,
          0.03592489711477826,
          -0.009853843730592931,
          0.02273638855971662,
          -0.01428308364302015,
          -0.09437154993905965,
          0.005991908784734911,
          0.00201778049761907,
          0.008971293637227677,
          0.0042259696572427485,
          -0.02949790211004343,
          0.07818608416989326,
          0.0012305613639101026,
          -0.0291415328200059,
          0.015683870895722193,
          -0.15696244420145886,
          0.017816002919588094,
          0.012762822749044103,
          -0.0017929457159237094,
          -0.007969408763442612,
          0.029884895257943318,
          0.05750616448315517,
          -0.16062014024862042,
          0.016180940261148368,
          -0.13534066117347412,
          0.0035949738566012045,
          -0.014568412793386071,
          0.016261156299879967,
          -0.003767222099789145,
          -0.16493384703447236,
          0.059772615545558586,
          0.025784603624241207,
          -0.01591419098935573,
          0.008777886230209591,
          0.005070805447266241,
          0.017540424670634713,
          0.00755905631660279,
          0.013038288238712711,
          0.009087743525669377,
          -0.035029414245904965,
          -0.002268078200488634,
          -0.049399843047215675,
          -0.06802191189623767,
          -0.014054252007148955,
          0.23260667492069503,
          -0.01562904003856646,
          0.01735894366024764,
          0.014357527200589719,
          0.014579468319517425,
          0.16316346784415117,
          -0.1681542263151396,
          0.00397605887394887,
          0.01296451254367261,
          0.01851860554796544,
          0.005736245062182165,
          -0.019405903903744026,
          0.41343175184885866,
          0.010709525756234031,
          0.02461748469033202,
          0.127089703429309,
          -0.0007473891672639169,
          0.01819313262288801,
          -0.1668533430270897,
          0.006482133837721566,
          0.028846298117737434,
          0.009703400673426793,
          0.03140101973377919,
          0.0037300805277842627,
          0.04712865567584396,
          0.02943992406890263,
          0.03035387378366161,
          0.008709455558298988,
          0.006941923899788589,
          0.000862495447911139,
          0.02136658373156842,
          0.010681815600233823,
          -0.11996599175413243,
          0.017690741154843797,
          0.0035101556895710973,
          0.028178394484579455,
          -0.022419382674715535,
          0.002213281854881414,
          0.020468402220351553,
          0.0013905424232046994,
          0.0007040811134045061,
          0.05050250672586481,
          -0.010389242819471692,
          -0.001834589373946357,
          -0.04243485880038498,
          -0.0943031457374338,
          0.02914236763996866,
          -0.21754311396025758,
          0.02060101295693708,
          -0.10957706792836236,
          0.017319966745071448,
          0.03452127610160366,
          0.013568890036760466,
          0.03425849005462275,
          0.11928334334231183,
          -0.006932695081887378,
          0.012351349044864108,
          -0.017376349307450464,
          0.011402838905552886,
          -0.21652615762693472,
          0.005618621947126286,
          0.022538214807390634,
          0.13954762774527626,
          0.00882946643537756,
          0.009280188660182438,
          -0.13319324099353358,
          -0.051124736943157716,
          0.010452781786077893,
          -0.04321849328490899,
          0.013039330022359588,
          -0.0010382589210326423,
          0.006577336478978492,
          -0.028336463191310068,
          0.005488156370573709,
          -0.00115317645213102,
          0.016890204474149,
          -0.0065167242220400805,
          0.0005282916424835698,
          0.016083808354183913,
          -0.021938194761523522,
          -0.017364048357010994,
          0.003761037218252732,
          -0.008866754342553565,
          -0.011839523187743933,
          -0.0009393944101094561,
          0.01420359515310722,
          -0.04535528734879049,
          -0.01654899027337905,
          0.0020491217684141094,
          0.01912581187953143,
          0.0164003913470512,
          -0.024302815375713736,
          0.013164719546071728,
          -0.09815375996039831,
          -0.018478341541526912,
          0.19019649231083594,
          -0.15403199560353528,
          0.0158782146884471,
          -0.002925745252836978,
          -0.01980862518814491,
          0.00816651832630765,
          0.005021371800190106,
          -0.050623404908426095,
          0.02662365837568608,
          -0.052510635199062815,
          -0.07948533844851766,
          0.020945211862077356,
          0.011831538797948031,
          -0.03918762745530242,
          -0.0268558599551188,
          -0.017634396436612805,
          -0.00554279667605,
          0.005002563721050529,
          -0.047119258963267824,
          -0.14030665506922022,
          0.020358461089974564,
          -0.05032765104256483,
          -0.0676796592917283,
          0.006100970852867338,
          0.0071609330136202425,
          0.10644739088755784,
          -0.0011284165830062164,
          -0.0001870409582959973,
          0.002062512943102958,
          -0.20380940767840908,
          -0.2071935412409179,
          0.019947747955507914,
          0.015025865994741644,
          0.0030034985143357084,
          0.01642995843413463,
          0.020090349065453227,
          -0.017094964661655863,
          0.02136570125135374,
          0.004112223814625988,
          0.005444631542665673,
          -0.13429389339670955,
          0.009196307324893214,
          -0.00998981737989182,
          -0.008471154506175768,
          -0.07602986961563757,
          0.16269964595598999,
          -0.15465746577888634,
          0.006824299642236138,
          -0.17325249495656647,
          0.020591421321754746,
          -0.02316057907848291,
          -0.0890494127735301,
          -0.010895443788049398,
          0.017688882298292904,
          0.007261805301133341,
          0.024078542970167153,
          -0.12184690870126184,
          0.006849944509029286,
          -0.0018247416939004206,
          -0.015292872724644494,
          0.00919564684251882,
          0.006663322565784095,
          0.012350449354641933,
          -0.2874374058069015,
          -0.003308780948678698,
          0.023834256837086256,
          0.30045713976681115,
          0.013789939652220806,
          0.012854777427163545,
          0.00845306825588037,
          0.01207082794753113,
          -0.007035351658617593,
          0.16891717263599226,
          0.010679297205465507,
          -0.05787849865189795,
          -0.04063093623520861,
          0.00014532292694711415,
          -0.07678176380738311,
          0.0074904137431983505,
          -0.0020689490713247604,
          0.0034460269244981586,
          0.016219107279518412,
          0.013543746553397951,
          0.23342701807894556,
          -0.01436366193915576,
          -0.04339203327155285,
          -0.01696442304003915,
          0.01092761568766716,
          0.014752019029798872,
          -0.023978277995199224,
          -0.0908867813894303,
          0.017538134758484678,
          0.03195748715232815,
          0.014183398070464395,
          0.0134779864678807,
          -0.02628048721495386,
          -0.0005426920205121918,
          -0.0036174326905932435,
          0.01524792352568504,
          0.03497935768612814,
          -0.15858512431764563,
          0.019850475852224495,
          -0.009220817677628827,
          0.004057585991373471,
          -0.014802640317284925,
          0.02067521984007644,
          0.2197081084155803,
          -0.04089993292440607,
          0.013604884858758902,
          0.0919940059297326,
          0.014417227891192071,
          -0.03292730746551866,
          0.015146092192185365,
          -0.004583587896525283,
          -0.006841667793785835,
          0.006884931304938513,
          0.009718887449797316,
          -0.022783039185382478,
          -0.3172172501830544,
          -0.006155602976230853,
          -0.00040129445877370567,
          0.008178841660346268,
          -0.08382841898273614,
          -0.0071785789636033435,
          0.013957953487830485,
          -0.007457282364210997,
          -0.009880122892896947,
          0.006693686672947899,
          0.017550232190989893,
          -0.007011860977822793,
          0.00878222590904161,
          -0.11446476105125468,
          0.012036803835966479,
          0.15706996618477465,
          0.013203854877129127,
          -0.16758508609993164,
          -0.026929210902458117,
          0.017447448530014124,
          0.0262323718983666,
          0.010943115151905736,
          0.014041015690852612,
          0.03480656862917987,
          0.15310103738481384,
          0.062021809314906945,
          0.005205362631265108,
          -0.04851973333358023,
          0.010755817842735368,
          -0.03799168174619374,
          0.18765411497858045,
          0.002496060294468491,
          -0.1331610893886097,
          -0.20436996637100924,
          0.03943885036187507,
          -0.10207460933246305,
          0.08609475907123229,
          0.06554549372995938,
          0.09163632551508047,
          -0.0007504457627314895,
          -0.18513640913176105,
          0.03615588784162481,
          -0.019671132844049664,
          0.023217803939323538,
          0.012558397752444344,
          0.0026838218692940693,
          0.01183178232636323,
          0.015293058951768553,
          0.015434163055748847,
          0.004361678986713625,
          0.011028229953070255,
          -0.06771265335856894,
          0.00859658143631156,
          -0.004726420334643999,
          -0.003979935530922147,
          0.0024669768269126135,
          -0.03154607007474552,
          0.02473397897649099,
          0.0974984489072941,
          0.01609494918206853,
          -0.08616489622484574,
          0.01211030657921942,
          0.0027236298905910297,
          -6.135277008700385e-05,
          -0.21701218173556205,
          0.03251620280888798,
          0.019191827062704465,
          0.009649877540488424,
          0.18363519837942407,
          0.0086423880057298,
          -0.08705710674672189,
          0.011373732029959446,
          -0.1338056916009675,
          -0.00016925159301947663,
          0.010416186328621116,
          0.013624280184470492,
          0.01177048216097937,
          -0.03229348088307688,
          0.00686514464655774,
          0.006978811285588746,
          0.016332981517257268,
          0.015171029300558823,
          0.016046189598230856,
          -0.005273711848709787,
          0.017872552826056487,
          0.016179252686496757,
          0.011831524338807032,
          0.021567162799602305,
          0.011754536545462522,
          -0.008455153691832739,
          0.005254604316811308,
          -0.0013039093320827149,
          -0.009966586023313441,
          0.002865383421256549,
          -0.028622472272862177,
          0.02300991985534759,
          0.02016417102054575,
          0.002180504177918865,
          0.019716742501646855,
          -0.10263084460241853,
          -0.10304234237049062,
          -0.012020858880983932,
          -0.00883371234687046,
          0.019273133596948298,
          0.0174132112966787,
          0.006273280182264974,
          0.0018235008052149384,
          -0.058282776121949535,
          -0.07725290398707897,
          0.01332674644902018,
          0.03651854558883204,
          0.014286575062429412,
          -0.007539673282384253,
          0.007124029360173967,
          -0.01320457806256087,
          -0.005163187902772092,
          0.019256119993159276,
          -0.006954759217008861,
          0.013749397055914037,
          0.007220387761903718,
          -0.13007260896629702,
          0.014104403680273723,
          -0.0015304384195068124,
          0.0210583228280545,
          0.020412561572226342,
          -0.014654856973121199,
          0.017514874298507097,
          0.011401958869294819,
          0.11389227476010971,
          0.003469107137476581,
          0.2340201223758682,
          0.0334072037082443,
          0.021831445102282545,
          -0.07791216854879573,
          0.009675097202133614,
          -0.003003552104478669,
          0.0054716202122320045,
          0.014235176017651854,
          0.01476089052480433,
          -0.010895799590540689,
          0.12929350589864708,
          0.008836095815133432,
          0.012565205871050502,
          -0.009168696277519263,
          -0.16572990596545617,
          -0.13991678516640185,
          0.022746971557317766,
          0.022770826485965005,
          0.022265993850893426,
          0.02910764702354659,
          -0.013972924654137665,
          0.030046513682794214,
          0.028098304312458914,
          -0.018166276163750817,
          0.011697361851062259,
          0.00992684494526973,
          0.0012998279050391575,
          0.020624114489616395,
          0.0012784442225864962,
          0.0008726703782844065,
          0.025072229571916686,
          -0.013255658042616057,
          -0.0037102668278380696,
          0.0033054604667662486,
          0.07768010863140629,
          0.016497329009499084,
          -0.0013125667815550113,
          0.010492030591239435,
          0.13394615447360053,
          0.015781611274881754,
          -0.03648406822818277,
          -0.027033531247575227,
          -0.15345170142237563,
          0.013089547966468551,
          0.006471390745605879,
          -0.2461854060576541,
          0.020823230953796526,
          0.003760078025581233,
          -0.012024697541454384,
          -0.044118974852862994,
          -0.016523282080811007,
          0.014724256282583498,
          -0.21067027380987752,
          0.02469915751742252,
          0.004112182107767586,
          -0.049879161042901056,
          -0.017695419440182162,
          0.015452884264325194,
          0.009995508419628598,
          0.002224691610153005,
          0.002774240602506874,
          0.012826511094826274,
          0.13479829389964385,
          -0.007823728910264326,
          -0.07187682160850216,
          6.4608491396032e-05,
          -0.03505871408604165,
          0.010761264800145701,
          0.006305975221893563,
          0.09126975902077439,
          0.012556114286572283,
          0.05392748540673976,
          -0.0802772968509832,
          -0.04596618108352841,
          -0.07311803250468506,
          0.016023880551679047,
          -0.20345244638784124,
          -0.11528702368062649,
          0.09529272509181293,
          -0.0852058615353077,
          0.0050069740314655055,
          0.02002252978606316,
          0.005017533168749061,
          0.024105144084284935,
          0.1159278360338572,
          0.010379475354002137,
          0.15566454932469737,
          -0.1900043643651363,
          -0.07233213381355526,
          -0.04527376028901932,
          -0.10622625703159141,
          0.030147691700371366,
          0.04109267547838338,
          0.02116789228365978,
          -0.11680431817175718,
          0.014093098626418483,
          0.06016100663180003,
          0.015739648040425047,
          -0.06361365897241833,
          -0.007066016054082874,
          0.04359718476841253,
          0.21878389209252333,
          0.0036872801942838722,
          -0.019764273576977173,
          -0.0016103655042725676,
          -0.0044918512647294405,
          0.012790646968494284,
          -0.0015118871989870696
         ],
         "yaxis": "y"
        },
        {
         "customdata": [
          [
           "pleased president trump pulled back taken preferred path military action",
           "rand paul"
          ],
          [
           "whole world know humanitarian assistance iran wide open sanctioned",
           "mike pompeo"
          ],
          [
           "protecting health san diegans top priority including living outdoors shelters",
           "kevin faulconer"
          ],
          [
           "mortgage brokers work locally indicated thing expect rates go fact think rates may go little bit",
           "tom cole"
          ],
          [
           "agreement yet finalized committee chairs democratic counterparts president trump representatives making important progress",
           "mitch mcconnell"
          ],
          [
           "designed facilitate crucial energy infrastructure development",
           "patrick morrisey"
          ],
          [
           "briefed staff periodically",
           "stephanie grisham"
          ],
          [
           "taliban uphold agreement united states begin conditions based repeat conditions based reduction forces",
           "mark esper"
          ],
          [
           "one games think might able steal one couple really good opportunities went",
           "john dean"
          ],
          [
           "united states understands ukraine important country geographic heart europe bulwark freedom authoritarianism eastern europe fields feed european continent pipelines keep europe warm winter",
           "mike pompeo"
          ],
          [
           "fed done tools use",
           "jerome powell"
          ],
          [
           "also gives sense security us parents leave kids safe environment safe building",
           "ken lackey"
          ],
          [
           "wells fargo uniquely flawed structure gross mismanagement stunted company response scandal",
           "patrick mchenry"
          ],
          [
           "thank fema continued commitment florida communities recovery hurricane irma reimbursement announced last night st john county great news",
           "marco rubio"
          ],
          [
           "saying share president view probably expectation going go embassies embassies prominent display american presence country",
           "mark esper"
          ],
          [
           "view unfortunate dragging american public",
           "kevin cramer"
          ],
          [
           "tax reductions attractive business climate responsible budgeting",
           "robin vos"
          ],
          [
           "look forward returning work truck show part association expanding relationships opportunity build previous assignments",
           "kevin koester"
          ],
          [
           "unanimous unequivocal draft go forward planned",
           "roger goodell"
          ],
          [
           "continue fewer dollars tomorrow fundamentally get iranian regime change model",
           "mike pompeo"
          ],
          [
           "never felt like willing get details either detail oriented person know wanted accomplish",
           "jared kushner"
          ],
          [
           "far eliminating practice plural marriage government actions merely isolated polygamous families drove underground instilled fear led culture secrecy within communities",
           "deidre henderson"
          ],
          [
           "replacement options costly think obamacare took us wrong direction",
           "elise stefanik"
          ],
          [
           "help alleviate",
           "brian babin"
          ],
          [
           "slovenia smiling non genuine smile really thing",
           "melania trump"
          ],
          [
           "would expect go january february collections couple months behind christmas season",
           "robert daniel"
          ],
          [
           "things provide tremendous information evidence law enforcement anonymity persons engaging certain activities soon completely deprived",
           "john mcginnis"
          ],
          [
           "long time harbored lot resentment way told family knew",
           "jessica simpson"
          ],
          [
           "house democrats said recognized gravity seriousness action impeachment course come reluctantly well nothing says seriousness sobriety like handing souvenirs though happy bill signing instead gravest process constitution",
           "mitch mcconnell"
          ],
          [
           "half country trying hold christian principles righteousness half seems meaningful faith",
           "james dobson"
          ],
          [
           "fishing essential part rural life unlike socal northstate lakes rivers crowded",
           "jim nielsen"
          ],
          [
           "authorities launched investigation case arrested lawbreakers",
           "phil robertson"
          ],
          [
           "got non catholic donald trump delivering catholic social teaching principles",
           "tim huelskamp"
          ],
          [
           "american people special interest",
           "matt gaetz"
          ],
          [
           "caused bubble real estate financial institutions overleveraged kinds human error",
           "patrick toomey"
          ],
          [
           "made ultimate sacrifice always remembered legacy bravely serving community state nation others could safe firefighter paramedic mccormick tragic passing serves reminder sacrifices made members missouri fire service take risks day protect neighbors people may never meet",
           "mike parson"
          ],
          [
           "fed aggressive fed want known reason went depression",
           "jerome powell"
          ],
          [
           "personalities making elections orderly sensible anybody running going equal shot winning",
           "david ralston"
          ],
          [
           "privileges recognized supreme court united states come united states constitution nonsense really constitution",
           "jay sekulow"
          ],
          [
           "drive thru testing villages style",
           "ron desantis"
          ],
          [
           "really know say say",
           "bill white"
          ],
          [
           "opinion xi jinping decided china going suffer rest world especially united states going suffer consequences actions",
           "tom cotton"
          ],
          [
           "continuing terror campaign region know happened december ultimately leading death american looking imminence need look days led strike taken soleimani",
           "mike pompeo"
          ],
          [
           "going lot moving parts going something like",
           "brian kemp"
          ],
          [
           "wonder democrats seek take credit trump economy eight years betraying blue collar workers inflicting pain upon middle class americans everywhere suffered",
           "kayleigh mcenany"
          ],
          [
           "forget listening political leaders subject",
           "chuck grassley"
          ],
          [
           "remain increasingly confident ventilators need coronavirus makes way across america",
           "mike pence"
          ],
          [
           "great ken side",
           "jessica moore"
          ],
          [
           "want make sure businesses otherwise would thriving well make pandemic enduring want make sure employees make pandemic",
           "susan collins"
          ],
          [
           "seeing definitely uptick number people purchasing travel insurance something recommended people years years help protect investment",
           "clay ingram"
          ],
          [
           "think end somewhere helpless like iran aggressive swift south korea",
           "scott gottlieb"
          ],
          [
           "one said photoshopped",
           "paul gosar"
          ],
          [
           "really appreciative masked singer",
           "sarah palin"
          ],
          [
           "years old want enjoy life great friends even think",
           "caitlyn jenner"
          ],
          [
           "feel confident problem impact people would usually impacted something like flu need prepare worst hope best",
           "roy blunt"
          ],
          [
           "low unemployment strong consumer confidence new trade deal china already resulted new poultry exports georgia poised bright spot nation coming year",
           "brian kemp"
          ],
          [
           "ok ok colleagues let go back chairs resume",
           "mitch mcconnell"
          ],
          [
           "important develop something actually shot become law",
           "john nygren"
          ],
          [
           "festers even elite college campuses incubate radical boycott divestment sanctions movement movement wage economic warfare jewish state",
           "tom cotton"
          ],
          [
           "focused replacing old cast iron water mains sewer lines improve neighborhood infrastructure better protect environment",
           "kevin faulconer"
          ],
          [
           "incredibly grateful angel day surreal",
           "susan king"
          ],
          [
           "one reason means helping people god given purpose use voice voice resonating serving purpose",
           "jessica simpson"
          ],
          [
           "chance review report doubtful conclusions read carefully change perspective",
           "tom cotton"
          ],
          [
           "get people thinking test matters",
           "mercedes schlapp"
          ],
          [
           "permanent unfunded mandates businesses",
           "mitch mcconnell"
          ],
          [
           "probably time history state challenging look pandemic",
           "stuart adams"
          ],
          [
           "bret baier reporting tonight bears shows chinese communist party responsible every single death every job lost every retirement nest egg lost coronavirus xi jinping chinese communist apparatchiks must made pay price turns true",
           "tom cotton"
          ],
          [
           "yes aware got prepared type contingency type war fighting environment may operating poised ready support whole government effort",
           "mark esper"
          ],
          [
           "even stay home orders directives place across nation zion still continues receive high number visitors day greatly increases risk infection communities near park look forward day pandemic draws close welcome world utah public lands",
           "gary herbert"
          ],
          [
           "workout trailer inspired tim mcgraw one said want one",
           "carrie underwood"
          ],
          [
           "dot want",
           "james oddo"
          ],
          [
           "seemed like trump haters actually relishing moment",
           "laura ingraham"
          ],
          [
           "basic rule city finance money mean spend",
           "richard montgomery"
          ],
          [
           "election months away",
           "pat cipollone"
          ],
          [
           "u economy currently good place",
           "michelle bowman"
          ],
          [
           "leading terrorist nation world",
           "donald rumsfeld"
          ],
          [
           "point democrats bungling making compelling case",
           "meghan mccain"
          ],
          [
           "problem know bernie sanders people would tolerate bloomberg",
           "lindsey graham"
          ],
          [
           "counsel gag vote anyway even think shortcomings address shortcomings bill process crafting",
           "mitch mcconnell"
          ],
          [
           "proud stand attorney general yost efforts end human trafficking",
           "dave yost"
          ],
          [
           "every citizen state much mind feel great deal sympathy whose lives dramatically disrupted also set aside long prepared plans weddings special events",
           "mitt romney"
          ],
          [
           "period august october north dakota wettest years recordkeeping came spring flooding severe summer drought",
           "doug burgum"
          ],
          [
           "democrats going great pressure make sure narrative trying create legislation want end day carries day going difficult republicans know gun legislation going ask difficult questions offer amendments might make difficult",
           "chris saxman"
          ],
          [
           "would however hard michigan say going interpret statute differently automakers",
           "dan crane"
          ],
          [
           "russia investigation failed devolved ukraine quid pro quo prove bribery maybe extortion",
           "jay sekulow"
          ],
          [
           "maximize efficiencies match draft panama canal",
           "sean duffy"
          ],
          [
           "ongoing spread coronavirus taking toll china public health economy may impact ability willingness meet commitments phase deal",
           "larry kudlow"
          ],
          [
           "maybe everybody room understands invasive problematic transvaginal ultrasound",
           "deidre henderson"
          ],
          [
           "lol women get pregnant men impregnate considered form bullying",
           "candace owens"
          ],
          [
           "people often ask came name know creative kind guy",
           "president bush"
          ],
          [
           "extremely expensive put someone death trials retrials things go along look purely fiscal conservative standpoint say maybe time take look putting people away life prison parole",
           "larry householder"
          ],
          [
           "told point mississippi cycle drastic restrictions required",
           "tate reeves"
          ],
          [
           "farmers hit hard outbreak change provides additional resources",
           "dean urdahl"
          ],
          [
           "latest large growing body evidence assad regime uses chemical weapons attacks syria part deliberate campaign violence syrian people",
           "mike pompeo"
          ],
          [
           "u senate year",
           "rick scott"
          ],
          [
           "urgent discussions need happen member level starting",
           "mitch mcconnell"
          ],
          [
           "honest much like president said let get real people demanding impeachment removal remedy bred rancor bears reason worse would set motion near certainty every president moving forward face impeachment guillotine fueled angry partisans putting self interest selflessness",
           "lamar alexander"
          ],
          [
           "want tell president going republican christopher steele",
           "lindsey graham"
          ],
          [
           "people asked close business stay home work engage certain economic activity pulling back certain point get virus control confidence return",
           "jerome powell"
          ],
          [
           "combined recent events last couple months increase volume attacks lethality weapons chose use combined string intelligence combined fact traveling across region put together combined fact tried storm embassy put together reach reasonable conclusion something really bad could happen near term act dozens hundreds americans could die",
           "marco rubio"
          ],
          [
           "want growth country inclusive incredibly low unemployment rate across every single demographic",
           "ivanka trump"
          ],
          [
           "president trump stop know man shame cannot shamed unfit office continue exploit personal gain thanks cowardice nearly every senate republican law dark day america century damage done president mitch mcconnell senate continue reverberate",
           "morgan griffith"
          ],
          [
           "least could honor show",
           "shannen doherty"
          ],
          [
           "mainly affected young women",
           "michael sullivan"
          ],
          [
           "legislation amend current law enhance access broadband communications rural parts state currently underserved",
           "mitt romney"
          ],
          [
           "may right path primary general election killer",
           "andy puzder"
          ],
          [
           "palestinians never done anything right sad pathetic lives",
           "jared kushner"
          ],
          [
           "believe pay premiums appreciate service get",
           "kevin stitt"
          ],
          [
           "seeking ways prevent criminals accessing firearms adding red tape costs hurdles placed law abiding gun owners",
           "jason plummer"
          ],
          [
           "looking forward getting getting know",
           "lance pruitt"
          ],
          [
           "decision whatsoever leave iraq",
           "mark esper"
          ],
          [
           "see steps take deal",
           "mike dewine"
          ],
          [
           "living breathing babies born",
           "joni ernst"
          ],
          [
           "log cabin much leave opening new offices pennsylvania avenue helping protect support gop allies vulnerable elections defeating federal marriage amendment senate house continuing build historic grassroots growth power across america",
           "patrick guerriero"
          ],
          [
           "advocacy badgering paid",
           "jim nussle"
          ],
          [
           "marching behalf vulnerable among us yet opportunity take first breath life",
           "jody hice"
          ],
          [
           "important want find crap started whistleblower former employee associate joe biden think would important whistleblower working people house intelligence chair adam schiff staff wanted take trump year half ago think would important",
           "lindsey graham"
          ],
          [
           "think race foreshadowing",
           "ted cruz"
          ],
          [
           "shameful pm viktor orban exploiting coronavirus pandemic seize dictatorial powers",
           "michael mccaul"
          ],
          [
           "opportunity never materialized good example one door closes another door opens serve running united states senate",
           "susan wagle"
          ],
          [
           "everyone entitled full meaningful right appeal told",
           "john shott"
          ],
          [
           "numbers show successful",
           "matt dollar"
          ],
          [
           "mr president westerdam ship floating china sea american country including guam allow us dock",
           "mike pence"
          ],
          [
           "fight alabama every day win republican nomination march",
           "jeff sessions"
          ],
          [
           "relaxing restrictions public activities resurgence pandemic",
           "tom cotton"
          ],
          [
           "looking bailouts may specific industries highly impacted travel issues lending like september government authorized certain loan guarantees may consider would say loan guarantees effective way making sure government paid back without putting government risk",
           "steven mnuchin"
          ],
          [
           "thought mind games",
           "tom watkins"
          ],
          [
           "mean nothing else outside definition would amount war think crosses threshold war minute circumvent congress article section authority declare war president lack authority declare unilaterally simply saying well ok got approval arab league ok got approval united nations curious case raised gotten authorization congress claimed among things time well time go united nations time go arab counsel gone congress",
           "terry jeffrey"
          ],
          [
           "united states supreme court ultimately decide either law similar law state",
           "mike dewine"
          ],
          [
           "impeachment ought reserved high crimes misdemeanors acts identified require timely prompt removal president house democrats confident findings ought problem sending articles within day deadline",
           "marsha blackburn"
          ],
          [
           "would benefit rate cuts though bp reduction would likely necessary drive nim",
           "steve moss"
          ],
          [
           "absentee ballot fraud common expensive investigate never reversed election status quo already bad mail balloting proposed emergency fix worse",
           "j. christian adams"
          ],
          [
           "one pooped puppy",
           "lisa murkowski"
          ],
          [
           "want continue national leader transportation innovation",
           "brian kemp"
          ],
          [
           "idea cases broward anywhere else want able supplement healthcare system",
           "ron desantis"
          ],
          [
           "today realistic",
           "mike pompeo"
          ],
          [
           "go look oan sic watch podcast",
           "rudy giuliani"
          ],
          [
           "would st paul city council choose celebrate abortion may think necessary evil celebrate abortion bizarre",
           "paul gazelka"
          ],
          [
           "safety net needs work together help vulnerable commonwealth",
           "karyn polito"
          ],
          [
           "cities folks drive neighborhood terrorism taken sharia law taken",
           "tommy tuberville"
          ],
          [
           "openly calling american turn",
           "marco rubio"
          ],
          [
           "think actually going insult lawyers senate detailed brief tone making serious mistake lawyers going buy members senate parties lawyers",
           "john dean"
          ],
          [
           "critical diverse perspectives",
           "mike rounds"
          ],
          [
           "eliminating legal restrictions women ability work night",
           "ivanka trump"
          ],
          [
           "united states continue support democratic aspirations iranians",
           "steven mnuchin"
          ],
          [
           "developing groundbreaking life coaching mentoring spiritual counseling system",
           "keith ablow"
          ],
          [
           "told julian assange would provide information purloined dnc emails exchange pardon",
           "dana rohrabacher"
          ],
          [
           "think anybody changed opinion john ratcliffe",
           "richard burr"
          ],
          [
           "get like wow made",
           "carlos estevez"
          ],
          [
           "number tests outstanding",
           "ron desantis"
          ],
          [
           "cult party",
           "helene walsh"
          ],
          [
           "know people concerned buying number items things still moving forward",
           "mike dewine"
          ],
          [
           "day comes know right part",
           "mike pence"
          ],
          [
           "legislature move without delay keep missouri government operating crisis provide needed resources front lines pandemic",
           "rob vescovo"
          ],
          [
           "airline bailout support airlines national security reasons taxpayers compensated",
           "steven mnuchin"
          ],
          [
           "put name word comes mind humbling tremendous honor",
           "justin simmons"
          ],
          [
           "make plans based telling going say well never mind know find money fix going look think",
           "lee hawkins"
          ],
          [
           "another day another hour another minute delay acting",
           "susan collins"
          ],
          [
           "joke time would like nothing never another person government stay one properties displaces true paying guest",
           "eric trump"
          ],
          [
           "another sweet reminder god god details came birthday",
           "michael o'donnell"
          ],
          [
           "families returning home spring break trips week need help slow spread look iowa department health website see traveled infected areas follow guidelines self isolate days hesitate call walk recommendations call employers many new travel work home policies may implemented gone know someone traveling please help us get word",
           "governor kim reynolds"
          ],
          [
           "february especially strong month real estate sales recording second highest number february sales since began keeping statistics years ago",
           "tom cole"
          ],
          [
           "someone parties going residents get upset view would probably determined locally",
           "ron desantis"
          ],
          [
           "ignorant indifferent constitution",
           "ted cruz"
          ],
          [
           "actually simple bill allows us bury fetal remains babies dignity",
           "liz brown"
          ],
          [
           "supplied cutting edge technology telecoms operators uk years",
           "newt gingrich"
          ],
          [
           "long history russia picking us two want",
           "mike pompeo"
          ],
          [
           "got long reach able recover want get aggressive get caught ice",
           "john marino"
          ],
          [
           "entire society going start type removal activities carbon dioxide",
           "jim blackburn"
          ],
          [
           "tampa chef ferrell alvarez trying preserve jobs converts rooster till ghost kitchen deliver three restaurants",
           "ashley moody"
          ],
          [
           "american universities colleges become prime target chinese espionage exploitation efforts",
           "mark esper"
          ],
          [
           "condemns human rights abuses took place sides brutal civil war el salvador including committed governmental non governmental parties",
           "mike pompeo"
          ],
          [
           "spite describing lou everyday americans right impact daily lives go norma livesl",
           "lou dobbs"
          ],
          [
           "gateway drug getting people addicted getting stronger drugs end committing crimes opens door bad habits behaviors going beneficial",
           "kristi noem"
          ],
          [
           "made important strategic investments education last couple years secure",
           "greg treat"
          ],
          [
           "today let inside capitol know never rest never relent commitment putting commonwealth back right course",
           "kathy byron"
          ],
          [
           "mississippians strong never go alone one us struggling stand hold helping hand fellow man people businesses pine belt still recovering recent devastation deserve helping hand working u small business administration committed helping mississippi businesses communities get back feet whenever disaster strikes",
           "tate reeves"
          ],
          [
           "likely come effects united states",
           "jerome powell"
          ],
          [
           "team preparing weeks confident right people place address fluid situation without panicking encourage south dakotans take seriously time prepare stay informed",
           "kristi noem"
          ],
          [
           "cia director lied cheated stole entire training courses reminds glory american experiment",
           "mike pompeo"
          ],
          [
           "wants run nation like running business god help us",
           "lara trump"
          ],
          [
           "keep standing strong stand love compassion always defined movement life",
           "mike pence"
          ],
          [
           "two individuals tested positive remain isolation time",
           "ron desantis"
          ],
          [
           "contractual question legal question attorneys answer",
           "lenny curry"
          ],
          [
           "20m port infrastructure development program grant port alaska help offset 1st phase costs port desperately needed modernization program enabling safe cost effective reliable port operations",
           "lisa murkowski"
          ],
          [
           "relieved fellow passengers survived cowardly attack unharmed",
           "mike pompeo"
          ],
          [
           "refreshing see well kevin work together",
           "jimmy haslam"
          ],
          [
           "think something able get",
           "ron desantis"
          ],
          [
           "looking forward continuing processes learn new information obviously could make adjustments today stay course faithful already laid path protect people health",
           "kristi noem"
          ],
          [
           "became mind numbing got general point trying make fourth time told",
           "lindsey graham"
          ],
          [
           "remain committed ensuring provisions year defense bill combat military sexual assault implemented swiftly working dod leaders end cancer military",
           "martha mcsally"
          ],
          [
           "understanding consequences marijuana imperative",
           "greg gianforte"
          ],
          [
           "big delivery easter items chocolate eggs set staple items run since outbreak coronavirus less items come donated",
           "phil williams"
          ],
          [
           "determined spread covid constitutes public health emergency",
           "alex azar"
          ],
          [
           "basis quorum majority present",
           "thomas massie"
          ],
          [
           "walked house reeked smoke",
           "shannen doherty"
          ],
          [
           "duncan know introduced temecula district changed took around tell one time different vote one time work together tough issue",
           "darrell issa"
          ],
          [
           "particular logical construct house managers used deceptive used several times logical construct x",
           "ted cruz"
          ],
          [
           "war science since came",
           "christine todd whitman"
          ],
          [
           "surprised audience lobbied chinese communist party directly",
           "mike pompeo"
          ],
          [
           "exploring innovative options process conducted",
           "roger goodell"
          ],
          [
           "relieve judges afford time study case carefully come good decisions",
           "richard gordon"
          ],
          [
           "brock lesnar champ never comes work",
           "vince mcmahon"
          ],
          [
           "main takeaway year survey report providers payers differ significantly current future state healthcare",
           "david gallegos"
          ],
          [
           "leader mcconnell joins cosponsors",
           "rick scott"
          ],
          [
           "even competitive states little incentive break president",
           "carlos curbelo"
          ],
          [
           "little ago united states senate voted acquit president donald trump articles impeachment",
           "mike pence"
          ],
          [
           "know hunter wants hunt animal knowingly kill bald eagle",
           "david trahan"
          ],
          [
           "unemployment claims yesterday day",
           "ron desantis"
          ],
          [
           "asking president get involved asking president help us solve problem",
           "mike rounds"
          ],
          [
           "george washington university study found iowa billion stake census different programs consider population part distribution formula",
           "adam gregg"
          ],
          [
           "pennsylvania house opportunity provide immunity health care providers businesses responding covid crisis past week left town without taking legislation provide needed protection",
           "curt schroder"
          ],
          [
           "given dishonesty proximity labs know working coronaviruses reasonable responsible us ask question demand answers",
           "tom cotton"
          ],
          [
           "freeing bed space either patients identified coronavirus back end recovering coronavirus",
           "mark esper"
          ],
          [
           "effort democrats take control majority united states senate election would say let voters decide",
           "john barrasso"
          ],
          [
           "autistic people lack empathy",
           "adam harris"
          ],
          [
           "market go like rocket",
           "melania trump"
          ],
          [
           "end day whether fits mourinho style plays mourinho generally plays could certainly see willian playing left right giving bit quality",
           "kevin phillips"
          ],
          [
           "hopeful reach agreement proceed trial allow opportunity witnesses house managers president counsel choose",
           "susan collins"
          ],
          [
           "resident sent video desperation firing range nagpatayan firearms pla people liberation army id cards sabi nung ambassador hunted eh nakuha dun",
           "richard gordon"
          ],
          [
           "saw letter national restaurant association",
           "mitch mcconnell"
          ],
          [
           "long stay busy keep mind occupied sit hits every day",
           "tommy davis"
          ],
          [
           "deceitful fearful politics war terrorism central underappreciated part trump rise power",
           "mike pence"
          ],
          [
           "basically baby hoping ends becoming reality",
           "sylvester stallone"
          ],
          [
           "personally supporter",
           "mitch mcconnell"
          ],
          [
           "department homeland security livid strongly urged agenda pulled",
           "sue myrick"
          ],
          [
           "wish coach moore best luck future endeavors",
           "jonathan jordan"
          ],
          [
           "wish worn gas mask conservative political action conference",
           "matt gaetz"
          ],
          [
           "appreciate commission members stepping work community leaders partners across state encourage full fair count residents biggest cities smallest rural communities",
           "roy cooper"
          ],
          [
           "seems impossible painful practice like female genital mutilation could allowed happen united states stay silent women young girls suffer egregious injustice",
           "marsha blackburn"
          ],
          [
           "know exactly day would executed clear qassim suleimani plotting broad large scale attack american interests attacks imminent",
           "mike pompeo"
          ],
          [
           "think texas based oil natural gas companies committed making climate progress committed lower emissions future",
           "todd staples"
          ],
          [
           "rules provide",
           "mitch mcconnell"
          ],
          [
           "tough enough stand president trump",
           "tommy tuberville"
          ],
          [
           "come irish pub expect pretty much mayhem going get opposite people want obviously favour cowboy good banter pub",
           "scott sherman"
          ],
          [
           "understand law enforcement wants use tools ends justify means",
           "craig hall"
          ],
          [
           "also provided billion department office nuclear energy responsible research development advanced reactors small modular reactors billion national nuclear security administration including record funding levels weapons program naval reactors",
           "lamar alexander"
          ],
          [
           "judicial discretion assaulted laws lawyers forced conduct pre trial discovery ways unprecedented",
           "joseph giglio"
          ],
          [
           "pretty concerned house bill making bad situation worse economy",
           "james lankford"
          ],
          [
           "going pass democratic party wishlist includes rolling back protections put place fraud occurred last election cycle",
           "ralph hise"
          ],
          [
           "healthcare reform hard especially hard keep making money old fashioned way fee service",
           "mark mcclellan"
          ],
          [
           "learned premera premera became obvious choice given company long term commitment spokane eastern washington",
           "david condon"
          ],
          [
           "believe current stance monetary policy appropriate support sustained economic growth strong labor market inflation returning symmetric objective",
           "jerome powell"
          ],
          [
           "growing losing young people",
           "mike flood"
          ],
          [
           "possession anticipate least attempting get votes see done",
           "lee chatfield"
          ],
          [
           "engage shenanigans",
           "mitch mcconnell"
          ],
          [
           "try attack everybody running around ak",
           "mike pompeo"
          ],
          [
           "would something considering position",
           "mitt romney"
          ],
          [
           "running scr",
           "david gowan"
          ],
          [
           "remember though really alone alone together exactly going get mess",
           "carrie underwood"
          ],
          [
           "think entirely likely testimony would helpful president would identify basically foreign policy dispute reserved president constitution",
           "john cornyn"
          ],
          [
           "going see vanna pat impression great job special letter toucher pay attention",
           "pat sajak"
          ],
          [
           "idea reaches level impeachment legally speaking really absurd",
           "jay sekulow"
          ],
          [
           "challenge anyone wanted nation challenge overcome someday hopefully soon nation virus heels main street small businesses thriving families flying around country reunite catch",
           "mitch mcconnell"
          ],
          [
           "wanted talk disinformation people seeing twitter around world coming government coming individuals",
           "mike pompeo"
          ],
          [
           "potential conflicts interest posed business activities hunter biden associates",
           "chuck grassley"
          ],
          [
           "opening return modern american life public health decision period",
           "douglas holtz-eakin"
          ],
          [
           "bureaucracy tried push back way insubordinate downright unhealthy government",
           "kevin cramer"
          ],
          [
           "want put tax people go ahead put carbon tax tax hard working people personally think costs going lot lower years technology",
           "steven mnuchin"
          ],
          [
           "mar lago amazing estate effective tool father go get know somebody sitting across wooded partition instantly makes relationship strenuous",
           "eric trump"
          ],
          [
           "caving radical left social agenda",
           "ted cruz"
          ],
          [
           "gives everybody flexibility need go somewhere weekend",
           "mike braun"
          ],
          [
           "important people able understand temper expectations going done overnight national backlog",
           "ron desantis"
          ],
          [
           "ready real deal",
           "jessica simpson"
          ],
          [
           "think likely favor witnesses made decision finally yet sides opening arguments done",
           "mitt romney"
          ],
          [
           "wash hands avoid public gatherings",
           "meghan mccain"
          ],
          [
           "requires districts use percent total allocation increase minimum classroom teacher salary toward governor stated goal intent goal would met statewide next several years",
           "kelli stargel"
          ],
          [
           "fuels people anger misguided hate instead leading compassion simply gaslights laughs",
           "deroy murdock"
          ],
          [
           "nc principal steve fisk approached athletic director job quite frankly always eye",
           "dave hall"
          ],
          [
           "many become home school teachers last week know extremely difficult children need help slow spread virus committed ensuring students get best education year",
           "roy cooper"
          ],
          [
           "need policy washington c handpicks winners losers",
           "ben sasse"
          ],
          [
           "president withheld vital military funds government press president delayed funds american ally war russian invaders president purpose personal political accordingly president guilty appalling abuse public trust flagrant assault electoral rights national security fundamental values corrupting election keep oneself office perhaps abusive destructive violation one oath office imagine",
           "mitt romney"
          ],
          [
           "recall artist committed making tiny desk concert memorable met allen stone weeks prior go priorities expectations usual formalities different",
           "bobby carter"
          ],
          [
           "focused thus far africom southcom continue way combatant commands succeeding months scrutinizing missions tasks requirements resources",
           "mark esper"
          ],
          [
           "go far say maybe say living parallel universe think real real numbers going continue increase definition virus",
           "gov. eric holcomb"
          ],
          [
           "still mode think options eliminated completely",
           "mike shirkey"
          ],
          [
           "tell goes longer expected need support stressed families doctors nurses",
           "tom cotton"
          ],
          [
           "year people come giving everyone one ticket free enter drawing",
           "susan hutchison"
          ],
          [
           "still trying get final legislation see",
           "jim jordan"
          ],
          [
           "result savings million dollars protecting citizens need services taxpayers deserve tax dollars used wisely",
           "mike parson"
          ],
          [
           "vote exercising constitutional authority moral obligation decide troops going asked give lives",
           "thomas massie"
          ],
          [
           "washington state frontlines coronavirus america",
           "mike pence"
          ],
          [
           "one worst people could find swamp",
           "devin nunes"
          ],
          [
           "tied processes flows builds creates dense regions star formation",
           "robert hurt"
          ],
          [
           "mayor bloomberg lot respond",
           "lester holt"
          ],
          [
           "someone let senator know men got done directing attacks embassy k1 air base facility",
           "dan crenshaw"
          ],
          [
           "cut cover iba verbal trademarks players knew shouts coming way took bad shot threw ball away horror horrors iba book let man get loose defense henry averse conducting three practices day middle initial p payne might well discipline yet former players feelings toward almost percent love respect",
           "bobby knight"
          ],
          [
           "great celebration america",
           "cathy mcmorris rodgers"
          ],
          [
           "unique ohio",
           "mike dewine"
          ],
          [
           "formidable campaigner",
           "cynthia lummis"
          ],
          [
           "think things happening around us people want know elections secure",
           "paul gazelka"
          ],
          [
           "executive order prohibit people accessing essential services engaging essential daily activities going grocery store gas station providing obtaining essential services",
           "greg abbott"
          ],
          [
           "worked president three years know much values people team",
           "mike pompeo"
          ],
          [
           "illustrate vivid bold color predator run amuck okay university administration",
           "mike cox"
          ],
          [
           "condition nature described president zelenskiy come washington visit",
           "mike pompeo"
          ],
          [
           "tiniest town world never plane like sing lots people like sing wanted grow famous singer lot people think honestly thought would happen would go door would shut could move rest life saying well tried",
           "carrie underwood"
          ],
          [
           "testing lagging indicator fact got positives indicator spread widely think",
           "doug burgum"
          ],
          [
           "list essential films",
           "william wolf"
          ],
          [
           "office stands prepared certainly stand prepared anything assist facilitating federal resources applied appropriate provided law",
           "ted cruz"
          ],
          [
           "badgering saying well decision saying authority",
           "ron desantis"
          ],
          [
           "said brian tell day discussion right going continue lean effort combat pandemic",
           "mike pence"
          ],
          [
           "help guide institutions felt good direction",
           "mike la rosa"
          ],
          [
           "ran democratic sen dick durbin beat counties carried 14th district beat durbin sure beat underwood",
           "jim oberweis"
          ],
          [
           "genesis report recommendation lot actions",
           "john delaney"
          ],
          [
           "think bridge get quickly",
           "steven mnuchin"
          ],
          [
           "lacked original wet signature",
           "rolando pablos"
          ],
          [
           "task force state agencies working closely local health departments health care providers others",
           "roy cooper"
          ],
          [
           "loved people vibe industry indoors pretty much",
           "rod chandler"
          ],
          [
           "asymptomatic tested abundance caution due extensive travel events aware direct contact infected person",
           "rand paul"
          ],
          [
           "wrong wrong wrong move",
           "jim jordan"
          ],
          [
           "remember prior guidance u discouraged mask time probably hundreds maybe low thousands cases officials maintained community spread",
           "scott gottlieb"
          ],
          [
           "know ends senate know story ends know history writes",
           "joe scarborough"
          ],
          [
           "senate decides allow prosecution call yet witnesses witnesses house want call witnesses defense needs able call minimum equal number witnesses witnesses choice",
           "hugh hewitt"
          ],
          [
           "state growing economy continues show world south carolina right business",
           "henry mcmaster"
          ],
          [
           "insurance companies guilty keeping money",
           "paul ray"
          ],
          [
           "glad see flowers baking company expanding operations lynchburg",
           "mark peake"
          ],
          [
           "think fact community spread nc good thing",
           "roy cooper"
          ],
          [
           "completely overwhelmed point",
           "josh hawley"
          ],
          [
           "continue balance",
           "mike dewine"
          ],
          [
           "variety approaches currently discussion among policy makers administration congress well private sector address near term liquidity needs aerospace travel sectors affected current covid crisis",
           "nikki haley"
          ],
          [
           "actions taking continue take compliment work china world health organization",
           "alex azar"
          ],
          [
           "want able identify many cases state",
           "ron desantis"
          ],
          [
           "president said would love see around easter whenever day responsibly begin open portions country",
           "mike pence"
          ],
          [
           "upshot diagnosed advanced lung cancer diagnosis confirmed two medical institutions back jan",
           "rush limbaugh"
          ],
          [
           "senate republicans want put cash americans hands americans lost work would quickest possible first wave government assistance supplement unemployment insurance help bills immediate needs",
           "mitch mcconnell"
          ],
          [
           "explain earth thought thought proposed giving mrs carr pto days workdays year",
           "randy fine"
          ],
          [
           "enemy dangerous relentless using us host within ability fight back stop moving stop moving stops moving reach someone else",
           "mike dewine"
          ],
          [
           "must extend hand times need willingly sacrifice day provide freedom security never enough show gratitude nation defenders always little",
           "gary sinise"
          ],
          [
           "senate send landmark agreement president desk big bipartisan win comes week president trump also signed phase one administration trade agreement china",
           "mitch mcconnell"
          ],
          [
           "know start wuhan food market original story chinese communist party responsible ask start",
           "tom cotton"
          ],
          [
           "would say kushner go back real estate new york",
           "sam nunberg"
          ],
          [
           "want responsive want quick new things pop working governmentwide response plan know hope resolve one",
           "elaine chao"
          ],
          [
           "free prisoners camps let religions practice faith freely open doors western journalists ngos state department investigate allegations",
           "sam brownback"
          ],
          [
           "highly desirable little pocket south boston",
           "joe rogers"
          ],
          [
           "recognizing settlements inherently violate international law important disavowing deeply flawed hansell memo returning balanced sober reagan era approach",
           "mike pompeo"
          ],
          [
           "coming president coming one voted think position united states",
           "mark meadows"
          ],
          [
           "contained highly contagious materials",
           "mike pompeo"
          ],
          [
           "want moment peddle books",
           "stephanie grisham"
          ],
          [
           "fundamental question ethics running government actually get place someone specific agenda pay within office starts call question whether multiple masters within attorney general office starts really stink",
           "patrick morrisey"
          ],
          [
           "today final act",
           "lester holt"
          ],
          [
           "view think football people something dealt quickly firmly make clear players acceptable add one thing clubs also fined clubs clubs clubs participated necessarily responsible accountable message want understand",
           "roger goodell"
          ],
          [
           "want get help way feel want pitch",
           "peggy noonan"
          ],
          [
           "location medline new state art facility along interstate allow serve landmark community area around new interchange continues develop vibrant addition richmond hill look forward jobs capital investment created result project",
           "brian kemp"
          ],
          [
           "put jail",
           "meghan mccain"
          ],
          [
           "wants start law firm",
           "caitlyn jenner"
          ],
          [
           "look months saying important got remove president immediately threat know whole way life pass impeachment want senate get papers start trial ways",
           "steve scalise"
          ],
          [
           "foolish",
           "roger marshall"
          ],
          [
           "want bring black ball point pen want bring hand sanitizer certainly encourage",
           "shane schoeller"
          ],
          [
           "abolition written must seemed wildly exaggerated",
           "janice rogers brown"
          ],
          [
           "result gdp growth march quarter likely noticeably weaker earlier expected given evolving situation difficult predict large long lasting effect",
           "phillip lowe"
          ],
          [
           "deserves think really good job one thing tate knows strong good solid conservative",
           "haley barbour"
          ],
          [
           "caniacs prepping big game like",
           "todd graves"
          ],
          [
           "school closings way families adjust places restaurants take",
           "jeff sessions"
          ],
          [
           "economic risks directions",
           "steven mnuchin"
          ],
          [
           "knew cases coming china president took unprecedented step making sure restricted travel areas",
           "alex azar"
          ],
          [
           "seeing little bit back fill today",
           "jim gerlach"
          ],
          [
           "smelly walmart shoppers deplorables",
           "matt gaetz"
          ],
          [
           "good found obviously budget still fluid think better later",
           "marylynn magar"
          ],
          [
           "think good case could built would utterly irrational trump administration brief people trying unseat remove power overthrow presidency done everything power",
           "lou dobbs"
          ],
          [
           "life would lot easier",
           "tommy tuberville"
          ],
          [
           "fifth circuit holding clear federal government cannot order private citizens purchase subpar insurance products want",
           "ken paxton"
          ],
          [
           "cities booming lot help rural areas state",
           "roy cooper"
          ],
          [
           "dr li tried warn country world deadly coronavirus silenced chinese communist party ccp",
           "tom cotton"
          ],
          [
           "appreciate realising",
           "tate reeves"
          ],
          [
           "fundamentals u strong",
           "richard clarida"
          ],
          [
           "nine months away election nine months away america people voting direction country democratic colleagues trust american people taken matters hands",
           "john cornyn"
          ],
          [
           "new process complements several cleaning sanitation efforts including deep cleaning cruise terminals every cruise",
           "paul anderson"
          ],
          [
           "explain increase coming",
           "caryn tyson"
          ],
          [
           "w e let health crisis become economic crisis already",
           "sandy stimpson"
          ],
          [
           "issue identifying proper vehicle proper vehicle comprehensive tiered approach best chance advancing cause life without sacrificing gains made",
           "randy mcnally"
          ],
          [
           "opec called central bank oil disappeared",
           "andrew gould"
          ],
          [
           "decision implement personnel cap based content produced entities place restrictions designated entities may publish united states",
           "mike pompeo"
          ],
          [
           "economic fallout china virus matter u economy point expect drag u growth first quarter smaller hit second",
           "jerome powell"
          ],
          [
           "number places policy divides incredibly wide",
           "bill northey"
          ],
          [
           "develop comprehensive strategy implement earth science decadal",
           "jim bridenstine"
          ],
          [
           "political capital consensus country would necessary major step exist today",
           "zalmay khalilzad"
          ],
          [
           "still single federal policy control greenhouse gases aviation books today",
           "dan rutherford"
          ],
          [
           "reason saying still see photographs videos people sitting outside cafes world good time hanging crowds",
           "arnold schwarzenegger"
          ],
          [
           "saying past four years",
           "governor phil bryant"
          ],
          [
           "going back forth meeting countries etc etc",
           "hugh hewitt"
          ],
          [
           "test lebanon new government actions responsiveness demands lebanese people implement reforms fight corruption",
           "mike pompeo"
          ],
          [
           "jameslipton actors studio great gentleman unpeeled profession onion grace skill rip",
           "geraldo rivera"
          ],
          [
           "going reflect fact president said areas country require continued mitigation strong efforts areas country given guidance greater flexibility president directed team",
           "mike pence"
          ],
          [
           "british people wanted tyranny brussels",
           "mike pompeo"
          ],
          [
           "let turn page",
           "lindsey graham"
          ],
          [
           "entire state ohio vulnerable tornadoes",
           "mike dewine"
          ],
          [
           "branded anti union pro coal outspoken individual view using right free speech",
           "don blankenship"
          ],
          [
           "global warming myth global warming treaty disaster earth actually cooler today years ago fact climatologists agree best global warming theory future climactic conditions cannot proven based upon historic record",
           "mike pence"
          ],
          [
           "tell time told good enough smart enough fast enough big enough something",
           "scott taylor"
          ],
          [
           "prompted crowd left wing activists boo two associate justices though supreme court justices professional athletes senator schumer jeering stands",
           "mitch mcconnell"
          ],
          [
           "get covid impact focus security stability prosperity pacific need infrastructure development region critical technologies still require attention remain focused action oriented",
           "mike pompeo"
          ],
          [
           "think rest assured prepared whatever interview whistleblower",
           "richard burr"
          ],
          [
           "going screw another opportunity like screwed every opportunity ever existence",
           "jared kushner"
          ],
          [
           "packed ready come back tonight",
           "james lankford"
          ],
          [
           "rushing bill process seeking push taxpayer dollars door",
           "kay granger"
          ],
          [
           "think institutional argument",
           "lindsey graham"
          ],
          [
           "american casualties coalition casualties president said yesterday continue believe iran standing",
           "mike pence"
          ],
          [
           "physically walked trail fell",
           "david funderburk"
          ],
          [
           "future whenever open return going penalized",
           "robert mueller"
          ],
          [
           "asymptomatic tested abundance caution due extensive travel events",
           "rand paul"
          ],
          [
           "okay well stop time",
           "kurt wright"
          ],
          [
           "acted total accordance law police department procedures",
           "john suthers"
          ],
          [
           "think beginning department health florida proactive",
           "ron desantis"
          ],
          [
           "read online yesterday called joy immediately like option leaving leaving none us leaving pandemic election world insane also pregnant need advice pregnant someone probably pregnancy similar going option joy leaving none us going let go",
           "meghan mccain"
          ],
          [
           "try mold policies avoid racial disparities going twisting avoid penalizing criminal behavior victimized going law abiding residents minority communities",
           "heather mac donald"
          ],
          [
           "individually would finding duplication inefficiencies cannot afford",
           "barbara barrett"
          ],
          [
           "iraq alone last years qasem soleimani killed americans",
           "tom cotton"
          ],
          [
           "prayer still legal pandemic",
           "roy cooper"
          ],
          [
           "grade president trump leadership nation fight wuhan virus",
           "lou dobbs"
          ],
          [
           "could carry mission without volunteers volunteer generation fund grant supports recruitment management retainment recognition skills based volunteers manna",
           "clay ingram"
          ],
          [
           "trump slow almost dismissive",
           "george w. bush"
          ],
          [
           "know going enforcement one questions",
           "bob o'dekirk"
          ],
          [
           "three years ago today happiest day life remember day happy birthday chloe jake x x beautiful twins",
           "steven ford"
          ],
          [
           "looked back phone saw service",
           "robert ross"
          ],
          [
           "guys really like gym know need athletes really self check probably worst thing sit couch play video games watch tv movies little bit great need balance",
           "richard burr"
          ],
          [
           "west west role world",
           "mike pompeo"
          ],
          [
           "know future protected building strong framework know future comfortable insulate seal elements know future beautiful adding colors style result safe affordable house built love",
           "michael adams"
          ],
          [
           "staff lit said need",
           "doug burgum"
          ],
          [
           "small component airlines national security companies broad based lever trillion help everything small business big businesses get next days",
           "steven mnuchin"
          ],
          [
           "younguns kinds unnatural things sex organs people transfer kinds chemicals ladies private parts think virus came never kind thing coming one committing oral sex back",
           "pat robertson"
          ],
          [
           "president communicated ukraine",
           "mitt romney"
          ],
          [
           "wake every day determination go bed every night work day never get want seen tv blaming anybody want position",
           "mike dewine"
          ],
          [
           "love india",
           "melania trump"
          ],
          [
           "knew present knew something",
           "jessica simpson"
          ],
          [
           "go full hammer virus full shutdown use stimulus bridge economic crisis",
           "steve bannon"
          ],
          [
           "chinese government methodical way analyzed system open system one deeply proud assessed vulnerabilities decided exploit freedoms gain advantage us federal level state level local level",
           "mike pompeo"
          ],
          [
           "long time lot presidents good good got good one even though trying impeach son bitch believe",
           "melania trump"
          ],
          [
           "minor league baseball teams major impact small communities teams provide enormous cultural economic benefit communities call home goal involvement fight ensure level playing field negotiations major league baseball mlb milb away teams reasonable solution hopeful milb mlb find acompromise preserve milb teams address mlb concerns",
           "david mckinley"
          ],
          [
           "screening call going give right amount information determine track case needs go",
           "julie rosen"
          ],
          [
           "think president win court daca set aside obama era daca rules mean going give legal status hope get something",
           "lindsey graham"
          ],
          [
           "know look back people bought stocks crash people bought stocks financial crisis",
           "steven mnuchin"
          ],
          [
           "taken nothing table inclination always support chain command take recommendations seriously",
           "mark esper"
          ],
          [
           "working around clock mdoc dps respond immediately prevent going forward much done asked provide much information public possible quickly possible transparency first step",
           "tate reeves"
          ],
          [
           "certain parts u society including u politicians take coronavirus seriously enough might situation",
           "brent steele"
          ],
          [
           "fact republicans democrats start behaving like americans",
           "steve womack"
          ],
          [
           "continue job",
           "connie myers"
          ],
          [
           "think fair say quite bit discussion nuts bolts let say house managers asked bolton senate subpoena would happen next",
           "josh hawley"
          ],
          [
           "year seven abortions missouri real republican opportunity keep missouri right track",
           "mike parson"
          ],
          [
           "florida issues strawberry production season combination slight delay mexico resulted little extra demand market january february demand dropped back usual valentines day high right mexico florida peak production markets coming recovering expect soon see nice equilibrium supply demand",
           "jerry moran"
          ],
          [
           "really gave us jump start slowing spread virus also fortunate got world recognized experts infectious diseases university nebraska medical center know got one three bio containment facilities country federally funded quarantine unit",
           "pete ricketts"
          ],
          [
           "go remember trillion added debt",
           "mitch mcconnell"
          ],
          [
           "blinded hated trump",
           "marco rubio"
          ],
          [
           "also hope help hoosiers get care need faster efficiently helping reserve emergency rooms hospital beds sick patients truly need higher level care public health emergency",
           "jennifer sullivan"
          ],
          [
           "praise president three half years president course policy disagreements never let become personal",
           "thomas massie"
          ],
          [
           "continue assess potential impact missions situation unfolds",
           "jim bridenstine"
          ],
          [
           "remain steady low rate",
           "mike pence"
          ],
          [
           "got lot pictures",
           "don jr. ."
          ],
          [
           "mud crab numbers year poor actually lot upriver due lack rainfall",
           "jason isaac"
          ],
          [
           "saw adam schiff actually thought seemed performative clearly trying take diane feinstein point surprised runs seat",
           "meghan mccain"
          ],
          [
           "talk great case impeachment proud yeah course",
           "darin lahood"
          ],
          [
           "might worried sectors economy really hard hit",
           "larry kudlow"
          ],
          [
           "need call master protocol basically test lot drugs",
           "scott gottlieb"
          ],
          [
           "guns aimed head",
           "bill weld"
          ],
          [
           "heard issues secretary state agencies automatic voter registration law called implementing understanding agencies",
           "avery bourne"
          ],
          [
           "national youth tobacco survey begins march going show decline minors use e cigs new age restriction best hope",
           "scott gottlieb"
          ],
          [
           "got best tour guide ensuring going right places kylie knows hippest spots",
           "caitlyn jenner"
          ],
          [
           "done years say veterans choice",
           "jerry moran"
          ],
          [
           "iran deal lifted prohibition iran missile testing development systems capable delivering nuclear weapons seeing dangerous consequences today",
           "mike pompeo"
          ],
          [
           "absolutely lie",
           "jeff landry"
          ],
          [
           "powerful sanctions iranian economy poorly help make good short period time perhaps proud foolish ask help let see road choose totally",
           "melania trump"
          ],
          [
           "mess texas blue bell",
           "greg abbott"
          ],
          [
           "think definitely answer president trump requested",
           "kay bailey hutchison"
          ],
          [
           "please take message back homeland americans united venezuelan people righteous struggle freedom socialism destroys nations always remember freedom unifies soul",
           "melania trump"
          ],
          [
           "parole granted result violent criminals released communities",
           "robert bell"
          ],
          [
           "florida outlier anymore appropriate",
           "rob bradley"
          ],
          [
           "really want make sure robust appropriate rolls ensure everyone vote counts accurate troublemakers things abide principle one person one vote",
           "brad raffensperger"
          ],
          [
           "agricultural industry cannot rely traditional systems alone meet growing demand protein around world however wholesale shift away meat save planet",
           "richard heath"
          ],
          [
           "add much issue foreign minister zarif travel united states say always comply obligations u n requirements headquarters agreement particular instance broadly every day",
           "mike pompeo"
          ],
          [
           "impeachment declared illegal would remove constitutional limitation crimes power impeach would allow house impeach policy differences political leverage",
           "rudy giuliani"
          ],
          [
           "must examine sources sickening form modern day slavery fully eradicate society ensuring complete accurate data believe prevent protect one life turned upside horrific abuse",
           "joni ernst"
          ],
          [
           "time grappling new warfighting environment given reemergence great power competition russia china",
           "david norquist"
          ],
          [
           "said done got less dependent china supplies medication pharmaceuticals think huge lesson process learning right believe end day much stronger much self reliant currently said done going end making america stronger ever",
           "jody hice"
          ],
          [
           "momentum clearly direction moving final judgement friday",
           "john barrasso"
          ],
          [
           "underestimated desire freedom rests hearts venezuelan people",
           "mike pompeo"
          ],
          [
           "opened door wide double door hunter biden joe biden burisma issue guess figured way getting ahead address",
           "jay sekulow"
          ],
          [
           "constitution specifies handful federal crimes leaves rest individual states prosecute",
           "thomas massie"
          ],
          [
           "important congress work get bottom coverup",
           "michael mccaul"
          ],
          [
           "instructed ohio adjutant general take whatever actions necessary assist local authorities protect lives safety health property citizens affected devastating earthquakes",
           "mike dewine"
          ],
          [
           "hopeful optimistic get bipartisan support bill negotiated bispartisan basis senate",
           "mitch mcconnell"
          ],
          [
           "asking throw successful president eve election basis violation constitution",
           "pat cipollone"
          ],
          [
           "two sides agreed prisoner releases sides start march",
           "zalmay khalilzad"
          ],
          [
           "maddening mind numbingly stupid",
           "james oddo"
          ],
          [
           "trust caller id give social security number personal information provide money employees never threaten demand money",
           "andrew saul"
          ],
          [
           "egregious reporting see every day mainstream media",
           "lara trump"
          ],
          [
           "must ensure balance innovation need protect national security maintain integrity financial system",
           "steven mnuchin"
          ],
          [
           "people hear",
           "mike pompeo"
          ],
          [
           "really need ramp testing people confidence go",
           "susan collins"
          ],
          [
           "hud vash critical nearly percent decline veteran homelessness since proof federal government local agencies capable solving complex problems together",
           "robert wilkie"
          ],
          [
           "ordering missouri public charter schools remain closed remainder academic year exceptions nutrition services child care outlined recent health order",
           "mike parson"
          ],
          [
           "adamant president zelenskyy clear things public",
           "gordon sondland"
          ],
          [
           "president trump say go cultural site read said",
           "mike pompeo"
          ],
          [
           "texas leads nation crude oil production accounting percent u production created big dividends texas taxpayers industry paid billion state local taxes top billion state royalty payments",
           "christi craddick"
          ],
          [
           "sure bad democracy house job",
           "roy blunt"
          ],
          [
           "live real world debate went constitutional democracy get ready lively debate",
           "lindsey graham"
          ],
          [
           "americans find masks stores point fingers chinese americans buying masks donate china",
           "phillip chen"
          ],
          [
           "one allowed especially someone years old allowed house anymore california stay home eat",
           "arnold schwarzenegger"
          ],
          [
           "transferring water rights house",
           "phil ruffin"
          ],
          [
           "make sure whoever runs organization understands importance enforcing intellectual property rights across nations across boundaries",
           "mike pompeo"
          ],
          [
           "people involved movement happening people friendly concerned right thing people starting come together spirit people especially young people tremendous trying something trying right thing say privileged part part people trying right thing",
           "william walker"
          ],
          [
           "like achieve educate people point understand never happen",
           "kay kirkpatrick"
          ],
          [
           "talk whatsoever martial law",
           "mark esper"
          ],
          [
           "artificial intelligence employed improve efficiency sensitivity radiologists workflow enhancement image triage quantitative analysis identification pathological findings",
           "blake johnson"
          ],
          [
           "schools big task difficult task",
           "mike dewine"
          ],
          [
           "one top priorities glad governor making priority well",
           "julie rosen"
          ],
          [
           "appetizing opportunity",
           "mehmet oz"
          ],
          [
           "even heard kratom",
           "john bizon"
          ],
          [
           "fingerprints climate change blazes really denied",
           "donald trump jr. ."
          ],
          [
           "would hope would learned experience would cautious language phone calls like one future clearly hope prediction",
           "susan collins"
          ],
          [
           "united caucus rejecting governor request upend april 7th election",
           "robin vos"
          ],
          [
           "important scotus victory securing border remain mexico policy agreement w mexican government major impact reducing illegal border crossings especially critical work contain spread coronavirus pandemic",
           "ted cruz"
          ],
          [
           "excited developing small screen",
           "meg whitman"
          ],
          [
           "second good thing virus current state symptoms seem mild",
           "chris lauzen"
          ],
          [
           "need attorney general actually dealt problem going aggressive",
           "austin knudsen"
          ],
          [
           "need evidence prove president asked ukraine investigate joe biden son hunter said television october july telephone call president ukraine need evidence conclude president withheld united states aid least part pressure ukraine investigate bidens",
           "lamar alexander"
          ],
          [
           "weekend chance visit high school kids district informed care ability go across border get whatever want",
           "ann rivers"
          ],
          [
           "attacking bases months",
           "mark esper"
          ],
          [
           "want everybody fully understand able act tomorrow colleagues side continuing dicker country expects us come together address problem",
           "mitch mcconnell"
          ],
          [
           "important find compromises",
           "paul gazelka"
          ],
          [
           "citizen driven public safety initiative",
           "rick snyder"
          ],
          [
           "time resources certain regions past",
           "mark esper"
          ],
          [
           "going controversial votes sure motions going tabled",
           "chuck grassley"
          ],
          [
           "national security cutters like stone behind game changers coast guard fight criminal organizations responsible smuggling hard narcotics america personally think senator wicker would agree need national security cutters less",
           "steven palazzo"
          ],
          [
           "pass psychiatric evaluation lot safeguards safety nets process even qualify",
           "tom hannegan"
          ],
          [
           "remember took judge mablean ephriam",
           "lynn toler"
          ],
          [
           "exhausted come 7pm right enough getting play garden day run along fence dog next door",
           "mike flynn"
          ],
          [
           "apologetic tried stem flow blood",
           "james evans"
          ],
          [
           "think dramatically underestimating",
           "scott gottlieb"
          ],
          [
           "every faith department health services",
           "kate brophy mcgee"
          ],
          [
           "majority states country truck driving largest occupation",
           "ivanka trump"
          ],
          [
           "issuing challenge louisiana parents guardians",
           "jeff landry"
          ],
          [
           "one effective way help small businesses faced closing stay open keep americans payroll",
           "lamar alexander"
          ],
          [
           "first caucuses primaries weeks away sanders showing strength polls fundraising outraised biden last quarter taken lead biden first time outlasted candidates media darlings mold transformative historic",
           "kellyanne conway"
          ],
          [
           "nation largest banks decided cater radical left woke agenda abusing systemic influence economy deprive law abiding federal contractors banking services critical business",
           "marco rubio"
          ],
          [
           "compounds sour economic outlook summer city omaha disturb quite bit",
           "jean stothert"
          ],
          [
           "aligned politically know people back home oklahoma would worried",
           "tom coburn"
          ],
          [
           "balancing home lives yet also dealing spotlight father president united states",
           "eric trump"
          ],
          [
           "supreme court lets law stand one provider one clinic million women reproductive age left state served",
           "brett kavanaugh"
          ],
          [
           "one trying censor ambassador bolton book",
           "hogan gidley"
          ],
          [
           "actually drove surviving victim hospital",
           "gary herbert"
          ],
          [
           "people trying keep conventions booked road cvbs go away lose people relationships country",
           "billy nungesser"
          ],
          [
           "opportunity designed promote program objectives furthering sustainability current future beneficiaries achieving better health outcomes increasing accountability delivering results",
           "seema verma"
          ],
          [
           "well sure going",
           "larry kudlow"
          ],
          [
           "twitter confuse daddy comes abusing power sex also missed defense sharpton reply",
           "matt gaetz"
          ],
          [
           "particular want recognize friend mick mulvaney",
           "mark meadows"
          ],
          [
           "everything tried tell press last march coming",
           "rudy giuliani"
          ],
          [
           "president crystal ball acted appropriately acted appropriately beginning",
           "stephanie grisham"
          ],
          [
           "livestock facility technical review board",
           "travis tranel"
          ],
          [
           "stuff needs done",
           "steven mnuchin"
          ],
          [
           "chalked early win eu",
           "rupert murdoch"
          ],
          [
           "one disgusting frankly dishonorable things happened president people willing take paycheck could loyal fact everything undermine",
           "mike huckabee"
          ],
          [
           "clarity certainty always good",
           "gov. eric holcomb"
          ],
          [
           "unlike sports league amusement park parade general assembly obligated follow colorado constitution",
           "chris holbert"
          ],
          [
           "think real likelihood iran make mistake make decision go forces military forces iraq soldiers northeast syria",
           "mike pompeo"
          ],
          [
           "retainer ministry justice ukraine att minster pavlo petrenko",
           "rudy giuliani"
          ],
          [
           "demonstrated poor judgment",
           "susan collins"
          ],
          [
           "responsible couple hundred million dollars invested southwest florida",
           "joe gruters"
          ],
          [
           "feel like always super focused sounding perfect perfect hitting best notes long hold one",
           "carrie underwood"
          ],
          [
           "every common sense precaution necessary protect federal employees",
           "stephanie grisham"
          ],
          [
           "fund federal funds",
           "paul lundeen"
          ],
          [
           "additionally military civilian leaders regularly discuss ethics values teams normal course leading decision making",
           "mark esper"
          ],
          [
           "katcho leaves legacy devotion community energetic representation consensus building",
           "jordan cunningham"
          ],
          [
           "congress dysfunctional trusted restrain",
           "brian darling"
          ],
          [
           "one hears desire actuality",
           "stephen schwarzman"
          ],
          [
           "recollection direct contact",
           "lindsey graham"
          ],
          [
           "made finally got right",
           "marie osmond"
          ],
          [
           "disruption without doubt amount monies spent institutions entirely unjustifiable duty look things like",
           "jose oliva"
          ],
          [
           "able manage everything goes cdc centers disease control prevention back extent becomes bigger problem want able local testing know working",
           "ron desantis"
          ],
          [
           "never thought would see agree go interact dialogue meet women meet government meet civil society president trump leadership ending america longest war responsible way possible",
           "mike pompeo"
          ],
          [
           "obama choice support",
           "brad parscale"
          ],
          [
           "escalation attacks iranian proxy groups kataeb hezbollah primary one attacking forces",
           "mark esper"
          ],
          [
           "made decisions patient measured",
           "mark keough"
          ],
          [
           "yesterday first time got answer anticipating told point mississippi cycle drastic restrictions required",
           "tate reeves"
          ],
          [
           "daddy may sleep jared",
           "ivanka trump"
          ],
          [
           "oil natural gas companies navigate challenges marketplace need maintain stabilizing force texas become state world",
           "todd staples"
          ],
          [
           "unlike dr li chairman xi care human life",
           "ben sasse"
          ],
          [
           "military members get limited time talk families use time discuss vote",
           "gina mosbrucker"
          ],
          [
           "thinking million today could formula race could six hour race events create economic impact",
           "roger penske"
          ],
          [
           "remove need maintenance repairs prison saving taxpayers million three years",
           "doug ducey"
          ],
          [
           "jcls met since elected house",
           "blake filippi"
          ],
          [
           "tough vote",
           "bill galvano"
          ],
          [
           "insist question asked",
           "rand paul"
          ],
          [
           "good information less good information social media",
           "bruce chandler"
          ],
          [
           "pensions corrupt politicians act",
           "claudia tenney"
          ],
          [
           "germany also concerned iranian regime continued military provocations",
           "mike pompeo"
          ],
          [
           "moving date still consultations yesterday secretary state mike pompeo met afghan president ashraf ghani give hard date right",
           "mark esper"
          ],
          [
           "provide defense support civilian authorities",
           "tom cotton"
          ],
          [
           "furious china culpability",
           "meghan mccain"
          ],
          [
           "voters really rave first time years really close election physical recounts really important",
           "brad raffensperger"
          ],
          [
           "language simple uncomplicated works",
           "tom takubo"
          ],
          [
           "everyone hit pretty hard coronavirus road racing took big hit",
           "hank brown"
          ],
          [
           "kept running barrier barrier",
           "kyle ardoin"
          ],
          [
           "factor organisations also currently receipt eu funding uk left eu provides another source uncertainty funding medium longer term",
           "richard ramsey"
          ],
          [
           "evidence disease originated",
           "tom cotton"
          ],
          [
           "always considered jewish told heritage upbringing family faith plays role view justice",
           "jay sekulow"
          ],
          [
           "infertile never able children speaks even volumes women able children bringing miracles",
           "susan holmes"
          ],
          [
           "president absolutely hates phoniness smell mile away president thinks something inherently phony saying praying working destroy",
           "robert jeffress"
          ],
          [
           "view retaliation sake retaliation necessary time",
           "lindsey graham"
          ],
          [
           "make effort pay free stuff promising american people coming",
           "mitch mcconnell"
          ],
          [
           "whatever reason takes longer think go back congress get support american economy hope needed",
           "steven mnuchin"
          ],
          [
           "people last six weeks since january 1st people arrested rape charges let raped people arrested felonies let murdered going last six weeks",
           "bernard kerik"
          ],
          [
           "front line health care rural georgia county health department",
           "clay pirkle"
          ],
          [
           "willingness discuss scope forces iraq time",
           "mike pompeo"
          ],
          [
           "need ensure place everybody santa fe",
           "michael j. garcia"
          ],
          [
           "business economic side think going economic tragedy",
           "larry kudlow"
          ],
          [
           "republican senator murkowski spares fiery impeachment speech",
           "lisa murkowski"
          ],
          [
           "many chamber share sadness present state institutions hope finally found bottom",
           "lisa murkowski"
          ],
          [
           "kill american soldiers sailors airmen marines rockets designed warning shot designed inflict damage kill",
           "mark esper"
          ],
          [
           "truly disgusting people would",
           "donald trump jr"
          ],
          [
           "want give downtown clearwater scrap park put walking trails playground equipment little stage call day",
           "frank hibbard"
          ],
          [
           "free fair",
           "mike pompeo"
          ],
          [
           "agency talk designing hazard perhaps dressers",
           "ann marie buerkle"
          ],
          [
           "lessons kindness generosity hope compassion",
           "jillian balow"
          ],
          [
           "think get better",
           "john elway"
          ],
          [
           "play win really next president going face issue head agency go least three four years next president term next president might completely different conception consumer financial regulatory issues yet able nothing",
           "brett kavanaugh"
          ],
          [
           "know one family members getting month corrupt gas company ukraine job deal corruption ukraine looking hard",
           "lindsey graham"
          ],
          [
           "underlying hiring trend robust providing sturdy foundation domestic growth however due challenged near term weak global growth general coronavirus supply chain disruptions particular",
           "richard clarida"
          ],
          [
           "covid changing go day day lives requires us make adjustments important thing work together montanans help family friends neighbors",
           "tim fox"
          ],
          [
           "ahead march case concerning constitutionality louisiana regulation abortion providers",
           "kevin daley"
          ],
          [
           "beyond public health impacts also important think cost low vaccination rates",
           "kevin priola"
          ],
          [
           "president right punish bad actors italy one pasta airbus",
           "lou barletta"
          ],
          [
           "drone strike saudi arabia takes five percent world oil capacity story page eight",
           "doug burgum"
          ],
          [
           "size package looking minimally trillion trillion programmatically",
           "larry kudlow"
          ],
          [
           "resolved citizens great state nebraska encouraged take direct action aid mothers fathers families need especially expecting child cannot provide",
           "pete ricketts"
          ],
          [
           "seems right fitting citizens state nebraska urged pray end abortion fellow citizens need love support",
           "pete ricketts"
          ],
          [
           "investing carbon capture technology u reduce carbon emissions driving economic growth creating jobs carbon sequestration tax credit already helped businesses break market legislation make 45q permanent would give businesses certainty need order keep advancing technology legislation would also help companies capturing carbon directly air even access tax credit presents much needed step forward expanding technologies help clean environment",
           "david schweikert"
          ],
          [
           "enormous weight throw around",
           "mark brnovich"
          ],
          [
           "april month confederate states began ended four year struggle",
           "phil bryant"
          ],
          [
           "ran things say three days ago",
           "john barrasso"
          ],
          [
           "next two weeks ramp testing tenfold certainly tenfold cases tell good healthcare system taking care folks really need",
           "timothy flanigan"
          ],
          [
           "trying respond everybody even made dent whole lot time going try",
           "rush limbaugh"
          ],
          [
           "long way treason bribery high crimes misdemeanors think kind inappropriate action framers would expect senate substitute judgment people picking president",
           "lamar alexander"
          ],
          [
           "talking donors talking people trying right thing talking commercial identity business transactions driven desire marketing",
           "randy fine"
          ],
          [
           "mr gohmert already returned hard work reviewing bill key staff appropriate observation social distances sanitizer informed appropriately unanimous consent going attempted bill",
           "louie gohmert"
          ],
          [
           "family ever worry unable afford property taxes public health crisis like covid pandemic",
           "joe sosnowski"
          ],
          [
           "actually look business models banks go bust run cash australian banks got lot cash lot capital used",
           "brian johnson"
          ],
          [
           "tune highest best use sites grocery store lot seniors use sites pharmacies medical services proactively directing prescriptions randalls cvs stores close proximity",
           "shelley sekula-gibbs"
          ],
          [
           "abandoning health professionals advice clamour try reopen economy perhaps make less shut",
           "larry kudlow"
          ],
          [
           "mom ridiculously strong courageous human husband worry",
           "shannen doherty"
          ],
          [
           "read signs able work way around",
           "scott taylor"
          ],
          [
           "bipartisan bill increase penalties illegally transfer firearms ineligible person perfect example legislation makes commonsense make communities safer working get guns hands violent criminals",
           "paul anderson"
          ],
          [
           "matter talk business people flight say well ridiculous see every week",
           "darrell issa"
          ],
          [
           "come far falter made tremendous strides yet reached destination",
           "dennis bonnen"
          ],
          [
           "depth systemization intent",
           "mike pompeo"
          ],
          [
           "risk dying unclear able study country",
           "mehmet oz"
          ],
          [
           "responsible every tax dollar goes million lot money sometimes lose sight",
           "kristin gaspar"
          ],
          [
           "talking abstract interest sort corruption might exist ukraine sitting vice president making public policy decisions benefit family tune million bucks year raises serious question corruption president justified asking investigated responsibility see investigated question ukrainian corruption question american corruption ukraine integral helping investigate whether fact american corruption",
           "ted cruz"
          ],
          [
           "let wait get better package",
           "larry kudlow"
          ],
          [
           "united states prepared take strongest diplomatic economic actions assad regime state individual aids brutal agenda",
           "mike pompeo"
          ],
          [
           "bought small table chair sit advise getting monitor separate mouse keyboard slouched tiny laptop",
           "megan hess"
          ],
          [
           "confirms third presumptive covid case hillsborough individual resided another confirmed covid",
           "ron desantis"
          ],
          [
           "oneida county home proud gop committee endorsement race defeat anthony brindisi november",
           "claudia tenney"
          ],
          [
           "small businesses provide countless jobs across state play critical role economy community",
           "greg walden"
          ],
          [
           "trump never linked aid corruption general certainly investigation particular",
           "rob portman"
          ],
          [
           "good fortune attracting investment business activity good potential growth aerospace financial services health care manufacturing",
           "ron desantis"
          ],
          [
           "ever anonymous source news reports matters relating trump investigation clinton investigation",
           "chuck grassley"
          ],
          [
           "seems got different agencies state trying lot work",
           "pat woods"
          ],
          [
           "known dozen years wife college class georgetown nursing student pre med faith world tony fauci",
           "john barrasso"
          ],
          [
           "abortionists done get rid generations black people cripple others years slavery lynching",
           "mildred fay jefferson"
          ],
          [
           "sounds like palace intrigue also quarantine",
           "stephanie grisham"
          ],
          [
           "get meet want thank",
           "jessica moore"
          ],
          [
           "times",
           "bob ney"
          ],
          [
           "address appropriate issues defense lawyers would",
           "jay sekulow"
          ],
          [
           "pleasuring speakerphone",
           "juliet huddy"
          ],
          [
           "department health take appropriate measures",
           "dave yost"
          ],
          [
           "president entirely justified asking investigation concerning ukraine potentially hunter biden joe biden",
           "ted cruz"
          ],
          [
           "calling governor senate assembly majorities end consideration banning polystyrene state budget additionally budget must include emergency aid package support local small businesses critically important adopt budget without",
           "rich funke"
          ],
          [
           "president trump strong leadership slowing traffic united states slowing spread united states working places like washington new york massachusetts florida california mitigate impacts avoiding large social gatherings appropriate closures schools steps like",
           "alex azar"
          ],
          [
           "developed strategy attempt convince iranian regime behave like normal nation",
           "mike pompeo"
          ],
          [
           "going large increase",
           "larry kudlow"
          ],
          [
           "parliamentarian put little sand gears",
           "chuck grassley"
          ],
          [
           "dangerous positions inspector generals take worried getting fired",
           "brian miller"
          ],
          [
           "world wuhan",
           "larry kudlow"
          ],
          [
           "country much trump country gon na start sending people back ted cruz born canada marco rubio parents born cuba melania trump born slovenia parents family immigration",
           "ana navarro"
          ],
          [
           "bailout considering providing certain things certain industries would say airlines hotels cruise lines believe areas impacted",
           "steven mnuchin"
          ],
          [
           "asking construction companies president knows well background developer asking donate n masks local hospitals also forego making new orders",
           "mike pence"
          ],
          [
           "unemployment rate continues remain historic lows",
           "mike parson"
          ],
          [
           "wait see another four years",
           "jim banks"
          ],
          [
           "get year fine",
           "jerry stevenson"
          ],
          [
           "although able defeat sweeping egregious bills democrats made clear intend press forward agenda gut protections afforded second amendment",
           "mark obenshain"
          ],
          [
           "amend constitution take away earmark",
           "brad wilson"
          ],
          [
           "indeed may appropriate treat segment religious nonprofit example foster care center church school separate distinct entities",
           "josh hawley"
          ],
          [
           "referring things like obviously attributable ballistic missile attacks iran launched u forces seen stood missiles think imminent threat changed continuing desire operate proxies indirectly us",
           "josh hawley"
          ],
          [
           "intent leader get move quickly",
           "chuck grassley"
          ],
          [
           "foreign adversaries tried instead actually tampering elections tried tamper perception elections",
           "frank larose"
          ],
          [
           "every day delay hard decisions every day leaders demand collective action depth epidemic larger",
           "scott gottlieb"
          ],
          [
           "serving interests union bosses expense workers business owners",
           "virginia foxx"
          ],
          [
           "feel like sometimes kind unfair still growing feel like point whole life kind living shadow trying step outside shadow cast bigger one",
           "jon runyan"
          ],
          [
           "proposing bernie sanders proposing said fox like ushering apocalypse conservatives like think big government dangerous like apocalypse bernie asking lot voters buy consider radical ideas like green new deal medicare advocating complete paradigm shift american system know huge ask people like huge ask lot people seismic shift capitalism socialism",
           "meghan mccain"
          ],
          [
           "let straight",
           "mike pompeo"
          ],
          [
           "united states join one trillion trees initiative ambitious effort bring together government private sector plant new trees america around world",
           "bruce westerman"
          ],
          [
           "people say protect victims sexual assault want use vehicle may philosophically school choice",
           "joe sanfelippo"
          ],
          [
           "take steps necessary protect american people",
           "alex azar"
          ],
          [
           "good clean energy frankly natural gas",
           "will barclay"
          ],
          [
           "given fact death rate covid may end slightly worse tough flu season want answers",
           "laura ingraham"
          ],
          [
           "would make highest priority health safety voters hard working poll workers elections officials",
           "david ralston"
          ],
          [
           "much bailout",
           "larry kudlow"
          ],
          [
           "basically isolating people infection close contacts",
           "scott gottlieb"
          ],
          [
           "could someone get exposed virus self isolate contacts self isolate creates potential manpower issue",
           "ron desantis"
          ],
          [
           "deeply humbled grateful endorsement alabama farmers federation",
           "jeff coleman"
          ],
          [
           "sunscreen available throughout state florida people buy protect",
           "rob bradley"
          ],
          [
           "shock watching hearings saw devin nunes sitting picture harvey back sitting texted attorney believe happening involved getting stuff biden mean derek harvey several skype interviews set different prosecutors like anti corruption prosecutor ukraine hard see lie like know like scary know sitting making statements knew well knew going knew happening knows",
           "devin nunes"
          ],
          [
           "important everyone educate family prepared",
           "greg cox"
          ],
          [
           "one things good litigator becomes kind become instant expert stuff forget",
           "rudy giuliani"
          ],
          [
           "texas partners vast number child placing agencies cannot serve best interest children government unlawfully excludes many organizations refuse capability expertise aid children based solely religious beliefs diminish number child placement agencies available egregious violation religious freedom",
           "ken paxton"
          ],
          [
           "china tell world stymied global responses",
           "scott gottlieb"
          ],
          [
           "covid risk average americans remains low common sense measures help protect vulnerable patients",
           "robert wilkie"
          ],
          [
           "ass boobs everywhere great great",
           "jeremy roenick"
          ],
          [
           "jamen goes beyond normal requirements weed officer",
           "doug goehring"
          ],
          [
           "process working large e marketplace operators coordinated strategy action plan identify remove counterfeiters price gougers refer appropriate law enforcement authorities",
           "mike roman"
          ],
          [
           "regime top terrorist",
           "mike pompeo"
          ],
          [
           "corral away instincts",
           "mitch mcconnell"
          ],
          [
           "investigating acting irresponsibly allowing massive leaking things harm reputation",
           "rudy giuliani"
          ],
          [
           "actions taken far demonstrate",
           "mike pompeo"
          ],
          [
           "even though working day day routine son home daughter heavily involved sports activities everybody needs eat",
           "shannon jones"
          ],
          [
           "obviously stopping pandemic compelling government interest",
           "john c. eastman"
          ],
          [
           "going come matter days week stage cancer came back",
           "shannen doherty"
          ],
          [
           "hope president right let say",
           "mike parson"
          ],
          [
           "thousands cases across country viewers deserve know americans vast majority americans even contract coronavirus flu like symptoms fully recover",
           "mike pence"
          ],
          [
           "experience definitely different bank far",
           "matt jacobson"
          ],
          [
           "going move right along think people treat responsiblly way purdue family",
           "mitch daniels"
          ],
          [
           "biggest hill getting phase one never done president leadership including tariffs work bob lighthizer steve mnuchin whole trade principals team never done historic",
           "larry kudlow"
          ],
          [
           "small business child care investment act allow nonprofit child care providers help communities suffering giving access sba loans loans go long way helping open new child care centers providing families want participate workforce",
           "pete stauber"
          ],
          [
           "flood united states cocaine order undermine health wellbeing nation",
           "william p. barr"
          ],
          [
           "ask judicial colleagues continue efforts promote public confidence judiciary rulings civic outreach celebrate strong independent judiciary key source national unity stability also remember justice inevitable reflect duty judge without fear favor deciding matter humility integrity dispatch",
           "john roberts"
          ],
          [
           "said time time american families going come first",
           "joni ernst"
          ],
          [
           "david ayres carolina hurricanes embodied motto resiliency way critical win playoff hunt",
           "roy cooper"
          ],
          [
           "stridency partisan attacks trump gotten higher higher",
           "laura ingraham"
          ],
          [
           "maintain safe healthy environment citizens dds team assist centers important step extension allows hundreds thousands georgians legally drive proof identity emergency period dds centers closed",
           "brian kemp"
          ],
          [
           "really say something project like transformed quickly really want thank partners government",
           "steven matteo"
          ],
          [
           "working hard people generous kind traveling around state really makes pleasure asking people vote committing faithful values state alabama believes throughout career",
           "jeff sessions"
          ],
          [
           "poll going matter nov",
           "doug ducey"
          ],
          [
           "cause mystery disease wuhan china determined thus far reported human human transmission cause known need undue panic anxiety meanwhile situation needs monitored preparations place event disease spreads",
           "richard gordon"
          ],
          [
           "problem democrats make people think assume fix like leading",
           "matt schlapp"
          ],
          [
           "hunter biden son sitting vice president joe biden paid month million dollars year someone background oil gas experience time joe biden publicly admitted threatened ukraine withheld threatened withhold billion dollars aid unless ukraine fired prosecutor potentially investigating company son served board",
           "ted cruz"
          ],
          [
           "public health officials recommend school systems shut systemwide time",
           "governor charlie baker"
          ],
          [
           "nurses protested sanitation workers protested",
           "rudy giuliani"
          ],
          [
           "buy facemasks",
           "mike pence"
          ],
          [
           "environment open transparent inviting",
           "jessica simpson"
          ],
          [
           "support efforts locals virus affecting whole state think affects different communities differently response may always every little thing number counties single case feel makes sense",
           "ron desantis"
          ],
          [
           "make mistake vague proposal explaining purposely withholding massive tax increase missourians cannot afford",
           "mike parson"
          ],
          [
           "want illinois get million library million library happens cost million",
           "peter fitzgerald"
          ],
          [
           "president outstanding",
           "ron desantis"
          ],
          [
           "never experienced anything remotely close always able stay open regardless outside factors",
           "david samson"
          ],
          [
           "know whistleblower",
           "rand paul"
          ],
          [
           "ukraine burisma probably joe biden joe biden know asked ukrainians fire prosecutor looking hunter",
           "josh hawley"
          ],
          [
           "something like flu people taking appropriate precautions president united states know quite hand washer uses hand sanitizer time concerned",
           "stephanie grisham"
          ],
          [
           "dairy farm takes dairy cows way",
           "madison davis"
          ],
          [
           "trip examination showed us great deal",
           "jim bridenstine"
          ],
          [
           "good news incentive works",
           "kevin hassett"
          ],
          [
           "critical america leadership field new quantum research centers provide training collaboration opportunities next generation qis scientists engineers",
           "ivanka trump"
          ],
          [
           "think president right move money around presidents worked within realm",
           "rand paul"
          ],
          [
           "want focus today section asked asked remove duly elected president united states asked election year",
           "jay sekulow"
          ],
          [
           "banks reluctant rely discount window credit address funding needs",
           "ben bernanke"
          ],
          [
           "anyone needs church right praying wisdom guidance places",
           "brian kemp"
          ],
          [
           "order make statewide restrictions gathering people",
           "mike parson"
          ],
          [
           "agriculture big business indiana contributes billion state economy critical congress pass usmca need go ahead get things going",
           "suzanne crouch"
          ],
          [
           "working every single day work going",
           "tom shipley"
          ],
          [
           "bunch meetings things going legal team later tonight",
           "kellyanne conway"
          ],
          [
           "way take word obama administration deemed terrorist go back osama bin laden killing president obama gave order kill osama bin laden commended president obama right action president takes right action clearly disagreed obama many many things got right commended",
           "steve scalise"
          ],
          [
           "good airport thriving place like needs little capacity makes sense",
           "mike braun"
          ],
          [
           "goal help turnarounds turnarounds possible",
           "david osborne"
          ],
          [
           "well washington almost years named two post offices",
           "eric trump"
          ],
          [
           "unemployment rate lowest half century",
           "melania trump"
          ],
          [
           "testing know exactly risk south korea got running quickly",
           "mehmet oz"
          ],
          [
           "sent chairman jerome powell letter confirming approve establishment cpff provide liquidity financial system",
           "steven mnuchin"
          ],
          [
           "wish well addressing light reported stories probably best constituents 16th district",
           "sean morrison"
          ],
          [
           "able put minds tens millions people idea hillary clinton vigorous woman good health somehow sick president",
           "david frum"
          ],
          [
           "get money get day use pay workers",
           "steven mnuchin"
          ],
          [
           "given year live reality reality think damaging state",
           "caleb rowden"
          ],
          [
           "friendly opinion smart",
           "david myers"
          ],
          [
           "also bunch democrats decided wanted orchestrate party filibuster legislation hope happen time",
           "ben sasse"
          ],
          [
           "going thing called life",
           "marie osmond"
          ],
          [
           "never met never business",
           "rudy giuliani"
          ],
          [
           "racking brain help know nothing fix frustration would come cancel postpone wedding would love encourage would big day",
           "sadie robertson"
          ],
          [
           "perform functions home good time",
           "ron desantis"
          ],
          [
           "caused enough concern made people wonder wisdom going home coming back monday",
           "scott bedke"
          ],
          [
           "part ss machinery oppression kept concentration camp prisoners atrocious conditions confinement",
           "brian benczkowski"
          ],
          [
           "strong view point",
           "pat toomey"
          ],
          [
           "sure feel really good team",
           "mike kelly"
          ],
          [
           "fully deserved draw win thought adrian top game tie everything",
           "joe hart"
          ],
          [
           "freedom want",
           "kurt angle"
          ],
          [
           "frankly lot prevent spread highly contagious condition someone comes way get behind trump making sure get preventative equipment medical professionals",
           "mitt romney"
          ],
          [
           "people kept saying well never gotten majority primary aggregate vote",
           "victor davis hanson"
          ],
          [
           "leave voters choose president",
           "pat cipollone"
          ],
          [
           "cannot support move lean federal government stimulus bailout prioritizes company others relies taxpayers guarantee financial position",
           "nikki haley"
          ],
          [
           "tried become expert going outside guest experience",
           "roger penske"
          ],
          [
           "voted bill previously chose best district state",
           "robin vos"
          ],
          [
           "purchase surface mineral rights within utah another state raises numerous complex legal issues would require substantial research analysis",
           "sean reyes"
          ],
          [
           "friend cancelled chemo access hope way going virus said forget done",
           "vincent candelora"
          ],
          [
           "fight covid crisis",
           "mike turzai"
          ],
          [
           "tolerate businesses individuals going hike prices take advantage dire situation families trying protect",
           "ashley moody"
          ],
          [
           "responsible fairness trial",
           "mitch mcconnell"
          ],
          [
           "china blame culture people eat bats snakes dogs things like viruses transmitted animal people china source lot viruses like sars like mers swine flu",
           "john cornyn"
          ],
          [
           "focus always district",
           "elise stefanik"
          ],
          [
           "sudden want",
           "regina cobb"
          ],
          [
           "israel agreeing recognize special role king abdullah jordan regarding holy sites muslim holy shrines make sure muslim wishes pray welcome",
           "jared kushner"
          ],
          [
           "sorry mr president pelosi going bested historic trade deal",
           "laura ingraham"
          ],
          [
           "serving country supporting safety improvements make industry safer ever pleasure work alongside matt",
           "mark baker"
          ],
          [
           "obama administration called new york times problem",
           "mike pompeo"
          ],
          [
           "court avoid constitutional issue presented",
           "paul clement"
          ],
          [
           "longer cost free",
           "elliott abrams"
          ],
          [
           "iranian dictatorship war us since",
           "newt gingrich"
          ],
          [
           "hit pretty hard going see resolve passion commitment people community come together see going knowing going start aim help save people fantastic",
           "jim davis"
          ],
          [
           "lesser two evils intend move forward direction",
           "trey hollingsworth"
          ],
          [
           "necessary start batman scrap decades continuity character seem need",
           "frank miller"
          ],
          [
           "wiping private health insurance plans million happy americans",
           "melania trump"
          ],
          [
           "hope silver lining unfortunate situation",
           "brian greene"
          ],
          [
           "senators posed constructive questions parties succinct responsive like compliment participated yesterday",
           "mitch mcconnell"
          ],
          [
           "objection hearing think ought hear parties clinton",
           "john cornyn"
          ],
          [
           "taking part one many passions",
           "peter knudson"
          ],
          [
           "essential employees state even told non essential stay home people working important things state",
           "ron desantis"
          ],
          [
           "said came understand quid pro quo",
           "gordon sondland"
          ],
          [
           "expressed concern initial reforms came poorly written poorly conceived poorly implemented",
           "john catsimatidis"
          ],
          [
           "former president abraham lincoln contended pro choice arguments day",
           "betsy devos"
          ],
          [
           "value life celebrating",
           "trey gowdy"
          ],
          [
           "smart regulation cbd",
           "karen tandy"
          ],
          [
           "people everywhere take inspiration optimism strength courage",
           "melania trump"
          ],
          [
           "government agencies cooperating new ways stop chinese military using innovation us putting allies partners notice massive security privacy risk connected letting huawei construct 5g networks inside country",
           "mike pompeo"
          ],
          [
           "need reduce number troops",
           "trent kelly"
          ],
          [
           "role continue serve colorado actually street",
           "susan beckman"
          ],
          [
           "going nominate socialist someone time ago republican",
           "matt gaetz"
          ],
          [
           "patriotic duty call show tuesday absolutely acceptable",
           "frank larose"
          ],
          [
           "clue going real world",
           "devin nunes"
          ],
          [
           "china active open towards cooperation u",
           "larry kudlow"
          ],
          [
           "want see front center saying matter ridiculous press conference commentary ebbs",
           "meghan mccain"
          ],
          [
           "let go buy fill reserve",
           "steven mnuchin"
          ],
          [
           "mentioned terrible tragic shoot ukrainian airlines flight",
           "tom cotton"
          ],
          [
           "clear reasonable person soleimani posed long term threat",
           "michael mccaul"
          ],
          [
           "determine whether us self quarantine result room",
           "mitt romney"
          ],
          [
           "make mistake voting tomorrow",
           "mitch mcconnell"
          ],
          [
           "coronavirus pandemic something must address head senate working rapid pace across aisle get immediate relief workers families small businesses healthcare community front lines",
           "joni ernst"
          ],
          [
           "shame decency",
           "karl rove"
          ],
          [
           "immigration laws go unenforced communities less safe",
           "joni ernst"
          ],
          [
           "still within hours recent executive orders",
           "greg abbott"
          ],
          [
           "shrinking anyone property",
           "blake filippi"
          ],
          [
           "speaker pelosi wanted leverage leverage reach senate dictate trial proceedings us made clear beginning leverage exists nonexistent yesterday made clear never exist mcconnell said house democrats turn senate made decision",
           "mitch mcconnell"
          ],
          [
           "lot challenges comes",
           "jon nelson"
          ],
          [
           "new political weapon modern politics modern political world donald trump first victim",
           "reince priebus"
          ],
          [
           "would find recurring impeachment nightmare every time elect new president",
           "john cornyn"
          ],
          [
           "think lot answer capacity local healthcare systems",
           "marco rubio"
          ],
          [
           "homeland security committee talked chairman sen ron johnson agreed going investigate purpose american taxpayers giving dollars",
           "rick scott"
          ],
          [
           "house democrats proven case donald trump need prolong matter",
           "tom cotton"
          ],
          [
           "think generally accepted around nation lottery money go toward education",
           "steve clouse"
          ],
          [
           "fact proper governmental interest questions president asked",
           "jay sekulow"
          ],
          [
           "agonized responsibility ultimately would come way hoped beyond hope would find guilty alleged",
           "mitt romney"
          ],
          [
           "raise energy costs entrepreneurs need consume lot energy lay people saving jobs plant matter need balance",
           "gov. bruce rauner"
          ],
          [
           "zero interest manifested either house speaker nancy pelosi senate democratic minority leader chuck schumer coronavirus outbreak anything problematic occurring china chinese communist government coverup coronavirus outbreak",
           "ted cruz"
          ],
          [
           "done laying taking",
           "nick langworthy"
          ],
          [
           "house moves closer shark fin sales ban",
           "josé oliva"
          ],
          [
           "think might something yes likely regret",
           "mark esper"
          ],
          [
           "plenty people contacted folks ukraine",
           "lindsey graham"
          ],
          [
           "allowing california biggest polluters conduct business usual even increase emissions",
           "arnold schwarzenegger"
          ],
          [
           "judge walker impressive legal career aligned originalism textualism important principles make country great",
           "leonard leo"
          ],
          [
           "avoid subject",
           "roy blunt"
          ],
          [
           "goal hud proposed rule close long standing loopholes allow income residents occupy low income public housing units otherwise house individuals families years long waiting lists",
           "lynne patton"
          ],
          [
           "perfect role model career without miss dearly thoughts family",
           "arnold schwarzenegger"
          ],
          [
           "policy really making sure sufficiently verify every individual wants enter u criminal terrorist",
           "ken buck"
          ],
          [
           "know conversations go highly offensive tell us like know going engage hypotheticals married asian kids partly married asian american kids filipino",
           "kellyanne conway"
          ],
          [
           "cheated tony could lie say even seen mayer",
           "jessica simpson"
          ],
          [
           "national measuring stick indicates arkansas beneficial impact",
           "asa hutchinson"
          ],
          [
           "rogersville people churches",
           "lynn greer"
          ],
          [
           "looking expanded equine livestock facility would let us change dynamic shows capacity",
           "chris ashby"
          ],
          [
           "temporary relief economic certainty consumers",
           "mark brnovich"
          ],
          [
           "local small businesses bearing brunt impact facing severe decline customer traffic",
           "dan nordberg"
          ],
          [
           "pleased thermo fisher approved last night fda record time also providing called high throughput test actually increase capacity public private partnership",
           "mike pence"
          ],
          [
           "personally going medical crisis recently prevented road catheter removed abdomen couple days ago soon incision healed hitting road pick issues directly community seeing issues focus reconstruction planning",
           "mike kelly"
          ],
          [
           "different procedures within hospital would aggregate cost compare data hospital hospital database would place consumers go compare cost getting procedure done versus evansville versus washington versus vincennes",
           "mark messmer"
          ],
          [
           "backpackers also great workers like getting working long relax end day",
           "greg murphy"
          ],
          [
           "bri sounds like fun",
           "brian kemp"
          ],
          [
           "democrats loved michelle obama hillary clinton loved",
           "melania trump"
          ],
          [
           "investment assets whether preferred share details need worked framework figured province federal government",
           "tom osborne"
          ],
          [
           "w hen take step back think life think kids think want every day gets going one believe dad right run politics",
           "abby huntsman"
          ],
          [
           "president trump kept promise chart new better course u trade policy fairer balanced agreements",
           "robert lighthizer"
          ],
          [
           "morning reading lesser known passages dr king appreciate fact nation respect giving day",
           "kellyanne conway"
          ],
          [
           "pain inflicted victims last lifetime want make sure victims every opportunity get closure justice deserve",
           "erin houchin"
          ],
          [
           "free credible vote show false choice democracy security ensure everyone voice",
           "mike pompeo"
          ],
          [
           "hard radical leadership iran stood obviously believe want manipulate people try interfere election purposes may want somebody else senate seat tough iran",
           "cory gardner"
          ],
          [
           "coronavirus reputation likely far scarier reality",
           "victor davis hanson"
          ],
          [
           "least cost american taxpayer get resources efficiently",
           "mike pompeo"
          ],
          [
           "outrageously low maximum sentence odious crime",
           "louie gohmert"
          ],
          [
           "political states talking think watched closely",
           "mike braun"
          ],
          [
           "active participant president cover",
           "mitch mcconnell"
          ],
          [
           "elvis metro transit stars",
           "robert bell"
          ],
          [
           "comes ipo frankly canva charge destiny whatever wants",
           "craig blair"
          ],
          [
           "although expected announce pregnancy families excited share new",
           "john mccain"
          ],
          [
           "house rushed impeachment process denied president due process house managers failed meet heavy burden proof remove president office future ballots",
           "sen. todd young"
          ],
          [
           "got final objective",
           "steve king"
          ],
          [
           "west virginians always answered call defend nation proud nominate accomplished young men women thank willingness serve",
           "carol miller"
          ],
          [
           "placing hold security assistance ukraine time would jeopardize unique window opportunity undermine defense priorities key partner strategic competition russia",
           "john rood"
          ],
          [
           "first received word outbreak coronavirus shortly first year health team came",
           "mike pence"
          ],
          [
           "earn jump wings completing army jump school three weeks florida law requires hours become licensed barber",
           "ron desantis"
          ],
          [
           "overwhelmed historic level support received q4 constituents north country americans across nation stunned adam schiff utter mishandling impeachment charade house intelligence committee",
           "elise stefanik"
          ],
          [
           "supposed tonight focus supposed wednesday control",
           "john dean"
          ],
          [
           "hyphenated capitalism capitalism",
           "nikki haley"
          ],
          [
           "councilwoman proposes day workweeks",
           "kymberly pine"
          ],
          [
           "clear reading amendment whole gulfside premise incorrect racing commission invested amendment privilege responsibility utilizing discretion whether casino license issued applicant regardless whether applicant applicant application submission period",
           "tim fox"
          ],
          [
           "based solely student internal external reproductive anatomy student normal endogenously produced levels testosterone analysis student genetic makeup",
           "mary souza"
          ],
          [
           "taken every precaution reduce risk contamination inmates appointees job ahead cdc guidelines every step way relieved one appointees already defeated coronavirus pray speedy full recovery",
           "ken stolle"
          ],
          [
           "one unique sine dies attended since legislative process sign times",
           "bill galvano"
          ],
          [
           "work hard continue bring private public sectors together build relationships",
           "brian kemp"
          ],
          [
           "provide intellectual grist hope one profound examinations inalienable rights world since universal declaration human rights united nations",
           "mike pompeo"
          ],
          [
           "prepared say anything get predicament finds",
           "kevin phillips"
          ],
          [
           "lot fun coach",
           "john dean"
          ],
          [
           "president brought wonderful heroes wonderful stories people audience tore slap face heroes family president honored",
           "kay granger"
          ],
          [
           "got issues dealing health care",
           "woody johnson"
          ],
          [
           "sars one example appears novel coronavirus also jumped animals collected used food china wet markets unsanitary conditions",
           "john cornyn"
          ],
          [
           "excited share progress",
           "melania trump"
          ],
          [
           "believe people right anything last four years wrong weapons mass destruction get benghazi right",
           "rush limbaugh"
          ],
          [
           "recognize going enormous consequences reached conclusion",
           "mitt romney"
          ],
          [
           "think attempt shift tone lot senators offended last night",
           "josh hawley"
          ],
          [
           "today marks 15th anniversary assassination former lebanese premier rafik hariri act mass murder resulted deaths others injuries victims beirut multiple hizballah linked individuals indicted roles terrorist attack must finally brought justice ending impunity imperative ensuring lebanon security stability sovereignty support work special tribunal lebanon stl hold accountable responsible attack hizballah demonstrated terrorist illicit activities concerned interests patron iran best lebanese people united states continues stand proudly lebanese people peaceful calls reform transparency accountability",
           "mike pompeo"
          ],
          [
           "something would carry lot weight",
           "ron desantis"
          ],
          [
           "want send long list send long list",
           "james lankford"
          ],
          [
           "funding available research education get medical providers page improved diagnostic tools better effective treatment options patients tick act senator collins support washington stem growing threat tick borne disease",
           "susan collins"
          ],
          [
           "want enough time put public notice new requirement",
           "michael adams"
          ],
          [
           "want make sure complete coursework graduate time",
           "tate reeves"
          ],
          [
           "really means bill unnecessary minnesotans access programs already",
           "kurt daudt"
          ],
          [
           "calls question judges impartiality",
           "michael murphy"
          ],
          [
           "comes donald trump nancy pelosi may pray privately orchestrated church holy hell",
           "lindsey graham"
          ],
          [
           "federal officials told us resources would needed elsewhere dallas county want dallas morning news ashamed",
           "greg abbott"
          ],
          [
           "democratic colleagues plow away american unity bizarre intramural competition see dislikes president",
           "mitch mcconnell"
          ],
          [
           "fabulous",
           "jeff sessions"
          ],
          [
           "take trial next week",
           "lindsey graham"
          ],
          [
           "work congress know runs congress report suspect timing",
           "geraldo rivera"
          ],
          [
           "needed something keep warm",
           "marie osmond"
          ],
          [
           "million masks available today",
           "mike pence"
          ],
          [
           "value started extremely severe loss versus long term history defined wide variety ways worst loss yet entire long value drawdown",
           "cliff asness"
          ],
          [
           "state texas urges local partners complete application texas department agriculture ensure accurate date information available texas families",
           "greg abbott"
          ],
          [
           "debate think important want hear colleagues see viewpoint heard yet kids sometimes hard knowing right thing",
           "chandler swope"
          ],
          [
           "lost ability corral thing going presumptuous say",
           "jerry falwell jr. ."
          ],
          [
           "community better service dearly missed",
           "richard hanna"
          ],
          [
           "court would flooded litigation",
           "betsy devos"
          ],
          [
           "items democratic wish list choose block legislation last night",
           "mitch mcconnell"
          ],
          [
           "payments represent proceeds earned timmy bellmore participation organization described",
           "david joyce"
          ],
          [
           "new york city democrats going toughest minds change",
           "will barclay"
          ],
          [
           "inspiration really commitment service",
           "jane swift"
          ],
          [
           "thanks concern politico",
           "gordon sondland"
          ],
          [
           "oh yeah yummy lulu loves carrots whiskey loves carrots",
           "arnold schwarzenegger"
          ],
          [
           "liked show judge faith nice fresh perspective wish best",
           "lynn toler"
          ],
          [
           "step going fall back",
           "michael steele"
          ],
          [
           "dennis brings leadership skills job critical nasa enters new era exploration",
           "jim bridenstine"
          ],
          [
           "lot work try win back senators",
           "josh hawley"
          ],
          [
           "may happen tomorrow",
           "rand paul"
          ],
          [
           "said ongoing media campaign immigration issues business",
           "richard grenell"
          ],
          [
           "hero entire state texas",
           "greg abbott"
          ],
          [
           "trying save lives save lives bill",
           "mike dewine"
          ],
          [
           "eager erase image congressional republicans big spenders preoccupied assuring election",
           "eric cantor"
          ],
          [
           "presidents propose budgets congress passes spending bills expect congress continue support aml program",
           "morgan griffith"
          ],
          [
           "three days democratic arguments shredded hours",
           "mark meadows"
          ],
          [
           "n science doctors fauci trump roy cohn",
           "joe scarborough"
          ],
          [
           "framers constitution intended lower bar way danger danger danger next president one would held standard hope pray",
           "jay sekulow"
          ],
          [
           "inflation runs persistently objective lead longer term expectations drift pulling actual inflation even lower",
           "jerome powell"
          ],
          [
           "think great opportunity period adjustment medical care professionals administrators doctors working senior care facilities taking risk celebrate opportunity make connection show people support community time",
           "delbert hosemann"
          ],
          [
           "bocce ball shuffle board",
           "pat miller"
          ],
          [
           "took phone started typing like okay hope another girl like stick tongue much know",
           "jessica simpson"
          ],
          [
           "got ass whipping waiting bud got seconds fame",
           "colby covington"
          ],
          [
           "u senate",
           "pam bondi"
          ],
          [
           "medicare social security look different us ok whole life prepare",
           "john katko"
          ],
          [
           "quick defer dr acton specific questions virus spread reminding ohioans state decisions driven science",
           "mike dewine"
          ],
          [
           "may never excited crowd going india think billion people pretty good tell love crowd love crowd sic",
           "melania trump"
          ],
          [
           "part china implementing phase one big focus point",
           "steven mnuchin"
          ],
          [
           "knew lawmakers policymakers got meet got share story share experience public schools lawmakers would want help want help enjoy charter school fact big deal big deal",
           "greg hughes"
          ],
          [
           "giving relief directly americans better solution complicated sick leave policies payroll tax cuts certain go kinds hourly gig workers need",
           "tom cotton"
          ],
          [
           "scenes new york going shocking",
           "scott gottlieb"
          ],
          [
           "vindicate constitution vindicate rule law rejecting articles",
           "pat cipollone"
          ],
          [
           "started investigating biden two years ago thinking running president never thought would run looked cross street much less run",
           "rudy giuliani"
          ],
          [
           "person close contact person infected covid tested negative",
           "ron desantis"
          ],
          [
           "better early late",
           "gary herbert"
          ],
          [
           "still good friends close talked yesterday morning",
           "john mccain"
          ],
          [
           "look resiliency way protect high water",
           "jane corwin"
          ],
          [
           "virus first emerged late last year suffered vast majority infections imposing travel controls shutting public events italy saturday saw biggest daily increase coronavirus cases since outbreak began north country feb daily update italy civil protection agency said number people coronavirus rose last hours taking total another people also died result virus taking total chaos confusion northern italian city padua veneto region word spread late saturday evening government planning announce quarantine packed bars restaurants quickly emptied many people rushed train station padua travellers suitcases wearing face masks gloves carrying bottles sanitizing gel shoved way trains conte signed quarantine decree stefano bonaccini president emilia romagna region said parts decree confusing asked premier time come solutions eur oecoherent eur around world events festivals called travel restrictions warnings issued nose dive tourist traffic possible disruptions supply chains set fears worldwide economic slowdown benchmarks global markets gyrated recent weeks hopes stimulus measures mixed widespread pessimism virus news saudi arabia banned spectators sports competitions starting saturday nba well british japanese sports teams considering baseball soccer seasons starting spread virus also taken psychological toll authorities manufacturers trying assure panicking consumers dona eur tm need hoard toilet paper vanished store shelves various nations particular point concern passenger packed cruise ships many confronting virus problems officials california deciding saturday dock grand princess cruise ship tested positive virus evidence ship idling san francisco breeding ground deadly cluster almost cases earlier voyage eur oethose need quarantined quarantined",
           "mike pence"
          ],
          [
           "levels think appropriate come back work",
           "alex azar"
          ],
          [
           "reputational problem big deal",
           "andy barr"
          ],
          [
           "think got thin skin think grandstanding know playing pity card got threatened president",
           "stephanie grisham"
          ],
          [
           "confident east tennessee full capable public servants step fill void ready give opportunity",
           "phil roe"
          ],
          [
           "public waiting us act people losing jobs losing income shutting economy deal public health crisis fiddling around senate procedure could one senator objected take us way end week solve problem",
           "mitch mcconnell"
          ],
          [
           "thing right color trend trend happening look absolutely beautiful",
           "marie osmond"
          ],
          [
           "staff around notice",
           "jeanine pirro"
          ],
          [
           "saw dog gave",
           "steve burke"
          ],
          [
           "think people ought able discuss",
           "rand paul"
          ],
          [
           "hire many former inmates studied law help prison system",
           "caitlyn jenner"
          ],
          [
           "heard covid indiscriminate gets might prime minister britain might next door neighbor certainly indiscriminate terms bad outcome know percent people louisiana died covid one underlying health conditions terms outcome healthy front end important",
           "pat robertson"
          ],
          [
           "never happened american history responding",
           "pat toomey"
          ],
          [
           "hallmark legislation want see judges living fear",
           "richard gordon"
          ],
          [
           "health district hospital schools small businesses torrington agencies institutions planning responding every situation emergency declaration ensure continue prepare appropriately respond begin implementation plans recovery phase ever evolving crisis",
           "elinor carbone"
          ],
          [
           "protection orders violent crims duis major cases continue heard",
           "mark owens"
          ],
          [
           "whether cnn mcclatchy twitter political enemies see going last",
           "devin nunes"
          ],
          [
           "ground try change behaviors",
           "daniel webster"
          ],
          [
           "brought beat around bush",
           "randy p. boyd"
          ],
          [
           "summary two lawsuits allege two major players vaping industry purposely marketed products toward people underage",
           "mark brnovich"
          ],
          [
           "testing staff residents help us quantify reduce spread covid staff residents within community",
           "libby jacobs"
          ],
          [
           "saying much play",
           "rob bradley"
          ],
          [
           "immensely proud colleagues finance committee diligent work budget extraordinary times must protect alaskans health economic damage virus",
           "cathy giessel"
          ],
          [
           "handful flights heading china bring americans back home hubei province",
           "mike pompeo"
          ],
          [
           "tell kids everything want know cause listen",
           "kevin priola"
          ],
          [
           "michigan trust teachers principals superintendents use knowledge expertise teach children",
           "jon bumstead"
          ],
          [
           "criticism comes territory threatening statements sort highest levels government inappropriate dangerous members court continue job without fear favor whatever quarter",
           "john roberts"
          ],
          [
           "really question said phase two may 2a 2b 2c see",
           "steven mnuchin"
          ],
          [
           "think indicative lot american public though",
           "meghan mccain"
          ],
          [
           "let see things going respond accordingly",
           "mitch mcconnell"
          ]
         ],
         "hovertemplate": "party_label=R<br>x=%{x}<br>y=%{y}<br>quotation=%{customdata[0]}<br>speaker=%{customdata[1]}<extra></extra>",
         "legendgroup": "R",
         "marker": {
          "color": "#EF553B",
          "symbol": "circle"
         },
         "mode": "markers",
         "name": "R",
         "showlegend": true,
         "type": "scattergl",
         "x": [
          -0.05698386627766623,
          -0.025699135377864477,
          -0.0384289234328078,
          0.06864963748626632,
          -0.06678083317824467,
          -0.041687452440340535,
          -0.04181557838631415,
          -0.05228568307298605,
          0.05499802412136755,
          -0.04222546400088474,
          -0.031137039980464205,
          -0.04181401239320841,
          -0.04384909444239025,
          -0.039782063301026724,
          0.07416144629743973,
          -0.0255135856365154,
          -0.033882871832138665,
          -0.020586060401931842,
          -0.0033325516032136847,
          -0.024577872243985183,
          0.02553299310572551,
          -0.03682014811914889,
          0.03009440723548007,
          -0.03827966689446329,
          -0.0032044582758919563,
          -0.0019290843200783908,
          -0.036315143640585364,
          0.022367662104718196,
          -0.016325864955966538,
          -0.029078418275150703,
          -0.01877370235235056,
          -0.0403029771107074,
          -0.05935479089449679,
          0.14239766691667183,
          -0.027785367886341047,
          0.013131397011906435,
          -0.024661744566459823,
          0.08262115347112393,
          -0.04963479945902054,
          -0.04010122247443629,
          0.06684463788062033,
          0.1308994723166057,
          -0.01955730032841941,
          0.4027606630027201,
          -0.046523767853761215,
          -0.032189238123346536,
          -0.03514851852269653,
          -0.03424210230575246,
          0.03352981653969406,
          0.11611889633862874,
          0.05043398194339145,
          -0.03323206015761875,
          -0.015884829766477714,
          0.06898403876733228,
          0.10129291603897968,
          -0.04683198400575584,
          0.020969504547350755,
          -0.00914906832601793,
          -0.03776437009048883,
          -0.02686458109492962,
          -0.038575153737719754,
          0.021248420081189212,
          -0.03536583043138757,
          0.16298033541121804,
          -0.04275359529116743,
          -0.008712686568052781,
          -0.0380306255750031,
          -0.04619198238644071,
          -0.04056197152574651,
          -0.027557481386691354,
          -0.013847135550817437,
          -0.018272075929213177,
          -0.013702274258814628,
          -0.03227575231090424,
          -0.045057689050705556,
          -0.04421697633671532,
          -0.02789733574972333,
          0.10089305817669471,
          0.011872212674687582,
          -0.04255687705958317,
          -0.025941711598971292,
          -0.030945551455347806,
          0.20060799635053164,
          0.11214347639945792,
          -0.05325154878356815,
          -0.03559001084532076,
          -0.04912601307737844,
          -0.028499292867825023,
          -0.007604592499190603,
          0.09171153722153386,
          0.10238957331213548,
          -0.03655495147368141,
          -0.03730590918928365,
          0.023802635456051408,
          -0.06864099027818375,
          -0.02680976092376035,
          0.03700121662364961,
          0.12088264449221645,
          0.07512179588870489,
          -0.0020538501397679787,
          -0.0374053913782518,
          -0.07752472471149834,
          -0.024691080863834758,
          -0.02343762782615367,
          -0.04529396966077475,
          -0.025596407647816087,
          -0.014270430571339324,
          0.023932447325610555,
          -0.04073958507629576,
          -0.01072002172377095,
          -0.04514309261992278,
          0.020580150767685778,
          -0.03181519907060034,
          -0.06178974405444324,
          -0.040043250828789186,
          -0.005695146061744509,
          0.06408275513198523,
          0.07823362699211138,
          -0.04601194264800273,
          -0.046917587394958174,
          -0.024611231584360738,
          -0.03812007638938969,
          -0.048520670217701053,
          -0.03350613878836833,
          -0.046751842067369,
          -0.0079340473327548,
          -0.0301121896216075,
          0.015426540467034794,
          -0.06915007397860087,
          -0.0413959347575862,
          -0.0335259880195648,
          -0.03694349811938599,
          -0.039810458615689624,
          -0.0461207768973033,
          -0.011100766941603465,
          -0.047877742770842786,
          0.009222920167962789,
          0.004910635976374501,
          -0.026522645490113392,
          -0.049546136850251776,
          -0.020245850756367877,
          0.13760186666817179,
          -0.0394687552875423,
          -0.02843560557005117,
          -0.0697023870822716,
          -0.017035068580174388,
          -0.04217901389106704,
          0.04782910145777128,
          0.06421818508630019,
          -0.04826317924501202,
          -0.03703121984428241,
          0.09064866643967473,
          0.006808618049402065,
          -0.05701276032226884,
          -0.05707660512787467,
          -0.021259635703318607,
          0.31712793910569054,
          -0.05256383721375342,
          0.00107886582656527,
          -0.038101334889766365,
          0.0023639278083094108,
          -0.038959419008914906,
          0.12663266614351093,
          -0.044597720709994,
          -0.03885719555423938,
          -0.03362540982457996,
          -0.030427810651919747,
          0.04720198118655068,
          0.09202540045338617,
          -0.028682435583504855,
          -0.027461125214192424,
          -0.05565336525965167,
          -0.006303029101964373,
          0.1101686140305802,
          -0.025796921945345767,
          0.007480849337193964,
          0.02452728292656249,
          -0.038276634693095335,
          0.06113908599009378,
          -0.02983208118163362,
          -0.010534027582225942,
          -0.024502326711456506,
          -0.024274627184776625,
          -0.04405929216099278,
          -0.04255625688375524,
          -0.03900257946560154,
          0.03486519487337348,
          0.21788745128285705,
          0.031980211600963,
          0.007885847956717549,
          -0.042705925824769286,
          -0.03423478906144999,
          -0.033922362738835726,
          -0.04848341971148986,
          -0.04053981027859039,
          -0.050493065742085806,
          0.021207627109861505,
          -0.050418639282738806,
          -0.055039631019626965,
          -0.04207427597195939,
          -0.03381703515982824,
          -0.009178330979121255,
          -0.02619948426914707,
          -0.04773194708530004,
          -0.041049581102926176,
          -0.06373580059115545,
          -0.093878780362369,
          -0.031897394312387604,
          -0.04750857483993346,
          -0.019232496610891502,
          -0.032036156042359654,
          -0.06324218431345494,
          -0.027711057715336895,
          -0.027775055665190264,
          -0.009621177001127164,
          0.09109850837882373,
          0.04976781826837164,
          -0.020010207243361035,
          -0.07074507292413215,
          0.012465275713364251,
          -0.04268276317850423,
          -0.020836384725784047,
          -0.06060253366992104,
          -0.034675784305108905,
          -0.02727830181443167,
          -0.05024622906384669,
          -0.03624377666935048,
          -0.03616869458562587,
          -0.04721441221019975,
          -0.012827841660418655,
          -0.012394957684868525,
          -0.006217953483882102,
          -0.041948912349904985,
          -0.08345178261928808,
          0.1539377225585101,
          -0.04264656587021499,
          -0.06277099304590489,
          -0.04051998282491073,
          -0.041951645050040606,
          0.0795354334653162,
          -0.002379100983191636,
          -0.04381967519005181,
          -0.05135932050398535,
          0.1251011818233101,
          0.0375296687717455,
          -0.0327349683368007,
          -0.015602432150656959,
          -0.0015923327938531665,
          -0.03562594668466652,
          0.13452820542489133,
          -0.023140758175670764,
          0.09471865477498485,
          -0.03050593553514555,
          -0.04037226384271963,
          0.05773886070901358,
          -0.05347966716077828,
          -0.006839003595809045,
          -0.0174055762902563,
          0.25484943124747117,
          0.011222716832324434,
          -0.04091594024238912,
          0.007933568910128102,
          0.19351809879059192,
          -0.01665066088924483,
          0.013356602751642625,
          -0.03743031679097587,
          -0.033174671489037987,
          0.03524104337397931,
          -0.0376961878774281,
          0.005325803913960241,
          -0.04157996078198466,
          -0.08179681104279396,
          -0.014556276684811268,
          -0.03717666562659662,
          0.16400444218296337,
          0.03854342554547972,
          -0.018796187689476135,
          0.053486678014494984,
          0.05058557314216478,
          -0.042120120029671373,
          0.07481484124026365,
          -0.06234485660208437,
          0.09216186754642819,
          -0.03297327653051259,
          0.02093270717615139,
          -0.012970384923124554,
          -0.011842362646575554,
          -0.04667997010574697,
          -0.041780861035927326,
          -0.03586656225209463,
          0.188781772935667,
          0.0834986997867622,
          0.0730763970669846,
          -0.035565234094759715,
          -0.04861649827354481,
          0.1590165180812717,
          0.015567613639565488,
          -0.03185708964024617,
          -0.05705631587629788,
          -0.0038725019130212007,
          0.0865383079875638,
          -0.028559063643203878,
          -0.03042188143013305,
          -0.0035507091884302154,
          0.1288147915770247,
          -0.03981629005781801,
          -0.056079951137333155,
          0.06850816984627003,
          -0.04571606231386226,
          -0.004527565652384557,
          -0.033910489733973447,
          -0.012857063636569785,
          -0.04387325340913119,
          -0.03157825040832889,
          -0.01707038165176175,
          -0.02333775780036843,
          0.08132479193231937,
          -0.03451332673143099,
          -0.052283359668315,
          -0.053466657667362416,
          -0.038540999348666685,
          -0.015871530739306958,
          -0.030611279339958976,
          -0.02463942098668654,
          -0.030640650644055155,
          -0.04169216480437469,
          -0.010009520391168565,
          -0.04361317713064597,
          -0.09225617962071428,
          -0.02496398363069702,
          0.06293161341897029,
          0.0038986965472848716,
          -0.03892711972201253,
          -0.031194100518671074,
          -0.03631893555329938,
          0.0018044249884754202,
          -0.034765862665446574,
          -0.015575117285503941,
          -0.02711971140829239,
          -0.05365806225394615,
          0.06311416687106544,
          0.045590014027728394,
          -0.036453904734228125,
          -0.010951645775746527,
          -0.044406221539052236,
          0.017920907851209436,
          -0.03563041788528028,
          -0.011286539821858716,
          -0.043537177605150135,
          -0.02798662385688886,
          0.05251234933787794,
          -0.0002468509313869542,
          -0.0229969740125767,
          -0.03705817445713369,
          -0.03757475199907808,
          -0.012141796545263664,
          -0.03586658639512798,
          0.0638338437142882,
          0.06264037999698444,
          0.04790257268233512,
          -0.03816339476938136,
          -0.01345064686146887,
          -0.049692098553647306,
          -0.037685872115773185,
          -0.056672243020307315,
          0.07317359161713063,
          -0.03825415775193627,
          -0.012669065432998866,
          -0.031059911601552283,
          -0.027653290400980322,
          -0.03351263143797983,
          -0.047803549890962825,
          -0.046634167995390136,
          -0.043458859079236,
          -0.04458604890999054,
          -0.029139253907745227,
          -0.042546821804139816,
          0.08278222075198857,
          -0.015934512338234376,
          0.10189145691953316,
          0.03632619151684034,
          -0.03796044706661945,
          0.0186464402306528,
          0.08142656693113262,
          -0.015900391857331435,
          -0.04825183137381651,
          -0.03148029935132265,
          -0.045135393039038324,
          0.01146044002986359,
          -0.0418246262035547,
          -0.026424081532920852,
          0.03870100526021022,
          0.10859154507188246,
          0.007623089028946222,
          -0.04218998207338952,
          0.06810705740635209,
          -0.043598350960647285,
          -0.03661632989469268,
          0.12136426727936307,
          -0.04231866001812896,
          0.014812104849744668,
          -0.052598214032167204,
          0.027684257765846043,
          0.0920512915116613,
          0.12146976868042203,
          -0.03936211685076708,
          -0.03516187064302555,
          -0.03839506861791314,
          -0.08645702812595282,
          -0.037528158232950144,
          -0.05918789242581357,
          0.19292130396640778,
          -0.029927699842316215,
          -0.0067434220519096266,
          0.02289427790000001,
          -0.038148912211888215,
          -0.0310053291531626,
          -0.02704212123000707,
          -0.029912198567948304,
          0.08800824102609146,
          -0.07678704954719608,
          0.02602197007334551,
          -0.03359485958250152,
          -0.008186736878383505,
          -0.017689616424012313,
          -0.041880063496727835,
          0.027338720495652304,
          -0.041167767650596175,
          0.11389714176758815,
          0.11385929096425207,
          0.11791356296107339,
          -0.0321880938535674,
          0.05513345809902679,
          -0.03207752871216598,
          0.0026534471383028065,
          -0.053989239606228735,
          0.03144682906885792,
          -0.011070771040714238,
          -0.015855191665748627,
          -0.025671706033914173,
          -0.00589877637951855,
          -0.057618544888668626,
          -0.020962265826132545,
          -0.05039329136508372,
          -0.05098555492517398,
          -0.04968063678319048,
          0.013099872035582685,
          -0.014814408076033696,
          -0.022170595753085276,
          -0.044064129997173775,
          -0.006462770105837947,
          0.006673489403418289,
          -0.03685551705705073,
          -0.050142107541318155,
          0.04848923432478015,
          0.08713352888868804,
          -0.0017306486939662206,
          -0.04456214034420224,
          -0.03749630501730068,
          0.00615177980576542,
          -0.039060666342604126,
          0.008000093790449404,
          0.03386049157224151,
          -0.03726210902543051,
          -0.038485668537679006,
          -0.0018760735791560285,
          -0.027419948754631576,
          -0.042264519021735135,
          -0.04887736930418663,
          -0.027872211514652728,
          -0.03198515385080064,
          0.07226706278948059,
          -0.028937003690649176,
          0.05994288277195486,
          -0.05470462051844782,
          -0.04953313550754087,
          0.02467772439298002,
          -0.04074282433798626,
          -0.027503256673953244,
          -0.0639384871155676,
          -0.03815627971470692,
          -0.03171124862796312,
          -0.02234491459639361,
          -0.01528053076625181,
          -0.050529956516313534,
          0.20934009479229124,
          0.1391967038770961,
          -0.0436765593766158,
          -0.05171682165791184,
          -0.046337495725590754,
          -0.010191129527937654,
          -0.056327644960202504,
          -0.03358156753284972,
          -0.0019512706653632087,
          -0.03875694235042084,
          -0.030874063818519086,
          -0.05747183940469716,
          -0.02553232127512205,
          0.29386265450458177,
          0.1087618922785113,
          -0.04279129778486788,
          -0.03918328247801759,
          -0.034392615456214005,
          -0.024154536007393288,
          -0.025838847482478406,
          -0.03522082765935187,
          -0.023732808847047947,
          -0.013832707721927011,
          -0.04819506493222926,
          -0.04332481884040101,
          -0.04301305724844964,
          -0.018508454150906795,
          0.12498121725504065,
          -0.07736514389700298,
          0.02622176072151493,
          -0.03198325736115658,
          0.004651274184016211,
          -0.016526106063438496,
          -0.04959655756803771,
          -0.014950651618094113,
          0.263161222531928,
          -0.00010544121183263429,
          -0.010636172729061697,
          -0.04132813119817588,
          -0.004089698693499655,
          -0.03604224213107449,
          0.06805292761448888,
          -0.04859762532384496,
          -0.043994974368623284,
          -0.036555803942849914,
          -0.0408143378990614,
          -0.035373145888696965,
          -0.05589096926077537,
          -0.03534438173446716,
          0.1038569166331862,
          -0.07066907255997763,
          -0.05988978790082485,
          -0.02383654997414923,
          -0.03789923641554053,
          0.15029293872274496,
          -0.032839729914712235,
          0.320803103629423,
          -0.044460935418715444,
          -0.023275163635072184,
          -0.017506844442742475,
          -0.053469574493161,
          -0.0429406146969544,
          -0.027215971353864932,
          -0.039812358235513164,
          0.039105311078297844,
          -0.021553788723182157,
          -0.042036891723675855,
          0.04814468657511263,
          -0.039513673165670234,
          -0.03447517729246853,
          -0.0431717795363628,
          -0.0034307603506388436,
          -0.028176134187227243,
          -0.04051164063331386,
          -0.03744145044271411,
          -0.03799987025296608,
          -0.04080785227622197,
          -0.03638458378373327,
          -0.03903339726887782,
          -0.01727142680368685,
          -0.0038573261843787964,
          0.008200594318204083,
          -0.023493892253558506,
          -0.05720020836721118,
          -0.04253613226405212,
          -0.04154633924025409,
          -0.021994123393347692,
          -0.03717933625377804,
          -0.046240473599898066,
          -0.02348827648310198,
          0.03386041161153677,
          -0.028940662975015203,
          -0.029555643954322846,
          -0.05624215957798388,
          -0.03429473351767124,
          -0.039790282467795444,
          -0.02257407580129864,
          -0.03707667867853957,
          -0.040750084022244386,
          -0.03629599027045422,
          -0.06498177576351406,
          -0.04145608728089004,
          0.016730420445449753,
          -0.03930286959877397,
          -0.029747872822271315,
          -0.03674311111305804,
          -0.04936583955198903,
          -0.0384983518497785,
          -0.03336850272433816,
          -0.013256328857187116,
          -0.04437523672900714,
          -0.015577098353662484,
          0.10209241224804574,
          0.10041137683499068,
          0.18746741445718954,
          -0.04577476580422145,
          -0.011867428510063118,
          -0.028363328112034628,
          0.1764034674125789,
          -0.03811464048301011,
          -0.03581964367715152,
          -0.031786504191800284,
          0.11576292539020784,
          -0.01273059096541234,
          -0.038367075521868396,
          -0.03381859771793438,
          -0.032483570928042334,
          0.21524979345241035,
          0.04032003612266257,
          -0.03563405583729599,
          -0.04511518247463736,
          0.02490661583316862,
          -0.040981750622923946,
          0.011226312019592765,
          -0.04692672321423982,
          -0.03193658947134452,
          -0.042508639063642814,
          -0.04703466358580593,
          -0.03684852267131047,
          -0.03494490336656281,
          -0.019460619194640857,
          -0.04473592129805754,
          0.009903748299616228,
          -0.01244997197754973,
          0.17242605259254354,
          0.06417369930624853,
          0.06308065984604973,
          0.03691662057509215,
          -0.028668669002319142,
          0.023618543274900844,
          -0.021467693797155005,
          -0.02424506987459786,
          -0.0414480707106648,
          0.005435496796794314,
          -0.009099798015560304,
          0.12073685748300274,
          -0.024585380862349827,
          -0.03893717616507234,
          -0.02461665077856747,
          0.012695671149826263,
          -0.04944839771671227,
          0.050372589233837826,
          -0.048704846610029065,
          -0.035370217786241234,
          -0.05247335610089668,
          -0.03632817406269401,
          -0.061272630114336875,
          -0.05778241377645688,
          -0.032467913322339705,
          -0.051058182169521765,
          0.020762985747698245,
          -0.04368908385903429,
          0.07661056914566568,
          -0.00489168025044208,
          0.05528101186755801,
          -0.04401165573439723,
          -0.04440678337865973,
          -0.035866516596417465,
          -0.03696259986703028,
          -0.08586172845513841,
          -0.05117546650215609,
          -0.03629689859279877,
          -0.024576177397400888,
          0.2340789381439928,
          -0.01814395919151924,
          -0.018637594450632816,
          -0.04234437744683862,
          0.0032402527841943023,
          -0.009849704276245961,
          -0.04062957985292076,
          -0.05119907784818964,
          -0.006387983673651925,
          0.017095533074506675,
          -0.03151959175524213,
          -0.032333560410739794,
          -0.040048417634851355,
          0.020888050080748927,
          0.013467925460279617,
          -0.029573455630993943,
          -0.03851669763026432,
          -0.04457869037546553,
          0.04993997261388076,
          0.13644490137430212,
          -0.007872438528192716,
          -0.040954373490584194,
          0.06324401219545936,
          0.13816733389700248,
          -0.028390175904782648,
          -0.03354648242750479,
          -0.02000446356975861,
          -0.03825032506946144,
          0.07178797229665244,
          -0.002995715288271091,
          -0.037832897604787634,
          0.060375190326146085,
          0.07337504602341977,
          -0.0234022647341574,
          -0.004127921850238089,
          -0.053634545046488055,
          -0.03671608997409369,
          -0.04833002338514623,
          -0.03853135526347933,
          -0.03842698277923713,
          -0.04273178152327761,
          -0.03816627525381661,
          -0.03023237913748458,
          -0.02822679951761625,
          -0.03613438425541732,
          -0.0227298940355986,
          -0.04303620817666112,
          0.15149889790086365,
          0.01817811227962631,
          -0.021245951113043726,
          -0.020113421205857115,
          0.2675696470768064,
          -0.03341360717709907,
          -0.02635403321616162,
          -0.055368270577318905,
          -0.04585651328968014,
          0.20412141296870986,
          -0.0357352180158006,
          -0.04862443890928625,
          -0.035477803116581705,
          0.05835034370451485,
          0.0970328903026624,
          0.16089710812979202,
          -0.04131697503522437,
          0.19541196070507574,
          -0.07542150176745122,
          -0.0285979714107304,
          -0.040631630784096276,
          -0.030276916702230466,
          -0.041224956956256005,
          0.022339744341496895,
          -0.02184846956730994,
          -0.009818362047180942,
          -0.08440006568227659,
          -0.006253370011016948,
          -0.0019342635133396055,
          -0.05981862435275204,
          0.05622710074735525,
          -0.02675965543630885,
          -0.03687389158674859,
          -0.028853969611719082,
          -0.04945179590322815,
          0.04079167910816945,
          -0.05796650665998603,
          -0.04860724085967377,
          -0.027023359833528146,
          0.09890485122840204,
          0.10903785828110966,
          0.1815065990203425,
          0.12465916845319765,
          -0.028907509163087357,
          0.008253931517957329,
          -0.03881056166257171,
          -0.029966398056165466,
          -0.048344255550369114,
          -0.01669643117557909,
          -0.04213444969528595,
          -0.017409977109537452,
          0.0462814841286852,
          0.067222946607405,
          0.014318360442332938,
          -0.029538537802447418,
          -0.007228724978949126,
          0.27189181086286157,
          -0.026251849529163394,
          -0.013294238195999262,
          0.005261544376535003,
          0.19623713302472828,
          -0.03768537207935363,
          -0.038504096693592935,
          0.045639859945722776,
          -0.03223614366510482,
          -0.007945979528200182,
          0.035973844556953044,
          0.07316236234836478,
          -0.0697055089075497,
          -0.055456942619206286,
          0.11844995957978113,
          -0.046095439068416545,
          -0.0548307947314795,
          0.10007188582726584,
          -0.05554866921886536,
          0.09402369517217117,
          -0.03785094399917954,
          0.11589687057143089,
          -0.03405361851480406,
          -0.008524945231686818,
          -0.01974778266414487,
          0.07209749785723928,
          -0.022261060894594346,
          -0.023352344420826947,
          -0.03804123065706303,
          -0.027061317867045753,
          -0.05635282909973986,
          0.3727080531700411,
          -0.03777466619481774,
          -0.024600673110725644,
          -0.03688445222699971,
          -0.029410253183753576,
          -0.010370791610445497,
          0.05569509223566103,
          -0.0379303635823549,
          0.054883018450297694,
          -0.02689622946013475,
          -0.034364411639330066,
          -0.06235110729529011,
          -0.007862694618963958,
          -0.0386735005485878,
          0.07257947482303077,
          -0.050674124566423374,
          -0.031015915231287702,
          -0.042509852995943,
          0.14912328852940748,
          -0.03934986719741343,
          0.1903969243968741,
          -0.05218426918513627,
          -0.004236126663445369,
          0.02235456349234333,
          -0.03562548223221113,
          -0.0360244440242485,
          -0.029496887135653897,
          -0.016412660655063017,
          -0.034985059207706004,
          -0.03207364347786768,
          -0.006930200519627209,
          -0.047315452324717774,
          -0.03649577299620105,
          -0.047860263662403,
          0.012193408557161327,
          -0.038168746470977975,
          -0.027703893254041483,
          0.08125478725871442,
          0.05430500077613479,
          -0.04990712342213521,
          0.06504935694122833,
          -0.052848230259792406,
          -0.01944446960923837,
          0.052853726610392684,
          -0.06332366101832511,
          -0.026613076299127576,
          -0.0453967455583474,
          0.0747102450729327,
          0.08017057612460725,
          -0.03051631682818579,
          -0.023673405358022388,
          -0.03342931796466792,
          -0.04807605003880754,
          -0.036252121773440976,
          -0.023092140247116786,
          0.09417765903772228,
          -0.017685604777478575,
          -0.03880525035902501,
          0.12071383926173612,
          -0.022490890852619468,
          -0.040518030754539504,
          -0.049353531485498245,
          -0.006740457996003424,
          0.02711359186092671,
          -0.02645937151452602,
          -0.009269486893799285,
          0.004590315384350058,
          -0.032134135028991644,
          -0.043091590948237266,
          0.25227304676664175,
          -0.06424396788067424,
          -0.043878410487331106,
          0.024962395055844317,
          -0.055021997833400296,
          0.037632424723984814,
          -0.040950981368021014,
          0.018149920859820836,
          -0.03758393188844134,
          0.051012010330920184,
          -0.06625597299283704,
          -0.03268120038156584,
          -0.03700367622264837,
          -0.025134056559035903,
          -0.07990596375536282,
          -0.04103470969154132,
          -0.033339444717607726,
          -0.037711941889398366,
          -0.03460510034378325,
          -0.038207870435576934,
          -0.056934301714624894,
          -0.021987107324503458,
          -0.03379803811136772,
          -0.03678135960259635,
          -0.039533266841345734,
          -0.03808650984901182,
          -0.041405589949623726,
          -0.043790992413942256,
          -0.020931309475290365,
          -0.05211848565154933,
          0.028890549165627586,
          0.013652984861374118,
          0.0038258267183458247,
          -0.05239901077735527,
          -0.0538296078153424,
          -0.04378569968784811,
          0.10382319394245129,
          0.12334035401028781,
          0.05642235620473049,
          -0.00030264148667827383,
          0.03529842996180958,
          -0.027449762423239977,
          -0.029266879065414496,
          0.01058387223575809,
          0.03283901066490976,
          -0.029240433236555504,
          -0.045772686322863326,
          -0.0523048708561747,
          -0.04114218470303311,
          -0.025210846111446413,
          -0.03586658578910614,
          -0.01836054047256113,
          -0.026918207401485282,
          -0.0027430639761494647,
          -0.049956651743786384,
          -0.033543870765993314,
          -0.05664285611414568,
          0.0854007311721637,
          0.1555906171197659,
          -0.01507329530775066,
          -0.03920899014469181,
          -0.040099098583729585,
          -0.03948161446148522,
          0.12566053887798975,
          -0.0033327661069248154,
          -0.034073736026932415,
          -0.035293622323780915,
          -0.04167678381158562,
          0.2195150150273568,
          -0.04020332367414925,
          0.053725988149172434,
          -0.03192994207277203,
          -0.0403635554148692,
          -0.05040883330207031,
          -0.019473970648463276,
          -0.04172767830731422,
          -0.049351481667164916,
          -0.03598595774078469,
          -0.055052269030471855,
          -0.04644032669407892,
          -0.03577846230801465,
          0.06882787605853273,
          -0.03976520283191139,
          0.010559557909350852,
          -0.038656706499090254,
          -0.06765152140610992,
          0.0013876881319921806,
          -0.04134117655116111,
          0.14199579476303853,
          -0.04024059169491497,
          -0.027360141727787064,
          -0.011363406845208033,
          0.15030814000029755,
          -0.051246523013327064,
          -0.049024926306994086,
          -0.04340890734753558,
          -0.01724867643722997,
          -0.024113843164454626,
          -0.010794414021322994,
          0.0038674651701320457,
          0.10427583031293047,
          -0.024621544552585115,
          0.05578745233646056,
          -0.03168433551364141,
          0.01101486739698011,
          0.0027306994447531987,
          -0.03833812881845957,
          -0.04035863427633795,
          0.2203710590058192,
          -0.04176856086080369,
          0.007459005827882499,
          -0.018900115979653735,
          0.004626728736096185,
          -0.0595689303442394,
          -0.05521781456304149,
          0.1152644431071476,
          -0.02144002226852506,
          -0.032307003745601075,
          0.017637452154077967,
          -0.04770012016503425,
          -0.02151795680540522,
          -0.03726916664011116,
          -0.020535719155100652,
          0.012201031846589654,
          -0.038505354249504,
          -0.04677554220640315,
          -0.015287578407334442,
          0.10196511313038756,
          0.20798791407546438
         ],
         "xaxis": "x",
         "y": [
          -0.00920971682867903,
          0.004796153877773998,
          0.014879170866950637,
          -0.033980888739016946,
          -0.011095549950217524,
          0.0062193619006275305,
          0.013123229982645175,
          0.01595032846725754,
          -0.11494628188095558,
          0.0006337010930505776,
          0.005082537792698595,
          0.005093237565980251,
          0.014009640401764606,
          0.015249625367459453,
          0.07505435718639811,
          -0.015733416690858794,
          0.0099006195083534,
          0.007288160322470303,
          0.012991170044737094,
          0.005107668574102574,
          -0.028570636167254266,
          0.019522304217419538,
          -0.04708237227145372,
          -0.005512099274324672,
          0.0013837648237157757,
          -0.005742619316426618,
          0.013418914499901863,
          0.0074438926501446305,
          0.03275156483457818,
          0.005702864917653525,
          0.02563134713183808,
          0.0110497055964458,
          0.00672516556706412,
          -0.23296718137387157,
          0.023071851788467775,
          -0.06181312441122646,
          -0.007599715326316898,
          0.11537941928410189,
          0.012952691534499253,
          0.00795299818787365,
          -0.015089062834863358,
          0.18931336445253674,
          -0.021230526210948737,
          0.3039831082230209,
          0.01172893340231664,
          0.007735217943096204,
          -0.002663197953327324,
          0.020159331425416684,
          0.009199040162365621,
          -0.19930704138231345,
          -0.029760958875679287,
          -0.028563547636578597,
          0.004043173345075286,
          -0.05559671594292619,
          -0.1236789639926015,
          0.029476204321951346,
          0.019512133925723135,
          0.014483737847121904,
          0.010716565593343799,
          -0.01798962224418293,
          0.028065940684345793,
          -0.09369624937001315,
          0.015586109632238013,
          -0.19172896127693762,
          0.014349846992520501,
          0.032298764200502976,
          0.033741989222790376,
          0.019885250607202584,
          0.0059934159390677404,
          -0.05003191195857807,
          -0.02382929280192094,
          0.00891777424912364,
          0.009313428667244631,
          0.003890900505760894,
          0.0062457015369725465,
          0.01541192790818108,
          0.021411756212862662,
          -0.1755007024143196,
          -0.021950460950261173,
          0.021173544361923608,
          0.020847591967490288,
          0.011025599610788044,
          0.19749803693079124,
          0.1043436173765546,
          0.007037926666097585,
          0.011641621483875453,
          0.010129993783076503,
          0.0208737751323255,
          -0.004867952839694812,
          -0.1435700439508752,
          -0.05398858405790173,
          0.00890459833766423,
          0.02309466808849236,
          -0.06615753180200973,
          0.012001066087623326,
          0.003939975473242709,
          -0.06833926969884925,
          0.12855033404103192,
          -0.10178052936676023,
          0.0052009202541803586,
          0.01274348325716988,
          0.007389310891846858,
          -0.01688083433732608,
          -0.003073889898518524,
          0.028983911042561823,
          -0.005150702975369272,
          -0.01008498201882503,
          -0.015338230951401402,
          0.013497210703395204,
          -0.0214504226052886,
          0.015062974159231083,
          0.027891293333121618,
          0.011542996193152166,
          0.01633343099274204,
          0.013479022153233265,
          0.018709661959748766,
          -0.14858398031172249,
          -0.0767836844467989,
          0.016204025714043703,
          -0.02411416555592394,
          -0.003271152685921045,
          0.015054073301630711,
          -0.014930180063223988,
          0.05267774711351385,
          0.014738821515828646,
          0.003398785197351223,
          0.013443092053611284,
          0.00511505913685297,
          0.024101003643287405,
          -0.0023877632047595025,
          -0.03169874433177031,
          0.005529116566825727,
          -0.032513752359371144,
          -0.004551985306101184,
          -0.012394696209626287,
          0.002327377679101226,
          0.013111374610048073,
          -0.046381098657213356,
          -0.0001826086399346317,
          0.009433154053709971,
          -0.01041540166868838,
          0.11561152965925807,
          0.011455169320850394,
          0.015201666857684815,
          0.018536124844380778,
          0.030865336617607653,
          -0.004182279391601887,
          -0.03508675949730691,
          -0.017777035675712795,
          0.005087538696242514,
          0.007367310969331544,
          -0.14451274462244207,
          -0.01695736897796664,
          0.007382897133313432,
          0.01145729117731743,
          0.006141905316034721,
          0.1588868545912965,
          0.022355484627261463,
          -0.04141734895659424,
          0.011795921829112025,
          -0.005361825378889037,
          0.01935568330706338,
          0.08806683098893417,
          0.013152898727559694,
          0.019471465677248313,
          0.006301942679926741,
          -0.0013272495004584737,
          -0.044756431758447957,
          0.13398903774370685,
          0.006094253083511146,
          -0.0005229425466302494,
          0.01247158462156723,
          0.002534175695976395,
          0.006734939619808049,
          -0.004272129137531064,
          -0.006190420474218647,
          -0.054439504099527136,
          0.022063838097944266,
          -0.0900640126217438,
          0.0001844745335193216,
          0.002592420330139172,
          0.01909265434358698,
          0.009138042737975138,
          0.012749217240491297,
          0.002555249696015313,
          0.01012238465708615,
          0.04673453715280433,
          -0.16023268509467836,
          -0.08874983818758636,
          0.018091856652441205,
          0.014928388201679741,
          0.017902097514894324,
          0.013325454975966834,
          0.018620028763279967,
          0.01081739426861678,
          0.013413835684067633,
          -0.028252468516115924,
          0.01494551920073505,
          0.018255085732858705,
          0.009477500653318583,
          0.00984973863930063,
          0.014471887267608733,
          0.0032575348514563077,
          0.017104536767724332,
          0.01160757972122411,
          -0.014791462542444867,
          -0.015029029042779508,
          -0.004388483341289432,
          0.030521492663309793,
          -0.06805330587425125,
          0.02305378103203437,
          0.01617036358667149,
          -0.007949636948077462,
          0.02026810572784074,
          -0.0026921050065769952,
          -0.15750262096696196,
          0.01920948386203195,
          0.016405762818020503,
          -0.007846900326745527,
          -0.05623310724892059,
          0.015287742864626547,
          0.009227115565835711,
          0.011171121489122903,
          0.00464292923012122,
          0.004475814934006512,
          0.015328369341260467,
          0.02504497594034638,
          0.006741731641130668,
          0.018371181839201643,
          -0.01163896523986554,
          -0.023969015477374577,
          -0.01570025178327453,
          0.0038901195337023315,
          -0.02858792152748045,
          -0.02136988948994981,
          0.01829047191992878,
          0.011361778348123353,
          0.011218498872611636,
          0.0063615271002140745,
          0.10065473599017456,
          -0.006842983865417358,
          0.01952061516093204,
          0.012646338404179612,
          -0.20294266758739146,
          -0.01269440167611537,
          0.01022233319077997,
          -0.0027108828974689737,
          -0.036737075910362696,
          0.003533736787958078,
          0.09208755580032495,
          -0.08531481199412178,
          0.12419061728970368,
          0.006072907555802432,
          0.001477445037598569,
          -0.10608790555709917,
          0.011714856522002992,
          0.014418587744746475,
          0.006886061384663515,
          -0.10518771841215703,
          -0.009509696804967209,
          0.010519009114221857,
          0.014852147281810531,
          -0.01065033205888869,
          0.051499613742255,
          -0.033669884068807984,
          0.017039040458908705,
          0.005602612407354995,
          -0.09038177062258441,
          0.008135153922513915,
          -0.026563299096026904,
          0.008104576058757739,
          -0.03970676965511718,
          0.017138329649921586,
          0.007379852524718784,
          0.10131846348601133,
          -0.05303778628581587,
          0.015122461421740077,
          -0.12753183146300576,
          -0.006011222389624496,
          0.0048625177638649455,
          0.11664275174977197,
          0.01774289884356914,
          -0.20661350469602158,
          0.011165274870374602,
          0.0011478091175041386,
          -0.0019093691040657963,
          0.015489327416861536,
          0.017260753415760326,
          0.011764748043585238,
          0.011831635007298742,
          -0.2440282606335601,
          0.009120315915928818,
          -0.18455456132033582,
          0.011361710112133067,
          0.000501583589132614,
          -0.14815249691931165,
          -0.0370485237947556,
          0.01062589098760474,
          0.013973483282976248,
          0.02923126882152979,
          0.13488270339111502,
          -0.009592909492448419,
          0.01814687154568289,
          0.004369904843002877,
          -0.11431170855538532,
          0.011924875699185124,
          0.018077471308370074,
          -0.12526074849850938,
          0.007916066807856665,
          -0.014268237446724985,
          0.020118658416828437,
          -0.031010063020002126,
          -0.007378352423535857,
          0.01791779497336547,
          -0.007536612266087666,
          0.023875926033517826,
          -0.07714682862354368,
          0.00954583597930601,
          0.018572041405080342,
          0.027791520430401295,
          0.015938224570170894,
          -0.028072969965582575,
          -0.0010970389137837904,
          0.016951607958778488,
          -0.013194657106752416,
          0.015760074657578036,
          0.031860042025952585,
          0.011256598772390557,
          -0.02559481665816015,
          0.004937031016756376,
          0.03282352759160629,
          -0.04439841168797009,
          0.018548695634387446,
          0.009952363374610786,
          0.009979349764098642,
          -0.09246580050275906,
          0.011969894449269674,
          -0.02560985920252144,
          0.010091448707146723,
          0.011591909407692488,
          -0.08869193520682497,
          -0.08573376350611517,
          0.015092413030468365,
          0.010222832116661511,
          0.029628833818296858,
          -0.033378431769977394,
          0.011795747467559825,
          -0.024250944958454857,
          0.012313466371341812,
          0.027762517487405818,
          -0.07432374519716672,
          0.01453153834762466,
          -0.007445827102786467,
          0.013175270004978272,
          0.017421317211837768,
          0.0008987642484658026,
          0.011831455978100848,
          -0.07341782488184784,
          -0.13445690837464166,
          -0.01614127340593415,
          -0.008294504328969951,
          -0.000638829995976907,
          0.02089955932270213,
          0.012397549521653799,
          0.016287092620273568,
          -0.1454956854878858,
          0.023612988344157176,
          0.03419461442976794,
          0.024893416523695415,
          0.030267621888451366,
          0.022716836993259992,
          0.010888148317358359,
          0.027787774423722263,
          0.013207137032153635,
          0.014023782921203862,
          -0.02084759980548198,
          0.010767084863638776,
          -0.07012436818828172,
          -0.0006602336357213005,
          0.12454668854903758,
          -0.07658328567123326,
          0.01392104177378925,
          0.06716935974464787,
          -0.14417925165217854,
          0.027066922659740842,
          0.016763692217092372,
          0.005197869830133113,
          0.018104249205985603,
          0.0065852438270073725,
          0.009814131379847987,
          -0.011937640818879913,
          -0.05066658724477442,
          0.12514759511786533,
          0.03737132061580507,
          0.01317261163907237,
          -0.07427356893173337,
          -0.017660993040711066,
          0.013476425967078038,
          0.1711978545396097,
          0.008101331155383577,
          0.04842653489642554,
          0.01946234445662671,
          -0.050141243738397914,
          0.11660438794251629,
          0.17588696298925846,
          -0.00765431736308348,
          0.012483615351657427,
          0.01691588009906556,
          -0.009120108267113724,
          0.016217118190891475,
          0.0069956891090057855,
          0.1382284599331994,
          0.03463933061853705,
          0.01963935592592485,
          -0.019319966375884495,
          0.023167047703246412,
          -0.00974876107458731,
          0.012713564566904631,
          -0.005213164064533356,
          -0.1046412558161354,
          -0.024773764602511808,
          -0.005728888114614809,
          0.011073671795817735,
          0.013996190330557845,
          0.009041871114620468,
          0.004755422862184867,
          -0.040145296245097314,
          0.011631173547300713,
          0.11880168389388512,
          0.0357224654497489,
          -0.16709676950224495,
          0.006839623208789518,
          0.07855457340339202,
          0.013897862164030005,
          0.03294318777403599,
          0.02354601684542753,
          -0.033086947523383925,
          0.010700300868746784,
          0.013803541557052358,
          -0.010343115329573986,
          0.01588135979614411,
          0.004085198906342126,
          -0.016016479233424228,
          -0.013068242234185387,
          0.015769510811100562,
          0.011593044844527493,
          -0.004074146188175737,
          0.006236105970987694,
          0.005184761403191113,
          0.011681713221608204,
          0.013225390641037841,
          -0.015032662412670445,
          0.007695298808692374,
          0.025422016432932692,
          0.10460597330003862,
          0.10971561811156463,
          -0.0013785229883885274,
          0.0071989045544147215,
          0.004717568177309996,
          0.002243184762682927,
          0.016789529985407718,
          -0.09290115423657697,
          -0.06996968979160709,
          0.016856131606341043,
          0.0014816020680752777,
          -0.036906864732376136,
          -0.006285620919112617,
          0.026138725169385948,
          -0.022467302121957675,
          0.0012736031820044852,
          0.027937752970147885,
          0.04473852901020794,
          0.017876689825488953,
          -0.1188865038014372,
          0.005118253803558086,
          0.015215013158450447,
          -0.027540920576882257,
          0.0007345982576451987,
          -0.00536149806034428,
          -0.012621656028718184,
          0.02108013970415352,
          0.015418524808149356,
          0.001813805443702584,
          0.04751491763063969,
          0.0006222909814497718,
          -0.313217962778071,
          -0.15724602992221373,
          0.02368751539124882,
          0.009727353888254353,
          -0.029666649246758856,
          -0.006534529415699987,
          0.024763254755234644,
          0.032950642558039915,
          0.00604056812803553,
          0.010277440327697706,
          -0.033448770791793085,
          0.012775897197756632,
          0.02318920115437421,
          -0.32048572803320113,
          -0.12503479964525577,
          0.012234052019017927,
          0.009303983108209386,
          0.019158702605844947,
          -0.0056975757550046325,
          0.005839352170063539,
          0.01263749971135668,
          0.012459244999091337,
          -0.04669960749129048,
          0.009369058394909426,
          0.009594995190459137,
          0.01369089538488613,
          0.0024836618239625972,
          0.1455606290752534,
          -0.022089480082836344,
          -0.01686892979122458,
          0.014892193991985641,
          -0.007964814670069788,
          -0.011590147781707257,
          0.008386095937607559,
          0.014357831780805224,
          0.28642957363955457,
          -0.023849264401560065,
          0.00475264684828735,
          0.013253029380116995,
          0.009018711689223953,
          0.014313130850494626,
          -0.07176441863520683,
          0.027837197020341573,
          0.013038090537626596,
          0.010026822135482462,
          -0.043725511223951255,
          0.021344083663790356,
          0.026627009846821037,
          0.009152919152043604,
          -0.15746667718879195,
          -0.008747429921290286,
          -0.025580600689866683,
          -0.027069630875418898,
          0.017753575289006455,
          -0.19611838733504736,
          0.0058519259572787745,
          0.34315920212254547,
          0.009207151209532066,
          -0.001934107408769208,
          0.01411907101922137,
          -0.005622514518220426,
          0.014012666456011761,
          -8.802625501013128e-05,
          0.023071041787297516,
          -0.1523485341642827,
          -0.0025415789952749723,
          0.020583328895184157,
          -0.016839326721741606,
          0.0061191385116101905,
          0.0074638665777895805,
          0.0005846008380968682,
          -0.007728066258483024,
          -0.00495206754469489,
          0.03014816137594948,
          0.0003432811715330238,
          0.010113309180512325,
          0.014676390808893044,
          -0.03183302025955063,
          0.014424695267281566,
          -0.007100559130865929,
          0.006381056764347972,
          -0.03349469356796266,
          -0.025116822579732568,
          0.010188007856182187,
          -0.013907056864000657,
          0.014353694936245108,
          0.016764522524844654,
          0.007488096595147244,
          0.019212603442033287,
          0.03485325480526931,
          -0.008341188820679388,
          -0.0034779927504336346,
          -0.00929793532830595,
          0.01599823140067843,
          0.0038591547456057825,
          0.015475837137101774,
          -0.0065509873689726964,
          0.012946561451916588,
          0.004593409229652126,
          0.004240254480021495,
          0.015836374996772,
          0.015015969358580858,
          -0.006621914785220154,
          0.011276540925457856,
          0.014590819382190902,
          0.00398946073644925,
          0.019259813449089145,
          0.008577607790094591,
          0.01586618528940868,
          -0.0167134013111098,
          -0.02086359893820299,
          0.006270241751241388,
          -0.13936694060912783,
          -0.06753860183088231,
          -0.10474020409654723,
          0.02167167344040762,
          0.009419040368347514,
          0.014981387385702802,
          0.09091875713414803,
          0.01698043600224794,
          0.007153116814374337,
          -0.0014661207605127574,
          -0.2295622367379832,
          0.00253817311011901,
          0.0030918284893192674,
          0.008362483775374513,
          0.008374431652128199,
          -0.19506364390275815,
          0.038091179268953446,
          -0.017025978277720354,
          0.019727326527225367,
          0.013941581843350382,
          0.01437937821007888,
          -0.04141456316864453,
          -0.03988564603208771,
          0.025713402381656078,
          0.010803642155047297,
          0.010775913119063668,
          -0.003902021957931566,
          -0.005488110536088099,
          -0.009016798548949873,
          0.013832883421492435,
          0.0057894926332712785,
          -0.012630040793867581,
          0.13124730639261817,
          -0.1446637812493959,
          -0.09754628712701874,
          0.08021998377809547,
          0.034746812220384615,
          0.001127019791742951,
          0.004731394560976558,
          0.01811732486624929,
          0.010525952165927202,
          -0.048115238385231414,
          0.007017973657569535,
          -0.06255205501805622,
          0.025287095066552853,
          0.012138763374342748,
          -0.0034429494434398762,
          -0.009648686755318282,
          -0.019872647850915883,
          -0.036412774693299184,
          0.01341053911903295,
          0.004828826550157622,
          0.01943706600747217,
          0.007757174901028134,
          0.017088682210423308,
          0.005687947296151928,
          -0.0012913852608169823,
          0.0031645746909325693,
          -0.005343293445273777,
          0.013190772596429342,
          -0.11694738875285816,
          0.018860538504005087,
          -0.07050860345729479,
          0.023804633073768403,
          -0.017214461325981985,
          0.011831786121556984,
          0.00284448305554469,
          -0.009661763626731932,
          0.016415929639738033,
          0.011229270789514606,
          0.012554216609657465,
          0.27567724375393393,
          0.004956488749753259,
          0.0011685920138120615,
          0.026778894545355734,
          -0.04443478427171984,
          -0.012935855129370784,
          0.008193915536007873,
          0.01815423473981286,
          0.02579969212261936,
          -0.026038484929517335,
          0.011072675095364276,
          -0.0013438515134990628,
          0.002076398530829214,
          -0.02782266090974143,
          -0.030129082229880453,
          0.01516632830411654,
          0.041900177279424876,
          0.012986996446251594,
          -0.01767102626522634,
          -0.10231182638792709,
          0.019406816497319963,
          -0.006348822392318922,
          -0.11820926741192155,
          -0.22265967498444933,
          -0.007523418112315623,
          -0.008019629058262904,
          0.006048295237318094,
          0.006889295369465253,
          -0.1346588865191093,
          -0.005250241546866353,
          0.00926823957240355,
          -0.1328692525609996,
          0.0527207593031959,
          0.00414619692828845,
          -0.03611853020419821,
          0.010673986900943384,
          0.025988170493276758,
          -2.629167264332823e-05,
          0.01619738865991121,
          0.012257054019474233,
          0.02062709033301781,
          0.008091481354744686,
          0.011515778870709814,
          0.002075695113806803,
          0.022068013079398954,
          0.024361557611249255,
          0.007871017241361567,
          0.15672280998671081,
          -0.024952241949219654,
          -0.0016153351686312004,
          0.027919895941028772,
          -0.06256039523873272,
          -0.024982723153645792,
          0.006240710752293246,
          0.01450446484793143,
          0.008131598349627038,
          0.16882978727571737,
          0.01477237600456762,
          0.0030053982218043304,
          0.0084920841356994,
          -0.018370075406799094,
          -0.16575496343318766,
          0.19450822161885883,
          0.015977111802522037,
          -0.17058449782777216,
          0.008569534212758368,
          0.012715335740454668,
          0.014421658859891603,
          0.009503543789324095,
          0.019996535742026058,
          -0.01195307293986399,
          0.02630611435616832,
          -0.028799442707370653,
          -0.02695753120630309,
          -0.016673747914193127,
          -0.038674475088739724,
          -0.0016208452636826938,
          -0.10650468734316168,
          0.007054409957411055,
          0.023209383991693196,
          -0.003315719598641717,
          0.022246169979989783,
          -0.09630334705852772,
          -0.01281816997871954,
          0.011753757051576146,
          0.002432479292574997,
          -0.14788371774893333,
          0.08285353747701982,
          0.21822640812006985,
          0.13023202824723418,
          -0.025598282139255545,
          0.0027057815743486142,
          0.005572683296331396,
          0.02647787899455225,
          0.01803899263496012,
          -0.01807068844706671,
          0.017532824443783356,
          0.03349877266848631,
          -0.10677674406746669,
          -0.030335699890403776,
          -0.041417716325772076,
          0.010422642254371492,
          0.023190219456004982,
          0.2586627981737531,
          0.0026210592811438966,
          -0.04304402404365425,
          -0.004375022142758755,
          0.01243997068828522,
          0.010586469444032917,
          0.012858612598638306,
          -0.0007146549401122152,
          0.015277286363976173,
          -0.035507500814208476,
          -0.022669572202946013,
          -0.09633902087401064,
          -0.013425576181631328,
          0.011111848953436431,
          0.1527704570001936,
          0.020083243163963406,
          0.0020665241651377296,
          0.11084642179535129,
          0.02609236674036956,
          0.08960993033999046,
          -0.0008777456158176737,
          -0.11524303752761675,
          0.013630072897010908,
          -0.02059869386723596,
          0.02133759912711096,
          0.1261675954519181,
          0.0045769081624688155,
          0.042783913297754814,
          0.04035058825150039,
          -0.0012177537739384054,
          0.015184771015038779,
          0.10587764694656172,
          0.0024646044911812237,
          0.005476172244112203,
          0.008205413828181234,
          0.006999210879768317,
          0.020439610886716746,
          -0.07922300547463891,
          -0.03780120860420407,
          -0.11588970631098038,
          0.015348801206148581,
          0.014568412211662758,
          0.0017875880623683662,
          0.03862290025265234,
          0.012872060470548459,
          -0.1300888555337305,
          0.019072045161915487,
          0.0009092069042042224,
          0.030353511069759687,
          0.18123138225269722,
          0.012627772827083378,
          0.2351522311956909,
          0.018960364583581312,
          0.00883574667013622,
          0.016946687974224797,
          0.0042125128553187445,
          0.011475473045651758,
          0.021664312794760967,
          0.012052818817984768,
          -0.0024146509759786637,
          0.003052656441315347,
          0.011425209463543294,
          0.005326052634694943,
          0.007740954030496061,
          0.014580030542715167,
          -0.005721093373506655,
          0.025386711634762683,
          -0.016402708717804294,
          -0.06253833234286539,
          0.0841074666584869,
          0.017912420415800292,
          -0.05330109572161464,
          -0.010457961306983237,
          -0.03937011642917192,
          -0.07780141336816267,
          0.014539802265198567,
          -0.008981752231335065,
          0.013593321336519942,
          -0.051549916353435886,
          -0.15915087443408815,
          0.021624401494319413,
          0.007868877712073025,
          0.028155871908932477,
          0.013494872542611782,
          0.01622826735195501,
          0.028357103287784995,
          0.05303478155068439,
          0.0011549431076119782,
          0.014340705351120081,
          -0.19538403916388097,
          0.003823714547798039,
          0.012503052168969787,
          0.012759235801254721,
          0.0291840753005418,
          0.06843387580184204,
          -0.0076398807083643576,
          0.03263545489918413,
          0.02011616257534671,
          0.012261299703308002,
          0.009327272961997925,
          -0.02168967920963772,
          -0.006904377741504602,
          0.01863843210587666,
          -0.007792676675719726,
          0.00561717229432429,
          -0.08898465166801602,
          0.020175603903346894,
          -0.052456935841514146,
          0.011942782844593785,
          -0.06776002801851344,
          -0.016803439987334315,
          0.006526774606817731,
          0.008080197184286625,
          0.035033827531400816,
          -0.010709736480941997,
          0.012672183642018001,
          0.004390012730861755,
          -0.004174025169684942,
          0.029488669543849117,
          0.00927448111768557,
          0.01398199946260529,
          -0.00031384447747387237,
          0.010207600931371038,
          0.02617442193112229,
          0.015655755940050784,
          0.011325896038151689,
          -1.8209289534005994e-05,
          -0.005140520741597109,
          0.007365359275934037,
          -0.0004940975746993518,
          -0.010925983560823842,
          0.004148351999057318,
          -0.08308468384136646,
          0.017455447701476827,
          -0.0050382113139436635,
          0.01592918658865449,
          -0.13469422498828484,
          0.15435211259499027,
          -0.04468662857601256,
          -0.06698350401653219,
          -0.041427304526802516,
          0.005213739016450748,
          -0.009970017232999458,
          0.006025148096116853,
          0.013991155316049457,
          0.009618473561778211,
          0.013008792966178972,
          0.013430369792431498,
          -0.014051594214974551,
          -0.012601393832962637,
          0.01183133796378378,
          -0.0015248724364931396,
          -0.0054560874478333365,
          -0.008465046549198536,
          0.0013399609487303875,
          0.020664413955374984,
          0.023714298225339582,
          -0.056478400519182584,
          0.15383464454992532,
          -0.01285805607759699,
          -0.018848144209560897,
          0.012414044351986215,
          0.012849162350353271,
          0.18016778051464108,
          0.001465060016555736,
          0.014858827429981488,
          0.010995752671616593,
          0.022830353787758734,
          0.21995294204238336,
          0.02433890121392301,
          0.01259718081732011,
          0.003979205960321906,
          0.01886607685081099,
          0.021001724441315536,
          0.004257612952592903,
          0.011280090420692454,
          0.019217312595821077,
          0.010604856793840576,
          0.006479947492265949,
          -0.039737926365201334,
          0.01156757266623409,
          -0.08932691440997134,
          0.01234454553852185,
          0.00020446131422158698,
          0.010613365414358462,
          0.011415273904488894,
          0.02827683232567136,
          0.014250113340775729,
          -0.023227665057639513,
          -0.01779317796177689,
          -0.022216272989131727,
          -0.002052732403436561,
          0.1953683854864872,
          0.015325858905620502,
          -0.01863015526708202,
          0.0018450795483023871,
          -0.01811349167537932,
          -0.010315756342269666,
          -0.017364040146072648,
          -0.04057014996192315,
          -0.05692788473067902,
          0.014071069612199652,
          -0.09365649416905347,
          0.014717765815189665,
          -0.09115955815308632,
          -0.005969245101128842,
          -0.009596650715172652,
          0.01358640472571275,
          -0.2713440048318713,
          0.006593443171057327,
          -0.05524129588386897,
          -0.016768187691320297,
          0.004311920638246504,
          0.03499924439210792,
          0.018104343499202525,
          0.1412718393521357,
          0.023874626601384317,
          -0.008900973623234335,
          -0.06979879301913253,
          0.009228044520405302,
          -0.002114212255559048,
          0.010988127714780194,
          0.010891752222657364,
          -0.026000661683992857,
          0.006725689219974529,
          0.009289687650127113,
          0.020690135977682877,
          -0.1005757483855172,
          0.1860837337386538
         ],
         "yaxis": "y"
        }
       ],
       "layout": {
        "legend": {
         "title": {
          "text": "party_label"
         },
         "tracegroupgap": 0
        },
        "margin": {
         "t": 60
        },
        "template": {
         "data": {
          "bar": [
           {
            "error_x": {
             "color": "#2a3f5f"
            },
            "error_y": {
             "color": "#2a3f5f"
            },
            "marker": {
             "line": {
              "color": "#E5ECF6",
              "width": 0.5
             }
            },
            "type": "bar"
           }
          ],
          "barpolar": [
           {
            "marker": {
             "line": {
              "color": "#E5ECF6",
              "width": 0.5
             }
            },
            "type": "barpolar"
           }
          ],
          "carpet": [
           {
            "aaxis": {
             "endlinecolor": "#2a3f5f",
             "gridcolor": "white",
             "linecolor": "white",
             "minorgridcolor": "white",
             "startlinecolor": "#2a3f5f"
            },
            "baxis": {
             "endlinecolor": "#2a3f5f",
             "gridcolor": "white",
             "linecolor": "white",
             "minorgridcolor": "white",
             "startlinecolor": "#2a3f5f"
            },
            "type": "carpet"
           }
          ],
          "choropleth": [
           {
            "colorbar": {
             "outlinewidth": 0,
             "ticks": ""
            },
            "type": "choropleth"
           }
          ],
          "contour": [
           {
            "colorbar": {
             "outlinewidth": 0,
             "ticks": ""
            },
            "colorscale": [
             [
              0,
              "#0d0887"
             ],
             [
              0.1111111111111111,
              "#46039f"
             ],
             [
              0.2222222222222222,
              "#7201a8"
             ],
             [
              0.3333333333333333,
              "#9c179e"
             ],
             [
              0.4444444444444444,
              "#bd3786"
             ],
             [
              0.5555555555555556,
              "#d8576b"
             ],
             [
              0.6666666666666666,
              "#ed7953"
             ],
             [
              0.7777777777777778,
              "#fb9f3a"
             ],
             [
              0.8888888888888888,
              "#fdca26"
             ],
             [
              1,
              "#f0f921"
             ]
            ],
            "type": "contour"
           }
          ],
          "contourcarpet": [
           {
            "colorbar": {
             "outlinewidth": 0,
             "ticks": ""
            },
            "type": "contourcarpet"
           }
          ],
          "heatmap": [
           {
            "colorbar": {
             "outlinewidth": 0,
             "ticks": ""
            },
            "colorscale": [
             [
              0,
              "#0d0887"
             ],
             [
              0.1111111111111111,
              "#46039f"
             ],
             [
              0.2222222222222222,
              "#7201a8"
             ],
             [
              0.3333333333333333,
              "#9c179e"
             ],
             [
              0.4444444444444444,
              "#bd3786"
             ],
             [
              0.5555555555555556,
              "#d8576b"
             ],
             [
              0.6666666666666666,
              "#ed7953"
             ],
             [
              0.7777777777777778,
              "#fb9f3a"
             ],
             [
              0.8888888888888888,
              "#fdca26"
             ],
             [
              1,
              "#f0f921"
             ]
            ],
            "type": "heatmap"
           }
          ],
          "heatmapgl": [
           {
            "colorbar": {
             "outlinewidth": 0,
             "ticks": ""
            },
            "colorscale": [
             [
              0,
              "#0d0887"
             ],
             [
              0.1111111111111111,
              "#46039f"
             ],
             [
              0.2222222222222222,
              "#7201a8"
             ],
             [
              0.3333333333333333,
              "#9c179e"
             ],
             [
              0.4444444444444444,
              "#bd3786"
             ],
             [
              0.5555555555555556,
              "#d8576b"
             ],
             [
              0.6666666666666666,
              "#ed7953"
             ],
             [
              0.7777777777777778,
              "#fb9f3a"
             ],
             [
              0.8888888888888888,
              "#fdca26"
             ],
             [
              1,
              "#f0f921"
             ]
            ],
            "type": "heatmapgl"
           }
          ],
          "histogram": [
           {
            "marker": {
             "colorbar": {
              "outlinewidth": 0,
              "ticks": ""
             }
            },
            "type": "histogram"
           }
          ],
          "histogram2d": [
           {
            "colorbar": {
             "outlinewidth": 0,
             "ticks": ""
            },
            "colorscale": [
             [
              0,
              "#0d0887"
             ],
             [
              0.1111111111111111,
              "#46039f"
             ],
             [
              0.2222222222222222,
              "#7201a8"
             ],
             [
              0.3333333333333333,
              "#9c179e"
             ],
             [
              0.4444444444444444,
              "#bd3786"
             ],
             [
              0.5555555555555556,
              "#d8576b"
             ],
             [
              0.6666666666666666,
              "#ed7953"
             ],
             [
              0.7777777777777778,
              "#fb9f3a"
             ],
             [
              0.8888888888888888,
              "#fdca26"
             ],
             [
              1,
              "#f0f921"
             ]
            ],
            "type": "histogram2d"
           }
          ],
          "histogram2dcontour": [
           {
            "colorbar": {
             "outlinewidth": 0,
             "ticks": ""
            },
            "colorscale": [
             [
              0,
              "#0d0887"
             ],
             [
              0.1111111111111111,
              "#46039f"
             ],
             [
              0.2222222222222222,
              "#7201a8"
             ],
             [
              0.3333333333333333,
              "#9c179e"
             ],
             [
              0.4444444444444444,
              "#bd3786"
             ],
             [
              0.5555555555555556,
              "#d8576b"
             ],
             [
              0.6666666666666666,
              "#ed7953"
             ],
             [
              0.7777777777777778,
              "#fb9f3a"
             ],
             [
              0.8888888888888888,
              "#fdca26"
             ],
             [
              1,
              "#f0f921"
             ]
            ],
            "type": "histogram2dcontour"
           }
          ],
          "mesh3d": [
           {
            "colorbar": {
             "outlinewidth": 0,
             "ticks": ""
            },
            "type": "mesh3d"
           }
          ],
          "parcoords": [
           {
            "line": {
             "colorbar": {
              "outlinewidth": 0,
              "ticks": ""
             }
            },
            "type": "parcoords"
           }
          ],
          "pie": [
           {
            "automargin": true,
            "type": "pie"
           }
          ],
          "scatter": [
           {
            "marker": {
             "colorbar": {
              "outlinewidth": 0,
              "ticks": ""
             }
            },
            "type": "scatter"
           }
          ],
          "scatter3d": [
           {
            "line": {
             "colorbar": {
              "outlinewidth": 0,
              "ticks": ""
             }
            },
            "marker": {
             "colorbar": {
              "outlinewidth": 0,
              "ticks": ""
             }
            },
            "type": "scatter3d"
           }
          ],
          "scattercarpet": [
           {
            "marker": {
             "colorbar": {
              "outlinewidth": 0,
              "ticks": ""
             }
            },
            "type": "scattercarpet"
           }
          ],
          "scattergeo": [
           {
            "marker": {
             "colorbar": {
              "outlinewidth": 0,
              "ticks": ""
             }
            },
            "type": "scattergeo"
           }
          ],
          "scattergl": [
           {
            "marker": {
             "colorbar": {
              "outlinewidth": 0,
              "ticks": ""
             }
            },
            "type": "scattergl"
           }
          ],
          "scattermapbox": [
           {
            "marker": {
             "colorbar": {
              "outlinewidth": 0,
              "ticks": ""
             }
            },
            "type": "scattermapbox"
           }
          ],
          "scatterpolar": [
           {
            "marker": {
             "colorbar": {
              "outlinewidth": 0,
              "ticks": ""
             }
            },
            "type": "scatterpolar"
           }
          ],
          "scatterpolargl": [
           {
            "marker": {
             "colorbar": {
              "outlinewidth": 0,
              "ticks": ""
             }
            },
            "type": "scatterpolargl"
           }
          ],
          "scatterternary": [
           {
            "marker": {
             "colorbar": {
              "outlinewidth": 0,
              "ticks": ""
             }
            },
            "type": "scatterternary"
           }
          ],
          "surface": [
           {
            "colorbar": {
             "outlinewidth": 0,
             "ticks": ""
            },
            "colorscale": [
             [
              0,
              "#0d0887"
             ],
             [
              0.1111111111111111,
              "#46039f"
             ],
             [
              0.2222222222222222,
              "#7201a8"
             ],
             [
              0.3333333333333333,
              "#9c179e"
             ],
             [
              0.4444444444444444,
              "#bd3786"
             ],
             [
              0.5555555555555556,
              "#d8576b"
             ],
             [
              0.6666666666666666,
              "#ed7953"
             ],
             [
              0.7777777777777778,
              "#fb9f3a"
             ],
             [
              0.8888888888888888,
              "#fdca26"
             ],
             [
              1,
              "#f0f921"
             ]
            ],
            "type": "surface"
           }
          ],
          "table": [
           {
            "cells": {
             "fill": {
              "color": "#EBF0F8"
             },
             "line": {
              "color": "white"
             }
            },
            "header": {
             "fill": {
              "color": "#C8D4E3"
             },
             "line": {
              "color": "white"
             }
            },
            "type": "table"
           }
          ]
         },
         "layout": {
          "annotationdefaults": {
           "arrowcolor": "#2a3f5f",
           "arrowhead": 0,
           "arrowwidth": 1
          },
          "autotypenumbers": "strict",
          "coloraxis": {
           "colorbar": {
            "outlinewidth": 0,
            "ticks": ""
           }
          },
          "colorscale": {
           "diverging": [
            [
             0,
             "#8e0152"
            ],
            [
             0.1,
             "#c51b7d"
            ],
            [
             0.2,
             "#de77ae"
            ],
            [
             0.3,
             "#f1b6da"
            ],
            [
             0.4,
             "#fde0ef"
            ],
            [
             0.5,
             "#f7f7f7"
            ],
            [
             0.6,
             "#e6f5d0"
            ],
            [
             0.7,
             "#b8e186"
            ],
            [
             0.8,
             "#7fbc41"
            ],
            [
             0.9,
             "#4d9221"
            ],
            [
             1,
             "#276419"
            ]
           ],
           "sequential": [
            [
             0,
             "#0d0887"
            ],
            [
             0.1111111111111111,
             "#46039f"
            ],
            [
             0.2222222222222222,
             "#7201a8"
            ],
            [
             0.3333333333333333,
             "#9c179e"
            ],
            [
             0.4444444444444444,
             "#bd3786"
            ],
            [
             0.5555555555555556,
             "#d8576b"
            ],
            [
             0.6666666666666666,
             "#ed7953"
            ],
            [
             0.7777777777777778,
             "#fb9f3a"
            ],
            [
             0.8888888888888888,
             "#fdca26"
            ],
            [
             1,
             "#f0f921"
            ]
           ],
           "sequentialminus": [
            [
             0,
             "#0d0887"
            ],
            [
             0.1111111111111111,
             "#46039f"
            ],
            [
             0.2222222222222222,
             "#7201a8"
            ],
            [
             0.3333333333333333,
             "#9c179e"
            ],
            [
             0.4444444444444444,
             "#bd3786"
            ],
            [
             0.5555555555555556,
             "#d8576b"
            ],
            [
             0.6666666666666666,
             "#ed7953"
            ],
            [
             0.7777777777777778,
             "#fb9f3a"
            ],
            [
             0.8888888888888888,
             "#fdca26"
            ],
            [
             1,
             "#f0f921"
            ]
           ]
          },
          "colorway": [
           "#636efa",
           "#EF553B",
           "#00cc96",
           "#ab63fa",
           "#FFA15A",
           "#19d3f3",
           "#FF6692",
           "#B6E880",
           "#FF97FF",
           "#FECB52"
          ],
          "font": {
           "color": "#2a3f5f"
          },
          "geo": {
           "bgcolor": "white",
           "lakecolor": "white",
           "landcolor": "#E5ECF6",
           "showlakes": true,
           "showland": true,
           "subunitcolor": "white"
          },
          "hoverlabel": {
           "align": "left"
          },
          "hovermode": "closest",
          "mapbox": {
           "style": "light"
          },
          "paper_bgcolor": "white",
          "plot_bgcolor": "#E5ECF6",
          "polar": {
           "angularaxis": {
            "gridcolor": "white",
            "linecolor": "white",
            "ticks": ""
           },
           "bgcolor": "#E5ECF6",
           "radialaxis": {
            "gridcolor": "white",
            "linecolor": "white",
            "ticks": ""
           }
          },
          "scene": {
           "xaxis": {
            "backgroundcolor": "#E5ECF6",
            "gridcolor": "white",
            "gridwidth": 2,
            "linecolor": "white",
            "showbackground": true,
            "ticks": "",
            "zerolinecolor": "white"
           },
           "yaxis": {
            "backgroundcolor": "#E5ECF6",
            "gridcolor": "white",
            "gridwidth": 2,
            "linecolor": "white",
            "showbackground": true,
            "ticks": "",
            "zerolinecolor": "white"
           },
           "zaxis": {
            "backgroundcolor": "#E5ECF6",
            "gridcolor": "white",
            "gridwidth": 2,
            "linecolor": "white",
            "showbackground": true,
            "ticks": "",
            "zerolinecolor": "white"
           }
          },
          "shapedefaults": {
           "line": {
            "color": "#2a3f5f"
           }
          },
          "ternary": {
           "aaxis": {
            "gridcolor": "white",
            "linecolor": "white",
            "ticks": ""
           },
           "baxis": {
            "gridcolor": "white",
            "linecolor": "white",
            "ticks": ""
           },
           "bgcolor": "#E5ECF6",
           "caxis": {
            "gridcolor": "white",
            "linecolor": "white",
            "ticks": ""
           }
          },
          "title": {
           "x": 0.05
          },
          "xaxis": {
           "automargin": true,
           "gridcolor": "white",
           "linecolor": "white",
           "ticks": "",
           "title": {
            "standoff": 15
           },
           "zerolinecolor": "white",
           "zerolinewidth": 2
          },
          "yaxis": {
           "automargin": true,
           "gridcolor": "white",
           "linecolor": "white",
           "ticks": "",
           "title": {
            "standoff": 15
           },
           "zerolinecolor": "white",
           "zerolinewidth": 2
          }
         }
        },
        "xaxis": {
         "anchor": "y",
         "domain": [
          0,
          1
         ],
         "title": {
          "text": "x"
         }
        },
        "yaxis": {
         "anchor": "x",
         "domain": [
          0,
          1
         ],
         "title": {
          "text": "y"
         }
        }
       }
      }
     },
     "metadata": {},
     "output_type": "display_data"
    }
   ],
   "source": [
    "#balance data so that pca doesn't try to explain variance more with one class than the other (however we still can't seperate it)\n",
    "balance_data = pd.concat([cleaned_df[cleaned_df['party_label']=='D'].sample(1000),cleaned_df[cleaned_df['party_label']=='R'].sample(1000)])\n",
    "pca(balance_data,keyword = None, use_keyword = False,removeVerbs = False)"
   ]
  },
  {
   "cell_type": "markdown",
   "metadata": {},
   "source": [
    "We will now train a small classification model and see if our main goal is feasible."
   ]
  },
  {
   "cell_type": "code",
   "execution_count": 21,
   "metadata": {},
   "outputs": [],
   "source": [
    "def random_forest_classification(dataframe,keyword = None, use_keyword = False,removeVerbs = False,n_estimators = 10 ,evaluation_metric = 'accuracy'):\n",
    "    df = dataframe.copy()\n",
    "    #clean quote\n",
    "\n",
    "    if use_keyword:\n",
    "        #extract only quotes that include keyword\n",
    "        df = df[df['quotation'].str.contains(keyword)]\n",
    "        #remove keyword from quotes\n",
    "        df['quotation'] = df['quotation'].apply(lambda x: x.replace(keyword, ''))\n",
    "\n",
    "    if removeVerbs:\n",
    "        #remove verbs from quotes\n",
    "        df['quotation'] = remove_verbs(df['quotation'])\n",
    "\n",
    "    #vectorization of the sentences\n",
    "    df['tfidf'] = hero.tfidf(df['quotation'])\n",
    "\n",
    "    clf = RandomForestClassifier(n_estimators=n_estimators)\n",
    "\n",
    "    scores = cross_val_score(clf, list(df['tfidf']), list(map(lambda x: 1 if x == 'D' else 0, df['party_label'])), cv=3)\n",
    "    df = df.drop(columns = ['tfidf'])\n",
    "    print('avergage crossValScore using '+ evaluation_metric +' as metric:' + str(scores.mean()))"
   ]
  },
  {
   "cell_type": "code",
   "execution_count": 24,
   "metadata": {},
   "outputs": [
    {
     "name": "stdout",
     "output_type": "stream",
     "text": [
      "avergage crossValScore using accuracy as metric:0.5614940277608943\n"
     ]
    }
   ],
   "source": [
    "random_forest_classification(balance_data,keyword = None, use_keyword = False,removeVerbs = False,n_estimators = 10 ,evaluation_metric = 'accuracy')"
   ]
  },
  {
   "cell_type": "code",
   "execution_count": 37,
   "metadata": {},
   "outputs": [],
   "source": [
    "def knn(dataframe,keyword = None, use_keyword = False,removeVerbs = False,n_neighbors = 10, metric = 'euclidean'):\n",
    "    df = dataframe.copy()\n",
    "    #clean quote\n",
    "\n",
    "    if use_keyword:\n",
    "        #extract only quotes that include keyword\n",
    "        df = df[df['quotation'].str.contains(keyword)]\n",
    "        #remove keyword from quotes\n",
    "        df['quotation'] = df['quotation'].apply(lambda x: x.replace(keyword, ''))\n",
    "\n",
    "    if removeVerbs:\n",
    "        #remove verbs from quotes\n",
    "        df['quotation'] = remove_verbs(df['quotation'])\n",
    "\n",
    "    #vectorization of the sentences\n",
    "    df['tfidf'] = hero.tfidf(df['quotation'])\n",
    "\n",
    "    clf = KNeighborsClassifier(n_neighbors=n_neighbors,metric = metric)\n",
    "\n",
    "    scores = cross_val_score(clf, list(df['tfidf']), list(map(lambda x: 1 if x == 'D' else 0, df['party_label'])), cv=3)\n",
    "    df = df.drop(columns = ['tfidf'])\n",
    "    print('avergage crossValScore using: '+ str(scores.mean()))"
   ]
  },
  {
   "cell_type": "code",
   "execution_count": 40,
   "metadata": {},
   "outputs": [],
   "source": [
    "def plot_number_of_quotes_per_party(df):\n",
    "    quotes_per_party = df[['party_label','quotation']].groupby('party_label').size().reset_index().rename(columns = {0: 'nb_quotes'})\n",
    "    display(quotes_per_party)\n",
    "    plt.bar(quotes_per_party.party_label,quotes_per_party.nb_quotes,color = ['blue','red'])\n",
    "    plt.title('number of quotations per party')"
   ]
  },
  {
   "cell_type": "code",
   "execution_count": 87,
   "metadata": {},
   "outputs": [],
   "source": [
    "## arguments:\n",
    "    ## dataframe: dataframe containing quotes, the data frame must have at least 2 columns: 'party_label' and ' quotation'\n",
    "    ## keyword: only used if use_keyword = True, allows us to do analysis with only quotes that include the keyword\n",
    "    ## use_keyword: specifies if we must use the keyword to to do analysis with only quotes that include the keyword\n",
    "    ##removeVerbs: if set to true, we remove all verbs from the quotes\n",
    "    ## top: the number of trending words that will be shown on plot \n",
    "def trending_words(dataframe, keyword = None, use_keyword = False, removeVerbs = False,show_biggest_deltas = False ,top = 20):\n",
    "    \"\"\" function that plots on a bar plot the top trending words for every political party and compares it to the other partie's statistics \"\"\"\n",
    "\n",
    "    def compute_relative_proportion(pos_party, party_label, proportion):\n",
    "        if pos_party != party_label:\n",
    "            return -proportion\n",
    "        else:\n",
    "            return proportion\n",
    "\n",
    "    df = dataframe.copy()\n",
    "\n",
    "    if use_keyword:\n",
    "        #keep only quotes that contain the keyword\n",
    "        df = df[df['quotation'].str.contains(keyword)]\n",
    "\n",
    "    ##clean the data, (removing stop words etc..)\n",
    "    df['quotation'] = clean(df['quotation'])\n",
    "\n",
    "    if removeVerbs:\n",
    "        #remove verbs from quotes\n",
    "        df['quotation'] = remove_verbs(df['quotation'])\n",
    "\n",
    "    ##count the top words per partylabel\n",
    "    word_count = df.groupby('party_label')['quotation'].apply(hero.visualization.top_words)\n",
    "    \n",
    "    \n",
    "\n",
    "    #rename columns\n",
    "    word_count = word_count.reset_index().rename(columns = {'level_1': 'word', 'quotation': 'proportion'})\n",
    "    \n",
    "    word_count['proportion'] = word_count.groupby('party_label')['proportion'].apply(lambda x: x / float(x.sum()))\n",
    "\n",
    "    display\n",
    "    #plot top trending words per party\n",
    "    for party in word_count['party_label'].unique():\n",
    "\n",
    "        if use_keyword:\n",
    "            #drop keyword in the word frequencies\n",
    "            party_top_words = word_count[word_count['word'] != keyword]\n",
    "\n",
    "        else:\n",
    "            party_top_words = word_count\n",
    "        \n",
    "        if show_biggest_deltas:\n",
    "            #if party_label != party make the relative_proportion = -proportion otherwise make relative_proportion = proportion\n",
    "            word_count['proportion'] = word_count.apply(lambda x: compute_relative_proportion(party, x['party_label'], x['proportion']),axis = 1)\n",
    "\n",
    "            word_count['diff'] = word_count.groupby('word')['proportion'].apply(sum)\n",
    "            #sort word frequency in decreasing order\n",
    "            party_top_words = word_count[word_count['party_label'] == party].sort_values(by = 'diff', ascending = False)\n",
    "\n",
    "            word_count['proportion'] = word_count['proportion'].apply(lambda x: -x if x < 0 else x)\n",
    "            word_count = word_count.drop(columns = ['diff'])\n",
    "            \n",
    "\n",
    "        else:\n",
    "            #sort word frequency in decreasing order\n",
    "            party_top_words = word_count[word_count['party_label'] == party].sort_values(by = 'proportion', ascending = False)\n",
    "            \n",
    "\n",
    "        ##get only the 'top' most frequent words\n",
    "        party_top_words = party_top_words['word'].head(top)\n",
    "        ##extract counts of the top trending words\n",
    "        df_with_party_top_words = word_count[word_count['word'].isin(party_top_words)]\n",
    "        display(df_with_party_top_words)\n",
    "        #plot\n",
    "        sns.barplot(data = df_with_party_top_words, y='word', x='proportion', hue='party_label').set_title('top trending words for ' + party + ' party')\n",
    "        plt.show()\n",
    "\n",
    "\n"
   ]
  },
  {
   "cell_type": "code",
   "execution_count": 88,
   "metadata": {},
   "outputs": [
    {
     "data": {
      "text/html": [
       "<div>\n",
       "<style scoped>\n",
       "    .dataframe tbody tr th:only-of-type {\n",
       "        vertical-align: middle;\n",
       "    }\n",
       "\n",
       "    .dataframe tbody tr th {\n",
       "        vertical-align: top;\n",
       "    }\n",
       "\n",
       "    .dataframe thead th {\n",
       "        text-align: right;\n",
       "    }\n",
       "</style>\n",
       "<table border=\"1\" class=\"dataframe\">\n",
       "  <thead>\n",
       "    <tr style=\"text-align: right;\">\n",
       "      <th></th>\n",
       "      <th>party_label</th>\n",
       "      <th>word</th>\n",
       "      <th>proportion</th>\n",
       "    </tr>\n",
       "  </thead>\n",
       "  <tbody>\n",
       "    <tr>\n",
       "      <th>0</th>\n",
       "      <td>D</td>\n",
       "      <td>people</td>\n",
       "      <td>0.010880</td>\n",
       "    </tr>\n",
       "    <tr>\n",
       "      <th>1</th>\n",
       "      <td>D</td>\n",
       "      <td>going</td>\n",
       "      <td>0.007442</td>\n",
       "    </tr>\n",
       "    <tr>\n",
       "      <th>2</th>\n",
       "      <td>D</td>\n",
       "      <td>think</td>\n",
       "      <td>0.005809</td>\n",
       "    </tr>\n",
       "    <tr>\n",
       "      <th>3</th>\n",
       "      <td>D</td>\n",
       "      <td>get</td>\n",
       "      <td>0.005473</td>\n",
       "    </tr>\n",
       "    <tr>\n",
       "      <th>4</th>\n",
       "      <td>D</td>\n",
       "      <td>need</td>\n",
       "      <td>0.005191</td>\n",
       "    </tr>\n",
       "    <tr>\n",
       "      <th>5</th>\n",
       "      <td>D</td>\n",
       "      <td>one</td>\n",
       "      <td>0.005091</td>\n",
       "    </tr>\n",
       "    <tr>\n",
       "      <th>6</th>\n",
       "      <td>D</td>\n",
       "      <td>know</td>\n",
       "      <td>0.004909</td>\n",
       "    </tr>\n",
       "    <tr>\n",
       "      <th>7</th>\n",
       "      <td>D</td>\n",
       "      <td>like</td>\n",
       "      <td>0.004854</td>\n",
       "    </tr>\n",
       "    <tr>\n",
       "      <th>8</th>\n",
       "      <td>D</td>\n",
       "      <td>president</td>\n",
       "      <td>0.004767</td>\n",
       "    </tr>\n",
       "    <tr>\n",
       "      <th>9</th>\n",
       "      <td>D</td>\n",
       "      <td>time</td>\n",
       "      <td>0.004757</td>\n",
       "    </tr>\n",
       "    <tr>\n",
       "      <th>10</th>\n",
       "      <td>D</td>\n",
       "      <td>would</td>\n",
       "      <td>0.004691</td>\n",
       "    </tr>\n",
       "    <tr>\n",
       "      <th>11</th>\n",
       "      <td>D</td>\n",
       "      <td>us</td>\n",
       "      <td>0.004584</td>\n",
       "    </tr>\n",
       "    <tr>\n",
       "      <th>12</th>\n",
       "      <td>D</td>\n",
       "      <td>make</td>\n",
       "      <td>0.004157</td>\n",
       "    </tr>\n",
       "    <tr>\n",
       "      <th>13</th>\n",
       "      <td>D</td>\n",
       "      <td>want</td>\n",
       "      <td>0.004123</td>\n",
       "    </tr>\n",
       "    <tr>\n",
       "      <th>14</th>\n",
       "      <td>D</td>\n",
       "      <td>state</td>\n",
       "      <td>0.004049</td>\n",
       "    </tr>\n",
       "    <tr>\n",
       "      <th>15</th>\n",
       "      <td>D</td>\n",
       "      <td>new</td>\n",
       "      <td>0.003971</td>\n",
       "    </tr>\n",
       "    <tr>\n",
       "      <th>16</th>\n",
       "      <td>D</td>\n",
       "      <td>health</td>\n",
       "      <td>0.003734</td>\n",
       "    </tr>\n",
       "    <tr>\n",
       "      <th>17</th>\n",
       "      <td>D</td>\n",
       "      <td>right</td>\n",
       "      <td>0.003605</td>\n",
       "    </tr>\n",
       "    <tr>\n",
       "      <th>18</th>\n",
       "      <td>D</td>\n",
       "      <td>trump</td>\n",
       "      <td>0.003397</td>\n",
       "    </tr>\n",
       "    <tr>\n",
       "      <th>19</th>\n",
       "      <td>D</td>\n",
       "      <td>way</td>\n",
       "      <td>0.003055</td>\n",
       "    </tr>\n",
       "    <tr>\n",
       "      <th>47152</th>\n",
       "      <td>R</td>\n",
       "      <td>people</td>\n",
       "      <td>0.008867</td>\n",
       "    </tr>\n",
       "    <tr>\n",
       "      <th>47153</th>\n",
       "      <td>R</td>\n",
       "      <td>going</td>\n",
       "      <td>0.007234</td>\n",
       "    </tr>\n",
       "    <tr>\n",
       "      <th>47154</th>\n",
       "      <td>R</td>\n",
       "      <td>think</td>\n",
       "      <td>0.006292</td>\n",
       "    </tr>\n",
       "    <tr>\n",
       "      <th>47155</th>\n",
       "      <td>R</td>\n",
       "      <td>president</td>\n",
       "      <td>0.005816</td>\n",
       "    </tr>\n",
       "    <tr>\n",
       "      <th>47156</th>\n",
       "      <td>R</td>\n",
       "      <td>would</td>\n",
       "      <td>0.005337</td>\n",
       "    </tr>\n",
       "    <tr>\n",
       "      <th>47157</th>\n",
       "      <td>R</td>\n",
       "      <td>get</td>\n",
       "      <td>0.005290</td>\n",
       "    </tr>\n",
       "    <tr>\n",
       "      <th>47158</th>\n",
       "      <td>R</td>\n",
       "      <td>one</td>\n",
       "      <td>0.004554</td>\n",
       "    </tr>\n",
       "    <tr>\n",
       "      <th>47159</th>\n",
       "      <td>R</td>\n",
       "      <td>time</td>\n",
       "      <td>0.004470</td>\n",
       "    </tr>\n",
       "    <tr>\n",
       "      <th>47160</th>\n",
       "      <td>R</td>\n",
       "      <td>like</td>\n",
       "      <td>0.004372</td>\n",
       "    </tr>\n",
       "    <tr>\n",
       "      <th>47161</th>\n",
       "      <td>R</td>\n",
       "      <td>state</td>\n",
       "      <td>0.004333</td>\n",
       "    </tr>\n",
       "    <tr>\n",
       "      <th>47162</th>\n",
       "      <td>R</td>\n",
       "      <td>know</td>\n",
       "      <td>0.004324</td>\n",
       "    </tr>\n",
       "    <tr>\n",
       "      <th>47163</th>\n",
       "      <td>R</td>\n",
       "      <td>need</td>\n",
       "      <td>0.004233</td>\n",
       "    </tr>\n",
       "    <tr>\n",
       "      <th>47164</th>\n",
       "      <td>R</td>\n",
       "      <td>want</td>\n",
       "      <td>0.004119</td>\n",
       "    </tr>\n",
       "    <tr>\n",
       "      <th>47165</th>\n",
       "      <td>R</td>\n",
       "      <td>us</td>\n",
       "      <td>0.003950</td>\n",
       "    </tr>\n",
       "    <tr>\n",
       "      <th>47166</th>\n",
       "      <td>R</td>\n",
       "      <td>make</td>\n",
       "      <td>0.003780</td>\n",
       "    </tr>\n",
       "    <tr>\n",
       "      <th>47167</th>\n",
       "      <td>R</td>\n",
       "      <td>trump</td>\n",
       "      <td>0.003159</td>\n",
       "    </tr>\n",
       "    <tr>\n",
       "      <th>47168</th>\n",
       "      <td>R</td>\n",
       "      <td>right</td>\n",
       "      <td>0.003144</td>\n",
       "    </tr>\n",
       "    <tr>\n",
       "      <th>47169</th>\n",
       "      <td>R</td>\n",
       "      <td>health</td>\n",
       "      <td>0.002963</td>\n",
       "    </tr>\n",
       "    <tr>\n",
       "      <th>47172</th>\n",
       "      <td>R</td>\n",
       "      <td>way</td>\n",
       "      <td>0.002726</td>\n",
       "    </tr>\n",
       "    <tr>\n",
       "      <th>47176</th>\n",
       "      <td>R</td>\n",
       "      <td>new</td>\n",
       "      <td>0.002600</td>\n",
       "    </tr>\n",
       "  </tbody>\n",
       "</table>\n",
       "</div>"
      ],
      "text/plain": [
       "      party_label       word  proportion\n",
       "0               D     people    0.010880\n",
       "1               D      going    0.007442\n",
       "2               D      think    0.005809\n",
       "3               D        get    0.005473\n",
       "4               D       need    0.005191\n",
       "5               D        one    0.005091\n",
       "6               D       know    0.004909\n",
       "7               D       like    0.004854\n",
       "8               D  president    0.004767\n",
       "9               D       time    0.004757\n",
       "10              D      would    0.004691\n",
       "11              D         us    0.004584\n",
       "12              D       make    0.004157\n",
       "13              D       want    0.004123\n",
       "14              D      state    0.004049\n",
       "15              D        new    0.003971\n",
       "16              D     health    0.003734\n",
       "17              D      right    0.003605\n",
       "18              D      trump    0.003397\n",
       "19              D        way    0.003055\n",
       "47152           R     people    0.008867\n",
       "47153           R      going    0.007234\n",
       "47154           R      think    0.006292\n",
       "47155           R  president    0.005816\n",
       "47156           R      would    0.005337\n",
       "47157           R        get    0.005290\n",
       "47158           R        one    0.004554\n",
       "47159           R       time    0.004470\n",
       "47160           R       like    0.004372\n",
       "47161           R      state    0.004333\n",
       "47162           R       know    0.004324\n",
       "47163           R       need    0.004233\n",
       "47164           R       want    0.004119\n",
       "47165           R         us    0.003950\n",
       "47166           R       make    0.003780\n",
       "47167           R      trump    0.003159\n",
       "47168           R      right    0.003144\n",
       "47169           R     health    0.002963\n",
       "47172           R        way    0.002726\n",
       "47176           R        new    0.002600"
      ]
     },
     "metadata": {},
     "output_type": "display_data"
    },
    {
     "ename": "AttributeError",
     "evalue": "module 'pandas' has no attribute 'api'",
     "output_type": "error",
     "traceback": [
      "\u001b[0;31m---------------------------------------------------------------------------\u001b[0m",
      "\u001b[0;31mAttributeError\u001b[0m                            Traceback (most recent call last)",
      "\u001b[0;32m<ipython-input-88-3338250828c5>\u001b[0m in \u001b[0;36m<module>\u001b[0;34m\u001b[0m\n\u001b[0;32m----> 1\u001b[0;31m \u001b[0mtrending_words\u001b[0m\u001b[0;34m(\u001b[0m\u001b[0mdf\u001b[0m\u001b[0;34m,\u001b[0m\u001b[0mremoveVerbs\u001b[0m \u001b[0;34m=\u001b[0m \u001b[0;32mFalse\u001b[0m\u001b[0;34m,\u001b[0m\u001b[0mshow_biggest_deltas\u001b[0m \u001b[0;34m=\u001b[0m \u001b[0;32mTrue\u001b[0m\u001b[0;34m,\u001b[0m\u001b[0mtop\u001b[0m \u001b[0;34m=\u001b[0m \u001b[0;36m20\u001b[0m\u001b[0;34m)\u001b[0m\u001b[0;34m\u001b[0m\u001b[0;34m\u001b[0m\u001b[0m\n\u001b[0m",
      "\u001b[0;32m<ipython-input-87-a62f6cf5f643>\u001b[0m in \u001b[0;36mtrending_words\u001b[0;34m(dataframe, keyword, use_keyword, removeVerbs, show_biggest_deltas, top)\u001b[0m\n\u001b[1;32m     71\u001b[0m         \u001b[0mdisplay\u001b[0m\u001b[0;34m(\u001b[0m\u001b[0mdf_with_party_top_words\u001b[0m\u001b[0;34m)\u001b[0m\u001b[0;34m\u001b[0m\u001b[0;34m\u001b[0m\u001b[0m\n\u001b[1;32m     72\u001b[0m         \u001b[0;31m#plot\u001b[0m\u001b[0;34m\u001b[0m\u001b[0;34m\u001b[0m\u001b[0;34m\u001b[0m\u001b[0m\n\u001b[0;32m---> 73\u001b[0;31m         \u001b[0msns\u001b[0m\u001b[0;34m.\u001b[0m\u001b[0mbarplot\u001b[0m\u001b[0;34m(\u001b[0m\u001b[0mdata\u001b[0m \u001b[0;34m=\u001b[0m \u001b[0mdf_with_party_top_words\u001b[0m\u001b[0;34m,\u001b[0m \u001b[0my\u001b[0m\u001b[0;34m=\u001b[0m\u001b[0;34m'word'\u001b[0m\u001b[0;34m,\u001b[0m \u001b[0mx\u001b[0m\u001b[0;34m=\u001b[0m\u001b[0;34m'proportion'\u001b[0m\u001b[0;34m,\u001b[0m \u001b[0mhue\u001b[0m\u001b[0;34m=\u001b[0m\u001b[0;34m'party_label'\u001b[0m\u001b[0;34m)\u001b[0m\u001b[0;34m.\u001b[0m\u001b[0mset_title\u001b[0m\u001b[0;34m(\u001b[0m\u001b[0;34m'top trending words for '\u001b[0m \u001b[0;34m+\u001b[0m \u001b[0mparty\u001b[0m \u001b[0;34m+\u001b[0m \u001b[0;34m' party'\u001b[0m\u001b[0;34m)\u001b[0m\u001b[0;34m\u001b[0m\u001b[0;34m\u001b[0m\u001b[0m\n\u001b[0m\u001b[1;32m     74\u001b[0m         \u001b[0mplt\u001b[0m\u001b[0;34m.\u001b[0m\u001b[0mshow\u001b[0m\u001b[0;34m(\u001b[0m\u001b[0;34m)\u001b[0m\u001b[0;34m\u001b[0m\u001b[0;34m\u001b[0m\u001b[0m\n\u001b[1;32m     75\u001b[0m \u001b[0;34m\u001b[0m\u001b[0m\n",
      "\u001b[0;32m~/opt/miniconda3/lib/python3.8/site-packages/seaborn/_decorators.py\u001b[0m in \u001b[0;36minner_f\u001b[0;34m(*args, **kwargs)\u001b[0m\n\u001b[1;32m     44\u001b[0m             )\n\u001b[1;32m     45\u001b[0m         \u001b[0mkwargs\u001b[0m\u001b[0;34m.\u001b[0m\u001b[0mupdate\u001b[0m\u001b[0;34m(\u001b[0m\u001b[0;34m{\u001b[0m\u001b[0mk\u001b[0m\u001b[0;34m:\u001b[0m \u001b[0marg\u001b[0m \u001b[0;32mfor\u001b[0m \u001b[0mk\u001b[0m\u001b[0;34m,\u001b[0m \u001b[0marg\u001b[0m \u001b[0;32min\u001b[0m \u001b[0mzip\u001b[0m\u001b[0;34m(\u001b[0m\u001b[0msig\u001b[0m\u001b[0;34m.\u001b[0m\u001b[0mparameters\u001b[0m\u001b[0;34m,\u001b[0m \u001b[0margs\u001b[0m\u001b[0;34m)\u001b[0m\u001b[0;34m}\u001b[0m\u001b[0;34m)\u001b[0m\u001b[0;34m\u001b[0m\u001b[0;34m\u001b[0m\u001b[0m\n\u001b[0;32m---> 46\u001b[0;31m         \u001b[0;32mreturn\u001b[0m \u001b[0mf\u001b[0m\u001b[0;34m(\u001b[0m\u001b[0;34m**\u001b[0m\u001b[0mkwargs\u001b[0m\u001b[0;34m)\u001b[0m\u001b[0;34m\u001b[0m\u001b[0;34m\u001b[0m\u001b[0m\n\u001b[0m\u001b[1;32m     47\u001b[0m     \u001b[0;32mreturn\u001b[0m \u001b[0minner_f\u001b[0m\u001b[0;34m\u001b[0m\u001b[0;34m\u001b[0m\u001b[0m\n\u001b[1;32m     48\u001b[0m \u001b[0;34m\u001b[0m\u001b[0m\n",
      "\u001b[0;32m~/opt/miniconda3/lib/python3.8/site-packages/seaborn/categorical.py\u001b[0m in \u001b[0;36mbarplot\u001b[0;34m(x, y, hue, data, order, hue_order, estimator, ci, n_boot, units, seed, orient, color, palette, saturation, errcolor, errwidth, capsize, dodge, ax, **kwargs)\u001b[0m\n\u001b[1;32m   3180\u001b[0m ):\n\u001b[1;32m   3181\u001b[0m \u001b[0;34m\u001b[0m\u001b[0m\n\u001b[0;32m-> 3182\u001b[0;31m     plotter = _BarPlotter(x, y, hue, data, order, hue_order,\n\u001b[0m\u001b[1;32m   3183\u001b[0m                           \u001b[0mestimator\u001b[0m\u001b[0;34m,\u001b[0m \u001b[0mci\u001b[0m\u001b[0;34m,\u001b[0m \u001b[0mn_boot\u001b[0m\u001b[0;34m,\u001b[0m \u001b[0munits\u001b[0m\u001b[0;34m,\u001b[0m \u001b[0mseed\u001b[0m\u001b[0;34m,\u001b[0m\u001b[0;34m\u001b[0m\u001b[0;34m\u001b[0m\u001b[0m\n\u001b[1;32m   3184\u001b[0m                           \u001b[0morient\u001b[0m\u001b[0;34m,\u001b[0m \u001b[0mcolor\u001b[0m\u001b[0;34m,\u001b[0m \u001b[0mpalette\u001b[0m\u001b[0;34m,\u001b[0m \u001b[0msaturation\u001b[0m\u001b[0;34m,\u001b[0m\u001b[0;34m\u001b[0m\u001b[0;34m\u001b[0m\u001b[0m\n",
      "\u001b[0;32m~/opt/miniconda3/lib/python3.8/site-packages/seaborn/categorical.py\u001b[0m in \u001b[0;36m__init__\u001b[0;34m(self, x, y, hue, data, order, hue_order, estimator, ci, n_boot, units, seed, orient, color, palette, saturation, errcolor, errwidth, capsize, dodge)\u001b[0m\n\u001b[1;32m   1582\u001b[0m                  errwidth, capsize, dodge):\n\u001b[1;32m   1583\u001b[0m         \u001b[0;34m\"\"\"Initialize the plotter.\"\"\"\u001b[0m\u001b[0;34m\u001b[0m\u001b[0;34m\u001b[0m\u001b[0m\n\u001b[0;32m-> 1584\u001b[0;31m         self.establish_variables(x, y, hue, data, orient,\n\u001b[0m\u001b[1;32m   1585\u001b[0m                                  order, hue_order, units)\n\u001b[1;32m   1586\u001b[0m         \u001b[0mself\u001b[0m\u001b[0;34m.\u001b[0m\u001b[0mestablish_colors\u001b[0m\u001b[0;34m(\u001b[0m\u001b[0mcolor\u001b[0m\u001b[0;34m,\u001b[0m \u001b[0mpalette\u001b[0m\u001b[0;34m,\u001b[0m \u001b[0msaturation\u001b[0m\u001b[0;34m)\u001b[0m\u001b[0;34m\u001b[0m\u001b[0;34m\u001b[0m\u001b[0m\n",
      "\u001b[0;32m~/opt/miniconda3/lib/python3.8/site-packages/seaborn/categorical.py\u001b[0m in \u001b[0;36mestablish_variables\u001b[0;34m(self, x, y, hue, data, orient, order, hue_order, units)\u001b[0m\n\u001b[1;32m    154\u001b[0m \u001b[0;34m\u001b[0m\u001b[0m\n\u001b[1;32m    155\u001b[0m             \u001b[0;31m# Figure out the plotting orientation\u001b[0m\u001b[0;34m\u001b[0m\u001b[0;34m\u001b[0m\u001b[0;34m\u001b[0m\u001b[0m\n\u001b[0;32m--> 156\u001b[0;31m             orient = infer_orient(\n\u001b[0m\u001b[1;32m    157\u001b[0m                 \u001b[0mx\u001b[0m\u001b[0;34m,\u001b[0m \u001b[0my\u001b[0m\u001b[0;34m,\u001b[0m \u001b[0morient\u001b[0m\u001b[0;34m,\u001b[0m \u001b[0mrequire_numeric\u001b[0m\u001b[0;34m=\u001b[0m\u001b[0mself\u001b[0m\u001b[0;34m.\u001b[0m\u001b[0mrequire_numeric\u001b[0m\u001b[0;34m\u001b[0m\u001b[0;34m\u001b[0m\u001b[0m\n\u001b[1;32m    158\u001b[0m             )\n",
      "\u001b[0;32m~/opt/miniconda3/lib/python3.8/site-packages/seaborn/_core.py\u001b[0m in \u001b[0;36minfer_orient\u001b[0;34m(x, y, orient, require_numeric)\u001b[0m\n\u001b[1;32m   1309\u001b[0m     \"\"\"\n\u001b[1;32m   1310\u001b[0m \u001b[0;34m\u001b[0m\u001b[0m\n\u001b[0;32m-> 1311\u001b[0;31m     \u001b[0mx_type\u001b[0m \u001b[0;34m=\u001b[0m \u001b[0;32mNone\u001b[0m \u001b[0;32mif\u001b[0m \u001b[0mx\u001b[0m \u001b[0;32mis\u001b[0m \u001b[0;32mNone\u001b[0m \u001b[0;32melse\u001b[0m \u001b[0mvariable_type\u001b[0m\u001b[0;34m(\u001b[0m\u001b[0mx\u001b[0m\u001b[0;34m)\u001b[0m\u001b[0;34m\u001b[0m\u001b[0;34m\u001b[0m\u001b[0m\n\u001b[0m\u001b[1;32m   1312\u001b[0m     \u001b[0my_type\u001b[0m \u001b[0;34m=\u001b[0m \u001b[0;32mNone\u001b[0m \u001b[0;32mif\u001b[0m \u001b[0my\u001b[0m \u001b[0;32mis\u001b[0m \u001b[0;32mNone\u001b[0m \u001b[0;32melse\u001b[0m \u001b[0mvariable_type\u001b[0m\u001b[0;34m(\u001b[0m\u001b[0my\u001b[0m\u001b[0;34m)\u001b[0m\u001b[0;34m\u001b[0m\u001b[0;34m\u001b[0m\u001b[0m\n\u001b[1;32m   1313\u001b[0m \u001b[0;34m\u001b[0m\u001b[0m\n",
      "\u001b[0;32m~/opt/miniconda3/lib/python3.8/site-packages/seaborn/_core.py\u001b[0m in \u001b[0;36mvariable_type\u001b[0;34m(vector, boolean_type)\u001b[0m\n\u001b[1;32m   1223\u001b[0m     \"\"\"\n\u001b[1;32m   1224\u001b[0m     \u001b[0;31m# If a categorical dtype is set, infer categorical\u001b[0m\u001b[0;34m\u001b[0m\u001b[0;34m\u001b[0m\u001b[0;34m\u001b[0m\u001b[0m\n\u001b[0;32m-> 1225\u001b[0;31m     \u001b[0;32mif\u001b[0m \u001b[0mpd\u001b[0m\u001b[0;34m.\u001b[0m\u001b[0mapi\u001b[0m\u001b[0;34m.\u001b[0m\u001b[0mtypes\u001b[0m\u001b[0;34m.\u001b[0m\u001b[0mis_categorical_dtype\u001b[0m\u001b[0;34m(\u001b[0m\u001b[0mvector\u001b[0m\u001b[0;34m)\u001b[0m\u001b[0;34m:\u001b[0m\u001b[0;34m\u001b[0m\u001b[0;34m\u001b[0m\u001b[0m\n\u001b[0m\u001b[1;32m   1226\u001b[0m         \u001b[0;32mreturn\u001b[0m \u001b[0;34m\"categorical\"\u001b[0m\u001b[0;34m\u001b[0m\u001b[0;34m\u001b[0m\u001b[0m\n\u001b[1;32m   1227\u001b[0m \u001b[0;34m\u001b[0m\u001b[0m\n",
      "\u001b[0;32m~/opt/miniconda3/lib/python3.8/site-packages/pandas/__init__.py\u001b[0m in \u001b[0;36m__getattr__\u001b[0;34m(name)\u001b[0m\n\u001b[1;32m    242\u001b[0m         \u001b[0;32mreturn\u001b[0m \u001b[0m_SparseArray\u001b[0m\u001b[0;34m\u001b[0m\u001b[0;34m\u001b[0m\u001b[0m\n\u001b[1;32m    243\u001b[0m \u001b[0;34m\u001b[0m\u001b[0m\n\u001b[0;32m--> 244\u001b[0;31m     \u001b[0;32mraise\u001b[0m \u001b[0mAttributeError\u001b[0m\u001b[0;34m(\u001b[0m\u001b[0;34mf\"module 'pandas' has no attribute '{name}'\"\u001b[0m\u001b[0;34m)\u001b[0m\u001b[0;34m\u001b[0m\u001b[0;34m\u001b[0m\u001b[0m\n\u001b[0m\u001b[1;32m    245\u001b[0m \u001b[0;34m\u001b[0m\u001b[0m\n\u001b[1;32m    246\u001b[0m \u001b[0;34m\u001b[0m\u001b[0m\n",
      "\u001b[0;31mAttributeError\u001b[0m: module 'pandas' has no attribute 'api'"
     ]
    }
   ],
   "source": [
    "trending_words(df,removeVerbs = False,show_biggest_deltas = True,top = 20)"
   ]
  },
  {
   "cell_type": "code",
   "execution_count": 36,
   "metadata": {},
   "outputs": [],
   "source": [
    "df =  pd.read_json(QUOTES_2020_PARTY_LABELED_CLEANED_PATH, lines=True, compression='bz2')"
   ]
  },
  {
   "cell_type": "code",
   "execution_count": 53,
   "metadata": {},
   "outputs": [
    {
     "data": {
      "image/png": "[encoded data removed]",
      "text/plain": [
       "<Figure size 432x288 with 1 Axes>"
      ]
     },
     "metadata": {
      "needs_background": "light"
     },
     "output_type": "display_data"
    },
    {
     "data": {
      "image/png": "[encoded data removed]",
      "text/plain": [
       "<Figure size 432x288 with 1 Axes>"
      ]
     },
     "metadata": {
      "needs_background": "light"
     },
     "output_type": "display_data"
    }
   ],
   "source": [
    "trending_words(df,removeVerbs = True,top = 20)"
   ]
  },
  {
   "cell_type": "code",
   "execution_count": 51,
   "metadata": {},
   "outputs": [
    {
     "data": {
      "image/png": "[encoded data removed]",
      "text/plain": [
       "<Figure size 432x288 with 1 Axes>"
      ]
     },
     "metadata": {
      "needs_background": "light"
     },
     "output_type": "display_data"
    },
    {
     "data": {
      "image/png": "[encoded data removed]",
      "text/plain": [
       "<Figure size 432x288 with 1 Axes>"
      ]
     },
     "metadata": {
      "needs_background": "light"
     },
     "output_type": "display_data"
    }
   ],
   "source": [
    "trending_words(df, keyword = 'trump', use_keyword = True, removeVerbs = False, top = 20)"
   ]
  },
  {
   "cell_type": "code",
   "execution_count": 50,
   "metadata": {},
   "outputs": [
    {
     "data": {
      "image/png": "[encoded data removed]",
      "text/plain": [
       "<Figure size 432x288 with 1 Axes>"
      ]
     },
     "metadata": {
      "needs_background": "light"
     },
     "output_type": "display_data"
    },
    {
     "data": {
      "image/png": "[encoded data removed]",
      "text/plain": [
       "<Figure size 432x288 with 1 Axes>"
      ]
     },
     "metadata": {
      "needs_background": "light"
     },
     "output_type": "display_data"
    }
   ],
   "source": [
    "trending_words(df, keyword = 'climate', use_keyword = True, removeVerbs = False, top = 20)"
   ]
  },
  {
   "cell_type": "code",
   "execution_count": 52,
   "metadata": {},
   "outputs": [
    {
     "data": {
      "image/png": "[encoded data removed]",
      "text/plain": [
       "<Figure size 432x288 with 1 Axes>"
      ]
     },
     "metadata": {
      "needs_background": "light"
     },
     "output_type": "display_data"
    },
    {
     "data": {
      "image/png": "[encoded data removed]",
      "text/plain": [
       "<Figure size 432x288 with 1 Axes>"
      ]
     },
     "metadata": {
      "needs_background": "light"
     },
     "output_type": "display_data"
    }
   ],
   "source": [
    "trending_words(df, keyword = 'impeachment', use_keyword = True, removeVerbs = False, top = 20)"
   ]
  },
  {
   "cell_type": "code",
   "execution_count": null,
   "metadata": {},
   "outputs": [],
   "source": []
  }
 ],
 "metadata": {
  "interpreter": {
   "hash": "383ff3a15dd6869fb1b50df9c3d6b174ef9c6411299a4260eb84ddaf02a83d7f"
  },
  "kernelspec": {
   "display_name": "Python 3",
   "language": "python",
   "name": "python3"
  },
  "language_info": {
   "codemirror_mode": {
    "name": "ipython",
    "version": 3
   },
   "file_extension": ".py",
   "mimetype": "text/x-python",
   "name": "python",
   "nbconvert_exporter": "python",
   "pygments_lexer": "ipython3",
   "version": "3.7.4"
  }
 },
 "nbformat": 4,
 "nbformat_minor": 4
}
