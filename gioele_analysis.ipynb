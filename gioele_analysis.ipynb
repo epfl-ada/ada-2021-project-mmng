{
 "cells": [
  {
   "cell_type": "code",
   "execution_count": null,
   "id": "24ec0545-4ad9-49e3-a818-4a309772313a",
   "metadata": {},
   "outputs": [],
   "source": [
    "!pip install tld\n",
    "!pip install texthero\n",
    "!pip install pandas==1.3.0\n",
    "!pip install sklearn\n",
    "!pip install pyarrow\n",
    "!pip install fastparquet"
   ]
  },
  {
   "cell_type": "code",
   "execution_count": null,
   "id": "bd78a96e-7af9-49b2-b946-7b82487c3a69",
   "metadata": {},
   "outputs": [],
   "source": [
    "from helpers import *"
   ]
  },
  {
   "cell_type": "code",
   "execution_count": null,
   "id": "3038ae29-0b86-4f90-875d-74d3a290db6b",
   "metadata": {},
   "outputs": [],
   "source": [
    "#Let's see a line of the file\n",
    "import bz2\n",
    "import json\n",
    "import regex as re\n",
    "\n",
    "path_to_file = QUOTES_2020_PARTY_LABELED_PATH\n",
    "#path_to_file= QUOTES_2020_PARTY_LABELED_CLEANED_PATH"
   ]
  },
  {
   "cell_type": "code",
   "execution_count": null,
   "id": "19b12809-0e02-4292-8c0a-452c22c7352e",
   "metadata": {},
   "outputs": [],
   "source": [
    "import pandas as pd\n",
    "import matplotlib.pyplot as plt\n",
    "\n",
    "labeled_df = pd.io.json.read_json(path_to_file, lines=True)"
   ]
  },
  {
   "cell_type": "code",
   "execution_count": null,
   "id": "0e838c81-858e-450c-95c7-7252435bfb79",
   "metadata": {},
   "outputs": [],
   "source": [
    "import datetime"
   ]
  },
  {
   "cell_type": "markdown",
   "id": "ecf0812c-2b80-4b3d-9ce3-e5d970365faa",
   "metadata": {
    "tags": []
   },
   "source": [
    "## Distributions"
   ]
  },
  {
   "cell_type": "code",
   "execution_count": null,
   "id": "315ec8ad-ec48-4e86-a777-5e534be25f50",
   "metadata": {},
   "outputs": [],
   "source": [
    "lil_df = labeled_df.copy()\n",
    "lil_df[\"date\"] = pd.to_datetime(lil_df['date'], format='%Y-%m-%d %H:%M:%S')\n",
    "minuto = len(lil_df[lil_df[\"date\"].dt.minute == 0])\n",
    "#lil_df[len(lil_df[lil_df[\"date\"].dt.hour == 24])\n",
    "#print(lil_to_display.head())\n",
    "#lil_df = lil_df[\"date\"].dt.date\n",
    "#lil_to_display[\"date\"] = lil_to_display[\"date\"].apply(lambda x: str(x))\n",
    "#da.plot(kind=\"bar\")\n",
    "print(lil_df)"
   ]
  },
  {
   "cell_type": "markdown",
   "id": "913e0f66-bd6e-4b00-aa73-80fa0d9567eb",
   "metadata": {
    "tags": []
   },
   "source": [
    "#### Weekend visualisation of quote"
   ]
  },
  {
   "cell_type": "code",
   "execution_count": null,
   "id": "8207de1d-9a46-40c1-83fe-64c29e6707b5",
   "metadata": {},
   "outputs": [],
   "source": [
    "bins = 100\n",
    "hist = plt.hist(lil_df[\"date\"].dt.date,bins)\n",
    "plt.xlim([datetime.date(2020, 3, 15), datetime.date(2020, 4, 1)])\n",
    "plt.xticks([datetime.date(2020, i, 1) for i in range(1,5)])\n",
    "plt.show()"
   ]
  },
  {
   "cell_type": "code",
   "execution_count": null,
   "id": "b8a73adf-e44e-4c4a-bb10-164181eb94c8",
   "metadata": {},
   "outputs": [],
   "source": [
    "\"\"\"for j in range(1,4):\n",
    "    for i in range(1,30):\n",
    "    #print(len(lil_df[lil_df.values == datetime.date(2020,2,i)]))\n",
    "        if len(lil_df[lil_df.values == datetime.date(2020,j,i)]) < 3500:\n",
    "            print('2020-%d-%d' % (j,i))\"\"\"\n",
    "    "
   ]
  },
  {
   "cell_type": "markdown",
   "id": "d8499fbf-ecf8-470a-932a-ac3ef2aa5868",
   "metadata": {
    "tags": []
   },
   "source": [
    "#### Skewed data of sentence length => most of the quotation have 20 words"
   ]
  },
  {
   "cell_type": "code",
   "execution_count": null,
   "id": "38e92e6f-5db9-43dd-ba5d-9c4294879ef0",
   "metadata": {
    "tags": []
   },
   "outputs": [],
   "source": [
    "def get_info(x):\n",
    "    x = x.split(\" \")\n",
    "    return len(x)\n",
    "lil_df[\"length_quote\"] = lil_df[\"quotation\"].apply(lambda x: get_info(x))\n",
    "#lil_df = lil_df[lil_df[\"quotation\"].str.len() <=2]\n",
    "bins = 100\n",
    "hist = plt.hist(lil_df[\"length_quote\"],bins)\n",
    "plt.xlim(0,150)\n",
    "#plt.xticks([datetime.date(2020, i, 1) for i in range(1,4)])\n",
    "plt.show()"
   ]
  },
  {
   "cell_type": "markdown",
   "id": "ad910295-426e-49b2-b314-27a6915e921e",
   "metadata": {
    "tags": []
   },
   "source": [
    "### Analaysis over D vs R"
   ]
  },
  {
   "cell_type": "markdown",
   "id": "751be470-f448-4571-9f9b-411f53bebf27",
   "metadata": {
    "tags": []
   },
   "source": [
    "#### Number of Democrats vs number of republicans"
   ]
  },
  {
   "cell_type": "code",
   "execution_count": null,
   "id": "23218a80-9029-40fc-8768-290fc41f4bff",
   "metadata": {},
   "outputs": [],
   "source": [
    "labeled_df\n",
    "bins = 5\n",
    "hist = plt.hist(labeled_df[\"party_label\"],bins)\n",
    "#plt.xticks([datetime.date(2020, i, 1) for i in range(1,4)])\n",
    "plt.show()"
   ]
  },
  {
   "cell_type": "markdown",
   "id": "ab1805c6-b5a5-4aea-bcd9-45adc5b9185f",
   "metadata": {
    "tags": []
   },
   "source": [
    "#### Most frequent word used by R and most frequent word used by D"
   ]
  },
  {
   "cell_type": "code",
   "execution_count": null,
   "id": "8571b408-4870-4f01-b6f7-edf249fb9fe9",
   "metadata": {},
   "outputs": [],
   "source": [
    "#we want to remove the basic word as conjunction pronouns and so later, so i use this dataset to remove it + WE KEEP ONLY THE NOUNS!(for now)\n",
    "words_df = pd.read_csv('data.nosync/processed/most-common-words-1k.csv')\n",
    "#remove the most famous 5 verbs which are like \"be,were,do,can\"\n",
    "remove_basic_verbs = words_df[words_df[\"Main Type\"] == \"verb\"][\"Word\"].tolist()[:5]\n",
    "remove_words = words_df[words_df[\"Main Type\"].isin(['preposition', 'conjunction', 'particle', 'pronoun',\n",
    "       'adverb','verb','determiner','interjection','letter', 'contraction'])][\"Word\"].tolist()\n",
    "remove_words = remove_words + remove_basic_verbs"
   ]
  },
  {
   "cell_type": "code",
   "execution_count": null,
   "id": "e0723282-8118-42a8-b867-b1d6148990f1",
   "metadata": {},
   "outputs": [],
   "source": [
    "#just to see the most famous used word in general\n",
    "lil_df[\"quotation_list\"] = lil_df[\"quotation\"].apply(lambda x: x.split(\" \"))\n",
    "famous_words_used = lil_df['quotation_list'].explode().value_counts().index[:500].str.lower().tolist()\n",
    "for word in famous_words_used:\n",
    "    if word in remove_words:\n",
    "        famous_words_used.remove(word)"
   ]
  },
  {
   "cell_type": "code",
   "execution_count": null,
   "id": "3d084135-441a-4116-9836-c1891f79478c",
   "metadata": {},
   "outputs": [],
   "source": [
    "# REPUBLICANS FAMOUS WORDS, DEMOCRATICFAMOUS WORDS\n",
    "r_famous_words = lil_df[lil_df[\"party_label\"] == \"R\"]['quotation_list'].explode().value_counts().index[:500].str.lower().tolist()\n",
    "d_famous_words = lil_df[lil_df[\"party_label\"] == \"D\"]['quotation_list'].explode().value_counts().index[:500].str.lower().tolist()   \n",
    "for word in r_famous_words:\n",
    "    if word in remove_words:\n",
    "        r_famous_words.remove(word)\n",
    "        \n",
    "for word in d_famous_words:\n",
    "    if word in remove_words:\n",
    "        d_famous_words.remove(word)"
   ]
  },
  {
   "cell_type": "code",
   "execution_count": null,
   "id": "78077c49-7a17-4b98-95d6-707187fe6373",
   "metadata": {},
   "outputs": [],
   "source": [
    "# REPUBLICANS FAMOUS WORDS VS DEMOCRATICS FAMOUS WORDS\n",
    "#symmetric_difference instead?\n",
    "words_in_r_and_not_in_d = list(set(r_famous_words) - set(d_famous_words))\n",
    "words_in_d_and_not_in_r = list(set(d_famous_words) - set(r_famous_words))\n",
    "print(list(words_in_r_and_not_in_d))\n",
    "print(list(words_in_d_and_not_in_r))\n",
    "\n",
    "#Do we see some main words? "
   ]
  },
  {
   "cell_type": "markdown",
   "id": "e7bde5c7-c935-4a11-9194-acbf9ec72701",
   "metadata": {},
   "source": [
    "#### Mean lenght of sentence used by the two parties"
   ]
  },
  {
   "cell_type": "code",
   "execution_count": null,
   "id": "9d20a2a9-880a-4f73-826e-0d291f8ff33b",
   "metadata": {},
   "outputs": [],
   "source": [
    "mean_quote_lenght_D = lil_df[lil_df[\"party_label\"] == \"D\"][\"length_quote\"].mean()\n",
    "mean_quote_lenght_R = lil_df[lil_df[\"party_label\"] == \"R\"][\"length_quote\"].mean()\n",
    "print(mean_quote_lenght_D)\n",
    "print(mean_quote_lenght_R)"
   ]
  },
  {
   "cell_type": "markdown",
   "id": "968ad77f-cf6a-4baf-9b9c-36425e6aa1d8",
   "metadata": {
    "tags": []
   },
   "source": [
    "## Correlations"
   ]
  },
  {
   "cell_type": "markdown",
   "id": "c966145e-ccfa-4e73-aa2d-7f25c0efdbda",
   "metadata": {
    "tags": []
   },
   "source": [
    "#### Most frequent of quotes => correlated to presidential events"
   ]
  },
  {
   "cell_type": "code",
   "execution_count": null,
   "id": "9e0f2623-0420-47c7-b3f9-69b91f5d53e6",
   "metadata": {},
   "outputs": [],
   "source": [
    "# get top 10 most frequent dates of quotes\n",
    "n = 10\n",
    "days_with_most_quotes = lil_df['date'].value_counts()[:n].index.tolist()\n",
    "days_with_most_quotes"
   ]
  },
  {
   "cell_type": "code",
   "execution_count": null,
   "id": "e864d56f-2d46-482b-8366-c0d579b672c8",
   "metadata": {},
   "outputs": [],
   "source": [
    "#As we can see, the first is february 04 and 05. \n",
    "#(February 5, 2020). \"Trump impeachment vote live updates: Sharply divided Senate acquits Trump on both articles\"\n",
    "#\"United States President Donald Trump is acquitted by the United States Senate in his first impeachment trial.\"\n",
    "\n",
    "#2020-01-15 -> the Pentagon construction was completed.\n",
    "#2020-01-30 -> President Trump signed the U.S.-Mexico-Canada (USMCA) trade pact.\n",
    "#2020-02-07 -> 1A President Trump is acquitted\n",
    "events = {datetime.date(2020, 2, 5):'T. Imp.',\n",
    "          datetime.date(2020, 1, 15): 'Pentagon',\n",
    "          datetime.date(2020, 1, 30):'U-M-C'}"
   ]
  },
  {
   "cell_type": "code",
   "execution_count": null,
   "id": "575c672a-a151-4030-aeb3-73d12c8b5b85",
   "metadata": {},
   "outputs": [],
   "source": []
  },
  {
   "cell_type": "markdown",
   "id": "eb559615-2b03-46a4-9e28-f127166b7f05",
   "metadata": {
    "tags": []
   },
   "source": [
    "#### Date of senators quotes popular on presidentials month?"
   ]
  },
  {
   "cell_type": "code",
   "execution_count": null,
   "id": "a33dbd0a-4ce2-487c-a8c4-838c562b9b76",
   "metadata": {},
   "outputs": [],
   "source": [
    "#remove empty values\n",
    "senators_df = lil_df[lil_df[\"US_congress_bio_ID\"] != None]\n",
    "senators_df = lil_df[~lil_df[\"US_congress_bio_ID\"].isnull()]\n",
    "len(senators_df)"
   ]
  },
  {
   "cell_type": "code",
   "execution_count": null,
   "id": "c3e3525f-1c42-4880-961c-7b30b2da8da8",
   "metadata": {},
   "outputs": [],
   "source": [
    "bins = 100\n",
    "hist = plt.hist(senators_df[\"date\"].dt.date,bins)\n",
    "plt.xlim([datetime.date(2020, 1, 1), datetime.date(2020,4, 1)])\n",
    "plt.xticks([list(events)[i] for i in range(0,len(list(events)))],[list(events.values())[i] for i in range(0,len(list(events)))],fontsize=7)\n",
    "plt.show()"
   ]
  },
  {
   "cell_type": "code",
   "execution_count": null,
   "id": "759f0651-fb98-4950-a7a6-20f06aa63676",
   "metadata": {},
   "outputs": [],
   "source": [
    "##non_senators_df_for_comparison\n",
    "non_senators_df = lil_df[lil_df[\"US_congress_bio_ID\"] == None]\n",
    "non_senators_df = lil_df[lil_df[\"US_congress_bio_ID\"].isnull()]\n",
    "len(non_senators_df)"
   ]
  },
  {
   "cell_type": "code",
   "execution_count": null,
   "id": "0e687d60-1415-419a-8977-9cd8acdaf281",
   "metadata": {},
   "outputs": [],
   "source": [
    "bins = 100\n",
    "hist = plt.hist(non_senators_df[\"date\"].dt.date,bins)\n",
    "plt.xlim([datetime.date(2020, 1, 1), datetime.date(2020,4, 1)])\n",
    "plt.xticks([list(events)[i] for i in range(0,len(list(events)))],[list(events.values())[i] for i in range(0,len(list(events)))],fontsize=7)\n",
    "plt.show()"
   ]
  },
  {
   "cell_type": "markdown",
   "id": "aa9cba07-5175-43a7-9eb3-f984fe4b1451",
   "metadata": {},
   "source": [
    "From here we can notice that between senators and non senators there is not so much difference in the amount of quotes"
   ]
  }
 ],
 "metadata": {
  "kernelspec": {
   "display_name": "Python 3 (ipykernel)",
   "language": "python",
   "name": "python3"
  },
  "language_info": {
   "codemirror_mode": {
    "name": "ipython",
    "version": 3
   },
   "file_extension": ".py",
   "mimetype": "text/x-python",
   "name": "python",
   "nbconvert_exporter": "python",
   "pygments_lexer": "ipython3",
   "version": "3.7.11"
  }
 },
 "nbformat": 4,
 "nbformat_minor": 5
}
