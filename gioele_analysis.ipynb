{
 "cells": [
  {
   "cell_type": "code",
   "execution_count": 1,
   "id": "24ec0545-4ad9-49e3-a818-4a309772313a",
   "metadata": {},
   "outputs": [
    {
     "name": "stdout",
     "output_type": "stream",
     "text": [
      "Requirement already satisfied: tld in /usr/local/lib/python3.7/site-packages (0.12.6)\n",
      "Requirement already satisfied: texthero in /usr/local/lib/python3.7/site-packages (1.1.0)\n",
      "Requirement already satisfied: unidecode>=1.1.1 in /usr/local/lib/python3.7/site-packages (from texthero) (1.3.2)\n",
      "Requirement already satisfied: gensim<4.0,>=3.6.0 in /usr/local/lib/python3.7/site-packages (from texthero) (3.8.3)\n",
      "Requirement already satisfied: plotly>=4.2.0 in /usr/local/lib/python3.7/site-packages (from texthero) (5.3.1)\n",
      "Requirement already satisfied: spacy<3.0.0 in /usr/local/lib/python3.7/site-packages (from texthero) (2.3.7)\n",
      "Requirement already satisfied: tqdm>=4.3 in /usr/local/lib/python3.7/site-packages (from texthero) (4.62.3)\n",
      "Requirement already satisfied: nltk>=3.3 in /usr/local/lib/python3.7/site-packages (from texthero) (3.6.5)\n",
      "Requirement already satisfied: wordcloud>=1.5.0 in /usr/local/lib/python3.7/site-packages (from texthero) (1.8.1)\n",
      "Requirement already satisfied: pandas>=1.0.2 in /usr/local/lib/python3.7/site-packages (from texthero) (1.3.0)\n",
      "Requirement already satisfied: matplotlib>=3.1.0 in /usr/local/lib/python3.7/site-packages (from texthero) (3.4.3)\n",
      "Requirement already satisfied: numpy>=1.17 in /usr/local/lib/python3.7/site-packages (from texthero) (1.20.1)\n",
      "Requirement already satisfied: scikit-learn>=0.22 in /usr/local/lib/python3.7/site-packages (from texthero) (1.0.1)\n",
      "Requirement already satisfied: scipy>=0.18.1 in /usr/local/lib/python3.7/site-packages (from gensim<4.0,>=3.6.0->texthero) (1.7.1)\n",
      "Requirement already satisfied: six>=1.5.0 in /usr/local/lib/python3.7/site-packages (from gensim<4.0,>=3.6.0->texthero) (1.15.0)\n",
      "Requirement already satisfied: smart-open>=1.8.1 in /usr/local/lib/python3.7/site-packages (from gensim<4.0,>=3.6.0->texthero) (5.2.1)\n",
      "Requirement already satisfied: pillow>=6.2.0 in /usr/local/lib/python3.7/site-packages (from matplotlib>=3.1.0->texthero) (8.1.0)\n",
      "Requirement already satisfied: python-dateutil>=2.7 in /usr/local/lib/python3.7/site-packages (from matplotlib>=3.1.0->texthero) (2.8.1)\n",
      "Requirement already satisfied: pyparsing>=2.2.1 in /usr/local/lib/python3.7/site-packages (from matplotlib>=3.1.0->texthero) (2.4.7)\n",
      "Requirement already satisfied: kiwisolver>=1.0.1 in /usr/local/lib/python3.7/site-packages (from matplotlib>=3.1.0->texthero) (1.3.2)\n",
      "Requirement already satisfied: cycler>=0.10 in /usr/local/lib/python3.7/site-packages (from matplotlib>=3.1.0->texthero) (0.10.0)\n",
      "Requirement already satisfied: joblib in /usr/local/lib/python3.7/site-packages (from nltk>=3.3->texthero) (1.1.0)\n",
      "Requirement already satisfied: regex>=2021.8.3 in /usr/local/lib/python3.7/site-packages (from nltk>=3.3->texthero) (2021.11.10)\n",
      "Requirement already satisfied: click in /usr/local/lib/python3.7/site-packages (from nltk>=3.3->texthero) (7.1.2)\n",
      "Requirement already satisfied: pytz>=2017.3 in /usr/local/lib/python3.7/site-packages (from pandas>=1.0.2->texthero) (2021.1)\n",
      "Requirement already satisfied: tenacity>=6.2.0 in /usr/local/lib/python3.7/site-packages (from plotly>=4.2.0->texthero) (8.0.1)\n",
      "Requirement already satisfied: threadpoolctl>=2.0.0 in /usr/local/lib/python3.7/site-packages (from scikit-learn>=0.22->texthero) (3.0.0)\n",
      "Requirement already satisfied: blis<0.8.0,>=0.4.0 in /usr/local/lib/python3.7/site-packages (from spacy<3.0.0->texthero) (0.7.5)\n",
      "Requirement already satisfied: plac<1.2.0,>=0.9.6 in /usr/local/lib/python3.7/site-packages (from spacy<3.0.0->texthero) (1.1.3)\n",
      "Requirement already satisfied: murmurhash<1.1.0,>=0.28.0 in /usr/local/lib/python3.7/site-packages (from spacy<3.0.0->texthero) (1.0.6)\n",
      "Requirement already satisfied: thinc<7.5.0,>=7.4.1 in /usr/local/lib/python3.7/site-packages (from spacy<3.0.0->texthero) (7.4.5)\n",
      "Requirement already satisfied: setuptools in /usr/local/lib/python3.7/site-packages (from spacy<3.0.0->texthero) (57.1.0)\n",
      "Requirement already satisfied: preshed<3.1.0,>=3.0.2 in /usr/local/lib/python3.7/site-packages (from spacy<3.0.0->texthero) (3.0.6)\n",
      "Requirement already satisfied: requests<3.0.0,>=2.13.0 in /usr/local/lib/python3.7/site-packages (from spacy<3.0.0->texthero) (2.25.1)\n",
      "Requirement already satisfied: wasabi<1.1.0,>=0.4.0 in /usr/local/lib/python3.7/site-packages (from spacy<3.0.0->texthero) (0.8.2)\n",
      "Requirement already satisfied: catalogue<1.1.0,>=0.0.7 in /usr/local/lib/python3.7/site-packages (from spacy<3.0.0->texthero) (1.0.0)\n",
      "Requirement already satisfied: cymem<2.1.0,>=2.0.2 in /usr/local/lib/python3.7/site-packages (from spacy<3.0.0->texthero) (2.0.6)\n",
      "Requirement already satisfied: srsly<1.1.0,>=1.0.2 in /usr/local/lib/python3.7/site-packages (from spacy<3.0.0->texthero) (1.0.5)\n",
      "Requirement already satisfied: importlib-metadata>=0.20 in /usr/local/lib/python3.7/site-packages (from catalogue<1.1.0,>=0.0.7->spacy<3.0.0->texthero) (3.4.0)\n",
      "Requirement already satisfied: zipp>=0.5 in /usr/local/lib/python3.7/site-packages (from importlib-metadata>=0.20->catalogue<1.1.0,>=0.0.7->spacy<3.0.0->texthero) (3.4.0)\n",
      "Requirement already satisfied: typing-extensions>=3.6.4 in /usr/local/lib/python3.7/site-packages (from importlib-metadata>=0.20->catalogue<1.1.0,>=0.0.7->spacy<3.0.0->texthero) (3.7.4.3)\n",
      "Requirement already satisfied: idna<3,>=2.5 in /usr/local/lib/python3.7/site-packages (from requests<3.0.0,>=2.13.0->spacy<3.0.0->texthero) (2.10)\n",
      "Requirement already satisfied: certifi>=2017.4.17 in /usr/local/lib/python3.7/site-packages (from requests<3.0.0,>=2.13.0->spacy<3.0.0->texthero) (2021.5.30)\n",
      "Requirement already satisfied: urllib3<1.27,>=1.21.1 in /usr/local/lib/python3.7/site-packages (from requests<3.0.0,>=2.13.0->spacy<3.0.0->texthero) (1.26.6)\n",
      "Requirement already satisfied: chardet<5,>=3.0.2 in /usr/local/lib/python3.7/site-packages (from requests<3.0.0,>=2.13.0->spacy<3.0.0->texthero) (4.0.0)\n",
      "Requirement already satisfied: pandas==1.3.0 in /usr/local/lib/python3.7/site-packages (1.3.0)\n",
      "Requirement already satisfied: numpy>=1.17.3 in /usr/local/lib/python3.7/site-packages (from pandas==1.3.0) (1.20.1)\n",
      "Requirement already satisfied: python-dateutil>=2.7.3 in /usr/local/lib/python3.7/site-packages (from pandas==1.3.0) (2.8.1)\n",
      "Requirement already satisfied: pytz>=2017.3 in /usr/local/lib/python3.7/site-packages (from pandas==1.3.0) (2021.1)\n",
      "Requirement already satisfied: six>=1.5 in /usr/local/lib/python3.7/site-packages (from python-dateutil>=2.7.3->pandas==1.3.0) (1.15.0)\n",
      "Requirement already satisfied: sklearn in /usr/local/lib/python3.7/site-packages (0.0)\n",
      "Requirement already satisfied: scikit-learn in /usr/local/lib/python3.7/site-packages (from sklearn) (1.0.1)\n",
      "Requirement already satisfied: scipy>=1.1.0 in /usr/local/lib/python3.7/site-packages (from scikit-learn->sklearn) (1.7.1)\n",
      "Requirement already satisfied: numpy>=1.14.6 in /usr/local/lib/python3.7/site-packages (from scikit-learn->sklearn) (1.20.1)\n",
      "Requirement already satisfied: threadpoolctl>=2.0.0 in /usr/local/lib/python3.7/site-packages (from scikit-learn->sklearn) (3.0.0)\n",
      "Requirement already satisfied: joblib>=0.11 in /usr/local/lib/python3.7/site-packages (from scikit-learn->sklearn) (1.1.0)\n",
      "Requirement already satisfied: pyarrow in /usr/local/lib/python3.7/site-packages (6.0.0)\n",
      "Requirement already satisfied: numpy>=1.16.6 in /usr/local/lib/python3.7/site-packages (from pyarrow) (1.20.1)\n",
      "Requirement already satisfied: fastparquet in /usr/local/lib/python3.7/site-packages (0.7.1)\n",
      "Requirement already satisfied: cramjam>=2.3.0 in /usr/local/lib/python3.7/site-packages (from fastparquet) (2.5.0)\n",
      "Requirement already satisfied: numpy>=1.18 in /usr/local/lib/python3.7/site-packages (from fastparquet) (1.20.1)\n",
      "Requirement already satisfied: thrift>=0.11.0 in /usr/local/lib/python3.7/site-packages (from fastparquet) (0.15.0)\n",
      "Requirement already satisfied: pandas>=1.1.0 in /usr/local/lib/python3.7/site-packages (from fastparquet) (1.3.0)\n",
      "Requirement already satisfied: fsspec in /usr/local/lib/python3.7/site-packages (from fastparquet) (2021.11.0)\n",
      "Requirement already satisfied: python-dateutil>=2.7.3 in /usr/local/lib/python3.7/site-packages (from pandas>=1.1.0->fastparquet) (2.8.1)\n",
      "Requirement already satisfied: pytz>=2017.3 in /usr/local/lib/python3.7/site-packages (from pandas>=1.1.0->fastparquet) (2021.1)\n",
      "Requirement already satisfied: six>=1.5 in /usr/local/lib/python3.7/site-packages (from python-dateutil>=2.7.3->pandas>=1.1.0->fastparquet) (1.15.0)\n"
     ]
    }
   ],
   "source": [
    "!pip install tld\n",
    "!pip install texthero\n",
    "!pip install pandas==1.3.0\n",
    "!pip install sklearn\n",
    "!pip install pyarrow\n",
    "!pip install fastparquet"
   ]
  },
  {
   "cell_type": "code",
   "execution_count": 2,
   "id": "bd78a96e-7af9-49b2-b946-7b82487c3a69",
   "metadata": {},
   "outputs": [],
   "source": [
    "from helpers import *"
   ]
  },
  {
   "cell_type": "code",
   "execution_count": 3,
   "id": "3038ae29-0b86-4f90-875d-74d3a290db6b",
   "metadata": {},
   "outputs": [],
   "source": [
    "#Let's see a line of the file\n",
    "import bz2\n",
    "import json\n",
    "import regex as re\n",
    "\n",
    "path_to_file = QUOTES_2020_PARTY_LABELED_PATH\n",
    "#path_to_file= QUOTES_2020_PARTY_LABELED_CLEANED_PATH"
   ]
  },
  {
   "cell_type": "code",
   "execution_count": 4,
   "id": "19b12809-0e02-4292-8c0a-452c22c7352e",
   "metadata": {},
   "outputs": [],
   "source": [
    "import pandas as pd\n",
    "import matplotlib.pyplot as plt\n",
    "\n",
    "labeled_df = pd.io.json.read_json(path_to_file, lines=True)"
   ]
  },
  {
   "cell_type": "code",
   "execution_count": 5,
   "id": "0e838c81-858e-450c-95c7-7252435bfb79",
   "metadata": {},
   "outputs": [],
   "source": [
    "import datetime"
   ]
  },
  {
   "cell_type": "markdown",
   "id": "ecf0812c-2b80-4b3d-9ce3-e5d970365faa",
   "metadata": {
    "tags": []
   },
   "source": [
    "## Distributions"
   ]
  },
  {
   "cell_type": "code",
   "execution_count": 6,
   "id": "315ec8ad-ec48-4e86-a777-5e534be25f50",
   "metadata": {},
   "outputs": [
    {
     "name": "stdout",
     "output_type": "stream",
     "text": [
      "                  quoteID                                          quotation  \\\n",
      "0       2020-01-16-000088  [ Department of Homeland Security ] was livid ...   \n",
      "1       2020-01-26-000499  a few of the candidates who will do better in ...   \n",
      "2       2020-01-26-040663  The generational thing is important, quite hon...   \n",
      "3       2020-01-20-000982                        a host of other protections   \n",
      "4       2020-01-09-060095  No, are you kidding? The way that this place l...   \n",
      "...                   ...                                                ...   \n",
      "436603  2020-03-16-079753  We've all embraced strict proper hygiene proce...   \n",
      "436604  2020-01-13-091997   What's important is that we keep moving forward.   \n",
      "436605  2020-02-20-093793  When they want a bill, they bring the bill to ...   \n",
      "436606  2020-01-20-084503  who is out to discover if a mythic superhero, ...   \n",
      "436607  2020-02-09-057933  Who will respect different types of people, di...   \n",
      "\n",
      "                   speaker                date  numOccurrences         id  \\\n",
      "0               Sue Myrick 2020-01-16 12:00:13               1    Q367796   \n",
      "1            Dave Loebsack 2020-01-26 13:21:36              11    Q771586   \n",
      "2            Dave Loebsack 2020-01-26 13:21:36              11    Q771586   \n",
      "3             Debbie Lesko 2020-01-20 15:32:48               1  Q16731415   \n",
      "4             Debbie Lesko 2020-01-09 23:15:21               1  Q16731415   \n",
      "...                    ...                 ...             ...        ...   \n",
      "436603       Robert Abrams 2020-03-16 12:00:00               2   Q2156314   \n",
      "436604      Laurie Jinkins 2020-01-13 19:51:15               1   Q6501617   \n",
      "436605         J.T. Wilcox 2020-02-20 22:12:45               1   Q6104393   \n",
      "436606  Sylvester Stallone 2020-01-20 10:30:00               1     Q40026   \n",
      "436607          Susan Wild 2020-02-09 15:08:23               1  Q58323072   \n",
      "\n",
      "       party_label US_congress_bio_ID  \n",
      "0                R            M001134  \n",
      "1                D            L000565  \n",
      "2                D            L000565  \n",
      "3                R            L000589  \n",
      "4                R            L000589  \n",
      "...            ...                ...  \n",
      "436603           D               None  \n",
      "436604           D               None  \n",
      "436605           R               None  \n",
      "436606           R               None  \n",
      "436607           D            W000826  \n",
      "\n",
      "[436608 rows x 8 columns]\n"
     ]
    }
   ],
   "source": [
    "lil_df = labeled_df.copy()\n",
    "lil_df[\"date\"] = pd.to_datetime(lil_df['date'], format='%Y-%m-%d %H:%M:%S')\n",
    "minuto = len(lil_df[lil_df[\"date\"].dt.minute == 0])\n",
    "#lil_df[len(lil_df[lil_df[\"date\"].dt.hour == 24])\n",
    "#print(lil_to_display.head())\n",
    "#lil_df = lil_df[\"date\"].dt.date\n",
    "#lil_to_display[\"date\"] = lil_to_display[\"date\"].apply(lambda x: str(x))\n",
    "#da.plot(kind=\"bar\")\n",
    "print(lil_df)"
   ]
  },
  {
   "cell_type": "markdown",
   "id": "913e0f66-bd6e-4b00-aa73-80fa0d9567eb",
   "metadata": {
    "tags": []
   },
   "source": [
    "#### Weekend visualisation of quote"
   ]
  },
  {
   "cell_type": "code",
   "execution_count": 7,
   "id": "8207de1d-9a46-40c1-83fe-64c29e6707b5",
   "metadata": {},
   "outputs": [
    {
     "data": {
      "image/png": "[encoded data removed]",
      "text/plain": [
       "<Figure size 432x288 with 1 Axes>"
      ]
     },
     "metadata": {
      "needs_background": "light"
     },
     "output_type": "display_data"
    }
   ],
   "source": [
    "bins = 100\n",
    "hist = plt.hist(lil_df[\"date\"].dt.date,bins)\n",
    "plt.xlim([datetime.date(2020, 3, 15), datetime.date(2020, 4, 1)])\n",
    "plt.xticks([datetime.date(2020, i, 1) for i in range(1,5)])\n",
    "plt.show()"
   ]
  },
  {
   "cell_type": "code",
   "execution_count": 8,
   "id": "b8a73adf-e44e-4c4a-bb10-164181eb94c8",
   "metadata": {},
   "outputs": [
    {
     "name": "stderr",
     "output_type": "stream",
     "text": [
      "/usr/local/lib/python3.7/site-packages/ipykernel_launcher.py:4: FutureWarning: Comparison of Timestamp with datetime.date is deprecated in order to match the standard library behavior.  In a future version these will be considered non-comparable.Use 'ts == pd.Timestamp(date)' or 'ts.date() == date' instead.\n",
      "  after removing the cwd from sys.path.\n"
     ]
    },
    {
     "name": "stdout",
     "output_type": "stream",
     "text": [
      "2020-1-1\n",
      "2020-1-2\n",
      "2020-1-4\n",
      "2020-1-5\n",
      "2020-1-11\n",
      "2020-1-12\n",
      "2020-1-18\n",
      "2020-1-19\n",
      "2020-1-20\n",
      "2020-1-25\n",
      "2020-1-26\n",
      "2020-2-1\n",
      "2020-2-2\n",
      "2020-2-8\n",
      "2020-2-9\n",
      "2020-2-15\n",
      "2020-2-16\n",
      "2020-2-17\n",
      "2020-2-22\n",
      "2020-2-23\n",
      "2020-2-29\n",
      "2020-3-1\n",
      "2020-3-7\n",
      "2020-3-8\n",
      "2020-3-14\n",
      "2020-3-15\n",
      "2020-3-21\n",
      "2020-3-22\n",
      "2020-3-28\n",
      "2020-3-29\n"
     ]
    }
   ],
   "source": [
    "\"\"\"for j in range(1,4):\n",
    "    for i in range(1,30):\n",
    "    #print(len(lil_df[lil_df.values == datetime.date(2020,2,i)]))\n",
    "        if len(lil_df[lil_df.values == datetime.date(2020,j,i)]) < 3500:\n",
    "            print('2020-%d-%d' % (j,i))\"\"\"\n",
    "    "
   ]
  },
  {
   "cell_type": "markdown",
   "id": "d8499fbf-ecf8-470a-932a-ac3ef2aa5868",
   "metadata": {
    "tags": []
   },
   "source": [
    "#### Skewed data of sentence length => most of the quotation have 20 words"
   ]
  },
  {
   "cell_type": "code",
   "execution_count": 9,
   "id": "38e92e6f-5db9-43dd-ba5d-9c4294879ef0",
   "metadata": {
    "tags": []
   },
   "outputs": [
    {
     "data": {
      "image/png": "[encoded data removed]",
      "text/plain": [
       "<Figure size 432x288 with 1 Axes>"
      ]
     },
     "metadata": {
      "needs_background": "light"
     },
     "output_type": "display_data"
    }
   ],
   "source": [
    "def get_info(x):\n",
    "    x = x.split(\" \")\n",
    "    return len(x)\n",
    "lil_df[\"length_quote\"] = lil_df[\"quotation\"].apply(lambda x: get_info(x))\n",
    "#lil_df = lil_df[lil_df[\"quotation\"].str.len() <=2]\n",
    "bins = 100\n",
    "hist = plt.hist(lil_df[\"length_quote\"],bins)\n",
    "plt.xlim(0,150)\n",
    "#plt.xticks([datetime.date(2020, i, 1) for i in range(1,4)])\n",
    "plt.show()"
   ]
  },
  {
   "cell_type": "markdown",
   "id": "ad910295-426e-49b2-b314-27a6915e921e",
   "metadata": {
    "tags": []
   },
   "source": [
    "### Analaysis over D vs R"
   ]
  },
  {
   "cell_type": "markdown",
   "id": "751be470-f448-4571-9f9b-411f53bebf27",
   "metadata": {
    "tags": []
   },
   "source": [
    "#### Number of Democrats vs number of republicans"
   ]
  },
  {
   "cell_type": "code",
   "execution_count": 10,
   "id": "23218a80-9029-40fc-8768-290fc41f4bff",
   "metadata": {},
   "outputs": [
    {
     "data": {
      "image/png": "[encoded data removed]",
      "text/plain": [
       "<Figure size 432x288 with 1 Axes>"
      ]
     },
     "metadata": {
      "needs_background": "light"
     },
     "output_type": "display_data"
    }
   ],
   "source": [
    "labeled_df\n",
    "bins = 5\n",
    "hist = plt.hist(labeled_df[\"party_label\"],bins)\n",
    "#plt.xticks([datetime.date(2020, i, 1) for i in range(1,4)])\n",
    "plt.show()"
   ]
  },
  {
   "cell_type": "markdown",
   "id": "ab1805c6-b5a5-4aea-bcd9-45adc5b9185f",
   "metadata": {
    "tags": []
   },
   "source": [
    "#### Most frequent word used by R and most frequent word used by D"
   ]
  },
  {
   "cell_type": "code",
   "execution_count": 11,
   "id": "8571b408-4870-4f01-b6f7-edf249fb9fe9",
   "metadata": {},
   "outputs": [],
   "source": [
    "#we want to remove the basic word as conjunction pronouns and so later, so i use this dataset to remove it + WE KEEP ONLY THE NOUNS!(for now)\n",
    "words_df = pd.read_csv('data.nosync/processed/most-common-words-1k.csv')\n",
    "#remove the most famous 5 verbs which are like \"be,were,do,can\"\n",
    "remove_basic_verbs = words_df[words_df[\"Main Type\"] == \"verb\"][\"Word\"].tolist()[:5]\n",
    "remove_words = words_df[words_df[\"Main Type\"].isin(['preposition', 'conjunction', 'particle', 'pronoun',\n",
    "       'adverb','verb','determiner','interjection','letter', 'contraction'])][\"Word\"].tolist()\n",
    "remove_words = remove_words + remove_basic_verbs"
   ]
  },
  {
   "cell_type": "code",
   "execution_count": 12,
   "id": "e0723282-8118-42a8-b867-b1d6148990f1",
   "metadata": {},
   "outputs": [],
   "source": [
    "#just to see the most famous used word in general\n",
    "lil_df[\"quotation_list\"] = lil_df[\"quotation\"].apply(lambda x: x.split(\" \"))\n",
    "famous_words_used = lil_df['quotation_list'].explode().value_counts().index[:500].str.lower().tolist()\n",
    "for word in famous_words_used:\n",
    "    if word in remove_words:\n",
    "        famous_words_used.remove(word)"
   ]
  },
  {
   "cell_type": "code",
   "execution_count": 13,
   "id": "3d084135-441a-4116-9836-c1891f79478c",
   "metadata": {},
   "outputs": [],
   "source": [
    "# REPUBLICANS FAMOUS WORDS, DEMOCRATICFAMOUS WORDS\n",
    "r_famous_words = lil_df[lil_df[\"party_label\"] == \"R\"]['quotation_list'].explode().value_counts().index[:500].str.lower().tolist()\n",
    "d_famous_words = lil_df[lil_df[\"party_label\"] == \"D\"]['quotation_list'].explode().value_counts().index[:500].str.lower().tolist()   \n",
    "for word in r_famous_words:\n",
    "    if word in remove_words:\n",
    "        r_famous_words.remove(word)\n",
    "        \n",
    "for word in d_famous_words:\n",
    "    if word in remove_words:\n",
    "        d_famous_words.remove(word)"
   ]
  },
  {
   "cell_type": "code",
   "execution_count": 14,
   "id": "78077c49-7a17-4b98-95d6-707187fe6373",
   "metadata": {},
   "outputs": [
    {
     "name": "stdout",
     "output_type": "stream",
     "text": [
      "['having', 'someone', 'military', 'financial', 'there,', 'do,', 'set', 'between', 'year,', 'looking', 'reason', 'more', 'significant', 'republican', 'weeks', 'another', 'ready', 'iran', 'free', 'before', 'comes', 'heard', 'response', 'no', 'provide', 'also', 'evidence', 'show', 'human', 'these', 'enough', 'any', 'pretty', 'going', 'situation', 'least', 'take', 'available', 'took', 'efforts', 'chinese', 'how', 'must', 'most', 'really', 'ability', 'well', 'leadership', 'years,', 'can', 'this', 'impeachment', 'level', 'necessary', 'would', 'additional', 'with', 'based', 'which', 'security', 'china', 'possible', 'team', 'me', 'global', 'department', 'up', '&', 'including', \"president's\", 'problem', 'too']\n",
      "['if', 'like,', 'you.', 'against', 'campaign', 'it', 'kids', 'never', 'voters', 'everyone', 'single', 'stand', 'after', 'away', 'me.', 'emergency', 'democratic', 'climate', 'joe', 'us,', 'get', 'bernie', 'what', 'war', 'for', 'ensure', 'my', 'few', 'are', 'candidate', 'folks', 'trial', 'tell', 'testing', 'her', 'than', 'go', \"isn't\", 'as', 'party', 'republicans', 'many', 'day,', 'country.', 'they', 'thousands', 'come', 'both', 'should', 'were', 'sanders', 'crisis,', 'seeing', 'think', \"i'll\", 'that', 'fair', 'since', 'young', 'there', 'biden', 'stop', 'gon', 'like', 'safe', 'everybody', 'city', 'president,', 'na', 'history', 'sense', 'moment', 'seen', 'some', 'south', 'coming', 'running', 'change', 'build', 'through', 'let', 'pay', 'their', 'residents']\n"
     ]
    }
   ],
   "source": [
    "# REPUBLICANS FAMOUS WORDS VS DEMOCRATICS FAMOUS WORDS\n",
    "#symmetric_difference instead?\n",
    "words_in_r_and_not_in_d = list(set(r_famous_words) - set(d_famous_words))\n",
    "words_in_d_and_not_in_r = list(set(d_famous_words) - set(r_famous_words))\n",
    "print(list(words_in_r_and_not_in_d))\n",
    "print(list(words_in_d_and_not_in_r))\n",
    "\n",
    "#Do we see some main words? "
   ]
  },
  {
   "cell_type": "markdown",
   "id": "e7bde5c7-c935-4a11-9194-acbf9ec72701",
   "metadata": {},
   "source": [
    "#### Mean lenght of sentence used by the two parties"
   ]
  },
  {
   "cell_type": "code",
   "execution_count": 15,
   "id": "9d20a2a9-880a-4f73-826e-0d291f8ff33b",
   "metadata": {},
   "outputs": [
    {
     "ename": "KeyError",
     "evalue": "'length_quote'",
     "output_type": "error",
     "traceback": [
      "\u001b[0;31m---------------------------------------------------------------------------\u001b[0m",
      "\u001b[0;31mKeyError\u001b[0m                                  Traceback (most recent call last)",
      "\u001b[0;32m/usr/local/lib/python3.7/site-packages/pandas/core/indexes/base.py\u001b[0m in \u001b[0;36mget_loc\u001b[0;34m(self, key, method, tolerance)\u001b[0m\n\u001b[1;32m   3360\u001b[0m             \u001b[0;32mtry\u001b[0m\u001b[0;34m:\u001b[0m\u001b[0;34m\u001b[0m\u001b[0;34m\u001b[0m\u001b[0m\n\u001b[0;32m-> 3361\u001b[0;31m                 \u001b[0;32mreturn\u001b[0m \u001b[0mself\u001b[0m\u001b[0;34m.\u001b[0m\u001b[0m_engine\u001b[0m\u001b[0;34m.\u001b[0m\u001b[0mget_loc\u001b[0m\u001b[0;34m(\u001b[0m\u001b[0mcasted_key\u001b[0m\u001b[0;34m)\u001b[0m\u001b[0;34m\u001b[0m\u001b[0;34m\u001b[0m\u001b[0m\n\u001b[0m\u001b[1;32m   3362\u001b[0m             \u001b[0;32mexcept\u001b[0m \u001b[0mKeyError\u001b[0m \u001b[0;32mas\u001b[0m \u001b[0merr\u001b[0m\u001b[0;34m:\u001b[0m\u001b[0;34m\u001b[0m\u001b[0;34m\u001b[0m\u001b[0m\n",
      "\u001b[0;32m/usr/local/lib/python3.7/site-packages/pandas/_libs/index.pyx\u001b[0m in \u001b[0;36mpandas._libs.index.IndexEngine.get_loc\u001b[0;34m()\u001b[0m\n",
      "\u001b[0;32m/usr/local/lib/python3.7/site-packages/pandas/_libs/index.pyx\u001b[0m in \u001b[0;36mpandas._libs.index.IndexEngine.get_loc\u001b[0;34m()\u001b[0m\n",
      "\u001b[0;32mpandas/_libs/hashtable_class_helper.pxi\u001b[0m in \u001b[0;36mpandas._libs.hashtable.PyObjectHashTable.get_item\u001b[0;34m()\u001b[0m\n",
      "\u001b[0;32mpandas/_libs/hashtable_class_helper.pxi\u001b[0m in \u001b[0;36mpandas._libs.hashtable.PyObjectHashTable.get_item\u001b[0;34m()\u001b[0m\n",
      "\u001b[0;31mKeyError\u001b[0m: 'length_quote'",
      "\nThe above exception was the direct cause of the following exception:\n",
      "\u001b[0;31mKeyError\u001b[0m                                  Traceback (most recent call last)",
      "\u001b[0;32m/var/folders/7g/2ds3y3yd6319x1125r61pg1c0000gn/T/ipykernel_1990/2397387177.py\u001b[0m in \u001b[0;36m<module>\u001b[0;34m\u001b[0m\n\u001b[0;32m----> 1\u001b[0;31m \u001b[0mmean_quote_lenght_D\u001b[0m \u001b[0;34m=\u001b[0m \u001b[0mlabeled_df\u001b[0m\u001b[0;34m[\u001b[0m\u001b[0mlabeled_df\u001b[0m\u001b[0;34m[\u001b[0m\u001b[0;34m\"party_label\"\u001b[0m\u001b[0;34m]\u001b[0m \u001b[0;34m==\u001b[0m \u001b[0;34m\"D\"\u001b[0m\u001b[0;34m]\u001b[0m\u001b[0;34m[\u001b[0m\u001b[0;34m\"length_quote\"\u001b[0m\u001b[0;34m]\u001b[0m\u001b[0;34m.\u001b[0m\u001b[0mmean\u001b[0m\u001b[0;34m(\u001b[0m\u001b[0;34m)\u001b[0m\u001b[0;34m\u001b[0m\u001b[0;34m\u001b[0m\u001b[0m\n\u001b[0m\u001b[1;32m      2\u001b[0m \u001b[0mmean_quote_lenght_R\u001b[0m \u001b[0;34m=\u001b[0m \u001b[0mlabeled_df\u001b[0m\u001b[0;34m[\u001b[0m\u001b[0mlabeled_df\u001b[0m\u001b[0;34m[\u001b[0m\u001b[0;34m\"party_label\"\u001b[0m\u001b[0;34m]\u001b[0m \u001b[0;34m==\u001b[0m \u001b[0;34m\"R\"\u001b[0m\u001b[0;34m]\u001b[0m\u001b[0;34m[\u001b[0m\u001b[0;34m\"length_quote\"\u001b[0m\u001b[0;34m]\u001b[0m\u001b[0;34m.\u001b[0m\u001b[0mmean\u001b[0m\u001b[0;34m(\u001b[0m\u001b[0;34m)\u001b[0m\u001b[0;34m\u001b[0m\u001b[0;34m\u001b[0m\u001b[0m\n\u001b[1;32m      3\u001b[0m \u001b[0mprint\u001b[0m\u001b[0;34m(\u001b[0m\u001b[0mmean_quote_lenght_D\u001b[0m\u001b[0;34m)\u001b[0m\u001b[0;34m\u001b[0m\u001b[0;34m\u001b[0m\u001b[0m\n\u001b[1;32m      4\u001b[0m \u001b[0mprint\u001b[0m\u001b[0;34m(\u001b[0m\u001b[0mmean_quote_lenght_R\u001b[0m\u001b[0;34m)\u001b[0m\u001b[0;34m\u001b[0m\u001b[0;34m\u001b[0m\u001b[0m\n",
      "\u001b[0;32m/usr/local/lib/python3.7/site-packages/pandas/core/frame.py\u001b[0m in \u001b[0;36m__getitem__\u001b[0;34m(self, key)\u001b[0m\n\u001b[1;32m   3453\u001b[0m             \u001b[0;32mif\u001b[0m \u001b[0mself\u001b[0m\u001b[0;34m.\u001b[0m\u001b[0mcolumns\u001b[0m\u001b[0;34m.\u001b[0m\u001b[0mnlevels\u001b[0m \u001b[0;34m>\u001b[0m \u001b[0;36m1\u001b[0m\u001b[0;34m:\u001b[0m\u001b[0;34m\u001b[0m\u001b[0;34m\u001b[0m\u001b[0m\n\u001b[1;32m   3454\u001b[0m                 \u001b[0;32mreturn\u001b[0m \u001b[0mself\u001b[0m\u001b[0;34m.\u001b[0m\u001b[0m_getitem_multilevel\u001b[0m\u001b[0;34m(\u001b[0m\u001b[0mkey\u001b[0m\u001b[0;34m)\u001b[0m\u001b[0;34m\u001b[0m\u001b[0;34m\u001b[0m\u001b[0m\n\u001b[0;32m-> 3455\u001b[0;31m             \u001b[0mindexer\u001b[0m \u001b[0;34m=\u001b[0m \u001b[0mself\u001b[0m\u001b[0;34m.\u001b[0m\u001b[0mcolumns\u001b[0m\u001b[0;34m.\u001b[0m\u001b[0mget_loc\u001b[0m\u001b[0;34m(\u001b[0m\u001b[0mkey\u001b[0m\u001b[0;34m)\u001b[0m\u001b[0;34m\u001b[0m\u001b[0;34m\u001b[0m\u001b[0m\n\u001b[0m\u001b[1;32m   3456\u001b[0m             \u001b[0;32mif\u001b[0m \u001b[0mis_integer\u001b[0m\u001b[0;34m(\u001b[0m\u001b[0mindexer\u001b[0m\u001b[0;34m)\u001b[0m\u001b[0;34m:\u001b[0m\u001b[0;34m\u001b[0m\u001b[0;34m\u001b[0m\u001b[0m\n\u001b[1;32m   3457\u001b[0m                 \u001b[0mindexer\u001b[0m \u001b[0;34m=\u001b[0m \u001b[0;34m[\u001b[0m\u001b[0mindexer\u001b[0m\u001b[0;34m]\u001b[0m\u001b[0;34m\u001b[0m\u001b[0;34m\u001b[0m\u001b[0m\n",
      "\u001b[0;32m/usr/local/lib/python3.7/site-packages/pandas/core/indexes/base.py\u001b[0m in \u001b[0;36mget_loc\u001b[0;34m(self, key, method, tolerance)\u001b[0m\n\u001b[1;32m   3361\u001b[0m                 \u001b[0;32mreturn\u001b[0m \u001b[0mself\u001b[0m\u001b[0;34m.\u001b[0m\u001b[0m_engine\u001b[0m\u001b[0;34m.\u001b[0m\u001b[0mget_loc\u001b[0m\u001b[0;34m(\u001b[0m\u001b[0mcasted_key\u001b[0m\u001b[0;34m)\u001b[0m\u001b[0;34m\u001b[0m\u001b[0;34m\u001b[0m\u001b[0m\n\u001b[1;32m   3362\u001b[0m             \u001b[0;32mexcept\u001b[0m \u001b[0mKeyError\u001b[0m \u001b[0;32mas\u001b[0m \u001b[0merr\u001b[0m\u001b[0;34m:\u001b[0m\u001b[0;34m\u001b[0m\u001b[0;34m\u001b[0m\u001b[0m\n\u001b[0;32m-> 3363\u001b[0;31m                 \u001b[0;32mraise\u001b[0m \u001b[0mKeyError\u001b[0m\u001b[0;34m(\u001b[0m\u001b[0mkey\u001b[0m\u001b[0;34m)\u001b[0m \u001b[0;32mfrom\u001b[0m \u001b[0merr\u001b[0m\u001b[0;34m\u001b[0m\u001b[0;34m\u001b[0m\u001b[0m\n\u001b[0m\u001b[1;32m   3364\u001b[0m \u001b[0;34m\u001b[0m\u001b[0m\n\u001b[1;32m   3365\u001b[0m         \u001b[0;32mif\u001b[0m \u001b[0mis_scalar\u001b[0m\u001b[0;34m(\u001b[0m\u001b[0mkey\u001b[0m\u001b[0;34m)\u001b[0m \u001b[0;32mand\u001b[0m \u001b[0misna\u001b[0m\u001b[0;34m(\u001b[0m\u001b[0mkey\u001b[0m\u001b[0;34m)\u001b[0m \u001b[0;32mand\u001b[0m \u001b[0;32mnot\u001b[0m \u001b[0mself\u001b[0m\u001b[0;34m.\u001b[0m\u001b[0mhasnans\u001b[0m\u001b[0;34m:\u001b[0m\u001b[0;34m\u001b[0m\u001b[0;34m\u001b[0m\u001b[0m\n",
      "\u001b[0;31mKeyError\u001b[0m: 'length_quote'"
     ]
    }
   ],
   "source": [
    "mean_quote_lenght_D = labeled_df[labeled_df[\"party_label\"] == \"D\"][\"length_quote\"].mean()\n",
    "mean_quote_lenght_R = labeled_df[labeled_df[\"party_label\"] == \"R\"][\"length_quote\"].mean()\n",
    "print(mean_quote_lenght_D)\n",
    "print(mean_quote_lenght_R)"
   ]
  },
  {
   "cell_type": "markdown",
   "id": "968ad77f-cf6a-4baf-9b9c-36425e6aa1d8",
   "metadata": {
    "tags": []
   },
   "source": [
    "## Correlations"
   ]
  },
  {
   "cell_type": "markdown",
   "id": "c966145e-ccfa-4e73-aa2d-7f25c0efdbda",
   "metadata": {
    "jp-MarkdownHeadingCollapsed": true,
    "tags": []
   },
   "source": [
    "#### Most frequent of quotes => correlated to presidential events"
   ]
  },
  {
   "cell_type": "code",
   "execution_count": null,
   "id": "9e0f2623-0420-47c7-b3f9-69b91f5d53e6",
   "metadata": {},
   "outputs": [],
   "source": [
    "# get top 10 most frequent dates of quotes\n",
    "n = 10\n",
    "days_with_most_quotes = lil_df['date'].value_counts()[:n].index.tolist()\n",
    "days_with_most_quotes"
   ]
  },
  {
   "cell_type": "code",
   "execution_count": null,
   "id": "e864d56f-2d46-482b-8366-c0d579b672c8",
   "metadata": {},
   "outputs": [],
   "source": [
    "#As we can see, the first is february 04 and 05. \n",
    "#(February 5, 2020). \"Trump impeachment vote live updates: Sharply divided Senate acquits Trump on both articles\"\n",
    "#\"United States President Donald Trump is acquitted by the United States Senate in his first impeachment trial.\"\n",
    "\n",
    "#2020-01-15 -> the Pentagon construction was completed.\n",
    "#2020-01-30 -> President Trump signed the U.S.-Mexico-Canada (USMCA) trade pact.\n",
    "#2020-02-07 -> 1A President Trump is acquitted\n",
    "events = {datetime.date(2020, 2, 5):'T. Imp.',\n",
    "          datetime.date(2020, 1, 15): 'Pentagon',\n",
    "          datetime.date(2020, 1, 30):'U-M-C'}"
   ]
  },
  {
   "cell_type": "code",
   "execution_count": null,
   "id": "575c672a-a151-4030-aeb3-73d12c8b5b85",
   "metadata": {},
   "outputs": [],
   "source": []
  },
  {
   "cell_type": "markdown",
   "id": "eb559615-2b03-46a4-9e28-f127166b7f05",
   "metadata": {
    "tags": []
   },
   "source": [
    "#### Date of senators quotes popular on presidentials month?"
   ]
  },
  {
   "cell_type": "code",
   "execution_count": null,
   "id": "a33dbd0a-4ce2-487c-a8c4-838c562b9b76",
   "metadata": {},
   "outputs": [],
   "source": [
    "#remove empty values\n",
    "senators_df = lil_df[lil_df[\"US_congress_bio_ID\"] != None]\n",
    "senators_df = lil_df[~lil_df[\"US_congress_bio_ID\"].isnull()]\n",
    "len(senators_df)"
   ]
  },
  {
   "cell_type": "code",
   "execution_count": null,
   "id": "c3e3525f-1c42-4880-961c-7b30b2da8da8",
   "metadata": {},
   "outputs": [],
   "source": [
    "bins = 100\n",
    "hist = plt.hist(senators_df[\"date\"].dt.date,bins)\n",
    "plt.xlim([datetime.date(2020, 1, 1), datetime.date(2020,4, 1)])\n",
    "plt.xticks([list(events)[i] for i in range(0,len(list(events)))],[list(events.values())[i] for i in range(0,len(list(events)))],fontsize=7)\n",
    "plt.show()"
   ]
  },
  {
   "cell_type": "code",
   "execution_count": null,
   "id": "759f0651-fb98-4950-a7a6-20f06aa63676",
   "metadata": {},
   "outputs": [],
   "source": [
    "##non_senators_df_for_comparison\n",
    "non_senators_df = lil_df[lil_df[\"US_congress_bio_ID\"] == None]\n",
    "non_senators_df = lil_df[lil_df[\"US_congress_bio_ID\"].isnull()]\n",
    "len(non_senators_df)"
   ]
  },
  {
   "cell_type": "code",
   "execution_count": null,
   "id": "0e687d60-1415-419a-8977-9cd8acdaf281",
   "metadata": {},
   "outputs": [],
   "source": [
    "bins = 100\n",
    "hist = plt.hist(non_senators_df[\"date\"].dt.date,bins)\n",
    "plt.xlim([datetime.date(2020, 1, 1), datetime.date(2020,4, 1)])\n",
    "plt.xticks([list(events)[i] for i in range(0,len(list(events)))],[list(events.values())[i] for i in range(0,len(list(events)))],fontsize=7)\n",
    "plt.show()"
   ]
  },
  {
   "cell_type": "markdown",
   "id": "aa9cba07-5175-43a7-9eb3-f984fe4b1451",
   "metadata": {},
   "source": [
    "From here we can notice that between senators and non senators there is not so much difference in the amount of quotes"
   ]
  }
 ],
 "metadata": {
  "kernelspec": {
   "display_name": "Python 3 (ipykernel)",
   "language": "python",
   "name": "python3"
  },
  "language_info": {
   "codemirror_mode": {
    "name": "ipython",
    "version": 3
   },
   "file_extension": ".py",
   "mimetype": "text/x-python",
   "name": "python",
   "nbconvert_exporter": "python",
   "pygments_lexer": "ipython3",
   "version": "3.7.11"
  }
 },
 "nbformat": 4,
 "nbformat_minor": 5
}
