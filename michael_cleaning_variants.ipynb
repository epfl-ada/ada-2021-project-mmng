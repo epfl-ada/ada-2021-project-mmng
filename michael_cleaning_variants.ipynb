{
 "cells": [
  {
   "cell_type": "code",
   "execution_count": 198,
   "metadata": {},
   "outputs": [
    {
     "name": "stdout",
     "output_type": "stream",
     "text": [
      "The autoreload extension is already loaded. To reload it, use:\n",
      "  %reload_ext autoreload\n"
     ]
    }
   ],
   "source": [
    "from helpers import *\n",
    "\n",
    "import sys\n",
    "\n",
    "import bz2\n",
    "import json\n",
    "\n",
    "import numpy as np\n",
    "import scipy\n",
    "\n",
    "import pandas as pd\n",
    "\n",
    "from sklearn.feature_extraction.text import TfidfVectorizer\n",
    "\n",
    "from sklearn.pipeline import Pipeline\n",
    "\n",
    "from sklearn.naive_bayes import MultinomialNB\n",
    "from sklearn.linear_model import LogisticRegression\n",
    "from sklearn.ensemble import RandomForestClassifier\n",
    "from sklearn.ensemble import GradientBoostingClassifier\n",
    "from sklearn.linear_model import SGDClassifier\n",
    "from sklearn.neural_network import MLPClassifier\n",
    "\n",
    "from sklearn.model_selection import cross_val_score, cross_validate\n",
    "\n",
    "%load_ext autoreload\n",
    "%autoreload 2"
   ]
  },
  {
   "cell_type": "code",
   "execution_count": 199,
   "metadata": {},
   "outputs": [],
   "source": [
    "# XGBoost\n",
    "\n",
    "from xgboost import XGBClassifier"
   ]
  },
  {
   "cell_type": "code",
   "execution_count": 200,
   "metadata": {},
   "outputs": [],
   "source": [
    "# Printing without trunctions\n",
    "# np.set_printoptions(threshold=sys.maxsize)\n",
    "pd.set_option('display.max_colwidth', None)"
   ]
  },
  {
   "cell_type": "code",
   "execution_count": 201,
   "metadata": {},
   "outputs": [
    {
     "data": {
      "text/html": [
       "<div>\n",
       "<style scoped>\n",
       "    .dataframe tbody tr th:only-of-type {\n",
       "        vertical-align: middle;\n",
       "    }\n",
       "\n",
       "    .dataframe tbody tr th {\n",
       "        vertical-align: top;\n",
       "    }\n",
       "\n",
       "    .dataframe thead th {\n",
       "        text-align: right;\n",
       "    }\n",
       "</style>\n",
       "<table border=\"1\" class=\"dataframe\">\n",
       "  <thead>\n",
       "    <tr style=\"text-align: right;\">\n",
       "      <th></th>\n",
       "      <th>quoteID</th>\n",
       "      <th>quotation</th>\n",
       "      <th>speaker</th>\n",
       "      <th>date</th>\n",
       "      <th>numOccurrences</th>\n",
       "      <th>id</th>\n",
       "      <th>party_label</th>\n",
       "      <th>US_congress_bio_ID</th>\n",
       "      <th>quotation_cleanA</th>\n",
       "      <th>quotation_cleanB</th>\n",
       "      <th>quotation_cleanC</th>\n",
       "      <th>quotation_cleanD</th>\n",
       "      <th>quotation_cleanE</th>\n",
       "    </tr>\n",
       "  </thead>\n",
       "  <tbody>\n",
       "    <tr>\n",
       "      <th>0</th>\n",
       "      <td>2020-01-16-000088</td>\n",
       "      <td>[ Department of Homeland Security ] was livid and strongly urged to have the agenda pulled.</td>\n",
       "      <td>sue myrick</td>\n",
       "      <td>2020-01-16 12:00:13</td>\n",
       "      <td>1</td>\n",
       "      <td>Q367796</td>\n",
       "      <td>R</td>\n",
       "      <td>M001134</td>\n",
       "      <td>[ Department of Homeland Security ] was livid and strongly urged to have the agenda pulled.</td>\n",
       "      <td>department of homeland security was livid and strongly urged to have the agenda pulled</td>\n",
       "      <td>department homeland security livid strongly urged agenda pulled</td>\n",
       "      <td>depart homeland secur livid strong urg agenda pull</td>\n",
       "      <td>department homeland security livid strongly urged agenda pulled</td>\n",
       "    </tr>\n",
       "    <tr>\n",
       "      <th>1</th>\n",
       "      <td>2020-01-26-000499</td>\n",
       "      <td>a few of the candidates who will do better in our part of the world</td>\n",
       "      <td>dave loebsack</td>\n",
       "      <td>2020-01-26 13:21:36</td>\n",
       "      <td>11</td>\n",
       "      <td>Q771586</td>\n",
       "      <td>D</td>\n",
       "      <td>L000565</td>\n",
       "      <td>a few of the candidates who will do better in our part of the world</td>\n",
       "      <td>a few of the candidates who will do better in our part of the world</td>\n",
       "      <td>candidates better part world</td>\n",
       "      <td>candid better part world</td>\n",
       "      <td>candidate better part world</td>\n",
       "    </tr>\n",
       "    <tr>\n",
       "      <th>2</th>\n",
       "      <td>2020-01-26-040663</td>\n",
       "      <td>The generational thing is important, quite honestly. I think we have to do everything we can to move this party forward and Pete is the future of the party,</td>\n",
       "      <td>dave loebsack</td>\n",
       "      <td>2020-01-26 13:21:36</td>\n",
       "      <td>11</td>\n",
       "      <td>Q771586</td>\n",
       "      <td>D</td>\n",
       "      <td>L000565</td>\n",
       "      <td>The generational thing is important, quite honestly. I think we have to do everything we can to move this party forward and Pete is the future of the party,</td>\n",
       "      <td>the generational thing is important quite honestly i think we have to do everything we can to move this party forward and pete is the future of the party</td>\n",
       "      <td>generational thing important quite honestly think everything move party forward pete future party</td>\n",
       "      <td>generat thing import quit honest think everyth move parti forward pete futur parti</td>\n",
       "      <td>generational thing important quite honestly think everything move party forward pete future party</td>\n",
       "    </tr>\n",
       "    <tr>\n",
       "      <th>3</th>\n",
       "      <td>2020-01-20-000982</td>\n",
       "      <td>a host of other protections</td>\n",
       "      <td>debbie lesko</td>\n",
       "      <td>2020-01-20 15:32:48</td>\n",
       "      <td>1</td>\n",
       "      <td>Q16731415</td>\n",
       "      <td>R</td>\n",
       "      <td>L000589</td>\n",
       "      <td>a host of other protections</td>\n",
       "      <td>a host of other protections</td>\n",
       "      <td>host protections</td>\n",
       "      <td>host protect</td>\n",
       "      <td>host protection</td>\n",
       "    </tr>\n",
       "    <tr>\n",
       "      <th>4</th>\n",
       "      <td>2020-01-09-060095</td>\n",
       "      <td>No, are you kidding? The way that this place leaks around here?</td>\n",
       "      <td>debbie lesko</td>\n",
       "      <td>2020-01-09 23:15:21</td>\n",
       "      <td>1</td>\n",
       "      <td>Q16731415</td>\n",
       "      <td>R</td>\n",
       "      <td>L000589</td>\n",
       "      <td>No, are you kidding? The way that this place leaks around here?</td>\n",
       "      <td>no are you kidding the way that this place leaks around here</td>\n",
       "      <td>kidding way place leaks around</td>\n",
       "      <td>kid way place leak around</td>\n",
       "      <td>kidding way place leak around</td>\n",
       "    </tr>\n",
       "    <tr>\n",
       "      <th>...</th>\n",
       "      <td>...</td>\n",
       "      <td>...</td>\n",
       "      <td>...</td>\n",
       "      <td>...</td>\n",
       "      <td>...</td>\n",
       "      <td>...</td>\n",
       "      <td>...</td>\n",
       "      <td>...</td>\n",
       "      <td>...</td>\n",
       "      <td>...</td>\n",
       "      <td>...</td>\n",
       "      <td>...</td>\n",
       "      <td>...</td>\n",
       "    </tr>\n",
       "    <tr>\n",
       "      <th>349141</th>\n",
       "      <td>2020-02-10-100845</td>\n",
       "      <td>We're just worried about making sure we keep that balance between expression of our rights and public safety,</td>\n",
       "      <td>sherrie sprenger</td>\n",
       "      <td>2020-02-10 00:00:00</td>\n",
       "      <td>1</td>\n",
       "      <td>Q7495360</td>\n",
       "      <td>R</td>\n",
       "      <td>None</td>\n",
       "      <td>We're just worried about making sure we keep that balance between expression of our rights and public safety,</td>\n",
       "      <td>we re just worried about making sure we keep that balance between expression of our rights and public safety</td>\n",
       "      <td>worried making sure keep balance expression rights public safety</td>\n",
       "      <td>worri make sure keep balanc express right public safeti</td>\n",
       "      <td>worried making sure keep balance expression right public safety</td>\n",
       "    </tr>\n",
       "    <tr>\n",
       "      <th>349142</th>\n",
       "      <td>2020-03-16-079753</td>\n",
       "      <td>We've all embraced strict proper hygiene procedures that all of you by now have heard a hundred times. But believe me, they work,</td>\n",
       "      <td>robert abrams</td>\n",
       "      <td>2020-03-16 12:00:00</td>\n",
       "      <td>2</td>\n",
       "      <td>Q2156314</td>\n",
       "      <td>D</td>\n",
       "      <td>None</td>\n",
       "      <td>We've all embraced strict proper hygiene procedures that all of you by now have heard a hundred times. But believe me, they work,</td>\n",
       "      <td>we ve all embraced strict proper hygiene procedures that all of you by now have heard a hundred times but believe me they work</td>\n",
       "      <td>embraced strict proper hygiene procedures heard hundred times believe work</td>\n",
       "      <td>embrac strict proper hygien procedur heard hundr time believ work</td>\n",
       "      <td>embraced strict proper hygiene procedure heard hundred time believe work</td>\n",
       "    </tr>\n",
       "    <tr>\n",
       "      <th>349143</th>\n",
       "      <td>2020-01-13-091997</td>\n",
       "      <td>What's important is that we keep moving forward.</td>\n",
       "      <td>laurie jinkins</td>\n",
       "      <td>2020-01-13 19:51:15</td>\n",
       "      <td>1</td>\n",
       "      <td>Q6501617</td>\n",
       "      <td>D</td>\n",
       "      <td>None</td>\n",
       "      <td>What's important is that we keep moving forward.</td>\n",
       "      <td>what s important is that we keep moving forward</td>\n",
       "      <td>important keep moving forward</td>\n",
       "      <td>import keep move forward</td>\n",
       "      <td>important keep moving forward</td>\n",
       "    </tr>\n",
       "    <tr>\n",
       "      <th>349144</th>\n",
       "      <td>2020-02-20-093793</td>\n",
       "      <td>When they want a bill, they bring the bill to the floor.</td>\n",
       "      <td>j.t. wilcox</td>\n",
       "      <td>2020-02-20 22:12:45</td>\n",
       "      <td>1</td>\n",
       "      <td>Q6104393</td>\n",
       "      <td>R</td>\n",
       "      <td>None</td>\n",
       "      <td>When they want a bill, they bring the bill to the floor.</td>\n",
       "      <td>when they want a bill they bring the bill to the floor</td>\n",
       "      <td>want bill bring bill floor</td>\n",
       "      <td>want bill bring bill floor</td>\n",
       "      <td>want bill bring bill floor</td>\n",
       "    </tr>\n",
       "    <tr>\n",
       "      <th>349145</th>\n",
       "      <td>2020-02-09-057933</td>\n",
       "      <td>Who will respect different types of people, different opinions, different points of view. And won't talk down to anybody, won't make fun of anybody.</td>\n",
       "      <td>susan wild</td>\n",
       "      <td>2020-02-09 15:08:23</td>\n",
       "      <td>1</td>\n",
       "      <td>Q58323072</td>\n",
       "      <td>D</td>\n",
       "      <td>W000826</td>\n",
       "      <td>Who will respect different types of people, different opinions, different points of view. And won't talk down to anybody, won't make fun of anybody.</td>\n",
       "      <td>who will respect different types of people different opinions different points of view and won t talk down to anybody won t make fun of anybody</td>\n",
       "      <td>respect different types people different opinions different points view talk anybody make fun anybody</td>\n",
       "      <td>respect differ type peopl differ opinion differ point view talk anybodi make fun anybodi</td>\n",
       "      <td>respect different type people different opinion different point view talk anybody make fun anybody</td>\n",
       "    </tr>\n",
       "  </tbody>\n",
       "</table>\n",
       "<p>349146 rows × 13 columns</p>\n",
       "</div>"
      ],
      "text/plain": [
       "                  quoteID  \\\n",
       "0       2020-01-16-000088   \n",
       "1       2020-01-26-000499   \n",
       "2       2020-01-26-040663   \n",
       "3       2020-01-20-000982   \n",
       "4       2020-01-09-060095   \n",
       "...                   ...   \n",
       "349141  2020-02-10-100845   \n",
       "349142  2020-03-16-079753   \n",
       "349143  2020-01-13-091997   \n",
       "349144  2020-02-20-093793   \n",
       "349145  2020-02-09-057933   \n",
       "\n",
       "                                                                                                                                                           quotation  \\\n",
       "0                                                                        [ Department of Homeland Security ] was livid and strongly urged to have the agenda pulled.   \n",
       "1                                                                                                a few of the candidates who will do better in our part of the world   \n",
       "2       The generational thing is important, quite honestly. I think we have to do everything we can to move this party forward and Pete is the future of the party,   \n",
       "3                                                                                                                                        a host of other protections   \n",
       "4                                                                                                    No, are you kidding? The way that this place leaks around here?   \n",
       "...                                                                                                                                                              ...   \n",
       "349141                                                 We're just worried about making sure we keep that balance between expression of our rights and public safety,   \n",
       "349142                             We've all embraced strict proper hygiene procedures that all of you by now have heard a hundred times. But believe me, they work,   \n",
       "349143                                                                                                              What's important is that we keep moving forward.   \n",
       "349144                                                                                                      When they want a bill, they bring the bill to the floor.   \n",
       "349145          Who will respect different types of people, different opinions, different points of view. And won't talk down to anybody, won't make fun of anybody.   \n",
       "\n",
       "                 speaker                date  numOccurrences         id  \\\n",
       "0             sue myrick 2020-01-16 12:00:13               1    Q367796   \n",
       "1          dave loebsack 2020-01-26 13:21:36              11    Q771586   \n",
       "2          dave loebsack 2020-01-26 13:21:36              11    Q771586   \n",
       "3           debbie lesko 2020-01-20 15:32:48               1  Q16731415   \n",
       "4           debbie lesko 2020-01-09 23:15:21               1  Q16731415   \n",
       "...                  ...                 ...             ...        ...   \n",
       "349141  sherrie sprenger 2020-02-10 00:00:00               1   Q7495360   \n",
       "349142     robert abrams 2020-03-16 12:00:00               2   Q2156314   \n",
       "349143    laurie jinkins 2020-01-13 19:51:15               1   Q6501617   \n",
       "349144       j.t. wilcox 2020-02-20 22:12:45               1   Q6104393   \n",
       "349145        susan wild 2020-02-09 15:08:23               1  Q58323072   \n",
       "\n",
       "       party_label US_congress_bio_ID  \\\n",
       "0                R            M001134   \n",
       "1                D            L000565   \n",
       "2                D            L000565   \n",
       "3                R            L000589   \n",
       "4                R            L000589   \n",
       "...            ...                ...   \n",
       "349141           R               None   \n",
       "349142           D               None   \n",
       "349143           D               None   \n",
       "349144           R               None   \n",
       "349145           D            W000826   \n",
       "\n",
       "                                                                                                                                                    quotation_cleanA  \\\n",
       "0                                                                        [ Department of Homeland Security ] was livid and strongly urged to have the agenda pulled.   \n",
       "1                                                                                                a few of the candidates who will do better in our part of the world   \n",
       "2       The generational thing is important, quite honestly. I think we have to do everything we can to move this party forward and Pete is the future of the party,   \n",
       "3                                                                                                                                        a host of other protections   \n",
       "4                                                                                                    No, are you kidding? The way that this place leaks around here?   \n",
       "...                                                                                                                                                              ...   \n",
       "349141                                                 We're just worried about making sure we keep that balance between expression of our rights and public safety,   \n",
       "349142                             We've all embraced strict proper hygiene procedures that all of you by now have heard a hundred times. But believe me, they work,   \n",
       "349143                                                                                                              What's important is that we keep moving forward.   \n",
       "349144                                                                                                      When they want a bill, they bring the bill to the floor.   \n",
       "349145          Who will respect different types of people, different opinions, different points of view. And won't talk down to anybody, won't make fun of anybody.   \n",
       "\n",
       "                                                                                                                                                 quotation_cleanB  \\\n",
       "0                                                                          department of homeland security was livid and strongly urged to have the agenda pulled   \n",
       "1                                                                                             a few of the candidates who will do better in our part of the world   \n",
       "2       the generational thing is important quite honestly i think we have to do everything we can to move this party forward and pete is the future of the party   \n",
       "3                                                                                                                                     a host of other protections   \n",
       "4                                                                                                    no are you kidding the way that this place leaks around here   \n",
       "...                                                                                                                                                           ...   \n",
       "349141                                               we re just worried about making sure we keep that balance between expression of our rights and public safety   \n",
       "349142                             we ve all embraced strict proper hygiene procedures that all of you by now have heard a hundred times but believe me they work   \n",
       "349143                                                                                                            what s important is that we keep moving forward   \n",
       "349144                                                                                                     when they want a bill they bring the bill to the floor   \n",
       "349145            who will respect different types of people different opinions different points of view and won t talk down to anybody won t make fun of anybody   \n",
       "\n",
       "                                                                                             quotation_cleanC  \\\n",
       "0                                             department homeland security livid strongly urged agenda pulled   \n",
       "1                                                                                candidates better part world   \n",
       "2           generational thing important quite honestly think everything move party forward pete future party   \n",
       "3                                                                                            host protections   \n",
       "4                                                                              kidding way place leaks around   \n",
       "...                                                                                                       ...   \n",
       "349141                                       worried making sure keep balance expression rights public safety   \n",
       "349142                             embraced strict proper hygiene procedures heard hundred times believe work   \n",
       "349143                                                                          important keep moving forward   \n",
       "349144                                                                             want bill bring bill floor   \n",
       "349145  respect different types people different opinions different points view talk anybody make fun anybody   \n",
       "\n",
       "                                                                                quotation_cleanD  \\\n",
       "0                                             depart homeland secur livid strong urg agenda pull   \n",
       "1                                                                       candid better part world   \n",
       "2             generat thing import quit honest think everyth move parti forward pete futur parti   \n",
       "3                                                                                   host protect   \n",
       "4                                                                      kid way place leak around   \n",
       "...                                                                                          ...   \n",
       "349141                                   worri make sure keep balanc express right public safeti   \n",
       "349142                         embrac strict proper hygien procedur heard hundr time believ work   \n",
       "349143                                                                  import keep move forward   \n",
       "349144                                                                want bill bring bill floor   \n",
       "349145  respect differ type peopl differ opinion differ point view talk anybodi make fun anybodi   \n",
       "\n",
       "                                                                                          quotation_cleanE  \n",
       "0                                          department homeland security livid strongly urged agenda pulled  \n",
       "1                                                                              candidate better part world  \n",
       "2        generational thing important quite honestly think everything move party forward pete future party  \n",
       "3                                                                                          host protection  \n",
       "4                                                                            kidding way place leak around  \n",
       "...                                                                                                    ...  \n",
       "349141                                     worried making sure keep balance expression right public safety  \n",
       "349142                            embraced strict proper hygiene procedure heard hundred time believe work  \n",
       "349143                                                                       important keep moving forward  \n",
       "349144                                                                          want bill bring bill floor  \n",
       "349145  respect different type people different opinion different point view talk anybody make fun anybody  \n",
       "\n",
       "[349146 rows x 13 columns]"
      ]
     },
     "execution_count": 201,
     "metadata": {},
     "output_type": "execute_result"
    }
   ],
   "source": [
    "path = fixpath(QUOTES_2020_LABELED_CLEANED_VARIANTS_MINI)\n",
    "# path = fixpath(QUOTES_2020_LABELED_CLEANED_VARIANTS)\n",
    "\n",
    "df_raw = pd.read_json(path, orient='records', lines=True)\n",
    "df_raw"
   ]
  },
  {
   "cell_type": "code",
   "execution_count": 202,
   "metadata": {},
   "outputs": [],
   "source": [
    "df = df_raw.copy()"
   ]
  },
  {
   "cell_type": "code",
   "execution_count": 203,
   "metadata": {},
   "outputs": [
    {
     "data": {
      "text/plain": [
       "64.0"
      ]
     },
     "execution_count": 203,
     "metadata": {},
     "output_type": "execute_result"
    }
   ],
   "source": [
    "lengths_of_df = df['quotation_cleanE'].apply(lambda x: len(x))\n",
    "lengths_of_df.median()"
   ]
  },
  {
   "cell_type": "code",
   "execution_count": 204,
   "metadata": {},
   "outputs": [
    {
     "data": {
      "text/plain": [
       "(349146, 13)"
      ]
     },
     "execution_count": 204,
     "metadata": {},
     "output_type": "execute_result"
    }
   ],
   "source": [
    "# df = df[np.logical_and(lengths_of_df > lengths_of_df.quantile(0.3), lengths_of_df < lengths_of_df.quantile(0.9))]\n",
    "f = df[lengths_of_df > lengths_of_df.quantile(0.2)]\n",
    "df.shape"
   ]
  },
  {
   "cell_type": "code",
   "execution_count": 205,
   "metadata": {},
   "outputs": [
    {
     "data": {
      "text/plain": [
       "D    218894\n",
       "R    130252\n",
       "Name: party_label, dtype: int64"
      ]
     },
     "execution_count": 205,
     "metadata": {},
     "output_type": "execute_result"
    }
   ],
   "source": [
    "df['party_label'].value_counts()"
   ]
  },
  {
   "cell_type": "code",
   "execution_count": 206,
   "metadata": {},
   "outputs": [],
   "source": [
    "def downsample(df:pd.DataFrame, label_col_name:str, force_sample_n=None) -> pd.DataFrame:\n",
    "    # find the number of observations in the smallest group\n",
    "\n",
    "    if force_sample_n != None:\n",
    "        nmin = force_sample_n\n",
    "    else:\n",
    "        nmin = df[label_col_name].value_counts().min()\n",
    "    return (df\n",
    "            # split the dataframe per group\n",
    "            .groupby(label_col_name)\n",
    "            # sample nmin observations from each group\n",
    "            .apply(lambda x: x.sample(nmin))\n",
    "            # recombine the dataframes\n",
    "            .reset_index(drop=True)\n",
    "            )\n",
    "\n",
    "df = downsample(df, 'party_label')\n",
    "# df = downsample(df, 'party_label', force_sample_n=5000)"
   ]
  },
  {
   "cell_type": "code",
   "execution_count": 207,
   "metadata": {},
   "outputs": [
    {
     "data": {
      "text/plain": [
       "D    130252\n",
       "R    130252\n",
       "Name: party_label, dtype: int64"
      ]
     },
     "execution_count": 207,
     "metadata": {},
     "output_type": "execute_result"
    }
   ],
   "source": [
    "df['party_label'].value_counts()"
   ]
  },
  {
   "cell_type": "markdown",
   "metadata": {},
   "source": [
    "### Example usage of sklean Model"
   ]
  },
  {
   "cell_type": "code",
   "execution_count": 148,
   "metadata": {},
   "outputs": [
    {
     "data": {
      "text/plain": [
       "(array([1, 1, 1, ..., 0, 0, 0]),\n",
       " <191516x28839 sparse matrix of type '<class 'numpy.float64'>'\n",
       " \twith 2464815 stored elements in Compressed Sparse Row format>)"
      ]
     },
     "execution_count": 148,
     "metadata": {},
     "output_type": "execute_result"
    }
   ],
   "source": [
    "X = TfidfVectorizer().fit_transform(df['quotation_cleanD'].values)\n",
    "y = df['party_label'].values\n",
    "y = np.array([0 if label=='R' else 1 for label in y])\n",
    "y, X"
   ]
  },
  {
   "cell_type": "code",
   "execution_count": 149,
   "metadata": {},
   "outputs": [
    {
     "name": "stdout",
     "output_type": "stream",
     "text": [
      "Avg: 0.671\tStd: 0.003\n"
     ]
    }
   ],
   "source": [
    "clf = MultinomialNB()\n",
    "# clf.fit(X, y)\n",
    "scores = cross_val_score(clf, X, y, cv=5)\n",
    "\n",
    "print(f'Avg: {scores.mean():.3f}\\tStd: {scores.std():.3f}')"
   ]
  },
  {
   "cell_type": "code",
   "execution_count": 150,
   "metadata": {},
   "outputs": [
    {
     "data": {
      "text/plain": [
       "{'fit_time': (0.04200975100199381, 0.007753792517962397),\n",
       " 'score_time': (0.05926903088887533, 0.004610906770016475),\n",
       " 'test_accuracy': (0.6679389794266553, 0.0019415389637946878),\n",
       " 'test_precision': (0.6683144656132046, 0.0022751909329718246),\n",
       " 'test_recall': (0.6668372176826142, 0.0013386032230737837),\n",
       " 'test_f1': (0.6675739714119876, 0.001665980070333526)}"
      ]
     },
     "execution_count": 150,
     "metadata": {},
     "output_type": "execute_result"
    }
   ],
   "source": [
    "clf = MultinomialNB()\n",
    "\n",
    "scoring=['accuracy', 'precision', 'recall', 'f1']\n",
    "res = cross_validate(clf, X, y, scoring=scoring, cv=3)\n",
    "{item: (value.mean(), value.std()) for (item, value) in res.items()}"
   ]
  },
  {
   "cell_type": "markdown",
   "metadata": {},
   "source": [
    "### Appling model to quotation variants"
   ]
  },
  {
   "cell_type": "code",
   "execution_count": 39,
   "metadata": {},
   "outputs": [],
   "source": [
    "# import sklearn\n",
    "# sorted(sklearn.metrics.SCORERS.keys())"
   ]
  },
  {
   "cell_type": "code",
   "execution_count": 208,
   "metadata": {},
   "outputs": [],
   "source": [
    "cols = [\n",
    "    'quotation_cleanE',\n",
    "    'quotation_cleanA', \n",
    "    'quotation_cleanB',\n",
    "    'quotation_cleanC',\n",
    "    'quotation_cleanD',\n",
    "    ]\n",
    "\n",
    "\n",
    "def test_classifer(pipeline, break_after_one_iter=False):\n",
    "    for col in cols:\n",
    "\n",
    "        # X = vectorizer.fit_transform(df[col].values)\n",
    "        X = df[col].values\n",
    "\n",
    "        y = df['party_label'].values\n",
    "        y = np.array([0.0 if label=='R' else 1.0 for label in y])\n",
    "\n",
    "        # scores = cross_val_score(clf, X, y, cv=3)\n",
    "        # print(f'Col: {col}\\tAvg: {scores.mean():.3f}\\tStd: {scores.std():.3f}')\n",
    "\n",
    "        # scoring=['accuracy']\n",
    "        # scoring=['f1']\n",
    "        \n",
    "        \n",
    "\n",
    "        scoring=['accuracy', 'precision', 'recall', 'f1']\n",
    "        res = cross_validate(pipeline, X, y, scoring=scoring, cv=3)\n",
    "        res = {item: (value.mean(), value.std()) for (item, value) in res.items()}\n",
    "\n",
    "        # Code isn't pretty but prints nice output!\n",
    "        print(f'Col: {col}')\n",
    "\n",
    "        print(f'X shape: {X.shape}')\n",
    "\n",
    "        print(f'\\tfit_time - \\t\\tavg:{res[\"fit_time\"][0]:.3f}\\tstd:{res[\"fit_time\"][1]:.3f}')\n",
    "        print(f'\\tscore_time - \\t\\tavg:{res[\"score_time\"][0]:.3f}\\tstd:{res[\"score_time\"][1]:.3f}')\n",
    "        print(f'\\ttest_accuracy - \\tavg:{res[\"test_accuracy\"][0]:.3f}\\tstd:{res[\"test_accuracy\"][1]:.3f}')\n",
    "        print(f'\\ttest_precision - \\tavg:{res[\"test_precision\"][0]:.3f}\\tstd:{res[\"test_precision\"][1]:.3f}')\n",
    "        print(f'\\ttest_recall - \\t\\tavg:{res[\"test_recall\"][0]:.3f}\\tstd:{res[\"test_recall\"][1]:.3f}')\n",
    "        print(f'\\ttest_f1 - \\t\\tavg:{res[\"test_f1\"][0]:.3f}\\tstd:{res[\"test_f1\"][1]:.3f}')\n",
    "        \n",
    "        if break_after_one_iter:\n",
    "            break\n",
    "\n",
    "        \n",
    "    # break"
   ]
  },
  {
   "cell_type": "code",
   "execution_count": 209,
   "metadata": {},
   "outputs": [
    {
     "name": "stdout",
     "output_type": "stream",
     "text": [
      "Col: quotation_cleanE\n",
      "X shape: (260504,)\n",
      "\tfit_time - \t\tavg:20.802\tstd:0.209\n",
      "\tscore_time - \t\tavg:3.887\tstd:0.089\n",
      "\ttest_accuracy - \tavg:0.706\tstd:0.002\n",
      "\ttest_precision - \tavg:0.710\tstd:0.001\n",
      "\ttest_recall - \t\tavg:0.697\tstd:0.003\n",
      "\ttest_f1 - \t\tavg:0.703\tstd:0.002\n"
     ]
    }
   ],
   "source": [
    "pipeline = Pipeline([\n",
    "            # ('vect', TfidfVectorizer(ngram_range=(1,1), max_features=10)),\n",
    "            ('vect', TfidfVectorizer(ngram_range=(1,3), max_features=1_000_000)),\n",
    "            ('clf', MultinomialNB()),\n",
    "        ])\n",
    "\n",
    "test_classifer(pipeline, break_after_one_iter=True)"
   ]
  },
  {
   "cell_type": "code",
   "execution_count": 25,
   "metadata": {},
   "outputs": [
    {
     "name": "stdout",
     "output_type": "stream",
     "text": [
      "Col: quotation_cleanA\n",
      "X shape: (10000,)\n",
      "\tfit_time - \t\tavg:0.546\tstd:0.039\n",
      "\tscore_time - \t\tavg:0.165\tstd:0.004\n",
      "\ttest_accuracy - \tavg:0.599\tstd:0.011\n",
      "\ttest_precision - \tavg:0.599\tstd:0.012\n",
      "\ttest_recall - \t\tavg:0.596\tstd:0.012\n",
      "\ttest_f1 - \t\tavg:0.597\tstd:0.011\n",
      "Col: quotation_cleanB\n",
      "X shape: (10000,)\n",
      "\tfit_time - \t\tavg:0.587\tstd:0.025\n",
      "\tscore_time - \t\tavg:0.166\tstd:0.004\n",
      "\ttest_accuracy - \tavg:0.599\tstd:0.011\n",
      "\ttest_precision - \tavg:0.599\tstd:0.012\n",
      "\ttest_recall - \t\tavg:0.596\tstd:0.012\n",
      "\ttest_f1 - \t\tavg:0.597\tstd:0.011\n",
      "Col: quotation_cleanC\n",
      "X shape: (10000,)\n",
      "\tfit_time - \t\tavg:0.371\tstd:0.008\n",
      "\tscore_time - \t\tavg:0.090\tstd:0.001\n",
      "\ttest_accuracy - \tavg:0.601\tstd:0.004\n",
      "\ttest_precision - \tavg:0.599\tstd:0.004\n",
      "\ttest_recall - \t\tavg:0.611\tstd:0.008\n",
      "\ttest_f1 - \t\tavg:0.605\tstd:0.005\n",
      "Col: quotation_cleanD\n",
      "X shape: (10000,)\n",
      "\tfit_time - \t\tavg:0.387\tstd:0.077\n",
      "\tscore_time - \t\tavg:0.104\tstd:0.018\n",
      "\ttest_accuracy - \tavg:0.606\tstd:0.004\n",
      "\ttest_precision - \tavg:0.607\tstd:0.004\n",
      "\ttest_recall - \t\tavg:0.600\tstd:0.013\n",
      "\ttest_f1 - \t\tavg:0.604\tstd:0.007\n",
      "Col: quotation_cleanE\n",
      "X shape: (10000,)\n",
      "\tfit_time - \t\tavg:0.336\tstd:0.009\n",
      "\tscore_time - \t\tavg:0.085\tstd:0.003\n",
      "\ttest_accuracy - \tavg:0.603\tstd:0.005\n",
      "\ttest_precision - \tavg:0.603\tstd:0.004\n",
      "\ttest_recall - \t\tavg:0.606\tstd:0.011\n",
      "\ttest_f1 - \t\tavg:0.604\tstd:0.007\n"
     ]
    }
   ],
   "source": [
    "pipeline = Pipeline([\n",
    "            ('vect', TfidfVectorizer(ngram_range=(1,2), max_features=50000)),\n",
    "            ('clf', MultinomialNB()),\n",
    "        ])\n",
    "\n",
    "test_classifer(pipeline)"
   ]
  },
  {
   "cell_type": "code",
   "execution_count": 27,
   "metadata": {},
   "outputs": [
    {
     "name": "stderr",
     "output_type": "stream",
     "text": [
      "/Users/mroust/anaconda3/envs/ada/lib/python3.8/site-packages/sklearn/linear_model/_logistic.py:814: ConvergenceWarning: lbfgs failed to converge (status=1):\n",
      "STOP: TOTAL NO. of ITERATIONS REACHED LIMIT.\n",
      "\n",
      "Increase the number of iterations (max_iter) or scale the data as shown in:\n",
      "    https://scikit-learn.org/stable/modules/preprocessing.html\n",
      "Please also refer to the documentation for alternative solver options:\n",
      "    https://scikit-learn.org/stable/modules/linear_model.html#logistic-regression\n",
      "  n_iter_i = _check_optimize_result(\n",
      "/Users/mroust/anaconda3/envs/ada/lib/python3.8/site-packages/sklearn/linear_model/_logistic.py:814: ConvergenceWarning: lbfgs failed to converge (status=1):\n",
      "STOP: TOTAL NO. of ITERATIONS REACHED LIMIT.\n",
      "\n",
      "Increase the number of iterations (max_iter) or scale the data as shown in:\n",
      "    https://scikit-learn.org/stable/modules/preprocessing.html\n",
      "Please also refer to the documentation for alternative solver options:\n",
      "    https://scikit-learn.org/stable/modules/linear_model.html#logistic-regression\n",
      "  n_iter_i = _check_optimize_result(\n",
      "/Users/mroust/anaconda3/envs/ada/lib/python3.8/site-packages/sklearn/linear_model/_logistic.py:814: ConvergenceWarning: lbfgs failed to converge (status=1):\n",
      "STOP: TOTAL NO. of ITERATIONS REACHED LIMIT.\n",
      "\n",
      "Increase the number of iterations (max_iter) or scale the data as shown in:\n",
      "    https://scikit-learn.org/stable/modules/preprocessing.html\n",
      "Please also refer to the documentation for alternative solver options:\n",
      "    https://scikit-learn.org/stable/modules/linear_model.html#logistic-regression\n",
      "  n_iter_i = _check_optimize_result(\n"
     ]
    },
    {
     "name": "stdout",
     "output_type": "stream",
     "text": [
      "Col: quotation_cleanA\n",
      "X shape: (10000,)\n",
      "\tfit_time - \t\tavg:2.623\tstd:0.708\n",
      "\tscore_time - \t\tavg:0.196\tstd:0.027\n",
      "\ttest_accuracy - \tavg:0.587\tstd:0.008\n",
      "\ttest_precision - \tavg:0.588\tstd:0.009\n",
      "\ttest_recall - \t\tavg:0.580\tstd:0.008\n",
      "\ttest_f1 - \t\tavg:0.584\tstd:0.008\n"
     ]
    },
    {
     "name": "stderr",
     "output_type": "stream",
     "text": [
      "/Users/mroust/anaconda3/envs/ada/lib/python3.8/site-packages/sklearn/linear_model/_logistic.py:814: ConvergenceWarning: lbfgs failed to converge (status=1):\n",
      "STOP: TOTAL NO. of ITERATIONS REACHED LIMIT.\n",
      "\n",
      "Increase the number of iterations (max_iter) or scale the data as shown in:\n",
      "    https://scikit-learn.org/stable/modules/preprocessing.html\n",
      "Please also refer to the documentation for alternative solver options:\n",
      "    https://scikit-learn.org/stable/modules/linear_model.html#logistic-regression\n",
      "  n_iter_i = _check_optimize_result(\n",
      "/Users/mroust/anaconda3/envs/ada/lib/python3.8/site-packages/sklearn/linear_model/_logistic.py:814: ConvergenceWarning: lbfgs failed to converge (status=1):\n",
      "STOP: TOTAL NO. of ITERATIONS REACHED LIMIT.\n",
      "\n",
      "Increase the number of iterations (max_iter) or scale the data as shown in:\n",
      "    https://scikit-learn.org/stable/modules/preprocessing.html\n",
      "Please also refer to the documentation for alternative solver options:\n",
      "    https://scikit-learn.org/stable/modules/linear_model.html#logistic-regression\n",
      "  n_iter_i = _check_optimize_result(\n",
      "/Users/mroust/anaconda3/envs/ada/lib/python3.8/site-packages/sklearn/linear_model/_logistic.py:814: ConvergenceWarning: lbfgs failed to converge (status=1):\n",
      "STOP: TOTAL NO. of ITERATIONS REACHED LIMIT.\n",
      "\n",
      "Increase the number of iterations (max_iter) or scale the data as shown in:\n",
      "    https://scikit-learn.org/stable/modules/preprocessing.html\n",
      "Please also refer to the documentation for alternative solver options:\n",
      "    https://scikit-learn.org/stable/modules/linear_model.html#logistic-regression\n",
      "  n_iter_i = _check_optimize_result(\n"
     ]
    },
    {
     "name": "stdout",
     "output_type": "stream",
     "text": [
      "Col: quotation_cleanB\n",
      "X shape: (10000,)\n",
      "\tfit_time - \t\tavg:1.735\tstd:0.261\n",
      "\tscore_time - \t\tavg:0.184\tstd:0.024\n",
      "\ttest_accuracy - \tavg:0.587\tstd:0.008\n",
      "\ttest_precision - \tavg:0.588\tstd:0.009\n",
      "\ttest_recall - \t\tavg:0.580\tstd:0.008\n",
      "\ttest_f1 - \t\tavg:0.584\tstd:0.008\n"
     ]
    },
    {
     "name": "stderr",
     "output_type": "stream",
     "text": [
      "/Users/mroust/anaconda3/envs/ada/lib/python3.8/site-packages/sklearn/linear_model/_logistic.py:814: ConvergenceWarning: lbfgs failed to converge (status=1):\n",
      "STOP: TOTAL NO. of ITERATIONS REACHED LIMIT.\n",
      "\n",
      "Increase the number of iterations (max_iter) or scale the data as shown in:\n",
      "    https://scikit-learn.org/stable/modules/preprocessing.html\n",
      "Please also refer to the documentation for alternative solver options:\n",
      "    https://scikit-learn.org/stable/modules/linear_model.html#logistic-regression\n",
      "  n_iter_i = _check_optimize_result(\n",
      "/Users/mroust/anaconda3/envs/ada/lib/python3.8/site-packages/sklearn/linear_model/_logistic.py:814: ConvergenceWarning: lbfgs failed to converge (status=1):\n",
      "STOP: TOTAL NO. of ITERATIONS REACHED LIMIT.\n",
      "\n",
      "Increase the number of iterations (max_iter) or scale the data as shown in:\n",
      "    https://scikit-learn.org/stable/modules/preprocessing.html\n",
      "Please also refer to the documentation for alternative solver options:\n",
      "    https://scikit-learn.org/stable/modules/linear_model.html#logistic-regression\n",
      "  n_iter_i = _check_optimize_result(\n",
      "/Users/mroust/anaconda3/envs/ada/lib/python3.8/site-packages/sklearn/linear_model/_logistic.py:814: ConvergenceWarning: lbfgs failed to converge (status=1):\n",
      "STOP: TOTAL NO. of ITERATIONS REACHED LIMIT.\n",
      "\n",
      "Increase the number of iterations (max_iter) or scale the data as shown in:\n",
      "    https://scikit-learn.org/stable/modules/preprocessing.html\n",
      "Please also refer to the documentation for alternative solver options:\n",
      "    https://scikit-learn.org/stable/modules/linear_model.html#logistic-regression\n",
      "  n_iter_i = _check_optimize_result(\n"
     ]
    },
    {
     "name": "stdout",
     "output_type": "stream",
     "text": [
      "Col: quotation_cleanC\n",
      "X shape: (10000,)\n",
      "\tfit_time - \t\tavg:1.401\tstd:0.436\n",
      "\tscore_time - \t\tavg:0.087\tstd:0.004\n",
      "\ttest_accuracy - \tavg:0.589\tstd:0.002\n",
      "\ttest_precision - \tavg:0.588\tstd:0.003\n",
      "\ttest_recall - \t\tavg:0.591\tstd:0.002\n",
      "\ttest_f1 - \t\tavg:0.590\tstd:0.001\n"
     ]
    },
    {
     "name": "stderr",
     "output_type": "stream",
     "text": [
      "/Users/mroust/anaconda3/envs/ada/lib/python3.8/site-packages/sklearn/linear_model/_logistic.py:814: ConvergenceWarning: lbfgs failed to converge (status=1):\n",
      "STOP: TOTAL NO. of ITERATIONS REACHED LIMIT.\n",
      "\n",
      "Increase the number of iterations (max_iter) or scale the data as shown in:\n",
      "    https://scikit-learn.org/stable/modules/preprocessing.html\n",
      "Please also refer to the documentation for alternative solver options:\n",
      "    https://scikit-learn.org/stable/modules/linear_model.html#logistic-regression\n",
      "  n_iter_i = _check_optimize_result(\n",
      "/Users/mroust/anaconda3/envs/ada/lib/python3.8/site-packages/sklearn/linear_model/_logistic.py:814: ConvergenceWarning: lbfgs failed to converge (status=1):\n",
      "STOP: TOTAL NO. of ITERATIONS REACHED LIMIT.\n",
      "\n",
      "Increase the number of iterations (max_iter) or scale the data as shown in:\n",
      "    https://scikit-learn.org/stable/modules/preprocessing.html\n",
      "Please also refer to the documentation for alternative solver options:\n",
      "    https://scikit-learn.org/stable/modules/linear_model.html#logistic-regression\n",
      "  n_iter_i = _check_optimize_result(\n",
      "/Users/mroust/anaconda3/envs/ada/lib/python3.8/site-packages/sklearn/linear_model/_logistic.py:814: ConvergenceWarning: lbfgs failed to converge (status=1):\n",
      "STOP: TOTAL NO. of ITERATIONS REACHED LIMIT.\n",
      "\n",
      "Increase the number of iterations (max_iter) or scale the data as shown in:\n",
      "    https://scikit-learn.org/stable/modules/preprocessing.html\n",
      "Please also refer to the documentation for alternative solver options:\n",
      "    https://scikit-learn.org/stable/modules/linear_model.html#logistic-regression\n",
      "  n_iter_i = _check_optimize_result(\n"
     ]
    },
    {
     "name": "stdout",
     "output_type": "stream",
     "text": [
      "Col: quotation_cleanD\n",
      "X shape: (10000,)\n",
      "\tfit_time - \t\tavg:1.305\tstd:0.299\n",
      "\tscore_time - \t\tavg:0.092\tstd:0.005\n",
      "\ttest_accuracy - \tavg:0.592\tstd:0.009\n",
      "\ttest_precision - \tavg:0.593\tstd:0.009\n",
      "\ttest_recall - \t\tavg:0.586\tstd:0.015\n",
      "\ttest_f1 - \t\tavg:0.589\tstd:0.012\n"
     ]
    },
    {
     "name": "stderr",
     "output_type": "stream",
     "text": [
      "/Users/mroust/anaconda3/envs/ada/lib/python3.8/site-packages/sklearn/linear_model/_logistic.py:814: ConvergenceWarning: lbfgs failed to converge (status=1):\n",
      "STOP: TOTAL NO. of ITERATIONS REACHED LIMIT.\n",
      "\n",
      "Increase the number of iterations (max_iter) or scale the data as shown in:\n",
      "    https://scikit-learn.org/stable/modules/preprocessing.html\n",
      "Please also refer to the documentation for alternative solver options:\n",
      "    https://scikit-learn.org/stable/modules/linear_model.html#logistic-regression\n",
      "  n_iter_i = _check_optimize_result(\n",
      "/Users/mroust/anaconda3/envs/ada/lib/python3.8/site-packages/sklearn/linear_model/_logistic.py:814: ConvergenceWarning: lbfgs failed to converge (status=1):\n",
      "STOP: TOTAL NO. of ITERATIONS REACHED LIMIT.\n",
      "\n",
      "Increase the number of iterations (max_iter) or scale the data as shown in:\n",
      "    https://scikit-learn.org/stable/modules/preprocessing.html\n",
      "Please also refer to the documentation for alternative solver options:\n",
      "    https://scikit-learn.org/stable/modules/linear_model.html#logistic-regression\n",
      "  n_iter_i = _check_optimize_result(\n"
     ]
    },
    {
     "name": "stdout",
     "output_type": "stream",
     "text": [
      "Col: quotation_cleanE\n",
      "X shape: (10000,)\n",
      "\tfit_time - \t\tavg:1.503\tstd:0.095\n",
      "\tscore_time - \t\tavg:0.096\tstd:0.006\n",
      "\ttest_accuracy - \tavg:0.594\tstd:0.004\n",
      "\ttest_precision - \tavg:0.594\tstd:0.005\n",
      "\ttest_recall - \t\tavg:0.591\tstd:0.002\n",
      "\ttest_f1 - \t\tavg:0.593\tstd:0.002\n"
     ]
    },
    {
     "name": "stderr",
     "output_type": "stream",
     "text": [
      "/Users/mroust/anaconda3/envs/ada/lib/python3.8/site-packages/sklearn/linear_model/_logistic.py:814: ConvergenceWarning: lbfgs failed to converge (status=1):\n",
      "STOP: TOTAL NO. of ITERATIONS REACHED LIMIT.\n",
      "\n",
      "Increase the number of iterations (max_iter) or scale the data as shown in:\n",
      "    https://scikit-learn.org/stable/modules/preprocessing.html\n",
      "Please also refer to the documentation for alternative solver options:\n",
      "    https://scikit-learn.org/stable/modules/linear_model.html#logistic-regression\n",
      "  n_iter_i = _check_optimize_result(\n"
     ]
    }
   ],
   "source": [
    "pipeline = Pipeline([\n",
    "            ('vect', TfidfVectorizer(ngram_range=(1,2), max_features=50000)),\n",
    "            ('clf', LogisticRegression(n_jobs=-1, C=1e5)),\n",
    "        ])\n",
    "\n",
    "test_classifer(pipeline)"
   ]
  },
  {
   "cell_type": "code",
   "execution_count": 28,
   "metadata": {},
   "outputs": [
    {
     "name": "stdout",
     "output_type": "stream",
     "text": [
      "Col: quotation_cleanA\n",
      "X shape: (10000,)\n",
      "\tfit_time - \t\tavg:0.987\tstd:0.309\n",
      "\tscore_time - \t\tavg:0.150\tstd:0.009\n",
      "\ttest_accuracy - \tavg:0.511\tstd:0.012\n",
      "\ttest_precision - \tavg:0.514\tstd:0.015\n",
      "\ttest_recall - \t\tavg:0.410\tstd:0.012\n",
      "\ttest_f1 - \t\tavg:0.456\tstd:0.013\n",
      "Col: quotation_cleanB\n",
      "X shape: (10000,)\n",
      "\tfit_time - \t\tavg:0.758\tstd:0.004\n",
      "\tscore_time - \t\tavg:0.142\tstd:0.005\n",
      "\ttest_accuracy - \tavg:0.506\tstd:0.007\n",
      "\ttest_precision - \tavg:0.508\tstd:0.009\n",
      "\ttest_recall - \t\tavg:0.413\tstd:0.010\n",
      "\ttest_f1 - \t\tavg:0.455\tstd:0.005\n",
      "Col: quotation_cleanC\n",
      "X shape: (10000,)\n",
      "\tfit_time - \t\tavg:0.459\tstd:0.031\n",
      "\tscore_time - \t\tavg:0.083\tstd:0.001\n",
      "\ttest_accuracy - \tavg:0.507\tstd:0.005\n",
      "\ttest_precision - \tavg:0.507\tstd:0.005\n",
      "\ttest_recall - \t\tavg:0.537\tstd:0.073\n",
      "\ttest_f1 - \t\tavg:0.519\tstd:0.035\n",
      "Col: quotation_cleanD\n",
      "X shape: (10000,)\n",
      "\tfit_time - \t\tavg:0.490\tstd:0.072\n",
      "\tscore_time - \t\tavg:0.088\tstd:0.012\n",
      "\ttest_accuracy - \tavg:0.515\tstd:0.007\n",
      "\ttest_precision - \tavg:0.518\tstd:0.008\n",
      "\ttest_recall - \t\tavg:0.429\tstd:0.014\n",
      "\ttest_f1 - \t\tavg:0.470\tstd:0.011\n",
      "Col: quotation_cleanE\n",
      "X shape: (10000,)\n",
      "\tfit_time - \t\tavg:0.442\tstd:0.006\n",
      "\tscore_time - \t\tavg:0.082\tstd:0.003\n",
      "\ttest_accuracy - \tavg:0.515\tstd:0.010\n",
      "\ttest_precision - \tavg:0.519\tstd:0.013\n",
      "\ttest_recall - \t\tavg:0.415\tstd:0.019\n",
      "\ttest_f1 - \t\tavg:0.461\tstd:0.016\n"
     ]
    }
   ],
   "source": [
    "pipeline = Pipeline([\n",
    "            ('vect', TfidfVectorizer(ngram_range=(1,2), max_features=100)),\n",
    "            ('clf', RandomForestClassifier(n_estimators=10, n_jobs=7)),\n",
    "        ])\n",
    "\n",
    "test_classifer(pipeline)"
   ]
  },
  {
   "cell_type": "code",
   "execution_count": null,
   "metadata": {},
   "outputs": [],
   "source": [
    "# clf.fit(X[100:], y[100:])\n",
    "# clf.predict_proba(X[0:5])"
   ]
  },
  {
   "cell_type": "code",
   "execution_count": 29,
   "metadata": {},
   "outputs": [
    {
     "name": "stdout",
     "output_type": "stream",
     "text": [
      "Col: quotation_cleanA\n",
      "X shape: (10000,)\n",
      "\tfit_time - \t\tavg:0.752\tstd:0.092\n",
      "\tscore_time - \t\tavg:0.140\tstd:0.022\n",
      "\ttest_accuracy - \tavg:0.531\tstd:0.002\n",
      "\ttest_precision - \tavg:0.530\tstd:0.002\n",
      "\ttest_recall - \t\tavg:0.560\tstd:0.023\n",
      "\ttest_f1 - \t\tavg:0.544\tstd:0.011\n",
      "Col: quotation_cleanB\n",
      "X shape: (10000,)\n",
      "\tfit_time - \t\tavg:0.763\tstd:0.118\n",
      "\tscore_time - \t\tavg:0.152\tstd:0.023\n",
      "\ttest_accuracy - \tavg:0.531\tstd:0.002\n",
      "\ttest_precision - \tavg:0.530\tstd:0.002\n",
      "\ttest_recall - \t\tavg:0.560\tstd:0.023\n",
      "\ttest_f1 - \t\tavg:0.544\tstd:0.011\n",
      "Col: quotation_cleanC\n",
      "X shape: (10000,)\n",
      "\tfit_time - \t\tavg:0.414\tstd:0.026\n",
      "\tscore_time - \t\tavg:0.076\tstd:0.000\n",
      "\ttest_accuracy - \tavg:0.515\tstd:0.001\n",
      "\ttest_precision - \tavg:0.540\tstd:0.045\n",
      "\ttest_recall - \t\tavg:0.648\tstd:0.396\n",
      "\ttest_f1 - \t\tavg:0.489\tstd:0.237\n",
      "Col: quotation_cleanD\n",
      "X shape: (10000,)\n",
      "\tfit_time - \t\tavg:0.396\tstd:0.007\n",
      "\tscore_time - \t\tavg:0.084\tstd:0.011\n",
      "\ttest_accuracy - \tavg:0.516\tstd:0.004\n",
      "\ttest_precision - \tavg:0.529\tstd:0.025\n",
      "\ttest_recall - \t\tavg:0.621\tstd:0.369\n",
      "\ttest_f1 - \t\tavg:0.488\tstd:0.225\n",
      "Col: quotation_cleanE\n",
      "X shape: (10000,)\n",
      "\tfit_time - \t\tavg:0.443\tstd:0.041\n",
      "\tscore_time - \t\tavg:0.084\tstd:0.018\n",
      "\ttest_accuracy - \tavg:0.517\tstd:0.005\n",
      "\ttest_precision - \tavg:0.549\tstd:0.058\n",
      "\ttest_recall - \t\tavg:0.644\tstd:0.386\n",
      "\ttest_f1 - \t\tavg:0.493\tstd:0.228\n"
     ]
    }
   ],
   "source": [
    "pipeline = Pipeline([\n",
    "            ('vect', TfidfVectorizer(ngram_range=(1,2), max_features=100)),\n",
    "            ('clf', GradientBoostingClassifier(n_estimators=10, learning_rate=1.0,\n",
    "                                               max_depth=1, random_state=0)),\n",
    "        ])\n",
    "\n",
    "test_classifer(pipeline)"
   ]
  },
  {
   "cell_type": "code",
   "execution_count": 30,
   "metadata": {},
   "outputs": [
    {
     "name": "stderr",
     "output_type": "stream",
     "text": [
      "/Users/mroust/anaconda3/envs/ada/lib/python3.8/site-packages/sklearn/neural_network/_multilayer_perceptron.py:692: ConvergenceWarning: Stochastic Optimizer: Maximum iterations (200) reached and the optimization hasn't converged yet.\n",
      "  warnings.warn(\n",
      "/Users/mroust/anaconda3/envs/ada/lib/python3.8/site-packages/sklearn/neural_network/_multilayer_perceptron.py:692: ConvergenceWarning: Stochastic Optimizer: Maximum iterations (200) reached and the optimization hasn't converged yet.\n",
      "  warnings.warn(\n",
      "/Users/mroust/anaconda3/envs/ada/lib/python3.8/site-packages/sklearn/neural_network/_multilayer_perceptron.py:692: ConvergenceWarning: Stochastic Optimizer: Maximum iterations (200) reached and the optimization hasn't converged yet.\n",
      "  warnings.warn(\n"
     ]
    },
    {
     "name": "stdout",
     "output_type": "stream",
     "text": [
      "Col: quotation_cleanA\n",
      "X shape: (10000,)\n",
      "\tfit_time - \t\tavg:7.049\tstd:0.961\n",
      "\tscore_time - \t\tavg:0.134\tstd:0.010\n",
      "\ttest_accuracy - \tavg:0.521\tstd:0.005\n",
      "\ttest_precision - \tavg:0.544\tstd:0.009\n",
      "\ttest_recall - \t\tavg:0.257\tstd:0.015\n",
      "\ttest_f1 - \t\tavg:0.349\tstd:0.015\n"
     ]
    },
    {
     "name": "stderr",
     "output_type": "stream",
     "text": [
      "/Users/mroust/anaconda3/envs/ada/lib/python3.8/site-packages/sklearn/neural_network/_multilayer_perceptron.py:692: ConvergenceWarning: Stochastic Optimizer: Maximum iterations (200) reached and the optimization hasn't converged yet.\n",
      "  warnings.warn(\n",
      "/Users/mroust/anaconda3/envs/ada/lib/python3.8/site-packages/sklearn/neural_network/_multilayer_perceptron.py:692: ConvergenceWarning: Stochastic Optimizer: Maximum iterations (200) reached and the optimization hasn't converged yet.\n",
      "  warnings.warn(\n",
      "/Users/mroust/anaconda3/envs/ada/lib/python3.8/site-packages/sklearn/neural_network/_multilayer_perceptron.py:692: ConvergenceWarning: Stochastic Optimizer: Maximum iterations (200) reached and the optimization hasn't converged yet.\n",
      "  warnings.warn(\n"
     ]
    },
    {
     "name": "stdout",
     "output_type": "stream",
     "text": [
      "Col: quotation_cleanB\n",
      "X shape: (10000,)\n",
      "\tfit_time - \t\tavg:5.650\tstd:0.035\n",
      "\tscore_time - \t\tavg:0.124\tstd:0.005\n",
      "\ttest_accuracy - \tavg:0.521\tstd:0.005\n",
      "\ttest_precision - \tavg:0.544\tstd:0.009\n",
      "\ttest_recall - \t\tavg:0.257\tstd:0.015\n",
      "\ttest_f1 - \t\tavg:0.349\tstd:0.015\n"
     ]
    },
    {
     "name": "stderr",
     "output_type": "stream",
     "text": [
      "/Users/mroust/anaconda3/envs/ada/lib/python3.8/site-packages/sklearn/neural_network/_multilayer_perceptron.py:692: ConvergenceWarning: Stochastic Optimizer: Maximum iterations (200) reached and the optimization hasn't converged yet.\n",
      "  warnings.warn(\n",
      "/Users/mroust/anaconda3/envs/ada/lib/python3.8/site-packages/sklearn/neural_network/_multilayer_perceptron.py:692: ConvergenceWarning: Stochastic Optimizer: Maximum iterations (200) reached and the optimization hasn't converged yet.\n",
      "  warnings.warn(\n",
      "/Users/mroust/anaconda3/envs/ada/lib/python3.8/site-packages/sklearn/neural_network/_multilayer_perceptron.py:692: ConvergenceWarning: Stochastic Optimizer: Maximum iterations (200) reached and the optimization hasn't converged yet.\n",
      "  warnings.warn(\n"
     ]
    },
    {
     "name": "stdout",
     "output_type": "stream",
     "text": [
      "Col: quotation_cleanC\n",
      "X shape: (10000,)\n",
      "\tfit_time - \t\tavg:7.505\tstd:1.845\n",
      "\tscore_time - \t\tavg:0.085\tstd:0.002\n",
      "\ttest_accuracy - \tavg:0.508\tstd:0.008\n",
      "\ttest_precision - \tavg:0.516\tstd:0.016\n",
      "\ttest_recall - \t\tavg:0.277\tstd:0.042\n",
      "\ttest_f1 - \t\tavg:0.358\tstd:0.035\n"
     ]
    },
    {
     "name": "stderr",
     "output_type": "stream",
     "text": [
      "/Users/mroust/anaconda3/envs/ada/lib/python3.8/site-packages/sklearn/neural_network/_multilayer_perceptron.py:692: ConvergenceWarning: Stochastic Optimizer: Maximum iterations (200) reached and the optimization hasn't converged yet.\n",
      "  warnings.warn(\n",
      "/Users/mroust/anaconda3/envs/ada/lib/python3.8/site-packages/sklearn/neural_network/_multilayer_perceptron.py:692: ConvergenceWarning: Stochastic Optimizer: Maximum iterations (200) reached and the optimization hasn't converged yet.\n",
      "  warnings.warn(\n",
      "/Users/mroust/anaconda3/envs/ada/lib/python3.8/site-packages/sklearn/neural_network/_multilayer_perceptron.py:692: ConvergenceWarning: Stochastic Optimizer: Maximum iterations (200) reached and the optimization hasn't converged yet.\n",
      "  warnings.warn(\n"
     ]
    },
    {
     "name": "stdout",
     "output_type": "stream",
     "text": [
      "Col: quotation_cleanD\n",
      "X shape: (10000,)\n",
      "\tfit_time - \t\tavg:6.383\tstd:0.262\n",
      "\tscore_time - \t\tavg:0.080\tstd:0.002\n",
      "\ttest_accuracy - \tavg:0.515\tstd:0.002\n",
      "\ttest_precision - \tavg:0.530\tstd:0.004\n",
      "\ttest_recall - \t\tavg:0.274\tstd:0.020\n",
      "\ttest_f1 - \t\tavg:0.361\tstd:0.017\n"
     ]
    },
    {
     "name": "stderr",
     "output_type": "stream",
     "text": [
      "/Users/mroust/anaconda3/envs/ada/lib/python3.8/site-packages/sklearn/neural_network/_multilayer_perceptron.py:692: ConvergenceWarning: Stochastic Optimizer: Maximum iterations (200) reached and the optimization hasn't converged yet.\n",
      "  warnings.warn(\n",
      "/Users/mroust/anaconda3/envs/ada/lib/python3.8/site-packages/sklearn/neural_network/_multilayer_perceptron.py:692: ConvergenceWarning: Stochastic Optimizer: Maximum iterations (200) reached and the optimization hasn't converged yet.\n",
      "  warnings.warn(\n"
     ]
    },
    {
     "name": "stdout",
     "output_type": "stream",
     "text": [
      "Col: quotation_cleanE\n",
      "X shape: (10000,)\n",
      "\tfit_time - \t\tavg:6.074\tstd:0.147\n",
      "\tscore_time - \t\tavg:0.078\tstd:0.003\n",
      "\ttest_accuracy - \tavg:0.513\tstd:0.004\n",
      "\ttest_precision - \tavg:0.525\tstd:0.006\n",
      "\ttest_recall - \t\tavg:0.268\tstd:0.013\n",
      "\ttest_f1 - \t\tavg:0.355\tstd:0.013\n"
     ]
    },
    {
     "name": "stderr",
     "output_type": "stream",
     "text": [
      "/Users/mroust/anaconda3/envs/ada/lib/python3.8/site-packages/sklearn/neural_network/_multilayer_perceptron.py:692: ConvergenceWarning: Stochastic Optimizer: Maximum iterations (200) reached and the optimization hasn't converged yet.\n",
      "  warnings.warn(\n"
     ]
    }
   ],
   "source": [
    "pipeline = Pipeline([\n",
    "            ('vect', TfidfVectorizer(ngram_range=(1,2), max_features=100)),\n",
    "            ('clf', MLPClassifier(alpha=1e-5, hidden_layer_sizes=(5, 2), random_state=1)),\n",
    "        ])\n",
    "\n",
    "test_classifer(pipeline)"
   ]
  },
  {
   "cell_type": "code",
   "execution_count": 32,
   "metadata": {},
   "outputs": [
    {
     "name": "stdout",
     "output_type": "stream",
     "text": [
      "Col: quotation_cleanA\n",
      "X shape: (10000,)\n",
      "\tfit_time - \t\tavg:0.631\tstd:0.010\n",
      "\tscore_time - \t\tavg:0.157\tstd:0.026\n",
      "\ttest_accuracy - \tavg:0.535\tstd:0.002\n",
      "\ttest_precision - \tavg:0.536\tstd:0.003\n",
      "\ttest_recall - \t\tavg:0.527\tstd:0.025\n",
      "\ttest_f1 - \t\tavg:0.531\tstd:0.012\n",
      "Col: quotation_cleanB\n",
      "X shape: (10000,)\n",
      "\tfit_time - \t\tavg:0.603\tstd:0.052\n",
      "\tscore_time - \t\tavg:0.144\tstd:0.001\n",
      "\ttest_accuracy - \tavg:0.537\tstd:0.009\n",
      "\ttest_precision - \tavg:0.538\tstd:0.016\n",
      "\ttest_recall - \t\tavg:0.561\tstd:0.084\n",
      "\ttest_f1 - \t\tavg:0.545\tstd:0.034\n",
      "Col: quotation_cleanC\n",
      "X shape: (10000,)\n",
      "\tfit_time - \t\tavg:0.366\tstd:0.025\n",
      "\tscore_time - \t\tavg:0.083\tstd:0.005\n",
      "\ttest_accuracy - \tavg:0.535\tstd:0.009\n",
      "\ttest_precision - \tavg:0.529\tstd:0.007\n",
      "\ttest_recall - \t\tavg:0.640\tstd:0.004\n",
      "\ttest_f1 - \t\tavg:0.579\tstd:0.006\n",
      "Col: quotation_cleanD\n",
      "X shape: (10000,)\n",
      "\tfit_time - \t\tavg:0.335\tstd:0.011\n",
      "\tscore_time - \t\tavg:0.078\tstd:0.005\n",
      "\ttest_accuracy - \tavg:0.529\tstd:0.006\n",
      "\ttest_precision - \tavg:0.527\tstd:0.009\n",
      "\ttest_recall - \t\tavg:0.575\tstd:0.063\n",
      "\ttest_f1 - \t\tavg:0.548\tstd:0.026\n",
      "Col: quotation_cleanE\n",
      "X shape: (10000,)\n",
      "\tfit_time - \t\tavg:0.384\tstd:0.033\n",
      "\tscore_time - \t\tavg:0.092\tstd:0.014\n",
      "\ttest_accuracy - \tavg:0.530\tstd:0.010\n",
      "\ttest_precision - \tavg:0.530\tstd:0.015\n",
      "\ttest_recall - \t\tavg:0.556\tstd:0.067\n",
      "\ttest_f1 - \t\tavg:0.540\tstd:0.026\n"
     ]
    }
   ],
   "source": [
    "pipeline = Pipeline([\n",
    "            ('vect', TfidfVectorizer(ngram_range=(1,2), max_features=100)),\n",
    "            ('clf', SGDClassifier(loss=\"hinge\", penalty=\"l2\", max_iter=50)),\n",
    "        ])\n",
    "\n",
    "test_classifer(pipeline)"
   ]
  },
  {
   "cell_type": "code",
   "execution_count": 70,
   "metadata": {},
   "outputs": [
    {
     "name": "stdout",
     "output_type": "stream",
     "text": [
      "Col: quotation_cleanE\n",
      "X shape: (260504,)\n",
      "\tfit_time - \t\tavg:86.983\tstd:6.430\n",
      "\tscore_time - \t\tavg:4.505\tstd:0.376\n",
      "\ttest_accuracy - \tavg:0.616\tstd:0.002\n",
      "\ttest_precision - \tavg:0.655\tstd:0.003\n",
      "\ttest_recall - \t\tavg:0.490\tstd:0.004\n",
      "\ttest_f1 - \t\tavg:0.560\tstd:0.002\n"
     ]
    }
   ],
   "source": [
    "pipeline = Pipeline([\n",
    "            ('vect', TfidfVectorizer(ngram_range=(1,3), max_features=1_000_000)),\n",
    "            ('clf', XGBClassifier(use_label_encoder=False, eval_metric='error', n_jobs=4)), # logloss or error\n",
    "        ])\n",
    "\n",
    "test_classifer(pipeline, break_after_one_iter=True)"
   ]
  },
  {
   "cell_type": "code",
   "execution_count": null,
   "metadata": {},
   "outputs": [],
   "source": []
  },
  {
   "cell_type": "code",
   "execution_count": null,
   "metadata": {},
   "outputs": [],
   "source": []
  },
  {
   "cell_type": "code",
   "execution_count": null,
   "metadata": {},
   "outputs": [],
   "source": []
  },
  {
   "cell_type": "markdown",
   "metadata": {},
   "source": [
    "NICKY's CELLS"
   ]
  },
  {
   "cell_type": "code",
   "execution_count": 211,
   "metadata": {},
   "outputs": [],
   "source": [
    "df_temp = df.sample(frac=1)\n",
    "nicky_X = df_temp['quotation_cleanE'].values.copy()\n",
    "\n",
    "nicky_y = y = df_temp['party_label'].values\n",
    "nicky_y = np.array([0.0 if label=='R' else 1.0 for label in nicky_y])"
   ]
  },
  {
   "cell_type": "code",
   "execution_count": 212,
   "metadata": {},
   "outputs": [
    {
     "data": {
      "text/plain": [
       "{'fit_time': (21.35477900505066, 2.414792275802797),\n",
       " 'score_time': (4.301192045211792, 0.20933518003005805),\n",
       " 'test_accuracy': (0.7065687961470012, 0.0017286617663049687),\n",
       " 'test_precision': (0.7105281368393941, 0.0025199203355492925),\n",
       " 'test_recall': (0.6971869969344056, 0.0007832731861736124),\n",
       " 'test_f1': (0.7037917553017575, 0.0012552082031326885)}"
      ]
     },
     "execution_count": 212,
     "metadata": {},
     "output_type": "execute_result"
    }
   ],
   "source": [
    "nicky_pipeline = Pipeline([\n",
    "            ('vect', TfidfVectorizer(ngram_range=(1,3), max_features=1_000_000)),\n",
    "            ('clf', MultinomialNB()),\n",
    "        ])\n",
    "\n",
    "nicky_scoring=['accuracy', 'precision', 'recall', 'f1']\n",
    "nicky_res = cross_validate(nicky_pipeline, nicky_X, nicky_y, scoring=nicky_scoring, cv=3)\n",
    "{item: (value.mean(), value.std()) for (item, value) in nicky_res.items()}"
   ]
  },
  {
   "cell_type": "code",
   "execution_count": 213,
   "metadata": {},
   "outputs": [],
   "source": [
    "split_frac = 0.9\n",
    "\n",
    "bound = round(len(nicky_X)*split_frac)\n",
    "\n",
    "nicky_X_train = nicky_X[:bound]\n",
    "nicky_y_train = nicky_y[:bound]\n",
    "\n",
    "nicky_X_test = nicky_X[bound:]\n",
    "nicky_y_test = nicky_y[bound:]\n"
   ]
  },
  {
   "cell_type": "code",
   "execution_count": 214,
   "metadata": {},
   "outputs": [],
   "source": [
    "nicky_pipeline.fit(nicky_X_train, nicky_y_train)"
   ]
  },
  {
   "cell_type": "code",
   "execution_count": null,
   "metadata": {},
   "outputs": [
    {
     "data": {
      "text/plain": [
       "(26050, 2)"
      ]
     },
     "execution_count": 118,
     "metadata": {},
     "output_type": "execute_result"
    }
   ],
   "source": [
    "y_pred = nicky_pipeline.predict_proba(nicky_X_test)\n",
    "y_pred.shape"
   ]
  },
  {
   "cell_type": "code",
   "execution_count": null,
   "metadata": {},
   "outputs": [],
   "source": [
    "df_temp = df.sample(frac=1)\n",
    "nicky_X = df_temp['quotation_cleanE'].values.copy()\n",
    "\n",
    "nicky_y = y = df_temp['party_label'].values\n",
    "nicky_y = np.array([0.0 if label=='R' else 1.0 for label in nicky_y])"
   ]
  },
  {
   "cell_type": "code",
   "execution_count": null,
   "metadata": {},
   "outputs": [
    {
     "data": {
      "text/plain": [
       "Index(['quoteID', 'quotation', 'speaker', 'date', 'numOccurrences', 'id',\n",
       "       'party_label', 'US_congress_bio_ID', 'quotation_cleanA',\n",
       "       'quotation_cleanB', 'quotation_cleanC', 'quotation_cleanD',\n",
       "       'quotation_cleanE'],\n",
       "      dtype='object')"
      ]
     },
     "execution_count": 119,
     "metadata": {},
     "output_type": "execute_result"
    }
   ],
   "source": [
    "df.columns"
   ]
  },
  {
   "cell_type": "code",
   "execution_count": null,
   "metadata": {},
   "outputs": [
    {
     "data": {
      "text/html": [
       "<div>\n",
       "<style scoped>\n",
       "    .dataframe tbody tr th:only-of-type {\n",
       "        vertical-align: middle;\n",
       "    }\n",
       "\n",
       "    .dataframe tbody tr th {\n",
       "        vertical-align: top;\n",
       "    }\n",
       "\n",
       "    .dataframe thead th {\n",
       "        text-align: right;\n",
       "    }\n",
       "</style>\n",
       "<table border=\"1\" class=\"dataframe\">\n",
       "  <thead>\n",
       "    <tr style=\"text-align: right;\">\n",
       "      <th></th>\n",
       "      <th>quoteID</th>\n",
       "      <th>quotation</th>\n",
       "      <th>speaker</th>\n",
       "      <th>date</th>\n",
       "      <th>numOccurrences</th>\n",
       "      <th>id</th>\n",
       "      <th>party_label</th>\n",
       "      <th>US_congress_bio_ID</th>\n",
       "      <th>quotation_cleanA</th>\n",
       "      <th>quotation_cleanB</th>\n",
       "      <th>quotation_cleanC</th>\n",
       "      <th>quotation_cleanD</th>\n",
       "      <th>quotation_cleanE</th>\n",
       "      <th>pred</th>\n",
       "    </tr>\n",
       "  </thead>\n",
       "  <tbody>\n",
       "    <tr>\n",
       "      <th>54552</th>\n",
       "      <td>2020-02-05-124571</td>\n",
       "      <td>You will not change him. You cannot constrain him. He is who he is.... Now, do impartial justice and convict him.</td>\n",
       "      <td>adam schiff</td>\n",
       "      <td>2020-02-05 19:35:00</td>\n",
       "      <td>1</td>\n",
       "      <td>Q350843</td>\n",
       "      <td>D</td>\n",
       "      <td>S001150</td>\n",
       "      <td>You will not change him. You cannot constrain him. He is who he is.... Now, do impartial justice and convict him.</td>\n",
       "      <td>you will not change him you cannot constrain him he is who he is now do impartial justice and convict him</td>\n",
       "      <td>change cannot constrain impartial justice convict</td>\n",
       "      <td>chang cannot constrain imparti justic convict</td>\n",
       "      <td>change can not constrain impartial justice convict</td>\n",
       "      <td>0.562421</td>\n",
       "    </tr>\n",
       "    <tr>\n",
       "      <th>129309</th>\n",
       "      <td>2020-02-02-031905</td>\n",
       "      <td>Obviously, the analogy is not true,</td>\n",
       "      <td>bernie sanders</td>\n",
       "      <td>2020-02-02 21:57:00</td>\n",
       "      <td>2</td>\n",
       "      <td>Q359442</td>\n",
       "      <td>D</td>\n",
       "      <td>S000033</td>\n",
       "      <td>Obviously, the analogy is not true,</td>\n",
       "      <td>obviously the analogy is not true</td>\n",
       "      <td>obviously analogy true</td>\n",
       "      <td>obvious analog true</td>\n",
       "      <td>obviously analogy true</td>\n",
       "      <td>0.506450</td>\n",
       "    </tr>\n",
       "  </tbody>\n",
       "</table>\n",
       "</div>"
      ],
      "text/plain": [
       "                  quoteID  \\\n",
       "54552   2020-02-05-124571   \n",
       "129309  2020-02-02-031905   \n",
       "\n",
       "                                                                                                                quotation  \\\n",
       "54552   You will not change him. You cannot constrain him. He is who he is.... Now, do impartial justice and convict him.   \n",
       "129309                                                                                Obviously, the analogy is not true,   \n",
       "\n",
       "               speaker                date  numOccurrences       id  \\\n",
       "54552      adam schiff 2020-02-05 19:35:00               1  Q350843   \n",
       "129309  bernie sanders 2020-02-02 21:57:00               2  Q359442   \n",
       "\n",
       "       party_label US_congress_bio_ID  \\\n",
       "54552            D            S001150   \n",
       "129309           D            S000033   \n",
       "\n",
       "                                                                                                         quotation_cleanA  \\\n",
       "54552   You will not change him. You cannot constrain him. He is who he is.... Now, do impartial justice and convict him.   \n",
       "129309                                                                                Obviously, the analogy is not true,   \n",
       "\n",
       "                                                                                                 quotation_cleanB  \\\n",
       "54552   you will not change him you cannot constrain him he is who he is now do impartial justice and convict him   \n",
       "129309                                                                          obviously the analogy is not true   \n",
       "\n",
       "                                         quotation_cleanC  \\\n",
       "54552   change cannot constrain impartial justice convict   \n",
       "129309                             obviously analogy true   \n",
       "\n",
       "                                     quotation_cleanD  \\\n",
       "54552   chang cannot constrain imparti justic convict   \n",
       "129309                            obvious analog true   \n",
       "\n",
       "                                          quotation_cleanE      pred  \n",
       "54552   change can not constrain impartial justice convict  0.562421  \n",
       "129309                              obviously analogy true  0.506450  "
      ]
     },
     "execution_count": 132,
     "metadata": {},
     "output_type": "execute_result"
    }
   ],
   "source": [
    "nicky_df = df_temp.iloc[bound:].copy()\n",
    "nicky_df['pred'] = y_pred[:,0]\n",
    "nicky_df.head(2)"
   ]
  },
  {
   "cell_type": "code",
   "execution_count": null,
   "metadata": {},
   "outputs": [],
   "source": [
    "nicky_df['rounded_pred'] = np.argmax(y_pred,axis = 1)"
   ]
  },
  {
   "cell_type": "code",
   "execution_count": null,
   "metadata": {},
   "outputs": [
    {
     "data": {
      "application/vnd.plotly.v1+json": {
       "config": {
        "plotlyServerURL": "https://plot.ly"
       },
       "data": [
        {
         "customdata": [
          [
           "john kerry",
           "America must always be the world's paramount military power"
          ],
          [
           "ari fleischer",
           "The Iranian people have been leading a revolution, a rebellion against their government knowing what dictatorship it is,"
          ],
          [
           "steve greenberg",
           "Push a button and it cleans your phone."
          ],
          [
           "ken paxton",
           "a member of a governing body has an inherent right of access to the records of that body when requested in the member's official capacity and for the member's performance of official duties."
          ],
          [
           "kellyanne conway",
           "We've had 35 out of 39 months under President Trump's administration, where we've had at least 100,000 new jobs, 200,000 in each of the last couple months, and this is two months into the coronavirus,"
          ],
          [
           "london breed",
           "I was proud to perform the nuptials for two amazing San Franciscans, Rick and Todd. Rick has also been an incredible leader in a sports world which hasn't always been a welcoming place for LGBT people to do something so simple as be open about who they love, and I'm happy to have played a small part in celebrating his marriage."
          ],
          [
           "james carville",
           "like he'd crapped a pineapple..."
          ],
          [
           "josh shapiro",
           "These are a few potential solutions, and we know each of your companies have the ability to implement other ways to protect American consumers during public emergencies. We look forward to working with you to enforce current statutes on price-gouging and implement these reforms."
          ],
          [
           "alessandra biaggi",
           "One thing that they really all have in common is that they've beaten the odds. They've brought something new to their office, and they've crashed the gate, so to speak,"
          ],
          [
           "andy beshear",
           "We need everybody doing the right thing."
          ],
          [
           "andy beshear",
           "We are thinking about her and her family,"
          ],
          [
           "elizabeth warren",
           "Look at the men on this stage. Collectively, they have lost 10 elections. The only people on this stage who have won every single election that they have been in are the women: Amy [ Klonbuchar ] and me.:"
          ],
          [
           "doug ducey",
           "They're going to close the gap in terms of what was missing."
          ],
          [
           "ryan costello",
           "There are so many other social issues beyond public transit, beyond climate change that we need to deal with,"
          ],
          [
           "ted yoho",
           "You can look at it as socialized medicine,"
          ],
          [
           "mitt romney",
           "But frankly, there's not a lot you can do to prevent the spread of a highly contagious condition. And if someone comes up with a way to do that, we'll all get behind them; but that's not there. But what (Trump) is doing is making sure that we get the preventative equipment... to medical professionals,"
          ],
          [
           "jane corwin",
           "In the last three years outflows have been substantially above average,"
          ],
          [
           "brett kavanaugh",
           "Suppose the state said we're going to allow the scholarship funds to be used for secular schools or Protestant schools but not for Jewish schools or Catholic schools. Unconstitutional?"
          ],
          [
           "nancy pelosi",
           "You can't be acquitted if you don't have a trial, and you can't have a trial if you don't have witnesses and you don't have documents."
          ],
          [
           "curt hagman",
           "for the logistics that they have."
          ],
          [
           "joe scarborough",
           "If she keeps finishing in fourth, fifth place, is it time to her to get out of the race to help consolidate efforts against Bernie Sanders? That's what a lot of buzz on Twitter suggesting that's the case."
          ],
          [
           "jim allen",
           "The important thing is to move forward with plans for November and try to plan accordingly,"
          ],
          [
           "scott sales",
           "I think the Legislature needs to be involved in the decision-making on where it's spent and how."
          ],
          [
           "xavier becerra",
           "American lives depend upon it."
          ],
          [
           "bernie sanders",
           "But if the stock market is in trouble, no problem!"
          ],
          [
           "donald rumsfeld",
           "5 days, or five weeks or five months. But it certainly isn't going to last any longer than that."
          ],
          [
           "joseph biden",
           "You basically just sit on your can all day and maybe show up at a meeting every month or two, so if a woman wants to do that, be my guest. I could see myself selecting [ Senator ] Amy Klobuchar, [ former Georgia State Rep. ] Stacey Abrams, or any one of the tens of millions of women perfectly capable of pulling off this no-show gig. I don't really care what her politics are, and anyway it hardly matters. This works out well, actually, since I can stick a lady in the VP spot and don't have to put one in an important role on the cabinet."
          ],
          [
           "shannon robinson",
           "It goes from 0 to 100 in about two seconds, and you just handle it,"
          ],
          [
           "sonia sotomayor",
           "As Justice Sonia Sotomayor said in a candid moment while she was still a lower court judge, `The court of appeals is where policy is made. '"
          ],
          [
           "pete buttigieg",
           "instead of polarization, progress."
          ],
          [
           "jeff brandes",
           "We should in turn give that discretion directly to the judge as they are the ones that we have asked to be impartial in the determination on justice issue, and that's what this bill looks to do,"
          ],
          [
           "joe biden",
           "When we landed -- we were going to Soweto,"
          ],
          [
           "pat toomey",
           "Wearing a cloth mask is not a substitute for staying home and regularly washing our hands, but it is an important complement,"
          ],
          [
           "angie craig",
           "We moved to telework starting Friday in the D.C. office,"
          ],
          [
           "henry mcmaster",
           "And that's our plan and we will continue with that."
          ],
          [
           "betsy devos",
           "the most toxic thing ever to happen to public education."
          ],
          [
           "lee qualm",
           "As we've gone on we realized we probably needed to have some more words in there, and when you're dealing with the feds and their rules that are coming down, we're finding out that other states are having to expand everything as well. So we're trying to get everything covered. We're learning from other states as we go."
          ],
          [
           "elissa slotkin",
           "This administration, like all others, has the right to act in self-defense,"
          ],
          [
           "william f. buckley jr. .",
           "racialized the epidemic by identifying Asian bodies as the source of contagion, contributing to their stigmatization."
          ],
          [
           "bernie sanders",
           "The fight for justice is what our campaign has been about. The fight for justice is what our movement remains about,"
          ],
          [
           "lance pruitt",
           "brought value to the institution."
          ],
          [
           "david ralston",
           "be extremely devastating to Republicans and conservatives in Georgia,"
          ],
          [
           "bernie sanders",
           "What we need is a new politics that brings working class people into our political movement which brings young people into our political movement and which in November will create the highest voter turnout in America's political history."
          ],
          [
           "elizabeth warren",
           "Your fight for progressive ideas moved the conversation and charted a path for candidates and activists that will change the course of our country and party,"
          ],
          [
           "paul gosar",
           "after sustained contact at CPAC with a person who has been hospitalised with the Wuhan virus"
          ],
          [
           "joe biden",
           "For too long, the warning signs were ignored,"
          ],
          [
           "joni ernst",
           "We can have a situation where if it should ever be President Biden, that immediately, people, right the day after he would be elected would be saying, `Well, we're going to impeach him. '"
          ],
          [
           "norman yee",
           "We need to stand up and say this is not acceptable."
          ],
          [
           "joni ernst",
           "Human trafficking continues to plague communities all across this country, including in my home state of Iowa,"
          ],
          [
           "jim kenney",
           "Big news for this Friday: Temple University has stepped up during this critical time. We reached an agreement to use The Liacouras Center and other Temple facilities as hospital space,"
          ],
          [
           "david paterson",
           "There were these emergency hospitals being built and the system really being very, very stretched."
          ],
          [
           "darin lahood",
           "What these two trade agreements that we got done under President [ Donald ] Trump do is they set the precedent for future trade agreements,"
          ],
          [
           "brian kemp",
           "We are laser-focused on assisting the hardworking Georgians who have been impacted by the spread of the virus,"
          ],
          [
           "mike pompeo",
           "Americans abroad face unprecedented challenges"
          ],
          [
           "mike pompeo",
           "Courage is something that is not easily taught and is closely tied with bravery, humility and sacrifice."
          ],
          [
           "mike pompeo",
           "The US continues to proudly stand with the Lebanese people in their peaceful calls for reform, transparency, and accountability,"
          ],
          [
           "doug burgum",
           "We want to ensure implementation of policies like a rent moratorium and freeze on foreclosures on residential property that will limit the threats presented by this public health crisis,"
          ],
          [
           "andrea stewart-cousins",
           "We believe that this gets to the heart of the issues and that it is still progressive,"
          ],
          [
           "joe scarborough",
           "That actually is the Republican speaker of the Wisconsin State Assembly in full-on protective gear. This guy who looks like he's in a hazmat suit telling Wisconsin voters that they were, quote, `incredibly safe' to go out."
          ],
          [
           "ben sasse",
           "In October, police in Florida arrested a man trafficking a fifteen-year-old girl, missing from her family for nearly a year, who had been subjected to horrific abuse that included [ alleged ] repeated rape and a forced abortion."
          ],
          [
           "steve hobbs",
           "Our major goal was to get past this year... and make sure projects on pause are unpaused,"
          ],
          [
           "phil roe",
           "The only thing (constituents) tell me is they wish (Trump) wouldn't tweet as much.... If you want a job, you can get a job.... This is the first time in my life the unemployment rate has been where it is."
          ],
          [
           "alan webber",
           "The older people in our city, the people with exposed or reduced immunities [ need to ] practice as much quarantining as possible,"
          ],
          [
           "lamar alexander",
           "I'm very concerned about any action that we could take that would establish a perpetual impeachment in the House of Representatives whenever the House was a different party than the president. That would immobilize the Senate,"
          ],
          [
           "thom collier",
           "We are not stating any particular stance on any law,"
          ],
          [
           "joe biden",
           "What we should do is phasing it out."
          ],
          [
           "ron desantis",
           "deserves to be reconsidered."
          ],
          [
           "bernie sanders",
           "Let me tell Putin, who interfered in 2016, trying to bring Americans against Americans if I am president of the United States, trust me, you're not going to interfere in any more elections,"
          ],
          [
           "rich vial",
           "The reality is, nobody listens to the secretary of state,"
          ],
          [
           "ron desantis",
           "And they're going to be told, `You have to self-quarantine. '"
          ],
          [
           "jennifer horn",
           "And this is really a problem for Warren because she already struggles with the authenticity issue. That's a much bigger problem for her campaign that what Bernie Sanders might have said at dinner."
          ],
          [
           "tim walz",
           "We just enjoy everybody when we're there so I really miss that."
          ],
          [
           "bert stedman",
           "This year, unfortunately, we're going to have a colossal supplemental on the table next week, into the hundreds of millions,"
          ],
          [
           "greg fischer",
           "This is a win-win for our city, our employees, our golfers, our pros and the taxpayers,"
          ],
          [
           "amy klobuchar",
           "This is going to happen to everyone and it's why we have to take incredibly fast and immediate measures now on hospitals and why we have been holding out for the best bill possible as well as the work that needs to be done for our economy, but that we can never forget that this is a democracy and people must be able to vote."
          ],
          [
           "shelley moore capito",
           "a nightmare for our country."
          ],
          [
           "tom killion",
           "With mandatory closures implemented, countless hourly workers in the Commonwealth have lost their ability to earn a living and provide for themselves and their families. We must do all in its power to limit the negative financial impact on hardworking Pennsylvanians."
          ],
          [
           "gavin newsom",
           "Look, I'm not here to second guess anybody, but I am here to say this, our decision on that basis, at least here in the state of California, will be determined by the facts, will be determined by the health experts, will be determined by our capacity to meet this moment, bend the curve and have the appropriate community surveillance and testing to confidently determine whether or not that's appropriate and right now I'm just focused on the immediate, but that's not something I anticipate happening in the next few months."
          ],
          [
           "jim clyburn",
           "We know Joe, and more importantly, Joe knows us,"
          ],
          [
           "tony evers",
           "It is critically important to give people flexibility during this emergency, when paychecks might be disrupted, to keep the lights and heat on and water flowing,"
          ],
          [
           "tim murphy",
           "He was frustrated, there's no point saying otherwise. All we can do is manage the situation as best we can now. As it stands David has the red card to his name, but that might change through the referee's report. He has the capacity to do that but we have to wait and see,"
          ],
          [
           "ralph northam",
           "I also know that some people are not listening,"
          ],
          [
           "mitch mcconnell",
           "Every one of our people in tough races, every one of them, is in better shape today than they were before impeachment started,"
          ],
          [
           "ron desantis",
           "I think people have realized that the epicenter of this thing has shifted,"
          ],
          [
           "elizabeth warren",
           "This at a time when the fund is running out of the money that can be sent to small businesses all around the country, here in Wyoming, to workers, to farmers, to ranchers, to small businesses, so we can keep people getting paychecks,"
          ],
          [
           "steven mnuchin",
           "It's yet another burden at a critical time."
          ],
          [
           "susan collins",
           "That way we can focus on the real crimes -- teenagers on marijuana."
          ],
          [
           "nancy pelosi",
           "the House will introduce and vote on a War Powers Resolution to limit"
          ],
          [
           "governor charlie baker",
           "We look forward to working with the Legislature to pass this bill into law and deliver these much-needed investments."
          ],
          [
           "andrew cuomo",
           "New Rochelle is the hottest spot in the country, the most dense cluster,"
          ],
          [
           "doug ducey",
           "Today's order will allow long-haul truck drivers to buy nutritious food during their trips, and will help increase business for food trucks at this time. Arizona will emerge from this public health challenge stronger by supporting each other and staying connected."
          ],
          [
           "andrew cuomo",
           "The one thing that we are not making any more of in Manhattan is open space,"
          ],
          [
           "nelson wolff",
           "And they hope to have it operational in the next two or three days."
          ],
          [
           "dov hikind",
           "She didn't address it. All she needed to do was to say, `I'm sorry. I made a terrible mistake.' Apologize to the Jewish people. Apologize to the people of this country for doing something that is so, so dangerous."
          ],
          [
           "phyllis schlafly",
           "winds, ocean currents, and sun activity."
          ],
          [
           "steven mnuchin",
           "This is very different than the financial crisis,"
          ],
          [
           "rick miller",
           "We are delighted to have someone with Jeannie's solid technical background and entrepreneurial experience join our board. It is clear from her exceptional achievements in leadership that she will bring high expectations and a commitment to excellence that will serve the College well,"
          ],
          [
           "barack obama",
           "Healthcare costs will go down."
          ],
          [
           "kristi noem",
           "The people themselves are primarily responsible for their safety."
          ],
          [
           "grace meng",
           "In 2018, Americans elected a record number of 20 Asian American and Pacific Islanders to Congress. We're proud to support the next wave of AAPI Democrats elected to Congress and stand with our champions in the House and Senate,"
          ],
          [
           "dennis guth",
           "where her spouse falsified his sexual orientation and then later on she was not able to reveal that when she went to court."
          ],
          [
           "lisa murkowski",
           "all Alaska all the time"
          ],
          [
           "tammy duckworth",
           "I said, `Go potty, honey, wash your hands,' and then (Sen.) Amy Klobuchar, in a very dry voice, just said, `And Tammy Duckworth just told everyone to go potty and wash our hands, that's good advice.' And I went `Oh my God,' and everybody was laughing at me."
          ],
          [
           "mike pompeo",
           "cauldron of tensions is leading more and more countries to take unpredictable decisions with unpredictable consequences and a profound risk of miscalculation"
          ],
          [
           "jim banks",
           "prohibit the U.S. from sharing intelligence with countries that allow Huawei to operate their 5G networks."
          ],
          [
           "elizabeth warren",
           "and that is why I'm going to win."
          ],
          [
           "mike pompeo",
           "We know what happened at the end of last year in December, ultimately leading to the death of an American. So, if you're looking for imminence, you need look no further than the days that led up to the strike that was taken against Soleimani."
          ],
          [
           "bill ingebrigtsen",
           "Gov. Walz championed the concept of `One Minnesota' as he ran for office, but his administrative policies since have been anything but that. This proposal unfairly targets residents in the rural part of the state, burdening them because they use trucks for their work or because they live a bit further outside of town,"
          ],
          [
           "ned lamont",
           "We tend to double the people who are infected every three or four days,"
          ],
          [
           "jeff sessions",
           "Third-it sets a very damaging and dangerous precedent. A President must have the ability to have candid conversations with his National Security Advisor, his AG, his SOS, etc., without fear those conversations will end up in a book or newspaper,"
          ],
          [
           "mike pompeo",
           "We think that this is an extremely dangerous conflict,"
          ],
          [
           "andy beshear",
           "The city will use the funds to equip a simulated career learning environment to stimulate high school students in the health care industry,"
          ],
          [
           "matt gaetz",
           "Killing Terrorist Soleimani was the right call. Ending the spilling of patriotic blood and American treasure in the Middle East will be even better. I know our President wants to wind down these undeclared, unconstitutional, unfocused wars,"
          ],
          [
           "toni harp",
           "His victory speaks to his commitment to creating relationships across the city. He spent a lot of time in Fair Haven and other wards where he flipped results."
          ],
          [
           "lucy vinis",
           "These events are a big economic boon to the city,"
          ],
          [
           "joe biden",
           "It's up to Bernie to do what he wants to do,"
          ],
          [
           "jim kenney",
           "If you don't want to move your car -- tough,"
          ],
          [
           "dallas heard",
           "It's amazing to me that this is such a difficult bridge for them to cross,"
          ],
          [
           "pete kelly",
           "She did a lot of personnel, human relations. She was very good. She did a great job."
          ],
          [
           "allen skillicorn",
           "Property taxes should be the last item to burden residents during this or any other time of a public health emergency."
          ],
          [
           "kevin cramer",
           "It's as if they want to go fishing in the United States Senate, and they're going to fish until they catch one."
          ],
          [
           "nancy pelosi",
           "And as a Catholic, I resent you using the word `hate' in a sentence that addresses me. I don't hate anyone. I was raised in a way that is heart full of love,"
          ],
          [
           "ryan peters",
           "We differ philosophically on a lot of things but where there are things we can come together, let's do that,"
          ],
          [
           "mike pence",
           "We know there will be thousands of more cases,"
          ],
          [
           "greg hertz",
           "I am in full support of Governor Bullock's Directive of providing counties the option to conduct our June 2 nd primary by mail,"
          ],
          [
           "bernie sanders",
           "Vote Bernie, save this."
          ],
          [
           "whitney westerfield",
           "I know it won't get a hearing until I'm OK with it, and for sure I've still got questions right now."
          ],
          [
           "tom cotton",
           "This is not ancient history, either. Just last year, Joe Biden said the Chinese Communist Party's full of good folks, and they're not a competitor to the United States. Last month, when President Trump shut down travel from China, which is the single-most important step our government has taken to arresting the spread of the Chinese coronavirus here, Joe Biden called it `xenophobic.' Joe Biden cannot be trusted to protect this country from the Chinese Communist Party."
          ],
          [
           "brad wilson",
           "These measures are intended to reduce contact between individuals and to maintain the health of lawmakers and staff throughout the remaining days of the session,"
          ],
          [
           "wes cooley",
           "When I first pulled up, tears came out my eyes. It is devasting,"
          ],
          [
           "tulsi gabbard",
           "Billionaire Bloomberg just bought the @DNC,"
          ],
          [
           "rick scott",
           "The way to go after these thugs is you have to go after their pocketbook, and when they don't have the money to do all these bad deeds -- we're not doing the Obama appeasement where we give them money. We're saying you attack our troops, you're going to suffer the consequences and we're going to make sure that you don't have the money to continue to do all the bad things you want to do around the world,"
          ],
          [
           "mike dewine",
           "Those sites have been picked out as additional sites, as places where we can expand and put beds and see more patients,"
          ],
          [
           "jim banks",
           "President Trump's greatest foreign policy achievement is bringing clarity to the relationship between China and the U.S. With that clarity, he's negotiated a first-step deal with Beijing that begins to right the many wrongs for which China is responsible,"
          ],
          [
           "toni preckwinkle",
           "At the last convention, he gave one of the best speeches I've ever heard in my life,"
          ],
          [
           "gavin newsom",
           "No older Californian should be forced to go outside to get groceries or their medication. It's on all of us across the state to check in on the older adults in our lives -- our friends, family, and neighbors -- to help them during this outbreak. Each and every one of us must reach out in a safe way to make sure our older neighbors have someone to talk to and have enough food to eat during these difficult times."
          ],
          [
           "paul gazelka",
           "But why would the St. Paul City Council choose to `celebrate' abortion? Some may think it's a necessary evil, but to celebrate abortion is bizarre,"
          ],
          [
           "alex villanueva",
           "we have to reiterate it is off-limits to everybody."
          ],
          [
           "mike pence",
           "every American can be tested"
          ],
          [
           "president jimmy carter",
           "addressed at every level of government and society."
          ],
          [
           "jerome powell",
           "We need to have a plan nationally for re-opening the economy. We all want it to happen as quickly as possible,"
          ],
          [
           "tulsi gabbard",
           "clear that Democratic primary voters have chosen"
          ],
          [
           "sue rezin",
           "turned the other cheek again and again again"
          ],
          [
           "stan saylor",
           "We've made some key steps in getting Pennsylvania's debt under control,"
          ],
          [
           "wayne christian",
           "In my business, I have to pay for the local sewage, the local garbage,"
          ],
          [
           "ling ling chang",
           "Not only do hackers take great steps to conceal their crime -- it took four years to discover the full extent of the Yahoo data breaches -- but it's predicted that cybercrime will cost the world $6 trillion annually by 2021. This proposal will help deter future attacks and help victims get justice in the most severe cases."
          ],
          [
           "mike parson",
           "Each elected official has the ability to make their own decisions when they feel like it's safe for those employees to come back, and I will allow them to make those choices."
          ],
          [
           "joe biden",
           "a leader who shares those values and has been an outspoken advocate for that vision for a long time."
          ],
          [
           "val demings",
           "Yes we will try the case in front of the senate, but we are really trying the case before the American people. And I've certainly stood before the microphone like this on some good days and some tough days, to tell some good stories and some tough stories."
          ],
          [
           "michael bennet",
           "It's very important, very important to do well in New Hampshire. It's vital for me."
          ],
          [
           "debbie stabenow",
           "One-time payments are not what people need. What people need is a paycheck. They need ongoing income until this is done. That's what they need."
          ],
          [
           "gretchen whitmer",
           "Right now, with the quarantine, I just have to stay home and work out at home,"
          ],
          [
           "ronald rice",
           "When people buy homes, they should be made aware of whether or not there are lead service lines running into their home,"
          ],
          [
           "anthony sabatini",
           "There are no real valid, serious diagnoses given to a child before they go down the path of changing their gender and their sexual identity."
          ],
          [
           "joe biden",
           "the responsibility of a president. That is what is owed to the American people."
          ],
          [
           "christian mcdaniel",
           "In the event that you are not successful in raising that half of a billion dollars by the end of this year, will the Commonwealth be in any position to recover the investment that we have made?"
          ],
          [
           "john dean",
           "He's cleaned up his professionalism. He's improved considerably."
          ],
          [
           "chris sununu",
           "Whether you agree or not with this president, his policies or his successes, the fact is he says what he means and he means what he says. And there's something very genuine about that,"
          ],
          [
           "rashida tlaib",
           "This past year, I realized -- my, my, my are they obsessed with our bodies, how we talk, how we look, what we stand for -- I mean this type of policing of our bodies is so interconnected to all the social justice movements all around the country,"
          ],
          [
           "mitch mcconnell",
           "At every level, the coronavirus outbreak is testing our nation and our institutions,"
          ],
          [
           "chad christensen",
           "Kind of starting to wind down on the season, and if we want to end with our goal of being the top team in the state, to make sure we're the No. 1 seed come state tournament time, you got ta keep winning games that count, and this was a big one."
          ],
          [
           "eliot engel",
           "These measures have not proven to improve public health outcomes, rather they tend to cause economic harm, and to stoke racist and discriminatory responses to this epidemic."
          ],
          [
           "tommy tuberville",
           "It's out of our hands because we watch it, and it is going in the other direction."
          ],
          [
           "al sharpton",
           "I think extremists on both sides exploited it and they poisoned the atmosphere,"
          ],
          [
           "bill de blasio",
           "We will identify any inmates who we think need to be brought out, either because of their own health conditions, if they have any pre-existing conditions, or because the charges were minor and we think it's appropriate to bring them out in this context,"
          ],
          [
           "mike kelly",
           "We have a new group of seniors coming up and we want to provide more activities for them. We are playing musical chairs to move one group out and one group in,"
          ],
          [
           "bob menendez",
           "These are hypotheticals we don't play with."
          ],
          [
           "mike pompeo",
           "Absolutely, George. Remember what happened during this terrible nuclear deal: hundreds of thousands killed in Syria; Shia militias, the ones that we're fighting today, underwritten, resource growing, taking control in places like Iraq; missiles fired from Yemen that could easily have killed Americans when they attacked on September 14th. All of these things -- these things were ongoing activities resourced and funded by the trade and the money that was provided under the JCPOA."
          ],
          [
           "bryan king",
           "Changing Developmental Trajectories of Toddlers with Autism Spectrum Disorder: Strategies for Bridging Research to Practice"
          ],
          [
           "peter defazio",
           "somehow has got to change."
          ],
          [
           "mike pompeo",
           "There will be a lot of time to look back."
          ],
          [
           "tim kane",
           "We're grateful for Comerica's partnership in helping us present our first Hockey Without Barriers Night."
          ],
          [
           "mike dewine",
           "After the shooting in Dayton, Gov. DeWine proposed a red flag law and by October, he backed away from that,"
          ],
          [
           "phil murphy",
           "They have a limited supply of stuff, and our asks are significant,"
          ],
          [
           "elizabeth warren",
           "champion invested in rethinking the county's approach to criminal justice reform."
          ],
          [
           "lauren underwood",
           "I am so honored to have Karen join me as my guest to the State of the Union address,"
          ],
          [
           "al gore",
           "The United Nations issued a report saying that every child in the world alive today will be a victim of the climate crisis, because we are seeing such dramatic changes take place,"
          ],
          [
           "susan collins",
           "Requiring veterans and SSI recipients to file a tax return in order to receive their stimulus payment adds an additional burden on those most vulnerable to this pandemic and increases the risk they will not receive these much-needed payments,"
          ],
          [
           "cynthia thielen",
           "It's the first `wet center' test site in the United States,"
          ],
          [
           "john roberts",
           "criticized the Senate's top Democrat for saying the Supreme Court's two Trump appointees will `pay the price' should they vote against abortion rights,"
          ],
          [
           "pete buttigieg",
           "we have done with it someone who is new in national politics."
          ],
          [
           "mike pompeo",
           "He made the right call and America is safer as a result of that."
          ],
          [
           "bernie sanders",
           "Even a Fox News audience agrees that our progressive ideas are not radical."
          ],
          [
           "amy klobuchar",
           "I sit there knowing that I'm off the campaign trail while some of my opponents are running around everywhere,"
          ],
          [
           "kristi noem",
           "I am choosing as Governor to not spend those dollars,"
          ],
          [
           "rebecca chavez-houck",
           "It is going to be contingent on the public to hold the commission accountable. We have given them the guidelines. We have given them the standards to which they need to account,"
          ],
          [
           "julián castro",
           "I'm thrilled to welcome Elizabeth to San Antonio."
          ],
          [
           "derek kawakami",
           "All but one case has been confirmed to be travel-related. There is no clear source of infection for one case and therefore it has been determined by the Department of Health to be our first case of community transmission,"
          ],
          [
           "bob l'heureux",
           "The thought of someone even using one for hunting is ridiculous,"
          ],
          [
           "bill cassidy",
           "But that way, if I have to prove that I was vaccinated for hepatitis B when I go to nursing school or medical school many years later, I go online, put on my record in, and boom -- they can see that I've been vaccinated."
          ],
          [
           "dean trantalis",
           "The idea is to reduce the amount of pressure that we put on our homeowners and rate payers and to try to still get the job done and I thought that we were very shortsighted in borrowing $200 million at that point,"
          ],
          [
           "andrew cuomo",
           "When we have faster testing"
          ],
          [
           "robert gates",
           "Biden is accused of `poisoning the well' against the military leadership. Thomas Donilon, initially Obama's deputy national security adviser, and then-Lt. Gen. Douglas E. Lute, the White House coordinator for the wars, are described as regularly engaged in `aggressive, suspicious, and sometimes condescending and insulting questioning of our military leaders."
          ],
          [
           "rudy giuliani",
           "It's a shame that a man will sacrifice his integrity to make a few bucks on a book. No wonder he accomplished so little as National Security Advisor."
          ],
          [
           "nancy pelosi",
           "a clear and brazen act of retaliation that showcases the president's fear of the truth."
          ],
          [
           "justin amash",
           "The defense team's strategy rests on pretending that news doesn't exist."
          ],
          [
           "joe manchin",
           "I'm not going socialist. Never been a socialist."
          ],
          [
           "susan collins",
           "It's important that we continue to add Flight III capability to the fleet while also avoiding these... peaks and valleys in our industrial base that end up squandering the expertise and training of skilled workers at shipyards like Bath Iron Works,"
          ],
          [
           "andrew cuomo",
           "Now, that's not what people really mean, but that's what it sounds like. Communicate what you mean without using terms that nobody understands and only incites panic,"
          ],
          [
           "mitt romney",
           "I think that you're seeing the kind of speed and seriousness which you'd hope to see in the kind of setting that we have."
          ],
          [
           "chris smith",
           "If they want to go away and live in Canada or whatever, I do not know what the issue is"
          ],
          [
           "steven mnuchin",
           "We don't set arbitrary dates on these issues. The president thinks we should move forward quickly."
          ],
          [
           "katie porter",
           "Wall Street slush fund."
          ],
          [
           "julian castro",
           "That's what you're summoning -- the energy of the people, matched with a strong, positive vision for change in our country,"
          ],
          [
           "michelle lujan grisham",
           "which helps counteract the potential impact of fluctuations in the oil market,"
          ],
          [
           "ed markey",
           "Threats are not an alternative to a negotiated agreement."
          ],
          [
           "sherrod brown",
           "see the fear in the eyes"
          ],
          [
           "dave cox",
           "China's OK now, it's back in production,"
          ],
          [
           "j.b. pritzker",
           "We will need to make extraordinarily difficult decisions on top of the difficult decisions we've already made, but together with the state Legislature, we will make them, and we will do so with an unswerving dedication to fairness."
          ],
          [
           "mike braun",
           "Even if that were, which [ Trump lawyer Alan ] Dershowitz says it wouldn't be impeachable, it's still the rest of the case doesn't have anything to it because it's built on a flimsy circumstantial platform,"
          ],
          [
           "elizabeth warren",
           "We should de-escalate here and try to get Iran back to the negotiating table."
          ],
          [
           "adam schiff",
           "I was struck by the irony."
          ],
          [
           "gov. eric holcomb",
           "The purpose of this guidance is not to restrict religious liberty, but to save lives during these extraordinary times. I look forward to the day where we can once again worship side-by-side without the threat of spreading coronavirus."
          ],
          [
           "barbara bry",
           "Everybody deserves a trial, even Donald Trump deserves a trial."
          ],
          [
           "nicole malliotakis",
           "The goal should have been that everyone receives their constitutionally protected rights to a speedy trial, not a blanket release without bail policy that lets out people who even commit crimes like assault, aggravated assault of a child, vehicular manslaughter while driving drunk, criminally negligent homicide, strangulation,"
          ],
          [
           "jenny durkan",
           "History will say we are living in a time more transformational than the industrial revolution,"
          ],
          [
           "merrill nelson",
           "The ultimate question is whether putting more money into trains is the right way to go versus buses."
          ],
          [
           "karen johnson",
           "There is potentially light at the end of the tunnel for retailers, given the extent to which people are ready and willing to spend online. However, consumer nervousness is still understandably widespread -- so the extent to which online channels can compensate for lost high-street spending is yet to be seen."
          ],
          [
           "joe biden",
           "I'm hoping he's looking. But I tell you what -- so far I don't think it's sufficient just to say, `I disassociate myself,"
          ],
          [
           "london breed",
           "We know that many of our most vulnerable residents -- those who could get very sick or die if they contract COVIC-19 -- are living in congregate and semi-congregate settings like shelters and single-room occupancy hotels,"
          ],
          [
           "thom tillis",
           "doing nothing more than asserting privilege."
          ],
          [
           "ayanna pressley",
           "one rife with hatred and bigotry,"
          ],
          [
           "max rose",
           "You know, I see this problem as really in three separate groups,"
          ],
          [
           "dolph briscoe",
           "Lumber, horticulture, poultry and cow/calf operations are a big part of the overall agricultural production landscape, and it's important to have the class learn about the opportunities, issues and challenges within those industries."
          ],
          [
           "mike huckabee",
           "I now regret that I did it and that I invited your participation,"
          ],
          [
           "andrew cuomo",
           "These are not helpful hints. These are legal provisions. They will be enforced,"
          ],
          [
           "bernie sanders",
           "I heard, during that period in the '90s, I heard all of corporate America say, `You got ta vote for these trade agreements.' And all of the media said, `You got ta vote for these trade agreements.' I stood with the unions, the working families of this country; I voted against those agreements! Joe Biden voted for those agreements."
          ],
          [
           "fred thompson",
           "I think it's too perfect to be natural. The nose is perfectly vertical to the earth and the eyebrows are 90 degrees to that,"
          ],
          [
           "chris gibson",
           "I'm truly grateful for the twists and turns in life that have brought me here today,"
          ],
          [
           "joyce elliott",
           "It's a political stunt that will perhaps get you on national TV,"
          ],
          [
           "ron desantis",
           "We're going to be in charge of this as a state? We have 22 million people, almost. Very diverse state. For us to be micromanaging vacation rentals, I'm not sure that's the right thing to do."
          ],
          [
           "joe biden",
           "there have been studies showing that it complicates other problems if you already have a problem with certain drugs."
          ],
          [
           "john garamendi",
           "That's exactly what my legislation ensures. I look forward to continuing to work with Governor Newsom's administration on this and other priorities for our state."
          ],
          [
           "marty markowitz",
           "You make Brooklyn proud."
          ],
          [
           "lee chatfield",
           "To do it all in one fell swoop, it's politically unsavory... and I also think it's dangerous for our economy to do so,"
          ],
          [
           "andy barr",
           "we need to make no excuse for hateful comments whether they come from friend or foe."
          ],
          [
           "mead treadwell",
           "If Russia is doing 2,600 miles of sea ice to get to the ice limit in the Bering Strait, we have only about 600 miles from the Prudhoe Bay area, the Point Thomson area to get to the Bering Strait."
          ],
          [
           "debbie johnson",
           "For every one of these babies it means $3,000 per year for federally funded programs for each of ten years,"
          ],
          [
           "mike shirkey",
           "to walk and chew gum, safely."
          ],
          [
           "pete hegseth",
           "I feel like the more I learn about this, the less there is to worry about."
          ],
          [
           "jim himes",
           "This is a sad and dangerous moment even as this committee was the epicenter of the polarizing impeachment debate. The committee has always succeeded in compartmentalizing the emotions and arguments of impeachment and the critical work we do on behalf of the American people,"
          ],
          [
           "ivanka trump",
           "I'm not saying I'm going to do it, but we're going to look at it."
          ],
          [
           "paul pate",
           "`no official role in the Iowa Caucuses."
          ],
          [
           "richard ojeda",
           "Unfortunately, I do not know the extent of the damage done by Mr. Miller,"
          ],
          [
           "mitch mcconnell",
           "We're hoping he and the speaker can pull this together so that we end up not playing partisan games,"
          ],
          [
           "mike pompeo",
           "They breed corruption, dependency and instability."
          ],
          [
           "jim burn",
           "Let's see if he can cash in."
          ],
          [
           "sylvia garcia",
           "What is so dangerous is that President Trump is helping them perpetuate this -- our own president is helping our adversary attack our processes."
          ],
          [
           "jim banks",
           "We've requested regular updates on the new coronavirus case and offered any assistance our office can provide."
          ],
          [
           "phil murphy",
           "Let us never ever, ever let this get abstract,"
          ],
          [
           "mark meadows",
           "Mick Mulvaney is still the acting chief, officially."
          ],
          [
           "joe biden",
           "I do believe it's a risk."
          ],
          [
           "jerome powell",
           "And there are reports of additional legislation in the works."
          ],
          [
           "dick van dyke",
           "we love you Bernie, oh yes we do,"
          ],
          [
           "phil murphy",
           "We are literally going around the world, not just around the state or country, in terms of trying to source personal protective equipment and ventilators in particular,"
          ],
          [
           "lenny curry",
           "Mayor Lenny Curry is working with City Council members to move forward and secure necessary funding for public schools in Duval County. The mayor has always agreed that more funding and resources are required to improve education for Jacksonville students."
          ],
          [
           "lloyd doggett",
           "When we really get going it's a short month,"
          ],
          [
           "lawrence wasden",
           "I have no problems with providing a legal defense of the governor's order and stand ready to do so should the need arise."
          ],
          [
           "jovita carranza",
           "working hard to get money... quickly"
          ],
          [
           "mike shirkey",
           "She continues to repeat that we've never been serious about roads, we've never presented plans or options on roads -- is just flat wrong. She may not like them,"
          ],
          [
           "rudy giuliani",
           "[ The MEK ] is very supportive of a free... Iraq. It's run by a great woman who is committed to ending suppression of women and in a non-nuclear Iran,"
          ],
          [
           "bob mcfarland",
           "Working with Grant Thornton means we can help clients nail their supply chain goals in more strategic and powerful ways across the organization."
          ],
          [
           "elizabeth warren",
           "I hope Trump keeps rolling on,"
          ],
          [
           "lindsey graham",
           "At what point does the commander in chief's authority to control funds clash with the direction by Congress? I think this thing's been going on for quite a while."
          ],
          [
           "bernie sanders",
           "This is a completely lawless president."
          ],
          [
           "rand paul",
           "I think he truly believes that... and one thing Trump has done is he's changed it and made it more acceptable for the things I've been saying all along. The GOP is no longer a party where you have to worry about being for less intervention. That's the president's position -- and he says it in front of 25,000 people [ at rallies ] all across the country."
          ],
          [
           "jesse arreguin",
           "And I think if people look at the power content label and it says `nuclear,' I think that's going to be a real black mark for the agency."
          ],
          [
           "j.b. pritzker",
           "I know how frightening it can be to imagine that,"
          ],
          [
           "scott surovell",
           "I have been fighting for this for three years, and with the support of fellow legislators, we can bring vast improvement to our transportation system with ripple effects throughout Virginia,"
          ],
          [
           "pete stauber",
           "There needs to be quality jobs for folks to stick around after high school."
          ],
          [
           "gretchen whitmer",
           "We are living in a difficult time, & the unknown is scary,"
          ],
          [
           "jon bramnick",
           "has been responsible for hundreds of costly lawsuits resulting in the courts dictating what we do in our towns and making the system a mess and expensive."
          ],
          [
           "gov. eric holcomb",
           "I won't go so far to say, maybe I will, that you're living in a parallel universe if you don't think this is real. This is real. The numbers are going to continue to increase by the very definition of the what this virus is."
          ],
          [
           "bryan simonaire",
           "They supported the gambling, they received the money. So they should also have a direct role in supporting the students who are adversely affected from this."
          ],
          [
           "gavin newsom",
           "All of us have a little cabin fever,"
          ],
          [
           "keith ellison",
           "We can do better and preserve life if we have a stronger grip on how to handle people who find themselves in a mental health crisis,"
          ],
          [
           "r. clarke cooper",
           "All the engagements, all the freedom of navigation operations, all the exercises, all the joint training, having U.S. military personnel in port, on the ground, on the flight's line, does require that we have a mechanism that allows that."
          ],
          [
           "mary kay papen",
           "I think the working relationship has improved,"
          ],
          [
           "steve scalise",
           "Whose side are you on if you're going to criticize an American president for taking steps that will save American lives against a person who had a long history -- a decades-long history -- as a terrorist?"
          ],
          [
           "tate reeves",
           "This will not be easy for anyone, but we believe it is right,"
          ],
          [
           "doug lamalfa",
           "I'm grateful for the Trump Administration's constant support helping the North State recover from wildfire damage,"
          ],
          [
           "senator harris",
           "I'm proud to join my colleagues in honoring the brave men and women who have risked their lives to keep our communities safe. Their courage will never be forgotten."
          ],
          [
           "rand paul",
           "He should testify as a material witness,"
          ],
          [
           "roy cooper",
           "We've got thousands of teachers leaving North Carolina for better pay and more respect,"
          ],
          [
           "brett kavanaugh",
           "arresting for trespassing a group of people who were partying late at night with drugs and strippers in a vacant house that the partiers did not own or rent."
          ],
          [
           "stephen dwight",
           "The Census will be in 2020, we will start looking at redistricting in 2021, and I think it will probably be a special session so we have all of the legislators focus on just redistricting,"
          ],
          [
           "jerome zeringue",
           "It doesn't allow the public information in terms of transparency."
          ],
          [
           "mike fleck",
           "Maintaining a 4.0 GPA, being an exceptional athlete and winning tournaments is what attracted us to Sterling. His accomplishments in a short period of time are impressive."
          ],
          [
           "chuck grassley",
           "because the minute that Speaker Pelosi decides to send over the articles of impeachment, if she decides to do that, then that's going to have priority over everything else in the United States Senate."
          ],
          [
           "gretchen whitmer",
           "Any proposal that creates more problems than it solves, is not a serious solution,"
          ],
          [
           "thomas massie",
           "millions of essential, working-class Americans are still required to go to work during this pandemic."
          ],
          [
           "mike sexton",
           "They get off work and they have that extra hour to go to ballgames and do stuff during the summer."
          ],
          [
           "steve womack",
           "Keep your hands clean, don't touch your face, practice social distancing, do the things necessary so that we don't participate in what is known as community spread and make the situation worse."
          ],
          [
           "chuck schumer",
           "Longer range, we'd like to see the Department of Justice really get behind a much greater development of resources to community police,"
          ],
          [
           "brad raffensperger",
           "the Secretary of State is only sending ballot request forms to active voters in Georgia for the upcoming May election only... The Secretary of State is not implementing statewide mail-in voting."
          ],
          [
           "andrew cuomo",
           "New York thanks you. We arebeyond grateful for this gift of critically needed (personal protectiveequipment)."
          ],
          [
           "elizabeth warren",
           "And I thought I would make this easy. I wrote up a release and covenant not to sue. And all that mayor Bloomberg has to do is download it. I'll text it. Sign it, and then the women and men will be free to speak and tell their own stories."
          ],
          [
           "george stephanopoulos",
           "We've got eight contracts under gear right now, people in centers constructing facilities, probably about 8,500 beds,"
          ],
          [
           "michael bennet",
           "I don't think this is speculation. Countries like the Czech Republic, South Korea and Singapore have encouraged mask wearing and it has proven effective. We are in the middle of an unprecedented crisis and we need to do everything we can."
          ],
          [
           "rudy giuliani",
           "Even if we would have had that conversation, it would have been privileged between a mayor and a governor.... He's an honorable guy. I can't believe he would do that. I just keep getting disappointed. I got about five friends left."
          ],
          [
           "sherrod brown",
           "The next coronavirus-response package Congress passes must honor the dignity of their work by including this Pandemic Premium Pay proposal to compensate our frontline heroes and mandatory safety requirements to keep them safe on the job,"
          ],
          [
           "jay inslee",
           "Last week, I still feel like people were not taking this [ pandemic ] seriously, and it didn't become serious in Washington until a few days ago,"
          ],
          [
           "lori lightfoot",
           "and we are doing everything we can to disabuse people of that notion."
          ],
          [
           "ron desantis",
           "We're expecting to continue to see more, that's just the nature of this,"
          ],
          [
           "paul donato",
           "He has the green light to go for it as long as we are up two goals. This was the first opportunity."
          ],
          [
           "dianne feinstein",
           "super-secretive, thin-skinned, megalomaniacal leader"
          ],
          [
           "bill foster",
           "It's a good deal for both sides and a bad deal for both sides, too,"
          ],
          [
           "glenn grothman",
           "Is the NBA under-reacting or is the Ivy League overreacting?"
          ],
          [
           "ilhan omar",
           "Incredible win for the people of #Taiwan and democracy! Communist China's threats and interference have failed, and the people have spoken loud and clear that freedom and democracy prevails!"
          ],
          [
           "john boozman",
           "I think you're talking about several weeks,"
          ],
          [
           "susan king",
           "I would say call your neighbor, donate where you can and pray,"
          ],
          [
           "marty walsh",
           "This is something very different. This is something that we don't know what the end result will be."
          ],
          [
           "jumaane williams",
           "Now is a leadership moment to unify -- not inflame tensions, and we shouldn't listen to those who do."
          ],
          [
           "bernie sanders",
           "We can learn some lessons from what the Right wing is doing,"
          ],
          [
           "ralph norman",
           "For years people have speculated whether, in the long run, an open and democratic society like ours is truly better than a closed and authoritarian system like China's,"
          ],
          [
           "les aucoin",
           "If you think of congressional life as an envelope, I lived it in a way that pushed the envelope as far as it possibly could,"
          ],
          [
           "candice miller",
           "We are disappointed at the news that Selfridge Air National Guard Base was not selected as an F-35 base,"
          ],
          [
           "mikie sherrill",
           "I'd especially like to thank all the students from across our community who made beautiful, heartfelt valentines. I know our veterans truly appreciate the outpouring of support from our residents."
          ],
          [
           "ted cruz",
           "They did not follow the precedent from the Clinton impeachment. They didn't follow the precedent from the Nixon impeachment. They didn't allow the minority to call witnesses. They didn't allow the White House to cross examine those witnesses,"
          ],
          [
           "gretchen whitmer",
           "We're Michiganders. We're tough. We know how to take care of each other. We will get through this. But for now, please make sure your families and friends are taking every preventative measure available to keep yourselves safe. Talk to your friends and your family and your coworkers and encourage them to make smart choices."
          ],
          [
           "marco rubio",
           "because actions meet a standard of impeachment does not mean it is in the best interest of the country to remove a President from office."
          ],
          [
           "anthony silva",
           "Hopefully this virus thing goes by, so family can see them because I know grandparents are dying to see the babies,"
          ],
          [
           "mike steele",
           "We're trying to tell the public, `look we have a lot going on weather-wise this weekend, plus potentially more weather issues Monday in addition to the national championship game,"
          ],
          [
           "brian egolf",
           "Given all the important demands and the new demands, we made great progress,"
          ],
          [
           "joe biden",
           "I don't think you should ever give praise to dictators,"
          ],
          [
           "dana perino",
           "Our security acted very quickly. And then a number of staffers including myself jumped in to have Vice President Biden, Dr. Biden and Valerie Biden-Owens' back as they were on the stage."
          ],
          [
           "david osborne",
           "If he's going to call us into special session, call us into special session so we know we can leave here without a budget. Because right now, if we leave here without budget then we are in violation of our constitutional obligations,"
          ],
          [
           "jared polis",
           "Look, this isn't going to be easy. But the more-seriously we take this public health emergency, the better we can weather the storm and get through this crisis with as little loss of life and as little damage to our economy as possible,"
          ],
          [
           "andy beshear",
           "It is critically important that it is followed,"
          ],
          [
           "nikki fried",
           "Fried lashes out as GOP moves to limit her power"
          ],
          [
           "rashida tlaib",
           "It's for all of the people now living in poverty. It's for my neighbors right here in Detroit that get their water shut off, their kids taken away the following day. Show up for her,"
          ],
          [
           "gretchen whitmer",
           "We're at the beginning of the curve -- we're nowhere near the apex. And so it is a dire situation right now,"
          ],
          [
           "craig ford",
           "We do this in milliseconds, not impacting the dispensing process. Pharmacy chains are getting immediate real-time compliance validation checks at the point of sale. It's cleaner, more accurate, and it addresses federal regulations,"
          ],
          [
           "dana dow",
           "We've taken care of most things and we've done it calmly, and we've done it cordially,"
          ],
          [
           "jared polis",
           "transition from coal-fired power to cheaper, cleaner sources of renewable energy."
          ],
          [
           "jerrold nadler",
           "They're asking for Hunter Biden is just more of a smear of Hunter Biden that the President is trying to get the Ukraine to do,"
          ],
          [
           "mike pence",
           "Life is winning in American again."
          ],
          [
           "rob portman",
           "to take this into the election"
          ],
          [
           "michael dewine",
           "It's a simple concept, but when we are united, we are stronger. OneOhio puts us in the best position to face the drug companies did so much to destroy lives and communities when they got Ohioans hooked on their highly addictive products,"
          ],
          [
           "larry krasner",
           "I'm here for the victim, for the victim's family, for any survivors, and also just to show how much we care about our law enforcement officers."
          ],
          [
           "barbara mcconnell",
           "The overall effort from fundraising to implementing this new portable X-Ray machine shows what's possible when a community comes together. We are very proud of our partnerships with individuals, service clubs and businesses throughout the County who support the Foundation's fundraising initiatives year after year. We know the addition of this portable X-Ray to our hospital will serve our community for years to come and will move with us to the new hospital, once opened."
          ],
          [
           "bill thomas",
           "And climbed up the ladder, got on top of the hatch and jumped, and just as soon as he jumped, the sub popped up like a tip-up, hit his foot, he fell into the boat, never saw the sub go down,"
          ],
          [
           "nancy pelosi",
           "something that we should discuss"
          ],
          [
           "greg abbott",
           "to stop the release of dangerous felons from prisons and jails in Texas."
          ],
          [
           "robert johnson",
           "I never would have guessed that fast, that early,"
          ],
          [
           "mike kelly",
           "The guys who have gotten more minutes have earned them. We think about percentage as we fight for a possible finals berth and what it could mean but we are about developing the players we have and building the future for the Taipans."
          ],
          [
           "ed henry",
           "the last time around, as I recall, didn't the [ Democratic National Committee ] refuse to turn over its servers that were hacked?"
          ],
          [
           "greg abbott",
           "we will be able to dramatically increase our capacity to test those in the United States who may show signs of immunity"
          ],
          [
           "cameron sexton",
           "Some people don't think it's possible to have a free competitive marketplace in healthcare. I think we can do it, but we have to be disciplined and patient,"
          ],
          [
           "ken sikkema",
           "How to fund road repair and maintenance is one of the top priorities identified by the Michigan public... but it's a difficult issue because it's going to require revenue,"
          ],
          [
           "mitch mcconnell",
           "trial will commence in earnest on Tuesday."
          ],
          [
           "j.b. pritzker",
           "to unlock additional federal resources and help the state prepare for the potential of further spread,"
          ],
          [
           "joe biden",
           "The next president is going to inherit a divided nation and a world in disarray."
          ],
          [
           "jason crow",
           "a tool only to be used in rare instances of grave misconduct."
          ],
          [
           "adrin nazarian",
           "You're not going to see people taking to the streets in excitement and glee over this in L.A.,"
          ],
          [
           "bernie sanders",
           "We were saying, yeah, in our country we also have a housing crisis. Our housing in general is better than yours but people are paying 40% of their income for housing. The quality of your housing is not good, but we appreciate the fact that people are paying 5%. The quality of your health care we understand is not good, but in the United States, believe me, we have enormous problems in terms of our health care system."
          ],
          [
           "john dean",
           "I don't know if the people who voted it down twice that it really makes sense to run it a third time. I would think they have spoken at that time, and why keep asking if they said no twice already? I think we would have to look at rate increases for our utilities to cover that cost,"
          ],
          [
           "steve bellone",
           "I told the judges, if you're not going to remove my children [ from their father ] they're going to die,"
          ],
          [
           "andrew cuomo",
           "We are in awe of you. We're all inspired by you. We all wonder secretly would we have the courage to really step up at a time of challenge and they are doing it, and they are doing it every day. And we are all in their debt. And we respect them and we love them for what they're doing."
          ],
          [
           "patricia crawford",
           "But I also feel like the government picks and chooses who can practice their Second amendment right,"
          ],
          [
           "jb pritzker",
           "reasonable to feel apprehension,"
          ],
          [
           "mathieu eugene",
           "That is why it is imperative that everyone does their part to protect our most vulnerable communities,"
          ],
          [
           "tom burch",
           "DWI arrests seem to be kind of level compared to last year,"
          ],
          [
           "steve harrison",
           "I tend to trust law enforcement to discharge its duty,"
          ],
          [
           "john cullerton",
           "I've been informed that the governor has decided to interject himself in this process, and doesn't want this approved in this form,"
          ],
          [
           "london breed",
           "When I was growing up in the 70s and 80s, it was like, you know, we couldn't come over here,"
          ],
          [
           "john dean",
           "Barr staged it and I'd bet with a heads up to the White House!"
          ],
          [
           "jon tester",
           "There's not enough test kits. We don't know how wide it is. And it's because the president dropped the ball early,"
          ],
          [
           "mitch daniels",
           "You can't be a great psychologist or sociologist or economist these days unless you are able to access and draw smart conclusions from the exploding amounts of information that are out there,"
          ],
          [
           "steve bellone",
           "We are thankful to those who have stepped up."
          ],
          [
           "mazie hirono",
           "Into a total suck-up -- you can quote me on that."
          ],
          [
           "david wilkerson",
           "And then I put a dash,"
          ],
          [
           "karen fann",
           "We know that somewhere in the future we will have a recession again so we cannot overspend in that baseline budget,"
          ],
          [
           "michael adams",
           "I ran for this office to make it easy to vote and hard to cheat. While we're taking steps to make it easy to vote and ensure a successful primary election, we cannot lose sight of the importance of ballot integrity. That's why we need this law to require a photo ID to vote in Kentucky's elections."
          ],
          [
           "bernie sanders",
           "Most people who followed that issue closely understood that the Bush administration was lying through its teeth with regards to Saddam Hussein having weapons of mass destruction."
          ],
          [
           "tulsi gabbard",
           "I hate the politics of hyperpartisanship, of people in positions of power and influence who are more interested in keeping their power than actually helping people that they are supposed to be serving,"
          ],
          [
           "david osmek",
           "Critics of bill on clean energy are wrong,"
          ],
          [
           "bill lee",
           "Nashville clearly came out on top in a nationwide search due to geographic location, business climate, and growth in the aviation sector,"
          ],
          [
           "roy cooper",
           "Many of you have become home-school teachers in the past week, and I know this is extremely difficult for you and your children, but this is what we need to do to help to slow the spread of the virus, and I am committed to ensuring that our students get an education and get as much education as they can this year,"
          ],
          [
           "david scott",
           "The clinical specialist can ring Waikato and say we want to admit this person. There's much less push back from them."
          ],
          [
           "jeanine pirro",
           "Everything in my gut tells me [ Forewoman Tomeka Hart ] wanted to get on that jury and denied doing anything that was partisan. Shame on the judge."
          ],
          [
           "bernie sanders",
           "It is not just the ideological debate that our progressive movement is winning. We are winning the generational debate,"
          ],
          [
           "joe biden",
           "We ought to be able to do what we were able to do in the middle of the Civil War all the way through to World War II - have Democratic and Republican conventions and primaries and elections, and still have public safety. We're able to do both."
          ],
          [
           "bob duff",
           "Supplies will come back,"
          ],
          [
           "boise kimber",
           "We believe this resolution is in the best interest of the safety of the public and are pleased that the commissioner was so willing to engage with us on this issue,"
          ],
          [
           "lori lightfoot",
           "As we continue to closely monitor the two confirmed cases in Illinois, I would like to remind residents that the chances of contracting coronavirus remain very low,"
          ],
          [
           "mike pence",
           "always stand by Israel's side."
          ],
          [
           "joe biden",
           "decriminalize HIV exposure and transmission,"
          ],
          [
           "amy klobuchar",
           "won our endorsement by convincing us that, among her rivals, in this divided political culture, she is the best person to push through an agenda that will better the lives of millions of Americans, including those of us who live in eastern Iowa and western Illinois."
          ],
          [
           "ron desantis",
           "Some of the other areas, you know it's just a different situation, were a big diverse state."
          ],
          [
           "nancy pelosi",
           "The budget is a statement of values. Once again, the #TrumpBudget makes it painfully clear how little the President values the good health, financial security and well-being of America's hard-working families."
          ],
          [
           "david ige",
           "That would have been the easier course. But it is not just the authority of law that is at stake. It is so much more than that."
          ],
          [
           "morgan carroll",
           "It will be the process by which every other candidate going through the assembly process will wind up in the Democratic primary ballot,"
          ],
          [
           "joe biden",
           "ruin Donald Trump's night by caucusing for me"
          ],
          [
           "nick langworthy",
           "The far-left legislation churning out of Albany is now having very real and dangerous consequences for the citizens of New York,"
          ],
          [
           "bernard sanders",
           "Take a look around you to find someone you don't know, maybe someone that doesn't look like you,"
          ],
          [
           "sue rezin",
           "I am a supporter of the NRA,"
          ],
          [
           "dan bilzerian",
           "I could roast him further, but that's enough said. Dude's corny, take my word for it."
          ],
          [
           "mike dewine",
           "We enjoyed reading them together, so when Mike became Governor, he and I talked about it and we thought, wouldn't it be great to bring this program to every child in Ohio? We know that's an aggressive goal, but Mike and I have always worked to help improve the lives of kids and the lives of Ohio families, that's really our passion,"
          ],
          [
           "nancy pelosi",
           "I don't know how they can retain their lawyer status, in the comments that they're making,"
          ],
          [
           "newt gingrich",
           "Given that he's a natural counterpuncher, he may decide to go after them."
          ],
          [
           "dan laughlin",
           "They're not big rah-rah leaders. They're just, let's get to work, let's get to work. That's carried around the locker room, and they carry that on their shoulders as well. Seniors, they know it's their last trip around. I'm not saying they take it more seriously than other years, but they do realize this is it. They're really pushing everyone to follow."
          ],
          [
           "joe biden",
           "We should be worried about the lack of privacy and them being exempt, which you're not exempt. [ The Times ] can't write something you know to be false and be exempt from being sued. But he (Zuckerberg) can."
          ],
          [
           "jared kushner",
           "The map attached to the plan is not a scientific map. If the Palestinians don't like where the line is drawn, they should come and tell us where they want to draw it,"
          ],
          [
           "mike kelly",
           "You cannot go on long bike rides. Playgrounds are shut down. You must abide by the order. Outside, is for a brief respite, not for 5Ks. I can't emphasize enough that we abide the rules."
          ],
          [
           "jim risch",
           "As always with the Europeans, they drag their feet, they're tolerant when they shouldn't be tolerant. I tell them over and over again, I don't understand this. Why, why, oh why are you guys so tolerant of this? Why are you so dedicated to wanting to deal with the Iranians instead of doing what needs to be done?"
          ],
          [
           "bernie sanders",
           "While the left and right get a lot of attention at primary time, most Americans identify somewhere closer to the center of the political spectrum,"
          ],
          [
           "nancy pelosi",
           "This is a problem and a challenge which is global,"
          ],
          [
           "nita lowey",
           "House Democrats will write responsible appropriations bills that invest in American families and communities."
          ],
          [
           "andrew cuomo",
           "more dangerous than the virus,"
          ],
          [
           "adam schiff",
           "If not remedied by his conviction in the Senate and removal from office, President Trump's abuse of his office and obstruction of Congress will permanently alter the balance of power among our branches of government, inviting future presidents to operate as if they too are also beyond the reach of accountability, congressional oversight, and the law."
          ],
          [
           "peggy flanagan",
           "It's important that folks take this seriously,"
          ],
          [
           "president george w. bush",
           "It is a patriotic type of thing,"
          ],
          [
           "rick scott",
           "prevent bad actors from defrauding families."
          ],
          [
           "roland gutierrez",
           "If you talk about true conservatism, which is like Edmund Burke kind of stuff, right? Cannabis is exactly that,"
          ],
          [
           "gary knopp",
           "honour the tremendous impact that Alan had on the Kenai Peninsula and around the state of Alaska."
          ],
          [
           "tim walz",
           "We're assessing sector by sector, line by line as we look at the extension to the Stay at Home order. We're in agreement with the need to get people working as fast as we can, but the virus dictates this and we need to be creative about it."
          ],
          [
           "jim guthrie",
           "I genuinely think it will help agriculture, and I'm getting a receptive ear on the issue."
          ],
          [
           "pete buttigieg",
           "But the experts have told us the best way to prevent the spread of the virus is to physically stay apart, so that's what we're going to do,"
          ],
          [
           "mary kane",
           "We are definitely nonpartisan, shown by the fact that secretaries of state, every secretary of state since Madeleine Albright, have been interested in establishing this Museum of American Diplomacy,"
          ],
          [
           "montel williams",
           "In a way, we are preaching to the choir,"
          ],
          [
           "jerrold nadler",
           "believes that that's okay, we don't need that safeguard against a president who would commit abuses of power; it's okay because he can be impeached. That's the safeguard, for abuses of discretion and for his misdeeds in office."
          ],
          [
           "pramila jayapal",
           "some form of detention,"
          ],
          [
           "mike parson",
           "That is why I am confident telling you today that the state of our state is strong and by working together, we will be ready for an even better future,"
          ],
          [
           "chris smith",
           "We've taken that next step and created a feature that will block threats out in the network on behalf of our customer automatically,"
          ],
          [
           "mike pompeo",
           "It's a long list in Ukraine of corrupt individuals and a long history there. And President Zelensky has told us he's committed to it. The actions he's taken so far demonstrate that, and I look forward to having a conversation about that with him as well."
          ],
          [
           "kellyanne conway",
           "You don't have to wait for an election to be offended,"
          ],
          [
           "steven mnuchin",
           "we look forward to working with [ those three countries ] quickly and would expect that the U.N. sanctions will snap back into place."
          ],
          [
           "bernie sanders",
           "We all saw the impact of the factionalism in 2016, and we can't have a repeat of that. I hope Bernie reconsiders and turns his campaign in a different direction."
          ],
          [
           "joe biden",
           "We can disagree on tactic but not on strategy,"
          ],
          [
           "chuck schumer",
           "a dark day and a dark night for the Senate,"
          ],
          [
           "mark meadows",
           "There comes a point in time where there isn't enough food for the deer, and I think controlling the population at this point in time is an appropriate way for us to go forward."
          ],
          [
           "bill de blasio",
           "effort to save the lives of loved ones and our neighbors."
          ],
          [
           "steve sisolak",
           "The penalties other governors have put in place are difficult to enforce."
          ],
          [
           "chuck winder",
           "and that we do open the door for competitors to request their recognition on a license plate. Once that happens and we open this door, it will be impossible to close."
          ],
          [
           "alexandria ocasio-cortez",
           "I do think it should be universal. I hear the argument of people saying, `Why are you going to give a check to Bill Gates?' One of the things that we're saying is, tax it back a year from now so you don't have to worry about a big complicated bureaucratic means-test up front, mail them out to everybody and let's get it back from the folks that don't need it next year."
          ],
          [
           "fiona ma",
           "With small businesses facing tough times, access to relevant information is even more critical."
          ],
          [
           "marco rubio",
           "It is immoral and unjust that the Communist Chinese government uses so-called `exit bans' to prevent American citizens from leaving China. We must protect our citizens and ensure that they are able to return home when they travel abroad,"
          ],
          [
           "nancy pelosi",
           "Governors are crying out for help and Congress must act,"
          ],
          [
           "patti smith",
           "Hey, are there any poets in here?"
          ],
          [
           "nancy pelosi",
           "We have to win in certain particular areas,"
          ],
          [
           "pete buttigieg",
           "America is better because @JulianCastro has dedicated his career to lifting communities and expanding opportunities for all of us,"
          ],
          [
           "bobby dubose",
           "A portion of the proceeds would go to the United Negro College Fund. So I would encourage the sponsor of the bill, moving to the next committee, to take all those things in consideration and let's have a discussion."
          ],
          [
           "louis sullivan",
           "He had ideas of making a building that would be a part of its environment, that would be expressive of its structure, that would have its form based on what the building is supposed to do, but also to do something that's like an analogy of what you would see in nature, that makes you sigh."
          ],
          [
           "steve henry",
           "It was certainly more bang for the buck,"
          ],
          [
           "mitch mcconnell",
           "It will fall to the Senate to end it with serious and sobriety,"
          ],
          [
           "lisa murkowski",
           "A fair trial would have been one where we could have remedied the defects that came out of the House. I think we got to a point where you just realize that [ it ] would never be sufficient to meet the demands of those who were seeking the results they wanted."
          ],
          [
           "bernie sanders",
           "this is a very, very important day in Michigan."
          ],
          [
           "mona das",
           "They can be a homeowner, and it will change their lives, and the lives of their family."
          ],
          [
           "mark meadows",
           "that it was to sell more books."
          ],
          [
           "colin powell",
           "What I said to him was, `The United Nations is the offended party. So, if we can avoid a war, we should avoid this war. I'm all for trying to avoid this war,"
          ],
          [
           "terri carver",
           "I think we need to pay a lot of attention to what our local cities and counties are saying, and ways we can be helpful to them."
          ],
          [
           "lori lightfoot",
           "this is an issue that is not unique to Chicago, unfortunately."
          ],
          [
           "frank hornstein",
           "So we want to make sure that all Minnesotans cannot only get their REAL ID but get it in a timely way,"
          ],
          [
           "jay inslee",
           "They're misinformed -- there is no evidence from any of the climate models that there will be increasing drought in the Northwest,"
          ],
          [
           "gavin newsom",
           "We need to go boldly. We need to not play small ball,"
          ],
          [
           "bernie sanders",
           "Fracking is a danger to our water supply. It's a danger to the air we breathe. It causes earthquakes. It's highly explosive. And it's contributing to climate change. We need to ban it nationwide."
          ],
          [
           "mitch mcconnell",
           "Infrastructure has rarely been a partisan discussion,"
          ],
          [
           "pete buttigieg",
           "it's important to beckon them in the right direction."
          ],
          [
           "mike parson",
           "Reorganizing some of the (state) government agencies. We've still got a lot of work to do there."
          ],
          [
           "katie hobbs",
           "We've been doing that for almost the past year. We just had an elections security workshop. We simulated election disasters people had to respond to."
          ],
          [
           "bill kramer",
           "We have an incredible team working on it. We have to stick to our timeline and be diligent about that, which we're doing. But things are moving forward beautifully. We're on schedule to open at the end of this year and we'll announce the opening date very soon."
          ],
          [
           "alex azar",
           "combating the coronavirus involves an aggressive approach to stopping hoarding, and the American public can play a role by being on the lookout for this behavior."
          ],
          [
           "gavin newsom",
           "calling for the home isolation of all seniors"
          ],
          [
           "bernie sanders",
           "Now, Michael Bloomberg, like anyone else in America has the right to run for president, but he does not have the right to buy the presidency."
          ],
          [
           "steven mnuchin",
           "You know, I look back at people who bought stocks after the crash in 1987, people who bought stocks after the financial crisis,"
          ],
          [
           "mike dewine",
           "DeWine is -- I wouldn't like to be even in the room with him. I hate to associate with that type of a person."
          ],
          [
           "dustin burrows",
           "Having a store that provides you the tools to protect yourself, to protect your family, your loved ones, your property is more essential than almost most of the things we've seen defined as essential services,"
          ],
          [
           "henry cuellar",
           "approved and sent down to Laredo."
          ],
          [
           "mike pompeo",
           "Since January 29th, we have now repatriated over 50,000 United States citizens back to their homes from more than 90 countries, more than 490 flights back to the United States from all across the world. This worldwide scale of our repatriation efforts is without parallel in our lifetime,"
          ],
          [
           "mike pompeo",
           "The world must continue to support the Venezuelan people's efforts to restore their democracy and put an end to Maduro's tyranny, which harms millions of Venezuelans, and has an impact on Colombia, and indeed, the entire region,"
          ],
          [
           "ralph deleon guerrero torres",
           "Our meetings were focused on strengthening our partnerships with our airline and travel partners for the long term, despite the unexpected economic downturn from the coronavirus outbreak. The CNMI government continues to be at the forefront of U.S. efforts to protect our people and our islands from the coronavirus. We continue to reassure our Korean tourism partners that the Marianas remains coronavirus-free destination and continues to be a top-choice destination within the region in the years to come."
          ],
          [
           "andy beshear",
           "We are having to hire agency nurses, and they are great nurses. But they come from places like West Virginia, Tennessee, and Virginia. They come and work hard and get a great check. They are paid for their labor, but they take back those earnings into other states,"
          ],
          [
           "nina turner",
           "Will our community side with former Vice President Joe Biden, who has repeatedly betrayed black voters to side with Republican lawmakers and undermine our progress?"
          ],
          [
           "bruce westerman",
           "You can't deny that the carbon in the atmosphere is increasing and human activity is causing that,"
          ],
          [
           "abby lee",
           "They're not quite familiar with them or know what the benefits are."
          ],
          [
           "thom tillis",
           "This is not on top of mind,"
          ],
          [
           "eric garcetti",
           "(Newsom) is why we have today a ship that now will be the largest hospital in Los Angeles at its full capacity,"
          ],
          [
           "ben sasse",
           "The Senate's constitutional duty in our republic is to deliberate and that's not going to happen on Skype."
          ],
          [
           "jared huffman",
           "The deck is pretty stacked right now against protecting our rivers and fisheries here on the North Coast,"
          ],
          [
           "brian kemp",
           "Finding out that this virus is now transmitting before people see signs, so what we've been telling people from directives from the CDC [ Centers for Disease Control and Prevention ] for weeks now that if you start feeling bad, stay home...,"
          ],
          [
           "john cornyn",
           "nothing different than what we've already heard."
          ],
          [
           "rosa delauro",
           "At a time of crisis, we must be concerned for the solvency of major industries that need assistance, but working people, families, and our most vulnerable must be our top priority."
          ],
          [
           "john cornyn",
           "wrap up this sham impeachment with an acquittal."
          ],
          [
           "john delaney",
           "I just think the way the board has worked, it's been a very stable period. You forget that there were four chief executives in the five years before I came. There were always rows in the association politically. We've had stability for the last 14 years."
          ],
          [
           "pete buttigieg",
           "to call people into our tent, not to call them names online"
          ],
          [
           "scott gottlieb",
           "but a senior administration official stressed that President Donald Trump will make the final call and has not yet made a decision about how to move forward."
          ],
          [
           "lindsey graham",
           "I think that's what they meant by high crimes. Doesn't have to be a `crime.' It's just when you start using your office and you're acting in a way that hurts people."
          ],
          [
           "muriel bowser",
           "Mike Bloomberg is the only candidate who will unify the country and defeat Donald Trump and has a blueprint to rebuild America and improve the quality of life for all Americans. He is committed to giving every American a fair shot through his housing affordability and All-In-Economy plans, putting an end to gun violence with common sense reforms, and mitigating the causes of climate change. I have known Mike for many years and his long-standing commitment to making cities stronger, more prosperous, and inclusive is why I'm endorsing him for president."
          ],
          [
           "ned lamont",
           "When we're going through tough times as a family or as a state, you always need a little hope and inspiration and love and that's what carries you through the toughest times,"
          ],
          [
           "barbara lee",
           "Moving forward, it's hard to imagine a presidential cycle without a woman on the ticket,"
          ],
          [
           "brad wenstrup",
           "I'm most concerned about people getting their voter registration data and personal information and being able to start building profiles. The Chinese do it on their own people. They're more than happy to do it on us,"
          ],
          [
           "sandra jauregui",
           "please welcome the future President of the United States, Pete Buttigieg!"
          ],
          [
           "bill de blasio",
           "If we have to end up closing down basketball courts across the board, we'll do that,"
          ],
          [
           "lane jean",
           "needs to be in the middle of the pack"
          ],
          [
           "vern buchanan",
           "In Manatee County, vegetable production is still the number one agricultural enterprise,"
          ],
          [
           "ron desantis",
           "after they have fully recovered and meet the CDC [ Centers for Disease Control and Prevention ] guidelines for being fit to travel."
          ],
          [
           "brad raffensperger",
           "The Absentee ballot process allows you to vote from the safety and security of your own home,"
          ],
          [
           "mark meadows",
           "appealing this to the Judge"
          ],
          [
           "mike dewine",
           "Is it a perfect decision? No, absolutely not. But we believe it's the best of bad alternatives and it does preserve people's Constitutional rights and it does not require them to choose between their health and exercising their Constitutional right,"
          ],
          [
           "elissa slotkin",
           "The Administration must come to Congress immediately and consult... If military engagement is going to be protracted -- which any informed assessment would consider -- the Administration must request an AUMF,"
          ],
          [
           "rick kriseman",
           "But for the first time ever, we're doing it together. And that's the new spirit of the Tampa Bay region. And there is simply too much at stake for that spirit of cooperation to be anything other than resilient in our moving forward."
          ],
          [
           "hari sevugan",
           "This notion of lanes-progressive, moderate, left, center-left - Pete does not fit into that,"
          ],
          [
           "nancy pelosi",
           "Very sadly, the appalling and inhumane situation that this woman faced is not an isolated case,"
          ],
          [
           "jared huffman",
           "The Trump administration is rushing a plan to drill in designated special areas of Teshekpuk Lake and elsewhere in the Arctic,"
          ],
          [
           "gavin newsom",
           "extend our deepest condolences to the family and loved ones affected by this death in Placer County."
          ],
          [
           "bernie sanders",
           "I call on Brazil to end its authoritarian attack on press freedom and the rule of law."
          ],
          [
           "lindsey graham",
           "from the intelligence community, national security aides and government health officials."
          ],
          [
           "marcus molinaro",
           "Our Office of Central and Information Services remains committed to technological innovation and security preparedness,"
          ],
          [
           "adam kline",
           "In our view, there's more than timing the release of work. There's inventory, there's people and there's equipment. As a WMS vendor, we could take a top-down view, because we have full knowledge of the orders, inventory, people and where they're located."
          ],
          [
           "tate reeves",
           "People do not need to be going to large gatherings of churches of more than 10 people. It is not smart to do that, and I do believe that it is in violation of the order of keeping folks from being in groups of larger than 10 people."
          ],
          [
           "rick miller",
           "After 34 years, I am extremely disappointed to leave the service in this way but volunteers deserve better,"
          ],
          [
           "lewis earle",
           "They were designed by Sergio Lozano, based on the human anatomy. It's the skeleton, [ represented by ] the waves up the side. The rib cage [ represented by the lacing ] and then the mesh near the laces [ representing muscle fibres ]. That's the inspiration."
          ],
          [
           "martin j. walsh",
           "That's the last resort, but we're heading towards that,"
          ],
          [
           "nikki haley",
           "It now talks about the region."
          ],
          [
           "joe biden",
           "Well, you know, look... I plan on being president. Presidents can't hold grudges. You got ta heal,"
          ],
          [
           "roger marshall",
           "I always try to keep my consversations in the White House very private,"
          ],
          [
           "len fasano",
           "but I felt that number was the absolute top we should go unless we were given some super extraordinary candidate."
          ],
          [
           "xochitl torres small",
           "Although many hospital systems across the United States are feeling the strain of this public health emergency, New Mexico's limited existing capacity, particularly in the rural regions of our state, make our healthcare system especially vulnerable to being overwhelmed by this pandemic,"
          ],
          [
           "chellie pingree",
           "We cannot solve one health crisis by creating another."
          ],
          [
           "julian castro",
           "When you look at Democrats, about 25 percent of folks say they'd be unhappy if Vice President Biden was the nominee. About 25 percent say they'd be unhappy if Senator Sanders was the nominee. The person who scores the best on that, that they are good with... is Elizabeth Warren."
          ],
          [
           "bernie sanders",
           "establish an annual tax on the extreme wealth of the top 0.1 percent of U.S. households."
          ],
          [
           "laura kelly",
           "Because this resolves the present dispute, we do not reach broader questions concerning the asserted conflicts"
          ],
          [
           "john rood",
           "Senior administration officials appointed by the President serve at the pleasure of the President, and therefore, as you have requested, I am providing my resignation, effective February 28, 2020,"
          ],
          [
           "nancy pelosi",
           "They don't care about the impact on children; they don't care about truth; they don't care about where this is all coming from. They have said -- even if they know it's not true -- they will print it."
          ],
          [
           "tulsi gabbard",
           "very clearly an act of war by this president, without any kind of authorization or declaration of war from Congress, clearly violating the Constitution."
          ],
          [
           "joe biden",
           "I'm going to fight for this nomination. I'm going to fight for it here in New Hampshire, and in Nevada and then in South Carolina and beyond."
          ],
          [
           "joe scarborough",
           "(Sen.) Mike Lee, by the way, he's a Republican, conservative Republican actually, and the same there. Libertarian Party, we'll be talking to the head of the Libertarian Party in a little bit, they don't defend Suleimani, but they also don't think that a president should be an imperial president and just assassinate people when he damn well feels like it when there's not an imminent threat."
          ],
          [
           "gretchen whitmer",
           "We will continue to take every necessary precaution to keep Michiganders safe,"
          ],
          [
           "ted cruz",
           "I've said a total of one thing today on that. I sent a tweet as I was driving in this morning. And my tweet pointed out that Dems today can't even stand in a gymnasium and count who is standing under which sign. And these are the people they want to put in charge of our health care, and everything else in our lives? No, thank you!"
          ],
          [
           "jerome powell",
           "It's not that these benefits are fabulously generous, they're just what people get in Western economies,"
          ],
          [
           "brian kemp",
           "Officials have already delivered and installed seven emergency trailers at the park, and related materials are en route for future use,"
          ],
          [
           "jeff colyer",
           "This all-volunteer program will provide assistance where it's needed in Kansas, including rural Kansas where the need may quickly outpace the available physicians,"
          ],
          [
           "mick mulvaney",
           "True. I'm not making this up. That was in the press, that this was an anti-Asian policy that we were doing this."
          ],
          [
           "james oddo",
           "We call the west shore, the jobs coast."
          ],
          [
           "adam schiff",
           "the president's corrupt scheme in narrative form."
          ],
          [
           "chuck schumer",
           "There are a lot of people who don't have healthcare, many of whom are qualified,"
          ],
          [
           "dan hughes",
           "unfortunately, it's not practical or realistic"
          ],
          [
           "robert johnson",
           "I have lots of questions about how to apply it,"
          ],
          [
           "mike pompeo",
           "We can't talk much about the details, but suffice it to say that the decision that President Trump made, to take Qassem Soleimani down, saved American lives."
          ],
          [
           "tom carper",
           "There are currently 53 Republican senators and only 47 Democrats,"
          ],
          [
           "bernie sanders",
           "sit by and allow invasions to take place"
          ],
          [
           "joe biden",
           "I notice what everybody's talking about is the plan that I first introduced,"
          ],
          [
           "clay higgins",
           "Walls don't mean don't come in,"
          ],
          [
           "robert lighthizer",
           "No one's going to be able to do another agreement"
          ],
          [
           "jared polis",
           "As one of the first states to implement it, we get a lot of extra business from people coming into our state,"
          ],
          [
           "roger hanshaw",
           "They were hungry for a vehicle that would make their investment in West Virginia safe."
          ],
          [
           "karen spilka",
           "I think we'll then huddle -- the House, the Senate and the administration -- with an eye as to a process and a procedure that will help us move forward,"
          ],
          [
           "amy klobuchar",
           "Let's turn off the TV or go flip the channel and watch cartoons."
          ],
          [
           "john kasich",
           "Right now, I am in a hopeful place, because I do know we will get through this. And given the opportunity, it allows me to figure out what is really important and where my real treasures are."
          ],
          [
           "richard corcoran",
           "We want to produce students who are excellent thinkers and who are prepared for the world and who can go out there and grab a job and wrestle with the great questions of life, synthesize large volumes of information, make a great decision,"
          ],
          [
           "adriano espaillat",
           "I think that strengthens the concept of what it means to be a Dominican anywhere in the world. When you protest, you're being patriotic."
          ],
          [
           "melissa hortman",
           "We want to do as much work as we can as fast as we can for the people of Minnesota."
          ],
          [
           "phil murphy",
           "I regret that the Legislature has to be publicly pressured into doing the right thing, but I am as committed as ever to fighting Trenton's broken political culture,"
          ],
          [
           "greg abbott",
           "We just want to make sure we have activated them, they know they are going to be activated,"
          ],
          [
           "susan collins",
           "For the first time ever, they have had to close their doors,"
          ],
          [
           "sean morrison",
           "volley of combative and sarcastic tweets"
          ],
          [
           "nelson wolff",
           "a larger number of U.S. citizens to infection or (risk) local transmission of this emerging infection."
          ],
          [
           "nancy pelosi",
           "A lot of money [ is ] first-come, first-serve, and many unbanked people who are underbanked or unserved... don't have banking relationships, sophisticated in a way that others do,"
          ],
          [
           "kathleen rice",
           "I strongly oppose @UN's decision to publish a blacklist of businesses in the West Bank. It disregards how these companies help both the Israeli and Palestinian economies. And more importantly, it does nothing to advance peace. I stand firmly against the #BDS movement,"
          ],
          [
           "alex azar",
           "Under the president's direction, we will use a portion of that funding to cover providers' costs of delivering COVID-19 care for the uninsured,"
          ],
          [
           "tommy tomlinson",
           "We both have union support. The men and women of the unions have been very helpful. I appreciate what they've done,"
          ],
          [
           "gretchen whitmer",
           "We just received our allotment from the federal government's National Strategic Stockpile,"
          ],
          [
           "brett miller",
           "so that's not going to work for us at all"
          ],
          [
           "hillary ronen",
           "The culture of this low-level, `acceptable' corruption in San Francisco is so entrenched, and so widespread,"
          ],
          [
           "andrew cuomo",
           "I want it to be over tomorrow but that's not reality,"
          ],
          [
           "steve bullock",
           "Democrats should not be connecting the ability to be heard to money. Period,"
          ],
          [
           "mitt romney",
           "but [ Trump ] did follow the law, and the House did not take the time to go to the courts as I think they should have."
          ],
          [
           "chris van hollen",
           "This bombshell legal opinion from the independent Government Accountability Office demonstrates, without a doubt, that the Trump Administration illegally withheld security assistance from Ukraine. The publicly available evidence also shows that the President himself ordered this illegal act,"
          ],
          [
           "jeff yarbro",
           "That's assuming nobody improves. That's not getting to the place of doing the most innovative work. That's getting out of the basement in the states from a school funding perspective."
          ],
          [
           "mike duggan",
           "And we've got more supplier plants coming now that GM is going to put more than $2 billion into an assembly plant in Detroit. So she's been a terrific partner on every one of these auto plant deals."
          ],
          [
           "andrew cuomo",
           "I say, my friends, that we go out there today and we kick coronavirus ass, that's what I say. And we're going to save lives and New York is going to thank you,"
          ],
          [
           "gavin newsom",
           "We have a deep need for personnel and supplies: masks -- even basic masks -- and gloves,"
          ],
          [
           "greg leding",
           "I represent a college town and just this weekend a fraternity held what appeared to be a large party where no one was practicing social distancing. That's really troubling."
          ],
          [
           "nancy pelosi",
           "He's looking at data."
          ],
          [
           "julian castro",
           "That's when Iowa first held its caucus first... Our country has changed a lot in those 50 years. The Democratic Party has changed a lot."
          ],
          [
           "robert mckim",
           "If we attend to the cry of the poor and the poor become much better off, their energy consumption and consumption in general increases,"
          ],
          [
           "kate rotella",
           "I am so proud to serve my district and I feel like I've made a difference for us."
          ],
          [
           "phil murphy",
           "There are a number of moving parts associated with it."
          ],
          [
           "brian kemp",
           "This budget includes $100 million in emergency funding to fight COVID-19 in the weeks ahead as we continue to see more cases in communities across Georgia, and I applaud the General Assembly's strong support in these difficult times. Together, we will continue to fight for Georgians to ensure a safe, prosperous future for all."
          ],
          [
           "j.b. pritzker",
           "We're working with city departments to finalize those lists of non-essential government services and the specific employees that will be affected,"
          ],
          [
           "lee zeldin",
           "not about retaliation. It's because he cannot be trusted, he disagrees with the president's policies, and his term there is coming to an end regardless."
          ],
          [
           "brett harrell",
           "This is a very strong bill to respond to an illegal activity,"
          ],
          [
           "ilhan omar",
           "massive influence of the Israel lobby"
          ],
          [
           "elizabeth warren",
           "She's our best chance to win. In November, she's the one,"
          ],
          [
           "brian patrick kennedy",
           "The lack of any membership from such a large section of southwest Rhode Island is problematic, since it dismisses input from both Chariho Regional as well as the Exeter-West Greenwich regional school district,"
          ],
          [
           "lindsey graham",
           "and he said, `Why were you so quick?' and I said, `Nobody's ever asked me before."
          ],
          [
           "andy beshear",
           "fails to live up to"
          ],
          [
           "jim stamas",
           "I don't think [ bonding ] is a long-term solution either. It's more of a short-term fix, so probably not at the top of my list."
          ],
          [
           "amy klobuchar",
           "It's one of the hardest, hardest things,"
          ],
          [
           "robert bell",
           "It's not the first time we've had a crisis, but it's the first time we've had one where many have realized they can't handle the crisis,"
          ],
          [
           "peggy lehner",
           "Unfortunately, this lesson is going to come at the expense of kids who just don't have what they need right now."
          ],
          [
           "steve king",
           "I'm not necessarily opposed to Republicans using it, if the message were one of happiness and positivity. King is far from that."
          ],
          [
           "lamar alexander",
           "Senators do their best to conduct their debates in a civil manner and have rules to encourage it."
          ],
          [
           "justin fairfax",
           "A year ago, they wouldn't accept my check to buy a table with the gala,"
          ],
          [
           "adam ebbin",
           "meaningful and wide-reaching non-discrimination protections for the LGBTQ community."
          ],
          [
           "frank lombardo",
           "Sacred Heart has many talented players and is skilled at every position."
          ],
          [
           "barbara bry",
           "I want to work with each department on finalizing what their goals are and really start from a zero-budgeting base perspective of how many people do you need to deliver that service, and how can you deliver it more effectively,"
          ],
          [
           "david plouffe",
           "Let's say Biden is the nominee and you were a volunteer leader for him in Michigan. Well, you need to talk to the Bernie Sanders' people involved in that campaign and say, `You're welcome here and I want to hear your concerns' ,"
          ],
          [
           "katie hill",
           "For hours and hours and hours, he would just scream at me. He wouldn't let me sleep."
          ],
          [
           "jennifer sullivan",
           "It's imperative that we take any and all measures necessary to support Hoosiers in achieving or maintaining optimal health and well-being during the global pandemic,"
          ],
          [
           "alex villanueva",
           "Gun shops, strip clubs, night clubs are non-essential businesses. We are trying to get them to close their doors,"
          ],
          [
           "jim bridenstine",
           "This is the America I know and love! Great competitors congratulating each other."
          ],
          [
           "pat toomey",
           "It was really quite a remarkable display, to go down and attack us for what we were not doing, while they were in fact trying to do exactly that which they were attacking us for,"
          ],
          [
           "kathryn barger",
           "If not... my cities are going to feel that they are not being represented fairly."
          ],
          [
           "donna shalala",
           "It's not only his comments on the Castro regime but also on (President Nicolás) Maduro in Venezuela. He seems totally insensitive,"
          ],
          [
           "bernie sanders",
           "only 12 percent of workers in businesses that are likely to stay open will be affected."
          ],
          [
           "elena parent",
           "This goes back to this notion always pushed by gun enthusiasts that guns should be treated like a sacred object as opposed to something that is mortal and can be regulated like everything else,"
          ],
          [
           "jim durkin",
           "The candidates who were vying to replace Rep. Arroyo and who were not chosen, were victims of a corrupt process,"
          ],
          [
           "ashley moody",
           "I am honored to lead attorneys general across the nation to end human trafficking,"
          ],
          [
           "joe biden",
           "This is my sister Valerie,"
          ],
          [
           "chip perfect",
           "Like last year, I sought guidance from the Senate Ethics Committee on whether it would be appropriate for me to vote on this issue,"
          ],
          [
           "ted cruz",
           "jet fumes are in the air,"
          ],
          [
           "bernie sanders",
           "Joe has voted for terrible trade agreements,"
          ],
          [
           "alex villanueva",
           "It's one of those things that, when it did happen, what was she doing? She was helping somebody. That's a quintessential deputy sheriff,"
          ],
          [
           "mike pompeo",
           "This agreement will mean nothing -- and today's good feelings will not last -- if we don't take concrete action on commitments stated and promises made,"
          ],
          [
           "ben albritton",
           "There are plenty of places that we could go that would be much more expensive,"
          ],
          [
           "brian bosma",
           "That's a bill that we all think is wise fiscal policy, and the Senate agrees with that, and we're going to get it on the governor's desk and move on to other matters."
          ],
          [
           "david stevens",
           "to be in this line of work."
          ],
          [
           "asa hutchinson",
           "Leadership, grit, determination and hard work have always been at the core of who we are and what we do in Arkansas. Designations like this one remind us of where we came from, of our history and the importance of preserving it for the future."
          ],
          [
           "reuven carlyle",
           "95% agreement on the core elements"
          ],
          [
           "steve bannon",
           "He does that, you don't need to worry about 2020."
          ],
          [
           "marianne williamson",
           "I'll tell you what's already happened to those who say it cannot happen. You just tell them this: It already happened. He won Iowa. It already happened, he won New Hampshire. It already happened, he won Nevada."
          ],
          [
           "thom tillis",
           "This legislation will provide regulatory relief to these financial institutions and allow them to play an important role in our economic recovery."
          ],
          [
           "isaac latterell",
           "I was one of the ones in committee and the form could have fit on half a page,"
          ],
          [
           "alex villanueva",
           "I know it's gon na be very emotional and I'm just blessed to be here,"
          ],
          [
           "ann kirkpatrick",
           "It is indeed always a disappointment when you see any increase in crime, which we did see this past year,"
          ],
          [
           "curtis hill",
           "IDOC has for several weeks adopted policies, protocols and practices designed to ameliorate the risks of COVID-19 in Indiana prisons,"
          ],
          [
           "ken paxton",
           "Boycotting states based on nothing more than political disagreement breaks down the ability of states to serve as laboratories of democracy while still working together as one nation -- the very thing our Constitution intended to prevent,"
          ],
          [
           "ted cruz",
           "So to recap, the WH Correspondents Assoc gave a seat at the WH press briefing to an employee of the Chinese Communist govt, to ask globally televised Qs to POTUS, at the same time China is waging a propaganda campaign to hide their culpability & coverup of the Wuhan virus?!?"
          ],
          [
           "cory gardner",
           "Today's resolution will make the United States appear weak and divided should it succeed. That is not a recipe for defending the American people from terrorism."
          ],
          [
           "tate reeves",
           "Some are orphans, whose parents would have loved them well if they lived. Some are the children of poverty or addiction, whose parents would support them if they could. How ever they come into our care, they are ours. Ours to protect. Ours to lift up. Ours to look after."
          ],
          [
           "eliot engel",
           "At the time, I said nothing publicly about what was a private conversation, but because this detail was relevant to the Foreign Affairs, Intelligence, and Oversight Committees' investigation into this matter, I informed my investigative colleagues. It was one of the reasons we wished to hear from Ambassador Bolton, under oath, in a formal setting,"
          ],
          [
           "sean spicer",
           "The beauty of this country is the media can ask whatever they want,"
          ],
          [
           "kim wyman",
           "A lot of states thought they could just flip a switch,"
          ],
          [
           "steven mnuchin",
           "They're a big incentive for China to continue to negotiate,"
          ],
          [
           "chris murphy",
           "Bottom line: they aren't taking this seriously enough,"
          ],
          [
           "joe biden",
           "He's the mayor of a small city who has done some good things but has not demonstrated he has ability to, and we'll soon find out, to get a broad scope of support across the spectrum including African Americans,"
          ],
          [
           "jim steineke",
           "Communities across the state are struggling to find and retain CNAs, with northern and rural communities being hit hardest,"
          ],
          [
           "pete buttigieg",
           "Mhmm, well, can you name all five of our pretzel dips?"
          ],
          [
           "paul evans",
           "So messaging, what is reality versus what the president continues to tweet out is probably critical to retaining trust on this particular test issue,"
          ],
          [
           "steve bannon",
           "Don't think you've been forgotten, don't think you're the forgotten man, because you're not the forgotten man. Every time you speak, the world quakes, particularly the guys in Davos."
          ],
          [
           "nancy pelosi",
           "It is imperative that we go bigger and further assisting small business, to go longer in unemployment benefits and provide additional resources to process UI claims and to give families additional direct payments. We must also provide the desperately needed resources for our hospitals, community health centers, health systems and health workers on the frontlines of this crisis."
          ],
          [
           "lynn stucky",
           "Over time, it was evident that it is harder to recruit people into police work,"
          ],
          [
           "lena taylor",
           "And so those are some of the areas that I believe that we rebuild we need to rebuild with equity in mind, with balance in mind in order for us to make a stronger and a better Milwaukee,"
          ],
          [
           "linda dean campbell",
           "We all wish that this legislation were not necessary, but clearly, it is, and it goes to the heart of one of our primary responsibilities as lawmakers, that being to protect those who cannot protect themselves,"
          ],
          [
           "elizabeth warren",
           "eat an extra piece of chocolate"
          ],
          [
           "chuck basye",
           "That's the intent of the bill, nothing more, nothing less."
          ],
          [
           "pete buttigieg",
           "No one should ever attack them for fighting and delivering for their members,"
          ],
          [
           "jim risch",
           "We had very clear, very solid information from the intelligence community that indeed there were going to be imminent attacks that could involve hundreds of people, could involve even thousands of people,"
          ],
          [
           "bakari sellers",
           "Yeah, well, we are an interesting party."
          ],
          [
           "xavier becerra",
           "We took our case to court to ensure that, no matter its outcome, we'd protect innovation and fair prices. Though the district court approved the merger, its decision also made clear to companies that local markets matter in assessing the competitive impact of a merger and that no one should underestimate the role of state enforcers. Most importantly, today's settlement locks in new jobs and protections for vulnerable consumers, and it extends access to telecom services for our most underserved and rural communities."
          ],
          [
           "joe biden",
           "I support the Second Amendment. The Second Amendment, just like right now, if you yell `fire,' that's not free speech,"
          ],
          [
           "chris pappas",
           "I think it is outrageous that USDA is moving forward with these draconian rules that target people who are already struggling day to day."
          ],
          [
           "mark meadows",
           "My Democratic colleagues, they sat on their hands last time, even when there wasn't an impeachment,"
          ],
          [
           "roy cooper",
           "I know that faith and hope will sustain us through these hard times."
          ],
          [
           "brian kemp",
           "There is no cure right now. There is no vaccine. The only thing we can do right now is to work together until there is one."
          ],
          [
           "david davis",
           "even Vietnam, for God's sake -- a communist country"
          ],
          [
           "jim leach",
           "The only reason I can is that I am not an elected official,"
          ],
          [
           "gretchen whitmer",
           "If you're not concerned, you're dangerously uninformed,"
          ],
          [
           "richard neal",
           "This would be far worse if we didn't get his money into the hands of people who need it right now. That was the consideration,"
          ],
          [
           "joy hofmeister",
           "We're pleased the Western Heights school board is moving forward with plans to provide meals to its students, as the district recently assured the state of Oklahoma and its community it would do,"
          ],
          [
           "diego hernandez",
           "Fare evasion is a civil penalty. To have police present in doing fare enforcement doesn't really make sense."
          ],
          [
           "ben sasse",
           "Your attorneys' carefully-crafted, seven-page letter deflects while managing to completely omit any mention of either `China' or the `Chinese Communist Party,"
          ],
          [
           "amy mcgrath",
           "I'm here to talk to people, really to listen that's apart of this campaign, boy wouldn't it be nice to get back to people that actually listen? And so I think that's why I'm here and why I'll continue to come back and talk to as many people as I can,"
          ],
          [
           "asa hutchinson",
           "This is new for us, and it takes awhile for us to build that up."
          ],
          [
           "mike pompeo",
           "We're working on it, we chip on that number every day."
          ],
          [
           "tom berry",
           "I really thought she had a top chance from a good barrier, but it will be tough now,"
          ],
          [
           "letitia james",
           "Defendants have not even attempted to identify any urgent need to radically disrupt the status quo that has lawfully governed public-charge determinations for over a century."
          ],
          [
           "jared kushner",
           "it is almost pathetic that they are criticizing other people's efforts to try and reach an agreement. It comes from a lot of jealousy that they couldn't do it themselves,"
          ],
          [
           "elizabeth warren",
           "We can get timid. We can cower,"
          ],
          [
           "chuck grassley",
           "his associates during the Obama administration"
          ],
          [
           "joe kennedy iii",
           "In the face of Covid-19, that means deploying every tool in our digital arsenal to ensure we remain as accessible as possible during this time of physical distance."
          ],
          [
           "cory gardner",
           "The Senate, with my support, approved $8.3 billion today for efforts to contain and combat the spread of COVID-19 and I will continue to work my colleagues in the Colorado congressional delegation and the Governor's office to provide necessary resources as we work together to address COVID-19."
          ],
          [
           "governor charlie baker",
           "For the most part people are doing a good job"
          ],
          [
           "tate reeves",
           "to apply to receive benefits of unemployment insurance, state law is that you lose your job at no fault of your own."
          ],
          [
           "alexandria ocasio-cortez",
           "Your campaign focused on the future, and looked like you were having a lot of fun doing it."
          ],
          [
           "steven mnuchin",
           "The [ proposed ] payroll tax holiday would get people money over the next six to eight months. We're looking at sending checks to Americans immediately,"
          ],
          [
           "lindsey graham",
           "undercuts the ability of the president to literally do his job."
          ],
          [
           "roy cooper",
           "This is the kind of collaboration, action and creativity we will continue to need across our state in the weeks ahead. Together, we will come through this stronger."
          ],
          [
           "mike wise",
           "I think we've got some good visions and there are things I want to discuss with the crew to receive their input. The EMS process is one that's ongoing and always changing. It's getting harder and harder to find volunteers with the demands that are being put on us at the state level. We need to be able to evolve with it,"
          ],
          [
           "brian schatz",
           "This bill will help some people get relief right now, but it is just not enough,"
          ],
          [
           "tom campbell",
           "Ru had said, `I'll do anything but a competition elimination show.' So we spent three or four days coming up with a loosely scripted show, like Strangers With Candy,"
          ],
          [
           "nicole malliotakis",
           "The third time he hit someone with a brick. We're lucky he didn't kill the guy."
          ],
          [
           "steven mnuchin",
           "There are no bailouts. This is not about bailing anybody out,"
          ],
          [
           "tom udall",
           "that cannot win and which would interfere with the important work required of all of us in this difficult hour."
          ],
          [
           "rob cook",
           "We get our stocks on Tuesday and Friday, but this week it'll be coming on Saturday instead,"
          ],
          [
           "jackie speier",
           "This is government working."
          ],
          [
           "penny pritzker",
           "trying to save your life,"
          ],
          [
           "crystal quade",
           "Missouri is always the last to do things,"
          ],
          [
           "kellyanne conway",
           "Is it fair game for President Trump when he's made sexist comments too?"
          ],
          [
           "dennis mcdonald",
           "For the statement to be made that they were poisoned, and as a result of the work of the county engineer, is an absolute libel,"
          ],
          [
           "josh hawley",
           "Google and Facebook have acquired hundreds of companies in the last two decades, yet the FTC never once intervened to try to block any of these acquisitions."
          ],
          [
           "elizabeth warren",
           "Hey Bernie, how are you? Sorry, I have a cold, don't shake my hand."
          ],
          [
           "mike pence",
           "This is a dramatic thing, not some unusual practice that happens from time to time,"
          ],
          [
           "bill de blasio",
           "We will come up with a more consistent, more transparent, more fair system. But I want to put a caveat on it. We can't reduce our revenue substantially. If we do that and I look at people in the eye and say if we're going to reduce our revenue substantially it might feel great at first. But then we can't have the same number of police officers, or we can't sustain early childhood education, or we can't provide the same sanitation services. Do you want that?... They say no, I don't want to lose of those services."
          ],
          [
           "peggy flanagan",
           "My heart is with the family, friends, and neighbors who are grieving,"
          ],
          [
           "john dean",
           "You could see as the game went on, we started to put our foot on the gas a little bit,"
          ],
          [
           "pete buttigieg",
           "the most progressive presidential nominee we've put forward in a generation."
          ],
          [
           "president barack obama",
           "In an era where regional crises can quickly become global threats, stopping Ebola is in the interest of all of us."
          ],
          [
           "mike briggs",
           "I'm sure there will be rumors and speculation, but the best thing to do is to allow the purchaser to continue with their diligence and proof of concept, so they can provide the community with a comprehensive update when they are ready,"
          ],
          [
           "ryan costello",
           "August was when it was clear this was happening on a somewhat wide scale,"
          ],
          [
           "alex azar",
           "By the end of the week we believe we'll have shipped enough for 75,000 people to be tested,"
          ],
          [
           "christine todd whitman",
           "gives the consumers a choice to be part of an effort to reduce our use of water and energy. It gives them a way to save money on both energy and on water. It's a consumer choice option to help improve the environment."
          ],
          [
           "kevin brady",
           "That great healthcare plan that your union negotiated for you? It's gone. Banned under Medicare for All."
          ],
          [
           "pete stauber",
           "In my part of Minnesota, many of the women and children preyed upon by human traffickers are Native American,"
          ],
          [
           "bernie sanders",
           "The Trump budget is an immoral document. It is a budget that takes our collective resources and hands them to the wealthiest families and largest corporations in this country and ignores the needs of the most vulnerable among us."
          ],
          [
           "scott jensen",
           "This has been like Niagara Falls. Never has anyone seen this."
          ],
          [
           "ron desantis",
           "As governor, I know we get certain things that one has to respond to,"
          ],
          [
           "lindsey graham",
           "February 6, we voted to acquit the president, and Democratic leaders who are criticizing the president now wanted to extend the trial for weeks to call more witnesses. Joe Biden criticized President Trump when he invoked the Chinese travel ban. He's trying to rewrite history, not President Trump."
          ],
          [
           "jim jordan",
           "The move essentially installs two of President Trump's fiercest allies on top committees, giving the administration two strong supporters to combat Democrats' next investigations into the White House,"
          ],
          [
           "john cornyn",
           "If you go buy a tobacco product online, you have to prove you're 21 years of age or older, and the rules ought to be the same for e-cigarettes,"
          ],
          [
           "mike pence",
           "more than happy to be tested."
          ],
          [
           "andrew cuomo",
           "This is a situation like that."
          ],
          [
           "michael mccaul",
           "He gave speeches in China and when he was foreign minister in Ethiopia they received for billions of dollars of foreign assistance. We can't have any confidence in the WHO moving forward as long as Tedros is at the top."
          ],
          [
           "mitt romney",
           "I can't tell you how low things are going to go, but when you shut down all the jobs, or almost all of them, it's going to take a lot of money to help people out."
          ],
          [
           "john cornyn",
           "It talks all about crimes. So impeaching somebody for a non-crime strikes me as novel. I found it pretty compelling."
          ],
          [
           "alan webber",
           "Our water conservation efforts have set a national standard and these restaurants are our partners in creating a cleaner greener more water-conscious city,"
          ],
          [
           "lee zeldin",
           "The leaks coming out of the National Security Council will end, Obama administration holdovers will be gone, and the team, chemistry and work product will all be improved,"
          ],
          [
           "ryan williams",
           "The girls who do go to Australia leave right away,"
          ],
          [
           "eleanor holmes norton",
           "is hidden behind trade secrecy."
          ],
          [
           "matt lesser",
           "It really did start a whole bunch of conversations with state agencies,"
          ],
          [
           "tony evers",
           "nobody carries the burden alone."
          ],
          [
           "chris greeley",
           "He didn't play the same type of game in his early 30s that he played in his early 20s. The game evolves as your physical [ condition ] begins to change."
          ],
          [
           "edward lindsey",
           "This will be a year when they focus on making sure the trains run on time."
          ],
          [
           "pete buttigieg",
           "He is more electable and maybe more palatable to people who don't want what we have now but aren't ready to swing to the other end of the pendulum,"
          ],
          [
           "alex azar",
           "Diseases are not terribly good at respecting borders,"
          ],
          [
           "chuck schumer",
           "In a few weeks or a few months, do my Republican colleagues want to pick up the paper and read one of the witnesses they blocked had crucial information about the president's misconduct?"
          ],
          [
           "barack obama",
           "otherwise we will hunt you down, and eliminate you."
          ],
          [
           "gerald mullery",
           "We have fought hard from day one to prevent the closure of SCI-Retreat and remain committed to the employees who work tirelessly to keep our community safe."
          ],
          [
           "hamilton jordan",
           "I was like, `I told you so! Maybe you'll listen to me next time,"
          ],
          [
           "phil murphy",
           "undo the racial disparities in our criminal justice system."
          ],
          [
           "pat toomey",
           "I don't think the president needs a permission slip from Congress when he's acting in a way to keep Americans safe,"
          ],
          [
           "joseph cervantes",
           "We believe we've struck the proper balance,"
          ],
          [
           "rand paul",
           "He hasn't even read the history of the Constitution. The Constitution specifically says that the war-making power resides in Congress. He believes in this unitary theory of the executive that presidents can do whatever they want, the only way you can stop them is by defunding a war,"
          ],
          [
           "andrew cuomo",
           "It's not what anyone else but me is doing, and I accept full responsibility."
          ],
          [
           "themis klarides",
           "We all know that your enemy today is your friend tomorrow in this building, so I wouldn't read too much into this,"
          ],
          [
           "rand paul",
           "If they're going to be a left-wing group and YouTube wants to be seen as a left-wing group, then that's their business, but they shouldn't get away with pretending to be objective or fair,"
          ],
          [
           "mike burgess",
           "Having the right technology applied to the right problems is, of course, vital. But it is our people that have always been the critical element of our success and I am confident that by putting the right people with the necessary legal authorities onto the right problems we will succeed."
          ],
          [
           "joe biden",
           "gregarious, sharp, and generous in spirit."
          ],
          [
           "joe biden",
           "want to get into a back and forth in terms of our politics"
          ],
          [
           "luke malek",
           "(She's) one of the hardest working people that I have ever met."
          ],
          [
           "chuck fleischmann",
           "It is important that TVA continue to maintain good and solid leadership when they are responsible for a critical component of our nation's infrastructure, serving millions of Americans in Tennessee and other states,"
          ],
          [
           "alex charlton",
           "It's really sad seeing people in the hospital that are really sick, and they don't have family members there with them, to talk to them,"
          ],
          [
           "phil murphy",
           "They are things like advise and assist, logistics, transportation, traffic control, security or bringing in our engineers to maybe bring a facility back online that's needed in some way, shape or form for COVID-19."
          ],
          [
           "chuck bennett",
           "You won't shut me up."
          ],
          [
           "jerry klein",
           "The FDA is investigating a potential dietary link between canine dilated cardiomyopathy (DCM) and dogs eating certain grain-free dog foods. The foods of concern are those containing legumes such as peas or lentils, other legume seeds, or potatoes listed as primary ingredients."
          ],
          [
           "greg abbott",
           "That's why he volunteered to provide security at the church knowing that one day he may be called upon to step up and risk his own life. Jack, I know that you've been reluctant to accept the label of being called a hero but that is exactly who you are. You are a hero to everybody in the church that day. You are a hero to the people of Texas. You put your life on the line to ensure others would live. That is the hallmark of heroism and of courage. And it's my honor to present to you the Governor's Medal of Courage,"
          ],
          [
           "mike pompeo",
           "developing the facts and data"
          ],
          [
           "julián castro",
           "She has a lot of options going forward. Including running for president again, if that's what she wants to do."
          ],
          [
           "tim remole",
           "That's a beautiful thing about America, about freedom,"
          ],
          [
           "josh harder",
           "We need to crack down on these special privileges for politicians."
          ],
          [
           "greg abbott",
           "A stay-at-home strategy would mean that you had to stay at home. You could not leave home under any circumstances. That is obviously not what we've articulated here."
          ],
          [
           "pete buttigieg",
           "the right thinks they own"
          ],
          [
           "john ashcroft",
           "the text and the original intent of the Second Amendment clearly protect the right of individuals to keep and bear firearms,"
          ],
          [
           "gretchen whitmer",
           "will highlight the fundamental challenges our state is facing and outline the governor's policy priorities for building a stronger Michigan,"
          ],
          [
           "bill de blasio",
           "This should be a reality where the United States is put on a war footing, where the federal government mobilises all the resources necessary - and it begins with testing,"
          ],
          [
           "mike pompeo",
           "the disinformation campaign that the Chinese Communist Party is engaged in to try and deflect from what has really taken place here."
          ],
          [
           "gavin newsom",
           "Do those numbers still look as dire, or do you think that you have done enough to stave off the pandemic from growing?"
          ],
          [
           "ling ling chang",
           "Instead of micromanaging the labor market, we need to reform AB 5 and help California's newspapers and journalists operate normally. We have to fight for our hardworking individuals if we want to keep a diverse and dynamic economy."
          ],
          [
           "katie edwards",
           "Those images were not exploitation material, but indicated an interest in young girls,"
          ],
          [
           "brad raffensperger",
           "just two minor issues."
          ],
          [
           "eileen donoghue",
           "We're hoping that the summer months once the charter school is out, community college is not anticipating the same numbers, that will give us a little breathing room.... I think that we're going to have to every week be making changes and communication plans so that we're addressing it as we go through this."
          ],
          [
           "scott wiener",
           "This is a hugely important step for the Bay Area's capacity to support those needing medical help. Seton Medical Center is a pillar of our community, and has a talented staff with much to give during this crisis,"
          ],
          [
           "amy klobuchar",
           "We didn't get the results ’til yesterday (Monday) and so that's when we found out. Which we suspected over the weekend that he had it -- and that's the story of a lot of people."
          ],
          [
           "elaine chao",
           "raises the bar for new regulation."
          ],
          [
           "hakeem jeffries",
           "might speak up against the President for apparently if not collaborating with the Soviets, with the Russians again, the former Soviet KGB director, Mr. Putin."
          ],
          [
           "evan bayh",
           "We are a diverse citizenship and that is a beautiful thing,"
          ],
          [
           "kyrsten sinema",
           "That is completely, wholly inaccurate."
          ],
          [
           "robert reich",
           "Walmart bonuses are tied to minimizing the time you take off to care for yourself or a family member with an illness, which is why 88% of Walmart employees report coming to work when sick. Walmart's 500,000 part-time employees have a 48 hour annual cap on paid time off."
          ],
          [
           "travis tranel",
           "The way that farming is working is farmers are continually having to get bigger and consolidate, not because they want to, but in order to compete,"
          ],
          [
           "will barclay",
           "This is good, clean energy, frankly. It's natural gas."
          ],
          [
           "justin simmons",
           "I've always been the type of guy that consistently bet on myself,"
          ],
          [
           "ron desantis",
           "I am directing the Florida National Guard to create more Strike teams to significantly ramp up testing in long-term care facilities,"
          ],
          [
           "bill de blasio",
           "My message to New Yorker's remains the same: if you have the travel history and are exhibiting symptoms, please see your health provider immediately."
          ],
          [
           "joe biden",
           "Just a few days ago, the press and the punditry declared this campaign dead."
          ],
          [
           "adam schiff",
           "This is why he needs to be removed: Donald Trump chose Rudy Giuliani over his own intelligence,"
          ],
          [
           "chris sprowls",
           "figure out how to get a dozen tubes of frozen DNA onto an airplane."
          ],
          [
           "pete buttigieg",
           "Not a lot of people were talking about Bernie Sanders (in 2000)."
          ],
          [
           "mark ridley-thomas",
           "often unsanitary quarters with a large number of people living and sleeping in close proximity, with limited ability to employ strategies such as social distancing,"
          ],
          [
           "mike dewine",
           "That's something that I've asked our team to take a look at, so I don't have any additional comments today,"
          ],
          [
           "david gallegos",
           "I'm not trying to force anyone to be Catholic or Christian or Protestant or anything else,"
          ],
          [
           "lawrence lessig",
           "My team and I will get right to work on our briefs, and we look forward to a full and fair hearing."
          ],
          [
           "ted cruz",
           "acquitted forever of these bogus charges."
          ],
          [
           "ilhan omar",
           "War doesn't have a reset button, I learned this lesson at the age of Eight. Lives will be lost, many innocent lives will be lost and the future of generations will be impacted. Let's call for peace."
          ],
          [
           "howard dean",
           "The way Bernie did this was really helpful,"
          ],
          [
           "pete buttigieg",
           "`Do you remember that time we sat at a cafe in Paris and watched the world go by? And I know it's crazy out there right now. But, you know, when you're far away and you're missing me, you think of that moment. '"
          ],
          [
           "mike pompeo",
           "The diplomatic effort on this front has been vigorous, robust and enormously successful,"
          ],
          [
           "mike pence",
           "So I told Mike not to be complimentary to the governor because that governor is a snake."
          ],
          [
           "andrew cuomo",
           "On behalf of the NY family, I'm so sorry this happened,"
          ],
          [
           "mike pompeo",
           "The free West has a brighter future than illiberal alternatives."
          ],
          [
           "amy klobuchar",
           "How about that gold medal curling champion?"
          ],
          [
           "ari fleischer",
           "Once the Iraqi people see that Saddam & those around him will be removed from power, they'll welcome freedom, they'll be a liberated ppl"
          ],
          [
           "tulsi gabbard",
           "as it relates to foreign policy,"
          ],
          [
           "john dean",
           "is a little baffling to me after playing four or five good hockey games."
          ],
          [
           "joe lieberman",
           "President Trump's order to take out Soleimani was morally, constitutionally, and strategically correct. It deserves more bipartisan support than the begrudging or negative reactions it has received thus far from my fellow Democrats."
          ],
          [
           "paul begala",
           "@TomSteyer consistently strong on climate. I like the passion he shows on this issue."
          ],
          [
           "hogan gidley",
           "We know there are people actively working against this president,"
          ],
          [
           "letitia james",
           "In so doing, states will have to grapple with rising healthcare and homelessness costs that will result from this shortsighted and ill-conceived policy,"
          ],
          [
           "kylie oversen",
           "We just have to be willing to bite that bullet and have that adult conversation that a lot of us have been trying to have for a long time."
          ],
          [
           "aaron peskin",
           "They came up with a remarkably creative solution that, when done, will build dozens of units of affordable housing in Chinatown,"
          ],
          [
           "andrew cuomo",
           "We're going to do it in a coordinated sense with the other localities,"
          ],
          [
           "rob hogg",
           "will further short-change public safety, public health, education, and hazard mitigation, while shifting more of the burden to low-income working families."
          ],
          [
           "sam liccardo",
           "This is an important solution, but we know it's not the only solution,"
          ],
          [
           "pete hegseth",
           "rooting for coronavirus to spread."
          ],
          [
           "tony petelos",
           "He has built the County financial reserves, which resulted in an improvement in our bond ratings, putting us on solid financial footing for the future. It was no easy task and he did it facing a tremendous amount of pressure. We are going to miss him but wish him well."
          ],
          [
           "chuck grassley",
           "In other words, they help drain the swamp."
          ],
          [
           "tulsi gabbard",
           "Great! Thank you, Hillary Clinton. You, the queen of warmongers, embodiment of corruption, and personification of the rot that has sickened the Democratic Party for so long, have finally come out from behind the curtain. From the day I announced my candidacy, there has been a concerted campaign to destroy my reputation. We wondered who was behind it and why. Now we know -- it was always you, through your proxies and powerful allies in the corporate media and war machine, afraid of the threat I pose. It's now clear that this primary is between you and me. Don't cowardly hide behind your proxies. Join the race directly."
          ],
          [
           "mike pence",
           "We understand you may be reporting to your state, but the data is needed at the federal level to support FEMA and the Centers for Disease Control and Prevention in their efforts to support states and localities in addressing and responding to the virus,"
          ],
          [
           "ronald lauder",
           "But we do know what happened to the six million Jews killed in the Holocaust. With the opening of the archives, we may finally learn the truth about what the Vatican knew."
          ],
          [
           "adam schiff",
           "The whistleblower did exactly what they should."
          ],
          [
           "bill de blasio",
           "This individual had traveled to Florida. That was not any information that had been provided to us,"
          ],
          [
           "roy blunt",
           "The new allocation policy rewards historically low-performing organ procurement organizations without taking steps to improve their performance and help more Americans receive a life-saving liver."
          ],
          [
           "ted cruz",
           "All of the managers that were arguing against Clinton's impeachment because it was partisan, their arguments were used against them today. In fact, there were titters running throughout the crowd as Chuck Schumer was adamant that you shouldn't be able to go after someone who -- that isn't in a high crime or a misdemeanor."
          ],
          [
           "j.b. pritzker",
           "looking at similar data to what we are."
          ],
          [
           "adam schiff",
           "as if a country wholly dependent on us is going to admit to being shaken down."
          ],
          [
           "ken cuccinelli",
           "The department's top priority is the safety of the American people, and President Trump has directed an aggressive, coordinated interagency response to fulfill that mission."
          ],
          [
           "karyn polito",
           "The hands-free law will help increase road safety for all users, including pedestrians and bicyclists, who have the fastest growing rate of crashes caused by inattentive drivers,"
          ],
          [
           "clarence thomas",
           "I've never cried uncle,"
          ],
          [
           "kristin phillips-hill",
           "We may have our differences but when it comes to York, we all pull together and work together for the greater good of the county,"
          ],
          [
           "mark spreitzer",
           "The Governor previewed common-sense solutions to ensure Wisconsin farmers have the resources they need in these challenging times, including increasing support staff at UW Extension and expanding access to mental health resources. Wisconsin farmers can't wait, and we must pass common-sense, bipartisan solutions now."
          ],
          [
           "juliana stratton",
           "very popular microdose for beginning edible consumers."
          ],
          [
           "kevin foy",
           "The more we share our story, the less people will be scared,"
          ],
          [
           "joe biden",
           "We should stop thinking of the health and economic responses as separate. They are not,"
          ],
          [
           "joe biden",
           "Captain Crozier was faithful to his duty -- both to his sailors and his country. Navy leadership sent a chilling message about speaking truth to power,"
          ],
          [
           "john mcewen",
           "With more people and considerable employment growth anticipated for Coquitlam, Port Coquitlam and Pitt Meadows in the coming decades, it is vital we set aside conservation lands so people can connect with nature in their communities,"
          ],
          [
           "nancy pelosi",
           "comprehensive, coordinated response to mitigate any impact on Congressional operations."
          ],
          [
           "bernie sanders",
           "will not receive any external support. They will be condemned to inevitable death from starvation. Therefore, we beg your help."
          ],
          [
           "joni ernst",
           "During these challenge times, town halls look a little different -- we're hosting them via telephone. But it's still a tremendous opportunity for me to connect with my fellow Iowans and hear directly from folks across the state about their concerns and needs during COVID-19,"
          ],
          [
           "shelley moore capito",
           "This case is based on the information and the facts the House presents. If the House didn't call John Bolton when they had the opportunity, I don't think it is the Senate's prerogative to call John Bolton,"
          ],
          [
           "ned lamont",
           "This also stresses the importance of staying home and limiting exposure to other people."
          ],
          [
           "john nygren",
           "Let the legislative process do its job."
          ],
          [
           "elizabeth warren",
           "And this is only the third impeachment in the history of this country. I took an oath to be here."
          ],
          [
           "pete buttigieg",
           "All of the dates, all of the appearances, all of the conversations with friends and neighbors."
          ],
          [
           "mike pompeo",
           "Anytime a president makes a decision of this magnitude, there are multiple pieces of information that come before us,"
          ],
          [
           "gretchen whitmer",
           "In just 13 days, we've gone from 0 to 1,328 cases of COVID -19,"
          ],
          [
           "gavin newsom",
           "The number of PUIs, persons under investigation in the hospitals, those numbers are also trending down by multiples of that 0.2 percent,"
          ],
          [
           "nancy pelosi",
           "are harming our ability to fight the coronavirus epidemic, endangering frontline workers and making it harder to care for those who fall ill."
          ],
          [
           "bill lee",
           "This is an opportunity for us to serve the men who serve us,"
          ],
          [
           "linda upmeyer",
           "Certainly it's not only ag products, although we do about $6.6 billion worth of trade with Mexico and Canada and they're out biggest trading partners, but it's ag products, it's machinery, it's ethanol, it's processed foods,"
          ],
          [
           "matt gaetz",
           "I think this war powers resolution was worthy of support because it did not criticize the president, it did not say he was wrong in killing Soleimani,"
          ],
          [
           "peggy lehner",
           "We need to be very careful in whatever we put in place to fix this situation, that we are not creating bigger and more extensive problems down the road."
          ],
          [
           "cenk uygur",
           "And by the way, if you vote for them, you're also a bigot!"
          ],
          [
           "doug ducey",
           "Today's common-sense action will help ensure that our grocery stores are stocked and that our medical professionals and emergency responders have the equipment they need to stay safe,"
          ],
          [
           "mike enzi",
           "The Senate Page Program is a great opportunity for young people and provides experiences participants will carry with them for the rest of their lives,"
          ],
          [
           "ro khanna",
           "Senator Sanders looks forward to drawing a clear contrast in their worldviews,"
          ],
          [
           "trey gowdy",
           "I always thought this was much more about the Senate than it is about removing him [ Trump ] from office because that ain't going to happen,"
          ],
          [
           "betsy devos",
           "For too long, Federal Work-Study has put up artificial barriers between education and industry and deprived students from gaining useful experience in their field of study,"
          ],
          [
           "alex azar",
           "This disease is contained. We are now two weeks without any additional US base cases, 14 cases on February 11th, 14 cases Tuesday. The only additional cases we have are ones we imported as part of our humanitarian repatriate efforts,"
          ],
          [
           "lindsey graham",
           "I am confident if the world, led by the United States, pushed back against Iran, Russia, and Assad that they would stand down, paving the way for political negotiations to end this war in Syria,"
          ],
          [
           "mike kehoe",
           "How much of these are people who want to hunt (feral hogs) for the sport and how many of these people interested in this issue are farmers trying to protect, in my case, hay fields? Other cases might be soybeans, corn, etc,"
          ],
          [
           "andrew cuomo",
           "We had 200 net increase in hospitalizations, which you can see is the lowest number we've had since this nightmare started, actually."
          ],
          [
           "andrew cuomo",
           "more of a one-off situation,"
          ],
          [
           "hogan gidley",
           "Let's not forget it was Barack Obama who made his views very clearly known about the Eric Garner case. It was George H.W. Bush who talked about the acquittal in the Rodney King case. So this is not an unprecedented situation. The fact is though in this one the president didn't have a conversation with the attorney general at all. But he has the right to do it."
          ],
          [
           "cam ward",
           "Nobody ever thinks of unemployment benefits when unemployment is low."
          ],
          [
           "alex azar",
           "As we got better data on the flavours, we modified our thinking,"
          ],
          [
           "susan collins",
           "I agree with Chief Justice Roberts,"
          ],
          [
           "ashley moody",
           "Now, more than ever, it is important that we enlist more partners in our fight to end human trafficking,"
          ],
          [
           "doug ducey",
           "Arizona is working to keep our health professionals safe,"
          ],
          [
           "chuck schumer",
           "This is not just for medical and health care personnel on the front lines,"
          ],
          [
           "mitch mcconnell",
           "I have been honored to partner with the President as we work to strengthen the federal judiciary with impressive men and women who understand that the job of a judge is to apply our laws and Constitution as they are actually written,"
          ],
          [
           "james carville",
           "Let's shut this puppy down, and let's move on and worry about November. This thing is decided. There's no reason to keep it going but not even a day longer."
          ],
          [
           "greg abbott",
           "The State of Texas urges our local partners to complete this application through the Texas Department of Agriculture to ensure accurate, up-to-date information is available for Texas families."
          ],
          [
           "tate reeves",
           "make sure that people who are at risk of creating more violence aren't in jobs or locations that give them access to potential tools or targets of violence."
          ],
          [
           "amy klobuchar",
           "got Citizens United right,"
          ],
          [
           "gavin newsom",
           "And we believe that is appropriate under the circumstances to move in that direction."
          ],
          [
           "david blount",
           "I don't know. Sanders got about 17% of the vote here four years ago,"
          ],
          [
           "curt schroder",
           "Enacting an FCA will exacerbate this situation by further bogging down the state's already cumbersome and overly-crowded court system -- which in turn will negatively impact the state's overall business climate and economy. We urge lawmakers to oppose the creation of a False Claims Act and instead focus on proposals that will bring stability and fairness to Pennsylvania's civil justice system."
          ],
          [
           "gavin newsom",
           "We need to coordinate and organize our nation-state status as we can only in California with our procurement capacity that is quite literally second only to the United States itself."
          ],
          [
           "gretchen whitmer",
           "good news in the midst of a lot of really tough stuff that's going on."
          ],
          [
           "paul lundeen",
           "The constitution is very clear about what the session looks like, but the work of the legislature is year-round in my opinion,"
          ],
          [
           "jack flanagan",
           "You got ta understand: We're talking six hours. It's dark after 4, it's cold before 10. What would a compromise be? Right now, there's no riding. Before there was riding all the time."
          ],
          [
           "elizabeth warren",
           "You know, he's a dog who stands up and says, `I'm not waiting for someone to offer, I see what I wanted and I go straight after it, '"
          ],
          [
           "andy biggs",
           "These deaths were preventable, but for our government's dereliction of duty."
          ],
          [
           "ron george",
           "I poked him in the back and said, `Are you Bob Green?' And we became friends."
          ],
          [
           "president barack obama",
           "We've created 5.3 million new jobs, and importantly, added 600,000 new manufacturing jobs,"
          ],
          [
           "mike parson",
           "With the passage of this supplemental budget today I am establishing a working group to make suggestions on best use of this funding."
          ],
          [
           "lynn s. adelman",
           "Judges are encouraged to talk about current legal issues and problems,"
          ],
          [
           "james carville",
           "Any political scientist with an IQ above room temperature could have told you that."
          ],
          [
           "todd gloria",
           "I share her vision, and look forward to achieving it as Mayor."
          ],
          [
           "bernie sanders",
           "Pete has gotten funding from over 50 billionaires."
          ],
          [
           "dennis hisey",
           "so if we can give them a good outdoor experience in a controlled setting if you will like a state park, it's good for the environment."
          ],
          [
           "nan whaley",
           "I have said all along we have to respect the process, and I look forward to our community moving past this."
          ],
          [
           "andrew cuomo",
           "We are going to close down the New York City playgrounds... I warned people that if they didn't stop the density and the games in the playgrounds -- you can't play basketball, you can't come in contact with each other -- that we would close the playgrounds,"
          ],
          [
           "anton gunn",
           "Joe Biden didn't capitalize on the default position he had and his base of support has eroded,"
          ],
          [
           "gretchen whitmer",
           "The dire situation in Detroit is getting worse by the minute."
          ],
          [
           "cory gardner",
           "Vote Democrat if you want to fire over 100,000 energy workers in this country."
          ],
          [
           "patti smith",
           "Fred and I wrote People Have The Power together; it's an empowering song and lays out concerns about the environment, war and Presidents,"
          ],
          [
           "kerry donovan",
           "Me and my co-workers have been talking about it for weeks now. Like, `Why are we still open?' It's definitely here and we knew it was here weeks ago. So I guess I saw this coming."
          ],
          [
           "nikki haley",
           "You don't see anyone standing up for Iran. You're not hearing any of the Gulf members; you're not hearing China; you're not hearing Russia,"
          ],
          [
           "alex azar",
           "is another day of getting more and more prepared."
          ],
          [
           "john roberts",
           "The object of the scheme was not to commandeer lanes on the bridge,"
          ],
          [
           "marco rubio",
           "Qassem Soleimani was an active enemy combatant and de facto commander of Iran's global terrorist proxy network, who was directly responsible for the deaths of hundreds of Americans and continued to plot attacks against U.S. diplomats and American service members,"
          ],
          [
           "j.b. pritzker",
           "I kind of figured it was going to be, I didn't expect to be opening back up by the beginning of April, just watching the news and seeing how bad it had gotten in places,"
          ],
          [
           "tate reeves",
           "Versus chancing the weather, it looks like it's going to be a 50/50 shot,"
          ],
          [
           "patrick neville",
           "try to be helpful as much as we can,"
          ],
          [
           "seth hammett",
           "It's about time, after all of this talk about doing something, that we finally try and see if we can't reverse this trend,"
          ],
          [
           "bill de blasio",
           "We need tough consequences. We need a lot of police presence."
          ],
          [
           "michelle obama",
           "I was applauded just for getting in, even if the truth was I'd somehow squeaked in off the wait list. But I was in. People looked at me as if already I'd made my mark on the world,"
          ],
          [
           "andy beshear",
           "This money is being used on projects that will improve both soil and water quality on Kentucky farms,"
          ],
          [
           "andrew cuomo",
           "The loss won't only be those impacted by COVID19, but the danger is also to everyone else who needs hospital care for other issues."
          ],
          [
           "richard gottfried",
           "Or is this just going to go in the black hole of the state budget?"
          ],
          [
           "mike pompeo",
           "The future of this peace process isn't just about what we do, or what the Taliban does, it's about getting the Afghan people together to solve this problem that has plagued Afghanistan for now 40 years."
          ],
          [
           "arnold i. palacios",
           "because this is what a responsible government should do in challenging times."
          ],
          [
           "chuck schumer",
           "as has been clear to every senator and the country: We believe witnesses and documents are extremely important and a compelling case has been made for them. We will have votes on all of those."
          ],
          [
           "mara elliott",
           "And that's available to anybody inside or outside of the city of San Diego."
          ],
          [
           "london breed",
           "Essential government services like our police, our fire, out transit and sanitation will continue,"
          ],
          [
           "ras baraka",
           "I'm going to fight for these girls every day,"
          ],
          [
           "pete buttigieg",
           "no limitation on what he could get done"
          ],
          [
           "ron desantis",
           "Today (March 30) was our first day of full implementation, and while there were some bumps, the transition was successful thanks to your cooperation and support,"
          ],
          [
           "henry mcmaster",
           "Coastal residents can responsibly maintain social distance while enjoying our state's beaches,"
          ],
          [
           "phil murphy",
           "made out just fine in the last recession -- and, I assure you, they will again when the next one hits,"
          ],
          [
           "chuck schumer",
           "The president and the American people deserve nothing more than a fair, full, honest process,"
          ],
          [
           "gavin newsom",
           "As individuals and as a community, we need to do more to meet this moment."
          ],
          [
           "carol murphy",
           "I just think it's disrespectful to move him to just put somebody else in,"
          ],
          [
           "amy klobuchar",
           "I wrote the bill, the Violence Against Women Act.... Let's look at the fact-check."
          ],
          [
           "ryan sitton",
           "I'm as ardent a free-marketeer as you'll meet,"
          ],
          [
           "andrew ginther",
           "So it in no way shape or form is political or campaign-related,"
          ],
          [
           "matt gaetz",
           "Once major cities start basically closing up shop out of fear of the incredible danger posed by coronavirus, it's no longer feasible to make the arguments that they had been making for weeks and weeks,"
          ],
          [
           "andrew cuomo",
           "Voting itself during this crisis will surely risk voters and poll workers health alike."
          ],
          [
           "roy cooper",
           "In the coming months, all eyes will be on Charlotte and the Carolinas,"
          ],
          [
           "rick youngblood",
           "I'm not sure we'd spend any money on coronavirus. But we want to be prepared for any emergency for the state of Idaho."
          ],
          [
           "muriel bowser",
           "We have 10,000 D.C. residents currently serving on active duty, but zero votes in Congress."
          ],
          [
           "tana senn",
           "I think the Washington State Patrol needs to be looking at that data on a regular basis, and make sure they're adjusting their training and resources accordingly."
          ],
          [
           "susan collins",
           "I hoped that the president would have learned,"
          ],
          [
           "steve king",
           "So, the loan has served its purpose."
          ],
          [
           "joe biden",
           "The American people are a good and decent people,"
          ],
          [
           "jerrold nadler",
           "consumers should be able to trust that what they see and purchase online is what they will get, but counterfeiters continue to join platforms with ease and masquerade as reliable sellers in order to infect American households with dangerous and unsafe counterfeit products. The SHOP SAFE Act proposes a set of commonsense measures to tackle the gaps in these platforms' systems and stop counterfeit sales."
          ],
          [
           "andrew cuomo",
           "You pick the [ people ] who are going to die because you only sent 400 ventilators"
          ],
          [
           "henry mcmaster",
           "It allows consumers a voice to be heard,"
          ],
          [
           "sharon weston broome",
           "Don't keep gathering,"
          ],
          [
           "rick nelson",
           "Of course, they were trying to sell their firm, this is what we're going to do and it's going to be so amazing. And then what we got at the end obviously, wasn't that,"
          ],
          [
           "annise parker",
           "Pete's strong showing in Iowa represents a revolution in American politics, upending traditional notions of electability and proving America is ready to elect its first openly gay president,"
          ],
          [
           "mike sexton",
           "Now, our tractors with GPS... I tell folks with one my tractors, I could shut the lights off and it would just go down through the field better than I could steer it."
          ],
          [
           "pete buttigieg",
           "Looking at all of the data that we've got, it was an extraordinary night."
          ],
          [
           "asa hutchinson",
           "Our public health officials have met with him and if they're not going to voluntarily stop the congregational-type meeting, then we'll have to issue a directive,"
          ],
          [
           "mike pompeo",
           "underscore U.S. support for Uzbekistan's reforms and the country's sovereignty, independence, and territorial integrity"
          ],
          [
           "tim walz",
           "We've got to have continuity of services. We have got to protect the democracy to make sure we keep going,"
          ],
          [
           "derek kawakami",
           "all of the unnecessary business that goes on during the witching hours, when the werewolves come out."
          ],
          [
           "randall woodfin",
           "If they have the ability to do more than one service to decrease the population during that actual service so the congregation can be smaller in numbers, we as that they exercise that option. We ask that they provide hand sanitizer at the church. We ask faith-based leaders that like to hug and shake hands, we ask them not to do that for the month of March. We'll see how that looks in April. We ask them be intentional about practicing social distancing if they attend church, have church and have service. We don't want service to stop, but we want them to practice social distancing, which also includes washing hands, having hand sanitizer available on their pews."
          ],
          [
           "rick santorum",
           "I'll defend the Iowa caucuses even though it didn't do right by me in some respects,"
          ],
          [
           "charles anderson",
           "But I had to give in and make it about four studs too wide. I had all these beautiful design elements that wouldn't fit if I made it smaller, and I couldn't bear to lose them."
          ],
          [
           "chandler swope",
           "This is where the debate I think is important. I want to hear from colleagues and see if there's a viewpoint i haven't heard yet. With kids sometimes it's hard knowing what the right thing is,"
          ],
          [
           "greg abbott",
           "carried more than its share in assisting the refugee resettlement process and appreciates that other states are available to help with these efforts."
          ],
          [
           "jose oliva",
           "Common items like gauze, IV bags and needles will be charged to you at sometimes hundreds of times their original cost,"
          ],
          [
           "nancy pelosi",
           "there are so many things we didn't get in any of these bills yet in the way that we need to."
          ],
          [
           "charles schumer",
           "The bottom line there is that we will know very shortly after any contract with the Fed or with the Treasury is signed with a company and any loan is made, we'll have the full details of the loan document,"
          ],
          [
           "chloe eudaly",
           "These investments are vital for our community -- our commitment to Fixing Our Streets will shape the future of Portland,"
          ],
          [
           "mike parson",
           "I signed Executive Order 20-06 to begin mobilizing the @Missouri_NG to assist in the state's COVID-19 response efforts,"
          ],
          [
           "steven choi",
           "but at significant cost to our political relationship with Cuomo."
          ],
          [
           "alexandria ocasio-cortez",
           "important conversations and [ taking ] on issues that most candidates shy away from."
          ],
          [
           "bernie sanders",
           "It is amazing to me to see that even in conservative states like Mississippi, there is an overwhelming understanding that we are now spending twice as much per capita on health care as do the people of any other country, while 87 million of us remain uninsured or underinsured."
          ],
          [
           "steven reed",
           "In doing so, we must invest in programs like this and expand the existing footprint so that all four-year-old children living in Montgomery County have access to Alabama's First Class Pre-K."
          ],
          [
           "charlie rose",
           "No one seemed to object,"
          ],
          [
           "hogan gidley",
           "It's just to try and smear this president because they know they can't beat him at the ballot box,"
          ],
          [
           "ken cuccinelli",
           "immediately lose the application,"
          ],
          [
           "john mccain",
           "Can I get my credit card back? You made me walk all the way back here."
          ],
          [
           "paul gosar",
           "No one said this wasn't photoshopped. No one said the president of Iran was dead. No one said Obama met Rouhani in person."
          ],
          [
           "roy cooper",
           "We want people to stay home,"
          ],
          [
           "nancy pelosi",
           "We can only defeat this outbreak if we have an accurate determination of its scale and scope so that we can pursue a science-based response that is necessary."
          ],
          [
           "jim jordan",
           "We are that much closer to getting an acquittal of the president,"
          ],
          [
           "andrew cuomo",
           "If you see [ infections start rising ] then you know you've opened the valve too fast,"
          ],
          [
           "mike dewine",
           "That needs to happen when people are finding there is in fact a problem."
          ],
          [
           "rudy giuliani",
           "Am I going to cover it up the way the Democrats and the media cover it up?"
          ],
          [
           "neil rafferty",
           "drugs, particularly Class A drugs, are a very serious blight on our society"
          ],
          [
           "chris walsh",
           "You can look at any of those and say there might be a chance in the next year or two for them to legalize."
          ],
          [
           "kevin stitt",
           "I just returned from Washington, D.C., where I stood with the Trump administration to announce that the State of Oklahoma will be pursuing new flexibilities through the Healthy Adult Opportunity. With these new flexibilities, Oklahoma will begin the process in the coming weeks to roll out SoonerCare 2.0. Under this reformed Medicaid program, we will seek to close the gap of those uninsured in Oklahoma,"
          ],
          [
           "elissa slotkin",
           "You guys are saddled with significantly more debt than even our generation... and (Slotkin's aide is) still paying off her student debt,"
          ],
          [
           "jeanne shaheen",
           "further evidence of Georgia's democratic backsliding."
          ],
          [
           "martha mcsally",
           "What's even worse, the media is right in step with the Democrats and their extreme agenda,"
          ],
          [
           "ted cruz",
           "You Don't Even Believe in Evolution"
          ],
          [
           "jim clyburn",
           "I am fearful for the future of this country. I'm fearful for my daughters and their future, and their children and their children's future."
          ],
          [
           "bill weld",
           "In flyover country, a lot of people felt left behind,"
          ],
          [
           "peter defazio",
           "The multiplier effect is extraordinary."
          ],
          [
           "tom begich",
           "He took advantage of the situation and the moment,"
          ],
          [
           "nancy pelosi",
           "The American people have clearly expressed their view that we should have a fair trial with witnesses and documents, with more than 70% of the public stating that the president should allow his top aides to testify,"
          ],
          [
           "andrew cuomo",
           "But out of an abundance of caution, we will be contacting the people who were on the flight with her from Iran to New York and the driver of that car service."
          ],
          [
           "bernie sanders",
           "Trump and his friends think they are going to win this election by dividing people up. We are going to win because we're doing the exact opposite,"
          ],
          [
           "steven mnuchin",
           "These companies feed a big part of America, and I expect they're going to feed a bigger part of America"
          ],
          [
           "randy smith",
           "Along with the District, Hernando County, the Hernando County Sheriff's Office, the Florida Department of Environmental Protection and the Florida Fish and Wildlife Conservation Commission all play a role in protecting the river,"
          ],
          [
           "kc becker",
           "I think what jeopardizes [ local governments' ] legal defense in enacting a ban is the fact that there are property rights at issue. To say they can't be developed at all would be a problem,"
          ],
          [
           "rena moran",
           "hair texture and hair styles, such as braid, locks, and twists."
          ],
          [
           "ted cruz",
           "bragged publicly about withholding $1 billion in aid until Ukraine fired the prosecutor investigating Burisma, the company paying his son $1mm/yr."
          ],
          [
           "jackie speier",
           "what is being projected is true, this is yet another example of collateral damage from the actions that have been taken in a provocative way by the president of the United States."
          ],
          [
           "ron desantis",
           "That is a massive amount of equipment,"
          ],
          [
           "ben mcadams",
           "a fever, dry-cough and labored breathing."
          ],
          [
           "brian schatz",
           "The rules are there for a reason. We spend the lion's share of every day yammering. The least we can do in order to respect this process is abide by the requirement that we sit there and keep our mouths shut,"
          ],
          [
           "tim whelan",
           "By investing in this research, including proprietary questions, we were able to identify five key trends tied especially to Millennials. We believe these trends will make a permanent impact on the future of food and beverage packaging,"
          ],
          [
           "pete buttigieg",
           "forcing 150 million Americans off"
          ],
          [
           "chris cannon",
           "Congress has given up its power,"
          ],
          [
           "john cornyn",
           "the Democrats' insistence on holding this relief hostage for extraneous funding that isn't needed is unfathomable. Coronavirus relief is no place for partisan politics, but Senator Schumer just can't help himself."
          ],
          [
           "brian kemp",
           "communicate what is next for Georgia."
          ],
          [
           "chris christie",
           "I have a job to do to help get the administration ready. If there's some role for me that I want to do, and that the president-elect wants me to do -- we've known each other for 14 years -- we'll talk about,"
          ],
          [
           "mark takano",
           "According to the whistleblower complaint, HHS employees were not properly trained on safety procedures prior to engaging with evacuees, and they failed to wear proper safety equipment while monitoring the health of these individuals,"
          ],
          [
           "alexandria ocasio-cortez",
           "but we have a problem in this country with elitism."
          ],
          [
           "andrew cuomo",
           "He's a hands-on guy. We have a hands-on government and he was there himself. And he got exposed, our guess is, during that situation. But it is not emblematic of public transportation or anything else,"
          ],
          [
           "janet mills",
           "I highly value personal choice. But, as your governor, I am charged with protecting the health and safety of all Maine people, and amidst these outbreaks it has become painfully clear that Maine laws have not adequately protected the health of Maine people."
          ],
          [
           "bernie sanders",
           "And I don't think you can do that unless you have a message that appeals to the working class and the middle class in this country, who have been ignored too long by the political establishment, of which Joe Biden is part of."
          ],
          [
           "jb pritzker",
           "People who live in a certain area of the state, we might say, `Hey everybody, we need 100 or 50 of these kinds of professionals, please let us know if you're available this afternoon, this evening to come to this location to help us out,"
          ],
          [
           "ted yoho",
           "would bless the actions of aliens and agriculture employees who have ignored the law."
          ]
         ],
         "hovertemplate": "party_label=%{x}<br>pred=%{y}<br>speaker=%{customdata[0]}<br>quotation=%{customdata[1]}<br>rounded_pred=%{marker.color}<extra></extra>",
         "legendgroup": "",
         "marker": {
          "color": [
           1,
           0,
           0,
           0,
           0,
           1,
           1,
           1,
           1,
           1,
           1,
           1,
           1,
           1,
           0,
           1,
           0,
           0,
           1,
           1,
           0,
           0,
           1,
           1,
           1,
           0,
           1,
           0,
           1,
           1,
           0,
           1,
           0,
           0,
           1,
           1,
           0,
           0,
           1,
           1,
           0,
           0,
           1,
           1,
           0,
           1,
           0,
           1,
           1,
           0,
           1,
           0,
           0,
           1,
           0,
           0,
           1,
           1,
           0,
           0,
           1,
           0,
           1,
           0,
           0,
           1,
           0,
           1,
           1,
           0,
           1,
           0,
           1,
           1,
           1,
           1,
           1,
           1,
           1,
           1,
           0,
           1,
           0,
           0,
           0,
           1,
           1,
           0,
           0,
           1,
           1,
           1,
           0,
           1,
           0,
           0,
           0,
           0,
           0,
           1,
           0,
           0,
           1,
           1,
           0,
           1,
           0,
           1,
           1,
           0,
           0,
           1,
           0,
           1,
           0,
           1,
           1,
           0,
           0,
           0,
           0,
           1,
           0,
           0,
           0,
           1,
           1,
           0,
           0,
           1,
           1,
           0,
           0,
           0,
           1,
           1,
           0,
           0,
           0,
           1,
           0,
           1,
           0,
           0,
           0,
           0,
           0,
           1,
           0,
           1,
           1,
           1,
           1,
           0,
           1,
           0,
           1,
           1,
           1,
           1,
           1,
           0,
           0,
           0,
           0,
           0,
           0,
           0,
           0,
           1,
           0,
           0,
           0,
           0,
           1,
           1,
           1,
           0,
           0,
           1,
           1,
           0,
           1,
           1,
           0,
           1,
           1,
           0,
           1,
           0,
           0,
           1,
           0,
           0,
           1,
           0,
           1,
           0,
           1,
           0,
           0,
           0,
           1,
           1,
           0,
           0,
           1,
           0,
           1,
           0,
           1,
           0,
           0,
           1,
           0,
           1,
           1,
           0,
           1,
           1,
           0,
           1,
           0,
           0,
           0,
           1,
           1,
           0,
           1,
           1,
           0,
           1,
           1,
           1,
           0,
           1,
           0,
           0,
           1,
           0,
           1,
           0,
           1,
           1,
           0,
           0,
           0,
           1,
           0,
           1,
           1,
           1,
           0,
           1,
           1,
           0,
           1,
           0,
           0,
           0,
           1,
           0,
           1,
           0,
           1,
           1,
           1,
           1,
           1,
           1,
           1,
           0,
           0,
           1,
           1,
           0,
           0,
           1,
           0,
           0,
           0,
           1,
           0,
           0,
           1,
           0,
           0,
           0,
           0,
           1,
           0,
           0,
           1,
           0,
           0,
           1,
           1,
           0,
           0,
           1,
           1,
           1,
           1,
           0,
           0,
           1,
           0,
           0,
           0,
           0,
           1,
           0,
           1,
           1,
           1,
           0,
           1,
           0,
           0,
           1,
           0,
           1,
           0,
           1,
           1,
           1,
           0,
           1,
           1,
           0,
           1,
           1,
           0,
           0,
           1,
           0,
           0,
           1,
           0,
           0,
           1,
           0,
           0,
           0,
           1,
           0,
           1,
           0,
           0,
           0,
           0,
           1,
           1,
           0,
           0,
           1,
           1,
           0,
           1,
           0,
           0,
           1,
           0,
           0,
           0,
           1,
           0,
           1,
           0,
           1,
           1,
           0,
           1,
           0,
           1,
           1,
           1,
           0,
           0,
           0,
           1,
           1,
           1,
           1,
           0,
           0,
           0,
           1,
           1,
           1,
           1,
           1,
           1,
           1,
           0,
           1,
           1,
           0,
           0,
           1,
           0,
           0,
           1,
           0,
           1,
           1,
           1,
           0,
           0,
           1,
           1,
           1,
           0,
           0,
           1,
           0,
           1,
           0,
           1,
           0,
           0,
           1,
           1,
           0,
           0,
           0,
           0,
           0,
           1,
           1,
           1,
           0,
           1,
           0,
           0,
           1,
           0,
           0,
           1,
           1,
           1,
           1,
           0,
           1,
           0,
           0,
           0,
           1,
           1,
           0,
           0,
           0,
           1,
           1,
           1,
           1,
           1,
           0,
           0,
           0,
           0,
           0,
           0,
           1,
           1,
           0,
           0,
           1,
           1,
           0,
           0,
           0,
           1,
           1,
           0,
           0,
           1,
           1,
           1,
           1,
           0,
           0,
           1,
           0,
           0,
           1,
           0,
           0,
           1,
           0,
           1,
           0,
           1,
           1,
           1,
           0,
           0,
           0,
           0,
           0,
           1,
           1,
           1,
           1,
           0,
           1,
           0,
           0,
           0,
           1,
           1,
           1,
           1,
           0,
           0,
           1,
           0,
           1,
           1,
           1,
           1,
           1,
           0,
           0,
           1,
           1,
           1,
           0,
           1,
           0,
           0,
           0,
           0,
           1,
           0,
           1,
           1,
           0,
           0,
           0,
           1,
           1,
           0,
           0,
           1,
           0,
           1,
           0,
           1,
           0,
           0,
           1,
           1,
           1,
           0,
           1,
           1,
           0,
           1,
           0,
           0,
           1,
           1,
           1,
           1,
           1,
           0,
           0,
           1,
           0,
           0,
           1,
           1,
           1,
           1,
           1,
           1,
           1,
           0,
           0,
           1,
           0,
           0,
           1,
           1,
           1,
           0,
           1,
           0,
           1,
           1,
           1,
           1,
           0,
           0,
           1,
           1,
           0,
           1,
           1,
           0,
           1,
           0,
           0,
           1,
           0,
           1,
           1,
           1,
           0,
           1,
           0,
           1,
           1,
           0,
           0,
           1,
           0,
           0,
           0,
           0,
           0,
           1,
           0,
           0,
           1,
           1,
           0,
           0,
           0,
           0,
           1,
           1,
           0,
           1,
           0,
           1,
           1,
           1,
           1,
           0,
           0,
           1,
           1,
           1,
           1,
           1,
           0,
           1,
           0,
           1,
           1,
           1,
           1,
           0,
           1,
           0,
           0,
           0,
           1,
           1,
           0,
           1,
           0,
           0,
           1,
           1,
           1,
           1,
           0,
           1,
           0,
           0,
           0,
           0,
           0,
           1,
           0,
           0,
           0,
           0,
           1,
           1,
           0,
           1,
           1,
           0,
           0,
           1,
           0,
           0,
           1,
           0,
           1,
           0,
           1,
           1,
           0,
           1,
           1,
           0,
           0,
           0,
           1,
           1,
           1,
           1,
           0,
           1,
           0,
           0,
           0,
           0,
           0,
           0,
           0,
           0,
           1,
           0,
           0,
           1,
           1,
           1,
           0,
           0,
           1,
           0,
           0,
           0,
           1,
           1,
           1,
           0,
           0,
           0,
           1,
           1,
           0,
           0,
           1,
           1,
           1,
           0,
           1,
           0,
           0,
           0,
           0,
           1,
           1,
           0,
           0,
           0,
           0,
           0,
           1,
           1,
           0,
           1,
           0,
           0,
           0,
           1,
           1,
           1,
           0,
           1,
           1,
           1,
           0,
           0,
           1,
           0,
           0,
           1,
           1,
           1,
           0,
           1,
           1,
           0,
           0,
           0,
           0,
           1,
           1,
           1,
           0,
           1,
           1,
           0,
           0,
           0,
           1,
           0,
           1,
           1,
           0,
           1,
           1,
           1,
           1,
           1,
           0,
           0,
           0,
           0,
           1,
           0,
           0,
           0,
           0,
           0,
           0,
           0,
           1,
           0,
           1,
           1,
           1,
           1,
           1,
           1,
           1,
           1,
           0,
           1,
           1,
           1,
           0,
           1,
           0,
           1,
           1,
           0,
           1,
           0,
           1,
           0,
           0,
           0,
           0,
           0,
           1,
           0,
           1,
           0,
           1,
           0,
           0,
           0,
           1,
           1,
           0,
           1,
           1,
           0,
           0,
           0,
           1,
           0,
           1,
           0,
           0,
           1,
           1,
           1,
           0,
           1,
           1,
           0,
           0,
           1,
           1,
           1,
           0,
           0,
           0,
           1,
           1,
           1,
           0,
           1,
           1,
           1,
           1,
           0,
           1,
           1,
           0,
           0,
           0,
           0,
           0,
           0,
           0,
           0,
           1,
           0,
           0,
           0,
           1,
           0,
           0,
           1,
           0,
           1,
           1,
           0,
           1,
           1,
           1,
           1,
           1,
           1,
           1,
           0,
           1,
           1,
           1,
           1,
           0,
           1,
           1,
           0,
           0,
           1,
           1,
           1,
           1,
           1,
           0,
           1,
           0,
           1,
           0,
           0,
           1,
           1,
           1,
           1,
           0,
           0,
           0,
           0,
           1,
           0,
           1,
           0,
           1,
           1,
           1,
           1,
           1,
           1,
           1,
           0,
           0,
           1,
           1,
           0,
           1,
           1,
           0,
           1,
           0,
           0,
           1,
           0,
           0,
           1,
           0,
           1,
           1,
           1,
           1,
           1,
           1,
           0,
           0,
           0,
           1,
           0,
           1,
           0,
           1,
           0,
           0,
           0,
           0,
           0,
           0,
           1,
           0,
           1,
           0,
           1,
           1,
           0,
           0
          ],
          "coloraxis": "coloraxis",
          "symbol": "circle"
         },
         "mode": "markers",
         "name": "",
         "orientation": "v",
         "showlegend": false,
         "type": "scatter",
         "x": [
          "D",
          "R",
          "R",
          "R",
          "R",
          "D",
          "D",
          "D",
          "D",
          "D",
          "D",
          "D",
          "R",
          "R",
          "R",
          "R",
          "R",
          "R",
          "D",
          "R",
          "R",
          "R",
          "R",
          "D",
          "D",
          "R",
          "D",
          "D",
          "D",
          "D",
          "R",
          "D",
          "R",
          "D",
          "R",
          "R",
          "R",
          "D",
          "R",
          "D",
          "R",
          "R",
          "D",
          "D",
          "R",
          "D",
          "R",
          "D",
          "R",
          "D",
          "D",
          "R",
          "R",
          "R",
          "R",
          "R",
          "R",
          "D",
          "R",
          "R",
          "D",
          "R",
          "D",
          "R",
          "R",
          "D",
          "R",
          "D",
          "R",
          "R",
          "R",
          "D",
          "R",
          "D",
          "D",
          "R",
          "R",
          "D",
          "D",
          "D",
          "R",
          "D",
          "R",
          "R",
          "D",
          "R",
          "R",
          "D",
          "R",
          "D",
          "R",
          "D",
          "D",
          "D",
          "R",
          "R",
          "R",
          "D",
          "R",
          "D",
          "R",
          "R",
          "D",
          "R",
          "R",
          "D",
          "R",
          "R",
          "D",
          "R",
          "R",
          "D",
          "R",
          "D",
          "D",
          "D",
          "D",
          "R",
          "R",
          "R",
          "R",
          "D",
          "R",
          "R",
          "R",
          "D",
          "R",
          "R",
          "R",
          "R",
          "D",
          "R",
          "R",
          "R",
          "D",
          "D",
          "R",
          "D",
          "R",
          "D",
          "R",
          "D",
          "R",
          "R",
          "R",
          "R",
          "R",
          "D",
          "D",
          "D",
          "D",
          "D",
          "D",
          "R",
          "D",
          "R",
          "R",
          "R",
          "D",
          "R",
          "R",
          "D",
          "R",
          "D",
          "D",
          "R",
          "D",
          "R",
          "R",
          "D",
          "R",
          "R",
          "R",
          "D",
          "D",
          "D",
          "D",
          "R",
          "R",
          "R",
          "D",
          "R",
          "D",
          "D",
          "R",
          "D",
          "D",
          "D",
          "R",
          "R",
          "D",
          "D",
          "R",
          "R",
          "D",
          "R",
          "D",
          "R",
          "D",
          "R",
          "D",
          "R",
          "D",
          "D",
          "D",
          "D",
          "D",
          "R",
          "D",
          "R",
          "D",
          "D",
          "R",
          "D",
          "R",
          "D",
          "R",
          "R",
          "D",
          "D",
          "R",
          "D",
          "D",
          "D",
          "R",
          "D",
          "D",
          "R",
          "R",
          "D",
          "R",
          "D",
          "D",
          "D",
          "R",
          "R",
          "R",
          "R",
          "R",
          "R",
          "D",
          "R",
          "R",
          "D",
          "R",
          "R",
          "D",
          "D",
          "R",
          "D",
          "R",
          "D",
          "R",
          "R",
          "D",
          "R",
          "D",
          "R",
          "R",
          "R",
          "R",
          "R",
          "D",
          "R",
          "D",
          "R",
          "D",
          "D",
          "D",
          "R",
          "D",
          "R",
          "R",
          "R",
          "D",
          "D",
          "R",
          "D",
          "R",
          "R",
          "R",
          "D",
          "R",
          "R",
          "R",
          "R",
          "R",
          "R",
          "R",
          "D",
          "R",
          "R",
          "R",
          "D",
          "R",
          "D",
          "D",
          "D",
          "D",
          "R",
          "D",
          "D",
          "D",
          "R",
          "D",
          "D",
          "D",
          "R",
          "D",
          "R",
          "R",
          "D",
          "D",
          "D",
          "R",
          "D",
          "R",
          "D",
          "R",
          "D",
          "R",
          "R",
          "R",
          "D",
          "D",
          "R",
          "R",
          "D",
          "D",
          "D",
          "D",
          "D",
          "D",
          "R",
          "D",
          "D",
          "R",
          "R",
          "R",
          "D",
          "D",
          "R",
          "D",
          "R",
          "D",
          "R",
          "D",
          "R",
          "R",
          "R",
          "R",
          "D",
          "D",
          "D",
          "D",
          "D",
          "R",
          "D",
          "D",
          "R",
          "D",
          "D",
          "D",
          "R",
          "D",
          "D",
          "R",
          "D",
          "R",
          "D",
          "D",
          "D",
          "R",
          "R",
          "D",
          "D",
          "R",
          "D",
          "R",
          "D",
          "R",
          "D",
          "D",
          "D",
          "D",
          "D",
          "R",
          "D",
          "D",
          "R",
          "D",
          "D",
          "D",
          "D",
          "R",
          "D",
          "R",
          "R",
          "R",
          "D",
          "R",
          "R",
          "D",
          "R",
          "R",
          "R",
          "D",
          "D",
          "D",
          "D",
          "D",
          "D",
          "R",
          "R",
          "D",
          "R",
          "D",
          "R",
          "D",
          "R",
          "R",
          "D",
          "D",
          "R",
          "D",
          "R",
          "R",
          "R",
          "D",
          "D",
          "D",
          "R",
          "D",
          "D",
          "R",
          "D",
          "D",
          "R",
          "D",
          "R",
          "D",
          "D",
          "D",
          "R",
          "D",
          "R",
          "R",
          "D",
          "D",
          "R",
          "R",
          "R",
          "D",
          "D",
          "D",
          "D",
          "D",
          "R",
          "D",
          "R",
          "D",
          "R",
          "R",
          "D",
          "D",
          "R",
          "R",
          "R",
          "D",
          "R",
          "R",
          "R",
          "D",
          "D",
          "R",
          "R",
          "R",
          "D",
          "R",
          "D",
          "R",
          "R",
          "D",
          "R",
          "R",
          "D",
          "R",
          "R",
          "D",
          "D",
          "D",
          "R",
          "D",
          "D",
          "R",
          "R",
          "R",
          "R",
          "R",
          "R",
          "D",
          "D",
          "D",
          "D",
          "D",
          "D",
          "D",
          "R",
          "R",
          "D",
          "R",
          "R",
          "R",
          "D",
          "R",
          "D",
          "R",
          "R",
          "D",
          "D",
          "D",
          "D",
          "D",
          "R",
          "D",
          "D",
          "D",
          "R",
          "D",
          "R",
          "R",
          "R",
          "R",
          "R",
          "R",
          "D",
          "D",
          "R",
          "D",
          "R",
          "D",
          "D",
          "D",
          "R",
          "R",
          "D",
          "R",
          "D",
          "D",
          "R",
          "R",
          "D",
          "D",
          "D",
          "R",
          "R",
          "R",
          "D",
          "D",
          "D",
          "R",
          "R",
          "D",
          "R",
          "D",
          "D",
          "D",
          "R",
          "D",
          "D",
          "D",
          "D",
          "D",
          "D",
          "D",
          "D",
          "R",
          "D",
          "D",
          "R",
          "D",
          "R",
          "R",
          "D",
          "D",
          "D",
          "R",
          "D",
          "R",
          "D",
          "R",
          "R",
          "R",
          "R",
          "D",
          "D",
          "D",
          "D",
          "D",
          "D",
          "R",
          "D",
          "R",
          "R",
          "R",
          "D",
          "D",
          "D",
          "R",
          "R",
          "D",
          "R",
          "R",
          "D",
          "D",
          "R",
          "R",
          "R",
          "R",
          "R",
          "D",
          "R",
          "D",
          "R",
          "R",
          "D",
          "D",
          "R",
          "R",
          "R",
          "R",
          "R",
          "D",
          "R",
          "R",
          "R",
          "D",
          "D",
          "R",
          "D",
          "D",
          "R",
          "D",
          "R",
          "D",
          "D",
          "D",
          "R",
          "D",
          "R",
          "D",
          "D",
          "D",
          "D",
          "R",
          "R",
          "R",
          "R",
          "R",
          "D",
          "D",
          "R",
          "D",
          "R",
          "D",
          "R",
          "R",
          "R",
          "D",
          "R",
          "D",
          "R",
          "D",
          "R",
          "R",
          "R",
          "D",
          "R",
          "R",
          "R",
          "R",
          "D",
          "R",
          "R",
          "R",
          "D",
          "R",
          "D",
          "D",
          "D",
          "R",
          "R",
          "R",
          "D",
          "R",
          "D",
          "D",
          "R",
          "D",
          "D",
          "R",
          "R",
          "R",
          "R",
          "R",
          "R",
          "D",
          "R",
          "R",
          "R",
          "R",
          "R",
          "R",
          "D",
          "R",
          "R",
          "R",
          "D",
          "R",
          "R",
          "D",
          "D",
          "D",
          "R",
          "R",
          "D",
          "R",
          "D",
          "D",
          "D",
          "D",
          "D",
          "R",
          "D",
          "R",
          "D",
          "R",
          "R",
          "R",
          "D",
          "D",
          "R",
          "R",
          "R",
          "D",
          "D",
          "R",
          "R",
          "R",
          "D",
          "R",
          "D",
          "R",
          "D",
          "R",
          "D",
          "D",
          "R",
          "D",
          "R",
          "D",
          "R",
          "D",
          "D",
          "D",
          "R",
          "D",
          "D",
          "D",
          "D",
          "R",
          "R",
          "R",
          "R",
          "D",
          "D",
          "D",
          "R",
          "D",
          "D",
          "R",
          "R",
          "D",
          "R",
          "D",
          "D",
          "D",
          "R",
          "R",
          "D",
          "R",
          "D",
          "R",
          "D",
          "R",
          "D",
          "D",
          "R",
          "D",
          "D",
          "D",
          "D",
          "D",
          "D",
          "R",
          "R",
          "R",
          "D",
          "R",
          "R",
          "D",
          "D",
          "R",
          "R",
          "D",
          "D",
          "R",
          "R",
          "R",
          "R",
          "D",
          "D",
          "D",
          "D",
          "D",
          "R",
          "D",
          "D",
          "R",
          "R",
          "D",
          "R",
          "D",
          "D",
          "R",
          "D",
          "D",
          "D",
          "D",
          "R",
          "R",
          "R",
          "R",
          "R",
          "R",
          "D",
          "R",
          "R",
          "R",
          "R",
          "R",
          "D",
          "D",
          "R",
          "R",
          "R",
          "R",
          "R",
          "R",
          "D",
          "R",
          "D",
          "R",
          "R",
          "D",
          "D",
          "D",
          "R",
          "D",
          "D",
          "R",
          "R",
          "D",
          "R",
          "R",
          "D",
          "R",
          "D",
          "D",
          "D",
          "D",
          "R",
          "D",
          "D",
          "D",
          "D",
          "R",
          "R",
          "D",
          "R",
          "R",
          "R",
          "R",
          "D",
          "R",
          "R",
          "D",
          "D",
          "D",
          "D",
          "D",
          "D",
          "R",
          "R",
          "D",
          "D",
          "D",
          "D",
          "D",
          "R",
          "R",
          "D",
          "D",
          "D",
          "R",
          "D",
          "R",
          "D",
          "R",
          "D",
          "R",
          "R",
          "D",
          "D",
          "R",
          "R",
          "D",
          "D",
          "D",
          "R",
          "D",
          "D",
          "D",
          "R",
          "D",
          "R",
          "R",
          "D",
          "D",
          "D",
          "R",
          "D",
          "R",
          "R",
          "R",
          "D",
          "D",
          "D",
          "R",
          "R",
          "D",
          "D",
          "D",
          "D",
          "R",
          "R",
          "R",
          "R",
          "R",
          "D",
          "R",
          "D",
          "R",
          "R",
          "D",
          "D",
          "R",
          "D",
          "D",
          "R",
          "R",
          "D",
          "R",
          "D",
          "D",
          "D",
          "D",
          "D",
          "R",
          "R",
          "D",
          "D",
          "R",
          "D",
          "R",
          "D",
          "D",
          "R",
          "D",
          "R",
          "R",
          "R",
          "R",
          "D",
          "D",
          "D",
          "D",
          "D",
          "D",
          "R"
         ],
         "xaxis": "x",
         "y": [
          0.38998900293375965,
          0.665148122717489,
          0.6002409022687929,
          0.5142173874802165,
          0.7666064536388899,
          0.44891061134729837,
          0.46154247867090503,
          0.43435908632520087,
          0.30577902943048363,
          0.41428368103060526,
          0.3383448609937732,
          0.0004630431108672901,
          0.2290632660298734,
          0.21892953160579545,
          0.7554463068053188,
          0.45443773670231363,
          0.7483250314871357,
          0.8053213325906052,
          0.03807148681391224,
          0.47825486853590476,
          0.8070354093225232,
          0.5018875176841631,
          0.4803379272597475,
          0.3345373436942581,
          0.4968646858455312,
          0.6223517772520593,
          0.18380559405215463,
          0.5308780765114618,
          0.3830601773346232,
          0.40716049176004687,
          0.5934733529187325,
          0.30185413551630563,
          0.6125134244159282,
          0.5781506038684181,
          0.4353814673307238,
          0.45933057545804157,
          0.5391686937226512,
          0.5212581258516918,
          0.40260946923834934,
          0.10811494623988693,
          0.5853856802626288,
          0.9674975542776822,
          0.011347619443580169,
          0.0842074937749138,
          0.8995984305638126,
          0.38693533463285923,
          0.928157481240428,
          0.3693196267962546,
          0.45120895304802144,
          0.5046605961560197,
          0.4170593520697441,
          0.7141906662753825,
          0.7521881981468101,
          0.4117499597459696,
          0.5270965066642401,
          0.6343758665351305,
          0.21467961217503384,
          0.3603440574650686,
          0.5025001788615798,
          0.7834281223802202,
          0.46387387143825637,
          0.5797822594914948,
          0.3886285152269799,
          0.80125983881287,
          0.6887445178008731,
          0.38748664640306435,
          0.6353793173223409,
          0.17741285445512367,
          0.4265472213308945,
          0.5552307343561846,
          0.11875552836338904,
          0.5723565059077915,
          0.3982705743436497,
          0.3929736808887118,
          0.3096206805494558,
          0.3739718874023578,
          0.4593941206211198,
          0.04795558619870951,
          0.0682284359677662,
          0.39800523420274975,
          0.5872025497984525,
          0.3600904003736116,
          0.8697116432731147,
          0.5618312065102432,
          0.9140460999194716,
          0.3616568274104437,
          0.4527841671504459,
          0.5686741379097028,
          0.6219491733683443,
          0.09155351656914809,
          0.4587200898864142,
          0.27268732237676246,
          0.5007992541037732,
          0.2718932452363997,
          0.5761872041270444,
          0.7120989823212808,
          0.6899288604440984,
          0.6172083203521529,
          0.7105005417436059,
          0.17200328659339667,
          0.5781853995405446,
          0.6369660060188237,
          0.14676963456429143,
          0.3427694700939569,
          0.8626428652290157,
          0.25053984052106293,
          0.9981861421891256,
          0.47288521198020783,
          0.36559984367221987,
          0.6193015937014161,
          0.6225988763542071,
          0.4159331865510553,
          0.7081381615092263,
          0.40606300154413555,
          0.5215703564370586,
          0.20376202806498267,
          0.3462216791957584,
          0.5544651820627264,
          0.7138976667045083,
          0.5131916857027622,
          0.7240416768765275,
          0.27008191401583004,
          0.529784150587277,
          0.635605012605594,
          0.6628570305292458,
          0.23247976785804914,
          0.4530726745377807,
          0.9367819907920489,
          0.6070215620502541,
          0.4061167712554438,
          0.0952027024730333,
          0.6384801017743836,
          0.5729426483719786,
          0.8040073464195995,
          0.3226977999973376,
          0.2956329791500575,
          0.6929141012027925,
          0.5544834512685362,
          0.770404291983146,
          0.42501461281029507,
          0.6357644429586236,
          0.07258257043965556,
          0.5275266811534322,
          0.5758549644563645,
          0.592319779797869,
          0.6496586610894425,
          0.5132102961664866,
          0.4224200545140624,
          0.6425296574259477,
          0.24963937728174365,
          0.34699182736567075,
          0.2851504905102663,
          0.4171415448833048,
          0.8168403324724429,
          0.27656329801475943,
          0.6069140474896939,
          0.3896968701405552,
          0.3753295581187047,
          0.265931151886084,
          0.4944390611680585,
          0.4068323077742259,
          0.5005088498200599,
          0.6896016237262498,
          0.5863002048932706,
          0.5544451214433495,
          0.6318641592864896,
          0.7268055842026134,
          0.7815752321392427,
          0.5018832291305161,
          0.4019891473157114,
          0.6874827822034802,
          0.6498330184857509,
          0.7901578753159264,
          0.6037262549380802,
          0.44347825959845033,
          0.47333549204303316,
          0.3256534890519699,
          0.5966074921002813,
          0.7199071856857926,
          0.4580049947376785,
          0.12680770602977565,
          0.672967672097049,
          0.12772147295513298,
          0.2628931176330813,
          0.5845132302910454,
          0.4124224711484715,
          0.3461977024283558,
          0.5832063274613667,
          0.43886363678762735,
          0.5374439733723453,
          0.6229654651294664,
          0.41809328619390695,
          0.7524601671662069,
          0.7048872231856366,
          0.15813699262051872,
          0.6638510509928742,
          0.4247086715955979,
          0.59495779852789,
          0.13862625300468967,
          0.5245993470798318,
          0.6166202207094701,
          0.5044599854950561,
          0.17305147452420047,
          0.37781567102487995,
          0.7585977811676634,
          0.5148831034229575,
          0.3450605696954238,
          0.681499286342325,
          0.16887819789946637,
          0.660477590963999,
          0.49258135832040084,
          0.508838126047543,
          0.8144206804085012,
          0.31370251000619653,
          0.6663863784419043,
          0.24442077845295157,
          0.39046314837092544,
          0.5520264625899439,
          0.3036142443559325,
          0.2015224656058404,
          0.5592197394407106,
          0.275316556628057,
          0.5212174457107122,
          0.7188293031652304,
          0.5348098220386411,
          0.2832330386338116,
          0.13779762582458904,
          0.7206672804111132,
          0.48180943082699124,
          0.4807530196275237,
          0.6049209231418171,
          0.47935435490146666,
          0.3724187028913996,
          0.1955950750127854,
          0.5639972120773893,
          0.4735878111595061,
          0.514703982455102,
          0.7257851778096409,
          0.48674270016395094,
          0.6892387697790484,
          0.3194462645574368,
          0.5777523490445944,
          0.32646134837801283,
          0.42633004299803934,
          0.815658046224213,
          0.6651833671753267,
          0.5559928191614109,
          0.2749663388811801,
          0.6331885704125633,
          0.2340851570674321,
          0.4913684567703869,
          0.2938926436682252,
          0.6997838656543964,
          0.299334930553197,
          0.34832642928994867,
          0.5658306190204271,
          0.4889262888723841,
          0.7808544327146002,
          0.7810045840148195,
          0.5191804059010713,
          0.362649180292572,
          0.6027829476245187,
          0.37333493580668414,
          0.6273314367774316,
          0.1706426414524097,
          0.4361209300354462,
          0.4733809262439784,
          0.4901819980944148,
          0.44429631287898397,
          0.4433541842310835,
          0.45417388816022874,
          0.6385951283995822,
          0.762546684162612,
          0.4845925301946054,
          0.2204389981199701,
          0.5241878317022151,
          0.9469294521584559,
          0.4776451950594256,
          0.6753064514301654,
          0.6215475806979728,
          0.5797145790200264,
          0.26669782440634177,
          0.6257195694404704,
          0.5450478624068139,
          0.4404311424896717,
          0.6251578733998739,
          0.5284683762757209,
          0.6339795381977097,
          0.8989545193409695,
          0.3681332644591329,
          0.6854952542818441,
          0.6840802091886439,
          0.3332636770957255,
          0.5192997519866939,
          0.6692240068167874,
          0.3760684617327421,
          0.025362118784118957,
          0.5968367417814449,
          0.5833446211808457,
          0.40700917376258267,
          0.314539177573245,
          0.3989926759334389,
          0.43834364205057014,
          0.6922138806557168,
          0.5277386906082568,
          0.49293045596775376,
          0.6825290737763984,
          0.6152447018957985,
          0.6682842695635441,
          0.5964675121432904,
          0.426429439899683,
          0.657405304529862,
          0.310760460570026,
          0.2830321848504573,
          0.41718698074380917,
          0.713327802905028,
          0.47271647257817906,
          0.5335293948650874,
          0.8172865564422174,
          0.14573733098756825,
          0.9515921796321618,
          0.4648289212306782,
          0.6794694418355264,
          0.4086087095935722,
          0.43207750496938996,
          0.2234133560702312,
          0.5872145436903317,
          0.3517869234751927,
          0.47914844921792904,
          0.540375614330142,
          0.18671923041312216,
          0.07919299685095764,
          0.5203171959268564,
          0.6264049667370947,
          0.44041520504872367,
          0.6879068303422377,
          0.6361576289934021,
          0.4771480875304317,
          0.7308588859658218,
          0.5184580837222511,
          0.35026245240333403,
          0.5774824065832171,
          0.5774249802914904,
          0.610785783038025,
          0.3935679833597499,
          0.5328053319143349,
          0.3223664501411959,
          0.615574903654533,
          0.5476187284931529,
          0.6148681520536077,
          0.6437717339651147,
          0.49450657986230645,
          0.14897407367450216,
          0.556086240642274,
          0.5083799519756845,
          0.15057593125688215,
          0.28640223711937696,
          0.6142977369844378,
          0.4294391850636093,
          0.7399239546279408,
          0.5238732953835353,
          0.21102133138676724,
          0.5043608032529732,
          0.6089812325774413,
          0.6442625279560046,
          0.3807270332990938,
          0.5553184731291023,
          0.3611774368044467,
          0.6007165996441817,
          0.44603550527595065,
          0.44180684774074314,
          0.5303339265342916,
          0.4867730344492568,
          0.5819797265242519,
          0.3809698371382324,
          0.29666548914537016,
          0.37101176689195287,
          0.6701655060524461,
          0.8139781075634788,
          0.5657087480978914,
          0.43719751569509907,
          0.0707014762886254,
          0.05026836804670692,
          0.4289783938229379,
          0.5474460718225843,
          0.5203590222626856,
          0.6450148928782494,
          0.4112736304113809,
          0.3342371991219073,
          0.48303939174350696,
          0.08078450525681531,
          0.36038236991383893,
          0.2102161658376811,
          0.15117287552983907,
          0.517557018234826,
          0.3372309113836239,
          0.1873900544532046,
          0.5195825777440068,
          0.6502101661482218,
          0.2656582286709159,
          0.7523313972930782,
          0.5303570107534022,
          0.1753064990886136,
          0.7741328881557976,
          0.302623144499921,
          0.4916160110212982,
          0.28570761498451536,
          0.5481253701915427,
          0.606444363375356,
          0.3225770917990564,
          0.10073249319671343,
          0.316811963470222,
          0.6373818953054879,
          0.5541602870250886,
          0.4130970829919877,
          0.6842547798280495,
          0.4664552375334717,
          0.6152947540483465,
          0.24256111829486562,
          0.6624837848859861,
          0.580148091934997,
          0.28165615881081146,
          0.30624911727764365,
          0.5079805590984446,
          0.6537949458546448,
          0.9529601183373413,
          0.5777766614783243,
          0.829294391839688,
          0.03013658184619281,
          0.3321507670430234,
          0.3363771022684105,
          0.5810158370896323,
          0.13640731866468184,
          0.503877173416668,
          0.600882177372627,
          0.46111217019634515,
          0.5202000439656582,
          0.834388387453901,
          0.3437992072616887,
          0.3546548992515024,
          0.2982021987133375,
          0.16309665309541588,
          0.7425733351839274,
          0.4562390668548462,
          0.6505614461025312,
          0.6812542850130184,
          0.5098882897240415,
          0.44311650528388674,
          0.43402703926717406,
          0.8418894969927324,
          0.5078966170634016,
          0.6995142966712822,
          0.31867925844488076,
          0.2919309450734498,
          0.4855819466845414,
          0.4258528168384656,
          0.07286171751259915,
          0.6626930109137932,
          0.516733271819157,
          0.5348096143249268,
          0.5514430978658404,
          0.5988201424093758,
          0.756620204604355,
          0.4478217612448982,
          0.03040064750916557,
          0.677687366377976,
          0.7365351027760568,
          0.3862960238935623,
          0.429671610293645,
          0.9471239839890452,
          0.9337441922692432,
          0.6587745653222914,
          0.4340398623973622,
          0.046000688990107265,
          0.7715333001388575,
          0.5088686655966501,
          0.4950460506008346,
          0.15968393399764427,
          0.4951973034437081,
          0.3317913015591595,
          0.9769949772429398,
          0.7957477197503338,
          0.21394418068012575,
          0.6741425837438592,
          0.6744271809781258,
          0.18570047758861719,
          0.5928132117517435,
          0.9916073207793566,
          0.015862197157014514,
          0.6597419103174442,
          0.2700906695616622,
          0.5996045337459622,
          0.08014032296742774,
          0.40675262532543893,
          0.31833264287714863,
          0.6885487109732785,
          0.6641384650284173,
          0.5947593604319511,
          0.5822109674555728,
          0.6919851370784245,
          0.08673625426984732,
          0.2733887137587562,
          0.15130563692875715,
          0.3816264500814476,
          0.5192912188131799,
          0.20319902155063618,
          0.6087261533361097,
          0.6435288094364313,
          0.6356460252702797,
          0.4402342007047248,
          0.471528314596285,
          0.46386780418506124,
          0.4722084214569415,
          0.5291882929654101,
          0.5377778211058147,
          0.18947188011390684,
          0.6726803788441232,
          0.2531350480310211,
          0.19537979142134113,
          0.28722724793765164,
          0.034628293232120126,
          0.3377061232632637,
          0.5701781961544398,
          0.9602034126889021,
          0.11103002769655933,
          0.16866432789232494,
          0.008613809201291218,
          0.7480861215131828,
          0.1424296353034383,
          0.8503459690764215,
          0.5402360114256409,
          0.600693276520161,
          0.6433236684383885,
          0.35103118997540644,
          0.6005357861996323,
          0.2708235990224757,
          0.42165365332739835,
          0.5556703650754955,
          0.5519010819352932,
          0.9424844892137832,
          0.4167241962419407,
          0.3457871704729209,
          0.5193150639377313,
          0.5318420599896185,
          0.4105835265200463,
          0.5351831809744513,
          0.33503459910657885,
          0.621691688529785,
          0.17882130841595265,
          0.5434814259004231,
          0.6597028052061819,
          0.33666558520004297,
          0.445732987196235,
          0.4255692872851126,
          0.6450720389568741,
          0.4482484896790771,
          0.4270873934655992,
          0.5341432158219123,
          0.326885789095326,
          0.6911109345712094,
          0.8666012018027921,
          0.4300201566013858,
          0.41520367672219266,
          0.4890418663060091,
          0.25100347773675064,
          0.4368985197253166,
          0.5158533311757779,
          0.6612774156927784,
          0.2863173602555326,
          0.5595102969208872,
          0.6084482317945334,
          0.07065643515955518,
          0.4399094125909675,
          0.29456800939200345,
          0.3814879320331843,
          0.2565334514704794,
          0.40684716864016063,
          0.47136131474899134,
          0.5658972062286496,
          0.7693919100490484,
          0.3564780344462149,
          0.703600065297408,
          0.5164858260517576,
          0.40607064637205814,
          0.16009588019092386,
          0.30498160707046157,
          0.5654960715247723,
          0.4169497278182678,
          0.5969144467989488,
          0.19271685536512098,
          0.30674840422315824,
          0.3572029882691496,
          0.3393763431251402,
          0.5141780322450229,
          0.5009943590481121,
          0.22646365869337826,
          0.4719584879964501,
          0.5669647082355248,
          0.08664487918299098,
          0.46687880258457004,
          0.5955368786579226,
          0.23808096701976775,
          0.6062825716877468,
          0.6199010821452678,
          0.45122334998138086,
          0.9022155096727967,
          0.44968743340322254,
          0.4946743761185364,
          0.4337700312557336,
          0.7778779578173095,
          0.1987654924337706,
          0.8741745102170546,
          0.4808377303486611,
          0.13792371563068265,
          0.5140648340270945,
          0.8386669847731135,
          0.4051262465609492,
          0.5332103629384787,
          0.6670686785281326,
          0.714459547667321,
          0.5854870546855685,
          0.5038331880825202,
          0.22606209133330765,
          0.694693956415666,
          0.5328476496128759,
          0.3696716027812722,
          0.427482744179457,
          0.5708588921758263,
          0.7444248619263867,
          0.9562418512527756,
          0.689033294062118,
          0.30468792868153044,
          0.38741744065211103,
          0.5879476468568127,
          0.29077542606856327,
          0.7451315632344789,
          0.28347663528097555,
          0.009851979994493639,
          0.2068860719570652,
          0.36378509401998493,
          0.5274807490347718,
          0.5243712701958532,
          0.0464913868145655,
          0.4100149140746191,
          0.2886835243856708,
          0.2933251307892554,
          0.4669151235882202,
          0.7076021876161447,
          0.43590551246340203,
          0.5323282988106858,
          0.4868891699558306,
          0.19286667367888227,
          0.21577769714783085,
          0.28530016342388814,
          0.5088008522031322,
          0.3214916823505575,
          0.5415625283294019,
          0.5383734990425524,
          0.5491637380910611,
          0.4543374444364617,
          0.3377806577339527,
          0.6604717708795607,
          0.3140750143555983,
          0.9679893340301473,
          0.5147041769273272,
          0.48436590453490114,
          0.2904211093582577,
          0.49076355521763715,
          0.45224617399908057,
          0.7449052574959608,
          0.4753943201356622,
          0.7223695327319575,
          0.5076684699629468,
          0.7776993383080721,
          0.5096117482565263,
          0.5450744279446087,
          0.45067544544707816,
          0.971313938461599,
          0.6233128686078646,
          0.5196423301761197,
          0.5469979332496883,
          0.4806809254707731,
          0.39283466845000986,
          0.6087059914710344,
          0.36400929596952786,
          0.049341086671153125,
          0.5370432467227383,
          0.5551928345320611,
          0.29758311012691274,
          0.5730539594566346,
          0.662203806914315,
          0.4672613260602427,
          0.5973819337456989,
          0.44743289848802464,
          0.5681111182175725,
          0.39062938292654453,
          0.28960659971490293,
          0.7281771736629084,
          0.11241071453990989,
          0.4702782735297996,
          0.6279307139814237,
          0.5238796606339288,
          0.6737052988235233,
          0.35851756731991447,
          0.28250619301839264,
          0.3938938756142719,
          0.13568160738806825,
          0.6236458077678088,
          0.4986598269411869,
          0.8727574629036382,
          0.6464886205534497,
          0.546106465998143,
          0.7232199415820176,
          0.512651246001568,
          0.8032414894245903,
          0.5930565474269417,
          0.6497206850477327,
          0.4744546321648252,
          0.8092380491168478,
          0.5709487567475814,
          0.47605565889775275,
          0.4926647044926183,
          0.48086564259725817,
          0.6762280149665864,
          0.5246578328888531,
          0.41798337484993237,
          0.7549466025689537,
          0.5117214270676219,
          0.5195935979278065,
          0.2771104666313786,
          0.47232129688831914,
          0.09506204799009525,
          0.7454296957711861,
          0.5270926806816043,
          0.887005361123666,
          0.39924331672114277,
          0.4130550489601341,
          0.698824484313593,
          0.6220738343142681,
          0.4904629191454177,
          0.16836856390199365,
          0.31516552716385604,
          0.7095472141395895,
          0.2699062497309285,
          0.5050126037790881,
          0.5016221916458593,
          0.6687145942074825,
          0.6818173559743413,
          0.46036673597529054,
          0.2868691043507749,
          0.6968973357374668,
          0.6403745255699292,
          0.6698763165710995,
          0.6322496970312881,
          0.6463793793398432,
          0.2997756775220813,
          0.3502250497040882,
          0.9832202906309523,
          0.4420524751120516,
          0.5806784739372153,
          0.5196139700439496,
          0.6116911325048309,
          0.4561989308954439,
          0.3407038610393689,
          0.4378644655563242,
          0.704380426603226,
          0.40506192743250974,
          0.39792517446094866,
          0.4750916503229331,
          0.552686027523828,
          0.5908747744459523,
          0.4929855127498966,
          0.5906401780370203,
          0.7655856136723949,
          0.26762209267037884,
          0.0531604475131329,
          0.30804207204214473,
          0.5201277353607996,
          0.19561709547797126,
          0.33627661302060385,
          0.6214574089173358,
          0.5332929180490243,
          0.5419870996612174,
          0.8021482016152428,
          0.44594980280417007,
          0.3670234884091445,
          0.47348291908452184,
          0.5950964370190052,
          0.1582777682985763,
          0.38264822494563255,
          0.6783378464131358,
          0.6177276707849196,
          0.7671697983753722,
          0.37227781939149795,
          0.8296069428576555,
          0.4042017243100098,
          0.34567917246477253,
          0.7009316889933311,
          0.22234438368891618,
          0.46976143747432775,
          0.0595214408007532,
          0.18805044493315864,
          0.2459411396008856,
          0.5623011939170056,
          0.6071637431999471,
          0.6627247063791707,
          0.8671104108542482,
          0.023607339359814905,
          0.8068257687160281,
          0.5704445847022179,
          0.7272593696078575,
          0.8043205987647734,
          0.6955893434470957,
          0.896451831183277,
          0.5748307059392145,
          0.3839999011647429,
          0.8244556293388426,
          0.4771027273702849,
          0.27145830378633046,
          0.2585152277691847,
          0.4029817742487253,
          0.3495132294562914,
          0.4934833637915936,
          0.3471290517216451,
          0.11710666968379241,
          0.585595773493996,
          0.3862147919285108,
          0.3402619003565148,
          0.440939013853375,
          0.8531066975042904,
          0.2639908959342855,
          0.6111521267677155,
          0.28299818594757725,
          0.397416676389391,
          0.7877684080523919,
          0.43245294839504395,
          0.521730667076651,
          0.2638232141792739,
          0.5059186950703001,
          0.9246062126461299,
          0.8828194809174608,
          0.5976204848425649,
          0.5338001580740811,
          0.4461159905654455,
          0.5563252527657019,
          0.34556820908483865,
          0.647660498636919,
          0.49942696336445536,
          0.7122694860174119,
          0.8778422082270483,
          0.7438395346814016,
          0.07351156775036996,
          0.45999752854108367,
          0.5135095484770169,
          0.45560080598553815,
          0.4100957877942735,
          0.5480651293454915,
          0.5590730178876069,
          0.5635846643325213,
          0.37700737526843603,
          0.6301281906653562,
          0.10677157255798889,
          0.8186806540470665,
          0.5063166068265619,
          0.4630840872253871,
          0.49856570737678607,
          0.26486570246278346,
          0.5588702207722778,
          0.16390690694007676,
          0.4634613606679151,
          0.6150356797942702,
          0.5001064185913404,
          0.4654536060931601,
          0.41941003569775065,
          0.4874076847319606,
          0.7184157122428078,
          0.561316615007839,
          0.6434680349037085,
          0.41058222131710026,
          0.3102511528245416,
          0.0707808890497994,
          0.55687815220848,
          0.4915065052925606,
          0.09554587267233884,
          0.28667735716521914,
          0.21712175709202744,
          0.6757241721632051,
          0.4289347688146774,
          0.457098891108816,
          0.9649210299801161,
          0.5148389999233802,
          0.5043223666795792,
          0.9638094456839872,
          0.5022522303575497,
          0.5145023721610164,
          0.58971798948249,
          0.5633009917459846,
          0.33935376773037684,
          0.634113886358173,
          0.5713086289596151,
          0.5462023121245333,
          0.3212814197974781,
          0.8612016416181839,
          0.6318290471724314,
          0.22900045405624933,
          0.7407917805464962,
          0.27036132122466866,
          0.2807316799671534,
          0.5287388642614814,
          0.49913765877356314,
          0.44356729356310076,
          0.3177645611532724,
          0.23595460111885824,
          0.10143647078196402,
          0.46983818550773676,
          0.18316338836755838,
          0.5636238949971095,
          0.321494994575392,
          0.41850590369232615,
          0.4452563621300381,
          0.405564244076569,
          0.8051942854654284,
          0.4182541788357286,
          0.43741654324397067,
          0.6028303695016071,
          0.5761559270799153,
          0.3784298781485737,
          0.2913024016263204,
          0.13540626197978164,
          0.4551711566860367,
          0.4602021161831083,
          0.6031963918743495,
          0.057151648784624996,
          0.6921320922175429,
          0.1815796681864221,
          0.6075210012480196,
          0.7356822081810808,
          0.34733281042766373,
          0.4939139584117621,
          0.49634889415135475,
          0.32048314357397373,
          0.6478133617875745,
          0.5877797108794957,
          0.9332558865903249,
          0.6189548472782431,
          0.11648903249119738,
          0.6314927993760269,
          0.31175449472379213,
          0.6683419112500012,
          0.47100994489038267,
          0.4506840243758459,
          0.0997097394889127,
          0.41817642053132387,
          0.4770328871752979,
          0.3599966547992362,
          0.45010805394661096,
          0.5941788916065139,
          0.9816840705761088,
          0.3407231757233384,
          0.2588466883801335,
          0.5790936737152379,
          0.3096001236632721,
          0.4359527441872458,
          0.6466055383863409,
          0.41388184954905854,
          0.5516992256197635,
          0.7555141739409549,
          0.24673915740940727,
          0.6509171198959253,
          0.5869039969271244,
          0.2701389883096406,
          0.5235459905621603,
          0.2550318390985409,
          0.44054434413713683,
          0.35734924133276447,
          0.11423910913485959,
          0.46265392645912334,
          0.03924034421808731,
          0.5462916704106497,
          0.6213699746077417,
          0.6100462680020795,
          0.11482733465651,
          0.7981242436316307,
          0.09569588979847608,
          0.605777645794106,
          0.11940666872718053,
          0.596511925804978,
          0.6201595424737032,
          0.5206896043665017,
          0.5373329201054555,
          0.6748422136655019,
          0.679920913379284,
          0.3471668086071131,
          0.5807896800293563,
          0.41910097111774586,
          0.6667209150288343,
          0.21897939097600314,
          0.028519168980763933,
          0.5733882379621079,
          0.6742377584887022
         ],
         "yaxis": "y"
        }
       ],
       "layout": {
        "coloraxis": {
         "colorbar": {
          "title": {
           "text": "rounded_pred"
          }
         },
         "colorscale": [
          [
           0,
           "#0d0887"
          ],
          [
           0.1111111111111111,
           "#46039f"
          ],
          [
           0.2222222222222222,
           "#7201a8"
          ],
          [
           0.3333333333333333,
           "#9c179e"
          ],
          [
           0.4444444444444444,
           "#bd3786"
          ],
          [
           0.5555555555555556,
           "#d8576b"
          ],
          [
           0.6666666666666666,
           "#ed7953"
          ],
          [
           0.7777777777777778,
           "#fb9f3a"
          ],
          [
           0.8888888888888888,
           "#fdca26"
          ],
          [
           1,
           "#f0f921"
          ]
         ]
        },
        "legend": {
         "tracegroupgap": 0
        },
        "margin": {
         "t": 60
        },
        "template": {
         "data": {
          "bar": [
           {
            "error_x": {
             "color": "#2a3f5f"
            },
            "error_y": {
             "color": "#2a3f5f"
            },
            "marker": {
             "line": {
              "color": "#E5ECF6",
              "width": 0.5
             },
             "pattern": {
              "fillmode": "overlay",
              "size": 10,
              "solidity": 0.2
             }
            },
            "type": "bar"
           }
          ],
          "barpolar": [
           {
            "marker": {
             "line": {
              "color": "#E5ECF6",
              "width": 0.5
             },
             "pattern": {
              "fillmode": "overlay",
              "size": 10,
              "solidity": 0.2
             }
            },
            "type": "barpolar"
           }
          ],
          "carpet": [
           {
            "aaxis": {
             "endlinecolor": "#2a3f5f",
             "gridcolor": "white",
             "linecolor": "white",
             "minorgridcolor": "white",
             "startlinecolor": "#2a3f5f"
            },
            "baxis": {
             "endlinecolor": "#2a3f5f",
             "gridcolor": "white",
             "linecolor": "white",
             "minorgridcolor": "white",
             "startlinecolor": "#2a3f5f"
            },
            "type": "carpet"
           }
          ],
          "choropleth": [
           {
            "colorbar": {
             "outlinewidth": 0,
             "ticks": ""
            },
            "type": "choropleth"
           }
          ],
          "contour": [
           {
            "colorbar": {
             "outlinewidth": 0,
             "ticks": ""
            },
            "colorscale": [
             [
              0,
              "#0d0887"
             ],
             [
              0.1111111111111111,
              "#46039f"
             ],
             [
              0.2222222222222222,
              "#7201a8"
             ],
             [
              0.3333333333333333,
              "#9c179e"
             ],
             [
              0.4444444444444444,
              "#bd3786"
             ],
             [
              0.5555555555555556,
              "#d8576b"
             ],
             [
              0.6666666666666666,
              "#ed7953"
             ],
             [
              0.7777777777777778,
              "#fb9f3a"
             ],
             [
              0.8888888888888888,
              "#fdca26"
             ],
             [
              1,
              "#f0f921"
             ]
            ],
            "type": "contour"
           }
          ],
          "contourcarpet": [
           {
            "colorbar": {
             "outlinewidth": 0,
             "ticks": ""
            },
            "type": "contourcarpet"
           }
          ],
          "heatmap": [
           {
            "colorbar": {
             "outlinewidth": 0,
             "ticks": ""
            },
            "colorscale": [
             [
              0,
              "#0d0887"
             ],
             [
              0.1111111111111111,
              "#46039f"
             ],
             [
              0.2222222222222222,
              "#7201a8"
             ],
             [
              0.3333333333333333,
              "#9c179e"
             ],
             [
              0.4444444444444444,
              "#bd3786"
             ],
             [
              0.5555555555555556,
              "#d8576b"
             ],
             [
              0.6666666666666666,
              "#ed7953"
             ],
             [
              0.7777777777777778,
              "#fb9f3a"
             ],
             [
              0.8888888888888888,
              "#fdca26"
             ],
             [
              1,
              "#f0f921"
             ]
            ],
            "type": "heatmap"
           }
          ],
          "heatmapgl": [
           {
            "colorbar": {
             "outlinewidth": 0,
             "ticks": ""
            },
            "colorscale": [
             [
              0,
              "#0d0887"
             ],
             [
              0.1111111111111111,
              "#46039f"
             ],
             [
              0.2222222222222222,
              "#7201a8"
             ],
             [
              0.3333333333333333,
              "#9c179e"
             ],
             [
              0.4444444444444444,
              "#bd3786"
             ],
             [
              0.5555555555555556,
              "#d8576b"
             ],
             [
              0.6666666666666666,
              "#ed7953"
             ],
             [
              0.7777777777777778,
              "#fb9f3a"
             ],
             [
              0.8888888888888888,
              "#fdca26"
             ],
             [
              1,
              "#f0f921"
             ]
            ],
            "type": "heatmapgl"
           }
          ],
          "histogram": [
           {
            "marker": {
             "pattern": {
              "fillmode": "overlay",
              "size": 10,
              "solidity": 0.2
             }
            },
            "type": "histogram"
           }
          ],
          "histogram2d": [
           {
            "colorbar": {
             "outlinewidth": 0,
             "ticks": ""
            },
            "colorscale": [
             [
              0,
              "#0d0887"
             ],
             [
              0.1111111111111111,
              "#46039f"
             ],
             [
              0.2222222222222222,
              "#7201a8"
             ],
             [
              0.3333333333333333,
              "#9c179e"
             ],
             [
              0.4444444444444444,
              "#bd3786"
             ],
             [
              0.5555555555555556,
              "#d8576b"
             ],
             [
              0.6666666666666666,
              "#ed7953"
             ],
             [
              0.7777777777777778,
              "#fb9f3a"
             ],
             [
              0.8888888888888888,
              "#fdca26"
             ],
             [
              1,
              "#f0f921"
             ]
            ],
            "type": "histogram2d"
           }
          ],
          "histogram2dcontour": [
           {
            "colorbar": {
             "outlinewidth": 0,
             "ticks": ""
            },
            "colorscale": [
             [
              0,
              "#0d0887"
             ],
             [
              0.1111111111111111,
              "#46039f"
             ],
             [
              0.2222222222222222,
              "#7201a8"
             ],
             [
              0.3333333333333333,
              "#9c179e"
             ],
             [
              0.4444444444444444,
              "#bd3786"
             ],
             [
              0.5555555555555556,
              "#d8576b"
             ],
             [
              0.6666666666666666,
              "#ed7953"
             ],
             [
              0.7777777777777778,
              "#fb9f3a"
             ],
             [
              0.8888888888888888,
              "#fdca26"
             ],
             [
              1,
              "#f0f921"
             ]
            ],
            "type": "histogram2dcontour"
           }
          ],
          "mesh3d": [
           {
            "colorbar": {
             "outlinewidth": 0,
             "ticks": ""
            },
            "type": "mesh3d"
           }
          ],
          "parcoords": [
           {
            "line": {
             "colorbar": {
              "outlinewidth": 0,
              "ticks": ""
             }
            },
            "type": "parcoords"
           }
          ],
          "pie": [
           {
            "automargin": true,
            "type": "pie"
           }
          ],
          "scatter": [
           {
            "marker": {
             "colorbar": {
              "outlinewidth": 0,
              "ticks": ""
             }
            },
            "type": "scatter"
           }
          ],
          "scatter3d": [
           {
            "line": {
             "colorbar": {
              "outlinewidth": 0,
              "ticks": ""
             }
            },
            "marker": {
             "colorbar": {
              "outlinewidth": 0,
              "ticks": ""
             }
            },
            "type": "scatter3d"
           }
          ],
          "scattercarpet": [
           {
            "marker": {
             "colorbar": {
              "outlinewidth": 0,
              "ticks": ""
             }
            },
            "type": "scattercarpet"
           }
          ],
          "scattergeo": [
           {
            "marker": {
             "colorbar": {
              "outlinewidth": 0,
              "ticks": ""
             }
            },
            "type": "scattergeo"
           }
          ],
          "scattergl": [
           {
            "marker": {
             "colorbar": {
              "outlinewidth": 0,
              "ticks": ""
             }
            },
            "type": "scattergl"
           }
          ],
          "scattermapbox": [
           {
            "marker": {
             "colorbar": {
              "outlinewidth": 0,
              "ticks": ""
             }
            },
            "type": "scattermapbox"
           }
          ],
          "scatterpolar": [
           {
            "marker": {
             "colorbar": {
              "outlinewidth": 0,
              "ticks": ""
             }
            },
            "type": "scatterpolar"
           }
          ],
          "scatterpolargl": [
           {
            "marker": {
             "colorbar": {
              "outlinewidth": 0,
              "ticks": ""
             }
            },
            "type": "scatterpolargl"
           }
          ],
          "scatterternary": [
           {
            "marker": {
             "colorbar": {
              "outlinewidth": 0,
              "ticks": ""
             }
            },
            "type": "scatterternary"
           }
          ],
          "surface": [
           {
            "colorbar": {
             "outlinewidth": 0,
             "ticks": ""
            },
            "colorscale": [
             [
              0,
              "#0d0887"
             ],
             [
              0.1111111111111111,
              "#46039f"
             ],
             [
              0.2222222222222222,
              "#7201a8"
             ],
             [
              0.3333333333333333,
              "#9c179e"
             ],
             [
              0.4444444444444444,
              "#bd3786"
             ],
             [
              0.5555555555555556,
              "#d8576b"
             ],
             [
              0.6666666666666666,
              "#ed7953"
             ],
             [
              0.7777777777777778,
              "#fb9f3a"
             ],
             [
              0.8888888888888888,
              "#fdca26"
             ],
             [
              1,
              "#f0f921"
             ]
            ],
            "type": "surface"
           }
          ],
          "table": [
           {
            "cells": {
             "fill": {
              "color": "#EBF0F8"
             },
             "line": {
              "color": "white"
             }
            },
            "header": {
             "fill": {
              "color": "#C8D4E3"
             },
             "line": {
              "color": "white"
             }
            },
            "type": "table"
           }
          ]
         },
         "layout": {
          "annotationdefaults": {
           "arrowcolor": "#2a3f5f",
           "arrowhead": 0,
           "arrowwidth": 1
          },
          "autotypenumbers": "strict",
          "coloraxis": {
           "colorbar": {
            "outlinewidth": 0,
            "ticks": ""
           }
          },
          "colorscale": {
           "diverging": [
            [
             0,
             "#8e0152"
            ],
            [
             0.1,
             "#c51b7d"
            ],
            [
             0.2,
             "#de77ae"
            ],
            [
             0.3,
             "#f1b6da"
            ],
            [
             0.4,
             "#fde0ef"
            ],
            [
             0.5,
             "#f7f7f7"
            ],
            [
             0.6,
             "#e6f5d0"
            ],
            [
             0.7,
             "#b8e186"
            ],
            [
             0.8,
             "#7fbc41"
            ],
            [
             0.9,
             "#4d9221"
            ],
            [
             1,
             "#276419"
            ]
           ],
           "sequential": [
            [
             0,
             "#0d0887"
            ],
            [
             0.1111111111111111,
             "#46039f"
            ],
            [
             0.2222222222222222,
             "#7201a8"
            ],
            [
             0.3333333333333333,
             "#9c179e"
            ],
            [
             0.4444444444444444,
             "#bd3786"
            ],
            [
             0.5555555555555556,
             "#d8576b"
            ],
            [
             0.6666666666666666,
             "#ed7953"
            ],
            [
             0.7777777777777778,
             "#fb9f3a"
            ],
            [
             0.8888888888888888,
             "#fdca26"
            ],
            [
             1,
             "#f0f921"
            ]
           ],
           "sequentialminus": [
            [
             0,
             "#0d0887"
            ],
            [
             0.1111111111111111,
             "#46039f"
            ],
            [
             0.2222222222222222,
             "#7201a8"
            ],
            [
             0.3333333333333333,
             "#9c179e"
            ],
            [
             0.4444444444444444,
             "#bd3786"
            ],
            [
             0.5555555555555556,
             "#d8576b"
            ],
            [
             0.6666666666666666,
             "#ed7953"
            ],
            [
             0.7777777777777778,
             "#fb9f3a"
            ],
            [
             0.8888888888888888,
             "#fdca26"
            ],
            [
             1,
             "#f0f921"
            ]
           ]
          },
          "colorway": [
           "#636efa",
           "#EF553B",
           "#00cc96",
           "#ab63fa",
           "#FFA15A",
           "#19d3f3",
           "#FF6692",
           "#B6E880",
           "#FF97FF",
           "#FECB52"
          ],
          "font": {
           "color": "#2a3f5f"
          },
          "geo": {
           "bgcolor": "white",
           "lakecolor": "white",
           "landcolor": "#E5ECF6",
           "showlakes": true,
           "showland": true,
           "subunitcolor": "white"
          },
          "hoverlabel": {
           "align": "left"
          },
          "hovermode": "closest",
          "mapbox": {
           "style": "light"
          },
          "paper_bgcolor": "white",
          "plot_bgcolor": "#E5ECF6",
          "polar": {
           "angularaxis": {
            "gridcolor": "white",
            "linecolor": "white",
            "ticks": ""
           },
           "bgcolor": "#E5ECF6",
           "radialaxis": {
            "gridcolor": "white",
            "linecolor": "white",
            "ticks": ""
           }
          },
          "scene": {
           "xaxis": {
            "backgroundcolor": "#E5ECF6",
            "gridcolor": "white",
            "gridwidth": 2,
            "linecolor": "white",
            "showbackground": true,
            "ticks": "",
            "zerolinecolor": "white"
           },
           "yaxis": {
            "backgroundcolor": "#E5ECF6",
            "gridcolor": "white",
            "gridwidth": 2,
            "linecolor": "white",
            "showbackground": true,
            "ticks": "",
            "zerolinecolor": "white"
           },
           "zaxis": {
            "backgroundcolor": "#E5ECF6",
            "gridcolor": "white",
            "gridwidth": 2,
            "linecolor": "white",
            "showbackground": true,
            "ticks": "",
            "zerolinecolor": "white"
           }
          },
          "shapedefaults": {
           "line": {
            "color": "#2a3f5f"
           }
          },
          "ternary": {
           "aaxis": {
            "gridcolor": "white",
            "linecolor": "white",
            "ticks": ""
           },
           "baxis": {
            "gridcolor": "white",
            "linecolor": "white",
            "ticks": ""
           },
           "bgcolor": "#E5ECF6",
           "caxis": {
            "gridcolor": "white",
            "linecolor": "white",
            "ticks": ""
           }
          },
          "title": {
           "x": 0.05
          },
          "xaxis": {
           "automargin": true,
           "gridcolor": "white",
           "linecolor": "white",
           "ticks": "",
           "title": {
            "standoff": 15
           },
           "zerolinecolor": "white",
           "zerolinewidth": 2
          },
          "yaxis": {
           "automargin": true,
           "gridcolor": "white",
           "linecolor": "white",
           "ticks": "",
           "title": {
            "standoff": 15
           },
           "zerolinecolor": "white",
           "zerolinewidth": 2
          }
         }
        },
        "xaxis": {
         "anchor": "y",
         "domain": [
          0,
          1
         ],
         "title": {
          "text": "party_label"
         }
        },
        "yaxis": {
         "anchor": "x",
         "domain": [
          0,
          1
         ],
         "title": {
          "text": "pred"
         }
        }
       }
      }
     },
     "metadata": {},
     "output_type": "display_data"
    }
   ],
   "source": [
    "import plotly.express as px\n",
    "fig = px.scatter(nicky_df.sample(1000), x = 'party_label', y = 'pred', color = 'rounded_pred' ,hover_data= ['party_label','speaker','quotation'])\n",
    "fig.show()"
   ]
  },
  {
   "cell_type": "code",
   "execution_count": null,
   "metadata": {},
   "outputs": [],
   "source": [
    "def get_result_df(regressor,filename):\n",
    "    \n",
    "    results = []\n",
    "    \n",
    "    with pd.read_json(filename, lines=True, compression='bz2', chunksize=500) as df_reader:\n",
    "        for df in df_reader:\n",
    "            df = df.sample(50)\n",
    "            x = df['glove_embedding'].values\n",
    "            y = df[['party_number']].values[:,0]\n",
    "            x = np.array(list(map(lambda val: np.array(val),x))).reshape(x.shape[0],-1)\n",
    "\n",
    "            ypred = regressor.predict(x)\n",
    "\n",
    "            tmp_df = pd.DataFrame(data = {'party_number': df['party_number'].values, \\\n",
    "                                        'prediction': ypred, 'quotation': df['quotation'].values, 'speaker': df['speaker'].values} )\n",
    "            \n",
    "            \n",
    "            results.append(tmp_df.copy())\n",
    "        \n",
    "            result_df = pd.concat(results)\n",
    "                \n",
    "            result_df['rounded_pred'] = result_df['prediction'].apply(lambda x: 0 if x <= 0.5 else 1)\n",
    "    display(result_df.head(1))\n",
    "    \n",
    "    fig = px.scatter(result_df, x = 'party_number', y = 'prediction', color = 'rounded_pred' ,hover_data= ['party_number','speaker','quotation'])\n",
    "    fig.show()"
   ]
  }
 ],
 "metadata": {
  "interpreter": {
   "hash": "e2aa3ff43f8b829804c7d9eb6f92bf2eb6f1ce41f419bcf9a3e5bac1a0342e90"
  },
  "kernelspec": {
   "display_name": "Python 3.8.8 64-bit ('base': conda)",
   "language": "python",
   "name": "python3"
  },
  "language_info": {
   "codemirror_mode": {
    "name": "ipython",
    "version": 3
   },
   "file_extension": ".py",
   "mimetype": "text/x-python",
   "name": "python",
   "nbconvert_exporter": "python",
   "pygments_lexer": "ipython3",
   "version": "3.8.12"
  },
  "orig_nbformat": 4
 },
 "nbformat": 4,
 "nbformat_minor": 2
}
