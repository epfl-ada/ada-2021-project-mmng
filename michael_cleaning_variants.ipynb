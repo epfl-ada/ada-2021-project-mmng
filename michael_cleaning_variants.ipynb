{
 "cells": [
  {
   "cell_type": "code",
   "execution_count": 198,
   "metadata": {},
   "outputs": [
    {
     "name": "stdout",
     "output_type": "stream",
     "text": [
      "The autoreload extension is already loaded. To reload it, use:\n",
      "  %reload_ext autoreload\n"
     ]
    }
   ],
   "source": [
    "from helpers import *\n",
    "\n",
    "import sys\n",
    "\n",
    "import bz2\n",
    "import json\n",
    "\n",
    "import numpy as np\n",
    "import scipy\n",
    "\n",
    "import pandas as pd\n",
    "\n",
    "from sklearn.feature_extraction.text import TfidfVectorizer\n",
    "\n",
    "from sklearn.pipeline import Pipeline\n",
    "\n",
    "from sklearn.naive_bayes import MultinomialNB\n",
    "from sklearn.linear_model import LogisticRegression\n",
    "from sklearn.ensemble import RandomForestClassifier\n",
    "from sklearn.ensemble import GradientBoostingClassifier\n",
    "from sklearn.linear_model import SGDClassifier\n",
    "from sklearn.neural_network import MLPClassifier\n",
    "\n",
    "from sklearn.model_selection import cross_val_score, cross_validate\n",
    "\n",
    "%load_ext autoreload\n",
    "%autoreload 2"
   ]
  },
  {
   "cell_type": "code",
   "execution_count": 199,
   "metadata": {},
   "outputs": [],
   "source": [
    "# XGBoost\n",
    "\n",
    "from xgboost import XGBClassifier"
   ]
  },
  {
   "cell_type": "code",
   "execution_count": 200,
   "metadata": {},
   "outputs": [],
   "source": [
    "# Printing without trunctions\n",
    "# np.set_printoptions(threshold=sys.maxsize)\n",
    "pd.set_option('display.max_colwidth', None)"
   ]
  },
  {
   "cell_type": "code",
   "execution_count": 201,
   "metadata": {},
   "outputs": [
    {
     "data": {
      "text/html": [
       "<div>\n",
       "<style scoped>\n",
       "    .dataframe tbody tr th:only-of-type {\n",
       "        vertical-align: middle;\n",
       "    }\n",
       "\n",
       "    .dataframe tbody tr th {\n",
       "        vertical-align: top;\n",
       "    }\n",
       "\n",
       "    .dataframe thead th {\n",
       "        text-align: right;\n",
       "    }\n",
       "</style>\n",
       "<table border=\"1\" class=\"dataframe\">\n",
       "  <thead>\n",
       "    <tr style=\"text-align: right;\">\n",
       "      <th></th>\n",
       "      <th>quoteID</th>\n",
       "      <th>quotation</th>\n",
       "      <th>speaker</th>\n",
       "      <th>date</th>\n",
       "      <th>numOccurrences</th>\n",
       "      <th>id</th>\n",
       "      <th>party_label</th>\n",
       "      <th>US_congress_bio_ID</th>\n",
       "      <th>quotation_cleanA</th>\n",
       "      <th>quotation_cleanB</th>\n",
       "      <th>quotation_cleanC</th>\n",
       "      <th>quotation_cleanD</th>\n",
       "      <th>quotation_cleanE</th>\n",
       "    </tr>\n",
       "  </thead>\n",
       "  <tbody>\n",
       "    <tr>\n",
       "      <th>0</th>\n",
       "      <td>2020-01-16-000088</td>\n",
       "      <td>[ Department of Homeland Security ] was livid and strongly urged to have the agenda pulled.</td>\n",
       "      <td>sue myrick</td>\n",
       "      <td>2020-01-16 12:00:13</td>\n",
       "      <td>1</td>\n",
       "      <td>Q367796</td>\n",
       "      <td>R</td>\n",
       "      <td>M001134</td>\n",
       "      <td>[ Department of Homeland Security ] was livid and strongly urged to have the agenda pulled.</td>\n",
       "      <td>department of homeland security was livid and strongly urged to have the agenda pulled</td>\n",
       "      <td>department homeland security livid strongly urged agenda pulled</td>\n",
       "      <td>depart homeland secur livid strong urg agenda pull</td>\n",
       "      <td>department homeland security livid strongly urged agenda pulled</td>\n",
       "    </tr>\n",
       "    <tr>\n",
       "      <th>1</th>\n",
       "      <td>2020-01-26-000499</td>\n",
       "      <td>a few of the candidates who will do better in our part of the world</td>\n",
       "      <td>dave loebsack</td>\n",
       "      <td>2020-01-26 13:21:36</td>\n",
       "      <td>11</td>\n",
       "      <td>Q771586</td>\n",
       "      <td>D</td>\n",
       "      <td>L000565</td>\n",
       "      <td>a few of the candidates who will do better in our part of the world</td>\n",
       "      <td>a few of the candidates who will do better in our part of the world</td>\n",
       "      <td>candidates better part world</td>\n",
       "      <td>candid better part world</td>\n",
       "      <td>candidate better part world</td>\n",
       "    </tr>\n",
       "    <tr>\n",
       "      <th>2</th>\n",
       "      <td>2020-01-26-040663</td>\n",
       "      <td>The generational thing is important, quite honestly. I think we have to do everything we can to move this party forward and Pete is the future of the party,</td>\n",
       "      <td>dave loebsack</td>\n",
       "      <td>2020-01-26 13:21:36</td>\n",
       "      <td>11</td>\n",
       "      <td>Q771586</td>\n",
       "      <td>D</td>\n",
       "      <td>L000565</td>\n",
       "      <td>The generational thing is important, quite honestly. I think we have to do everything we can to move this party forward and Pete is the future of the party,</td>\n",
       "      <td>the generational thing is important quite honestly i think we have to do everything we can to move this party forward and pete is the future of the party</td>\n",
       "      <td>generational thing important quite honestly think everything move party forward pete future party</td>\n",
       "      <td>generat thing import quit honest think everyth move parti forward pete futur parti</td>\n",
       "      <td>generational thing important quite honestly think everything move party forward pete future party</td>\n",
       "    </tr>\n",
       "    <tr>\n",
       "      <th>3</th>\n",
       "      <td>2020-01-20-000982</td>\n",
       "      <td>a host of other protections</td>\n",
       "      <td>debbie lesko</td>\n",
       "      <td>2020-01-20 15:32:48</td>\n",
       "      <td>1</td>\n",
       "      <td>Q16731415</td>\n",
       "      <td>R</td>\n",
       "      <td>L000589</td>\n",
       "      <td>a host of other protections</td>\n",
       "      <td>a host of other protections</td>\n",
       "      <td>host protections</td>\n",
       "      <td>host protect</td>\n",
       "      <td>host protection</td>\n",
       "    </tr>\n",
       "    <tr>\n",
       "      <th>4</th>\n",
       "      <td>2020-01-09-060095</td>\n",
       "      <td>No, are you kidding? The way that this place leaks around here?</td>\n",
       "      <td>debbie lesko</td>\n",
       "      <td>2020-01-09 23:15:21</td>\n",
       "      <td>1</td>\n",
       "      <td>Q16731415</td>\n",
       "      <td>R</td>\n",
       "      <td>L000589</td>\n",
       "      <td>No, are you kidding? The way that this place leaks around here?</td>\n",
       "      <td>no are you kidding the way that this place leaks around here</td>\n",
       "      <td>kidding way place leaks around</td>\n",
       "      <td>kid way place leak around</td>\n",
       "      <td>kidding way place leak around</td>\n",
       "    </tr>\n",
       "    <tr>\n",
       "      <th>...</th>\n",
       "      <td>...</td>\n",
       "      <td>...</td>\n",
       "      <td>...</td>\n",
       "      <td>...</td>\n",
       "      <td>...</td>\n",
       "      <td>...</td>\n",
       "      <td>...</td>\n",
       "      <td>...</td>\n",
       "      <td>...</td>\n",
       "      <td>...</td>\n",
       "      <td>...</td>\n",
       "      <td>...</td>\n",
       "      <td>...</td>\n",
       "    </tr>\n",
       "    <tr>\n",
       "      <th>349141</th>\n",
       "      <td>2020-02-10-100845</td>\n",
       "      <td>We're just worried about making sure we keep that balance between expression of our rights and public safety,</td>\n",
       "      <td>sherrie sprenger</td>\n",
       "      <td>2020-02-10 00:00:00</td>\n",
       "      <td>1</td>\n",
       "      <td>Q7495360</td>\n",
       "      <td>R</td>\n",
       "      <td>None</td>\n",
       "      <td>We're just worried about making sure we keep that balance between expression of our rights and public safety,</td>\n",
       "      <td>we re just worried about making sure we keep that balance between expression of our rights and public safety</td>\n",
       "      <td>worried making sure keep balance expression rights public safety</td>\n",
       "      <td>worri make sure keep balanc express right public safeti</td>\n",
       "      <td>worried making sure keep balance expression right public safety</td>\n",
       "    </tr>\n",
       "    <tr>\n",
       "      <th>349142</th>\n",
       "      <td>2020-03-16-079753</td>\n",
       "      <td>We've all embraced strict proper hygiene procedures that all of you by now have heard a hundred times. But believe me, they work,</td>\n",
       "      <td>robert abrams</td>\n",
       "      <td>2020-03-16 12:00:00</td>\n",
       "      <td>2</td>\n",
       "      <td>Q2156314</td>\n",
       "      <td>D</td>\n",
       "      <td>None</td>\n",
       "      <td>We've all embraced strict proper hygiene procedures that all of you by now have heard a hundred times. But believe me, they work,</td>\n",
       "      <td>we ve all embraced strict proper hygiene procedures that all of you by now have heard a hundred times but believe me they work</td>\n",
       "      <td>embraced strict proper hygiene procedures heard hundred times believe work</td>\n",
       "      <td>embrac strict proper hygien procedur heard hundr time believ work</td>\n",
       "      <td>embraced strict proper hygiene procedure heard hundred time believe work</td>\n",
       "    </tr>\n",
       "    <tr>\n",
       "      <th>349143</th>\n",
       "      <td>2020-01-13-091997</td>\n",
       "      <td>What's important is that we keep moving forward.</td>\n",
       "      <td>laurie jinkins</td>\n",
       "      <td>2020-01-13 19:51:15</td>\n",
       "      <td>1</td>\n",
       "      <td>Q6501617</td>\n",
       "      <td>D</td>\n",
       "      <td>None</td>\n",
       "      <td>What's important is that we keep moving forward.</td>\n",
       "      <td>what s important is that we keep moving forward</td>\n",
       "      <td>important keep moving forward</td>\n",
       "      <td>import keep move forward</td>\n",
       "      <td>important keep moving forward</td>\n",
       "    </tr>\n",
       "    <tr>\n",
       "      <th>349144</th>\n",
       "      <td>2020-02-20-093793</td>\n",
       "      <td>When they want a bill, they bring the bill to the floor.</td>\n",
       "      <td>j.t. wilcox</td>\n",
       "      <td>2020-02-20 22:12:45</td>\n",
       "      <td>1</td>\n",
       "      <td>Q6104393</td>\n",
       "      <td>R</td>\n",
       "      <td>None</td>\n",
       "      <td>When they want a bill, they bring the bill to the floor.</td>\n",
       "      <td>when they want a bill they bring the bill to the floor</td>\n",
       "      <td>want bill bring bill floor</td>\n",
       "      <td>want bill bring bill floor</td>\n",
       "      <td>want bill bring bill floor</td>\n",
       "    </tr>\n",
       "    <tr>\n",
       "      <th>349145</th>\n",
       "      <td>2020-02-09-057933</td>\n",
       "      <td>Who will respect different types of people, different opinions, different points of view. And won't talk down to anybody, won't make fun of anybody.</td>\n",
       "      <td>susan wild</td>\n",
       "      <td>2020-02-09 15:08:23</td>\n",
       "      <td>1</td>\n",
       "      <td>Q58323072</td>\n",
       "      <td>D</td>\n",
       "      <td>W000826</td>\n",
       "      <td>Who will respect different types of people, different opinions, different points of view. And won't talk down to anybody, won't make fun of anybody.</td>\n",
       "      <td>who will respect different types of people different opinions different points of view and won t talk down to anybody won t make fun of anybody</td>\n",
       "      <td>respect different types people different opinions different points view talk anybody make fun anybody</td>\n",
       "      <td>respect differ type peopl differ opinion differ point view talk anybodi make fun anybodi</td>\n",
       "      <td>respect different type people different opinion different point view talk anybody make fun anybody</td>\n",
       "    </tr>\n",
       "  </tbody>\n",
       "</table>\n",
       "<p>349146 rows × 13 columns</p>\n",
       "</div>"
      ],
      "text/plain": [
       "                  quoteID  \\\n",
       "0       2020-01-16-000088   \n",
       "1       2020-01-26-000499   \n",
       "2       2020-01-26-040663   \n",
       "3       2020-01-20-000982   \n",
       "4       2020-01-09-060095   \n",
       "...                   ...   \n",
       "349141  2020-02-10-100845   \n",
       "349142  2020-03-16-079753   \n",
       "349143  2020-01-13-091997   \n",
       "349144  2020-02-20-093793   \n",
       "349145  2020-02-09-057933   \n",
       "\n",
       "                                                                                                                                                           quotation  \\\n",
       "0                                                                        [ Department of Homeland Security ] was livid and strongly urged to have the agenda pulled.   \n",
       "1                                                                                                a few of the candidates who will do better in our part of the world   \n",
       "2       The generational thing is important, quite honestly. I think we have to do everything we can to move this party forward and Pete is the future of the party,   \n",
       "3                                                                                                                                        a host of other protections   \n",
       "4                                                                                                    No, are you kidding? The way that this place leaks around here?   \n",
       "...                                                                                                                                                              ...   \n",
       "349141                                                 We're just worried about making sure we keep that balance between expression of our rights and public safety,   \n",
       "349142                             We've all embraced strict proper hygiene procedures that all of you by now have heard a hundred times. But believe me, they work,   \n",
       "349143                                                                                                              What's important is that we keep moving forward.   \n",
       "349144                                                                                                      When they want a bill, they bring the bill to the floor.   \n",
       "349145          Who will respect different types of people, different opinions, different points of view. And won't talk down to anybody, won't make fun of anybody.   \n",
       "\n",
       "                 speaker                date  numOccurrences         id  \\\n",
       "0             sue myrick 2020-01-16 12:00:13               1    Q367796   \n",
       "1          dave loebsack 2020-01-26 13:21:36              11    Q771586   \n",
       "2          dave loebsack 2020-01-26 13:21:36              11    Q771586   \n",
       "3           debbie lesko 2020-01-20 15:32:48               1  Q16731415   \n",
       "4           debbie lesko 2020-01-09 23:15:21               1  Q16731415   \n",
       "...                  ...                 ...             ...        ...   \n",
       "349141  sherrie sprenger 2020-02-10 00:00:00               1   Q7495360   \n",
       "349142     robert abrams 2020-03-16 12:00:00               2   Q2156314   \n",
       "349143    laurie jinkins 2020-01-13 19:51:15               1   Q6501617   \n",
       "349144       j.t. wilcox 2020-02-20 22:12:45               1   Q6104393   \n",
       "349145        susan wild 2020-02-09 15:08:23               1  Q58323072   \n",
       "\n",
       "       party_label US_congress_bio_ID  \\\n",
       "0                R            M001134   \n",
       "1                D            L000565   \n",
       "2                D            L000565   \n",
       "3                R            L000589   \n",
       "4                R            L000589   \n",
       "...            ...                ...   \n",
       "349141           R               None   \n",
       "349142           D               None   \n",
       "349143           D               None   \n",
       "349144           R               None   \n",
       "349145           D            W000826   \n",
       "\n",
       "                                                                                                                                                    quotation_cleanA  \\\n",
       "0                                                                        [ Department of Homeland Security ] was livid and strongly urged to have the agenda pulled.   \n",
       "1                                                                                                a few of the candidates who will do better in our part of the world   \n",
       "2       The generational thing is important, quite honestly. I think we have to do everything we can to move this party forward and Pete is the future of the party,   \n",
       "3                                                                                                                                        a host of other protections   \n",
       "4                                                                                                    No, are you kidding? The way that this place leaks around here?   \n",
       "...                                                                                                                                                              ...   \n",
       "349141                                                 We're just worried about making sure we keep that balance between expression of our rights and public safety,   \n",
       "349142                             We've all embraced strict proper hygiene procedures that all of you by now have heard a hundred times. But believe me, they work,   \n",
       "349143                                                                                                              What's important is that we keep moving forward.   \n",
       "349144                                                                                                      When they want a bill, they bring the bill to the floor.   \n",
       "349145          Who will respect different types of people, different opinions, different points of view. And won't talk down to anybody, won't make fun of anybody.   \n",
       "\n",
       "                                                                                                                                                 quotation_cleanB  \\\n",
       "0                                                                          department of homeland security was livid and strongly urged to have the agenda pulled   \n",
       "1                                                                                             a few of the candidates who will do better in our part of the world   \n",
       "2       the generational thing is important quite honestly i think we have to do everything we can to move this party forward and pete is the future of the party   \n",
       "3                                                                                                                                     a host of other protections   \n",
       "4                                                                                                    no are you kidding the way that this place leaks around here   \n",
       "...                                                                                                                                                           ...   \n",
       "349141                                               we re just worried about making sure we keep that balance between expression of our rights and public safety   \n",
       "349142                             we ve all embraced strict proper hygiene procedures that all of you by now have heard a hundred times but believe me they work   \n",
       "349143                                                                                                            what s important is that we keep moving forward   \n",
       "349144                                                                                                     when they want a bill they bring the bill to the floor   \n",
       "349145            who will respect different types of people different opinions different points of view and won t talk down to anybody won t make fun of anybody   \n",
       "\n",
       "                                                                                             quotation_cleanC  \\\n",
       "0                                             department homeland security livid strongly urged agenda pulled   \n",
       "1                                                                                candidates better part world   \n",
       "2           generational thing important quite honestly think everything move party forward pete future party   \n",
       "3                                                                                            host protections   \n",
       "4                                                                              kidding way place leaks around   \n",
       "...                                                                                                       ...   \n",
       "349141                                       worried making sure keep balance expression rights public safety   \n",
       "349142                             embraced strict proper hygiene procedures heard hundred times believe work   \n",
       "349143                                                                          important keep moving forward   \n",
       "349144                                                                             want bill bring bill floor   \n",
       "349145  respect different types people different opinions different points view talk anybody make fun anybody   \n",
       "\n",
       "                                                                                quotation_cleanD  \\\n",
       "0                                             depart homeland secur livid strong urg agenda pull   \n",
       "1                                                                       candid better part world   \n",
       "2             generat thing import quit honest think everyth move parti forward pete futur parti   \n",
       "3                                                                                   host protect   \n",
       "4                                                                      kid way place leak around   \n",
       "...                                                                                          ...   \n",
       "349141                                   worri make sure keep balanc express right public safeti   \n",
       "349142                         embrac strict proper hygien procedur heard hundr time believ work   \n",
       "349143                                                                  import keep move forward   \n",
       "349144                                                                want bill bring bill floor   \n",
       "349145  respect differ type peopl differ opinion differ point view talk anybodi make fun anybodi   \n",
       "\n",
       "                                                                                          quotation_cleanE  \n",
       "0                                          department homeland security livid strongly urged agenda pulled  \n",
       "1                                                                              candidate better part world  \n",
       "2        generational thing important quite honestly think everything move party forward pete future party  \n",
       "3                                                                                          host protection  \n",
       "4                                                                            kidding way place leak around  \n",
       "...                                                                                                    ...  \n",
       "349141                                     worried making sure keep balance expression right public safety  \n",
       "349142                            embraced strict proper hygiene procedure heard hundred time believe work  \n",
       "349143                                                                       important keep moving forward  \n",
       "349144                                                                          want bill bring bill floor  \n",
       "349145  respect different type people different opinion different point view talk anybody make fun anybody  \n",
       "\n",
       "[349146 rows x 13 columns]"
      ]
     },
     "execution_count": 201,
     "metadata": {},
     "output_type": "execute_result"
    }
   ],
   "source": [
    "path = fixpath(QUOTES_2020_LABELED_CLEANED_VARIANTS)\n",
    "# path = fixpath(QUOTES_2020_LABELED_CLEANED_VARIANTS)\n",
    "\n",
    "df_raw = pd.read_json(path, orient='records', lines=True)\n",
    "df_raw"
   ]
  },
  {
   "cell_type": "code",
   "execution_count": 202,
   "metadata": {},
   "outputs": [],
   "source": [
    "df = df_raw.copy()"
   ]
  },
  {
   "cell_type": "code",
   "execution_count": 203,
   "metadata": {},
   "outputs": [
    {
     "data": {
      "text/plain": [
       "64.0"
      ]
     },
     "execution_count": 203,
     "metadata": {},
     "output_type": "execute_result"
    }
   ],
   "source": [
    "lengths_of_df = df['quotation_cleanE'].apply(lambda x: len(x))\n",
    "lengths_of_df.median()"
   ]
  },
  {
   "cell_type": "code",
   "execution_count": 204,
   "metadata": {},
   "outputs": [
    {
     "data": {
      "text/plain": [
       "(349146, 13)"
      ]
     },
     "execution_count": 204,
     "metadata": {},
     "output_type": "execute_result"
    }
   ],
   "source": [
    "# df = df[np.logical_and(lengths_of_df > lengths_of_df.quantile(0.3), lengths_of_df < lengths_of_df.quantile(0.9))]\n",
    "df = df[lengths_of_df > lengths_of_df.quantile(0.2)]\n",
    "df.shape"
   ]
  },
  {
   "cell_type": "code",
   "execution_count": 205,
   "metadata": {},
   "outputs": [
    {
     "data": {
      "text/plain": [
       "D    218894\n",
       "R    130252\n",
       "Name: party_label, dtype: int64"
      ]
     },
     "execution_count": 205,
     "metadata": {},
     "output_type": "execute_result"
    }
   ],
   "source": [
    "df['party_label'].value_counts()"
   ]
  },
  {
   "cell_type": "code",
   "execution_count": 206,
   "metadata": {},
   "outputs": [],
   "source": [
    "def downsample(df:pd.DataFrame, label_col_name:str, force_sample_n=None) -> pd.DataFrame:\n",
    "    # find the number of observations in the smallest group\n",
    "\n",
    "    if force_sample_n != None:\n",
    "        nmin = force_sample_n\n",
    "    else:\n",
    "        nmin = df[label_col_name].value_counts().min()\n",
    "    return (df\n",
    "            # split the dataframe per group\n",
    "            .groupby(label_col_name)\n",
    "            # sample nmin observations from each group\n",
    "            .apply(lambda x: x.sample(nmin))\n",
    "            # recombine the dataframes\n",
    "            .reset_index(drop=True)\n",
    "            )\n",
    "\n",
    "df = downsample(df, 'party_label')\n",
    "# df = downsample(df, 'party_label', force_sample_n=5000)"
   ]
  },
  {
   "cell_type": "code",
   "execution_count": 207,
   "metadata": {},
   "outputs": [
    {
     "data": {
      "text/plain": [
       "D    130252\n",
       "R    130252\n",
       "Name: party_label, dtype: int64"
      ]
     },
     "execution_count": 207,
     "metadata": {},
     "output_type": "execute_result"
    }
   ],
   "source": [
    "df['party_label'].value_counts()"
   ]
  },
  {
   "cell_type": "code",
   "execution_count": null,
   "metadata": {},
   "outputs": [],
   "source": [
    "# Saving model\n",
    "\n",
    "import pickle\n",
    "\n",
    "s = pickle.dumps(clf)\n",
    "\n"
   ]
  },
  {
   "cell_type": "markdown",
   "metadata": {},
   "source": [
    "### Example usage of sklean Model"
   ]
  },
  {
   "cell_type": "code",
   "execution_count": 148,
   "metadata": {},
   "outputs": [
    {
     "data": {
      "text/plain": [
       "(array([1, 1, 1, ..., 0, 0, 0]),\n",
       " <191516x28839 sparse matrix of type '<class 'numpy.float64'>'\n",
       " \twith 2464815 stored elements in Compressed Sparse Row format>)"
      ]
     },
     "execution_count": 148,
     "metadata": {},
     "output_type": "execute_result"
    }
   ],
   "source": [
    "X = TfidfVectorizer().fit_transform(df['quotation_cleanD'].values)\n",
    "y = df['party_label'].values\n",
    "y = np.array([0 if label=='R' else 1 for label in y])\n",
    "y, X"
   ]
  },
  {
   "cell_type": "code",
   "execution_count": 149,
   "metadata": {},
   "outputs": [
    {
     "name": "stdout",
     "output_type": "stream",
     "text": [
      "Avg: 0.671\tStd: 0.003\n"
     ]
    }
   ],
   "source": [
    "clf = MultinomialNB()\n",
    "# clf.fit(X, y)\n",
    "scores = cross_val_score(clf, X, y, cv=5)\n",
    "\n",
    "print(f'Avg: {scores.mean():.3f}\\tStd: {scores.std():.3f}')"
   ]
  },
  {
   "cell_type": "code",
   "execution_count": 150,
   "metadata": {},
   "outputs": [
    {
     "data": {
      "text/plain": [
       "{'fit_time': (0.04200975100199381, 0.007753792517962397),\n",
       " 'score_time': (0.05926903088887533, 0.004610906770016475),\n",
       " 'test_accuracy': (0.6679389794266553, 0.0019415389637946878),\n",
       " 'test_precision': (0.6683144656132046, 0.0022751909329718246),\n",
       " 'test_recall': (0.6668372176826142, 0.0013386032230737837),\n",
       " 'test_f1': (0.6675739714119876, 0.001665980070333526)}"
      ]
     },
     "execution_count": 150,
     "metadata": {},
     "output_type": "execute_result"
    }
   ],
   "source": [
    "clf = MultinomialNB()\n",
    "\n",
    "scoring=['accuracy', 'precision', 'recall', 'f1']\n",
    "res = cross_validate(clf, X, y, scoring=scoring, cv=3)\n",
    "{item: (value.mean(), value.std()) for (item, value) in res.items()}"
   ]
  },
  {
   "cell_type": "markdown",
   "metadata": {},
   "source": [
    "### Appling model to quotation variants"
   ]
  },
  {
   "cell_type": "code",
   "execution_count": 39,
   "metadata": {},
   "outputs": [],
   "source": [
    "# import sklearn\n",
    "# sorted(sklearn.metrics.SCORERS.keys())"
   ]
  },
  {
   "cell_type": "code",
   "execution_count": 208,
   "metadata": {},
   "outputs": [],
   "source": [
    "cols = [\n",
    "    'quotation_cleanE',\n",
    "    'quotation_cleanA', \n",
    "    'quotation_cleanB',\n",
    "    'quotation_cleanC',\n",
    "    'quotation_cleanD',\n",
    "    ]\n",
    "\n",
    "\n",
    "def test_classifer(pipeline, break_after_one_iter=False):\n",
    "    for col in cols:\n",
    "\n",
    "        # X = vectorizer.fit_transform(df[col].values)\n",
    "        X = df[col].values\n",
    "\n",
    "        y = df['party_label'].values\n",
    "        y = np.array([0.0 if label=='R' else 1.0 for label in y])\n",
    "\n",
    "        # scores = cross_val_score(clf, X, y, cv=3)\n",
    "        # print(f'Col: {col}\\tAvg: {scores.mean():.3f}\\tStd: {scores.std():.3f}')\n",
    "\n",
    "        # scoring=['accuracy']\n",
    "        # scoring=['f1']\n",
    "        \n",
    "        \n",
    "\n",
    "        scoring=['accuracy', 'precision', 'recall', 'f1']\n",
    "        res = cross_validate(pipeline, X, y, scoring=scoring, cv=3)\n",
    "        res = {item: (value.mean(), value.std()) for (item, value) in res.items()}\n",
    "\n",
    "        # Code isn't pretty but prints nice output!\n",
    "        print(f'Col: {col}')\n",
    "\n",
    "        print(f'X shape: {X.shape}')\n",
    "\n",
    "        print(f'\\tfit_time - \\t\\tavg:{res[\"fit_time\"][0]:.3f}\\tstd:{res[\"fit_time\"][1]:.3f}')\n",
    "        print(f'\\tscore_time - \\t\\tavg:{res[\"score_time\"][0]:.3f}\\tstd:{res[\"score_time\"][1]:.3f}')\n",
    "        print(f'\\ttest_accuracy - \\tavg:{res[\"test_accuracy\"][0]:.3f}\\tstd:{res[\"test_accuracy\"][1]:.3f}')\n",
    "        print(f'\\ttest_precision - \\tavg:{res[\"test_precision\"][0]:.3f}\\tstd:{res[\"test_precision\"][1]:.3f}')\n",
    "        print(f'\\ttest_recall - \\t\\tavg:{res[\"test_recall\"][0]:.3f}\\tstd:{res[\"test_recall\"][1]:.3f}')\n",
    "        print(f'\\ttest_f1 - \\t\\tavg:{res[\"test_f1\"][0]:.3f}\\tstd:{res[\"test_f1\"][1]:.3f}')\n",
    "        \n",
    "        if break_after_one_iter:\n",
    "            break\n",
    "\n",
    "        \n",
    "    # break"
   ]
  },
  {
   "cell_type": "code",
   "execution_count": 209,
   "metadata": {},
   "outputs": [
    {
     "name": "stdout",
     "output_type": "stream",
     "text": [
      "Col: quotation_cleanE\n",
      "X shape: (260504,)\n",
      "\tfit_time - \t\tavg:20.802\tstd:0.209\n",
      "\tscore_time - \t\tavg:3.887\tstd:0.089\n",
      "\ttest_accuracy - \tavg:0.706\tstd:0.002\n",
      "\ttest_precision - \tavg:0.710\tstd:0.001\n",
      "\ttest_recall - \t\tavg:0.697\tstd:0.003\n",
      "\ttest_f1 - \t\tavg:0.703\tstd:0.002\n"
     ]
    }
   ],
   "source": [
    "pipeline = Pipeline([\n",
    "            # ('vect', TfidfVectorizer(ngram_range=(1,1), max_features=10)),\n",
    "            ('vect', TfidfVectorizer(ngram_range=(1,3), max_features=1_000_000)),\n",
    "            ('clf', MultinomialNB()),\n",
    "        ])\n",
    "\n",
    "test_classifer(pipeline, break_after_one_iter=True)"
   ]
  },
  {
   "cell_type": "code",
   "execution_count": 25,
   "metadata": {},
   "outputs": [
    {
     "name": "stdout",
     "output_type": "stream",
     "text": [
      "Col: quotation_cleanA\n",
      "X shape: (10000,)\n",
      "\tfit_time - \t\tavg:0.546\tstd:0.039\n",
      "\tscore_time - \t\tavg:0.165\tstd:0.004\n",
      "\ttest_accuracy - \tavg:0.599\tstd:0.011\n",
      "\ttest_precision - \tavg:0.599\tstd:0.012\n",
      "\ttest_recall - \t\tavg:0.596\tstd:0.012\n",
      "\ttest_f1 - \t\tavg:0.597\tstd:0.011\n",
      "Col: quotation_cleanB\n",
      "X shape: (10000,)\n",
      "\tfit_time - \t\tavg:0.587\tstd:0.025\n",
      "\tscore_time - \t\tavg:0.166\tstd:0.004\n",
      "\ttest_accuracy - \tavg:0.599\tstd:0.011\n",
      "\ttest_precision - \tavg:0.599\tstd:0.012\n",
      "\ttest_recall - \t\tavg:0.596\tstd:0.012\n",
      "\ttest_f1 - \t\tavg:0.597\tstd:0.011\n",
      "Col: quotation_cleanC\n",
      "X shape: (10000,)\n",
      "\tfit_time - \t\tavg:0.371\tstd:0.008\n",
      "\tscore_time - \t\tavg:0.090\tstd:0.001\n",
      "\ttest_accuracy - \tavg:0.601\tstd:0.004\n",
      "\ttest_precision - \tavg:0.599\tstd:0.004\n",
      "\ttest_recall - \t\tavg:0.611\tstd:0.008\n",
      "\ttest_f1 - \t\tavg:0.605\tstd:0.005\n",
      "Col: quotation_cleanD\n",
      "X shape: (10000,)\n",
      "\tfit_time - \t\tavg:0.387\tstd:0.077\n",
      "\tscore_time - \t\tavg:0.104\tstd:0.018\n",
      "\ttest_accuracy - \tavg:0.606\tstd:0.004\n",
      "\ttest_precision - \tavg:0.607\tstd:0.004\n",
      "\ttest_recall - \t\tavg:0.600\tstd:0.013\n",
      "\ttest_f1 - \t\tavg:0.604\tstd:0.007\n",
      "Col: quotation_cleanE\n",
      "X shape: (10000,)\n",
      "\tfit_time - \t\tavg:0.336\tstd:0.009\n",
      "\tscore_time - \t\tavg:0.085\tstd:0.003\n",
      "\ttest_accuracy - \tavg:0.603\tstd:0.005\n",
      "\ttest_precision - \tavg:0.603\tstd:0.004\n",
      "\ttest_recall - \t\tavg:0.606\tstd:0.011\n",
      "\ttest_f1 - \t\tavg:0.604\tstd:0.007\n"
     ]
    }
   ],
   "source": [
    "pipeline = Pipeline([\n",
    "            ('vect', TfidfVectorizer(ngram_range=(1,2), max_features=50000)),\n",
    "            ('clf', MultinomialNB()),\n",
    "        ])\n",
    "\n",
    "test_classifer(pipeline)"
   ]
  },
  {
   "cell_type": "code",
   "execution_count": 27,
   "metadata": {},
   "outputs": [
    {
     "name": "stderr",
     "output_type": "stream",
     "text": [
      "/Users/mroust/anaconda3/envs/ada/lib/python3.8/site-packages/sklearn/linear_model/_logistic.py:814: ConvergenceWarning: lbfgs failed to converge (status=1):\n",
      "STOP: TOTAL NO. of ITERATIONS REACHED LIMIT.\n",
      "\n",
      "Increase the number of iterations (max_iter) or scale the data as shown in:\n",
      "    https://scikit-learn.org/stable/modules/preprocessing.html\n",
      "Please also refer to the documentation for alternative solver options:\n",
      "    https://scikit-learn.org/stable/modules/linear_model.html#logistic-regression\n",
      "  n_iter_i = _check_optimize_result(\n",
      "/Users/mroust/anaconda3/envs/ada/lib/python3.8/site-packages/sklearn/linear_model/_logistic.py:814: ConvergenceWarning: lbfgs failed to converge (status=1):\n",
      "STOP: TOTAL NO. of ITERATIONS REACHED LIMIT.\n",
      "\n",
      "Increase the number of iterations (max_iter) or scale the data as shown in:\n",
      "    https://scikit-learn.org/stable/modules/preprocessing.html\n",
      "Please also refer to the documentation for alternative solver options:\n",
      "    https://scikit-learn.org/stable/modules/linear_model.html#logistic-regression\n",
      "  n_iter_i = _check_optimize_result(\n",
      "/Users/mroust/anaconda3/envs/ada/lib/python3.8/site-packages/sklearn/linear_model/_logistic.py:814: ConvergenceWarning: lbfgs failed to converge (status=1):\n",
      "STOP: TOTAL NO. of ITERATIONS REACHED LIMIT.\n",
      "\n",
      "Increase the number of iterations (max_iter) or scale the data as shown in:\n",
      "    https://scikit-learn.org/stable/modules/preprocessing.html\n",
      "Please also refer to the documentation for alternative solver options:\n",
      "    https://scikit-learn.org/stable/modules/linear_model.html#logistic-regression\n",
      "  n_iter_i = _check_optimize_result(\n"
     ]
    },
    {
     "name": "stdout",
     "output_type": "stream",
     "text": [
      "Col: quotation_cleanA\n",
      "X shape: (10000,)\n",
      "\tfit_time - \t\tavg:2.623\tstd:0.708\n",
      "\tscore_time - \t\tavg:0.196\tstd:0.027\n",
      "\ttest_accuracy - \tavg:0.587\tstd:0.008\n",
      "\ttest_precision - \tavg:0.588\tstd:0.009\n",
      "\ttest_recall - \t\tavg:0.580\tstd:0.008\n",
      "\ttest_f1 - \t\tavg:0.584\tstd:0.008\n"
     ]
    },
    {
     "name": "stderr",
     "output_type": "stream",
     "text": [
      "/Users/mroust/anaconda3/envs/ada/lib/python3.8/site-packages/sklearn/linear_model/_logistic.py:814: ConvergenceWarning: lbfgs failed to converge (status=1):\n",
      "STOP: TOTAL NO. of ITERATIONS REACHED LIMIT.\n",
      "\n",
      "Increase the number of iterations (max_iter) or scale the data as shown in:\n",
      "    https://scikit-learn.org/stable/modules/preprocessing.html\n",
      "Please also refer to the documentation for alternative solver options:\n",
      "    https://scikit-learn.org/stable/modules/linear_model.html#logistic-regression\n",
      "  n_iter_i = _check_optimize_result(\n",
      "/Users/mroust/anaconda3/envs/ada/lib/python3.8/site-packages/sklearn/linear_model/_logistic.py:814: ConvergenceWarning: lbfgs failed to converge (status=1):\n",
      "STOP: TOTAL NO. of ITERATIONS REACHED LIMIT.\n",
      "\n",
      "Increase the number of iterations (max_iter) or scale the data as shown in:\n",
      "    https://scikit-learn.org/stable/modules/preprocessing.html\n",
      "Please also refer to the documentation for alternative solver options:\n",
      "    https://scikit-learn.org/stable/modules/linear_model.html#logistic-regression\n",
      "  n_iter_i = _check_optimize_result(\n",
      "/Users/mroust/anaconda3/envs/ada/lib/python3.8/site-packages/sklearn/linear_model/_logistic.py:814: ConvergenceWarning: lbfgs failed to converge (status=1):\n",
      "STOP: TOTAL NO. of ITERATIONS REACHED LIMIT.\n",
      "\n",
      "Increase the number of iterations (max_iter) or scale the data as shown in:\n",
      "    https://scikit-learn.org/stable/modules/preprocessing.html\n",
      "Please also refer to the documentation for alternative solver options:\n",
      "    https://scikit-learn.org/stable/modules/linear_model.html#logistic-regression\n",
      "  n_iter_i = _check_optimize_result(\n"
     ]
    },
    {
     "name": "stdout",
     "output_type": "stream",
     "text": [
      "Col: quotation_cleanB\n",
      "X shape: (10000,)\n",
      "\tfit_time - \t\tavg:1.735\tstd:0.261\n",
      "\tscore_time - \t\tavg:0.184\tstd:0.024\n",
      "\ttest_accuracy - \tavg:0.587\tstd:0.008\n",
      "\ttest_precision - \tavg:0.588\tstd:0.009\n",
      "\ttest_recall - \t\tavg:0.580\tstd:0.008\n",
      "\ttest_f1 - \t\tavg:0.584\tstd:0.008\n"
     ]
    },
    {
     "name": "stderr",
     "output_type": "stream",
     "text": [
      "/Users/mroust/anaconda3/envs/ada/lib/python3.8/site-packages/sklearn/linear_model/_logistic.py:814: ConvergenceWarning: lbfgs failed to converge (status=1):\n",
      "STOP: TOTAL NO. of ITERATIONS REACHED LIMIT.\n",
      "\n",
      "Increase the number of iterations (max_iter) or scale the data as shown in:\n",
      "    https://scikit-learn.org/stable/modules/preprocessing.html\n",
      "Please also refer to the documentation for alternative solver options:\n",
      "    https://scikit-learn.org/stable/modules/linear_model.html#logistic-regression\n",
      "  n_iter_i = _check_optimize_result(\n",
      "/Users/mroust/anaconda3/envs/ada/lib/python3.8/site-packages/sklearn/linear_model/_logistic.py:814: ConvergenceWarning: lbfgs failed to converge (status=1):\n",
      "STOP: TOTAL NO. of ITERATIONS REACHED LIMIT.\n",
      "\n",
      "Increase the number of iterations (max_iter) or scale the data as shown in:\n",
      "    https://scikit-learn.org/stable/modules/preprocessing.html\n",
      "Please also refer to the documentation for alternative solver options:\n",
      "    https://scikit-learn.org/stable/modules/linear_model.html#logistic-regression\n",
      "  n_iter_i = _check_optimize_result(\n",
      "/Users/mroust/anaconda3/envs/ada/lib/python3.8/site-packages/sklearn/linear_model/_logistic.py:814: ConvergenceWarning: lbfgs failed to converge (status=1):\n",
      "STOP: TOTAL NO. of ITERATIONS REACHED LIMIT.\n",
      "\n",
      "Increase the number of iterations (max_iter) or scale the data as shown in:\n",
      "    https://scikit-learn.org/stable/modules/preprocessing.html\n",
      "Please also refer to the documentation for alternative solver options:\n",
      "    https://scikit-learn.org/stable/modules/linear_model.html#logistic-regression\n",
      "  n_iter_i = _check_optimize_result(\n"
     ]
    },
    {
     "name": "stdout",
     "output_type": "stream",
     "text": [
      "Col: quotation_cleanC\n",
      "X shape: (10000,)\n",
      "\tfit_time - \t\tavg:1.401\tstd:0.436\n",
      "\tscore_time - \t\tavg:0.087\tstd:0.004\n",
      "\ttest_accuracy - \tavg:0.589\tstd:0.002\n",
      "\ttest_precision - \tavg:0.588\tstd:0.003\n",
      "\ttest_recall - \t\tavg:0.591\tstd:0.002\n",
      "\ttest_f1 - \t\tavg:0.590\tstd:0.001\n"
     ]
    },
    {
     "name": "stderr",
     "output_type": "stream",
     "text": [
      "/Users/mroust/anaconda3/envs/ada/lib/python3.8/site-packages/sklearn/linear_model/_logistic.py:814: ConvergenceWarning: lbfgs failed to converge (status=1):\n",
      "STOP: TOTAL NO. of ITERATIONS REACHED LIMIT.\n",
      "\n",
      "Increase the number of iterations (max_iter) or scale the data as shown in:\n",
      "    https://scikit-learn.org/stable/modules/preprocessing.html\n",
      "Please also refer to the documentation for alternative solver options:\n",
      "    https://scikit-learn.org/stable/modules/linear_model.html#logistic-regression\n",
      "  n_iter_i = _check_optimize_result(\n",
      "/Users/mroust/anaconda3/envs/ada/lib/python3.8/site-packages/sklearn/linear_model/_logistic.py:814: ConvergenceWarning: lbfgs failed to converge (status=1):\n",
      "STOP: TOTAL NO. of ITERATIONS REACHED LIMIT.\n",
      "\n",
      "Increase the number of iterations (max_iter) or scale the data as shown in:\n",
      "    https://scikit-learn.org/stable/modules/preprocessing.html\n",
      "Please also refer to the documentation for alternative solver options:\n",
      "    https://scikit-learn.org/stable/modules/linear_model.html#logistic-regression\n",
      "  n_iter_i = _check_optimize_result(\n",
      "/Users/mroust/anaconda3/envs/ada/lib/python3.8/site-packages/sklearn/linear_model/_logistic.py:814: ConvergenceWarning: lbfgs failed to converge (status=1):\n",
      "STOP: TOTAL NO. of ITERATIONS REACHED LIMIT.\n",
      "\n",
      "Increase the number of iterations (max_iter) or scale the data as shown in:\n",
      "    https://scikit-learn.org/stable/modules/preprocessing.html\n",
      "Please also refer to the documentation for alternative solver options:\n",
      "    https://scikit-learn.org/stable/modules/linear_model.html#logistic-regression\n",
      "  n_iter_i = _check_optimize_result(\n"
     ]
    },
    {
     "name": "stdout",
     "output_type": "stream",
     "text": [
      "Col: quotation_cleanD\n",
      "X shape: (10000,)\n",
      "\tfit_time - \t\tavg:1.305\tstd:0.299\n",
      "\tscore_time - \t\tavg:0.092\tstd:0.005\n",
      "\ttest_accuracy - \tavg:0.592\tstd:0.009\n",
      "\ttest_precision - \tavg:0.593\tstd:0.009\n",
      "\ttest_recall - \t\tavg:0.586\tstd:0.015\n",
      "\ttest_f1 - \t\tavg:0.589\tstd:0.012\n"
     ]
    },
    {
     "name": "stderr",
     "output_type": "stream",
     "text": [
      "/Users/mroust/anaconda3/envs/ada/lib/python3.8/site-packages/sklearn/linear_model/_logistic.py:814: ConvergenceWarning: lbfgs failed to converge (status=1):\n",
      "STOP: TOTAL NO. of ITERATIONS REACHED LIMIT.\n",
      "\n",
      "Increase the number of iterations (max_iter) or scale the data as shown in:\n",
      "    https://scikit-learn.org/stable/modules/preprocessing.html\n",
      "Please also refer to the documentation for alternative solver options:\n",
      "    https://scikit-learn.org/stable/modules/linear_model.html#logistic-regression\n",
      "  n_iter_i = _check_optimize_result(\n",
      "/Users/mroust/anaconda3/envs/ada/lib/python3.8/site-packages/sklearn/linear_model/_logistic.py:814: ConvergenceWarning: lbfgs failed to converge (status=1):\n",
      "STOP: TOTAL NO. of ITERATIONS REACHED LIMIT.\n",
      "\n",
      "Increase the number of iterations (max_iter) or scale the data as shown in:\n",
      "    https://scikit-learn.org/stable/modules/preprocessing.html\n",
      "Please also refer to the documentation for alternative solver options:\n",
      "    https://scikit-learn.org/stable/modules/linear_model.html#logistic-regression\n",
      "  n_iter_i = _check_optimize_result(\n"
     ]
    },
    {
     "name": "stdout",
     "output_type": "stream",
     "text": [
      "Col: quotation_cleanE\n",
      "X shape: (10000,)\n",
      "\tfit_time - \t\tavg:1.503\tstd:0.095\n",
      "\tscore_time - \t\tavg:0.096\tstd:0.006\n",
      "\ttest_accuracy - \tavg:0.594\tstd:0.004\n",
      "\ttest_precision - \tavg:0.594\tstd:0.005\n",
      "\ttest_recall - \t\tavg:0.591\tstd:0.002\n",
      "\ttest_f1 - \t\tavg:0.593\tstd:0.002\n"
     ]
    },
    {
     "name": "stderr",
     "output_type": "stream",
     "text": [
      "/Users/mroust/anaconda3/envs/ada/lib/python3.8/site-packages/sklearn/linear_model/_logistic.py:814: ConvergenceWarning: lbfgs failed to converge (status=1):\n",
      "STOP: TOTAL NO. of ITERATIONS REACHED LIMIT.\n",
      "\n",
      "Increase the number of iterations (max_iter) or scale the data as shown in:\n",
      "    https://scikit-learn.org/stable/modules/preprocessing.html\n",
      "Please also refer to the documentation for alternative solver options:\n",
      "    https://scikit-learn.org/stable/modules/linear_model.html#logistic-regression\n",
      "  n_iter_i = _check_optimize_result(\n"
     ]
    }
   ],
   "source": [
    "pipeline = Pipeline([\n",
    "            ('vect', TfidfVectorizer(ngram_range=(1,2), max_features=50000)),\n",
    "            ('clf', LogisticRegression(n_jobs=-1, C=1e5)),\n",
    "        ])\n",
    "\n",
    "test_classifer(pipeline)"
   ]
  },
  {
   "cell_type": "code",
   "execution_count": 28,
   "metadata": {},
   "outputs": [
    {
     "name": "stdout",
     "output_type": "stream",
     "text": [
      "Col: quotation_cleanA\n",
      "X shape: (10000,)\n",
      "\tfit_time - \t\tavg:0.987\tstd:0.309\n",
      "\tscore_time - \t\tavg:0.150\tstd:0.009\n",
      "\ttest_accuracy - \tavg:0.511\tstd:0.012\n",
      "\ttest_precision - \tavg:0.514\tstd:0.015\n",
      "\ttest_recall - \t\tavg:0.410\tstd:0.012\n",
      "\ttest_f1 - \t\tavg:0.456\tstd:0.013\n",
      "Col: quotation_cleanB\n",
      "X shape: (10000,)\n",
      "\tfit_time - \t\tavg:0.758\tstd:0.004\n",
      "\tscore_time - \t\tavg:0.142\tstd:0.005\n",
      "\ttest_accuracy - \tavg:0.506\tstd:0.007\n",
      "\ttest_precision - \tavg:0.508\tstd:0.009\n",
      "\ttest_recall - \t\tavg:0.413\tstd:0.010\n",
      "\ttest_f1 - \t\tavg:0.455\tstd:0.005\n",
      "Col: quotation_cleanC\n",
      "X shape: (10000,)\n",
      "\tfit_time - \t\tavg:0.459\tstd:0.031\n",
      "\tscore_time - \t\tavg:0.083\tstd:0.001\n",
      "\ttest_accuracy - \tavg:0.507\tstd:0.005\n",
      "\ttest_precision - \tavg:0.507\tstd:0.005\n",
      "\ttest_recall - \t\tavg:0.537\tstd:0.073\n",
      "\ttest_f1 - \t\tavg:0.519\tstd:0.035\n",
      "Col: quotation_cleanD\n",
      "X shape: (10000,)\n",
      "\tfit_time - \t\tavg:0.490\tstd:0.072\n",
      "\tscore_time - \t\tavg:0.088\tstd:0.012\n",
      "\ttest_accuracy - \tavg:0.515\tstd:0.007\n",
      "\ttest_precision - \tavg:0.518\tstd:0.008\n",
      "\ttest_recall - \t\tavg:0.429\tstd:0.014\n",
      "\ttest_f1 - \t\tavg:0.470\tstd:0.011\n",
      "Col: quotation_cleanE\n",
      "X shape: (10000,)\n",
      "\tfit_time - \t\tavg:0.442\tstd:0.006\n",
      "\tscore_time - \t\tavg:0.082\tstd:0.003\n",
      "\ttest_accuracy - \tavg:0.515\tstd:0.010\n",
      "\ttest_precision - \tavg:0.519\tstd:0.013\n",
      "\ttest_recall - \t\tavg:0.415\tstd:0.019\n",
      "\ttest_f1 - \t\tavg:0.461\tstd:0.016\n"
     ]
    }
   ],
   "source": [
    "pipeline = Pipeline([\n",
    "            ('vect', TfidfVectorizer(ngram_range=(1,2), max_features=100)),\n",
    "            ('clf', RandomForestClassifier(n_estimators=10, n_jobs=7)),\n",
    "        ])\n",
    "\n",
    "test_classifer(pipeline)"
   ]
  },
  {
   "cell_type": "code",
   "execution_count": null,
   "metadata": {},
   "outputs": [],
   "source": [
    "# clf.fit(X[100:], y[100:])\n",
    "# clf.predict_proba(X[0:5])"
   ]
  },
  {
   "cell_type": "code",
   "execution_count": 29,
   "metadata": {},
   "outputs": [
    {
     "name": "stdout",
     "output_type": "stream",
     "text": [
      "Col: quotation_cleanA\n",
      "X shape: (10000,)\n",
      "\tfit_time - \t\tavg:0.752\tstd:0.092\n",
      "\tscore_time - \t\tavg:0.140\tstd:0.022\n",
      "\ttest_accuracy - \tavg:0.531\tstd:0.002\n",
      "\ttest_precision - \tavg:0.530\tstd:0.002\n",
      "\ttest_recall - \t\tavg:0.560\tstd:0.023\n",
      "\ttest_f1 - \t\tavg:0.544\tstd:0.011\n",
      "Col: quotation_cleanB\n",
      "X shape: (10000,)\n",
      "\tfit_time - \t\tavg:0.763\tstd:0.118\n",
      "\tscore_time - \t\tavg:0.152\tstd:0.023\n",
      "\ttest_accuracy - \tavg:0.531\tstd:0.002\n",
      "\ttest_precision - \tavg:0.530\tstd:0.002\n",
      "\ttest_recall - \t\tavg:0.560\tstd:0.023\n",
      "\ttest_f1 - \t\tavg:0.544\tstd:0.011\n",
      "Col: quotation_cleanC\n",
      "X shape: (10000,)\n",
      "\tfit_time - \t\tavg:0.414\tstd:0.026\n",
      "\tscore_time - \t\tavg:0.076\tstd:0.000\n",
      "\ttest_accuracy - \tavg:0.515\tstd:0.001\n",
      "\ttest_precision - \tavg:0.540\tstd:0.045\n",
      "\ttest_recall - \t\tavg:0.648\tstd:0.396\n",
      "\ttest_f1 - \t\tavg:0.489\tstd:0.237\n",
      "Col: quotation_cleanD\n",
      "X shape: (10000,)\n",
      "\tfit_time - \t\tavg:0.396\tstd:0.007\n",
      "\tscore_time - \t\tavg:0.084\tstd:0.011\n",
      "\ttest_accuracy - \tavg:0.516\tstd:0.004\n",
      "\ttest_precision - \tavg:0.529\tstd:0.025\n",
      "\ttest_recall - \t\tavg:0.621\tstd:0.369\n",
      "\ttest_f1 - \t\tavg:0.488\tstd:0.225\n",
      "Col: quotation_cleanE\n",
      "X shape: (10000,)\n",
      "\tfit_time - \t\tavg:0.443\tstd:0.041\n",
      "\tscore_time - \t\tavg:0.084\tstd:0.018\n",
      "\ttest_accuracy - \tavg:0.517\tstd:0.005\n",
      "\ttest_precision - \tavg:0.549\tstd:0.058\n",
      "\ttest_recall - \t\tavg:0.644\tstd:0.386\n",
      "\ttest_f1 - \t\tavg:0.493\tstd:0.228\n"
     ]
    }
   ],
   "source": [
    "pipeline = Pipeline([\n",
    "            ('vect', TfidfVectorizer(ngram_range=(1,2), max_features=100)),\n",
    "            ('clf', GradientBoostingClassifier(n_estimators=10, learning_rate=1.0,\n",
    "                                               max_depth=1, random_state=0)),\n",
    "        ])\n",
    "\n",
    "test_classifer(pipeline)"
   ]
  },
  {
   "cell_type": "code",
   "execution_count": 1,
   "metadata": {},
   "outputs": [
    {
     "ename": "NameError",
     "evalue": "name 'Pipeline' is not defined",
     "output_type": "error",
     "traceback": [
      "\u001b[0;31m---------------------------------------------------------------------------\u001b[0m",
      "\u001b[0;31mNameError\u001b[0m                                 Traceback (most recent call last)",
      "\u001b[0;32m/var/folders/nf/186rd3kx35v_x13p5402wpsr0000gn/T/ipykernel_72826/2115280501.py\u001b[0m in \u001b[0;36m<module>\u001b[0;34m\u001b[0m\n\u001b[0;32m----> 1\u001b[0;31m pipeline = Pipeline([\n\u001b[0m\u001b[1;32m      2\u001b[0m             \u001b[0;34m(\u001b[0m\u001b[0;34m'vect'\u001b[0m\u001b[0;34m,\u001b[0m \u001b[0mTfidfVectorizer\u001b[0m\u001b[0;34m(\u001b[0m\u001b[0mngram_range\u001b[0m\u001b[0;34m=\u001b[0m\u001b[0;34m(\u001b[0m\u001b[0;36m1\u001b[0m\u001b[0;34m,\u001b[0m\u001b[0;36m2\u001b[0m\u001b[0;34m)\u001b[0m\u001b[0;34m,\u001b[0m \u001b[0mmax_features\u001b[0m\u001b[0;34m=\u001b[0m\u001b[0;36m100\u001b[0m\u001b[0;34m)\u001b[0m\u001b[0;34m)\u001b[0m\u001b[0;34m,\u001b[0m\u001b[0;34m\u001b[0m\u001b[0;34m\u001b[0m\u001b[0m\n\u001b[1;32m      3\u001b[0m             \u001b[0;34m(\u001b[0m\u001b[0;34m'clf'\u001b[0m\u001b[0;34m,\u001b[0m \u001b[0mMLPClassifier\u001b[0m\u001b[0;34m(\u001b[0m\u001b[0malpha\u001b[0m\u001b[0;34m=\u001b[0m\u001b[0;36m1e-5\u001b[0m\u001b[0;34m,\u001b[0m \u001b[0mhidden_layer_sizes\u001b[0m\u001b[0;34m=\u001b[0m\u001b[0;34m(\u001b[0m\u001b[0;36m5\u001b[0m\u001b[0;34m,\u001b[0m \u001b[0;36m2\u001b[0m\u001b[0;34m)\u001b[0m\u001b[0;34m,\u001b[0m \u001b[0mrandom_state\u001b[0m\u001b[0;34m=\u001b[0m\u001b[0;36m1\u001b[0m\u001b[0;34m)\u001b[0m\u001b[0;34m)\u001b[0m\u001b[0;34m,\u001b[0m\u001b[0;34m\u001b[0m\u001b[0;34m\u001b[0m\u001b[0m\n\u001b[1;32m      4\u001b[0m         ])\n\u001b[1;32m      5\u001b[0m \u001b[0;34m\u001b[0m\u001b[0m\n",
      "\u001b[0;31mNameError\u001b[0m: name 'Pipeline' is not defined"
     ]
    }
   ],
   "source": [
    "pipeline = Pipeline([\n",
    "            ('vect', TfidfVectorizer(ngram_range=(1,2), max_features=100)),\n",
    "            ('clf', MLPClassifier(alpha=1e-5, hidden_layer_sizes=(5, 2), random_state=1)),\n",
    "        ])\n",
    "\n",
    "test_classifer(pipeline)"
   ]
  },
  {
   "cell_type": "code",
   "execution_count": 32,
   "metadata": {},
   "outputs": [
    {
     "name": "stdout",
     "output_type": "stream",
     "text": [
      "Col: quotation_cleanA\n",
      "X shape: (10000,)\n",
      "\tfit_time - \t\tavg:0.631\tstd:0.010\n",
      "\tscore_time - \t\tavg:0.157\tstd:0.026\n",
      "\ttest_accuracy - \tavg:0.535\tstd:0.002\n",
      "\ttest_precision - \tavg:0.536\tstd:0.003\n",
      "\ttest_recall - \t\tavg:0.527\tstd:0.025\n",
      "\ttest_f1 - \t\tavg:0.531\tstd:0.012\n",
      "Col: quotation_cleanB\n",
      "X shape: (10000,)\n",
      "\tfit_time - \t\tavg:0.603\tstd:0.052\n",
      "\tscore_time - \t\tavg:0.144\tstd:0.001\n",
      "\ttest_accuracy - \tavg:0.537\tstd:0.009\n",
      "\ttest_precision - \tavg:0.538\tstd:0.016\n",
      "\ttest_recall - \t\tavg:0.561\tstd:0.084\n",
      "\ttest_f1 - \t\tavg:0.545\tstd:0.034\n",
      "Col: quotation_cleanC\n",
      "X shape: (10000,)\n",
      "\tfit_time - \t\tavg:0.366\tstd:0.025\n",
      "\tscore_time - \t\tavg:0.083\tstd:0.005\n",
      "\ttest_accuracy - \tavg:0.535\tstd:0.009\n",
      "\ttest_precision - \tavg:0.529\tstd:0.007\n",
      "\ttest_recall - \t\tavg:0.640\tstd:0.004\n",
      "\ttest_f1 - \t\tavg:0.579\tstd:0.006\n",
      "Col: quotation_cleanD\n",
      "X shape: (10000,)\n",
      "\tfit_time - \t\tavg:0.335\tstd:0.011\n",
      "\tscore_time - \t\tavg:0.078\tstd:0.005\n",
      "\ttest_accuracy - \tavg:0.529\tstd:0.006\n",
      "\ttest_precision - \tavg:0.527\tstd:0.009\n",
      "\ttest_recall - \t\tavg:0.575\tstd:0.063\n",
      "\ttest_f1 - \t\tavg:0.548\tstd:0.026\n",
      "Col: quotation_cleanE\n",
      "X shape: (10000,)\n",
      "\tfit_time - \t\tavg:0.384\tstd:0.033\n",
      "\tscore_time - \t\tavg:0.092\tstd:0.014\n",
      "\ttest_accuracy - \tavg:0.530\tstd:0.010\n",
      "\ttest_precision - \tavg:0.530\tstd:0.015\n",
      "\ttest_recall - \t\tavg:0.556\tstd:0.067\n",
      "\ttest_f1 - \t\tavg:0.540\tstd:0.026\n"
     ]
    }
   ],
   "source": [
    "pipeline = Pipeline([\n",
    "            ('vect', TfidfVectorizer(ngram_range=(1,2), max_features=100)),\n",
    "            ('clf', SGDClassifier(loss=\"hinge\", penalty=\"l2\", max_iter=50)),\n",
    "        ])\n",
    "\n",
    "test_classifer(pipeline)"
   ]
  },
  {
   "cell_type": "code",
   "execution_count": 70,
   "metadata": {},
   "outputs": [
    {
     "name": "stdout",
     "output_type": "stream",
     "text": [
      "Col: quotation_cleanE\n",
      "X shape: (260504,)\n",
      "\tfit_time - \t\tavg:86.983\tstd:6.430\n",
      "\tscore_time - \t\tavg:4.505\tstd:0.376\n",
      "\ttest_accuracy - \tavg:0.616\tstd:0.002\n",
      "\ttest_precision - \tavg:0.655\tstd:0.003\n",
      "\ttest_recall - \t\tavg:0.490\tstd:0.004\n",
      "\ttest_f1 - \t\tavg:0.560\tstd:0.002\n"
     ]
    }
   ],
   "source": [
    "pipeline = Pipeline([\n",
    "            ('vect', TfidfVectorizer(ngram_range=(1,3), max_features=1_000_000)),\n",
    "            ('clf', XGBClassifier(use_label_encoder=False, eval_metric='error', n_jobs=4)), # logloss or error\n",
    "        ])\n",
    "\n",
    "test_classifer(pipeline, break_after_one_iter=True)"
   ]
  },
  {
   "cell_type": "code",
   "execution_count": null,
   "metadata": {},
   "outputs": [],
   "source": []
  },
  {
   "cell_type": "code",
   "execution_count": null,
   "metadata": {},
   "outputs": [],
   "source": []
  },
  {
   "cell_type": "code",
   "execution_count": null,
   "metadata": {},
   "outputs": [],
   "source": []
  },
  {
   "cell_type": "markdown",
   "metadata": {},
   "source": [
    "NICKY's CELLS"
   ]
  },
  {
   "cell_type": "code",
   "execution_count": 211,
   "metadata": {},
   "outputs": [],
   "source": [
    "df_temp = df.sample(frac=1)\n",
    "nicky_X = df_temp['quotation_cleanE'].values.copy()\n",
    "\n",
    "nicky_y = y = df_temp['party_label'].values\n",
    "nicky_y = np.array([0.0 if label=='R' else 1.0 for label in nicky_y])"
   ]
  },
  {
   "cell_type": "code",
   "execution_count": 212,
   "metadata": {},
   "outputs": [
    {
     "data": {
      "text/plain": [
       "{'fit_time': (21.35477900505066, 2.414792275802797),\n",
       " 'score_time': (4.301192045211792, 0.20933518003005805),\n",
       " 'test_accuracy': (0.7065687961470012, 0.0017286617663049687),\n",
       " 'test_precision': (0.7105281368393941, 0.0025199203355492925),\n",
       " 'test_recall': (0.6971869969344056, 0.0007832731861736124),\n",
       " 'test_f1': (0.7037917553017575, 0.0012552082031326885)}"
      ]
     },
     "execution_count": 212,
     "metadata": {},
     "output_type": "execute_result"
    }
   ],
   "source": [
    "nicky_pipeline = Pipeline([\n",
    "            ('vect', TfidfVectorizer(ngram_range=(1,3), max_features=1_000_000)),\n",
    "            ('clf', MultinomialNB()),\n",
    "        ])\n",
    "\n",
    "nicky_scoring=['accuracy', 'precision', 'recall', 'f1']\n",
    "nicky_res = cross_validate(nicky_pipeline, nicky_X, nicky_y, scoring=nicky_scoring, cv=3)\n",
    "{item: (value.mean(), value.std()) for (item, value) in nicky_res.items()}"
   ]
  },
  {
   "cell_type": "code",
   "execution_count": 213,
   "metadata": {},
   "outputs": [],
   "source": [
    "split_frac = 0.9\n",
    "\n",
    "bound = round(len(nicky_X)*split_frac)\n",
    "\n",
    "nicky_X_train = nicky_X[:bound]\n",
    "nicky_y_train = nicky_y[:bound]\n",
    "\n",
    "nicky_X_test = nicky_X[bound:]\n",
    "nicky_y_test = nicky_y[bound:]\n"
   ]
  },
  {
   "cell_type": "code",
   "execution_count": 214,
   "metadata": {},
   "outputs": [
    {
     "data": {
      "text/plain": [
       "Pipeline(steps=[('vect',\n",
       "                 TfidfVectorizer(max_features=1000000, ngram_range=(1, 3))),\n",
       "                ('clf', MultinomialNB())])"
      ]
     },
     "execution_count": 214,
     "metadata": {},
     "output_type": "execute_result"
    }
   ],
   "source": [
    "nicky_pipeline.fit(nicky_X_train, nicky_y_train)"
   ]
  },
  {
   "cell_type": "code",
   "execution_count": 215,
   "metadata": {},
   "outputs": [
    {
     "data": {
      "text/plain": [
       "(26050, 2)"
      ]
     },
     "execution_count": 215,
     "metadata": {},
     "output_type": "execute_result"
    }
   ],
   "source": [
    "y_pred = nicky_pipeline.predict_proba(nicky_X_test)\n",
    "y_pred.shape"
   ]
  },
  {
   "cell_type": "code",
   "execution_count": 216,
   "metadata": {},
   "outputs": [],
   "source": [
    "df_temp = df.sample(frac=1)\n",
    "nicky_X = df_temp['quotation_cleanE'].values.copy()\n",
    "\n",
    "nicky_y = y = df_temp['party_label'].values\n",
    "nicky_y = np.array([0.0 if label=='R' else 1.0 for label in nicky_y])"
   ]
  },
  {
   "cell_type": "code",
   "execution_count": 217,
   "metadata": {},
   "outputs": [
    {
     "data": {
      "text/plain": [
       "Index(['quoteID', 'quotation', 'speaker', 'date', 'numOccurrences', 'id',\n",
       "       'party_label', 'US_congress_bio_ID', 'quotation_cleanA',\n",
       "       'quotation_cleanB', 'quotation_cleanC', 'quotation_cleanD',\n",
       "       'quotation_cleanE'],\n",
       "      dtype='object')"
      ]
     },
     "execution_count": 217,
     "metadata": {},
     "output_type": "execute_result"
    }
   ],
   "source": [
    "df.columns"
   ]
  },
  {
   "cell_type": "code",
   "execution_count": 218,
   "metadata": {},
   "outputs": [
    {
     "data": {
      "text/html": [
       "<div>\n",
       "<style scoped>\n",
       "    .dataframe tbody tr th:only-of-type {\n",
       "        vertical-align: middle;\n",
       "    }\n",
       "\n",
       "    .dataframe tbody tr th {\n",
       "        vertical-align: top;\n",
       "    }\n",
       "\n",
       "    .dataframe thead th {\n",
       "        text-align: right;\n",
       "    }\n",
       "</style>\n",
       "<table border=\"1\" class=\"dataframe\">\n",
       "  <thead>\n",
       "    <tr style=\"text-align: right;\">\n",
       "      <th></th>\n",
       "      <th>quoteID</th>\n",
       "      <th>quotation</th>\n",
       "      <th>speaker</th>\n",
       "      <th>date</th>\n",
       "      <th>numOccurrences</th>\n",
       "      <th>id</th>\n",
       "      <th>party_label</th>\n",
       "      <th>US_congress_bio_ID</th>\n",
       "      <th>quotation_cleanA</th>\n",
       "      <th>quotation_cleanB</th>\n",
       "      <th>quotation_cleanC</th>\n",
       "      <th>quotation_cleanD</th>\n",
       "      <th>quotation_cleanE</th>\n",
       "      <th>pred</th>\n",
       "    </tr>\n",
       "  </thead>\n",
       "  <tbody>\n",
       "    <tr>\n",
       "      <th>151613</th>\n",
       "      <td>2020-02-06-031964</td>\n",
       "      <td>I can't watch as Oregon goes down the tubes,</td>\n",
       "      <td>kim thatcher</td>\n",
       "      <td>2020-02-06 19:32:03</td>\n",
       "      <td>1</td>\n",
       "      <td>Q6409503</td>\n",
       "      <td>R</td>\n",
       "      <td>None</td>\n",
       "      <td>I can't watch as Oregon goes down the tubes,</td>\n",
       "      <td>i can t watch as oregon goes down the tubes</td>\n",
       "      <td>watch oregon goes tubes</td>\n",
       "      <td>watch oregon goe tube</td>\n",
       "      <td>watch oregon go tube</td>\n",
       "      <td>0.568170</td>\n",
       "    </tr>\n",
       "    <tr>\n",
       "      <th>11512</th>\n",
       "      <td>2020-01-25-000357</td>\n",
       "      <td>3D guns are sometimes known as ghost guns because they are virtually untraceable and undetectable even with a metal detector, so they are very dangerous,</td>\n",
       "      <td>mark herring</td>\n",
       "      <td>2020-01-25 04:30:56</td>\n",
       "      <td>1</td>\n",
       "      <td>Q2045787</td>\n",
       "      <td>D</td>\n",
       "      <td>None</td>\n",
       "      <td>3D guns are sometimes known as ghost guns because they are virtually untraceable and undetectable even with a metal detector, so they are very dangerous,</td>\n",
       "      <td>3d guns are sometimes known as ghost guns because they are virtually untraceable and undetectable even with a metal detector so they are very dangerous</td>\n",
       "      <td>3d guns sometimes known ghost guns virtually untraceable undetectable even metal detector dangerous</td>\n",
       "      <td>3d gun sometim known ghost gun virtual untrac undetect even metal detector danger</td>\n",
       "      <td>3d gun sometimes known ghost gun virtually untraceable undetectable even metal detector dangerous</td>\n",
       "      <td>0.984782</td>\n",
       "    </tr>\n",
       "  </tbody>\n",
       "</table>\n",
       "</div>"
      ],
      "text/plain": [
       "                  quoteID  \\\n",
       "151613  2020-02-06-031964   \n",
       "11512   2020-01-25-000357   \n",
       "\n",
       "                                                                                                                                                        quotation  \\\n",
       "151613                                                                                                               I can't watch as Oregon goes down the tubes,   \n",
       "11512   3D guns are sometimes known as ghost guns because they are virtually untraceable and undetectable even with a metal detector, so they are very dangerous,   \n",
       "\n",
       "             speaker                date  numOccurrences        id  \\\n",
       "151613  kim thatcher 2020-02-06 19:32:03               1  Q6409503   \n",
       "11512   mark herring 2020-01-25 04:30:56               1  Q2045787   \n",
       "\n",
       "       party_label US_congress_bio_ID  \\\n",
       "151613           R               None   \n",
       "11512            D               None   \n",
       "\n",
       "                                                                                                                                                 quotation_cleanA  \\\n",
       "151613                                                                                                               I can't watch as Oregon goes down the tubes,   \n",
       "11512   3D guns are sometimes known as ghost guns because they are virtually untraceable and undetectable even with a metal detector, so they are very dangerous,   \n",
       "\n",
       "                                                                                                                                               quotation_cleanB  \\\n",
       "151613                                                                                                              i can t watch as oregon goes down the tubes   \n",
       "11512   3d guns are sometimes known as ghost guns because they are virtually untraceable and undetectable even with a metal detector so they are very dangerous   \n",
       "\n",
       "                                                                                           quotation_cleanC  \\\n",
       "151613                                                                              watch oregon goes tubes   \n",
       "11512   3d guns sometimes known ghost guns virtually untraceable undetectable even metal detector dangerous   \n",
       "\n",
       "                                                                         quotation_cleanD  \\\n",
       "151613                                                              watch oregon goe tube   \n",
       "11512   3d gun sometim known ghost gun virtual untrac undetect even metal detector danger   \n",
       "\n",
       "                                                                                         quotation_cleanE  \\\n",
       "151613                                                                               watch oregon go tube   \n",
       "11512   3d gun sometimes known ghost gun virtually untraceable undetectable even metal detector dangerous   \n",
       "\n",
       "            pred  \n",
       "151613  0.568170  \n",
       "11512   0.984782  "
      ]
     },
     "execution_count": 218,
     "metadata": {},
     "output_type": "execute_result"
    }
   ],
   "source": [
    "nicky_df = df_temp.iloc[bound:].copy()\n",
    "nicky_df['pred'] = y_pred[:,0]\n",
    "nicky_df.head(2)"
   ]
  },
  {
   "cell_type": "code",
   "execution_count": 219,
   "metadata": {},
   "outputs": [],
   "source": [
    "nicky_df['rounded_pred'] = np.argmax(y_pred,axis = 1)"
   ]
  },
  {
   "cell_type": "code",
   "execution_count": 220,
   "metadata": {},
   "outputs": [
    {
     "data": {
      "application/vnd.plotly.v1+json": {
       "config": {
        "plotlyServerURL": "https://plot.ly"
       },
       "data": [
        {
         "customdata": [
          [
           "eric garcetti",
           "I want to go out of my way to thank our federal officials we have been working with, as well,"
          ],
          [
           "elizabeth holtzman",
           "It won the most votes from Republicans on the committee. It, too, did not reference any criminal statute. Instead, it framed Nixon's acts in covering up the break-in as an abuse of power. This article essentially charged Nixon with misusing the powers of his office to hide from law enforcement and Congress the involvement of his campaign and top aides in the Watergate break-in in an effort to win reelection -- a matter that was not intended for the benefit of the American people but for Nixon's personal gain."
          ],
          [
           "alexandria ocasio-cortez",
           "Collaterize the loans, make sure they're paid back,"
          ],
          [
           "governor charlie baker",
           "This funding, in addition to the local aid we included in our Fiscal Year 2021 budget proposal, gives municipalities the flexibility to make needed investments in their communities."
          ],
          [
           "elizabeth warren",
           "Bringing cannabis into the legal regulatory system alone is not enough,"
          ],
          [
           "jb pritzker",
           "We're looking hard at what we need to do to get revenue and expenditures in line with one another, but a lot will depend on the federal government,"
          ],
          [
           "tim walz",
           "This is heartbreaking. We have a whole generation missing out,"
          ],
          [
           "eric garcetti",
           "The A Bridge Home program is saving lives by getting our homeless neighbors off the streets."
          ],
          [
           "tarah toohil",
           "This legislation would have been a catalyst for significant employment growth in northeast Pennsylvania, where the economy is sorely in need of stimulus,"
          ],
          [
           "josh hawley",
           "If it refuses to cooperate, then the world will know that it does have something to hide -- namely, the fact that it is responsible for this pandemic."
          ],
          [
           "laura murphy",
           "For the next decade, data from the 2020 Census will determine our community's government representation, federal funding, economic development, public transit routes and more,"
          ],
          [
           "greg abbott",
           "The additional food subsidy announced today by Governor Abbott, although still supplemental, will help fill a portion of the financial gap created by the economic crisis resulting from this pandemic. It is a step in the right direction, but there is still a long way to go to help all those suffering in our community."
          ],
          [
           "pete buttigieg",
           "I am ready to take on this president on the economy because I am from the exact kind of industrial Midwestern community he pretends to speak to and has proven to turn his back on,"
          ],
          [
           "mitch mcconnell",
           "proud moment of the United States Senate and for the country"
          ],
          [
           "gretchen whitmer",
           "We are starting to see the curve flattened, and we know that we saved lives,"
          ],
          [
           "tim howard",
           "Since my retirement in October, my obsession for football has grown,"
          ],
          [
           "andrew cuomo",
           "It is also that closeness and that connection and that humanity and that sharing that is our greatest strength, and that is what is going to overcome at the end of the day. I promise you that."
          ],
          [
           "joe biden",
           "You're the best damn workers in the world!"
          ],
          [
           "mark meadows",
           "The only thing that they can't argue with is the president's accomplishments and yet, we passed criminal justice reform where we really are trying to make sure that the sentence fits the crime,"
          ],
          [
           "sally kelly",
           "I think she's a healer."
          ],
          [
           "dick durbin",
           "The Senate is on trial. And I hope, at the end of the day, enough Republican senators will understand: history will find you. Make certain that you make a decision that you can live with in terms of our Constitution and your own professional career."
          ],
          [
           "brad sherman",
           "don't have anything to hang their heads about,"
          ],
          [
           "michelle obama",
           "@LanaCondor, I loved spending time with you in Vietnam and am so grateful for your work with the @GirlsAlliance to educate and empower young women. Sending you a big hug!"
          ],
          [
           "pete buttigieg",
           "I'm not gon na be lectured to on family values!"
          ],
          [
           "nancy pelosi",
           "we must double down on the down-payment"
          ],
          [
           "ken cuccinelli",
           "It is very clear the U.S. Supreme Court is fed up with these national injunctions by judges who are trying to impose their policy preferences instead of enforcing the law and we see this again with the Supreme Court stepping in the way they have here and we very much appreciate it,"
          ],
          [
           "christina hagan",
           "If we invest in the infrastructure, the jobs will come,"
          ],
          [
           "ralph northam",
           "But no one wants another incident like the one we saw in Charlottesville."
          ],
          [
           "steve bellone",
           "The work we are doing now and across the state and county is all about reducing the damage and death toll from this virus,"
          ],
          [
           "bernie sanders",
           "Today, I am announcing the suspension of active campaigning, and congratulate Joe Biden, a very decent man, on his victory,"
          ],
          [
           "joe biden",
           "Well I think he's gon na have -- he'll have great trouble bringing along other senators, keeping the House of Representatives, winning back the Senate and down-ballot initiatives. So I think -- I think it is a stark choice and it's not about whether or not we restore the soul of the Democratic Party. It's about restoring the soul and unite this country, the whole country,"
          ],
          [
           "andy biggs",
           "We usually have these circular firing squad type things. But what you see is I think President Trump is sitting probably mid-90s on his approval rating among Republicans, and I think that's reflected on people representing their districts here."
          ],
          [
           "elizabeth warren",
           "Legalizing marijuana and erasing past convictions won't fully end the War on Drugs or address its painful legacy, but it's a needed step in the right direction."
          ],
          [
           "dustin miller",
           "We want to test the water here and really explore this to see if we can run with this to generate that additional revenue,"
          ],
          [
           "mike pompeo",
           "send representatives to put in place a mechanism to implement the resolution of the Iraqi Parliament for a safe withdrawal of [ foreign ] troops from Iraq."
          ],
          [
           "lupe valdez",
           "The reason why I'm working to make sure that we do secure the border is because I want to go after the human traffickers, the sex traffickers, the cartel members, those who threaten us, like gang members -- the rise of MS13 gang members in the state of Texas -- I want to do something to put a stop to that,"
          ],
          [
           "elizabeth warren",
           "We really believe this is about limiting Sen. Sanders' lead and making sure that it is possible to close that gap in the remaining states that become more friendly,"
          ],
          [
           "jim watson",
           "Plainly stated, we're not getting what we paid for."
          ],
          [
           "lindsey graham",
           "The most responsible thing is to fix this now."
          ],
          [
           "andrew cuomo",
           "We don't have that capacity now and the states can't do it on their own,"
          ],
          [
           "rod blagojevich",
           "Trickery and deceit as legal tools"
          ],
          [
           "greg steube",
           "At the more senior level of the FBI, the people involved I think in every respect I can think of are gone from the FBI,"
          ],
          [
           "deval patrick",
           "No one can stand on the sidelines at a time like this. I, for one, will not. Failing to engage risks losing a lot more than an election next November,"
          ],
          [
           "mac thornberry",
           "the Middle East is never going to let you pivot away from it."
          ],
          [
           "kamala harris",
           "such a special relationship between a father and his son."
          ],
          [
           "brian johnson",
           "It's not free money but it's close to it,"
          ],
          [
           "bernie sanders",
           "I do not think that Kim Jong Un is a good friend,"
          ],
          [
           "brent hill",
           "I really liked her progressive stance,"
          ],
          [
           "marco rubio",
           "I think he's gotten away with for years saying that he's a socialist,"
          ],
          [
           "joe kennedy iii",
           "Grateful for the prayers. Hold your loved ones tight."
          ],
          [
           "chuck schumer",
           "shall also provide the opposing party all other documents responsive to that subpoena."
          ],
          [
           "gov. john bel edwards",
           "Today Louisiana confirmed four deaths related to COVID-19 and 145 new cases of the illness, which is rapidly spreading in our state and is now in 27 parishes. As I have noted many times before, the coming days and weeks are critical to flattening the curve and reducing the spread of illness in Louisiana. This afternoon, I provided an update to Vice President Mike Pence on the situation in Louisiana and spoke with Dr. Anthony Fauci to discuss the current mitigation measures we have in place in Louisiana, including the enhanced measures just announced in New Orleans,"
          ],
          [
           "mitch mcconnell",
           "new emissions standards for the airlines."
          ],
          [
           "julián castro",
           "At base, a lack of resources,"
          ],
          [
           "katie walsh",
           "I'm proud of the U.S. and Canadian cities that topped this year's A List. These cities are exemplifying transparency around their environmental impact and taking action to fend off and prepare for the worst impacts of climate change. Others must follow their lead -- disclosure is the first vital step, but it must be followed by the ambitious goal setting and strong climate action reflected by the cities on our 2019 A List."
          ],
          [
           "stephanie murphy",
           "They have the right to know if they were in"
          ],
          [
           "james allison",
           "We wanted to change aspects of the concept of the car-aspects that would be completely impossible to change within a season - to give us a more fertile platform for the new season. We tried to make a few well-chosen architectural changes to keep the development slope strong even though the regulations are now a little bit longer in the tooth."
          ],
          [
           "ron desantis",
           "As always, we are hoping for the best but are certainly prepared for the worst."
          ],
          [
           "jamie eldridge",
           "There's a need for Biden to do more outreach. And I would say so far it's been kind of a mixed bag. I think that Joe Biden needs to do more to reach out to Sanders supporters and not be dismissive,"
          ],
          [
           "kathryn barger",
           "Masks clearly are something that I think is here, and I believe is going to be here for a while,"
          ],
          [
           "dan stec",
           "I have nothing against him as a candidate,"
          ],
          [
           "elizabeth warren",
           "I'm devastated for the victims, and my heart is with their loved ones and all those affected by this tragedy.,"
          ],
          [
           "marco rubio",
           "I thank my colleagues in the Senate and House for unanimously supporting this bipartisan effort to ensure our nation's veterans have the skills and opportunities to succeed in STEM careers."
          ],
          [
           "asa hutchinson",
           "The community has been supportive and patient and understandably wants to be prepared for other opportunities."
          ],
          [
           "rod blagojevich",
           "You know they were emboldened - they took down a governor and now they got their sights much higher."
          ],
          [
           "susan collins",
           "She and others raised concerns about the 24 hrs of opening statements in 2 days,"
          ],
          [
           "nancy pelosi",
           "hand design the trial proceedings in the Senate."
          ],
          [
           "amy klobuchar",
           "We know one thing, we are punching above our weight."
          ],
          [
           "greg abbott",
           "It's not as if we have never been through this before. We've been through this many, many times."
          ],
          [
           "ron desantis",
           "When the team from Hormel Foods and I got together to figure out how we could pull off a 54-topping pizza for the Big Game, while still making it something people can prepare at home, we immediately began thinking about the distinctive flavors of the different regions of the country,"
          ],
          [
           "holly mitchell",
           "a keep-the-lights-on kind of budget."
          ],
          [
           "charles schumer",
           "All of the warning lights are flashing bright red,"
          ],
          [
           "isela blanc",
           "I'm going to invite you to look it up,"
          ],
          [
           "dan kildee",
           "I sure hope Mitch McConnell isn't taking advice on the operation of the Constitution from President Trump, who seems to have sort of a coloring book understanding of that document,"
          ],
          [
           "tom cotton",
           "maybe the coronavirus was manmade."
          ],
          [
           "nury martinez",
           "can't use their parks, can't even access their sidewalks to take their kids to school."
          ],
          [
           "anthony kern",
           "So I don't think it's really going to be a rough adventure for any of these universities to find speakers,"
          ],
          [
           "greg abbott",
           "Local officials have the authority to implement more strict standards,"
          ],
          [
           "andrew cuomo",
           "reduce or eliminate wait lists for subsidized child care"
          ],
          [
           "elizabeth warren",
           "Bold child care plans, such as those by Sanders and Warren,"
          ],
          [
           "rand paul",
           "I heard @realDonaldTrump would like to attend the impeachment trial,"
          ],
          [
           "anita dunn",
           "They aren't going to be pulling down their ads or pulling their organizers off during the trial,"
          ],
          [
           "pete lopez",
           "Today, we are proposing the best course of action to protect residents from arsenic-contaminated soil over the long-term."
          ],
          [
           "paul pate",
           "is much more important than the timeliness of releasing the results. I am glad to hear they have a paper trail for their votes, just as we use paper ballots in all official elections in the State of Iowa. I support [ the Iowa Democratic Party ] while they take their time and conduct checks and balances to ensure the accuracy and integrity of the votes."
          ],
          [
           "thom tillis",
           "It's vital that our state and our nation are well prepared,"
          ],
          [
           "robert h. johnson",
           "Captain, is it true the Hospital called you the next day and asked if Lt. Robinson was supposed to be in arrest in quarters and you answered, `no? '"
          ],
          [
           "roy cooper",
           "I want us to remember these families as they are having a difficult time right now,"
          ],
          [
           "darrell steinberg",
           "I have done everything I can these past few weeks to separate the Senate from these allegations"
          ],
          [
           "rebecca chavez-houck",
           "Currently around 40% of children are showing up to school without the foundation they need to be successful. But what we do know is that when challenged in kindergarten, it only takes 15 to 30 extra minutes over a short amount of time to help that child,"
          ],
          [
           "london breed",
           "We are too busy fighting for workers' rights to say, `Hey let's turn into a real estate empire,"
          ],
          [
           "tom cotton",
           "Now, we don't have evidence that this disease originated there, but because of China's duplicity and dishonesty from the beginning we need to at least ask the question,"
          ],
          [
           "nick king",
           "They're not necessarily very strongly flavored -- not least because if it's in the yogurt aisle and it's notably alcoholic, there might be confusion at the till,"
          ],
          [
           "james whelan",
           "Attorneys for the government and the industry recognize the complexity of the issues raised in the matter and agree that additional time is necessary for preparation of court documents,"
          ],
          [
           "doug ducey",
           "I like to say that my last budget 2019 was far and away our best budget ever. I believe that this budget will be even better and will address some of the things that you're mentioning, specifically corrections, which is in need of additional resources and has urgent problems to fix, along with infrastructure which is something that was neglected due to the downturn."
          ],
          [
           "maggie toulouse oliver",
           "The bad news is most of our poll workers in New Mexico... are over the age of 60, so we are going to have a challenge and this was again another of the reasons that we filed the petition,"
          ],
          [
           "steve scalise",
           "The killing of terrorists used to be something we all applauded. When Barack Obama gave the order to kill Osama bin Laden, we had a lot of policy disagreements with Obama, but we applauded, as Republicans and Democrats, that a bloody terrorist was killed. They couldn't even stand and celebrate the killing of Soleimani, who has the blood of hundreds of America's servicemen and women on his hands. He was plotting to kill more Americans.... It was bad for them to make that a partisan issue just because they hate the president."
          ],
          [
           "mike parson",
           "As of today, a total of 94 individuals have been tested for COVID 19 in Missouri. Ninety have been negative,"
          ],
          [
           "mark schoesler",
           "It is my goal to avoid this being a partisan, nasty debate about doing the right thing,"
          ],
          [
           "nick collins",
           "[ T ] he decision to kick the door made by Sergeant Amanda White was made in good faith, but was not made to an acceptable standard of performance and was NOT within Orlando Police Department's Policies and Procedures,"
          ],
          [
           "gary herbert",
           "Recreation access is a priority of ours -- as well as responsible energy development -- and both provide important economic benefits to Utah. As a resident, recreater and manager of public lands in Moab, I understand the public's concerns,"
          ],
          [
           "ben cline",
           "My constituents do not support war with Iran, and neither do I."
          ],
          [
           "bernie sanders",
           "The Government Will Pay That Bill"
          ],
          [
           "daniel mccay",
           "If a woman were to try to do an unsafe abortion -- her or a friend -- with some implement, and she got an infection or punctured the uterus, which one of our social services do you think would make that not create a potentially life-threatening complication for her?"
          ],
          [
           "bernie sanders",
           "It would reflect on the Democratic Party in a very, very terrible way."
          ],
          [
           "joe biden",
           "This tent is plenty big for both of us,"
          ],
          [
           "brian kemp",
           "the closure of businesses, establishments, corporations, non-profit corporations, or organizations"
          ],
          [
           "elise stefanik",
           "Securing our elections includes prioritizing the protection of voter's personal information, which has been at risk to foreign hacking for too long,"
          ],
          [
           "will barclay",
           "played a big role in (Kolb's) stepping down because we've got the State of the State on Wednesday, and there's a lot of focus back here, rightfully so, and so I think he thought it'd be a distraction, because this is the time you need leadership."
          ],
          [
           "chris seelbach",
           "When you change a street name all together there is expenses for the people that live on the street,"
          ],
          [
           "roy cooper",
           "And I know people are wondering, where do we go from here?"
          ],
          [
           "bob conley",
           "We are in a unique position of being able to help and it is through two ways. One is our fiscal stability and making sure that we had the resources for the worst of times, [ that were ] built up during the best of times. And the other by the fact that we own our own utilities, we can expand and help people in need."
          ],
          [
           "mike pompeo",
           "The #UK is an indispensable ally on a range of issues,"
          ],
          [
           "lindsey graham",
           "In every trial that there has ever been in the Senate regarding impeachment, witnesses were called,"
          ],
          [
           "joe biden",
           "study how reparations may be part of"
          ],
          [
           "greg abbott",
           "Since I declared my disaster declaration, the number of counties impacted have more than doubled. It is clear that this virus spread is occurring across the entire state of Texas."
          ],
          [
           "david davis",
           "almost entirely good news for the province"
          ],
          [
           "elizabeth warren",
           "he was a bad guy, but..."
          ],
          [
           "len fasano",
           "Not only does he have rose-colored glasses on, he doesn't want anybody to be critical of all the bad policies that they put forward,"
          ],
          [
           "tom calderon",
           "As a woman, I resent those who want to judge me based on what the men in my life have done,"
          ],
          [
           "mike pompeo",
           "They exclude traffic and movement across the border for work and other essential reasons,"
          ],
          [
           "chris coons",
           "My friend John McCain recognized what it means to live a life of service and to give back to a nation that has given so much to us,"
          ],
          [
           "gov. eric holcomb",
           "He spent so much of his time focused on improving the world for others-all while fighting a horrible disease."
          ],
          [
           "pat mcdonald",
           "That way you can make sure no one has gotten in twice, and there are no copies of the same person."
          ],
          [
           "nancy pelosi",
           "I don't think they [ the Founders ] suspected we could have a rogue president and a rogue leader in the Senate at the same time."
          ],
          [
           "jim clyburn",
           "This is end of the party."
          ],
          [
           "jim turner",
           "Senators cautiously move forward with athlete pay"
          ],
          [
           "bill lee",
           "as of last night, we have our first confirmed case of covid-19 in tennessee."
          ],
          [
           "tom cotton",
           "So we still don't know the origins of this Coronavirus,"
          ],
          [
           "andrew cuomo",
           "Those new rules will go into effect five o'clock on Friday, except for the Broadway theaters in Manhattan, where it will go into effect, five o'clock today,"
          ],
          [
           "alex azar",
           "has the tools and knows the tools"
          ],
          [
           "kevin jones",
           "checks over her shoulder whenever she leaves the house"
          ],
          [
           "alan lowenthal",
           "What a great day to launch this radio station,"
          ],
          [
           "andrew cuomo",
           "needlessly complicated, allowing unscrupulous businesses to flout or nation-leading minimum wage laws and robbing workers of the paycheck they earned."
          ],
          [
           "laura miller",
           "I was never very interested in politics,"
          ],
          [
           "steven mnuchin",
           "We have no problem issuing more debt,"
          ],
          [
           "elaine chao",
           "We believe, as I know you do, that it is very important to retain this bandwidth for this purpose, and the department is actively advocating the FCC to do the same,"
          ],
          [
           "greg albritton",
           "They have approached it in a way that makes sense,"
          ],
          [
           "mike pompeo",
           "The truth is it is your best friends you call up and say `What the heck are you doing?"
          ],
          [
           "sylvia garcia",
           "If I'm called upon, I'm ready to do it,"
          ],
          [
           "gretchen whitmer",
           "There are some things that each of us, no matter our party, should demand. The truth matters, facts matter, and no one should be above the law."
          ],
          [
           "jackie speier",
           "I can assure you that the president is not controlling this right now,"
          ],
          [
           "jb pritzker",
           "Budget experts estimate that Illinois will have a $2.7 billion shortfall of revenues for this fiscal year and a $4.6 billion shortfall for next fiscal year,"
          ],
          [
           "newt gingrich",
           "We talk about the failed war on drugs and we talk about the importance of bringing black and brown people into the industry to be part of it and to be engaged,"
          ],
          [
           "gerry connolly",
           "He did nothing to help the wounds he helped create."
          ],
          [
           "bernie sanders",
           "I don't think that's especially the case, by the way,"
          ],
          [
           "john bel edwards",
           "With out current rate of new virus cases, our hospital current capacity to successfully treat infected patients will be exceeded,"
          ],
          [
           "ro khanna",
           "He is weighing wanting to support the nominee 110 percent and defeat Trump with his obligation to millions of his supporters who want to vote for his vision for America. It's a difficult decision, and I respect whatever he decides."
          ],
          [
           "scott gottlieb",
           "It will be great to know that they would not put themselves or others at risk by going back to work because they cannot spread the disease."
          ],
          [
           "mitt romney",
           "I don't see how in good conscience I can reach a conclusion and not be true to what my heart and mind tells me is true,"
          ],
          [
           "doug ducey",
           "And if they don't, they're going to have a Class 1 misdemeanor which is a $2,500 fine and up to six months in jail, and we will enforce that."
          ],
          [
           "john barrasso",
           "It seems like Groundhog Day in the Senate,"
          ],
          [
           "stephen k. bannon",
           "President Trump is in a very difficult situation, because he still needs the cooperation of the C.C.P. on many things -- not just on the economy but on this virus,"
          ],
          [
           "kevin jones",
           "I feel sorry for someone that's blind that comes walking up here. Imagine what would happen to them?"
          ],
          [
           "lisa murkowski",
           "Certainly, I have not been told that my head is upon a pike."
          ],
          [
           "harry rilling",
           "This is a very ambitious budget put together by the Board of Education -- certainly a bit of surprise compared to what we were told last year that we'd need this year,"
          ],
          [
           "mike pompeo",
           "Today, We designate Cuba regime official Leopoldo Cintra Frias for his involvement in gross violations of human rights and use of violence to prop up the former Maduro regime in Venezuela,"
          ],
          [
           "brian schatz",
           "We urge immediate action."
          ],
          [
           "kristi noem",
           "Whatever decisions we make... need to be sustained in the long term,"
          ],
          [
           "joe biden",
           "We should be compelling Iraq to make good on its obligations to the United Nations,"
          ],
          [
           "diane savino",
           "I hear from many of my constituents who have invested in a long-term care policy so that they don't have to spend down their assets or give away everything they have (to qualify for Medicaid),"
          ],
          [
           "lindsey graham",
           "If this is not a drafting error, then this is the worst idea I have seen in a long time,"
          ],
          [
           "kevin stitt",
           "I know many Oklahomans have had trouble getting through to file unemployment claims. We have experienced over 20,000 calls per day to our unemployment department,"
          ],
          [
           "raúl grijalva",
           "President Trump once again revealed that he lives in a reality completely insulated from the hardships of Americans struggling to make ends meet, yet remains intent on paying for his tax cuts for giant corporations and billionaires by making deep cuts to Social Security and Medicare,"
          ],
          [
           "anthony scaramucci",
           "you literally have set a pause button on the global economy for three to six months."
          ],
          [
           "rudy giuliani",
           "ever once, never winked, never sent me a little note. He is a personal friend, I thought."
          ],
          [
           "pete buttigieg",
           "You can predict anything in Washington, almost anything, on party lines,"
          ],
          [
           "elizabeth warren",
           "2020 is a moment we've been called to in history. \\"
          ],
          [
           "phil williams",
           "You can get far bigger crystals with fewer defects in microgravity,"
          ],
          [
           "aaron peskin",
           "In an emergency, unity is important not only for public perception but also for doing the things that need to be done in the most efficient way,"
          ],
          [
           "jay inslee",
           "state-sanctioned program to make sure every county can have health insurance and, by using the scale, scope and the bargaining authority of the state we believe it has the prospect of reducing cost and increasing access."
          ],
          [
           "rudy giuliani",
           "the false propaganda of the Iranian #RegimeOfTerror."
          ],
          [
           "kevin stitt",
           "Efforts to do this [ ensure federal tax dollars be returned to the state and put to work ] through amending our Constitution to force Medicaid expansion are wrong and will be ineffective and will fail to fix our problems,"
          ],
          [
           "thom tillis",
           "If they apply for a loan and they're using a portion or all of the loan to pay their employees, that will be a grant, not a loan that they'll have to pay back."
          ],
          [
           "katherine fernandez rundle",
           "Every educator deserves to earn the trust and respect placed in them by students, parents and school administrators,"
          ],
          [
           "nancy pelosi",
           "He was not -- there was no --,"
          ],
          [
           "katie hill",
           "I was blackout drunk, and he was a lot older, too, and yeah. It's funny because I say `we' had sex, but I guess it's not --"
          ],
          [
           "peggy scott",
           "You can see the gravity of what we have to deal with here."
          ],
          [
           "mike pompeo",
           "stifling young Iraqis and Lebanese who want nothing more than a clean and sovereign government."
          ],
          [
           "joe biden",
           "While other large states continue to take strong, urgent, and sweeping action to stop the spread of COVID-19, Florida has not,"
          ],
          [
           "paul gosar",
           "I'm grateful that President Trump has decided to put American lives first and foremost, and I fully support ongoing efforts to secure our border,"
          ],
          [
           "gretchen whitmer",
           "It's OK to be angry, and... if it makes you better to direct it at me that's OK, too. I've got thick skin. And I'm always going to defend your right to free speech,"
          ],
          [
           "pete buttigieg",
           "Wow. Did you hear what Limbaugh said? Limbaugh said, `Keep a sharp eye on Mayor Pete. '"
          ],
          [
           "phil roe",
           "Today, we didn't do that. We made a partisan committee out of something that should never have happened."
          ],
          [
           "stacey abrams",
           "Governors are standing up and saying we will lead when those who should do not. Mayors and members of city councils are showing the best of who we can be. They are bolstered by the national apparatus amplifying their message."
          ],
          [
           "alex azar",
           "HHS is taking a comprehensive, aggressive approach to enforcing the law passed by Congress, under which no e-cigarettes are currently on the market legally."
          ],
          [
           "steve russell",
           "$1.5 billion is not enough,"
          ],
          [
           "mitch mcconnell",
           "Well, that brought one of those rare smiles to my face, which you witnessed and which I was perplexed by the strategy that was being employed. Finally when it became obvious to everyone that it was an absurd position, the Democratic senators were saying why don't you send the papers over. Some of our members were saying it before they got slapped back into line,"
          ],
          [
           "trey gowdy",
           "House Republicans had to go to court to get documents in fast and furious. We had to go fight Adam Schiff in court to find out who funded the dossier. So we all know how to get to the court house. Schiff didn't want to go to court. He wants the Senate to call the very witnesses that he didn't have the courage to call himself. And that's not their job."
          ],
          [
           "john albers",
           "I think it's hugely problematic."
          ],
          [
           "stephanie murphy",
           "The race is wide open and Democrats have an opportunity to elect a proven leader."
          ],
          [
           "raul grijalva",
           "I have not wanted to chase things down a rabbit hole and just create issues to create issues, but there comes a fundamental time where this committee has to establish itself as a co-equal,"
          ],
          [
           "elizabeth warren",
           "had absolutely nothing to do with everything else you saw on TV during the debate."
          ],
          [
           "chris murphy",
           "18-year-old soldiers who are expert at firing rifles but not ready or capable of rebuilding communities and societies,"
          ],
          [
           "mike thompson",
           "Everyone should have access to affordable healthcare."
          ],
          [
           "lamar alexander",
           "The dark-money groups and the lobbying blitz on this issue, to us, proves how lucrative the exploitation of this problem can be."
          ],
          [
           "shelley moore capito",
           "We're getting calls from people who are frustrated they can't or their loved ones can't get a test -- so we're trying to sort of impress on the administration how important that is and how we need to make that more robust in the state,"
          ],
          [
           "elizabeth warren",
           "We should stop asking our military to solve problems that cannot be solved militarily."
          ],
          [
           "pete buttigieg",
           "taking money from big donors and changing his positions."
          ],
          [
           "gavin newsom",
           "Special Education in the state of California is in a crisis,"
          ],
          [
           "colin allred",
           "When you spend that kind of money, you will get that level of coverage in the Super Tuesday states,"
          ],
          [
           "lindsey graham",
           "Clinton handled it pretty well,"
          ],
          [
           "mike bonin",
           "Money is definitely not the object here,"
          ],
          [
           "jeff merkley",
           "What we are looking at is a complete implosion of the economy. That ripples through small businesses. They are saying their orders have collapsed. We are going to need a lot more help for families and small businesses."
          ],
          [
           "andrew cuomo",
           "New York has been very aggressive on testing from day one - so far we have tested more than 220,000 New Yorkers with more than 15,000 new tests every day - and it has helped us slow the spread of this virus,"
          ],
          [
           "mike la rosa",
           "We see bigger problems, unfortunately, that arise from domestic violence issues,"
          ],
          [
           "deb fischer",
           "An investigation is underway and the best thing Nebraskans can do right now is continue to report any drone sightings to law enforcement. I will continue to share information with the public as it becomes available."
          ],
          [
           "lyndall fraker",
           "the realities of preparing medical marijuana"
          ],
          [
           "joe biden",
           "there will be a group that is in excess of six or seven people that I look at."
          ],
          [
           "jerry stevenson",
           "I'm not preaching one,"
          ],
          [
           "yuh-line niou",
           "When you think about a CDFI Fund, even just the name is so wonky, it's not like people are going to put it on their literature to get elected,"
          ],
          [
           "seth grove",
           "at some point, the General Assembly needs to do a better job of digging into contracts."
          ],
          [
           "janet mills",
           "The men and women who ply our waters harvesting lobster, groundfish, herring, shellfish, countless other species, and farming aquacultured products are the very backbone of our rural coastal economy."
          ],
          [
           "lindsey graham",
           "The only option is to stop the trial and go to court or have the Senate decide the privilege,"
          ],
          [
           "michael bennet",
           "does not make up for the enormous pain and instability caused by three years of reckless trade policy from this administration,"
          ],
          [
           "john yudichak",
           "Between Hazleton and Wilkes-Barre there are companies, under Gov. Wolf's order allowing essential businesses to continue operations that employ well over 20,000 workers in our regional industrial parks."
          ],
          [
           "regina barrow",
           "temporarily disabled due to pregnancy, childbirth or related medical conditions in the workplace."
          ],
          [
           "greg gianforte",
           "restore the constitutional power structures,"
          ],
          [
           "deidre henderson",
           "The people that I have spoken with long to feel part of society,"
          ],
          [
           "andy barr",
           "I look forward to a robust discussion with Members of the Energy and Commerce Committee and equine industry experts on how to ensure the integrity and safety of the sport. As the Representative of the Horse Capital of the World, I will continue to fight for the future of horseracing and build on this momentum to bring this vital legislation to the House floor for a vote."
          ],
          [
           "raul grijalva",
           "The service, however, should not include speculation about proposed actions in the future."
          ],
          [
           "das williams",
           "Those are actually diametrically opposite."
          ],
          [
           "chuck schumer",
           "as has been clear to every senator and the country: We believe witnesses and documents are extremely important and a compelling case has been made for them. We will have votes on all of those."
          ],
          [
           "val demings",
           "The reason why we're here is because the president of the United States... used the power of his office to try to shake down a foreign power to interfere in this year's election."
          ],
          [
           "ryan sitton",
           "Everybody's been an influence,"
          ],
          [
           "mike pompeo",
           "what they were referring to as the `big attack, '"
          ],
          [
           "tony evers",
           "exercising their constitutional right to vote and being safe, secure, and healthy."
          ],
          [
           "andrew cohen",
           "The vast majority of non-citizens, the vast majority of immigrants, should keep their benefits,"
          ],
          [
           "charles schumer",
           "When these articles come over, the focus will be on four Republican senators,"
          ],
          [
           "chris sununu",
           "Again, we think we are going to be OK but we are always pushing and hopefully keep getting more equipment in prior to the surge,"
          ],
          [
           "nikki haley",
           "But, we shouldn't be ashamed of capitalism-it's another word for freedom. And, it springs from America's most cherished ideals."
          ],
          [
           "antonio villaraigosa",
           "When I started out, I was the fire-breathing dragon that Republicans hated,"
          ],
          [
           "gov. eric holcomb",
           "These are acute, serious shortages across the board."
          ],
          [
           "jeff sessions",
           "They can't take federal money and push a church theology but they can feed the poor with it."
          ],
          [
           "adrienne benavidez",
           "Representative Melton and I did more research and realized that that made sense,"
          ],
          [
           "leslie herod",
           "After 12 hours of emotional debate, the Colorado House of Representatives made history and PASSED the repeal of the death penalty on 2nd reading."
          ],
          [
           "justin amash",
           "They view that as the kind of thing that will distinguish them in their more Republican district,"
          ],
          [
           "tate reeves",
           "This is a historic, unprecedented flood. With projections showing the potential of this being the 3rd worst flood in our state's history, I've declared a state of emergency to deploy the necessary resources to take care of all Mississippians impacted,"
          ],
          [
           "nikki haley",
           "very kind and peaceful, that is all accepting."
          ],
          [
           "meg whitman",
           "We want to take a phone, a device that was not actually designed to watch video on, and make it into a great watching device,"
          ],
          [
           "ron wyden",
           "History will not look kindly on those who resisted getting the evidence."
          ],
          [
           "alex azar",
           "These are hypotheticals at this point. We are faithfully administering the ACA now,"
          ],
          [
           "zalmay khalilzad",
           "It is a terrible war... and it needs to be brought to an end,"
          ],
          [
           "eric garcetti",
           "Maybe it's for an Easter egg hunt, maybe it's after church services to sit and have a picnic, but this isn't a normal year, and so I'm announcing that on Sunday our parks will be closed."
          ],
          [
           "governor charlie baker",
           "For the most part people are doing a good job"
          ],
          [
           "anthony sabatini",
           "I challenge anyone to find a specific and valid factual argument to support it -- none exists."
          ],
          [
           "nancy pelosi",
           "critical positions in charge of managing pandemics at the National Security Council and the Department of Homeland Security vacant."
          ],
          [
           "joe simitian",
           "We follow all of the returning travelers. We reiterate the message when they get off the plane -- which is to look out for symptoms and stay home for 14 days."
          ],
          [
           "carla nelson",
           "We did the right thing by making sure every Minnesotan can get insulin and if they can't afford it, it's going to be provided for them,"
          ],
          [
           "pete stauber",
           "This legislation will help save lives, support families and those in need, keep workers in their jobs, preserve our small businesses, and ensure healthcare workers on the front lines of this crisis have the resources necessary to quickly and safely treat patients,"
          ],
          [
           "mike enzi",
           "After information from more than a dozen witnesses, over a hundred questions and days of oral arguments, I believe the House failed to prove its case for the two articles of impeachment,"
          ],
          [
           "ted cruz",
           "Was Mr. Haney's testimony that the Department of Homeland Security order over 800 documents... altered or deleted accurate?"
          ],
          [
           "mike pompeo",
           "We are preparing for the signing (of the agreement) to take place on February 29,"
          ],
          [
           "ben sasse",
           "Trusted tech comes from trusted suppliers, and Huawei can't be trusted. Huawei is the Chinese Communist Party's puppet,"
          ],
          [
           "elizabeth warren",
           "providing medically necessary care, like transition-related surgeries, while incarcerated"
          ],
          [
           "mike pompeo",
           "It's a very successful undertaking that has significant military and diplomatic components to it,"
          ],
          [
           "zoe lofgren",
           "the president is unrepentant and we fear he will do it again."
          ],
          [
           "tina tchen",
           "all survivors of harassment, abuse, and assault at work."
          ],
          [
           "rob bradley",
           "They opined on the constitutional matter, they did not opine on the validity of the state law. We passed a state law dealing with the death penalty. It requires unanimous jury votes to put someone to death."
          ],
          [
           "sean hornbuckle",
           "We still have a way to go because this state has a lot of that vulnerable population. We have to give them a hand up to get them going."
          ],
          [
           "martha mcsally",
           "you're a liberal hack."
          ],
          [
           "elijah cummings",
           "Baltimore's future does not rest on the outcomes of the trials surrounding Mr. Freddie Gray's death... Baltimore's future rests on every one of us."
          ],
          [
           "pete buttigieg",
           "How are we going to deliver a revolution if you won't even support a rule change?"
          ],
          [
           "elizabeth warren",
           "on the same day that a billionaire bought his way onto the debate stage."
          ],
          [
           "scott plakon",
           "This bill makes it that if you decide to commit evil like this upon our children, that you better be looking over your shoulder for the rest of your life,"
          ],
          [
           "amy klobuchar",
           "I believe if I am our candidate for president we're going to be able to win big and win in these Senate districts in Arizona and in Colorado and make a change."
          ],
          [
           "ned lamont",
           "is still examining the path forward"
          ],
          [
           "melissa brown",
           "They are the people that continue to give me hope."
          ],
          [
           "joe biden",
           "So, I think a lot is happening in terms of the amount of money being spent by the billionaires to try to cut into the African American vote. I think that has a lot to do with it."
          ],
          [
           "jeff landry",
           "Every ounce of our resources are being directed toward this response."
          ],
          [
           "james comey",
           "President Obama is a very smart man who understands the law very well,"
          ],
          [
           "bert stedman",
           "we have to give the gov the opportunity to lay out his plan full circle."
          ],
          [
           "steven mnuchin",
           "We seek to finance the government at the least possible cost to taxpayers over time and we will continue to evaluate other potential products,"
          ],
          [
           "pete buttigieg",
           "the work we have done facing some of the toughest issues"
          ],
          [
           "ron desantis",
           "Clearly, if there is a documented case, then that would be something that is going to be disseminated,"
          ],
          [
           "ben bernanke",
           "Both QE and forward guidance should be part of the standard toolkit going forward."
          ],
          [
           "hal rogers",
           "Our rugged off-road trails are attracting more and more people to Eastern Kentucky, and this grant will help the Rush Off-Road park entice visitors to stay a little longer, by adding the infrastructure to support new cabins, campsites and other facilities,"
          ],
          [
           "paul gosar",
           "support biased, anti-American, pro-BDS faculty and research."
          ],
          [
           "darin lahood",
           "Far too long, we don't put the resources forth to prosecute those cases, that's one way to help gun violence is going after the people that shouldn't have weapon,"
          ],
          [
           "andrew cuomo",
           "bureaucracy get in the way of fighting this virus. Break the logjam, let states fully take over testing so they can unleash hundreds of labs tomorrow and bring testing to scale. It is the only way we will have a chance of keeping up with the rapid spread of this contagion."
          ],
          [
           "tom cotton",
           "I have legislation that would modify the Foreign Sovereign Immunities Act [ of 1976 ] to do just that."
          ],
          [
           "rob portman",
           "So people should go to their banks to get that started."
          ],
          [
           "gilberto hinojosa",
           "If it is someone that is deeply unpopular, all bets are off."
          ],
          [
           "lamar alexander",
           "it was inappropriate for the president to ask a foreign leader to investigate his political opponent."
          ],
          [
           "brett kavanaugh",
           "rooted in grotesque religious bigotry against Catholics."
          ],
          [
           "elizabeth warren",
           "He believes that the government is just one more thing to exploit, a toll to enrich himself and his rich buddies at everyone else's expense. I believe the government should work for everyone."
          ],
          [
           "ayanna pressley",
           "We need a system that centers shared power, freedom, equality, safety & dignity."
          ],
          [
           "pete buttigieg",
           "Let us honor the legacy of her life by confronting the reasons her life was cut short."
          ],
          [
           "marco rubio",
           "If I was just indicted for drug trafficking by the United States, with a 15 million dollar reward for my capture, having the US Navy conducting anti-drug operations off my coast would be something I would worry about."
          ],
          [
           "dick cheney",
           "I will not be running for the Senate in 2020. I plan to seek re-election to the House of Representatives,"
          ],
          [
           "joe biden",
           "It can give you the strength to save lives in a crash landing -- or even run for President."
          ],
          [
           "adam schiff",
           "not paid a price,"
          ],
          [
           "mike pompeo",
           "Their failure has harmed U.S.-Afghan relations and, sadly, dishonors those Afghan, American and coalition partners who have sacrificed their lives and treasure in the struggle to build a new future for this country,"
          ],
          [
           "mike pence",
           "could have been so wrong."
          ],
          [
           "phil murphy",
           "This will allow the administration and the Legislature to focus fully on leading New Jersey out of this crisis, and to allow for a robust, comprehensive, and well-informed budget process later in the year,"
          ],
          [
           "frederica wilson",
           "Protecting people with pre-existing conditions is something we can all agree on. At tonight's #SOTU, I want to hear how we can work together to improve the #StateOfHealthCare #ForThePeople,"
          ],
          [
           "alex azar",
           "17 are travel-related and 26 are believed to be person-to-person spread,"
          ],
          [
           "chuck schumer",
           "Roger Stone should get the full amount of time the prosecutors recommended and we're going to do some oversight of that."
          ],
          [
           "mike pompeo",
           "I'm not going to get into personnel matters inside the State Department. I've not done it and I'm not going to do it for you here this morning,"
          ],
          [
           "j.b. pritzker",
           "It is fair to say that most of the models I've seen... show that we'll be peaking sometime in April,"
          ],
          [
           "jesse salomon",
           "But there's still more work to be done to protect salmon habitats and our orca population. As existing bulkheads and seawalls need to be repaired or replaced, property owners should be asked to consider alternatives that may accomplish the same goals but are less disruptive to the environment."
          ],
          [
           "henry kissinger",
           "any government that shelters groups capable of this kind of attack."
          ],
          [
           "tony evers",
           "The state appreciates any donations, but we are also prepared to pay a fair market value for large quantities of this equipment that are offered."
          ],
          [
           "donna lupardo",
           "Those are some of the things we're going to be talking about when we get back to Albany tomorrow,"
          ],
          [
           "roy blunt",
           "What a great ballplayer,"
          ],
          [
           "tim leslie",
           "As I have lived through this, I've learned it's been much more freeing for people to have some control back. They want to exercise this right."
          ],
          [
           "tulsi gabbard",
           "If Gov. Ige refuses to fire them then he should resign. Our lives and the lives of our loved ones are at stake."
          ],
          [
           "janet yellen",
           "If not, they'll have a buffer that will be needed to support the credit needs of the economy."
          ],
          [
           "nita lowey",
           "We're concerned that self-employed workers, including the so-called gig economy workers who are frequently misclassified as independent contractors rather than employees, are excluded from coverage under OSHA and have few legal protections,"
          ],
          [
           "john roberts",
           "I'm getting wheezy with this back and forth,"
          ],
          [
           "susan king",
           "It goes back to the doctors and nurses getting these meals. It's a bright spot in their day. I think for those giving the meals, it's a way to do something positive during a challenging time."
          ],
          [
           "joy hofmeister",
           "We will not have assessments statewide, even if we don't have news back from that waiver,"
          ],
          [
           "monica bristow",
           "Many folks aren't able to always make it to our offices in other parts of the district. These events allow another opportunity for us to meet with residents, and I look forward to discussing the ways that our office can assist them."
          ],
          [
           "john roberts",
           "ought not to have been used."
          ],
          [
           "bernie sanders",
           "Let me thank Molly Burch. Let me thank the Black Angels."
          ],
          [
           "amy klobuchar",
           "We don't see voting as a partisan issue,"
          ],
          [
           "elizabeth warren",
           "do you think he's a terrorist,"
          ],
          [
           "jay gonzalez",
           "tax revenues [ were ] falling off a cliff,"
          ],
          [
           "alexandria ocasio-cortez",
           "To all the people that said `there's no evidence racial disparities in COVID impact exist.' I represent the most impacted neighborhoods in the country: Corona & East Elmherst,"
          ],
          [
           "robert bell",
           "We immediately passed on the RBA's rate cut in full to our home loans customers,"
          ],
          [
           "kirk caldwell",
           "Everyone should wear a mask -- everyone,"
          ],
          [
           "joe biden",
           "You know, we voted in the middle of a civil war, we voted in the middle of World War I and II."
          ],
          [
           "ted cruz",
           "Here's a particular logical construct that the House managers used to be deceptive. They used this several times, and it's a logical construct of `X, not Y, '"
          ],
          [
           "andrew cuomo",
           "We need the federal government to play its own role."
          ],
          [
           "robin hayes",
           "No one believed that a start-up airline in 2000 could survive 20 months, much less 20 years,"
          ],
          [
           "jon bramnick",
           "I think he's now starting to move and realize how serious this threat is, because if you think about it, towns were shutting down bars, towns were closing schools, and only now has the state actually said the same thing."
          ],
          [
           "michael adams",
           "I am, and I know Phil and the family are so grateful to Kenny."
          ],
          [
           "jose oliva",
           "I'm open to the idea of something passing that does not become an over-burden for businesses and helps to accomplish what I think the governor would like to accomplish,"
          ],
          [
           "mike pompeo",
           "According to the Centers for Disease Control and Prevention, three out of four new or emerging infectious diseases in people come from animals, including several recent viral outbreaks,"
          ],
          [
           "pam bondi",
           "Of course, they're going to try again,"
          ],
          [
           "bill de blasio",
           "It's very sad that we have to remind the Board of Correction that their mandate, per the city's Charter, is to advocate for the welfare of everyone in the Correction Department, not just the inmates,"
          ],
          [
           "josh hawley",
           "If we get discriminated against, if you get suppressed on Twitter or Facebook, if Don gets suppressed on Twitter or Facebook or any of us, we ought to be able to sue them... Those are rights we should expect to have."
          ],
          [
           "tony evers",
           "I believe that we'll be able to avoid that,"
          ],
          [
           "steny hoyer",
           "It would not be a saleable argument to say the economy's not doing well. It has been doing well, it continues to do relatively well,"
          ],
          [
           "jovita carranza",
           "We urge Congress to appropriate additional funds for the Paycheck Protection Program -- a critical and overwhelmingly bipartisan program -- at which point we will once again be able to process loan applications, issue loan numbers, and protect millions more paychecks,"
          ],
          [
           "kellyanne conway",
           "Why doesn't Vice President Biden call the White House today and call the White House today and offer some support?"
          ],
          [
           "josh green",
           "I think it will improve efficiency and getting a better count,"
          ],
          [
           "elizabeth warren",
           "I don't think that's best for the economy,"
          ],
          [
           "tim fox",
           "Our office joined a bipartisan coalition of about 45 attorneys general in filing an amicus brief in the US Supreme Court in support of an Arkansas law that regulates pharmacy benefit managers (PBMs),"
          ],
          [
           "nancy pelosi",
           "Why do think your political survival is more important than the survival of our children? Give us a vote."
          ],
          [
           "nancy pelosi",
           "this is a man who is highly regarded among his colleagues,"
          ],
          [
           "brenda lawrence",
           "Secondly, the unfortunate statement that the stockpile of equipment did not belong to states. What is America but the United States of America? And so yes, that stockpile-because the federal government does not have its own population. Where is the greatest need? And we have seen our governors, thank God for them. They have gone to their own resources; they have made connections in China state by state to bring in resources."
          ],
          [
           "pat mcgeehan",
           "So war has really been the status quo, where the founders really thought peace would be the status quo."
          ],
          [
           "jay inslee",
           "There is a lot of sleepless nights and anxiety about whether we are going to make it through."
          ],
          [
           "jerome powell",
           "The real question for the Fed is: what is the likely effect for the U.S. economy? We will begin to see that in economic data fairly soon and it is too uncertain to even speculate about what the level of that will be and whether it will be persistent or whether it will lead to a material change in the outlook. But we do expect there will be some effects. Effects should be substantial in China. Important but maybe less substantial for their trading partners and we'll be looking at the economic data."
          ],
          [
           "charles schumer",
           "President Trump didn't learn any `lessons' when you excused his abuse of power,"
          ],
          [
           "greg abbott",
           "postpone all surgeries and procedures that are not immediately medically necessary to correct a serious medical condition of, or to preserve the life of, a patient."
          ],
          [
           "bernie sanders",
           "Will you acknowledge your campaign is taking those things out of context?"
          ],
          [
           "mitch mcconnell",
           "get around to the discussion of witnesses."
          ],
          [
           "chuck grassley",
           "There shouldn't be retaliation against (Vindman),"
          ],
          [
           "jessie danielson",
           "It's about our friend and our colleague and I'm not going to ignore that."
          ],
          [
           "andrew a. serafini",
           "It basically amends the sales tax law to say that if you buy a digital version of a book online, you've got to pay the sales tax just as if you went into a bookstore and bought a hardcover book. Same thing with music, same thing with streaming,"
          ],
          [
           "bernie sanders",
           "Yesterday's playbook is no longer relevant to tomorrow."
          ],
          [
           "jim kenney",
           "This is a situation that has no playbook,"
          ],
          [
           "robert johnson",
           "Financial firms want to send the message that they embrace the narrative of broader stakeholder considerations, beyond shareholder wealth maximization,"
          ],
          [
           "nikki haley",
           "My parents made us go to different churches-Methodist, Baptist, Catholic. My mom would say,' I want you to respect everyone and how they do their prayers but understand there is one God but everyone has their own pathway. As long as you have your relationship with God, you'll be okay.' They wanted us to respect other religions and see the other relationships that people had with God,"
          ],
          [
           "nancy pelosi",
           "Many of them will tell you they had a strong mom, they have strong sisters, they have strong daughters. But they have their own... insecurities."
          ],
          [
           "katie porter",
           "The OC Women's March demonstrates the power that comes from collective action,"
          ],
          [
           "bernie sanders",
           "not saying anything about what Joe might do in the future."
          ],
          [
           "rick scott",
           "The Democrats used the impeachment process as a tool to hurt President Trump, regardless of the outcome of the Senate trial. It's a dangerous precedent and the process has to change,"
          ],
          [
           "kim wyman",
           "Holding the presidential primary earlier in the year is a boon for Washington as it gives our voters a greater voice in the nomination process for U.S. President,"
          ],
          [
           "josh harder",
           "I think we've delivered as much as we can on those issues in the first year in office, and we have to continue that record over the next nine months and I think that's what it's going to come down to."
          ],
          [
           "ron desantis",
           "significant changes in estimates of future state obligations... January estimates not available when the Governor and Executive Branch Agencies submitted funding requests and recommendations in the fall of 2019."
          ],
          [
           "steven mnuchin",
           "We recognize that a number of IMF members support a general Special Drawing Right (SDR) allocation to the membership,"
          ],
          [
           "john roberts",
           "The respondents struggled to answer that and express a distinction,"
          ],
          [
           "mike duggan",
           "The City of Detroit has a crisis; thousands of children living in the City suffer elevated blood lead levels as a result of living in properties with lead hazards,"
          ],
          [
           "jenna bush hager",
           "He always tried to make it clear that beauty was on the inside and that to him, Barbara and I were beautiful,"
          ],
          [
           "mj hegar",
           "I believe in a public option because the best care that I've ever received was when I was on Tricare. And that was basically military Medicare,"
          ],
          [
           "ron desantis",
           "Our available beds are in good shape,"
          ],
          [
           "sonia sotomayor",
           "The Government seeks emergency relief from this Court, asking it to grant a stay where two lower courts have not. The Government insists -- even though review in a court of appeals is imminent -- that it will suffer irreparable harm if this Court does not grant a stay. And the Court yields."
          ],
          [
           "mike pence",
           "As the testing is expanding, we wanted to make sure the American people knew that testing was available to them and that cost would not be a barrier,"
          ],
          [
           "bill de blasio",
           "every building we can... to become essentially annexes to hospitals."
          ],
          [
           "michelle lujan grisham",
           "To put it simply, Ken Sanchez made Albuquerque a better place,"
          ],
          [
           "william mccurdy",
           "This is our big moment. We're Battle Born. We're battle tested and we're looking forward to battling it out once we have our nominee into the general,"
          ],
          [
           "james comey",
           "authenticity, honesty and relentless, reasoned optimism,"
          ],
          [
           "steve scalise",
           "This world is a safer place with Soleimani gone."
          ],
          [
           "steve hurst",
           "This will help with the Governor's program (to expand the workforce),"
          ],
          [
           "barack obama",
           "world was working for me."
          ],
          [
           "lisa murkowski",
           "It's kind of like the House made a decision that they didn't want to slow things down by having to go through the courts,"
          ],
          [
           "joe biden",
           "We welcome all those who want to join us... and we need that movement to beat Donald Trump, and to build a future we all know is possible,"
          ],
          [
           "tommy battle",
           "huntsville has a really nice base of people who are experienced with rocket engines. It's the rocket city and we were able to find really great employees here"
          ],
          [
           "john roberts",
           "In the Amarillo area we haven't seen really any reduction in work. In fact, several of our contractor's that we partner with are looking at their biggest year yet,"
          ],
          [
           "london breed",
           "We have some of the best healthcare experts in the world right here in San Francisco,"
          ],
          [
           "joe biden",
           "No one else stops."
          ],
          [
           "mitch mcconnell",
           "If you look at the House product, you've really got to wonder what the definition of a fair trial is,"
          ],
          [
           "terry mcmillan",
           "That kind of thing was taboo back then,"
          ],
          [
           "sylvia allen",
           "Because the bill has been tagged wrongly as an anti-gay bill and it is not so, now that 1082 has been tagged with that label, it's no longer going to be effective."
          ],
          [
           "president obama",
           "You can do what you like in the region as long as you give up, or at least defer for a while, your nuclear ambitions."
          ],
          [
           "lindsey graham",
           "If we seek witnesses, then we'll throw the country into chaos."
          ],
          [
           "elizabeth warren",
           "I have a responsibility. If we have a real trial going on, that's my job."
          ],
          [
           "zalmay khalilzad",
           "This will allow time for necessary consultations so that the best interests of Afghanistan and its people are reflected and preserved by the new government,"
          ],
          [
           "lisa murkowski",
           "Bringing clean burning Alaska LNG to markets across the world would be a huge win for Alaska but also for our country,"
          ],
          [
           "jimmy patronis",
           "Florida's law enforcement personnel work and live in our communities as they work every day to keep our families safe. It's absurd that some want to hide their presence and punish these brave men and women,"
          ],
          [
           "linda upmeyer",
           "he's been elected to leadership positions (all the) way along, and no single-issue individual can accomplish that,"
          ],
          [
           "larry krasner",
           "It's obvious that a lot of black women prosecutors are facing racism and sexism,"
          ],
          [
           "martin j. walsh",
           "We will not be ticketing or towing for street cleaning purposes,"
          ],
          [
           "victor b. hocog",
           "drastic and unprecedented decisions made by the governor."
          ],
          [
           "ed henry",
           "We're a united country and we all got to step up to do our part,"
          ],
          [
           "bernie sanders",
           "I don't know how much my health care plan's gon na cost and I don't know..."
          ],
          [
           "mike pompeo",
           "Instead of focusing on the needs of the Iranian people and accepting genuine offers of support, senior Iranians lied about the Wuhan virus outbreak for weeks."
          ],
          [
           "barack obama",
           "You're now becoming a woman"
          ],
          [
           "bobby kaufmann",
           "So I think if you're someone with a low income, you're going to see a net gain from her bill, but I haven't seen it yet, so I'm not endorsing it."
          ],
          [
           "mike dewine",
           "This is an action that we needed to take."
          ],
          [
           "dick durbin",
           "Religious minorities and communities of color are at grave risk from the growing domestic terrorism threat facing the United States today,"
          ],
          [
           "will rogers",
           "you reach a point when you stop lying about your age and start bragging about it."
          ],
          [
           "phil palmesano",
           "We can promote fairness in our criminal justice system without totally compromising public safety."
          ],
          [
           "larry crouse",
           "I told her that we'll take things as they come. We have a plan for it. Hopefully things change in a positive direction. It's easier to postpone and delay things than to cancel it and then try to pick it back up."
          ],
          [
           "pete buttigieg",
           "a kind of disorientation and the loss of community and identity."
          ],
          [
           "frank pallone",
           "slick product designs, glossy advertisements and sweet flavors to appeal to kids,"
          ],
          [
           "dianne feinstein",
           "Providing these funds to Iran would help it respond more effectively to the disease and mitigate the risk of further destabilization in the region."
          ],
          [
           "mike kelley",
           "We've gone from something that gave us a green light or red light for bypasses, to one that gives us not only bypasses, but information and data on our performance and how weigh station bypass benefits our company."
          ],
          [
           "gavin newsom",
           "This is not the time to bicker. I don't care who's up and down, whose polls are looking better than someone else's or who wants to run for president or who doesn't. When it comes to times of crisis, we need to [ rise ] above the partisanship and I've extended always an open hand, not a closed fist, in those circumstances. And this is no different,"
          ],
          [
           "will hurd",
           "Or appease the Iranian government?"
          ],
          [
           "elizabeth warren",
           "Donald Trump has run the most corrupt administration in history,"
          ],
          [
           "joe schmick",
           "consider compensation for the most affected victims of the opioid epidemic, especially families that have specifically lost a loved one to an opiate overdose or whose lives have been devastated by the effects of opioids."
          ],
          [
           "lincoln hough",
           "The only way you make that into a more Democratic district is going up to Kansas City. Which you know, some of these fictitious maps that have kind of bounced around show those types of districts. And I just believe that if something like that were to have actually happened or were to happen, the voters would say, `Wait a minute, this is not what we bargained for -- let's fix this."
          ],
          [
           "rob sherman",
           "The means to ensure a democratic representation and stakeholder input cannot be that difficult but the current position where the interests in the `good of the game' can and are hijacked by an individual who represents a small constituency, simply oppresses the game and doesn't work!"
          ],
          [
           "tom osborne",
           "This shows that while Malaysian professionals may be attracted by higher pay, benefits that ease work-life balance and difficulties like travel to work or aid in upskilling would be key in retaining them over pay."
          ],
          [
           "brian kemp",
           "When you look at the big picture, it's clear,"
          ],
          [
           "anthony brindisi",
           "These important funds will help some of the most vulnerable members of our community, many of whom are Veterans, get back on their feet,"
          ],
          [
           "bernie sanders",
           "A man goes home & masturbates his typical fantasy. A woman on her knees, a woman tied up, a woman abused"
          ],
          [
           "tony evers",
           "It is deeply disturbing to find out that many lower risk businesses have been shuttered while you have given Wisconsin's abortion clinics special dispensation to remain in operation,"
          ],
          [
           "richard burr",
           "Thankfully, as we approach the 2020 presidential election, we are in a better position to identify foreign interference efforts and address vulnerabilities Russia and other hostile foreign actors may seek to exploit,"
          ],
          [
           "andy biggs",
           "Down in Yuma... where they have replaced the... fencing that the Obama administration had, it has slowed down the trafficking whenever they put up the 30-foot bollard fencing,"
          ],
          [
           "will barclay",
           "We also have millions of people leaving New York State, we have a $6-billion shortfall. So we have huge issues facing New York."
          ],
          [
           "ed fallon",
           "I'm going to vote for you in the general if you treat me right."
          ],
          [
           "ted yoho",
           "I'm encouraged to see broad congressional support for holding #China Daily accountable for violating FARA regulations as a foreign agent."
          ],
          [
           "kevin brady",
           "No one will agree with every part of this rescue bill. We face a challenge rarely seen in America's history. We must act now, or the toll on lives and livelihoods will be far greater,"
          ],
          [
           "mitch mcconnell",
           "And the Founders didn't want the House to constantly be doing an impeachment resolution because they had a policy difference or didn't like somebody. And I think it's pretty clear the House Democrats just don't like the president,"
          ],
          [
           "greg abbott",
           "We are working closely with the state and the health department to try to keep everything semi-formal,"
          ],
          [
           "george w. bush",
           "The difficulty of the task is no excuse for avoiding it,"
          ],
          [
           "mitch mcconnell",
           "more evidence through proper legal channels."
          ],
          [
           "bill barrett",
           "This cold weather, it's just a day or two, today and tomorrow,"
          ],
          [
           "ron desantis",
           "want to be involved with what's going on with their kids,"
          ],
          [
           "louis molepske",
           "Like in a movie theater you don't cry fire, for obvious the reasons. Panic, right? And in school you don't talk about shooting someone or bringing explosives to a school,"
          ],
          [
           "alexandria ocasio-cortez",
           "got private briefings about coronavirus weeks ago,"
          ],
          [
           "jb pritzker",
           "From the beginning, I've been pressing the White House for rapid test deployment nationwide."
          ],
          [
           "kathryn barger",
           "The coronavirus pandemic has impacted residents and businesses throughout Los Angeles County,"
          ],
          [
           "jeff kaufmann",
           "this is the beginning of the general election."
          ],
          [
           "joe biden",
           "We cannot just re-elect -- win this re-election,"
          ],
          [
           "david plouffe",
           "I don't know how materially it changes the race, but I do think those that did well in Iowa aren't going to get the full measure, the momentum bounce, and Iowa's much more about momentum than delegates. And those that did poorly are not going to pay the price."
          ],
          [
           "gavin newsom",
           "that the richest state in the richest nation -- succeeding across so many sectors -- is falling so far behind to properly house, heal, and humanely treat so many of its own people."
          ],
          [
           "steve bannon",
           "Bernie vs the anti-Bernie movement"
          ],
          [
           "governor john bel edwards",
           "We are hopeful we're starting to see the beginning of flattening the curve,"
          ],
          [
           "elizabeth warren",
           "Trump administration is bungling every aspect of this crisis,"
          ],
          [
           "stacey abrams",
           "Eight years of hard, important work whose progress may now be rolled back with Brian Kemp's dangerous budget cuts,"
          ],
          [
           "president obama",
           "If we're going to get rid of it, let's replace it with the Trump deal and I think that would be a great way forward."
          ],
          [
           "john george",
           "coming back for the outdoor lacrosse league's 2020 season"
          ],
          [
           "percy bland",
           "These cameras around time have been a very big help. They've helped solve some crimes already. We also have LED lighting in 70 to 80 percent of the city of Meridian. We are going to continue with that in areas that are blighted and don't have light. We are going to do what we can to use technology and get more officers on the streets,"
          ],
          [
           "john faber",
           "They looked at the Morganthaler and Dorn land and put a plan together,"
          ],
          [
           "bill schickel",
           "Changes to the face of our community but also changed attitudes, changed perceptions about what Mason City is and what it can be."
          ],
          [
           "john rubin",
           "Last night he asked me, he said, `when you gon na come, come get me,' I told him `when everybody stops getting sick or they stop going to heaven, '"
          ],
          [
           "mike parson",
           "We are working every day to make sure that happens."
          ],
          [
           "patrick testin",
           "A lot? A few?"
          ],
          [
           "diane douglas",
           "It's so far beyond Common Core,"
          ],
          [
           "doug burgum",
           "We're the proving ground for UAS (unmanned aircraft systems) in the country, and then we don't have the CTE programs in Grand Forks for students that want to go in that, so that's a big gap,"
          ],
          [
           "glenn mccullough",
           "Ajinomoto Foods aggressive expansion in Oakland speaks volumes about the quality trained, dedicated people in Yalobusha County who give the company a workforce advantage to achieve their goals in our great state,"
          ],
          [
           "bernie sanders",
           "What I expect will most definitely happen is that Mr. Buttigieg and I will end up with the same amount of delegates -- 11 now, each probably a little bit more,"
          ],
          [
           "james clyburn",
           "If you look at how well we did the last time, and look at the congressional districts, these were not liberal or what you might call progressive districts. These were basically moderate and conservative districts that we did well in,"
          ],
          [
           "eliot engel",
           "Lieutenant Colonel Vindman honored his oath and did his duty when he came forward about President Trump's abuse of power. He deserves the thanks and respect of the American people. But we know that this president believes the only loyalty that matters is loyalty to him personally, so today he had Colonel Vindman escorted out of the White House.... Any senator who voted to keep Trump in office thinking he has learned his lesson must answer for this and for whatever parade of abuses we see in the future."
          ],
          [
           "joe biden",
           "Hatred and bigotry have no place in America -- and it's up to all of us to root out these evils wherever they're found."
          ],
          [
           "william p. barr",
           "I thought the prosecution was based on a fallacious theory that would have bad long-term consequences. And so I freely weighed in at the department, and I did so because I care about the rule of law,"
          ],
          [
           "bernie sanders",
           "our last recourse in international relations."
          ],
          [
           "bernie sanders",
           "Go to YouTube today. There's a video of me 30 years ago talking about how a woman could become president of the United States,"
          ],
          [
           "carl demaio",
           "Now, that has a public health, an environmental and an economic consequence."
          ],
          [
           "rick hill",
           "Oh yes, it should have been thousands."
          ],
          [
           "mitt romney",
           "wanted to get some publicity for himself"
          ],
          [
           "sherrod brown",
           "They took away overtime for about two or three million Americans because of truncating the overtime rule, tax cuts for the rich and now tax cuts for Medicare."
          ],
          [
           "martin j. walsh",
           "He was an icon in our city, who gave us so much through his tireless work in making Boston a more equitable and inclusive place for all,"
          ],
          [
           "bernie sanders",
           "We are going to end these tax breaks for CEOs and use that money to protect 1.7 million workers who are worried about a decent retirement as they face instability in their current pension plans."
          ],
          [
           "scott allen",
           "The resolution was judged as inappropriate by many because it was authored by a white-skinned man and because it recognized some white-skinned individuals. More important than content, however, are the feelings of the African-American caucus and our relationship as legislative colleagues."
          ],
          [
           "kelly ayotte",
           "We � ve made America great again in three short years, � Pence said. � But to keep America great, we need you to decide right here and right now that New Hampshire is going to vote for four more years of President Donald Trump."
          ],
          [
           "brad schneider",
           "The ball is really in the court of the IRS,"
          ],
          [
           "jeffrey dinowitz",
           "I am worried that this decision is premature,"
          ],
          [
           "josé oliva",
           "I'm not sure that exempting certain industries is the right solution or sends the right signal."
          ],
          [
           "mike pompeo",
           "If you pay a contractor to build you a house and the roof falls in, you don't keep paying them, you find a new contractor,"
          ],
          [
           "kristi noem",
           "We have three more positive cases today. The counties are Minnehaha County. That makes two in Minnehaha county. One from Bon Homme. 27 negative, 8 positives. 80 percent of those who get the virus will have no symptoms."
          ],
          [
           "robert lighthizer",
           "the new gold standard against which all future trade agreements will be judged."
          ],
          [
           "bill de blasio",
           "I will be asking the federal government today for test kits to allow for 110,000 individualized tests. That will allow us to get started with this community effort and to continue everything else that we are doing, specifically 25,000 of those individualized test kits would be focused on health for their current needs and the new sites I have just described. And we need to get these test kits in this week,"
          ],
          [
           "celina villanueva",
           "It is long past time for ethical, principled, progressive leadership to fight for the working families,"
          ],
          [
           "greg abbott",
           "Texans love to work. Texans are dying to get back to work, and we want them to get back to work, but we had to do so in a very safe way so that we don't regenerate the spread of the coronavirus in the state of Texas. But we are working on strategies as we speak with medical experts, with business leaders to find the right strategy so that we can unleash our economy. Remember this, Sean -- Texas was the number one state in the United States for job creation last year. We're leading in gross domestic product. Texas is essential for the future of the United States of America economically. America needs Texas to get back to business."
          ],
          [
           "kevin brady",
           "While no-one will agree with every part of this rescue bill, we face a challenge rarely seen in America's history. We must act now, or the toll on lives and livelihoods will be far greater,"
          ],
          [
           "gil cedillo",
           "It' s important for us to raise our voice and to say that this is not the new normal, that this is not acceptable and that the Houston Astros were not the champions nor the best team that year,"
          ],
          [
           "jan schakowsky",
           "The result is big tech failed to respond to the threat."
          ],
          [
           "brad winter",
           "It's just hard for me to put in words just the way he was,"
          ],
          [
           "ron desantis",
           "So, a lot of hospitals are rightfully concerned about ending up with a lot of their key people ending up in self-isolation."
          ],
          [
           "julian castro",
           "with a good president in 2021."
          ],
          [
           "kay bailey hutchison",
           "remain committed to the #NATO training mission in Iraq and the fight against ISIS"
          ],
          [
           "kim wyman",
           "But every state has at least an excuse-based absentee balloting system that could be expanded."
          ],
          [
           "rand paul",
           "I want to be very clear about something. Members of this body used to care about the protection of whistleblower identities. They didn't use to gratuitously attack members of committee staff. But now they do,"
          ],
          [
           "jared polis",
           "would help keep tobacco products out of the hands of kids and put more resources toward schools."
          ],
          [
           "amy klobuchar",
           "He knows the solutions to the problems we don't even know we have,"
          ],
          [
           "ed henry",
           "in some ways, the man who started the impeachment movement"
          ],
          [
           "sherrod brown",
           "My biggest fear here is that McConnell just goes through with this, Republicans all vote on party lines to exonerate the president and the public doesn't believe that it's a legitimate trial,"
          ],
          [
           "pete stauber",
           "William Pittenger was a Republican, and the last time he was elected, re-elected, was 1944,"
          ],
          [
           "rick pate",
           "We'll go out and look and follow up with ALEA,"
          ],
          [
           "stephanie murphy",
           "When I helped lead the Defense Department's response to the avian flu in 2005, we recognized the importance of preparedness, public education, and coordination,"
          ],
          [
           "andy beshear",
           "So wearing a cloth mask in public, when it is more difficult to maintain a safe distance, may help reduce the risk of it spreading,"
          ],
          [
           "debbie ingram",
           "You can view a person in recovery as really having great strengths,"
          ],
          [
           "andrew cuomo",
           "call the shots for the states."
          ],
          [
           "stuart ingle",
           "This will be something that every member of this floor will regret,"
          ],
          [
           "brian kemp",
           "We're going to continue to follow the facts and the science in our decision-making process."
          ],
          [
           "steve simon",
           "everyone, especially those in need the most... at the level they were expecting."
          ],
          [
           "andrew cuomo",
           "This is going to form a new generation, and it will transform who we are and how we think,"
          ],
          [
           "symone sanders",
           "So, I don't accept the basic premise of your argument,"
          ],
          [
           "mike huckabee",
           "But what should start up is a legitimate investigation into not only Hunter Biden, but the origin of the dossier. We should find out about this `whistleblower.' Where did he get his information? Was he biased? Did he do this with some political intent? Was it because of his own personal feelings, or was it because he truly believed that there was something of national security at stake? And that should be a separate investigation not tied whatsoever to the impeachment sham."
          ],
          [
           "jody hice",
           "What I get annoyed at is how that issue is used to attack the president,"
          ],
          [
           "matt gaetz",
           "I know Jack Latvala has to resign in disgrace over demanding sexual favors from lobbyists in exchange for appropriations, so it was likely Chris projecting,"
          ],
          [
           "nancy pelosi",
           "bigoted statements which spread misinformation and blame Asians and the Asian American community"
          ],
          [
           "rick carfagna",
           "I do believe that collegiate athletics should be included, however I would be agreeable to limiting it to NCAA Division I football and basketball initially -- these are the sports of most wagering interest, and that list can always be expanded once it's been properly rolled out."
          ],
          [
           "andrew cuomo",
           "especially when the political process is the process that's supposed to deliver money."
          ],
          [
           "john kerry",
           "He's also the only President in 72 years to lose jobs -- 1.6 million jobs lost. He's the only President to have incomes of families go down for the last three years,"
          ],
          [
           "jerome powell",
           "lead longer-term inflation expectations to drift down."
          ],
          [
           "tom udall",
           "the president was right to sense that this is a popular issue."
          ],
          [
           "susan mcdougal",
           "I'm taking a deep breath, and I'm just doing it one day at a time,"
          ],
          [
           "president george w. bush",
           "Between 1996 and 2001, bin Laden established camps in Afghanistan that trained an estimated 10,000 terrorists."
          ],
          [
           "kathryn barger",
           "Meth use is affecting countless residents throughout Los Angeles County -- impacting every neighborhood and all walks of life,"
          ],
          [
           "gayle harrell",
           "provided the leadership the department needs."
          ],
          [
           "jennifer mccormick",
           "From the beginning, we have said the time to act is now, and that action continues to be necessary as we navigate the fluid situation the COVID-19 pandemic has created,"
          ],
          [
           "josh hawley",
           "If the point was to go on for 13 hours to no apparent purpose... and to alienate the very senators that they're trying to convince, then I'd say it was a raging success on their part,"
          ],
          [
           "bernie sanders",
           "I was a kid and I remember that. It just seemed right and appropriate that poor people were rising up against the ugly rich people."
          ],
          [
           "jay webber",
           "Not only are 75% of our homes and businesses heated with natural gas, but about 50% of our electricity is generated from it. Natural gas also is critical as a raw material for manufacturing."
          ],
          [
           "john f. kennedy",
           "We're not a completely ritualistic, formalistic, hierarchical structure in which the Word, the truth, must only come down from the very top - a structure that allows for no individual interpretation-or are we?"
          ],
          [
           "mike pompeo",
           "Qassem Soleimani has the blood of Americans on his hands, Bret, as does the force that he leads, and America is determined each time we find an organization, institution or an individual that has taken the lives of Americans, it is our responsibility,"
          ],
          [
           "andrew cuomo",
           "You would think nothing was going on. There is a density level that is not appropriate and it has to stop now."
          ],
          [
           "jay inslee",
           "will go farther to protect 7 million Washingtonians."
          ],
          [
           "tom udall",
           "Right now the (Trump) administration is asking more and more of New Mexico, but prioritizing it less and less,"
          ],
          [
           "mike burgess",
           "is already bringing dividends and is likely to grow in importance for us."
          ],
          [
           "tom cotton",
           "One can be smart, learned and experienced but if the secretary doesn't speak for the president, and isn't seen to speak for the president, it's hard to succeed as our nation's top diplomat,"
          ],
          [
           "chuck grassley",
           "It's going to be overwhelmingly approved,"
          ],
          [
           "tim walz",
           "While COVID-19 presents an unprecedented challenge for our state, it is not the only emergency our first responders are preparing for,"
          ],
          [
           "j.b. pritzker",
           "It's a Wild West out there. And, indeed, we are overpaying, I would say, for [ personal protection equipment ] because of that competition,"
          ],
          [
           "martin j. walsh",
           "We're going to work together to tackle our biggest challenges in the spirit of collaboration."
          ],
          [
           "carl wilson",
           "I would like to thank everyone for their support over the seasons. We have had an absolute blast and I wish everyone all the very best for the future."
          ],
          [
           "katrina jackson",
           "It's as simple as this. A doctor without admitting privileges cannot call in to a hospital and admit you and tell them what happened,"
          ],
          [
           "mike pence",
           "We're ready for anything, but this is an all hands on deck effort,"
          ],
          [
           "tim walz",
           "We're trying to lean into what helps them in managing public safety, but I can tell you we are exploring that,"
          ],
          [
           "terri bryant",
           "In the conversations we had today, we know some direction to go on working on a few of those grants. And to be honest with you, I'm very hopeful that we will have a federal infrastructure bill.,"
          ],
          [
           "daneya esgar",
           "will grant state workers the right to organize and partner with the state to negotiate for higher wages and benefits,"
          ],
          [
           "george w. bush",
           "we can't put our troops all around the world."
          ],
          [
           "mike pence",
           "We're going to continue to bring the President the best recommendations based on real-time data and science for what every state, what every community should be doing,"
          ],
          [
           "bernie sanders",
           "They have justified the assassination of Qassim Suleimani by claiming that he was planning `imminent attacks' on hundreds of Americans in the region, and yet they have produced no evidence that would justify this claim, even in a classified setting."
          ],
          [
           "gov. eric holcomb",
           "I can tell you that if you're looking at that bill right now, and you're looking at a minimum of $1.2 billion coming to every state at a minimum, that's gon na help us build a bridge,"
          ],
          [
           "christopher ruddy",
           "Newsmax is excited to have Hotwire on board as our newest affiliate, and we look forward to working together to deliver what its customers have been asking for -- an alternative voice within news media. And with Hotwire's reach throughout these markets, Newsmax will be exposed to a broad audience seeking news they can trust,"
          ],
          [
           "rand paul",
           "He keeps appointing people to represent him that think the Iraq War was just great. They loved Dick Cheney's position and they still don't admit it was a mistake. So that's why he keeps getting policy that isn't his policy."
          ],
          [
           "elliott abrams",
           "I don't think they come out yesterday stronger, but weaker."
          ],
          [
           "kristin phillips-hill",
           "It's Harrisburg and there's politics in everything that we do,"
          ],
          [
           "scott stringer",
           "to recruit, train and dispatch legal interpreters to legal services organizations across the city."
          ],
          [
           "ralph northam",
           "we are now facing a recession and this major event will have major impacts,"
          ],
          [
           "sam slom",
           "He admittedly had a socialist agenda from the very beginning and before that,"
          ],
          [
           "pete buttigieg",
           "But we can't have a candidate who insists on `My way or the highway."
          ],
          [
           "greg harris",
           "If one of the entities have information useful to the others, it's shared freely,"
          ],
          [
           "robert menendez",
           "critical that national security matters of such import be shared with the American people in a timely manner."
          ],
          [
           "amy klobuchar",
           "because I do things like go on your show, take tough questions."
          ],
          [
           "bernie sanders",
           "Let us be clear, do we think health care for all, Pete, is some kind of radical communist idea?"
          ],
          [
           "bill brady",
           "You are the lead law enforcement officer in the state of Illinois, and I believe the people of Illinois, the victim, and the seriousness of this issue demands that your agency conduct a full and thorough investigation. Illinois residents deserve to know that justice will prevail no matter how connected or powerful the wrongdoers,"
          ],
          [
           "steve french",
           "I think the way we handled the basketball,"
          ],
          [
           "mike pompeo",
           "What was sitting before us was his travels throughout the region and his efforts to make a significant strike against Americans. There would have been many Muslims killed as well -- Iraqis, people in other countries as well."
          ],
          [
           "john cornyn",
           "not by burdening our energy sector with overbearing mandates."
          ],
          [
           "ryan williams",
           "I'm just trying to get back into things and gain some more confidence after having that little injury, so hopefully there are more to come."
          ],
          [
           "governor charlie baker",
           "gut wrenching loss that is nothing short of devastating,"
          ],
          [
           "bernie sanders",
           "James, in all due respect, is a political hack, who said very terrible things when he was working for Clinton against Barack Obama. I think he said some of the same things. Look, we are taking on the establishment. This is no secret to anybody. We're taking on the -- I guess the former head of Goldman Sachs attacked me yesterday.... And the insurance companies don't like me. And you know what, the pharmaceutical industry, which is charging us ten times more for the same drugs they sell in Canada, they don't like me either. Nor does the fossil fuel industry. Because their product happens to be destroying our planet. Nor does the military-industrial complex, or the prison-industrial complex. We are taking on Trump, the Republican establishment, Carville, and the Democratic establishment."
          ],
          [
           "bill de blasio",
           "crisis we have never seen in our lifetime."
          ],
          [
           "jb pritzker",
           "Normally, I gather, there are about 15 people that get trained."
          ],
          [
           "ron desantis",
           "As testing has increased in places like Broward and Dade,"
          ],
          [
           "steve mcdaniel",
           "Our hope is with the additional outreach, we're going to get enough applicants where we'll have all three pools up and operational,"
          ],
          [
           "stuart adams",
           "actually puts us in a good spot if there's a change by the Supreme Court. But if there's no change by the Supreme Court, it doesn't actually do anything. Really, it just actually allows us to mirror what the Supreme Court says."
          ],
          [
           "adam gregg",
           "That formula was driven by population which, of course, is driven by responses from the 2010 Census."
          ],
          [
           "jared huffman",
           "A lot of people criticize me for being friends with Don Young, a Republican Rep. from Alaska, but someone's got to go and talk to this guy. Don't put those fish in danger. Don't put those jobs in danger. It's not worth it."
          ],
          [
           "dov hikind",
           "She literally was involved in a blood libel; she blamed Jews for the murder of this child,"
          ],
          [
           "jay inslee",
           "We need to do what we did in World War II to mobilize that supply chain,"
          ],
          [
           "mitch mcconnell",
           "We just laid the groundwork that will structure the next several days... We've officially invited the Hse managers to come to the Sen. tmrw at 12... at 2pm, the Chief Justice will arrive & be sworn in by the president pro tempore"
          ],
          [
           "jared kushner",
           "Israel does not have diplomatic relations with the countries that you mentioned, and the fact that they showed up today to celebrate the current Israeli prime minister agreeing to negotiate on a framework of a basis of a state is also I think a very significant achievement."
          ],
          [
           "rudy giuliani",
           "shocking crimes at the highest levels of both governments"
          ],
          [
           "bernie sanders",
           "And I know that it is rarely the children of the billionaire class who face the agony of reckless foreign policy."
          ],
          [
           "pete buttigieg",
           "the right thing to do, when we looked at the math,"
          ],
          [
           "michael rodrigues",
           "It's the beginning of Sydney getting its mojo back."
          ],
          [
           "joe biden",
           "If the Democrats nominate me, I believe we can defeat Donald Trump, keep Nancy Pelosi in the House of Representatives as Speaker, and take the U.S. Senate."
          ],
          [
           "alan greenspan",
           "Fiscal deficit spending that finances uncapitalized consumption expenditures leaves no lasting impact on future standards of living,"
          ],
          [
           "jb pritzker",
           "We need to maintain our course and keep working to flatten the curve."
          ],
          [
           "mitt romney",
           "The saddest aspect of this whole thing is you have Republicans in the Senate who knew better. They knew that Donald Trump is a crook. They knew that Donald Trump is a cheat. But they didn't have the guts, with the exception of Romney, to vote against him,"
          ],
          [
           "kelly armstrong",
           "He built a new backstop in less than 48 hours,"
          ],
          [
           "chuck schumer",
           "more focused on the stock market than addressing this pandemic."
          ],
          [
           "ron desantis",
           "If you look at how this has impacted the state, it has not been a uniform impact... if the problem is different in certain parts (of the state), then we should recognized that,"
          ],
          [
           "governor charlie baker",
           "We are proud to continue to invest in these important programs that can shape a student's future success."
          ],
          [
           "jerome powell",
           "When the economy begins to rebound, then we'll be there to make sure that rebound is as strong as possible,"
          ],
          [
           "greg abbott",
           "There is no intent right now to shut down any health care provider. It would be up to her employer -- that particular health care provider -- to make sure that they are living up to the standards of care."
          ],
          [
           "robert bell",
           "As the days went by I felt better and better, and I can now do more general day-to-day activities, as well as things around the home that I could not before."
          ],
          [
           "chuck schumer",
           "It is essential for Congress to put a check on this president."
          ],
          [
           "ronald lauder",
           "Do not be silent. Do not be complacent. Do not let this ever happen again -- to any people."
          ],
          [
           "nita lowey",
           "yet another example of hate that has no place in our community. These acts, especially during the difficult time of anti-Semitic violence, further heighten fear among our friends and neighbors."
          ],
          [
           "tina smith",
           "I'm glad to see this investment in the Brainerd area. Broadband is the infrastructure of the 21st Century and if we're going to build an economy that works for everyone, then we need to seriously prioritize deploying high-speed internet to all Americans -- just like we did with rural electrification and the interstate highway system,"
          ],
          [
           "mike pompeo",
           "an alliance of like-minded partners who treasure and fight for international religious freedom for every human being."
          ],
          [
           "charlie rose",
           "All of us would in one way or the other touch each other, on the arm, hug each other,"
          ],
          [
           "gerry connolly",
           "It appears you withheld critical information from Congress and continued to take actions prohibited by statute, demonstrating a flagrant disregard for congressional authority and the law,"
          ],
          [
           "dow constantine",
           "Mobile voting could very well be the next frontier because we know when more people participate, our democracy is healthier, stronger."
          ],
          [
           "mike pompeo",
           "The west is winning. Freedom and democracy are winning."
          ],
          [
           "tom rice",
           "When the president declared the whole country a disaster area, that was the first thing that popped in my mind,"
          ],
          [
           "latoya cantrell",
           "We are not using that money as a cash flow. Because one, you can't do it,"
          ],
          [
           "tom dickson",
           "Most Advanced Blender on Earth"
          ],
          [
           "kim wyman",
           "That's what we should be focusing on, and try to move back a little bit from that partisan rhetoric,"
          ],
          [
           "maria cantwell",
           "Going to Mexico and saying, `We'll help you, and we'll give you some money,' this is a little different than building a wall,"
          ],
          [
           "heidi heitkamp",
           "I'm a moderate conservative. That's the side of the party that I think needs to be presented to the public in this next election"
          ],
          [
           "lisa murkowski",
           "The president's behavior was shameful and wrong. His personal interests do not take precedent over those of this great nation,"
          ],
          [
           "greg gianforte",
           "Capt. Faulconer, Lt. Hixenbaugh, Lt. Sawyers, and Lt. Sutton tragically lost their lives in service to our country,"
          ],
          [
           "cory gardner",
           "Modernizing our infrastructure and transportation systems is important for our quality of life and our economy."
          ],
          [
           "doug ducey",
           "It's basic decency,"
          ],
          [
           "elizabeth warren",
           "whip up populist hostility toward whomever was standing in her way,"
          ],
          [
           "denise driehaus",
           "We will get a share of that 30% to continue to do some of the work that we've been doing in this community to save lives and get people into long-term recovery,"
          ],
          [
           "jeff sessions",
           "Trump needs a warrior for the truth."
          ],
          [
           "mike pompeo",
           "I know none of you would do so intentionally. Let us help you make sure we're getting it right."
          ],
          [
           "jim bridenstine",
           "Although a limited amount of employees have tested positive for COVID-19, it is imperative that we take this pre-emptive step to thwart further spreading of the virus among the workforce and our communities,"
          ],
          [
           "sheila kuehl",
           "But with what? We haven't gotten enough consensus on no jails at all. So what we're trying to do is analyze, well, what is a jail for, and therefore what do you construct if you do need to incarcerate people? For how long and for what?"
          ],
          [
           "don young",
           "I think it's a reorganization of stationing people that can adapt to Alaska,"
          ],
          [
           "john cornyn",
           "I hope he keeps it all very positive and doesn't talk about impeachment at all,"
          ],
          [
           "trayon white",
           "Our greatest need right now is unity,"
          ],
          [
           "nancy pelosi",
           "Members will make their endorsements as they see fit on their own in their own communications with their constituents and with the candidates as they choose,"
          ],
          [
           "joe biden",
           "We're the wealthiest nation in the world, our workers are more productive than workers around the world, three times as productive as workers in Asia,"
          ],
          [
           "brian kemp",
           "As we continue to navigate the impact of COVID-19 on our economy, small business owners can apply for much-needed funding to continue operation and pay their employees. My thanks to the Trump Administration for their swift action to protect small business owners throughout the country."
          ],
          [
           "jeffrey dinowitz",
           "I can assure you that if I wanted to make calls and get out the vote, (Rivera) would not have been endorsed."
          ],
          [
           "jo ann davidson",
           "He understands the structure of government within a state, where you can make a difference, where you can't make a difference, how to handle it, who to give the authority to,"
          ],
          [
           "president barack obama",
           "For somebody's who's going to come in and be the great unifier -- you know, that hopey-changey stuff -- it hasn't worked very well. The country is more divided now than it's ever been. And he doesn't appreciate other people and what they do."
          ],
          [
           "ben sasse",
           "And second of all, there's active killing versus passive killing, and the practice that we're going to talk about today, and I know that Mrs. Stanek's testimony's going to deal with directly is the practice of allowing these babies to die by simply removing and withholding all care from them. So I agree in the spirit of Senator Durbin's comments that there are multiple places that we agree. There's also still lots and lots of gaps that we need to tackle,"
          ],
          [
           "phil murphy",
           "much broader testing regime."
          ],
          [
           "jared golden",
           "I think George is right. The problem is really that people are having a hard time getting to yes on the loan side."
          ],
          [
           "mike pompeo",
           "I appreciate that you want to continue to talk about this."
          ],
          [
           "mary beth carozza",
           "authorize food service facilities to store and make available for administration auto-injectable epinephrine for a certain purpose under the program, authorize participating food service facilities, except under certain circumstances, to obtain a certain prescription for and supply of auto-injectable epinephrine, and require participating food service facilities to store a supply of auto-injectable epinephrine in a certain manner."
          ],
          [
           "josh hawley",
           "We support Sen. Hawley's motion to censure Schumer, but in addition, Operation Rescue calls on the Department of Justice to investigate Schumer and his threats as crimes. When a man called our office and threatened to do us harm because we did not comply with his demands, he was arrested and is now serving time in Federal Prison. If there is to be equal justice, Schumer should not be held above the law,"
          ],
          [
           "ty masterson",
           "Kansans are also very practical,"
          ],
          [
           "adam harris",
           "At the centre of this issue is a lack of understanding of autism,"
          ],
          [
           "mac toole",
           "We've talked a long time and we never do it,"
          ],
          [
           "thom tillis",
           "pledged to support their party's nominee."
          ],
          [
           "steve scalise",
           "The Democrats got to bring all of their witnesses. They did tryouts, in fact. Schiff, behind closed doors, you saw it for months, he had these secret meetings where they literally had tryouts to see who would be their best star witnesses to bring out on TV."
          ],
          [
           "robert gates",
           "We didn't quite know what we were going to receive,"
          ],
          [
           "mark parkinson",
           "This proposed rule, combined with the Patient-Driven Payment Model implemented last year, helps us continue our work to provide the highest quality care possible,"
          ],
          [
           "manny diaz",
           "We know this is probably going to be an item that goes all the way through the end of session."
          ],
          [
           "patrick leahy",
           "I'm looking at it as a former prosecutor, as a lawyer,"
          ],
          [
           "kim foxx",
           "We received so much hate mail and threats,"
          ],
          [
           "ned lamont",
           "We miss Ana. So very much,"
          ],
          [
           "fred deutsch",
           "And it's terrible, that should not ever be allowed,"
          ],
          [
           "ravinder s. bhalla",
           "I completely recognize that these measures will result in substantial changes and inconveniences to our daily lives,"
          ],
          [
           "john mccain",
           "I like when anyone bucks a party. I will always respect it. I think it took big cojones to do that,"
          ],
          [
           "bill weld",
           "I'm comfortable in my own skin.... I'm well-known for it,"
          ],
          [
           "ted cruz",
           "Tell a story, lay out an affirmative narrative,"
          ],
          [
           "mick mulvaney",
           "[ t ] here is an increasing probability of a full-blown COVID-19 pandemic that could infect as many as 100 million Americans, with a loss of life of as many as 1-2 million souls."
          ],
          [
           "bill cassidy",
           "We have to do everything we can to mitigate the spread of COVID-19. This bill will allow Americans to rapidly access vaccines for this novel coronavirus as soon as they are available. Congress should immediately pass the Rapid Coverage for Coronavirus Vaccines and Treatments Actas part of a robust response to this virus,"
          ],
          [
           "greg abbott",
           "Waller County residents should remain at home as much as possible and limit trips outside of their residence for essential items or to provide essential services. Only one person per household should obtain essential items at any one retail location at a time,"
          ],
          [
           "gary herbert",
           "We are constantly updating Governor Herbert with the latest data and recommendations and if he chooses to make changes in the directive, and make it an order, he will certainly update us all. However, the stay at home directive is expected to be followed by everybody in Utah. So we are expecting everybody to stay at home and only leave for critical services and maintain social distancing for the coming weeks and potentially months."
          ],
          [
           "joe biden",
           "There was no movement on the part of the Iranian government to get closer to a nuclear weapon."
          ],
          [
           "max rose",
           "Confronting the Rise in Anti-Semitic Domestic Terrorism."
          ],
          [
           "alex azar",
           "The president and I spoke this morning as he returned from India, and he said, `I want to continue being radically transparent. When you come over to brief me this evening, let's sit and invite the press in, '"
          ],
          [
           "james comey",
           "If I had to do it over again in the benefit of hindsight, I would either not include any of the facts about obstruction or lay them all out and make the accusation,"
          ],
          [
           "rhonda fields",
           "The biggest question everybody has is `why' and, while we may not be directly able to answer that, we hope to be able to gather some information to be able to help people in future to be able to prevent something like this or offer support to those who may need it,"
          ],
          [
           "adam schiff",
           "What the president is talking about here is a very specific conspiracy theory going to the server itself, meaning that it was Ukraine that hacked the Democratic server, not the Russians. This theory was brought to you by the Kremlin,"
          ],
          [
           "mitch mcconnell",
           "Before we turn to the trial in earnest, the Senate has one more accomplishment to deliver to the American people,"
          ],
          [
           "chuck schumer",
           "only further implicates President Trump and underscores the need for the Senate to subpoena the witnesses and documents we've requested at the onset of a trial."
          ],
          [
           "elizabeth warren",
           "Progressives are going to get exactly one chance to make transformative change,"
          ],
          [
           "katie porter",
           "I will remain in self-quarantine until I have the test results back and until directed by my doctor that it is safe for me to leave my home,"
          ],
          [
           "mark martin",
           "How to utilize the Zoom, how to utilize Google Meetings, or Team Meetings in Microsoft,"
          ],
          [
           "john f. kennedy",
           "Obviously not at the same level as doctors or nurses, but we're doing our best to keep people safe."
          ],
          [
           "mike spano",
           "It's something to see and feel, and that happens because we have a wonderful artist that's willing to make it happen."
          ],
          [
           "bill anderson",
           "She was such a genuine forthright person, she really made a great impression on all of us from the very start."
          ],
          [
           "chuck schumer",
           "It's not everything everyone wants, but it's a great start, and we'll keep at it."
          ],
          [
           "thomas dinapoli",
           "It's an important reminder for everyone in New York, that New York contributes a great deal to Washington and the federal government and we should certainly be sure that we can fight anyway we can to maximize the return we have,"
          ],
          [
           "jerome powell",
           "is beyond the capacity of the private sector alone to support."
          ],
          [
           "bernie sanders",
           "The potential of television, democratically owned and controlled by the people, is literally beyond comprehension because it is such a relatively new medium and we have no experience with it under democratic control."
          ],
          [
           "maggie hassan",
           "I do it slow and I take advance of the time my son is in school to complete my school work,"
          ],
          [
           "robert bacon",
           "We have all brand-new appliances,"
          ],
          [
           "andrew cuomo",
           "So you're not Superman, and you're not Superwoman, you can get this virus and you can transfer the virus and you can wind up hurting someone who you love or hurting someone wholly inadvertently."
          ],
          [
           "denver riggleman",
           "I'm like, that's odd, why isn't anybody with them, so I pulled over and went down there and she was quite shaken up and said nobody would stop to help them."
          ],
          [
           "brian shiozawa",
           "walking out into the backyard."
          ],
          [
           "andrew cuomo",
           "If you isolate all people you may be exposing the more vulnerable people."
          ],
          [
           "bernie sanders",
           "his radical and motivating plan to address the climate crisis and his support for the Green New Deal."
          ],
          [
           "jay lucas",
           "This would be the first time in the history of South Carolina that the Senate has admitted that there is a limit on their legislative authority,"
          ],
          [
           "lindsey graham",
           "You've got three provisions to deal with. I think it'd be smart to keep them in place. It would give us some time to work on FISA writ large, we've got three years,"
          ],
          [
           "greg leding",
           "I'd still planned to go down, but that was before yesterday,"
          ],
          [
           "rep. ilhan omar",
           "y' all want to make jokes about innocent lives being lost in Iran and Iraq, imagine how horrible it would be if it was American lives being lost. those getting hit with air strikes aren't laughing, they are innocent and dying."
          ],
          [
           "jack lew",
           "I don't think you should start right now thinking that this is a situation where that is the first response. Let's start with the first things first,"
          ],
          [
           "tom wheeler",
           "The Summer Olympics are being held in Tokyo, Japan the home and origin of Judo this year and I can think of no better way to commemorate that than by hosting a seminar featuring him. He is an Olympic Judo medalist himself and he in turn makes Olympic champions,"
          ],
          [
           "clarence thomas",
           "Empirical studies demonstrate what common experience readily reveals: Drivers with revoked licenses frequently continue to drive and therefore to pose safety risks to other motorists and pedestrians,"
          ],
          [
           "ned lamont",
           "I'm grateful to our community foundations, United Way of Connecticut, and the individual donors who support the work of nonprofits that provide critical services across our state every day -- and during this crisis,"
          ],
          [
           "kristi noem",
           "This will give us time to make sure that we are flattening and bending the curve of the spread of the infection in the state of South Dakota, and it also gives them some consistency at the district level on how they will teach these children at home or at a distance,"
          ],
          [
           "paul anderson",
           "When I `actually' leave hasn't been determined yet-I have agreed to be part of the transition arrangements which we will explain to you all shortly. When that time comes, I will look forward to saying farewell to many of you in person,"
          ],
          [
           "gavin newsom",
           "I love the notion of empathy,"
          ],
          [
           "latoya cantrell",
           "He was the Bounce King, who showed us how to move, how to love, and how to bring passion and humanity to everything we do."
          ],
          [
           "adam schiff",
           "the trifecta of constitutional misconduct."
          ],
          [
           "andy biggs",
           "you could spend up to a billion dollars effectively on state-sponsored abortions, state-funded abortions."
          ],
          [
           "joe biden",
           "Elected officials across the country understand that there would be down-ballot carnage for the Democratic Party if we nominated the wrong person,"
          ],
          [
           "mandela barnes",
           "never grow comfortable in the face of these repeated tragedies."
          ],
          [
           "ivanka trump",
           "Thank you for taking me to the spectacular Taj Mahal, Diljit Dosanjh! It was an experience I will never forget!"
          ],
          [
           "scott wiener",
           "[ H ] ousing built in urban areas, near transit, jobs and services... can reduce greenhouse gas pollution more effectively than any other option,"
          ],
          [
           "andy biggs",
           "The fact that it dovetails with the president, I'm not sure what the big issue is, ultimately,"
          ],
          [
           "michael mccaul",
           "support vital global health and food security programs."
          ],
          [
           "mario cuomo",
           "And I want to expand the Holocaust Museum that we have in New York City, which is a great facility, and I want to see schoolchildren going through that Holocaust Museum as part of their education."
          ],
          [
           "anthony kern",
           "as a result of the use of the student athlete's name, image or likeness."
          ],
          [
           "tony evers",
           "So, today I am proud to be unveiling my three-pronged plan to start addressing these challenges, starting with a special session of the Legislature to work on this issue right away."
          ],
          [
           "eric lesser",
           "We need to get a sense of what the benefits of this project will be. There is a cost of not doing this as well."
          ],
          [
           "joe biden",
           "I wish he was younger, but he's the best we got."
          ],
          [
           "elizabeth warren",
           "We beat Donald Trump not by fighting other Democrats. We beat Donald Trump by pulling this party together."
          ],
          [
           "joe biden",
           "And the way he refers to people of color.... I'm not even going to repeat the language he used about why he was doing this,"
          ],
          [
           "morgan carroll",
           "I think it means more people will be engaged earlier, and more people will have a say in what kind of representation we send from the state of Colorado,"
          ],
          [
           "bernie sanders",
           "The not-so-good news is that same generation historically hasn't voted in very large numbers. So tonight [ what ] I'm saying to that generation is: If you are tired of student debt, if you are sick and tired and scared about climate change, if you are disgusted with racism, and sexism, homophobia and xenophobia, and if you believe that healthcare is a human right, then you can't sit it out and you can't complain."
          ],
          [
           "shelby smith",
           "Transportation can be 15 percent of a household budget and that doesn't include car repairs or maintenance,"
          ],
          [
           "nick schroer",
           "This is going to prove groups like the NRA or Gun Owners of America are wanting responsible gun ownership,"
          ],
          [
           "henry kissinger",
           "Alliances are worthwhile when they put into words a real community of interests; otherwise they lead only to confusion and disaster."
          ],
          [
           "mike pompeo",
           "Burhan is eager to help his country modernise by taking it out of isolation and putting it on the world's map,"
          ],
          [
           "jeff greene",
           "Yeah, ’cause no one's going to want to be anywhere near you."
          ],
          [
           "larry householder",
           "We just need to give them, hopefully, a little motivation to get things moving along,"
          ],
          [
           "jack whitver",
           "One of the most common questions our members receive is about rescheduling canceled school days. Now, Iowa schools and families can have some certainty regarding these four weeks of the school calendar."
          ],
          [
           "rep. ilhan omar",
           "Let's stay focused on the task ahead: defeating Donald Trump in November and fighting for the America we deserve,"
          ],
          [
           "dana nessel",
           "I just can't hear about one more black health care worker, police officer or bus driver die while getting a barrage of complaints from white folks outraged because they can't go golfing,"
          ],
          [
           "pete buttigieg",
           "Shouldn't witnesses and evidence help show that the president's innocent?"
          ],
          [
           "angie craig",
           "It's all hands on deck for COVID-19,"
          ],
          [
           "rudy giuliani",
           "love to try the case."
          ],
          [
           "elizabeth warren",
           "Whoever wins, of course I'll support them,"
          ],
          [
           "steven mnuchin",
           "Americans are basically saying, look, you've got to give us something by Monday,"
          ],
          [
           "jerome powell",
           "We are working hard on it. We have a lot of projects going on, efforts going on, on that right now,"
          ],
          [
           "andrew cuomo",
           "No density. No basketball games. No close contact. No violation of social distancing, period."
          ],
          [
           "robert gates",
           "soft power -- the elements of national power beyond guns and steel."
          ],
          [
           "amy klobuchar",
           "What do you know about the president of Mexico?"
          ],
          [
           "bernie sanders",
           "This race is going all the way to Milwaukee,"
          ],
          [
           "steve scalise",
           "There could be no sharper contrast between the president's State of the Union, talking about the great comeback of America because of the things that he's done to get our economy back on track and rebuild our military, contrasted to the complete and utter incompetence upon Democrats to be able to conduct a caucus in Iowa or to conduct themselves with basic decorum on the House floor during the State of the Union,"
          ],
          [
           "lauren book",
           "There have been a lot of reports about sexual harassment and some impropriety related to some comments that you have made in the past."
          ],
          [
           "david joyce",
           "But we must respond immediately with every action within our control to protect our ability to serve our customers now and as the industry eventually recovers."
          ],
          [
           "j.b. pritzker",
           "Do we have to start thinking, you know, the way that the fire marshal determines how many people can be in your store... based on the number of square feet so that if there's a fire, everybody can get out?"
          ],
          [
           "bernie sanders",
           "Pete Buttigieg lures even closer look from Wall Street donors following strong Iowa caucuses performance"
          ],
          [
           "cory booker",
           "Today, I'm suspending my campaign for president with the same spirit with which it began.... And so now I recommit myself to the work. I can't wait to get back on the campaign trail and campaign as hard as I can for whoever is the eventual nominee."
          ],
          [
           "john dean",
           "We made some mental errors in the second half of the game, more the result of mental fatigue than anything else."
          ],
          [
           "mike dewine",
           "The good thing in Ohio is we have basically four weeks of voting,"
          ],
          [
           "john rood",
           "strengthens deterrence and provides the United States a prompt, more survivable low-yield strategic weapon; supports our commitment to extended deterrence; and demonstrates to potential adversaries that there is no advantage to limited nuclear employment because the United States can credibly and decisively respond to any threat scenario."
          ],
          [
           "david cicilline",
           "no coherent strategy or plan."
          ],
          [
           "julián castro",
           "After criminalising homelessness this year, Las Vegas is now packing people into concrete grids out of sight,"
          ],
          [
           "elizabeth warren",
           "The results are not surprising, as Rep. Ocasio-Cortez's $93 trillion proposal exemplifies the Congress's failure to protect the taxpayers' hard-earned money,"
          ],
          [
           "governor charlie baker",
           "There's people getting money every single week coming out of the unemployment system,"
          ],
          [
           "j.b. pritzker",
           "That's going to dictate what the answers to the questions are,"
          ],
          [
           "michelle lujan grisham",
           "The unprecedented public health crisis caused by COVID-19 is also causing great financial hardship for New Mexico residents and small businesses,"
          ],
          [
           "mike pompeo",
           "So if you're looking for imminence, you need only look at the days that led up to the strike that was taken against Soleimani,"
          ],
          [
           "r. clarke cooper",
           "All the engagements, all the freedom of navigation operations, all the exercises, all the joint training, having US military personnel in port, on the ground, on the flight line... require that we have a mechanism that allows that, and that's why the VFA is so important,"
          ],
          [
           "andrew cuomo",
           "civil war kind of discussion."
          ],
          [
           "katie arrington",
           "For those of you who are attesting that you're doing the 171, and you say it's too high of a barrier to get compliant to level 3, I ask why,"
          ],
          [
           "sara stevens",
           "Sharing is really hard,"
          ],
          [
           "lina hidalgo",
           "Celebrating our history is a way in which we move forward."
          ],
          [
           "chuck schumer",
           "We did not see a plan, a satisfying plan for the future,"
          ],
          [
           "peter johnson",
           "I don't think that that's exciting."
          ],
          [
           "jonathan carroll",
           "to surf, or not to surf"
          ],
          [
           "adam schiff",
           "CBS News reported... that a Trump confidant said that key senators were warned, `Vote against the president and your head will be on a pike."
          ],
          [
           "adam schiff",
           "That is the normalization of lawlessness. I would hope that every American would recognize that it's wrong to seek foreign help in an American election."
          ],
          [
           "mark meadows",
           "did a great job leading the President's team through a tremendous period of accomplishment."
          ],
          [
           "joe bolkcom",
           "I think it's all a guessing game on how much the decline in state revenues is going to be,"
          ],
          [
           "lloyd winnecke",
           "Establishing this center also will help prevent the further spread of COVID-19 in our community."
          ],
          [
           "peter franchot",
           "It's unbelievable the con artists are out there exploiting this particular crisis, but it happens all the time, unfortunately, and we're urging people to just hang up the phone if someone pretends they're calling from the government,"
          ],
          [
           "miro weinberger",
           "I asked them to prioritize the appropriate virus testing at this facility, this is the largest outbreak in the state, to identify as quickly as possible all patients and health care workers who are infected or suspected of infection."
          ],
          [
           "jim strickland",
           "That's one reason we're for the proposal from city council to expand residencies so we can go after a larger pool of applicants."
          ],
          [
           "john catsimatidis",
           "shoplifters or people who had held up other stores,"
          ],
          [
           "steven mnuchin",
           "definitely something we'll put in the next bill."
          ],
          [
           "bernie sanders",
           "cardiologists who are confirming that I am in good health."
          ],
          [
           "ken paxton",
           "For years, abortion has been touted as a `choice' by the same groups now attempting to claim that it is an essential procedure,"
          ],
          [
           "adam schiff",
           "Did the President try to convince a foreign government to help him cheat in the next election?"
          ],
          [
           "chuck schumer",
           "Testing is the best tool we have to fight the virus today, to know who's infected and who's not, and to reopen our economy,"
          ],
          [
           "chuck grassley",
           "That's going to make a big difference for jobs, even in Iowa."
          ],
          [
           "john barrasso",
           "Regulations must follow the law and be easy for Americans to understand,"
          ],
          [
           "elizabeth warren",
           "we need someone who can bring our party together"
          ],
          [
           "mark baker",
           "These data, which are the basis of our New Drug Application, show that AZEDRA has the potential to address the dual goals of therapy in pheo and para -- to reduce the cardiovascular symptoms associated with the excess hormone production, and to produce favorable tumor responses,"
          ],
          [
           "president barack obama",
           "foreign investment and jobs,"
          ],
          [
           "andrew cuomo",
           "Did you really have to learn that 50 states shouldn't compete against 50 states, and then FEMA shouldn't come in late and compete with 50 states?"
          ],
          [
           "stacey abrams",
           "Sometimes you think that who you are is all that you are. This campaign taught me that I was capable of more than I imagined,"
          ],
          [
           "asa hutchinson",
           "We have 530,000 Arkansans or 18 percent of our workforce who need workforce training. We are concentrating on that (workforce training) because that is the key to providing good job opportunities for them but also to be able to recruit industry that is so important in the river valley."
          ],
          [
           "bill hamilton",
           "There is nothing commemorating him."
          ],
          [
           "mike pence",
           "by this Sunday evening, we'll be able to give specific guidance on when the website will be available, you can go to the website, as the president said, you type in your symptoms and be given direction whether or not a test is indicated."
          ],
          [
           "mike pence",
           "We're leaning into this effort. It's all hands on deck, because our effort here is to do everything possible to prevent the spread of the coronavirus in the United States,"
          ],
          [
           "gina mccarthy",
           "This move is even more egregious than the last proposal, which the administration's own hand-picked scientists criticized."
          ],
          [
           "amanda chase",
           "will show out en masse on November 2021"
          ],
          [
           "mike dewine",
           "Everything we're doing is to save lives."
          ],
          [
           "jim banks",
           "The VA's answer gives me absolutely no confidence,"
          ],
          [
           "joe biden",
           "That's the percentage of African American voters who have not yet had a chance to vote in America. One more number, 99.8. That's the percent of Latino voters who haven't had the chance to vote."
          ],
          [
           "salud carbajal",
           "It actually includes our entire community, community of faith, our private sector, all of us working together."
          ],
          [
           "bob onder",
           "It's really just a question of, in this world of scarce resources, who do we want to subsidize coming to our state for tuition?"
          ],
          [
           "roy cooper",
           "I know that these actions cause hardship and heartache for a lot of people, but they're necessary to save lives,"
          ],
          [
           "karyn polito",
           "Massachusetts' kit tracking system is a landmark addition to the services the Baker-Polito Administration has worked to provide to survivors of sexual assault,"
          ],
          [
           "bernie sanders",
           "We all saw the impact of the factionalism in 2016, and we can't have a repeat of that. I hope Bernie reconsiders and turns his campaign in a different direction."
          ],
          [
           "dan lipinski",
           "It speaks volumes about my opponent that she would make this divisive ad, and that her campaign chair would make such inflammatory statements."
          ],
          [
           "rick niemeyer",
           "When they start jumping two and three miles annexing ground, those people sometimes don't have any say,"
          ],
          [
           "marianne williamson",
           "Prayers for peace. Killing of Qasem Solemani [ sic ] by US military was one of the most reckless irresponsible actions ever directed by a US President,"
          ],
          [
           "eric garcetti",
           "sober reminder that this can take anyone."
          ],
          [
           "mary margaret oliver",
           "The cities and the neighborhoods have made a proper decision that the DeKalb delegation is too much trouble to deal with,"
          ],
          [
           "mike dewine",
           "This will also help us preserve critically short supplies of PPE and preserve inpatient beds and other equipment for critically ill patients."
          ],
          [
           "adam schiff",
           "failed arguments we heard in the House."
          ],
          [
           "mike pompeo",
           "Trump's Iran strategy is working. Pompeo right to call out ex-Obama team members."
          ],
          [
           "hakeem jeffries",
           "The Congress is provided with the constitutional authority alone to declare war,"
          ],
          [
           "alex azar",
           "CBP facilities were never designed to hold large numbers of people and to protect agents and migrants from infection during a pandemic, nor to treat them for a novel virus if large numbers are infected,"
          ],
          [
           "mitch mcconnell",
           "They plowed ahead for two reasons. They said impeachment was too urgent to wait and they said they had already proven their case but since then House Democrats have spent four weeks contradicting both of those claims,"
          ],
          [
           "mark parkinson",
           "We've made it our mission to train young people and pass on our specialist knowledge to ensure that, for many years to come, the firm continues to provide specialist wealth management expertise across the sectors we are committed to."
          ],
          [
           "steven mnuchin",
           "And we look forward to working with them quickly and would expect that the U.N. sanctions will snap back into place,"
          ],
          [
           "audrey gibson",
           "I believe that we should have policy or budget language that requires us to reinvest the dollars that are saved back into the system,"
          ],
          [
           "matt gaetz",
           "If we can project that love of country to the rest of our nation, all the better for Northwest Florida."
          ],
          [
           "thomas massie",
           "Is it too much to ask that the House do its job, just like the Senate did?"
          ],
          [
           "chuck schumer",
           "Will we fulfill our duty to conduct a fair impeachment trial of the president of the United States or will we not? That is most pressing question facing this Senate,"
          ],
          [
           "mike huckabee",
           "It's not exactly a pandemic yet. It could be one. We don't want it to be,"
          ],
          [
           "adam schiff",
           "Ït's certainly something that we are considering,"
          ],
          [
           "andrew cuomo",
           "I play basketball. There's no concept of social distancing while playing basketball. It doesn't exist. You can't stay six feet away from a person playing basketball. You can, but you're a lousy basketball player and you're gon na lose. You just cannot do that."
          ],
          [
           "marco rubio",
           "You name the divisive issue -- racial tensions, gun rights, pro-life, pro-choice, and what they've talked about is trying to stir sow and discord on both sides of every issue."
          ],
          [
           "mike dewine",
           "We will not close our state parks."
          ],
          [
           "doug burgum",
           "There were actually seven crops in this last year, in spite of the challenging harvest, seven crops where North Dakota still leads the world in terms of number one in production,"
          ],
          [
           "scott stringer",
           "At this time I think the question is not if, but how, public schools should close,"
          ],
          [
           "laura kelly",
           "The last thing I want is legal battle, but Kansas lives are on the line, and I took an oath to uphold the Kansas constitution,"
          ],
          [
           "mike pompeo",
           "actively plotting in the region to take actions, the big action as he described it, that would have put dozens if not hundreds of American lives at risk. We know it was imminent."
          ],
          [
           "tyler clark",
           "So maybe if you're feeling depressed on Valentine's Day, it'll lift your spirits up a little. Treat yourself if you're single. Maybe take yourself out and listen to it in the restaurant on your AirPods."
          ],
          [
           "adam schiff",
           "not as a punishment [ for the president ] but to protect the country."
          ],
          [
           "david plouffe",
           "the two billionaires are definitely having an impact, but I don't think they're likely to be the nominee."
          ],
          [
           "gov. kim reynolds",
           "had a productive and positive phone call"
          ],
          [
           "president obama",
           "is looking a bit unaffordable"
          ],
          [
           "evan vickers",
           "grandstanding of major proportions."
          ],
          [
           "mike spano",
           "We already are doing a major landscape, streetscape, in Getty Square right now,"
          ],
          [
           "tom cotton",
           "He got what he richly deserved, and all those American soldiers who died by his hand also got what they deserved: justice. America is safer now after Soleimani's demise."
          ],
          [
           "chris turner",
           "fourth-quarter results were a solid end to the year where we met or exceeded each component of our guidance."
          ],
          [
           "bernie sanders",
           "If we win here tomorrow, I think we've got a path to victory for the Democratic nomination,"
          ],
          [
           "ray lahood",
           "The way he disparages people of color, the way he disparaged Sen. McCain who was a friend of mine, even after he passed. He doesn't distinguish himself for the office he holds."
          ],
          [
           "betsy price",
           "If you're at your residence, stay home. Go out only for essential items."
          ],
          [
           "bernie sanders",
           "our movement is not."
          ],
          [
           "tom perez",
           "The opioid crisis does not discriminate on the basis of party affiliation or geography or race or economics. Diabetics are rich, poor, Republican, Democrat, independents. You have Republicans that are blocking it. And you have a president who promised great coverage at a much lower cost for people."
          ],
          [
           "richard ieyoub",
           "ease the burden on operators while maintaining [ Conservation's ] duty as regulators to ensure responsible operations."
          ],
          [
           "julia ratti",
           "Fifty percent of people in Nevada rent, and half of them are rent burdened-meaning they spend more than 30% of their income on housing,"
          ],
          [
           "joe biden",
           "frontrunner in name only."
          ],
          [
           "jerome powell",
           "It's no secret: It's been true for a long time that with our uniquely expensive healthcare delivery system and the ageing of our population, we've been on an unsustainable fiscal path for a long time,"
          ],
          [
           "alexandria ocasio-cortez",
           "anybody who the cat dragged in call themselves a progressive. There's no standard."
          ],
          [
           "james l. dennis",
           "is a strong indication that the enforcement is pretextual and does not bear a `real or substantial relation to the public health crisis' we are experiencing."
          ],
          [
           "tom coleman",
           "as we modulate through light-to-deep phases of sleep."
          ],
          [
           "alan bates",
           "It is up to us as a group to explain to our MPs over the next month or so what happened, why it happened and what we want them to do."
          ],
          [
           "joe biden",
           "There's not a lot of consistency coming out of some of these campaigns."
          ],
          [
           "lisa murkowski",
           "Climate change is a reality for the 18 million residents of the Bay watershed being hit by more frequent and intense storms and floods,"
          ],
          [
           "maria rodriguez",
           "Even the drug dealers on the corners knew me,"
          ],
          [
           "bernie sanders",
           "We're seeing just how dangerous [ President Trump ] is with all of the misinformation that he is providing during this Coronavirus pandemic,"
          ],
          [
           "eric garcetti",
           "immediately limit all nonessential movement."
          ],
          [
           "trent lott",
           "They need to act. They're not there."
          ],
          [
           "jenny durkan",
           "It is of the upmost importance to ensure that they are safe and have the equipment they need,"
          ],
          [
           "pete buttigieg",
           "It was about profiling people based on their race,"
          ],
          [
           "patricia sullivan",
           "I just knew that we had to fight and we had to fight for what's right,"
          ],
          [
           "jim ardis",
           "We've already seen numbers rise in our country, and we once again ask every single resident do what they can,"
          ],
          [
           "blake miguez",
           "This is an opportunity for Gov. Edwards to select a new (health) secretary who will not waste hundreds of millions of taxpayer dollars on fraud and abuse. Most of us are hopeful that the next LDH secretary is pro-life, and will bring much-needed competence to the department,"
          ],
          [
           "pat roberts",
           "Our cattle feeders have been hit very hard,"
          ],
          [
           "mike chaney",
           "The people that find themselves in a situation with no flood insurance and the home's been flooded, they face a crisis,"
          ],
          [
           "marc morial",
           "So it's a rightful role for the government to step in, and if you will, to seek to plug the hole.... The good news is that it appears to be money for individuals. Number one, unemployment benefits [ for ] those people who through no fault of their own now find themselves unemployed. To me, this is one of the most important elements of the program."
          ],
          [
           "jeanine pirro",
           "Can we see the evidence, Rudy? Can we see it?... You know what, Rudy, I'd love for you to send it to me and I'm going to lay it out."
          ],
          [
           "scott jensen",
           "Today is for Minnesota. It really is. They sent a clear message: Stop the gridlock, stop the partisanship, get it done,"
          ],
          [
           "teresa lubbers",
           "While student educators are learning first-hand from experienced educators, the program also provides mentor teachers with the opportunity for increased responsibility and pay without leaving their classrooms,"
          ],
          [
           "arnold schwarzenegger",
           "There are a lot of things we can't control during this crisis, so we need to focus on what we can control. I wrote up my old no-gym required workout for all of you, as promised, because we can control our fitness."
          ],
          [
           "chuck schumer",
           "Right off the bat, Republican senators will face a choice about getting the facts or joining Leader McConnell and President Trump in trying to cover them up,"
          ],
          [
           "vern buchanan",
           "It's considered a gem in our community, and it's one of the top colleges of its size in the country of its size."
          ],
          [
           "patty kim",
           "It truly saddens me to hear that the Asian-American community has been the target of such painful attacks. I would like to urge members of the Asian-American community and people of the commonwealth to report these crimes so they can be addressed,"
          ],
          [
           "ashley moody",
           "Getting through this pandemic will be about teamwork. It will take a statewide team if we are going to beat COVID-19. We can't leave anyone on the sidelines,"
          ],
          [
           "jim mcgovern",
           "need to remind people what [ Trump's ] record is, and the fact that he just is a pathological liar."
          ],
          [
           "joe biden",
           "`Bernie has a real decision to make' : Labor throws in with Biden,"
          ],
          [
           "jeff dewit",
           "The dedication of everyone here towards the mission is inspiring, and the people here are what I will miss the most."
          ],
          [
           "jorge elorza",
           "The `New Providence' takes an integrated approach to taking (on) the whole challenge,"
          ],
          [
           "alice peisch",
           "This bill recognizes the challenges students and districts are facing as we handle the impacts of COVID-19,"
          ],
          [
           "dinesh d'souza",
           "The plot was defeated and now Trump wants to clean house. If you want to call it payback, I'd say it's very necessary payback."
          ],
          [
           "kevin stitt",
           "Let's partner together to fully integrate, by the year 2022, the functions of the State Department of Health, the Oklahoma Health Care Authority, the Department of Mental Health, and others, as well as all of the state's licensing boards that deal with health,"
          ],
          [
           "tom cole",
           "You take Oklahoma, a classic oil and gas state,"
          ],
          [
           "chuck schumer",
           "I hope we can get witnesses and documents. It's an uphill fight. Is it more likely than not? Probably no.. But is it a decent, good chance? Yes,"
          ],
          [
           "kellyanne conway",
           "I think it shows you the contrast in leadership when you have feckless leaders or you have a president who's publicly facing every single day giving people information and engagement they need."
          ],
          [
           "laura curran",
           "send a clear message in one voice: Long Islanders of all faiths and backgrounds stand united with our Jewish community and against Anti-Semitism."
          ],
          [
           "ron desantis",
           "None of those airports are in Florida."
          ],
          [
           "janice hahn",
           "We need places where people can be safely isolated from the public and even from their families,"
          ],
          [
           "jared polis",
           "Our mountains and our canyons have been here for hundreds of thousands of years, and they're going to be here for hundreds of thousands of years,"
          ],
          [
           "eric garcetti",
           "will live forever in the heart"
          ],
          [
           "rudolph giuliani",
           "Sounds like the Biden family RICO case,"
          ],
          [
           "hilda solis",
           "I'm very disappointed that people are buying into the stereotypes,"
          ],
          [
           "bernie sanders",
           "All of those congresspeople just so happen to be supporting other candidates-accidentally, no doubt."
          ],
          [
           "katie hobbs",
           "requires states to provide individuals with the opportunity to vote at the same time that they apply for a driver's license or seek to renew a driver's license."
          ],
          [
           "das williams",
           "A denial (of the appeal) today will for the first time in a long time send that signal to the world that we mean business about renewable energy,"
          ],
          [
           "mike pence",
           "My wife and i have no symptoms, but we're checking our temperature regularly every day and will continue to follow guidance,"
          ],
          [
           "steve gooch",
           "He's become a leader in Washington. Doug has really been a champion for the president in the impeachment."
          ],
          [
           "lori lightfoot",
           "By working hand-in-hand with city and state officials, community advocates, and industry partners and providing residents with the resources they need to succeed, we can empower those interested in becoming the next employee, business owner or investor in Chicago's newest industry,"
          ],
          [
           "bernie sanders",
           "There are British people working in the top industries in the world and at the top of those industries,"
          ],
          [
           "keith ellison",
           "And the way this has been handled raises serious questions about due process."
          ],
          [
           "amy klobuchar",
           "having some experience is a good thing."
          ],
          [
           "mike pompeo",
           "confident... as we move forward together to make sure the next generation of technology is secure."
          ],
          [
           "nancy pelosi",
           "We need to help the helpers,"
          ],
          [
           "chris christie",
           "everything is in the context of politics"
          ],
          [
           "joe scarborough",
           "I hope by the end of this sorry spectacle we could say scores. Nothing would make me prouder of these people that I've known for years and worked with, but that really is a question, isn't it? Who are the Howard Bakers that history will remember as men and women of virtue?"
          ],
          [
           "bernie sanders",
           "The first gulag that was opened; have you heard about Belomorkanal? They dug a canal; the plan was, in 1922, I think, to dig a Canal from the White Sea all the way to Saint Petersburg... a long way, if you look on a map... and, the whole point -- it was going to be called the Belomorkanal, and I read -- I spent a whole semester actually studying primary accounts from the Belomorkanal. The whole point of the Belomorkanal, there were no machines allowed. They forced the people to dig with shovels and hoe the whole canal, right? You should see the people writing about their time at the Belomorkanal. There's this one guy, he was a thief from Georgia who had been captured. He was sent to the Belomorkanal to work and in his writing, like `I reject all thievery, I reject that past life.' He said, capitalism made me into this thief, because when there's poor people, there's going to be crime. He said, `I went to the Belomorkanal and I worked.' He became a shock worker, which is what they call the leading workers, people who always met the quota and exceeded the quota... and, like people came from America to work at the Belomorkanal for the Soviet project, the communist project. It was a beautiful thing."
          ],
          [
           "domenic sarno",
           "Springfield is at capacity."
          ],
          [
           "troy carter",
           "We also made it open so that people outside of the industry can ask the panel questions."
          ],
          [
           "greg gianforte",
           "Here we specifically looked for wasteful programs that could be consolidated or streamlined, or in certain cases eliminated,"
          ],
          [
           "travis cummings",
           "significant changes in estimates of future state obligations."
          ],
          [
           "bobby kaufmann",
           "and a record of accomplishing things."
          ],
          [
           "ed markey",
           "Trump's apparent assassination of Soleimani is a massive, deliberate, and dangerous escalation of conflict with Iran. The President just put the lives of every person in the region -- U.S. service members and civilians -- at immediate risk. We need de-escalation now."
          ],
          [
           "mike dewine",
           "determine whether there are sufficient controls in place to ensure the public's dollars are being wisely spent."
          ],
          [
           "kevin lembo",
           "In addition, we are reducing the sales tax estimate by $30 million, again due to coronavirus-related business closures and shelter-at-home directives."
          ],
          [
           "andrew cuomo",
           "One of the most effective ways to contain the spread of the virus is to limit large gatherings and close contacts, and I applaud the parade's leadership for working cooperatively with us,"
          ],
          [
           "anthony brindisi",
           "It's tough to mourn a child to begin with, and to have horrific images of that child's death shared with you is unconscionable, and we all have to do a better job, as policy makers, as social media platforms and as the public to try to prevent this stuff from happening,"
          ],
          [
           "janet mills",
           "Maine's Community Colleges have always played a critical role in providing training and skills to strengthen our workforce. With the State battling COVID-19, that work is more important than ever,"
          ],
          [
           "mary margaret oliver",
           "If you vote no, you're not for the safety of children -- I object to that,"
          ],
          [
           "joe biden",
           "My son -- my deceased son -- was the Attorney General of the United States and before that, he was a federal prosecutor in one of the largest office's in the country in Philadelphia,"
          ],
          [
           "bill weld",
           "You could spend an infinite amount of blood, treasure, resources in an effort trying to get people who don't live like us, to live like us -- or you could be nice."
          ],
          [
           "michael gianaris",
           "And the other is not to put anyone's health at risk."
          ],
          [
           "elizabeth warren",
           "I'm in this race to talk about what's broken in this country and how to fix it -- and that's what I'm going to continue to do,"
          ],
          [
           "chris day",
           "come together to support our Chinese colleagues and students during this distressing time."
          ],
          [
           "susan collins",
           "There is no reason why regulated research animals that are suitable for adoption or retirement should be killed by our federal agencies. I'm pleased that the FDA has joined the NIH and VA in enacting a lab animal retirement policy."
          ],
          [
           "martin j. dunn",
           "Too many can locate in one area. That's a problem we've seen here in California,"
          ],
          [
           "cory booker",
           "As a candidate who didn't have big money or whatever, Iowa is a smaller state where you have to really go out and win in the grassroots campaigning style, and Iowa's culture and history really supports that."
          ],
          [
           "don beyer",
           "The harder part is getting people there, getting folks that have to fly from all over the country, or just getting folks in their 70s, 80s, or 90s driving from New York or driving from Florida,"
          ],
          [
           "ron desantis",
           "Those are the main ways where this thing really took root in Florida."
          ],
          [
           "mike dewine",
           "Absolutely. Absolutely. Look, the projections -- and, again, this is all projections -- I'm just going by what medical experts are telling us. This may not peak until the latter part of April or May. So, we have informed the superintendents, while we have closed schools for three weeks, that the odds are that this is going to go on a lot longer. And it would not surprise me at all if schools did not open again this year."
          ],
          [
           "larry krasner",
           "profound risk posed to people in correctional facilities arising from the spread of COVID-19,"
          ],
          [
           "mike dewine",
           "Frankly, we're sharing ideas... with 50 states there's always an opportunity that someone is doing something different or unique and better. So I'm always looking for that,"
          ],
          [
           "rick jones",
           "That's what I like about him, he's a long ways from being a finished product,"
          ],
          [
           "richard corcoran",
           "When you're trying to remember what's four times four, and you have to think about it and it's not automatic, you're never going to be able to conquer algebra and all those other courses,"
          ],
          [
           "tommy tuberville",
           "cell phones, healthmcare, everything they want"
          ],
          [
           "gavin newsom",
           "It's a remarkable spirit and a remarkable number of individuals who have stepped up,"
          ],
          [
           "jerome powell",
           "Of course the situation is really in its early stages and its very uncertain about how much it will spread and what the macroeconomic effects would be in China and its immediate trading partners and neighbors and around the world."
          ],
          [
           "london breed",
           "It is crucial that we still clean our streets to prevent trash buildup and local flooding,"
          ],
          [
           "gretchen whitmer",
           "All public and private gatherings of any size."
          ],
          [
           "shirley smith",
           "Then, you can expect to see a broken taillight."
          ],
          [
           "deborah kafoury",
           "Crisis exposes the character of a community,"
          ],
          [
           "thomas dinapoli",
           "The securities industry is integral to New York State's and New York City's economies as a source of tax revenue and job creator."
          ],
          [
           "pete buttigieg",
           "Bernie's campaign is out-raising and out-spending us. If this continues, there's a good chance he wins the Iowa caucuses."
          ],
          [
           "joe biden",
           "Together we will defeat Donald Trump. And when we do that, we'll not only do the hard work of rebuilding this nation -- we'll transform it."
          ],
          [
           "dale folwell",
           "stop spreading false narratives that are only meant to advance their political agendas, and I sincerely hope they will stop misleading our citizens."
          ],
          [
           "josh hawley",
           "I would call on Schumer to apologize, but we all know he has no shame. So tomorrow I will introduce a motion to censure Schumer for his pathetic attempt at intimidation of [ the ] Supreme Court."
          ],
          [
           "andrew cuomo",
           "We have been behind this virus from day one."
          ],
          [
           "mick mulvaney",
           "I was --, I was involved with the process by which the money was held up temporarily."
          ],
          [
           "john cornyn",
           "There's no question that there have been a series of grifters and other hangers on that have associated themselves with the president's campaign or claimed to have special relationships with the president. But this is not the issue that the Senate's going to be deciding,"
          ],
          [
           "bernie sanders",
           "is a political hack, who said very terrible things when he was working for Clinton against Barack Obama."
          ],
          [
           "chris anderson",
           "It may not be easy to persuade everyone to really commit to spending most of the week this way,"
          ],
          [
           "mike dewine",
           "These strategies will save lives,"
          ],
          [
           "mark meadows",
           "At some point we have to stand up and let the long arm of justice go in and take out these terrorists."
          ],
          [
           "james oddo",
           "Surge; Supplies; Staffing. These are the three overarching concerns we continue to be focused on,"
          ],
          [
           "joe biden",
           "Nationwide, health centers like these are a number one source of care for under served communities. It didn't always make the headlines but expansion of community health centers was one of the things President Obama and I were most proud of with Obamacare."
          ],
          [
           "lamar alexander",
           "I mean, the question for me was: Do I need more evidence to conclude that the president did what he did? And I concluded no."
          ],
          [
           "mike pence",
           "And come out stronger than ever before, and we'll get through this as Americans together."
          ],
          [
           "elaine chao",
           "Beginning rehab work in the near-term is the right move, and not waiting years for the construction of a new tunnel beforehand. New and innovative methods for repairing the North River Tunnel while still in operation, could allow Amtrak to commence repairs in this tunnel as much as 10 years ahead of schedule."
          ],
          [
           "kristin gaspar",
           "Let me be clear: Nobody is contending that nicotine or tobacco aren't bad for you,"
          ],
          [
           "elaine chao",
           "The airlines are really hurting,"
          ],
          [
           "mark white",
           "These events would of course have to end or be severely curtailed if the closure goes ahead."
          ],
          [
           "hillary ronen",
           "As we continue to grapple with the impacts of climate change we should be investing in strategies that promote San Francisco's climate resilience instead of removing a large number of trees from our urban canopy; especially in neighborhoods like the Mission, which experience disproportionate rates of pollution and suffer from some of the worst health conditions in The City,"
          ],
          [
           "john binkley",
           "He doesn't have a role in any of the operations of the paper. We're certainly related -- he's my dad -- but he doesn't own the newspaper or have any role in it,"
          ],
          [
           "joe biden",
           "I was not able to,"
          ],
          [
           "janelle bynum",
           "As technology evolves, I think we have to stick with our values,"
          ],
          [
           "steve adler",
           "They haven't quite figured out the path yet. But they fully intend to come back."
          ],
          [
           "ron desantis",
           "spread out far enough."
          ],
          [
           "bruce westerman",
           "I found out I'm the only person in the House that went to forestry school,"
          ],
          [
           "gretchen whitmer",
           "I think there are a lot of phenomenal candidates that would round out this ticket in meaningful ways, empowered ways, not tokenism,"
          ],
          [
           "jim caldwell",
           "I want to thank Stephen Ross, Chris Grier, Coach (Brian) Flores and the rest of the organization for the support they have given me and my family."
          ],
          [
           "bernie sanders",
           "What will not happen again, if I have anything to say about it, is a caucus this complicated,"
          ],
          [
           "bernie sanders",
           "This is a dangerous escalation that brings us closer to another disastrous war in the Middle East, which could cost countless lives and trillions more dollars and lead to even more death, more conflict, more displacement in that already highly volatile region of the world,"
          ],
          [
           "daniel hemmert",
           "for this bill to pass."
          ],
          [
           "jay inslee",
           "These ventilators are going to New York and others states hardest hit by this virus. I've said many times over the last few weeks, we are in this together,"
          ],
          [
           "joe biden",
           "no one did understand Obamacare."
          ],
          [
           "pete buttigieg",
           "There is a stain on the appointment of Brett Kavanaugh,"
          ],
          [
           "gavin newsom",
           "If you're a nursing school student, a medical school student, we need you. If you've just retired in the last few years, we need you. If you are looking to expand your scope of practice and have particular expertise in any particular capacity, we need you and we encourage you to take a look at that,"
          ],
          [
           "das williams",
           "I don't mean in terms of having people lose a little bit of their income. I mean it in terms of ruining their lives."
          ],
          [
           "chris murphy",
           "the most influential Middle East military official for decades"
          ],
          [
           "gavin newsom",
           "California has been disproportionately impacted by repatriation efforts over the last few months,"
          ],
          [
           "mick mulvaney",
           "I really tried to get people to sink their teeth into it in the first term, but it's not sexy,"
          ],
          [
           "zoe lofgren",
           "I've read that testimony. I will just say that a cover-up is not a proper reason to classify a document,"
          ],
          [
           "brice wiggins",
           "You know what, that's on us and as a body we need to be cognizant of that,"
          ],
          [
           "greg abbott",
           "We've seen very swift and very effective standards issued by local authorities based upon consultation with local health authorities, which is the way the structure works in the state of Texas,"
          ],
          [
           "alex villanueva",
           "Although explicitly advisory in nature, nonetheless the federal memorandum is persuasive given its national scope,"
          ],
          [
           "rep. ilhan omar",
           "It's good to never forget to be firm in what you stand for. To remind the people, as boldly, as loudly as possible on where they should stand. And to continue to do the work that needs to get done on behalf of your caucus, Congress and the country."
          ],
          [
           "phil keisling",
           "I've been working on this for 30 years, and a pandemic is the last reason we wanted to get attention,"
          ],
          [
           "pete buttigieg",
           "Unfortunately, we've seen a pattern where minority owned businesses are less likely to get credit even when they are creditworthy,"
          ],
          [
           "matt schaefer",
           "I think we did not carefully think through a way for the victim to have the maximum amount of choice, the maximum amount of support,"
          ],
          [
           "jerome powell",
           "I do know that the U.S. economy is strong.. I fully expect that we will return to solid growth and a solid labor market as well."
          ],
          [
           "craig coughlin",
           "No family should have to choose between paying their bills and eating a nutritious meal, but sadly that is the case for many during the current coronavirus health emergency. Ensuring SNAP recipients receive the assistance they need is critical as we wait for this pandemic to subside."
          ],
          [
           "jason frierson",
           "The idea behind this is if we get ahead of it instead of behind it, it will affect you less,"
          ],
          [
           "neil chatterjee",
           "The recent fall in LNG prices to record lows has not dented investor interest in setting up new LNG export facilities in the United States,"
          ],
          [
           "henry mcmaster",
           "I was proud to work with the General Assembly to support legislation creating the South Carolina Department of Veterans' Affairs to be led by a secretary to act as their advocate on the state and federal level,"
          ],
          [
           "mitch mcconnell",
           "Now, at last I believe we're on the five yard line. It's taken a lot of noise and a lot of rhetoric to get us here. That, of course, sometimes happens in this town."
          ],
          [
           "jim risch",
           "That method of presentation, if you're trying to persuade a jury, is totally ineffective. People can't stay focused for that long on the same thing over and over again."
          ],
          [
           "steve scalise",
           "realiz [ ing ] this president is going to win again,"
          ],
          [
           "henry mcmaster",
           "strong support for the rights of citizens to bear arms pursuant to the Second Amendment,"
          ],
          [
           "john roberts",
           "civic education has fallen by the wayside,"
          ],
          [
           "robin hayes",
           "We've been preparing 10 years for this event, and we're acting very quickly to cut capacity and reduce costs so we can weather this."
          ],
          [
           "alexandria ocasio-cortez",
           "There's this gun rights protest that's going on in Richmond... on MLK Day, but here's the image that has [ stuck ] with me the most about that is that when we go out and march for the dignity and the recognition of the lives of people like Freddie Gray and Eric Garner,"
          ],
          [
           "brian king",
           "the likelihood that they're never going to be able to pay their debt and never get their license back, which means that they'll not be able to get to work to earn the money to pay the debt."
          ],
          [
           "glen taylor",
           "I think that we made wholesale changes in the players -- these players that we now have on our team are more apt to play the style that the coach [ Ryan Saunders ] would like to see. That's shooting of threes, moving the ball around the court a lot and moving up and down the court fast."
          ],
          [
           "bernie sanders",
           "I would be ripped if people's student debt was completely erased because I sacrificed a lot for my kids to go to school."
          ],
          [
           "herb conaway",
           "We unfortunately are living in a time when we're seeing markedly increased rates of depression and anxiety among our youth, and suicide among our youth. Suicidality, of course, is directly related to depression,"
          ],
          [
           "jillian balow",
           "So since the mid 1990s, we've added things to the basket, we've created more rigorous standards and skills associated with the basket but never examined the basket itself,"
          ],
          [
           "joe donnelly",
           "He took the talents he had as far as they could possibly go. Pete is new to the scene. There's a great desire for a leader like Joe Biden."
          ],
          [
           "rodney anderson",
           "Because the process is obviously not working."
          ],
          [
           "ethan berkowitz",
           "because everyone is contending with this. This order is about making sure medical resources are taken care of and people in Alaska and people in Anchorage are as protected as we can be."
          ],
          [
           "jon bramnick",
           "You want to help students, that's great,"
          ],
          [
           "cary condotta",
           "Tax increases have been well in excess of population growth and inflation, and it's time to give a reduction out of the surpluses. We can win this battle."
          ],
          [
           "pete buttigieg",
           "You cannot fully love a country, if you hate half of the people in it."
          ],
          [
           "kellyanne conway",
           "like if all of a sudden Ukraine switched sides and became a Russian satellite, well then yeah, absolutely. If they're not going to fight the Russians, then why would you be giving them aid? That would be a perfectly legitimate reason to say I'm going to hold withhold this money."
          ],
          [
           "eric garcetti",
           "if the tenant is able to show an inability to pay rent due to circumstances related to the COVID-19 pandemic."
          ],
          [
           "neil rafferty",
           "I am satisfied that he (Lakatos) if not the orchestrator was certainly a key player."
          ],
          [
           "kevin cramer",
           "I think that every hour that goes by where they don't say something new, they make it easier for people on the bubble to vote against their position."
          ],
          [
           "greg abbott",
           "As we see the spread of this across the state of Texas, it is absolutely essential every leader must employ the standards that have been established by the CDC to mitigate the spread of the coronavirus."
          ],
          [
           "lindsey graham",
           "Ron Johnson's doing it,"
          ],
          [
           "bob lane",
           "Just very caring, would sit there and listen to you, add anything that he could to help if you had a problem."
          ],
          [
           "jerome powell",
           "That was that was the American story for a long, long, time,"
          ],
          [
           "julián castro",
           "We've changed in the 50 years since order was established - and I believe it's time our primaries reflect our nation's diversity,"
          ],
          [
           "andrew cuomo",
           "We went to 50% of the work force today. Obviously, the flip side is the more you close down businesses, the worse on the economy and on individual incomes,"
          ],
          [
           "michael bennet",
           "The extra time taken to get this right resulted in a much better final product,"
          ],
          [
           "jerry ortiz y pino",
           "to contract and commission a mural for the New Mexico Museum of Art,"
          ],
          [
           "martha mcsally",
           "I remain committed to ensuring my provisions in this year's defense bill to combat military sexual assault are implemented swiftly & to working with DoD leaders to end this cancer in our military."
          ],
          [
           "david coulter",
           "We can't forget about them -- they are on the front lines."
          ],
          [
           "nikki haley",
           "are going in a direction I cannot support,"
          ]
         ],
         "hovertemplate": "party_label=%{x}<br>pred=%{y}<br>speaker=%{customdata[0]}<br>quotation=%{customdata[1]}<br>rounded_pred=%{marker.color}<extra></extra>",
         "legendgroup": "",
         "marker": {
          "color": [
           0,
           1,
           1,
           0,
           0,
           0,
           1,
           1,
           1,
           0,
           1,
           0,
           0,
           1,
           0,
           1,
           0,
           1,
           0,
           0,
           1,
           0,
           1,
           1,
           1,
           1,
           1,
           1,
           0,
           0,
           1,
           0,
           1,
           0,
           0,
           0,
           1,
           0,
           0,
           1,
           0,
           0,
           1,
           0,
           1,
           1,
           1,
           1,
           1,
           1,
           1,
           0,
           1,
           1,
           0,
           0,
           0,
           1,
           0,
           0,
           1,
           1,
           0,
           1,
           0,
           1,
           1,
           0,
           0,
           0,
           1,
           0,
           1,
           0,
           0,
           0,
           0,
           1,
           1,
           1,
           1,
           0,
           1,
           0,
           1,
           1,
           1,
           0,
           1,
           0,
           0,
           0,
           0,
           0,
           0,
           0,
           1,
           1,
           0,
           0,
           1,
           1,
           0,
           0,
           0,
           0,
           0,
           0,
           1,
           1,
           0,
           1,
           0,
           0,
           1,
           1,
           1,
           1,
           0,
           0,
           0,
           0,
           1,
           0,
           0,
           1,
           1,
           0,
           1,
           1,
           0,
           1,
           1,
           0,
           0,
           0,
           0,
           0,
           0,
           0,
           1,
           0,
           1,
           1,
           0,
           1,
           1,
           1,
           1,
           0,
           0,
           1,
           0,
           1,
           0,
           1,
           1,
           1,
           0,
           1,
           0,
           0,
           1,
           1,
           0,
           0,
           0,
           1,
           0,
           1,
           0,
           1,
           0,
           0,
           0,
           1,
           0,
           1,
           0,
           0,
           1,
           1,
           0,
           1,
           1,
           1,
           0,
           1,
           1,
           0,
           1,
           0,
           0,
           1,
           0,
           1,
           1,
           1,
           0,
           0,
           0,
           0,
           0,
           0,
           0,
           0,
           0,
           1,
           0,
           0,
           0,
           0,
           0,
           0,
           0,
           0,
           1,
           1,
           1,
           0,
           0,
           0,
           1,
           0,
           0,
           1,
           0,
           0,
           0,
           1,
           1,
           0,
           1,
           1,
           0,
           1,
           1,
           1,
           0,
           0,
           1,
           0,
           0,
           1,
           0,
           1,
           1,
           1,
           1,
           0,
           1,
           0,
           0,
           0,
           1,
           0,
           1,
           0,
           1,
           0,
           0,
           1,
           0,
           1,
           1,
           0,
           1,
           1,
           1,
           1,
           0,
           1,
           1,
           0,
           1,
           1,
           0,
           1,
           0,
           1,
           0,
           1,
           0,
           1,
           0,
           0,
           1,
           0,
           1,
           1,
           0,
           0,
           0,
           1,
           0,
           0,
           0,
           1,
           1,
           1,
           1,
           0,
           1,
           0,
           0,
           1,
           0,
           0,
           0,
           1,
           0,
           0,
           0,
           1,
           1,
           1,
           1,
           0,
           0,
           0,
           1,
           1,
           1,
           0,
           0,
           0,
           0,
           1,
           1,
           0,
           0,
           0,
           1,
           0,
           1,
           0,
           0,
           0,
           0,
           0,
           0,
           1,
           1,
           1,
           0,
           1,
           1,
           0,
           1,
           1,
           0,
           0,
           0,
           0,
           1,
           1,
           0,
           0,
           1,
           0,
           0,
           0,
           1,
           1,
           1,
           1,
           0,
           0,
           0,
           1,
           1,
           0,
           1,
           0,
           0,
           1,
           1,
           0,
           0,
           0,
           1,
           1,
           1,
           0,
           1,
           1,
           1,
           0,
           1,
           0,
           0,
           1,
           0,
           1,
           1,
           0,
           0,
           0,
           1,
           0,
           1,
           1,
           0,
           0,
           1,
           0,
           1,
           0,
           0,
           0,
           1,
           0,
           0,
           0,
           1,
           1,
           1,
           1,
           0,
           1,
           0,
           1,
           1,
           0,
           0,
           0,
           1,
           1,
           0,
           1,
           1,
           1,
           1,
           1,
           1,
           0,
           1,
           0,
           0,
           1,
           0,
           1,
           1,
           0,
           0,
           1,
           0,
           1,
           1,
           1,
           0,
           0,
           0,
           1,
           1,
           1,
           0,
           1,
           0,
           1,
           1,
           1,
           1,
           0,
           0,
           1,
           0,
           1,
           1,
           1,
           0,
           0,
           1,
           0,
           1,
           0,
           0,
           1,
           0,
           1,
           0,
           1,
           0,
           1,
           1,
           1,
           0,
           1,
           1,
           0,
           1,
           1,
           0,
           0,
           0,
           0,
           1,
           0,
           1,
           0,
           1,
           1,
           0,
           1,
           0,
           0,
           0,
           0,
           0,
           1,
           1,
           1,
           1,
           1,
           1,
           1,
           1,
           1,
           1,
           1,
           0,
           1,
           1,
           0,
           0,
           1,
           0,
           1,
           0,
           1,
           1,
           1,
           1,
           1,
           0,
           1,
           0,
           0,
           1,
           1,
           0,
           1,
           0,
           1,
           0,
           1,
           1,
           0,
           1,
           1,
           1,
           0,
           1,
           1,
           1,
           0,
           1,
           0,
           0,
           1,
           0,
           1,
           0,
           1,
           1,
           0,
           1,
           0,
           1,
           0,
           0,
           1,
           0,
           1,
           0,
           1,
           1,
           0,
           1,
           0,
           0,
           0,
           0,
           0,
           1,
           1,
           1,
           0,
           1,
           0,
           0,
           0,
           1,
           1,
           0,
           0,
           0,
           0,
           0,
           0,
           1,
           1,
           0,
           1,
           1,
           0,
           1,
           0,
           1,
           1,
           1,
           1,
           1,
           0,
           1,
           1,
           0,
           0,
           1,
           0,
           1,
           1,
           1,
           0,
           0,
           0,
           0,
           1,
           1,
           1,
           0,
           0,
           0,
           1,
           0,
           0,
           1,
           1,
           0,
           1,
           0,
           1,
           1,
           1,
           1,
           1,
           0,
           0,
           1,
           0,
           0,
           0,
           0,
           0,
           1,
           1,
           1,
           0,
           1,
           0,
           1,
           1,
           1,
           0,
           0,
           0,
           1,
           1,
           0,
           1,
           1,
           1,
           0,
           1,
           0,
           0,
           0,
           0,
           0,
           1,
           0,
           1,
           0,
           1,
           0,
           0,
           0,
           1,
           0,
           0,
           0,
           1,
           1,
           1,
           0,
           0,
           0,
           0,
           0,
           0,
           0,
           1,
           1,
           1,
           0,
           0,
           1,
           0,
           0,
           0,
           1,
           1,
           0,
           1,
           0,
           1,
           1,
           0,
           0,
           1,
           0,
           1,
           0,
           1,
           0,
           0,
           1,
           0,
           0,
           1,
           1,
           0,
           1,
           1,
           1,
           0,
           1,
           0,
           1,
           0,
           0,
           0,
           0,
           0,
           0,
           0,
           1,
           0,
           1,
           0,
           0,
           1,
           0,
           1,
           1,
           0,
           0,
           0,
           0,
           0,
           1,
           1,
           1,
           0,
           0,
           0,
           0,
           0,
           1,
           0,
           0,
           0,
           1,
           1,
           0,
           1,
           1,
           0,
           1,
           1,
           1,
           1,
           1,
           1,
           1,
           0,
           0,
           0,
           0,
           0,
           1,
           1,
           0,
           0,
           1,
           0,
           0,
           1,
           0,
           0,
           0,
           1,
           1,
           1,
           1,
           1,
           0,
           1,
           1,
           0,
           0,
           0,
           1,
           0,
           1,
           1,
           1,
           0,
           1,
           1,
           0,
           0,
           1,
           0,
           0,
           0,
           1,
           0,
           1,
           0,
           0,
           0,
           0,
           1,
           0,
           0,
           1,
           1,
           1,
           1,
           0,
           0,
           1,
           1,
           1,
           1,
           1,
           0,
           0,
           1,
           1,
           1,
           1,
           1,
           0,
           1,
           0,
           0,
           1,
           0,
           0,
           1,
           1,
           0,
           1,
           0,
           1,
           0,
           0,
           0,
           1,
           1,
           1,
           0,
           0,
           0,
           0,
           0,
           0,
           0,
           0,
           1,
           0,
           0,
           0,
           1,
           0,
           1,
           1,
           1,
           0,
           0,
           0,
           1,
           1,
           1,
           0,
           1,
           0,
           0,
           1,
           0,
           1,
           0,
           1,
           1,
           0,
           0,
           1,
           0,
           0,
           0,
           0,
           1,
           0,
           0,
           0,
           0,
           0,
           1,
           0,
           0,
           1,
           0,
           1,
           0,
           0,
           1,
           1,
           0,
           1,
           1,
           0,
           1,
           0,
           0,
           0,
           0,
           0,
           0,
           1,
           1,
           1,
           0,
           0,
           1,
           0,
           1,
           1,
           1,
           1,
           1,
           1,
           0,
           0,
           1,
           1,
           1,
           1,
           0,
           0,
           1,
           0,
           0,
           1,
           0,
           0,
           1,
           0,
           0,
           0,
           1,
           1,
           0,
           0,
           0,
           0,
           0,
           0,
           0,
           1,
           0,
           1,
           1,
           0,
           1,
           1,
           0,
           1,
           1,
           0,
           0,
           0,
           1,
           1,
           0,
           0,
           1,
           0,
           0
          ],
          "coloraxis": "coloraxis",
          "symbol": "circle"
         },
         "mode": "markers",
         "name": "",
         "orientation": "v",
         "showlegend": false,
         "type": "scatter",
         "x": [
          "D",
          "D",
          "D",
          "R",
          "D",
          "D",
          "D",
          "D",
          "R",
          "R",
          "D",
          "R",
          "D",
          "R",
          "D",
          "R",
          "D",
          "D",
          "R",
          "D",
          "D",
          "D",
          "D",
          "D",
          "D",
          "R",
          "R",
          "D",
          "D",
          "D",
          "D",
          "R",
          "D",
          "D",
          "R",
          "D",
          "D",
          "R",
          "R",
          "D",
          "D",
          "R",
          "D",
          "R",
          "D",
          "R",
          "D",
          "R",
          "R",
          "D",
          "D",
          "D",
          "R",
          "D",
          "R",
          "D",
          "R",
          "R",
          "D",
          "R",
          "R",
          "D",
          "R",
          "R",
          "D",
          "R",
          "D",
          "D",
          "R",
          "R",
          "D",
          "D",
          "D",
          "D",
          "R",
          "D",
          "R",
          "R",
          "D",
          "D",
          "R",
          "D",
          "R",
          "R",
          "R",
          "D",
          "R",
          "D",
          "D",
          "D",
          "R",
          "R",
          "R",
          "R",
          "D",
          "R",
          "R",
          "R",
          "D",
          "R",
          "R",
          "D",
          "R",
          "D",
          "D",
          "R",
          "R",
          "R",
          "D",
          "R",
          "D",
          "R",
          "R",
          "D",
          "R",
          "R",
          "D",
          "R",
          "D",
          "R",
          "D",
          "R",
          "R",
          "D",
          "D",
          "D",
          "D",
          "R",
          "D",
          "R",
          "R",
          "D",
          "D",
          "D",
          "R",
          "R",
          "R",
          "R",
          "D",
          "D",
          "D",
          "D",
          "R",
          "D",
          "D",
          "D",
          "D",
          "R",
          "R",
          "R",
          "R",
          "R",
          "R",
          "R",
          "D",
          "R",
          "D",
          "R",
          "D",
          "D",
          "R",
          "R",
          "D",
          "R",
          "R",
          "D",
          "D",
          "R",
          "D",
          "D",
          "R",
          "R",
          "R",
          "R",
          "D",
          "D",
          "R",
          "R",
          "D",
          "R",
          "D",
          "D",
          "R",
          "D",
          "R",
          "R",
          "R",
          "R",
          "R",
          "D",
          "D",
          "D",
          "D",
          "D",
          "R",
          "R",
          "D",
          "D",
          "D",
          "D",
          "R",
          "D",
          "D",
          "D",
          "R",
          "R",
          "R",
          "D",
          "R",
          "D",
          "R",
          "D",
          "R",
          "D",
          "D",
          "D",
          "R",
          "R",
          "R",
          "D",
          "D",
          "D",
          "D",
          "R",
          "R",
          "D",
          "D",
          "D",
          "R",
          "R",
          "D",
          "R",
          "R",
          "D",
          "D",
          "R",
          "R",
          "R",
          "R",
          "D",
          "R",
          "R",
          "D",
          "R",
          "R",
          "D",
          "D",
          "R",
          "R",
          "R",
          "R",
          "R",
          "R",
          "D",
          "R",
          "D",
          "D",
          "R",
          "D",
          "R",
          "D",
          "D",
          "D",
          "R",
          "D",
          "D",
          "R",
          "D",
          "R",
          "R",
          "R",
          "R",
          "D",
          "R",
          "R",
          "R",
          "R",
          "R",
          "D",
          "R",
          "R",
          "D",
          "R",
          "R",
          "D",
          "D",
          "D",
          "R",
          "R",
          "D",
          "D",
          "R",
          "R",
          "D",
          "D",
          "R",
          "D",
          "R",
          "D",
          "D",
          "R",
          "D",
          "D",
          "R",
          "R",
          "D",
          "D",
          "D",
          "R",
          "R",
          "R",
          "D",
          "R",
          "D",
          "D",
          "D",
          "D",
          "D",
          "R",
          "D",
          "D",
          "R",
          "D",
          "R",
          "R",
          "R",
          "R",
          "R",
          "R",
          "D",
          "R",
          "D",
          "D",
          "R",
          "R",
          "D",
          "D",
          "R",
          "D",
          "D",
          "D",
          "R",
          "D",
          "R",
          "D",
          "R",
          "D",
          "R",
          "R",
          "D",
          "R",
          "D",
          "D",
          "D",
          "R",
          "D",
          "D",
          "D",
          "R",
          "R",
          "D",
          "R",
          "R",
          "R",
          "D",
          "R",
          "D",
          "R",
          "D",
          "R",
          "D",
          "D",
          "D",
          "R",
          "R",
          "R",
          "D",
          "R",
          "D",
          "R",
          "R",
          "D",
          "D",
          "R",
          "R",
          "R",
          "D",
          "R",
          "D",
          "R",
          "R",
          "R",
          "R",
          "D",
          "D",
          "R",
          "D",
          "D",
          "R",
          "D",
          "R",
          "R",
          "D",
          "R",
          "R",
          "R",
          "D",
          "D",
          "D",
          "R",
          "D",
          "R",
          "D",
          "R",
          "R",
          "D",
          "R",
          "R",
          "D",
          "D",
          "D",
          "R",
          "R",
          "R",
          "D",
          "R",
          "R",
          "R",
          "R",
          "R",
          "R",
          "R",
          "R",
          "D",
          "D",
          "D",
          "R",
          "R",
          "D",
          "D",
          "D",
          "R",
          "D",
          "D",
          "D",
          "D",
          "D",
          "D",
          "R",
          "R",
          "R",
          "R",
          "R",
          "R",
          "R",
          "R",
          "D",
          "D",
          "D",
          "D",
          "R",
          "D",
          "D",
          "R",
          "R",
          "R",
          "D",
          "D",
          "D",
          "R",
          "R",
          "D",
          "D",
          "R",
          "R",
          "R",
          "R",
          "D",
          "D",
          "R",
          "R",
          "D",
          "D",
          "R",
          "R",
          "D",
          "R",
          "R",
          "R",
          "D",
          "D",
          "D",
          "D",
          "R",
          "R",
          "D",
          "D",
          "D",
          "D",
          "R",
          "R",
          "D",
          "D",
          "D",
          "R",
          "R",
          "R",
          "D",
          "R",
          "D",
          "D",
          "R",
          "D",
          "D",
          "R",
          "R",
          "R",
          "R",
          "R",
          "D",
          "R",
          "R",
          "R",
          "D",
          "D",
          "D",
          "R",
          "R",
          "R",
          "D",
          "D",
          "D",
          "R",
          "D",
          "R",
          "D",
          "R",
          "D",
          "R",
          "R",
          "D",
          "R",
          "R",
          "R",
          "R",
          "R",
          "D",
          "D",
          "R",
          "D",
          "D",
          "D",
          "D",
          "D",
          "R",
          "R",
          "R",
          "R",
          "R",
          "R",
          "D",
          "D",
          "D",
          "R",
          "R",
          "R",
          "R",
          "D",
          "D",
          "D",
          "R",
          "R",
          "R",
          "D",
          "D",
          "D",
          "D",
          "R",
          "D",
          "R",
          "R",
          "D",
          "R",
          "R",
          "R",
          "R",
          "R",
          "D",
          "R",
          "D",
          "D",
          "R",
          "D",
          "D",
          "D",
          "R",
          "R",
          "D",
          "R",
          "R",
          "D",
          "D",
          "R",
          "R",
          "R",
          "R",
          "D",
          "D",
          "R",
          "R",
          "R",
          "D",
          "R",
          "R",
          "D",
          "D",
          "D",
          "R",
          "D",
          "R",
          "D",
          "R",
          "D",
          "D",
          "R",
          "R",
          "R",
          "R",
          "R",
          "R",
          "R",
          "R",
          "R",
          "R",
          "D",
          "D",
          "D",
          "D",
          "R",
          "D",
          "R",
          "R",
          "R",
          "R",
          "R",
          "R",
          "R",
          "D",
          "D",
          "R",
          "R",
          "D",
          "D",
          "R",
          "D",
          "D",
          "D",
          "R",
          "R",
          "D",
          "R",
          "D",
          "D",
          "R",
          "D",
          "D",
          "R",
          "D",
          "R",
          "R",
          "D",
          "D",
          "R",
          "R",
          "D",
          "D",
          "D",
          "D",
          "R",
          "D",
          "R",
          "R",
          "D",
          "D",
          "D",
          "R",
          "D",
          "D",
          "R",
          "D",
          "R",
          "R",
          "D",
          "R",
          "D",
          "D",
          "D",
          "D",
          "D",
          "D",
          "D",
          "R",
          "R",
          "R",
          "R",
          "D",
          "R",
          "R",
          "D",
          "D",
          "D",
          "D",
          "R",
          "D",
          "R",
          "R",
          "D",
          "R",
          "D",
          "D",
          "R",
          "D",
          "R",
          "D",
          "D",
          "D",
          "R",
          "R",
          "R",
          "D",
          "D",
          "D",
          "R",
          "D",
          "D",
          "R",
          "R",
          "D",
          "R",
          "D",
          "D",
          "D",
          "R",
          "D",
          "D",
          "D",
          "R",
          "D",
          "R",
          "D",
          "D",
          "D",
          "R",
          "R",
          "D",
          "R",
          "D",
          "D",
          "R",
          "R",
          "D",
          "R",
          "D",
          "D",
          "D",
          "R",
          "R",
          "R",
          "R",
          "D",
          "R",
          "R",
          "R",
          "D",
          "D",
          "R",
          "R",
          "R",
          "D",
          "D",
          "R",
          "D",
          "D",
          "D",
          "R",
          "D",
          "R",
          "D",
          "R",
          "R",
          "R",
          "R",
          "D",
          "R",
          "R",
          "D",
          "R",
          "D",
          "D",
          "R",
          "R",
          "R",
          "D",
          "D",
          "R",
          "R",
          "D",
          "D",
          "R",
          "D",
          "R",
          "D",
          "R",
          "D",
          "D",
          "R",
          "R",
          "D",
          "D",
          "D",
          "D",
          "D",
          "R",
          "D",
          "D",
          "D",
          "D",
          "D",
          "R",
          "R",
          "D",
          "D",
          "R",
          "D",
          "D",
          "R",
          "R",
          "R",
          "R",
          "R",
          "D",
          "R",
          "R",
          "R",
          "R",
          "D",
          "R",
          "D",
          "R",
          "D",
          "D",
          "R",
          "D",
          "D",
          "R",
          "R",
          "R",
          "D",
          "R",
          "D",
          "R",
          "D",
          "D",
          "D",
          "R",
          "D",
          "D",
          "D",
          "D",
          "R",
          "R",
          "D",
          "D",
          "D",
          "D",
          "R",
          "D",
          "R",
          "R",
          "D",
          "D",
          "D",
          "R",
          "R",
          "R",
          "D",
          "R",
          "D",
          "D",
          "D",
          "D",
          "D",
          "D",
          "R",
          "D",
          "D",
          "R",
          "R",
          "D",
          "D",
          "D",
          "R",
          "R",
          "D",
          "R",
          "R",
          "R",
          "R",
          "D",
          "R",
          "D",
          "D",
          "D",
          "D",
          "D",
          "D",
          "D",
          "R",
          "R",
          "D",
          "R",
          "R",
          "D",
          "D",
          "R",
          "R",
          "R",
          "D",
          "R",
          "R",
          "R",
          "R",
          "R",
          "R",
          "D",
          "R",
          "D",
          "D",
          "D",
          "R",
          "R",
          "D",
          "R",
          "D",
          "D",
          "R",
          "D",
          "D",
          "D",
          "D",
          "D",
          "D",
          "D",
          "R",
          "D",
          "R",
          "R",
          "D",
          "D",
          "D",
          "D",
          "R",
          "R",
          "D",
          "D",
          "R",
          "R",
          "R",
          "R",
          "R",
          "R",
          "R",
          "R",
          "D",
          "D",
          "R",
          "D",
          "D",
          "R",
          "D",
          "R",
          "D",
          "R",
          "R",
          "D",
          "R",
          "D",
          "D",
          "R",
          "R",
          "R",
          "D",
          "R",
          "D",
          "D",
          "D",
          "D",
          "R",
          "D",
          "R"
         ],
         "xaxis": "x",
         "y": [
          0.5061656351125553,
          0.2480955404281106,
          0.19897494530026577,
          0.6085323541241815,
          0.9524965718758985,
          0.6324952392639182,
          0.4209159072833525,
          0.4086222199389622,
          0.26863577349223156,
          0.7287828653043907,
          0.1972336645872,
          0.987065862202416,
          0.6333869369657794,
          0.32052265737815444,
          0.6212039305125666,
          0.4042898744360615,
          0.8537990560065492,
          0.17009856400737433,
          0.5869758895426042,
          0.755641136848366,
          0.29394772086471205,
          0.8002985133392322,
          0.36782859929400297,
          0.14470707484540793,
          0.35101216421523446,
          0.4485564046738974,
          0.446106258162304,
          0.30529457815685307,
          0.5680380150464232,
          0.7793015105418446,
          0.26515660817824394,
          0.554079074414058,
          0.4196070788593609,
          0.5025368987792872,
          0.5621456698338391,
          0.5751665399327491,
          0.357072192125084,
          0.8708362702922363,
          0.5116221151779023,
          0.35079501217505193,
          0.7282776450667331,
          0.5069901175065527,
          0.49168793448590525,
          0.5407076734812496,
          0.09837713329083395,
          0.04319800381610317,
          0.3232946513497375,
          0.49687623947008125,
          0.4109441464113665,
          0.42592007075904087,
          0.3358316538041637,
          0.6241562054224842,
          0.07591247988928404,
          0.1573592544666464,
          0.8539749692928086,
          0.5057859916142892,
          0.5538641954613336,
          0.3634556574631562,
          0.5233387473207419,
          0.8141936085521291,
          0.40833153172950043,
          0.2596056863157774,
          0.5299963408029875,
          0.49059864128225045,
          0.6815948306558411,
          0.3224808774494592,
          0.29502690246766816,
          0.5595195966443608,
          0.7176827187132341,
          0.5524100500391412,
          0.4971517421979914,
          0.7142819467050384,
          0.18813565342579175,
          0.5269069994933293,
          0.5465520471157803,
          0.5325665168307048,
          0.650089860318895,
          0.22845218995061345,
          0.48444107678527626,
          0.47771336426429,
          0.38813417721155036,
          0.5360665641250081,
          0.17244972714054765,
          0.8223683543815222,
          0.4511194107610467,
          0.4873450970174806,
          0.29700847763283744,
          0.7434164764681009,
          0.49997195303638725,
          0.6337160299489447,
          0.8004832585573594,
          0.5193978472405368,
          0.5238412176400017,
          0.5688662893451454,
          0.9564159491048959,
          0.7725029045311518,
          0.4089251556316089,
          0.4469674200233194,
          0.7046123854021018,
          0.568091989169776,
          0.4024648898319965,
          0.46515668179209285,
          0.571707688872631,
          0.5254282406544832,
          0.723485715455916,
          0.6019473013118992,
          0.5899750440190883,
          0.601179562918177,
          0.23021278786069402,
          0.4773713677975903,
          0.8876488425201045,
          0.26622232556821995,
          0.512590867846196,
          0.540156434410957,
          0.3316574694659208,
          0.4641477789019127,
          0.17258983723526458,
          0.49416651468065825,
          0.5075161971602733,
          0.5482999170594852,
          0.6835908832802574,
          0.5474257391604663,
          0.21249845710105122,
          0.6885185431343359,
          0.5716590015555617,
          0.3497728064230566,
          0.42300028639500153,
          0.5440264465759337,
          0.3059433397470253,
          0.18740411548003183,
          0.5988151549403901,
          0.00286094810783826,
          0.46231966112446965,
          0.6162154640638748,
          0.721602897072019,
          0.6432147544347995,
          0.6423537510379715,
          0.6021496045595884,
          0.6398846963880532,
          0.6149356244517319,
          0.4278111134544246,
          0.6344820207232315,
          0.40354949259635653,
          0.12107804018182601,
          0.5776552058757655,
          0.3901932730868287,
          0.44655225123099246,
          0.3644013843525957,
          0.3742997990869075,
          0.5633284092498042,
          0.729492898082136,
          0.32168828230451696,
          0.6936377086011395,
          0.4925020679758131,
          0.6474696491233448,
          0.1875405952099592,
          0.418819517478209,
          0.30569721562038554,
          0.5092923659889864,
          0.4315594926895697,
          0.7872133585152441,
          0.5940289608133028,
          0.2962368964208038,
          0.4694929424355874,
          0.6487266016306419,
          0.6518984421916924,
          0.5427985888520833,
          0.34062747993901954,
          0.7173772460136982,
          0.0778460401530308,
          0.5630093852170244,
          0.4752788580840057,
          0.9389674111192154,
          0.5893337132255759,
          0.5724615716532034,
          0.13836794830579383,
          0.6544743658607026,
          0.45649148487340535,
          0.7523360397694833,
          0.5028238671637869,
          0.3128421319195317,
          0.30750205243531176,
          0.7346844021495006,
          0.41220228884591026,
          0.46954051033627153,
          0.32591013180304784,
          0.5049267371871446,
          0.3513091146360289,
          0.133069179278896,
          0.5850171120189679,
          0.2555401239398229,
          0.555203467701529,
          0.6667178839591916,
          0.26936418066119233,
          0.5988553291354711,
          0.4286330150856916,
          0.16893800484948776,
          0.3776228756715261,
          0.5820567003511503,
          0.5660217832056708,
          0.6472450677291367,
          0.7443123951624669,
          0.5464810600852277,
          0.528137093271714,
          0.5885869114432121,
          0.5400733612180707,
          0.5768077623480031,
          0.33981357673490126,
          0.8612145183757507,
          0.6720478042668661,
          0.6454764268026927,
          0.865390712586457,
          0.8680170451748558,
          0.6948973648209484,
          0.7298289052862905,
          0.5831087909246325,
          0.27195314148404465,
          0.3349231181627589,
          0.4798703674518758,
          0.5854538794085623,
          0.6566437962124628,
          0.5628381124526047,
          0.13912961294453768,
          0.6547769020121043,
          0.5224284387580305,
          0.15747602027617147,
          0.8560656388372057,
          0.5410402370993296,
          0.5631832136637452,
          0.384960350996727,
          0.36406988636170784,
          0.7768818805043433,
          0.43439496950034484,
          0.1898801767373069,
          0.7555564373975583,
          0.39259692493823367,
          0.16895691456539128,
          0.3776431653670323,
          0.5712294845412038,
          0.5944375932950977,
          0.2873090829622383,
          0.736590838608085,
          0.5063821704004813,
          0.45429932593713496,
          0.5815379942146275,
          0.24733159352158424,
          0.001097550042279257,
          0.47973930444784624,
          0.3533344116302508,
          0.8305198226285554,
          0.2554873499463231,
          0.6849019278051798,
          0.5348601192328175,
          0.9044150824162257,
          0.09377475618467697,
          0.5212357999517284,
          0.31137877295450506,
          0.5036482430025048,
          0.23160747840798268,
          0.6109775073949966,
          0.5429500571078161,
          0.41209917982322575,
          0.6234011424052736,
          0.43805405309635326,
          0.48092694237395567,
          0.5970689778507356,
          0.49148429041592934,
          0.38435229612142563,
          0.1418191609457796,
          0.17875388525157399,
          0.6937079029213535,
          0.323668088941217,
          0.3391043615756222,
          0.7808210670788928,
          0.12445226283598294,
          0.1282239575739096,
          0.7158605035306796,
          0.29509079737284455,
          0.561783966327011,
          0.33915587836915867,
          0.6395550535716392,
          0.2916222558245523,
          0.5674025302960946,
          0.2019761865831069,
          0.6444865150190219,
          0.8513916624805172,
          0.09002255031406046,
          0.6420362411368864,
          0.2632323184285527,
          0.3171152400837988,
          0.715907464064792,
          0.6621959836605694,
          0.8590439542104389,
          0.30668751170179664,
          0.9969165840219986,
          0.6759328760843665,
          0.571902906875564,
          0.027893801150719683,
          0.2821647073818893,
          0.4999701433969994,
          0.3818877919832043,
          0.5887215496819657,
          0.4718239688342454,
          0.5970752299959723,
          0.7471422661297515,
          0.40225828234569927,
          0.6860379814608774,
          0.6279680551000542,
          0.5383815522043305,
          0.4555413081883633,
          0.6429866299422567,
          0.6373639834385149,
          0.7892331608053399,
          0.47846201747627365,
          0.42418478422446443,
          0.32436951069515285,
          0.43244650264288154,
          0.6029943148386763,
          0.6069048711996752,
          0.6285601015102902,
          0.47558057285591276,
          0.42299742309550864,
          0.2855627467514496,
          0.6052745951431681,
          0.8885740939106476,
          0.602453406615007,
          0.509500439859249,
          0.09195466524412442,
          0.4528381917990467,
          0.6660165360037276,
          0.7953489838593351,
          0.9643292510178133,
          0.3687801277915312,
          0.6144220116363295,
          0.3093629359536301,
          0.7724183213829099,
          0.6575383674755255,
          0.6617579602436586,
          0.7298114869624485,
          0.581001797938105,
          0.6218600947017391,
          0.46682057488097395,
          0.42803955951486217,
          0.36630415865128735,
          0.786783227524636,
          0.4000705696526689,
          0.34194569075209846,
          0.7985973818477279,
          0.35412350576067053,
          0.09103354851361316,
          0.8347325273670476,
          0.6781601758877702,
          0.5825994925670751,
          0.5229772216701044,
          0.49605732990461904,
          0.17503653854281734,
          0.6738360995726568,
          0.5302654244239776,
          0.48709722580615405,
          0.6606578825816037,
          0.7583660015097617,
          0.5024706305384804,
          0.4371835951582207,
          0.4162945537651896,
          0.35354545210826344,
          0.4949755900038696,
          0.5215337487488672,
          0.8654481003409507,
          0.5902414035729815,
          0.17299010605699328,
          0.48028511721370726,
          0.5275484707231299,
          0.2862176848990752,
          0.5218774765495799,
          0.561785509747504,
          0.2736347839997659,
          0.4119665300540676,
          0.6548152586016364,
          0.5826024003018166,
          0.5937097690094847,
          0.46566974028249514,
          0.48168242382764254,
          0.36481106675880987,
          0.5902099342304309,
          0.26038589783589017,
          0.19086204794219827,
          0.21338028644911672,
          0.6996894172714506,
          0.4403968488107755,
          0.7617468153109748,
          0.6695320842935018,
          0.3888346306451518,
          0.6797100886743976,
          0.36455317051586944,
          0.05641875027893062,
          0.5663650512733646,
          0.5324987499637621,
          0.5500277526839985,
          0.29828353927002405,
          0.5937123117753054,
          0.07503855414529843,
          0.26054743527028396,
          0.6356456608683863,
          0.7818541545537959,
          0.39021050418817815,
          0.6111833699781433,
          0.03673014804296734,
          0.6454173696200807,
          0.5756392229687967,
          0.5104652844760158,
          0.4922115073230905,
          0.7174834616653093,
          0.8836532907756596,
          0.6348982063455244,
          0.4461355631750941,
          0.2986765779918519,
          0.19025797026200786,
          0.4758992432072964,
          0.7212429145612389,
          0.48564205273927247,
          0.6153526550067131,
          0.325808769204539,
          0.4740580464844952,
          0.7405349817047927,
          0.6965301797052609,
          0.6358025413840911,
          0.107684879724635,
          0.44627516670866735,
          0.7157196622034258,
          0.21136040400815295,
          0.369356369786008,
          0.2469985501278268,
          0.2614398204926746,
          0.02436343124516042,
          0.2460652384326705,
          0.5241004170405813,
          0.3666352392444127,
          0.5041874852957536,
          0.772169504866066,
          0.2375709874494396,
          0.5125385514373393,
          0.34261482771341767,
          0.40946054472287713,
          0.721053443736957,
          0.9745156378863531,
          0.03675396746347215,
          0.5634849882160311,
          0.3185130605135217,
          0.49559733396881045,
          0.29170047335057336,
          0.7598891955357155,
          0.6264761308445904,
          0.9847793040894072,
          0.471138492260392,
          0.3186476897060476,
          0.4047822928386126,
          0.6937067899369385,
          0.17989004081910961,
          0.7875034175904437,
          0.4657601582312251,
          0.4211922144417235,
          0.277938376978364,
          0.3767452112257175,
          0.5042506108120832,
          0.6365274861833042,
          0.36674362369975433,
          0.5476989406029191,
          0.16490648872919728,
          0.4825862904016253,
          0.3821841987343169,
          0.7374075036074195,
          0.6651861498951193,
          0.4244256290801853,
          0.6792412002149596,
          0.2825415817005332,
          0.6567537117083706,
          0.7122372730897751,
          0.46956708339471054,
          0.6474063695585925,
          0.1094091197698151,
          0.619212331845157,
          0.09688271510592321,
          0.644745622219905,
          0.49273845582253645,
          0.04267893504389848,
          0.019916070694502925,
          0.9726166044320927,
          0.41427380815608156,
          0.4127625569737715,
          0.597049708680944,
          0.41102701112912987,
          0.24101638520073226,
          0.5698987464256888,
          0.7325357851495686,
          0.6718812157084889,
          0.7407520482000519,
          0.2527355363463773,
          0.5837858138248893,
          0.44890548709641165,
          0.721572217772047,
          0.41972712102616594,
          0.19236865521618954,
          0.5942712061783791,
          0.3267627032264846,
          0.5871270244317133,
          0.5343448703054464,
          0.949497446419395,
          0.5428854129169096,
          0.6341203008291646,
          0.20323862000325887,
          0.4873877238877836,
          0.4627339904704684,
          0.3245298441511499,
          0.48511791079551725,
          0.44261211375652465,
          0.11875193368713229,
          0.3423777522323228,
          0.23960029322026452,
          0.3353104489153876,
          0.4773115337991438,
          0.5278789976520627,
          0.4638613137159387,
          0.3228737998127815,
          0.5520307539534299,
          0.5171923992432867,
          0.07634172701419661,
          0.5240526351185083,
          0.49960135220412927,
          0.6098018875652226,
          0.2839950224940541,
          0.49734747456336065,
          0.4788742412164319,
          0.4513900066328084,
          0.4503766072041272,
          0.5064819620887925,
          0.17132697938967997,
          0.8332408764369484,
          0.6309332620890272,
          0.49311404840048073,
          0.25021274316708336,
          0.537169541797087,
          0.4733287396835813,
          0.8382213468864068,
          0.3649184239231865,
          0.6888753610940963,
          0.4806801124081202,
          0.45864048866938983,
          0.8444926936133978,
          0.4065417431870188,
          0.37747493986743763,
          0.3891888979847183,
          0.5324747494530558,
          0.42566865946282767,
          0.26078862459869506,
          0.13490863576916598,
          0.6916852351798124,
          0.40988840599356524,
          0.5068338816676489,
          0.8716926593357356,
          0.05701703858548442,
          0.9206140804544567,
          0.2429141481288838,
          0.6003436070565289,
          0.4852861251858503,
          0.3713124160829026,
          0.5033376359361121,
          0.27622416454757115,
          0.6119198167148402,
          0.4759238498167186,
          0.5459303632946526,
          0.5494524916891699,
          0.3500350100554171,
          0.534495555756059,
          0.4576502263651048,
          0.8508334539671163,
          0.4194720327645127,
          0.4823357016185053,
          0.5897801863936768,
          0.19627952634220314,
          0.8008117595722665,
          0.5753253904317749,
          0.987755672610534,
          0.6667581805316807,
          0.8760662181154089,
          0.21172906767287597,
          0.4289282107887208,
          0.40299045801572403,
          0.6680106945534245,
          0.24918611730139972,
          0.624833594805899,
          0.556516537736448,
          0.6833359769856326,
          0.48218093563638575,
          0.43307322055952985,
          0.7731953094039998,
          0.5776752062612489,
          0.7534958751400157,
          0.6341203262297904,
          0.6181704031208813,
          0.8317327922307943,
          0.3604576572403288,
          0.26750453322447215,
          0.7388744197638049,
          0.31270221272250204,
          0.05995209239363682,
          0.518922326951815,
          0.34985905222057356,
          0.7068399547379304,
          0.2001587521904171,
          0.37752364654019016,
          0.47973022566200846,
          0.45010882716110234,
          0.331393548167081,
          0.5186014214836852,
          0.3765900231205145,
          0.3610338197677671,
          0.5716344448325904,
          0.6338278745937264,
          0.4838398269503844,
          0.6503583578245375,
          0.37462847090575424,
          0.495415592445205,
          0.02438187875835513,
          0.6309471467025666,
          0.5994246441637462,
          0.6348953641098534,
          0.8125495607256766,
          0.42255640439585374,
          0.37252929629017734,
          0.10310037549320818,
          0.5279683483596381,
          0.5861336741452481,
          0.6368682648869213,
          0.32515459045640577,
          0.5051628943773615,
          0.7309572506066955,
          0.31817709131064814,
          0.2995142982908032,
          0.8408895460824029,
          0.23250511828674061,
          0.6335199845383095,
          0.12167234377698799,
          0.36641194415016504,
          0.4794040581224978,
          0.4582235683992087,
          0.43995649707025986,
          0.6896365283553332,
          0.5972095308047187,
          0.48545626619342785,
          0.6473644483819858,
          0.5880197887326245,
          0.6905930918292628,
          0.5562325368283404,
          0.7451064720539071,
          0.32516966596338903,
          0.1849155961424561,
          0.28461162372390475,
          0.5742025453696622,
          0.3600212948198812,
          0.5126112066367748,
          0.050203495025279744,
          0.19464562645173678,
          0.4645596202774807,
          0.545509525513214,
          0.6167662061210707,
          0.6572832259311043,
          0.4264663425374822,
          0.4445121466224823,
          0.5455936186382615,
          0.33839373677428175,
          0.12762301478557828,
          0.47152722517411333,
          0.6036449081740312,
          0.462497407825107,
          0.6681780513668815,
          0.5234777048282783,
          0.5225059386825242,
          0.525660930593103,
          0.6045946978384641,
          0.29403224950500284,
          0.7840171006492516,
          0.4855232825692818,
          0.8870936998185872,
          0.45982843582317723,
          0.8828929454001339,
          0.6212248974723337,
          0.5395297613042492,
          0.4726870559548323,
          0.5878739826205711,
          0.5559164749225061,
          0.7156067453895154,
          0.38155818338292075,
          0.3754645682447032,
          0.419058336348529,
          0.8682932837099222,
          0.507285107121248,
          0.5924546824241481,
          0.612676956042816,
          0.7837603873608887,
          0.5363599303901484,
          0.5283749838269117,
          0.20902503629357258,
          0.3145747200153503,
          0.471208046089295,
          0.6203439207942604,
          0.6880159638769406,
          0.3293693101346877,
          0.5946637812212561,
          0.6979297871035312,
          0.9588168144990952,
          0.4481593290183333,
          0.4766961705576219,
          0.7051362470738151,
          0.41080756133239177,
          0.7484773505426372,
          0.4353632522033382,
          0.44515629375067317,
          0.5117807230950685,
          0.6371197809523802,
          0.3213162014255898,
          0.7813240468436838,
          0.37047782127182133,
          0.5651291830971505,
          0.4395317158878426,
          0.5286245478327766,
          0.5102499593286851,
          0.05589032971295518,
          0.5144873006102278,
          0.8524617686351345,
          0.3594835722126971,
          0.46540614112367085,
          0.6773879927234708,
          0.35114825950555606,
          0.30810364825250025,
          0.3405519257779244,
          0.5540483764106027,
          0.381322556184405,
          0.6316668037059964,
          0.48952950192509137,
          0.5327277063916847,
          0.8550154233911819,
          0.6596586687053759,
          0.8510236362980672,
          0.6367530392054801,
          0.6847626972906073,
          0.5486214071898069,
          0.4998928399222544,
          0.5479207505083218,
          0.2492757672331784,
          0.5864970848049639,
          0.6310516252047297,
          0.19903378037755173,
          0.6710831850344566,
          0.26895635839212234,
          0.24191836751048312,
          0.5838619807412949,
          0.7238557923858969,
          0.5963463112202014,
          0.5393935960973943,
          0.5749554798159714,
          0.30497017489497924,
          0.4507543674846071,
          0.47499629207431104,
          0.7290125707698171,
          0.5076669794856116,
          0.6936422509579816,
          0.9058691969743097,
          0.8239976277552158,
          0.2624336095365871,
          0.5130144289734482,
          0.607559993408362,
          0.6965556155910434,
          0.4283252319365169,
          0.3288381420140232,
          0.9779996272879916,
          0.18612665397916547,
          0.3390142245823806,
          0.6131477400043285,
          0.4590202165058321,
          0.4808902209812766,
          0.4358019430121925,
          0.29808859441420754,
          0.4414513988414656,
          0.4391633206457852,
          0.19772873604741759,
          0.5116272331744486,
          0.6905698738393568,
          0.5305532670710932,
          0.8088461235502429,
          0.7607979705835645,
          0.4608447901897043,
          0.4101300757010988,
          0.7375331382456874,
          0.5066836841338155,
          0.4315593153848178,
          0.5313218250197865,
          0.6338881885924623,
          0.4149542120476814,
          0.558891169129544,
          0.602729507630478,
          0.6562554291981312,
          0.4806466308842432,
          0.20993174666082415,
          0.3122792764367455,
          0.0641714290106661,
          0.08760956547472658,
          0.5829258343138245,
          0.1984999882170557,
          0.474547351187777,
          0.7699043173285609,
          0.640085299472164,
          0.5010686340028431,
          0.24698501608504791,
          0.9954669386853624,
          0.3059320470066632,
          0.1946775374003527,
          0.06945375151760287,
          0.5710229325565316,
          0.2652882037719101,
          0.1608667224074155,
          0.5899086202526785,
          0.5657831267814558,
          0.40908702475328085,
          0.6395843908440946,
          0.6602584287139314,
          0.6477117180303429,
          0.3646719579850806,
          0.6043004359550763,
          0.04012997757556541,
          0.8892529876796892,
          0.7471281057577128,
          0.6960235404417509,
          0.7075180115537554,
          0.38426042448213166,
          0.7507496663426813,
          0.7942699747833397,
          0.4137493878937584,
          0.23966088408898514,
          0.38586082035045943,
          0.4044449299674553,
          0.5686773454046412,
          0.6605675535624522,
          0.2723481844610639,
          0.39797230295341557,
          0.4360392452934407,
          0.45716912544731797,
          0.4442737660568956,
          0.5900133307005021,
          0.5750967760229737,
          0.2023656865738386,
          0.2593725392037652,
          0.42813437020614203,
          0.4179339123589046,
          0.23343488161012854,
          0.6932247942269067,
          0.25927835999760546,
          0.5425374016126034,
          0.7220289018397348,
          0.3942985024440334,
          0.9262912981083308,
          0.6636432029708561,
          0.4444338635863331,
          0.24932880282869735,
          0.5604228667071712,
          0.3628863544020942,
          0.6300887684535733,
          0.49183426492042565,
          0.6107548126299721,
          0.6743624182211412,
          0.5883451147113534,
          0.3625825560330075,
          0.40373920240947814,
          0.4266376132817814,
          0.5291780980456597,
          0.5977180742219134,
          0.7598664414788974,
          0.5203834850173827,
          0.5385580447311351,
          0.6426735008650711,
          0.5270938965960459,
          0.9480252970704146,
          0.493728292291205,
          0.5638427088978094,
          0.5799159270510319,
          0.7340042023985875,
          0.22311161269640306,
          0.6057688604851309,
          0.37596814171340287,
          0.19300572055969722,
          0.47041708449199565,
          0.7185226956938906,
          0.54394247155058,
          0.9632275053554351,
          0.4165502737811116,
          0.4482936756230215,
          0.4823587675906273,
          0.6449001425365716,
          0.4890562934630903,
          0.6468536771284763,
          0.8152924514147502,
          0.22942455142210122,
          0.7149290559083926,
          0.4047282080858932,
          0.736107166179414,
          0.04497753456096514,
          0.2899267682059743,
          0.6449367125915602,
          0.5851077987515095,
          0.013210659371704422,
          0.6751694556631759,
          0.9322717096625482,
          0.6005120955772796,
          0.8209239156825707,
          0.4354813262350867,
          0.7016641829754425,
          0.5926814836474782,
          0.6061251640959975,
          0.6618923589071016,
          0.520094023118626,
          0.4200935905188676,
          0.7015285018830364,
          0.6096343914609513,
          0.4810537053635109,
          0.5387363685956377,
          0.17351975695558,
          0.5461277597926826,
          0.7215113611160018,
          0.35409332345277766,
          0.41078863582288255,
          0.6677490151952965,
          0.03690897462869203,
          0.4382262996548095,
          0.5533222880293925,
          0.4705084663739809,
          0.5169926307179827,
          0.7009917841932679,
          0.6723920751550878,
          0.5191752700525946,
          0.7640589197128862,
          0.8424309901355382,
          0.14793173825439135,
          0.38920578540956435,
          0.39103235159896355,
          0.9349972010530986,
          0.5549731952264441,
          0.485480253117295,
          0.9578939333667881,
          0.4714585504977291,
          0.46472617000467226,
          0.18765755745491958,
          0.28009381017570356,
          0.47101634569946416,
          0.3548807908499933,
          0.5233633478791797,
          0.6182660547937657,
          0.16406444351817545,
          0.03308734773146873,
          0.4593738281397965,
          0.44211051835815585,
          0.6122741541750134,
          0.6168847337190221,
          0.3260879497642654,
          0.8899170537826823,
          0.5132429897377476,
          0.49325493969093875,
          0.658879367989259,
          0.610622306711563,
          0.45418296092646643,
          0.5029410288085934,
          0.5765084820930741,
          0.565624429077879,
          0.42689454957001105,
          0.010776930745047248,
          0.9215986134694711,
          0.5039674155251997,
          0.8255544448781883,
          0.5613469344444895,
          0.606297764525997,
          0.6057626760560126,
          0.6228369869053705,
          0.41166323044913317,
          0.5655733454149122,
          0.09727122886922727,
          0.1669772283910221,
          0.5428692959004503,
          0.4719806720608203,
          0.0961275502151848,
          0.5407057305693541,
          0.23951414820875705,
          0.24468750446076365,
          0.7614029531894451,
          0.6188665289239451,
          0.6090508398241933,
          0.08469647252129742,
          0.3605770003364544,
          0.8730036575044569,
          0.7335557303543905,
          0.3059260417632567,
          0.6976508274561376,
          0.510301880971506
         ],
         "yaxis": "y"
        }
       ],
       "layout": {
        "coloraxis": {
         "colorbar": {
          "title": {
           "text": "rounded_pred"
          }
         },
         "colorscale": [
          [
           0,
           "#0d0887"
          ],
          [
           0.1111111111111111,
           "#46039f"
          ],
          [
           0.2222222222222222,
           "#7201a8"
          ],
          [
           0.3333333333333333,
           "#9c179e"
          ],
          [
           0.4444444444444444,
           "#bd3786"
          ],
          [
           0.5555555555555556,
           "#d8576b"
          ],
          [
           0.6666666666666666,
           "#ed7953"
          ],
          [
           0.7777777777777778,
           "#fb9f3a"
          ],
          [
           0.8888888888888888,
           "#fdca26"
          ],
          [
           1,
           "#f0f921"
          ]
         ]
        },
        "legend": {
         "tracegroupgap": 0
        },
        "margin": {
         "t": 60
        },
        "template": {
         "data": {
          "bar": [
           {
            "error_x": {
             "color": "#2a3f5f"
            },
            "error_y": {
             "color": "#2a3f5f"
            },
            "marker": {
             "line": {
              "color": "#E5ECF6",
              "width": 0.5
             },
             "pattern": {
              "fillmode": "overlay",
              "size": 10,
              "solidity": 0.2
             }
            },
            "type": "bar"
           }
          ],
          "barpolar": [
           {
            "marker": {
             "line": {
              "color": "#E5ECF6",
              "width": 0.5
             },
             "pattern": {
              "fillmode": "overlay",
              "size": 10,
              "solidity": 0.2
             }
            },
            "type": "barpolar"
           }
          ],
          "carpet": [
           {
            "aaxis": {
             "endlinecolor": "#2a3f5f",
             "gridcolor": "white",
             "linecolor": "white",
             "minorgridcolor": "white",
             "startlinecolor": "#2a3f5f"
            },
            "baxis": {
             "endlinecolor": "#2a3f5f",
             "gridcolor": "white",
             "linecolor": "white",
             "minorgridcolor": "white",
             "startlinecolor": "#2a3f5f"
            },
            "type": "carpet"
           }
          ],
          "choropleth": [
           {
            "colorbar": {
             "outlinewidth": 0,
             "ticks": ""
            },
            "type": "choropleth"
           }
          ],
          "contour": [
           {
            "colorbar": {
             "outlinewidth": 0,
             "ticks": ""
            },
            "colorscale": [
             [
              0,
              "#0d0887"
             ],
             [
              0.1111111111111111,
              "#46039f"
             ],
             [
              0.2222222222222222,
              "#7201a8"
             ],
             [
              0.3333333333333333,
              "#9c179e"
             ],
             [
              0.4444444444444444,
              "#bd3786"
             ],
             [
              0.5555555555555556,
              "#d8576b"
             ],
             [
              0.6666666666666666,
              "#ed7953"
             ],
             [
              0.7777777777777778,
              "#fb9f3a"
             ],
             [
              0.8888888888888888,
              "#fdca26"
             ],
             [
              1,
              "#f0f921"
             ]
            ],
            "type": "contour"
           }
          ],
          "contourcarpet": [
           {
            "colorbar": {
             "outlinewidth": 0,
             "ticks": ""
            },
            "type": "contourcarpet"
           }
          ],
          "heatmap": [
           {
            "colorbar": {
             "outlinewidth": 0,
             "ticks": ""
            },
            "colorscale": [
             [
              0,
              "#0d0887"
             ],
             [
              0.1111111111111111,
              "#46039f"
             ],
             [
              0.2222222222222222,
              "#7201a8"
             ],
             [
              0.3333333333333333,
              "#9c179e"
             ],
             [
              0.4444444444444444,
              "#bd3786"
             ],
             [
              0.5555555555555556,
              "#d8576b"
             ],
             [
              0.6666666666666666,
              "#ed7953"
             ],
             [
              0.7777777777777778,
              "#fb9f3a"
             ],
             [
              0.8888888888888888,
              "#fdca26"
             ],
             [
              1,
              "#f0f921"
             ]
            ],
            "type": "heatmap"
           }
          ],
          "heatmapgl": [
           {
            "colorbar": {
             "outlinewidth": 0,
             "ticks": ""
            },
            "colorscale": [
             [
              0,
              "#0d0887"
             ],
             [
              0.1111111111111111,
              "#46039f"
             ],
             [
              0.2222222222222222,
              "#7201a8"
             ],
             [
              0.3333333333333333,
              "#9c179e"
             ],
             [
              0.4444444444444444,
              "#bd3786"
             ],
             [
              0.5555555555555556,
              "#d8576b"
             ],
             [
              0.6666666666666666,
              "#ed7953"
             ],
             [
              0.7777777777777778,
              "#fb9f3a"
             ],
             [
              0.8888888888888888,
              "#fdca26"
             ],
             [
              1,
              "#f0f921"
             ]
            ],
            "type": "heatmapgl"
           }
          ],
          "histogram": [
           {
            "marker": {
             "pattern": {
              "fillmode": "overlay",
              "size": 10,
              "solidity": 0.2
             }
            },
            "type": "histogram"
           }
          ],
          "histogram2d": [
           {
            "colorbar": {
             "outlinewidth": 0,
             "ticks": ""
            },
            "colorscale": [
             [
              0,
              "#0d0887"
             ],
             [
              0.1111111111111111,
              "#46039f"
             ],
             [
              0.2222222222222222,
              "#7201a8"
             ],
             [
              0.3333333333333333,
              "#9c179e"
             ],
             [
              0.4444444444444444,
              "#bd3786"
             ],
             [
              0.5555555555555556,
              "#d8576b"
             ],
             [
              0.6666666666666666,
              "#ed7953"
             ],
             [
              0.7777777777777778,
              "#fb9f3a"
             ],
             [
              0.8888888888888888,
              "#fdca26"
             ],
             [
              1,
              "#f0f921"
             ]
            ],
            "type": "histogram2d"
           }
          ],
          "histogram2dcontour": [
           {
            "colorbar": {
             "outlinewidth": 0,
             "ticks": ""
            },
            "colorscale": [
             [
              0,
              "#0d0887"
             ],
             [
              0.1111111111111111,
              "#46039f"
             ],
             [
              0.2222222222222222,
              "#7201a8"
             ],
             [
              0.3333333333333333,
              "#9c179e"
             ],
             [
              0.4444444444444444,
              "#bd3786"
             ],
             [
              0.5555555555555556,
              "#d8576b"
             ],
             [
              0.6666666666666666,
              "#ed7953"
             ],
             [
              0.7777777777777778,
              "#fb9f3a"
             ],
             [
              0.8888888888888888,
              "#fdca26"
             ],
             [
              1,
              "#f0f921"
             ]
            ],
            "type": "histogram2dcontour"
           }
          ],
          "mesh3d": [
           {
            "colorbar": {
             "outlinewidth": 0,
             "ticks": ""
            },
            "type": "mesh3d"
           }
          ],
          "parcoords": [
           {
            "line": {
             "colorbar": {
              "outlinewidth": 0,
              "ticks": ""
             }
            },
            "type": "parcoords"
           }
          ],
          "pie": [
           {
            "automargin": true,
            "type": "pie"
           }
          ],
          "scatter": [
           {
            "marker": {
             "colorbar": {
              "outlinewidth": 0,
              "ticks": ""
             }
            },
            "type": "scatter"
           }
          ],
          "scatter3d": [
           {
            "line": {
             "colorbar": {
              "outlinewidth": 0,
              "ticks": ""
             }
            },
            "marker": {
             "colorbar": {
              "outlinewidth": 0,
              "ticks": ""
             }
            },
            "type": "scatter3d"
           }
          ],
          "scattercarpet": [
           {
            "marker": {
             "colorbar": {
              "outlinewidth": 0,
              "ticks": ""
             }
            },
            "type": "scattercarpet"
           }
          ],
          "scattergeo": [
           {
            "marker": {
             "colorbar": {
              "outlinewidth": 0,
              "ticks": ""
             }
            },
            "type": "scattergeo"
           }
          ],
          "scattergl": [
           {
            "marker": {
             "colorbar": {
              "outlinewidth": 0,
              "ticks": ""
             }
            },
            "type": "scattergl"
           }
          ],
          "scattermapbox": [
           {
            "marker": {
             "colorbar": {
              "outlinewidth": 0,
              "ticks": ""
             }
            },
            "type": "scattermapbox"
           }
          ],
          "scatterpolar": [
           {
            "marker": {
             "colorbar": {
              "outlinewidth": 0,
              "ticks": ""
             }
            },
            "type": "scatterpolar"
           }
          ],
          "scatterpolargl": [
           {
            "marker": {
             "colorbar": {
              "outlinewidth": 0,
              "ticks": ""
             }
            },
            "type": "scatterpolargl"
           }
          ],
          "scatterternary": [
           {
            "marker": {
             "colorbar": {
              "outlinewidth": 0,
              "ticks": ""
             }
            },
            "type": "scatterternary"
           }
          ],
          "surface": [
           {
            "colorbar": {
             "outlinewidth": 0,
             "ticks": ""
            },
            "colorscale": [
             [
              0,
              "#0d0887"
             ],
             [
              0.1111111111111111,
              "#46039f"
             ],
             [
              0.2222222222222222,
              "#7201a8"
             ],
             [
              0.3333333333333333,
              "#9c179e"
             ],
             [
              0.4444444444444444,
              "#bd3786"
             ],
             [
              0.5555555555555556,
              "#d8576b"
             ],
             [
              0.6666666666666666,
              "#ed7953"
             ],
             [
              0.7777777777777778,
              "#fb9f3a"
             ],
             [
              0.8888888888888888,
              "#fdca26"
             ],
             [
              1,
              "#f0f921"
             ]
            ],
            "type": "surface"
           }
          ],
          "table": [
           {
            "cells": {
             "fill": {
              "color": "#EBF0F8"
             },
             "line": {
              "color": "white"
             }
            },
            "header": {
             "fill": {
              "color": "#C8D4E3"
             },
             "line": {
              "color": "white"
             }
            },
            "type": "table"
           }
          ]
         },
         "layout": {
          "annotationdefaults": {
           "arrowcolor": "#2a3f5f",
           "arrowhead": 0,
           "arrowwidth": 1
          },
          "autotypenumbers": "strict",
          "coloraxis": {
           "colorbar": {
            "outlinewidth": 0,
            "ticks": ""
           }
          },
          "colorscale": {
           "diverging": [
            [
             0,
             "#8e0152"
            ],
            [
             0.1,
             "#c51b7d"
            ],
            [
             0.2,
             "#de77ae"
            ],
            [
             0.3,
             "#f1b6da"
            ],
            [
             0.4,
             "#fde0ef"
            ],
            [
             0.5,
             "#f7f7f7"
            ],
            [
             0.6,
             "#e6f5d0"
            ],
            [
             0.7,
             "#b8e186"
            ],
            [
             0.8,
             "#7fbc41"
            ],
            [
             0.9,
             "#4d9221"
            ],
            [
             1,
             "#276419"
            ]
           ],
           "sequential": [
            [
             0,
             "#0d0887"
            ],
            [
             0.1111111111111111,
             "#46039f"
            ],
            [
             0.2222222222222222,
             "#7201a8"
            ],
            [
             0.3333333333333333,
             "#9c179e"
            ],
            [
             0.4444444444444444,
             "#bd3786"
            ],
            [
             0.5555555555555556,
             "#d8576b"
            ],
            [
             0.6666666666666666,
             "#ed7953"
            ],
            [
             0.7777777777777778,
             "#fb9f3a"
            ],
            [
             0.8888888888888888,
             "#fdca26"
            ],
            [
             1,
             "#f0f921"
            ]
           ],
           "sequentialminus": [
            [
             0,
             "#0d0887"
            ],
            [
             0.1111111111111111,
             "#46039f"
            ],
            [
             0.2222222222222222,
             "#7201a8"
            ],
            [
             0.3333333333333333,
             "#9c179e"
            ],
            [
             0.4444444444444444,
             "#bd3786"
            ],
            [
             0.5555555555555556,
             "#d8576b"
            ],
            [
             0.6666666666666666,
             "#ed7953"
            ],
            [
             0.7777777777777778,
             "#fb9f3a"
            ],
            [
             0.8888888888888888,
             "#fdca26"
            ],
            [
             1,
             "#f0f921"
            ]
           ]
          },
          "colorway": [
           "#636efa",
           "#EF553B",
           "#00cc96",
           "#ab63fa",
           "#FFA15A",
           "#19d3f3",
           "#FF6692",
           "#B6E880",
           "#FF97FF",
           "#FECB52"
          ],
          "font": {
           "color": "#2a3f5f"
          },
          "geo": {
           "bgcolor": "white",
           "lakecolor": "white",
           "landcolor": "#E5ECF6",
           "showlakes": true,
           "showland": true,
           "subunitcolor": "white"
          },
          "hoverlabel": {
           "align": "left"
          },
          "hovermode": "closest",
          "mapbox": {
           "style": "light"
          },
          "paper_bgcolor": "white",
          "plot_bgcolor": "#E5ECF6",
          "polar": {
           "angularaxis": {
            "gridcolor": "white",
            "linecolor": "white",
            "ticks": ""
           },
           "bgcolor": "#E5ECF6",
           "radialaxis": {
            "gridcolor": "white",
            "linecolor": "white",
            "ticks": ""
           }
          },
          "scene": {
           "xaxis": {
            "backgroundcolor": "#E5ECF6",
            "gridcolor": "white",
            "gridwidth": 2,
            "linecolor": "white",
            "showbackground": true,
            "ticks": "",
            "zerolinecolor": "white"
           },
           "yaxis": {
            "backgroundcolor": "#E5ECF6",
            "gridcolor": "white",
            "gridwidth": 2,
            "linecolor": "white",
            "showbackground": true,
            "ticks": "",
            "zerolinecolor": "white"
           },
           "zaxis": {
            "backgroundcolor": "#E5ECF6",
            "gridcolor": "white",
            "gridwidth": 2,
            "linecolor": "white",
            "showbackground": true,
            "ticks": "",
            "zerolinecolor": "white"
           }
          },
          "shapedefaults": {
           "line": {
            "color": "#2a3f5f"
           }
          },
          "ternary": {
           "aaxis": {
            "gridcolor": "white",
            "linecolor": "white",
            "ticks": ""
           },
           "baxis": {
            "gridcolor": "white",
            "linecolor": "white",
            "ticks": ""
           },
           "bgcolor": "#E5ECF6",
           "caxis": {
            "gridcolor": "white",
            "linecolor": "white",
            "ticks": ""
           }
          },
          "title": {
           "x": 0.05
          },
          "xaxis": {
           "automargin": true,
           "gridcolor": "white",
           "linecolor": "white",
           "ticks": "",
           "title": {
            "standoff": 15
           },
           "zerolinecolor": "white",
           "zerolinewidth": 2
          },
          "yaxis": {
           "automargin": true,
           "gridcolor": "white",
           "linecolor": "white",
           "ticks": "",
           "title": {
            "standoff": 15
           },
           "zerolinecolor": "white",
           "zerolinewidth": 2
          }
         }
        },
        "xaxis": {
         "anchor": "y",
         "domain": [
          0,
          1
         ],
         "title": {
          "text": "party_label"
         }
        },
        "yaxis": {
         "anchor": "x",
         "domain": [
          0,
          1
         ],
         "title": {
          "text": "pred"
         }
        }
       }
      }
     },
     "metadata": {},
     "output_type": "display_data"
    }
   ],
   "source": [
    "import plotly.express as px\n",
    "fig = px.scatter(nicky_df.sample(1000), x = 'party_label', y = 'pred', color = 'rounded_pred' ,hover_data= ['party_label','speaker','quotation'])\n",
    "fig.show()"
   ]
  },
  {
   "cell_type": "code",
   "execution_count": null,
   "metadata": {},
   "outputs": [],
   "source": [
    "def get_result_df(regressor,filename):\n",
    "    \n",
    "    results = []\n",
    "    \n",
    "    with pd.read_json(filename, lines=True, compression='bz2', chunksize=500) as df_reader:\n",
    "        for df in df_reader:\n",
    "            df = df.sample(50)\n",
    "            x = df['glove_embedding'].values\n",
    "            y = df[['party_number']].values[:,0]\n",
    "            x = np.array(list(map(lambda val: np.array(val),x))).reshape(x.shape[0],-1)\n",
    "\n",
    "            ypred = regressor.predict(x)\n",
    "\n",
    "            tmp_df = pd.DataFrame(data = {'party_number': df['party_number'].values, \\\n",
    "                                        'prediction': ypred, 'quotation': df['quotation'].values, 'speaker': df['speaker'].values} )\n",
    "            \n",
    "            \n",
    "            results.append(tmp_df.copy())\n",
    "        \n",
    "            result_df = pd.concat(results)\n",
    "                \n",
    "            result_df['rounded_pred'] = result_df['prediction'].apply(lambda x: 0 if x <= 0.5 else 1)\n",
    "    display(result_df.head(1))\n",
    "    \n",
    "    fig = px.scatter(result_df, x = 'party_number', y = 'prediction', color = 'rounded_pred' ,hover_data= ['party_number','speaker','quotation'])\n",
    "    fig.show()"
   ]
  }
 ],
 "metadata": {
  "interpreter": {
   "hash": "e2aa3ff43f8b829804c7d9eb6f92bf2eb6f1ce41f419bcf9a3e5bac1a0342e90"
  },
  "kernelspec": {
   "display_name": "Python 3.8.8 64-bit ('base': conda)",
   "language": "python",
   "name": "python3"
  },
  "language_info": {
   "codemirror_mode": {
    "name": "ipython",
    "version": 3
   },
   "file_extension": ".py",
   "mimetype": "text/x-python",
   "name": "python",
   "nbconvert_exporter": "python",
   "pygments_lexer": "ipython3",
   "version": "3.8.12"
  },
  "orig_nbformat": 4
 },
 "nbformat": 4,
 "nbformat_minor": 2
}
