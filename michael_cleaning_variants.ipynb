{
 "cells": [
  {
   "cell_type": "code",
   "execution_count": 1,
   "metadata": {},
   "outputs": [],
   "source": [
    "from helpers import *\n",
    "\n",
    "import sys\n",
    "\n",
    "import bz2\n",
    "import json\n",
    "\n",
    "import numpy as np\n",
    "import scipy\n",
    "\n",
    "import pandas as pd\n",
    "\n",
    "from sklearn.feature_extraction.text import TfidfVectorizer\n",
    "\n",
    "from sklearn.naive_bayes import MultinomialNB\n",
    "from sklearn.linear_model import LogisticRegression\n",
    "from sklearn.ensemble import RandomForestClassifier\n",
    "from sklearn.ensemble import GradientBoostingClassifier\n",
    "from sklearn.linear_model import SGDClassifier\n",
    "from sklearn.neural_network import MLPClassifier\n",
    "\n",
    "from sklearn.model_selection import cross_val_score, cross_validate\n",
    "\n",
    "%load_ext autoreload\n",
    "%autoreload 2"
   ]
  },
  {
   "cell_type": "code",
   "execution_count": 2,
   "metadata": {},
   "outputs": [],
   "source": [
    "# XGBoost\n",
    "\n",
    "from xgboost import XGBClassifier\n",
    "\n",
    "# This code prevents the kernel from stopping when XGBoost is running\n",
    "import os\n",
    "os.environ['KMP_DUPLICATE_LIB_OK']='True'"
   ]
  },
  {
   "cell_type": "code",
   "execution_count": 3,
   "metadata": {},
   "outputs": [],
   "source": [
    "# Printing without trunctions\n",
    "# np.set_printoptions(threshold=sys.maxsize)\n",
    "pd.set_option('display.max_colwidth', None)"
   ]
  },
  {
   "cell_type": "code",
   "execution_count": 4,
   "metadata": {},
   "outputs": [],
   "source": [
    "path = fixpath(QUOTES_2020_LABELED_CLEANED_VARIANTS_MINI)\n",
    "# path = fixpath(QUOTES_2020_LABELED_CLEANED_VARIANTS)\n",
    "\n",
    "df = pd.read_json(path, orient='records', lines=True)"
   ]
  },
  {
   "cell_type": "code",
   "execution_count": 5,
   "metadata": {},
   "outputs": [
    {
     "data": {
      "text/plain": [
       "D    41657\n",
       "R    24835\n",
       "Name: party_label, dtype: int64"
      ]
     },
     "execution_count": 5,
     "metadata": {},
     "output_type": "execute_result"
    }
   ],
   "source": [
    "df['party_label'].value_counts()"
   ]
  },
  {
   "cell_type": "code",
   "execution_count": 6,
   "metadata": {},
   "outputs": [],
   "source": [
    "def downsample(df:pd.DataFrame, label_col_name:str) -> pd.DataFrame:\n",
    "    # find the number of observations in the smallest group\n",
    "    nmin = df[label_col_name].value_counts().min()\n",
    "    return (df\n",
    "            # split the dataframe per group\n",
    "            .groupby(label_col_name)\n",
    "            # sample nmin observations from each group\n",
    "            .apply(lambda x: x.sample(nmin))\n",
    "            # recombine the dataframes\n",
    "            .reset_index(drop=True)\n",
    "            )\n",
    "\n",
    "df = downsample(df, 'party_label')"
   ]
  },
  {
   "cell_type": "code",
   "execution_count": 7,
   "metadata": {},
   "outputs": [
    {
     "data": {
      "text/plain": [
       "D    24835\n",
       "R    24835\n",
       "Name: party_label, dtype: int64"
      ]
     },
     "execution_count": 7,
     "metadata": {},
     "output_type": "execute_result"
    }
   ],
   "source": [
    "df['party_label'].value_counts()"
   ]
  },
  {
   "cell_type": "markdown",
   "metadata": {},
   "source": [
    "### Example usage of sklean Model"
   ]
  },
  {
   "cell_type": "code",
   "execution_count": 8,
   "metadata": {},
   "outputs": [
    {
     "data": {
      "text/plain": [
       "(array([1, 1, 1, ..., 0, 0, 0]),\n",
       " <49670x15997 sparse matrix of type '<class 'numpy.float64'>'\n",
       " \twith 525853 stored elements in Compressed Sparse Row format>)"
      ]
     },
     "execution_count": 8,
     "metadata": {},
     "output_type": "execute_result"
    }
   ],
   "source": [
    "X = TfidfVectorizer().fit_transform(df['quotation_cleanD'].values)\n",
    "y = df['party_label'].values\n",
    "y = np.array([0 if label=='R' else 1 for label in y])\n",
    "y, X"
   ]
  },
  {
   "cell_type": "code",
   "execution_count": 9,
   "metadata": {},
   "outputs": [
    {
     "name": "stdout",
     "output_type": "stream",
     "text": [
      "Avg: 0.632\tStd: 0.005\n"
     ]
    }
   ],
   "source": [
    "clf = MultinomialNB()\n",
    "# clf.fit(X, y)\n",
    "scores = cross_val_score(clf, X, y, cv=5)\n",
    "\n",
    "print(f'Avg: {scores.mean():.3f}\\tStd: {scores.std():.3f}')"
   ]
  },
  {
   "cell_type": "code",
   "execution_count": 10,
   "metadata": {},
   "outputs": [
    {
     "data": {
      "text/plain": [
       "{'fit_time': (0.01331639289855957, 0.003579976189041066),\n",
       " 'score_time': (0.017519235610961914, 0.0014197159291590676),\n",
       " 'test_accuracy': (0.628649125403162, 0.0021289266412349043),\n",
       " 'test_precision': (0.6291958377123803, 0.0016518327517330285),\n",
       " 'test_recall': (0.626575915218493, 0.00990880867503464),\n",
       " 'test_f1': (0.6278394641953976, 0.004840235052109225)}"
      ]
     },
     "execution_count": 10,
     "metadata": {},
     "output_type": "execute_result"
    }
   ],
   "source": [
    "clf = MultinomialNB()\n",
    "\n",
    "scoring=['accuracy', 'precision', 'recall', 'f1']\n",
    "res = cross_validate(clf, X, y, scoring=scoring, cv=3)\n",
    "{item: (value.mean(), value.std()) for (item, value) in res.items()}"
   ]
  },
  {
   "cell_type": "markdown",
   "metadata": {},
   "source": [
    "### Appling model to quotation variants"
   ]
  },
  {
   "cell_type": "code",
   "execution_count": 11,
   "metadata": {},
   "outputs": [],
   "source": [
    "# import sklearn\n",
    "# sorted(sklearn.metrics.SCORERS.keys())"
   ]
  },
  {
   "cell_type": "code",
   "execution_count": 12,
   "metadata": {},
   "outputs": [],
   "source": [
    "cols = [\n",
    "    'quotation_cleanA', \n",
    "    'quotation_cleanB',\n",
    "    'quotation_cleanC',\n",
    "    'quotation_cleanD',\n",
    "    # 'quotation_cleanE'\n",
    "    ]\n",
    "\n",
    "def test_classifer(clf, break_after_one_iter=False):\n",
    "    for col in cols:\n",
    "        X = TfidfVectorizer().fit_transform(df[col].values)\n",
    "        y = df['party_label'].values\n",
    "        y = np.array([0.0 if label=='R' else 1.0 for label in y])\n",
    "\n",
    "        # scores = cross_val_score(clf, X, y, cv=3)\n",
    "        # print(f'Col: {col}\\tAvg: {scores.mean():.3f}\\tStd: {scores.std():.3f}')\n",
    "\n",
    "        # scoring=['accuracy']\n",
    "        # scoring=['f1']\n",
    "        scoring=['accuracy', 'precision', 'recall', 'f1']\n",
    "        res = cross_validate(clf, X, y, scoring=scoring, cv=3)\n",
    "        res = {item: (value.mean(), value.std()) for (item, value) in res.items()}\n",
    "\n",
    "        # Code isn't pretty but prints nice output!\n",
    "        print(f'Col: {col}')\n",
    "        print(f'\\tfit_time - \\t\\tavg:{res[\"fit_time\"][0]:.3f}\\tstd:{res[\"fit_time\"][1]:.3f}')\n",
    "        print(f'\\tscore_time - \\t\\tavg:{res[\"score_time\"][0]:.3f}\\tstd:{res[\"score_time\"][1]:.3f}')\n",
    "        print(f'\\ttest_accuracy - \\tavg:{res[\"test_accuracy\"][0]:.3f}\\tstd:{res[\"test_accuracy\"][1]:.3f}')\n",
    "        print(f'\\ttest_precision - \\tavg:{res[\"test_precision\"][0]:.3f}\\tstd:{res[\"test_precision\"][1]:.3f}')\n",
    "        print(f'\\ttest_recall - \\t\\tavg:{res[\"test_recall\"][0]:.3f}\\tstd:{res[\"test_recall\"][1]:.3f}')\n",
    "        print(f'\\ttest_f1 - \\t\\tavg:{res[\"test_f1\"][0]:.3f}\\tstd:{res[\"test_f1\"][1]:.3f}')\n",
    "        \n",
    "        if break_after_one_iter:\n",
    "            break\n",
    "\n",
    "        \n",
    "    # break"
   ]
  },
  {
   "cell_type": "code",
   "execution_count": 13,
   "metadata": {},
   "outputs": [
    {
     "name": "stdout",
     "output_type": "stream",
     "text": [
      "Col: quotation_cleanA\n",
      "\tfit_time - \t\tavg:0.013\tstd:0.000\n",
      "\tscore_time - \t\tavg:0.025\tstd:0.000\n",
      "\ttest_accuracy - \tavg:0.633\tstd:0.003\n",
      "\ttest_precision - \tavg:0.628\tstd:0.001\n",
      "\ttest_recall - \t\tavg:0.649\tstd:0.011\n",
      "\ttest_f1 - \t\tavg:0.638\tstd:0.006\n",
      "Col: quotation_cleanB\n",
      "\tfit_time - \t\tavg:0.018\tstd:0.004\n",
      "\tscore_time - \t\tavg:0.033\tstd:0.006\n",
      "\ttest_accuracy - \tavg:0.633\tstd:0.003\n",
      "\ttest_precision - \tavg:0.628\tstd:0.001\n",
      "\ttest_recall - \t\tavg:0.649\tstd:0.011\n",
      "\ttest_f1 - \t\tavg:0.638\tstd:0.006\n",
      "Col: quotation_cleanC\n",
      "\tfit_time - \t\tavg:0.011\tstd:0.001\n",
      "\tscore_time - \t\tavg:0.024\tstd:0.001\n",
      "\ttest_accuracy - \tavg:0.630\tstd:0.003\n",
      "\ttest_precision - \tavg:0.628\tstd:0.001\n",
      "\ttest_recall - \t\tavg:0.637\tstd:0.010\n",
      "\ttest_f1 - \t\tavg:0.632\tstd:0.005\n",
      "Col: quotation_cleanD\n",
      "\tfit_time - \t\tavg:0.011\tstd:0.000\n",
      "\tscore_time - \t\tavg:0.025\tstd:0.001\n",
      "\ttest_accuracy - \tavg:0.629\tstd:0.002\n",
      "\ttest_precision - \tavg:0.629\tstd:0.002\n",
      "\ttest_recall - \t\tavg:0.627\tstd:0.010\n",
      "\ttest_f1 - \t\tavg:0.628\tstd:0.005\n"
     ]
    }
   ],
   "source": [
    "clf = MultinomialNB()\n",
    "test_classifer(clf)"
   ]
  },
  {
   "cell_type": "code",
   "execution_count": 122,
   "metadata": {},
   "outputs": [
    {
     "name": "stderr",
     "output_type": "stream",
     "text": [
      "/Users/mroust/anaconda3/envs/ada/lib/python3.8/site-packages/sklearn/linear_model/_logistic.py:814: ConvergenceWarning: lbfgs failed to converge (status=1):\n",
      "STOP: TOTAL NO. of ITERATIONS REACHED LIMIT.\n",
      "\n",
      "Increase the number of iterations (max_iter) or scale the data as shown in:\n",
      "    https://scikit-learn.org/stable/modules/preprocessing.html\n",
      "Please also refer to the documentation for alternative solver options:\n",
      "    https://scikit-learn.org/stable/modules/linear_model.html#logistic-regression\n",
      "  n_iter_i = _check_optimize_result(\n",
      "/Users/mroust/anaconda3/envs/ada/lib/python3.8/site-packages/sklearn/linear_model/_logistic.py:814: ConvergenceWarning: lbfgs failed to converge (status=1):\n",
      "STOP: TOTAL NO. of ITERATIONS REACHED LIMIT.\n",
      "\n",
      "Increase the number of iterations (max_iter) or scale the data as shown in:\n",
      "    https://scikit-learn.org/stable/modules/preprocessing.html\n",
      "Please also refer to the documentation for alternative solver options:\n",
      "    https://scikit-learn.org/stable/modules/linear_model.html#logistic-regression\n",
      "  n_iter_i = _check_optimize_result(\n",
      "/Users/mroust/anaconda3/envs/ada/lib/python3.8/site-packages/sklearn/linear_model/_logistic.py:814: ConvergenceWarning: lbfgs failed to converge (status=1):\n",
      "STOP: TOTAL NO. of ITERATIONS REACHED LIMIT.\n",
      "\n",
      "Increase the number of iterations (max_iter) or scale the data as shown in:\n",
      "    https://scikit-learn.org/stable/modules/preprocessing.html\n",
      "Please also refer to the documentation for alternative solver options:\n",
      "    https://scikit-learn.org/stable/modules/linear_model.html#logistic-regression\n",
      "  n_iter_i = _check_optimize_result(\n"
     ]
    },
    {
     "name": "stdout",
     "output_type": "stream",
     "text": [
      "Col: quotation_cleanA)\n",
      "            \tfit_time - \t\tavg:2.257\tstd:0.650\n",
      "            \tscore_time - \t\tavg:0.033\tstd:0.006\n",
      "            \ttest_accuracy - \tavg:0.603\tstd:0.003\n",
      "            \ttest_precision - \tavg:0.603\tstd:0.003\n",
      "            \ttest_recall - \t\tavg:0.603\tstd:0.004\n",
      "            \ttest_f1 - \t\tavg:0.603\tstd:0.003            \n"
     ]
    },
    {
     "name": "stderr",
     "output_type": "stream",
     "text": [
      "/Users/mroust/anaconda3/envs/ada/lib/python3.8/site-packages/sklearn/linear_model/_logistic.py:814: ConvergenceWarning: lbfgs failed to converge (status=1):\n",
      "STOP: TOTAL NO. of ITERATIONS REACHED LIMIT.\n",
      "\n",
      "Increase the number of iterations (max_iter) or scale the data as shown in:\n",
      "    https://scikit-learn.org/stable/modules/preprocessing.html\n",
      "Please also refer to the documentation for alternative solver options:\n",
      "    https://scikit-learn.org/stable/modules/linear_model.html#logistic-regression\n",
      "  n_iter_i = _check_optimize_result(\n",
      "/Users/mroust/anaconda3/envs/ada/lib/python3.8/site-packages/sklearn/linear_model/_logistic.py:814: ConvergenceWarning: lbfgs failed to converge (status=1):\n",
      "STOP: TOTAL NO. of ITERATIONS REACHED LIMIT.\n",
      "\n",
      "Increase the number of iterations (max_iter) or scale the data as shown in:\n",
      "    https://scikit-learn.org/stable/modules/preprocessing.html\n",
      "Please also refer to the documentation for alternative solver options:\n",
      "    https://scikit-learn.org/stable/modules/linear_model.html#logistic-regression\n",
      "  n_iter_i = _check_optimize_result(\n",
      "/Users/mroust/anaconda3/envs/ada/lib/python3.8/site-packages/sklearn/linear_model/_logistic.py:814: ConvergenceWarning: lbfgs failed to converge (status=1):\n",
      "STOP: TOTAL NO. of ITERATIONS REACHED LIMIT.\n",
      "\n",
      "Increase the number of iterations (max_iter) or scale the data as shown in:\n",
      "    https://scikit-learn.org/stable/modules/preprocessing.html\n",
      "Please also refer to the documentation for alternative solver options:\n",
      "    https://scikit-learn.org/stable/modules/linear_model.html#logistic-regression\n",
      "  n_iter_i = _check_optimize_result(\n"
     ]
    },
    {
     "name": "stdout",
     "output_type": "stream",
     "text": [
      "Col: quotation_cleanB)\n",
      "            \tfit_time - \t\tavg:1.220\tstd:0.203\n",
      "            \tscore_time - \t\tavg:0.029\tstd:0.003\n",
      "            \ttest_accuracy - \tavg:0.602\tstd:0.003\n",
      "            \ttest_precision - \tavg:0.602\tstd:0.004\n",
      "            \ttest_recall - \t\tavg:0.603\tstd:0.004\n",
      "            \ttest_f1 - \t\tavg:0.602\tstd:0.003            \n"
     ]
    },
    {
     "name": "stderr",
     "output_type": "stream",
     "text": [
      "/Users/mroust/anaconda3/envs/ada/lib/python3.8/site-packages/sklearn/linear_model/_logistic.py:814: ConvergenceWarning: lbfgs failed to converge (status=1):\n",
      "STOP: TOTAL NO. of ITERATIONS REACHED LIMIT.\n",
      "\n",
      "Increase the number of iterations (max_iter) or scale the data as shown in:\n",
      "    https://scikit-learn.org/stable/modules/preprocessing.html\n",
      "Please also refer to the documentation for alternative solver options:\n",
      "    https://scikit-learn.org/stable/modules/linear_model.html#logistic-regression\n",
      "  n_iter_i = _check_optimize_result(\n",
      "/Users/mroust/anaconda3/envs/ada/lib/python3.8/site-packages/sklearn/linear_model/_logistic.py:814: ConvergenceWarning: lbfgs failed to converge (status=1):\n",
      "STOP: TOTAL NO. of ITERATIONS REACHED LIMIT.\n",
      "\n",
      "Increase the number of iterations (max_iter) or scale the data as shown in:\n",
      "    https://scikit-learn.org/stable/modules/preprocessing.html\n",
      "Please also refer to the documentation for alternative solver options:\n",
      "    https://scikit-learn.org/stable/modules/linear_model.html#logistic-regression\n",
      "  n_iter_i = _check_optimize_result(\n",
      "/Users/mroust/anaconda3/envs/ada/lib/python3.8/site-packages/sklearn/linear_model/_logistic.py:814: ConvergenceWarning: lbfgs failed to converge (status=1):\n",
      "STOP: TOTAL NO. of ITERATIONS REACHED LIMIT.\n",
      "\n",
      "Increase the number of iterations (max_iter) or scale the data as shown in:\n",
      "    https://scikit-learn.org/stable/modules/preprocessing.html\n",
      "Please also refer to the documentation for alternative solver options:\n",
      "    https://scikit-learn.org/stable/modules/linear_model.html#logistic-regression\n",
      "  n_iter_i = _check_optimize_result(\n"
     ]
    },
    {
     "name": "stdout",
     "output_type": "stream",
     "text": [
      "Col: quotation_cleanC)\n",
      "            \tfit_time - \t\tavg:0.971\tstd:0.101\n",
      "            \tscore_time - \t\tavg:0.037\tstd:0.004\n",
      "            \ttest_accuracy - \tavg:0.598\tstd:0.004\n",
      "            \ttest_precision - \tavg:0.598\tstd:0.004\n",
      "            \ttest_recall - \t\tavg:0.597\tstd:0.009\n",
      "            \ttest_f1 - \t\tavg:0.598\tstd:0.005            \n"
     ]
    },
    {
     "name": "stderr",
     "output_type": "stream",
     "text": [
      "/Users/mroust/anaconda3/envs/ada/lib/python3.8/site-packages/sklearn/linear_model/_logistic.py:814: ConvergenceWarning: lbfgs failed to converge (status=1):\n",
      "STOP: TOTAL NO. of ITERATIONS REACHED LIMIT.\n",
      "\n",
      "Increase the number of iterations (max_iter) or scale the data as shown in:\n",
      "    https://scikit-learn.org/stable/modules/preprocessing.html\n",
      "Please also refer to the documentation for alternative solver options:\n",
      "    https://scikit-learn.org/stable/modules/linear_model.html#logistic-regression\n",
      "  n_iter_i = _check_optimize_result(\n",
      "/Users/mroust/anaconda3/envs/ada/lib/python3.8/site-packages/sklearn/linear_model/_logistic.py:814: ConvergenceWarning: lbfgs failed to converge (status=1):\n",
      "STOP: TOTAL NO. of ITERATIONS REACHED LIMIT.\n",
      "\n",
      "Increase the number of iterations (max_iter) or scale the data as shown in:\n",
      "    https://scikit-learn.org/stable/modules/preprocessing.html\n",
      "Please also refer to the documentation for alternative solver options:\n",
      "    https://scikit-learn.org/stable/modules/linear_model.html#logistic-regression\n",
      "  n_iter_i = _check_optimize_result(\n"
     ]
    },
    {
     "name": "stdout",
     "output_type": "stream",
     "text": [
      "Col: quotation_cleanD)\n",
      "            \tfit_time - \t\tavg:0.932\tstd:0.227\n",
      "            \tscore_time - \t\tavg:0.027\tstd:0.001\n",
      "            \ttest_accuracy - \tavg:0.608\tstd:0.003\n",
      "            \ttest_precision - \tavg:0.607\tstd:0.003\n",
      "            \ttest_recall - \t\tavg:0.612\tstd:0.003\n",
      "            \ttest_f1 - \t\tavg:0.609\tstd:0.001            \n"
     ]
    },
    {
     "name": "stderr",
     "output_type": "stream",
     "text": [
      "/Users/mroust/anaconda3/envs/ada/lib/python3.8/site-packages/sklearn/linear_model/_logistic.py:814: ConvergenceWarning: lbfgs failed to converge (status=1):\n",
      "STOP: TOTAL NO. of ITERATIONS REACHED LIMIT.\n",
      "\n",
      "Increase the number of iterations (max_iter) or scale the data as shown in:\n",
      "    https://scikit-learn.org/stable/modules/preprocessing.html\n",
      "Please also refer to the documentation for alternative solver options:\n",
      "    https://scikit-learn.org/stable/modules/linear_model.html#logistic-regression\n",
      "  n_iter_i = _check_optimize_result(\n"
     ]
    }
   ],
   "source": [
    "clf = LogisticRegression(n_jobs=-1, C=1e5)\n",
    "test_classifer(clf)"
   ]
  },
  {
   "cell_type": "code",
   "execution_count": 81,
   "metadata": {},
   "outputs": [
    {
     "name": "stdout",
     "output_type": "stream",
     "text": [
      "Col: quotation_cleanA\n",
      "            \tfit_time - \t\tavg:10.727\tstd:0.406\n",
      "            \tscore_time - \t\tavg:0.158\tstd:0.002\n",
      "            \ttest_accuracy - \tavg:0.603\tstd:0.004\n",
      "            \ttest_precision - \tavg:0.618\tstd:0.002\n",
      "            \ttest_recall - \t\tavg:0.541\tstd:0.012\n",
      "            \ttest_f1 - \t\tavg:0.577\tstd:0.008            \n",
      "Col: quotation_cleanB\n",
      "            \tfit_time - \t\tavg:11.434\tstd:0.082\n",
      "            \tscore_time - \t\tavg:0.159\tstd:0.002\n",
      "            \ttest_accuracy - \tavg:0.601\tstd:0.006\n",
      "            \ttest_precision - \tavg:0.614\tstd:0.007\n",
      "            \ttest_recall - \t\tavg:0.544\tstd:0.006\n",
      "            \ttest_f1 - \t\tavg:0.577\tstd:0.006            \n",
      "Col: quotation_cleanC\n",
      "            \tfit_time - \t\tavg:15.625\tstd:0.095\n",
      "            \tscore_time - \t\tavg:0.284\tstd:0.005\n",
      "            \ttest_accuracy - \tavg:0.610\tstd:0.000\n",
      "            \ttest_precision - \tavg:0.615\tstd:0.001\n",
      "            \ttest_recall - \t\tavg:0.588\tstd:0.005\n",
      "            \ttest_f1 - \t\tavg:0.601\tstd:0.002            \n",
      "Col: quotation_cleanD\n",
      "            \tfit_time - \t\tavg:16.256\tstd:1.490\n",
      "            \tscore_time - \t\tavg:0.242\tstd:0.024\n",
      "            \ttest_accuracy - \tavg:0.611\tstd:0.001\n",
      "            \ttest_precision - \tavg:0.618\tstd:0.003\n",
      "            \ttest_recall - \t\tavg:0.586\tstd:0.008\n",
      "            \ttest_f1 - \t\tavg:0.601\tstd:0.003            \n"
     ]
    }
   ],
   "source": [
    "clf = RandomForestClassifier(n_estimators=40, n_jobs=-1)\n",
    "test_classifer(clf)"
   ]
  },
  {
   "cell_type": "code",
   "execution_count": 83,
   "metadata": {},
   "outputs": [
    {
     "data": {
      "text/plain": [
       "array([[0.225     , 0.775     ],\n",
       "       [0.46659091, 0.53340909],\n",
       "       [0.625     , 0.375     ],\n",
       "       [0.625     , 0.375     ],\n",
       "       [0.375     , 0.625     ]])"
      ]
     },
     "execution_count": 83,
     "metadata": {},
     "output_type": "execute_result"
    }
   ],
   "source": [
    "clf.fit(X[100:], y[100:])\n",
    "clf.predict_proba(X[0:5])"
   ]
  },
  {
   "cell_type": "code",
   "execution_count": 102,
   "metadata": {},
   "outputs": [
    {
     "name": "stdout",
     "output_type": "stream",
     "text": [
      "Col: quotation_cleanA\n",
      "            \tfit_time - \t\tavg:4.219\tstd:0.073\n",
      "            \tscore_time - \t\tavg:0.028\tstd:0.000\n",
      "            \ttest_accuracy - \tavg:0.522\tstd:0.002\n",
      "            \ttest_precision - \tavg:0.676\tstd:0.021\n",
      "            \ttest_recall - \t\tavg:0.085\tstd:0.013\n",
      "            \ttest_f1 - \t\tavg:0.150\tstd:0.020            \n",
      "Col: quotation_cleanB\n",
      "            \tfit_time - \t\tavg:4.117\tstd:0.066\n",
      "            \tscore_time - \t\tavg:0.027\tstd:0.001\n",
      "            \ttest_accuracy - \tavg:0.522\tstd:0.002\n",
      "            \ttest_precision - \tavg:0.676\tstd:0.021\n",
      "            \ttest_recall - \t\tavg:0.085\tstd:0.013\n",
      "            \ttest_f1 - \t\tavg:0.150\tstd:0.020            \n",
      "Col: quotation_cleanC\n",
      "            \tfit_time - \t\tavg:4.073\tstd:0.304\n",
      "            \tscore_time - \t\tavg:0.023\tstd:0.002\n",
      "            \ttest_accuracy - \tavg:0.519\tstd:0.001\n",
      "            \ttest_precision - \tavg:0.688\tstd:0.071\n",
      "            \ttest_recall - \t\tavg:0.085\tstd:0.038\n",
      "            \ttest_f1 - \t\tavg:0.147\tstd:0.056            \n",
      "Col: quotation_cleanD\n",
      "            \tfit_time - \t\tavg:2.515\tstd:0.122\n",
      "            \tscore_time - \t\tavg:0.022\tstd:0.003\n",
      "            \ttest_accuracy - \tavg:0.525\tstd:0.002\n",
      "            \ttest_precision - \tavg:0.670\tstd:0.057\n",
      "            \ttest_recall - \t\tavg:0.110\tstd:0.038\n",
      "            \ttest_f1 - \t\tavg:0.185\tstd:0.053            \n"
     ]
    }
   ],
   "source": [
    "clf = GradientBoostingClassifier(n_estimators=10, learning_rate=1.0,\n",
    "    max_depth=1, random_state=0)\n",
    "\n",
    "test_classifer(clf)"
   ]
  },
  {
   "cell_type": "code",
   "execution_count": null,
   "metadata": {},
   "outputs": [],
   "source": []
  },
  {
   "cell_type": "code",
   "execution_count": null,
   "metadata": {},
   "outputs": [],
   "source": []
  },
  {
   "cell_type": "code",
   "execution_count": 14,
   "metadata": {},
   "outputs": [
    {
     "name": "stdout",
     "output_type": "stream",
     "text": [
      "Col: quotation_cleanA\n",
      "\tfit_time - \t\tavg:75.513\tstd:7.367\n",
      "\tscore_time - \t\tavg:0.032\tstd:0.002\n",
      "\ttest_accuracy - \tavg:0.595\tstd:0.006\n",
      "\ttest_precision - \tavg:0.605\tstd:0.006\n",
      "\ttest_recall - \t\tavg:0.546\tstd:0.007\n",
      "\ttest_f1 - \t\tavg:0.574\tstd:0.006\n"
     ]
    }
   ],
   "source": [
    "clf = MLPClassifier(alpha=1e-5, hidden_layer_sizes=(5, 2), random_state=1)\n",
    "\n",
    "test_classifer(clf, break_after_one_iter=True)"
   ]
  },
  {
   "cell_type": "code",
   "execution_count": null,
   "metadata": {},
   "outputs": [],
   "source": []
  },
  {
   "cell_type": "code",
   "execution_count": null,
   "metadata": {},
   "outputs": [],
   "source": [
    "clf = SGDClassifier(loss=\"hinge\", penalty=\"l2\", max_iter=5)\n",
    "test_classifer(clf, break_after_one_iter=True)"
   ]
  },
  {
   "cell_type": "code",
   "execution_count": null,
   "metadata": {},
   "outputs": [],
   "source": []
  },
  {
   "cell_type": "code",
   "execution_count": 12,
   "metadata": {},
   "outputs": [],
   "source": [
    "# clf = XGBClassifier()\n",
    "# test_classifer(clf)"
   ]
  },
  {
   "cell_type": "markdown",
   "metadata": {},
   "source": [
    "NICKY's CELLS"
   ]
  },
  {
   "cell_type": "code",
   "execution_count": 91,
   "metadata": {},
   "outputs": [
    {
     "data": {
      "text/plain": [
       "{'fit_time': (0.012681325276692709, 0.001947405681681884),\n",
       " 'score_time': (0.020110925038655598, 0.0017169714300468797),\n",
       " 'test_accuracy': (0.6276826330008158, 0.002578911298261747),\n",
       " 'test_precision': (0.627421680742947, 0.0028552820459956225),\n",
       " 'test_recall': (0.6287499254744705, 0.005024174382339343),\n",
       " 'test_f1': (0.6280728267951473, 0.0029866956070025387)}"
      ]
     },
     "execution_count": 91,
     "metadata": {},
     "output_type": "execute_result"
    }
   ],
   "source": [
    "nicky_clf = MultinomialNB()\n",
    "nicky_X = X.copy()\n",
    "nicky_y = y.copy()\n",
    "nicky_scoring=['accuracy', 'precision', 'recall', 'f1']\n",
    "nicky_res = cross_validate(clf, nicky_X, nicky_y, scoring=nicky_scoring, cv=3)\n",
    "{item: (value.mean(), value.std()) for (item, value) in nicky_res.items()}"
   ]
  },
  {
   "cell_type": "code",
   "execution_count": 96,
   "metadata": {},
   "outputs": [
    {
     "data": {
      "text/plain": [
       "array([1, 1, 0, ..., 1, 1, 0])"
      ]
     },
     "execution_count": 96,
     "metadata": {},
     "output_type": "execute_result"
    }
   ],
   "source": [
    "nicky_clf.fit(nicky_X,nicky_y)\n"
   ]
  },
  {
   "cell_type": "code",
   "execution_count": 97,
   "metadata": {},
   "outputs": [
    {
     "data": {
      "text/plain": [
       "array([[0.36970839, 0.63029161],\n",
       "       [0.49420464, 0.50579536],\n",
       "       [0.56957207, 0.43042793],\n",
       "       ...,\n",
       "       [0.49779887, 0.50220113],\n",
       "       [0.33527857, 0.66472143],\n",
       "       [0.62765024, 0.37234976]])"
      ]
     },
     "execution_count": 97,
     "metadata": {},
     "output_type": "execute_result"
    }
   ],
   "source": [
    "y_pred = nicky_clf.predict_proba(nicky_X)\n",
    "y_pred"
   ]
  },
  {
   "cell_type": "code",
   "execution_count": null,
   "metadata": {},
   "outputs": [
    {
     "data": {
      "text/plain": [
       "(49670, 2)"
      ]
     },
     "execution_count": 100,
     "metadata": {},
     "output_type": "execute_result"
    }
   ],
   "source": [
    "df.columns"
   ]
  },
  {
   "cell_type": "code",
   "execution_count": 103,
   "metadata": {},
   "outputs": [
    {
     "data": {
      "text/html": [
       "<div>\n",
       "<style scoped>\n",
       "    .dataframe tbody tr th:only-of-type {\n",
       "        vertical-align: middle;\n",
       "    }\n",
       "\n",
       "    .dataframe tbody tr th {\n",
       "        vertical-align: top;\n",
       "    }\n",
       "\n",
       "    .dataframe thead th {\n",
       "        text-align: right;\n",
       "    }\n",
       "</style>\n",
       "<table border=\"1\" class=\"dataframe\">\n",
       "  <thead>\n",
       "    <tr style=\"text-align: right;\">\n",
       "      <th></th>\n",
       "      <th>quoteID</th>\n",
       "      <th>quotation</th>\n",
       "      <th>speaker</th>\n",
       "      <th>date</th>\n",
       "      <th>numOccurrences</th>\n",
       "      <th>id</th>\n",
       "      <th>party_label</th>\n",
       "      <th>US_congress_bio_ID</th>\n",
       "      <th>quotation_cleanA</th>\n",
       "      <th>quotation_cleanB</th>\n",
       "      <th>quotation_cleanC</th>\n",
       "      <th>quotation_cleanD</th>\n",
       "      <th>pred</th>\n",
       "    </tr>\n",
       "  </thead>\n",
       "  <tbody>\n",
       "    <tr>\n",
       "      <th>0</th>\n",
       "      <td>2020-04-14-003330</td>\n",
       "      <td>And I praised him for his actions.</td>\n",
       "      <td>andrew cuomo</td>\n",
       "      <td>2020-04-14 20:57:21</td>\n",
       "      <td>1</td>\n",
       "      <td>Q11673</td>\n",
       "      <td>D</td>\n",
       "      <td>None</td>\n",
       "      <td>And I praised him for his actions.</td>\n",
       "      <td>and i praised him for his actions</td>\n",
       "      <td>praised actions</td>\n",
       "      <td>prais action</td>\n",
       "      <td>0.369708</td>\n",
       "    </tr>\n",
       "    <tr>\n",
       "      <th>1</th>\n",
       "      <td>2020-02-17-079523</td>\n",
       "      <td>We loved his optimism,</td>\n",
       "      <td>tina kotek</td>\n",
       "      <td>2020-02-17 02:52:08</td>\n",
       "      <td>1</td>\n",
       "      <td>Q1452454</td>\n",
       "      <td>D</td>\n",
       "      <td>None</td>\n",
       "      <td>We loved his optimism,</td>\n",
       "      <td>we loved his optimism</td>\n",
       "      <td>loved optimism</td>\n",
       "      <td>love optim</td>\n",
       "      <td>0.494205</td>\n",
       "    </tr>\n",
       "    <tr>\n",
       "      <th>2</th>\n",
       "      <td>2020-01-13-034733</td>\n",
       "      <td>I'm part of the process and they're part of the process,</td>\n",
       "      <td>michael madigan</td>\n",
       "      <td>2020-01-13 23:28:22</td>\n",
       "      <td>1</td>\n",
       "      <td>Q961894</td>\n",
       "      <td>D</td>\n",
       "      <td>None</td>\n",
       "      <td>I'm part of the process and they're part of the process,</td>\n",
       "      <td>i m part of the process and they re part of the process</td>\n",
       "      <td>part process part process</td>\n",
       "      <td>part process part process</td>\n",
       "      <td>0.569572</td>\n",
       "    </tr>\n",
       "    <tr>\n",
       "      <th>3</th>\n",
       "      <td>2020-01-30-118952</td>\n",
       "      <td>We're looking at all of our parliamentary options to try to force as many votes as we can to put Republicans on the record,</td>\n",
       "      <td>chris murphy</td>\n",
       "      <td>2020-01-30 23:20:17</td>\n",
       "      <td>3</td>\n",
       "      <td>Q1077594</td>\n",
       "      <td>D</td>\n",
       "      <td>M001169</td>\n",
       "      <td>We're looking at all of our parliamentary options to try to force as many votes as we can to put Republicans on the record,</td>\n",
       "      <td>we re looking at all of our parliamentary options to try to force as many votes as we can to put republicans on the record</td>\n",
       "      <td>looking parliamentary options try force many votes put republicans record</td>\n",
       "      <td>look parliamentari option tri forc mani vote put republican record</td>\n",
       "      <td>0.516648</td>\n",
       "    </tr>\n",
       "    <tr>\n",
       "      <th>4</th>\n",
       "      <td>2020-01-17-041823</td>\n",
       "      <td>In a unique idiosyncracy of San Diego Election Law, we have another public fundraising deadline this Friday for the first 18 days of January.... Look I know these fundraising emails can sometimes seem tedious, but I really do need help. Media outlets and pundits are going to be looking at this fundraising number to try and make predictions about the state of the mayoral race, so I cannot let my opponents raise more online grassroots donations than our campaign ahead of this deadline.</td>\n",
       "      <td>todd gloria</td>\n",
       "      <td>2020-01-17 07:12:40</td>\n",
       "      <td>1</td>\n",
       "      <td>Q7812385</td>\n",
       "      <td>D</td>\n",
       "      <td>None</td>\n",
       "      <td>In a unique idiosyncracy of San Diego Election Law, we have another public fundraising deadline this Friday for the first days of January.... Look I know these fundraising emails can sometimes seem tedious, but I really do need help. Media outlets and pundits are going to be looking at this fundraising number to try and make predictions about the state of the mayoral race, so I cannot let my opponents raise more online grassroots donations than our campaign ahead of this deadline.</td>\n",
       "      <td>in a unique idiosyncracy of san diego election law we have another public fundraising deadline this friday for the first days of january look i know these fundraising emails can sometimes seem tedious but i really do need help media outlets and pundits are going to be looking at this fundraising number to try and make predictions about the state of the mayoral race so i cannot let my opponents raise more online grassroots donations than our campaign ahead of this deadline</td>\n",
       "      <td>unique idiosyncracy san diego election law another public fundraising deadline friday first days january look know fundraising emails sometimes seem tedious really need help media outlets pundits going looking fundraising number try make predictions state mayoral race cannot let opponents raise online grassroots donations campaign ahead deadline</td>\n",
       "      <td>uniqu idiosyncraci san diego elect law anoth public fundrais deadlin friday first day januari look know fundrais email sometim seem tedious realli need help media outlet pundit go look fundrais number tri make predict state mayor race cannot let oppon rais onlin grassroot donat campaign ahead deadlin</td>\n",
       "      <td>0.196959</td>\n",
       "    </tr>\n",
       "    <tr>\n",
       "      <th>...</th>\n",
       "      <td>...</td>\n",
       "      <td>...</td>\n",
       "      <td>...</td>\n",
       "      <td>...</td>\n",
       "      <td>...</td>\n",
       "      <td>...</td>\n",
       "      <td>...</td>\n",
       "      <td>...</td>\n",
       "      <td>...</td>\n",
       "      <td>...</td>\n",
       "      <td>...</td>\n",
       "      <td>...</td>\n",
       "      <td>...</td>\n",
       "    </tr>\n",
       "    <tr>\n",
       "      <th>49665</th>\n",
       "      <td>2020-01-05-033758</td>\n",
       "      <td>the new policy tools are effective.</td>\n",
       "      <td>ben bernanke</td>\n",
       "      <td>2020-01-05 00:00:00</td>\n",
       "      <td>13</td>\n",
       "      <td>Q201795</td>\n",
       "      <td>R</td>\n",
       "      <td>None</td>\n",
       "      <td>the new policy tools are effective.</td>\n",
       "      <td>the new policy tools are effective</td>\n",
       "      <td>new policy tools effective</td>\n",
       "      <td>new polici tool effect</td>\n",
       "      <td>0.511507</td>\n",
       "    </tr>\n",
       "    <tr>\n",
       "      <th>49666</th>\n",
       "      <td>2020-03-20-007821</td>\n",
       "      <td>Because of the corona crisis, those kids have been sent home,</td>\n",
       "      <td>arnold schwarzenegger</td>\n",
       "      <td>2020-03-20 13:28:14</td>\n",
       "      <td>1</td>\n",
       "      <td>Q2685</td>\n",
       "      <td>R</td>\n",
       "      <td>None</td>\n",
       "      <td>Because of the corona crisis, those kids have been sent home,</td>\n",
       "      <td>because of the corona crisis those kids have been sent home</td>\n",
       "      <td>corona crisis kids sent home</td>\n",
       "      <td>corona crisi kid sent home</td>\n",
       "      <td>0.547786</td>\n",
       "    </tr>\n",
       "    <tr>\n",
       "      <th>49667</th>\n",
       "      <td>2020-03-06-022434</td>\n",
       "      <td>I have a message for Joe Biden and Beto O’Rourke, if you want to take everyone's AR-15s in America, why don't you swing by my office in Washington, D.C., and start with this one?</td>\n",
       "      <td>ken buck</td>\n",
       "      <td>2020-03-06 16:30:00</td>\n",
       "      <td>10</td>\n",
       "      <td>Q1439421</td>\n",
       "      <td>R</td>\n",
       "      <td>B001297</td>\n",
       "      <td>I have a message for Joe Biden and Beto O'Rourke, if you want to take everyone's AR-15s in America, why don't you swing by my office in Washington, D.C., and start with this one?</td>\n",
       "      <td>i have a message for joe biden and beto o'rourke if you want to take everyone s ar 15s in america why don t you swing by my office in washington d c and start with this one</td>\n",
       "      <td>message joe biden beto 'rourke want take everyone ar 15s america swing office washington c start one</td>\n",
       "      <td>messag joe biden beto rourk want take everyon ar 15s america swing offic washington c start one</td>\n",
       "      <td>0.497799</td>\n",
       "    </tr>\n",
       "    <tr>\n",
       "      <th>49668</th>\n",
       "      <td>2020-02-26-041628</td>\n",
       "      <td>It's another avenue to highlight this issue, this rural, urban divide and how the city [ of Chicago ] continues to drive legislation down and how it impacts the rest of us,</td>\n",
       "      <td>brad halbrook</td>\n",
       "      <td>2020-02-26 11:09:33</td>\n",
       "      <td>1</td>\n",
       "      <td>Q4953971</td>\n",
       "      <td>R</td>\n",
       "      <td>None</td>\n",
       "      <td>It's another avenue to highlight this issue, this rural, urban divide and how the city [ of Chicago ] continues to drive legislation down and how it impacts the rest of us,</td>\n",
       "      <td>it s another avenue to highlight this issue this rural urban divide and how the city of chicago continues to drive legislation down and how it impacts the rest of us</td>\n",
       "      <td>another avenue highlight issue rural urban divide city chicago continues drive legislation impacts rest us</td>\n",
       "      <td>anoth avenu highlight issu rural urban divid citi chicago continu drive legisl impact rest us</td>\n",
       "      <td>0.335279</td>\n",
       "    </tr>\n",
       "    <tr>\n",
       "      <th>49669</th>\n",
       "      <td>2020-04-08-041047</td>\n",
       "      <td>Over the past several days, I have been in constant communication with banks, credit unions, and potential borrowers from Pennsylvania to receive direct feedback about the program's performance,</td>\n",
       "      <td>pat toomey</td>\n",
       "      <td>2020-04-08 23:30:00</td>\n",
       "      <td>1</td>\n",
       "      <td>Q971308</td>\n",
       "      <td>R</td>\n",
       "      <td>T000461</td>\n",
       "      <td>Over the past several days, I have been in constant communication with banks, credit unions, and potential borrowers from Pennsylvania to receive direct feedback about the program's performance,</td>\n",
       "      <td>over the past several days i have been in constant communication with banks credit unions and potential borrowers from pennsylvania to receive direct feedback about the program s performance</td>\n",
       "      <td>past several days constant communication banks credit unions potential borrowers pennsylvania receive direct feedback program performance</td>\n",
       "      <td>past sever day constant communic bank credit union potenti borrow pennsylvania receiv direct feedback program perform</td>\n",
       "      <td>0.627650</td>\n",
       "    </tr>\n",
       "  </tbody>\n",
       "</table>\n",
       "<p>49670 rows × 13 columns</p>\n",
       "</div>"
      ],
      "text/plain": [
       "                 quoteID  \\\n",
       "0      2020-04-14-003330   \n",
       "1      2020-02-17-079523   \n",
       "2      2020-01-13-034733   \n",
       "3      2020-01-30-118952   \n",
       "4      2020-01-17-041823   \n",
       "...                  ...   \n",
       "49665  2020-01-05-033758   \n",
       "49666  2020-03-20-007821   \n",
       "49667  2020-03-06-022434   \n",
       "49668  2020-02-26-041628   \n",
       "49669  2020-04-08-041047   \n",
       "\n",
       "                                                                                                                                                                                                                                                                                                                                                                                                                                                                                                      quotation  \\\n",
       "0                                                                                                                                                                                                                                                                                                                                                                                                                                                                            And I praised him for his actions.   \n",
       "1                                                                                                                                                                                                                                                                                                                                                                                                                                                                                        We loved his optimism,   \n",
       "2                                                                                                                                                                                                                                                                                                                                                                                                                                                      I'm part of the process and they're part of the process,   \n",
       "3                                                                                                                                                                                                                                                                                                                                                                                   We're looking at all of our parliamentary options to try to force as many votes as we can to put Republicans on the record,   \n",
       "4      In a unique idiosyncracy of San Diego Election Law, we have another public fundraising deadline this Friday for the first 18 days of January.... Look I know these fundraising emails can sometimes seem tedious, but I really do need help. Media outlets and pundits are going to be looking at this fundraising number to try and make predictions about the state of the mayoral race, so I cannot let my opponents raise more online grassroots donations than our campaign ahead of this deadline.   \n",
       "...                                                                                                                                                                                                                                                                                                                                                                                                                                                                                                         ...   \n",
       "49665                                                                                                                                                                                                                                                                                                                                                                                                                                                                       the new policy tools are effective.   \n",
       "49666                                                                                                                                                                                                                                                                                                                                                                                                                                             Because of the corona crisis, those kids have been sent home,   \n",
       "49667                                                                                                                                                                                                                                                                                                                        I have a message for Joe Biden and Beto O’Rourke, if you want to take everyone's AR-15s in America, why don't you swing by my office in Washington, D.C., and start with this one?   \n",
       "49668                                                                                                                                                                                                                                                                                                                              It's another avenue to highlight this issue, this rural, urban divide and how the city [ of Chicago ] continues to drive legislation down and how it impacts the rest of us,   \n",
       "49669                                                                                                                                                                                                                                                                                                        Over the past several days, I have been in constant communication with banks, credit unions, and potential borrowers from Pennsylvania to receive direct feedback about the program's performance,   \n",
       "\n",
       "                     speaker                date  numOccurrences        id  \\\n",
       "0               andrew cuomo 2020-04-14 20:57:21               1    Q11673   \n",
       "1                 tina kotek 2020-02-17 02:52:08               1  Q1452454   \n",
       "2            michael madigan 2020-01-13 23:28:22               1   Q961894   \n",
       "3               chris murphy 2020-01-30 23:20:17               3  Q1077594   \n",
       "4                todd gloria 2020-01-17 07:12:40               1  Q7812385   \n",
       "...                      ...                 ...             ...       ...   \n",
       "49665           ben bernanke 2020-01-05 00:00:00              13   Q201795   \n",
       "49666  arnold schwarzenegger 2020-03-20 13:28:14               1     Q2685   \n",
       "49667               ken buck 2020-03-06 16:30:00              10  Q1439421   \n",
       "49668          brad halbrook 2020-02-26 11:09:33               1  Q4953971   \n",
       "49669             pat toomey 2020-04-08 23:30:00               1   Q971308   \n",
       "\n",
       "      party_label US_congress_bio_ID  \\\n",
       "0               D               None   \n",
       "1               D               None   \n",
       "2               D               None   \n",
       "3               D            M001169   \n",
       "4               D               None   \n",
       "...           ...                ...   \n",
       "49665           R               None   \n",
       "49666           R               None   \n",
       "49667           R            B001297   \n",
       "49668           R               None   \n",
       "49669           R            T000461   \n",
       "\n",
       "                                                                                                                                                                                                                                                                                                                                                                                                                                                                                            quotation_cleanA  \\\n",
       "0                                                                                                                                                                                                                                                                                                                                                                                                                                                                         And I praised him for his actions.   \n",
       "1                                                                                                                                                                                                                                                                                                                                                                                                                                                                                     We loved his optimism,   \n",
       "2                                                                                                                                                                                                                                                                                                                                                                                                                                                   I'm part of the process and they're part of the process,   \n",
       "3                                                                                                                                                                                                                                                                                                                                                                                We're looking at all of our parliamentary options to try to force as many votes as we can to put Republicans on the record,   \n",
       "4      In a unique idiosyncracy of San Diego Election Law, we have another public fundraising deadline this Friday for the first days of January.... Look I know these fundraising emails can sometimes seem tedious, but I really do need help. Media outlets and pundits are going to be looking at this fundraising number to try and make predictions about the state of the mayoral race, so I cannot let my opponents raise more online grassroots donations than our campaign ahead of this deadline.   \n",
       "...                                                                                                                                                                                                                                                                                                                                                                                                                                                                                                      ...   \n",
       "49665                                                                                                                                                                                                                                                                                                                                                                                                                                                                    the new policy tools are effective.   \n",
       "49666                                                                                                                                                                                                                                                                                                                                                                                                                                          Because of the corona crisis, those kids have been sent home,   \n",
       "49667                                                                                                                                                                                                                                                                                                                     I have a message for Joe Biden and Beto O'Rourke, if you want to take everyone's AR-15s in America, why don't you swing by my office in Washington, D.C., and start with this one?   \n",
       "49668                                                                                                                                                                                                                                                                                                                           It's another avenue to highlight this issue, this rural, urban divide and how the city [ of Chicago ] continues to drive legislation down and how it impacts the rest of us,   \n",
       "49669                                                                                                                                                                                                                                                                                                     Over the past several days, I have been in constant communication with banks, credit unions, and potential borrowers from Pennsylvania to receive direct feedback about the program's performance,   \n",
       "\n",
       "                                                                                                                                                                                                                                                                                                                                                                                                                                                                                   quotation_cleanB  \\\n",
       "0                                                                                                                                                                                                                                                                                                                                                                                                                                                                 and i praised him for his actions   \n",
       "1                                                                                                                                                                                                                                                                                                                                                                                                                                                                             we loved his optimism   \n",
       "2                                                                                                                                                                                                                                                                                                                                                                                                                                           i m part of the process and they re part of the process   \n",
       "3                                                                                                                                                                                                                                                                                                                                                                        we re looking at all of our parliamentary options to try to force as many votes as we can to put republicans on the record   \n",
       "4      in a unique idiosyncracy of san diego election law we have another public fundraising deadline this friday for the first days of january look i know these fundraising emails can sometimes seem tedious but i really do need help media outlets and pundits are going to be looking at this fundraising number to try and make predictions about the state of the mayoral race so i cannot let my opponents raise more online grassroots donations than our campaign ahead of this deadline   \n",
       "...                                                                                                                                                                                                                                                                                                                                                                                                                                                                                             ...   \n",
       "49665                                                                                                                                                                                                                                                                                                                                                                                                                                                            the new policy tools are effective   \n",
       "49666                                                                                                                                                                                                                                                                                                                                                                                                                                   because of the corona crisis those kids have been sent home   \n",
       "49667                                                                                                                                                                                                                                                                                                                  i have a message for joe biden and beto o'rourke if you want to take everyone s ar 15s in america why don t you swing by my office in washington d c and start with this one   \n",
       "49668                                                                                                                                                                                                                                                                                                                         it s another avenue to highlight this issue this rural urban divide and how the city of chicago continues to drive legislation down and how it impacts the rest of us   \n",
       "49669                                                                                                                                                                                                                                                                                                over the past several days i have been in constant communication with banks credit unions and potential borrowers from pennsylvania to receive direct feedback about the program s performance   \n",
       "\n",
       "                                                                                                                                                                                                                                                                                                                                                  quotation_cleanC  \\\n",
       "0                                                                                                                                                                                                                                                                                                                                                  praised actions   \n",
       "1                                                                                                                                                                                                                                                                                                                                                   loved optimism   \n",
       "2                                                                                                                                                                                                                                                                                                                                        part process part process   \n",
       "3                                                                                                                                                                                                                                                                                        looking parliamentary options try force many votes put republicans record   \n",
       "4      unique idiosyncracy san diego election law another public fundraising deadline friday first days january look know fundraising emails sometimes seem tedious really need help media outlets pundits going looking fundraising number try make predictions state mayoral race cannot let opponents raise online grassroots donations campaign ahead deadline   \n",
       "...                                                                                                                                                                                                                                                                                                                                                            ...   \n",
       "49665                                                                                                                                                                                                                                                                                                                                   new policy tools effective   \n",
       "49666                                                                                                                                                                                                                                                                                                                                 corona crisis kids sent home   \n",
       "49667                                                                                                                                                                                                                                                         message joe biden beto 'rourke want take everyone ar 15s america swing office washington c start one   \n",
       "49668                                                                                                                                                                                                                                                   another avenue highlight issue rural urban divide city chicago continues drive legislation impacts rest us   \n",
       "49669                                                                                                                                                                                                                    past several days constant communication banks credit unions potential borrowers pennsylvania receive direct feedback program performance   \n",
       "\n",
       "                                                                                                                                                                                                                                                                                                    quotation_cleanD  \\\n",
       "0                                                                                                                                                                                                                                                                                                       prais action   \n",
       "1                                                                                                                                                                                                                                                                                                         love optim   \n",
       "2                                                                                                                                                                                                                                                                                          part process part process   \n",
       "3                                                                                                                                                                                                                                                 look parliamentari option tri forc mani vote put republican record   \n",
       "4      uniqu idiosyncraci san diego elect law anoth public fundrais deadlin friday first day januari look know fundrais email sometim seem tedious realli need help media outlet pundit go look fundrais number tri make predict state mayor race cannot let oppon rais onlin grassroot donat campaign ahead deadlin   \n",
       "...                                                                                                                                                                                                                                                                                                              ...   \n",
       "49665                                                                                                                                                                                                                                                                                         new polici tool effect   \n",
       "49666                                                                                                                                                                                                                                                                                     corona crisi kid sent home   \n",
       "49667                                                                                                                                                                                                                messag joe biden beto rourk want take everyon ar 15s america swing offic washington c start one   \n",
       "49668                                                                                                                                                                                                                  anoth avenu highlight issu rural urban divid citi chicago continu drive legisl impact rest us   \n",
       "49669                                                                                                                                                                                          past sever day constant communic bank credit union potenti borrow pennsylvania receiv direct feedback program perform   \n",
       "\n",
       "           pred  \n",
       "0      0.369708  \n",
       "1      0.494205  \n",
       "2      0.569572  \n",
       "3      0.516648  \n",
       "4      0.196959  \n",
       "...         ...  \n",
       "49665  0.511507  \n",
       "49666  0.547786  \n",
       "49667  0.497799  \n",
       "49668  0.335279  \n",
       "49669  0.627650  \n",
       "\n",
       "[49670 rows x 13 columns]"
      ]
     },
     "execution_count": 103,
     "metadata": {},
     "output_type": "execute_result"
    }
   ],
   "source": [
    "nicky_df = df.copy()\n",
    "nicky_df['pred'] = y_pred[:,0]\n",
    "nicky_df"
   ]
  },
  {
   "cell_type": "code",
   "execution_count": 107,
   "metadata": {},
   "outputs": [],
   "source": [
    "nicky_df['rounded_pred'] = np.argmax(y_pred,axis = 1)"
   ]
  },
  {
   "cell_type": "code",
   "execution_count": 111,
   "metadata": {},
   "outputs": [
    {
     "data": {
      "application/vnd.plotly.v1+json": {
       "config": {
        "plotlyServerURL": "https://plot.ly"
       },
       "data": [
        {
         "customdata": [
          [
           "david cicilline",
           "best emergency management professional I know."
          ],
          [
           "rich wardner",
           "Many times, Legislators are misquoted, there's rumors about this and that. This way, the public can sit in, they can see exactly what it is,"
          ],
          [
           "jay inslee",
           "hours count and very strong measures are necessary to slow the spread of the disease."
          ],
          [
           "tim walz",
           "I watch a news conference and they tell us we have testing capacity, but I am telling you we don't have testing capacity. It is not out there yet,"
          ],
          [
           "gretchen whitmer",
           "We are living in a difficult time, & the unknown is scary,"
          ],
          [
           "joe biden",
           "That's why, if you notice on what I've been doing, I've not been criticizing the president, but I've been pointing out where there's disagreement as to how to proceed."
          ],
          [
           "kellyanne conway",
           "It's a turning point and we hope it becomes a trend,"
          ],
          [
           "bernie sanders",
           "unprecedented crisis of our lifetime,"
          ],
          [
           "bonnie watson coleman",
           "We're focused on the health and wellbeing of Americans in this crisis, and until we're able to ensure people continue to get paychecks, that they can make it from the first of the month to the end of the month,"
          ],
          [
           "michael bennet",
           "does not make up for the enormous pain and instability caused by three years of reckless trade policy from this administration,"
          ],
          [
           "ed markey",
           "During this crisis, the American public needs the Trump administration to provide clear, consistent, science-based information about COVID-19; we urge you to ensure that future communications meet this standard,"
          ],
          [
           "chuck schumer",
           "We have stood for one thing, we do not want this rush through. We do not want it in the dark of night. Members have an obligation to tell the American people and to tell the people of their states why they are voting,"
          ],
          [
           "sam moore",
           "I have to govern in an unorthodox way and let St. Louis know, `Shame on you for letting this community get in the condition that it's in. '"
          ],
          [
           "clay schexnayder",
           "When I was 8-years-old my dad bought a brand new Snapper riding lawn mower, really the first decent one in the neighborhood,"
          ],
          [
           "mike dewine",
           "The way we left that conversation was we need to get more specifics about what is going on there because frankly we're going to need some of their hospitals too and so there's a flow the other way as well,"
          ],
          [
           "tom feeney",
           "Recognizing a critical need for Florida businesses during the unforeseen COVID-19 pandemic, this partnership between AIF, Space Florida and FloridaMakes will allow more than 20,000 Florida manufacturers to connect with public/private organizations through a platform for this essential exchange,"
          ],
          [
           "asa hutchinson",
           "you're not going to win simply by a lockdown, because there's no such thing as a true lockdown."
          ],
          [
           "rick berg",
           "encourages (Republican lawmakers) to make sure that what they post online is what they're intending to post."
          ],
          [
           "bill lee",
           "necessary to maintain health and economic well-being"
          ],
          [
           "john moorlach",
           "what has me frustrated still is that out of some 37,000 (state-owned) sites that the state could look at, that the only one that was on the list was Fairview."
          ],
          [
           "mike pompeo",
           "There will be a lot of time to look back."
          ],
          [
           "sherrod brown",
           "The question is, how afraid are they of this president?"
          ],
          [
           "jennifer wexton",
           "There shouldn't be a deadline on equality and our long march to full equality under the law is finally coming to fruition,"
          ],
          [
           "justin amash",
           "The president's lawyers call our Constitution's carefully prescribed impeachment process `massive election interference,' but they consider the president's abuse of power to benefit his re-election just another day at the office,"
          ],
          [
           "pete buttigieg",
           "accept some responsibility and ask yourself what is it about your campaign in particular that seems to be motivating this behaviour more than others"
          ],
          [
           "brian king",
           "This coronavirus crisis is hopefully a 2020 problem and by the end of the year we'll hopefully have it under control and we'll be back to a sense of normality. The real estate market will continue and people are making long-term decisions."
          ],
          [
           "phil murphy",
           "We are taking this unprecedent step for a couple reasons,"
          ],
          [
           "latoya cantrell",
           "to provide a forum for the public to air its frustration"
          ],
          [
           "james lankford",
           "I commend President Trump for bolstering American credibility by defending American lives and for re-establishing deterrence against Iran for the first time since 1979. Iran now knows that President Trump means what he says, and that it cannot afford an all-out war with the United States, which is why it chose not to escalate further. Whether Iran seizes this opportunity to negotiate or not, by killing Soleimani, President Trump has put us in the strongest position we've had with Iran in decades. Now is the time to work with our partners in the region and in Europe on a more comprehensive approach towards de-escalation."
          ],
          [
           "andrew cuomo",
           "Well, you would have known by now, right, because the manifestation period is about a couple -- a couple of weeks. So, if people had gotten it next to him, in that situation, you would see -- be seeing the cases now,"
          ],
          [
           "peter kilmartin",
           "We are of the opinion that, as the history reflects, grand jury secrecy plays an integral part not only in the effective prosecution of crimes, but also in the protection of those upon whom the grand jury casts its considerable inquisitorial powers, which in turn is a protection potentially afforded to every member of the public,"
          ],
          [
           "joe biden",
           "The idea of holding a convention is going to be necessary, but we may not be able to put 10,000, 20,000, 30,000 people in one place and that's very possible,"
          ],
          [
           "jenny durkan",
           "We hope thousands of Seattle residents will rediscover their Library this year without the fear of fines that has kept many people away."
          ],
          [
           "bernie sanders",
           "Even though the vote tabulations have been extremely slow, we are now at a point with some 97 per cent of the precincts reporting where our campaign is winning the popular initial vote by some 6,000 votes."
          ],
          [
           "andrew cuomo",
           "If you get this virus, you will get sick, you will recover, you will most likely not even go to the hospital,"
          ],
          [
           "william p. barr",
           "The Venezuelan regime, once led by Nicolás Maduro Moros, remains plagued by criminality and corruption,"
          ],
          [
           "mitt romney",
           "The allegations made in the articles of impeachment are very serious. As a Senator-juror, I swore an oath, before God, to exercise `impartial justice,"
          ],
          [
           "asa hutchinson",
           "This is one of the stronger systems that we've seen in recent years,"
          ],
          [
           "steve schewel",
           "Once cases begin multiplying, as they have in Italy and New York, the rise in the number of cases is exponential. And that is exactly what we are trying to avoid and to stop here in Durham."
          ],
          [
           "mike pompeo",
           "I am always grateful for Israel's steadfast support in defeating terrorism,"
          ],
          [
           "joe biden",
           "that will finally allow us to leave the politics of the past in the past, turn the page and bring change to Washington before it's too late."
          ],
          [
           "jaime andrade",
           "You know, if he twitches too much or if he moves too much, or if his voice changes,"
          ],
          [
           "bernie sanders",
           "those in nursing homes and rehabilitation facilities, those confined in immigration detention centers, those who are currently incarcerated, and all people regardless of immigration status."
          ],
          [
           "anthony sabatini",
           "In the great majority of the cases, most people understand incumbency is, like some folks have said, an entrenched position of power and strength. There's lot's of money involved. Once you are an incumbent, it's extremely difficult to remove an incumbent, even if they... are doing things that are not reflected by the voters."
          ],
          [
           "morgan carroll",
           "In a caucus system you can do a lot of grassroots organizing to get your delegates in ways that don't require more money. But to really compete with an entire primary electorate, and in a state that allows unaffiliated to participate, that is a much, much bigger voter universe and you do need more resources to participate in a primary than a caucus."
          ],
          [
           "warren davidson",
           "But it's a wrong metaphor, right?"
          ],
          [
           "jan jones",
           "It's one big step to what will be many steps toward ending a scourge that the governor has referred to as modern slavery."
          ],
          [
           "david gallegos",
           "I think at the end of that, we win as a state because if we lose the oilfield, the state's in a world of hurt."
          ],
          [
           "steve daines",
           "Yeah I think we're going to need more help and more assistance. But it's been tremendous to see the outpouring of support that we've already experienced with these small businesses across Montana. These small businesses have these gut wrenching decisions,"
          ],
          [
           "jennifer carroll foy",
           "There were no outside conversations about anything else that was happening in the world"
          ],
          [
           "letitia james",
           "unnecessary lawsuits & amp; harassment."
          ],
          [
           "devin nunes",
           "I'm not sure that they [ Democrats ] actually know how to do anything else."
          ],
          [
           "jared polis",
           "Our mountains, our trails, our beautiful rivers, they're going to be there,"
          ],
          [
           "joe biden",
           "Look, follow your instincts, follow your instincts,"
          ],
          [
           "rick miller",
           "Perhaps in this district we've chosen to be more proactive than anybody else, but it's been effective."
          ],
          [
           "bob thorpe",
           "Our other tribal nations around the country, the same thing."
          ],
          [
           "gavin newsom",
           "But we are not at this moment feeling that is a necessity."
          ],
          [
           "scott wiener",
           "Some of them have parking lots and they want to help homeless residents. But it can be extremely challenging for them. The land might not be zoned the right way. Or there might be really severe parking requirements."
          ],
          [
           "nancy pelosi",
           "It is imperative that we go bigger and further assisting small business, to go longer in unemployment benefits and provide additional resources to process [ unemployment insurance ] claims and to give families additional direct payments."
          ],
          [
           "moe maestas",
           "It is a conflict of interest if a particular vote has an economic impact on my family,"
          ],
          [
           "bernie sanders",
           "doesn't pander or pretend, which makes it funny to manufacture all of these images for him and place them into disparate contexts."
          ],
          [
           "mike pompeo",
           "this issue that you described is pretty acute with respect to the counter-Iran campaign because the previous administration and in fact many Democrats have a radically different vision of how we ought to treat Iran. It's not the case in many other places."
          ],
          [
           "andrew cuomo",
           "You think there's ever gon na be a morning that I wake up again in my life not worried about this in the back of my mind?"
          ],
          [
           "mike pompeo",
           "We continue to honour his legacy as a courageous journalist and demand justice for his brutal murder,"
          ],
          [
           "adam schiff",
           "Jennifer Williams has classified information to share with you that I hope you'll take a look at because it is relevant to these issues,"
          ],
          [
           "joe pitts",
           "This is our City workforce's first confirmed case, and we are praying for our firefighter's speedy recovery,"
          ],
          [
           "andy beshear",
           "We know this has been difficult, especially for folks trying to call in. Especially for folks that are having trouble applying."
          ],
          [
           "newt gingrich",
           "President Franklin D. Roosevelt tried to pack the court by adding extra justices because he was so mad at the court for blocking parts of the New Deal."
          ],
          [
           "gov. john bel edwards",
           "With a welcoming business climate, talented workforce and strong infrastructure, Louisiana remains an ideal destination for international business investments,"
          ],
          [
           "aravella simotas",
           "Our borough is already significantly underserved by the subway system. So, many of our communities rely on Queens buses. These changes will greatly affect many riders' daily lives, including their access to work, education and healthcare. Senator Ramos, members of our Community Board and I hold this as one of our highest priorities."
          ],
          [
           "nancy pelosi",
           "Next year we will have a new President -- that is an absolute imperative,"
          ],
          [
           "adam schiff",
           "remain a threat to national security"
          ],
          [
           "kerry donovan",
           "We will not be told that we don't belong in this race, and we sure as heck won't step aside for someone to run for president."
          ],
          [
           "dave rogers",
           "Got an email back that said, the least I could do is donate it. I was overwhelmed."
          ],
          [
           "pete buttigieg",
           "was on the front lines of corporate price fixing."
          ],
          [
           "joni ernst",
           "This Coronavirus pandemic is something we must address head on. Here in the Senate we have been working at a rapid pace across the aisle to get immediate relief for workers and families our small businesses and all those in our healthcare community who are on the front lines,"
          ],
          [
           "andrew cuomo",
           "Excuse our arrogance as New Yorkers -- I speak for the mayor also on this one -- we think we have the best health care system on the planet right here in New York,"
          ],
          [
           "mike huckabee",
           "This is so disappointing, not surprising, but disappointing that Mitt Romney feels like he's got to now be the contrarian. He wants to be the fly in the ointment -- the guy that sides with the Democrats and their absolutely sloppy and horrible treatment of this elected president."
          ],
          [
           "rob portman",
           "There would be a long list of witnesses,"
          ],
          [
           "ned lamont",
           "I think that is our priority right now,"
          ],
          [
           "ted cruz",
           "will not be dismissal, it will be an acquittal."
          ],
          [
           "maura healey",
           "a rather sinister breach of contract in light of the financial strain felt by many of its members during this challenging and unprecedented time."
          ],
          [
           "kurt daudt",
           "We have been talking about this issue for some time,"
          ],
          [
           "kristi noem",
           "Remodeling of existing laboratory space will be necessary to accommodate two new chemists, new equipment, and sample preparation required for quantitative THC testing,"
          ],
          [
           "michael murphy",
           "calls into question [ judges' ] impartiality"
          ],
          [
           "david wanzenried",
           "If the election of Candidate Graybill is challenged and he is unable to serve as Attorney General after winning either the primary or the general election, Montana voters will be disenfranchised. Candidate Graybill could be prohibited from being sworn in and the preferences of Montana voters will be nullified,"
          ],
          [
           "elizabeth warren",
           "been winning unwinnable fights pretty much all my life -- we persist and we win,"
          ],
          [
           "joe biden",
           "Things that people cannot control, it's not their fault,"
          ],
          [
           "rashida tlaib",
           "So for many of us standing by, it was really -- the kind of text messages I'm getting from people is `it's bizarre,' `it's unreal,' `is he really saying this? Because it's untrue. '"
          ],
          [
           "jay inslee",
           "We have a desperate need for the testing kits,"
          ],
          [
           "chris murphy",
           "The president has sat on his hands,"
          ],
          [
           "justice kavanaugh",
           "[ f ] or a different purpose, it need not be characterized [ as ] a penalty for determining whether the fraudster can retain the profits of the fraud. That's something different."
          ],
          [
           "brian kemp",
           "We still have over 50 counties that don't have a case, trying to balance all those things and going on that data we have and supporting local elected officials,"
          ],
          [
           "mike dewine",
           "In reality we can, and should, have both a clean and sustainable environment and good-paying, long-lasting jobs for hardworking Ohioans. That is why we stand shoulder-to-shoulder with other groups to continue to advocate for both huge projects like an ethane cracker as well as for common sense, reasonable and effective regulations."
          ],
          [
           "trey gowdy",
           "nothing happened with respect to the Trump campaign before June of 2016."
          ],
          [
           "marsha blackburn",
           "are spending millions of dollars to defeat @realDonald Trump, and we're supposed to believe they will be impartial during the trial?"
          ],
          [
           "mike bishop",
           "It was a lot easier to do the show about my dad,"
          ],
          [
           "jim allen",
           "Our job is to make sure we count every legal ballot,"
          ],
          [
           "ron desantis",
           "you have another class of people that is just selfish. If you shutdown the bar, they go to a house party. You have no beach, so they go to a sandbar, which is technically not the beach. I would say for those folks, you need to cool it.... The more stuff you are doing, the more difficult and longer this may go,"
          ],
          [
           "michael brady",
           "We're monitoring the weather conditions and everything, and in the event that there is a very serious weather threat, it is a possibility that we would open those shelters,"
          ],
          [
           "bill clinton",
           "Well, you're early! Luckily, I've been shaved and ready to go since breakfast,"
          ],
          [
           "nancy pelosi",
           "mistake after mistake after mistake after mistake"
          ],
          [
           "bill lee",
           "And that at the same time, creates an environment where companies like Amazon want to invest and to change lives here through job creation."
          ],
          [
           "john roberts",
           "The Sergeant at Arms will make the proclamation..."
          ],
          [
           "ralph massullo",
           "Those sunscreens are very, very difficult to use,"
          ],
          [
           "cedric richmond",
           "There's some value to projecting confidence, and, but there's also some value to being smart, prudent and diligent. We are the nerve center of the world. Sometimes you have to act,"
          ],
          [
           "mike pence",
           "total perversion of JFK's legacy and the meaning of courage."
          ],
          [
           "mike dewine",
           "We can slow this thing down. If we slow this thing down, our hospitals, our doctors are going to be able to handle it. If we don't, we go up like Italy did."
          ],
          [
           "greg abbott",
           "We are fully prepared for the hospital needs of Texans as we continue to respond to the coronavirus,"
          ],
          [
           "pete buttigieg",
           "imagine spending the better part of 2020 with Bernie Sanders vs. Donald Trump."
          ],
          [
           "tim dunn",
           "We have reserve and regular soldiers, infantry and armored, all elements combined, here supporting the RFS and clearing fire trails,"
          ],
          [
           "dick van dyke",
           "I want to wish you all the luck in the world, it's going to be a lot of fun."
          ],
          [
           "nathan small",
           "When laws are duly passed, they must be implemented."
          ],
          [
           "libby schaaf",
           "Our first responders are exposing themselves to tremendous risk"
          ],
          [
           "matt gaetz",
           "So there are certainly similarities and the tactics that we use, but I find her to be far more proficient at them."
          ],
          [
           "jared kushner",
           "These people have been professional at not finishing or making deals, and what they don't like as we are not going to do it the same way it's been done before. But the way it's been done before has failed,"
          ],
          [
           "gretchen whitmer",
           "Fighting it will cause significant but temporary changes to our daily lives.... This is about saving lives."
          ],
          [
           "mike duggan",
           "They just aren't being tested."
          ],
          [
           "morgan mcgarvey",
           "I feel a little silly wearing it but as my wife said `You wear it when you go to the grocery store, '"
          ],
          [
           "zoe lofgren",
           "I think he's not been exonerated,"
          ],
          [
           "nina turner",
           "Don't dip into what I have to say about the Reverend Dr. Martin Luther King Jr.. How dare you, as a white woman, sit up here and try and tell me what I'm supposed to feel and what I'm doing right now."
          ],
          [
           "joe biden",
           "I busted my neck getting Obamacare passed, getting every Democratic vote, I know how hard it is,"
          ],
          [
           "betsy devos",
           "The Department recognizes that exceptional circumstances may affect how special education and related services and supports are provided to students with disabilities, and the Department will offer flexibility,"
          ],
          [
           "joe biden",
           "We are alive, and we are coming back, and we are going to win,"
          ],
          [
           "gov. john bel edwards",
           "our poll workers are by and large elderly, over the age of 70, and we think it is unsafe for them to be monitoring the election,"
          ],
          [
           "jared polis",
           "As a Jewish-American who lost family in the Holocaust, I'm offended by any comparison to Nazism,"
          ],
          [
           "pete buttigieg",
           "And the process of proving that begins here in New Hampshire as we make our way on to states like Nevada, South Carolina and the Super Tuesday states as well. And we will earn that support,"
          ],
          [
           "mike pompeo",
           "This was gon na happen, and American lives were at risk."
          ],
          [
           "kathy miles",
           "Law enforcement and the media have incredible power to help people get treatment,"
          ],
          [
           "mitch mcconnell",
           "They're filibustering a huge expansion of unemployment insurance, which they themselves negotiated and put into the bill."
          ],
          [
           "scott gottlieb",
           "Had they been more truthful with the world, which would have enabled them to be more truthful with themselves, they might have actually been able to contain this entirely. And there is some growing evidence to suggest that as late as January 20, they were still saying that there was no human-to-human transmission and the WHO is validating those claims on January 14, sort of enabling the obfuscation from China."
          ],
          [
           "alex azar",
           "That experience will get better over the next week, week and a half, two weeks."
          ],
          [
           "tim walz",
           "Stay focused, people."
          ],
          [
           "rich wardner",
           "He is a person of integrity, high work ethic, a leader and always prepared. He truly cared about what was best for the people of North Dakota."
          ],
          [
           "eric garcetti",
           "workers who provide non-medical, essential services to wear face coverings while at work."
          ],
          [
           "joe scarborough",
           "It's hard for me to receive their bones, but it gives me strength and I have to be strong to demand justice,"
          ],
          [
           "jay luneau",
           "Years of a good driving record ought to account for something and insurance companies shouldn't be able to raise the rates just because your husband or wife died,"
          ],
          [
           "john barrasso",
           "You want to negotiate from the position of strength. That's what this administration has done."
          ],
          [
           "timothy f. murphy",
           "EHR data takes the guess work out of determining feasibility and increases the success rate of clinical trials,"
          ],
          [
           "alex azar",
           "We knew most of the cases were coming from China and that's why the President took an unprecedented step of making sure we restricted travel to those areas,"
          ],
          [
           "dave loebsack",
           "the candidate that can heal our divides, restore decency to the presidency and bring this country together."
          ],
          [
           "john garamendi",
           "Don Jr. had better not get any place close to me. It would not be a healthy situation."
          ],
          [
           "gov. john bel edwards",
           "The bottom line is we are in a race against time when it comes to this coronavirus and it's rapid spread in Louisiana,"
          ],
          [
           "max rose",
           "simply restates existing law and sends the message that war is imminent,"
          ],
          [
           "chris day",
           "That's why the Scottish Greens propose public ownership and phasing in free bus travel."
          ],
          [
           "terry austin",
           "what goes on the front page."
          ],
          [
           "marty walsh",
           "The people that are out there saying on social media, being racist towards the Chinatown community and Chinese people in general, I'm asking you to stop,"
          ],
          [
           "pete buttigieg",
           "By every measure, this shouldn't have happened. Buttigieg is too young, he's too unknown, some voters might not be comfortable with a gay nominee. He out-organized, out-hustled, and out-ran candidates who have done this before. Tonight's results demonstrate that the Democratic party is clearly ready for a fresh face and a new voice to take on Trump. If Biden and Sanders and Warren are faltering this early -- hey, guys, it doesn't get any easier from here on out. We're going to look back on this night the way we look back on Obama winning Iowa in 2008 and showing everyone that it wasn't a crazy dream."
          ],
          [
           "lindsey graham",
           "Very proud of President @realDonaldTrump acting decisively in the face of threats to our embassy in Baghdad. He has put the world on notice - there will be no Benghazis on his watch,"
          ],
          [
           "john sarbanes",
           "Cybersecurity is going to have to be a top priority for you all,"
          ],
          [
           "pete buttigieg",
           "We need a surge in financial support right now in order to bring us to that finish line in New Hampshire,"
          ],
          [
           "joe biden",
           "Because Trump knows I'll beat him like a drum,"
          ],
          [
           "kristi noem",
           "We know all too well that South Dakota is not immune from the devastation brought about by suicide,"
          ],
          [
           "jerrold nadler",
           "Only his will goes,"
          ],
          [
           "tony evers",
           "We want a good vote and to do it safely."
          ],
          [
           "eric swalwell",
           "They eat methane and then they convert that, they spit out methanol, and methanol is a valuable resource"
          ],
          [
           "cameron smyth",
           "We had a number of qualified candidates that we interviewed but I think that Justin's connection to the Santa Clarita Valley station and being a local resident certainly helped set him above some of the other candidates. I think he's going to be a great fit for the position; he understands the expectations that the residents of Santa Clarita have for our sheriff's captain."
          ],
          [
           "gavin newsom",
           "I know that if the tables were turned and we were experiencing a hospital surge, other states would come to our aid and provide ventilators just as we are today."
          ],
          [
           "tom cotton",
           "we should treat this pandemic not just as a war with a deadly pathogen, but as an information war with the CCP."
          ],
          [
           "betsy devos",
           "I continue to encourage her to be everything God meant her to be."
          ],
          [
           "bobby rush",
           "In doing so, Mr. Barr has undermined the public's faith in the Department of Justice and likely diminished the morale of the career public servants he oversees,"
          ],
          [
           "xavier becerra",
           "California won't allow the Trump administration to destroy and deplete our natural resources,"
          ],
          [
           "brad wilson",
           "At the beginning of the year... she was a little apprehensive,"
          ],
          [
           "garry moore",
           "I feel like this is the time that everybody is pulling together to try to make this the best experience possible."
          ],
          [
           "maureen walsh",
           "It's a privilege to vote. If they're under 18, they're kids."
          ],
          [
           "michelle lujan grisham",
           "continues to improve conditions after many years of inertia and status quo -- today's decision validates those efforts and demonstrates the agency's commitment to resolving this yearslong suit by improving conditions in facilities and for paroled class members. It underscores the importance of the continued work of the Corrections Department in meeting best practices and improving the safety, rehabilitation and well-being of inmates."
          ],
          [
           "john barrasso",
           "The facts of the case remain the same. There is nothing new here to what the House managers have been saying,"
          ],
          [
           "ari fleischer",
           "I don't understand how the CDC could make an announcement as important as yesterday without it being tightly coordinated with the White House,"
          ],
          [
           "lindsey graham",
           "To play this game with the War Powers Act, which I think is unconstitutional, is that whether you mean to or not, you're empowering the enemy,"
          ],
          [
           "nancy pelosi",
           "The panel will weed out waste, fraud and abuse, and will protect against price gouging, profiteering and political favoritism,"
          ],
          [
           "david myers",
           "It's just a song about somebody I'd like to be with but I can't,"
          ],
          [
           "joe biden",
           "It has nothing to do with Bernie's Medicare for All."
          ],
          [
           "elizabeth warren",
           "Who would make the best president at this point in the country's history?"
          ],
          [
           "betsy price",
           "You want to be in front of this. You want to be proactive and not reactive and I feel like we're being very proactive,"
          ],
          [
           "gary hooser",
           "Kauai is the most isolated island in the most isolated island chain in the Pacific,"
          ],
          [
           "mike dewine",
           "We started off last week closing the schools. We reduced the number of people gathered together to 100. You know, we have restricted access to our nursing homes, to our prisons. So we are taking tough steps... Every day counts so much and you just, you cannot wait. You have got to move very, very quickly."
          ],
          [
           "bill de blasio",
           "So, a step maybe in the right direction,"
          ],
          [
           "michael madigan",
           "Enacting a budget is a basic function of our state government and must be addressed."
          ],
          [
           "dave aronberg",
           "This is about an overall pattern of activity that raises questions and concerns involving national security."
          ],
          [
           "doug burgum",
           "Testing is a lagging indicator, and the fact that we've got very few positives is not an indicator that the spread is not more widely than we think,"
          ],
          [
           "greg abbott",
           "Assessment is a big part of our educational program here at Tyler ISD,"
          ],
          [
           "josh hawley",
           "It's crazy for parents right now,"
          ],
          [
           "bob smith",
           "That consensus is falling apart."
          ],
          [
           "bo biteman",
           "We're scrambling, scratching, clawing, looking under the mattress for quarters. We're not in any position to grow state government at all; we need to be cutting our government."
          ],
          [
           "josh hawley",
           "get ready to restart as soon as possible,"
          ],
          [
           "lindsey graham",
           "The president's in a spot where he really can't lose as this plays out,"
          ],
          [
           "michelle obama",
           "@LanaCondor, I loved spending time with you in Vietnam and am so grateful for your work with the @GirlsAlliance to educate and empower young women. Sending you a big hug!"
          ],
          [
           "rick outman",
           "The reason that we are here tonight is that there's been an interest in trying to establish a county drain out of this lake system,"
          ],
          [
           "andrew cuomo",
           "I am not in favor of imprisoning people. I am not going to imprison anywhere individual mobility and liberty. It's the cornerstone of who we are."
          ],
          [
           "ted budd",
           "learned the importance of work ethic and common-sense decision making."
          ],
          [
           "gavin buckley",
           "He built trust in the community that wasn't there. We have to build on that. But there is a good foundation and that is because of Marc."
          ],
          [
           "lamar alexander",
           "I don't think it's wise to spend our money on so-called stimulus, like a payroll tax cut. I think it is a good idea to spend money stabilizing the economy,"
          ],
          [
           "john moolenaar",
           "key priority for our state."
          ],
          [
           "gov. kim reynolds",
           "This will save lives and help us overcome this crisis more quickly."
          ],
          [
           "brenda lawrence",
           "We demand equality because women's rights are human rights!"
          ],
          [
           "mike pompeo",
           "no article of the agreement is unconditional."
          ],
          [
           "nancy pelosi",
           "This health-related economic slowdown threatens the ability of New Jersey residents to pay for their housing, afford food, or purchase necessary products to protect their health during the pandemic,"
          ],
          [
           "lindsey graham",
           "It is our job as Senators to dispose of the articles that were lawfully passed. The Speaker's attempt to shape or delay the trial is unprecedented. It cannot stand,"
          ],
          [
           "jesse arreguín",
           "The City activated its EOC over a month ago to prepare for this kind of case, and staff will be doing more as more cases emerge,"
          ],
          [
           "sylvester turner",
           "These people's lives have been devastated by the Houston explosion. We are not going to forget about them,"
          ],
          [
           "ro khanna",
           "Sanders is not going to push countries to be increasing defense spending,"
          ],
          [
           "tom coburn",
           "Sen. Tom Coburn speaks during his final town hall meeting at Tulsa Community College's VanTrease Performing Arts Center in Tulsa, Okla. on Wednesday, August 13, 2014. MATT BARNARD/Tulsa World"
          ],
          [
           "bill reilich",
           "Since May, no one has followed plan 2014,"
          ],
          [
           "bill de blasio",
           "You're going to see a surgical mask, gloves, surgical gowns, all sorts of things being made right here in New York City manufactured right here to protect our fellow New Yorkers."
          ],
          [
           "anitere flores",
           "If we really want to talk about combating illegal immigration, e-verify is a framework... the challenge is in its implementation. How do we make it so that employers aren't overly burdened from a time perspective, a cost perspective... and this is a federal program. We're not in charge of it."
          ],
          [
           "asa hutchinson",
           "they took the right steps and are not meeting"
          ],
          [
           "mike dewine",
           "an abundance of caution, and I respect that."
          ],
          [
           "mitt romney",
           "the president himself communicated to Ukraine"
          ],
          [
           "rep. ilhan omar",
           "From partners in politics to life partners, so blessed. Alhamdulillah,"
          ],
          [
           "gavin newsom",
           "critical to implementing homeless solutions in their own communities."
          ],
          [
           "mitch mcconnell",
           "If you look at what the various candidates for president on the Democratic ticket are saying, there's not a whole lot of difference between any of them,"
          ],
          [
           "gavin newsom",
           "But I caution everybody -- one day's data point did not make a trend,"
          ],
          [
           "barack obama",
           "bipartisan consensus to support and defend our ally -- Israel"
          ],
          [
           "j.b. pritzker",
           "get its s@#t together. NOW."
          ],
          [
           "ivanka trump",
           "The internet has caused lots of good things to happen and lots of really bad things and this is probably the worst of the bad things."
          ],
          [
           "donna mercado kim",
           "I want to get money out to people as quickly as possible, but there are federal compliance requirements we have,"
          ],
          [
           "alexandria ocasio-cortez",
           "PLEASE stop crowding bars, restaurants, and public spaces right now. Eat your meals at home."
          ],
          [
           "john cornyn",
           "At different times the president has expressed different views. But I wouldn't get too distracted by an intervening tweet,"
          ],
          [
           "sue rezin",
           "We would start with investing and paying for a wall along with technology that allows us to protect our borders because when we have bad borders and sanctuary cities, it's an invitation for cartels and human trafficking to come across borders,"
          ],
          [
           "andrew cuomo",
           "that the number of hospitalizations, admissions to the ICU, and requirements for intubation over the last 3 days have actually started to level off. Everybody who knows me knows I'm conservative about making projections, but those are the kinds of good signs you look for,"
          ],
          [
           "brittany pettersen",
           "Unfortunately, we haven't come very far from 1981."
          ],
          [
           "brian kemp",
           "I don't want to speculate until we get to that peak,"
          ],
          [
           "jim clyburn",
           "really dire consequences throughout South Carolina."
          ],
          [
           "peter franchot",
           "By stopping these deceptive preparers and their unethical behavior, we protect hardworking taxpayers and save the state millions of dollars in unwarranted refunds,"
          ],
          [
           "jeff sessions",
           "Nothing the President can do will deter me from supporting this agenda, because my principles, just like my faith, are fundamental to who I am and immovable. We are Alabama. Nobody tells us how to vote or what to do."
          ],
          [
           "richard burr",
           "When it comes to 5G technology, the decisions we make today will be felt for decades to come. The widespread adoption of 5G has the potential to transform the way we do business, but also carries significant national security risks. Those risks could prove disastrous if Huawei, a company that operates at the behest of the Chinese government, military, and intelligence services, is allowed to take over the 5G market unchecked. This legislation will help maintain America's competitive advantage and protect our national security by encouraging Western competitors to develop innovative, affordable, and secure 5G alternatives,"
          ],
          [
           "lori lightfoot",
           "If anybody in the city government or the alderman's office knew what was represented to us wasn't actually going to be followed on site, we would have stopped it in its tracks,"
          ],
          [
           "mike pompeo",
           "The Assad Regime, Russia, Iran and Hizballah must cease their ongoing attacks in Idlib."
          ],
          [
           "steny hoyer",
           "We expect the bill to pass by voice vote,"
          ],
          [
           "joe biden",
           "' When I argued that we should freeze federal spending, I meant Social Security as well,' he told the Senate in 1995. `I meant Medicare and Medicaid. I meant veterans' benefits. I meant every single solitary thing in the government. And I not only tried it once, I tried it twice, I tried it a third time, and I tried it a fourth time.' (A freeze would have reduced the amount that would be paid out, cutting the program's benefit.)"
          ],
          [
           "mike pompeo",
           "I'm happy to report that the death of the transatlantic alliance is grossly over exaggerated. The West is winning. We are collectively winning,"
          ],
          [
           "ben cardin",
           "It will not address the immediate need of small businesses in the legislation that we have passed,"
          ],
          [
           "bernie sanders",
           "He's the strongest candidate for climate change -- strongest candidate in terms of climate emergency and he's the largest grassroots movement that deals with that -- all the kids, people of color, and I think he stands the best chance to beat the man who will not be named that's in the office right now,"
          ],
          [
           "ben toma",
           "We're sitting on a billion dollars last year in additional revenue,"
          ],
          [
           "lamar alexander",
           "I don't need to hear any more evidence to decide that the president did what he's charged with doing,"
          ],
          [
           "gavin newsom",
           "You may have dinner where the waiter is wearing gloves and maybe a face mask, where menus may be disposable, where your temperature is checked as you walk into the restaurant,"
          ],
          [
           "jim kenney",
           "We need direct and flexible funding,"
          ],
          [
           "joe biden",
           "eliminate one of his potential opponents in the primary."
          ],
          [
           "chael sonnen",
           "I realized that guys had talked before-Stone Cold (Steve Austin) and The Rock were there, and you can go back to Muhammad Ali or John McEnroe - so I didn't reinvent the wheel, but in our sport, I was the first."
          ],
          [
           "jill cohenour",
           "This was the citizens and legislators working together to make a change,"
          ],
          [
           "mitch mcconnell",
           "The House is likely to finally send the articles over to us tomorrow, allowing Senate to take steps which would set us up to begin the actual trial next Tuesday,"
          ],
          [
           "miguel garcia",
           "I have to say listening to my coaches,"
          ],
          [
           "mike pompeo",
           "We need to know immediately. The world is entitled to know,"
          ],
          [
           "ayanna pressley",
           "about power -- who has it, who never had it to begin with, and who refuses to give it up. I've never believed the adage that a rising tide lifts all boats, because many people never had a boat to begin with."
          ],
          [
           "betsy devos",
           "This is about transparency. If colleges and universities are accepting foreign money and gifts, their students, donors and taxpayers deserve to know how much and from whom. Moreover, it's what the law requires,"
          ],
          [
           "elizabeth warren",
           "This isn't a change. The question is, what is the response that the president of the United States should make and what advances the interests of the United States of America?"
          ],
          [
           "chad fincher",
           "We're looking at ways to kind of control both populations to make it a clean, healthy environment, both for the migratory birds and for the people attending the park,"
          ],
          [
           "madeleine albright",
           "Today, more than a quarter-century later, we must ask what has happened to that uplifting vision, why does it seem to be fading?"
          ],
          [
           "bill cassidy",
           "Somehow, with the optics of TV, it looked different, as if it was more than it actually was, like Joe Burrow threw a touchdown pass,"
          ],
          [
           "tammy duckworth",
           "The answer that we've gotten from Soren (Hall) and all these elected officials is, it's their land and they can do what they want with it."
          ],
          [
           "chuck schumer",
           "America will remember this day -- a day when the US Senate did not live up to its responsibilities, turned away from truth and instead went along with a sham trial,"
          ],
          [
           "doug ducey",
           "We're focused on public health right now in the state of Arizona,"
          ],
          [
           "mazie hirono",
           "This is being expended even as we speak,"
          ],
          [
           "mitch mcconnell",
           "Governing is a question of priorities,"
          ],
          [
           "xavier becerra",
           "grossly distorting its consideration of environmental impacts."
          ],
          [
           "ted deutch",
           "The House of Representatives stands with the people of Iran that are engaged in legitimate and peaceful protests against an oppressive, corrupt regime."
          ],
          [
           "ras baraka",
           "Not only just in the City of Newark, but all of the surrounding cities in this state as well."
          ],
          [
           "elizabeth warren",
           "I'm not running a campaign that has a bunch of proposals... carefully designed not to offend big-dollar donors -- I passed that stop sign a long time ago,"
          ],
          [
           "jim jordan",
           "Yeah, when you lead the team back, I think you deserve -- you earned it so that's understood by just about everyone."
          ],
          [
           "gretchen whitmer",
           "Today's action will allow my administration to respond more effectively to every facet of this crisis. During this time, it's crucial that Michiganders continue to stay home and keep their distance from others. We will get through this together."
          ],
          [
           "andrew cuomo",
           "That is what we want because this all comes down to, at the apex, can your hospital system manage the volume of people coming into the hospital system?"
          ],
          [
           "barack obama",
           "Speak the truth. Speak it clearly. Speak it with compassion. Speak it with empathy for what folks are going through. The biggest mistake any [ of ] us can make in these situations is to misinform, particularly when we're requiring people to make sacrifices and take actions that might not be their natural inclination,"
          ],
          [
           "nikki haley",
           "This is about America united."
          ],
          [
           "rod blagojevich",
           "Trump has a kind heart."
          ],
          [
           "amy klobuchar",
           "If the court sides with the Trump administration, which is eager to end this protection, what exactly is your plan to protect the Dreamers permanently?"
          ],
          [
           "andrew cuomo",
           "We believe there are thousands of people who have coronavirus [ in the state ]. Maybe tens of thousands."
          ],
          [
           "mark batinick",
           "We need to structurally change spending."
          ],
          [
           "roy cooper",
           "Well, we finally have an answer to the most asked question in NC for the past few weeks,"
          ],
          [
           "mike pompeo",
           "We are hopeful, frankly, that they will get their act together and we won't have to do it,"
          ],
          [
           "andrew cuomo",
           "We will move our presidential primary to June 23rd. Public health is our number one priority and we will carry out this vital democratic process at a safer date,"
          ],
          [
           "bob thorpe",
           "Under Stalin we had millions of people that were starved to death. In Venezuela, there are people that had food shortages and just real oppression of the people."
          ],
          [
           "governor kim reynolds",
           "and so we also have to make sure that we have adequate information when we make the decisions that we made."
          ],
          [
           "latoya cantrell",
           "tasked with continuing to work through this challenge, as we have with those before."
          ],
          [
           "rod blagojevich",
           "I think the length of the sentence was unjust,"
          ],
          [
           "jay inslee",
           "I've talked to Vice President (Mike) Pence several times and I appreciate his willingness to talk to us about this, but I hope the president can help out,"
          ],
          [
           "marco rubio",
           "He seems to have found more inspiration in the Soviets, Sandinistas, Chavistas, and Castro than in America. His admiration for elements of Castro's dictatorship or at least willingness to look past Cuba's human rights violations is not just dangerous, it is deeply offensive to the many people in Florida, New Jersey, and across the country that have fled political persecution and sought refuge in the United States."
          ],
          [
           "matt pierce",
           "Criminalizing poverty is never a solution."
          ],
          [
           "ron desantis",
           "identify opportunities to equip high school graduates with sufficient knowledge of America's civics, particularly the principles reflected in the United States Constitution, so as to be capable of discharging the responsibilities associated with American citizenship."
          ],
          [
           "michael finn",
           "There is obviously a lot of support from government when it comes to AI, but more needs to be done if we are to keep pace with our competitors."
          ],
          [
           "doug burgum",
           "We know there are some North Dakotans overseas that are unable to get home, and we're trying to work on that,"
          ],
          [
           "isaac sponaugle",
           "If the state of West Virginia is the principal holding company, is this a workaround to that committee?"
          ],
          [
           "thomas price",
           "Having patiently monitored the development of the appropriate technology... we consider that this is the right time for the NSX to act,"
          ],
          [
           "rudy giuliani",
           "I never met him. I never did business with him,"
          ],
          [
           "alex azar",
           "So that is an authority that we have, and we intend to use it to acquire anything that we need to acquire."
          ],
          [
           "julian castro",
           "I believe our country is going in the opposite direction and that it needs new leadership."
          ],
          [
           "elliott abrams",
           "there are lots of free and fair elections around the world whose outcomes, whose results, we regret because we think the wrong guy won."
          ],
          [
           "ted cruz",
           "I have spoken to Lamar a number of times,"
          ],
          [
           "fred upton",
           "This situation should not be taken lightly. I understand folks are concerned and frustrated. We need to step up. We're in this together."
          ],
          [
           "andrew cuomo",
           "There have been little hot spots here and there. Proportionately, Upstate is very, very low to everything else in the state."
          ],
          [
           "jim clyburn",
           "Whether it's tackling the high cost of health care or fighting for fair wages, we believe in an America where everyone has the opportunity to succeed."
          ],
          [
           "melissa brown",
           "I applied for it and my coach nominated me,"
          ],
          [
           "debbie wasserman schultz",
           "The White House has become a toxic cesspool, and the person who is responsible for that is Donald Trump,"
          ],
          [
           "bill de blasio",
           "Our healthcare workers are heroes, and they need reinforcements,"
          ],
          [
           "mitch mcconnell",
           "hand design the trial proceedings,"
          ],
          [
           "jim steineke",
           "This is not a blue or red issue, it's a human issue that has received broad bipartisan support,"
          ],
          [
           "pete buttigieg",
           "national project to do something about it."
          ],
          [
           "gary carlson",
           "It's gratifying to see that the groups came together and have come with a solution that's good not only for the growth of the solar industry and utilities, but for Iowans,"
          ],
          [
           "david mcsweeney",
           "The bill is the equivalent of putting a band-aid on a gaping wound."
          ],
          [
           "mitch mcconnell",
           "blunt and delay the spread of the virus here in our country,"
          ],
          [
           "joe biden",
           "took much too long to get it right,"
          ],
          [
           "charlie gonzalez",
           "Early in his administration [ as mayor ], Castro assigned his chief of staff, Robbie Greenblum -- a Jewish lawyer from the border town of Laredo whose own Spanish is impeccable -- to discreetly find him a tutor. Rosie Castro's son is now being taught Spanish by a woman named Marta Bronstein. Greenblum met her in shul."
          ],
          [
           "mike pompeo",
           "The correct response is to present counter arguments, not restrict speech. The United States hopes that the Chinese people will enjoy the same access to accurate information and freedom of speech that Americans enjoy,"
          ],
          [
           "doug duncan",
           "They're not going to be able to make it up in the short run."
          ],
          [
           "carolyn goodman",
           "being closed is killing us already, and killing Las Vegas, our industry, our convention and tourism business that we have all worked so hard to build. The longer we wait to do this, the more impossible it will become to recover."
          ],
          [
           "mike pompeo",
           "These aren't apples to apples, and I regret China's decision today to further foreclose the world's ability to conduct free press operations."
          ],
          [
           "stan rosenberg",
           "I've always viewed her as being a really connected, responsible leader who was able to build programs because she was so aware and responsible to the community,"
          ],
          [
           "marilyn kirkpatrick",
           "It kind of goes back to who's really our partner and who's really here as a cash cow, right?"
          ],
          [
           "adam schiff",
           "Let's prove them wrong! How? By convicting the president? No."
          ],
          [
           "tony evers",
           "This isn't a decision that I made lightly,"
          ],
          [
           "steven mnuchin",
           "The original proposal was to consider seriously an enforceable quarantine,"
          ],
          [
           "brian schatz",
           "The idea here is that it's the government that is, by necessity, telling everybody to stay home, and we have to make people whole so that they can make their rent, they can buy their groceries and they can pay their mortgage, they can pay their utilities"
          ],
          [
           "annise parker",
           "Because we haven't endorsed doesn't mean we aren't interested or planning to endorse,"
          ],
          [
           "j.b. pritzker",
           "anything we can do going forward that will protect people and at the same time make it more likely that we will have better conditions for (the) stay-at-home"
          ],
          [
           "elizabeth warren",
           "Here's a history lesson on the racist legacy of redlining, if any presidential candidate needs a refresher."
          ],
          [
           "juliana stratton",
           "These men and women represent families, communities and friendship groups,"
          ],
          [
           "governor john bel edwards",
           "We have space out there. We only have so many doctors and nurses and so forth,"
          ],
          [
           "andrew cuomo",
           "The optimum is a geographically coordinated plan,"
          ],
          [
           "adam schiff",
           "I think what they're really focused on is, we want to make sure that we protect not only the health of the economy, but the health of our democracy,"
          ],
          [
           "alexandria ocasio-cortez",
           "I don't anticipate our endorsements will overlap 100 percent."
          ],
          [
           "john dean",
           "It was one of my tougher years coaching,"
          ],
          [
           "andrew cuomo",
           "where social distancing cannot be maintained."
          ],
          [
           "michael murphy",
           "We're being very selective to make sure it would work for the seller, the community, the Town Board and everyone else in the mix."
          ],
          [
           "london breed",
           "We require DPH's affirmative plan to ensure that an outbreak at SF's largest long-term care facility does not occur,"
          ],
          [
           "lloyd doggett",
           "so generous that its total cost is more than total new funding for all hospitals in America and more than the total provided to all state and local governments"
          ],
          [
           "kc becker",
           "We are really focusing on a lot of new ideas."
          ],
          [
           "eric garcetti",
           "This partnership with the YMCA will help ensure that people in Los Angeles without homes can still access the basic hygiene facilities necessary to stay healthy,"
          ],
          [
           "tom barrett",
           "Just a few weeks ago, before the current restrictions, Savills visited Dublin hotel construction sites to observe physical progress. Based on these visits -- and our own analysis -- we expect hoteliers, developers and investors will complete most projects that have commenced construction, although the delivery and opening dates will slip."
          ],
          [
           "alex charlton",
           "Until we're allowed to return to a normal lifestyle, I'll be here, or wherever I'm needed to help out,"
          ],
          [
           "ralph northam",
           "If someone comes in and has a life-threatening brain tumour, they don't want me to sit there and say,' You know what, it's going to be OK,"
          ],
          [
           "stan saylor",
           "We've made some key steps in getting Pennsylvania's debt under control,"
          ],
          [
           "john cleveland",
           "This would help ensure that the power assets and related jobs were located in Maine."
          ],
          [
           "henry mcmaster",
           "the Volvo Car Open in Charleston, the Heritage in Hilton Head and the country music festival in Myrtle Beach, among others."
          ],
          [
           "michael mccaul",
           "And it's important that Congress work with them to get to the bottom of this coverup."
          ],
          [
           "josh stein",
           "We've worked closely together to integrate BitGo Business Wallets and BitGo Custody into Harbor's services,"
          ],
          [
           "tom bates",
           "When you have somebody like Wayne come and be very open and very honest about mental health on a global level within the game, that can only be a good thing because it encourages others to have conversations, to open up conversations and be courageous enough to talk about their own mental health, and of course talking about it is the first step to improving it."
          ],
          [
           "nancy kaszak",
           "I applaud Governor Pritzker for his leadership on this issue. This historic investment into broadband will allow Illinois to become a leader on telehealth. This opens the door for to healthcare in rural and underserved communities, particularly for opioid addiction recovery and behavioral health care for children around the state."
          ],
          [
           "joe biden",
           "by the way, everybody who's been in the Congress voted for the Hyde Amendment at one point or another, because it was locked in other bills."
          ],
          [
           "bernie sanders",
           "adjusted before, and adjustments will have to be made again."
          ],
          [
           "nancy pelosi",
           "mess with [ her ]."
          ],
          [
           "dave aronberg",
           "I believe our law enforcement efforts, our sober homes task force, has become a model for the rest of the country."
          ],
          [
           "greg walden",
           "I'd want to know who is really running the show,"
          ],
          [
           "mike pence",
           "They're very happy every one of them... States are very happy, if they're not happy they can call me directly."
          ],
          [
           "pete buttigieg",
           "What we see the president doing is eroding female rights,"
          ],
          [
           "nancy pelosi",
           "Once my souvenir pens come in, I'll sign our version so we can make this thing law,"
          ],
          [
           "mitch mcconnell",
           "a major win for country"
          ],
          [
           "denny heck",
           "Denny very humorously talks about walking into a legislator's office and he would talk about C-SPAN and the transparency that C-SPAN brought to the legislative process at the federal level, and the lawmaker would say, `Oh, I love C-SPAN; I watch it all the time.' And so Denny would say, `So, I can count on you to support this,' and then they would say `No, of course not."
          ],
          [
           "bob hogue",
           "So far, we've actually performed at least three, but a lot of people have expressed interest -- we've probably had a good 12 to 18 people say they are interested for when it comes time."
          ],
          [
           "lisa murkowski",
           "The President weighs in, all of a sudden, Justice comes back and says, `Change the deal.' I think most people in America would look at that and say, `Hm, that just doesn't look right.' And I think they're right."
          ],
          [
           "cenk uygur",
           "You're going to run that guy against Trump, and we're going to lose to Trump again and maybe lose our democracy. Hell, no!"
          ],
          [
           "amanda chase",
           "We have seen an extreme agenda pushed forward here in virginia. we are now balancing our budget on drugs, alcohol, gambling and tobacco. we've become like Nevada,"
          ],
          [
           "ted cruz",
           "It is unacceptable and I think Chuck Schumer should apologize,"
          ],
          [
           "deb butler",
           "Given the rollback we are seeing federally, we need to be in charge of our own destiny without the limitations placed on us by the Hardison Amendment,"
          ],
          [
           "jim talent",
           "I have participated in tabletop exercises involving pandemic response; indecision is both seductive and dangerous, as Japan and South Korea are finding out,"
          ],
          [
           "john kavanagh",
           "I think it's going to be late. I could see it in the Championship rounds. That's the mindset that I personally have - to be ready for that. Now, he could spark him in seconds. But I think there's a little extra weight involved, so I think in the later rounds."
          ],
          [
           "george latimer",
           "What these folks have done is step up in the tradition of American private business, people who are hurting financially in their own investments and operations, and still step forward to give to those in need,"
          ],
          [
           "andrew cuomo",
           "The position of `I think schools should be closed,' that's not an unreasonable position,"
          ],
          [
           "jerome powell",
           "In response, we have eased the stance of monetary policy to provide some more support to the economy."
          ],
          [
           "lindsey graham",
           "The price of killing and injuring Americans has just gone up drastically. Major blow to Iranian regime that has American blood on its hands,"
          ],
          [
           "gavin newsom",
           "It is a reminder to everybody to take this seriously.... Young people can and will be impacted by this virus."
          ],
          [
           "sen. kamala harris",
           "It's unfortunate that we have someone on this stage who is attempting to be the Democratic nominee for President of the United States who, during the Obama administration, spent four years full time on FOX News criticizing President Obama,"
          ],
          [
           "mike pence",
           "40 million masks available today."
          ],
          [
           "shelley moore capito",
           "These federal grants are an essential part of connecting our communities in West Virginia and providing the care our citizens need. I have been and will continue to fight to make sure our West Virginia medical professionals have the funding they need to provide accessible and affordable health care services that our West Virginia families rely on."
          ],
          [
           "jared kushner",
           "Kushner shares the president's view that governors are driving their residents into a panic by airing worst-case projections of medical needs,"
          ],
          [
           "robert hurt",
           "While every citizen has a duty to participate in self-government through our elections, there are those citizens who dedicate their education and careers to helping forge the best public policy at every level of government,"
          ],
          [
           "susan brooks",
           "I am looking forward to bringing the knowledge and skills I have learned to Momentum and I would like to take the opportunity to thank the team for their support and encouragement along the way"
          ],
          [
           "kellyanne conway",
           "He'll still be a serial liar whether he's prosecuted or not,"
          ],
          [
           "jim durkin",
           "inherent responsibility to perform an independent inquiry"
          ],
          [
           "jim denning",
           "There are many, many options on the table."
          ],
          [
           "tom cotton",
           "if they are in fact, all these injuries are not serious, if they're on the less serious side of the scale than the severe traumatic side of the scale, the president is just describing what happened. And I'm not dismissing them."
          ],
          [
           "steve sisolak",
           "I do hereby proclaim January 22, 2020, as the day to celebrate the renaming of the Las Vegas Raiders."
          ],
          [
           "jared kushner",
           "This is a time of crisis, and you're seeing certain people are better managers than others."
          ],
          [
           "chad christensen",
           "Sometimes there are state mandates that come down that aren't funded. And so I want to be one of those people that say, `Hey, you can't just pass the buck without passing the bucks, '"
          ],
          [
           "kevin faulconer",
           "This represents the best of our city and the reality of where we are right now, this economic situation,"
          ],
          [
           "muriel bowser",
           "Obviously this virus has a ripple effect and it's critical to understand who in our community has been infected,"
          ],
          [
           "maria elena durazo",
           "raise the standards for millions of workers and ensure they gain access to critical rights and benefits."
          ],
          [
           "rand paul",
           "The president said he's not signing without something happening,"
          ],
          [
           "mike kelly",
           "We have asked Empire State Development Corporation to consider real estate licensees and their business as `essential' and we await a reply,"
          ],
          [
           "joe biden",
           "The exact bill that Sen. Sanders introduced I guess a little over a year ago, capping it off at $125,000 in income, you could get free up to that point, after that you'd have to pay for college education. It only worked for public schools and it would work for public universities in your state,"
          ],
          [
           "joe biden",
           "You could talk to Joe and feel like he cared about you. And I don't get that with a lot of these people"
          ],
          [
           "kevin faulconer",
           "No San Diegan should have to worry about the basics during this public health emergency, and the same goes for all of our small businesses. No business should have to worry about losing access to water or coming up with additional funds to pay fees,"
          ],
          [
           "jose oliva",
           "Everyone's priorities right now seem to be in play, but they're just kind of trudging along. I think we would all like to see the things we care about deeply moving at a faster rate. But I can tell you we're all committed to being here until we can get the things we came here to do done. And those things are in play -- the governor's things are in play,"
          ],
          [
           "scott gottlieb",
           "burn through their population,"
          ],
          [
           "john kavanagh",
           "driving through town with Conor or having to call into a shop with Conor, and being mobbed for selfies and people shaking his hand and congratulating him."
          ],
          [
           "mitch mcconnell",
           "on the whole has been supportive of what we've been trying to accomplish in the year that he's been there."
          ],
          [
           "phil murphy",
           "We're at the front lines with the workers going through hell right now and the businesses in need. This is really expensive. The meter is running. Let us continue to be at the front lines and provide the help people need."
          ],
          [
           "judy dodge",
           "We are thrilled with the support from our local partners, like the University of Dayton, who have donated vital supplies that will help our community's frontline workers as they combat this pandemic. We are all in this together."
          ],
          [
           "ben sasse",
           "PRC [ People's Republic of China ] diplomats have tweeted lies that the Chinese government has been completely transparent throughout the crisis,"
          ],
          [
           "wayne stenehjem",
           "There is no quality control, and the people who are concocting these dangerous substances, and so you don't know what it is that you're going to get and the result is too often fatalities,"
          ],
          [
           "elizabeth warren",
           "2010 + 2011 to date,"
          ],
          [
           "mike pompeo",
           "In February, Iran's chief terror airline, Mahan Air, ran at least 55 flights between Tehran and China, further infecting the Iranian people,"
          ],
          [
           "bryan hughes",
           "Maybe a hospital or a doctor's office that have been closed. Those are being refurbished and spun up and ready to serve. We also have hospital tents ready to be deployed across the state."
          ],
          [
           "joe scarborough",
           "If you're in one of these swing states, actually, if you're in any state, some of these numbers should send a real message to you if you're a United States senator and you're trying to figure out whether you want there to be a fair and open trial,"
          ],
          [
           "mitch colvin",
           "It can be a little overwhelming, I guess. Having to do the dialysis four times a week. So, I have to do that at least three hours at a time,"
          ],
          [
           "bernie sanders",
           "I think we use all of the tools that make sense,"
          ],
          [
           "doug ducey",
           "This initiative will offer critical support for the women and men working on the front lines to respond to COVID-19,"
          ],
          [
           "josh shapiro",
           "My guiding principles haven't changed: as the people's AG, I'll take on anyone who infringes on the rights or well-being of the people of our Commonwealth, without fear or favor."
          ],
          [
           "marco rubio",
           "I think in my view our inquiry should be based on the testimony that [ the House committees ] took,"
          ],
          [
           "mitt romney",
           "No, it was a flagrant assault on our electoral rights, our national security, and our fundamental values. Corrupting an election to keep oneself in office is perhaps the most abusive and destructive violation of one's oath of office that I can imagine."
          ],
          [
           "josh stein",
           "I want to thank Morgan and FOX for doing such a thorough and committed job to covering this story,"
          ],
          [
           "jeff landry",
           "People across Louisiana are looking forward to their chance to support a President who has repeatedly delivered for us,"
          ],
          [
           "matt windschitl",
           "What we're going to do this session is continue to give Iowans every reason to give us that majority back in the November elections. It's as simple as that."
          ],
          [
           "ted cruz",
           "should not be concerned about potential transmission,"
          ],
          [
           "tom cole",
           "I was watching it while here at the YMCA exercising. It looked like a lot of fun, which it is,"
          ],
          [
           "phil king",
           "Harborough District Council is delighted to be able to offer £ 500 to each Harborough District Parish Council to organise events in their villages,"
          ],
          [
           "anne gobi",
           "Congratulations to the Concerned Citizens Association of Thompson Pond in Spencer for earning this award, and thank you to the Baker-Polito Administration for their continued dedication to protecting our precious natural resources,"
          ],
          [
           "bernie sanders",
           "He said that the Chinese government is responsive to the Politburo, but who are they responsive to? Who elects the bureau? You have a real dictatorship there."
          ],
          [
           "chris murphy",
           "We have a fight on our hands in Washington,"
          ],
          [
           "gavin newsom",
           "And I can't say this with certainty, but I can say this quite learnedly: Don't anticipate schools are going to open up in a week. Please don't anticipate in a few weeks, and I say that because one needs to be honest, and I need to be accountable to you."
          ],
          [
           "ralph northam",
           "It is clear that COVID-19 is going to be with us for a long time -- months, not weeks,"
          ],
          [
           "nancy pelosi",
           "This week, the House will introduce and vote on a War Powers Resolution to limit the President's military actions regarding Iran. This resolution is similar to the resolution introduced by Senator Tim Kaine in the Senate. It reasserts Congress's long-established oversight responsibilities by mandating that if no further Congressional action is taken, the Administration's military hostilities with regard to Iran cease within 30 days,"
          ],
          [
           "rand paul",
           "I'm thinking about blinking to someone in the audience to transmit my messages out because I want to make sure that I'm communicating live,"
          ],
          [
           "ayanna pressley",
           "What just transpired in the Senate was anything but a fair trial-it was a cover up coordinated by Mitch McConnell (R-Ky.) on behalf of the Occupant of the White House. While this is a dark day, I have not lost faith in the resiliency of this nation,"
          ],
          [
           "judy chu",
           "Of course, there are the other people in [ Trump's ] party that are in Congress that have continued to use that term, including our minority leader, Kevin McCarthy,"
          ],
          [
           "josh hawley",
           "supporting big tech and sex trafficking"
          ],
          [
           "adam schiff",
           "I ask you, I implore you,"
          ],
          [
           "morris davis",
           "As long as they tell me it's nothing serious, I'll go out there and play,"
          ],
          [
           "ken paxton",
           "We must work together as Texans to stop the spread of COVID-19 and ensure that our health care professionals and facilities have all the resources they need to fight the virus at this time. No one is exempt from the governor's executive order on medically unnecessary surgeries and procedures, including abortion providers. Those who violate the governor's order will be met with the full force of the law."
          ],
          [
           "lindsey graham",
           "It's the Chinese government and the way they behave that led to this pandemic,"
          ],
          [
           "jared kushner",
           "The most important part of this whole plan,"
          ],
          [
           "scott waguespack",
           "We know that the plastic pollution is a problem in communities across Illinois. And our hope as the Illinois Environmental Council is that the city demonstrating leadership on this issue can motivate the state legislature to pass similar legislation protecting the entire state,"
          ],
          [
           "daryl jones",
           "He didn't try to pretend he was black."
          ],
          [
           "aaron bernstine",
           "We'll see what happens, but at the end of the day, there are things that people need from our office in a timely manner,"
          ],
          [
           "ben mcadams",
           "My symptoms got worse and I developed a fever, a dry cough and labored breathing and I remained self-quarantined. On Tuesday, my doctor instructed me to get tested for COVID-19 and following his referral, I went to the local testing clinic for the test. Today I learned that I tested positive,"
          ],
          [
           "byron brown",
           "We were concerned there would be communities that would be heavily impacted by this,"
          ],
          [
           "david ige",
           "The test result was negative for COVID-19."
          ],
          [
           "chuck schumer",
           "I want to tell you Neil Gorsuch, and you Brett Kavanaugh, you have unleashed a whirlwind, and you will pay the price,"
          ],
          [
           "glenn grothman",
           "In #WI, over 44,000 jobs depend on trade with Mexico and Canada,"
          ],
          [
           "mike bonin",
           "We're all being told to keep washing our hands with soap and water. But people who don't have a bathroom can't do that,"
          ],
          [
           "debbie stabenow",
           "It's critically important that not only people who are losing their jobs are made whole but that we are going to continue to tie people to employment,"
          ],
          [
           "nan whaley",
           "I think it's because of Amy. I think he's the type of leader -- and I related to this -- you hire really good people and you trust them,"
          ],
          [
           "hogan gidley",
           "tweet clearly exposed media attempts to maliciously push a falsehood about his China decision in an attempt to rewrite history."
          ],
          [
           "tim walz",
           "The brilliant minds and hard work of Minnesotans will help lead the world's response to this crisis,"
          ],
          [
           "cory gardner",
           "These things happen because President Trump and I work together for Colorado."
          ],
          [
           "jerome powell",
           "There's nothing fundamentally wrong with our economy. Quite the contrary. The economy has performed very well right through February. We've got 50-year lows in unemployment. So we start in that position. This isn't something that's wrong with the economy. This is a situation where people are being asked to step back from economic activity."
          ],
          [
           "lori lightfoot",
           "Even if you take those to the side, the numbers are much higher than what we expected and they're higher than a five-year average. That's certainly not acceptable,"
          ],
          [
           "bernie sanders",
           "USMCA will make climate change worse. We will do better when I'm president."
          ],
          [
           "charles schumer",
           "We are asking only that the president's men, his top advisers, tell their side of the story. And Leader McConnell has been unable to make one argument -- one single argument -- as to why these witnesses and these documents should not be part of a trial."
          ],
          [
           "chuck grassley",
           "We've got 23 Republicans up for re-election and it's an issue in every state and it's an issue nationally,"
          ],
          [
           "kim ransom",
           "I'm coming at this from a budget standpoint."
          ],
          [
           "lorena gonzalez",
           "Arbitration and misclassification in California are kind of the issues of the time,"
          ],
          [
           "mike dewine",
           "I'm at the point in my life now that I just don't care. To label yourself a Democrat or a progressive [ here ], you're going to feel ganged-up upon. You'll stand out."
          ],
          [
           "andrew cuomo",
           "But 17 million people will do it. What they have done has worked, and what they will do will bring this state − and this nation − forward."
          ],
          [
           "adam schiff",
           "What he is saying is there is nothing wrong with asking a foreign government to do him a personal favor,"
          ],
          [
           "susan bysiewicz",
           "Now we need 62 percent to finish the job,"
          ],
          [
           "ras baraka",
           "The actions of these students will not be tolerated."
          ],
          [
           "bernie sanders",
           "But that does not affect the need for us to act swiftly and very thoroughly and in concert with all the forces that we need to bring to bear to deal with the crisis now."
          ],
          [
           "jan schakowsky",
           "But we can't start with that... We aren't nearly there yet."
          ],
          [
           "gov. kim reynolds",
           "I said we would reevaluate in two weeks and knowing that we were coming up on that timeline, we did do the evaluation,"
          ],
          [
           "london breed",
           "We are ready in case it occurs,"
          ],
          [
           "susan lontine",
           "We've all been called to meetings,"
          ],
          [
           "mike dewine",
           "A lawsuit will be filed to postpone the election until June 2, 2020. In the meantime, voters would still be able to request absentee ballots. It will be up to a judge to decide if the election will be postponed,"
          ],
          [
           "mitt romney",
           "I think it's increasingly clear that what John Bolton would have to say would be important for those of us who are asked to render impartial justice."
          ],
          [
           "greg abbott",
           "It's very important that everybody be particularly vigilant right now about what may happen out of Iran,"
          ],
          [
           "ted cruz",
           "You're supposed to be journalists, not CCP propagandists."
          ],
          [
           "frank barnett",
           "So, it may end up actually being a three-year program down the road."
          ],
          [
           "chuck schumer",
           "Every single Senate Republican knows that these bills cannot and will not pass. But they're putting them on the floor anyway to pander to the hard right,"
          ],
          [
           "andrew cuomo",
           "And people are struggling with the emotions as much as they are struggling with the economics."
          ],
          [
           "arnold schwarzenegger",
           "When it comes down to it, California was going through a period where we had kind of had a no-growth movement,"
          ],
          [
           "jared kushner",
           "We recognize the challenge that America faces right now,"
          ],
          [
           "peggy flanagan",
           "It's important to me that folks think, `I can do that, right? She's a normal person, right?' -- whatever that means -- that people can see this as a path for them as well."
          ],
          [
           "bernie sanders",
           "China is undoubtedly an authoritarian society. But will anybody, will any economist deny that extreme poverty in China today is much less than what it was 40 or 50 years ago? That's a fact. So I think we condemn authoritarianism... but to simply say that nothing ever done by any of those administrations had a positive impact on their people, would, I think, be incorrect."
          ],
          [
           "meg whitman",
           "I love' I Promise,' which is Lebron James' story of his school in Akron, Ohio for low-income third and fourth graders, and is adding a grade every single year. It's a heart-warming strategy. The other one that's really fun is Jennifer Lopez's show, it's called' Thanks A Million.' She said,' I want to give $100,000 to someone who made a difference in my life, on the proviso that they give $50,000 of it to somebody who did the same thing for them.' It's a lovely story."
          ],
          [
           "jesse young",
           "We take an oath to uphold due process rights, and at a minimum Rep. Shea should be allowed equal time to respond and defend himself as it took to produce the accusatory report,"
          ],
          [
           "kathryn barger",
           "It has become clear that the only way to ensure this community's protection is to call on our state leaders to expeditiously and safely close the Aliso Canyon well."
          ],
          [
           "bill de blasio",
           "to reduce exposure to the virus inside city jails."
          ],
          [
           "symone sanders",
           "Are you equating us raising legitimate questions that everyone can see from Monday night to what Donald Trump and his campaign is doing? Because if that's the case, I think that's pretty dangerous."
          ],
          [
           "susan collins",
           "I did not find his rationale for removing Inspector General Atkinson to be persuasive,"
          ],
          [
           "ross perot",
           "You're going to hear a giant sucking sound of manufacturing jobs going overseas."
          ],
          [
           "jerry brown",
           "in utter and complete denial"
          ],
          [
           "latoya cantrell",
           "We are continuing to reach out to our nursing homes and our senior living facilities,"
          ],
          [
           "brian greene",
           "As the orders are cut at restaurants and hospitality businesses, that's a lot of people in the service sector looking at losses,"
          ],
          [
           "nancy pelosi",
           "This latest act of reprisal against the Intelligence Community threatens to have a chilling effect against all willing to speak truth to power. The President must immediately cease his attacks on those who sacrifice to keep America safe, particularly during this time of national emergency,"
          ],
          [
           "kathryn barger",
           "It's inappropriate for people to congregate at parks, beaches, piers or on the trails,"
          ],
          [
           "jim kenney",
           "We've had people of color being hit with this more than anybody else because people are living in poverty and don't have health care and we need to make sure that we're equitable when it comes to whatever the solution is to this in a vaccine. It needs to get to everybody, not just the elite,"
          ],
          [
           "john mccain",
           "And Iowa should completely remove themselves from the caucus in general and turn into a primary next election cycle because they clearly can't handle the responsibility and the gravity of this."
          ],
          [
           "mary souza",
           "Fairness in Women's Sports Act,"
          ],
          [
           "rahm emanuel",
           "The turnout in three elections has not been generated the way he says it has,"
          ],
          [
           "bill weld",
           "[ It is ] trying to prevent debate, prevent competition, prevent anybody from talking. And that's exactly what the vote in Washington last Friday was all about,"
          ],
          [
           "bernie sanders",
           "I voted for the $2 trillion bill that passed ten days ago or so because it had a number of important provisions that go to working people. By the way if you compare this bill to the 2008 Wall Street bailout bill [ there is ] no question in my mind that this is a far far superior bill because many of us fought to make it a better bill."
          ],
          [
           "jim allen",
           "I'm not going to panic and start selling things, because that's when you do take a loss."
          ],
          [
           "sarah palin",
           "not a typical politician with his finger to the wind"
          ],
          [
           "mike huckabee",
           "Appointed top health professionals. Given Mike Pence the opportunity to coordinate it. There is a great teamwork on this. The fact is in a nation of over 330 million people, we have 60 people who have the Coronavirus. It is not exactly a pandemic yet. It could be one, we don't want it to be and we'll do everything possible. The president has done exactly right."
          ],
          [
           "andrew cuomo",
           "Coronavirus in a nursing home is a toxic mix. We saw that in Washington State. This virus prays on the vulnerable, it prays on the sick, it prays on people with compromised immune systems and underlying health conditions and the virus in a nursing home can be like fire in a drag race. Coronavirus in a nursing home is lethal, the only question is how many people die."
          ],
          [
           "lindsey graham",
           "I always believed they were trying to kill Americans,"
          ],
          [
           "brad sherman",
           "We had a ton of energy in the second half and fought hard against a good basketball team."
          ],
          [
           "steve scalise",
           "I haven't seen anybody who is against this bill."
          ],
          [
           "mike pompeo",
           "We're going to make sure we do everything we can to keep that part of our economic lifeblood working between our two countries."
          ],
          [
           "phil roe",
           "The challenges we are facing now are as complex as ever, and I still have a lot of fire in my belly,"
          ],
          [
           "melissa hortman",
           "We want to make sure the executive branch has the authority they need under either set of circumstances,"
          ],
          [
           "juliana stratton",
           "We're moving right along. I mean it's a big task, but we have some great information to pull from."
          ],
          [
           "bernie sanders",
           "I would not be here today asking for your support if I did not fully believe I have the strength and the vigor to take on what is obviously a very difficult and stressful job,"
          ],
          [
           "pete buttigieg",
           "I regard us as a welcoming city. Some conservative talk show host may say that makes us a sanctuary city. I don't know,"
          ],
          [
           "chuck hufstetler",
           "This money is owed. There hasn't been an efficient way to collect it,"
          ],
          [
           "joe scarborough",
           "Susan Collins, I'm curious do you really still think Donald Trump learned his lesson, or if the lesson that Donald Trump learned is that with Senators like you giving him a blank check, he can do whatever the hell he wants. Vindman? That's on you. Sondland? That's on you. Roger Stone, Susan Collins, that's on you, and Lamar Alexander it's on you and it's on every Republican that taught Donald Trump once again, there are no consequences to his actions."
          ],
          [
           "brad sherman",
           "(We) fought hard against a very, very tough team,"
          ],
          [
           "fred deutsch",
           "that irreversible and experimental surgical and chemical interference with a child's sexual development is morally indefensible."
          ],
          [
           "rudy giuliani",
           "a lot of other Democrats."
          ],
          [
           "kevin faulconer",
           "Hospitals will need all the help our community can offer,"
          ],
          [
           "chris sununu",
           "It's very serious. It is an emergency. But that's all the more reason we have to take that collective calm, take a breath."
          ],
          [
           "bill cassidy",
           "fund unpaid time off, infant care and other costs associated with a new child,"
          ],
          [
           "susan collins",
           "I'm voting to acquit. Because I do not believe that the behavior alleged reaches the high bar in the Constitution for overturning an election, and removing a duly elected president,"
          ],
          [
           "rand paul",
           "a certainty that there will be attacks"
          ],
          [
           "pete buttigieg",
           "We have to meet this moment and this moment is different,"
          ],
          [
           "bernie sanders",
           "cost countless lives and trillions more dollars."
          ],
          [
           "sheila oliver",
           "If we all remain calm and informed and educated, with each passing day, and just practice common sense, the risk of an individual contracting coronavirus remains low,"
          ],
          [
           "mitch mcconnell",
           "And I'm confident-given the desire of the country to see an outcome - that we'll get to yes."
          ],
          [
           "rahm emanuel",
           "I know what the residents want."
          ],
          [
           "michael adams",
           "They know their future is protected because they were here building a strong framework. They know their future is comfortable because they were here to insulate and seal out the elements. They know their future is beautiful because they were here adding their own colors and style. The result is a safe, affordable house built with love."
          ],
          [
           "tom barrett",
           "Based on these visits -- and our own analysis -- we expect hoteliers, developers, and investors will complete most projects that have commenced construction, although the delivery and opening dates will slip,"
          ],
          [
           "dennis bonnen",
           "As I told people, if you want to hate me I gave you reason to hate me and if you want to love me, I gave you reason to love me."
          ],
          [
           "pete buttigieg",
           "responsibility to build trust with African American voters."
          ],
          [
           "elizabeth warren",
           "I'll poke him again."
          ],
          [
           "gary bauer",
           "The ironic and disgusting thing about China is they get to both create demand and then fulfill demand."
          ],
          [
           "sylvester turner",
           "If you're willing to publicly indicate its wrong, the question now is: Where are we going from here?"
          ],
          [
           "ralph northam",
           "This is not only unacceptable and wrong, it is not what we stand for in Virginia. This bill will make our Commonwealth more equitable and welcoming for all."
          ],
          [
           "tom cole",
           "Rely on a REALTOR ® for guidance to assist with buying or selling strategies to have the best results in these strong markets."
          ],
          [
           "ernest chavez",
           "None of us are born racist or prejudiced, and a lot of the media helps portray stereotypes,"
          ],
          [
           "jay inslee",
           "I have no doubt his future in the Jesuit priesthood will bring much good to a world that needs it right now"
          ],
          [
           "christine todd whitman",
           "It's been a war on science since he came in,"
          ],
          [
           "tim dunn",
           "I think in a couple of years' time, when we look back on this first six months and all that we've achieved, I don't think anyone will believe it,"
          ],
          [
           "ryan williams",
           "reasonable efforts to deal with this issue prior to today, we must deal with Coun. McCaw's point of personal privilege."
          ],
          [
           "carol miller",
           "Our airports play a critical role in ensuring goods and services arrive at their destination on time, especially during a crisis,"
          ],
          [
           "mike pompeo",
           "Secretary Almagro is fearless and guarding against our authoritarian regimes,"
          ],
          [
           "steve adler",
           "only allow a portion of the pedestrian-oriented uses to be a residential lobby or resident-only uses, unless staff grants a waiver."
          ],
          [
           "maria cantwell",
           "It is so important in fighting this disease that we not only take care of unemployment benefits, but we also make sure people in unemployment have access to health care. We can't be in the midst of a pandemic and not give people affordable access to healthcare,"
          ],
          [
           "dan horrigan",
           "While limited City resources require us to make difficult budgeting decisions across many departments, we will be able to maintain a significant investment in police, fire and roads thanks to this funding,"
          ],
          [
           "doug lamalfa",
           "This funding will address the substance abuse and mental health issues that many Camp Fire survivors are experiencing. I'm grateful to the Trump Administration for this assistance to Butte County residents so they can be well on the road to recovery and productivity, as well as improve the long-term health of our region."
          ],
          [
           "pete hegseth",
           "The only ones trying to score political points on COVID-19 are the Communist Chinese,"
          ],
          [
           "latoya cantrell",
           "We remain in tight coordination with our partners on the local, state and federal level. The two new diagnoses are serious news, but not unexpected,"
          ],
          [
           "gavin newsom",
           "if they can't do it, again, we have no choice but to do it for them"
          ],
          [
           "adam schiff",
           "If you have any question about whether it was a factor, the factor, a quarter of a factor, all of the factor -- there is a witness, a subpoena away who could answer that question,"
          ],
          [
           "kathryn barger",
           "This is not a response rooted in panic. We have been preparing with our local, state and federal partners for the likelihood of this scenario. This declaration of a local emergency will facilitate our efforts to coordinate with all our partners and jointly implement effective strategies to protect our residents,"
          ],
          [
           "ken paxton",
           "Patients must be heard and justly represented when determining their own medical treatment,"
          ],
          [
           "joyce beatty",
           "Bernie Sanders has been here for almost 30 years. If this stuff was so great, why wouldn't we have any of it now?"
          ],
          [
           "chellie pingree",
           "I understand that GSA does not normally take public comment when moving a federal facility, however, the outcry is indicative of serious and growing mistrust of this particular agency."
          ],
          [
           "bill de blasio",
           "believes strongly that reform should be done legislatively, not through the courts,"
          ],
          [
           "tim kraayenbrink",
           "I'm not telling them what their protocol should be -- let the boards handle that,"
          ],
          [
           "ron desantis",
           "Times are tough and no one cares,"
          ],
          [
           "ed henry",
           "We've been working very closely with [ New York ] Governor [ Andrew ] Cuomo, who I think has provided great leadership, and he is working with the president and the issue is about bringing resources into New York so that they can be here in Suffolk County and the other places that need those resources."
          ],
          [
           "jim ananich",
           "He had an opportunity to bring in teen boys from a Catholic school... and instead of showing them what a senator in our state is he showed them... pathetic behaviour,"
          ],
          [
           "bert stedman",
           "And it is a that is a concern, because the Legislature hasn't stepped in with a policy call on what they feel is appropriate use of state funds and federal funds in refurbishing old ships versus buying new,"
          ],
          [
           "josé oliva",
           "We really want to see THC caps,"
          ],
          [
           "elissa slotkin",
           "The two administrations I worked for both determined that the ultimate ends didn't justify the means. The Trump Administration has made a different calculation. The Iranian government has vowed to retaliate and avenge Soleimani's death, and could do so in any number of ways: against our diplomats and service members or high-ranking military officers, against our allies and partners in the region, or through targeted attacks in the Western world. It is critical that the Administration has thought out the moves and counter-moves this attack will precipitate, and is prepared to protect our diplomats, service members, and citizens serving overseas."
          ],
          [
           "asa hutchinson",
           "Any trip that is planned, we need to ask some fundamental questions, and that is: Am I going to an area that has an extensive outbreak, and reportable cases?"
          ],
          [
           "symone sanders",
           "analyzed the back ends of the data."
          ],
          [
           "alexandria ocasio-cortez",
           "First of all, we're seeing it now,"
          ],
          [
           "joni ernst",
           "We can have a situation where if it should ever be President Biden, that immediately, people, the day after he would be elected would be saying, `Well, we're going to impeach him,"
          ],
          [
           "andrew cuomo",
           "FEMA is sending us 400 ventilators... 400 ventilators? I need 30,000 ventilators,"
          ],
          [
           "bob rankin",
           "The public option has two things that I'll vehemently oppose -- one of them is mandatory participation by providers and the other is price controls,"
          ],
          [
           "mitch mcconnell",
           "Just as we have successfully sent Iran this strong signal of our strength and resolve [ by killing that country's top general ], a blunt and clumsy war powers resolution would tie our own hands,"
          ],
          [
           "amy paulin",
           "Today, we bring New York law in line with the needs of modern families, while simultaneously enacting the strongest protections in the nation for surrogates,"
          ],
          [
           "ronald johnson",
           "The female subject says, `You are making me nervous.' You can hear the female subject hitting the male subject telling him to stop and no."
          ],
          [
           "brian schatz",
           "Snark aside, let's reconvene. Even if we reconvene Sunday briefly to file cloture on the House bill as a shell, we can expedite things. Or we could start doing unanimous consent requests and run hotlines. As you know better than me, this all takes time. We don't have time."
          ],
          [
           "rick miller",
           "Every CNA and caregiver who held a resident's hand, every therapist who helped patients achieve their goals to stay or get back home, every hospice nurse and social worker who prepared their patients and residents to die with dignity, every leader who guided their team through hardship, and the many wonderful people throughout our company who live our core values every day."
          ],
          [
           "jeff merkley",
           "But millions of people are ingesting dangerous PFAS chemicals against their will through the air they breathe, the water they drink, and the food they eat. Congress needs to come together to put the health of our communities above the wish lists of American's biggest polluters, and that means establishing and enforcing chemical standards that protect Americans from PFAS substances."
          ],
          [
           "carol miller",
           "It's pretty exciting that I'm possibly getting the chance to attend one of these prestigious academies,"
          ],
          [
           "guy guzzone",
           "It's to help surrounding neighborhoods. It's to make Laurel a viable racing venue for the long term. It's to do so in a fiscally responsible way where we use no funds that would have ever been programmed for education."
          ],
          [
           "elaine chao",
           "Transportation Leaders After Human Trafficking"
          ],
          [
           "lou d'allesandro",
           "impressed by the connection with the audience. Do more of that,"
          ],
          [
           "joe biden",
           "more coronavirus cases than anywhere in the world,"
          ],
          [
           "max rose",
           "I'll have to get back to you on that, what I'm interested is to see right now is what the President has to say that can unify America, that's what we got to be focused on right now."
          ],
          [
           "mike powers",
           "These actions will allow us to have even greater coordination to protect our residents and prevent the spread of COVID-19 in our communities. We will continue to mobilize county resources, coordinate with agencies and partners and raise awareness about how everyone can take action to be prepared."
          ],
          [
           "mike pence",
           "Nevertheless, beginning in January this president took unprecedented action suspending all travel from China, quarantining Americans that came home. We recently established screening in Italy and in South Korea while we put travel advisories on areas of those countries,"
          ],
          [
           "senator kamala harris",
           "I am with great enthusiasm going to endorse Joe Biden for president of the United States,"
          ],
          [
           "linda flores",
           "I think it's a sad day in our democracy if those elected board members are kicked out, but the bottom line is the only thing we should be looking at is student outcomes, and our students have not been excelling."
          ],
          [
           "jared kushner",
           "some governors you speak to, or senators, and they don't know what's in their state... most governors didn't know off the bat what they needed."
          ],
          [
           "mike pompeo",
           "deliver a comprehensive and permanent ceasefire and the future political roadmap for Afghanistan,"
          ],
          [
           "will rogers",
           "The South is dry and will vote dry. That is, everybody that is sober enough to stagger to the polls will."
          ],
          [
           "joe biden",
           "There is so much that lands on a president's desk, and he or she can't do it by themselves."
          ],
          [
           "richard burr",
           "one last effort to jog him"
          ],
          [
           "mitch mcconnell",
           "I would think any kind of bill coming out of the House I would look at like Reagan suggested we look at the Russians �?? trust, but verify."
          ],
          [
           "ben mcadams",
           "You're welcome, Utah,"
          ],
          [
           "lori lightfoot",
           "Outside is for brief resting, not 5Ks,"
          ],
          [
           "greg walden",
           "We have to be a little cautious here to see what's working,"
          ],
          [
           "jenna bush hager",
           "So people always be like, `what was it like there?' I was in college so I lived in Austin."
          ],
          [
           "joe biden",
           "I think he said something like, `We have the best scientists in America,' or something to that effect."
          ],
          [
           "pete buttigieg",
           "has been taking money from big donors and changing his positions."
          ],
          [
           "andrew cuomo",
           "Because pink or blue, the price should be the same."
          ],
          [
           "john cornyn",
           "the culture where people eat bats and snakes and dogs."
          ],
          [
           "john dean",
           "Anytime you start with a win, you start to believe in yourself."
          ],
          [
           "mike dewine",
           "if a child signs up at birth until five years old that it would add up to be a total of 60 books they would receive."
          ],
          [
           "sandy stimpson",
           "As we work out way through the situation where we are, we have to be supportive of each other,"
          ],
          [
           "mike dewine",
           "to keep them in state for their graduate education because we know that then they'll be more likely to stay in Ohio as permanent residents."
          ],
          [
           "andrew cuomo",
           "There are going to be many, many people who test positive,"
          ],
          [
           "r. clarke cooper",
           "Our relationship is one of cooperation, mutual respect and transparency, and today no other nation can match the United States' commitment to the continent,"
          ],
          [
           "rahm emanuel",
           "I think that the case of the matter is he'll have a record, he'll be able to promote it, but don't kid yourself that Donald Trump and President Putin are going to have a say in what Bernie Sanders' record looks like by the time he gets there to do that,"
          ],
          [
           "bryan townsend",
           "Today, a large number of Delaware's waterways have become polluted, whole communities cannot drink their tap water, and the majority of wastewater infrastructure desperately needs to be replaced. This funding is a step in the right direction."
          ],
          [
           "mike pompeo",
           "fit perfectly within our strategy in how to counter the threat of malign activity from Iran more broadly."
          ],
          [
           "larry bucshon",
           "We see that with influenza,"
          ],
          [
           "hogan gidley",
           "While there are no new announcements at this time, common sense and national security both dictate that if a country wants to fully participate in U.S. immigration programs, they should also comply with all security and counterterrorism measures,"
          ],
          [
           "amy klobuchar",
           "Then, the big overwhelming thing was I knew I was going to win my state,"
          ],
          [
           "mark penn",
           "I took on the role of chairman and CEO a year ago because I knew this company was nowhere near meeting its full potential,"
          ],
          [
           "elizabeth warren",
           "The mayor has to stand on his record,"
          ],
          [
           "larry fink",
           "Thermal coal is significantly carbon intensive, becoming less and less economically viable, and highly exposed to regulation because of its environmental impacts. With the acceleration of the global energy transition, we do not believe that the long-term economic or investment rationale justifies continued investment in this sector."
          ],
          [
           "larry fink",
           "There was a misuse of the word technology, and everybody bought into it,"
          ],
          [
           "matt gaetz",
           "And what is shameful is that we have Republican leaders in the state Senate who have already come out in opposition to Gov. DeSantis' E-Verify proposal."
          ],
          [
           "chuck schumer",
           "improper and demonstrated poor judgment."
          ],
          [
           "ron desantis",
           "because although COVID-19 - the data suggests - is probably not a very serious threat to the health of people that are young and don't have underlying medical conditions, they can still acquire it and transmit it to others."
          ],
          [
           "lori trahan",
           "They were created by girls and members who listen to Dr. King's iconic `I Have A Dream' speech and are then asked to translate their own responses into three-dimensional art,"
          ],
          [
           "tom wheeler",
           "5G is basically a software-driven network. We all know that software is hackable,"
          ],
          [
           "nicole clowney",
           "But here's what's not complicated,"
          ],
          [
           "elizabeth warren",
           "But, there are a lot of people out there in this country. And, the more people speak up, the more people bring pressure to bear, the more we at least try to get some basic fairness in the system."
          ],
          [
           "pete buttigieg",
           "We need to tackle the corruption in Washington that makes our government work for the wealthy and well-connected, but kicks dirt on everyone else, and put economic and political power back in the hands of the people."
          ],
          [
           "pramila jayapal",
           "What I feel we need is a candidate who is entirely authentic about what's wrong and steadfast about it and can rally people to believe he can trust them,"
          ],
          [
           "william cohen",
           "Let me help solve this problem for you, [ President ] Donald"
          ],
          [
           "chris reykdal",
           "So the more guns you have in any environment, the higher the probability of risk."
          ],
          [
           "fred deutsch",
           "I don't want that to happen to our kids, and that's what's going on right now."
          ],
          [
           "eric berthel",
           "They also have safety committees at the local board levels, at the clubs,"
          ],
          [
           "lee zeldin",
           "The president had every right to make the moves that he did today,"
          ],
          [
           "andrew cuomo",
           "Today we are announcing a mandatory state wide requirement that no business can have more than 50% of their work force report to work outside of the home,"
          ],
          [
           "daniel hemmert",
           "This is part of the legislative process, and we recognized that we should probably put this bill on hold."
          ],
          [
           "president bush",
           "Three years later that same man won reelection on the back of those destructive wars, keeping LGBTQ people from marrying the people they love, and policies that kept minorities and poor people alike in the mud. Sports, like pretty much everything else, failed to keep us from separating ourselves again."
          ],
          [
           "ron desantis",
           "And I think they're able to do some things that some of the local or state or even federal agencies are not going to be able to do. And so I really applaud them for all that."
          ],
          [
           "don harmon",
           "The Senate presidency really has to tackle these three areas: the policy, the politics and the personal."
          ],
          [
           "marianne williamson",
           "In a healthy democracy, Tom Perez would resign today. (As it is the results will probably never be fully determined, the DNC attitude will be `They'll get over it,' and the entire incident will hang like a cloud of uncertainty over the entire campaign.)"
          ],
          [
           "stephanie murphy",
           "the additional resources to harden networks,"
          ],
          [
           "david m. gallegos",
           "I was thinking of something that might be able to bring us back to a common ground."
          ],
          [
           "nancy pelosi",
           "I would hope that the oath that the Senators took yesterday to participate in a fair trial would insist that there be eyewitnesses and documentation which is very important."
          ],
          [
           "mitt romney",
           "his conscience and his country required."
          ],
          [
           "debbie dingell",
           "Congress has been working day and night to ensure our nation's students, professors, and support staff are assisted and have the means to continue to provide quality, affordable education now online and in the future,"
          ],
          [
           "gary jackson",
           "This competition is very much in line with CCREEE's mission and mandate to transform the Caribbean energy landscape,"
          ],
          [
           "jake chapman",
           "This is judicial tyranny. Do we want to cede our power -- the people's power -- to unelected judges across the street to rewrite our constitution? It's our responsibility, not the courts."
          ],
          [
           "andy berke",
           "Let's prove it at this time. Let's take care of each other,"
          ],
          [
           "roger hanshaw",
           "They were hungry for a vehicle that would make their investment in West Virginia safe."
          ],
          [
           "mitch tropila",
           "Thank you for the greatest Christmas present my father and his children could have received this Christmas,"
          ],
          [
           "brandon beach",
           "If we had a company that wanted to come in and invest $550 million dollars and create 2,000 jobs with no tax incentives, we'd be throwing a parade for them."
          ],
          [
           "marianne williamson",
           "A 40-year-old trend of capitalism without conscience -- corporate elites and their errand boys in government -- have created the inevitable blowback in the form of a political revolution. That revolution is the one that Bernie Sanders now leads."
          ],
          [
           "kymberly pine",
           "It would have to be a lot of people not buying automobiles,"
          ],
          [
           "ben mcadams",
           "praying for the brave American service members, personnel, and their families at home."
          ],
          [
           "sara gideon",
           "We look forward to working with BIW to ensure the company and its employees continue to succeed."
          ],
          [
           "mike pence",
           "We know there will be more cases,"
          ],
          [
           "greg walden",
           "I applaud CEQ for continuing the Trump Administration's efforts to implement needed streamlining to the NEPA planning processes across federal agencies. These efforts will help ensure we can implement forest management projects to reduce the threat of wildfire on our communities and improve our nation's transportation and energy infrastructure to meet our needs into the future. Modernizing this process is long overdue and is welcome news for rural Oregon,"
          ],
          [
           "andrew cuomo",
           "portends a total overwhelming of our"
          ],
          [
           "mitch mcconnell",
           "Whether it's Joe Biden, Bernie Sanders or somebody else, the nominee for president on the Democratic side is going to be on a path to try to turn America into a socialist country. We're not going to let that happen,"
          ],
          [
           "joe biden",
           "I'm proud to adopt them as part of my campaign."
          ],
          [
           "adam schiff",
           "the most incredible propaganda coup"
          ],
          [
           "julie mccluskie",
           "It's designed specifically for children and to be more engaging for children and youth,"
          ],
          [
           "kyle mullica",
           "I applaud Congressman Neguse for leading on this effort and introducing this needed legislation."
          ],
          [
           "lindsey graham",
           "Well, I don't have any information about the server being in the Ukraine."
          ],
          [
           "nikki fried",
           "That's why we're activating our Summer BreakSpot locations, to offer families an alternative way to find healthy, nutritious meals. For many children, these meals will be the only meals they can count on. We're encouraging families to take advantage of this service, and to check with their school districts on other meal options."
          ],
          [
           "mac mccutcheon",
           "I want to see what the Senate comes up with and how they address the bill and the wording in the bill,"
          ],
          [
           "joe biden",
           "It's one thing to have all the plans in the world, but who has followed through on their plans? Who has gotten big things done in the United States Congress? Who has gotten big things done from the perspective of vice president as a relation to Congress?"
          ],
          [
           "norine hammond",
           "There's a feeling that nothing's being done and nobody's looking out for them."
          ],
          [
           "paul hornback",
           "We are the best at running ourselves out of business,"
          ],
          [
           "john cornyn",
           "But I want to ask you about the legal brief that Democrats did submit. It included a number of things, including documents that have been revealed recently by Lev Parnas, an indicted business associate of Rudy Giuliani. Among them, a letter that says that Rudy Giuliani himself was acting with the approval and knowledge of the president when he was reaching out to the president of Ukraine. Should all of these items be admissible during trial?"
          ],
          [
           "chris sununu",
           "You have literally everyone in the world competing for all the same manufacturers right now,"
          ],
          [
           "joe biden",
           "I think it's possible to do both [ mail-in ballots and in-person voting ]."
          ],
          [
           "chris christie",
           "And, in fact, I've never seen a time when the opponent is more irrelevant. And that's not an insult to Vice President Biden."
          ],
          [
           "andrew cuomo",
           "If the goal is to open the economy as quickly as you can, you're going to need a much faster testing process,"
          ],
          [
           "shelly short",
           "To have someone live their life in prison should not be equated to a person who is never going to be seen by their family again,"
          ],
          [
           "ken cuccinelli",
           "We're not trying to push envelopes, like they did in the Obama administration,"
          ],
          [
           "jay inslee",
           "We unfortunately have yet to see the full weight of this virus in our state,"
          ],
          [
           "john delaney",
           "In my experience, I have only ever really fallen in love once in my life."
          ],
          [
           "bill de blasio",
           "Nightclubs, movie theaters, small theater houses, and concert venues must all close. The order will go into effect Tuesday, March 17 at 9:00 AM."
          ],
          [
           "barbara lee",
           "This important legislation ensures that renters in the Bay Area and the nation cannot be evicted from their homes during the COVID-19 pandemic. We must ensure that everyone has access to quality housing no matter their financial situation."
          ],
          [
           "nancy pelosi",
           "will be about recovery,"
          ],
          [
           "joe biden",
           "Hey, what we were doing before was pretty okay. Wan na go back to that?"
          ],
          [
           "governor charlie baker",
           "Projects in Boston are not moving forward,"
          ],
          [
           "pete buttigieg",
           "A lot of people are making up their minds just in the last few days,"
          ],
          [
           "joe biden",
           "look like the country because everyone brings a slightly different perspective."
          ],
          [
           "pat buchanan",
           "That you make the Americans bleed and now you've got Donald Trump, who will go smack them and then you've got a conflict."
          ],
          [
           "jim bridenstine",
           "By all accounts, this was a very successful test,"
          ],
          [
           "lori trahan",
           "I think Grace, you were nervous, you were worried I was going to get sick, you had a lot of questions, and that prompted us to do this,"
          ],
          [
           "susana mendoza",
           "We want people to realize this is no joke, we're very serious, and when they look at these numbers and at this graph, they'll paint a mental picture and realize how important it is to stay home, not just to keep themselves safe, but others,"
          ],
          [
           "michelle obama",
           "It's surreal, I think, because the last impeachment hearing, a lot of young people weren't around for that, so this is all new. I don't think people know what to make of it,"
          ],
          [
           "greg abbott",
           "all Texans to do their part to help the state respond to this situation."
          ],
          [
           "chuck schumer",
           "will unleash a major grassroots movement on the issue of reproductive rights"
          ],
          [
           "rand paul",
           "No one, especially not John Bolton, should be able to use their security clearance for profit! I say revoke his clearance now ⁦ @realDonaldTrump ⁩,"
          ],
          [
           "cherelle parker",
           "People throughout the district are saying `when are we up? When's our turn coming? '"
          ],
          [
           "lamar alexander",
           "he called the president of Ukraine and asked him to become involved in investigating Joe Biden."
          ],
          [
           "denise merrill",
           "Moving the primary date is a good first step, and will give our local election officials more time to prepare. Changing an election date is not something we do lightly -- it's a recognition of the severity & nature of this crisis, and more steps may be necessary to guarantee that every CT voter has an opportunity to cast their ballot."
          ],
          [
           "frank edelblut",
           "But we did not want availability of school nutrition programs to be a factor in those decisions. I want to thank USDA for recognizing the need to give schools flexibility as we provide remote instruction to New Hampshire students."
          ],
          [
           "pete buttigieg",
           "We can actually deliver health care without taking it away from anyone,"
          ],
          [
           "nikki haley",
           "ridiculous, inflammatory and dangerous"
          ],
          [
           "amy klobuchar",
           "dividing up the middle of the Democratic Party."
          ],
          [
           "jenny durkan",
           "But in Seattle, we know we can and must do better. We are leading with equity and a commitment to learn how the City can address the root causes of hate violence and make our city safer for our most vulnerable neighbors."
          ],
          [
           "alexandria ocasio-cortez",
           "crumbs for our families."
          ],
          [
           "doug ducey",
           "I am blessed to have met Sophie and hear about her service to our country. Last summer we were honored to be able to present Sophie with Governor Ducey's Arizona Women Veteran's Week proclamation,' Wright said. `We send our deepest condolences to her family and friends, and will always remember her legacy."
          ],
          [
           "mike pence",
           "We've vastly increased the supply of medical masks, and we're going to continue to put a priority on making sure that we're calling on industry at every level."
          ],
          [
           "elizabeth warren",
           "I am the only person in this race who has beaten an incumbent Republican anytime in the last 30 years,"
          ],
          [
           "robert mueller",
           "to resolve questions -- including the ultimate question whether the President committed an impeachable offense -- that the Special Counsel simply left unanswered."
          ],
          [
           "ron desantis",
           "make sure they are keeping their passengers safe and do not end up putting undo burden on federal resources,"
          ],
          [
           "chuck schumer",
           "explain the contrast to the GOP's expected proposals of industry bailouts and tax cuts,"
          ],
          [
           "kamala harris",
           "I have decided that I am, with great enthusiasm, going to endorse Joe Biden."
          ],
          [
           "p.g. sittenfeld",
           "leader who helps reflect the diversity of our city."
          ],
          [
           "mikie sherrill",
           "more stable Middle East."
          ],
          [
           "doug ducey",
           "We want to make decisions that protect public health first and foremost to account that we have a large state and things are different in Tombstone than they are in Tucson."
          ],
          [
           "tommy tomlinson",
           "We outworked them. I think that goes to (point out) money doesn't necessarily win elections. Hard work does,"
          ],
          [
           "david jolly",
           "The interesting thing about miss Liu's withdrawal is she is now free to speak. If she knows that direct communication that Barr perhaps had with staff at D.O.J. Or with her, she can now testify it all of that and the White House would have a hard time block it."
          ],
          [
           "gina raimondo",
           "This is a serious step because we're confronting a serious crisis."
          ],
          [
           "rich vial",
           "I feel more inspired than ever to make sure that I continue to search for those places that my services might be most effective,"
          ],
          [
           "ann marie buerkle",
           "As an agency, we talk about designing out the hazard and perhaps these dressers will do just that,"
          ],
          [
           "elizabeth warren",
           "crushing blow to Sanders,"
          ],
          [
           "mitch mcconnell",
           "Nobody thinks legislation can end this [ coronavirus crisis ],"
          ],
          [
           "lamar alexander",
           "It was inappropriate for the president to ask a foreign leader to investigate his political opponent and to withhold United States aid to encourage that investigation. When elected officials inappropriately interfere with such investigations, it undermines the principle of equal justice under the law. But the Constitution does not give the Senate the power to remove the president from office and ban him from this year's ballot simply for actions that are inappropriate."
          ],
          [
           "mike pompeo",
           "U.S. engagement with these African countries and why the United States is a phenomenal partner for Africa."
          ],
          [
           "mike parson",
           "Not to call out Missouri,"
          ],
          [
           "mike pompeo",
           "The United States encourages other nations to join us in supporting the Auschwitz-Birkenau Foundation,"
          ],
          [
           "robert phillips",
           "Most of the time all it needs is a simple cleaning. WD-40, compressed air, will get things moving along,"
          ],
          [
           "lindsey graham",
           "Nobody would be saying this about a Democratic president,"
          ],
          [
           "mike richter",
           "They created an awesome organization that was about cooks having fun and, you know, it takes a lot to run it,"
          ],
          [
           "bill saffo",
           "The convention center is a very important economic development tool for our community."
          ],
          [
           "tommy tuberville",
           "That's politics. It's like when you're recruiting a great football player, and you've got him committed. But they can't sign for a few weeks. And [ other teams ] go and do everything they possibly can to convince [ the player ] that that's not the right team or that's not the right coaching staff to play for. They pull everything out of the bag. Sometimes it works, most times [ the player ] can kind of feel through it,"
          ],
          [
           "asa hutchinson",
           "We will maintain our commitment to funding public education, public safety and Medicaid,"
          ],
          [
           "roy cooper",
           "as we ease restrictions, we're going to enter a new normal."
          ],
          [
           "gov. kim reynolds",
           "the historic nature isnt lost on me at all. We've done a lot of good things the past couple years,"
          ],
          [
           "nanette barragán",
           "Officials confirmed that the masks would indeed go to health care workers and be prioritized by highest need such as NY and NJ. I will follow up to make sure this happens!"
          ],
          [
           "lance yednock",
           "Last spring, we were able to take a number of steps to put Illinois back on the right track, including a fairer tax system that will work for middle-class families, investing in new job training programs that help students learn technical skills, and passing a bipartisan, balanced budget that pays down old debt and puts more money into our local schools. We still have a lot more work to do, and Republicans and Democrats must continue to work together to continue the progress that we achieved last year. We must continue to pass bipartisan, balanced budgets that protect our most vulnerable citizens while paying down old debt. We also must continue to provide real tax relief for homeowners, and expand exemptions for seniors, the middle-class and our veterans. Finally, we have to crack down on corruption and build back the public's confidence in government by regulating the behavior of legislators and lobbyists and closing loopholes in the system that are exploited."
          ],
          [
           "richard burr",
           "There will be, I'm sure, times that communities, probably some in North Carolina, have a transmission rate where they say, `Let's close schools for two weeks. Everybody stay home,"
          ],
          [
           "amy klobuchar",
           "When there was that murder in that church in Charleston, when the white supremacist went in there and killed the worshippers, what affected those people in their lives, affected all of us,"
          ],
          [
           "tom mcinnis",
           "While I was greatly honored to be named the Citizen of the Year by the Richmond Community College Foundation, the Gala was not about me. It was and is about those individuals who need a hand up and not a hand out,"
          ],
          [
           "bill brady",
           "Eventually the politicians, after they've driven out some of the million-dollar incomes, have to go back down to lower incomes,"
          ],
          [
           "jimmy panetta",
           "Those initial results clearly indicate that people of the Central Coast value service and results over slogans and rhetoric,"
          ],
          [
           "john barrasso",
           "That's where all the momentum is in our party right now,"
          ],
          [
           "andrew cuomo",
           "The truth is, the higher models, we don't even have a chance at meeting that capacity,"
          ],
          [
           "robert reich",
           "At a time when so many lies go unchecked and unaddressed by the media, @andersoncooper `s fiery rebuke of Blagojevich's narrative could not have been more necessary. This is what real journalism looks like."
          ],
          [
           "governor john bel edwards",
           "There is no place where it isn't. There are places where we haven't detected it yet."
          ],
          [
           "whitney westerfield",
           "Policymakers often debate whether or not life begins at conception, as I believe it does, but surely no one can dispute that a child born alive is a human worthy of care and protection,"
          ],
          [
           "jim mcgovern",
           "If it's ready we can do it tonight,"
          ],
          [
           "bill de blasio",
           "That's worrisome, very deeply worrisome,"
          ],
          [
           "nelson wolff",
           "The Holt family is committed to San Antonio,"
          ],
          [
           "marc elias",
           "I think Congress needs to get ahead of this and ensure that we have a system that works for everyone,"
          ],
          [
           "bob latta",
           "As we legislate and regulations follow, we want to make sure that we have these systems in when there are outages,"
          ],
          [
           "tim fox",
           "COVID-19 is changing how we go about our day-to-day lives, and it requires all of us to make adjustments. The important thing is that we work together as Montanans and help each other as family, friends, and neighbors."
          ],
          [
           "eric garcetti",
           "He came to L.A. and stood shoulder-to-shoulder with me to make us the first big city to enact a $15 minimum wage, and he brought leaders from all over the world to our city to forge the most sweeping climate agreement prior to the Paris accords,"
          ],
          [
           "mo brooks",
           "If we were to do those three things by way of example, then Iran would not be a player on the world stage for decades, at a minimum. They would be lucky if they survive as a country, and it's highly likely that their government would topple under those circumstances as people started going without the services that they are accustomed to having, particularly food. If you don't have oil, if you don't have gasoline, if you don't have electricity, your economy collapses, and when your economy collapses, your war-making capability collapses."
          ],
          [
           "nancy pelosi",
           "want him to know that he is impeached forever."
          ],
          [
           "bernie sanders",
           "I believe the main point that we must follow and appreciate is that our goal should be to prevent the collapse of our economy,"
          ],
          [
           "dick cheney",
           "This is a person who told us for months and months that it was urgent for our national security that we impeach President Trump. So the House Democrats impeached him with no direct evidence, and now, she's been literally sitting on the articles of impeachment ever since."
          ],
          [
           "tate reeves",
           "We are mobilising all resources available to protect our people and their property,"
          ],
          [
           "ron desantis",
           "There's just a lot of angst out there. So, if we can do this in a way that gives people a little bit of relief and an outlet, within the confines of being safe, I think we are better for it,"
          ],
          [
           "steven mnuchin",
           "We believe urgent action is required to avoid a critical strain on liquidity for certain home mortgage servicers. Failure to quickly address the liquidity challenges facing servicers could have much broader, systemic implications for our economy,"
          ],
          [
           "joe biden",
           "creating a dedicated channel for international banks, transportation companies, insurers and other service firms to help Iranians access life-saving medical treatment."
          ],
          [
           "lori lightfoot",
           "The suggestion that, somehow, our city budget is in tatters, as Mr. Vallas dramatically suggests -- it's just foolish."
          ],
          [
           "richard burr",
           "Every company should be cognizant of the fact that you may have to alter your travel. You may have to look at your employees and judge whether the trip they're making to Europe is essential or whether it can be done on video conference. Why risk it?"
          ],
          [
           "jamie raskin",
           "Under the `public charge' rule, this corrupt Administration will cheat children out of health and nutrition benefits to administer a sickening wealth test to their parents,"
          ],
          [
           "ed henry",
           "The idea that there's a conspiracy theory behind it, and you're not sure it's good politics."
          ],
          [
           "dianne feinstein",
           "Nine months left to go, the people should judge. We are a republic, we are based on the will of the people -- the people should judge... That was my view and it still is my view."
          ],
          [
           "bob miller",
           "I knew that there would be certain challenges running for office,"
          ],
          [
           "nancy pelosi",
           "Madame leader, you're saying that the president did not need authorization, initially, and still does not need any authorization from Congress to go in Libya,"
          ],
          [
           "mike groene",
           "Johnny decides to punch Suzie, that teacher stands there. This bill protects that child, protects the child who is doing the damage, who has lost their temper from doing more damage and haunts them the rest of their life because they hurt Suzie."
          ],
          [
           "ted cruz",
           "fight for 28 million Texans each and every day."
          ],
          [
           "gavin newsom",
           "We still have a long road ahead of us in the Golden State -- and we're aggressively preparing for a surge -- but we can't turn our back on Americans whose lives depend on having a ventilator now. We're meeting this moment with compassion."
          ],
          [
           "mitch mcconnell",
           "be responsible for the fairness of the trial."
          ],
          [
           "greg hughes",
           "With the growth that Utah and Washington County has experienced, you also have a downside,"
          ],
          [
           "domenic sarno",
           "This will only continue to enhance and build mutual respect and trust with our entire Springfield community and police department,"
          ],
          [
           "david ige",
           "It is an international consortium with different perspectives within that consortium... working to really understand what their interest is and their timetable,"
          ],
          [
           "pete buttigieg",
           "We are also calling out to the Independents and we are excited to see the ranks of what I like the call future former Republicans signing up for this,"
          ],
          [
           "john roberts",
           "The object of the scheme was not to commandeer lanes on the bridge,"
          ],
          [
           "alex padilla",
           "generally advocated for or recognized"
          ],
          [
           "ken cuccinelli",
           "Obviously, we would urge New York to undo that law and restore some sanity,"
          ],
          [
           "scott gottlieb",
           "may be responsible for more transmission than previously thought"
          ],
          [
           "jason crow",
           "If you can make an individual connection with folks, and if they trust you -- not the Democratic Party, not the Republican Party, not whatever -- that is still more powerful than anything,"
          ],
          [
           "jack lew",
           "I've been concerned by proposals that have huge amounts of money go to businesses in an un-targeted way... I think we need to wait and see where the real need is,"
          ],
          [
           "jim watson",
           "I talked to Dr. Etches about that. At this point, we're not contemplating that."
          ],
          [
           "mike pompeo",
           "The force posture that's here today -- not only the American presence here today, but the work we've done alongside our Saudi partners to better prepare for strikes of that nature -- is very real,"
          ],
          [
           "president barack obama",
           "We're going to see the candidates argue that they are in the best position to rebuild the Obama coalition,"
          ],
          [
           "jeanne shaheen",
           "In no way can this be understood as a fair trial,"
          ],
          [
           "bill de blasio",
           "There is no pre-scripted timeline for this crisis,"
          ],
          [
           "president barack obama",
           "robust system of testing and monitoring"
          ],
          [
           "tate reeves",
           "We are in a scenario in this country where you can choose to be a member of the party led by Donald J. Trump, or you can choose to be a member of the socialist Democratic party led by Bernie Sanders,"
          ],
          [
           "andrew cuomo",
           "So I say my friends, we go out there today and we kick coronavirus ass - that's what I say,"
          ],
          [
           "eric garcetti",
           "Lights for a legend. Los Angeles City Hall lit in purple and gold starting at 8:24 p.m. this evening in honor of Kobe Bryant's storied championship career and in memory of Bryant, his daughter, Gianna, and all who perished in today's tragedy."
          ],
          [
           "ted cruz",
           "caving to the radical left's social agenda."
          ],
          [
           "cindy axne",
           "I've heard from folks in our own district like Jason, whose wife works as a pharmacist with the V-A,"
          ],
          [
           "virginia foxx",
           "Profanity or language that is derogatory on the basis of race, color, religion, sex, national origin, age, or disability is not protected activity under the National Labor Relations Act and employers may suspend, permanently discharge, or otherwise discipline employees for using such language,"
          ],
          [
           "john roberts",
           "President Trump is trying to present a contrast from the White House of him doing the nation's business, while up on Capitol Hill there are all these political machinations. And, he still plans to be out of the country addressing the World Economic Forum, just as his Senate trial gets underway. That could change, but for the moment, that is still the plan,"
          ],
          [
           "dwight evans",
           "Small businesses are the backbone of our economy and it's very important in terms of what these programs will mean,"
          ],
          [
           "paul evans",
           "The foundation of my home is messed up because of it, the force of the water. And my sewer is messed up where I can't use my toilet, my shower, my sink, I can't use anything in my bathroom it's all shut down now,"
          ],
          [
           "joe biden",
           "Trump talks about the longest job growth in American history. One hundred and twelve months of increased employment and growth. Trump has only been president for 35 of those months. But guess where he got that good economy from? Obama-Biden administration,"
          ],
          [
           "thom tillis",
           "The fact that a disgraced Congressman was recently able to move back his resignation date so he could qualify for another year of eligibility for his pension shows how broken the system is,"
          ],
          [
           "jack ciattarelli",
           "When you think about her service here in New Jersey, her reputation and why people would feel automatically comfortable going to someone like Diane Allen with their complaint,"
          ],
          [
           "lindsey graham",
           "I think the president will win in court on DACA that he can set aside the Obama-era DACA rules, then what do you do? I mean If you're going to give them legal status I hope we get something for it."
          ],
          [
           "john lively",
           "The only problem I ever had with him, a week or so before the sale (Keeneland September Yearling Sale), a hurricane was coming through Florida and the barn flooded. He cut open his shoulder."
          ],
          [
           "greg reed",
           "One important thing to note is that we are setting up the ability to contact doctors with telehealth so that next steps can be decided over the phone or video chat to limit the potential of exposure to this illness,"
          ],
          [
           "teresa jacobs",
           "With our team's breadth of experience in the cable and telecommunications industry, WOW!'s IT department will stay nimble in order to deliver the best solutions for our customers."
          ],
          [
           "hakeem jeffries",
           "The call is direct evidence of President Trump's solicitation of foreign interference in the 2020 election as part of a corrupt scheme."
          ],
          [
           "carrie ruud",
           "The time now is to educate about lead, so our future fishermen and our fishermen of today can understand lead in the environment,"
          ],
          [
           "bernie sanders",
           "I know you are the kind of guy who is going to be inclusive. You want to bring people in -- even people who disagree with you."
          ],
          [
           "gov. eric holcomb",
           "What we don't want to do is be premature about this, just reflexively jumping back after we hit that peak,"
          ],
          [
           "joe biden",
           "I feel good. I can win and I can bring along Democratic victories."
          ],
          [
           "pete buttigieg",
           "We've been in a lot of the counties that famously switched from President Obama to Trump,"
          ],
          [
           "president george w. bush",
           "Go home. You're making me feel guilty,"
          ],
          [
           "brad tschida",
           "Your actions have irreparably undermined the body in which you serve and irrevocably broken the trust of those you were elected to represent."
          ],
          [
           "ron wyden",
           "this new NAFTA delivers long-overdue upgrades to labor standards, the environment and digital trade, while providing certainty to farmers and manufacturers who have been hammered in recent years."
          ],
          [
           "ben sasse",
           "¦ We don't need a policy where Washington, D.C., handpicks winners and losers."
          ],
          [
           "brian kemp",
           "Patrols are vigilant so people can get fresh air and exercise while following social distancing rules,"
          ],
          [
           "lee chatfield",
           "Everyone in our state is essential,"
          ],
          [
           "elizabeth warren",
           "Here's the big diff: Bernie supports the filibuster, I want to get rid of the filibuster,"
          ],
          [
           "colin allred",
           "I call on the Senate to act and pass the bipartisan bills that we have passed in this House, including background checks and the Violence Against Women Act."
          ],
          [
           "nancy pelosi",
           "may be a good thing in terms of what is going on."
          ],
          [
           "mike pence",
           "The contrast here was a president who spent an hour-and-a-half making the speech about America and Nancy Pelosi in the final moments tried to make it about her."
          ],
          [
           "joe biden",
           "Imagine had the president endorsed me; it would have been, `Well Biden's entitled because he thinks -- he's entitled because the president endorsed him."
          ],
          [
           "jim bridenstine",
           "This critical test puts us on the cusp of once again launching American astronauts on American rockets from American soil. Spacecraft recovery operations are underway."
          ],
          [
           "andrew cuomo",
           "It will be the difference between life and death,"
          ],
          [
           "will barclay",
           "I'm going to try and engage every member of this conference."
          ],
          [
           "elizabeth warren",
           "Some is how many?"
          ],
          [
           "mike duggan",
           "If you need a test, they will evaluate you and potentially you can get a script and come to the Fairgrounds."
          ],
          [
           "jared polis",
           "We will continue to monitor the course of the COVID-19 outbreak in the State and may amend this Executive Order accordingly."
          ],
          [
           "jared huffman",
           "So we have got to be far more proactive."
          ],
          [
           "andrew cuomo",
           "Remain indoors, go outside for solitary exercise. Don't go to a house with multiple people. Don't go to your daughter's house. That is a mistake."
          ],
          [
           "phil murphy",
           "My Administration's top priority is helping New Jersey residents and businesses overcome the unprecedented disruptions COVID-19 is causing while staying healthy and safe,"
          ],
          [
           "robert phillips",
           "We're in a good position there to add significant volumes to our processing complex and probably add significant acreage to our commercial footprint there in the heart and core of the Powder River Basin,"
          ],
          [
           "mike pompeo",
           "are fed up with the regime's lies, corruption, ineptitude and brutality."
          ],
          [
           "lindsey graham",
           "We deal with hurricanes, very well. This is a hurricane that isn't going to leave anytime soon,"
          ],
          [
           "martin j. walsh",
           "The Parks Department has planned an event full of entertainment giving children and families an opportunity to get outside and enjoy the season on Boston Common."
          ],
          [
           "frank edelblut",
           "Remote instruction, plus remote support, results in remote learning for our students,"
          ],
          [
           "bill white",
           "Gifts, a lot of handmade items, cards are coming from schools. Locally, fire departments, police departments. A lot of handmade stuff,"
          ],
          [
           "lamar alexander",
           "I would think you would think twice before you did it again,"
          ],
          [
           "rick crawford",
           "It was a far from perfect bill. In fact, you might even have some folks that would argue that it wasn't a good bill. But there's really not much that we can do other than try to provide assistance where we can as quickly as we can,"
          ],
          [
           "joe biden",
           "We just need President Trump and his administration to demonstrate the same level of dedication and aggressive leadership at the federal level to mount an effective national response."
          ],
          [
           "richard ieyoub",
           "ease the burden on operators while maintaining [ Conservation's ] duty as regulators to ensure responsible operations."
          ],
          [
           "mike pompeo",
           "thugs are telling Iraqi security forces to abandon their duty to protect (the US embassy in Baghdad) and other locations where Americans work side by side with good Iraqi people,"
          ],
          [
           "chuck schumer",
           "If the president tries to hamhandedly bully or dupe states into reopening portions of the country and send people back to work prematurely or without appropriate testing in place, he could risk undoing all the progress we've made through social distancing towards fighting this pandemic,"
          ],
          [
           "kevin stitt",
           "The state is well positioned to monitor the developing situation, deploy assets as needed, and protect the public health and safety of Oklahomans."
          ],
          [
           "jon bramnick",
           "We're competing with Pennsylvania, so all those businesses on the border are simply going to be hurt and those people who want the cigarettes are driving across the border,"
          ],
          [
           "ron desantis",
           "If they can perform functions at home, now's a good time to do that."
          ],
          [
           "kellyanne conway",
           "Trump's diplomatic learning curve: Times zones, `Nambia' and `Nipple."
          ],
          [
           "kevin cramer",
           "So you know, to what degree he takes it head on and what degree it's implied, we'll see. And he may not even know yet. And that's one of the things that's magical about Donald Trump. He'll be Donald Trump, for sure."
          ],
          [
           "william p. barr",
           "My information checks out 10 ways to Sunday,"
          ],
          [
           "greg abbott",
           "For those that may be worried about seeing empty shelves at your grocery stores, these shelves will be replenished and people will have the supplies they need."
          ],
          [
           "paul koretz",
           "I think there's just an insane disconnect between the fact that we are working to conserve our mountain lions, especially in the city of Los Angeles, where there's possibly one still surviving that's collared and there may be another one that's not collared -- two males, and we just allowed one to be killed,"
          ],
          [
           "angelo morinello",
           "We must replant more trees, we must filter more drinking water, we must stop the nitrogen run off, and that's what the bond act will do. Those investments and more,"
          ],
          [
           "keisha lance bottoms",
           "The reality is that we are one city in a BIG country. This virus doesn't respect geographical lines. STAY HOME if you can,"
          ],
          [
           "beto o'rourke",
           "I want to be really clear that that's exactly what we're going to do. Americans who own AR-15s and AK-47s will have to sell them to the government."
          ],
          [
           "kristi noem",
           "From day one, I've said we're going to let the science, facts, and data drive our decision-making in South Dakota,"
          ],
          [
           "scott wiener",
           "I have a responsibility to wake up every day and fight for my community. Of course, it's not the only work I do. I work for all communities. We have amazing allies in the legislature, but ultimately our community needs to be at the table and we need to stick up for ourselves."
          ],
          [
           "antonio villaraigosa",
           "It used to be the Ellis Island of L.A.. There was a big Jewish community there [ along with ] Mexican, Chinese and Japanese communities and they all lived in harmony,"
          ],
          [
           "jon ossoff",
           "even if it makes politicians uncomfortable."
          ],
          [
           "greg abbott",
           "one of the most welcoming states for refugees,"
          ],
          [
           "nikki haley",
           "Go tell that to the military members who lost a limb. This was something that needed to be done, and should be celebrated."
          ],
          [
           "alexander acosta",
           "So, there has been reporting to that effect,"
          ],
          [
           "lee zeldin",
           "I believe that that should be one of the very first orders of business in January of 2021 -- is to expunge this sham impeachment,"
          ],
          [
           "phil murphy",
           "The notion that we're going to go back to some sort of `Let's just turn the clock back to three months ago,' I just don't see it,"
          ],
          [
           "mike pompeo",
           "Since FY 2010, more refugees have been received in Texas than in any other state."
          ],
          [
           "laurence fink",
           "BlackRock's 2019 results confirm the uniqueness of our globally integrated, asset management and technology platform. We generated a record $429 billion of total net inflows in 2019, representing 7% organic asset and 5% organic base fee growth, and ended the year with strong momentum, capturing $129 billion of flows in the fourth quarter."
          ],
          [
           "sheldon whitehouse",
           "It's an obvious problem when an anonymously-funded private organization has this role,"
          ],
          [
           "lindsey graham",
           "a preemptive, defensive strike"
          ],
          [
           "troy streckenbach",
           "Those vital supplies are what currently stand between Brown County caring for its residents and protecting our emergency responders and health care workers."
          ],
          [
           "andrew cuomo",
           "I want to thank Joe Tsai, and Clara Tsai, and Jack Ma from Alibaba,"
          ],
          [
           "anthony g. brown",
           "What matters today is providing the resources needed to protect public health. That must be our priority,"
          ],
          [
           "thomas massie",
           "if we're going to pass the biggest spending bill in the history of mankind... people should go on record for this."
          ],
          [
           "elizabeth warren",
           "Bloomberg is the story now."
          ],
          [
           "jesse jackson",
           "African Americans are the people who are most behind socially and economically in the United States and our needs are not moderate."
          ],
          [
           "nancy pelosi",
           "We have a panel that we've established."
          ],
          [
           "governor charlie baker",
           "I hope all of you remember,"
          ],
          [
           "tom corcoran",
           "Most of them take their clothes off in the garage, jump right into the shower."
          ],
          [
           "josh green",
           "We will be prepared. We are spending 24/7 on this to make sure that whatever steps necessary be taken to keep our people safe,"
          ],
          [
           "knute buehler",
           "I was a bridesmaid in her wedding."
          ],
          [
           "hector balderas",
           "Because Google has used this access to collect massive quantities of data from young children, not to benefit the schools you have contracted with, but to benefit Google's own commercial interests, I am forced to bring legal action to prohibit this dangerous conduct,"
          ],
          [
           "jose oliva",
           "I can find people that are surprised by the move, but I almost can't find anyone who disagrees with it,"
          ],
          [
           "andrew cuomo",
           "How do you do the spread? You close down more interaction among people,"
          ],
          [
           "rob portman",
           "You're not going to have a product that's signed off by everybody tonight because there's still a couple of outstanding issues, but it will include a lot of Democratic ideas,"
          ],
          [
           "bernie sanders",
           "tears would roll down my cheeks,"
          ],
          [
           "nancy pelosi",
           "We don't need 48 hours -- we need to just make a decision."
          ],
          [
           "lindsey graham",
           "That is not going to happen. We don ´ t have the votes for that."
          ],
          [
           "gerald robinson",
           "There is another 30-40 that we are going to try to get to [ later Wednesday ] and [ today ]."
          ],
          [
           "theresa gavarone",
           "I think what's going on really kind of shows why this could be a very useful tool in making it easier for people to vote."
          ],
          [
           "gary herbert",
           "Gov. Herbert understands that Sen. Romney voted in accordance with his conscience, bearing in mind all the information he had after sitting through the impeachment trial,"
          ],
          [
           "jennifer mcclellan",
           "I think one way to end partisan gerrymandering is to have an independent, bipartisan commission."
          ],
          [
           "bernie sanders",
           "Governor Gavin Newsom's solution is approving rent control. Rent control hurts supply, which hurts affordability, which hurts the people he's trying to help."
          ],
          [
           "mike pence",
           "Because of the good bipartisan work done in the House of Representatives now all coronavirus testing is free and it's free for every American, including uninsured Americans,"
          ],
          [
           "david gallegos",
           "In our 10 years of fielding this research, I don't think we've seen healthcare industry leaders so polarized on some strategic issues,"
          ],
          [
           "clay schexnayder",
           "I'm not sure adopting an entire forecast amount is the most conservative route to take at this point."
          ],
          [
           "gretchen whitmer",
           "The next step is to have literacy coaches train educators to better identify and support struggling readers. You'll hear more about this in the budget next week."
          ],
          [
           "josh hawley",
           "I think the Chinese government has not been honest at all about this,"
          ],
          [
           "chris coons",
           "Just recognize we have to be open to getting to the truth as opposed to just getting a political result. (Schumer's) response was `we want witnesses. '"
          ],
          [
           "bernie sanders",
           "With your help, we're going to win the Democratic nomination, and with your help, we are going to defeat the most dangerous president in modern history."
          ],
          [
           "jim allen",
           "The number of election judges who have resigned is increasing,"
          ],
          [
           "jason crow",
           "not only for this president but for all future presidents-whether or not the office of the presidency of the United States of America is above the law,"
          ],
          [
           "john hall",
           "stay at home, call [ their ] local rural GP and ask for advice"
          ],
          [
           "jean wilson",
           "We rely on donors... we would love to get a grant from some foundation so that we could do an even larger-scale assistance,"
          ],
          [
           "pete buttigieg",
           "large-scale and community based clean energy projects."
          ],
          [
           "leon drolet",
           "What's happening here is the prosecutor has been assessing the fine of the $900 and not turning the money over to the county treasurer and it's not being appropriated through the normal channel of officials. Instead, he's been putting the money into bank accounts for many years that only he had access to,"
          ],
          [
           "jb pritzker",
           "This is an incredible failure by the federal government and every day that they continue to abdicate their responsibilities is another day that we fall behind,"
          ],
          [
           "ken cuccinelli",
           "Hey folks, we're not shutting down the United States,"
          ],
          [
           "steven mnuchin",
           "I think we have a fundamental understanding and we look forward to wrapping it up today. It will get done,"
          ],
          [
           "bill de blasio",
           "Starting next week, this facility will be able to take people from Elmhurst -- not folks who need ICU care but other coronavirus patients, bring them over here, remove that pressure immediately."
          ],
          [
           "adam schiff",
           "help provide a vital check on the President, as the Constitution requires Congress to do."
          ],
          [
           "dov hikind",
           "This is unacceptable. We cannot tolerate credentialing fake journalists who shamelessly push virulent anti-Semitic agendas. I'm sure President @realDonaldTrump will do the right thing when this comes to his attention."
          ],
          [
           "leslie rutledge",
           "As we are well aware in Arkansas, we must protect our men and women in blue who selflessly hold the line every day for Arkansans."
          ],
          [
           "newt gingrich",
           "In 1990, the Democrats blackmailed President George H.W. Bush into breaking his word on taxes where they said they wouldn't agree to a budget agreement,"
          ],
          [
           "bill walker",
           "We're just taking a sabbatical."
          ],
          [
           "elizabeth warren",
           "Joe Biden has spent nearly his entire life in public service. He knows that a government run with integrity, competence, and heart will save lives and livelihoods,"
          ],
          [
           "ken buck",
           "I have just one message for Joe Biden and Beto O’Rourke: If you want to take everyone's AR-15s in America, why don't you swing by my office in Washington, D.C. and start with this one? Come and take it,"
          ],
          [
           "kevin stitt",
           "Gov. Kevin Stitt addresses Indian gaming lawsuit."
          ],
          [
           "rudy giuliani",
           "This guy is canceling meeting I think?"
          ],
          [
           "mike pompeo",
           "We will respond with great force and great vigor if the Iranian leadership makes a bad decision,"
          ],
          [
           "robert spendlove",
           "Look who's leading the charge here. We've got the speaker of the House and the Senate president. You don't get any higher than that in the Legislature."
          ],
          [
           "mike pompeo",
           "Our ask is that our allies and our partners and friends don't do anything that would endanger our shared security interest,"
          ],
          [
           "bill de blasio",
           "I encourage all students to register and show up at the polls on Election Day because their voice matters."
          ],
          [
           "rebecca kleefisch",
           "probably one of the coolest things I've ever experienced. I love coming and seeing the show."
          ],
          [
           "betsy devos",
           "everyone should be focused on staying safe and healthy, not worrying about their student loan balance growing."
          ],
          [
           "mike dewine",
           "High school athletes will not be able to compete in front of their fans and their school mates,"
          ],
          [
           "ron desantis",
           "So, a lot of hospitals are rightfully concerned about ending up with a lot of their key people ending up in self-isolation."
          ],
          [
           "brett kavanaugh",
           "telling them that they're not entitled to equal treatment under the Constitution?"
          ],
          [
           "wayne harper",
           "rather than the Pacific Northwest and California."
          ],
          [
           "steven choi",
           "Initially, we sent out a lot of samples to Quest but their turnaround times were quite delayed recently, sometimes over a week,"
          ],
          [
           "tate reeves",
           "We'll continue to monitor the situation, and when we get to next week we'll make appropriate announcements at that time"
          ],
          [
           "cory booker",
           "Our weaknesses are going to be seen because, again, if we can't raise more money in this final stretch, we won't be able do the things that other campaigns with more money can do to really show presence."
          ],
          [
           "chael sonnen",
           "What are you doing in Portland seems like something you can respond to reasonably."
          ],
          [
           "rob portman",
           "He (Trump) never linked the aid to corruption in general or certainly not an investigation in particular."
          ],
          [
           "bernie sanders",
           "This is a union-led campaign. We believe in unions. We will never attack union leadership, and we will not attack people on a personal basis. We can have a debate about the issues, but I do not believe in online bullying. End of discussion."
          ],
          [
           "bernie sanders",
           "No, I did not vote against that. That bailout money was used later on by Bush to protect the automobile industry."
          ],
          [
           "alex azar",
           "You identify cases, isolate people, diagnose them and treat them,"
          ],
          [
           "norm coleman",
           "He was key to the growth of Hezbollah and other terrorist groups,"
          ],
          [
           "amy klobuchar",
           "My pitch (on comprehensive reform) is it brings the deficit down by $158 billion in 10 years,"
          ],
          [
           "ted cruz",
           "I wasn't the only one giving it to him, but I was glad he did."
          ],
          [
           "ed markey",
           "Progressive Mass is an incredible group of grassroots organizers who understand that the 2020 election is among the most important elections of our lifetime,"
          ],
          [
           "marsha blackburn",
           "We're looking at a time when the NCAA has failed when it comes to women in sports -- sexual harassment, sexual abuse.... How are (parents/players) going to be able to trust you to get this right?"
          ],
          [
           "phil murphy",
           "In a perfect world, I'd love to be South Korea,"
          ],
          [
           "nikki fried",
           "We have already been replacing these stickers,"
          ],
          [
           "louie gohmert",
           "So because of that, speaker, I withdraw my objection."
          ],
          [
           "roy cooper",
           "... There shouldn't be any major issues with power outages, although gusty winds tonight and tomorrow could cause some outages."
          ],
          [
           "robert lighthizer",
           "Asia markets are expected to sing to the cheer on Wall Street with the alleviation of US-China trade tensions carrying this week,"
          ],
          [
           "mike pompeo",
           "It is misguided to think that the risks associated with installing equipment from suppliers subject to control by authoritarian regimes with a track record of malign cyber behavior can be mitigated,"
          ],
          [
           "andrew cuomo",
           "a good man.... I wish him well. I think he did good work."
          ],
          [
           "jim kenney",
           "outdoor activities such as walking"
          ],
          [
           "steven mnuchin",
           "These tariffs will stay in place until there is a phase 2. If the president gets a phase 2 in place quickly, he'll consider releasing tariffs as part of phase 2,"
          ],
          [
           "marco rubio",
           "If we can develop an effective antiviral treatment we're going to save lives."
          ],
          [
           "bill galvano",
           "It's important that we look at these issues in their totality. That's what we set out to do. That's what I told the people of Florida that we would do. And certainly, there is a balance, and there is a realistic anticipation of outcome that comes into play. But I think the committee's been doing good work and I'm going to continue to support it,"
          ],
          [
           "norm rice",
           "It's one of the hardest things to manage,"
          ],
          [
           "governor pete ricketts",
           "is not just a slogan. And it's not just about abortion. It's an important part of what we do... but it's also remembering that we've got people in our communities who need our help. That's a pro-life message. So whether it's helping families who need food assistance, women who have been trafficked -- anybody -- that's what [ being ] pro-life is really about: recognizing th [ e ] dignity that's innate in each and every one of us. And we just had Martin Luther King Day [ and the ] most urgent, persistent question of life [ to him ] was: What are we doing for others?"
          ],
          [
           "adam schiff",
           "Our job is to make it hard to deprive the American people of a fair trial."
          ],
          [
           "michael steele",
           "This is absolutely nonsense theatrics and I don't buy if for one moment,"
          ],
          [
           "robert duffy",
           "It's always great to have fresh people come on council. It's great when they can do it during the election process and we're not into a byelection, but I mean, different things come up in people's lives at different times,"
          ],
          [
           "richard irvin",
           "We have to make sure that we flatten this curve. I know that we all don't know what that really means. The best way to explain it is if this virus doesn't have a host to jump to, eventually, it will just die out. Staying in place is helping us beat this coronavirus."
          ],
          [
           "kristi noem",
           "Today, I'm pleased to report we have received the initial doses we need, and thanks to the leadership of Sanford Health and the assistance of medical teams at Avera and Monument Health, we're going to be the first state in the nation to do a comprehensive clinical trial to assess whether hydroxychloroquine can treat and perhaps even prevent COVID-19,"
          ],
          [
           "richard bell",
           "Up until today [ March 30 ], if an eviction notice has already been given to the tenants to vacate because the buyers are to take possession, that eviction still stands. However, any new home purchase contract, from today onwards, you will not be able to evict the tenant, under any section of the legislation."
          ],
          [
           "devin nunes",
           "One of the things you can do: If you're healthy, you and your family, it's a great time to go out and go to a local restaurant. Likely you can get in easy,"
          ],
          [
           "ben sasse",
           "This report and our additional views demonstrate the Obama administration was paralyzed in recognizing, and incompetent in responding forcefully to Russian attempts to sow discord in the U.S. and influence our elections,"
          ],
          [
           "gov. kim reynolds",
           "moving from prevention to mitigation."
          ],
          [
           "marco rubio",
           "From what I've heard, multiple states have had systemic crashes because they're just not built for half the country to be unemployed that quickly or potentially unemployed."
          ],
          [
           "john kerry",
           "That hurt Hillary last time, having Bernie go on and on and on. So we've got to end this thing, and we have a chance to do it."
          ],
          [
           "joseph divincenzo",
           "I decided to get tested after experiencing a fever for several days and have been self-quarantined since March 21,"
          ],
          [
           "ned lamont",
           "If we can make it work here in Stamford, we can make it work in New Haven, Hartford and New London and rebuild those cities and ecosystems,"
          ],
          [
           "kevin faulconer",
           "Measure C means the tourists pay and San Diego wins."
          ],
          [
           "andrew cuomo",
           "This virus attacked the vulnerable and attacked the weak, and it's our job as a society to protect the vulnerable."
          ],
          [
           "meg whitman",
           "And, since Quibi is built for an optimal mobile experience, we chose T-Mobile as our exclusive wireless launch partner. With the only nationwide 5G network, T-Mobile was the obvious choice for our customers."
          ],
          [
           "lindsey graham",
           "If we don't get the articles this week, then we need to take matters in our own hands and change the rules, deem them to be delivered to the Senate, so we can start the trial, invite the House over to participate if they would like. If they don't come, dismiss the case and get on with governing the country,"
          ],
          [
           "alan bates",
           "We have received the letter from Mr Bates and are considering the correspondence. We are pleased that a comprehensive resolution to the litigation was reached in December,"
          ],
          [
           "wayne allyn root",
           "Trump inspired them to rise up against their evil leaders."
          ],
          [
           "mike pence",
           "As we are expanding testing around the country, there are going to be more cases. We're going to find more Americans have contracted the coronavirus."
          ],
          [
           "gov. eric holcomb",
           "We don't see the peak yet, these numbers are compounding,"
          ],
          [
           "dusty johnson",
           "Normally when announcements like this are made, if they're going to be made in just one community, it would be Sioux Falls,"
          ],
          [
           "chuck schumer",
           "The administration's incompetence is towering and dangerous right now, and they've got to get it together for the safety, the health, and even the lives of the American people,"
          ],
          [
           "reagan dunn",
           "Moving forward, I will only support quarantine sites that clearly do not endanger the health and welfare of the surrounding residential and business community,"
          ],
          [
           "david luneau",
           "Students across the state don't have equitable access. That's going to be a very important mission for the work that the commission does,"
          ],
          [
           "john roberts",
           "Dems: Trump will abuse power anew,"
          ],
          [
           "deval patrick",
           "So we stepped back. That seemed like the right thing to do, I still think that was the right thing to do at the time."
          ],
          [
           "gavin newsom",
           "That is not an insignificant amount of money,"
          ],
          [
           "sid miller",
           "We've got to get our rules approved and get our licensing program up and running, but the dominoes are dropping pretty quick. We're almost there."
          ],
          [
           "newt gingrich",
           "To get off the airplane and go to a stadium with 120,000 happy people seems to me for most of Trump's critics, they had to at least slow down their assumption about whether or not he's acceptable,"
          ],
          [
           "andrew cuomo",
           "The last thing I want to do is buy a single ventilator I don't need,"
          ],
          [
           "jeff sessions",
           "The safety and health of Alabamians must take precedence."
          ],
          [
           "french hill",
           "There is no evidence that China is adopting international transparency standards from the multilateral development banks or engages in best practices to prevent debt traps, corruption, or poor construction outcomes."
          ],
          [
           "tim fox",
           "It is a strategy for the future for Montana. Rather than have a top-down program, where two of us sit down and figure out what we want to do, we've engaged over 500 people across the state... coming up with strategies in not only agriculture, but healthcare, education, senior citizens. So many different things that are important to Montanans,"
          ],
          [
           "pete buttigieg",
           "in a way that starts to change the toxic and divisive nature of our politics right now"
          ],
          [
           "gary herbert",
           "Even with stay home orders and directives in place across the nation, Zion still continues to receive a high number of visitors each day, which greatly increases the risk of infection to communities near the park. We look forward to the day that this pandemic draws to a close and we can once again welcome the world to Utah's public lands."
          ],
          [
           "chris cannon",
           "With tens of thousands of additional people accessing Jobs4TN, the Department is doing everything possible to stay ahead of any issues so the people of Tennessee can apply for unemployment benefits,"
          ],
          [
           "bill de blasio",
           "We have to look at this pattern and conclude that the worst is certainly in the next few weeks, minimum,"
          ],
          [
           "bob lanier",
           "People with allergies have an odd trait. They live longer than everybody else -- 3 to 5 years,"
          ],
          [
           "jose oliva",
           "In an effort to set an example in the ongoing fight against COVID-19, and in an abundance of caution for their fellow Members and staff, Representatives Sabatini, Altman, McGhee, Donalds and Byrd, along with a staff member, have voluntarily agreed to submit to testing,"
          ],
          [
           "bill galvano",
           "And it's incumbent upon the sponsors of bills and members of bodies to explain and to make the correct arguments,"
          ],
          [
           "cyrus habib",
           "In the absence of any official statement on this as of yet, it is critical that Customs and Border Patrol immediately clarify this drastic change in policy."
          ],
          [
           "josh gottheimer",
           "Getting the commission done, getting all the recommendations done, and then of course there will be a series of requirements to be prepared, we want all those requirements, at the latest, to be in place in 2025 -- obviously, many that will be in place before then,"
          ],
          [
           "lindsey graham",
           "urging the immediate closure of these wet markets for the safety of the world at large."
          ],
          [
           "dan rasmussen",
           "Yes, business conditions are going to get worse. Yes, the coronavirus is going to get worse for a time, but markets will go up before business conditions start going up -- and markets will go up before the coronavirus starts getting better."
          ],
          [
           "mark berg",
           "So far, we've been very fortunate we haven't had anybody come in with concerns,"
          ],
          [
           "bill hightower",
           "Obviously, the whole blue-collar conservatism -- I mean, like me, and I think like Donald Trump -- we're free traders, but at the same time, you know, I think we want to make sure our workers are being treated fairly,"
          ],
          [
           "chuck schumer",
           "massive new grant program for hospitals and health care providers,"
          ],
          [
           "tulsi gabbard",
           "the most qualified candidate in foreign affairs..."
          ],
          [
           "barack obama",
           "we're told that tougher gun laws won't stop all murders; that they won't stop every deranged individual from getting a weapon and shooting innocent people in public places. But the evidence shows that they can stop some killings. They can save some families from heartbreak. We are not helpless here. And until all of us stand up and insist on holding public officials accountable for changing our gun laws, these tragedies will keep happening."
          ],
          [
           "lamar alexander",
           "The government has shut down the economy for the public health, so the Senate is responsible for taking steps to help families, workers and business who have been hurt by the outbreak of COVID-19,"
          ],
          [
           "pete buttigieg",
           "I tell you what it adds up to,"
          ],
          [
           "john cook",
           "We hope the virus is gone by [ the end of May ] but if it's not we will continue to provide them with free coffee until they no longer need them."
          ],
          [
           "tom cotton",
           "stand ready to assist the people of Craighead County as they face both the coronavirus and these deadly storms."
          ],
          [
           "john katko",
           "We must remain focused on keeping this country safe from retaliation -- not only on the ground in the Middle East and here at home, but from potential cyberattacks against our nation."
          ],
          [
           "nancy pelosi",
           "This legislation facilitates free coronavirus testing for everyone who needs a test, including the uninsured. We can only defeat this outbreak if we have an accurate determination of its scale and scope so that we can pursue the precise science based response that is necessary."
          ],
          [
           "ryan williams",
           "I will remember him for being legendary on the court,"
          ],
          [
           "hilda solis",
           "In Los Angeles, when we're faced with a high number of people living on the streets, we need to elect people that are going to be responsive to all of our populations, to all of the vulnerable folks that oftentimes don't get their voices heard,"
          ],
          [
           "karl rove",
           "Nobody's breaking it... Buttigieg and Bernie are about 32 percent of the delegates selected so far."
          ],
          [
           "alex charlton",
           "If I may -- on the bulk of delay, that was at a moment in time... Early on in the project there were delays that were caused by [ Co-Op Insurance ] or even IBM. In a long-running programme, delay can happen and it sort of moves around."
          ],
          [
           "bernie sanders",
           "enough of Iowa. I think we should move on to New Hampshire."
          ],
          [
           "amy klobuchar",
           "If you are tired of the extremes, you have a home with me, and I think you know you have a home with Joe Biden,"
          ],
          [
           "steve sisolak",
           "This is not the time for sleepovers, playdates, concerts, theater outings, or athletic events,"
          ],
          [
           "robert reich",
           "At their best, both systems respond to the needs of individuals rather than the needs of the public as a whole. In America, the word `public' -- as in public health, public education or public welfare -- means a sum total of individual needs, not the common good."
          ],
          [
           "jill biden",
           "We have to work with them. When we make the case for our values, for our ideals, we really can change hearts and minds."
          ],
          [
           "steven mnuchin",
           "We are announcing additional sanctions against the Iranian regime..."
          ],
          [
           "gavin newsom",
           "there is no person better equipped to fight for us than Elizabeth."
          ],
          [
           "london breed",
           "but she did it out of transparency."
          ],
          [
           "steven fulop",
           "We've said to the Governor that we'll accommodate all front-line families that need help but we weren't willing to just open unlicensed day care centers or centers w/violations as that only puts residents at risk,"
          ],
          [
           "bill flores",
           "This plan puts much-needed resources where they're most needed,"
          ],
          [
           "mike pompeo",
           "cutting off (Venezuelan President Nicolas) Maduro's main lifeline to evade our sanctions on the Venezuelan oil sector."
          ],
          [
           "richard blumenthal",
           "Apple and Google have a lot of work to do to convince a rightfully skeptical public that they are fully serious about the privacy and security of their contact tracing efforts,"
          ],
          [
           "roger marshall",
           "Regardless of what type of business you own, you may want to reach out to your local banker and ask about these SBA loans,"
          ],
          [
           "nina turner",
           "It is important that the African American community see themselves reflected in this campaign from the highest echelons of this campaign,"
          ],
          [
           "don young",
           "Our core strategy is to invest in the research, development, and commercialization of our aerogel technology platform. We seek to partner with industry leaders to bring these exciting technologies to market. In support of our partners and customers, we intend to aggressively assert our patents against Alison, Nano or any other manufacturer, distributor or end-user that infringes our technology worldwide,"
          ],
          [
           "bill lee",
           "We're never going to be able to mandate people's behavior in their homes and in their yards and in their neighborhoods,"
          ],
          [
           "pete buttigieg",
           "That could have been a moment to give her a lecture on the difference between your friend and your partner,"
          ]
         ],
         "hovertemplate": "party_label=%{x}<br>pred=%{y}<br>speaker=%{customdata[0]}<br>quotation=%{customdata[1]}<br>rounded_pred=%{marker.color}<extra></extra>",
         "legendgroup": "",
         "marker": {
          "color": [
           0,
           0,
           1,
           1,
           0,
           0,
           0,
           1,
           0,
           1,
           0,
           1,
           1,
           0,
           1,
           0,
           1,
           0,
           0,
           0,
           0,
           1,
           1,
           0,
           1,
           0,
           1,
           0,
           0,
           0,
           0,
           1,
           1,
           1,
           1,
           0,
           0,
           0,
           1,
           0,
           1,
           1,
           1,
           1,
           1,
           0,
           0,
           0,
           0,
           1,
           1,
           0,
           1,
           1,
           0,
           1,
           1,
           1,
           0,
           0,
           1,
           0,
           1,
           0,
           1,
           1,
           1,
           0,
           1,
           1,
           1,
           0,
           1,
           0,
           1,
           1,
           1,
           0,
           0,
           0,
           0,
           0,
           0,
           0,
           0,
           1,
           1,
           0,
           1,
           1,
           0,
           0,
           0,
           0,
           1,
           0,
           1,
           1,
           1,
           0,
           1,
           1,
           1,
           1,
           0,
           0,
           0,
           0,
           0,
           1,
           0,
           0,
           0,
           0,
           0,
           0,
           1,
           1,
           0,
           1,
           1,
           1,
           0,
           1,
           1,
           1,
           1,
           1,
           0,
           0,
           0,
           1,
           1,
           0,
           1,
           0,
           1,
           0,
           0,
           0,
           1,
           1,
           1,
           1,
           0,
           0,
           1,
           1,
           0,
           1,
           1,
           1,
           0,
           1,
           1,
           1,
           0,
           1,
           0,
           0,
           1,
           1,
           0,
           1,
           0,
           1,
           0,
           0,
           0,
           1,
           1,
           1,
           1,
           0,
           1,
           1,
           1,
           1,
           0,
           1,
           0,
           0,
           1,
           0,
           0,
           0,
           1,
           0,
           1,
           0,
           1,
           0,
           0,
           1,
           1,
           0,
           1,
           0,
           1,
           1,
           1,
           0,
           1,
           1,
           0,
           0,
           0,
           0,
           0,
           1,
           1,
           0,
           0,
           1,
           0,
           1,
           0,
           0,
           0,
           1,
           1,
           0,
           1,
           0,
           0,
           0,
           1,
           0,
           1,
           1,
           0,
           0,
           1,
           0,
           0,
           1,
           0,
           1,
           0,
           0,
           0,
           0,
           1,
           0,
           0,
           1,
           1,
           1,
           1,
           1,
           1,
           0,
           1,
           0,
           1,
           0,
           1,
           1,
           0,
           1,
           1,
           1,
           1,
           1,
           1,
           1,
           1,
           0,
           1,
           1,
           0,
           0,
           0,
           1,
           0,
           1,
           1,
           0,
           1,
           0,
           1,
           0,
           0,
           0,
           1,
           1,
           0,
           1,
           0,
           1,
           0,
           1,
           1,
           0,
           0,
           0,
           0,
           0,
           1,
           0,
           1,
           0,
           0,
           1,
           0,
           1,
           0,
           0,
           0,
           0,
           1,
           1,
           1,
           1,
           1,
           1,
           1,
           1,
           1,
           0,
           1,
           0,
           1,
           0,
           1,
           1,
           0,
           1,
           1,
           0,
           0,
           0,
           1,
           1,
           1,
           1,
           1,
           1,
           1,
           1,
           1,
           0,
           1,
           0,
           1,
           1,
           0,
           0,
           1,
           1,
           0,
           1,
           0,
           1,
           1,
           0,
           0,
           0,
           1,
           1,
           1,
           1,
           1,
           0,
           0,
           0,
           0,
           1,
           0,
           1,
           0,
           0,
           1,
           1,
           1,
           1,
           0,
           1,
           1,
           0,
           0,
           0,
           0,
           0,
           0,
           1,
           0,
           0,
           1,
           0,
           0,
           1,
           0,
           0,
           1,
           1,
           0,
           0,
           1,
           1,
           0,
           0,
           0,
           0,
           1,
           0,
           1,
           0,
           0,
           1,
           0,
           1,
           0,
           0,
           1,
           0,
           0,
           0,
           1,
           1,
           1,
           0,
           0,
           1,
           1,
           1,
           0,
           1,
           0,
           1,
           0,
           1,
           1,
           0,
           0,
           1,
           1,
           1,
           0,
           1,
           1,
           1,
           0,
           1,
           1,
           1,
           1,
           0,
           0,
           0,
           0,
           0,
           1,
           0,
           0,
           1,
           1,
           1,
           1,
           1,
           1,
           1,
           0,
           0,
           1,
           1,
           0,
           0,
           1,
           1,
           0,
           1,
           1,
           1,
           1,
           1,
           1,
           0,
           1,
           0,
           0,
           1,
           1,
           0,
           1,
           0,
           1,
           1,
           0,
           0,
           0,
           1,
           0,
           0,
           1,
           1,
           1,
           1,
           1,
           0,
           0,
           0,
           1,
           1,
           0,
           0,
           1,
           1,
           0,
           1,
           1,
           0,
           0,
           1,
           1,
           0,
           1,
           1,
           1,
           0,
           0,
           0,
           0,
           0,
           1,
           1,
           0,
           0,
           0,
           1,
           1,
           0,
           0,
           1,
           0,
           0,
           0,
           1,
           1,
           0,
           0,
           0,
           0,
           0,
           0,
           1,
           0,
           1,
           0,
           0,
           1,
           1,
           1,
           1,
           1,
           0,
           1,
           0,
           0,
           0,
           1,
           1,
           0,
           1,
           1,
           0,
           0,
           1,
           1,
           0,
           0,
           0,
           1,
           0,
           1,
           0,
           1,
           1,
           0,
           1,
           0,
           1,
           0,
           1,
           0,
           1,
           1,
           0,
           0,
           0,
           1,
           0,
           1,
           1,
           1,
           0,
           0,
           0,
           1,
           0,
           1,
           1,
           1,
           1,
           1,
           1,
           1,
           0,
           1,
           0,
           0,
           1,
           0,
           0,
           1,
           0,
           0,
           1,
           0,
           1,
           0,
           0,
           1,
           1,
           0,
           1,
           1,
           1,
           1,
           0,
           0,
           0,
           1,
           1,
           1,
           0,
           0,
           1,
           0,
           1,
           0,
           1,
           0,
           0,
           0,
           1,
           1,
           1,
           0,
           1,
           1,
           0,
           1,
           1,
           1,
           1,
           0,
           1,
           1,
           1,
           1,
           0,
           1,
           1,
           1,
           0,
           1,
           0,
           1,
           0,
           1,
           0,
           1,
           0,
           1,
           1,
           1,
           0,
           0,
           1,
           0,
           0,
           0,
           1,
           1,
           1,
           0,
           1,
           0,
           1,
           1,
           0,
           1,
           0,
           0,
           1,
           0,
           0,
           1,
           0,
           1,
           1,
           0,
           1,
           0,
           0,
           1,
           1,
           0,
           1,
           1,
           0,
           1,
           1,
           1,
           0,
           1,
           0,
           1,
           1,
           1,
           1,
           0,
           1,
           1,
           0,
           1,
           0,
           0,
           0,
           1,
           0,
           0,
           1,
           0,
           1,
           1,
           0,
           1,
           1,
           0,
           0,
           1,
           1,
           0,
           1,
           1,
           0,
           0,
           1,
           1,
           0,
           1,
           0,
           0,
           0,
           1,
           1,
           0,
           1,
           1,
           1,
           1,
           0,
           1,
           0,
           1,
           0,
           0,
           0,
           0,
           1,
           1,
           0,
           0,
           1,
           1,
           0,
           1,
           0,
           1,
           1,
           1,
           1,
           0,
           0,
           1,
           1,
           0,
           1,
           0,
           0,
           1,
           0,
           1,
           1,
           1,
           1,
           0,
           0,
           1,
           1,
           1,
           0,
           0,
           1,
           0,
           0,
           0,
           0,
           1,
           0,
           0,
           1,
           0,
           0,
           0,
           0,
           1,
           0,
           0,
           1,
           0,
           1,
           0,
           0,
           1,
           1,
           1,
           1,
           1,
           0,
           0,
           0,
           0,
           1,
           0,
           0,
           1,
           1,
           1,
           0,
           1,
           1,
           1,
           1,
           0,
           0,
           0,
           1,
           1,
           1,
           0,
           1,
           0,
           1,
           0,
           1,
           0,
           0,
           1,
           0,
           0,
           0,
           1,
           0,
           0,
           1,
           1,
           0,
           1,
           1,
           1,
           0,
           1,
           0,
           0,
           1,
           1,
           0,
           0,
           0,
           0,
           1,
           1,
           0,
           1,
           0,
           0,
           1,
           1,
           1,
           1,
           0,
           0,
           1,
           1,
           0,
           0,
           1,
           1,
           0,
           1,
           0,
           0,
           0,
           0,
           1,
           1,
           0,
           0,
           1,
           0,
           0,
           0,
           0,
           0,
           1,
           0,
           0,
           0,
           1,
           1,
           1,
           0,
           1,
           1,
           0,
           1,
           1,
           0,
           0,
           0,
           1,
           0,
           1,
           1,
           1,
           0,
           0,
           0,
           1,
           0,
           0,
           0,
           1,
           1,
           1,
           0,
           0,
           1,
           0,
           0,
           1,
           0,
           0,
           0,
           1,
           0,
           0,
           1,
           1,
           0,
           0,
           1,
           0,
           0,
           0,
           0,
           0,
           1,
           1,
           1,
           0,
           0,
           0,
           0,
           1,
           0,
           0,
           1,
           1,
           0,
           1,
           1,
           1,
           1,
           1,
           0,
           1,
           0,
           1,
           1,
           0,
           0,
           0,
           1,
           0,
           0,
           1
          ],
          "coloraxis": "coloraxis",
          "symbol": "circle"
         },
         "mode": "markers",
         "name": "",
         "orientation": "v",
         "showlegend": false,
         "type": "scatter",
         "x": [
          "D",
          "R",
          "D",
          "D",
          "D",
          "D",
          "R",
          "D",
          "D",
          "D",
          "D",
          "D",
          "R",
          "R",
          "R",
          "R",
          "R",
          "R",
          "D",
          "R",
          "R",
          "D",
          "D",
          "R",
          "D",
          "D",
          "D",
          "D",
          "R",
          "D",
          "D",
          "D",
          "D",
          "D",
          "D",
          "R",
          "R",
          "R",
          "D",
          "R",
          "D",
          "D",
          "D",
          "R",
          "D",
          "R",
          "R",
          "R",
          "R",
          "D",
          "D",
          "R",
          "D",
          "D",
          "R",
          "R",
          "D",
          "D",
          "D",
          "D",
          "D",
          "R",
          "D",
          "R",
          "D",
          "D",
          "D",
          "R",
          "D",
          "D",
          "D",
          "D",
          "D",
          "D",
          "D",
          "R",
          "D",
          "R",
          "R",
          "D",
          "R",
          "D",
          "R",
          "R",
          "R",
          "D",
          "D",
          "D",
          "D",
          "D",
          "D",
          "R",
          "R",
          "R",
          "R",
          "R",
          "R",
          "R",
          "R",
          "D",
          "D",
          "D",
          "D",
          "R",
          "R",
          "D",
          "R",
          "R",
          "R",
          "D",
          "R",
          "R",
          "D",
          "D",
          "R",
          "R",
          "D",
          "D",
          "D",
          "D",
          "D",
          "D",
          "R",
          "D",
          "D",
          "D",
          "D",
          "R",
          "D",
          "R",
          "R",
          "R",
          "D",
          "R",
          "D",
          "R",
          "D",
          "R",
          "R",
          "R",
          "D",
          "D",
          "D",
          "D",
          "R",
          "R",
          "D",
          "D",
          "R",
          "D",
          "D",
          "D",
          "R",
          "D",
          "D",
          "D",
          "R",
          "D",
          "R",
          "R",
          "D",
          "D",
          "R",
          "D",
          "R",
          "D",
          "R",
          "R",
          "R",
          "D",
          "R",
          "D",
          "D",
          "R",
          "D",
          "R",
          "D",
          "D",
          "D",
          "R",
          "R",
          "R",
          "D",
          "R",
          "R",
          "R",
          "D",
          "R",
          "D",
          "R",
          "D",
          "R",
          "R",
          "R",
          "D",
          "R",
          "D",
          "R",
          "D",
          "D",
          "D",
          "R",
          "R",
          "D",
          "R",
          "R",
          "R",
          "R",
          "D",
          "D",
          "R",
          "D",
          "D",
          "D",
          "R",
          "D",
          "D",
          "R",
          "R",
          "D",
          "D",
          "R",
          "D",
          "D",
          "R",
          "R",
          "D",
          "R",
          "D",
          "D",
          "R",
          "D",
          "D",
          "R",
          "R",
          "D",
          "D",
          "D",
          "R",
          "D",
          "R",
          "D",
          "R",
          "D",
          "R",
          "D",
          "R",
          "D",
          "R",
          "D",
          "D",
          "R",
          "D",
          "R",
          "D",
          "D",
          "D",
          "D",
          "R",
          "D",
          "D",
          "D",
          "R",
          "D",
          "D",
          "D",
          "R",
          "R",
          "R",
          "D",
          "R",
          "R",
          "D",
          "D",
          "D",
          "R",
          "D",
          "R",
          "D",
          "R",
          "D",
          "R",
          "R",
          "R",
          "D",
          "R",
          "R",
          "R",
          "D",
          "D",
          "R",
          "D",
          "D",
          "R",
          "R",
          "D",
          "R",
          "R",
          "R",
          "D",
          "D",
          "R",
          "D",
          "D",
          "R",
          "D",
          "D",
          "D",
          "D",
          "R",
          "D",
          "D",
          "D",
          "D",
          "D",
          "D",
          "D",
          "D",
          "D",
          "R",
          "D",
          "R",
          "D",
          "D",
          "D",
          "D",
          "R",
          "R",
          "D",
          "R",
          "D",
          "R",
          "R",
          "D",
          "D",
          "D",
          "D",
          "D",
          "D",
          "D",
          "R",
          "R",
          "D",
          "D",
          "R",
          "D",
          "R",
          "R",
          "R",
          "R",
          "R",
          "D",
          "R",
          "R",
          "D",
          "D",
          "R",
          "R",
          "D",
          "D",
          "R",
          "R",
          "R",
          "R",
          "R",
          "R",
          "R",
          "R",
          "R",
          "D",
          "R",
          "R",
          "R",
          "D",
          "D",
          "R",
          "R",
          "D",
          "D",
          "R",
          "R",
          "R",
          "R",
          "R",
          "D",
          "D",
          "R",
          "R",
          "D",
          "R",
          "R",
          "R",
          "D",
          "D",
          "R",
          "D",
          "R",
          "R",
          "D",
          "R",
          "R",
          "R",
          "R",
          "R",
          "D",
          "D",
          "D",
          "D",
          "D",
          "D",
          "R",
          "D",
          "D",
          "R",
          "D",
          "D",
          "R",
          "R",
          "R",
          "D",
          "D",
          "R",
          "D",
          "D",
          "D",
          "D",
          "R",
          "D",
          "D",
          "D",
          "R",
          "D",
          "R",
          "R",
          "D",
          "D",
          "D",
          "R",
          "R",
          "D",
          "R",
          "D",
          "D",
          "D",
          "D",
          "D",
          "D",
          "R",
          "D",
          "D",
          "R",
          "R",
          "R",
          "R",
          "R",
          "D",
          "D",
          "R",
          "R",
          "D",
          "D",
          "R",
          "R",
          "R",
          "D",
          "D",
          "R",
          "R",
          "D",
          "D",
          "R",
          "D",
          "R",
          "D",
          "R",
          "R",
          "D",
          "R",
          "D",
          "R",
          "R",
          "R",
          "D",
          "R",
          "D",
          "R",
          "R",
          "R",
          "D",
          "D",
          "D",
          "D",
          "R",
          "R",
          "D",
          "R",
          "R",
          "R",
          "R",
          "R",
          "R",
          "R",
          "D",
          "D",
          "D",
          "R",
          "D",
          "R",
          "R",
          "R",
          "D",
          "D",
          "R",
          "D",
          "D",
          "R",
          "D",
          "D",
          "R",
          "R",
          "R",
          "R",
          "R",
          "D",
          "D",
          "D",
          "R",
          "R",
          "D",
          "D",
          "D",
          "R",
          "R",
          "D",
          "D",
          "D",
          "R",
          "R",
          "D",
          "D",
          "R",
          "R",
          "D",
          "R",
          "D",
          "D",
          "R",
          "D",
          "R",
          "R",
          "D",
          "R",
          "D",
          "R",
          "D",
          "R",
          "D",
          "R",
          "D",
          "D",
          "D",
          "R",
          "R",
          "D",
          "R",
          "R",
          "R",
          "R",
          "D",
          "R",
          "R",
          "D",
          "D",
          "R",
          "R",
          "D",
          "D",
          "D",
          "R",
          "R",
          "R",
          "R",
          "R",
          "D",
          "R",
          "D",
          "D",
          "R",
          "R",
          "R",
          "D",
          "D",
          "D",
          "D",
          "D",
          "R",
          "D",
          "R",
          "D",
          "D",
          "D",
          "D",
          "D",
          "D",
          "R",
          "D",
          "R",
          "R",
          "R",
          "D",
          "R",
          "R",
          "R",
          "D",
          "D",
          "D",
          "R",
          "D",
          "R",
          "D",
          "R",
          "R",
          "D",
          "R",
          "D",
          "R",
          "D",
          "R",
          "D",
          "D",
          "R",
          "R",
          "D",
          "R",
          "D",
          "D",
          "D",
          "D",
          "R",
          "D",
          "R",
          "D",
          "R",
          "R",
          "R",
          "R",
          "D",
          "R",
          "D",
          "R",
          "R",
          "D",
          "R",
          "D",
          "D",
          "D",
          "D",
          "R",
          "D",
          "D",
          "R",
          "R",
          "D",
          "D",
          "D",
          "R",
          "D",
          "R",
          "D",
          "R",
          "D",
          "R",
          "D",
          "R",
          "D",
          "D",
          "D",
          "R",
          "R",
          "D",
          "R",
          "R",
          "D",
          "D",
          "D",
          "D",
          "R",
          "R",
          "R",
          "D",
          "R",
          "R",
          "D",
          "R",
          "R",
          "R",
          "R",
          "R",
          "D",
          "R",
          "D",
          "D",
          "R",
          "R",
          "R",
          "R",
          "D",
          "D",
          "R",
          "D",
          "R",
          "R",
          "D",
          "R",
          "D",
          "D",
          "D",
          "R",
          "D",
          "D",
          "D",
          "D",
          "R",
          "R",
          "D",
          "R",
          "D",
          "D",
          "R",
          "R",
          "R",
          "R",
          "D",
          "D",
          "R",
          "D",
          "D",
          "D",
          "D",
          "D",
          "R",
          "R",
          "D",
          "R",
          "R",
          "D",
          "D",
          "D",
          "R",
          "D",
          "R",
          "R",
          "D",
          "D",
          "R",
          "R",
          "D",
          "D",
          "D",
          "D",
          "R",
          "D",
          "D",
          "R",
          "D",
          "R",
          "R",
          "D",
          "D",
          "D",
          "R",
          "R",
          "R",
          "D",
          "R",
          "R",
          "D",
          "R",
          "D",
          "R",
          "D",
          "D",
          "R",
          "R",
          "D",
          "R",
          "R",
          "R",
          "D",
          "D",
          "D",
          "R",
          "D",
          "R",
          "D",
          "R",
          "D",
          "D",
          "D",
          "D",
          "D",
          "D",
          "D",
          "R",
          "R",
          "D",
          "R",
          "R",
          "R",
          "R",
          "D",
          "D",
          "R",
          "D",
          "R",
          "R",
          "R",
          "R",
          "R",
          "R",
          "R",
          "D",
          "R",
          "D",
          "D",
          "R",
          "D",
          "D",
          "D",
          "R",
          "R",
          "R",
          "R",
          "D",
          "R",
          "D",
          "D",
          "R",
          "R",
          "D",
          "D",
          "R",
          "D",
          "D",
          "D",
          "R",
          "R",
          "D",
          "R",
          "D",
          "R",
          "D",
          "R",
          "D",
          "D",
          "R",
          "R",
          "R",
          "R",
          "D",
          "D",
          "R",
          "R",
          "R",
          "D",
          "R",
          "D",
          "D",
          "R",
          "D",
          "D",
          "R",
          "D",
          "R",
          "D",
          "R",
          "R",
          "D",
          "D",
          "D",
          "R",
          "R",
          "R",
          "D",
          "R",
          "R",
          "R",
          "R",
          "R",
          "R",
          "D",
          "R",
          "R",
          "R",
          "R",
          "R",
          "R",
          "R",
          "R",
          "D",
          "R",
          "R",
          "D",
          "D",
          "R",
          "R",
          "D",
          "R",
          "D",
          "R",
          "D",
          "D",
          "R",
          "R",
          "R",
          "R",
          "D",
          "D",
          "R",
          "R",
          "R",
          "D",
          "R",
          "D",
          "R",
          "D",
          "R",
          "R",
          "R",
          "R",
          "R",
          "R",
          "R",
          "D",
          "D",
          "D",
          "R",
          "D",
          "R",
          "R",
          "D",
          "R",
          "R",
          "R",
          "R",
          "D",
          "R",
          "D",
          "R",
          "D",
          "D",
          "R",
          "R",
          "D",
          "R",
          "R",
          "R",
          "D",
          "R",
          "R",
          "D",
          "D",
          "R",
          "R",
          "D",
          "D",
          "R",
          "R",
          "R",
          "R",
          "D",
          "D",
          "D",
          "R",
          "D",
          "D",
          "R",
          "R",
          "D",
          "R",
          "D",
          "R",
          "R",
          "D",
          "D",
          "D",
          "D",
          "D",
          "R",
          "D",
          "D",
          "D",
          "R",
          "R",
          "D",
          "R",
          "D",
          "R",
          "D",
          "D"
         ],
         "xaxis": "x",
         "y": [
          0.5119188138779858,
          0.6623686306833296,
          0.4745425527612584,
          0.4220614965248286,
          0.5727336631798084,
          0.5514386659007844,
          0.537526311836542,
          0.2835796003381678,
          0.5105758732194225,
          0.3997693082575409,
          0.5194787443172677,
          0.48834553699976074,
          0.4928547881888194,
          0.5203027373747211,
          0.47545438593866746,
          0.7439044459760588,
          0.3733165634855324,
          0.5170575394293596,
          0.5116078415722148,
          0.558742108396798,
          0.5208584807246146,
          0.33423147633533834,
          0.4916371923226556,
          0.542739125270215,
          0.44146047415446577,
          0.5821330706031393,
          0.4957043728105395,
          0.5949920572255731,
          0.5756156275644095,
          0.506803658701393,
          0.5617723841911584,
          0.3933600841634874,
          0.2879463500031304,
          0.29760785787444966,
          0.44034101576634394,
          0.9372420864763064,
          0.7314046396795147,
          0.5568735261420412,
          0.29917389292994423,
          0.6815578713760256,
          0.4636457399748912,
          0.3039241438831512,
          0.17538904456259288,
          0.397286224664515,
          0.23220292127286665,
          0.6521901314382773,
          0.5133809634206444,
          0.5118372207358659,
          0.6413536532532027,
          0.48155852681005895,
          0.2874469308241787,
          0.5046584537057519,
          0.398636035616706,
          0.41403427711591706,
          0.5459849083447984,
          0.39120030856086874,
          0.4204722980810265,
          0.40923274878303545,
          0.5250911928310721,
          0.5338025485416692,
          0.27641125125225724,
          0.5076959122251427,
          0.465680487995495,
          0.6372384725180608,
          0.4892767403932763,
          0.3644501869627714,
          0.43481331601618933,
          0.5140986031154798,
          0.442575236289444,
          0.3162101407198451,
          0.36318102269882263,
          0.547757701575049,
          0.3468192833349785,
          0.5030907562276902,
          0.37081051097657075,
          0.48028292419838226,
          0.13078334243420434,
          0.697193644189229,
          0.6524172915273873,
          0.5509142995280176,
          0.581345942371964,
          0.5339474635193799,
          0.5116728820434476,
          0.6943725341202934,
          0.5745300566395508,
          0.4271887066813656,
          0.31939328996083627,
          0.5710120273827173,
          0.3627592351838411,
          0.47298297175055487,
          0.6070155481161619,
          0.5271267550241336,
          0.5709043809631961,
          0.534883449053001,
          0.40445025506997273,
          0.5216376720887822,
          0.44289546314254163,
          0.44680527695929956,
          0.4982273840052527,
          0.5064410823370138,
          0.462435054704829,
          0.44698104220988494,
          0.351395353550138,
          0.43508378556539146,
          0.7583140371195469,
          0.5574596244909563,
          0.5752054205501393,
          0.5021594115999257,
          0.7429462894185797,
          0.33488083976372557,
          0.7297267022162487,
          0.683145927863939,
          0.6214727292637332,
          0.5217128863852377,
          0.5367313730771418,
          0.5250998818103743,
          0.3950118699051387,
          0.48309872947746113,
          0.5193744447715216,
          0.42138692688861434,
          0.275448749320462,
          0.2677467685869381,
          0.5932898975914138,
          0.39574764478072144,
          0.38110473062708905,
          0.47440679046423145,
          0.15702829166298363,
          0.4867457698429948,
          0.5033084833697774,
          0.5802208462129491,
          0.6300053653528345,
          0.4930777817632761,
          0.4380856273104959,
          0.7478070172379938,
          0.4340206473304158,
          0.5221104881157125,
          0.4891652992879517,
          0.5158589337792987,
          0.6144547488316248,
          0.7497253104061761,
          0.16542725312815576,
          0.42385791444072635,
          0.4009838695040957,
          0.36416350563721966,
          0.6143985968832346,
          0.5528101600144566,
          0.3912229915326806,
          0.10290171729555979,
          0.8094679925519457,
          0.4522764169524994,
          0.2736971987125228,
          0.3336152989132354,
          0.5973702789662833,
          0.4938286055209433,
          0.4692619251562658,
          0.40890983300478645,
          0.6318058087407256,
          0.31484095203732504,
          0.7167339401472316,
          0.5154806691085694,
          0.4473185851159728,
          0.49021734813281925,
          0.6659565986948938,
          0.445134448586031,
          0.5245496272335284,
          0.4960755526371986,
          0.5628863064712057,
          0.5026422767099322,
          0.6385122865260325,
          0.3574385002123574,
          0.4642107050633334,
          0.16000376767316854,
          0.4509240057251548,
          0.668339172107035,
          0.3168984387406235,
          0.4179432404015746,
          0.4822711274167057,
          0.4702093343669806,
          0.5360342897972619,
          0.43747326815799314,
          0.6081848782888477,
          0.6506528110447273,
          0.45439036597473575,
          0.6522297043111667,
          0.5185217584070084,
          0.5473536037595161,
          0.31440425442839964,
          0.6456682009050951,
          0.4324210755536739,
          0.5852028629646879,
          0.3863486201120357,
          0.6485512934396117,
          0.5865174765701882,
          0.47293061466623537,
          0.3743742569804382,
          0.699569119356555,
          0.37001151826142,
          0.5611599922206248,
          0.42125636486310364,
          0.31120756152657014,
          0.37285943560183926,
          0.7231474422575257,
          0.495498057337339,
          0.25973176878463244,
          0.6187552822259336,
          0.5245721266867872,
          0.5570528864858653,
          0.7044734006338789,
          0.5559595151370831,
          0.40320547326809636,
          0.3715336998778588,
          0.5403600876598578,
          0.6262044637837466,
          0.4751616689914613,
          0.5031323477545239,
          0.46032734003300724,
          0.5191347982712602,
          0.6053025414018613,
          0.6111452945047335,
          0.4119003469495846,
          0.47907270717939565,
          0.5827705229767531,
          0.3019063084228866,
          0.5163421481151355,
          0.787725798344985,
          0.8125190211225191,
          0.3631662827957563,
          0.7973072972381487,
          0.473799413390587,
          0.3178564631564394,
          0.6401865127187671,
          0.550710417353326,
          0.09960766771254721,
          0.6194311045314305,
          0.5886244039686059,
          0.34211204151114044,
          0.6226940632892578,
          0.4611718875295721,
          0.6539983720134137,
          0.5299764065986495,
          0.5300220453587807,
          0.5787035877768901,
          0.4751900850740176,
          0.536623169060916,
          0.6105709246369724,
          0.45444865432342824,
          0.4951713463773592,
          0.46722918111960815,
          0.4479232700281465,
          0.34809552092833435,
          0.38605853838184423,
          0.6629077873075898,
          0.3391136672715783,
          0.5196794058247747,
          0.4134327207506594,
          0.6276918023520016,
          0.22515091543112106,
          0.4788628276696967,
          0.5038051327994445,
          0.26758245727051577,
          0.23452517084215954,
          0.20323740845491955,
          0.49631817949236784,
          0.3792827550420169,
          0.32913914962698687,
          0.46014200567970087,
          0.42943429881728623,
          0.6922439743070253,
          0.4733637690559696,
          0.4055789527467538,
          0.7134669955812182,
          0.5592516585059516,
          0.6301672412449539,
          0.4253701611981835,
          0.5341274468592224,
          0.36913531263556904,
          0.2884217833401202,
          0.6058475742152001,
          0.35782451968157925,
          0.7293165274893337,
          0.4576145681416912,
          0.6299943094566212,
          0.5643811777246791,
          0.6302658767760425,
          0.4341211659975377,
          0.49495364378484585,
          0.7286729400372587,
          0.460405919428568,
          0.5172130375057811,
          0.329303468126276,
          0.5292913743175608,
          0.32116751223846396,
          0.38100631725366646,
          0.5605323359339184,
          0.5748836191201254,
          0.5565672669365933,
          0.6501368208225025,
          0.5400066893170434,
          0.4553640726796972,
          0.5222339988275417,
          0.2782727918364694,
          0.7962498821444778,
          0.5032950893659316,
          0.4510923313588813,
          0.7797824700483076,
          0.4856175663275842,
          0.644679026037553,
          0.5205825858628574,
          0.5010255693376104,
          0.5592980518513917,
          0.3154239370496193,
          0.24537582852327122,
          0.45106823811471763,
          0.16647067796710868,
          0.4379249560331028,
          0.4889097550313706,
          0.34528126708457624,
          0.41468738728513016,
          0.28217201208077675,
          0.5535107838401501,
          0.34950878561301346,
          0.5148141126098476,
          0.4021865223040417,
          0.5145036748457723,
          0.4470804639728644,
          0.2553751759217731,
          0.6826720855899192,
          0.4764563259887096,
          0.39850806377752257,
          0.5043409904487869,
          0.5171576507039994,
          0.5497590968248388,
          0.48007607244906914,
          0.38176194896001703,
          0.4949294871923777,
          0.4928458328282702,
          0.444302986502661,
          0.479593732327816,
          0.3730969091972867,
          0.4408060893746696,
          0.42898336854785296,
          0.5755225439397463,
          0.3867287296310282,
          0.581800299402022,
          0.3492220134115821,
          0.42981598840862173,
          0.6280192803629561,
          0.5432009714858778,
          0.26908746231091946,
          0.3941958148431161,
          0.7938380057329196,
          0.3468278724170136,
          0.6953285270257238,
          0.4778366957740428,
          0.4997465998862482,
          0.5255181698706508,
          0.7510848571995579,
          0.717386650692257,
          0.38311678015828965,
          0.3141807531594188,
          0.49945913293165073,
          0.3522394990649505,
          0.473947554626769,
          0.5029139459913009,
          0.5803891850563554,
          0.6017111026433886,
          0.6676620978354256,
          0.46850461490215045,
          0.5268631194503013,
          0.32067638206105853,
          0.5080647488606692,
          0.5046278545499919,
          0.40599317445386435,
          0.4507674883221325,
          0.4223287533050698,
          0.4896501986085069,
          0.6566086692733227,
          0.3828013010473159,
          0.3462789056065264,
          0.5202860987332634,
          0.5846132746410008,
          0.518229305433374,
          0.7890358266576042,
          0.5791570844895376,
          0.5036820334735476,
          0.4231515268804989,
          0.8308525859410527,
          0.5239401531397989,
          0.3973305093597123,
          0.9187460882618502,
          0.6006457111540514,
          0.4741077534433929,
          0.5159004718284771,
          0.5337985336862783,
          0.49031667441114307,
          0.41371380414011216,
          0.6919241810143408,
          0.649396012700672,
          0.43264268346981477,
          0.4435885662815746,
          0.599460518668068,
          0.6546485354894664,
          0.5411241761130638,
          0.6222522191046933,
          0.48285126998405425,
          0.520103675537514,
          0.4098480624214066,
          0.5843075927342326,
          0.5313513971491526,
          0.29714561965080727,
          0.5486271678056835,
          0.23661618169583434,
          0.5905767571048752,
          0.7468422204634754,
          0.42272690250703493,
          0.5895064227780208,
          0.7448737731147841,
          0.800533816864322,
          0.48866237517885086,
          0.24127702731772033,
          0.2807707372501402,
          0.5501445095959179,
          0.5190999787409876,
          0.4248950824761689,
          0.4613564995139111,
          0.2539905498733284,
          0.5653829398210671,
          0.39595708559688164,
          0.5842613546693801,
          0.3557557868146414,
          0.6043281123940878,
          0.39101335866002984,
          0.41405666224280685,
          0.7215587545324212,
          0.5267666555808292,
          0.43652590149136694,
          0.3441463220752516,
          0.48982636495514587,
          0.6482481978886924,
          0.255701406363597,
          0.3621782005702353,
          0.46831941490268936,
          0.521802396297853,
          0.48808603621247704,
          0.49725749664808816,
          0.4684500721047542,
          0.4856371105336302,
          0.7860644817600281,
          0.5609574550615748,
          0.5079437286888329,
          0.5305465626503894,
          0.5913106609344618,
          0.4907162866658431,
          0.8200840677250796,
          0.6508597498540399,
          0.3460196560901877,
          0.37434711219955896,
          0.3749852224734156,
          0.4676562197489559,
          0.38176856165329087,
          0.41368375669828944,
          0.4948774238745008,
          0.6903969635010344,
          0.5267010884017364,
          0.4554385992317883,
          0.3378257747942971,
          0.748142524739922,
          0.5951428236509871,
          0.2571832450776443,
          0.41721607964073826,
          0.5628525776819919,
          0.35449356991982167,
          0.4752042955719538,
          0.1717734641842781,
          0.4213615745345325,
          0.4651333868619202,
          0.24745800894043055,
          0.52370547396741,
          0.38676729259098297,
          0.5415627190611186,
          0.536620681293045,
          0.4215990371247532,
          0.31215619121195154,
          0.6417887889725444,
          0.47905623779414996,
          0.5459691658881145,
          0.36619136001514446,
          0.4449811125584585,
          0.571974056669711,
          0.5765275897576368,
          0.6220503673336665,
          0.4757310718118677,
          0.5216800897914589,
          0.6244340316436938,
          0.41668843447556636,
          0.37629029199460357,
          0.49235605466027255,
          0.41460398801659637,
          0.47111563193458245,
          0.6269675143573116,
          0.6825300856294466,
          0.6506578648332519,
          0.3505307536762576,
          0.43514736079817196,
          0.5955190774764914,
          0.5664376050558182,
          0.40008650444816923,
          0.35359253032497273,
          0.6531805366949577,
          0.4405327914393983,
          0.24613065008819154,
          0.5339042214488787,
          0.6490302076250363,
          0.4389689758166163,
          0.2022339592901585,
          0.6379035430486536,
          0.4393085846090489,
          0.3588152739347616,
          0.38205767649740086,
          0.5453236520676111,
          0.6161813703599391,
          0.607353453516695,
          0.6000651723383341,
          0.5531917394654862,
          0.32402635507210775,
          0.480382732621625,
          0.5079818142960131,
          0.837961714726383,
          0.6015601251838955,
          0.49937543282321734,
          0.48920718968599486,
          0.5494009185659968,
          0.5784304388299923,
          0.26747004646951145,
          0.5048087753286676,
          0.5736633907785025,
          0.5836008964174472,
          0.4585092301640445,
          0.37713285695574267,
          0.501566699864721,
          0.6516641447397234,
          0.7067536957391654,
          0.5293012560663426,
          0.6056906932808135,
          0.5388902271632788,
          0.46602428780784766,
          0.501820281661641,
          0.21067446325282363,
          0.5641512599180568,
          0.7016110160919939,
          0.26365899874044924,
          0.4515773033745708,
          0.3728909112788881,
          0.3083580109352677,
          0.34608926555877884,
          0.6311173572768363,
          0.30442816302571885,
          0.6308587385358465,
          0.5856609954328392,
          0.5047184217698184,
          0.437001260067501,
          0.47992446195400396,
          0.7262068438429607,
          0.2677091050605805,
          0.48277981988984947,
          0.6251287976736442,
          0.7431768451734243,
          0.30537481957815793,
          0.47753789412535014,
          0.6447045605504929,
          0.6660450638714576,
          0.6666872963426523,
          0.4534604231384228,
          0.5988585464733706,
          0.46194542980708325,
          0.5332445916634481,
          0.4572727290839906,
          0.3152115515401086,
          0.7676812164290532,
          0.4473215091110618,
          0.5729614886918788,
          0.49711657589480307,
          0.7394781030719703,
          0.44445658111740244,
          0.6128848661252027,
          0.19016971840940572,
          0.1878463515069172,
          0.7644884042629172,
          0.615835278994346,
          0.556495910243111,
          0.4109891552237608,
          0.5059435401949849,
          0.27581159627457486,
          0.38923728930978685,
          0.49894270391482526,
          0.7085513746008554,
          0.6238669484403341,
          0.559789222575552,
          0.4601158161379659,
          0.629331320213636,
          0.486376677477078,
          0.40159962388229203,
          0.32304894427827807,
          0.2932773921635421,
          0.3925561015189253,
          0.42453111963487467,
          0.46295924611891365,
          0.6201878246835322,
          0.47567683221817914,
          0.5049926467796748,
          0.589806847784779,
          0.4578767231574865,
          0.5427027475582169,
          0.5047643603415404,
          0.20548418208365976,
          0.5307421555664894,
          0.5138403851489886,
          0.3749376563700791,
          0.5645596364223037,
          0.4450699772778849,
          0.6544094533973518,
          0.7317375094392315,
          0.4882455093787763,
          0.4235398886040001,
          0.5503662159787659,
          0.4946655090025983,
          0.19561111407743248,
          0.46132986998547953,
          0.4792730796709331,
          0.5018594847810678,
          0.5071024133914533,
          0.644215823557614,
          0.3417190713574138,
          0.13411941869298336,
          0.40342604585537845,
          0.6581205030951758,
          0.5049817487508371,
          0.4742754973448891,
          0.6856873806355431,
          0.4285338090562591,
          0.5692509942895334,
          0.432719682940289,
          0.5419563341090636,
          0.5060416800397267,
          0.7343666114043804,
          0.47918858907136,
          0.43122444072440164,
          0.41666066570881505,
          0.5795349704721853,
          0.47526593082783497,
          0.4953931992387105,
          0.5196632568920521,
          0.4828055031117871,
          0.37572360854685705,
          0.27428713283574035,
          0.44476367626178126,
          0.6024252958647248,
          0.3166374347855071,
          0.4924463372640131,
          0.49543099426244946,
          0.49296047296243534,
          0.541947948869224,
          0.41721111540419603,
          0.3017001320337179,
          0.4639027223777282,
          0.7597663514553294,
          0.11777159642304527,
          0.5540596514147693,
          0.45586985130777335,
          0.532699741458334,
          0.3804094187267961,
          0.6305899664999807,
          0.4176735599188686,
          0.5446187102502189,
          0.29250247457822265,
          0.1959626250497452,
          0.3516246918781597,
          0.6818418960763776,
          0.564745457540174,
          0.2587697869114866,
          0.6729694614387289,
          0.6111374667947317,
          0.5257419447814854,
          0.2805941156737464,
          0.24155516386693673,
          0.42949317776725937,
          0.5764715677745957,
          0.4632087376496868,
          0.6796108058362854,
          0.3974967535916708,
          0.4884132519212433,
          0.5820081515016294,
          0.25710454988349635,
          0.5110233047963056,
          0.633267840461581,
          0.39022426752685485,
          0.7112559361156627,
          0.7117610791435169,
          0.41713082824719827,
          0.5067396602678919,
          0.4909759408327949,
          0.420448327744072,
          0.7004988298484859,
          0.48115718439574723,
          0.6315041443835337,
          0.6114624733631092,
          0.2959749971072036,
          0.47220887893196806,
          0.5663357229134048,
          0.3829435094197061,
          0.48957016196509257,
          0.5741252882357258,
          0.40354101780404605,
          0.3913414737331986,
          0.3445561167361631,
          0.6085139436095425,
          0.3982283641729048,
          0.5924558586414729,
          0.4114589944402328,
          0.4848194884846091,
          0.3708925942623631,
          0.42407033959286883,
          0.657273032173261,
          0.44569865148323795,
          0.1632920402509134,
          0.5342036445013049,
          0.4607951715291164,
          0.5542659654602524,
          0.6235068223194171,
          0.6118033052260435,
          0.47533783475518504,
          0.5891185171920644,
          0.6287633594821193,
          0.3401448585179901,
          0.6752993316663098,
          0.3833109195653389,
          0.4400028741726041,
          0.6224135247825549,
          0.49474368135117736,
          0.3722875885986001,
          0.5460827188405423,
          0.6850666441579578,
          0.34098243716778226,
          0.42508618568416773,
          0.8000808874547911,
          0.4484439555462209,
          0.45475838481563075,
          0.5079403658850041,
          0.5567263454256993,
          0.4806126632044722,
          0.4923656124720159,
          0.6841200342148829,
          0.3832411892872935,
          0.5521356816616196,
          0.6281461106590016,
          0.7006745683854066,
          0.25566546262965983,
          0.47001484950535666,
          0.5686825473051652,
          0.44128495672820967,
          0.2677996490850443,
          0.44259171548390863,
          0.08854523252723093,
          0.5080014044888372,
          0.39416892167400264,
          0.5991786555574309,
          0.4940269571639846,
          0.5634566460673807,
          0.5664278555337874,
          0.507530120449503,
          0.5034268407060766,
          0.397923527775909,
          0.4881583952610709,
          0.5222946640813895,
          0.6094858527701366,
          0.45047981486002914,
          0.37092724681186634,
          0.6205982529603804,
          0.29583791570862866,
          0.7220997580936186,
          0.336233267887422,
          0.2882361508569492,
          0.4918838634842716,
          0.49458233549927477,
          0.6027521851857798,
          0.6370873185808553,
          0.3396927825027954,
          0.43190967639636346,
          0.5193915129318123,
          0.4498626816062731,
          0.5551542712045279,
          0.6214414157025084,
          0.31603094476950166,
          0.8167191869889622,
          0.4991227584167733,
          0.48415512653955867,
          0.45045527336034935,
          0.4637527934104688,
          0.6055638435979712,
          0.6404660175198005,
          0.4101547633064798,
          0.3798856516375987,
          0.44216301426808113,
          0.8643988264322415,
          0.6379110675790234,
          0.4814279491474835,
          0.6812869411713377,
          0.7422928982127642,
          0.5729312695036165,
          0.6154881001800628,
          0.4760260467848073,
          0.6825674626436455,
          0.7121204150384888,
          0.4396239709292758,
          0.6729521640437902,
          0.5956136002907855,
          0.5414525792335833,
          0.510435106895982,
          0.3479240130996508,
          0.5204747149851424,
          0.5614701708791927,
          0.36700758147695356,
          0.5272680145064608,
          0.289976306602752,
          0.5793268497770276,
          0.6527510794594079,
          0.3568420115533486,
          0.27357376671515604,
          0.48023332761307436,
          0.4707932323582278,
          0.4925136825241349,
          0.6250850693080334,
          0.6689702725546965,
          0.5542009101975327,
          0.6937977059785544,
          0.40919176555246284,
          0.6344058756590409,
          0.5517924846676013,
          0.3110944740895144,
          0.3568644519362871,
          0.45279414170937565,
          0.549655813388492,
          0.2256014836099214,
          0.24584904887874304,
          0.36148259716002085,
          0.4799174152761557,
          0.7141537944831088,
          0.5147289550260904,
          0.5656370754471584,
          0.3360983543624761,
          0.38785889578815075,
          0.49299779936655164,
          0.5056144320391451,
          0.429132751658385,
          0.5189998358962656,
          0.4585267798083746,
          0.6113376754738612,
          0.4800580720322806,
          0.6744194535744681,
          0.5521353736242585,
          0.29646223714138953,
          0.6367536837571809,
          0.5917282035384483,
          0.631753839735142,
          0.4830724814661635,
          0.7413834161852421,
          0.6205936600451996,
          0.2832477205264391,
          0.49569575082185335,
          0.5285383413184327,
          0.4258467421599446,
          0.4501552369017158,
          0.4037424241967976,
          0.5431572282351291,
          0.3752786290698985,
          0.51865008955131,
          0.5228585798952526,
          0.33407416713862986,
          0.4969574100969842,
          0.513057188609441,
          0.657380843475899,
          0.5548435415696463,
          0.6426378717432519,
          0.3231380311997907,
          0.49454593987158496,
          0.6831265330436425,
          0.4351127179210826,
          0.7019249222718187,
          0.618105669746366,
          0.41673079535096785,
          0.4200824669545603,
          0.4996830938199972,
          0.4860356054176601,
          0.631336296055099,
          0.5283784215334718,
          0.4763976678553407,
          0.45001090877867317,
          0.6654238414734152,
          0.5830189719128176,
          0.4582794540070825,
          0.48833262062611205,
          0.6460904745730754,
          0.4124046777891331,
          0.5246089669813362,
          0.5938044209518499,
          0.8331201150286978,
          0.518831637582604,
          0.47016325862015,
          0.22601928453852174,
          0.501160039009148,
          0.5799431556295345,
          0.4369286554312996,
          0.7526009868854582,
          0.656820981949892,
          0.6436035733643594,
          0.7530049106026083,
          0.5349689397102604,
          0.4685321497535061,
          0.7749450545882984,
          0.5820033780078315,
          0.714724464891632,
          0.41533384293421366,
          0.42111168812724586,
          0.4233771879978549,
          0.5259277046068777,
          0.44536694859914144,
          0.3849450329735139,
          0.6369438499803672,
          0.39906827304042963,
          0.4897986899291303,
          0.5934901397612792,
          0.5237973955235602,
          0.511719783037596,
          0.3824923134333696,
          0.5505970026301117,
          0.32707302046971853,
          0.48546526842661925,
          0.4075674796342884,
          0.738465810594895,
          0.6055472650262452,
          0.5556354385643945,
          0.4772707107031494,
          0.5348333118748057,
          0.5998196852964092,
          0.5458303359285104,
          0.3353363768847212,
          0.3940178513977869,
          0.37359477271537733,
          0.6527436512334334,
          0.5053069154859027,
          0.3019215176014457,
          0.5380454782826279,
          0.6502118155790537,
          0.29761996691226206,
          0.7009975827209515,
          0.6208072185300576,
          0.6263280343083221,
          0.3349520608257788,
          0.5398893692244906,
          0.559241270894245,
          0.4873185841759193,
          0.32393369613489365,
          0.6571609143347359,
          0.6276952975197769,
          0.36295124356567393,
          0.5367536590600598,
          0.7093392195877851,
          0.5451684508534154,
          0.5162822846296803,
          0.5566068450582017,
          0.4611660789639391,
          0.3917670193600333,
          0.3575925669821334,
          0.5398824268236521,
          0.5371241891925748,
          0.6006165917100162,
          0.5639368487625848,
          0.47687203497361746,
          0.6041074916913182,
          0.6335748358483994,
          0.19512402485543706,
          0.23957632264318834,
          0.5185620750750735,
          0.1743132492687816,
          0.3003817691577392,
          0.36813706875653945,
          0.4301564371626584,
          0.3766200183069203,
          0.8809435820883257,
          0.21889750308742772,
          0.5472878664346675,
          0.3889893725174466,
          0.4462411254013101,
          0.9572384300827952,
          0.5957114963490904,
          0.5797172911020156,
          0.19482528764222468,
          0.684747420668159,
          0.5548052855678038,
          0.38085283189214725
         ],
         "yaxis": "y"
        }
       ],
       "layout": {
        "coloraxis": {
         "colorbar": {
          "title": {
           "text": "rounded_pred"
          }
         },
         "colorscale": [
          [
           0,
           "#0d0887"
          ],
          [
           0.1111111111111111,
           "#46039f"
          ],
          [
           0.2222222222222222,
           "#7201a8"
          ],
          [
           0.3333333333333333,
           "#9c179e"
          ],
          [
           0.4444444444444444,
           "#bd3786"
          ],
          [
           0.5555555555555556,
           "#d8576b"
          ],
          [
           0.6666666666666666,
           "#ed7953"
          ],
          [
           0.7777777777777778,
           "#fb9f3a"
          ],
          [
           0.8888888888888888,
           "#fdca26"
          ],
          [
           1,
           "#f0f921"
          ]
         ]
        },
        "legend": {
         "tracegroupgap": 0
        },
        "margin": {
         "t": 60
        },
        "template": {
         "data": {
          "bar": [
           {
            "error_x": {
             "color": "#2a3f5f"
            },
            "error_y": {
             "color": "#2a3f5f"
            },
            "marker": {
             "line": {
              "color": "#E5ECF6",
              "width": 0.5
             },
             "pattern": {
              "fillmode": "overlay",
              "size": 10,
              "solidity": 0.2
             }
            },
            "type": "bar"
           }
          ],
          "barpolar": [
           {
            "marker": {
             "line": {
              "color": "#E5ECF6",
              "width": 0.5
             },
             "pattern": {
              "fillmode": "overlay",
              "size": 10,
              "solidity": 0.2
             }
            },
            "type": "barpolar"
           }
          ],
          "carpet": [
           {
            "aaxis": {
             "endlinecolor": "#2a3f5f",
             "gridcolor": "white",
             "linecolor": "white",
             "minorgridcolor": "white",
             "startlinecolor": "#2a3f5f"
            },
            "baxis": {
             "endlinecolor": "#2a3f5f",
             "gridcolor": "white",
             "linecolor": "white",
             "minorgridcolor": "white",
             "startlinecolor": "#2a3f5f"
            },
            "type": "carpet"
           }
          ],
          "choropleth": [
           {
            "colorbar": {
             "outlinewidth": 0,
             "ticks": ""
            },
            "type": "choropleth"
           }
          ],
          "contour": [
           {
            "colorbar": {
             "outlinewidth": 0,
             "ticks": ""
            },
            "colorscale": [
             [
              0,
              "#0d0887"
             ],
             [
              0.1111111111111111,
              "#46039f"
             ],
             [
              0.2222222222222222,
              "#7201a8"
             ],
             [
              0.3333333333333333,
              "#9c179e"
             ],
             [
              0.4444444444444444,
              "#bd3786"
             ],
             [
              0.5555555555555556,
              "#d8576b"
             ],
             [
              0.6666666666666666,
              "#ed7953"
             ],
             [
              0.7777777777777778,
              "#fb9f3a"
             ],
             [
              0.8888888888888888,
              "#fdca26"
             ],
             [
              1,
              "#f0f921"
             ]
            ],
            "type": "contour"
           }
          ],
          "contourcarpet": [
           {
            "colorbar": {
             "outlinewidth": 0,
             "ticks": ""
            },
            "type": "contourcarpet"
           }
          ],
          "heatmap": [
           {
            "colorbar": {
             "outlinewidth": 0,
             "ticks": ""
            },
            "colorscale": [
             [
              0,
              "#0d0887"
             ],
             [
              0.1111111111111111,
              "#46039f"
             ],
             [
              0.2222222222222222,
              "#7201a8"
             ],
             [
              0.3333333333333333,
              "#9c179e"
             ],
             [
              0.4444444444444444,
              "#bd3786"
             ],
             [
              0.5555555555555556,
              "#d8576b"
             ],
             [
              0.6666666666666666,
              "#ed7953"
             ],
             [
              0.7777777777777778,
              "#fb9f3a"
             ],
             [
              0.8888888888888888,
              "#fdca26"
             ],
             [
              1,
              "#f0f921"
             ]
            ],
            "type": "heatmap"
           }
          ],
          "heatmapgl": [
           {
            "colorbar": {
             "outlinewidth": 0,
             "ticks": ""
            },
            "colorscale": [
             [
              0,
              "#0d0887"
             ],
             [
              0.1111111111111111,
              "#46039f"
             ],
             [
              0.2222222222222222,
              "#7201a8"
             ],
             [
              0.3333333333333333,
              "#9c179e"
             ],
             [
              0.4444444444444444,
              "#bd3786"
             ],
             [
              0.5555555555555556,
              "#d8576b"
             ],
             [
              0.6666666666666666,
              "#ed7953"
             ],
             [
              0.7777777777777778,
              "#fb9f3a"
             ],
             [
              0.8888888888888888,
              "#fdca26"
             ],
             [
              1,
              "#f0f921"
             ]
            ],
            "type": "heatmapgl"
           }
          ],
          "histogram": [
           {
            "marker": {
             "pattern": {
              "fillmode": "overlay",
              "size": 10,
              "solidity": 0.2
             }
            },
            "type": "histogram"
           }
          ],
          "histogram2d": [
           {
            "colorbar": {
             "outlinewidth": 0,
             "ticks": ""
            },
            "colorscale": [
             [
              0,
              "#0d0887"
             ],
             [
              0.1111111111111111,
              "#46039f"
             ],
             [
              0.2222222222222222,
              "#7201a8"
             ],
             [
              0.3333333333333333,
              "#9c179e"
             ],
             [
              0.4444444444444444,
              "#bd3786"
             ],
             [
              0.5555555555555556,
              "#d8576b"
             ],
             [
              0.6666666666666666,
              "#ed7953"
             ],
             [
              0.7777777777777778,
              "#fb9f3a"
             ],
             [
              0.8888888888888888,
              "#fdca26"
             ],
             [
              1,
              "#f0f921"
             ]
            ],
            "type": "histogram2d"
           }
          ],
          "histogram2dcontour": [
           {
            "colorbar": {
             "outlinewidth": 0,
             "ticks": ""
            },
            "colorscale": [
             [
              0,
              "#0d0887"
             ],
             [
              0.1111111111111111,
              "#46039f"
             ],
             [
              0.2222222222222222,
              "#7201a8"
             ],
             [
              0.3333333333333333,
              "#9c179e"
             ],
             [
              0.4444444444444444,
              "#bd3786"
             ],
             [
              0.5555555555555556,
              "#d8576b"
             ],
             [
              0.6666666666666666,
              "#ed7953"
             ],
             [
              0.7777777777777778,
              "#fb9f3a"
             ],
             [
              0.8888888888888888,
              "#fdca26"
             ],
             [
              1,
              "#f0f921"
             ]
            ],
            "type": "histogram2dcontour"
           }
          ],
          "mesh3d": [
           {
            "colorbar": {
             "outlinewidth": 0,
             "ticks": ""
            },
            "type": "mesh3d"
           }
          ],
          "parcoords": [
           {
            "line": {
             "colorbar": {
              "outlinewidth": 0,
              "ticks": ""
             }
            },
            "type": "parcoords"
           }
          ],
          "pie": [
           {
            "automargin": true,
            "type": "pie"
           }
          ],
          "scatter": [
           {
            "marker": {
             "colorbar": {
              "outlinewidth": 0,
              "ticks": ""
             }
            },
            "type": "scatter"
           }
          ],
          "scatter3d": [
           {
            "line": {
             "colorbar": {
              "outlinewidth": 0,
              "ticks": ""
             }
            },
            "marker": {
             "colorbar": {
              "outlinewidth": 0,
              "ticks": ""
             }
            },
            "type": "scatter3d"
           }
          ],
          "scattercarpet": [
           {
            "marker": {
             "colorbar": {
              "outlinewidth": 0,
              "ticks": ""
             }
            },
            "type": "scattercarpet"
           }
          ],
          "scattergeo": [
           {
            "marker": {
             "colorbar": {
              "outlinewidth": 0,
              "ticks": ""
             }
            },
            "type": "scattergeo"
           }
          ],
          "scattergl": [
           {
            "marker": {
             "colorbar": {
              "outlinewidth": 0,
              "ticks": ""
             }
            },
            "type": "scattergl"
           }
          ],
          "scattermapbox": [
           {
            "marker": {
             "colorbar": {
              "outlinewidth": 0,
              "ticks": ""
             }
            },
            "type": "scattermapbox"
           }
          ],
          "scatterpolar": [
           {
            "marker": {
             "colorbar": {
              "outlinewidth": 0,
              "ticks": ""
             }
            },
            "type": "scatterpolar"
           }
          ],
          "scatterpolargl": [
           {
            "marker": {
             "colorbar": {
              "outlinewidth": 0,
              "ticks": ""
             }
            },
            "type": "scatterpolargl"
           }
          ],
          "scatterternary": [
           {
            "marker": {
             "colorbar": {
              "outlinewidth": 0,
              "ticks": ""
             }
            },
            "type": "scatterternary"
           }
          ],
          "surface": [
           {
            "colorbar": {
             "outlinewidth": 0,
             "ticks": ""
            },
            "colorscale": [
             [
              0,
              "#0d0887"
             ],
             [
              0.1111111111111111,
              "#46039f"
             ],
             [
              0.2222222222222222,
              "#7201a8"
             ],
             [
              0.3333333333333333,
              "#9c179e"
             ],
             [
              0.4444444444444444,
              "#bd3786"
             ],
             [
              0.5555555555555556,
              "#d8576b"
             ],
             [
              0.6666666666666666,
              "#ed7953"
             ],
             [
              0.7777777777777778,
              "#fb9f3a"
             ],
             [
              0.8888888888888888,
              "#fdca26"
             ],
             [
              1,
              "#f0f921"
             ]
            ],
            "type": "surface"
           }
          ],
          "table": [
           {
            "cells": {
             "fill": {
              "color": "#EBF0F8"
             },
             "line": {
              "color": "white"
             }
            },
            "header": {
             "fill": {
              "color": "#C8D4E3"
             },
             "line": {
              "color": "white"
             }
            },
            "type": "table"
           }
          ]
         },
         "layout": {
          "annotationdefaults": {
           "arrowcolor": "#2a3f5f",
           "arrowhead": 0,
           "arrowwidth": 1
          },
          "autotypenumbers": "strict",
          "coloraxis": {
           "colorbar": {
            "outlinewidth": 0,
            "ticks": ""
           }
          },
          "colorscale": {
           "diverging": [
            [
             0,
             "#8e0152"
            ],
            [
             0.1,
             "#c51b7d"
            ],
            [
             0.2,
             "#de77ae"
            ],
            [
             0.3,
             "#f1b6da"
            ],
            [
             0.4,
             "#fde0ef"
            ],
            [
             0.5,
             "#f7f7f7"
            ],
            [
             0.6,
             "#e6f5d0"
            ],
            [
             0.7,
             "#b8e186"
            ],
            [
             0.8,
             "#7fbc41"
            ],
            [
             0.9,
             "#4d9221"
            ],
            [
             1,
             "#276419"
            ]
           ],
           "sequential": [
            [
             0,
             "#0d0887"
            ],
            [
             0.1111111111111111,
             "#46039f"
            ],
            [
             0.2222222222222222,
             "#7201a8"
            ],
            [
             0.3333333333333333,
             "#9c179e"
            ],
            [
             0.4444444444444444,
             "#bd3786"
            ],
            [
             0.5555555555555556,
             "#d8576b"
            ],
            [
             0.6666666666666666,
             "#ed7953"
            ],
            [
             0.7777777777777778,
             "#fb9f3a"
            ],
            [
             0.8888888888888888,
             "#fdca26"
            ],
            [
             1,
             "#f0f921"
            ]
           ],
           "sequentialminus": [
            [
             0,
             "#0d0887"
            ],
            [
             0.1111111111111111,
             "#46039f"
            ],
            [
             0.2222222222222222,
             "#7201a8"
            ],
            [
             0.3333333333333333,
             "#9c179e"
            ],
            [
             0.4444444444444444,
             "#bd3786"
            ],
            [
             0.5555555555555556,
             "#d8576b"
            ],
            [
             0.6666666666666666,
             "#ed7953"
            ],
            [
             0.7777777777777778,
             "#fb9f3a"
            ],
            [
             0.8888888888888888,
             "#fdca26"
            ],
            [
             1,
             "#f0f921"
            ]
           ]
          },
          "colorway": [
           "#636efa",
           "#EF553B",
           "#00cc96",
           "#ab63fa",
           "#FFA15A",
           "#19d3f3",
           "#FF6692",
           "#B6E880",
           "#FF97FF",
           "#FECB52"
          ],
          "font": {
           "color": "#2a3f5f"
          },
          "geo": {
           "bgcolor": "white",
           "lakecolor": "white",
           "landcolor": "#E5ECF6",
           "showlakes": true,
           "showland": true,
           "subunitcolor": "white"
          },
          "hoverlabel": {
           "align": "left"
          },
          "hovermode": "closest",
          "mapbox": {
           "style": "light"
          },
          "paper_bgcolor": "white",
          "plot_bgcolor": "#E5ECF6",
          "polar": {
           "angularaxis": {
            "gridcolor": "white",
            "linecolor": "white",
            "ticks": ""
           },
           "bgcolor": "#E5ECF6",
           "radialaxis": {
            "gridcolor": "white",
            "linecolor": "white",
            "ticks": ""
           }
          },
          "scene": {
           "xaxis": {
            "backgroundcolor": "#E5ECF6",
            "gridcolor": "white",
            "gridwidth": 2,
            "linecolor": "white",
            "showbackground": true,
            "ticks": "",
            "zerolinecolor": "white"
           },
           "yaxis": {
            "backgroundcolor": "#E5ECF6",
            "gridcolor": "white",
            "gridwidth": 2,
            "linecolor": "white",
            "showbackground": true,
            "ticks": "",
            "zerolinecolor": "white"
           },
           "zaxis": {
            "backgroundcolor": "#E5ECF6",
            "gridcolor": "white",
            "gridwidth": 2,
            "linecolor": "white",
            "showbackground": true,
            "ticks": "",
            "zerolinecolor": "white"
           }
          },
          "shapedefaults": {
           "line": {
            "color": "#2a3f5f"
           }
          },
          "ternary": {
           "aaxis": {
            "gridcolor": "white",
            "linecolor": "white",
            "ticks": ""
           },
           "baxis": {
            "gridcolor": "white",
            "linecolor": "white",
            "ticks": ""
           },
           "bgcolor": "#E5ECF6",
           "caxis": {
            "gridcolor": "white",
            "linecolor": "white",
            "ticks": ""
           }
          },
          "title": {
           "x": 0.05
          },
          "xaxis": {
           "automargin": true,
           "gridcolor": "white",
           "linecolor": "white",
           "ticks": "",
           "title": {
            "standoff": 15
           },
           "zerolinecolor": "white",
           "zerolinewidth": 2
          },
          "yaxis": {
           "automargin": true,
           "gridcolor": "white",
           "linecolor": "white",
           "ticks": "",
           "title": {
            "standoff": 15
           },
           "zerolinecolor": "white",
           "zerolinewidth": 2
          }
         }
        },
        "xaxis": {
         "anchor": "y",
         "domain": [
          0,
          1
         ],
         "title": {
          "text": "party_label"
         }
        },
        "yaxis": {
         "anchor": "x",
         "domain": [
          0,
          1
         ],
         "title": {
          "text": "pred"
         }
        }
       }
      }
     },
     "metadata": {},
     "output_type": "display_data"
    }
   ],
   "source": [
    "import plotly.express as px\n",
    "fig = px.scatter(nicky_df.sample(1000), x = 'party_label', y = 'pred', color = 'rounded_pred' ,hover_data= ['party_label','speaker','quotation'])\n",
    "fig.show()"
   ]
  },
  {
   "cell_type": "code",
   "execution_count": null,
   "metadata": {},
   "outputs": [],
   "source": [
    "def get_result_df(regressor,filename):\n",
    "    \n",
    "    results = []\n",
    "    \n",
    "    with pd.read_json(filename, lines=True, compression='bz2', chunksize=500) as df_reader:\n",
    "        for df in df_reader:\n",
    "            df = df.sample(50)\n",
    "            x = df['glove_embedding'].values\n",
    "            y = df[['party_number']].values[:,0]\n",
    "            x = np.array(list(map(lambda val: np.array(val),x))).reshape(x.shape[0],-1)\n",
    "\n",
    "            ypred = regressor.predict(x)\n",
    "\n",
    "            tmp_df = pd.DataFrame(data = {'party_number': df['party_number'].values, \\\n",
    "                                        'prediction': ypred, 'quotation': df['quotation'].values, 'speaker': df['speaker'].values} )\n",
    "            \n",
    "            \n",
    "            results.append(tmp_df.copy())\n",
    "        \n",
    "            result_df = pd.concat(results)\n",
    "                \n",
    "            result_df['rounded_pred'] = result_df['prediction'].apply(lambda x: 0 if x <= 0.5 else 1)\n",
    "    display(result_df.head(1))\n",
    "    \n",
    "    fig = px.scatter(result_df, x = 'party_number', y = 'prediction', color = 'rounded_pred' ,hover_data= ['party_number','speaker','quotation'])\n",
    "    fig.show()"
   ]
  }
 ],
 "metadata": {
  "interpreter": {
   "hash": "e2aa3ff43f8b829804c7d9eb6f92bf2eb6f1ce41f419bcf9a3e5bac1a0342e90"
  },
  "kernelspec": {
   "display_name": "Python 3.8.8 64-bit ('base': conda)",
   "language": "python",
   "name": "python3"
  },
  "language_info": {
   "codemirror_mode": {
    "name": "ipython",
    "version": 3
   },
   "file_extension": ".py",
   "mimetype": "text/x-python",
   "name": "python",
   "nbconvert_exporter": "python",
   "pygments_lexer": "ipython3",
   "version": "3.8.12"
  },
  "orig_nbformat": 4
 },
 "nbformat": 4,
 "nbformat_minor": 2
}
