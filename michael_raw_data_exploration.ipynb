{
 "cells": [
  {
   "cell_type": "code",
   "execution_count": 1,
   "metadata": {},
   "outputs": [],
   "source": [
    "%load_ext autoreload\n",
    "%autoreload 2\n",
    "\n",
    "from helpers import *\n",
    "\n",
    "from IPython.display import clear_output\n",
    "\n",
    "import bz2\n",
    "import json\n",
    "\n",
    "import pandas as pd\n",
    "\n",
    "import numpy as np\n",
    "\n",
    "from pprint import *\n",
    "\n",
    "from perform_general_analysis import *\n",
    "\n",
    "import matplotlib.pyplot as plt"
   ]
  },
  {
   "cell_type": "markdown",
   "metadata": {
    "tags": []
   },
   "source": [
    "## Raw Data Exploration\n",
    "\n",
    "We compute some simple stats on the raw dataset(s). Since, they are so large\n",
    "they need to be loaded in chunks and various starts are aggregated after \n",
    "each chunk's computation. This should give a better understand of the\n",
    "data we are working with. More about this below."
   ]
  },
  {
   "cell_type": "markdown",
   "metadata": {},
   "source": [
    "Lets start with calculating some statistics for all the quote banks dataset from 2015 to 2020"
   ]
  },
  {
   "cell_type": "code",
   "execution_count": 6,
   "metadata": {},
   "outputs": [
    {
     "name": "stdout",
     "output_type": "stream",
     "text": [
      "#Chunks=3\n",
      "{'year': 'null', 'count': 300000, 'count_no_speaker': 103282, 'quotation': {'chars': {'min_length': 9, 'max_length': 2918, 'sum_length': 41205538, 'length_bins': array([0., 0., 0., ..., 0., 0., 0.]), 'avg_length': 137.35}, 'words': {'min_length': 1, 'max_length': 459, 'sum_length': 7411753, 'length_bins': array([ 0.,  2., 18., ...,  0.,  0.,  0.]), 'avg_length': 24.71}}}\n",
      "{'count': 300000,\n",
      " 'count_no_speaker': 103282,\n",
      " 'quotation': {'chars': {'avg_length': 137.35,\n",
      "                         'length_bins': array([0., 0., 0., ..., 0., 0., 0.]),\n",
      "                         'max_length': 2918,\n",
      "                         'min_length': 9,\n",
      "                         'sum_length': 41205538},\n",
      "               'words': {'avg_length': 24.71,\n",
      "                         'length_bins': array([ 0.,  2., 18., ...,  0.,  0.,  0.]),\n",
      "                         'max_length': 459,\n",
      "                         'min_length': 1,\n",
      "                         'sum_length': 7411753}},\n",
      " 'year': 'null'}\n",
      "data.nosync/quotebank/quotes-2020.json.bz2\n"
     ]
    }
   ],
   "source": [
    "all_paths = [QUOTES_2015_PATH,QUOTES_2016_PATH,QUOTES_2017_PATH,QUOTES_2017_PATH,QUOTES_2019_PATH,QUOTES_2020_PATH]\n",
    "all_stats = []\n",
    "for path in all_paths:\n",
    "    stat_per_year,_ = build_stat_dics(path)\n",
    "    all_stats.append(stat_per_year)"
   ]
  },
  {
   "cell_type": "markdown",
   "metadata": {},
   "source": [
    "Now, aggregate all to get a full statistics over all the entire dataset"
   ]
  },
  {
   "cell_type": "code",
   "execution_count": 21,
   "metadata": {},
   "outputs": [
    {
     "data": {
      "text/plain": [
       "{'count': 1800000,\n",
       " 'count_no_speaker': 621509,\n",
       " 'quotation': {'words': {'min_length': 1,\n",
       "   'max_length': 467,\n",
       "   'sum_length': 43219613,\n",
       "   'avg_length': 24.010896111111112},\n",
       "  'chars': {'min_length': 8,\n",
       "   'max_length': 2918,\n",
       "   'sum_length': 238605299,\n",
       "   'length_bins': array([0., 0., 0., ..., 0., 0., 0.]),\n",
       "   'avg_length': 132.55849944444444}}}"
      ]
     },
     "execution_count": 21,
     "metadata": {},
     "output_type": "execute_result"
    }
   ],
   "source": [
    "#\n",
    "total_stats = {\n",
    "        'count': 0,\n",
    "        'count_no_speaker':0,\n",
    "        'quotation': {\n",
    "            'words': {\n",
    "                'min_length': 1000000,\n",
    "                'max_length': 0,\n",
    "                'sum_length': 0,\n",
    "            },\n",
    "            'chars': {\n",
    "                'min_length': 1000000,\n",
    "                'max_length': 0,\n",
    "                'sum_length': 0,\n",
    "                'length_bins': np.zeros(10000)\n",
    "                },\n",
    "        }\n",
    "    }\n",
    "\n",
    "total_stats['count'] = sum(stats.get('count', 0) for stats in all_stats)\n",
    "total_stats['count_no_speaker'] = sum(stats.get('count_no_speaker', 0) for stats in all_stats)\n",
    "total_stats['quotation']['words']['min_length'] = min(stats.get('quotation', {}).get('words').get('min_length', 0) for stats in all_stats)\n",
    "total_stats['quotation']['words']['max_length'] = max(stats.get('quotation', {}).get('words').get('max_length', 0) for stats in all_stats)\n",
    "total_stats['quotation']['words']['sum_length'] = sum(stats.get('quotation', {}).get('words').get('sum_length', 0) for stats in all_stats)\n",
    "total_stats['quotation']['words']['avg_length'] = total_stats['quotation']['words']['sum_length']/total_stats['count']\n",
    "total_stats['quotation']['chars']['min_length'] = min(stats.get('quotation', {}).get('chars').get('min_length', 0) for stats in all_stats)\n",
    "total_stats['quotation']['chars']['max_length'] = max(stats.get('quotation', {}).get('chars').get('max_length', 0) for stats in all_stats)\n",
    "total_stats['quotation']['chars']['sum_length'] = sum(stats.get('quotation', {}).get('chars').get('sum_length', 0) for stats in all_stats)\n",
    "total_stats['quotation']['chars']['avg_length'] = total_stats['quotation']['chars']['sum_length']/total_stats['count']\n",
    "\n",
    "total_stats"
   ]
  },
  {
   "cell_type": "markdown",
   "metadata": {
    "jp-MarkdownHeadingCollapsed": true,
    "tags": []
   },
   "source": [
    "### TO REMOVE"
   ]
  },
  {
   "cell_type": "code",
   "execution_count": 185,
   "metadata": {},
   "outputs": [
    {
     "name": "stdout",
     "output_type": "stream",
     "text": [
      "#Chunks=53\n",
      "\n",
      "{'count': 5244449,\n",
      " 'quotation': {'chars': {'avg_length': 137.18,\n",
      "                         'length_bins': array([0., 0., 0., ..., 0., 0., 0.]),\n",
      "                         'max_length': 3123,\n",
      "                         'min_length': 7,\n",
      "                         'sum_length': 719450301},\n",
      "               'words': {'avg_length': 24.68,\n",
      "                         'length_bins': array([  0.,  35., 334., ...,   0.,   0.,   0.]),\n",
      "                         'max_length': 460,\n",
      "                         'min_length': 1,\n",
      "                         'sum_length': 129430348}}}\n"
     ]
    }
   ],
   "source": [
    "#micheal this thing we could remove\n",
    "path_to_file = QUOTES_2020_PATH\n",
    "\n",
    "stats = {\n",
    "    'count': 0,\n",
    "    'count_no_speaker':0,\n",
    "    'quotation': {\n",
    "        'chars': {\n",
    "            'min_length': 1000000,\n",
    "            'max_length': 0,\n",
    "            'sum_length': 0,\n",
    "            'length_bins': np.zeros(10000)\n",
    "            },\n",
    "        'words': {\n",
    "            'min_length': 1000000,\n",
    "            'max_length': 0,\n",
    "            'sum_length': 0,\n",
    "            'length_bins': np.zeros(10000)\n",
    "        },\n",
    "    }\n",
    "}\n",
    "\n",
    "\n",
    "i=0\n",
    "with pd.read_json(path_to_file, lines=True, compression='bz2', chunksize=100000) as df_reader:\n",
    "    for chunk in df_reader:\n",
    "        print(i)\n",
    "\n",
    "        #--------------------------------------------------------------------\n",
    "\n",
    "        stats['count'] += chunk.shape[0]\n",
    "\n",
    "        chunk_quote = chunk['quotation']\n",
    "        #--------------------------------------------------------------------\n",
    "        # Compute Quote Character Statistics\n",
    "\n",
    "        stats_qc = stats['quotation']['chars']\n",
    "        \n",
    "        chunk_lengths = chunk_quote.map(lambda x: len(x))\n",
    "\n",
    "        chunk_min_length = chunk_lengths.min()\n",
    "        if stats_qc['min_length'] > chunk_min_length:\n",
    "            stats_qc['min_length'] = chunk_min_length\n",
    "\n",
    "        chunk_max_length = chunk_lengths.max()\n",
    "        if stats_qc['max_length'] < chunk_max_length:\n",
    "            stats_qc['max_length'] = chunk_max_length\n",
    "\n",
    "        stats_qc['sum_length'] += chunk_lengths.sum()\n",
    "\n",
    "        # stats_qc['length_bins'][chunk_lengths]+=np.bincount(chunk_lengths.to_numpy())[chunk_lengths]\n",
    "\n",
    "        for l in chunk_lengths.to_numpy():\n",
    "            stats_qc['length_bins'][l] += 1\n",
    "\n",
    "        #--------------------------------------------------------------------\n",
    "        # Compute Quote Word Statistics\n",
    "\n",
    "        stats_qw = stats['quotation']['words']\n",
    "\n",
    "        chunk_word_lengths = chunk_quote.map(lambda x: len(x.split(\" \")))\n",
    "\n",
    "        chunk_min_length = chunk_word_lengths.min()\n",
    "        if stats_qw['min_length'] > chunk_min_length:\n",
    "            stats_qw['min_length'] = chunk_min_length\n",
    "\n",
    "        chunk_max_length = chunk_word_lengths.max()\n",
    "        if stats_qw['max_length'] < chunk_max_length:\n",
    "            stats_qw['max_length'] = chunk_max_length\n",
    "\n",
    "        stats_qw['sum_length'] += chunk_word_lengths.sum()\n",
    "\n",
    "        # stats_qw['length_bins'][chunk_word_lengths]+=np.bincount(chunk_word_lengths.to_numpy())[chunk_word_lengths]\n",
    "\n",
    "        for l in chunk_word_lengths.to_numpy():\n",
    "            stats_qw['length_bins'][l] += 1\n",
    "\n",
    "        #--------------------------------------------------------------------\n",
    "\n",
    "        i+=1\n",
    "        # if i>2:\n",
    "        #     break\n",
    "\n",
    "stats['quotation']['chars']['avg_length'] = round(stats['quotation']['chars']['sum_length'] / stats['count'], 2)\n",
    "stats['quotation']['words']['avg_length'] = round(stats['quotation']['words']['sum_length'] / stats['count'], 2)\n",
    "\n",
    "# chunk.head()\n",
    "\n",
    "clear_output(wait=True)\n",
    "print(\"#Chunks=\" + str(i))\n",
    "print()\n",
    "pprint(stats)"
   ]
  },
  {
   "cell_type": "code",
   "execution_count": 186,
   "metadata": {},
   "outputs": [
    {
     "name": "stdout",
     "output_type": "stream",
     "text": [
      "(44449, 9)\n"
     ]
    },
    {
     "data": {
      "text/html": [
       "<div>\n",
       "<style scoped>\n",
       "    .dataframe tbody tr th:only-of-type {\n",
       "        vertical-align: middle;\n",
       "    }\n",
       "\n",
       "    .dataframe tbody tr th {\n",
       "        vertical-align: top;\n",
       "    }\n",
       "\n",
       "    .dataframe thead th {\n",
       "        text-align: right;\n",
       "    }\n",
       "</style>\n",
       "<table border=\"1\" class=\"dataframe\">\n",
       "  <thead>\n",
       "    <tr style=\"text-align: right;\">\n",
       "      <th></th>\n",
       "      <th>quoteID</th>\n",
       "      <th>quotation</th>\n",
       "      <th>speaker</th>\n",
       "      <th>qids</th>\n",
       "      <th>date</th>\n",
       "      <th>numOccurrences</th>\n",
       "      <th>probas</th>\n",
       "      <th>urls</th>\n",
       "      <th>phase</th>\n",
       "    </tr>\n",
       "  </thead>\n",
       "  <tbody>\n",
       "    <tr>\n",
       "      <th>5200000</th>\n",
       "      <td>2020-01-18-041130</td>\n",
       "      <td>The price has moved up considerably from where...</td>\n",
       "      <td>John Murray</td>\n",
       "      <td>[Q14248464, Q15456175, Q20621123, Q43912232, Q...</td>\n",
       "      <td>2020-01-18 02:51:28</td>\n",
       "      <td>1</td>\n",
       "      <td>[[John Murray, 0.9178], [None, 0.0727], [Conor...</td>\n",
       "      <td>[https://www.reviewjournal.com/sports/betting/...</td>\n",
       "      <td>E</td>\n",
       "    </tr>\n",
       "    <tr>\n",
       "      <th>5200001</th>\n",
       "      <td>2020-04-02-060174</td>\n",
       "      <td>The price is already up at £ 65,000 upwards. L...</td>\n",
       "      <td>None</td>\n",
       "      <td>[]</td>\n",
       "      <td>2020-04-02 20:28:17</td>\n",
       "      <td>2</td>\n",
       "      <td>[[None, 0.5587], [Chris Woakes, 0.3666], [Jos ...</td>\n",
       "      <td>[http://thedailystar.net/sports/cricket/news/e...</td>\n",
       "      <td>E</td>\n",
       "    </tr>\n",
       "    <tr>\n",
       "      <th>5200002</th>\n",
       "      <td>2020-02-04-084580</td>\n",
       "      <td>The primary requirement to prevent and manage ...</td>\n",
       "      <td>None</td>\n",
       "      <td>[]</td>\n",
       "      <td>2020-02-04 03:04:09</td>\n",
       "      <td>1</td>\n",
       "      <td>[[None, 0.9064], [Harsh Vardhan, 0.0936]]</td>\n",
       "      <td>[https://www.thehindubusinessline.com/news/cor...</td>\n",
       "      <td>E</td>\n",
       "    </tr>\n",
       "    <tr>\n",
       "      <th>5200003</th>\n",
       "      <td>2020-02-13-091159</td>\n",
       "      <td>The prime minister has a different opinion tha...</td>\n",
       "      <td>Jiří Ovčáček</td>\n",
       "      <td>[Q15290758]</td>\n",
       "      <td>2020-02-13 23:50:00</td>\n",
       "      <td>1</td>\n",
       "      <td>[[Jiří Ovčáček, 0.8658], [None, 0.1116], [Milo...</td>\n",
       "      <td>[http://msn.com/en-au/news/world/czech-prime-m...</td>\n",
       "      <td>E</td>\n",
       "    </tr>\n",
       "    <tr>\n",
       "      <th>5200004</th>\n",
       "      <td>2020-03-30-050268</td>\n",
       "      <td>The problem is the number of bank accounts I h...</td>\n",
       "      <td>John Smith</td>\n",
       "      <td>[Q14948763, Q16225555, Q16674228, Q1701779, Q1...</td>\n",
       "      <td>2020-03-30 05:00:54</td>\n",
       "      <td>2</td>\n",
       "      <td>[[John Smith, 0.8909], [None, 0.1091]]</td>\n",
       "      <td>[https://www.energyvoice.com/coronavirus/23158...</td>\n",
       "      <td>E</td>\n",
       "    </tr>\n",
       "  </tbody>\n",
       "</table>\n",
       "</div>"
      ],
      "text/plain": [
       "                   quoteID                                          quotation  \\\n",
       "5200000  2020-01-18-041130  The price has moved up considerably from where...   \n",
       "5200001  2020-04-02-060174  The price is already up at £ 65,000 upwards. L...   \n",
       "5200002  2020-02-04-084580  The primary requirement to prevent and manage ...   \n",
       "5200003  2020-02-13-091159  The prime minister has a different opinion tha...   \n",
       "5200004  2020-03-30-050268  The problem is the number of bank accounts I h...   \n",
       "\n",
       "              speaker                                               qids  \\\n",
       "5200000   John Murray  [Q14248464, Q15456175, Q20621123, Q43912232, Q...   \n",
       "5200001          None                                                 []   \n",
       "5200002          None                                                 []   \n",
       "5200003  Jiří Ovčáček                                        [Q15290758]   \n",
       "5200004    John Smith  [Q14948763, Q16225555, Q16674228, Q1701779, Q1...   \n",
       "\n",
       "                       date  numOccurrences  \\\n",
       "5200000 2020-01-18 02:51:28               1   \n",
       "5200001 2020-04-02 20:28:17               2   \n",
       "5200002 2020-02-04 03:04:09               1   \n",
       "5200003 2020-02-13 23:50:00               1   \n",
       "5200004 2020-03-30 05:00:54               2   \n",
       "\n",
       "                                                    probas  \\\n",
       "5200000  [[John Murray, 0.9178], [None, 0.0727], [Conor...   \n",
       "5200001  [[None, 0.5587], [Chris Woakes, 0.3666], [Jos ...   \n",
       "5200002          [[None, 0.9064], [Harsh Vardhan, 0.0936]]   \n",
       "5200003  [[Jiří Ovčáček, 0.8658], [None, 0.1116], [Milo...   \n",
       "5200004             [[John Smith, 0.8909], [None, 0.1091]]   \n",
       "\n",
       "                                                      urls phase  \n",
       "5200000  [https://www.reviewjournal.com/sports/betting/...     E  \n",
       "5200001  [http://thedailystar.net/sports/cricket/news/e...     E  \n",
       "5200002  [https://www.thehindubusinessline.com/news/cor...     E  \n",
       "5200003  [http://msn.com/en-au/news/world/czech-prime-m...     E  \n",
       "5200004  [https://www.energyvoice.com/coronavirus/23158...     E  "
      ]
     },
     "execution_count": 186,
     "metadata": {},
     "output_type": "execute_result"
    }
   ],
   "source": [
    "print(chunk.shape)\n",
    "chunk.head()"
   ]
  },
  {
   "cell_type": "markdown",
   "metadata": {
    "jp-MarkdownHeadingCollapsed": true,
    "tags": []
   },
   "source": [
    "### Graphs"
   ]
  },
  {
   "cell_type": "code",
   "execution_count": 196,
   "metadata": {},
   "outputs": [],
   "source": [
    "def plot_length_bins(bins):\n",
    "    plt.bar(np.argwhere(bins>0).flatten(), bins[bins > 0], log=True)"
   ]
  },
  {
   "cell_type": "code",
   "execution_count": 189,
   "metadata": {},
   "outputs": [
    {
     "data": {
      "text/plain": [
       "array([   7,    8,    9, ..., 2886, 2918, 3123])"
      ]
     },
     "execution_count": 189,
     "metadata": {},
     "output_type": "execute_result"
    }
   ],
   "source": [
    "np.argwhere(char_bins>0).flatten()"
   ]
  },
  {
   "cell_type": "code",
   "execution_count": null,
   "metadata": {},
   "outputs": [],
   "source": []
  },
  {
   "cell_type": "code",
   "execution_count": 199,
   "metadata": {},
   "outputs": [
    {
     "data": {
      "image/png": "[encoded data removed]",
      "text/plain": [
       "<Figure size 432x288 with 1 Axes>"
      ]
     },
     "metadata": {
      "needs_background": "light"
     },
     "output_type": "display_data"
    }
   ],
   "source": [
    "plot_length_bins(stats['quotation']['chars']['length_bins'])"
   ]
  },
  {
   "cell_type": "code",
   "execution_count": null,
   "metadata": {},
   "outputs": [],
   "source": []
  },
  {
   "cell_type": "code",
   "execution_count": 198,
   "metadata": {},
   "outputs": [
    {
     "data": {
      "image/png": "[encoded data removed]",
      "text/plain": [
       "<Figure size 432x288 with 1 Axes>"
      ]
     },
     "metadata": {
      "needs_background": "light"
     },
     "output_type": "display_data"
    }
   ],
   "source": [
    "plot_length_bins(stats['quotation']['words']['length_bins'])"
   ]
  }
 ],
 "metadata": {
  "interpreter": {
   "hash": "e2aa3ff43f8b829804c7d9eb6f92bf2eb6f1ce41f419bcf9a3e5bac1a0342e90"
  },
  "kernelspec": {
   "display_name": "Python 3 (ipykernel)",
   "language": "python",
   "name": "python3"
  },
  "language_info": {
   "codemirror_mode": {
    "name": "ipython",
    "version": 3
   },
   "file_extension": ".py",
   "mimetype": "text/x-python",
   "name": "python",
   "nbconvert_exporter": "python",
   "pygments_lexer": "ipython3",
   "version": "3.7.11"
  }
 },
 "nbformat": 4,
 "nbformat_minor": 4
}
