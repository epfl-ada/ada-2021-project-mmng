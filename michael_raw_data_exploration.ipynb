{
 "cells": [
  {
   "cell_type": "code",
   "execution_count": 105,
   "metadata": {},
   "outputs": [
    {
     "name": "stdout",
     "output_type": "stream",
     "text": [
      "The autoreload extension is already loaded. To reload it, use:\n",
      "  %reload_ext autoreload\n"
     ]
    }
   ],
   "source": [
    "%load_ext autoreload\n",
    "%autoreload 2\n",
    "\n",
    "from helpers import *\n",
    "\n",
    "from IPython.display import clear_output\n",
    "\n",
    "import bz2\n",
    "import json\n",
    "\n",
    "import pandas as pd\n",
    "\n",
    "import numpy as np\n",
    "\n",
    "from pprint import *\n",
    "\n",
    "import matplotlib.pyplot as plt\n",
    "\n",
    "# import pickle\n",
    "\n",
    "# import sklearn as sk\n",
    "\n",
    "# from sklearn.feature_extraction.text import CountVectorizer\n",
    "# from sklearn.feature_extraction.text import TfidfVectorizer\n",
    "# from scipy.sparse import vstack\n",
    "\n",
    "# https://stackoverflow.com/questions/19798153/difference-between-map-applymap-and-apply-methods-in-pandas\n"
   ]
  },
  {
   "cell_type": "code",
   "execution_count": null,
   "metadata": {},
   "outputs": [],
   "source": []
  },
  {
   "cell_type": "code",
   "execution_count": 153,
   "metadata": {},
   "outputs": [
    {
     "name": "stdout",
     "output_type": "stream",
     "text": [
      "0\n",
      "1\n",
      "2\n",
      "3\n",
      "4\n",
      "5\n",
      "6\n",
      "7\n",
      "8\n",
      "9\n",
      "10\n",
      "11\n"
     ]
    }
   ],
   "source": [
    "path_to_file = QUOTES_2020_PATH\n",
    "\n",
    "stats = {\n",
    "    'count': 0,\n",
    "    'quotation': {\n",
    "        'chars': {\n",
    "            'min_length': 1000000,\n",
    "            'max_length': 0,\n",
    "            'sum_length': 0,\n",
    "            'length_bins': np.zeros(10000)\n",
    "            },\n",
    "            'words': {\n",
    "            'min_length': 1000000,\n",
    "            'max_length': 0,\n",
    "            'sum_length': 0,\n",
    "            'length_bins': np.zeros(10000)\n",
    "        },\n",
    "    }\n",
    "}\n",
    "\n",
    "i=0\n",
    "\n",
    "# chunksize=10000\n",
    "\n",
    "with pd.read_json(path_to_file, lines=True, compression='bz2', chunksize=100000) as df_reader:\n",
    "    for chunk in df_reader:\n",
    "        print(i)\n",
    "\n",
    "        #--------------------------------------------------------------------\n",
    "\n",
    "        stats['count'] += chunk.shape[0]\n",
    "\n",
    "        chunk_quote = chunk['quotation']\n",
    "        #--------------------------------------------------------------------\n",
    "        # Compute Quote Character Statistics\n",
    "\n",
    "        stats_qc = stats['quotation']['chars']\n",
    "        \n",
    "        chunk_lengths = chunk_quote.map(lambda x: len(x))\n",
    "\n",
    "        chunk_min_length = chunk_lengths.min()\n",
    "        if stats_qc['min_length'] > chunk_min_length:\n",
    "            stats_qc['min_length'] = chunk_min_length\n",
    "\n",
    "        chunk_max_length = chunk_lengths.max()\n",
    "        if stats_qc['max_length'] < chunk_max_length:\n",
    "            stats_qc['max_length'] = chunk_max_length\n",
    "\n",
    "        stats_qc['sum_length'] += chunk_lengths.sum()\n",
    "\n",
    "        # stats_qc['length_bins'][chunk_lengths]+=np.bincount(chunk_lengths.to_numpy())[chunk_lengths]\n",
    "\n",
    "        for l in chunk_lengths.to_numpy():\n",
    "            stats_qc['length_bins'][l] += 1\n",
    "\n",
    "        #--------------------------------------------------------------------\n",
    "        # Compute Quote Word Statistics\n",
    "\n",
    "        stats_qw = stats['quotation']['words']\n",
    "\n",
    "        chunk_word_lengths = chunk_quote.map(lambda x: len(x.split(\" \")))\n",
    "\n",
    "        chunk_min_length = chunk_word_lengths.min()\n",
    "        if stats_qw['min_length'] > chunk_min_length:\n",
    "            stats_qw['min_length'] = chunk_min_length\n",
    "\n",
    "        chunk_max_length = chunk_word_lengths.max()\n",
    "        if stats_qw['max_length'] < chunk_max_length:\n",
    "            stats_qw['max_length'] = chunk_max_length\n",
    "\n",
    "        stats_qw['sum_length'] += chunk_word_lengths.sum()\n",
    "\n",
    "        # stats_qw['length_bins'][chunk_word_lengths]+=np.bincount(chunk_word_lengths.to_numpy())[chunk_word_lengths]\n",
    "\n",
    "        for l in chunk_word_lengths.to_numpy():\n",
    "            stats_qw['length_bins'][l] += 1\n",
    "\n",
    "        #--------------------------------------------------------------------\n",
    "\n",
    "        i+=1\n",
    "        # if i>2:\n",
    "        #     break\n",
    "\n",
    "stats['quotation']['chars']['avg_length'] = round(stats['quotation']['chars']['sum_length'] / stats['count'], 2)\n",
    "stats['quotation']['words']['avg_length'] = round(stats['quotation']['words']['sum_length'] / stats['count'], 2)\n",
    "\n",
    "# chunk.head()\n",
    "\n",
    "clear_output(wait=True)\n",
    "print(\"#Chunks=\" + str(i))\n",
    "print()\n",
    "pprint(stats)"
   ]
  },
  {
   "cell_type": "code",
   "execution_count": 49,
   "metadata": {},
   "outputs": [
    {
     "name": "stdout",
     "output_type": "stream",
     "text": [
      "(44449, 9)\n"
     ]
    },
    {
     "data": {
      "text/html": [
       "<div>\n",
       "<style scoped>\n",
       "    .dataframe tbody tr th:only-of-type {\n",
       "        vertical-align: middle;\n",
       "    }\n",
       "\n",
       "    .dataframe tbody tr th {\n",
       "        vertical-align: top;\n",
       "    }\n",
       "\n",
       "    .dataframe thead th {\n",
       "        text-align: right;\n",
       "    }\n",
       "</style>\n",
       "<table border=\"1\" class=\"dataframe\">\n",
       "  <thead>\n",
       "    <tr style=\"text-align: right;\">\n",
       "      <th></th>\n",
       "      <th>quoteID</th>\n",
       "      <th>quotation</th>\n",
       "      <th>speaker</th>\n",
       "      <th>qids</th>\n",
       "      <th>date</th>\n",
       "      <th>numOccurrences</th>\n",
       "      <th>probas</th>\n",
       "      <th>urls</th>\n",
       "      <th>phase</th>\n",
       "    </tr>\n",
       "  </thead>\n",
       "  <tbody>\n",
       "    <tr>\n",
       "      <th>5200000</th>\n",
       "      <td>2020-01-18-041130</td>\n",
       "      <td>The price has moved up considerably from where...</td>\n",
       "      <td>John Murray</td>\n",
       "      <td>[Q14248464, Q15456175, Q20621123, Q43912232, Q...</td>\n",
       "      <td>2020-01-18 02:51:28</td>\n",
       "      <td>1</td>\n",
       "      <td>[[John Murray, 0.9178], [None, 0.0727], [Conor...</td>\n",
       "      <td>[https://www.reviewjournal.com/sports/betting/...</td>\n",
       "      <td>E</td>\n",
       "    </tr>\n",
       "    <tr>\n",
       "      <th>5200001</th>\n",
       "      <td>2020-04-02-060174</td>\n",
       "      <td>The price is already up at £ 65,000 upwards. L...</td>\n",
       "      <td>None</td>\n",
       "      <td>[]</td>\n",
       "      <td>2020-04-02 20:28:17</td>\n",
       "      <td>2</td>\n",
       "      <td>[[None, 0.5587], [Chris Woakes, 0.3666], [Jos ...</td>\n",
       "      <td>[http://thedailystar.net/sports/cricket/news/e...</td>\n",
       "      <td>E</td>\n",
       "    </tr>\n",
       "    <tr>\n",
       "      <th>5200002</th>\n",
       "      <td>2020-02-04-084580</td>\n",
       "      <td>The primary requirement to prevent and manage ...</td>\n",
       "      <td>None</td>\n",
       "      <td>[]</td>\n",
       "      <td>2020-02-04 03:04:09</td>\n",
       "      <td>1</td>\n",
       "      <td>[[None, 0.9064], [Harsh Vardhan, 0.0936]]</td>\n",
       "      <td>[https://www.thehindubusinessline.com/news/cor...</td>\n",
       "      <td>E</td>\n",
       "    </tr>\n",
       "    <tr>\n",
       "      <th>5200003</th>\n",
       "      <td>2020-02-13-091159</td>\n",
       "      <td>The prime minister has a different opinion tha...</td>\n",
       "      <td>Jiří Ovčáček</td>\n",
       "      <td>[Q15290758]</td>\n",
       "      <td>2020-02-13 23:50:00</td>\n",
       "      <td>1</td>\n",
       "      <td>[[Jiří Ovčáček, 0.8658], [None, 0.1116], [Milo...</td>\n",
       "      <td>[http://msn.com/en-au/news/world/czech-prime-m...</td>\n",
       "      <td>E</td>\n",
       "    </tr>\n",
       "    <tr>\n",
       "      <th>5200004</th>\n",
       "      <td>2020-03-30-050268</td>\n",
       "      <td>The problem is the number of bank accounts I h...</td>\n",
       "      <td>John Smith</td>\n",
       "      <td>[Q14948763, Q16225555, Q16674228, Q1701779, Q1...</td>\n",
       "      <td>2020-03-30 05:00:54</td>\n",
       "      <td>2</td>\n",
       "      <td>[[John Smith, 0.8909], [None, 0.1091]]</td>\n",
       "      <td>[https://www.energyvoice.com/coronavirus/23158...</td>\n",
       "      <td>E</td>\n",
       "    </tr>\n",
       "  </tbody>\n",
       "</table>\n",
       "</div>"
      ],
      "text/plain": [
       "                   quoteID                                          quotation  \\\n",
       "5200000  2020-01-18-041130  The price has moved up considerably from where...   \n",
       "5200001  2020-04-02-060174  The price is already up at £ 65,000 upwards. L...   \n",
       "5200002  2020-02-04-084580  The primary requirement to prevent and manage ...   \n",
       "5200003  2020-02-13-091159  The prime minister has a different opinion tha...   \n",
       "5200004  2020-03-30-050268  The problem is the number of bank accounts I h...   \n",
       "\n",
       "              speaker                                               qids  \\\n",
       "5200000   John Murray  [Q14248464, Q15456175, Q20621123, Q43912232, Q...   \n",
       "5200001          None                                                 []   \n",
       "5200002          None                                                 []   \n",
       "5200003  Jiří Ovčáček                                        [Q15290758]   \n",
       "5200004    John Smith  [Q14948763, Q16225555, Q16674228, Q1701779, Q1...   \n",
       "\n",
       "                       date  numOccurrences  \\\n",
       "5200000 2020-01-18 02:51:28               1   \n",
       "5200001 2020-04-02 20:28:17               2   \n",
       "5200002 2020-02-04 03:04:09               1   \n",
       "5200003 2020-02-13 23:50:00               1   \n",
       "5200004 2020-03-30 05:00:54               2   \n",
       "\n",
       "                                                    probas  \\\n",
       "5200000  [[John Murray, 0.9178], [None, 0.0727], [Conor...   \n",
       "5200001  [[None, 0.5587], [Chris Woakes, 0.3666], [Jos ...   \n",
       "5200002          [[None, 0.9064], [Harsh Vardhan, 0.0936]]   \n",
       "5200003  [[Jiří Ovčáček, 0.8658], [None, 0.1116], [Milo...   \n",
       "5200004             [[John Smith, 0.8909], [None, 0.1091]]   \n",
       "\n",
       "                                                      urls phase  \n",
       "5200000  [https://www.reviewjournal.com/sports/betting/...     E  \n",
       "5200001  [http://thedailystar.net/sports/cricket/news/e...     E  \n",
       "5200002  [https://www.thehindubusinessline.com/news/cor...     E  \n",
       "5200003  [http://msn.com/en-au/news/world/czech-prime-m...     E  \n",
       "5200004  [https://www.energyvoice.com/coronavirus/23158...     E  "
      ]
     },
     "execution_count": 49,
     "metadata": {},
     "output_type": "execute_result"
    }
   ],
   "source": [
    "print(chunk.shape)\n",
    "chunk.head()"
   ]
  },
  {
   "cell_type": "code",
   "execution_count": 151,
   "metadata": {},
   "outputs": [],
   "source": [
    "def plot_length_bins(bins, max_length):\n",
    "    plt.bar(range(0,max_length), bins[:max_length], log=True)"
   ]
  },
  {
   "cell_type": "code",
   "execution_count": null,
   "metadata": {},
   "outputs": [],
   "source": []
  },
  {
   "cell_type": "code",
   "execution_count": 152,
   "metadata": {},
   "outputs": [
    {
     "data": {
      "image/png": "[encoded data removed]",
      "text/plain": [
       "<Figure size 432x288 with 1 Axes>"
      ]
     },
     "metadata": {
      "needs_background": "light"
     },
     "output_type": "display_data"
    }
   ],
   "source": [
    "plot_length_bins(stats['quotation']['chars']['length_bins'], stats['quotation']['chars']['max_length'])"
   ]
  },
  {
   "cell_type": "code",
   "execution_count": 131,
   "metadata": {},
   "outputs": [
    {
     "data": {
      "text/plain": [
       "0       0.0\n",
       "1       0.0\n",
       "2       0.0\n",
       "3       0.0\n",
       "4       0.0\n",
       "       ... \n",
       "9995    0.0\n",
       "9996    0.0\n",
       "9997    0.0\n",
       "9998    0.0\n",
       "9999    0.0\n",
       "Length: 10000, dtype: float64"
      ]
     },
     "execution_count": 131,
     "metadata": {},
     "output_type": "execute_result"
    }
   ],
   "source": [
    "df_bins=pd.Series(bins)\n",
    "df_bins"
   ]
  },
  {
   "cell_type": "markdown",
   "metadata": {},
   "source": []
  },
  {
   "cell_type": "code",
   "execution_count": 67,
   "metadata": {},
   "outputs": [
    {
     "data": {
      "text/plain": [
       "array([   0,    1,    2, ..., 9997, 9998, 9999])"
      ]
     },
     "execution_count": 67,
     "metadata": {},
     "output_type": "execute_result"
    }
   ],
   "source": [
    "np.arange(10000)"
   ]
  },
  {
   "cell_type": "code",
   "execution_count": 76,
   "metadata": {},
   "outputs": [
    {
     "data": {
      "text/plain": [
       "array([101,  83, 290, ..., 115,  72,  80])"
      ]
     },
     "execution_count": 76,
     "metadata": {},
     "output_type": "execute_result"
    }
   ],
   "source": [
    "chunk_lengths.to_numpy()\n"
   ]
  },
  {
   "cell_type": "code",
   "execution_count": 74,
   "metadata": {},
   "outputs": [
    {
     "data": {
      "text/plain": [
       "array([0., 0., 0., ..., 0., 0., 0.])"
      ]
     },
     "execution_count": 74,
     "metadata": {},
     "output_type": "execute_result"
    }
   ],
   "source": [
    "np.zeros(10000)"
   ]
  },
  {
   "cell_type": "code",
   "execution_count": 81,
   "metadata": {},
   "outputs": [
    {
     "data": {
      "text/plain": [
       "44449.0"
      ]
     },
     "execution_count": 81,
     "metadata": {},
     "output_type": "execute_result"
    }
   ],
   "source": [
    "bins = np.zeros(10000)\n",
    "for l in chunk_lengths.to_numpy():\n",
    "    bins[l] += 1\n",
    "\n",
    "bins.sum()"
   ]
  },
  {
   "cell_type": "code",
   "execution_count": null,
   "metadata": {},
   "outputs": [],
   "source": []
  }
 ],
 "metadata": {
  "interpreter": {
   "hash": "e2aa3ff43f8b829804c7d9eb6f92bf2eb6f1ce41f419bcf9a3e5bac1a0342e90"
  },
  "kernelspec": {
   "display_name": "Python 3.8.8 64-bit ('base': conda)",
   "language": "python",
   "name": "python3"
  },
  "language_info": {
   "codemirror_mode": {
    "name": "ipython",
    "version": 3
   },
   "file_extension": ".py",
   "mimetype": "text/x-python",
   "name": "python",
   "nbconvert_exporter": "python",
   "pygments_lexer": "ipython3",
   "version": "3.8.8"
  },
  "orig_nbformat": 4
 },
 "nbformat": 4,
 "nbformat_minor": 2
}
