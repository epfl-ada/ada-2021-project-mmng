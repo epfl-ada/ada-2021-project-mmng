{
 "cells": [
  {
   "cell_type": "markdown",
   "metadata": {},
   "source": [
    "## Analysis over party's political score intervals: distribution and trending of words\n",
    "In this part of the notebook we:\n",
    "- Plot the distributions of the political scores per quote of Republicans vs Democrats\n",
    "- Divide the distribution in 4 intervals and for each of those, grab the most common word of the quotes, in order to analyse our model prediction against to the political inclination.\n",
    "- Plot "
   ]
  },
  {
   "cell_type": "code",
   "execution_count": 1,
   "metadata": {},
   "outputs": [],
   "source": [
    "import statsmodels.api as sm\n",
    "from statsmodels.tsa.stattools import grangercausalitytests\n",
    "import numpy as np\n",
    "import pandas as pd\n",
    "from helpers import *\n",
    "from collections import Counter\n",
    "import nltk\n",
    "import texthero as hp\n",
    "nltk.download('punkt')\n",
    "nltk.download('averaged_perceptron_tagger')"
   ]
  },
  {
   "cell_type": "code",
   "execution_count": 2,
   "metadata": {},
   "outputs": [
    {
     "name": "stdout",
     "output_type": "stream",
     "text": [
      "data.nosync/processed/quotes_labeled_cleaned_predicted.json.bz2\n"
     ]
    }
   ],
   "source": [
    "#read from dataset with predicted values for quotation\n",
    "path = QUOTES_LABELED_CLEANED_PREDICTED\n",
    "data = pd.read_json(path, lines=True, compression='bz2')"
   ]
  },
  {
   "cell_type": "code",
   "execution_count": null,
   "metadata": {},
   "outputs": [
    {
     "data": {
      "text/html": [
       "<div>\n",
       "<style scoped>\n",
       "    .dataframe tbody tr th:only-of-type {\n",
       "        vertical-align: middle;\n",
       "    }\n",
       "\n",
       "    .dataframe tbody tr th {\n",
       "        vertical-align: top;\n",
       "    }\n",
       "\n",
       "    .dataframe thead th {\n",
       "        text-align: right;\n",
       "    }\n",
       "</style>\n",
       "<table border=\"1\" class=\"dataframe\">\n",
       "  <thead>\n",
       "    <tr style=\"text-align: right;\">\n",
       "      <th></th>\n",
       "      <th>quoteID</th>\n",
       "      <th>quotation</th>\n",
       "      <th>speaker</th>\n",
       "      <th>date</th>\n",
       "      <th>numOccurrences</th>\n",
       "      <th>id</th>\n",
       "      <th>party_label</th>\n",
       "      <th>US_congress_bio_ID</th>\n",
       "      <th>quotation_clean</th>\n",
       "      <th>prob_dem</th>\n",
       "    </tr>\n",
       "  </thead>\n",
       "  <tbody>\n",
       "    <tr>\n",
       "      <th>0</th>\n",
       "      <td>2015-08-31-000271</td>\n",
       "      <td>... a great day for veterans here in Littleton...</td>\n",
       "      <td>jeanne shaheen</td>\n",
       "      <td>2015-08-31 02:10:00</td>\n",
       "      <td>2</td>\n",
       "      <td>Q270316</td>\n",
       "      <td>D</td>\n",
       "      <td>S001181</td>\n",
       "      <td>great day veteran littleton across north count...</td>\n",
       "      <td>0.490675</td>\n",
       "    </tr>\n",
       "    <tr>\n",
       "      <th>1</th>\n",
       "      <td>2015-02-03-074650</td>\n",
       "      <td>The safety and security of our nation is at ri...</td>\n",
       "      <td>jeanne shaheen</td>\n",
       "      <td>2015-02-03 20:02:24</td>\n",
       "      <td>2</td>\n",
       "      <td>Q270316</td>\n",
       "      <td>D</td>\n",
       "      <td>S001181</td>\n",
       "      <td>safety security nation risk hold funding homel...</td>\n",
       "      <td>0.485331</td>\n",
       "    </tr>\n",
       "    <tr>\n",
       "      <th>2</th>\n",
       "      <td>2015-05-10-027625</td>\n",
       "      <td>It's been my experience that the faith communi...</td>\n",
       "      <td>jeanne shaheen</td>\n",
       "      <td>2015-05-10 22:48:46</td>\n",
       "      <td>1</td>\n",
       "      <td>Q270316</td>\n",
       "      <td>D</td>\n",
       "      <td>S001181</td>\n",
       "      <td>experience faith community willing partner gov...</td>\n",
       "      <td>0.622086</td>\n",
       "    </tr>\n",
       "    <tr>\n",
       "      <th>3</th>\n",
       "      <td>2015-09-01-113454</td>\n",
       "      <td>we need to bring the parents in so they can se...</td>\n",
       "      <td>jeanne shaheen</td>\n",
       "      <td>2015-09-01 02:12:00</td>\n",
       "      <td>2</td>\n",
       "      <td>Q270316</td>\n",
       "      <td>D</td>\n",
       "      <td>S001181</td>\n",
       "      <td>need bring parent see manufacturing worked sho...</td>\n",
       "      <td>0.613653</td>\n",
       "    </tr>\n",
       "    <tr>\n",
       "      <th>4</th>\n",
       "      <td>2015-10-25-000242</td>\n",
       "      <td>' It is not now, nor has it ever been, the gol...</td>\n",
       "      <td>bernie sanders</td>\n",
       "      <td>2015-10-25 14:12:35</td>\n",
       "      <td>1</td>\n",
       "      <td>Q359442</td>\n",
       "      <td>D</td>\n",
       "      <td>S000033</td>\n",
       "      <td>ever gold standard trade agreement sander said...</td>\n",
       "      <td>0.935853</td>\n",
       "    </tr>\n",
       "    <tr>\n",
       "      <th>...</th>\n",
       "      <td>...</td>\n",
       "      <td>...</td>\n",
       "      <td>...</td>\n",
       "      <td>...</td>\n",
       "      <td>...</td>\n",
       "      <td>...</td>\n",
       "      <td>...</td>\n",
       "      <td>...</td>\n",
       "      <td>...</td>\n",
       "      <td>...</td>\n",
       "    </tr>\n",
       "    <tr>\n",
       "      <th>6396366</th>\n",
       "      <td>2020-02-10-100845</td>\n",
       "      <td>We're just worried about making sure we keep t...</td>\n",
       "      <td>sherrie sprenger</td>\n",
       "      <td>2020-02-10 00:00:00</td>\n",
       "      <td>1</td>\n",
       "      <td>Q7495360</td>\n",
       "      <td>R</td>\n",
       "      <td>None</td>\n",
       "      <td>worried making sure keep balance expression ri...</td>\n",
       "      <td>0.430030</td>\n",
       "    </tr>\n",
       "    <tr>\n",
       "      <th>6396367</th>\n",
       "      <td>2020-03-16-079753</td>\n",
       "      <td>We've all embraced strict proper hygiene proce...</td>\n",
       "      <td>robert abrams</td>\n",
       "      <td>2020-03-16 12:00:00</td>\n",
       "      <td>2</td>\n",
       "      <td>Q2156314</td>\n",
       "      <td>D</td>\n",
       "      <td>None</td>\n",
       "      <td>embraced strict proper hygiene procedure heard...</td>\n",
       "      <td>0.667447</td>\n",
       "    </tr>\n",
       "    <tr>\n",
       "      <th>6396368</th>\n",
       "      <td>2020-01-13-091997</td>\n",
       "      <td>What's important is that we keep moving forward.</td>\n",
       "      <td>laurie jinkins</td>\n",
       "      <td>2020-01-13 19:51:15</td>\n",
       "      <td>1</td>\n",
       "      <td>Q6501617</td>\n",
       "      <td>D</td>\n",
       "      <td>None</td>\n",
       "      <td>important keep moving forward</td>\n",
       "      <td>0.621014</td>\n",
       "    </tr>\n",
       "    <tr>\n",
       "      <th>6396369</th>\n",
       "      <td>2020-02-20-093793</td>\n",
       "      <td>When they want a bill, they bring the bill to ...</td>\n",
       "      <td>j.t. wilcox</td>\n",
       "      <td>2020-02-20 22:12:45</td>\n",
       "      <td>1</td>\n",
       "      <td>Q6104393</td>\n",
       "      <td>R</td>\n",
       "      <td>None</td>\n",
       "      <td>want bill bring bill floor</td>\n",
       "      <td>0.342518</td>\n",
       "    </tr>\n",
       "    <tr>\n",
       "      <th>6396370</th>\n",
       "      <td>2020-02-09-057933</td>\n",
       "      <td>Who will respect different types of people, di...</td>\n",
       "      <td>susan wild</td>\n",
       "      <td>2020-02-09 15:08:23</td>\n",
       "      <td>1</td>\n",
       "      <td>Q58323072</td>\n",
       "      <td>D</td>\n",
       "      <td>W000826</td>\n",
       "      <td>respect different type people different opinio...</td>\n",
       "      <td>0.530031</td>\n",
       "    </tr>\n",
       "  </tbody>\n",
       "</table>\n",
       "<p>6396371 rows × 10 columns</p>\n",
       "</div>"
      ],
      "text/plain": [
       "                   quoteID                                          quotation  \\\n",
       "0        2015-08-31-000271  ... a great day for veterans here in Littleton...   \n",
       "1        2015-02-03-074650  The safety and security of our nation is at ri...   \n",
       "2        2015-05-10-027625  It's been my experience that the faith communi...   \n",
       "3        2015-09-01-113454  we need to bring the parents in so they can se...   \n",
       "4        2015-10-25-000242  ' It is not now, nor has it ever been, the gol...   \n",
       "...                    ...                                                ...   \n",
       "6396366  2020-02-10-100845  We're just worried about making sure we keep t...   \n",
       "6396367  2020-03-16-079753  We've all embraced strict proper hygiene proce...   \n",
       "6396368  2020-01-13-091997   What's important is that we keep moving forward.   \n",
       "6396369  2020-02-20-093793  When they want a bill, they bring the bill to ...   \n",
       "6396370  2020-02-09-057933  Who will respect different types of people, di...   \n",
       "\n",
       "                  speaker                date  numOccurrences         id  \\\n",
       "0          jeanne shaheen 2015-08-31 02:10:00               2    Q270316   \n",
       "1          jeanne shaheen 2015-02-03 20:02:24               2    Q270316   \n",
       "2          jeanne shaheen 2015-05-10 22:48:46               1    Q270316   \n",
       "3          jeanne shaheen 2015-09-01 02:12:00               2    Q270316   \n",
       "4          bernie sanders 2015-10-25 14:12:35               1    Q359442   \n",
       "...                   ...                 ...             ...        ...   \n",
       "6396366  sherrie sprenger 2020-02-10 00:00:00               1   Q7495360   \n",
       "6396367     robert abrams 2020-03-16 12:00:00               2   Q2156314   \n",
       "6396368    laurie jinkins 2020-01-13 19:51:15               1   Q6501617   \n",
       "6396369       j.t. wilcox 2020-02-20 22:12:45               1   Q6104393   \n",
       "6396370        susan wild 2020-02-09 15:08:23               1  Q58323072   \n",
       "\n",
       "        party_label US_congress_bio_ID  \\\n",
       "0                 D            S001181   \n",
       "1                 D            S001181   \n",
       "2                 D            S001181   \n",
       "3                 D            S001181   \n",
       "4                 D            S000033   \n",
       "...             ...                ...   \n",
       "6396366           R               None   \n",
       "6396367           D               None   \n",
       "6396368           D               None   \n",
       "6396369           R               None   \n",
       "6396370           D            W000826   \n",
       "\n",
       "                                           quotation_clean  prob_dem  \n",
       "0        great day veteran littleton across north count...  0.490675  \n",
       "1        safety security nation risk hold funding homel...  0.485331  \n",
       "2        experience faith community willing partner gov...  0.622086  \n",
       "3        need bring parent see manufacturing worked sho...  0.613653  \n",
       "4        ever gold standard trade agreement sander said...  0.935853  \n",
       "...                                                    ...       ...  \n",
       "6396366  worried making sure keep balance expression ri...  0.430030  \n",
       "6396367  embraced strict proper hygiene procedure heard...  0.667447  \n",
       "6396368                      important keep moving forward  0.621014  \n",
       "6396369                         want bill bring bill floor  0.342518  \n",
       "6396370  respect different type people different opinio...  0.530031  \n",
       "\n",
       "[6396371 rows x 10 columns]"
      ]
     },
     "execution_count": 4,
     "metadata": {},
     "output_type": "execute_result"
    }
   ],
   "source": [
    "data"
   ]
  },
  {
   "cell_type": "markdown",
   "metadata": {},
   "source": [
    "Lets anaylse some intervals of the probabilities score to see its most common words.\n",
    "We could then for example relate words used to the strength of a politican inclination (how our model quantifies it).\n",
    "The intervals used are:\n",
    "- [0,0.25] and [0.25,0.5] for the republicans\n",
    "- [0.5,0.75] and [0.75,1] for the democrats\n"
   ]
  },
  {
   "cell_type": "code",
   "execution_count": 3,
   "metadata": {},
   "outputs": [],
   "source": [
    "#split dataset in republicans and democrats\n",
    "rep = data[data.party_label == 'R']\n",
    "dem = data[data.party_label == 'D']"
   ]
  },
  {
   "cell_type": "markdown",
   "metadata": {},
   "source": [
    "This graph represent the distribution of the political score for each party (0-0.5 for the republicans, 0.5-1 for the democrats)"
   ]
  },
  {
   "cell_type": "code",
   "execution_count": 83,
   "metadata": {},
   "outputs": [
    {
     "data": {
      "image/png": "[encoded data removed]",
      "text/plain": [
       "<Figure size 800x480 with 1 Axes>"
      ]
     },
     "metadata": {
      "needs_background": "light"
     },
     "output_type": "display_data"
    }
   ],
   "source": [
    "#plot the distributions\n",
    "\n",
    "import seaborn as sns\n",
    "import matplotlib.pyplot as plt\n",
    "\n",
    "plt.figure(figsize=(10, 6), dpi=80)\n",
    "sns.distplot(rep['prob_dem'],  kde=False, label='Republicans')\n",
    "sns.distplot(dem['prob_dem'],  kde=False,label='Democrats')\n",
    "plt.axvline(0.5, 0,1,color='r')\n",
    "plt.xlim(0, 1)\n",
    "plt.legend(labels=['Party division line','Republicans','Democrats'])\n",
    "plt.title('Distribution of the political scores for the republican and the democrat party')\n",
    "plt.xlabel('Political score')\n",
    "plt.ylabel('Number of quotes')\n",
    "plt.savefig('img_distribution.png')"
   ]
  },
  {
   "cell_type": "code",
   "execution_count": 5,
   "metadata": {},
   "outputs": [],
   "source": [
    "#divide in section (0, 0.25,0.75,1) and create 4 intervals\n",
    "rep_first_interval = rep[(rep['prob_dem'] >=0) & (rep['prob_dem'] <=0.25)]\n",
    "rep_second_interval= rep[(rep['prob_dem'] >0.25) & (rep['prob_dem'] <=0.5)]\n",
    "\n",
    "dem_first_interval = dem[(dem['prob_dem'] >=0.5) & (dem['prob_dem'] <=0.75)]\n",
    "dem_second_interval = dem[(dem['prob_dem'] >0.75) & (dem['prob_dem'] <=1)]"
   ]
  },
  {
   "cell_type": "code",
   "execution_count": 6,
   "metadata": {},
   "outputs": [
    {
     "name": "stderr",
     "output_type": "stream",
     "text": [
      "[nltk_data] Downloading package punkt to\n",
      "[nltk_data]     /Users/giomonopoli/nltk_data...\n",
      "[nltk_data]   Package punkt is already up-to-date!\n",
      "[nltk_data] Downloading package averaged_perceptron_tagger to\n",
      "[nltk_data]     /Users/giomonopoli/nltk_data...\n",
      "[nltk_data]   Package averaged_perceptron_tagger is already up-to-\n",
      "[nltk_data]       date!\n"
     ]
    }
   ],
   "source": [
    "#function removing verbs from sentence\n",
    "def remove_verbs_from_sentence(sentence):\n",
    "    tokens = nltk.word_tokenize(sentence)\n",
    "    #tags words, for example if the word is a verb in it's base form then it tags it with 'VB'\n",
    "    #tagged becomes a list of tuples with (verb,tag) as format\n",
    "    tagged = nltk.pos_tag(tokens)\n",
    "    #filter all verbs from list\n",
    "    tagged =list(filter(lambda x: x[1] not in  ['VB','VBD','VBG','VBN','VBP','VBZ','MD'],tagged))\n",
    "    #remove tags from words\n",
    "    words = list(map(lambda x: x[0], tagged))\n",
    "    #join the words to have a sentence once againg\n",
    "    sentence = ' '.join(words)\n",
    "    return sentence\n",
    "\n",
    "\n",
    "#function performing cleaning over words\n",
    "def clean(series):\n",
    "    series = hp.fillna(series)\n",
    "    series = hp.lowercase(series)\n",
    "    series = hp.remove_digits(series)\n",
    "    series = hp.remove_punctuation(series)\n",
    "    series = hp.remove_diacritics(series)\n",
    "    series = hp.remove_stopwords(series)\n",
    "    series = hp.remove_whitespace(series)\n",
    "    \n",
    "    return series\n",
    "    \n",
    "#function for getting the intervals top words\n",
    "def get_interval_top_words(interval_df):\n",
    "    #create list of words for all the quotes of an interval\n",
    "    interval_word_list = interval_df['quotation'].apply(lambda x: x.split(' ')).tolist()\n",
    "    interval_word_list = [item for sublist in interval_word_list for item in sublist]\n",
    "    #clean the words so we only have important words\n",
    "    interval_word_list  = clean(pd.Series(interval_word_list))\n",
    "    \n",
    "    # count the words\n",
    "    words_to_count = (word for word in interval_word_list)\n",
    "    c = Counter(words_to_count)\n",
    "    return c\n",
    "    "
   ]
  },
  {
   "cell_type": "code",
   "execution_count": 7,
   "metadata": {},
   "outputs": [],
   "source": [
    "#republican intervals with top words\n",
    "c_rep_first = get_interval_top_words(rep_first_interval)\n",
    "c_rep_second = get_interval_top_words(rep_second_interval)"
   ]
  },
  {
   "cell_type": "code",
   "execution_count": 8,
   "metadata": {},
   "outputs": [],
   "source": [
    "#democrat intervals with top words\n",
    "c_dem_first = get_interval_top_words(dem_first_interval)\n",
    "c_dem_second = get_interval_top_words(dem_second_interval)"
   ]
  },
  {
   "cell_type": "code",
   "execution_count": 65,
   "metadata": {},
   "outputs": [
    {
     "name": "stdout",
     "output_type": "stream",
     "text": [
      "[[('president', 113151), ('people', 103229), ('think', 98754), ('state', 63621), ('one', 58851), ('trump', 57108), ('like', 52354), ('us', 51164), ('want', 50470), ('time', 49217), ('states', 42046), ('government', 40438), ('american', 39926), ('need', 39635)], [('people', 171492), ('think', 137349), ('one', 92985), ('state', 87063), ('like', 84438), ('want', 83488), ('time', 80209), ('us', 79171), ('need', 77761), ('really', 62916), ('work', 62454), ('way', 60109), ('good', 58058)], [('people', 176036), ('think', 127215), ('one', 90747), ('us', 84180), ('want', 81131), ('like', 80476), ('need', 79653), ('state', 78443), ('time', 78172), ('really', 64547), ('work', 63106), ('way', 59549), ('president', 58475), ('right', 56298)], [('people', 161226), ('new', 88031), ('city', 73420), ('need', 65604), ('one', 64762), ('us', 64469), ('country', 61901), ('president', 60767), ('state', 59082), ('think', 56628), ('health', 53811), ('time', 52369), ('community', 52263), ('like', 52073), ('work', 51407)]]\n"
     ]
    }
   ],
   "source": [
    "#create tuple with words and count\n",
    "arr_all_intervals = [c_rep_first,c_rep_second,c_dem_first,c_dem_second]\n",
    "all_info_intervals = []\n",
    "for ls in arr_all_intervals:\n",
    "    arr = []\n",
    "    for i in ls.most_common(20):\n",
    "        res = ''\n",
    "        try:   \n",
    "            res = remove_verbs_from_sentence(i[0])\n",
    "            if res:\n",
    "                arr.append((res,i[1]))\n",
    "        except:\n",
    "            None\n",
    "    all_info_intervals.append(arr)\n",
    "        \n",
    "print(all_info_intervals)"
   ]
  },
  {
   "cell_type": "code",
   "execution_count": 66,
   "metadata": {},
   "outputs": [],
   "source": [
    "#doing the sum and dividing so we have proportion and not absolute values\n",
    "for ls in all_info_intervals:\n",
    "    sum=0\n",
    "    for value in ls:\n",
    "        sum+=value[1]\n",
    "        \n",
    "    for i in range(len(ls)):\n",
    "        ls[i] = (ls[i][0],ls[i][1]/sum)\n",
    "    "
   ]
  },
  {
   "cell_type": "code",
   "execution_count": 74,
   "metadata": {},
   "outputs": [],
   "source": [
    "#creating two arrays: with unique words per interval, with shared words between intervals\n",
    "\n",
    "#we drop these words manually since we we want to have an array with unique words per interval (for plotting purposes)\n",
    "drop_words = ['people','think','state','one','like','us','want','time','need','really','work','way']\n",
    "arr = [[],[],[],[]]\n",
    "#append shared words to another list (that we plot later)\n",
    "for i in range(len(all_info_intervals)):\n",
    "    for j in range(len(all_info_intervals[i])):\n",
    "        tuple_to_remove = all_info_intervals[i][j]\n",
    "        \n",
    "        if tuple_to_remove[0] in drop_words:\n",
    "            arr[i].append(tuple_to_remove)\n",
    "\n",
    "#drop shared words from the all_info_intervals list so the unique words remain\n",
    "for interval in all_info_intervals:\n",
    "    for word in interval:\n",
    "        if word[0] in drop_words:\n",
    "            interval.remove(word)"
   ]
  },
  {
   "cell_type": "code",
   "execution_count": 80,
   "metadata": {},
   "outputs": [
    {
     "data": {
      "image/png": "[encoded data removed]",
      "text/plain": [
       "<Figure size 800x480 with 1 Axes>"
      ]
     },
     "metadata": {
      "needs_background": "light"
     },
     "output_type": "display_data"
    }
   ],
   "source": [
    "#function assembling dfs together so to have the following columns: word,frequency and interval\n",
    "def make_df_word_freq(datas,interval_names):\n",
    "    result = []\n",
    "    for data,interval_name in zip(datas,interval_names):\n",
    "        dataframe = pd.DataFrame(data , columns= ['word','frequency'])\n",
    "        dataframe['interval'] = interval_name\n",
    "        result.append(dataframe)\n",
    "    return pd.concat(result)\n",
    "\n",
    "\n",
    "#graph with unique words of each interval\n",
    "\n",
    "data = make_df_word_freq(all_info_intervals,['[0,0.25] Republicans Interval','[0.25,0.5] Republicans Interval','[0.5,0.75] Democrats Interval','[0.75,1] Democrats Interval'])\n",
    "plt.figure(figsize=(10, 6), dpi=80)\n",
    "sns.barplot(data = data, x = 'word', y = 'frequency', hue='interval')\n",
    "plt.xticks(rotation=90);\n",
    "plt.title('Most common words from each interval score (Specific to an interval)')\n",
    "plt.legend(loc='upper right');\n",
    "plt.savefig('img_1(unique).png')"
   ]
  },
  {
   "cell_type": "code",
   "execution_count": 79,
   "metadata": {},
   "outputs": [
    {
     "data": {
      "image/png": "[encoded data removed]",
      "text/plain": [
       "<Figure size 800x480 with 1 Axes>"
      ]
     },
     "metadata": {
      "needs_background": "light"
     },
     "output_type": "display_data"
    }
   ],
   "source": [
    "#the other graph with shared words between intervals\n",
    "\n",
    "data = make_df_word_freq(arr,['[0,0.25] Republicans Interval','[0.25,0.5] Republicans Interval','[0.5,0.75] Democrats Interval','[0.75,1] Democrats Interval'])\n",
    "plt.figure(figsize=(10, 6), dpi=80)\n",
    "sns.barplot(data = data, x = 'word', y = 'frequency', hue='interval')\n",
    "plt.xticks(rotation=90);\n",
    "plt.title('Most common words from each interval score (Shared)')\n",
    "plt.legend(loc='upper right')\n",
    "plt.savefig('img_1(shared).png')"
   ]
  },
  {
   "cell_type": "markdown",
   "metadata": {},
   "source": [
    "Now that we have a nice idea of some political ideas we continue on with our analysis and explorations in the [next notebook](part3_4-time_series_analysis.ipynb)."
   ]
  }
 ],
 "metadata": {
  "kernelspec": {
   "display_name": "Python 3 (ipykernel)",
   "language": "python",
   "name": "python3"
  },
  "language_info": {
   "codemirror_mode": {
    "name": "ipython",
    "version": 3
   },
   "file_extension": ".py",
   "mimetype": "text/x-python",
   "name": "python",
   "nbconvert_exporter": "python",
   "pygments_lexer": "ipython3",
   "version": "3.7.11"
  }
 },
 "nbformat": 4,
 "nbformat_minor": 4
}
