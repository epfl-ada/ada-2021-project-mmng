{
 "cells": [
  {
   "cell_type": "code",
   "execution_count": 2,
   "metadata": {},
   "outputs": [],
   "source": [
    "from helpers import *\n",
    "\n",
    "import sys\n",
    "\n",
    "import bz2\n",
    "import json\n",
    "\n",
    "import pickle\n",
    "\n",
    "import numpy as np\n",
    "# import scipy\n",
    "\n",
    "import pandas as pd\n",
    "\n",
    "from sklearn.feature_extraction.text import TfidfVectorizer\n",
    "\n",
    "from sklearn.pipeline import Pipeline\n",
    "\n",
    "from sklearn.naive_bayes import MultinomialNB\n",
    "# from sklearn.linear_model import LogisticRegression\n",
    "# from sklearn.ensemble import RandomForestClassifier\n",
    "# from sklearn.ensemble import GradientBoostingClassifier\n",
    "# from sklearn.linear_model import SGDClassifier\n",
    "# from sklearn.neural_network import MLPClassifier\n",
    "\n",
    "from sklearn.model_selection import cross_val_score, cross_validate\n",
    "\n",
    "%load_ext autoreload\n",
    "%autoreload 2"
   ]
  },
  {
   "cell_type": "markdown",
   "metadata": {},
   "source": [
    "## Finding the optimal amount of preprocessing"
   ]
  },
  {
   "cell_type": "code",
   "execution_count": null,
   "metadata": {},
   "outputs": [],
   "source": []
  },
  {
   "cell_type": "markdown",
   "metadata": {},
   "source": [
    "## Full data model training"
   ]
  },
  {
   "cell_type": "code",
   "execution_count": 3,
   "metadata": {},
   "outputs": [
    {
     "data": {
      "text/html": [
       "<div>\n",
       "<style scoped>\n",
       "    .dataframe tbody tr th:only-of-type {\n",
       "        vertical-align: middle;\n",
       "    }\n",
       "\n",
       "    .dataframe tbody tr th {\n",
       "        vertical-align: top;\n",
       "    }\n",
       "\n",
       "    .dataframe thead th {\n",
       "        text-align: right;\n",
       "    }\n",
       "</style>\n",
       "<table border=\"1\" class=\"dataframe\">\n",
       "  <thead>\n",
       "    <tr style=\"text-align: right;\">\n",
       "      <th></th>\n",
       "      <th>quoteID</th>\n",
       "      <th>quotation</th>\n",
       "      <th>speaker</th>\n",
       "      <th>date</th>\n",
       "      <th>numOccurrences</th>\n",
       "      <th>id</th>\n",
       "      <th>party_label</th>\n",
       "      <th>US_congress_bio_ID</th>\n",
       "      <th>quotation_clean</th>\n",
       "    </tr>\n",
       "  </thead>\n",
       "  <tbody>\n",
       "    <tr>\n",
       "      <th>0</th>\n",
       "      <td>2020-01-16-000088</td>\n",
       "      <td>[ Department of Homeland Security ] was livid ...</td>\n",
       "      <td>sue myrick</td>\n",
       "      <td>2020-01-16 12:00:13</td>\n",
       "      <td>1</td>\n",
       "      <td>Q367796</td>\n",
       "      <td>R</td>\n",
       "      <td>M001134</td>\n",
       "      <td>department homeland security livid strongly ur...</td>\n",
       "    </tr>\n",
       "    <tr>\n",
       "      <th>1</th>\n",
       "      <td>2020-01-26-000499</td>\n",
       "      <td>a few of the candidates who will do better in ...</td>\n",
       "      <td>dave loebsack</td>\n",
       "      <td>2020-01-26 13:21:36</td>\n",
       "      <td>11</td>\n",
       "      <td>Q771586</td>\n",
       "      <td>D</td>\n",
       "      <td>L000565</td>\n",
       "      <td>candidate better part world</td>\n",
       "    </tr>\n",
       "    <tr>\n",
       "      <th>2</th>\n",
       "      <td>2020-01-26-040663</td>\n",
       "      <td>The generational thing is important, quite hon...</td>\n",
       "      <td>dave loebsack</td>\n",
       "      <td>2020-01-26 13:21:36</td>\n",
       "      <td>11</td>\n",
       "      <td>Q771586</td>\n",
       "      <td>D</td>\n",
       "      <td>L000565</td>\n",
       "      <td>generational thing important quite honestly th...</td>\n",
       "    </tr>\n",
       "    <tr>\n",
       "      <th>3</th>\n",
       "      <td>2020-01-20-000982</td>\n",
       "      <td>a host of other protections</td>\n",
       "      <td>debbie lesko</td>\n",
       "      <td>2020-01-20 15:32:48</td>\n",
       "      <td>1</td>\n",
       "      <td>Q16731415</td>\n",
       "      <td>R</td>\n",
       "      <td>L000589</td>\n",
       "      <td>host protection</td>\n",
       "    </tr>\n",
       "    <tr>\n",
       "      <th>4</th>\n",
       "      <td>2020-01-09-060095</td>\n",
       "      <td>No, are you kidding? The way that this place l...</td>\n",
       "      <td>debbie lesko</td>\n",
       "      <td>2020-01-09 23:15:21</td>\n",
       "      <td>1</td>\n",
       "      <td>Q16731415</td>\n",
       "      <td>R</td>\n",
       "      <td>L000589</td>\n",
       "      <td>kidding way place leak around</td>\n",
       "    </tr>\n",
       "    <tr>\n",
       "      <th>...</th>\n",
       "      <td>...</td>\n",
       "      <td>...</td>\n",
       "      <td>...</td>\n",
       "      <td>...</td>\n",
       "      <td>...</td>\n",
       "      <td>...</td>\n",
       "      <td>...</td>\n",
       "      <td>...</td>\n",
       "      <td>...</td>\n",
       "    </tr>\n",
       "    <tr>\n",
       "      <th>349141</th>\n",
       "      <td>2020-02-10-100845</td>\n",
       "      <td>We're just worried about making sure we keep t...</td>\n",
       "      <td>sherrie sprenger</td>\n",
       "      <td>2020-02-10 00:00:00</td>\n",
       "      <td>1</td>\n",
       "      <td>Q7495360</td>\n",
       "      <td>R</td>\n",
       "      <td>None</td>\n",
       "      <td>worried making sure keep balance expression ri...</td>\n",
       "    </tr>\n",
       "    <tr>\n",
       "      <th>349142</th>\n",
       "      <td>2020-03-16-079753</td>\n",
       "      <td>We've all embraced strict proper hygiene proce...</td>\n",
       "      <td>robert abrams</td>\n",
       "      <td>2020-03-16 12:00:00</td>\n",
       "      <td>2</td>\n",
       "      <td>Q2156314</td>\n",
       "      <td>D</td>\n",
       "      <td>None</td>\n",
       "      <td>embraced strict proper hygiene procedure heard...</td>\n",
       "    </tr>\n",
       "    <tr>\n",
       "      <th>349143</th>\n",
       "      <td>2020-01-13-091997</td>\n",
       "      <td>What's important is that we keep moving forward.</td>\n",
       "      <td>laurie jinkins</td>\n",
       "      <td>2020-01-13 19:51:15</td>\n",
       "      <td>1</td>\n",
       "      <td>Q6501617</td>\n",
       "      <td>D</td>\n",
       "      <td>None</td>\n",
       "      <td>important keep moving forward</td>\n",
       "    </tr>\n",
       "    <tr>\n",
       "      <th>349144</th>\n",
       "      <td>2020-02-20-093793</td>\n",
       "      <td>When they want a bill, they bring the bill to ...</td>\n",
       "      <td>j.t. wilcox</td>\n",
       "      <td>2020-02-20 22:12:45</td>\n",
       "      <td>1</td>\n",
       "      <td>Q6104393</td>\n",
       "      <td>R</td>\n",
       "      <td>None</td>\n",
       "      <td>want bill bring bill floor</td>\n",
       "    </tr>\n",
       "    <tr>\n",
       "      <th>349145</th>\n",
       "      <td>2020-02-09-057933</td>\n",
       "      <td>Who will respect different types of people, di...</td>\n",
       "      <td>susan wild</td>\n",
       "      <td>2020-02-09 15:08:23</td>\n",
       "      <td>1</td>\n",
       "      <td>Q58323072</td>\n",
       "      <td>D</td>\n",
       "      <td>W000826</td>\n",
       "      <td>respect different type people different opinio...</td>\n",
       "    </tr>\n",
       "  </tbody>\n",
       "</table>\n",
       "<p>349146 rows × 9 columns</p>\n",
       "</div>"
      ],
      "text/plain": [
       "                  quoteID                                          quotation  \\\n",
       "0       2020-01-16-000088  [ Department of Homeland Security ] was livid ...   \n",
       "1       2020-01-26-000499  a few of the candidates who will do better in ...   \n",
       "2       2020-01-26-040663  The generational thing is important, quite hon...   \n",
       "3       2020-01-20-000982                        a host of other protections   \n",
       "4       2020-01-09-060095  No, are you kidding? The way that this place l...   \n",
       "...                   ...                                                ...   \n",
       "349141  2020-02-10-100845  We're just worried about making sure we keep t...   \n",
       "349142  2020-03-16-079753  We've all embraced strict proper hygiene proce...   \n",
       "349143  2020-01-13-091997   What's important is that we keep moving forward.   \n",
       "349144  2020-02-20-093793  When they want a bill, they bring the bill to ...   \n",
       "349145  2020-02-09-057933  Who will respect different types of people, di...   \n",
       "\n",
       "                 speaker                date  numOccurrences         id  \\\n",
       "0             sue myrick 2020-01-16 12:00:13               1    Q367796   \n",
       "1          dave loebsack 2020-01-26 13:21:36              11    Q771586   \n",
       "2          dave loebsack 2020-01-26 13:21:36              11    Q771586   \n",
       "3           debbie lesko 2020-01-20 15:32:48               1  Q16731415   \n",
       "4           debbie lesko 2020-01-09 23:15:21               1  Q16731415   \n",
       "...                  ...                 ...             ...        ...   \n",
       "349141  sherrie sprenger 2020-02-10 00:00:00               1   Q7495360   \n",
       "349142     robert abrams 2020-03-16 12:00:00               2   Q2156314   \n",
       "349143    laurie jinkins 2020-01-13 19:51:15               1   Q6501617   \n",
       "349144       j.t. wilcox 2020-02-20 22:12:45               1   Q6104393   \n",
       "349145        susan wild 2020-02-09 15:08:23               1  Q58323072   \n",
       "\n",
       "       party_label US_congress_bio_ID  \\\n",
       "0                R            M001134   \n",
       "1                D            L000565   \n",
       "2                D            L000565   \n",
       "3                R            L000589   \n",
       "4                R            L000589   \n",
       "...            ...                ...   \n",
       "349141           R               None   \n",
       "349142           D               None   \n",
       "349143           D               None   \n",
       "349144           R               None   \n",
       "349145           D            W000826   \n",
       "\n",
       "                                          quotation_clean  \n",
       "0       department homeland security livid strongly ur...  \n",
       "1                             candidate better part world  \n",
       "2       generational thing important quite honestly th...  \n",
       "3                                         host protection  \n",
       "4                           kidding way place leak around  \n",
       "...                                                   ...  \n",
       "349141  worried making sure keep balance expression ri...  \n",
       "349142  embraced strict proper hygiene procedure heard...  \n",
       "349143                      important keep moving forward  \n",
       "349144                         want bill bring bill floor  \n",
       "349145  respect different type people different opinio...  \n",
       "\n",
       "[349146 rows x 9 columns]"
      ]
     },
     "execution_count": 3,
     "metadata": {},
     "output_type": "execute_result"
    }
   ],
   "source": [
    "# path = fixpath(QUOTES_LABELED_CLEANED)\n",
    "path = fixpath(QUOTES_2020_LABELED_CLEANED)\n",
    "df_raw = pd.read_json(path, orient='records', lines=True)\n",
    "df_raw"
   ]
  },
  {
   "cell_type": "code",
   "execution_count": 4,
   "metadata": {},
   "outputs": [
    {
     "data": {
      "text/html": [
       "<div>\n",
       "<style scoped>\n",
       "    .dataframe tbody tr th:only-of-type {\n",
       "        vertical-align: middle;\n",
       "    }\n",
       "\n",
       "    .dataframe tbody tr th {\n",
       "        vertical-align: top;\n",
       "    }\n",
       "\n",
       "    .dataframe thead th {\n",
       "        text-align: right;\n",
       "    }\n",
       "</style>\n",
       "<table border=\"1\" class=\"dataframe\">\n",
       "  <thead>\n",
       "    <tr style=\"text-align: right;\">\n",
       "      <th></th>\n",
       "      <th>quoteID</th>\n",
       "      <th>quotation</th>\n",
       "      <th>speaker</th>\n",
       "      <th>date</th>\n",
       "      <th>id</th>\n",
       "      <th>party_label</th>\n",
       "      <th>quotation_clean</th>\n",
       "    </tr>\n",
       "  </thead>\n",
       "  <tbody>\n",
       "    <tr>\n",
       "      <th>0</th>\n",
       "      <td>2020-01-16-000088</td>\n",
       "      <td>[ Department of Homeland Security ] was livid ...</td>\n",
       "      <td>sue myrick</td>\n",
       "      <td>2020-01-16 12:00:13</td>\n",
       "      <td>Q367796</td>\n",
       "      <td>R</td>\n",
       "      <td>department homeland security livid strongly ur...</td>\n",
       "    </tr>\n",
       "    <tr>\n",
       "      <th>1</th>\n",
       "      <td>2020-01-26-000499</td>\n",
       "      <td>a few of the candidates who will do better in ...</td>\n",
       "      <td>dave loebsack</td>\n",
       "      <td>2020-01-26 13:21:36</td>\n",
       "      <td>Q771586</td>\n",
       "      <td>D</td>\n",
       "      <td>candidate better part world</td>\n",
       "    </tr>\n",
       "    <tr>\n",
       "      <th>2</th>\n",
       "      <td>2020-01-26-040663</td>\n",
       "      <td>The generational thing is important, quite hon...</td>\n",
       "      <td>dave loebsack</td>\n",
       "      <td>2020-01-26 13:21:36</td>\n",
       "      <td>Q771586</td>\n",
       "      <td>D</td>\n",
       "      <td>generational thing important quite honestly th...</td>\n",
       "    </tr>\n",
       "    <tr>\n",
       "      <th>3</th>\n",
       "      <td>2020-01-20-000982</td>\n",
       "      <td>a host of other protections</td>\n",
       "      <td>debbie lesko</td>\n",
       "      <td>2020-01-20 15:32:48</td>\n",
       "      <td>Q16731415</td>\n",
       "      <td>R</td>\n",
       "      <td>host protection</td>\n",
       "    </tr>\n",
       "    <tr>\n",
       "      <th>4</th>\n",
       "      <td>2020-01-09-060095</td>\n",
       "      <td>No, are you kidding? The way that this place l...</td>\n",
       "      <td>debbie lesko</td>\n",
       "      <td>2020-01-09 23:15:21</td>\n",
       "      <td>Q16731415</td>\n",
       "      <td>R</td>\n",
       "      <td>kidding way place leak around</td>\n",
       "    </tr>\n",
       "    <tr>\n",
       "      <th>...</th>\n",
       "      <td>...</td>\n",
       "      <td>...</td>\n",
       "      <td>...</td>\n",
       "      <td>...</td>\n",
       "      <td>...</td>\n",
       "      <td>...</td>\n",
       "      <td>...</td>\n",
       "    </tr>\n",
       "    <tr>\n",
       "      <th>349141</th>\n",
       "      <td>2020-02-10-100845</td>\n",
       "      <td>We're just worried about making sure we keep t...</td>\n",
       "      <td>sherrie sprenger</td>\n",
       "      <td>2020-02-10 00:00:00</td>\n",
       "      <td>Q7495360</td>\n",
       "      <td>R</td>\n",
       "      <td>worried making sure keep balance expression ri...</td>\n",
       "    </tr>\n",
       "    <tr>\n",
       "      <th>349142</th>\n",
       "      <td>2020-03-16-079753</td>\n",
       "      <td>We've all embraced strict proper hygiene proce...</td>\n",
       "      <td>robert abrams</td>\n",
       "      <td>2020-03-16 12:00:00</td>\n",
       "      <td>Q2156314</td>\n",
       "      <td>D</td>\n",
       "      <td>embraced strict proper hygiene procedure heard...</td>\n",
       "    </tr>\n",
       "    <tr>\n",
       "      <th>349143</th>\n",
       "      <td>2020-01-13-091997</td>\n",
       "      <td>What's important is that we keep moving forward.</td>\n",
       "      <td>laurie jinkins</td>\n",
       "      <td>2020-01-13 19:51:15</td>\n",
       "      <td>Q6501617</td>\n",
       "      <td>D</td>\n",
       "      <td>important keep moving forward</td>\n",
       "    </tr>\n",
       "    <tr>\n",
       "      <th>349144</th>\n",
       "      <td>2020-02-20-093793</td>\n",
       "      <td>When they want a bill, they bring the bill to ...</td>\n",
       "      <td>j.t. wilcox</td>\n",
       "      <td>2020-02-20 22:12:45</td>\n",
       "      <td>Q6104393</td>\n",
       "      <td>R</td>\n",
       "      <td>want bill bring bill floor</td>\n",
       "    </tr>\n",
       "    <tr>\n",
       "      <th>349145</th>\n",
       "      <td>2020-02-09-057933</td>\n",
       "      <td>Who will respect different types of people, di...</td>\n",
       "      <td>susan wild</td>\n",
       "      <td>2020-02-09 15:08:23</td>\n",
       "      <td>Q58323072</td>\n",
       "      <td>D</td>\n",
       "      <td>respect different type people different opinio...</td>\n",
       "    </tr>\n",
       "  </tbody>\n",
       "</table>\n",
       "<p>349146 rows × 7 columns</p>\n",
       "</div>"
      ],
      "text/plain": [
       "                  quoteID                                          quotation  \\\n",
       "0       2020-01-16-000088  [ Department of Homeland Security ] was livid ...   \n",
       "1       2020-01-26-000499  a few of the candidates who will do better in ...   \n",
       "2       2020-01-26-040663  The generational thing is important, quite hon...   \n",
       "3       2020-01-20-000982                        a host of other protections   \n",
       "4       2020-01-09-060095  No, are you kidding? The way that this place l...   \n",
       "...                   ...                                                ...   \n",
       "349141  2020-02-10-100845  We're just worried about making sure we keep t...   \n",
       "349142  2020-03-16-079753  We've all embraced strict proper hygiene proce...   \n",
       "349143  2020-01-13-091997   What's important is that we keep moving forward.   \n",
       "349144  2020-02-20-093793  When they want a bill, they bring the bill to ...   \n",
       "349145  2020-02-09-057933  Who will respect different types of people, di...   \n",
       "\n",
       "                 speaker                date         id party_label  \\\n",
       "0             sue myrick 2020-01-16 12:00:13    Q367796           R   \n",
       "1          dave loebsack 2020-01-26 13:21:36    Q771586           D   \n",
       "2          dave loebsack 2020-01-26 13:21:36    Q771586           D   \n",
       "3           debbie lesko 2020-01-20 15:32:48  Q16731415           R   \n",
       "4           debbie lesko 2020-01-09 23:15:21  Q16731415           R   \n",
       "...                  ...                 ...        ...         ...   \n",
       "349141  sherrie sprenger 2020-02-10 00:00:00   Q7495360           R   \n",
       "349142     robert abrams 2020-03-16 12:00:00   Q2156314           D   \n",
       "349143    laurie jinkins 2020-01-13 19:51:15   Q6501617           D   \n",
       "349144       j.t. wilcox 2020-02-20 22:12:45   Q6104393           R   \n",
       "349145        susan wild 2020-02-09 15:08:23  Q58323072           D   \n",
       "\n",
       "                                          quotation_clean  \n",
       "0       department homeland security livid strongly ur...  \n",
       "1                             candidate better part world  \n",
       "2       generational thing important quite honestly th...  \n",
       "3                                         host protection  \n",
       "4                           kidding way place leak around  \n",
       "...                                                   ...  \n",
       "349141  worried making sure keep balance expression ri...  \n",
       "349142  embraced strict proper hygiene procedure heard...  \n",
       "349143                      important keep moving forward  \n",
       "349144                         want bill bring bill floor  \n",
       "349145  respect different type people different opinio...  \n",
       "\n",
       "[349146 rows x 7 columns]"
      ]
     },
     "execution_count": 4,
     "metadata": {},
     "output_type": "execute_result"
    }
   ],
   "source": [
    "df = df_raw.copy()\n",
    "df.drop(['numOccurrences','US_congress_bio_ID'], axis=1, inplace=True)\n",
    "df"
   ]
  },
  {
   "cell_type": "code",
   "execution_count": 5,
   "metadata": {},
   "outputs": [
    {
     "data": {
      "text/plain": [
       "D    218894\n",
       "R    130252\n",
       "Name: party_label, dtype: int64"
      ]
     },
     "execution_count": 5,
     "metadata": {},
     "output_type": "execute_result"
    }
   ],
   "source": [
    "df['party_label'].value_counts()"
   ]
  },
  {
   "cell_type": "markdown",
   "metadata": {},
   "source": [
    "### Filtering politcally insignificant quotes "
   ]
  },
  {
   "cell_type": "code",
   "execution_count": 6,
   "metadata": {},
   "outputs": [],
   "source": [
    "def filter_relevant_quotes_basic(df):\n",
    "    lengths_of_df = df['quotation_clean'].apply(lambda x: len(x))\n",
    "\n",
    "    # df = df[np.logical_and(lengths_of_df > lengths_of_df.quantile(0.3), lengths_of_df < lengths_of_df.quantile(0.9))]\n",
    "    df = df[lengths_of_df > lengths_of_df.quantile(0.1)]\n",
    "\n",
    "    return df"
   ]
  },
  {
   "cell_type": "code",
   "execution_count": 7,
   "metadata": {},
   "outputs": [
    {
     "data": {
      "text/html": [
       "<div>\n",
       "<style scoped>\n",
       "    .dataframe tbody tr th:only-of-type {\n",
       "        vertical-align: middle;\n",
       "    }\n",
       "\n",
       "    .dataframe tbody tr th {\n",
       "        vertical-align: top;\n",
       "    }\n",
       "\n",
       "    .dataframe thead th {\n",
       "        text-align: right;\n",
       "    }\n",
       "</style>\n",
       "<table border=\"1\" class=\"dataframe\">\n",
       "  <thead>\n",
       "    <tr style=\"text-align: right;\">\n",
       "      <th></th>\n",
       "      <th>quoteID</th>\n",
       "      <th>quotation</th>\n",
       "      <th>speaker</th>\n",
       "      <th>date</th>\n",
       "      <th>id</th>\n",
       "      <th>party_label</th>\n",
       "      <th>quotation_clean</th>\n",
       "    </tr>\n",
       "  </thead>\n",
       "  <tbody>\n",
       "    <tr>\n",
       "      <th>0</th>\n",
       "      <td>2020-01-16-000088</td>\n",
       "      <td>[ Department of Homeland Security ] was livid ...</td>\n",
       "      <td>sue myrick</td>\n",
       "      <td>2020-01-16 12:00:13</td>\n",
       "      <td>Q367796</td>\n",
       "      <td>R</td>\n",
       "      <td>department homeland security livid strongly ur...</td>\n",
       "    </tr>\n",
       "    <tr>\n",
       "      <th>1</th>\n",
       "      <td>2020-01-26-000499</td>\n",
       "      <td>a few of the candidates who will do better in ...</td>\n",
       "      <td>dave loebsack</td>\n",
       "      <td>2020-01-26 13:21:36</td>\n",
       "      <td>Q771586</td>\n",
       "      <td>D</td>\n",
       "      <td>candidate better part world</td>\n",
       "    </tr>\n",
       "    <tr>\n",
       "      <th>2</th>\n",
       "      <td>2020-01-26-040663</td>\n",
       "      <td>The generational thing is important, quite hon...</td>\n",
       "      <td>dave loebsack</td>\n",
       "      <td>2020-01-26 13:21:36</td>\n",
       "      <td>Q771586</td>\n",
       "      <td>D</td>\n",
       "      <td>generational thing important quite honestly th...</td>\n",
       "    </tr>\n",
       "    <tr>\n",
       "      <th>4</th>\n",
       "      <td>2020-01-09-060095</td>\n",
       "      <td>No, are you kidding? The way that this place l...</td>\n",
       "      <td>debbie lesko</td>\n",
       "      <td>2020-01-09 23:15:21</td>\n",
       "      <td>Q16731415</td>\n",
       "      <td>R</td>\n",
       "      <td>kidding way place leak around</td>\n",
       "    </tr>\n",
       "    <tr>\n",
       "      <th>5</th>\n",
       "      <td>2020-01-03-001237</td>\n",
       "      <td>A lot of Americans [ were ] upset that this wa...</td>\n",
       "      <td>julián castro</td>\n",
       "      <td>2020-01-03 00:00:00</td>\n",
       "      <td>Q970720</td>\n",
       "      <td>D</td>\n",
       "      <td>lot american upset happening lot people know g...</td>\n",
       "    </tr>\n",
       "    <tr>\n",
       "      <th>...</th>\n",
       "      <td>...</td>\n",
       "      <td>...</td>\n",
       "      <td>...</td>\n",
       "      <td>...</td>\n",
       "      <td>...</td>\n",
       "      <td>...</td>\n",
       "      <td>...</td>\n",
       "    </tr>\n",
       "    <tr>\n",
       "      <th>349141</th>\n",
       "      <td>2020-02-10-100845</td>\n",
       "      <td>We're just worried about making sure we keep t...</td>\n",
       "      <td>sherrie sprenger</td>\n",
       "      <td>2020-02-10 00:00:00</td>\n",
       "      <td>Q7495360</td>\n",
       "      <td>R</td>\n",
       "      <td>worried making sure keep balance expression ri...</td>\n",
       "    </tr>\n",
       "    <tr>\n",
       "      <th>349142</th>\n",
       "      <td>2020-03-16-079753</td>\n",
       "      <td>We've all embraced strict proper hygiene proce...</td>\n",
       "      <td>robert abrams</td>\n",
       "      <td>2020-03-16 12:00:00</td>\n",
       "      <td>Q2156314</td>\n",
       "      <td>D</td>\n",
       "      <td>embraced strict proper hygiene procedure heard...</td>\n",
       "    </tr>\n",
       "    <tr>\n",
       "      <th>349143</th>\n",
       "      <td>2020-01-13-091997</td>\n",
       "      <td>What's important is that we keep moving forward.</td>\n",
       "      <td>laurie jinkins</td>\n",
       "      <td>2020-01-13 19:51:15</td>\n",
       "      <td>Q6501617</td>\n",
       "      <td>D</td>\n",
       "      <td>important keep moving forward</td>\n",
       "    </tr>\n",
       "    <tr>\n",
       "      <th>349144</th>\n",
       "      <td>2020-02-20-093793</td>\n",
       "      <td>When they want a bill, they bring the bill to ...</td>\n",
       "      <td>j.t. wilcox</td>\n",
       "      <td>2020-02-20 22:12:45</td>\n",
       "      <td>Q6104393</td>\n",
       "      <td>R</td>\n",
       "      <td>want bill bring bill floor</td>\n",
       "    </tr>\n",
       "    <tr>\n",
       "      <th>349145</th>\n",
       "      <td>2020-02-09-057933</td>\n",
       "      <td>Who will respect different types of people, di...</td>\n",
       "      <td>susan wild</td>\n",
       "      <td>2020-02-09 15:08:23</td>\n",
       "      <td>Q58323072</td>\n",
       "      <td>D</td>\n",
       "      <td>respect different type people different opinio...</td>\n",
       "    </tr>\n",
       "  </tbody>\n",
       "</table>\n",
       "<p>311839 rows × 7 columns</p>\n",
       "</div>"
      ],
      "text/plain": [
       "                  quoteID                                          quotation  \\\n",
       "0       2020-01-16-000088  [ Department of Homeland Security ] was livid ...   \n",
       "1       2020-01-26-000499  a few of the candidates who will do better in ...   \n",
       "2       2020-01-26-040663  The generational thing is important, quite hon...   \n",
       "4       2020-01-09-060095  No, are you kidding? The way that this place l...   \n",
       "5       2020-01-03-001237  A lot of Americans [ were ] upset that this wa...   \n",
       "...                   ...                                                ...   \n",
       "349141  2020-02-10-100845  We're just worried about making sure we keep t...   \n",
       "349142  2020-03-16-079753  We've all embraced strict proper hygiene proce...   \n",
       "349143  2020-01-13-091997   What's important is that we keep moving forward.   \n",
       "349144  2020-02-20-093793  When they want a bill, they bring the bill to ...   \n",
       "349145  2020-02-09-057933  Who will respect different types of people, di...   \n",
       "\n",
       "                 speaker                date         id party_label  \\\n",
       "0             sue myrick 2020-01-16 12:00:13    Q367796           R   \n",
       "1          dave loebsack 2020-01-26 13:21:36    Q771586           D   \n",
       "2          dave loebsack 2020-01-26 13:21:36    Q771586           D   \n",
       "4           debbie lesko 2020-01-09 23:15:21  Q16731415           R   \n",
       "5          julián castro 2020-01-03 00:00:00    Q970720           D   \n",
       "...                  ...                 ...        ...         ...   \n",
       "349141  sherrie sprenger 2020-02-10 00:00:00   Q7495360           R   \n",
       "349142     robert abrams 2020-03-16 12:00:00   Q2156314           D   \n",
       "349143    laurie jinkins 2020-01-13 19:51:15   Q6501617           D   \n",
       "349144       j.t. wilcox 2020-02-20 22:12:45   Q6104393           R   \n",
       "349145        susan wild 2020-02-09 15:08:23  Q58323072           D   \n",
       "\n",
       "                                          quotation_clean  \n",
       "0       department homeland security livid strongly ur...  \n",
       "1                             candidate better part world  \n",
       "2       generational thing important quite honestly th...  \n",
       "4                           kidding way place leak around  \n",
       "5       lot american upset happening lot people know g...  \n",
       "...                                                   ...  \n",
       "349141  worried making sure keep balance expression ri...  \n",
       "349142  embraced strict proper hygiene procedure heard...  \n",
       "349143                      important keep moving forward  \n",
       "349144                         want bill bring bill floor  \n",
       "349145  respect different type people different opinio...  \n",
       "\n",
       "[311839 rows x 7 columns]"
      ]
     },
     "execution_count": 7,
     "metadata": {},
     "output_type": "execute_result"
    }
   ],
   "source": [
    "df_filt = filter_relevant_quotes_basic(df)\n",
    "df_filt"
   ]
  },
  {
   "cell_type": "code",
   "execution_count": 8,
   "metadata": {},
   "outputs": [
    {
     "data": {
      "text/plain": [
       "D    194756\n",
       "R    117083\n",
       "Name: party_label, dtype: int64"
      ]
     },
     "execution_count": 8,
     "metadata": {},
     "output_type": "execute_result"
    }
   ],
   "source": [
    "df_filt['party_label'].value_counts()"
   ]
  },
  {
   "cell_type": "code",
   "execution_count": 9,
   "metadata": {},
   "outputs": [
    {
     "data": {
      "text/plain": [
       "24"
      ]
     },
     "execution_count": 9,
     "metadata": {},
     "output_type": "execute_result"
    }
   ],
   "source": [
    "df_filt['quotation_clean'].apply(lambda x: len(x)).min()"
   ]
  },
  {
   "cell_type": "markdown",
   "metadata": {},
   "source": [
    "### Balancing data"
   ]
  },
  {
   "cell_type": "code",
   "execution_count": 10,
   "metadata": {},
   "outputs": [],
   "source": [
    "\n",
    "df_filt = downsample(df_filt, 'party_label')"
   ]
  },
  {
   "cell_type": "code",
   "execution_count": 11,
   "metadata": {},
   "outputs": [
    {
     "data": {
      "text/plain": [
       "D    117083\n",
       "R    117083\n",
       "Name: party_label, dtype: int64"
      ]
     },
     "execution_count": 11,
     "metadata": {},
     "output_type": "execute_result"
    }
   ],
   "source": [
    "df_filt['party_label'].value_counts()"
   ]
  },
  {
   "cell_type": "code",
   "execution_count": 12,
   "metadata": {},
   "outputs": [
    {
     "data": {
      "text/html": [
       "<div>\n",
       "<style scoped>\n",
       "    .dataframe tbody tr th:only-of-type {\n",
       "        vertical-align: middle;\n",
       "    }\n",
       "\n",
       "    .dataframe tbody tr th {\n",
       "        vertical-align: top;\n",
       "    }\n",
       "\n",
       "    .dataframe thead th {\n",
       "        text-align: right;\n",
       "    }\n",
       "</style>\n",
       "<table border=\"1\" class=\"dataframe\">\n",
       "  <thead>\n",
       "    <tr style=\"text-align: right;\">\n",
       "      <th></th>\n",
       "      <th>quoteID</th>\n",
       "      <th>quotation</th>\n",
       "      <th>speaker</th>\n",
       "      <th>date</th>\n",
       "      <th>id</th>\n",
       "      <th>party_label</th>\n",
       "      <th>quotation_clean</th>\n",
       "    </tr>\n",
       "  </thead>\n",
       "  <tbody>\n",
       "    <tr>\n",
       "      <th>0</th>\n",
       "      <td>2020-04-16-028496</td>\n",
       "      <td>It would be a huge mistake to restart too earl...</td>\n",
       "      <td>bill de blasio</td>\n",
       "      <td>2020-04-16 14:05:20</td>\n",
       "      <td>Q4911497</td>\n",
       "      <td>D</td>\n",
       "      <td>would huge mistake restart early would huge mi...</td>\n",
       "    </tr>\n",
       "    <tr>\n",
       "      <th>1</th>\n",
       "      <td>2020-01-03-013634</td>\n",
       "      <td>evil man whose death we do not mourn,</td>\n",
       "      <td>chellie pingree</td>\n",
       "      <td>2020-01-03 16:51:33</td>\n",
       "      <td>Q457243</td>\n",
       "      <td>D</td>\n",
       "      <td>evil man whose death mourn</td>\n",
       "    </tr>\n",
       "    <tr>\n",
       "      <th>2</th>\n",
       "      <td>2020-03-29-000363</td>\n",
       "      <td>a little crispy around the edges</td>\n",
       "      <td>melissa hortman</td>\n",
       "      <td>2020-03-29 00:00:00</td>\n",
       "      <td>Q6812738</td>\n",
       "      <td>D</td>\n",
       "      <td>little crispy around edge</td>\n",
       "    </tr>\n",
       "    <tr>\n",
       "      <th>3</th>\n",
       "      <td>2020-01-09-077904</td>\n",
       "      <td>The cost of healthcare is just too damn high, ...</td>\n",
       "      <td>gavin newsom</td>\n",
       "      <td>2020-01-09 15:15:05</td>\n",
       "      <td>Q461391</td>\n",
       "      <td>D</td>\n",
       "      <td>cost healthcare damn high california fighting ...</td>\n",
       "    </tr>\n",
       "    <tr>\n",
       "      <th>4</th>\n",
       "      <td>2020-02-27-049540</td>\n",
       "      <td>My mother would say, `The world is yours, grab...</td>\n",
       "      <td>herb wesson</td>\n",
       "      <td>2020-02-27 00:00:00</td>\n",
       "      <td>Q16151544</td>\n",
       "      <td>D</td>\n",
       "      <td>mother would say world grab tail shake hell ba...</td>\n",
       "    </tr>\n",
       "    <tr>\n",
       "      <th>...</th>\n",
       "      <td>...</td>\n",
       "      <td>...</td>\n",
       "      <td>...</td>\n",
       "      <td>...</td>\n",
       "      <td>...</td>\n",
       "      <td>...</td>\n",
       "      <td>...</td>\n",
       "    </tr>\n",
       "    <tr>\n",
       "      <th>234161</th>\n",
       "      <td>2020-04-02-047841</td>\n",
       "      <td>pervasiveness and seriousness of the FISA appl...</td>\n",
       "      <td>jim jordan</td>\n",
       "      <td>2020-04-02 10:00:49</td>\n",
       "      <td>Q186215</td>\n",
       "      <td>R</td>\n",
       "      <td>pervasiveness seriousness fisa application def...</td>\n",
       "    </tr>\n",
       "    <tr>\n",
       "      <th>234162</th>\n",
       "      <td>2020-02-21-012069</td>\n",
       "      <td>Don't think you've been forgotten, don't think...</td>\n",
       "      <td>steve bannon</td>\n",
       "      <td>2020-02-21 19:53:14</td>\n",
       "      <td>Q16146870</td>\n",
       "      <td>R</td>\n",
       "      <td>think forgotten think forgotten man forgotten ...</td>\n",
       "    </tr>\n",
       "    <tr>\n",
       "      <th>234163</th>\n",
       "      <td>2020-01-03-074389</td>\n",
       "      <td>We just want to make sure our tax money is spe...</td>\n",
       "      <td>pete flores</td>\n",
       "      <td>2020-01-03 06:00:00</td>\n",
       "      <td>Q56678374</td>\n",
       "      <td>R</td>\n",
       "      <td>want make sure tax money spent appropriately</td>\n",
       "    </tr>\n",
       "    <tr>\n",
       "      <th>234164</th>\n",
       "      <td>2020-03-26-014365</td>\n",
       "      <td>failed to protect students and address their c...</td>\n",
       "      <td>betsy devos</td>\n",
       "      <td>2020-03-26 22:21:20</td>\n",
       "      <td>Q4898286</td>\n",
       "      <td>R</td>\n",
       "      <td>failed protect student address complaint sexua...</td>\n",
       "    </tr>\n",
       "    <tr>\n",
       "      <th>234165</th>\n",
       "      <td>2020-03-12-027969</td>\n",
       "      <td>I think the president's going to be very aggre...</td>\n",
       "      <td>lindsey graham</td>\n",
       "      <td>2020-03-12 19:34:15</td>\n",
       "      <td>Q22212</td>\n",
       "      <td>R</td>\n",
       "      <td>think president going aggressive</td>\n",
       "    </tr>\n",
       "  </tbody>\n",
       "</table>\n",
       "<p>234166 rows × 7 columns</p>\n",
       "</div>"
      ],
      "text/plain": [
       "                  quoteID                                          quotation  \\\n",
       "0       2020-04-16-028496  It would be a huge mistake to restart too earl...   \n",
       "1       2020-01-03-013634              evil man whose death we do not mourn,   \n",
       "2       2020-03-29-000363                   a little crispy around the edges   \n",
       "3       2020-01-09-077904  The cost of healthcare is just too damn high, ...   \n",
       "4       2020-02-27-049540  My mother would say, `The world is yours, grab...   \n",
       "...                   ...                                                ...   \n",
       "234161  2020-04-02-047841  pervasiveness and seriousness of the FISA appl...   \n",
       "234162  2020-02-21-012069  Don't think you've been forgotten, don't think...   \n",
       "234163  2020-01-03-074389  We just want to make sure our tax money is spe...   \n",
       "234164  2020-03-26-014365  failed to protect students and address their c...   \n",
       "234165  2020-03-12-027969  I think the president's going to be very aggre...   \n",
       "\n",
       "                speaker                date         id party_label  \\\n",
       "0        bill de blasio 2020-04-16 14:05:20   Q4911497           D   \n",
       "1       chellie pingree 2020-01-03 16:51:33    Q457243           D   \n",
       "2       melissa hortman 2020-03-29 00:00:00   Q6812738           D   \n",
       "3          gavin newsom 2020-01-09 15:15:05    Q461391           D   \n",
       "4           herb wesson 2020-02-27 00:00:00  Q16151544           D   \n",
       "...                 ...                 ...        ...         ...   \n",
       "234161       jim jordan 2020-04-02 10:00:49    Q186215           R   \n",
       "234162     steve bannon 2020-02-21 19:53:14  Q16146870           R   \n",
       "234163      pete flores 2020-01-03 06:00:00  Q56678374           R   \n",
       "234164      betsy devos 2020-03-26 22:21:20   Q4898286           R   \n",
       "234165   lindsey graham 2020-03-12 19:34:15     Q22212           R   \n",
       "\n",
       "                                          quotation_clean  \n",
       "0       would huge mistake restart early would huge mi...  \n",
       "1                              evil man whose death mourn  \n",
       "2                               little crispy around edge  \n",
       "3       cost healthcare damn high california fighting ...  \n",
       "4       mother would say world grab tail shake hell ba...  \n",
       "...                                                   ...  \n",
       "234161  pervasiveness seriousness fisa application def...  \n",
       "234162  think forgotten think forgotten man forgotten ...  \n",
       "234163       want make sure tax money spent appropriately  \n",
       "234164  failed protect student address complaint sexua...  \n",
       "234165                   think president going aggressive  \n",
       "\n",
       "[234166 rows x 7 columns]"
      ]
     },
     "execution_count": 12,
     "metadata": {},
     "output_type": "execute_result"
    }
   ],
   "source": [
    "df_filt"
   ]
  },
  {
   "cell_type": "markdown",
   "metadata": {},
   "source": [
    "## Model Training"
   ]
  },
  {
   "cell_type": "code",
   "execution_count": 13,
   "metadata": {},
   "outputs": [],
   "source": [
    "df_mini = df_filt.sample(100000)\n",
    "# df_mini = df_filt.sample(frac=1)"
   ]
  },
  {
   "cell_type": "code",
   "execution_count": 14,
   "metadata": {},
   "outputs": [],
   "source": [
    "X = df_mini['quotation_clean'].values\n",
    "\n",
    "y = df_mini['party_label'].values\n",
    "y = np.array([0.0 if label=='R' else 1.0 for label in y])"
   ]
  },
  {
   "cell_type": "code",
   "execution_count": 15,
   "metadata": {},
   "outputs": [],
   "source": [
    "split_frac = 0.9\n",
    "\n",
    "bound = round(len(X)*split_frac)\n",
    "\n",
    "X_train = X[:bound]\n",
    "y_train = y[:bound]\n",
    "\n",
    "X_test = X[bound:]\n",
    "y_test = y[bound:]"
   ]
  },
  {
   "cell_type": "code",
   "execution_count": 16,
   "metadata": {},
   "outputs": [
    {
     "data": {
      "text/plain": [
       "(90000,)"
      ]
     },
     "execution_count": 16,
     "metadata": {},
     "output_type": "execute_result"
    }
   ],
   "source": [
    "X_train.shape"
   ]
  },
  {
   "cell_type": "code",
   "execution_count": 16,
   "metadata": {},
   "outputs": [],
   "source": [
    "def vectorize_with_file(X, vectorizer):\n",
    "    path_temp = TEMP_FILE\n",
    "\n",
    "    with open(path_temp, 'w') as d_file:\n",
    "        d_file.writelines(X + '\\n')\n",
    "\n",
    "    with open(path_temp, 'r') as s_file:\n",
    "        X_vect=vectorizer.fit_transform(s_file)\n",
    "\n",
    "    return X_vect"
   ]
  },
  {
   "cell_type": "code",
   "execution_count": 26,
   "metadata": {},
   "outputs": [],
   "source": [
    "# Vectorize by writing to file\n",
    "# vectorizer=TfidfVectorizer(ngram_range=(1,3))\n",
    "# X_vect = vectorize_with_file(X_train, vectorizer)"
   ]
  },
  {
   "cell_type": "code",
   "execution_count": 18,
   "metadata": {},
   "outputs": [],
   "source": [
    "# Vectorize in memory\n",
    "vectorizer=TfidfVectorizer()\n",
    "X_vect = vectorizer.fit_transform(X_train)"
   ]
  },
  {
   "cell_type": "code",
   "execution_count": 19,
   "metadata": {},
   "outputs": [],
   "source": [
    "# with open(TEMP_FOLDER + 'quotes_vectorized_ngram=(1,3).pkl', 'wb') as file:\n",
    "#     pickle.dump(X_vect, file)"
   ]
  },
  {
   "cell_type": "code",
   "execution_count": 20,
   "metadata": {},
   "outputs": [],
   "source": [
    "X_test_vect = vectorizer.transform(X_test)"
   ]
  },
  {
   "cell_type": "code",
   "execution_count": 21,
   "metadata": {},
   "outputs": [
    {
     "data": {
      "text/plain": [
       "(90000, 29034)"
      ]
     },
     "execution_count": 21,
     "metadata": {},
     "output_type": "execute_result"
    }
   ],
   "source": [
    "X_vect.shape"
   ]
  },
  {
   "cell_type": "code",
   "execution_count": null,
   "metadata": {},
   "outputs": [],
   "source": []
  },
  {
   "cell_type": "code",
   "execution_count": null,
   "metadata": {},
   "outputs": [],
   "source": []
  },
  {
   "cell_type": "code",
   "execution_count": null,
   "metadata": {},
   "outputs": [],
   "source": []
  },
  {
   "cell_type": "code",
   "execution_count": null,
   "metadata": {},
   "outputs": [],
   "source": []
  },
  {
   "cell_type": "code",
   "execution_count": null,
   "metadata": {},
   "outputs": [],
   "source": []
  },
  {
   "cell_type": "code",
   "execution_count": 33,
   "metadata": {},
   "outputs": [],
   "source": [
    "# with open(TEMP_FOLDER + 'vectorizer_ngram=(1,3)-multinomialnb.pkl', 'wb') as file:\n",
    "#     pickle.dump(vectorizer, file)"
   ]
  },
  {
   "cell_type": "code",
   "execution_count": null,
   "metadata": {},
   "outputs": [],
   "source": [
    "# with open(TEMP_FOLDER + 'vectorizer_ngram=(1,3)-multinomialnb.pkl', 'rb') as file:\n",
    "#     vectorizer_loaded = pickle.load(file)"
   ]
  },
  {
   "cell_type": "code",
   "execution_count": 22,
   "metadata": {},
   "outputs": [
    {
     "data": {
      "text/plain": [
       "0.6555"
      ]
     },
     "execution_count": 22,
     "metadata": {},
     "output_type": "execute_result"
    }
   ],
   "source": [
    "clf = MultinomialNB()\n",
    "\n",
    "clf.fit(X_vect, y_train)\n",
    "clf.score(X_test_vect, y_test)\n"
   ]
  },
  {
   "cell_type": "code",
   "execution_count": 32,
   "metadata": {},
   "outputs": [],
   "source": [
    "# with open(TEMP_FOLDER + 'model-tfidf_ngram=(1,3)-multinomialnb.pkl', 'wb') as file:\n",
    "#     pickle.dump(clf, file)"
   ]
  },
  {
   "cell_type": "code",
   "execution_count": 24,
   "metadata": {},
   "outputs": [],
   "source": [
    "# with open(TEMP_FOLDER + 'model-tfidf_ngram=(1,3)-multinomialnb.pkl', 'rb') as file:\n",
    "#     clf_loaded = pickle.load(file)"
   ]
  },
  {
   "cell_type": "markdown",
   "metadata": {},
   "source": [
    "----------"
   ]
  },
  {
   "cell_type": "code",
   "execution_count": null,
   "metadata": {},
   "outputs": [],
   "source": []
  },
  {
   "cell_type": "code",
   "execution_count": 25,
   "metadata": {},
   "outputs": [
    {
     "data": {
      "text/plain": [
       "0.7012336262001888"
      ]
     },
     "execution_count": 25,
     "metadata": {},
     "output_type": "execute_result"
    }
   ],
   "source": [
    "clf_loaded.score(X_test_vect, y_test)"
   ]
  },
  {
   "cell_type": "code",
   "execution_count": null,
   "metadata": {},
   "outputs": [],
   "source": [
    "TfidfVectorizer(TEMP_FILE, )"
   ]
  },
  {
   "cell_type": "code",
   "execution_count": 28,
   "metadata": {},
   "outputs": [],
   "source": [
    "pipeline_simple = Pipeline([\n",
    "        ('vect', TfidfVectorizer(ngram_range=(1,1), max_features=100_000)),  \n",
    "        ('clf', MultinomialNB())\n",
    "    ],\n",
    "    verbose=True\n",
    "    )"
   ]
  },
  {
   "cell_type": "code",
   "execution_count": 29,
   "metadata": {},
   "outputs": [
    {
     "name": "stdout",
     "output_type": "stream",
     "text": [
      "[Pipeline] .............. (step 1 of 2) Processing vect, total=   2.1s\n",
      "[Pipeline] ............... (step 2 of 2) Processing clf, total=   0.0s\n",
      "[Pipeline] .............. (step 1 of 2) Processing vect, total=   2.1s\n",
      "[Pipeline] ............... (step 2 of 2) Processing clf, total=   0.0s\n",
      "\tfit_time             - \tavg: 2.138\tstd: 0.021\n",
      "\tscore_time           - \tavg: 2.696\tstd: 0.015\n",
      "\ttest_accuracy        - \tavg: 0.662\tstd: 0.001\n",
      "\ttest_precision       - \tavg: 0.663\tstd: 0.001\n",
      "\ttest_recall          - \tavg: 0.661\tstd: 0.001\n",
      "\ttest_f1              - \tavg: 0.662\tstd: 0.000\n"
     ]
    }
   ],
   "source": [
    "# Run cross validation\n",
    "\n",
    "scoring=['accuracy', 'precision', 'recall', 'f1']\n",
    "res = cross_validate(pipeline_simple, X, y, scoring=scoring, cv=2, n_jobs=2)\n",
    "print_cross_validate_results(res)"
   ]
  },
  {
   "cell_type": "code",
   "execution_count": 30,
   "metadata": {},
   "outputs": [],
   "source": [
    "split_frac = 0.9\n",
    "\n",
    "bound = round(len(X)*split_frac)\n",
    "\n",
    "X_train = X[:bound]\n",
    "y_train = y[:bound]\n",
    "\n",
    "X_test = X[bound:]\n",
    "y_test = y[bound:]"
   ]
  },
  {
   "cell_type": "code",
   "execution_count": 31,
   "metadata": {},
   "outputs": [
    {
     "data": {
      "text/plain": [
       "((210749,), (23417,))"
      ]
     },
     "execution_count": 31,
     "metadata": {},
     "output_type": "execute_result"
    }
   ],
   "source": [
    "X_train.shape, X_test.shape"
   ]
  },
  {
   "cell_type": "code",
   "execution_count": 32,
   "metadata": {},
   "outputs": [
    {
     "name": "stdout",
     "output_type": "stream",
     "text": [
      "[Pipeline] .............. (step 1 of 2) Processing vect, total=   3.5s\n",
      "[Pipeline] ............... (step 2 of 2) Processing clf, total=   0.1s\n"
     ]
    },
    {
     "data": {
      "text/plain": [
       "Pipeline(steps=[('vect', TfidfVectorizer(max_features=100000)),\n",
       "                ('clf', MultinomialNB())],\n",
       "         verbose=True)"
      ]
     },
     "execution_count": 32,
     "metadata": {},
     "output_type": "execute_result"
    }
   ],
   "source": [
    "pipeline_simple.fit(X_train, y_train)"
   ]
  },
  {
   "cell_type": "code",
   "execution_count": 33,
   "metadata": {},
   "outputs": [
    {
     "data": {
      "text/plain": [
       "0.6719050262629713"
      ]
     },
     "execution_count": 33,
     "metadata": {},
     "output_type": "execute_result"
    }
   ],
   "source": [
    "pipeline_simple.score(X_test, y_test)"
   ]
  },
  {
   "cell_type": "code",
   "execution_count": 35,
   "metadata": {},
   "outputs": [
    {
     "data": {
      "text/plain": [
       "array([1., 1., 1., 0., 0., 0., 0., 1., 1., 1.])"
      ]
     },
     "execution_count": 35,
     "metadata": {},
     "output_type": "execute_result"
    }
   ],
   "source": [
    "pipeline_simple.predict(X[0:10])"
   ]
  },
  {
   "cell_type": "code",
   "execution_count": null,
   "metadata": {},
   "outputs": [],
   "source": []
  },
  {
   "cell_type": "code",
   "execution_count": null,
   "metadata": {},
   "outputs": [],
   "source": []
  }
 ],
 "metadata": {
  "interpreter": {
   "hash": "c6809d3f7e90e77d8ec96c72c39a08b2522313d47c0f1d91518fdbbaf790b394"
  },
  "kernelspec": {
   "display_name": "Python 3.8.12 64-bit ('ada': conda)",
   "language": "python",
   "name": "python3"
  },
  "language_info": {
   "codemirror_mode": {
    "name": "ipython",
    "version": 3
   },
   "file_extension": ".py",
   "mimetype": "text/x-python",
   "name": "python",
   "nbconvert_exporter": "python",
   "pygments_lexer": "ipython3",
   "version": "3.8.12"
  },
  "orig_nbformat": 4
 },
 "nbformat": 4,
 "nbformat_minor": 2
}
