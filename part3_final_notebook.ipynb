{
 "cells": [
  {
   "cell_type": "code",
   "execution_count": 1,
   "metadata": {},
   "outputs": [],
   "source": [
    "from helpers import *\n",
    "\n",
    "import sys\n",
    "\n",
    "import bz2\n",
    "import json\n",
    "\n",
    "import pickle\n",
    "\n",
    "import numpy as np\n",
    "# import scipy\n",
    "\n",
    "import pandas as pd\n",
    "\n",
    "from sklearn.feature_extraction.text import TfidfVectorizer\n",
    "\n",
    "from sklearn.pipeline import Pipeline\n",
    "\n",
    "from sklearn.naive_bayes import MultinomialNB\n",
    "# from sklearn.linear_model import LogisticRegression\n",
    "# from sklearn.ensemble import RandomForestClassifier\n",
    "# from sklearn.ensemble import GradientBoostingClassifier\n",
    "# from sklearn.linear_model import SGDClassifier\n",
    "# from sklearn.neural_network import MLPClassifier\n",
    "\n",
    "from sklearn.model_selection import cross_val_score, cross_validate\n",
    "\n",
    "%load_ext autoreload\n",
    "%autoreload 2"
   ]
  },
  {
   "cell_type": "markdown",
   "metadata": {},
   "source": [
    "## Finding the optimal amount of preprocessing"
   ]
  },
  {
   "cell_type": "code",
   "execution_count": null,
   "metadata": {},
   "outputs": [],
   "source": []
  },
  {
   "cell_type": "markdown",
   "metadata": {},
   "source": [
    "## Full data model training"
   ]
  },
  {
   "cell_type": "code",
   "execution_count": 2,
   "metadata": {},
   "outputs": [
    {
     "data": {
      "text/html": [
       "<div>\n",
       "<style scoped>\n",
       "    .dataframe tbody tr th:only-of-type {\n",
       "        vertical-align: middle;\n",
       "    }\n",
       "\n",
       "    .dataframe tbody tr th {\n",
       "        vertical-align: top;\n",
       "    }\n",
       "\n",
       "    .dataframe thead th {\n",
       "        text-align: right;\n",
       "    }\n",
       "</style>\n",
       "<table border=\"1\" class=\"dataframe\">\n",
       "  <thead>\n",
       "    <tr style=\"text-align: right;\">\n",
       "      <th></th>\n",
       "      <th>quoteID</th>\n",
       "      <th>quotation</th>\n",
       "      <th>speaker</th>\n",
       "      <th>date</th>\n",
       "      <th>numOccurrences</th>\n",
       "      <th>id</th>\n",
       "      <th>party_label</th>\n",
       "      <th>US_congress_bio_ID</th>\n",
       "      <th>quotation_clean</th>\n",
       "    </tr>\n",
       "  </thead>\n",
       "  <tbody>\n",
       "    <tr>\n",
       "      <th>0</th>\n",
       "      <td>2015-08-31-000271</td>\n",
       "      <td>... a great day for veterans here in Littleton...</td>\n",
       "      <td>jeanne shaheen</td>\n",
       "      <td>2015-08-31 02:10:00</td>\n",
       "      <td>2</td>\n",
       "      <td>Q270316</td>\n",
       "      <td>D</td>\n",
       "      <td>S001181</td>\n",
       "      <td>great day veteran littleton across north count...</td>\n",
       "    </tr>\n",
       "    <tr>\n",
       "      <th>1</th>\n",
       "      <td>2015-02-03-074650</td>\n",
       "      <td>The safety and security of our nation is at ri...</td>\n",
       "      <td>jeanne shaheen</td>\n",
       "      <td>2015-02-03 20:02:24</td>\n",
       "      <td>2</td>\n",
       "      <td>Q270316</td>\n",
       "      <td>D</td>\n",
       "      <td>S001181</td>\n",
       "      <td>safety security nation risk hold funding homel...</td>\n",
       "    </tr>\n",
       "    <tr>\n",
       "      <th>2</th>\n",
       "      <td>2015-05-10-027625</td>\n",
       "      <td>It's been my experience that the faith communi...</td>\n",
       "      <td>jeanne shaheen</td>\n",
       "      <td>2015-05-10 22:48:46</td>\n",
       "      <td>1</td>\n",
       "      <td>Q270316</td>\n",
       "      <td>D</td>\n",
       "      <td>S001181</td>\n",
       "      <td>experience faith community willing partner gov...</td>\n",
       "    </tr>\n",
       "    <tr>\n",
       "      <th>3</th>\n",
       "      <td>2015-09-01-113454</td>\n",
       "      <td>we need to bring the parents in so they can se...</td>\n",
       "      <td>jeanne shaheen</td>\n",
       "      <td>2015-09-01 02:12:00</td>\n",
       "      <td>2</td>\n",
       "      <td>Q270316</td>\n",
       "      <td>D</td>\n",
       "      <td>S001181</td>\n",
       "      <td>need bring parent see manufacturing worked sho...</td>\n",
       "    </tr>\n",
       "    <tr>\n",
       "      <th>4</th>\n",
       "      <td>2015-10-25-000242</td>\n",
       "      <td>' It is not now, nor has it ever been, the gol...</td>\n",
       "      <td>bernie sanders</td>\n",
       "      <td>2015-10-25 14:12:35</td>\n",
       "      <td>1</td>\n",
       "      <td>Q359442</td>\n",
       "      <td>D</td>\n",
       "      <td>S000033</td>\n",
       "      <td>ever gold standard trade agreement sander said...</td>\n",
       "    </tr>\n",
       "    <tr>\n",
       "      <th>...</th>\n",
       "      <td>...</td>\n",
       "      <td>...</td>\n",
       "      <td>...</td>\n",
       "      <td>...</td>\n",
       "      <td>...</td>\n",
       "      <td>...</td>\n",
       "      <td>...</td>\n",
       "      <td>...</td>\n",
       "      <td>...</td>\n",
       "    </tr>\n",
       "    <tr>\n",
       "      <th>6396366</th>\n",
       "      <td>2020-02-10-100845</td>\n",
       "      <td>We're just worried about making sure we keep t...</td>\n",
       "      <td>sherrie sprenger</td>\n",
       "      <td>2020-02-10 00:00:00</td>\n",
       "      <td>1</td>\n",
       "      <td>Q7495360</td>\n",
       "      <td>R</td>\n",
       "      <td>None</td>\n",
       "      <td>worried making sure keep balance expression ri...</td>\n",
       "    </tr>\n",
       "    <tr>\n",
       "      <th>6396367</th>\n",
       "      <td>2020-03-16-079753</td>\n",
       "      <td>We've all embraced strict proper hygiene proce...</td>\n",
       "      <td>robert abrams</td>\n",
       "      <td>2020-03-16 12:00:00</td>\n",
       "      <td>2</td>\n",
       "      <td>Q2156314</td>\n",
       "      <td>D</td>\n",
       "      <td>None</td>\n",
       "      <td>embraced strict proper hygiene procedure heard...</td>\n",
       "    </tr>\n",
       "    <tr>\n",
       "      <th>6396368</th>\n",
       "      <td>2020-01-13-091997</td>\n",
       "      <td>What's important is that we keep moving forward.</td>\n",
       "      <td>laurie jinkins</td>\n",
       "      <td>2020-01-13 19:51:15</td>\n",
       "      <td>1</td>\n",
       "      <td>Q6501617</td>\n",
       "      <td>D</td>\n",
       "      <td>None</td>\n",
       "      <td>important keep moving forward</td>\n",
       "    </tr>\n",
       "    <tr>\n",
       "      <th>6396369</th>\n",
       "      <td>2020-02-20-093793</td>\n",
       "      <td>When they want a bill, they bring the bill to ...</td>\n",
       "      <td>j.t. wilcox</td>\n",
       "      <td>2020-02-20 22:12:45</td>\n",
       "      <td>1</td>\n",
       "      <td>Q6104393</td>\n",
       "      <td>R</td>\n",
       "      <td>None</td>\n",
       "      <td>want bill bring bill floor</td>\n",
       "    </tr>\n",
       "    <tr>\n",
       "      <th>6396370</th>\n",
       "      <td>2020-02-09-057933</td>\n",
       "      <td>Who will respect different types of people, di...</td>\n",
       "      <td>susan wild</td>\n",
       "      <td>2020-02-09 15:08:23</td>\n",
       "      <td>1</td>\n",
       "      <td>Q58323072</td>\n",
       "      <td>D</td>\n",
       "      <td>W000826</td>\n",
       "      <td>respect different type people different opinio...</td>\n",
       "    </tr>\n",
       "  </tbody>\n",
       "</table>\n",
       "<p>6396371 rows × 9 columns</p>\n",
       "</div>"
      ],
      "text/plain": [
       "                   quoteID                                          quotation  \\\n",
       "0        2015-08-31-000271  ... a great day for veterans here in Littleton...   \n",
       "1        2015-02-03-074650  The safety and security of our nation is at ri...   \n",
       "2        2015-05-10-027625  It's been my experience that the faith communi...   \n",
       "3        2015-09-01-113454  we need to bring the parents in so they can se...   \n",
       "4        2015-10-25-000242  ' It is not now, nor has it ever been, the gol...   \n",
       "...                    ...                                                ...   \n",
       "6396366  2020-02-10-100845  We're just worried about making sure we keep t...   \n",
       "6396367  2020-03-16-079753  We've all embraced strict proper hygiene proce...   \n",
       "6396368  2020-01-13-091997   What's important is that we keep moving forward.   \n",
       "6396369  2020-02-20-093793  When they want a bill, they bring the bill to ...   \n",
       "6396370  2020-02-09-057933  Who will respect different types of people, di...   \n",
       "\n",
       "                  speaker                date  numOccurrences         id  \\\n",
       "0          jeanne shaheen 2015-08-31 02:10:00               2    Q270316   \n",
       "1          jeanne shaheen 2015-02-03 20:02:24               2    Q270316   \n",
       "2          jeanne shaheen 2015-05-10 22:48:46               1    Q270316   \n",
       "3          jeanne shaheen 2015-09-01 02:12:00               2    Q270316   \n",
       "4          bernie sanders 2015-10-25 14:12:35               1    Q359442   \n",
       "...                   ...                 ...             ...        ...   \n",
       "6396366  sherrie sprenger 2020-02-10 00:00:00               1   Q7495360   \n",
       "6396367     robert abrams 2020-03-16 12:00:00               2   Q2156314   \n",
       "6396368    laurie jinkins 2020-01-13 19:51:15               1   Q6501617   \n",
       "6396369       j.t. wilcox 2020-02-20 22:12:45               1   Q6104393   \n",
       "6396370        susan wild 2020-02-09 15:08:23               1  Q58323072   \n",
       "\n",
       "        party_label US_congress_bio_ID  \\\n",
       "0                 D            S001181   \n",
       "1                 D            S001181   \n",
       "2                 D            S001181   \n",
       "3                 D            S001181   \n",
       "4                 D            S000033   \n",
       "...             ...                ...   \n",
       "6396366           R               None   \n",
       "6396367           D               None   \n",
       "6396368           D               None   \n",
       "6396369           R               None   \n",
       "6396370           D            W000826   \n",
       "\n",
       "                                           quotation_clean  \n",
       "0        great day veteran littleton across north count...  \n",
       "1        safety security nation risk hold funding homel...  \n",
       "2        experience faith community willing partner gov...  \n",
       "3        need bring parent see manufacturing worked sho...  \n",
       "4        ever gold standard trade agreement sander said...  \n",
       "...                                                    ...  \n",
       "6396366  worried making sure keep balance expression ri...  \n",
       "6396367  embraced strict proper hygiene procedure heard...  \n",
       "6396368                      important keep moving forward  \n",
       "6396369                         want bill bring bill floor  \n",
       "6396370  respect different type people different opinio...  \n",
       "\n",
       "[6396371 rows x 9 columns]"
      ]
     },
     "execution_count": 2,
     "metadata": {},
     "output_type": "execute_result"
    }
   ],
   "source": [
    "path = fixpath(QUOTES_LABELED_CLEANED)\n",
    "# path = fixpath(QUOTES_2020_LABELED_CLEANED)\n",
    "df_raw = pd.read_json(path, orient='records', lines=True)\n",
    "df_raw"
   ]
  },
  {
   "cell_type": "code",
   "execution_count": 3,
   "metadata": {},
   "outputs": [
    {
     "data": {
      "text/html": [
       "<div>\n",
       "<style scoped>\n",
       "    .dataframe tbody tr th:only-of-type {\n",
       "        vertical-align: middle;\n",
       "    }\n",
       "\n",
       "    .dataframe tbody tr th {\n",
       "        vertical-align: top;\n",
       "    }\n",
       "\n",
       "    .dataframe thead th {\n",
       "        text-align: right;\n",
       "    }\n",
       "</style>\n",
       "<table border=\"1\" class=\"dataframe\">\n",
       "  <thead>\n",
       "    <tr style=\"text-align: right;\">\n",
       "      <th></th>\n",
       "      <th>quoteID</th>\n",
       "      <th>quotation</th>\n",
       "      <th>speaker</th>\n",
       "      <th>date</th>\n",
       "      <th>id</th>\n",
       "      <th>party_label</th>\n",
       "      <th>quotation_clean</th>\n",
       "    </tr>\n",
       "  </thead>\n",
       "  <tbody>\n",
       "    <tr>\n",
       "      <th>0</th>\n",
       "      <td>2015-08-31-000271</td>\n",
       "      <td>... a great day for veterans here in Littleton...</td>\n",
       "      <td>jeanne shaheen</td>\n",
       "      <td>2015-08-31 02:10:00</td>\n",
       "      <td>Q270316</td>\n",
       "      <td>D</td>\n",
       "      <td>great day veteran littleton across north count...</td>\n",
       "    </tr>\n",
       "    <tr>\n",
       "      <th>1</th>\n",
       "      <td>2015-02-03-074650</td>\n",
       "      <td>The safety and security of our nation is at ri...</td>\n",
       "      <td>jeanne shaheen</td>\n",
       "      <td>2015-02-03 20:02:24</td>\n",
       "      <td>Q270316</td>\n",
       "      <td>D</td>\n",
       "      <td>safety security nation risk hold funding homel...</td>\n",
       "    </tr>\n",
       "    <tr>\n",
       "      <th>2</th>\n",
       "      <td>2015-05-10-027625</td>\n",
       "      <td>It's been my experience that the faith communi...</td>\n",
       "      <td>jeanne shaheen</td>\n",
       "      <td>2015-05-10 22:48:46</td>\n",
       "      <td>Q270316</td>\n",
       "      <td>D</td>\n",
       "      <td>experience faith community willing partner gov...</td>\n",
       "    </tr>\n",
       "    <tr>\n",
       "      <th>3</th>\n",
       "      <td>2015-09-01-113454</td>\n",
       "      <td>we need to bring the parents in so they can se...</td>\n",
       "      <td>jeanne shaheen</td>\n",
       "      <td>2015-09-01 02:12:00</td>\n",
       "      <td>Q270316</td>\n",
       "      <td>D</td>\n",
       "      <td>need bring parent see manufacturing worked sho...</td>\n",
       "    </tr>\n",
       "    <tr>\n",
       "      <th>4</th>\n",
       "      <td>2015-10-25-000242</td>\n",
       "      <td>' It is not now, nor has it ever been, the gol...</td>\n",
       "      <td>bernie sanders</td>\n",
       "      <td>2015-10-25 14:12:35</td>\n",
       "      <td>Q359442</td>\n",
       "      <td>D</td>\n",
       "      <td>ever gold standard trade agreement sander said...</td>\n",
       "    </tr>\n",
       "    <tr>\n",
       "      <th>...</th>\n",
       "      <td>...</td>\n",
       "      <td>...</td>\n",
       "      <td>...</td>\n",
       "      <td>...</td>\n",
       "      <td>...</td>\n",
       "      <td>...</td>\n",
       "      <td>...</td>\n",
       "    </tr>\n",
       "    <tr>\n",
       "      <th>6396366</th>\n",
       "      <td>2020-02-10-100845</td>\n",
       "      <td>We're just worried about making sure we keep t...</td>\n",
       "      <td>sherrie sprenger</td>\n",
       "      <td>2020-02-10 00:00:00</td>\n",
       "      <td>Q7495360</td>\n",
       "      <td>R</td>\n",
       "      <td>worried making sure keep balance expression ri...</td>\n",
       "    </tr>\n",
       "    <tr>\n",
       "      <th>6396367</th>\n",
       "      <td>2020-03-16-079753</td>\n",
       "      <td>We've all embraced strict proper hygiene proce...</td>\n",
       "      <td>robert abrams</td>\n",
       "      <td>2020-03-16 12:00:00</td>\n",
       "      <td>Q2156314</td>\n",
       "      <td>D</td>\n",
       "      <td>embraced strict proper hygiene procedure heard...</td>\n",
       "    </tr>\n",
       "    <tr>\n",
       "      <th>6396368</th>\n",
       "      <td>2020-01-13-091997</td>\n",
       "      <td>What's important is that we keep moving forward.</td>\n",
       "      <td>laurie jinkins</td>\n",
       "      <td>2020-01-13 19:51:15</td>\n",
       "      <td>Q6501617</td>\n",
       "      <td>D</td>\n",
       "      <td>important keep moving forward</td>\n",
       "    </tr>\n",
       "    <tr>\n",
       "      <th>6396369</th>\n",
       "      <td>2020-02-20-093793</td>\n",
       "      <td>When they want a bill, they bring the bill to ...</td>\n",
       "      <td>j.t. wilcox</td>\n",
       "      <td>2020-02-20 22:12:45</td>\n",
       "      <td>Q6104393</td>\n",
       "      <td>R</td>\n",
       "      <td>want bill bring bill floor</td>\n",
       "    </tr>\n",
       "    <tr>\n",
       "      <th>6396370</th>\n",
       "      <td>2020-02-09-057933</td>\n",
       "      <td>Who will respect different types of people, di...</td>\n",
       "      <td>susan wild</td>\n",
       "      <td>2020-02-09 15:08:23</td>\n",
       "      <td>Q58323072</td>\n",
       "      <td>D</td>\n",
       "      <td>respect different type people different opinio...</td>\n",
       "    </tr>\n",
       "  </tbody>\n",
       "</table>\n",
       "<p>6396371 rows × 7 columns</p>\n",
       "</div>"
      ],
      "text/plain": [
       "                   quoteID                                          quotation  \\\n",
       "0        2015-08-31-000271  ... a great day for veterans here in Littleton...   \n",
       "1        2015-02-03-074650  The safety and security of our nation is at ri...   \n",
       "2        2015-05-10-027625  It's been my experience that the faith communi...   \n",
       "3        2015-09-01-113454  we need to bring the parents in so they can se...   \n",
       "4        2015-10-25-000242  ' It is not now, nor has it ever been, the gol...   \n",
       "...                    ...                                                ...   \n",
       "6396366  2020-02-10-100845  We're just worried about making sure we keep t...   \n",
       "6396367  2020-03-16-079753  We've all embraced strict proper hygiene proce...   \n",
       "6396368  2020-01-13-091997   What's important is that we keep moving forward.   \n",
       "6396369  2020-02-20-093793  When they want a bill, they bring the bill to ...   \n",
       "6396370  2020-02-09-057933  Who will respect different types of people, di...   \n",
       "\n",
       "                  speaker                date         id party_label  \\\n",
       "0          jeanne shaheen 2015-08-31 02:10:00    Q270316           D   \n",
       "1          jeanne shaheen 2015-02-03 20:02:24    Q270316           D   \n",
       "2          jeanne shaheen 2015-05-10 22:48:46    Q270316           D   \n",
       "3          jeanne shaheen 2015-09-01 02:12:00    Q270316           D   \n",
       "4          bernie sanders 2015-10-25 14:12:35    Q359442           D   \n",
       "...                   ...                 ...        ...         ...   \n",
       "6396366  sherrie sprenger 2020-02-10 00:00:00   Q7495360           R   \n",
       "6396367     robert abrams 2020-03-16 12:00:00   Q2156314           D   \n",
       "6396368    laurie jinkins 2020-01-13 19:51:15   Q6501617           D   \n",
       "6396369       j.t. wilcox 2020-02-20 22:12:45   Q6104393           R   \n",
       "6396370        susan wild 2020-02-09 15:08:23  Q58323072           D   \n",
       "\n",
       "                                           quotation_clean  \n",
       "0        great day veteran littleton across north count...  \n",
       "1        safety security nation risk hold funding homel...  \n",
       "2        experience faith community willing partner gov...  \n",
       "3        need bring parent see manufacturing worked sho...  \n",
       "4        ever gold standard trade agreement sander said...  \n",
       "...                                                    ...  \n",
       "6396366  worried making sure keep balance expression ri...  \n",
       "6396367  embraced strict proper hygiene procedure heard...  \n",
       "6396368                      important keep moving forward  \n",
       "6396369                         want bill bring bill floor  \n",
       "6396370  respect different type people different opinio...  \n",
       "\n",
       "[6396371 rows x 7 columns]"
      ]
     },
     "execution_count": 3,
     "metadata": {},
     "output_type": "execute_result"
    }
   ],
   "source": [
    "df = df_raw.copy()\n",
    "df.drop(['numOccurrences','US_congress_bio_ID'], axis=1, inplace=True)\n",
    "df"
   ]
  },
  {
   "cell_type": "code",
   "execution_count": 4,
   "metadata": {},
   "outputs": [
    {
     "data": {
      "text/plain": [
       "D    3224525\n",
       "R    3171846\n",
       "Name: party_label, dtype: int64"
      ]
     },
     "execution_count": 4,
     "metadata": {},
     "output_type": "execute_result"
    }
   ],
   "source": [
    "df['party_label'].value_counts()"
   ]
  },
  {
   "cell_type": "markdown",
   "metadata": {},
   "source": [
    "### Filtering politcally insignificant quotes "
   ]
  },
  {
   "cell_type": "code",
   "execution_count": 5,
   "metadata": {},
   "outputs": [],
   "source": [
    "def filter_relevant_quotes_basic(df):\n",
    "    lengths_of_df = df['quotation_clean'].apply(lambda x: len(x))\n",
    "\n",
    "    # df = df[np.logical_and(lengths_of_df > lengths_of_df.quantile(0.3), lengths_of_df < lengths_of_df.quantile(0.9))]\n",
    "    df = df[lengths_of_df > lengths_of_df.quantile(0.1)]\n",
    "\n",
    "    return df"
   ]
  },
  {
   "cell_type": "code",
   "execution_count": 6,
   "metadata": {},
   "outputs": [
    {
     "data": {
      "text/html": [
       "<div>\n",
       "<style scoped>\n",
       "    .dataframe tbody tr th:only-of-type {\n",
       "        vertical-align: middle;\n",
       "    }\n",
       "\n",
       "    .dataframe tbody tr th {\n",
       "        vertical-align: top;\n",
       "    }\n",
       "\n",
       "    .dataframe thead th {\n",
       "        text-align: right;\n",
       "    }\n",
       "</style>\n",
       "<table border=\"1\" class=\"dataframe\">\n",
       "  <thead>\n",
       "    <tr style=\"text-align: right;\">\n",
       "      <th></th>\n",
       "      <th>quoteID</th>\n",
       "      <th>quotation</th>\n",
       "      <th>speaker</th>\n",
       "      <th>date</th>\n",
       "      <th>id</th>\n",
       "      <th>party_label</th>\n",
       "      <th>quotation_clean</th>\n",
       "    </tr>\n",
       "  </thead>\n",
       "  <tbody>\n",
       "    <tr>\n",
       "      <th>0</th>\n",
       "      <td>2015-08-31-000271</td>\n",
       "      <td>... a great day for veterans here in Littleton...</td>\n",
       "      <td>jeanne shaheen</td>\n",
       "      <td>2015-08-31 02:10:00</td>\n",
       "      <td>Q270316</td>\n",
       "      <td>D</td>\n",
       "      <td>great day veteran littleton across north count...</td>\n",
       "    </tr>\n",
       "    <tr>\n",
       "      <th>1</th>\n",
       "      <td>2015-02-03-074650</td>\n",
       "      <td>The safety and security of our nation is at ri...</td>\n",
       "      <td>jeanne shaheen</td>\n",
       "      <td>2015-02-03 20:02:24</td>\n",
       "      <td>Q270316</td>\n",
       "      <td>D</td>\n",
       "      <td>safety security nation risk hold funding homel...</td>\n",
       "    </tr>\n",
       "    <tr>\n",
       "      <th>2</th>\n",
       "      <td>2015-05-10-027625</td>\n",
       "      <td>It's been my experience that the faith communi...</td>\n",
       "      <td>jeanne shaheen</td>\n",
       "      <td>2015-05-10 22:48:46</td>\n",
       "      <td>Q270316</td>\n",
       "      <td>D</td>\n",
       "      <td>experience faith community willing partner gov...</td>\n",
       "    </tr>\n",
       "    <tr>\n",
       "      <th>3</th>\n",
       "      <td>2015-09-01-113454</td>\n",
       "      <td>we need to bring the parents in so they can se...</td>\n",
       "      <td>jeanne shaheen</td>\n",
       "      <td>2015-09-01 02:12:00</td>\n",
       "      <td>Q270316</td>\n",
       "      <td>D</td>\n",
       "      <td>need bring parent see manufacturing worked sho...</td>\n",
       "    </tr>\n",
       "    <tr>\n",
       "      <th>4</th>\n",
       "      <td>2015-10-25-000242</td>\n",
       "      <td>' It is not now, nor has it ever been, the gol...</td>\n",
       "      <td>bernie sanders</td>\n",
       "      <td>2015-10-25 14:12:35</td>\n",
       "      <td>Q359442</td>\n",
       "      <td>D</td>\n",
       "      <td>ever gold standard trade agreement sander said...</td>\n",
       "    </tr>\n",
       "    <tr>\n",
       "      <th>...</th>\n",
       "      <td>...</td>\n",
       "      <td>...</td>\n",
       "      <td>...</td>\n",
       "      <td>...</td>\n",
       "      <td>...</td>\n",
       "      <td>...</td>\n",
       "      <td>...</td>\n",
       "    </tr>\n",
       "    <tr>\n",
       "      <th>6396366</th>\n",
       "      <td>2020-02-10-100845</td>\n",
       "      <td>We're just worried about making sure we keep t...</td>\n",
       "      <td>sherrie sprenger</td>\n",
       "      <td>2020-02-10 00:00:00</td>\n",
       "      <td>Q7495360</td>\n",
       "      <td>R</td>\n",
       "      <td>worried making sure keep balance expression ri...</td>\n",
       "    </tr>\n",
       "    <tr>\n",
       "      <th>6396367</th>\n",
       "      <td>2020-03-16-079753</td>\n",
       "      <td>We've all embraced strict proper hygiene proce...</td>\n",
       "      <td>robert abrams</td>\n",
       "      <td>2020-03-16 12:00:00</td>\n",
       "      <td>Q2156314</td>\n",
       "      <td>D</td>\n",
       "      <td>embraced strict proper hygiene procedure heard...</td>\n",
       "    </tr>\n",
       "    <tr>\n",
       "      <th>6396368</th>\n",
       "      <td>2020-01-13-091997</td>\n",
       "      <td>What's important is that we keep moving forward.</td>\n",
       "      <td>laurie jinkins</td>\n",
       "      <td>2020-01-13 19:51:15</td>\n",
       "      <td>Q6501617</td>\n",
       "      <td>D</td>\n",
       "      <td>important keep moving forward</td>\n",
       "    </tr>\n",
       "    <tr>\n",
       "      <th>6396369</th>\n",
       "      <td>2020-02-20-093793</td>\n",
       "      <td>When they want a bill, they bring the bill to ...</td>\n",
       "      <td>j.t. wilcox</td>\n",
       "      <td>2020-02-20 22:12:45</td>\n",
       "      <td>Q6104393</td>\n",
       "      <td>R</td>\n",
       "      <td>want bill bring bill floor</td>\n",
       "    </tr>\n",
       "    <tr>\n",
       "      <th>6396370</th>\n",
       "      <td>2020-02-09-057933</td>\n",
       "      <td>Who will respect different types of people, di...</td>\n",
       "      <td>susan wild</td>\n",
       "      <td>2020-02-09 15:08:23</td>\n",
       "      <td>Q58323072</td>\n",
       "      <td>D</td>\n",
       "      <td>respect different type people different opinio...</td>\n",
       "    </tr>\n",
       "  </tbody>\n",
       "</table>\n",
       "<p>5756518 rows × 7 columns</p>\n",
       "</div>"
      ],
      "text/plain": [
       "                   quoteID                                          quotation  \\\n",
       "0        2015-08-31-000271  ... a great day for veterans here in Littleton...   \n",
       "1        2015-02-03-074650  The safety and security of our nation is at ri...   \n",
       "2        2015-05-10-027625  It's been my experience that the faith communi...   \n",
       "3        2015-09-01-113454  we need to bring the parents in so they can se...   \n",
       "4        2015-10-25-000242  ' It is not now, nor has it ever been, the gol...   \n",
       "...                    ...                                                ...   \n",
       "6396366  2020-02-10-100845  We're just worried about making sure we keep t...   \n",
       "6396367  2020-03-16-079753  We've all embraced strict proper hygiene proce...   \n",
       "6396368  2020-01-13-091997   What's important is that we keep moving forward.   \n",
       "6396369  2020-02-20-093793  When they want a bill, they bring the bill to ...   \n",
       "6396370  2020-02-09-057933  Who will respect different types of people, di...   \n",
       "\n",
       "                  speaker                date         id party_label  \\\n",
       "0          jeanne shaheen 2015-08-31 02:10:00    Q270316           D   \n",
       "1          jeanne shaheen 2015-02-03 20:02:24    Q270316           D   \n",
       "2          jeanne shaheen 2015-05-10 22:48:46    Q270316           D   \n",
       "3          jeanne shaheen 2015-09-01 02:12:00    Q270316           D   \n",
       "4          bernie sanders 2015-10-25 14:12:35    Q359442           D   \n",
       "...                   ...                 ...        ...         ...   \n",
       "6396366  sherrie sprenger 2020-02-10 00:00:00   Q7495360           R   \n",
       "6396367     robert abrams 2020-03-16 12:00:00   Q2156314           D   \n",
       "6396368    laurie jinkins 2020-01-13 19:51:15   Q6501617           D   \n",
       "6396369       j.t. wilcox 2020-02-20 22:12:45   Q6104393           R   \n",
       "6396370        susan wild 2020-02-09 15:08:23  Q58323072           D   \n",
       "\n",
       "                                           quotation_clean  \n",
       "0        great day veteran littleton across north count...  \n",
       "1        safety security nation risk hold funding homel...  \n",
       "2        experience faith community willing partner gov...  \n",
       "3        need bring parent see manufacturing worked sho...  \n",
       "4        ever gold standard trade agreement sander said...  \n",
       "...                                                    ...  \n",
       "6396366  worried making sure keep balance expression ri...  \n",
       "6396367  embraced strict proper hygiene procedure heard...  \n",
       "6396368                      important keep moving forward  \n",
       "6396369                         want bill bring bill floor  \n",
       "6396370  respect different type people different opinio...  \n",
       "\n",
       "[5756518 rows x 7 columns]"
      ]
     },
     "execution_count": 6,
     "metadata": {},
     "output_type": "execute_result"
    }
   ],
   "source": [
    "df_filt = filter_relevant_quotes_basic(df)\n",
    "df_filt"
   ]
  },
  {
   "cell_type": "code",
   "execution_count": 7,
   "metadata": {},
   "outputs": [
    {
     "data": {
      "text/plain": [
       "D    2911651\n",
       "R    2844867\n",
       "Name: party_label, dtype: int64"
      ]
     },
     "execution_count": 7,
     "metadata": {},
     "output_type": "execute_result"
    }
   ],
   "source": [
    "df_filt['party_label'].value_counts()"
   ]
  },
  {
   "cell_type": "code",
   "execution_count": 8,
   "metadata": {},
   "outputs": [
    {
     "data": {
      "text/plain": [
       "23"
      ]
     },
     "execution_count": 8,
     "metadata": {},
     "output_type": "execute_result"
    }
   ],
   "source": [
    "df_filt['quotation_clean'].apply(lambda x: len(x)).min()"
   ]
  },
  {
   "cell_type": "markdown",
   "metadata": {},
   "source": [
    "### Balancing data"
   ]
  },
  {
   "cell_type": "code",
   "execution_count": 9,
   "metadata": {},
   "outputs": [],
   "source": [
    "\n",
    "df_filt = downsample(df_filt, 'party_label')"
   ]
  },
  {
   "cell_type": "code",
   "execution_count": 10,
   "metadata": {},
   "outputs": [
    {
     "data": {
      "text/plain": [
       "D    2844867\n",
       "R    2844867\n",
       "Name: party_label, dtype: int64"
      ]
     },
     "execution_count": 10,
     "metadata": {},
     "output_type": "execute_result"
    }
   ],
   "source": [
    "df_filt['party_label'].value_counts()"
   ]
  },
  {
   "cell_type": "code",
   "execution_count": 11,
   "metadata": {},
   "outputs": [
    {
     "data": {
      "text/html": [
       "<div>\n",
       "<style scoped>\n",
       "    .dataframe tbody tr th:only-of-type {\n",
       "        vertical-align: middle;\n",
       "    }\n",
       "\n",
       "    .dataframe tbody tr th {\n",
       "        vertical-align: top;\n",
       "    }\n",
       "\n",
       "    .dataframe thead th {\n",
       "        text-align: right;\n",
       "    }\n",
       "</style>\n",
       "<table border=\"1\" class=\"dataframe\">\n",
       "  <thead>\n",
       "    <tr style=\"text-align: right;\">\n",
       "      <th></th>\n",
       "      <th>quoteID</th>\n",
       "      <th>quotation</th>\n",
       "      <th>speaker</th>\n",
       "      <th>date</th>\n",
       "      <th>id</th>\n",
       "      <th>party_label</th>\n",
       "      <th>quotation_clean</th>\n",
       "    </tr>\n",
       "  </thead>\n",
       "  <tbody>\n",
       "    <tr>\n",
       "      <th>0</th>\n",
       "      <td>2019-09-25-034841</td>\n",
       "      <td>I humbly ask the Florida Senate to approve my ...</td>\n",
       "      <td>scott israel</td>\n",
       "      <td>2019-09-25 18:31:52</td>\n",
       "      <td>Q50591793</td>\n",
       "      <td>D</td>\n",
       "      <td>humbly ask florida senate approve reinstatemen...</td>\n",
       "    </tr>\n",
       "    <tr>\n",
       "      <th>1</th>\n",
       "      <td>2018-10-19-034441</td>\n",
       "      <td>I don't care who you vote for, I just want you...</td>\n",
       "      <td>sonia sotomayor</td>\n",
       "      <td>2018-10-19 22:17:37</td>\n",
       "      <td>Q11107</td>\n",
       "      <td>D</td>\n",
       "      <td>care vote want voice change</td>\n",
       "    </tr>\n",
       "    <tr>\n",
       "      <th>2</th>\n",
       "      <td>2018-05-01-037575</td>\n",
       "      <td>I am really happy in business community,</td>\n",
       "      <td>wesley clark</td>\n",
       "      <td>2018-05-01 17:19:20</td>\n",
       "      <td>Q159478</td>\n",
       "      <td>D</td>\n",
       "      <td>really happy business community</td>\n",
       "    </tr>\n",
       "    <tr>\n",
       "      <th>3</th>\n",
       "      <td>2016-05-02-059378</td>\n",
       "      <td>nobody's falling through [ cracks because of ]...</td>\n",
       "      <td>rahm emanuel</td>\n",
       "      <td>2016-05-02 22:28:02</td>\n",
       "      <td>Q298443</td>\n",
       "      <td>D</td>\n",
       "      <td>nobody falling crack siloed wall approach</td>\n",
       "    </tr>\n",
       "    <tr>\n",
       "      <th>4</th>\n",
       "      <td>2019-07-03-048691</td>\n",
       "      <td>Marianne Williamson has already reached legend...</td>\n",
       "      <td>marianne williamson</td>\n",
       "      <td>2019-07-03 10:29:00</td>\n",
       "      <td>Q3131983</td>\n",
       "      <td>D</td>\n",
       "      <td>marianne williamson already reached legendary ...</td>\n",
       "    </tr>\n",
       "    <tr>\n",
       "      <th>...</th>\n",
       "      <td>...</td>\n",
       "      <td>...</td>\n",
       "      <td>...</td>\n",
       "      <td>...</td>\n",
       "      <td>...</td>\n",
       "      <td>...</td>\n",
       "      <td>...</td>\n",
       "    </tr>\n",
       "    <tr>\n",
       "      <th>5689729</th>\n",
       "      <td>2018-05-25-114419</td>\n",
       "      <td>U.S. officials were further frustrated last we...</td>\n",
       "      <td>mike pompeo</td>\n",
       "      <td>2018-05-25 06:12:40</td>\n",
       "      <td>Q473239</td>\n",
       "      <td>R</td>\n",
       "      <td>u official frustrated last week senior north k...</td>\n",
       "    </tr>\n",
       "    <tr>\n",
       "      <th>5689730</th>\n",
       "      <td>2019-11-12-036716</td>\n",
       "      <td>I think that those veterans who are improperly...</td>\n",
       "      <td>tom tiffany</td>\n",
       "      <td>2019-11-12 00:23:08</td>\n",
       "      <td>Q7817838</td>\n",
       "      <td>R</td>\n",
       "      <td>think veteran improperly charged refunded money</td>\n",
       "    </tr>\n",
       "    <tr>\n",
       "      <th>5689731</th>\n",
       "      <td>2019-03-18-060255</td>\n",
       "      <td>Our men and women in uniform oftentimes risk t...</td>\n",
       "      <td>john mcguire</td>\n",
       "      <td>2019-03-18 17:33:58</td>\n",
       "      <td>Q47545631</td>\n",
       "      <td>R</td>\n",
       "      <td>men woman uniform oftentimes risk life even sa...</td>\n",
       "    </tr>\n",
       "    <tr>\n",
       "      <th>5689732</th>\n",
       "      <td>2017-08-31-091904</td>\n",
       "      <td>NBN has a responsibility to our shareholders, ...</td>\n",
       "      <td>bill morrow</td>\n",
       "      <td>2017-08-31 06:09:39</td>\n",
       "      <td>Q4910265</td>\n",
       "      <td>R</td>\n",
       "      <td>nbn responsibility shareholder virtually citiz...</td>\n",
       "    </tr>\n",
       "    <tr>\n",
       "      <th>5689733</th>\n",
       "      <td>2019-03-28-127351</td>\n",
       "      <td>Which led to the single conclusion of no collu...</td>\n",
       "      <td>phil roe</td>\n",
       "      <td>2019-03-28 19:00:00</td>\n",
       "      <td>Q1665842</td>\n",
       "      <td>R</td>\n",
       "      <td>led single conclusion collusion think time move</td>\n",
       "    </tr>\n",
       "  </tbody>\n",
       "</table>\n",
       "<p>5689734 rows × 7 columns</p>\n",
       "</div>"
      ],
      "text/plain": [
       "                   quoteID                                          quotation  \\\n",
       "0        2019-09-25-034841  I humbly ask the Florida Senate to approve my ...   \n",
       "1        2018-10-19-034441  I don't care who you vote for, I just want you...   \n",
       "2        2018-05-01-037575           I am really happy in business community,   \n",
       "3        2016-05-02-059378  nobody's falling through [ cracks because of ]...   \n",
       "4        2019-07-03-048691  Marianne Williamson has already reached legend...   \n",
       "...                    ...                                                ...   \n",
       "5689729  2018-05-25-114419  U.S. officials were further frustrated last we...   \n",
       "5689730  2019-11-12-036716  I think that those veterans who are improperly...   \n",
       "5689731  2019-03-18-060255  Our men and women in uniform oftentimes risk t...   \n",
       "5689732  2017-08-31-091904  NBN has a responsibility to our shareholders, ...   \n",
       "5689733  2019-03-28-127351  Which led to the single conclusion of no collu...   \n",
       "\n",
       "                     speaker                date         id party_label  \\\n",
       "0               scott israel 2019-09-25 18:31:52  Q50591793           D   \n",
       "1            sonia sotomayor 2018-10-19 22:17:37     Q11107           D   \n",
       "2               wesley clark 2018-05-01 17:19:20    Q159478           D   \n",
       "3               rahm emanuel 2016-05-02 22:28:02    Q298443           D   \n",
       "4        marianne williamson 2019-07-03 10:29:00   Q3131983           D   \n",
       "...                      ...                 ...        ...         ...   \n",
       "5689729          mike pompeo 2018-05-25 06:12:40    Q473239           R   \n",
       "5689730          tom tiffany 2019-11-12 00:23:08   Q7817838           R   \n",
       "5689731         john mcguire 2019-03-18 17:33:58  Q47545631           R   \n",
       "5689732          bill morrow 2017-08-31 06:09:39   Q4910265           R   \n",
       "5689733             phil roe 2019-03-28 19:00:00   Q1665842           R   \n",
       "\n",
       "                                           quotation_clean  \n",
       "0        humbly ask florida senate approve reinstatemen...  \n",
       "1                              care vote want voice change  \n",
       "2                          really happy business community  \n",
       "3                nobody falling crack siloed wall approach  \n",
       "4        marianne williamson already reached legendary ...  \n",
       "...                                                    ...  \n",
       "5689729  u official frustrated last week senior north k...  \n",
       "5689730    think veteran improperly charged refunded money  \n",
       "5689731  men woman uniform oftentimes risk life even sa...  \n",
       "5689732  nbn responsibility shareholder virtually citiz...  \n",
       "5689733    led single conclusion collusion think time move  \n",
       "\n",
       "[5689734 rows x 7 columns]"
      ]
     },
     "execution_count": 11,
     "metadata": {},
     "output_type": "execute_result"
    }
   ],
   "source": [
    "df_filt"
   ]
  },
  {
   "cell_type": "markdown",
   "metadata": {},
   "source": [
    "## Model Training"
   ]
  },
  {
   "cell_type": "code",
   "execution_count": 12,
   "metadata": {},
   "outputs": [],
   "source": [
    "# df_mini = df_filt.sample(1000)\n",
    "df_mini = df_filt.sample(frac=1)"
   ]
  },
  {
   "cell_type": "code",
   "execution_count": 13,
   "metadata": {},
   "outputs": [],
   "source": [
    "X = df_mini['quotation_clean'].values\n",
    "\n",
    "y = df_mini['party_label'].values\n",
    "y = np.array([0.0 if label=='R' else 1.0 for label in y])"
   ]
  },
  {
   "cell_type": "code",
   "execution_count": 14,
   "metadata": {},
   "outputs": [],
   "source": [
    "split_frac = 0.9\n",
    "\n",
    "bound = round(len(X)*split_frac)\n",
    "\n",
    "X_train = X[:bound]\n",
    "y_train = y[:bound]\n",
    "\n",
    "X_test = X[bound:]\n",
    "y_test = y[bound:]"
   ]
  },
  {
   "cell_type": "code",
   "execution_count": 15,
   "metadata": {},
   "outputs": [
    {
     "data": {
      "text/plain": [
       "(5120761,)"
      ]
     },
     "execution_count": 15,
     "metadata": {},
     "output_type": "execute_result"
    }
   ],
   "source": [
    "X_train.shape"
   ]
  },
  {
   "cell_type": "code",
   "execution_count": 16,
   "metadata": {},
   "outputs": [],
   "source": [
    "def vectorize_with_file(X, vectorizer):\n",
    "    path_temp = TEMP_FILE\n",
    "\n",
    "    with open(path_temp, 'w') as d_file:\n",
    "        d_file.writelines(X + '\\n')\n",
    "\n",
    "    with open(path_temp, 'r') as s_file:\n",
    "        X_vect=vectorizer.fit_transform(s_file)\n",
    "\n",
    "    return X_vect"
   ]
  },
  {
   "cell_type": "code",
   "execution_count": 26,
   "metadata": {},
   "outputs": [],
   "source": [
    "# Vectorize by writing to file\n",
    "vectorizer=TfidfVectorizer(ngram_range=(1,3))\n",
    "X_vect = vectorize_with_file(X_train, vectorizer)"
   ]
  },
  {
   "cell_type": "code",
   "execution_count": 27,
   "metadata": {},
   "outputs": [],
   "source": [
    "with open(TEMP_FOLDER + 'quotes_vectorized_ngram=(1,3).pkl', 'wb') as file:\n",
    "    pickle.dump(X_vect, file)"
   ]
  },
  {
   "cell_type": "code",
   "execution_count": 28,
   "metadata": {},
   "outputs": [],
   "source": [
    "# Vectorize in memory\n",
    "# vectorizer2=TfidfVectorizer()\n",
    "# X_vect2 = vectorizer2.fit_transform(X_train)"
   ]
  },
  {
   "cell_type": "code",
   "execution_count": 29,
   "metadata": {},
   "outputs": [],
   "source": [
    "X_test_vect = vectorizer.transform(X_test)"
   ]
  },
  {
   "cell_type": "code",
   "execution_count": 30,
   "metadata": {},
   "outputs": [
    {
     "data": {
      "text/plain": [
       "(5120761, 44225945)"
      ]
     },
     "execution_count": 30,
     "metadata": {},
     "output_type": "execute_result"
    }
   ],
   "source": [
    "X_vect.shape"
   ]
  },
  {
   "cell_type": "code",
   "execution_count": 33,
   "metadata": {},
   "outputs": [],
   "source": [
    "with open(TEMP_FOLDER + 'vectorizer_ngram=(1,3)-multinomialnb.pkl', 'wb') as file:\n",
    "    pickle.dump(vectorizer, file)"
   ]
  },
  {
   "cell_type": "code",
   "execution_count": null,
   "metadata": {},
   "outputs": [],
   "source": [
    "with open(TEMP_FOLDER + 'vectorizer_ngram=(1,3)-multinomialnb.pkl', 'rb') as file:\n",
    "    vectorizer_loaded = pickle.load(file)"
   ]
  },
  {
   "cell_type": "code",
   "execution_count": 31,
   "metadata": {},
   "outputs": [
    {
     "data": {
      "text/plain": [
       "0.7230307940798597"
      ]
     },
     "execution_count": 31,
     "metadata": {},
     "output_type": "execute_result"
    }
   ],
   "source": [
    "clf = MultinomialNB()\n",
    "\n",
    "clf.fit(X_vect, y_train)\n",
    "clf.score(X_test_vect, y_test)\n"
   ]
  },
  {
   "cell_type": "code",
   "execution_count": 32,
   "metadata": {},
   "outputs": [],
   "source": [
    "with open(TEMP_FOLDER + 'model-tfidf_ngram=(1,3)-multinomialnb.pkl', 'wb') as file:\n",
    "    pickle.dump(clf, file)"
   ]
  },
  {
   "cell_type": "code",
   "execution_count": 24,
   "metadata": {},
   "outputs": [],
   "source": [
    "with open(TEMP_FOLDER + 'model-tfidf_ngram=(1,3)-multinomialnb.pkl', 'rb') as file:\n",
    "    clf_loaded = pickle.load(file)"
   ]
  },
  {
   "cell_type": "code",
   "execution_count": null,
   "metadata": {},
   "outputs": [],
   "source": []
  },
  {
   "cell_type": "code",
   "execution_count": 25,
   "metadata": {},
   "outputs": [
    {
     "data": {
      "text/plain": [
       "0.7012336262001888"
      ]
     },
     "execution_count": 25,
     "metadata": {},
     "output_type": "execute_result"
    }
   ],
   "source": [
    "clf_loaded.score(X_test_vect, y_test)"
   ]
  },
  {
   "cell_type": "code",
   "execution_count": null,
   "metadata": {},
   "outputs": [],
   "source": [
    "TfidfVectorizer(TEMP_FILE, )"
   ]
  },
  {
   "cell_type": "code",
   "execution_count": 28,
   "metadata": {},
   "outputs": [],
   "source": [
    "pipeline_simple = Pipeline([\n",
    "        ('vect', TfidfVectorizer(ngram_range=(1,1), max_features=100_000)),  \n",
    "        ('clf', MultinomialNB())\n",
    "    ],\n",
    "    verbose=True\n",
    "    )"
   ]
  },
  {
   "cell_type": "code",
   "execution_count": 29,
   "metadata": {},
   "outputs": [
    {
     "name": "stdout",
     "output_type": "stream",
     "text": [
      "[Pipeline] .............. (step 1 of 2) Processing vect, total=   2.1s\n",
      "[Pipeline] ............... (step 2 of 2) Processing clf, total=   0.0s\n",
      "[Pipeline] .............. (step 1 of 2) Processing vect, total=   2.1s\n",
      "[Pipeline] ............... (step 2 of 2) Processing clf, total=   0.0s\n",
      "\tfit_time             - \tavg: 2.138\tstd: 0.021\n",
      "\tscore_time           - \tavg: 2.696\tstd: 0.015\n",
      "\ttest_accuracy        - \tavg: 0.662\tstd: 0.001\n",
      "\ttest_precision       - \tavg: 0.663\tstd: 0.001\n",
      "\ttest_recall          - \tavg: 0.661\tstd: 0.001\n",
      "\ttest_f1              - \tavg: 0.662\tstd: 0.000\n"
     ]
    }
   ],
   "source": [
    "# Run cross validation\n",
    "\n",
    "scoring=['accuracy', 'precision', 'recall', 'f1']\n",
    "res = cross_validate(pipeline_simple, X, y, scoring=scoring, cv=2, n_jobs=2)\n",
    "print_cross_validate_results(res)"
   ]
  },
  {
   "cell_type": "code",
   "execution_count": 30,
   "metadata": {},
   "outputs": [],
   "source": [
    "split_frac = 0.9\n",
    "\n",
    "bound = round(len(X)*split_frac)\n",
    "\n",
    "X_train = X[:bound]\n",
    "y_train = y[:bound]\n",
    "\n",
    "X_test = X[bound:]\n",
    "y_test = y[bound:]"
   ]
  },
  {
   "cell_type": "code",
   "execution_count": 31,
   "metadata": {},
   "outputs": [
    {
     "data": {
      "text/plain": [
       "((210749,), (23417,))"
      ]
     },
     "execution_count": 31,
     "metadata": {},
     "output_type": "execute_result"
    }
   ],
   "source": [
    "X_train.shape, X_test.shape"
   ]
  },
  {
   "cell_type": "code",
   "execution_count": 32,
   "metadata": {},
   "outputs": [
    {
     "name": "stdout",
     "output_type": "stream",
     "text": [
      "[Pipeline] .............. (step 1 of 2) Processing vect, total=   3.5s\n",
      "[Pipeline] ............... (step 2 of 2) Processing clf, total=   0.1s\n"
     ]
    },
    {
     "data": {
      "text/plain": [
       "Pipeline(steps=[('vect', TfidfVectorizer(max_features=100000)),\n",
       "                ('clf', MultinomialNB())],\n",
       "         verbose=True)"
      ]
     },
     "execution_count": 32,
     "metadata": {},
     "output_type": "execute_result"
    }
   ],
   "source": [
    "pipeline_simple.fit(X_train, y_train)"
   ]
  },
  {
   "cell_type": "code",
   "execution_count": 33,
   "metadata": {},
   "outputs": [
    {
     "data": {
      "text/plain": [
       "0.6719050262629713"
      ]
     },
     "execution_count": 33,
     "metadata": {},
     "output_type": "execute_result"
    }
   ],
   "source": [
    "pipeline_simple.score(X_test, y_test)"
   ]
  },
  {
   "cell_type": "code",
   "execution_count": 35,
   "metadata": {},
   "outputs": [
    {
     "data": {
      "text/plain": [
       "array([1., 1., 1., 0., 0., 0., 0., 1., 1., 1.])"
      ]
     },
     "execution_count": 35,
     "metadata": {},
     "output_type": "execute_result"
    }
   ],
   "source": [
    "pipeline_simple.predict(X[0:10])"
   ]
  },
  {
   "cell_type": "code",
   "execution_count": null,
   "metadata": {},
   "outputs": [],
   "source": []
  },
  {
   "cell_type": "code",
   "execution_count": 39,
   "metadata": {},
   "outputs": [],
   "source": [
    "cachedir = mkdtemp()"
   ]
  },
  {
   "cell_type": "code",
   "execution_count": 50,
   "metadata": {},
   "outputs": [],
   "source": [
    "from tempfile import mkdtemp\n",
    "from shutil import rmtree\n",
    "from joblib import Memory\n",
    "\n",
    "# Create a temporary folder to store the transformers of the pipeline\n",
    "\n",
    "memory = Memory(location=cachedir, verbose=10)\n",
    "# cached_pipe = Pipeline([('reduce_dim', PCA()),\n",
    "#                         ('classify', LinearSVC())],\n",
    "#                        memory=memory)\n",
    "\n",
    "pipeline_adv = Pipeline([\n",
    "        ('vect', TfidfVectorizer(ngram_range=(1,3), max_features=1_000_000)),  \n",
    "        ('clf', MultinomialNB())\n",
    "    ],\n",
    "    memory=memory,\n",
    "    verbose=True\n",
    "    )"
   ]
  },
  {
   "cell_type": "code",
   "execution_count": 47,
   "metadata": {},
   "outputs": [
    {
     "name": "stdout",
     "output_type": "stream",
     "text": [
      "[Pipeline] .............. (step 1 of 2) Processing vect, total=   0.1s\n",
      "[Pipeline] ............... (step 2 of 2) Processing clf, total=   0.0s\n",
      "[Pipeline] .............. (step 1 of 2) Processing vect, total=   0.1s\n",
      "[Pipeline] .............. (step 1 of 2) Processing vect, total=   0.1s\n",
      "[Pipeline] ............... (step 2 of 2) Processing clf, total=   0.0s\n",
      "[Pipeline] ............... (step 2 of 2) Processing clf, total=   0.0s\n",
      "\tfit_time             - \tavg: 0.064\tstd: 0.002\n",
      "\tscore_time           - \tavg: 0.019\tstd: 0.001\n",
      "\ttest_accuracy        - \tavg: 0.519\tstd: 0.009\n",
      "\ttest_precision       - \tavg: 0.520\tstd: 0.008\n",
      "\ttest_recall          - \tavg: 0.571\tstd: 0.041\n",
      "\ttest_f1              - \tavg: 0.543\tstd: 0.022\n"
     ]
    }
   ],
   "source": [
    "scoring=['accuracy', 'precision', 'recall', 'f1']\n",
    "res = cross_validate(pipeline_simple, X, y, scoring=scoring, cv=3, n_jobs=1)\n",
    "print_cross_validate_results(res)"
   ]
  },
  {
   "cell_type": "code",
   "execution_count": 54,
   "metadata": {},
   "outputs": [
    {
     "name": "stdout",
     "output_type": "stream",
     "text": [
      "________________________________________________________________________________\n",
      "[Memory] Calling sklearn.pipeline._fit_transform_one...\n",
      "_fit_transform_one(TfidfVectorizer(max_features=1000000, ngram_range=(1, 3)), array(['service people endured every single day behalf never ever forgotten',\n",
      "       ..., 'prepared work issue solution negotiation give take'],\n",
      "      dtype=object), \n",
      "array([1., ..., 0.]), None, message_clsname='Pipeline', message='(step 1 of 2) Processing vect')\n",
      "[Pipeline] .............. (step 1 of 2) Processing vect, total=14.7min\n"
     ]
    },
    {
     "name": "stderr",
     "output_type": "stream",
     "text": [
      "/Users/mroust/anaconda3/envs/ada/lib/python3.8/site-packages/sklearn/pipeline.py:348: UserWarning: Persisting input arguments took 685.58s to run.\n",
      "If this happens often in your code, it can cause performance problems \n",
      "(results will be correct in all cases). \n",
      "The reason for this is probably some large input arguments for a wrapped\n",
      " function (e.g. large strings).\n",
      "THIS IS A JOBLIB ISSUE. If you can, kindly provide the joblib's team with an\n",
      " example so that they can fix the problem.\n",
      "  X, fitted_transformer = fit_transform_one_cached(\n"
     ]
    },
    {
     "name": "stdout",
     "output_type": "stream",
     "text": [
      "____________________________________________fit_transform_one - 1432.9s, 23.9min\n",
      "[Pipeline] ............... (step 2 of 2) Processing clf, total=  10.3s\n"
     ]
    },
    {
     "data": {
      "text/plain": [
       "Pipeline(memory=Memory(location=/var/folders/nf/186rd3kx35v_x13p5402wpsr0000gn/T/tmp494ki5dy/joblib),\n",
       "         steps=[('vect',\n",
       "                 TfidfVectorizer(max_features=1000000, ngram_range=(1, 3))),\n",
       "                ('clf', MultinomialNB())],\n",
       "         verbose=True)"
      ]
     },
     "execution_count": 54,
     "metadata": {},
     "output_type": "execute_result"
    }
   ],
   "source": [
    "pipeline_adv.fit(X_train, y_train)"
   ]
  },
  {
   "cell_type": "code",
   "execution_count": 66,
   "metadata": {},
   "outputs": [
    {
     "data": {
      "text/plain": [
       "0.549641195627912"
      ]
     },
     "execution_count": 66,
     "metadata": {},
     "output_type": "execute_result"
    }
   ],
   "source": [
    "pipeline_adv.score(X_test, y_test)"
   ]
  },
  {
   "cell_type": "code",
   "execution_count": 58,
   "metadata": {},
   "outputs": [],
   "source": [
    "with open(MODEL_MULTINOMIALNB, 'wb') as file:\n",
    "    pickle.dump(pipeline_adv, file)"
   ]
  },
  {
   "cell_type": "code",
   "execution_count": 59,
   "metadata": {},
   "outputs": [
    {
     "data": {
      "text/plain": [
       "'models/model_multinomialnb.pkl'"
      ]
     },
     "execution_count": 59,
     "metadata": {},
     "output_type": "execute_result"
    }
   ],
   "source": [
    "MODEL_MULTINOMIALNB\n",
    "\n"
   ]
  },
  {
   "cell_type": "code",
   "execution_count": 45,
   "metadata": {},
   "outputs": [],
   "source": [
    "# Delete the temporary cache before exiting\n",
    "rmtree(cachedir)"
   ]
  },
  {
   "cell_type": "code",
   "execution_count": null,
   "metadata": {},
   "outputs": [],
   "source": []
  }
 ],
 "metadata": {
  "interpreter": {
   "hash": "c6809d3f7e90e77d8ec96c72c39a08b2522313d47c0f1d91518fdbbaf790b394"
  },
  "kernelspec": {
   "display_name": "Python 3.8.12 64-bit ('ada': conda)",
   "language": "python",
   "name": "python3"
  },
  "language_info": {
   "codemirror_mode": {
    "name": "ipython",
    "version": 3
   },
   "file_extension": ".py",
   "mimetype": "text/x-python",
   "name": "python",
   "nbconvert_exporter": "python",
   "pygments_lexer": "ipython3",
   "version": "3.8.12"
  },
  "orig_nbformat": 4
 },
 "nbformat": 4,
 "nbformat_minor": 2
}
