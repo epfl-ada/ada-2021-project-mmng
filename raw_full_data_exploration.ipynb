{
 "cells": [
  {
   "cell_type": "code",
   "execution_count": 1,
   "metadata": {},
   "outputs": [],
   "source": [
    "%load_ext autoreload\n",
    "%autoreload 2\n",
    "\n",
    "from helpers import *\n",
    "\n",
    "from IPython.display import clear_output\n",
    "\n",
    "import bz2\n",
    "import json\n",
    "\n",
    "import pandas as pd\n",
    "\n",
    "import numpy as np\n",
    "\n",
    "from pprint import *\n",
    "\n",
    "from perform_general_analysis import *\n",
    "\n",
    "import matplotlib.pyplot as plt"
   ]
  },
  {
   "cell_type": "markdown",
   "metadata": {
    "tags": []
   },
   "source": [
    "## Raw Data Exploration\n",
    "\n",
    "We compute some simple stats on the raw dataset(s). Since, they are so large\n",
    "they need to be loaded in chunks and various starts are aggregated after \n",
    "each chunk's computation. This should give a better understand of the\n",
    "data we are working with. The code used for the chunk extraction and stats calculation is contained in perform_general_analysis.py."
   ]
  },
  {
   "cell_type": "markdown",
   "metadata": {},
   "source": [
    "General interesting stats for all the quote banks dataset from 2015 to 2020"
   ]
  },
  {
   "cell_type": "code",
   "execution_count": null,
   "metadata": {},
   "outputs": [],
   "source": [
    "all_paths = [QUOTES_2015_PATH,QUOTES_2016_PATH,QUOTES_2017_PATH,QUOTES_2018_PATH,QUOTES_2019_PATH,QUOTES_2020_PATH]\n",
    "all_stats = []\n",
    "for path in all_paths:\n",
    "    stat_per_year = build_stat_dics(path)\n",
    "    all_stats.append(stat_per_year)"
   ]
  },
  {
   "cell_type": "code",
   "execution_count": 7,
   "metadata": {},
   "outputs": [
    {
     "data": {
      "text/plain": [
       "[{'year': '2015',\n",
       "  'count': 20874338,\n",
       "  'count_no_speaker': 7016300,\n",
       "  'quotation': {'chars': {'min_length': 5,\n",
       "    'max_length': 4525,\n",
       "    'sum_length': 2698946982,\n",
       "    'avg_length': 129.29},\n",
       "   'words': {'min_length': 1,\n",
       "    'max_length': 471,\n",
       "    'sum_length': 490585455,\n",
       "    'avg_length': 23.5}}},\n",
       " {'year': '2016',\n",
       "  'count': 13862129,\n",
       "  'count_no_speaker': 4755415,\n",
       "  'quotation': {'chars': {'min_length': 7,\n",
       "    'max_length': 3064,\n",
       "    'sum_length': 1789967993,\n",
       "    'avg_length': 129.13},\n",
       "   'words': {'min_length': 1,\n",
       "    'max_length': 469,\n",
       "    'sum_length': 325730694,\n",
       "    'avg_length': 23.5}}},\n",
       " {'year': '2017',\n",
       "  'count': 26611588,\n",
       "  'count_no_speaker': 9278290,\n",
       "  'quotation': {'chars': {'min_length': 6,\n",
       "    'max_length': 2995,\n",
       "    'sum_length': 3506275835,\n",
       "    'avg_length': 131.76},\n",
       "   'words': {'min_length': 1,\n",
       "    'max_length': 472,\n",
       "    'sum_length': 636423153,\n",
       "    'avg_length': 23.92}}},\n",
       " {'year': '2018',\n",
       "  'count': 27228451,\n",
       "  'count_no_speaker': 9558032,\n",
       "  'quotation': {'chars': {'min_length': 6,\n",
       "    'max_length': 10449,\n",
       "    'sum_length': 3650464003,\n",
       "    'avg_length': 134.07},\n",
       "   'words': {'min_length': 1,\n",
       "    'max_length': 483,\n",
       "    'sum_length': 660556726,\n",
       "    'avg_length': 24.26}}},\n",
       " {'year': '2019',\n",
       "  'count': 21763302,\n",
       "  'count_no_speaker': 7580008,\n",
       "  'quotation': {'chars': {'min_length': 6,\n",
       "    'max_length': 3123,\n",
       "    'sum_length': 2984490275,\n",
       "    'avg_length': 137.13},\n",
       "   'words': {'min_length': 1,\n",
       "    'max_length': 468,\n",
       "    'sum_length': 538431585,\n",
       "    'avg_length': 24.74}}},\n",
       " {'year': '2020',\n",
       "  'count': 5244449,\n",
       "  'count_no_speaker': 1800844,\n",
       "  'quotation': {'chars': {'min_length': 7,\n",
       "    'max_length': 3123,\n",
       "    'sum_length': 719450301,\n",
       "    'avg_length': 137.18},\n",
       "   'words': {'min_length': 1,\n",
       "    'max_length': 460,\n",
       "    'sum_length': 129430348,\n",
       "    'avg_length': 24.68}}}]"
      ]
     },
     "execution_count": 7,
     "metadata": {},
     "output_type": "execute_result"
    }
   ],
   "source": [
    "all_stats"
   ]
  },
  {
   "cell_type": "markdown",
   "metadata": {},
   "source": [
    "Now, lets aggregate all the years to get a full statistics over all the entire dataset"
   ]
  },
  {
   "cell_type": "code",
   "execution_count": 8,
   "metadata": {},
   "outputs": [
    {
     "data": {
      "text/plain": [
       "{'count': 115584257,\n",
       " 'count_no_speaker': 39988889,\n",
       " 'quotation': {'words': {'min_length': 1,\n",
       "   'max_length': 483,\n",
       "   'sum_length': 2781157961,\n",
       "   'avg_length': 24.061736720771584},\n",
       "  'chars': {'min_length': 5,\n",
       "   'max_length': 10449,\n",
       "   'sum_length': 15349595389,\n",
       "   'avg_length': 132.8000524240944}}}"
      ]
     },
     "execution_count": 8,
     "metadata": {},
     "output_type": "execute_result"
    }
   ],
   "source": [
    "stats_dataset = build_total_dict(all_stats)\n",
    "stats_dataset"
   ]
  },
  {
   "cell_type": "code",
   "execution_count": 9,
   "metadata": {},
   "outputs": [
    {
     "data": {
      "text/plain": [
       "0.34597176153496406"
      ]
     },
     "execution_count": 9,
     "metadata": {},
     "output_type": "execute_result"
    }
   ],
   "source": [
    "#percentage of no speakers quotes along all dataset\n",
    "percentage_no_speakers = stats_dataset[\"count_no_speaker\"]/stats_dataset[\"count\"]\n",
    "percentage_no_speakers"
   ]
  },
  {
   "cell_type": "markdown",
   "metadata": {},
   "source": [
    "We retrieved the following infos:\n",
    "- the quotebank dataset from 2015 to 2020 contain around 115milions of entries\n",
    "- 34.5% of the quotes of the dataset have no definitive speaker attributed\n",
    "- the number of words per quote span from a minium of 1 to a maximum of 483 words, where the average number is 24 words\n",
    "- the number of characters per quote span from a minium of 5 to a maximum of 10449 characters, where the average number is 132 characters"
   ]
  },
  {
   "cell_type": "markdown",
   "metadata": {},
   "source": [
    "Below are the distributions of number of characters and words per quote for the entire dataset"
   ]
  }
 ],
 "metadata": {
  "interpreter": {
   "hash": "e2aa3ff43f8b829804c7d9eb6f92bf2eb6f1ce41f419bcf9a3e5bac1a0342e90"
  },
  "kernelspec": {
   "display_name": "Python 3 (ipykernel)",
   "language": "python",
   "name": "python3"
  },
  "language_info": {
   "codemirror_mode": {
    "name": "ipython",
    "version": 3
   },
   "file_extension": ".py",
   "mimetype": "text/x-python",
   "name": "python",
   "nbconvert_exporter": "python",
   "pygments_lexer": "ipython3",
   "version": "3.7.11"
  }
 },
 "nbformat": 4,
 "nbformat_minor": 4
}
